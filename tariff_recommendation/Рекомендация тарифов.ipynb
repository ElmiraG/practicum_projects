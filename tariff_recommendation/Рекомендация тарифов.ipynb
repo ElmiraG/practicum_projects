{
 "cells": [
  {
   "cell_type": "markdown",
   "metadata": {},
   "source": [
    "# Рекомендация тарифов"
   ]
  },
  {
   "cell_type": "markdown",
   "metadata": {},
   "source": [
    "Оператор мобильной связи «Мегалайн» выяснил: многие клиенты пользуются архивными тарифами. Они хотят построить систему, способную проанализировать поведение клиентов и предложить пользователям новый тариф: «Смарт» или «Ультра».\n",
    "\n",
    "В проекте представлены данные о поведении клиентов, которые уже перешли на эти тарифы. Нужно построить модель для задачи классификации, которая выберет подходящий тариф."
   ]
  },
  {
   "cell_type": "markdown",
   "metadata": {},
   "source": [
    "**План проекта**\n",
    "\n",
    "- Разделить исходные данные на обучающую, валидационную и тестовую выборки.\n",
    "- Исследовать качество разных моделей.\n",
    "- Проверить качество модели на тестовой выборке.\n",
    "\n",
    "**Описание данных**\n",
    "\n",
    "Каждый объект в наборе данных — это информация о поведении одного пользователя за месяц.\n",
    "\n",
    "- **сalls** — количество звонков,\n",
    "- **minutes** — суммарная длительность звонков в минутах,\n",
    "- **messages** — количество sms-сообщений,\n",
    "- **mb_used** — израсходованный интернет-трафик в Мб,\n",
    "- **is_ultra** — каким тарифом пользовался в течение месяца («Ультра» — 1, «Смарт» — 0)."
   ]
  },
  {
   "cell_type": "markdown",
   "metadata": {},
   "source": [
    "## Импорт библиотек"
   ]
  },
  {
   "cell_type": "code",
   "execution_count": 1,
   "metadata": {},
   "outputs": [],
   "source": [
    "import pandas as pd \n",
    "from sklearn.model_selection import train_test_split\n",
    "from sklearn.tree import DecisionTreeClassifier\n",
    "from sklearn.metrics import accuracy_score\n",
    "from sklearn.ensemble import RandomForestClassifier\n",
    "from joblib import dump\n",
    "from sklearn.linear_model import LogisticRegression \n",
    "import time\n",
    "import numpy as np \n",
    "import matplotlib.pyplot as plt\n",
    "from sklearn.model_selection import GridSearchCV"
   ]
  },
  {
   "cell_type": "markdown",
   "metadata": {},
   "source": [
    "## Изучение данных "
   ]
  },
  {
   "cell_type": "code",
   "execution_count": 2,
   "metadata": {},
   "outputs": [
    {
     "data": {
      "text/html": [
       "<div>\n",
       "<style scoped>\n",
       "    .dataframe tbody tr th:only-of-type {\n",
       "        vertical-align: middle;\n",
       "    }\n",
       "\n",
       "    .dataframe tbody tr th {\n",
       "        vertical-align: top;\n",
       "    }\n",
       "\n",
       "    .dataframe thead th {\n",
       "        text-align: right;\n",
       "    }\n",
       "</style>\n",
       "<table border=\"1\" class=\"dataframe\">\n",
       "  <thead>\n",
       "    <tr style=\"text-align: right;\">\n",
       "      <th></th>\n",
       "      <th>calls</th>\n",
       "      <th>minutes</th>\n",
       "      <th>messages</th>\n",
       "      <th>mb_used</th>\n",
       "      <th>is_ultra</th>\n",
       "    </tr>\n",
       "  </thead>\n",
       "  <tbody>\n",
       "    <tr>\n",
       "      <th>0</th>\n",
       "      <td>40.0</td>\n",
       "      <td>311.90</td>\n",
       "      <td>83.0</td>\n",
       "      <td>19915.42</td>\n",
       "      <td>0</td>\n",
       "    </tr>\n",
       "    <tr>\n",
       "      <th>1</th>\n",
       "      <td>85.0</td>\n",
       "      <td>516.75</td>\n",
       "      <td>56.0</td>\n",
       "      <td>22696.96</td>\n",
       "      <td>0</td>\n",
       "    </tr>\n",
       "    <tr>\n",
       "      <th>2</th>\n",
       "      <td>77.0</td>\n",
       "      <td>467.66</td>\n",
       "      <td>86.0</td>\n",
       "      <td>21060.45</td>\n",
       "      <td>0</td>\n",
       "    </tr>\n",
       "    <tr>\n",
       "      <th>3</th>\n",
       "      <td>106.0</td>\n",
       "      <td>745.53</td>\n",
       "      <td>81.0</td>\n",
       "      <td>8437.39</td>\n",
       "      <td>1</td>\n",
       "    </tr>\n",
       "    <tr>\n",
       "      <th>4</th>\n",
       "      <td>66.0</td>\n",
       "      <td>418.74</td>\n",
       "      <td>1.0</td>\n",
       "      <td>14502.75</td>\n",
       "      <td>0</td>\n",
       "    </tr>\n",
       "  </tbody>\n",
       "</table>\n",
       "</div>"
      ],
      "text/plain": [
       "   calls  minutes  messages   mb_used  is_ultra\n",
       "0   40.0   311.90      83.0  19915.42         0\n",
       "1   85.0   516.75      56.0  22696.96         0\n",
       "2   77.0   467.66      86.0  21060.45         0\n",
       "3  106.0   745.53      81.0   8437.39         1\n",
       "4   66.0   418.74       1.0  14502.75         0"
      ]
     },
     "execution_count": 2,
     "metadata": {},
     "output_type": "execute_result"
    }
   ],
   "source": [
    "df = pd.read_csv('/datasets/users_behavior.csv')\n",
    "df.head()"
   ]
  },
  {
   "cell_type": "code",
   "execution_count": 3,
   "metadata": {},
   "outputs": [
    {
     "name": "stdout",
     "output_type": "stream",
     "text": [
      "<class 'pandas.core.frame.DataFrame'>\n",
      "RangeIndex: 3214 entries, 0 to 3213\n",
      "Data columns (total 5 columns):\n",
      " #   Column    Non-Null Count  Dtype  \n",
      "---  ------    --------------  -----  \n",
      " 0   calls     3214 non-null   float64\n",
      " 1   minutes   3214 non-null   float64\n",
      " 2   messages  3214 non-null   float64\n",
      " 3   mb_used   3214 non-null   float64\n",
      " 4   is_ultra  3214 non-null   int64  \n",
      "dtypes: float64(4), int64(1)\n",
      "memory usage: 125.7 KB\n"
     ]
    }
   ],
   "source": [
    "df.info()"
   ]
  },
  {
   "cell_type": "markdown",
   "metadata": {},
   "source": [
    "В датафрейме нет пропусков. Тип данных не во всех столбцах подобран верно: количество звонков и смс-сообщений должны быть в целочисленном типе данных, is_ultra будет переведено в булев тип. \n",
    "\n",
    "В данных информация о 3214 клиентах. "
   ]
  },
  {
   "cell_type": "code",
   "execution_count": 4,
   "metadata": {},
   "outputs": [],
   "source": [
    "#изменение типов данных столбцов\n",
    "\n",
    "df['calls']=df['calls'].astype(\"int\")\n",
    "df['messages']=df['messages'].astype(\"int\")\n",
    "df['is_ultra']=df['is_ultra'].astype(\"bool\")"
   ]
  },
  {
   "cell_type": "code",
   "execution_count": 5,
   "metadata": {},
   "outputs": [],
   "source": [
    "#df.info() #проверка"
   ]
  },
  {
   "cell_type": "code",
   "execution_count": 6,
   "metadata": {},
   "outputs": [
    {
     "data": {
      "text/plain": [
       "0"
      ]
     },
     "execution_count": 6,
     "metadata": {},
     "output_type": "execute_result"
    }
   ],
   "source": [
    "#проверка на наличие дублтикатов \n",
    "df.duplicated().sum()"
   ]
  },
  {
   "cell_type": "code",
   "execution_count": 7,
   "metadata": {},
   "outputs": [
    {
     "data": {
      "text/html": [
       "<div>\n",
       "<style scoped>\n",
       "    .dataframe tbody tr th:only-of-type {\n",
       "        vertical-align: middle;\n",
       "    }\n",
       "\n",
       "    .dataframe tbody tr th {\n",
       "        vertical-align: top;\n",
       "    }\n",
       "\n",
       "    .dataframe thead th {\n",
       "        text-align: right;\n",
       "    }\n",
       "</style>\n",
       "<table border=\"1\" class=\"dataframe\">\n",
       "  <thead>\n",
       "    <tr style=\"text-align: right;\">\n",
       "      <th></th>\n",
       "      <th>calls</th>\n",
       "      <th>minutes</th>\n",
       "      <th>messages</th>\n",
       "      <th>mb_used</th>\n",
       "    </tr>\n",
       "  </thead>\n",
       "  <tbody>\n",
       "    <tr>\n",
       "      <th>count</th>\n",
       "      <td>3214.000000</td>\n",
       "      <td>3214.000000</td>\n",
       "      <td>3214.000000</td>\n",
       "      <td>3214.000000</td>\n",
       "    </tr>\n",
       "    <tr>\n",
       "      <th>mean</th>\n",
       "      <td>63.038892</td>\n",
       "      <td>438.208787</td>\n",
       "      <td>38.281269</td>\n",
       "      <td>17207.673836</td>\n",
       "    </tr>\n",
       "    <tr>\n",
       "      <th>std</th>\n",
       "      <td>33.236368</td>\n",
       "      <td>234.569872</td>\n",
       "      <td>36.148326</td>\n",
       "      <td>7570.968246</td>\n",
       "    </tr>\n",
       "    <tr>\n",
       "      <th>min</th>\n",
       "      <td>0.000000</td>\n",
       "      <td>0.000000</td>\n",
       "      <td>0.000000</td>\n",
       "      <td>0.000000</td>\n",
       "    </tr>\n",
       "    <tr>\n",
       "      <th>25%</th>\n",
       "      <td>40.000000</td>\n",
       "      <td>274.575000</td>\n",
       "      <td>9.000000</td>\n",
       "      <td>12491.902500</td>\n",
       "    </tr>\n",
       "    <tr>\n",
       "      <th>50%</th>\n",
       "      <td>62.000000</td>\n",
       "      <td>430.600000</td>\n",
       "      <td>30.000000</td>\n",
       "      <td>16943.235000</td>\n",
       "    </tr>\n",
       "    <tr>\n",
       "      <th>75%</th>\n",
       "      <td>82.000000</td>\n",
       "      <td>571.927500</td>\n",
       "      <td>57.000000</td>\n",
       "      <td>21424.700000</td>\n",
       "    </tr>\n",
       "    <tr>\n",
       "      <th>max</th>\n",
       "      <td>244.000000</td>\n",
       "      <td>1632.060000</td>\n",
       "      <td>224.000000</td>\n",
       "      <td>49745.730000</td>\n",
       "    </tr>\n",
       "  </tbody>\n",
       "</table>\n",
       "</div>"
      ],
      "text/plain": [
       "             calls      minutes     messages       mb_used\n",
       "count  3214.000000  3214.000000  3214.000000   3214.000000\n",
       "mean     63.038892   438.208787    38.281269  17207.673836\n",
       "std      33.236368   234.569872    36.148326   7570.968246\n",
       "min       0.000000     0.000000     0.000000      0.000000\n",
       "25%      40.000000   274.575000     9.000000  12491.902500\n",
       "50%      62.000000   430.600000    30.000000  16943.235000\n",
       "75%      82.000000   571.927500    57.000000  21424.700000\n",
       "max     244.000000  1632.060000   224.000000  49745.730000"
      ]
     },
     "execution_count": 7,
     "metadata": {},
     "output_type": "execute_result"
    }
   ],
   "source": [
    "#сводная статистика данных\n",
    "df.describe()"
   ]
  },
  {
   "cell_type": "markdown",
   "metadata": {},
   "source": [
    "### Вывод"
   ]
  },
  {
   "cell_type": "markdown",
   "metadata": {},
   "source": [
    "В датафрейме отсутствуют пропуски и дубликаты. Тип данных в некоторых столбцах был изменен: \n",
    "- количество звонков и смс-сообщений переведены в целочисленый тип данных \n",
    "- is_ultra переведен в булев тип. \n",
    "\n",
    "В данных информация о 3214 клиентах."
   ]
  },
  {
   "cell_type": "markdown",
   "metadata": {},
   "source": [
    "## Разделение данных на выборки"
   ]
  },
  {
   "cell_type": "markdown",
   "metadata": {},
   "source": [
    "Разделение исходных данных на обучающую, валидационную и тестовую выборки"
   ]
  },
  {
   "cell_type": "markdown",
   "metadata": {},
   "source": [
    "- df_train - обучающая выборка\n",
    "- df_valid - валидационная выборка \n",
    "- df_test - тестовая выборка "
   ]
  },
  {
   "cell_type": "markdown",
   "metadata": {},
   "source": [
    "- features - признаки \n",
    "- target - целевой признак"
   ]
  },
  {
   "cell_type": "code",
   "execution_count": 8,
   "metadata": {},
   "outputs": [],
   "source": [
    "# создание переменных для признаков и целевого признака\n",
    "\n",
    "features = df.drop(['is_ultra'], axis=1)\n",
    "target = df['is_ultra']"
   ]
  },
  {
   "cell_type": "code",
   "execution_count": 9,
   "metadata": {},
   "outputs": [],
   "source": [
    "# создание тестовой и обучающей выборок\n",
    "\n",
    "(features_train,\n",
    " features_test,\n",
    " target_train,\n",
    " target_test) = train_test_split(features,target,test_size = 0.25,random_state = 12345)"
   ]
  },
  {
   "cell_type": "code",
   "execution_count": 10,
   "metadata": {},
   "outputs": [
    {
     "name": "stdout",
     "output_type": "stream",
     "text": [
      "(2410, 4)\n",
      "(2410,)\n",
      "(804, 4)\n",
      "(804,)\n"
     ]
    }
   ],
   "source": [
    "# вывод размеров таблиц, которые хранятся в четырёх переменных\n",
    "\n",
    "print(features_train.shape)\n",
    "print(target_train.shape)\n",
    "print(features_test.shape)\n",
    "print(target_test.shape)"
   ]
  },
  {
   "cell_type": "code",
   "execution_count": 11,
   "metadata": {},
   "outputs": [],
   "source": [
    "# деление тестовой выборки на тестовую и валидационную\n",
    "\n",
    "(features_valid,\n",
    " features_test,\n",
    " target_valid,\n",
    " target_test) = train_test_split(features_test,\n",
    "                                        target_test,\n",
    "                                        test_size = 0.5,\n",
    "                                        random_state = 12345\n",
    "                                       )"
   ]
  },
  {
   "cell_type": "code",
   "execution_count": 12,
   "metadata": {},
   "outputs": [
    {
     "name": "stdout",
     "output_type": "stream",
     "text": [
      "(402, 4)\n",
      "(402,)\n",
      "(402, 4)\n",
      "(402,)\n"
     ]
    }
   ],
   "source": [
    "# вывод размеров таблиц, которые хранятся в четырёх переменных\n",
    "\n",
    "print(features_valid.shape)\n",
    "print(target_valid.shape)\n",
    "print(features_test.shape)\n",
    "print(target_test.shape)"
   ]
  },
  {
   "cell_type": "markdown",
   "metadata": {},
   "source": [
    "## Исследование моделей"
   ]
  },
  {
   "cell_type": "markdown",
   "metadata": {},
   "source": [
    "Исследование качества разных моделей, при изменении гиперпараметров"
   ]
  },
  {
   "cell_type": "markdown",
   "metadata": {},
   "source": [
    "### DecisionTree"
   ]
  },
  {
   "cell_type": "markdown",
   "metadata": {},
   "source": [
    "DecisionTree — это семейство моделей машинного обучения. Решающее дерево предсказывает значение целевой переменной с помощью применения последовательности простых решающих правил"
   ]
  },
  {
   "cell_type": "code",
   "execution_count": 13,
   "metadata": {},
   "outputs": [
    {
     "name": "stdout",
     "output_type": "stream",
     "text": [
      "accuracy наилучшей модели на валидационной выборке: 0.8034825870646766\n",
      "depth наилучшей модели на валидационной выборке: 6\n",
      "criterion наилучшей модели на валидационной выборке: gini\n",
      "max_features наилучшей модели на валидационной выборке: auto\n",
      "Время выполнения ячейки: 1.62 c\n"
     ]
    },
    {
     "data": {
      "image/png": "[encoded data removed]",
      "text/plain": [
       "<Figure size 1296x360 with 1 Axes>"
      ]
     },
     "metadata": {
      "needs_background": "light"
     },
     "output_type": "display_data"
    }
   ],
   "source": [
    "start_time = time.perf_counter()\n",
    "counter=0\n",
    "dt_depth={}\n",
    "dt_best = None\n",
    "dt_best_accuracy = 0\n",
    "dt_best_depth = 0\n",
    "dt_best_criterion = 0\n",
    "dt_max_features = 0\n",
    "frame = pd.DataFrame(columns=['criterion','depth','max_features','accuracy'])\n",
    "for criterion in ['gini', 'entropy']:\n",
    "    for depth in range(1,25):\n",
    "        for f in ['auto', 'sqrt', 'log2',  None]:\n",
    "            dt_model = DecisionTreeClassifier(criterion = criterion, \n",
    "                                              random_state = 12345, \n",
    "                                              max_depth = depth,\n",
    "                                              max_features = f)\n",
    "            dt_model.fit(features_train,target_train)\n",
    "            dt_prediction_valid = dt_model.predict(features_valid)\n",
    "            dt_accuracy = accuracy_score(dt_prediction_valid, target_valid)\n",
    "            \n",
    "            dt_depth[depth] = dt_accuracy\n",
    "            \n",
    "            if dt_best_accuracy < dt_accuracy:\n",
    "                            dt_best = dt_model\n",
    "                            dt_best_accuracy = dt_accuracy\n",
    "                            dt_best_depth = depth\n",
    "                            dt_best_criterion = criterion\n",
    "                            dt_max_features = f\n",
    "                            \n",
    "                            frame.loc[counter]=[criterion,depth,f,dt_accuracy]\n",
    "                            counter += 1\n",
    "                                                       \n",
    "print(\"accuracy наилучшей модели на валидационной выборке:\", dt_best_accuracy)\n",
    "print(\"depth наилучшей модели на валидационной выборке:\", dt_best_depth)\n",
    "print(\"criterion наилучшей модели на валидационной выборке:\", dt_best_criterion)\n",
    "print(\"max_features наилучшей модели на валидационной выборке:\", dt_max_features)\n",
    "\n",
    "pd.Series(dt_depth).plot.bar(title='Зависимость accuracy от глубины обучения деревьев', ylim=(.7,.85),figsize=(18,5))\n",
    "plt.xlabel('depth')\n",
    "plt.ylabel('accuracy')\n",
    "plt.grid()\n",
    "dt_time = round((time.perf_counter() - start_time),3)\n",
    "print(\"Время выполнения ячейки:\", dt_time,'c')"
   ]
  },
  {
   "cell_type": "code",
   "execution_count": 14,
   "metadata": {},
   "outputs": [
    {
     "data": {
      "text/html": [
       "<div>\n",
       "<style scoped>\n",
       "    .dataframe tbody tr th:only-of-type {\n",
       "        vertical-align: middle;\n",
       "    }\n",
       "\n",
       "    .dataframe tbody tr th {\n",
       "        vertical-align: top;\n",
       "    }\n",
       "\n",
       "    .dataframe thead th {\n",
       "        text-align: right;\n",
       "    }\n",
       "</style>\n",
       "<table border=\"1\" class=\"dataframe\">\n",
       "  <thead>\n",
       "    <tr style=\"text-align: right;\">\n",
       "      <th></th>\n",
       "      <th>criterion</th>\n",
       "      <th>depth</th>\n",
       "      <th>max_features</th>\n",
       "      <th>accuracy</th>\n",
       "    </tr>\n",
       "  </thead>\n",
       "  <tbody>\n",
       "    <tr>\n",
       "      <th>4</th>\n",
       "      <td>gini</td>\n",
       "      <td>6</td>\n",
       "      <td>auto</td>\n",
       "      <td>0.803483</td>\n",
       "    </tr>\n",
       "    <tr>\n",
       "      <th>3</th>\n",
       "      <td>gini</td>\n",
       "      <td>3</td>\n",
       "      <td>auto</td>\n",
       "      <td>0.798507</td>\n",
       "    </tr>\n",
       "    <tr>\n",
       "      <th>2</th>\n",
       "      <td>gini</td>\n",
       "      <td>2</td>\n",
       "      <td>None</td>\n",
       "      <td>0.793532</td>\n",
       "    </tr>\n",
       "    <tr>\n",
       "      <th>1</th>\n",
       "      <td>gini</td>\n",
       "      <td>1</td>\n",
       "      <td>None</td>\n",
       "      <td>0.763682</td>\n",
       "    </tr>\n",
       "    <tr>\n",
       "      <th>0</th>\n",
       "      <td>gini</td>\n",
       "      <td>1</td>\n",
       "      <td>auto</td>\n",
       "      <td>0.756219</td>\n",
       "    </tr>\n",
       "  </tbody>\n",
       "</table>\n",
       "</div>"
      ],
      "text/plain": [
       "  criterion depth max_features  accuracy\n",
       "4      gini     6         auto  0.803483\n",
       "3      gini     3         auto  0.798507\n",
       "2      gini     2         None  0.793532\n",
       "1      gini     1         None  0.763682\n",
       "0      gini     1         auto  0.756219"
      ]
     },
     "execution_count": 14,
     "metadata": {},
     "output_type": "execute_result"
    }
   ],
   "source": [
    "frame.sort_values(by='accuracy', ascending=False).head()"
   ]
  },
  {
   "cell_type": "markdown",
   "metadata": {},
   "source": [
    "Несмотря на то, что согласно графику при глубине выше 3 наступает перобучение и качество модели падает, при переборе параметра max_features accuracy максимальна при max_depth=6"
   ]
  },
  {
   "cell_type": "markdown",
   "metadata": {},
   "source": [
    "Создам еще одно дерево решений с лучшими параметрами по метрике accuracy для того, чтобы сохранить время выполнения кода для последующего анализа всех исследуемых моделей машинного обучения"
   ]
  },
  {
   "cell_type": "code",
   "execution_count": 15,
   "metadata": {},
   "outputs": [
    {
     "name": "stdout",
     "output_type": "stream",
     "text": [
      "accuracy 0.8034825870646766\n",
      "Время выполнения ячейки: 0.007 c\n"
     ]
    }
   ],
   "source": [
    "start_time = time.perf_counter()\n",
    "dt_model_end = DecisionTreeClassifier(random_state = 12345, \n",
    "                                              max_depth = 6,\n",
    "                                              max_features = 'auto')\n",
    "dt_model_end.fit(features_train,target_train)\n",
    "dt_prediction_valid = dt_model_end.predict(features_valid)\n",
    "dt_accuracy = accuracy_score(dt_prediction_valid, target_valid)\n",
    "print(\"accuracy\", dt_accuracy)\n",
    "dt_time = round((time.perf_counter() - start_time),3)           \n",
    "print(\"Время выполнения ячейки:\", dt_time,'c')"
   ]
  },
  {
   "cell_type": "markdown",
   "metadata": {},
   "source": [
    "### RandomForest"
   ]
  },
  {
   "cell_type": "markdown",
   "metadata": {},
   "source": [
    "Алгоритм обучает большое количество независимых друг от друга\n",
    "деревьев, а потом принимает решение на основе голосования"
   ]
  },
  {
   "cell_type": "markdown",
   "metadata": {},
   "source": [
    "**Длительность кода 5 минут**"
   ]
  },
  {
   "cell_type": "code",
   "execution_count": 16,
   "metadata": {},
   "outputs": [
    {
     "name": "stdout",
     "output_type": "stream",
     "text": [
      "Accuracy наилучшей модели на валидационной выборке: 0.8233830845771144\n",
      "est наилучшей модели на валидационной выборке: 9\n",
      "depth наилучшей модели на валидационной выборке: 11\n",
      "criterion наилучшей модели на валидационной выборке: gini\n",
      "max_features наилучшей модели на валидационной выборке: auto\n",
      "Время выполнения ячейки: 299.147 c\n"
     ]
    },
    {
     "data": {
      "image/png": "[encoded data removed]",
      "text/plain": [
       "<Figure size 1296x360 with 1 Axes>"
      ]
     },
     "metadata": {
      "needs_background": "light"
     },
     "output_type": "display_data"
    }
   ],
   "source": [
    "start_time = time.perf_counter()\n",
    "rf_estim = {}\n",
    "rf_depth = {}\n",
    "rf_best = None\n",
    "rf_best_accuracy = 0\n",
    "rf_best_est = 0\n",
    "rf_best_depth = 0\n",
    "dt_best_criterion = 0\n",
    "dt_max_features = 0\n",
    "counter=0\n",
    "frame = pd.DataFrame(columns=['criterion', 'n_estimator','depth','max_features','accuracy'])\n",
    "for criterion in ['gini', 'entropy']:\n",
    "    for est in range(1,25):\n",
    "        for depth in range(1,25):\n",
    "            for f in ['auto', 'sqrt', 'log2',  None]:\n",
    "                rf_model = RandomForestClassifier(criterion = criterion,\n",
    "                                              random_state = 12345,\n",
    "                                              n_estimators = est,\n",
    "                                              max_depth = depth,\n",
    "                                              max_features=f)\n",
    "                rf_model.fit(features_train,target_train)\n",
    "                rf_prediction_valid = rf_model.predict(features_valid)\n",
    "                rf_accuracy = accuracy_score(rf_prediction_valid, target_valid)\n",
    "                \n",
    "                rf_depth[depth] = rf_accuracy\n",
    "                score = rf_model.score(features_valid, target_valid)\n",
    "                rf_estim[est] = score \n",
    "                \n",
    "                if rf_best_accuracy < rf_accuracy:\n",
    "                    rf_best = rf_model\n",
    "                    rf_best_depth = depth\n",
    "                    rf_best_est = est\n",
    "                    rf_best_accuracy = rf_accuracy\n",
    "                    rf_best_criterion = criterion\n",
    "                    rf_max_features = f\n",
    "            \n",
    "                frame.loc[counter]=[criterion,est,depth,f,rf_accuracy]\n",
    "                counter += 1\n",
    "print(\"Accuracy наилучшей модели на валидационной выборке:\", rf_best_accuracy)\n",
    "print(\"est наилучшей модели на валидационной выборке:\", rf_best_est)\n",
    "print(\"depth наилучшей модели на валидационной выборке:\", rf_best_depth)\n",
    "print(\"criterion наилучшей модели на валидационной выборке:\", rf_best_criterion)\n",
    "print(\"max_features наилучшей модели на валидационной выборке:\", rf_max_features)\n",
    "\n",
    "pd.Series(rf_depth).plot.bar(title='Зависимость accuracy от глубины обучения деревьев', ylim=(.7,.85),figsize=(18,5))\n",
    "plt.xlabel('depth')\n",
    "plt.ylabel('accuracy')\n",
    "plt.grid()\n",
    "\n",
    "rf_time = round((time.perf_counter() - start_time),3)\n",
    "print(\"Время выполнения ячейки:\", rf_time,'c')"
   ]
  },
  {
   "cell_type": "markdown",
   "metadata": {},
   "source": [
    "Согласно графику лучшее качество модели достигается при глубине обучения в пределах значений 9-13"
   ]
  },
  {
   "cell_type": "code",
   "execution_count": 17,
   "metadata": {},
   "outputs": [
    {
     "data": {
      "image/png": "[encoded data removed]",
      "text/plain": [
       "<Figure size 1296x360 with 1 Axes>"
      ]
     },
     "metadata": {
      "needs_background": "light"
     },
     "output_type": "display_data"
    }
   ],
   "source": [
    "pd.Series(rf_estim).plot.bar(title='Влияние n_estimators на качество модели', ylim=(.7,.85),figsize=(18,5))\n",
    "plt.xlabel('n_estimator')\n",
    "plt.ylabel('accuracy')\n",
    "plt.grid()\n"
   ]
  },
  {
   "cell_type": "code",
   "execution_count": 18,
   "metadata": {},
   "outputs": [
    {
     "data": {
      "text/html": [
       "<div>\n",
       "<style scoped>\n",
       "    .dataframe tbody tr th:only-of-type {\n",
       "        vertical-align: middle;\n",
       "    }\n",
       "\n",
       "    .dataframe tbody tr th {\n",
       "        vertical-align: top;\n",
       "    }\n",
       "\n",
       "    .dataframe thead th {\n",
       "        text-align: right;\n",
       "    }\n",
       "</style>\n",
       "<table border=\"1\" class=\"dataframe\">\n",
       "  <thead>\n",
       "    <tr style=\"text-align: right;\">\n",
       "      <th></th>\n",
       "      <th>criterion</th>\n",
       "      <th>n_estimator</th>\n",
       "      <th>depth</th>\n",
       "      <th>max_features</th>\n",
       "      <th>accuracy</th>\n",
       "    </tr>\n",
       "  </thead>\n",
       "  <tbody>\n",
       "    <tr>\n",
       "      <th>809</th>\n",
       "      <td>gini</td>\n",
       "      <td>9</td>\n",
       "      <td>11</td>\n",
       "      <td>sqrt</td>\n",
       "      <td>0.823383</td>\n",
       "    </tr>\n",
       "    <tr>\n",
       "      <th>810</th>\n",
       "      <td>gini</td>\n",
       "      <td>9</td>\n",
       "      <td>11</td>\n",
       "      <td>log2</td>\n",
       "      <td>0.823383</td>\n",
       "    </tr>\n",
       "    <tr>\n",
       "      <th>808</th>\n",
       "      <td>gini</td>\n",
       "      <td>9</td>\n",
       "      <td>11</td>\n",
       "      <td>auto</td>\n",
       "      <td>0.823383</td>\n",
       "    </tr>\n",
       "    <tr>\n",
       "      <th>3595</th>\n",
       "      <td>entropy</td>\n",
       "      <td>14</td>\n",
       "      <td>11</td>\n",
       "      <td>None</td>\n",
       "      <td>0.823383</td>\n",
       "    </tr>\n",
       "    <tr>\n",
       "      <th>3787</th>\n",
       "      <td>entropy</td>\n",
       "      <td>16</td>\n",
       "      <td>11</td>\n",
       "      <td>None</td>\n",
       "      <td>0.818408</td>\n",
       "    </tr>\n",
       "  </tbody>\n",
       "</table>\n",
       "</div>"
      ],
      "text/plain": [
       "     criterion n_estimator depth max_features  accuracy\n",
       "809       gini           9    11         sqrt  0.823383\n",
       "810       gini           9    11         log2  0.823383\n",
       "808       gini           9    11         auto  0.823383\n",
       "3595   entropy          14    11         None  0.823383\n",
       "3787   entropy          16    11         None  0.818408"
      ]
     },
     "execution_count": 18,
     "metadata": {},
     "output_type": "execute_result"
    }
   ],
   "source": [
    "frame.sort_values(by='accuracy', ascending=False).head()"
   ]
  },
  {
   "cell_type": "markdown",
   "metadata": {},
   "source": [
    "Согласно графику влияния n_estimators максимальное accuracy достигается при количестве деревьев = 24, но при переборе 4 гипермараметров получается, что для наилучшее качество модели достигается при использование критерия gini, количества деревьев 9, с глубиной деревьев 9 и max_features {'auto', 'sqrt', 'log2'}"
   ]
  },
  {
   "cell_type": "markdown",
   "metadata": {},
   "source": [
    "Создам еще одно дерево решений с лучшими параметрами по метрике accuracy для того, чтобы сохранить время выполнения кода для последующего анализа всех исследуемых моделей машинного обучения"
   ]
  },
  {
   "cell_type": "code",
   "execution_count": 19,
   "metadata": {},
   "outputs": [
    {
     "name": "stdout",
     "output_type": "stream",
     "text": [
      "accuracy 0.8233830845771144\n",
      "Время выполнения ячейки: 0.04 c\n"
     ]
    }
   ],
   "source": [
    "start_time = time.perf_counter()\n",
    "rf_model = RandomForestClassifier(random_state = 12345,\n",
    "                                              n_estimators = 9,\n",
    "                                              max_depth = 11,\n",
    "                                              max_features='sqrt')\n",
    "rf_model.fit(features_train,target_train)\n",
    "rf_prediction_valid = rf_model.predict(features_valid)\n",
    "rf_accuracy = accuracy_score(rf_prediction_valid, target_valid)\n",
    "print(\"accuracy\", rf_accuracy)\n",
    "rf_time = round((time.perf_counter() - start_time),3)\n",
    "print(\"Время выполнения ячейки:\", rf_time,'c')"
   ]
  },
  {
   "cell_type": "markdown",
   "metadata": {},
   "source": [
    "### LogisticRegression"
   ]
  },
  {
   "cell_type": "markdown",
   "metadata": {},
   "source": [
    "Логистическая регрессия:\n",
    "- сначала считает, к какому классу близок объект\n",
    "- в зависимости от ответа выбирает нужный класс: если результат\n",
    "вычисления положительный, то — «1»; отрицательный — «0»"
   ]
  },
  {
   "cell_type": "code",
   "execution_count": 20,
   "metadata": {},
   "outputs": [
    {
     "name": "stdout",
     "output_type": "stream",
     "text": [
      "Accuracy наилучшей модели на валидационной выборке: 0.7039800995024875\n",
      "Время выполнения ячейки: 10.801 c\n"
     ]
    }
   ],
   "source": [
    "start_time = time.perf_counter()\n",
    "\n",
    "lr_best = None\n",
    "lr_best_accuracy = 0\n",
    "lr_best_multi_class = 0\n",
    "lr_best_solver = 0\n",
    "lr_max_iter = 0\n",
    "counter=0\n",
    "\n",
    "frame = pd.DataFrame(columns=['penalty','multi_class','solver','accuracy'])\n",
    "for penalty in ['l2', 'none']:\n",
    "    for multi_class in ['auto', 'ovr', 'multinomial']:\n",
    "        for solver in ['lbfgs', 'sag', 'saga']:\n",
    "            lr_model = LogisticRegression(penalty = penalty,\n",
    "                                              multi_class = multi_class,\n",
    "                                              random_state = 12345,\n",
    "                                              max_iter = 10000, \n",
    "                                              solver = solver)\n",
    "            lr_model.fit(features_train,target_train)\n",
    "            lr_prediction_valid = lr_model.predict(features_valid)\n",
    "            lr_accuracy = accuracy_score(lr_prediction_valid, target_valid)\n",
    "                \n",
    "            if lr_best_accuracy < lr_accuracy:\n",
    "                lr_best = lr_model\n",
    "                lr_best_multi_class = multi_class\n",
    "                lr_best_accuracy = lr_accuracy\n",
    "                lr_best_solver = solver\n",
    "            \n",
    "            frame.loc[counter]=[penalty, multi_class, solver, lr_accuracy]\n",
    "            counter += 1\n",
    "                \n",
    "print(\"Accuracy наилучшей модели на валидационной выборке:\", lr_best_accuracy)\n",
    "lr_time = round((time.perf_counter() - start_time),3)\n",
    "print(\"Время выполнения ячейки:\", lr_time,'c')"
   ]
  },
  {
   "cell_type": "code",
   "execution_count": 21,
   "metadata": {},
   "outputs": [
    {
     "data": {
      "text/html": [
       "<div>\n",
       "<style scoped>\n",
       "    .dataframe tbody tr th:only-of-type {\n",
       "        vertical-align: middle;\n",
       "    }\n",
       "\n",
       "    .dataframe tbody tr th {\n",
       "        vertical-align: top;\n",
       "    }\n",
       "\n",
       "    .dataframe thead th {\n",
       "        text-align: right;\n",
       "    }\n",
       "</style>\n",
       "<table border=\"1\" class=\"dataframe\">\n",
       "  <thead>\n",
       "    <tr style=\"text-align: right;\">\n",
       "      <th></th>\n",
       "      <th>penalty</th>\n",
       "      <th>multi_class</th>\n",
       "      <th>solver</th>\n",
       "      <th>accuracy</th>\n",
       "    </tr>\n",
       "  </thead>\n",
       "  <tbody>\n",
       "    <tr>\n",
       "      <th>0</th>\n",
       "      <td>l2</td>\n",
       "      <td>auto</td>\n",
       "      <td>lbfgs</td>\n",
       "      <td>0.703980</td>\n",
       "    </tr>\n",
       "    <tr>\n",
       "      <th>6</th>\n",
       "      <td>l2</td>\n",
       "      <td>multinomial</td>\n",
       "      <td>lbfgs</td>\n",
       "      <td>0.703980</td>\n",
       "    </tr>\n",
       "    <tr>\n",
       "      <th>15</th>\n",
       "      <td>none</td>\n",
       "      <td>multinomial</td>\n",
       "      <td>lbfgs</td>\n",
       "      <td>0.703980</td>\n",
       "    </tr>\n",
       "    <tr>\n",
       "      <th>12</th>\n",
       "      <td>none</td>\n",
       "      <td>ovr</td>\n",
       "      <td>lbfgs</td>\n",
       "      <td>0.703980</td>\n",
       "    </tr>\n",
       "    <tr>\n",
       "      <th>9</th>\n",
       "      <td>none</td>\n",
       "      <td>auto</td>\n",
       "      <td>lbfgs</td>\n",
       "      <td>0.703980</td>\n",
       "    </tr>\n",
       "    <tr>\n",
       "      <th>3</th>\n",
       "      <td>l2</td>\n",
       "      <td>ovr</td>\n",
       "      <td>lbfgs</td>\n",
       "      <td>0.703980</td>\n",
       "    </tr>\n",
       "    <tr>\n",
       "      <th>5</th>\n",
       "      <td>l2</td>\n",
       "      <td>ovr</td>\n",
       "      <td>saga</td>\n",
       "      <td>0.701493</td>\n",
       "    </tr>\n",
       "  </tbody>\n",
       "</table>\n",
       "</div>"
      ],
      "text/plain": [
       "   penalty  multi_class solver  accuracy\n",
       "0       l2         auto  lbfgs  0.703980\n",
       "6       l2  multinomial  lbfgs  0.703980\n",
       "15    none  multinomial  lbfgs  0.703980\n",
       "12    none          ovr  lbfgs  0.703980\n",
       "9     none         auto  lbfgs  0.703980\n",
       "3       l2          ovr  lbfgs  0.703980\n",
       "5       l2          ovr   saga  0.701493"
      ]
     },
     "execution_count": 21,
     "metadata": {},
     "output_type": "execute_result"
    }
   ],
   "source": [
    "frame.sort_values(by='accuracy', ascending=False).head(7)"
   ]
  },
  {
   "cell_type": "markdown",
   "metadata": {},
   "source": [
    "При переборе 4 гипермараметров получаем, что максимальное accuracy достигается при дефолтных параметрах "
   ]
  },
  {
   "cell_type": "markdown",
   "metadata": {},
   "source": [
    "Создам еще одно дерево решений с лучшими параметрами по метрике accuracy для того, чтобы сохранить время выполнения кода для последующего анализа всех исследуемых моделей машинного обучения"
   ]
  },
  {
   "cell_type": "code",
   "execution_count": 22,
   "metadata": {},
   "outputs": [
    {
     "name": "stdout",
     "output_type": "stream",
     "text": [
      "accuracy 0.7039800995024875\n",
      "Время выполнения ячейки: 0.141 c\n"
     ]
    }
   ],
   "source": [
    "start_time = time.perf_counter()\n",
    "lr_model = LogisticRegression(random_state = 12345,\n",
    "                              max_iter = 10000)\n",
    "lr_model.fit(features_train,target_train)\n",
    "lr_prediction_valid = lr_model.predict(features_valid)\n",
    "lr_accuracy = accuracy_score(lr_prediction_valid, target_valid)\n",
    "            \n",
    "                     \n",
    "print(\"accuracy\", lr_accuracy)\n",
    "lr_time = round((time.perf_counter() - start_time),3)\n",
    "print(\"Время выполнения ячейки:\", lr_time,'c')"
   ]
  },
  {
   "cell_type": "markdown",
   "metadata": {},
   "source": [
    "### Вывод"
   ]
  },
  {
   "cell_type": "markdown",
   "metadata": {},
   "source": [
    "Анализ трех методов машинного обучения"
   ]
  },
  {
   "cell_type": "code",
   "execution_count": 23,
   "metadata": {},
   "outputs": [
    {
     "data": {
      "text/html": [
       "<div>\n",
       "<style scoped>\n",
       "    .dataframe tbody tr th:only-of-type {\n",
       "        vertical-align: middle;\n",
       "    }\n",
       "\n",
       "    .dataframe tbody tr th {\n",
       "        vertical-align: top;\n",
       "    }\n",
       "\n",
       "    .dataframe thead th {\n",
       "        text-align: right;\n",
       "    }\n",
       "</style>\n",
       "<table border=\"1\" class=\"dataframe\">\n",
       "  <thead>\n",
       "    <tr style=\"text-align: right;\">\n",
       "      <th></th>\n",
       "      <th>accuracy</th>\n",
       "      <th>speed</th>\n",
       "    </tr>\n",
       "  </thead>\n",
       "  <tbody>\n",
       "    <tr>\n",
       "      <th>Decision Tree</th>\n",
       "      <td>0.803483</td>\n",
       "      <td>0.007</td>\n",
       "    </tr>\n",
       "    <tr>\n",
       "      <th>Random Forest</th>\n",
       "      <td>0.823383</td>\n",
       "      <td>0.040</td>\n",
       "    </tr>\n",
       "    <tr>\n",
       "      <th>Logistic Regression</th>\n",
       "      <td>0.703980</td>\n",
       "      <td>0.141</td>\n",
       "    </tr>\n",
       "  </tbody>\n",
       "</table>\n",
       "</div>"
      ],
      "text/plain": [
       "                     accuracy  speed\n",
       "Decision Tree        0.803483  0.007\n",
       "Random Forest        0.823383  0.040\n",
       "Logistic Regression  0.703980  0.141"
      ]
     },
     "execution_count": 23,
     "metadata": {},
     "output_type": "execute_result"
    }
   ],
   "source": [
    "#таблица основных показателей\n",
    "recap = {'accuracy':[dt_best_accuracy, rf_best_accuracy, lr_accuracy], 'speed':[dt_time, rf_time, lr_time]} \n",
    " \n",
    "recap = pd.DataFrame(recap, index =['Decision Tree', 'Random Forest', 'Logistic Regression'])  \n",
    "recap"
   ]
  },
  {
   "cell_type": "markdown",
   "metadata": {},
   "source": [
    "Самое высокое качество модели Random Forest 0.82.\n",
    "Decision Tree имеет среднее качество модели 0.80 и самую высокую скорость выполнения"
   ]
  },
  {
   "cell_type": "markdown",
   "metadata": {},
   "source": [
    "## Проверка модели на тестовой выборке"
   ]
  },
  {
   "cell_type": "markdown",
   "metadata": {},
   "source": [
    "- **Предсказывание моделей на тестовой выборке**"
   ]
  },
  {
   "cell_type": "code",
   "execution_count": 24,
   "metadata": {},
   "outputs": [],
   "source": [
    "#DecisionTree\n",
    "dt_prediction_test = dt_best.predict(features_test)\n",
    "\n",
    "#RandomForest\n",
    "rf_prediction_test = rf_best.predict(features_test)\n",
    "\n",
    "#LogisticRegression\n",
    "lr_prediction_test = lr_model.predict(features_test)"
   ]
  },
  {
   "cell_type": "markdown",
   "metadata": {},
   "source": [
    "- **Качество предсказываний моделей на тестовой выборке**"
   ]
  },
  {
   "cell_type": "code",
   "execution_count": 25,
   "metadata": {},
   "outputs": [],
   "source": [
    "#DecisionTree\n",
    "dt_accuracy_test = accuracy_score(dt_prediction_test, target_test)\n",
    "\n",
    "#RandomForest\n",
    "rf_accuracy_test = accuracy_score(rf_prediction_test, target_test)\n",
    "\n",
    "#LogisticRegression\n",
    "lr_accuracy_test = accuracy_score(lr_prediction_test, target_test)"
   ]
  },
  {
   "cell_type": "code",
   "execution_count": 26,
   "metadata": {},
   "outputs": [
    {
     "name": "stdout",
     "output_type": "stream",
     "text": [
      "Accuracy тестовой выборки DecisionTree: 0.7910447761194029\n",
      "Accuracy тестовой выборки RandomForest: 0.7910447761194029\n",
      "Accuracy тестовой выборки LogisticRegression: 0.7039800995024875\n"
     ]
    }
   ],
   "source": [
    "print(\"Accuracy тестовой выборки DecisionTree:\", dt_accuracy_test)\n",
    "print(\"Accuracy тестовой выборки RandomForest:\", rf_accuracy_test)\n",
    "print(\"Accuracy тестовой выборки LogisticRegression:\", lr_accuracy_test)"
   ]
  },
  {
   "cell_type": "code",
   "execution_count": 27,
   "metadata": {},
   "outputs": [],
   "source": [
    "accuracy_test = [dt_accuracy_test, rf_accuracy_test, lr_accuracy_test]\n",
    "recap['accuracy_test'] = accuracy_test"
   ]
  },
  {
   "cell_type": "markdown",
   "metadata": {},
   "source": [
    "### Вывод проверки моделей на тестовой выборке"
   ]
  },
  {
   "cell_type": "markdown",
   "metadata": {},
   "source": [
    "Самое высокое качество на тестовой выборке показала модель Random Forest 0.79"
   ]
  },
  {
   "cell_type": "markdown",
   "metadata": {},
   "source": [
    "## Общий вывод"
   ]
  },
  {
   "cell_type": "code",
   "execution_count": 28,
   "metadata": {},
   "outputs": [
    {
     "data": {
      "image/png": "[encoded data removed]",
      "text/plain": [
       "<Figure size 432x288 with 1 Axes>"
      ]
     },
     "metadata": {
      "needs_background": "light"
     },
     "output_type": "display_data"
    }
   ],
   "source": [
    "fig = plt.figure(figsize = (6, 4))  \n",
    "X = recap.index\n",
    "X_axis = np.arange(len(X))\n",
    "  \n",
    "plt.bar(X_axis - 0.2, recap['accuracy'], 0.4, label = 'accuracy')\n",
    "plt.bar(X_axis + 0.2, recap['accuracy_test'], 0.4, label = 'accuracy_test')\n",
    "\n",
    "plt.xticks(X_axis, X)\n",
    "plt.xlabel(\"Модели машинного обучения\")\n",
    "plt.ylabel(\"Качество модели\")\n",
    "plt.title(\"Качество моделей машинного обучения\")\n",
    "plt.grid()\n",
    "plt.legend(loc='lower right')\n",
    "plt.show()"
   ]
  },
  {
   "cell_type": "code",
   "execution_count": 29,
   "metadata": {},
   "outputs": [
    {
     "data": {
      "text/html": [
       "<div>\n",
       "<style scoped>\n",
       "    .dataframe tbody tr th:only-of-type {\n",
       "        vertical-align: middle;\n",
       "    }\n",
       "\n",
       "    .dataframe tbody tr th {\n",
       "        vertical-align: top;\n",
       "    }\n",
       "\n",
       "    .dataframe thead th {\n",
       "        text-align: right;\n",
       "    }\n",
       "</style>\n",
       "<table border=\"1\" class=\"dataframe\">\n",
       "  <thead>\n",
       "    <tr style=\"text-align: right;\">\n",
       "      <th></th>\n",
       "      <th>accuracy</th>\n",
       "      <th>speed</th>\n",
       "      <th>accuracy_test</th>\n",
       "    </tr>\n",
       "  </thead>\n",
       "  <tbody>\n",
       "    <tr>\n",
       "      <th>Decision Tree</th>\n",
       "      <td>0.803483</td>\n",
       "      <td>0.007</td>\n",
       "      <td>0.791045</td>\n",
       "    </tr>\n",
       "    <tr>\n",
       "      <th>Random Forest</th>\n",
       "      <td>0.823383</td>\n",
       "      <td>0.040</td>\n",
       "      <td>0.791045</td>\n",
       "    </tr>\n",
       "    <tr>\n",
       "      <th>Logistic Regression</th>\n",
       "      <td>0.703980</td>\n",
       "      <td>0.141</td>\n",
       "      <td>0.703980</td>\n",
       "    </tr>\n",
       "  </tbody>\n",
       "</table>\n",
       "</div>"
      ],
      "text/plain": [
       "                     accuracy  speed  accuracy_test\n",
       "Decision Tree        0.803483  0.007       0.791045\n",
       "Random Forest        0.823383  0.040       0.791045\n",
       "Logistic Regression  0.703980  0.141       0.703980"
      ]
     },
     "execution_count": 29,
     "metadata": {},
     "output_type": "execute_result"
    }
   ],
   "source": [
    "recap"
   ]
  },
  {
   "cell_type": "markdown",
   "metadata": {},
   "source": [
    "**1. Анализ данных:**\n",
    "\n",
    "В датафрейме отсутствуют пропуски и дубликаты. Тип данных в некоторых столбцах был изменен:\n",
    "\n",
    "- количество звонков и смс-сообщений переведены в целочисленый тип данных\n",
    "- is_ultra переведен в булев тип.\n",
    "\n",
    "В данных информация о 3214 клиентах.\n",
    "\n",
    "**2. Разделение данных:** \n",
    "\n",
    "- Произведено разделение исходных данных на обучающую, валидационную и тестовую выборки\n",
    "\n",
    "**3. Исследование моделей машинного обучение:**\n",
    "\n",
    "- Произведено исследование качества разных моделей при изменении гиперпараметров. Использовались модели машинного обучения: Decision Tree, Random Forest, Logistic Regression.\n",
    "- Было определенно, что высокое качество имеет модель Random Forest (0.82). Decision Tree имеет среднее качество модели (0.80) и самую быструю скорость выполнения. Logistic Regression имеет минимальное качество модели и максимальную скорость выполнения.\n",
    "\n",
    "**4. Проверка модели на тестовой выборке:**\n",
    "\n",
    "- Произведена проверка моделей на тестовой выборке. Одинаковое высокое качество имели модели Decision Tree и Random Forest (0.79). Decision Tree при этом имеет более высокую скорость выполнения"
   ]
  },
  {
   "cell_type": "markdown",
   "metadata": {},
   "source": [
    "**Лучшая модель для выбора подходящего тарифа по качеству предсказания является Random Forest. На валидационной выборке имеет самое высокое показаниу качества - 0.82. На тестовой выборке одинаковые показания качества у Random Forest и Decision Tree - 0.79. \n",
    "Но данная модель имеет среднюю скорость выполнения.\n",
    "Если скорость выполнения модели имеет значение, то необходимо выбрать модель Decision Tree со средними показаниями на валидационной и тестовой выборке - 0.80 и 0,79 и с высокой скоростью выполнения**"
   ]
  }
 ],
 "metadata": {
  "ExecuteTimeLog": [
   {
    "duration": 407,
    "start_time": "2023-06-19T10:24:23.924Z"
   },
   {
    "duration": 81,
    "start_time": "2023-06-19T10:24:24.333Z"
   },
   {
    "duration": 11,
    "start_time": "2023-06-19T10:24:24.416Z"
   },
   {
    "duration": 130,
    "start_time": "2023-06-25T11:31:31.109Z"
   },
   {
    "duration": 1062,
    "start_time": "2023-06-25T11:33:42.305Z"
   },
   {
    "duration": 82,
    "start_time": "2023-06-25T11:33:43.369Z"
   },
   {
    "duration": 12,
    "start_time": "2023-06-25T11:33:43.452Z"
   },
   {
    "duration": 103,
    "start_time": "2023-06-25T11:33:43.466Z"
   },
   {
    "duration": 1149,
    "start_time": "2023-06-25T11:44:56.031Z"
   },
   {
    "duration": 56,
    "start_time": "2023-06-25T11:44:57.183Z"
   },
   {
    "duration": 18,
    "start_time": "2023-06-25T11:44:57.241Z"
   },
   {
    "duration": 22,
    "start_time": "2023-06-25T11:44:57.261Z"
   },
   {
    "duration": 160,
    "start_time": "2023-06-25T11:44:57.285Z"
   },
   {
    "duration": 17,
    "start_time": "2023-06-25T11:45:48.199Z"
   },
   {
    "duration": 7,
    "start_time": "2023-06-25T11:46:15.195Z"
   },
   {
    "duration": 8,
    "start_time": "2023-06-25T11:46:58.589Z"
   },
   {
    "duration": 1107,
    "start_time": "2023-06-25T11:51:13.491Z"
   },
   {
    "duration": 48,
    "start_time": "2023-06-25T11:51:14.601Z"
   },
   {
    "duration": 13,
    "start_time": "2023-06-25T11:51:14.651Z"
   },
   {
    "duration": 14,
    "start_time": "2023-06-25T11:51:14.666Z"
   },
   {
    "duration": 5,
    "start_time": "2023-06-25T11:51:14.683Z"
   },
   {
    "duration": 9,
    "start_time": "2023-06-25T11:51:14.689Z"
   },
   {
    "duration": 113,
    "start_time": "2023-06-25T11:51:14.699Z"
   },
   {
    "duration": 27,
    "start_time": "2023-06-25T11:52:50.498Z"
   },
   {
    "duration": 6,
    "start_time": "2023-06-25T12:42:59.622Z"
   },
   {
    "duration": 5,
    "start_time": "2023-06-25T12:43:56.843Z"
   },
   {
    "duration": 6,
    "start_time": "2023-06-25T12:49:02.713Z"
   },
   {
    "duration": 24,
    "start_time": "2023-06-25T12:49:13.781Z"
   },
   {
    "duration": 10,
    "start_time": "2023-06-25T12:49:28.028Z"
   },
   {
    "duration": 20,
    "start_time": "2023-06-25T12:49:49.298Z"
   },
   {
    "duration": 12,
    "start_time": "2023-06-25T12:51:41.157Z"
   },
   {
    "duration": 5,
    "start_time": "2023-06-25T12:53:12.412Z"
   },
   {
    "duration": 4,
    "start_time": "2023-06-25T12:53:14.141Z"
   },
   {
    "duration": 17,
    "start_time": "2023-06-25T13:10:28.024Z"
   },
   {
    "duration": 26,
    "start_time": "2023-06-25T13:10:47.497Z"
   },
   {
    "duration": 1547,
    "start_time": "2023-06-25T13:11:17.606Z"
   },
   {
    "duration": 124,
    "start_time": "2023-06-25T13:11:19.164Z"
   },
   {
    "duration": 26,
    "start_time": "2023-06-25T13:11:19.295Z"
   },
   {
    "duration": 10,
    "start_time": "2023-06-25T13:11:19.328Z"
   },
   {
    "duration": 7,
    "start_time": "2023-06-25T13:11:19.342Z"
   },
   {
    "duration": 15,
    "start_time": "2023-06-25T13:11:19.351Z"
   },
   {
    "duration": 38,
    "start_time": "2023-06-25T13:11:19.368Z"
   },
   {
    "duration": 6,
    "start_time": "2023-06-25T13:11:19.409Z"
   },
   {
    "duration": 17,
    "start_time": "2023-06-25T13:11:19.421Z"
   },
   {
    "duration": 6,
    "start_time": "2023-06-25T13:11:19.443Z"
   },
   {
    "duration": 37,
    "start_time": "2023-06-25T13:11:19.454Z"
   },
   {
    "duration": 26,
    "start_time": "2023-06-25T13:11:19.498Z"
   },
   {
    "duration": 145,
    "start_time": "2023-06-25T13:11:19.527Z"
   },
   {
    "duration": 313,
    "start_time": "2023-06-25T13:12:08.509Z"
   },
   {
    "duration": 139,
    "start_time": "2023-06-25T13:12:33.123Z"
   },
   {
    "duration": 20,
    "start_time": "2023-06-25T13:12:41.199Z"
   },
   {
    "duration": 100,
    "start_time": "2023-06-25T13:13:36.372Z"
   },
   {
    "duration": 132,
    "start_time": "2023-06-25T13:17:29.212Z"
   },
   {
    "duration": 15,
    "start_time": "2023-06-25T13:22:17.106Z"
   },
   {
    "duration": 1333,
    "start_time": "2023-06-25T13:22:45.091Z"
   },
   {
    "duration": 57,
    "start_time": "2023-06-25T13:22:46.426Z"
   },
   {
    "duration": 17,
    "start_time": "2023-06-25T13:22:46.489Z"
   },
   {
    "duration": 14,
    "start_time": "2023-06-25T13:22:46.509Z"
   },
   {
    "duration": 4,
    "start_time": "2023-06-25T13:22:46.526Z"
   },
   {
    "duration": 9,
    "start_time": "2023-06-25T13:22:46.532Z"
   },
   {
    "duration": 43,
    "start_time": "2023-06-25T13:22:46.542Z"
   },
   {
    "duration": 5,
    "start_time": "2023-06-25T13:22:46.590Z"
   },
   {
    "duration": 23,
    "start_time": "2023-06-25T13:22:46.597Z"
   },
   {
    "duration": 4,
    "start_time": "2023-06-25T13:22:46.623Z"
   },
   {
    "duration": 11,
    "start_time": "2023-06-25T13:22:46.629Z"
   },
   {
    "duration": 9,
    "start_time": "2023-06-25T13:22:46.642Z"
   },
   {
    "duration": 186,
    "start_time": "2023-06-25T13:22:46.653Z"
   },
   {
    "duration": 0,
    "start_time": "2023-06-25T13:22:46.842Z"
   },
   {
    "duration": 167,
    "start_time": "2023-06-25T13:23:41.109Z"
   },
   {
    "duration": 34,
    "start_time": "2023-06-25T13:23:45.444Z"
   },
   {
    "duration": 2416,
    "start_time": "2023-06-25T13:23:55.417Z"
   },
   {
    "duration": 3162,
    "start_time": "2023-06-25T13:24:28.021Z"
   },
   {
    "duration": 152,
    "start_time": "2023-06-25T13:24:54.992Z"
   },
   {
    "duration": 2266,
    "start_time": "2023-06-25T13:25:59.685Z"
   },
   {
    "duration": 122,
    "start_time": "2023-06-25T13:26:01.954Z"
   },
   {
    "duration": 44,
    "start_time": "2023-06-25T13:26:02.083Z"
   },
   {
    "duration": 24,
    "start_time": "2023-06-25T13:26:02.135Z"
   },
   {
    "duration": 18,
    "start_time": "2023-06-25T13:26:02.173Z"
   },
   {
    "duration": 52,
    "start_time": "2023-06-25T13:26:02.198Z"
   },
   {
    "duration": 106,
    "start_time": "2023-06-25T13:26:02.253Z"
   },
   {
    "duration": 13,
    "start_time": "2023-06-25T13:26:02.366Z"
   },
   {
    "duration": 59,
    "start_time": "2023-06-25T13:26:02.392Z"
   },
   {
    "duration": 48,
    "start_time": "2023-06-25T13:26:02.458Z"
   },
   {
    "duration": 42,
    "start_time": "2023-06-25T13:26:02.512Z"
   },
   {
    "duration": 39,
    "start_time": "2023-06-25T13:26:02.558Z"
   },
   {
    "duration": 209,
    "start_time": "2023-06-25T13:26:02.602Z"
   },
   {
    "duration": 3095,
    "start_time": "2023-06-25T13:26:02.821Z"
   },
   {
    "duration": 663,
    "start_time": "2023-06-25T13:36:33.004Z"
   },
   {
    "duration": 1348,
    "start_time": "2023-06-25T13:47:40.583Z"
   },
   {
    "duration": 62,
    "start_time": "2023-06-25T13:47:41.933Z"
   },
   {
    "duration": 16,
    "start_time": "2023-06-25T13:47:41.997Z"
   },
   {
    "duration": 13,
    "start_time": "2023-06-25T13:47:42.015Z"
   },
   {
    "duration": 3,
    "start_time": "2023-06-25T13:47:42.032Z"
   },
   {
    "duration": 25,
    "start_time": "2023-06-25T13:47:42.037Z"
   },
   {
    "duration": 28,
    "start_time": "2023-06-25T13:47:42.064Z"
   },
   {
    "duration": 7,
    "start_time": "2023-06-25T13:47:42.094Z"
   },
   {
    "duration": 20,
    "start_time": "2023-06-25T13:47:42.103Z"
   },
   {
    "duration": 12,
    "start_time": "2023-06-25T13:47:42.126Z"
   },
   {
    "duration": 7,
    "start_time": "2023-06-25T13:47:42.140Z"
   },
   {
    "duration": 17,
    "start_time": "2023-06-25T13:47:42.149Z"
   },
   {
    "duration": 120,
    "start_time": "2023-06-25T13:47:42.168Z"
   },
   {
    "duration": 2248,
    "start_time": "2023-06-25T13:47:42.291Z"
   },
   {
    "duration": 1719,
    "start_time": "2023-06-25T13:47:44.541Z"
   },
   {
    "duration": 122,
    "start_time": "2023-06-25T13:52:01.032Z"
   },
   {
    "duration": 138,
    "start_time": "2023-06-25T13:52:59.059Z"
   },
   {
    "duration": 10,
    "start_time": "2023-06-25T13:53:03.366Z"
   },
   {
    "duration": 717,
    "start_time": "2023-06-25T13:56:14.682Z"
   },
   {
    "duration": 178,
    "start_time": "2023-06-25T13:56:29.144Z"
   },
   {
    "duration": 412,
    "start_time": "2023-06-25T13:57:11.358Z"
   },
   {
    "duration": 152,
    "start_time": "2023-06-25T13:57:23.790Z"
   },
   {
    "duration": 134,
    "start_time": "2023-06-25T13:57:54.576Z"
   },
   {
    "duration": 934,
    "start_time": "2023-06-25T13:58:06.369Z"
   },
   {
    "duration": 73,
    "start_time": "2023-06-25T13:59:03.925Z"
   },
   {
    "duration": 865,
    "start_time": "2023-06-25T13:59:37.706Z"
   },
   {
    "duration": 4,
    "start_time": "2023-06-25T14:00:42.751Z"
   },
   {
    "duration": 11,
    "start_time": "2023-06-25T14:00:58.805Z"
   },
   {
    "duration": 741,
    "start_time": "2023-06-25T14:01:02.019Z"
   },
   {
    "duration": 1196,
    "start_time": "2023-06-25T14:01:23.147Z"
   },
   {
    "duration": 69,
    "start_time": "2023-06-25T14:01:24.345Z"
   },
   {
    "duration": 12,
    "start_time": "2023-06-25T14:01:24.416Z"
   },
   {
    "duration": 21,
    "start_time": "2023-06-25T14:01:24.430Z"
   },
   {
    "duration": 25,
    "start_time": "2023-06-25T14:01:24.453Z"
   },
   {
    "duration": 12,
    "start_time": "2023-06-25T14:01:24.483Z"
   },
   {
    "duration": 22,
    "start_time": "2023-06-25T14:01:24.496Z"
   },
   {
    "duration": 4,
    "start_time": "2023-06-25T14:01:24.519Z"
   },
   {
    "duration": 10,
    "start_time": "2023-06-25T14:01:24.525Z"
   },
   {
    "duration": 13,
    "start_time": "2023-06-25T14:01:24.538Z"
   },
   {
    "duration": 26,
    "start_time": "2023-06-25T14:01:24.552Z"
   },
   {
    "duration": 14,
    "start_time": "2023-06-25T14:01:24.580Z"
   },
   {
    "duration": 101,
    "start_time": "2023-06-25T14:01:24.596Z"
   },
   {
    "duration": 2078,
    "start_time": "2023-06-25T14:01:24.699Z"
   },
   {
    "duration": 584,
    "start_time": "2023-06-25T14:01:26.779Z"
   },
   {
    "duration": 26,
    "start_time": "2023-06-25T14:01:27.366Z"
   },
   {
    "duration": 112,
    "start_time": "2023-06-25T14:04:34.920Z"
   },
   {
    "duration": 1122,
    "start_time": "2023-06-25T14:04:42.307Z"
   },
   {
    "duration": 59,
    "start_time": "2023-06-25T14:04:43.430Z"
   },
   {
    "duration": 16,
    "start_time": "2023-06-25T14:04:43.491Z"
   },
   {
    "duration": 6,
    "start_time": "2023-06-25T14:04:43.510Z"
   },
   {
    "duration": 3,
    "start_time": "2023-06-25T14:04:43.518Z"
   },
   {
    "duration": 9,
    "start_time": "2023-06-25T14:04:43.522Z"
   },
   {
    "duration": 54,
    "start_time": "2023-06-25T14:04:43.533Z"
   },
   {
    "duration": 4,
    "start_time": "2023-06-25T14:04:43.589Z"
   },
   {
    "duration": 14,
    "start_time": "2023-06-25T14:04:43.595Z"
   },
   {
    "duration": 5,
    "start_time": "2023-06-25T14:04:43.611Z"
   },
   {
    "duration": 13,
    "start_time": "2023-06-25T14:04:43.618Z"
   },
   {
    "duration": 6,
    "start_time": "2023-06-25T14:04:43.633Z"
   },
   {
    "duration": 99,
    "start_time": "2023-06-25T14:04:43.641Z"
   },
   {
    "duration": 2006,
    "start_time": "2023-06-25T14:04:43.742Z"
   },
   {
    "duration": 121,
    "start_time": "2023-06-25T14:04:45.750Z"
   },
   {
    "duration": 4,
    "start_time": "2023-06-25T14:04:45.874Z"
   },
   {
    "duration": 140,
    "start_time": "2023-06-25T14:07:35.994Z"
   },
   {
    "duration": 87,
    "start_time": "2023-06-25T14:07:41.762Z"
   },
   {
    "duration": 78,
    "start_time": "2023-06-25T14:08:10.071Z"
   },
   {
    "duration": 82,
    "start_time": "2023-06-25T14:08:15.827Z"
   },
   {
    "duration": 2048,
    "start_time": "2023-06-25T14:08:44.493Z"
   },
   {
    "duration": 785,
    "start_time": "2023-06-25T14:08:57.284Z"
   },
   {
    "duration": 79,
    "start_time": "2023-06-25T14:09:50.571Z"
   },
   {
    "duration": 178,
    "start_time": "2023-06-25T14:10:06.077Z"
   },
   {
    "duration": 98,
    "start_time": "2023-06-25T14:10:12.473Z"
   },
   {
    "duration": 2082,
    "start_time": "2023-06-25T14:10:47.617Z"
   },
   {
    "duration": 914,
    "start_time": "2023-06-25T14:11:17.968Z"
   },
   {
    "duration": 5,
    "start_time": "2023-06-25T14:13:08.542Z"
   },
   {
    "duration": 11,
    "start_time": "2023-06-25T14:21:01.770Z"
   },
   {
    "duration": 12,
    "start_time": "2023-06-25T14:21:17.372Z"
   },
   {
    "duration": 11,
    "start_time": "2023-06-25T14:21:32.602Z"
   },
   {
    "duration": 11,
    "start_time": "2023-06-25T14:22:13.198Z"
   },
   {
    "duration": 8,
    "start_time": "2023-06-25T14:22:57.491Z"
   },
   {
    "duration": 11,
    "start_time": "2023-06-25T14:37:58.238Z"
   },
   {
    "duration": 11,
    "start_time": "2023-06-25T14:40:21.495Z"
   },
   {
    "duration": 6,
    "start_time": "2023-06-25T14:46:47.873Z"
   },
   {
    "duration": 4,
    "start_time": "2023-06-25T14:49:42.829Z"
   },
   {
    "duration": 1889,
    "start_time": "2023-06-25T14:57:51.687Z"
   },
   {
    "duration": 1904,
    "start_time": "2023-06-25T14:58:05.750Z"
   },
   {
    "duration": 12,
    "start_time": "2023-06-25T14:58:31.562Z"
   },
   {
    "duration": 8,
    "start_time": "2023-06-25T14:58:36.749Z"
   },
   {
    "duration": 5,
    "start_time": "2023-06-25T14:58:51.391Z"
   },
   {
    "duration": 129,
    "start_time": "2023-06-25T15:00:00.320Z"
   },
   {
    "duration": 6,
    "start_time": "2023-06-25T15:00:09.341Z"
   },
   {
    "duration": 11,
    "start_time": "2023-06-25T15:00:29.199Z"
   },
   {
    "duration": 9,
    "start_time": "2023-06-25T15:02:06.070Z"
   },
   {
    "duration": 8,
    "start_time": "2023-06-25T15:02:25.330Z"
   },
   {
    "duration": 1283,
    "start_time": "2023-06-25T15:02:31.360Z"
   },
   {
    "duration": 60,
    "start_time": "2023-06-25T15:02:32.645Z"
   },
   {
    "duration": 13,
    "start_time": "2023-06-25T15:02:32.707Z"
   },
   {
    "duration": 6,
    "start_time": "2023-06-25T15:02:32.722Z"
   },
   {
    "duration": 3,
    "start_time": "2023-06-25T15:02:32.730Z"
   },
   {
    "duration": 8,
    "start_time": "2023-06-25T15:02:32.735Z"
   },
   {
    "duration": 44,
    "start_time": "2023-06-25T15:02:32.744Z"
   },
   {
    "duration": 4,
    "start_time": "2023-06-25T15:02:32.790Z"
   },
   {
    "duration": 28,
    "start_time": "2023-06-25T15:02:32.796Z"
   },
   {
    "duration": 4,
    "start_time": "2023-06-25T15:02:32.826Z"
   },
   {
    "duration": 7,
    "start_time": "2023-06-25T15:02:32.832Z"
   },
   {
    "duration": 11,
    "start_time": "2023-06-25T15:02:32.841Z"
   },
   {
    "duration": 95,
    "start_time": "2023-06-25T15:02:32.854Z"
   },
   {
    "duration": 2029,
    "start_time": "2023-06-25T15:02:32.957Z"
   },
   {
    "duration": 83,
    "start_time": "2023-06-25T15:02:34.989Z"
   },
   {
    "duration": 99,
    "start_time": "2023-06-25T15:02:35.076Z"
   },
   {
    "duration": 88,
    "start_time": "2023-06-25T15:02:35.178Z"
   },
   {
    "duration": 30,
    "start_time": "2023-06-25T15:02:35.269Z"
   },
   {
    "duration": 9,
    "start_time": "2023-06-25T15:02:35.302Z"
   },
   {
    "duration": 18,
    "start_time": "2023-06-25T15:02:35.313Z"
   },
   {
    "duration": 111,
    "start_time": "2023-06-25T15:05:05.035Z"
   },
   {
    "duration": 917,
    "start_time": "2023-06-25T15:05:38.649Z"
   },
   {
    "duration": 42,
    "start_time": "2023-06-25T15:09:29.548Z"
   },
   {
    "duration": 255,
    "start_time": "2023-06-25T15:10:05.160Z"
   },
   {
    "duration": 13,
    "start_time": "2023-06-25T15:10:49.514Z"
   },
   {
    "duration": 331,
    "start_time": "2023-06-25T15:11:01.265Z"
   },
   {
    "duration": 18,
    "start_time": "2023-06-25T15:11:30.871Z"
   },
   {
    "duration": 208,
    "start_time": "2023-06-25T15:11:41.182Z"
   },
   {
    "duration": 217,
    "start_time": "2023-06-25T15:12:01.318Z"
   },
   {
    "duration": 380,
    "start_time": "2023-06-25T15:12:15.873Z"
   },
   {
    "duration": 184,
    "start_time": "2023-06-25T15:17:28.895Z"
   },
   {
    "duration": 186,
    "start_time": "2023-06-25T15:18:28.457Z"
   },
   {
    "duration": 176,
    "start_time": "2023-06-25T15:19:40.615Z"
   },
   {
    "duration": 161,
    "start_time": "2023-06-25T15:20:01.526Z"
   },
   {
    "duration": 13,
    "start_time": "2023-06-25T15:20:23.714Z"
   },
   {
    "duration": 11,
    "start_time": "2023-06-25T15:20:41.877Z"
   },
   {
    "duration": 253,
    "start_time": "2023-06-25T15:20:46.593Z"
   },
   {
    "duration": 179,
    "start_time": "2023-06-25T15:20:54.644Z"
   },
   {
    "duration": 199,
    "start_time": "2023-06-25T15:21:11.936Z"
   },
   {
    "duration": 308,
    "start_time": "2023-06-25T15:22:16.834Z"
   },
   {
    "duration": 318,
    "start_time": "2023-06-25T15:22:27.197Z"
   },
   {
    "duration": 190,
    "start_time": "2023-06-25T15:22:37.947Z"
   },
   {
    "duration": 180,
    "start_time": "2023-06-25T15:22:46.517Z"
   },
   {
    "duration": 216,
    "start_time": "2023-06-25T15:22:51.802Z"
   },
   {
    "duration": 198,
    "start_time": "2023-06-25T15:23:02.996Z"
   },
   {
    "duration": 175,
    "start_time": "2023-06-25T15:24:08.696Z"
   },
   {
    "duration": 185,
    "start_time": "2023-06-25T15:24:55.893Z"
   },
   {
    "duration": 169,
    "start_time": "2023-06-25T15:25:13.453Z"
   },
   {
    "duration": 205,
    "start_time": "2023-06-25T15:25:23.524Z"
   },
   {
    "duration": 188,
    "start_time": "2023-06-25T15:25:34.610Z"
   },
   {
    "duration": 208,
    "start_time": "2023-06-25T15:25:47.204Z"
   },
   {
    "duration": 314,
    "start_time": "2023-06-25T15:25:57.614Z"
   },
   {
    "duration": 192,
    "start_time": "2023-06-25T15:26:08.316Z"
   },
   {
    "duration": 187,
    "start_time": "2023-06-25T15:26:41.500Z"
   },
   {
    "duration": 1665,
    "start_time": "2023-06-25T15:27:49.446Z"
   },
   {
    "duration": 61,
    "start_time": "2023-06-25T15:27:51.113Z"
   },
   {
    "duration": 14,
    "start_time": "2023-06-25T15:27:51.185Z"
   },
   {
    "duration": 40,
    "start_time": "2023-06-25T15:27:51.202Z"
   },
   {
    "duration": 8,
    "start_time": "2023-06-25T15:27:51.244Z"
   },
   {
    "duration": 36,
    "start_time": "2023-06-25T15:27:51.254Z"
   },
   {
    "duration": 62,
    "start_time": "2023-06-25T15:27:51.293Z"
   },
   {
    "duration": 34,
    "start_time": "2023-06-25T15:27:51.362Z"
   },
   {
    "duration": 58,
    "start_time": "2023-06-25T15:27:51.398Z"
   },
   {
    "duration": 36,
    "start_time": "2023-06-25T15:27:51.459Z"
   },
   {
    "duration": 45,
    "start_time": "2023-06-25T15:27:51.497Z"
   },
   {
    "duration": 45,
    "start_time": "2023-06-25T15:27:51.544Z"
   },
   {
    "duration": 92,
    "start_time": "2023-06-25T15:27:51.591Z"
   },
   {
    "duration": 2141,
    "start_time": "2023-06-25T15:27:51.688Z"
   },
   {
    "duration": 1036,
    "start_time": "2023-06-25T15:27:53.831Z"
   },
   {
    "duration": 93,
    "start_time": "2023-06-25T15:27:54.872Z"
   },
   {
    "duration": 17,
    "start_time": "2023-06-25T15:27:54.973Z"
   },
   {
    "duration": 7,
    "start_time": "2023-06-25T15:27:54.994Z"
   },
   {
    "duration": 13,
    "start_time": "2023-06-25T15:27:55.003Z"
   },
   {
    "duration": 11,
    "start_time": "2023-06-25T15:27:55.018Z"
   },
   {
    "duration": 221,
    "start_time": "2023-06-25T15:27:55.031Z"
   },
   {
    "duration": 14,
    "start_time": "2023-06-25T15:31:23.412Z"
   },
   {
    "duration": 202,
    "start_time": "2023-06-25T15:31:38.053Z"
   },
   {
    "duration": 9,
    "start_time": "2023-06-25T15:39:17.792Z"
   },
   {
    "duration": 9,
    "start_time": "2023-06-25T15:39:24.516Z"
   },
   {
    "duration": 10,
    "start_time": "2023-06-25T15:41:48.825Z"
   },
   {
    "duration": 239,
    "start_time": "2023-06-25T15:42:02.273Z"
   },
   {
    "duration": 11,
    "start_time": "2023-06-25T15:44:44.164Z"
   },
   {
    "duration": 159,
    "start_time": "2023-06-25T15:45:00.292Z"
   },
   {
    "duration": 1455,
    "start_time": "2023-06-25T15:56:01.417Z"
   },
   {
    "duration": 43,
    "start_time": "2023-06-25T15:56:02.874Z"
   },
   {
    "duration": 11,
    "start_time": "2023-06-25T15:56:02.918Z"
   },
   {
    "duration": 9,
    "start_time": "2023-06-25T15:56:02.930Z"
   },
   {
    "duration": 45,
    "start_time": "2023-06-25T15:56:02.941Z"
   },
   {
    "duration": 51,
    "start_time": "2023-06-25T15:56:02.988Z"
   },
   {
    "duration": 54,
    "start_time": "2023-06-25T15:56:03.041Z"
   },
   {
    "duration": 29,
    "start_time": "2023-06-25T15:56:03.097Z"
   },
   {
    "duration": 32,
    "start_time": "2023-06-25T15:56:03.127Z"
   },
   {
    "duration": 48,
    "start_time": "2023-06-25T15:56:03.161Z"
   },
   {
    "duration": 29,
    "start_time": "2023-06-25T15:56:03.211Z"
   },
   {
    "duration": 15,
    "start_time": "2023-06-25T15:56:03.242Z"
   },
   {
    "duration": 103,
    "start_time": "2023-06-25T15:56:03.259Z"
   },
   {
    "duration": 1845,
    "start_time": "2023-06-25T15:56:03.364Z"
   },
   {
    "duration": 155,
    "start_time": "2023-06-25T15:56:05.211Z"
   },
   {
    "duration": 101,
    "start_time": "2023-06-25T15:56:05.456Z"
   },
   {
    "duration": 11,
    "start_time": "2023-06-25T15:56:05.559Z"
   },
   {
    "duration": 4,
    "start_time": "2023-06-25T15:56:05.572Z"
   },
   {
    "duration": 9,
    "start_time": "2023-06-25T15:56:05.578Z"
   },
   {
    "duration": 12,
    "start_time": "2023-06-25T15:56:05.589Z"
   },
   {
    "duration": 182,
    "start_time": "2023-06-25T15:56:05.603Z"
   },
   {
    "duration": 8,
    "start_time": "2023-06-25T15:56:05.787Z"
   },
   {
    "duration": 1458,
    "start_time": "2023-06-25T15:59:53.627Z"
   },
   {
    "duration": 44,
    "start_time": "2023-06-25T15:59:55.087Z"
   },
   {
    "duration": 11,
    "start_time": "2023-06-25T15:59:55.133Z"
   },
   {
    "duration": 6,
    "start_time": "2023-06-25T15:59:55.146Z"
   },
   {
    "duration": 27,
    "start_time": "2023-06-25T15:59:55.153Z"
   },
   {
    "duration": 11,
    "start_time": "2023-06-25T15:59:55.182Z"
   },
   {
    "duration": 28,
    "start_time": "2023-06-25T15:59:55.195Z"
   },
   {
    "duration": 4,
    "start_time": "2023-06-25T15:59:55.225Z"
   },
   {
    "duration": 49,
    "start_time": "2023-06-25T15:59:55.231Z"
   },
   {
    "duration": 20,
    "start_time": "2023-06-25T15:59:55.283Z"
   },
   {
    "duration": 18,
    "start_time": "2023-06-25T15:59:55.304Z"
   },
   {
    "duration": 8,
    "start_time": "2023-06-25T15:59:55.323Z"
   },
   {
    "duration": 75,
    "start_time": "2023-06-25T15:59:55.332Z"
   },
   {
    "duration": 1842,
    "start_time": "2023-06-25T15:59:55.409Z"
   },
   {
    "duration": 206,
    "start_time": "2023-06-25T15:59:57.256Z"
   },
   {
    "duration": 95,
    "start_time": "2023-06-25T15:59:57.464Z"
   },
   {
    "duration": 15,
    "start_time": "2023-06-25T15:59:57.561Z"
   },
   {
    "duration": 15,
    "start_time": "2023-06-25T15:59:57.578Z"
   },
   {
    "duration": 31,
    "start_time": "2023-06-25T15:59:57.595Z"
   },
   {
    "duration": 13,
    "start_time": "2023-06-25T15:59:57.629Z"
   },
   {
    "duration": 176,
    "start_time": "2023-06-25T15:59:57.644Z"
   },
   {
    "duration": 9,
    "start_time": "2023-06-25T15:59:57.822Z"
   },
   {
    "duration": 1488,
    "start_time": "2023-06-25T16:00:15.405Z"
   },
   {
    "duration": 46,
    "start_time": "2023-06-25T16:00:16.895Z"
   },
   {
    "duration": 14,
    "start_time": "2023-06-25T16:00:16.943Z"
   },
   {
    "duration": 27,
    "start_time": "2023-06-25T16:00:16.958Z"
   },
   {
    "duration": 10,
    "start_time": "2023-06-25T16:00:16.987Z"
   },
   {
    "duration": 32,
    "start_time": "2023-06-25T16:00:16.999Z"
   },
   {
    "duration": 39,
    "start_time": "2023-06-25T16:00:17.033Z"
   },
   {
    "duration": 5,
    "start_time": "2023-06-25T16:00:17.074Z"
   },
   {
    "duration": 11,
    "start_time": "2023-06-25T16:00:17.080Z"
   },
   {
    "duration": 6,
    "start_time": "2023-06-25T16:00:17.093Z"
   },
   {
    "duration": 7,
    "start_time": "2023-06-25T16:00:17.101Z"
   },
   {
    "duration": 6,
    "start_time": "2023-06-25T16:00:17.110Z"
   },
   {
    "duration": 124,
    "start_time": "2023-06-25T16:00:17.118Z"
   },
   {
    "duration": 2056,
    "start_time": "2023-06-25T16:00:17.246Z"
   },
   {
    "duration": 155,
    "start_time": "2023-06-25T16:00:19.303Z"
   },
   {
    "duration": 98,
    "start_time": "2023-06-25T16:00:19.460Z"
   },
   {
    "duration": 11,
    "start_time": "2023-06-25T16:00:19.560Z"
   },
   {
    "duration": 4,
    "start_time": "2023-06-25T16:00:19.573Z"
   },
   {
    "duration": 21,
    "start_time": "2023-06-25T16:00:19.578Z"
   },
   {
    "duration": 4,
    "start_time": "2023-06-25T16:00:19.601Z"
   },
   {
    "duration": 175,
    "start_time": "2023-06-25T16:00:19.606Z"
   },
   {
    "duration": 8,
    "start_time": "2023-06-25T16:00:19.783Z"
   },
   {
    "duration": 1582,
    "start_time": "2023-06-27T16:14:42.532Z"
   },
   {
    "duration": 167,
    "start_time": "2023-06-27T16:14:44.116Z"
   },
   {
    "duration": 12,
    "start_time": "2023-06-27T16:14:44.285Z"
   },
   {
    "duration": 6,
    "start_time": "2023-06-27T16:14:44.299Z"
   },
   {
    "duration": 5,
    "start_time": "2023-06-27T16:14:44.307Z"
   },
   {
    "duration": 13,
    "start_time": "2023-06-27T16:14:44.313Z"
   },
   {
    "duration": 22,
    "start_time": "2023-06-27T16:14:44.328Z"
   },
   {
    "duration": 4,
    "start_time": "2023-06-27T16:14:44.351Z"
   },
   {
    "duration": 11,
    "start_time": "2023-06-27T16:14:44.356Z"
   },
   {
    "duration": 15,
    "start_time": "2023-06-27T16:14:44.370Z"
   },
   {
    "duration": 7,
    "start_time": "2023-06-27T16:14:44.387Z"
   },
   {
    "duration": 9,
    "start_time": "2023-06-27T16:14:44.395Z"
   },
   {
    "duration": 96,
    "start_time": "2023-06-27T16:14:44.405Z"
   },
   {
    "duration": 2029,
    "start_time": "2023-06-27T16:14:44.503Z"
   },
   {
    "duration": 213,
    "start_time": "2023-06-27T16:14:46.533Z"
   },
   {
    "duration": 91,
    "start_time": "2023-06-27T16:14:46.747Z"
   },
   {
    "duration": 97,
    "start_time": "2023-06-27T16:14:46.843Z"
   },
   {
    "duration": 5,
    "start_time": "2023-06-27T16:14:46.941Z"
   },
   {
    "duration": 13,
    "start_time": "2023-06-27T16:14:46.948Z"
   },
   {
    "duration": 7,
    "start_time": "2023-06-27T16:14:46.962Z"
   },
   {
    "duration": 154,
    "start_time": "2023-06-27T16:14:46.970Z"
   },
   {
    "duration": 11,
    "start_time": "2023-06-27T16:14:47.125Z"
   },
   {
    "duration": 2030,
    "start_time": "2023-07-18T13:08:26.605Z"
   },
   {
    "duration": 126,
    "start_time": "2023-07-18T13:08:28.637Z"
   },
   {
    "duration": 13,
    "start_time": "2023-07-18T13:08:28.765Z"
   },
   {
    "duration": 35,
    "start_time": "2023-07-18T13:08:28.780Z"
   },
   {
    "duration": 8,
    "start_time": "2023-07-18T13:08:28.817Z"
   },
   {
    "duration": 28,
    "start_time": "2023-07-18T13:08:28.826Z"
   },
   {
    "duration": 41,
    "start_time": "2023-07-18T13:08:28.856Z"
   },
   {
    "duration": 6,
    "start_time": "2023-07-18T13:08:28.900Z"
   },
   {
    "duration": 13,
    "start_time": "2023-07-18T13:08:28.908Z"
   },
   {
    "duration": 29,
    "start_time": "2023-07-18T13:08:28.924Z"
   },
   {
    "duration": 14,
    "start_time": "2023-07-18T13:08:28.955Z"
   },
   {
    "duration": 18,
    "start_time": "2023-07-18T13:08:28.971Z"
   },
   {
    "duration": 49,
    "start_time": "2023-07-18T13:08:28.991Z"
   },
   {
    "duration": 0,
    "start_time": "2023-07-18T13:08:29.042Z"
   },
   {
    "duration": 0,
    "start_time": "2023-07-18T13:08:29.043Z"
   },
   {
    "duration": 0,
    "start_time": "2023-07-18T13:08:29.044Z"
   },
   {
    "duration": 0,
    "start_time": "2023-07-18T13:08:29.045Z"
   },
   {
    "duration": 0,
    "start_time": "2023-07-18T13:08:29.047Z"
   },
   {
    "duration": 0,
    "start_time": "2023-07-18T13:08:29.048Z"
   },
   {
    "duration": 0,
    "start_time": "2023-07-18T13:08:29.050Z"
   },
   {
    "duration": 0,
    "start_time": "2023-07-18T13:08:29.051Z"
   },
   {
    "duration": 0,
    "start_time": "2023-07-18T13:08:29.052Z"
   },
   {
    "duration": 1519,
    "start_time": "2023-07-18T13:08:56.807Z"
   },
   {
    "duration": 39,
    "start_time": "2023-07-18T13:08:58.327Z"
   },
   {
    "duration": 12,
    "start_time": "2023-07-18T13:08:58.368Z"
   },
   {
    "duration": 17,
    "start_time": "2023-07-18T13:08:58.382Z"
   },
   {
    "duration": 8,
    "start_time": "2023-07-18T13:08:58.402Z"
   },
   {
    "duration": 27,
    "start_time": "2023-07-18T13:08:58.411Z"
   },
   {
    "duration": 20,
    "start_time": "2023-07-18T13:08:58.440Z"
   },
   {
    "duration": 4,
    "start_time": "2023-07-18T13:08:58.462Z"
   },
   {
    "duration": 14,
    "start_time": "2023-07-18T13:08:58.467Z"
   },
   {
    "duration": 10,
    "start_time": "2023-07-18T13:08:58.484Z"
   },
   {
    "duration": 19,
    "start_time": "2023-07-18T13:08:58.496Z"
   },
   {
    "duration": 5,
    "start_time": "2023-07-18T13:08:58.516Z"
   },
   {
    "duration": 100,
    "start_time": "2023-07-18T13:08:58.523Z"
   },
   {
    "duration": 0,
    "start_time": "2023-07-18T13:08:58.625Z"
   },
   {
    "duration": 0,
    "start_time": "2023-07-18T13:08:58.626Z"
   },
   {
    "duration": 0,
    "start_time": "2023-07-18T13:08:58.627Z"
   },
   {
    "duration": 0,
    "start_time": "2023-07-18T13:08:58.628Z"
   },
   {
    "duration": 0,
    "start_time": "2023-07-18T13:08:58.629Z"
   },
   {
    "duration": 0,
    "start_time": "2023-07-18T13:08:58.631Z"
   },
   {
    "duration": 0,
    "start_time": "2023-07-18T13:08:58.632Z"
   },
   {
    "duration": 0,
    "start_time": "2023-07-18T13:08:58.633Z"
   },
   {
    "duration": 0,
    "start_time": "2023-07-18T13:08:58.634Z"
   },
   {
    "duration": 202,
    "start_time": "2023-07-18T13:09:36.958Z"
   },
   {
    "duration": 5,
    "start_time": "2023-07-18T13:10:20.701Z"
   },
   {
    "duration": 162,
    "start_time": "2023-07-18T13:10:29.454Z"
   },
   {
    "duration": 101,
    "start_time": "2023-07-18T13:10:39.588Z"
   },
   {
    "duration": 116,
    "start_time": "2023-07-18T13:10:54.484Z"
   },
   {
    "duration": 129,
    "start_time": "2023-07-18T13:11:10.623Z"
   },
   {
    "duration": 188,
    "start_time": "2023-07-18T13:11:34.650Z"
   },
   {
    "duration": 207,
    "start_time": "2023-07-18T13:12:13.038Z"
   },
   {
    "duration": 528,
    "start_time": "2023-07-18T13:13:12.164Z"
   },
   {
    "duration": 495,
    "start_time": "2023-07-18T13:18:14.935Z"
   },
   {
    "duration": 405,
    "start_time": "2023-07-18T13:18:36.902Z"
   },
   {
    "duration": 395,
    "start_time": "2023-07-18T13:18:56.494Z"
   },
   {
    "duration": 388,
    "start_time": "2023-07-18T13:19:51.649Z"
   },
   {
    "duration": 385,
    "start_time": "2023-07-18T13:37:10.508Z"
   },
   {
    "duration": 380,
    "start_time": "2023-07-18T13:38:13.724Z"
   },
   {
    "duration": 19,
    "start_time": "2023-07-18T13:42:59.921Z"
   },
   {
    "duration": 23,
    "start_time": "2023-07-18T13:44:46.448Z"
   },
   {
    "duration": 564,
    "start_time": "2023-07-18T13:44:56.166Z"
   },
   {
    "duration": 361,
    "start_time": "2023-07-18T13:46:18.427Z"
   },
   {
    "duration": 348,
    "start_time": "2023-07-18T13:46:27.683Z"
   },
   {
    "duration": 409,
    "start_time": "2023-07-18T13:46:48.972Z"
   },
   {
    "duration": 1462,
    "start_time": "2023-07-18T13:47:07.840Z"
   },
   {
    "duration": 39,
    "start_time": "2023-07-18T13:47:09.304Z"
   },
   {
    "duration": 13,
    "start_time": "2023-07-18T13:47:09.345Z"
   },
   {
    "duration": 10,
    "start_time": "2023-07-18T13:47:09.360Z"
   },
   {
    "duration": 25,
    "start_time": "2023-07-18T13:47:09.371Z"
   },
   {
    "duration": 9,
    "start_time": "2023-07-18T13:47:09.398Z"
   },
   {
    "duration": 25,
    "start_time": "2023-07-18T13:47:09.409Z"
   },
   {
    "duration": 4,
    "start_time": "2023-07-18T13:47:09.436Z"
   },
   {
    "duration": 10,
    "start_time": "2023-07-18T13:47:09.441Z"
   },
   {
    "duration": 9,
    "start_time": "2023-07-18T13:47:09.453Z"
   },
   {
    "duration": 17,
    "start_time": "2023-07-18T13:47:09.463Z"
   },
   {
    "duration": 11,
    "start_time": "2023-07-18T13:47:09.482Z"
   },
   {
    "duration": 118,
    "start_time": "2023-07-18T13:47:09.494Z"
   },
   {
    "duration": 0,
    "start_time": "2023-07-18T13:47:09.614Z"
   },
   {
    "duration": 0,
    "start_time": "2023-07-18T13:47:09.616Z"
   },
   {
    "duration": 0,
    "start_time": "2023-07-18T13:47:09.618Z"
   },
   {
    "duration": 0,
    "start_time": "2023-07-18T13:47:09.619Z"
   },
   {
    "duration": 0,
    "start_time": "2023-07-18T13:47:09.620Z"
   },
   {
    "duration": 0,
    "start_time": "2023-07-18T13:47:09.621Z"
   },
   {
    "duration": 0,
    "start_time": "2023-07-18T13:47:09.622Z"
   },
   {
    "duration": 0,
    "start_time": "2023-07-18T13:47:09.624Z"
   },
   {
    "duration": 0,
    "start_time": "2023-07-18T13:47:09.625Z"
   },
   {
    "duration": 383,
    "start_time": "2023-07-18T13:48:06.757Z"
   },
   {
    "duration": 1510,
    "start_time": "2023-07-18T13:49:22.358Z"
   },
   {
    "duration": 48,
    "start_time": "2023-07-18T13:49:23.870Z"
   },
   {
    "duration": 14,
    "start_time": "2023-07-18T13:49:23.920Z"
   },
   {
    "duration": 23,
    "start_time": "2023-07-18T13:49:23.937Z"
   },
   {
    "duration": 8,
    "start_time": "2023-07-18T13:49:23.961Z"
   },
   {
    "duration": 10,
    "start_time": "2023-07-18T13:49:23.970Z"
   },
   {
    "duration": 27,
    "start_time": "2023-07-18T13:49:23.982Z"
   },
   {
    "duration": 5,
    "start_time": "2023-07-18T13:49:24.011Z"
   },
   {
    "duration": 16,
    "start_time": "2023-07-18T13:49:24.017Z"
   },
   {
    "duration": 23,
    "start_time": "2023-07-18T13:49:24.035Z"
   },
   {
    "duration": 24,
    "start_time": "2023-07-18T13:49:24.060Z"
   },
   {
    "duration": 15,
    "start_time": "2023-07-18T13:49:24.086Z"
   },
   {
    "duration": 414,
    "start_time": "2023-07-18T13:49:24.103Z"
   },
   {
    "duration": 1883,
    "start_time": "2023-07-18T13:49:24.518Z"
   },
   {
    "duration": 387,
    "start_time": "2023-07-18T13:49:26.403Z"
   },
   {
    "duration": 93,
    "start_time": "2023-07-18T13:49:26.792Z"
   },
   {
    "duration": 39,
    "start_time": "2023-07-18T13:49:26.974Z"
   },
   {
    "duration": 13,
    "start_time": "2023-07-18T13:49:27.015Z"
   },
   {
    "duration": 57,
    "start_time": "2023-07-18T13:49:27.030Z"
   },
   {
    "duration": 12,
    "start_time": "2023-07-18T13:49:27.089Z"
   },
   {
    "duration": 182,
    "start_time": "2023-07-18T13:49:27.103Z"
   },
   {
    "duration": 10,
    "start_time": "2023-07-18T13:49:27.287Z"
   },
   {
    "duration": 122,
    "start_time": "2023-07-18T14:37:11.824Z"
   },
   {
    "duration": 645,
    "start_time": "2023-07-18T14:37:28.401Z"
   },
   {
    "duration": 635,
    "start_time": "2023-07-18T14:39:07.443Z"
   },
   {
    "duration": 1480,
    "start_time": "2023-07-18T14:39:35.683Z"
   },
   {
    "duration": 40,
    "start_time": "2023-07-18T14:39:37.165Z"
   },
   {
    "duration": 16,
    "start_time": "2023-07-18T14:39:37.207Z"
   },
   {
    "duration": 11,
    "start_time": "2023-07-18T14:39:37.225Z"
   },
   {
    "duration": 9,
    "start_time": "2023-07-18T14:39:37.238Z"
   },
   {
    "duration": 23,
    "start_time": "2023-07-18T14:39:37.249Z"
   },
   {
    "duration": 32,
    "start_time": "2023-07-18T14:39:37.274Z"
   },
   {
    "duration": 3,
    "start_time": "2023-07-18T14:39:37.308Z"
   },
   {
    "duration": 7,
    "start_time": "2023-07-18T14:39:37.313Z"
   },
   {
    "duration": 7,
    "start_time": "2023-07-18T14:39:37.321Z"
   },
   {
    "duration": 7,
    "start_time": "2023-07-18T14:39:37.329Z"
   },
   {
    "duration": 8,
    "start_time": "2023-07-18T14:39:37.337Z"
   },
   {
    "duration": 145,
    "start_time": "2023-07-18T14:39:37.346Z"
   },
   {
    "duration": 0,
    "start_time": "2023-07-18T14:39:37.493Z"
   },
   {
    "duration": 0,
    "start_time": "2023-07-18T14:39:37.494Z"
   },
   {
    "duration": 0,
    "start_time": "2023-07-18T14:39:37.496Z"
   },
   {
    "duration": 0,
    "start_time": "2023-07-18T14:39:37.497Z"
   },
   {
    "duration": 0,
    "start_time": "2023-07-18T14:39:37.498Z"
   },
   {
    "duration": 0,
    "start_time": "2023-07-18T14:39:37.499Z"
   },
   {
    "duration": 0,
    "start_time": "2023-07-18T14:39:37.500Z"
   },
   {
    "duration": 0,
    "start_time": "2023-07-18T14:39:37.501Z"
   },
   {
    "duration": 0,
    "start_time": "2023-07-18T14:39:37.502Z"
   },
   {
    "duration": 22,
    "start_time": "2023-07-18T14:39:48.553Z"
   },
   {
    "duration": 481,
    "start_time": "2023-07-18T14:40:17.618Z"
   },
   {
    "duration": 608,
    "start_time": "2023-07-18T14:40:55.875Z"
   },
   {
    "duration": 616,
    "start_time": "2023-07-18T14:41:11.996Z"
   },
   {
    "duration": 594,
    "start_time": "2023-07-18T14:41:39.629Z"
   },
   {
    "duration": 589,
    "start_time": "2023-07-18T14:42:09.816Z"
   },
   {
    "duration": 504,
    "start_time": "2023-07-18T14:42:37.851Z"
   },
   {
    "duration": 1418,
    "start_time": "2023-07-18T14:42:44.620Z"
   },
   {
    "duration": 46,
    "start_time": "2023-07-18T14:42:46.040Z"
   },
   {
    "duration": 12,
    "start_time": "2023-07-18T14:42:46.088Z"
   },
   {
    "duration": 31,
    "start_time": "2023-07-18T14:42:46.102Z"
   },
   {
    "duration": 23,
    "start_time": "2023-07-18T14:42:46.135Z"
   },
   {
    "duration": 32,
    "start_time": "2023-07-18T14:42:46.160Z"
   },
   {
    "duration": 34,
    "start_time": "2023-07-18T14:42:46.195Z"
   },
   {
    "duration": 7,
    "start_time": "2023-07-18T14:42:46.231Z"
   },
   {
    "duration": 37,
    "start_time": "2023-07-18T14:42:46.240Z"
   },
   {
    "duration": 27,
    "start_time": "2023-07-18T14:42:46.280Z"
   },
   {
    "duration": 25,
    "start_time": "2023-07-18T14:42:46.309Z"
   },
   {
    "duration": 40,
    "start_time": "2023-07-18T14:42:46.335Z"
   },
   {
    "duration": 573,
    "start_time": "2023-07-18T14:42:46.379Z"
   },
   {
    "duration": 1827,
    "start_time": "2023-07-18T14:42:46.954Z"
   },
   {
    "duration": 198,
    "start_time": "2023-07-18T14:42:48.782Z"
   },
   {
    "duration": 99,
    "start_time": "2023-07-18T14:42:48.982Z"
   },
   {
    "duration": 33,
    "start_time": "2023-07-18T14:42:49.082Z"
   },
   {
    "duration": 4,
    "start_time": "2023-07-18T14:42:49.117Z"
   },
   {
    "duration": 8,
    "start_time": "2023-07-18T14:42:49.123Z"
   },
   {
    "duration": 18,
    "start_time": "2023-07-18T14:42:49.132Z"
   },
   {
    "duration": 181,
    "start_time": "2023-07-18T14:42:49.152Z"
   },
   {
    "duration": 8,
    "start_time": "2023-07-18T14:42:49.335Z"
   },
   {
    "duration": 118,
    "start_time": "2023-07-18T14:48:53.948Z"
   },
   {
    "duration": 878,
    "start_time": "2023-07-18T14:49:54.280Z"
   },
   {
    "duration": 748,
    "start_time": "2023-07-18T14:51:07.759Z"
   },
   {
    "duration": 1153,
    "start_time": "2023-07-18T14:51:51.742Z"
   },
   {
    "duration": 147,
    "start_time": "2023-07-18T15:33:59.867Z"
   },
   {
    "duration": 20,
    "start_time": "2023-07-18T15:34:13.826Z"
   },
   {
    "duration": 1737,
    "start_time": "2023-07-18T15:34:28.825Z"
   },
   {
    "duration": 1927,
    "start_time": "2023-07-18T15:44:23.071Z"
   },
   {
    "duration": 1849,
    "start_time": "2023-07-18T15:44:42.551Z"
   },
   {
    "duration": 1847,
    "start_time": "2023-07-18T15:44:57.173Z"
   },
   {
    "duration": 1758,
    "start_time": "2023-07-18T15:56:39.431Z"
   },
   {
    "duration": 1701,
    "start_time": "2023-07-18T16:02:05.464Z"
   },
   {
    "duration": 1666,
    "start_time": "2023-07-18T16:02:11.584Z"
   },
   {
    "duration": 1636,
    "start_time": "2023-07-18T16:02:29.951Z"
   },
   {
    "duration": 1670,
    "start_time": "2023-07-18T16:02:44.744Z"
   },
   {
    "duration": 1657,
    "start_time": "2023-07-18T16:03:01.960Z"
   },
   {
    "duration": 1745,
    "start_time": "2023-07-18T16:03:30.430Z"
   },
   {
    "duration": 1632,
    "start_time": "2023-07-18T16:03:49.350Z"
   },
   {
    "duration": 1771,
    "start_time": "2023-07-18T16:04:08.937Z"
   },
   {
    "duration": 1627,
    "start_time": "2023-07-18T16:04:24.719Z"
   },
   {
    "duration": 1726,
    "start_time": "2023-07-18T16:04:59.176Z"
   },
   {
    "duration": 1734,
    "start_time": "2023-07-18T16:05:11.376Z"
   },
   {
    "duration": 1650,
    "start_time": "2023-07-18T16:05:28.442Z"
   },
   {
    "duration": 1659,
    "start_time": "2023-07-18T16:05:39.648Z"
   },
   {
    "duration": 1624,
    "start_time": "2023-07-18T16:05:48.544Z"
   },
   {
    "duration": 1727,
    "start_time": "2023-07-18T16:05:59.771Z"
   },
   {
    "duration": 1706,
    "start_time": "2023-07-18T16:06:10.312Z"
   },
   {
    "duration": 1702,
    "start_time": "2023-07-18T16:06:22.977Z"
   },
   {
    "duration": 1482,
    "start_time": "2023-07-18T16:06:45.205Z"
   },
   {
    "duration": 41,
    "start_time": "2023-07-18T16:06:46.688Z"
   },
   {
    "duration": 11,
    "start_time": "2023-07-18T16:06:46.730Z"
   },
   {
    "duration": 9,
    "start_time": "2023-07-18T16:06:46.744Z"
   },
   {
    "duration": 13,
    "start_time": "2023-07-18T16:06:46.755Z"
   },
   {
    "duration": 11,
    "start_time": "2023-07-18T16:06:46.770Z"
   },
   {
    "duration": 26,
    "start_time": "2023-07-18T16:06:46.783Z"
   },
   {
    "duration": 3,
    "start_time": "2023-07-18T16:06:46.811Z"
   },
   {
    "duration": 8,
    "start_time": "2023-07-18T16:06:46.815Z"
   },
   {
    "duration": 7,
    "start_time": "2023-07-18T16:06:46.826Z"
   },
   {
    "duration": 10,
    "start_time": "2023-07-18T16:06:46.834Z"
   },
   {
    "duration": 7,
    "start_time": "2023-07-18T16:06:46.846Z"
   },
   {
    "duration": 1748,
    "start_time": "2023-07-18T16:06:46.855Z"
   },
   {
    "duration": 2093,
    "start_time": "2023-07-18T16:06:48.605Z"
   },
   {
    "duration": 700,
    "start_time": "2023-07-18T16:06:50.700Z"
   },
   {
    "duration": 96,
    "start_time": "2023-07-18T16:06:51.481Z"
   },
   {
    "duration": 28,
    "start_time": "2023-07-18T16:06:51.579Z"
   },
   {
    "duration": 21,
    "start_time": "2023-07-18T16:06:51.609Z"
   },
   {
    "duration": 25,
    "start_time": "2023-07-18T16:06:51.632Z"
   },
   {
    "duration": 28,
    "start_time": "2023-07-18T16:06:51.659Z"
   },
   {
    "duration": 191,
    "start_time": "2023-07-18T16:06:51.689Z"
   },
   {
    "duration": 8,
    "start_time": "2023-07-18T16:06:51.882Z"
   },
   {
    "duration": 1716,
    "start_time": "2023-07-18T16:07:36.568Z"
   },
   {
    "duration": 1685,
    "start_time": "2023-07-18T16:07:58.444Z"
   },
   {
    "duration": 1737,
    "start_time": "2023-07-18T16:08:14.381Z"
   },
   {
    "duration": 1708,
    "start_time": "2023-07-18T16:08:31.190Z"
   },
   {
    "duration": 1666,
    "start_time": "2023-07-18T16:08:44.118Z"
   },
   {
    "duration": 1715,
    "start_time": "2023-07-18T16:08:54.901Z"
   },
   {
    "duration": 1701,
    "start_time": "2023-07-18T16:10:44.047Z"
   },
   {
    "duration": 1723,
    "start_time": "2023-07-18T16:11:28.791Z"
   },
   {
    "duration": 1760,
    "start_time": "2023-07-18T16:12:03.064Z"
   },
   {
    "duration": 1647,
    "start_time": "2023-07-18T16:12:16.279Z"
   },
   {
    "duration": 1657,
    "start_time": "2023-07-18T16:14:30.121Z"
   },
   {
    "duration": 1678,
    "start_time": "2023-07-18T16:18:31.816Z"
   },
   {
    "duration": 5,
    "start_time": "2023-07-18T16:18:48.960Z"
   },
   {
    "duration": 1329,
    "start_time": "2023-07-18T16:18:59.618Z"
   },
   {
    "duration": 1762,
    "start_time": "2023-07-18T16:20:02.778Z"
   },
   {
    "duration": 1564,
    "start_time": "2023-07-18T16:20:18.805Z"
   },
   {
    "duration": 1676,
    "start_time": "2023-07-18T16:20:59.740Z"
   },
   {
    "duration": 1583,
    "start_time": "2023-07-18T16:21:16.651Z"
   },
   {
    "duration": 1683,
    "start_time": "2023-07-18T16:21:39.931Z"
   },
   {
    "duration": 1739,
    "start_time": "2023-07-18T16:21:53.467Z"
   },
   {
    "duration": 1652,
    "start_time": "2023-07-18T16:22:47.529Z"
   },
   {
    "duration": 1400,
    "start_time": "2023-07-18T16:23:00.186Z"
   },
   {
    "duration": 42,
    "start_time": "2023-07-18T16:23:01.588Z"
   },
   {
    "duration": 45,
    "start_time": "2023-07-18T16:23:01.632Z"
   },
   {
    "duration": 45,
    "start_time": "2023-07-18T16:23:01.679Z"
   },
   {
    "duration": 59,
    "start_time": "2023-07-18T16:23:01.727Z"
   },
   {
    "duration": 56,
    "start_time": "2023-07-18T16:23:01.787Z"
   },
   {
    "duration": 74,
    "start_time": "2023-07-18T16:23:01.845Z"
   },
   {
    "duration": 25,
    "start_time": "2023-07-18T16:23:01.922Z"
   },
   {
    "duration": 33,
    "start_time": "2023-07-18T16:23:01.949Z"
   },
   {
    "duration": 27,
    "start_time": "2023-07-18T16:23:01.984Z"
   },
   {
    "duration": 35,
    "start_time": "2023-07-18T16:23:02.013Z"
   },
   {
    "duration": 30,
    "start_time": "2023-07-18T16:23:02.050Z"
   },
   {
    "duration": 1746,
    "start_time": "2023-07-18T16:23:02.081Z"
   },
   {
    "duration": 1895,
    "start_time": "2023-07-18T16:23:03.831Z"
   },
   {
    "duration": 155,
    "start_time": "2023-07-18T16:23:05.727Z"
   },
   {
    "duration": 97,
    "start_time": "2023-07-18T16:23:05.884Z"
   },
   {
    "duration": 20,
    "start_time": "2023-07-18T16:23:05.983Z"
   },
   {
    "duration": 79,
    "start_time": "2023-07-18T16:23:06.005Z"
   },
   {
    "duration": 19,
    "start_time": "2023-07-18T16:23:06.086Z"
   },
   {
    "duration": 23,
    "start_time": "2023-07-18T16:23:06.106Z"
   },
   {
    "duration": 168,
    "start_time": "2023-07-18T16:23:06.131Z"
   },
   {
    "duration": 8,
    "start_time": "2023-07-18T16:23:06.301Z"
   },
   {
    "duration": 1582,
    "start_time": "2023-07-18T16:23:53.248Z"
   },
   {
    "duration": 1673,
    "start_time": "2023-07-18T16:24:25.887Z"
   },
   {
    "duration": 1647,
    "start_time": "2023-07-18T16:24:33.759Z"
   },
   {
    "duration": 1585,
    "start_time": "2023-07-18T16:25:21.806Z"
   },
   {
    "duration": 1681,
    "start_time": "2023-07-18T16:25:58.319Z"
   },
   {
    "duration": 1603,
    "start_time": "2023-07-18T16:26:36.267Z"
   },
   {
    "duration": 1549,
    "start_time": "2023-07-18T16:26:50.503Z"
   },
   {
    "duration": 1788,
    "start_time": "2023-07-18T16:27:21.874Z"
   },
   {
    "duration": 1583,
    "start_time": "2023-07-18T16:30:16.676Z"
   },
   {
    "duration": 41,
    "start_time": "2023-07-18T16:30:18.261Z"
   },
   {
    "duration": 12,
    "start_time": "2023-07-18T16:30:18.304Z"
   },
   {
    "duration": 14,
    "start_time": "2023-07-18T16:30:18.318Z"
   },
   {
    "duration": 7,
    "start_time": "2023-07-18T16:30:18.334Z"
   },
   {
    "duration": 22,
    "start_time": "2023-07-18T16:30:18.343Z"
   },
   {
    "duration": 26,
    "start_time": "2023-07-18T16:30:18.366Z"
   },
   {
    "duration": 4,
    "start_time": "2023-07-18T16:30:18.394Z"
   },
   {
    "duration": 8,
    "start_time": "2023-07-18T16:30:18.400Z"
   },
   {
    "duration": 14,
    "start_time": "2023-07-18T16:30:18.410Z"
   },
   {
    "duration": 13,
    "start_time": "2023-07-18T16:30:18.425Z"
   },
   {
    "duration": 13,
    "start_time": "2023-07-18T16:30:18.440Z"
   },
   {
    "duration": 90,
    "start_time": "2023-07-18T16:30:18.455Z"
   },
   {
    "duration": 0,
    "start_time": "2023-07-18T16:30:18.547Z"
   },
   {
    "duration": 0,
    "start_time": "2023-07-18T16:30:18.548Z"
   },
   {
    "duration": 0,
    "start_time": "2023-07-18T16:30:18.549Z"
   },
   {
    "duration": 0,
    "start_time": "2023-07-18T16:30:18.550Z"
   },
   {
    "duration": 0,
    "start_time": "2023-07-18T16:30:18.551Z"
   },
   {
    "duration": 0,
    "start_time": "2023-07-18T16:30:18.553Z"
   },
   {
    "duration": 0,
    "start_time": "2023-07-18T16:30:18.554Z"
   },
   {
    "duration": 0,
    "start_time": "2023-07-18T16:30:18.555Z"
   },
   {
    "duration": 0,
    "start_time": "2023-07-18T16:30:18.555Z"
   },
   {
    "duration": 0,
    "start_time": "2023-07-18T16:30:18.557Z"
   },
   {
    "duration": 104,
    "start_time": "2023-07-18T16:30:45.756Z"
   },
   {
    "duration": 1379,
    "start_time": "2023-07-18T16:30:51.489Z"
   },
   {
    "duration": 41,
    "start_time": "2023-07-18T16:30:52.870Z"
   },
   {
    "duration": 12,
    "start_time": "2023-07-18T16:30:52.913Z"
   },
   {
    "duration": 14,
    "start_time": "2023-07-18T16:30:52.927Z"
   },
   {
    "duration": 6,
    "start_time": "2023-07-18T16:30:52.942Z"
   },
   {
    "duration": 12,
    "start_time": "2023-07-18T16:30:52.950Z"
   },
   {
    "duration": 20,
    "start_time": "2023-07-18T16:30:52.964Z"
   },
   {
    "duration": 3,
    "start_time": "2023-07-18T16:30:52.986Z"
   },
   {
    "duration": 19,
    "start_time": "2023-07-18T16:30:52.990Z"
   },
   {
    "duration": 7,
    "start_time": "2023-07-18T16:30:53.013Z"
   },
   {
    "duration": 13,
    "start_time": "2023-07-18T16:30:53.022Z"
   },
   {
    "duration": 7,
    "start_time": "2023-07-18T16:30:53.037Z"
   },
   {
    "duration": 88,
    "start_time": "2023-07-18T16:30:53.045Z"
   },
   {
    "duration": 0,
    "start_time": "2023-07-18T16:30:53.135Z"
   },
   {
    "duration": 0,
    "start_time": "2023-07-18T16:30:53.136Z"
   },
   {
    "duration": 0,
    "start_time": "2023-07-18T16:30:53.137Z"
   },
   {
    "duration": 0,
    "start_time": "2023-07-18T16:30:53.138Z"
   },
   {
    "duration": 0,
    "start_time": "2023-07-18T16:30:53.140Z"
   },
   {
    "duration": 0,
    "start_time": "2023-07-18T16:30:53.141Z"
   },
   {
    "duration": 0,
    "start_time": "2023-07-18T16:30:53.142Z"
   },
   {
    "duration": 0,
    "start_time": "2023-07-18T16:30:53.143Z"
   },
   {
    "duration": 0,
    "start_time": "2023-07-18T16:30:53.144Z"
   },
   {
    "duration": 0,
    "start_time": "2023-07-18T16:30:53.144Z"
   },
   {
    "duration": 122,
    "start_time": "2023-07-18T16:31:06.760Z"
   },
   {
    "duration": 2055,
    "start_time": "2023-07-18T16:31:28.256Z"
   },
   {
    "duration": 1519,
    "start_time": "2023-07-18T16:31:34.951Z"
   },
   {
    "duration": 4,
    "start_time": "2023-07-18T16:31:44.990Z"
   },
   {
    "duration": 9,
    "start_time": "2023-07-18T16:31:56.349Z"
   },
   {
    "duration": 2170,
    "start_time": "2023-07-18T16:34:14.061Z"
   },
   {
    "duration": 1711,
    "start_time": "2023-07-18T16:34:53.415Z"
   },
   {
    "duration": 1776,
    "start_time": "2023-07-18T16:34:58.913Z"
   },
   {
    "duration": 1951,
    "start_time": "2023-07-18T16:35:26.586Z"
   },
   {
    "duration": 1881,
    "start_time": "2023-07-18T16:45:57.438Z"
   },
   {
    "duration": 2068,
    "start_time": "2023-07-18T16:46:15.140Z"
   },
   {
    "duration": 1789,
    "start_time": "2023-07-18T16:47:35.046Z"
   },
   {
    "duration": 13,
    "start_time": "2023-07-18T16:48:50.285Z"
   },
   {
    "duration": 12,
    "start_time": "2023-07-18T16:49:55.143Z"
   },
   {
    "duration": 11,
    "start_time": "2023-07-18T16:50:02.261Z"
   },
   {
    "duration": 11,
    "start_time": "2023-07-18T16:50:11.181Z"
   },
   {
    "duration": 18,
    "start_time": "2023-07-18T16:50:16.965Z"
   },
   {
    "duration": 18,
    "start_time": "2023-07-18T16:51:01.245Z"
   },
   {
    "duration": 12,
    "start_time": "2023-07-18T16:52:08.287Z"
   },
   {
    "duration": 10,
    "start_time": "2023-07-18T16:52:19.247Z"
   },
   {
    "duration": 1851,
    "start_time": "2023-07-18T16:52:48.424Z"
   },
   {
    "duration": 1711,
    "start_time": "2023-07-18T16:53:24.345Z"
   },
   {
    "duration": 1771,
    "start_time": "2023-07-18T16:53:44.151Z"
   },
   {
    "duration": 1685,
    "start_time": "2023-07-18T16:53:51.543Z"
   },
   {
    "duration": 1738,
    "start_time": "2023-07-18T16:54:00.176Z"
   },
   {
    "duration": 1823,
    "start_time": "2023-07-18T16:56:22.581Z"
   },
   {
    "duration": 1863,
    "start_time": "2023-07-18T16:56:39.147Z"
   },
   {
    "duration": 1801,
    "start_time": "2023-07-18T16:57:18.699Z"
   },
   {
    "duration": 1786,
    "start_time": "2023-07-18T16:58:05.371Z"
   },
   {
    "duration": 111,
    "start_time": "2023-07-18T16:59:22.347Z"
   },
   {
    "duration": 115,
    "start_time": "2023-07-18T16:59:50.427Z"
   },
   {
    "duration": 1681,
    "start_time": "2023-07-18T17:00:04.379Z"
   },
   {
    "duration": 9,
    "start_time": "2023-07-18T17:01:00.855Z"
   },
   {
    "duration": 1354,
    "start_time": "2023-07-18T17:01:24.148Z"
   },
   {
    "duration": 1472,
    "start_time": "2023-07-18T17:01:47.515Z"
   },
   {
    "duration": 9,
    "start_time": "2023-07-18T17:02:01.649Z"
   },
   {
    "duration": 1634,
    "start_time": "2023-07-18T17:02:12.765Z"
   },
   {
    "duration": 9,
    "start_time": "2023-07-18T17:02:17.225Z"
   },
   {
    "duration": 1796,
    "start_time": "2023-07-18T17:02:34.514Z"
   },
   {
    "duration": 10,
    "start_time": "2023-07-18T17:02:39.003Z"
   },
   {
    "duration": 2345,
    "start_time": "2023-07-18T17:03:42.788Z"
   },
   {
    "duration": 10,
    "start_time": "2023-07-18T17:03:49.685Z"
   },
   {
    "duration": 940,
    "start_time": "2023-07-18T17:04:04.171Z"
   },
   {
    "duration": 11,
    "start_time": "2023-07-18T17:04:08.419Z"
   },
   {
    "duration": 2394,
    "start_time": "2023-07-18T17:04:36.691Z"
   },
   {
    "duration": 11,
    "start_time": "2023-07-18T17:04:41.483Z"
   },
   {
    "duration": 953,
    "start_time": "2023-07-18T17:07:41.324Z"
   },
   {
    "duration": 10,
    "start_time": "2023-07-18T17:07:47.644Z"
   },
   {
    "duration": 2491,
    "start_time": "2023-07-18T17:11:29.190Z"
   },
   {
    "duration": 9,
    "start_time": "2023-07-18T17:11:39.094Z"
   },
   {
    "duration": 10,
    "start_time": "2023-07-18T17:11:52.557Z"
   },
   {
    "duration": 8,
    "start_time": "2023-07-18T17:11:57.299Z"
   },
   {
    "duration": 13,
    "start_time": "2023-07-18T17:12:04.348Z"
   },
   {
    "duration": 1430,
    "start_time": "2023-07-18T17:12:10.783Z"
   },
   {
    "duration": 39,
    "start_time": "2023-07-18T17:12:12.215Z"
   },
   {
    "duration": 10,
    "start_time": "2023-07-18T17:12:12.256Z"
   },
   {
    "duration": 6,
    "start_time": "2023-07-18T17:12:12.268Z"
   },
   {
    "duration": 3,
    "start_time": "2023-07-18T17:12:12.276Z"
   },
   {
    "duration": 22,
    "start_time": "2023-07-18T17:12:12.281Z"
   },
   {
    "duration": 30,
    "start_time": "2023-07-18T17:12:12.305Z"
   },
   {
    "duration": 5,
    "start_time": "2023-07-18T17:12:12.336Z"
   },
   {
    "duration": 8,
    "start_time": "2023-07-18T17:12:12.342Z"
   },
   {
    "duration": 6,
    "start_time": "2023-07-18T17:12:12.352Z"
   },
   {
    "duration": 15,
    "start_time": "2023-07-18T17:12:12.360Z"
   },
   {
    "duration": 8,
    "start_time": "2023-07-18T17:12:12.376Z"
   },
   {
    "duration": 134,
    "start_time": "2023-07-18T17:12:12.385Z"
   },
   {
    "duration": 0,
    "start_time": "2023-07-18T17:12:12.521Z"
   },
   {
    "duration": 0,
    "start_time": "2023-07-18T17:12:12.522Z"
   },
   {
    "duration": 0,
    "start_time": "2023-07-18T17:12:12.524Z"
   },
   {
    "duration": 0,
    "start_time": "2023-07-18T17:12:12.525Z"
   },
   {
    "duration": 0,
    "start_time": "2023-07-18T17:12:12.525Z"
   },
   {
    "duration": 0,
    "start_time": "2023-07-18T17:12:12.526Z"
   },
   {
    "duration": 0,
    "start_time": "2023-07-18T17:12:12.528Z"
   },
   {
    "duration": 0,
    "start_time": "2023-07-18T17:12:12.529Z"
   },
   {
    "duration": 0,
    "start_time": "2023-07-18T17:12:12.530Z"
   },
   {
    "duration": 0,
    "start_time": "2023-07-18T17:12:12.531Z"
   },
   {
    "duration": 2345,
    "start_time": "2023-07-18T17:12:53.822Z"
   },
   {
    "duration": 1375,
    "start_time": "2023-07-18T17:13:03.406Z"
   },
   {
    "duration": 40,
    "start_time": "2023-07-18T17:13:04.783Z"
   },
   {
    "duration": 11,
    "start_time": "2023-07-18T17:13:04.825Z"
   },
   {
    "duration": 12,
    "start_time": "2023-07-18T17:13:04.839Z"
   },
   {
    "duration": 4,
    "start_time": "2023-07-18T17:13:04.852Z"
   },
   {
    "duration": 14,
    "start_time": "2023-07-18T17:13:04.858Z"
   },
   {
    "duration": 20,
    "start_time": "2023-07-18T17:13:04.874Z"
   },
   {
    "duration": 4,
    "start_time": "2023-07-18T17:13:04.896Z"
   },
   {
    "duration": 9,
    "start_time": "2023-07-18T17:13:04.901Z"
   },
   {
    "duration": 4,
    "start_time": "2023-07-18T17:13:04.913Z"
   },
   {
    "duration": 16,
    "start_time": "2023-07-18T17:13:04.919Z"
   },
   {
    "duration": 11,
    "start_time": "2023-07-18T17:13:04.936Z"
   },
   {
    "duration": 2469,
    "start_time": "2023-07-18T17:13:04.949Z"
   },
   {
    "duration": 10,
    "start_time": "2023-07-18T17:13:07.420Z"
   },
   {
    "duration": 1868,
    "start_time": "2023-07-18T17:13:07.431Z"
   },
   {
    "duration": 187,
    "start_time": "2023-07-18T17:13:09.302Z"
   },
   {
    "duration": 98,
    "start_time": "2023-07-18T17:13:09.580Z"
   },
   {
    "duration": 10,
    "start_time": "2023-07-18T17:13:09.679Z"
   },
   {
    "duration": 6,
    "start_time": "2023-07-18T17:13:09.691Z"
   },
   {
    "duration": 14,
    "start_time": "2023-07-18T17:13:09.698Z"
   },
   {
    "duration": 6,
    "start_time": "2023-07-18T17:13:09.713Z"
   },
   {
    "duration": 173,
    "start_time": "2023-07-18T17:13:09.720Z"
   },
   {
    "duration": 8,
    "start_time": "2023-07-18T17:13:09.894Z"
   },
   {
    "duration": 1497,
    "start_time": "2023-07-18T17:13:42.858Z"
   },
   {
    "duration": 42,
    "start_time": "2023-07-18T17:13:44.357Z"
   },
   {
    "duration": 10,
    "start_time": "2023-07-18T17:13:44.401Z"
   },
   {
    "duration": 21,
    "start_time": "2023-07-18T17:13:44.414Z"
   },
   {
    "duration": 24,
    "start_time": "2023-07-18T17:13:44.437Z"
   },
   {
    "duration": 19,
    "start_time": "2023-07-18T17:13:44.463Z"
   },
   {
    "duration": 33,
    "start_time": "2023-07-18T17:13:44.483Z"
   },
   {
    "duration": 5,
    "start_time": "2023-07-18T17:13:44.518Z"
   },
   {
    "duration": 28,
    "start_time": "2023-07-18T17:13:44.524Z"
   },
   {
    "duration": 12,
    "start_time": "2023-07-18T17:13:44.554Z"
   },
   {
    "duration": 9,
    "start_time": "2023-07-18T17:13:44.568Z"
   },
   {
    "duration": 38,
    "start_time": "2023-07-18T17:13:44.579Z"
   },
   {
    "duration": 121,
    "start_time": "2023-07-18T17:13:44.619Z"
   },
   {
    "duration": 0,
    "start_time": "2023-07-18T17:13:44.741Z"
   },
   {
    "duration": 0,
    "start_time": "2023-07-18T17:13:44.743Z"
   },
   {
    "duration": 0,
    "start_time": "2023-07-18T17:13:44.744Z"
   },
   {
    "duration": 0,
    "start_time": "2023-07-18T17:13:44.745Z"
   },
   {
    "duration": 0,
    "start_time": "2023-07-18T17:13:44.745Z"
   },
   {
    "duration": 0,
    "start_time": "2023-07-18T17:13:44.746Z"
   },
   {
    "duration": 0,
    "start_time": "2023-07-18T17:13:44.747Z"
   },
   {
    "duration": 0,
    "start_time": "2023-07-18T17:13:44.748Z"
   },
   {
    "duration": 0,
    "start_time": "2023-07-18T17:13:44.749Z"
   },
   {
    "duration": 0,
    "start_time": "2023-07-18T17:13:44.750Z"
   },
   {
    "duration": 1396,
    "start_time": "2023-07-18T17:14:14.567Z"
   },
   {
    "duration": 41,
    "start_time": "2023-07-18T17:14:15.965Z"
   },
   {
    "duration": 11,
    "start_time": "2023-07-18T17:14:16.008Z"
   },
   {
    "duration": 5,
    "start_time": "2023-07-18T17:14:16.021Z"
   },
   {
    "duration": 8,
    "start_time": "2023-07-18T17:14:16.028Z"
   },
   {
    "duration": 10,
    "start_time": "2023-07-18T17:14:16.038Z"
   },
   {
    "duration": 26,
    "start_time": "2023-07-18T17:14:16.049Z"
   },
   {
    "duration": 4,
    "start_time": "2023-07-18T17:14:16.077Z"
   },
   {
    "duration": 29,
    "start_time": "2023-07-18T17:14:16.082Z"
   },
   {
    "duration": 11,
    "start_time": "2023-07-18T17:14:16.113Z"
   },
   {
    "duration": 6,
    "start_time": "2023-07-18T17:14:16.126Z"
   },
   {
    "duration": 7,
    "start_time": "2023-07-18T17:14:16.134Z"
   },
   {
    "duration": 120,
    "start_time": "2023-07-18T17:14:16.143Z"
   },
   {
    "duration": 0,
    "start_time": "2023-07-18T17:14:16.265Z"
   },
   {
    "duration": 0,
    "start_time": "2023-07-18T17:14:16.266Z"
   },
   {
    "duration": 0,
    "start_time": "2023-07-18T17:14:16.267Z"
   },
   {
    "duration": 0,
    "start_time": "2023-07-18T17:14:16.268Z"
   },
   {
    "duration": 0,
    "start_time": "2023-07-18T17:14:16.269Z"
   },
   {
    "duration": 0,
    "start_time": "2023-07-18T17:14:16.275Z"
   },
   {
    "duration": 0,
    "start_time": "2023-07-18T17:14:16.276Z"
   },
   {
    "duration": 0,
    "start_time": "2023-07-18T17:14:16.277Z"
   },
   {
    "duration": 0,
    "start_time": "2023-07-18T17:14:16.278Z"
   },
   {
    "duration": 0,
    "start_time": "2023-07-18T17:14:16.279Z"
   },
   {
    "duration": 1567,
    "start_time": "2023-07-18T17:14:45.947Z"
   },
   {
    "duration": 39,
    "start_time": "2023-07-18T17:14:47.516Z"
   },
   {
    "duration": 11,
    "start_time": "2023-07-18T17:14:47.557Z"
   },
   {
    "duration": 41,
    "start_time": "2023-07-18T17:14:47.570Z"
   },
   {
    "duration": 28,
    "start_time": "2023-07-18T17:14:47.613Z"
   },
   {
    "duration": 28,
    "start_time": "2023-07-18T17:14:47.643Z"
   },
   {
    "duration": 44,
    "start_time": "2023-07-18T17:14:47.673Z"
   },
   {
    "duration": 4,
    "start_time": "2023-07-18T17:14:47.719Z"
   },
   {
    "duration": 30,
    "start_time": "2023-07-18T17:14:47.725Z"
   },
   {
    "duration": 28,
    "start_time": "2023-07-18T17:14:47.758Z"
   },
   {
    "duration": 46,
    "start_time": "2023-07-18T17:14:47.788Z"
   },
   {
    "duration": 51,
    "start_time": "2023-07-18T17:14:47.836Z"
   },
   {
    "duration": 137,
    "start_time": "2023-07-18T17:14:47.888Z"
   },
   {
    "duration": 0,
    "start_time": "2023-07-18T17:14:48.026Z"
   },
   {
    "duration": 0,
    "start_time": "2023-07-18T17:14:48.027Z"
   },
   {
    "duration": 0,
    "start_time": "2023-07-18T17:14:48.028Z"
   },
   {
    "duration": 0,
    "start_time": "2023-07-18T17:14:48.029Z"
   },
   {
    "duration": 0,
    "start_time": "2023-07-18T17:14:48.030Z"
   },
   {
    "duration": 1,
    "start_time": "2023-07-18T17:14:48.031Z"
   },
   {
    "duration": 0,
    "start_time": "2023-07-18T17:14:48.032Z"
   },
   {
    "duration": 0,
    "start_time": "2023-07-18T17:14:48.034Z"
   },
   {
    "duration": 0,
    "start_time": "2023-07-18T17:14:48.035Z"
   },
   {
    "duration": 0,
    "start_time": "2023-07-18T17:14:48.036Z"
   },
   {
    "duration": 23,
    "start_time": "2023-07-18T17:15:15.642Z"
   },
   {
    "duration": 1402,
    "start_time": "2023-07-18T17:15:49.738Z"
   },
   {
    "duration": 40,
    "start_time": "2023-07-18T17:15:51.142Z"
   },
   {
    "duration": 11,
    "start_time": "2023-07-18T17:15:51.184Z"
   },
   {
    "duration": 22,
    "start_time": "2023-07-18T17:15:51.197Z"
   },
   {
    "duration": 7,
    "start_time": "2023-07-18T17:15:51.221Z"
   },
   {
    "duration": 14,
    "start_time": "2023-07-18T17:15:51.229Z"
   },
   {
    "duration": 31,
    "start_time": "2023-07-18T17:15:51.245Z"
   },
   {
    "duration": 4,
    "start_time": "2023-07-18T17:15:51.277Z"
   },
   {
    "duration": 10,
    "start_time": "2023-07-18T17:15:51.283Z"
   },
   {
    "duration": 9,
    "start_time": "2023-07-18T17:15:51.295Z"
   },
   {
    "duration": 6,
    "start_time": "2023-07-18T17:15:51.306Z"
   },
   {
    "duration": 14,
    "start_time": "2023-07-18T17:15:51.313Z"
   },
   {
    "duration": 127,
    "start_time": "2023-07-18T17:15:51.329Z"
   },
   {
    "duration": 0,
    "start_time": "2023-07-18T17:15:51.458Z"
   },
   {
    "duration": 0,
    "start_time": "2023-07-18T17:15:51.459Z"
   },
   {
    "duration": 0,
    "start_time": "2023-07-18T17:15:51.460Z"
   },
   {
    "duration": 0,
    "start_time": "2023-07-18T17:15:51.461Z"
   },
   {
    "duration": 0,
    "start_time": "2023-07-18T17:15:51.462Z"
   },
   {
    "duration": 0,
    "start_time": "2023-07-18T17:15:51.475Z"
   },
   {
    "duration": 0,
    "start_time": "2023-07-18T17:15:51.476Z"
   },
   {
    "duration": 0,
    "start_time": "2023-07-18T17:15:51.477Z"
   },
   {
    "duration": 0,
    "start_time": "2023-07-18T17:15:51.478Z"
   },
   {
    "duration": 0,
    "start_time": "2023-07-18T17:15:51.479Z"
   },
   {
    "duration": 1366,
    "start_time": "2023-07-18T17:17:18.524Z"
   },
   {
    "duration": 40,
    "start_time": "2023-07-18T17:17:19.892Z"
   },
   {
    "duration": 12,
    "start_time": "2023-07-18T17:17:19.934Z"
   },
   {
    "duration": 22,
    "start_time": "2023-07-18T17:17:19.948Z"
   },
   {
    "duration": 13,
    "start_time": "2023-07-18T17:17:19.971Z"
   },
   {
    "duration": 34,
    "start_time": "2023-07-18T17:17:19.986Z"
   },
   {
    "duration": 117,
    "start_time": "2023-07-18T17:17:20.022Z"
   },
   {
    "duration": 4,
    "start_time": "2023-07-18T17:17:20.141Z"
   },
   {
    "duration": 20,
    "start_time": "2023-07-18T17:17:20.147Z"
   },
   {
    "duration": 7,
    "start_time": "2023-07-18T17:17:20.169Z"
   },
   {
    "duration": 8,
    "start_time": "2023-07-18T17:17:20.178Z"
   },
   {
    "duration": 9,
    "start_time": "2023-07-18T17:17:20.188Z"
   },
   {
    "duration": 141,
    "start_time": "2023-07-18T17:17:20.198Z"
   },
   {
    "duration": 0,
    "start_time": "2023-07-18T17:17:20.341Z"
   },
   {
    "duration": 0,
    "start_time": "2023-07-18T17:17:20.342Z"
   },
   {
    "duration": 0,
    "start_time": "2023-07-18T17:17:20.343Z"
   },
   {
    "duration": 0,
    "start_time": "2023-07-18T17:17:20.344Z"
   },
   {
    "duration": 0,
    "start_time": "2023-07-18T17:17:20.345Z"
   },
   {
    "duration": 0,
    "start_time": "2023-07-18T17:17:20.346Z"
   },
   {
    "duration": 0,
    "start_time": "2023-07-18T17:17:20.348Z"
   },
   {
    "duration": 1,
    "start_time": "2023-07-18T17:17:20.348Z"
   },
   {
    "duration": 0,
    "start_time": "2023-07-18T17:17:20.349Z"
   },
   {
    "duration": 0,
    "start_time": "2023-07-18T17:17:20.350Z"
   },
   {
    "duration": 26,
    "start_time": "2023-07-18T17:17:45.031Z"
   },
   {
    "duration": 21,
    "start_time": "2023-07-18T17:17:56.985Z"
   },
   {
    "duration": 2422,
    "start_time": "2023-07-18T17:18:30.476Z"
   },
   {
    "duration": 10,
    "start_time": "2023-07-18T17:18:38.836Z"
   },
   {
    "duration": 1394,
    "start_time": "2023-07-18T17:18:48.367Z"
   },
   {
    "duration": 39,
    "start_time": "2023-07-18T17:18:49.776Z"
   },
   {
    "duration": 10,
    "start_time": "2023-07-18T17:18:49.817Z"
   },
   {
    "duration": 42,
    "start_time": "2023-07-18T17:18:49.829Z"
   },
   {
    "duration": 14,
    "start_time": "2023-07-18T17:18:49.873Z"
   },
   {
    "duration": 25,
    "start_time": "2023-07-18T17:18:49.889Z"
   },
   {
    "duration": 22,
    "start_time": "2023-07-18T17:18:49.916Z"
   },
   {
    "duration": 7,
    "start_time": "2023-07-18T17:18:49.939Z"
   },
   {
    "duration": 21,
    "start_time": "2023-07-18T17:18:49.948Z"
   },
   {
    "duration": 20,
    "start_time": "2023-07-18T17:18:49.971Z"
   },
   {
    "duration": 30,
    "start_time": "2023-07-18T17:18:49.993Z"
   },
   {
    "duration": 23,
    "start_time": "2023-07-18T17:18:50.025Z"
   },
   {
    "duration": 2447,
    "start_time": "2023-07-18T17:18:50.049Z"
   },
   {
    "duration": 11,
    "start_time": "2023-07-18T17:18:52.497Z"
   },
   {
    "duration": 1875,
    "start_time": "2023-07-18T17:18:52.509Z"
   },
   {
    "duration": 200,
    "start_time": "2023-07-18T17:18:54.386Z"
   },
   {
    "duration": 100,
    "start_time": "2023-07-18T17:18:54.677Z"
   },
   {
    "duration": 10,
    "start_time": "2023-07-18T17:18:54.779Z"
   },
   {
    "duration": 22,
    "start_time": "2023-07-18T17:18:54.790Z"
   },
   {
    "duration": 29,
    "start_time": "2023-07-18T17:18:54.814Z"
   },
   {
    "duration": 10,
    "start_time": "2023-07-18T17:18:54.845Z"
   },
   {
    "duration": 162,
    "start_time": "2023-07-18T17:18:54.857Z"
   },
   {
    "duration": 8,
    "start_time": "2023-07-18T17:18:55.020Z"
   },
   {
    "duration": 1809,
    "start_time": "2023-07-18T17:19:24.692Z"
   },
   {
    "duration": 11,
    "start_time": "2023-07-18T17:19:29.892Z"
   },
   {
    "duration": 9,
    "start_time": "2023-07-18T17:19:34.018Z"
   },
   {
    "duration": 1937,
    "start_time": "2023-07-18T17:20:16.599Z"
   },
   {
    "duration": 11,
    "start_time": "2023-07-18T17:20:20.922Z"
   },
   {
    "duration": 99,
    "start_time": "2023-07-18T17:21:01.205Z"
   },
   {
    "duration": 1825,
    "start_time": "2023-07-18T17:21:07.014Z"
   },
   {
    "duration": 10,
    "start_time": "2023-07-18T17:21:11.012Z"
   },
   {
    "duration": 1441,
    "start_time": "2023-07-18T17:21:17.442Z"
   },
   {
    "duration": 41,
    "start_time": "2023-07-18T17:21:18.885Z"
   },
   {
    "duration": 11,
    "start_time": "2023-07-18T17:21:18.928Z"
   },
   {
    "duration": 11,
    "start_time": "2023-07-18T17:21:18.940Z"
   },
   {
    "duration": 7,
    "start_time": "2023-07-18T17:21:18.953Z"
   },
   {
    "duration": 16,
    "start_time": "2023-07-18T17:21:18.961Z"
   },
   {
    "duration": 35,
    "start_time": "2023-07-18T17:21:18.978Z"
   },
   {
    "duration": 3,
    "start_time": "2023-07-18T17:21:19.015Z"
   },
   {
    "duration": 7,
    "start_time": "2023-07-18T17:21:19.020Z"
   },
   {
    "duration": 8,
    "start_time": "2023-07-18T17:21:19.029Z"
   },
   {
    "duration": 12,
    "start_time": "2023-07-18T17:21:19.038Z"
   },
   {
    "duration": 7,
    "start_time": "2023-07-18T17:21:19.052Z"
   },
   {
    "duration": 1832,
    "start_time": "2023-07-18T17:21:19.061Z"
   },
   {
    "duration": 11,
    "start_time": "2023-07-18T17:21:20.895Z"
   },
   {
    "duration": 1900,
    "start_time": "2023-07-18T17:21:20.908Z"
   },
   {
    "duration": 266,
    "start_time": "2023-07-18T17:21:22.810Z"
   },
   {
    "duration": 104,
    "start_time": "2023-07-18T17:21:23.079Z"
   },
   {
    "duration": 15,
    "start_time": "2023-07-18T17:21:23.185Z"
   },
   {
    "duration": 8,
    "start_time": "2023-07-18T17:21:23.202Z"
   },
   {
    "duration": 13,
    "start_time": "2023-07-18T17:21:23.212Z"
   },
   {
    "duration": 6,
    "start_time": "2023-07-18T17:21:23.227Z"
   },
   {
    "duration": 166,
    "start_time": "2023-07-18T17:21:23.234Z"
   },
   {
    "duration": 8,
    "start_time": "2023-07-18T17:21:23.402Z"
   },
   {
    "duration": 2384,
    "start_time": "2023-07-18T17:23:03.075Z"
   },
   {
    "duration": 9,
    "start_time": "2023-07-18T17:23:08.881Z"
   },
   {
    "duration": 1448,
    "start_time": "2023-07-18T17:23:21.801Z"
   },
   {
    "duration": 41,
    "start_time": "2023-07-18T17:23:23.251Z"
   },
   {
    "duration": 11,
    "start_time": "2023-07-18T17:23:23.294Z"
   },
   {
    "duration": 16,
    "start_time": "2023-07-18T17:23:23.307Z"
   },
   {
    "duration": 19,
    "start_time": "2023-07-18T17:23:23.324Z"
   },
   {
    "duration": 33,
    "start_time": "2023-07-18T17:23:23.345Z"
   },
   {
    "duration": 46,
    "start_time": "2023-07-18T17:23:23.380Z"
   },
   {
    "duration": 3,
    "start_time": "2023-07-18T17:23:23.428Z"
   },
   {
    "duration": 27,
    "start_time": "2023-07-18T17:23:23.433Z"
   },
   {
    "duration": 36,
    "start_time": "2023-07-18T17:23:23.463Z"
   },
   {
    "duration": 26,
    "start_time": "2023-07-18T17:23:23.501Z"
   },
   {
    "duration": 25,
    "start_time": "2023-07-18T17:23:23.528Z"
   },
   {
    "duration": 2364,
    "start_time": "2023-07-18T17:23:23.556Z"
   },
   {
    "duration": 9,
    "start_time": "2023-07-18T17:23:25.921Z"
   },
   {
    "duration": 1897,
    "start_time": "2023-07-18T17:23:25.932Z"
   },
   {
    "duration": 346,
    "start_time": "2023-07-18T17:23:27.831Z"
   },
   {
    "duration": 100,
    "start_time": "2023-07-18T17:23:28.180Z"
   },
   {
    "duration": 10,
    "start_time": "2023-07-18T17:23:28.282Z"
   },
   {
    "duration": 7,
    "start_time": "2023-07-18T17:23:28.293Z"
   },
   {
    "duration": 10,
    "start_time": "2023-07-18T17:23:28.301Z"
   },
   {
    "duration": 4,
    "start_time": "2023-07-18T17:23:28.313Z"
   },
   {
    "duration": 175,
    "start_time": "2023-07-18T17:23:28.319Z"
   },
   {
    "duration": 8,
    "start_time": "2023-07-18T17:23:28.497Z"
   },
   {
    "duration": 1820,
    "start_time": "2023-07-18T17:24:06.088Z"
   },
   {
    "duration": 10,
    "start_time": "2023-07-18T17:24:09.802Z"
   },
   {
    "duration": 1451,
    "start_time": "2023-07-18T17:24:19.668Z"
   },
   {
    "duration": 41,
    "start_time": "2023-07-18T17:24:21.121Z"
   },
   {
    "duration": 12,
    "start_time": "2023-07-18T17:24:21.164Z"
   },
   {
    "duration": 12,
    "start_time": "2023-07-18T17:24:21.178Z"
   },
   {
    "duration": 13,
    "start_time": "2023-07-18T17:24:21.192Z"
   },
   {
    "duration": 16,
    "start_time": "2023-07-18T17:24:21.207Z"
   },
   {
    "duration": 20,
    "start_time": "2023-07-18T17:24:21.225Z"
   },
   {
    "duration": 4,
    "start_time": "2023-07-18T17:24:21.246Z"
   },
   {
    "duration": 17,
    "start_time": "2023-07-18T17:24:21.252Z"
   },
   {
    "duration": 5,
    "start_time": "2023-07-18T17:24:21.272Z"
   },
   {
    "duration": 13,
    "start_time": "2023-07-18T17:24:21.278Z"
   },
   {
    "duration": 4,
    "start_time": "2023-07-18T17:24:21.293Z"
   },
   {
    "duration": 1815,
    "start_time": "2023-07-18T17:24:21.299Z"
   },
   {
    "duration": 10,
    "start_time": "2023-07-18T17:24:23.116Z"
   },
   {
    "duration": 1882,
    "start_time": "2023-07-18T17:24:23.128Z"
   },
   {
    "duration": 371,
    "start_time": "2023-07-18T17:24:25.012Z"
   },
   {
    "duration": 94,
    "start_time": "2023-07-18T17:24:25.385Z"
   },
   {
    "duration": 118,
    "start_time": "2023-07-18T17:24:25.481Z"
   },
   {
    "duration": 5,
    "start_time": "2023-07-18T17:24:25.601Z"
   },
   {
    "duration": 11,
    "start_time": "2023-07-18T17:24:25.607Z"
   },
   {
    "duration": 11,
    "start_time": "2023-07-18T17:24:25.620Z"
   },
   {
    "duration": 153,
    "start_time": "2023-07-18T17:24:25.633Z"
   },
   {
    "duration": 7,
    "start_time": "2023-07-18T17:24:25.787Z"
   },
   {
    "duration": 1853,
    "start_time": "2023-07-18T17:26:01.454Z"
   },
   {
    "duration": 1863,
    "start_time": "2023-07-18T17:26:12.463Z"
   },
   {
    "duration": 1778,
    "start_time": "2023-07-18T17:26:48.408Z"
   },
   {
    "duration": 1887,
    "start_time": "2023-07-18T17:27:31.739Z"
   },
   {
    "duration": 1775,
    "start_time": "2023-07-18T17:28:42.631Z"
   },
   {
    "duration": 1729,
    "start_time": "2023-07-18T17:29:08.872Z"
   },
   {
    "duration": 1735,
    "start_time": "2023-07-18T17:29:17.602Z"
   },
   {
    "duration": 10,
    "start_time": "2023-07-18T17:29:26.543Z"
   },
   {
    "duration": 1871,
    "start_time": "2023-07-18T17:29:42.352Z"
   },
   {
    "duration": 12,
    "start_time": "2023-07-18T17:30:02.048Z"
   },
   {
    "duration": 1559,
    "start_time": "2023-07-18T17:30:10.735Z"
   },
   {
    "duration": 45,
    "start_time": "2023-07-18T17:30:12.296Z"
   },
   {
    "duration": 13,
    "start_time": "2023-07-18T17:30:12.343Z"
   },
   {
    "duration": 12,
    "start_time": "2023-07-18T17:30:12.358Z"
   },
   {
    "duration": 11,
    "start_time": "2023-07-18T17:30:12.373Z"
   },
   {
    "duration": 11,
    "start_time": "2023-07-18T17:30:12.386Z"
   },
   {
    "duration": 20,
    "start_time": "2023-07-18T17:30:12.399Z"
   },
   {
    "duration": 4,
    "start_time": "2023-07-18T17:30:12.421Z"
   },
   {
    "duration": 8,
    "start_time": "2023-07-18T17:30:12.426Z"
   },
   {
    "duration": 5,
    "start_time": "2023-07-18T17:30:12.436Z"
   },
   {
    "duration": 15,
    "start_time": "2023-07-18T17:30:12.443Z"
   },
   {
    "duration": 16,
    "start_time": "2023-07-18T17:30:12.460Z"
   },
   {
    "duration": 1914,
    "start_time": "2023-07-18T17:30:12.477Z"
   },
   {
    "duration": 10,
    "start_time": "2023-07-18T17:30:14.394Z"
   },
   {
    "duration": 1989,
    "start_time": "2023-07-18T17:30:14.405Z"
   },
   {
    "duration": 192,
    "start_time": "2023-07-18T17:30:16.396Z"
   },
   {
    "duration": 111,
    "start_time": "2023-07-18T17:30:16.675Z"
   },
   {
    "duration": 30,
    "start_time": "2023-07-18T17:30:16.788Z"
   },
   {
    "duration": 9,
    "start_time": "2023-07-18T17:30:16.820Z"
   },
   {
    "duration": 12,
    "start_time": "2023-07-18T17:30:16.830Z"
   },
   {
    "duration": 7,
    "start_time": "2023-07-18T17:30:16.844Z"
   },
   {
    "duration": 165,
    "start_time": "2023-07-18T17:30:16.852Z"
   },
   {
    "duration": 8,
    "start_time": "2023-07-18T17:30:17.018Z"
   },
   {
    "duration": 4529,
    "start_time": "2023-07-18T18:33:05.223Z"
   },
   {
    "duration": 1844,
    "start_time": "2023-07-18T18:33:11.570Z"
   },
   {
    "duration": 1805,
    "start_time": "2023-07-18T18:35:53.128Z"
   },
   {
    "duration": 1966,
    "start_time": "2023-07-18T18:37:20.619Z"
   },
   {
    "duration": 3939,
    "start_time": "2023-07-18T19:02:15.322Z"
   },
   {
    "duration": 17578,
    "start_time": "2023-07-18T19:03:23.785Z"
   },
   {
    "duration": 17642,
    "start_time": "2023-07-18T19:06:13.955Z"
   },
   {
    "duration": 121,
    "start_time": "2023-07-18T19:09:09.461Z"
   },
   {
    "duration": 19396,
    "start_time": "2023-07-18T19:09:20.680Z"
   },
   {
    "duration": 11,
    "start_time": "2023-07-18T19:09:48.747Z"
   },
   {
    "duration": 21180,
    "start_time": "2023-07-18T19:11:53.160Z"
   },
   {
    "duration": 46782,
    "start_time": "2023-07-18T19:12:36.106Z"
   },
   {
    "duration": 62611,
    "start_time": "2023-07-18T19:14:25.801Z"
   },
   {
    "duration": 10,
    "start_time": "2023-07-18T19:15:36.494Z"
   },
   {
    "duration": 292517,
    "start_time": "2023-07-18T19:15:49.279Z"
   },
   {
    "duration": 11,
    "start_time": "2023-07-18T19:20:57.318Z"
   },
   {
    "duration": 1916,
    "start_time": "2023-07-18T19:24:27.204Z"
   },
   {
    "duration": 10,
    "start_time": "2023-07-18T19:24:31.874Z"
   },
   {
    "duration": 103,
    "start_time": "2023-07-18T19:25:19.565Z"
   },
   {
    "duration": 91,
    "start_time": "2023-07-18T19:25:36.588Z"
   },
   {
    "duration": 107,
    "start_time": "2023-07-18T19:26:04.609Z"
   },
   {
    "duration": 114,
    "start_time": "2023-07-18T19:26:21.076Z"
   },
   {
    "duration": 11,
    "start_time": "2023-07-18T19:26:40.331Z"
   },
   {
    "duration": 21,
    "start_time": "2023-07-18T19:26:47.115Z"
   },
   {
    "duration": 19,
    "start_time": "2023-07-18T19:27:01.187Z"
   },
   {
    "duration": 18,
    "start_time": "2023-07-18T19:27:39.140Z"
   },
   {
    "duration": 18,
    "start_time": "2023-07-18T19:27:47.995Z"
   },
   {
    "duration": 22,
    "start_time": "2023-07-18T19:28:01.275Z"
   },
   {
    "duration": 12,
    "start_time": "2023-07-18T19:28:09.203Z"
   },
   {
    "duration": 10,
    "start_time": "2023-07-18T19:28:16.317Z"
   },
   {
    "duration": 12,
    "start_time": "2023-07-18T19:29:19.647Z"
   },
   {
    "duration": 13,
    "start_time": "2023-07-18T19:30:02.789Z"
   },
   {
    "duration": 10,
    "start_time": "2023-07-18T19:30:34.045Z"
   },
   {
    "duration": 20,
    "start_time": "2023-07-18T19:30:37.468Z"
   },
   {
    "duration": 1408,
    "start_time": "2023-07-18T19:33:32.829Z"
   },
   {
    "duration": 42,
    "start_time": "2023-07-18T19:33:34.239Z"
   },
   {
    "duration": 13,
    "start_time": "2023-07-18T19:33:34.286Z"
   },
   {
    "duration": 13,
    "start_time": "2023-07-18T19:33:34.302Z"
   },
   {
    "duration": 6,
    "start_time": "2023-07-18T19:33:34.317Z"
   },
   {
    "duration": 12,
    "start_time": "2023-07-18T19:33:34.325Z"
   },
   {
    "duration": 21,
    "start_time": "2023-07-18T19:33:34.339Z"
   },
   {
    "duration": 15,
    "start_time": "2023-07-18T19:33:34.362Z"
   },
   {
    "duration": 6,
    "start_time": "2023-07-18T19:33:34.388Z"
   },
   {
    "duration": 6,
    "start_time": "2023-07-18T19:33:34.396Z"
   },
   {
    "duration": 14,
    "start_time": "2023-07-18T19:33:34.404Z"
   },
   {
    "duration": 8,
    "start_time": "2023-07-18T19:33:34.420Z"
   },
   {
    "duration": 134,
    "start_time": "2023-07-18T19:33:34.430Z"
   },
   {
    "duration": 0,
    "start_time": "2023-07-18T19:33:34.566Z"
   },
   {
    "duration": 0,
    "start_time": "2023-07-18T19:33:34.567Z"
   },
   {
    "duration": 0,
    "start_time": "2023-07-18T19:33:34.569Z"
   },
   {
    "duration": 0,
    "start_time": "2023-07-18T19:33:34.570Z"
   },
   {
    "duration": 0,
    "start_time": "2023-07-18T19:33:34.580Z"
   },
   {
    "duration": 0,
    "start_time": "2023-07-18T19:33:34.581Z"
   },
   {
    "duration": 0,
    "start_time": "2023-07-18T19:33:34.582Z"
   },
   {
    "duration": 0,
    "start_time": "2023-07-18T19:33:34.583Z"
   },
   {
    "duration": 0,
    "start_time": "2023-07-18T19:33:34.584Z"
   },
   {
    "duration": 0,
    "start_time": "2023-07-18T19:33:34.585Z"
   },
   {
    "duration": 0,
    "start_time": "2023-07-18T19:33:34.585Z"
   },
   {
    "duration": 0,
    "start_time": "2023-07-18T19:33:34.586Z"
   },
   {
    "duration": 1734,
    "start_time": "2023-07-18T19:46:43.421Z"
   },
   {
    "duration": 40,
    "start_time": "2023-07-18T19:46:45.157Z"
   },
   {
    "duration": 12,
    "start_time": "2023-07-18T19:46:45.198Z"
   },
   {
    "duration": 24,
    "start_time": "2023-07-18T19:46:45.212Z"
   },
   {
    "duration": 11,
    "start_time": "2023-07-18T19:46:45.239Z"
   },
   {
    "duration": 27,
    "start_time": "2023-07-18T19:46:45.251Z"
   },
   {
    "duration": 19,
    "start_time": "2023-07-18T19:46:45.279Z"
   },
   {
    "duration": 4,
    "start_time": "2023-07-18T19:46:45.299Z"
   },
   {
    "duration": 9,
    "start_time": "2023-07-18T19:46:45.304Z"
   },
   {
    "duration": 7,
    "start_time": "2023-07-18T19:46:45.315Z"
   },
   {
    "duration": 14,
    "start_time": "2023-07-18T19:46:45.324Z"
   },
   {
    "duration": 13,
    "start_time": "2023-07-18T19:46:45.339Z"
   },
   {
    "duration": 1739,
    "start_time": "2023-07-18T19:46:45.354Z"
   },
   {
    "duration": 0,
    "start_time": "2023-07-18T19:46:47.096Z"
   },
   {
    "duration": 0,
    "start_time": "2023-07-18T19:46:47.097Z"
   },
   {
    "duration": 0,
    "start_time": "2023-07-18T19:46:47.098Z"
   },
   {
    "duration": 0,
    "start_time": "2023-07-18T19:46:47.099Z"
   },
   {
    "duration": 0,
    "start_time": "2023-07-18T19:46:47.101Z"
   },
   {
    "duration": 0,
    "start_time": "2023-07-18T19:46:47.102Z"
   },
   {
    "duration": 0,
    "start_time": "2023-07-18T19:46:47.104Z"
   },
   {
    "duration": 0,
    "start_time": "2023-07-18T19:46:47.105Z"
   },
   {
    "duration": 0,
    "start_time": "2023-07-18T19:46:47.106Z"
   },
   {
    "duration": 0,
    "start_time": "2023-07-18T19:46:47.108Z"
   },
   {
    "duration": 0,
    "start_time": "2023-07-18T19:46:47.109Z"
   },
   {
    "duration": 0,
    "start_time": "2023-07-18T19:46:47.111Z"
   },
   {
    "duration": 1950,
    "start_time": "2023-07-18T19:47:14.414Z"
   },
   {
    "duration": 1426,
    "start_time": "2023-07-18T19:47:23.723Z"
   },
   {
    "duration": 41,
    "start_time": "2023-07-18T19:47:25.151Z"
   },
   {
    "duration": 14,
    "start_time": "2023-07-18T19:47:25.193Z"
   },
   {
    "duration": 22,
    "start_time": "2023-07-18T19:47:25.209Z"
   },
   {
    "duration": 31,
    "start_time": "2023-07-18T19:47:25.233Z"
   },
   {
    "duration": 21,
    "start_time": "2023-07-18T19:47:25.266Z"
   },
   {
    "duration": 42,
    "start_time": "2023-07-18T19:47:25.289Z"
   },
   {
    "duration": 4,
    "start_time": "2023-07-18T19:47:25.333Z"
   },
   {
    "duration": 23,
    "start_time": "2023-07-18T19:47:25.338Z"
   },
   {
    "duration": 10,
    "start_time": "2023-07-18T19:47:25.363Z"
   },
   {
    "duration": 9,
    "start_time": "2023-07-18T19:47:25.375Z"
   },
   {
    "duration": 18,
    "start_time": "2023-07-18T19:47:25.386Z"
   },
   {
    "duration": 1983,
    "start_time": "2023-07-18T19:47:25.406Z"
   },
   {
    "duration": 11,
    "start_time": "2023-07-18T19:47:27.390Z"
   },
   {
    "duration": 16,
    "start_time": "2023-07-18T19:47:27.403Z"
   },
   {
    "duration": 311041,
    "start_time": "2023-07-18T19:47:27.421Z"
   },
   {
    "duration": 18,
    "start_time": "2023-07-18T19:52:38.464Z"
   },
   {
    "duration": 313,
    "start_time": "2023-07-18T19:52:38.484Z"
   },
   {
    "duration": 190,
    "start_time": "2023-07-18T19:52:38.799Z"
   },
   {
    "duration": 14,
    "start_time": "2023-07-18T19:52:38.991Z"
   },
   {
    "duration": 5,
    "start_time": "2023-07-18T19:52:39.006Z"
   },
   {
    "duration": 5,
    "start_time": "2023-07-18T19:52:39.013Z"
   },
   {
    "duration": 19,
    "start_time": "2023-07-18T19:52:39.020Z"
   },
   {
    "duration": 163,
    "start_time": "2023-07-18T19:52:39.040Z"
   },
   {
    "duration": 9,
    "start_time": "2023-07-18T19:52:39.205Z"
   },
   {
    "duration": 119,
    "start_time": "2023-07-18T20:00:57.423Z"
   },
   {
    "duration": 1441,
    "start_time": "2023-07-18T20:01:15.684Z"
   },
   {
    "duration": 40,
    "start_time": "2023-07-18T20:01:17.127Z"
   },
   {
    "duration": 12,
    "start_time": "2023-07-18T20:01:17.169Z"
   },
   {
    "duration": 23,
    "start_time": "2023-07-18T20:01:17.183Z"
   },
   {
    "duration": 9,
    "start_time": "2023-07-18T20:01:17.208Z"
   },
   {
    "duration": 31,
    "start_time": "2023-07-18T20:01:17.219Z"
   },
   {
    "duration": 30,
    "start_time": "2023-07-18T20:01:17.252Z"
   },
   {
    "duration": 8,
    "start_time": "2023-07-18T20:01:17.284Z"
   },
   {
    "duration": 24,
    "start_time": "2023-07-18T20:01:17.294Z"
   },
   {
    "duration": 11,
    "start_time": "2023-07-18T20:01:17.322Z"
   },
   {
    "duration": 31,
    "start_time": "2023-07-18T20:01:17.335Z"
   },
   {
    "duration": 22,
    "start_time": "2023-07-18T20:01:17.368Z"
   },
   {
    "duration": 1915,
    "start_time": "2023-07-18T20:01:17.392Z"
   },
   {
    "duration": 9,
    "start_time": "2023-07-18T20:01:19.309Z"
   },
   {
    "duration": 25,
    "start_time": "2023-07-18T20:01:19.320Z"
   },
   {
    "duration": 131,
    "start_time": "2023-07-18T20:01:19.346Z"
   },
   {
    "duration": 0,
    "start_time": "2023-07-18T20:01:19.479Z"
   },
   {
    "duration": 0,
    "start_time": "2023-07-18T20:01:19.480Z"
   },
   {
    "duration": 0,
    "start_time": "2023-07-18T20:01:19.481Z"
   },
   {
    "duration": 0,
    "start_time": "2023-07-18T20:01:19.482Z"
   },
   {
    "duration": 0,
    "start_time": "2023-07-18T20:01:19.483Z"
   },
   {
    "duration": 0,
    "start_time": "2023-07-18T20:01:19.484Z"
   },
   {
    "duration": 0,
    "start_time": "2023-07-18T20:01:19.484Z"
   },
   {
    "duration": 0,
    "start_time": "2023-07-18T20:01:19.485Z"
   },
   {
    "duration": 0,
    "start_time": "2023-07-18T20:01:19.486Z"
   },
   {
    "duration": 0,
    "start_time": "2023-07-18T20:01:19.486Z"
   },
   {
    "duration": 1491,
    "start_time": "2023-07-18T20:03:15.016Z"
   },
   {
    "duration": 53,
    "start_time": "2023-07-18T20:03:16.509Z"
   },
   {
    "duration": 12,
    "start_time": "2023-07-18T20:03:16.564Z"
   },
   {
    "duration": 6,
    "start_time": "2023-07-18T20:03:16.579Z"
   },
   {
    "duration": 17,
    "start_time": "2023-07-18T20:03:16.587Z"
   },
   {
    "duration": 10,
    "start_time": "2023-07-18T20:03:16.605Z"
   },
   {
    "duration": 23,
    "start_time": "2023-07-18T20:03:16.617Z"
   },
   {
    "duration": 3,
    "start_time": "2023-07-18T20:03:16.642Z"
   },
   {
    "duration": 9,
    "start_time": "2023-07-18T20:03:16.647Z"
   },
   {
    "duration": 11,
    "start_time": "2023-07-18T20:03:16.658Z"
   },
   {
    "duration": 18,
    "start_time": "2023-07-18T20:03:16.670Z"
   },
   {
    "duration": 7,
    "start_time": "2023-07-18T20:03:16.689Z"
   },
   {
    "duration": 1788,
    "start_time": "2023-07-18T20:03:16.697Z"
   },
   {
    "duration": 10,
    "start_time": "2023-07-18T20:03:18.486Z"
   },
   {
    "duration": 21,
    "start_time": "2023-07-18T20:03:18.498Z"
   },
   {
    "duration": 309260,
    "start_time": "2023-07-18T20:03:18.521Z"
   },
   {
    "duration": 254,
    "start_time": "2023-07-18T20:08:27.784Z"
   },
   {
    "duration": 11,
    "start_time": "2023-07-18T20:08:28.040Z"
   },
   {
    "duration": 227,
    "start_time": "2023-07-18T20:08:28.054Z"
   },
   {
    "duration": 15,
    "start_time": "2023-07-18T20:08:28.283Z"
   },
   {
    "duration": 24,
    "start_time": "2023-07-18T20:08:28.377Z"
   },
   {
    "duration": 11,
    "start_time": "2023-07-18T20:08:28.403Z"
   },
   {
    "duration": 8,
    "start_time": "2023-07-18T20:08:28.416Z"
   },
   {
    "duration": 9,
    "start_time": "2023-07-18T20:08:28.426Z"
   },
   {
    "duration": 173,
    "start_time": "2023-07-18T20:08:28.436Z"
   },
   {
    "duration": 8,
    "start_time": "2023-07-18T20:08:28.611Z"
   },
   {
    "duration": 266,
    "start_time": "2023-07-18T20:10:58.372Z"
   },
   {
    "duration": 154,
    "start_time": "2023-07-18T20:15:07.437Z"
   },
   {
    "duration": 10,
    "start_time": "2023-07-18T20:15:13.341Z"
   },
   {
    "duration": 110,
    "start_time": "2023-07-18T20:16:02.701Z"
   },
   {
    "duration": 44,
    "start_time": "2023-07-18T20:16:17.746Z"
   },
   {
    "duration": 7,
    "start_time": "2023-07-18T21:18:01.235Z"
   },
   {
    "duration": 101,
    "start_time": "2023-07-18T21:18:29.215Z"
   },
   {
    "duration": 12,
    "start_time": "2023-07-18T21:18:38.653Z"
   },
   {
    "duration": 12,
    "start_time": "2023-07-18T21:18:50.535Z"
   },
   {
    "duration": 11,
    "start_time": "2023-07-18T21:20:20.750Z"
   },
   {
    "duration": 14,
    "start_time": "2023-07-18T21:20:36.789Z"
   },
   {
    "duration": 3542,
    "start_time": "2023-07-18T21:21:07.038Z"
   },
   {
    "duration": 0,
    "start_time": "2023-07-18T21:27:52.810Z"
   },
   {
    "duration": 1092,
    "start_time": "2023-07-18T21:28:00.424Z"
   },
   {
    "duration": 1146,
    "start_time": "2023-07-18T21:29:06.385Z"
   },
   {
    "duration": 1206,
    "start_time": "2023-07-18T21:29:25.153Z"
   },
   {
    "duration": 1702,
    "start_time": "2023-07-18T21:29:45.377Z"
   },
   {
    "duration": 1087,
    "start_time": "2023-07-18T21:29:56.424Z"
   },
   {
    "duration": 473,
    "start_time": "2023-07-18T21:30:35.787Z"
   },
   {
    "duration": 107,
    "start_time": "2023-07-18T21:31:07.025Z"
   },
   {
    "duration": 96,
    "start_time": "2023-07-18T21:31:40.105Z"
   },
   {
    "duration": 93,
    "start_time": "2023-07-18T21:31:55.537Z"
   },
   {
    "duration": 99,
    "start_time": "2023-07-18T21:32:34.508Z"
   },
   {
    "duration": 1207,
    "start_time": "2023-07-18T21:33:05.239Z"
   },
   {
    "duration": 350,
    "start_time": "2023-07-18T21:33:46.325Z"
   },
   {
    "duration": 1156,
    "start_time": "2023-07-18T21:34:00.460Z"
   },
   {
    "duration": 1101,
    "start_time": "2023-07-18T21:34:44.515Z"
   },
   {
    "duration": 834,
    "start_time": "2023-07-18T21:35:08.205Z"
   },
   {
    "duration": 752,
    "start_time": "2023-07-18T21:35:27.755Z"
   },
   {
    "duration": 373,
    "start_time": "2023-07-18T21:36:58.703Z"
   },
   {
    "duration": 3573,
    "start_time": "2023-07-18T21:37:13.806Z"
   },
   {
    "duration": 7378,
    "start_time": "2023-07-18T21:37:28.638Z"
   },
   {
    "duration": 705,
    "start_time": "2023-07-18T21:38:19.693Z"
   },
   {
    "duration": 1287,
    "start_time": "2023-07-18T21:38:36.118Z"
   },
   {
    "duration": 825,
    "start_time": "2023-07-18T21:38:43.772Z"
   },
   {
    "duration": 626,
    "start_time": "2023-07-18T21:38:52.557Z"
   },
   {
    "duration": 742,
    "start_time": "2023-07-18T21:39:33.646Z"
   },
   {
    "duration": 723,
    "start_time": "2023-07-18T21:39:39.672Z"
   },
   {
    "duration": 12,
    "start_time": "2023-07-18T21:41:43.529Z"
   },
   {
    "duration": 12,
    "start_time": "2023-07-18T21:42:03.168Z"
   },
   {
    "duration": 4,
    "start_time": "2023-07-18T21:42:15.966Z"
   },
   {
    "duration": 3707,
    "start_time": "2023-07-18T21:42:23.671Z"
   },
   {
    "duration": 3774,
    "start_time": "2023-07-18T21:43:15.704Z"
   },
   {
    "duration": 1398,
    "start_time": "2023-07-18T21:43:25.415Z"
   },
   {
    "duration": 40,
    "start_time": "2023-07-18T21:43:26.815Z"
   },
   {
    "duration": 11,
    "start_time": "2023-07-18T21:43:26.857Z"
   },
   {
    "duration": 10,
    "start_time": "2023-07-18T21:43:26.870Z"
   },
   {
    "duration": 3,
    "start_time": "2023-07-18T21:43:26.882Z"
   },
   {
    "duration": 10,
    "start_time": "2023-07-18T21:43:26.887Z"
   },
   {
    "duration": 22,
    "start_time": "2023-07-18T21:43:26.899Z"
   },
   {
    "duration": 4,
    "start_time": "2023-07-18T21:43:26.922Z"
   },
   {
    "duration": 25,
    "start_time": "2023-07-18T21:43:26.928Z"
   },
   {
    "duration": 5,
    "start_time": "2023-07-18T21:43:26.956Z"
   },
   {
    "duration": 11,
    "start_time": "2023-07-18T21:43:26.963Z"
   },
   {
    "duration": 10,
    "start_time": "2023-07-18T21:43:26.976Z"
   },
   {
    "duration": 1828,
    "start_time": "2023-07-18T21:43:26.988Z"
   },
   {
    "duration": 9,
    "start_time": "2023-07-18T21:43:28.818Z"
   },
   {
    "duration": 14,
    "start_time": "2023-07-18T21:43:28.828Z"
   },
   {
    "duration": 304165,
    "start_time": "2023-07-18T21:43:28.844Z"
   },
   {
    "duration": 258,
    "start_time": "2023-07-18T21:48:33.011Z"
   },
   {
    "duration": 11,
    "start_time": "2023-07-18T21:48:33.274Z"
   },
   {
    "duration": 42,
    "start_time": "2023-07-18T21:48:33.287Z"
   },
   {
    "duration": 3547,
    "start_time": "2023-07-18T21:48:33.331Z"
   },
   {
    "duration": 203,
    "start_time": "2023-07-18T21:48:36.881Z"
   },
   {
    "duration": 0,
    "start_time": "2023-07-18T21:48:37.086Z"
   },
   {
    "duration": 0,
    "start_time": "2023-07-18T21:48:37.087Z"
   },
   {
    "duration": 0,
    "start_time": "2023-07-18T21:48:37.088Z"
   },
   {
    "duration": 0,
    "start_time": "2023-07-18T21:48:37.089Z"
   },
   {
    "duration": 0,
    "start_time": "2023-07-18T21:48:37.090Z"
   },
   {
    "duration": 0,
    "start_time": "2023-07-18T21:48:37.091Z"
   },
   {
    "duration": 5,
    "start_time": "2023-07-18T22:06:43.345Z"
   },
   {
    "duration": 560,
    "start_time": "2023-07-18T22:07:31.200Z"
   },
   {
    "duration": 263,
    "start_time": "2023-07-18T22:07:44.313Z"
   },
   {
    "duration": 966,
    "start_time": "2023-07-18T22:07:51.546Z"
   },
   {
    "duration": 2045,
    "start_time": "2023-07-18T22:08:19.777Z"
   },
   {
    "duration": 2309,
    "start_time": "2023-07-18T22:09:18.490Z"
   },
   {
    "duration": 1986,
    "start_time": "2023-07-18T22:09:46.331Z"
   },
   {
    "duration": 129,
    "start_time": "2023-07-18T22:11:30.460Z"
   },
   {
    "duration": 24,
    "start_time": "2023-07-18T22:11:39.585Z"
   },
   {
    "duration": 15,
    "start_time": "2023-07-18T22:11:55.812Z"
   },
   {
    "duration": 1883,
    "start_time": "2023-07-18T22:12:13.244Z"
   },
   {
    "duration": 3928,
    "start_time": "2023-07-18T22:12:22.916Z"
   },
   {
    "duration": 5402,
    "start_time": "2023-07-18T22:12:58.828Z"
   },
   {
    "duration": 2844,
    "start_time": "2023-07-18T22:14:05.093Z"
   },
   {
    "duration": 10214,
    "start_time": "2023-07-18T22:14:22.069Z"
   },
   {
    "duration": 9960,
    "start_time": "2023-07-18T22:15:15.437Z"
   },
   {
    "duration": 9,
    "start_time": "2023-07-18T22:15:27.589Z"
   },
   {
    "duration": 9,
    "start_time": "2023-07-18T22:15:39.180Z"
   },
   {
    "duration": 9,
    "start_time": "2023-07-18T22:15:51.468Z"
   },
   {
    "duration": 10335,
    "start_time": "2023-07-18T22:16:45.806Z"
   },
   {
    "duration": 10,
    "start_time": "2023-07-18T22:16:56.143Z"
   },
   {
    "duration": 536,
    "start_time": "2023-07-18T22:18:00.646Z"
   },
   {
    "duration": 109,
    "start_time": "2023-07-18T22:21:11.082Z"
   },
   {
    "duration": 110,
    "start_time": "2023-07-18T22:21:54.862Z"
   },
   {
    "duration": 126,
    "start_time": "2023-07-18T22:22:08.353Z"
   },
   {
    "duration": 10270,
    "start_time": "2023-07-18T22:22:26.439Z"
   },
   {
    "duration": 203,
    "start_time": "2023-07-18T22:25:08.681Z"
   },
   {
    "duration": 175,
    "start_time": "2023-07-18T22:26:51.504Z"
   },
   {
    "duration": 1353,
    "start_time": "2023-07-18T22:26:56.300Z"
   },
   {
    "duration": 40,
    "start_time": "2023-07-18T22:26:57.655Z"
   },
   {
    "duration": 11,
    "start_time": "2023-07-18T22:26:57.697Z"
   },
   {
    "duration": 28,
    "start_time": "2023-07-18T22:26:57.710Z"
   },
   {
    "duration": 11,
    "start_time": "2023-07-18T22:26:57.739Z"
   },
   {
    "duration": 30,
    "start_time": "2023-07-18T22:26:57.752Z"
   },
   {
    "duration": 34,
    "start_time": "2023-07-18T22:26:57.784Z"
   },
   {
    "duration": 4,
    "start_time": "2023-07-18T22:26:57.821Z"
   },
   {
    "duration": 16,
    "start_time": "2023-07-18T22:26:57.826Z"
   },
   {
    "duration": 16,
    "start_time": "2023-07-18T22:26:57.845Z"
   },
   {
    "duration": 8,
    "start_time": "2023-07-18T22:26:57.863Z"
   },
   {
    "duration": 13,
    "start_time": "2023-07-18T22:26:57.873Z"
   },
   {
    "duration": 1747,
    "start_time": "2023-07-18T22:26:57.888Z"
   },
   {
    "duration": 10,
    "start_time": "2023-07-18T22:26:59.636Z"
   },
   {
    "duration": 13,
    "start_time": "2023-07-18T22:26:59.647Z"
   },
   {
    "duration": 302192,
    "start_time": "2023-07-18T22:26:59.675Z"
   },
   {
    "duration": 259,
    "start_time": "2023-07-18T22:32:01.875Z"
   },
   {
    "duration": 10,
    "start_time": "2023-07-18T22:32:02.136Z"
   },
   {
    "duration": 64,
    "start_time": "2023-07-18T22:32:02.148Z"
   },
   {
    "duration": 10217,
    "start_time": "2023-07-18T22:32:02.214Z"
   },
   {
    "duration": 10,
    "start_time": "2023-07-18T22:32:12.433Z"
   },
   {
    "duration": 241,
    "start_time": "2023-07-18T22:32:12.444Z"
   },
   {
    "duration": 101,
    "start_time": "2023-07-18T22:32:12.776Z"
   },
   {
    "duration": 14,
    "start_time": "2023-07-18T22:32:12.878Z"
   },
   {
    "duration": 4,
    "start_time": "2023-07-18T22:32:12.894Z"
   },
   {
    "duration": 7,
    "start_time": "2023-07-18T22:32:12.899Z"
   },
   {
    "duration": 11,
    "start_time": "2023-07-18T22:32:12.907Z"
   },
   {
    "duration": 165,
    "start_time": "2023-07-18T22:32:12.920Z"
   },
   {
    "duration": 7,
    "start_time": "2023-07-18T22:32:13.087Z"
   },
   {
    "duration": 253,
    "start_time": "2023-07-18T22:32:49.922Z"
   },
   {
    "duration": 296,
    "start_time": "2023-07-18T22:33:01.584Z"
   },
   {
    "duration": 8,
    "start_time": "2023-07-18T22:33:05.857Z"
   },
   {
    "duration": 3,
    "start_time": "2023-07-18T22:34:05.376Z"
   },
   {
    "duration": 147,
    "start_time": "2023-07-18T22:34:14.136Z"
   },
   {
    "duration": 8,
    "start_time": "2023-07-18T22:34:57.232Z"
   },
   {
    "duration": 1443,
    "start_time": "2023-07-18T22:42:14.610Z"
   },
   {
    "duration": 41,
    "start_time": "2023-07-18T22:42:16.055Z"
   },
   {
    "duration": 12,
    "start_time": "2023-07-18T22:42:16.098Z"
   },
   {
    "duration": 11,
    "start_time": "2023-07-18T22:42:16.112Z"
   },
   {
    "duration": 4,
    "start_time": "2023-07-18T22:42:16.126Z"
   },
   {
    "duration": 9,
    "start_time": "2023-07-18T22:42:16.132Z"
   },
   {
    "duration": 38,
    "start_time": "2023-07-18T22:42:16.144Z"
   },
   {
    "duration": 5,
    "start_time": "2023-07-18T22:42:16.184Z"
   },
   {
    "duration": 13,
    "start_time": "2023-07-18T22:42:16.191Z"
   },
   {
    "duration": 7,
    "start_time": "2023-07-18T22:42:16.205Z"
   },
   {
    "duration": 8,
    "start_time": "2023-07-18T22:42:16.214Z"
   },
   {
    "duration": 10,
    "start_time": "2023-07-18T22:42:16.224Z"
   },
   {
    "duration": 1842,
    "start_time": "2023-07-18T22:42:16.236Z"
   },
   {
    "duration": 9,
    "start_time": "2023-07-18T22:42:18.081Z"
   },
   {
    "duration": 34,
    "start_time": "2023-07-18T22:42:18.092Z"
   },
   {
    "duration": 299373,
    "start_time": "2023-07-18T22:42:18.128Z"
   },
   {
    "duration": 251,
    "start_time": "2023-07-18T22:47:17.503Z"
   },
   {
    "duration": 20,
    "start_time": "2023-07-18T22:47:17.756Z"
   },
   {
    "duration": 44,
    "start_time": "2023-07-18T22:47:17.777Z"
   },
   {
    "duration": 10807,
    "start_time": "2023-07-18T22:47:17.823Z"
   },
   {
    "duration": 9,
    "start_time": "2023-07-18T22:47:28.631Z"
   },
   {
    "duration": 235,
    "start_time": "2023-07-18T22:47:28.642Z"
   },
   {
    "duration": 98,
    "start_time": "2023-07-18T22:47:28.879Z"
   },
   {
    "duration": 22,
    "start_time": "2023-07-18T22:47:28.979Z"
   },
   {
    "duration": 22,
    "start_time": "2023-07-18T22:47:29.003Z"
   },
   {
    "duration": 15,
    "start_time": "2023-07-18T22:47:29.027Z"
   },
   {
    "duration": 18,
    "start_time": "2023-07-18T22:47:29.044Z"
   },
   {
    "duration": 169,
    "start_time": "2023-07-18T22:47:29.064Z"
   },
   {
    "duration": 7,
    "start_time": "2023-07-18T22:47:29.235Z"
   },
   {
    "duration": 112,
    "start_time": "2023-07-18T22:47:29.245Z"
   }
  ],
  "kernelspec": {
   "display_name": "Python 3 (ipykernel)",
   "language": "python",
   "name": "python3"
  },
  "language_info": {
   "codemirror_mode": {
    "name": "ipython",
    "version": 3
   },
   "file_extension": ".py",
   "mimetype": "text/x-python",
   "name": "python",
   "nbconvert_exporter": "python",
   "pygments_lexer": "ipython3",
   "version": "3.9.19"
  },
  "toc": {
   "base_numbering": 1,
   "nav_menu": {},
   "number_sections": true,
   "sideBar": true,
   "skip_h1_title": true,
   "title_cell": "Table of Contents",
   "title_sidebar": "Contents",
   "toc_cell": false,
   "toc_position": {},
   "toc_section_display": true,
   "toc_window_display": true
  }
 },
 "nbformat": 4,
 "nbformat_minor": 4
}
