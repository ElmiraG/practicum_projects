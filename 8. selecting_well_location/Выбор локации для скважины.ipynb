{
 "cells": [
  {
   "cell_type": "markdown",
   "metadata": {},
   "source": [
    "# Выбор локации для скважины"
   ]
  },
  {
   "cell_type": "markdown",
   "metadata": {},
   "source": [
    "Допустим, я работаю в добывающей компании «ГлавРосГосНефть». Нужно решить, где бурить новую скважину.\n",
    "\n",
    "Предоставлены пробы нефти в трёх регионах: в каждом 10 000 месторождений, где измерили качество нефти и объём её запасов. Необходимо построить модель машинного обучения, которая поможет определить регион, где добыча принесёт наибольшую прибыль. Проанализировать возможную прибыль и риски техникой *Bootstrap.*\n",
    "\n",
    "Шаги для выбора локации:\n",
    "\n",
    "- В избранном регионе ищут месторождения, для каждого определяют значения признаков;\n",
    "- Строят модель и оценивают объём запасов;\n",
    "- Выбирают месторождения с самым высокими оценками значений. Количество месторождений зависит от бюджета компании и стоимости разработки одной скважины;\n",
    "- Прибыль равна суммарной прибыли отобранных месторождений."
   ]
  },
  {
   "cell_type": "markdown",
   "metadata": {},
   "source": [
    "# Описание данных"
   ]
  },
  {
   "cell_type": "markdown",
   "metadata": {},
   "source": [
    "Данные геологоразведки трёх регионов находятся в файлах: \n",
    "\n",
    "- /datasets/geo_data_0.csv. \n",
    "- /datasets/geo_data_1.csv. \n",
    "- /datasets/geo_data_2.csv."
   ]
  },
  {
   "cell_type": "markdown",
   "metadata": {},
   "source": [
    "- **id** — уникальный идентификатор скважины;\n",
    "- **f0, f1, f2** — три признака точек (неважно, что они означают, но сами признаки значимы);\n",
    "- **product** — объём запасов в скважине (тыс. баррелей)."
   ]
  },
  {
   "cell_type": "markdown",
   "metadata": {},
   "source": [
    "# План по выполнению проекта"
   ]
  },
  {
   "cell_type": "markdown",
   "metadata": {},
   "source": [
    "1. Загрузить и подготовить данные. Поясните порядок действий.\n",
    "2. Обучить и проверить модель для каждого региона.\n",
    "3. Подготовиться к расчёту прибыли.\n",
    "4. Написать функцию для расчёта прибыли по выбранным скважинам и предсказаниям модели.\n",
    "5. Посчитать риски и прибыль для каждого региона."
   ]
  },
  {
   "cell_type": "markdown",
   "metadata": {},
   "source": [
    "**Условия задачи:**\n",
    "- Для обучения модели подходит только линейная регрессия (остальные — недостаточно предсказуемые).\n",
    "- При разведке региона исследуют 500 точек, из которых с помощью машинного обучения выбирают 200 лучших для разработки.\n",
    "- Бюджет на разработку скважин в регионе — 10 млрд рублей.\n",
    "- При нынешних ценах один баррель сырья приносит 450 рублей дохода. Доход с каждой единицы продукта составляет 450 тыс. рублей, поскольку объём указан в тысячах баррелей.\n",
    "- После оценки рисков нужно оставить лишь те регионы, в которых вероятность убытков меньше 2.5%. Среди них выбирают регион с наибольшей средней прибылью."
   ]
  },
  {
   "cell_type": "markdown",
   "metadata": {},
   "source": [
    "## Загрузка и подготовка данных"
   ]
  },
  {
   "cell_type": "markdown",
   "metadata": {},
   "source": [
    "### Импорт библиотек"
   ]
  },
  {
   "cell_type": "code",
   "execution_count": 1,
   "metadata": {},
   "outputs": [],
   "source": [
    "import os\n",
    "import pandas as pd\n",
    "import numpy as np\n",
    "import seaborn as sns\n",
    "from matplotlib import pyplot as plt\n",
    "\n",
    "import sklearn \n",
    "from sklearn.model_selection import train_test_split\n",
    "from sklearn.preprocessing import StandardScaler\n",
    "from sklearn.model_selection import RepeatedKFold\n",
    "from sklearn.linear_model import LinearRegression\n",
    "from sklearn.linear_model import Ridge\n",
    "from sklearn.linear_model import Lasso\n",
    "from sklearn.model_selection import GridSearchCV\n",
    "\n",
    "from scipy import stats as st \n",
    "from sklearn import metrics\n",
    "from sklearn.metrics import roc_curve, roc_auc_score, r2_score, mean_absolute_error, make_scorer\n",
    "from sklearn.metrics import mean_squared_error as mse\n",
    "\n",
    "import warnings\n",
    "warnings.filterwarnings('ignore')\n",
    "\n",
    "from tqdm.notebook import tqdm"
   ]
  },
  {
   "cell_type": "code",
   "execution_count": 2,
   "metadata": {},
   "outputs": [],
   "source": [
    "### Константы"
   ]
  },
  {
   "cell_type": "code",
   "execution_count": 3,
   "metadata": {},
   "outputs": [],
   "source": [
    "#При разведке региона исследуют 500 точек\n",
    "POINTS_EXP = 500\n",
    "\n",
    "#Бюджет на разработку скважин в регионе, тыс.руб\n",
    "BUDGET = 10000000\n",
    "\n",
    "#Доход с сырья, тыс.руб \n",
    "COST_ONE_BAREL = 450\n",
    "\n",
    "#Порог убытка 2.5%\n",
    "PERC_RISK = 0.025"
   ]
  },
  {
   "cell_type": "markdown",
   "metadata": {},
   "source": [
    "### Загрузка данных"
   ]
  },
  {
   "cell_type": "code",
   "execution_count": 4,
   "metadata": {},
   "outputs": [],
   "source": [
    "link1 = '/datasets/geo_data_0.csv'\n",
    "link2 = '/datasets/geo_data_1.csv'\n",
    "link3 = '/datasets/geo_data_2.csv'\n",
    "\n",
    "if os.path.exists(link1):\n",
    "    geo_data_0 = pd.read_csv(link1)\n",
    "else: print('Cсылка на geo_data_0 не действительна')\n",
    "    \n",
    "if os.path.exists(link2):\n",
    "    geo_data_1 = pd.read_csv(link2)\n",
    "else: print('Cсылка на geo_data_0 не действительна')\n",
    "    \n",
    "if os.path.exists(link3):\n",
    "    geo_data_2 = pd.read_csv(link3)\n",
    "else: print('Cсылка на geo_data_0 не действительна')"
   ]
  },
  {
   "cell_type": "markdown",
   "metadata": {},
   "source": [
    "### Анализ данных"
   ]
  },
  {
   "cell_type": "code",
   "execution_count": 5,
   "metadata": {},
   "outputs": [],
   "source": [
    "#Информация о данных:\n",
    "def data_info(data, data_name):\n",
    "    print('Таблица:', data_name)\n",
    "    print('Размер данных:', data.shape)\n",
    "    data.info()\n",
    "    display(data.head())\n",
    "    #сводная статистика данных\n",
    "    display(data.describe())\n",
    "    print('количество дубликатов в таблице: ', data.duplicated().sum() )\n",
    "    print('количество уникальных id: ', data['id'].nunique(), '\\n')"
   ]
  },
  {
   "cell_type": "code",
   "execution_count": 6,
   "metadata": {},
   "outputs": [
    {
     "name": "stdout",
     "output_type": "stream",
     "text": [
      "Таблица:  geo_data_0\n",
      "Размер данных: (100000, 5)\n",
      "<class 'pandas.core.frame.DataFrame'>\n",
      "RangeIndex: 100000 entries, 0 to 99999\n",
      "Data columns (total 5 columns):\n",
      " #   Column   Non-Null Count   Dtype  \n",
      "---  ------   --------------   -----  \n",
      " 0   id       100000 non-null  object \n",
      " 1   f0       100000 non-null  float64\n",
      " 2   f1       100000 non-null  float64\n",
      " 3   f2       100000 non-null  float64\n",
      " 4   product  100000 non-null  float64\n",
      "dtypes: float64(4), object(1)\n",
      "memory usage: 3.8+ MB\n"
     ]
    },
    {
     "data": {
      "text/html": [
       "<div>\n",
       "<style scoped>\n",
       "    .dataframe tbody tr th:only-of-type {\n",
       "        vertical-align: middle;\n",
       "    }\n",
       "\n",
       "    .dataframe tbody tr th {\n",
       "        vertical-align: top;\n",
       "    }\n",
       "\n",
       "    .dataframe thead th {\n",
       "        text-align: right;\n",
       "    }\n",
       "</style>\n",
       "<table border=\"1\" class=\"dataframe\">\n",
       "  <thead>\n",
       "    <tr style=\"text-align: right;\">\n",
       "      <th></th>\n",
       "      <th>id</th>\n",
       "      <th>f0</th>\n",
       "      <th>f1</th>\n",
       "      <th>f2</th>\n",
       "      <th>product</th>\n",
       "    </tr>\n",
       "  </thead>\n",
       "  <tbody>\n",
       "    <tr>\n",
       "      <th>0</th>\n",
       "      <td>txEyH</td>\n",
       "      <td>0.705745</td>\n",
       "      <td>-0.497823</td>\n",
       "      <td>1.221170</td>\n",
       "      <td>105.280062</td>\n",
       "    </tr>\n",
       "    <tr>\n",
       "      <th>1</th>\n",
       "      <td>2acmU</td>\n",
       "      <td>1.334711</td>\n",
       "      <td>-0.340164</td>\n",
       "      <td>4.365080</td>\n",
       "      <td>73.037750</td>\n",
       "    </tr>\n",
       "    <tr>\n",
       "      <th>2</th>\n",
       "      <td>409Wp</td>\n",
       "      <td>1.022732</td>\n",
       "      <td>0.151990</td>\n",
       "      <td>1.419926</td>\n",
       "      <td>85.265647</td>\n",
       "    </tr>\n",
       "    <tr>\n",
       "      <th>3</th>\n",
       "      <td>iJLyR</td>\n",
       "      <td>-0.032172</td>\n",
       "      <td>0.139033</td>\n",
       "      <td>2.978566</td>\n",
       "      <td>168.620776</td>\n",
       "    </tr>\n",
       "    <tr>\n",
       "      <th>4</th>\n",
       "      <td>Xdl7t</td>\n",
       "      <td>1.988431</td>\n",
       "      <td>0.155413</td>\n",
       "      <td>4.751769</td>\n",
       "      <td>154.036647</td>\n",
       "    </tr>\n",
       "  </tbody>\n",
       "</table>\n",
       "</div>"
      ],
      "text/plain": [
       "      id        f0        f1        f2     product\n",
       "0  txEyH  0.705745 -0.497823  1.221170  105.280062\n",
       "1  2acmU  1.334711 -0.340164  4.365080   73.037750\n",
       "2  409Wp  1.022732  0.151990  1.419926   85.265647\n",
       "3  iJLyR -0.032172  0.139033  2.978566  168.620776\n",
       "4  Xdl7t  1.988431  0.155413  4.751769  154.036647"
      ]
     },
     "metadata": {},
     "output_type": "display_data"
    },
    {
     "data": {
      "text/html": [
       "<div>\n",
       "<style scoped>\n",
       "    .dataframe tbody tr th:only-of-type {\n",
       "        vertical-align: middle;\n",
       "    }\n",
       "\n",
       "    .dataframe tbody tr th {\n",
       "        vertical-align: top;\n",
       "    }\n",
       "\n",
       "    .dataframe thead th {\n",
       "        text-align: right;\n",
       "    }\n",
       "</style>\n",
       "<table border=\"1\" class=\"dataframe\">\n",
       "  <thead>\n",
       "    <tr style=\"text-align: right;\">\n",
       "      <th></th>\n",
       "      <th>f0</th>\n",
       "      <th>f1</th>\n",
       "      <th>f2</th>\n",
       "      <th>product</th>\n",
       "    </tr>\n",
       "  </thead>\n",
       "  <tbody>\n",
       "    <tr>\n",
       "      <th>count</th>\n",
       "      <td>100000.000000</td>\n",
       "      <td>100000.000000</td>\n",
       "      <td>100000.000000</td>\n",
       "      <td>100000.000000</td>\n",
       "    </tr>\n",
       "    <tr>\n",
       "      <th>mean</th>\n",
       "      <td>0.500419</td>\n",
       "      <td>0.250143</td>\n",
       "      <td>2.502647</td>\n",
       "      <td>92.500000</td>\n",
       "    </tr>\n",
       "    <tr>\n",
       "      <th>std</th>\n",
       "      <td>0.871832</td>\n",
       "      <td>0.504433</td>\n",
       "      <td>3.248248</td>\n",
       "      <td>44.288691</td>\n",
       "    </tr>\n",
       "    <tr>\n",
       "      <th>min</th>\n",
       "      <td>-1.408605</td>\n",
       "      <td>-0.848218</td>\n",
       "      <td>-12.088328</td>\n",
       "      <td>0.000000</td>\n",
       "    </tr>\n",
       "    <tr>\n",
       "      <th>25%</th>\n",
       "      <td>-0.072580</td>\n",
       "      <td>-0.200881</td>\n",
       "      <td>0.287748</td>\n",
       "      <td>56.497507</td>\n",
       "    </tr>\n",
       "    <tr>\n",
       "      <th>50%</th>\n",
       "      <td>0.502360</td>\n",
       "      <td>0.250252</td>\n",
       "      <td>2.515969</td>\n",
       "      <td>91.849972</td>\n",
       "    </tr>\n",
       "    <tr>\n",
       "      <th>75%</th>\n",
       "      <td>1.073581</td>\n",
       "      <td>0.700646</td>\n",
       "      <td>4.715088</td>\n",
       "      <td>128.564089</td>\n",
       "    </tr>\n",
       "    <tr>\n",
       "      <th>max</th>\n",
       "      <td>2.362331</td>\n",
       "      <td>1.343769</td>\n",
       "      <td>16.003790</td>\n",
       "      <td>185.364347</td>\n",
       "    </tr>\n",
       "  </tbody>\n",
       "</table>\n",
       "</div>"
      ],
      "text/plain": [
       "                  f0             f1             f2        product\n",
       "count  100000.000000  100000.000000  100000.000000  100000.000000\n",
       "mean        0.500419       0.250143       2.502647      92.500000\n",
       "std         0.871832       0.504433       3.248248      44.288691\n",
       "min        -1.408605      -0.848218     -12.088328       0.000000\n",
       "25%        -0.072580      -0.200881       0.287748      56.497507\n",
       "50%         0.502360       0.250252       2.515969      91.849972\n",
       "75%         1.073581       0.700646       4.715088     128.564089\n",
       "max         2.362331       1.343769      16.003790     185.364347"
      ]
     },
     "metadata": {},
     "output_type": "display_data"
    },
    {
     "name": "stdout",
     "output_type": "stream",
     "text": [
      "количество дубликатов в таблице:  0\n",
      "количество уникальных id:  99990 \n",
      "\n",
      "Таблица: geo_data_1\n",
      "Размер данных: (100000, 5)\n",
      "<class 'pandas.core.frame.DataFrame'>\n",
      "RangeIndex: 100000 entries, 0 to 99999\n",
      "Data columns (total 5 columns):\n",
      " #   Column   Non-Null Count   Dtype  \n",
      "---  ------   --------------   -----  \n",
      " 0   id       100000 non-null  object \n",
      " 1   f0       100000 non-null  float64\n",
      " 2   f1       100000 non-null  float64\n",
      " 3   f2       100000 non-null  float64\n",
      " 4   product  100000 non-null  float64\n",
      "dtypes: float64(4), object(1)\n",
      "memory usage: 3.8+ MB\n"
     ]
    },
    {
     "data": {
      "text/html": [
       "<div>\n",
       "<style scoped>\n",
       "    .dataframe tbody tr th:only-of-type {\n",
       "        vertical-align: middle;\n",
       "    }\n",
       "\n",
       "    .dataframe tbody tr th {\n",
       "        vertical-align: top;\n",
       "    }\n",
       "\n",
       "    .dataframe thead th {\n",
       "        text-align: right;\n",
       "    }\n",
       "</style>\n",
       "<table border=\"1\" class=\"dataframe\">\n",
       "  <thead>\n",
       "    <tr style=\"text-align: right;\">\n",
       "      <th></th>\n",
       "      <th>id</th>\n",
       "      <th>f0</th>\n",
       "      <th>f1</th>\n",
       "      <th>f2</th>\n",
       "      <th>product</th>\n",
       "    </tr>\n",
       "  </thead>\n",
       "  <tbody>\n",
       "    <tr>\n",
       "      <th>0</th>\n",
       "      <td>kBEdx</td>\n",
       "      <td>-15.001348</td>\n",
       "      <td>-8.276000</td>\n",
       "      <td>-0.005876</td>\n",
       "      <td>3.179103</td>\n",
       "    </tr>\n",
       "    <tr>\n",
       "      <th>1</th>\n",
       "      <td>62mP7</td>\n",
       "      <td>14.272088</td>\n",
       "      <td>-3.475083</td>\n",
       "      <td>0.999183</td>\n",
       "      <td>26.953261</td>\n",
       "    </tr>\n",
       "    <tr>\n",
       "      <th>2</th>\n",
       "      <td>vyE1P</td>\n",
       "      <td>6.263187</td>\n",
       "      <td>-5.948386</td>\n",
       "      <td>5.001160</td>\n",
       "      <td>134.766305</td>\n",
       "    </tr>\n",
       "    <tr>\n",
       "      <th>3</th>\n",
       "      <td>KcrkZ</td>\n",
       "      <td>-13.081196</td>\n",
       "      <td>-11.506057</td>\n",
       "      <td>4.999415</td>\n",
       "      <td>137.945408</td>\n",
       "    </tr>\n",
       "    <tr>\n",
       "      <th>4</th>\n",
       "      <td>AHL4O</td>\n",
       "      <td>12.702195</td>\n",
       "      <td>-8.147433</td>\n",
       "      <td>5.004363</td>\n",
       "      <td>134.766305</td>\n",
       "    </tr>\n",
       "  </tbody>\n",
       "</table>\n",
       "</div>"
      ],
      "text/plain": [
       "      id         f0         f1        f2     product\n",
       "0  kBEdx -15.001348  -8.276000 -0.005876    3.179103\n",
       "1  62mP7  14.272088  -3.475083  0.999183   26.953261\n",
       "2  vyE1P   6.263187  -5.948386  5.001160  134.766305\n",
       "3  KcrkZ -13.081196 -11.506057  4.999415  137.945408\n",
       "4  AHL4O  12.702195  -8.147433  5.004363  134.766305"
      ]
     },
     "metadata": {},
     "output_type": "display_data"
    },
    {
     "data": {
      "text/html": [
       "<div>\n",
       "<style scoped>\n",
       "    .dataframe tbody tr th:only-of-type {\n",
       "        vertical-align: middle;\n",
       "    }\n",
       "\n",
       "    .dataframe tbody tr th {\n",
       "        vertical-align: top;\n",
       "    }\n",
       "\n",
       "    .dataframe thead th {\n",
       "        text-align: right;\n",
       "    }\n",
       "</style>\n",
       "<table border=\"1\" class=\"dataframe\">\n",
       "  <thead>\n",
       "    <tr style=\"text-align: right;\">\n",
       "      <th></th>\n",
       "      <th>f0</th>\n",
       "      <th>f1</th>\n",
       "      <th>f2</th>\n",
       "      <th>product</th>\n",
       "    </tr>\n",
       "  </thead>\n",
       "  <tbody>\n",
       "    <tr>\n",
       "      <th>count</th>\n",
       "      <td>100000.000000</td>\n",
       "      <td>100000.000000</td>\n",
       "      <td>100000.000000</td>\n",
       "      <td>100000.000000</td>\n",
       "    </tr>\n",
       "    <tr>\n",
       "      <th>mean</th>\n",
       "      <td>1.141296</td>\n",
       "      <td>-4.796579</td>\n",
       "      <td>2.494541</td>\n",
       "      <td>68.825000</td>\n",
       "    </tr>\n",
       "    <tr>\n",
       "      <th>std</th>\n",
       "      <td>8.965932</td>\n",
       "      <td>5.119872</td>\n",
       "      <td>1.703572</td>\n",
       "      <td>45.944423</td>\n",
       "    </tr>\n",
       "    <tr>\n",
       "      <th>min</th>\n",
       "      <td>-31.609576</td>\n",
       "      <td>-26.358598</td>\n",
       "      <td>-0.018144</td>\n",
       "      <td>0.000000</td>\n",
       "    </tr>\n",
       "    <tr>\n",
       "      <th>25%</th>\n",
       "      <td>-6.298551</td>\n",
       "      <td>-8.267985</td>\n",
       "      <td>1.000021</td>\n",
       "      <td>26.953261</td>\n",
       "    </tr>\n",
       "    <tr>\n",
       "      <th>50%</th>\n",
       "      <td>1.153055</td>\n",
       "      <td>-4.813172</td>\n",
       "      <td>2.011479</td>\n",
       "      <td>57.085625</td>\n",
       "    </tr>\n",
       "    <tr>\n",
       "      <th>75%</th>\n",
       "      <td>8.621015</td>\n",
       "      <td>-1.332816</td>\n",
       "      <td>3.999904</td>\n",
       "      <td>107.813044</td>\n",
       "    </tr>\n",
       "    <tr>\n",
       "      <th>max</th>\n",
       "      <td>29.421755</td>\n",
       "      <td>18.734063</td>\n",
       "      <td>5.019721</td>\n",
       "      <td>137.945408</td>\n",
       "    </tr>\n",
       "  </tbody>\n",
       "</table>\n",
       "</div>"
      ],
      "text/plain": [
       "                  f0             f1             f2        product\n",
       "count  100000.000000  100000.000000  100000.000000  100000.000000\n",
       "mean        1.141296      -4.796579       2.494541      68.825000\n",
       "std         8.965932       5.119872       1.703572      45.944423\n",
       "min       -31.609576     -26.358598      -0.018144       0.000000\n",
       "25%        -6.298551      -8.267985       1.000021      26.953261\n",
       "50%         1.153055      -4.813172       2.011479      57.085625\n",
       "75%         8.621015      -1.332816       3.999904     107.813044\n",
       "max        29.421755      18.734063       5.019721     137.945408"
      ]
     },
     "metadata": {},
     "output_type": "display_data"
    },
    {
     "name": "stdout",
     "output_type": "stream",
     "text": [
      "количество дубликатов в таблице:  0\n",
      "количество уникальных id:  99996 \n",
      "\n",
      "Таблица:  geo_data_2\n",
      "Размер данных: (100000, 5)\n",
      "<class 'pandas.core.frame.DataFrame'>\n",
      "RangeIndex: 100000 entries, 0 to 99999\n",
      "Data columns (total 5 columns):\n",
      " #   Column   Non-Null Count   Dtype  \n",
      "---  ------   --------------   -----  \n",
      " 0   id       100000 non-null  object \n",
      " 1   f0       100000 non-null  float64\n",
      " 2   f1       100000 non-null  float64\n",
      " 3   f2       100000 non-null  float64\n",
      " 4   product  100000 non-null  float64\n",
      "dtypes: float64(4), object(1)\n",
      "memory usage: 3.8+ MB\n"
     ]
    },
    {
     "data": {
      "text/html": [
       "<div>\n",
       "<style scoped>\n",
       "    .dataframe tbody tr th:only-of-type {\n",
       "        vertical-align: middle;\n",
       "    }\n",
       "\n",
       "    .dataframe tbody tr th {\n",
       "        vertical-align: top;\n",
       "    }\n",
       "\n",
       "    .dataframe thead th {\n",
       "        text-align: right;\n",
       "    }\n",
       "</style>\n",
       "<table border=\"1\" class=\"dataframe\">\n",
       "  <thead>\n",
       "    <tr style=\"text-align: right;\">\n",
       "      <th></th>\n",
       "      <th>id</th>\n",
       "      <th>f0</th>\n",
       "      <th>f1</th>\n",
       "      <th>f2</th>\n",
       "      <th>product</th>\n",
       "    </tr>\n",
       "  </thead>\n",
       "  <tbody>\n",
       "    <tr>\n",
       "      <th>0</th>\n",
       "      <td>fwXo0</td>\n",
       "      <td>-1.146987</td>\n",
       "      <td>0.963328</td>\n",
       "      <td>-0.828965</td>\n",
       "      <td>27.758673</td>\n",
       "    </tr>\n",
       "    <tr>\n",
       "      <th>1</th>\n",
       "      <td>WJtFt</td>\n",
       "      <td>0.262778</td>\n",
       "      <td>0.269839</td>\n",
       "      <td>-2.530187</td>\n",
       "      <td>56.069697</td>\n",
       "    </tr>\n",
       "    <tr>\n",
       "      <th>2</th>\n",
       "      <td>ovLUW</td>\n",
       "      <td>0.194587</td>\n",
       "      <td>0.289035</td>\n",
       "      <td>-5.586433</td>\n",
       "      <td>62.871910</td>\n",
       "    </tr>\n",
       "    <tr>\n",
       "      <th>3</th>\n",
       "      <td>q6cA6</td>\n",
       "      <td>2.236060</td>\n",
       "      <td>-0.553760</td>\n",
       "      <td>0.930038</td>\n",
       "      <td>114.572842</td>\n",
       "    </tr>\n",
       "    <tr>\n",
       "      <th>4</th>\n",
       "      <td>WPMUX</td>\n",
       "      <td>-0.515993</td>\n",
       "      <td>1.716266</td>\n",
       "      <td>5.899011</td>\n",
       "      <td>149.600746</td>\n",
       "    </tr>\n",
       "  </tbody>\n",
       "</table>\n",
       "</div>"
      ],
      "text/plain": [
       "      id        f0        f1        f2     product\n",
       "0  fwXo0 -1.146987  0.963328 -0.828965   27.758673\n",
       "1  WJtFt  0.262778  0.269839 -2.530187   56.069697\n",
       "2  ovLUW  0.194587  0.289035 -5.586433   62.871910\n",
       "3  q6cA6  2.236060 -0.553760  0.930038  114.572842\n",
       "4  WPMUX -0.515993  1.716266  5.899011  149.600746"
      ]
     },
     "metadata": {},
     "output_type": "display_data"
    },
    {
     "data": {
      "text/html": [
       "<div>\n",
       "<style scoped>\n",
       "    .dataframe tbody tr th:only-of-type {\n",
       "        vertical-align: middle;\n",
       "    }\n",
       "\n",
       "    .dataframe tbody tr th {\n",
       "        vertical-align: top;\n",
       "    }\n",
       "\n",
       "    .dataframe thead th {\n",
       "        text-align: right;\n",
       "    }\n",
       "</style>\n",
       "<table border=\"1\" class=\"dataframe\">\n",
       "  <thead>\n",
       "    <tr style=\"text-align: right;\">\n",
       "      <th></th>\n",
       "      <th>f0</th>\n",
       "      <th>f1</th>\n",
       "      <th>f2</th>\n",
       "      <th>product</th>\n",
       "    </tr>\n",
       "  </thead>\n",
       "  <tbody>\n",
       "    <tr>\n",
       "      <th>count</th>\n",
       "      <td>100000.000000</td>\n",
       "      <td>100000.000000</td>\n",
       "      <td>100000.000000</td>\n",
       "      <td>100000.000000</td>\n",
       "    </tr>\n",
       "    <tr>\n",
       "      <th>mean</th>\n",
       "      <td>0.002023</td>\n",
       "      <td>-0.002081</td>\n",
       "      <td>2.495128</td>\n",
       "      <td>95.000000</td>\n",
       "    </tr>\n",
       "    <tr>\n",
       "      <th>std</th>\n",
       "      <td>1.732045</td>\n",
       "      <td>1.730417</td>\n",
       "      <td>3.473445</td>\n",
       "      <td>44.749921</td>\n",
       "    </tr>\n",
       "    <tr>\n",
       "      <th>min</th>\n",
       "      <td>-8.760004</td>\n",
       "      <td>-7.084020</td>\n",
       "      <td>-11.970335</td>\n",
       "      <td>0.000000</td>\n",
       "    </tr>\n",
       "    <tr>\n",
       "      <th>25%</th>\n",
       "      <td>-1.162288</td>\n",
       "      <td>-1.174820</td>\n",
       "      <td>0.130359</td>\n",
       "      <td>59.450441</td>\n",
       "    </tr>\n",
       "    <tr>\n",
       "      <th>50%</th>\n",
       "      <td>0.009424</td>\n",
       "      <td>-0.009482</td>\n",
       "      <td>2.484236</td>\n",
       "      <td>94.925613</td>\n",
       "    </tr>\n",
       "    <tr>\n",
       "      <th>75%</th>\n",
       "      <td>1.158535</td>\n",
       "      <td>1.163678</td>\n",
       "      <td>4.858794</td>\n",
       "      <td>130.595027</td>\n",
       "    </tr>\n",
       "    <tr>\n",
       "      <th>max</th>\n",
       "      <td>7.238262</td>\n",
       "      <td>7.844801</td>\n",
       "      <td>16.739402</td>\n",
       "      <td>190.029838</td>\n",
       "    </tr>\n",
       "  </tbody>\n",
       "</table>\n",
       "</div>"
      ],
      "text/plain": [
       "                  f0             f1             f2        product\n",
       "count  100000.000000  100000.000000  100000.000000  100000.000000\n",
       "mean        0.002023      -0.002081       2.495128      95.000000\n",
       "std         1.732045       1.730417       3.473445      44.749921\n",
       "min        -8.760004      -7.084020     -11.970335       0.000000\n",
       "25%        -1.162288      -1.174820       0.130359      59.450441\n",
       "50%         0.009424      -0.009482       2.484236      94.925613\n",
       "75%         1.158535       1.163678       4.858794     130.595027\n",
       "max         7.238262       7.844801      16.739402     190.029838"
      ]
     },
     "metadata": {},
     "output_type": "display_data"
    },
    {
     "name": "stdout",
     "output_type": "stream",
     "text": [
      "количество дубликатов в таблице:  0\n",
      "количество уникальных id:  99996 \n",
      "\n"
     ]
    }
   ],
   "source": [
    "data_info(geo_data_0,' geo_data_0')\n",
    "data_info(geo_data_1, 'geo_data_1')\n",
    "data_info(geo_data_2,' geo_data_2')"
   ]
  },
  {
   "cell_type": "markdown",
   "metadata": {},
   "source": [
    "В каждом датафрейме по 10 000 данных, пропуски отсутствуют. Типы данных столбцов соответсвуют информации. Количество уникальных id меньше, чем строк с данными, но дубликатов нет. "
   ]
  },
  {
   "cell_type": "markdown",
   "metadata": {},
   "source": [
    "Так как в исходных данных описано, что id - уникальный идентификатор скважины, то, вероятно, эти данные аномальные и их следует удалить. "
   ]
  },
  {
   "cell_type": "code",
   "execution_count": 7,
   "metadata": {},
   "outputs": [],
   "source": [
    "#Поиск и удаление аномальных повторяющихся id:\n",
    "def data_double(data, data_name):\n",
    "    print('Таблица:', data_name) \n",
    "    print('Размер таблицы: ', data.shape)\n",
    "    print('Количество повторяющихся id: ', data['id'].value_counts()[data['id'].value_counts() >= 2].shape[0])\n",
    "    list = data['id'].value_counts()[data['id'].value_counts() >= 2].index.to_list()\n",
    "    for i in list:\n",
    "        data =  data[data['id'].str.contains(i)== False ]\n",
    "    print('Размер таблицы после удаления аномальных id: ', data.shape, '\\n')\n",
    "    return data"
   ]
  },
  {
   "cell_type": "code",
   "execution_count": 8,
   "metadata": {},
   "outputs": [
    {
     "name": "stdout",
     "output_type": "stream",
     "text": [
      "Таблица: geo_data_0\n",
      "Размер таблицы:  (100000, 5)\n",
      "Количество повторяющихся id:  10\n",
      "Размер таблицы после удаления аномальных id:  (99980, 5) \n",
      "\n",
      "Таблица: geo_data_1\n",
      "Размер таблицы:  (100000, 5)\n",
      "Количество повторяющихся id:  4\n",
      "Размер таблицы после удаления аномальных id:  (99992, 5) \n",
      "\n",
      "Таблица: geo_data_2\n",
      "Размер таблицы:  (100000, 5)\n",
      "Количество повторяющихся id:  4\n",
      "Размер таблицы после удаления аномальных id:  (99992, 5) \n",
      "\n"
     ]
    }
   ],
   "source": [
    "geo_data_0 = data_double(geo_data_0, 'geo_data_0')\n",
    "geo_data_1 = data_double(geo_data_1, 'geo_data_1')\n",
    "geo_data_2 = data_double(geo_data_2, 'geo_data_2')"
   ]
  },
  {
   "cell_type": "code",
   "execution_count": 9,
   "metadata": {},
   "outputs": [
    {
     "data": {
      "image/png": "[encoded data removed]",
      "text/plain": [
       "<Figure size 1080x504 with 1 Axes>"
      ]
     },
     "metadata": {
      "needs_background": "light"
     },
     "output_type": "display_data"
    }
   ],
   "source": [
    "plt.title('Распределение объемов запасов сырья в скважинах')\n",
    "\n",
    "ax = geo_data_0['product'].plot(kind='hist',\n",
    "                          figsize=(15,7),\n",
    "                          grid=True,\n",
    "                          legend=True,\n",
    "                          alpha=0.7,\n",
    "                          histtype='step',\n",
    "                          linewidth=7,\n",
    "                          label='1 регион')\n",
    "\n",
    "ax1 = geo_data_1['product'].plot(kind='hist',\n",
    "                                 figsize=(15,7),\n",
    "                                 grid=True,\n",
    "                                 legend=True,\n",
    "                                 alpha=0.7,\n",
    "                                 histtype='step',\n",
    "                                 linewidth=7,\n",
    "                                 label='2 регион',\n",
    "                                 ax=ax)\n",
    "\n",
    "geo_data_2['product'].plot(kind='hist',\n",
    "                            figsize=(15,7),\n",
    "                            grid=True,\n",
    "                            legend=True,\n",
    "                            alpha=0.7,\n",
    "                            histtype='step',\n",
    "                            linewidth=7,\n",
    "                            label='3 регион',\n",
    "                            ax=ax1)\n",
    "\n",
    "plt.xlabel('Распределения объемов запасов сырья в скважинах')\n",
    "plt.ylabel('Объем запасов сырья, тыс.баррелей')\n",
    "plt.show()\n"
   ]
  },
  {
   "cell_type": "markdown",
   "metadata": {},
   "source": [
    "### Вывод по анализу и обработке данных"
   ]
  },
  {
   "cell_type": "markdown",
   "metadata": {},
   "source": [
    "- Изначально в каждом датафрейме по 10 000 данных, пропуски отсутствуют.\n",
    "- Типы данных столбцов соответсвуют вложенной информации. \n",
    "- Дубликатов в исходных таблиц нет.\n",
    "- Удалены строки с аномально повторяющимися id скважин.\n",
    "\n",
    "- На графике распределения объемов запаса сырья видно, что первый и третий регион следуют нормальному распределению и схожи между собой, в то время как второй регион распределен нетипично. Вероятно, различия будут заметны и при результатах исследования рисков и прибыльности объектов регионов. "
   ]
  },
  {
   "cell_type": "markdown",
   "metadata": {},
   "source": [
    "## Обучение и проверка модели <a class=\"anchor\" id=\"chapter2\"></a>"
   ]
  },
  {
   "cell_type": "markdown",
   "metadata": {},
   "source": [
    "**Необходимо обучить и проверить модель для каждого региона:**\n",
    "   - Разбить данные на обучающую и валидационную выборки в соотношении 75:25.\n",
    "   - Обучить модель и сделать предсказания на валидационной выборке.\n",
    "   - Сохранить предсказания и правильные ответы на валидационной выборке.\n",
    "   - Напечатать на экране средний запас предсказанного сырья и RMSE модели.\n",
    "   - Проанализировать результаты."
   ]
  },
  {
   "cell_type": "markdown",
   "metadata": {},
   "source": [
    "### Разбиение данных"
   ]
  },
  {
   "cell_type": "markdown",
   "metadata": {},
   "source": [
    "1. Разбиение исходных данных на две выборки:\n",
    "- обучающую (train);\n",
    "- валидационную (val);\n",
    "2. Параметр (random_state) выбран равным 12345.\n",
    "3. Объявление четырех переменных:\n",
    "- признаки: x_train, x_val;\n",
    "- целевой признак: y_train, y_val.\n",
    "4. Разделение на 2 выборки будет происходить в соотнешении 75:25. Для равномерного распределения  функции train_test_split задан параметр stratify=target.\n",
    "5. Признак 'id' не будет используем для переменных с признаками.\n",
    "   \n",
    "   Признак 'id' -  уникальный идентификатор скважины - не несет в себе потенциальную информацию для предсказания объёма запасов в новых скважинах. "
   ]
  },
  {
   "cell_type": "code",
   "execution_count": 10,
   "metadata": {},
   "outputs": [],
   "source": [
    "features = ['f0', 'f1', 'f2']\n",
    "target = ['product']"
   ]
  },
  {
   "cell_type": "code",
   "execution_count": 11,
   "metadata": {},
   "outputs": [],
   "source": [
    "x1 = geo_data_0[features]\n",
    "y1 = geo_data_0[target]\n",
    "\n",
    "x2 = geo_data_1[features]\n",
    "y2 = geo_data_1[target]\n",
    "\n",
    "x3 = geo_data_2[features]\n",
    "y3 = geo_data_2[target]"
   ]
  },
  {
   "cell_type": "markdown",
   "metadata": {},
   "source": [
    "**Проверка на мультиколлинеарность признаков**"
   ]
  },
  {
   "cell_type": "markdown",
   "metadata": {},
   "source": [
    "Ситуация мультиколлинеарности возникает, когда две независимые переменные имеют сильную корреляцию.\n",
    "\n",
    "Поскольку существует сильная взаимосвязь, определение значимых переменных будет сложной задачей. Может произойти переобучение, и точность модели изменится в зависимости от набора данных."
   ]
  },
  {
   "cell_type": "code",
   "execution_count": 12,
   "metadata": {},
   "outputs": [],
   "source": [
    "def correlations(x1):\n",
    "    upp_mat = np.triu(x1.corr())\n",
    "    fig, ax = plt.subplots(figsize=(15, 5))\n",
    "\n",
    "    sns.heatmap(x1.corr(), vmin = -1, vmax = +1, annot = True, cmap = 'coolwarm', mask = upp_mat)\n",
    "    plt.title('Тепловая карта корреляций признаков')\n",
    "    \n",
    "    plt.show()\n",
    "    display(x1.head())"
   ]
  },
  {
   "cell_type": "code",
   "execution_count": 13,
   "metadata": {},
   "outputs": [
    {
     "name": "stdout",
     "output_type": "stream",
     "text": [
      "region 1\n"
     ]
    },
    {
     "data": {
      "image/png": "[encoded data removed]",
      "text/plain": [
       "<Figure size 1080x360 with 2 Axes>"
      ]
     },
     "metadata": {
      "needs_background": "light"
     },
     "output_type": "display_data"
    },
    {
     "data": {
      "text/html": [
       "<div>\n",
       "<style scoped>\n",
       "    .dataframe tbody tr th:only-of-type {\n",
       "        vertical-align: middle;\n",
       "    }\n",
       "\n",
       "    .dataframe tbody tr th {\n",
       "        vertical-align: top;\n",
       "    }\n",
       "\n",
       "    .dataframe thead th {\n",
       "        text-align: right;\n",
       "    }\n",
       "</style>\n",
       "<table border=\"1\" class=\"dataframe\">\n",
       "  <thead>\n",
       "    <tr style=\"text-align: right;\">\n",
       "      <th></th>\n",
       "      <th>f0</th>\n",
       "      <th>f1</th>\n",
       "      <th>f2</th>\n",
       "    </tr>\n",
       "  </thead>\n",
       "  <tbody>\n",
       "    <tr>\n",
       "      <th>0</th>\n",
       "      <td>0.705745</td>\n",
       "      <td>-0.497823</td>\n",
       "      <td>1.221170</td>\n",
       "    </tr>\n",
       "    <tr>\n",
       "      <th>1</th>\n",
       "      <td>1.334711</td>\n",
       "      <td>-0.340164</td>\n",
       "      <td>4.365080</td>\n",
       "    </tr>\n",
       "    <tr>\n",
       "      <th>2</th>\n",
       "      <td>1.022732</td>\n",
       "      <td>0.151990</td>\n",
       "      <td>1.419926</td>\n",
       "    </tr>\n",
       "    <tr>\n",
       "      <th>3</th>\n",
       "      <td>-0.032172</td>\n",
       "      <td>0.139033</td>\n",
       "      <td>2.978566</td>\n",
       "    </tr>\n",
       "    <tr>\n",
       "      <th>4</th>\n",
       "      <td>1.988431</td>\n",
       "      <td>0.155413</td>\n",
       "      <td>4.751769</td>\n",
       "    </tr>\n",
       "  </tbody>\n",
       "</table>\n",
       "</div>"
      ],
      "text/plain": [
       "         f0        f1        f2\n",
       "0  0.705745 -0.497823  1.221170\n",
       "1  1.334711 -0.340164  4.365080\n",
       "2  1.022732  0.151990  1.419926\n",
       "3 -0.032172  0.139033  2.978566\n",
       "4  1.988431  0.155413  4.751769"
      ]
     },
     "metadata": {},
     "output_type": "display_data"
    },
    {
     "name": "stdout",
     "output_type": "stream",
     "text": [
      "\n",
      " region 2\n"
     ]
    },
    {
     "data": {
      "image/png": "[encoded data removed]",
      "text/plain": [
       "<Figure size 1080x360 with 2 Axes>"
      ]
     },
     "metadata": {
      "needs_background": "light"
     },
     "output_type": "display_data"
    },
    {
     "data": {
      "text/html": [
       "<div>\n",
       "<style scoped>\n",
       "    .dataframe tbody tr th:only-of-type {\n",
       "        vertical-align: middle;\n",
       "    }\n",
       "\n",
       "    .dataframe tbody tr th {\n",
       "        vertical-align: top;\n",
       "    }\n",
       "\n",
       "    .dataframe thead th {\n",
       "        text-align: right;\n",
       "    }\n",
       "</style>\n",
       "<table border=\"1\" class=\"dataframe\">\n",
       "  <thead>\n",
       "    <tr style=\"text-align: right;\">\n",
       "      <th></th>\n",
       "      <th>f0</th>\n",
       "      <th>f1</th>\n",
       "      <th>f2</th>\n",
       "    </tr>\n",
       "  </thead>\n",
       "  <tbody>\n",
       "    <tr>\n",
       "      <th>0</th>\n",
       "      <td>-15.001348</td>\n",
       "      <td>-8.276000</td>\n",
       "      <td>-0.005876</td>\n",
       "    </tr>\n",
       "    <tr>\n",
       "      <th>1</th>\n",
       "      <td>14.272088</td>\n",
       "      <td>-3.475083</td>\n",
       "      <td>0.999183</td>\n",
       "    </tr>\n",
       "    <tr>\n",
       "      <th>2</th>\n",
       "      <td>6.263187</td>\n",
       "      <td>-5.948386</td>\n",
       "      <td>5.001160</td>\n",
       "    </tr>\n",
       "    <tr>\n",
       "      <th>3</th>\n",
       "      <td>-13.081196</td>\n",
       "      <td>-11.506057</td>\n",
       "      <td>4.999415</td>\n",
       "    </tr>\n",
       "    <tr>\n",
       "      <th>4</th>\n",
       "      <td>12.702195</td>\n",
       "      <td>-8.147433</td>\n",
       "      <td>5.004363</td>\n",
       "    </tr>\n",
       "  </tbody>\n",
       "</table>\n",
       "</div>"
      ],
      "text/plain": [
       "          f0         f1        f2\n",
       "0 -15.001348  -8.276000 -0.005876\n",
       "1  14.272088  -3.475083  0.999183\n",
       "2   6.263187  -5.948386  5.001160\n",
       "3 -13.081196 -11.506057  4.999415\n",
       "4  12.702195  -8.147433  5.004363"
      ]
     },
     "metadata": {},
     "output_type": "display_data"
    },
    {
     "name": "stdout",
     "output_type": "stream",
     "text": [
      "\n",
      " region 3\n"
     ]
    },
    {
     "data": {
      "image/png": "[encoded data removed]",
      "text/plain": [
       "<Figure size 1080x360 with 2 Axes>"
      ]
     },
     "metadata": {
      "needs_background": "light"
     },
     "output_type": "display_data"
    },
    {
     "data": {
      "text/html": [
       "<div>\n",
       "<style scoped>\n",
       "    .dataframe tbody tr th:only-of-type {\n",
       "        vertical-align: middle;\n",
       "    }\n",
       "\n",
       "    .dataframe tbody tr th {\n",
       "        vertical-align: top;\n",
       "    }\n",
       "\n",
       "    .dataframe thead th {\n",
       "        text-align: right;\n",
       "    }\n",
       "</style>\n",
       "<table border=\"1\" class=\"dataframe\">\n",
       "  <thead>\n",
       "    <tr style=\"text-align: right;\">\n",
       "      <th></th>\n",
       "      <th>f0</th>\n",
       "      <th>f1</th>\n",
       "      <th>f2</th>\n",
       "    </tr>\n",
       "  </thead>\n",
       "  <tbody>\n",
       "    <tr>\n",
       "      <th>0</th>\n",
       "      <td>-1.146987</td>\n",
       "      <td>0.963328</td>\n",
       "      <td>-0.828965</td>\n",
       "    </tr>\n",
       "    <tr>\n",
       "      <th>1</th>\n",
       "      <td>0.262778</td>\n",
       "      <td>0.269839</td>\n",
       "      <td>-2.530187</td>\n",
       "    </tr>\n",
       "    <tr>\n",
       "      <th>2</th>\n",
       "      <td>0.194587</td>\n",
       "      <td>0.289035</td>\n",
       "      <td>-5.586433</td>\n",
       "    </tr>\n",
       "    <tr>\n",
       "      <th>3</th>\n",
       "      <td>2.236060</td>\n",
       "      <td>-0.553760</td>\n",
       "      <td>0.930038</td>\n",
       "    </tr>\n",
       "    <tr>\n",
       "      <th>4</th>\n",
       "      <td>-0.515993</td>\n",
       "      <td>1.716266</td>\n",
       "      <td>5.899011</td>\n",
       "    </tr>\n",
       "  </tbody>\n",
       "</table>\n",
       "</div>"
      ],
      "text/plain": [
       "         f0        f1        f2\n",
       "0 -1.146987  0.963328 -0.828965\n",
       "1  0.262778  0.269839 -2.530187\n",
       "2  0.194587  0.289035 -5.586433\n",
       "3  2.236060 -0.553760  0.930038\n",
       "4 -0.515993  1.716266  5.899011"
      ]
     },
     "metadata": {},
     "output_type": "display_data"
    }
   ],
   "source": [
    "print('region 1')\n",
    "correlations(x1)\n",
    "print('\\n', 'region 2')\n",
    "correlations(x2)\n",
    "print('\\n', 'region 3')\n",
    "correlations(x3)"
   ]
  },
  {
   "cell_type": "markdown",
   "metadata": {},
   "source": [
    "Независимые признаки не имеют высокую коллинеарность. "
   ]
  },
  {
   "cell_type": "markdown",
   "metadata": {},
   "source": [
    "**создание валидационной и обучающей выборок**"
   ]
  },
  {
   "cell_type": "code",
   "execution_count": 14,
   "metadata": {},
   "outputs": [
    {
     "name": "stdout",
     "output_type": "stream",
     "text": [
      "размер x_train_1, x_val_1: 74985 24995\n",
      "размер x_train_2, x_val_2: 74994 24998\n",
      "размер x_train_3, x_val_3: 74994 24998\n"
     ]
    }
   ],
   "source": [
    "# создание валидационной и обучающей выборок\n",
    "x_train_1, x_val_1, y_train_1, y_val_1 = train_test_split(x1, y1, test_size=0.25, random_state=12345)\n",
    "\n",
    "x_train_2, x_val_2, y_train_2, y_val_2 = train_test_split(x2, y2, test_size=0.25, random_state=12345)\n",
    "\n",
    "x_train_3, x_val_3, y_train_3, y_val_3 = train_test_split(x3, y3, test_size=0.25, random_state=12345)\n",
    "\n",
    "#вывод на экран размер таблиц\n",
    "print('размер x_train_1, x_val_1:', x_train_1.shape[0], x_val_1.shape[0])\n",
    "print('размер x_train_2, x_val_2:', x_train_2.shape[0], x_val_2.shape[0])\n",
    "print('размер x_train_3, x_val_3:', x_train_3.shape[0], x_val_3.shape[0])"
   ]
  },
  {
   "cell_type": "markdown",
   "metadata": {},
   "source": [
    "### Стандартизация данных"
   ]
  },
  {
   "cell_type": "markdown",
   "metadata": {},
   "source": [
    "**Стандартизация** – это метод масштабирования, при котором данные не масштабируются путем преобразования статистического распределения данных в следующий формат: \n",
    "- среднее – 0 (ноль);\n",
    "- стандартное отклонение – 1.\n",
    "\n",
    "Для стандартизации используется функция StandardScaler() библиотеки sklearn."
   ]
  },
  {
   "cell_type": "code",
   "execution_count": 15,
   "metadata": {},
   "outputs": [],
   "source": [
    "#функция для стандартизации данных\n",
    "\n",
    "def scaler(x_train, x_val):\n",
    "    scaler = StandardScaler()\n",
    "    scaler.fit(x_train)\n",
    "    x_train = pd.DataFrame(scaler.transform(x_train),\n",
    "                           columns=x_train.columns,\n",
    "                           index=x_train.index)\n",
    "    x_val = pd.DataFrame(scaler.transform(x_val),\n",
    "                         columns=x_val.columns,\n",
    "                         index=x_val.index)\n",
    "    return x_train, x_val"
   ]
  },
  {
   "cell_type": "code",
   "execution_count": 16,
   "metadata": {},
   "outputs": [],
   "source": [
    "x_train_1, x_val_1 = scaler(x_train_1, x_val_1)\n",
    "x_train_2, x_val_2 = scaler(x_train_2, x_val_2)\n",
    "x_train_3, x_val_3 = scaler(x_train_3, x_val_3)"
   ]
  },
  {
   "cell_type": "markdown",
   "metadata": {},
   "source": [
    "### Обучение моделей"
   ]
  },
  {
   "cell_type": "markdown",
   "metadata": {},
   "source": [
    "**Условие:** Для обучения модели подходит только линейная регрессия"
   ]
  },
  {
   "cell_type": "markdown",
   "metadata": {},
   "source": [
    "В sklearn есть несколько классов, реализующих линейную регрессию:\n",
    "\n",
    "- **LinearRegression** — «классическая» линейная регрессия с оптимизацией MSE.\n",
    "- **Ridge** — линейная регрессия с оптимизацией MSE и ℓ2-регуляризацией\n",
    "- **Lasso** — линейная регрессия с оптимизацией MSE и ℓ1-регуляризацией"
   ]
  },
  {
   "cell_type": "code",
   "execution_count": 17,
   "metadata": {},
   "outputs": [
    {
     "data": {
      "text/html": [
       "<div>\n",
       "<style scoped>\n",
       "    .dataframe tbody tr th:only-of-type {\n",
       "        vertical-align: middle;\n",
       "    }\n",
       "\n",
       "    .dataframe tbody tr th {\n",
       "        vertical-align: top;\n",
       "    }\n",
       "\n",
       "    .dataframe thead th {\n",
       "        text-align: right;\n",
       "    }\n",
       "</style>\n",
       "<table border=\"1\" class=\"dataframe\">\n",
       "  <thead>\n",
       "    <tr style=\"text-align: right;\">\n",
       "      <th></th>\n",
       "      <th>r2</th>\n",
       "      <th>mae</th>\n",
       "      <th>rmse</th>\n",
       "      <th>pred_product_mean</th>\n",
       "    </tr>\n",
       "  </thead>\n",
       "  <tbody>\n",
       "    <tr>\n",
       "      <th>model_lr_reg1</th>\n",
       "      <td>NaN</td>\n",
       "      <td>NaN</td>\n",
       "      <td>NaN</td>\n",
       "      <td>NaN</td>\n",
       "    </tr>\n",
       "    <tr>\n",
       "      <th>model_lr_reg2</th>\n",
       "      <td>NaN</td>\n",
       "      <td>NaN</td>\n",
       "      <td>NaN</td>\n",
       "      <td>NaN</td>\n",
       "    </tr>\n",
       "    <tr>\n",
       "      <th>model_lr_reg3</th>\n",
       "      <td>NaN</td>\n",
       "      <td>NaN</td>\n",
       "      <td>NaN</td>\n",
       "      <td>NaN</td>\n",
       "    </tr>\n",
       "    <tr>\n",
       "      <th>model_ridge_reg1</th>\n",
       "      <td>NaN</td>\n",
       "      <td>NaN</td>\n",
       "      <td>NaN</td>\n",
       "      <td>NaN</td>\n",
       "    </tr>\n",
       "    <tr>\n",
       "      <th>model_ridge_reg2</th>\n",
       "      <td>NaN</td>\n",
       "      <td>NaN</td>\n",
       "      <td>NaN</td>\n",
       "      <td>NaN</td>\n",
       "    </tr>\n",
       "    <tr>\n",
       "      <th>model_ridge_reg3</th>\n",
       "      <td>NaN</td>\n",
       "      <td>NaN</td>\n",
       "      <td>NaN</td>\n",
       "      <td>NaN</td>\n",
       "    </tr>\n",
       "    <tr>\n",
       "      <th>model_lasso_reg1</th>\n",
       "      <td>NaN</td>\n",
       "      <td>NaN</td>\n",
       "      <td>NaN</td>\n",
       "      <td>NaN</td>\n",
       "    </tr>\n",
       "    <tr>\n",
       "      <th>model_lasso_reg2</th>\n",
       "      <td>NaN</td>\n",
       "      <td>NaN</td>\n",
       "      <td>NaN</td>\n",
       "      <td>NaN</td>\n",
       "    </tr>\n",
       "    <tr>\n",
       "      <th>model_lasso_reg3</th>\n",
       "      <td>NaN</td>\n",
       "      <td>NaN</td>\n",
       "      <td>NaN</td>\n",
       "      <td>NaN</td>\n",
       "    </tr>\n",
       "  </tbody>\n",
       "</table>\n",
       "</div>"
      ],
      "text/plain": [
       "                   r2  mae rmse pred_product_mean\n",
       "model_lr_reg1     NaN  NaN  NaN               NaN\n",
       "model_lr_reg2     NaN  NaN  NaN               NaN\n",
       "model_lr_reg3     NaN  NaN  NaN               NaN\n",
       "model_ridge_reg1  NaN  NaN  NaN               NaN\n",
       "model_ridge_reg2  NaN  NaN  NaN               NaN\n",
       "model_ridge_reg3  NaN  NaN  NaN               NaN\n",
       "model_lasso_reg1  NaN  NaN  NaN               NaN\n",
       "model_lasso_reg2  NaN  NaN  NaN               NaN\n",
       "model_lasso_reg3  NaN  NaN  NaN               NaN"
      ]
     },
     "execution_count": 17,
     "metadata": {},
     "output_type": "execute_result"
    }
   ],
   "source": [
    "model_table =pd.DataFrame(index=['model_lr_reg1', 'model_lr_reg2', 'model_lr_reg3',\n",
    "                                 'model_ridge_reg1', 'model_ridge_reg2', 'model_ridge_reg3',\n",
    "                                 'model_lasso_reg1', 'model_lasso_reg2', 'model_lasso_reg3'\n",
    "                                ],columns=['r2', 'mae', 'rmse', 'pred_product_mean'])\n",
    "model_table "
   ]
  },
  {
   "cell_type": "code",
   "execution_count": 18,
   "metadata": {},
   "outputs": [],
   "source": [
    "def model_train(x_train, y_train, x_val, y_val, model, model_name):\n",
    "    model.fit(x_train, y_train)\n",
    "\n",
    "    y_pred_val = model.predict(x_val)\n",
    "    \n",
    "    r2 = round(r2_score(y_val, y_pred_val), 3)\n",
    "    mae = round(mean_absolute_error(y_val, y_pred_val), 3)\n",
    "    rmse = round(mse(y_val, y_pred_val)**(.5), 3)\n",
    "    \n",
    "    model_table.loc[model_name,'r2'] = r2\n",
    "    model_table.loc[model_name,'mae'] = mae\n",
    "    model_table.loc[model_name,'rmse'] = rmse\n",
    "    model_table.loc[model_name,'pred_product_mean'] = round(y_pred_val.mean()*1000,2)"
   ]
  },
  {
   "cell_type": "markdown",
   "metadata": {},
   "source": [
    "#### LinearRegression"
   ]
  },
  {
   "cell_type": "code",
   "execution_count": 19,
   "metadata": {},
   "outputs": [],
   "source": [
    "model_lr = LinearRegression()"
   ]
  },
  {
   "cell_type": "code",
   "execution_count": 20,
   "metadata": {},
   "outputs": [
    {
     "data": {
      "text/html": [
       "<div>\n",
       "<style scoped>\n",
       "    .dataframe tbody tr th:only-of-type {\n",
       "        vertical-align: middle;\n",
       "    }\n",
       "\n",
       "    .dataframe tbody tr th {\n",
       "        vertical-align: top;\n",
       "    }\n",
       "\n",
       "    .dataframe thead th {\n",
       "        text-align: right;\n",
       "    }\n",
       "</style>\n",
       "<table border=\"1\" class=\"dataframe\">\n",
       "  <thead>\n",
       "    <tr style=\"text-align: right;\">\n",
       "      <th></th>\n",
       "      <th>r2</th>\n",
       "      <th>mae</th>\n",
       "      <th>rmse</th>\n",
       "      <th>pred_product_mean</th>\n",
       "    </tr>\n",
       "  </thead>\n",
       "  <tbody>\n",
       "    <tr>\n",
       "      <th>model_lr_reg1</th>\n",
       "      <td>0.277</td>\n",
       "      <td>31.109</td>\n",
       "      <td>37.717</td>\n",
       "      <td>92423.84</td>\n",
       "    </tr>\n",
       "    <tr>\n",
       "      <th>model_lr_reg2</th>\n",
       "      <td>1.0</td>\n",
       "      <td>0.718</td>\n",
       "      <td>0.891</td>\n",
       "      <td>68983.12</td>\n",
       "    </tr>\n",
       "    <tr>\n",
       "      <th>model_lr_reg3</th>\n",
       "      <td>0.196</td>\n",
       "      <td>32.777</td>\n",
       "      <td>39.976</td>\n",
       "      <td>95116.22</td>\n",
       "    </tr>\n",
       "    <tr>\n",
       "      <th>model_ridge_reg1</th>\n",
       "      <td>NaN</td>\n",
       "      <td>NaN</td>\n",
       "      <td>NaN</td>\n",
       "      <td>NaN</td>\n",
       "    </tr>\n",
       "    <tr>\n",
       "      <th>model_ridge_reg2</th>\n",
       "      <td>NaN</td>\n",
       "      <td>NaN</td>\n",
       "      <td>NaN</td>\n",
       "      <td>NaN</td>\n",
       "    </tr>\n",
       "    <tr>\n",
       "      <th>model_ridge_reg3</th>\n",
       "      <td>NaN</td>\n",
       "      <td>NaN</td>\n",
       "      <td>NaN</td>\n",
       "      <td>NaN</td>\n",
       "    </tr>\n",
       "    <tr>\n",
       "      <th>model_lasso_reg1</th>\n",
       "      <td>NaN</td>\n",
       "      <td>NaN</td>\n",
       "      <td>NaN</td>\n",
       "      <td>NaN</td>\n",
       "    </tr>\n",
       "    <tr>\n",
       "      <th>model_lasso_reg2</th>\n",
       "      <td>NaN</td>\n",
       "      <td>NaN</td>\n",
       "      <td>NaN</td>\n",
       "      <td>NaN</td>\n",
       "    </tr>\n",
       "    <tr>\n",
       "      <th>model_lasso_reg3</th>\n",
       "      <td>NaN</td>\n",
       "      <td>NaN</td>\n",
       "      <td>NaN</td>\n",
       "      <td>NaN</td>\n",
       "    </tr>\n",
       "  </tbody>\n",
       "</table>\n",
       "</div>"
      ],
      "text/plain": [
       "                     r2     mae    rmse pred_product_mean\n",
       "model_lr_reg1     0.277  31.109  37.717          92423.84\n",
       "model_lr_reg2       1.0   0.718   0.891          68983.12\n",
       "model_lr_reg3     0.196  32.777  39.976          95116.22\n",
       "model_ridge_reg1    NaN     NaN     NaN               NaN\n",
       "model_ridge_reg2    NaN     NaN     NaN               NaN\n",
       "model_ridge_reg3    NaN     NaN     NaN               NaN\n",
       "model_lasso_reg1    NaN     NaN     NaN               NaN\n",
       "model_lasso_reg2    NaN     NaN     NaN               NaN\n",
       "model_lasso_reg3    NaN     NaN     NaN               NaN"
      ]
     },
     "execution_count": 20,
     "metadata": {},
     "output_type": "execute_result"
    }
   ],
   "source": [
    "model_train(x_train_1, y_train_1, x_val_1, y_val_1, model_lr, 'model_lr_reg1')\n",
    "model_train(x_train_2, y_train_2, x_val_2, y_val_2, model_lr, 'model_lr_reg2')\n",
    "model_train(x_train_3, y_train_3, x_val_3, y_val_3, model_lr, 'model_lr_reg3')\n",
    "model_table"
   ]
  },
  {
   "cell_type": "markdown",
   "metadata": {},
   "source": [
    "#### Ridge"
   ]
  },
  {
   "cell_type": "markdown",
   "metadata": {},
   "source": [
    "**Функция для перебора гиперпараметров c испспользованием GridSearchCV()**"
   ]
  },
  {
   "cell_type": "code",
   "execution_count": 21,
   "metadata": {},
   "outputs": [],
   "source": [
    "def model_ridge(x_train, y_train):\n",
    "    \n",
    "    model = Ridge(random_state=12345)\n",
    "    params =  {\n",
    "        'solver':['svd', 'cholesky', 'lsqr', 'sag'],\n",
    "        'alpha': [1e-7, 1e-6, 1e-5, 1e-4, 1e-3, 1e-2, 1e-1, 1, 10, 100],\n",
    "        'fit_intercept':[True, False],\n",
    "        'normalize':[True, False]\n",
    "    }\n",
    "\n",
    "    grid = GridSearchCV(estimator=model,\n",
    "                        param_grid=params,\n",
    "                        cv=5,\n",
    "                        n_jobs=1,\n",
    "                        verbose=2,\n",
    "                        scoring='neg_root_mean_squared_error')\n",
    "\n",
    "    grid.fit(x_train, y_train)\n",
    "\n",
    "    return grid.best_params_"
   ]
  },
  {
   "cell_type": "markdown",
   "metadata": {},
   "source": [
    "#Нахождение гиперпараметров для первого региона\n",
    "model_ridge(x_train_1, y_train_1)"
   ]
  },
  {
   "cell_type": "markdown",
   "metadata": {},
   "source": [
    "**Вывод: alpha = 100,\n",
    "                         fit_intercept = True,\n",
    "                         normalize = False,\n",
    "                         solver = 'sag'**"
   ]
  },
  {
   "cell_type": "markdown",
   "metadata": {},
   "source": [
    "#Нахождение гиперпараметров для второго региона\n",
    "model_ridge(x_train_2, y_train_2)"
   ]
  },
  {
   "cell_type": "markdown",
   "metadata": {},
   "source": [
    "**Вывод: alpha = 0.01,\n",
    "                         fit_intercept = True,\n",
    "                         normalize = False,\n",
    "                         solver = 'svd'**"
   ]
  },
  {
   "cell_type": "markdown",
   "metadata": {},
   "source": [
    "#Нахождение гиперпараметров для третьего региона\n",
    "model_ridge(x_train_3, y_train_3)"
   ]
  },
  {
   "cell_type": "markdown",
   "metadata": {},
   "source": [
    "**Вывод: alpha = 0.0001,\n",
    "                         fit_intercept = True,\n",
    "                         normalize = True,\n",
    "                         solver = 'sag'**"
   ]
  },
  {
   "cell_type": "code",
   "execution_count": 22,
   "metadata": {},
   "outputs": [
    {
     "data": {
      "text/html": [
       "<div>\n",
       "<style scoped>\n",
       "    .dataframe tbody tr th:only-of-type {\n",
       "        vertical-align: middle;\n",
       "    }\n",
       "\n",
       "    .dataframe tbody tr th {\n",
       "        vertical-align: top;\n",
       "    }\n",
       "\n",
       "    .dataframe thead th {\n",
       "        text-align: right;\n",
       "    }\n",
       "</style>\n",
       "<table border=\"1\" class=\"dataframe\">\n",
       "  <thead>\n",
       "    <tr style=\"text-align: right;\">\n",
       "      <th></th>\n",
       "      <th>r2</th>\n",
       "      <th>mae</th>\n",
       "      <th>rmse</th>\n",
       "      <th>pred_product_mean</th>\n",
       "    </tr>\n",
       "  </thead>\n",
       "  <tbody>\n",
       "    <tr>\n",
       "      <th>model_lr_reg1</th>\n",
       "      <td>0.277</td>\n",
       "      <td>31.109</td>\n",
       "      <td>37.717</td>\n",
       "      <td>92423.84</td>\n",
       "    </tr>\n",
       "    <tr>\n",
       "      <th>model_lr_reg2</th>\n",
       "      <td>1.0</td>\n",
       "      <td>0.718</td>\n",
       "      <td>0.891</td>\n",
       "      <td>68983.12</td>\n",
       "    </tr>\n",
       "    <tr>\n",
       "      <th>model_lr_reg3</th>\n",
       "      <td>0.196</td>\n",
       "      <td>32.777</td>\n",
       "      <td>39.976</td>\n",
       "      <td>95116.22</td>\n",
       "    </tr>\n",
       "    <tr>\n",
       "      <th>model_ridge_reg1</th>\n",
       "      <td>0.277</td>\n",
       "      <td>31.111</td>\n",
       "      <td>37.717</td>\n",
       "      <td>92423.99</td>\n",
       "    </tr>\n",
       "    <tr>\n",
       "      <th>model_ridge_reg2</th>\n",
       "      <td>1.0</td>\n",
       "      <td>0.718</td>\n",
       "      <td>0.891</td>\n",
       "      <td>68983.12</td>\n",
       "    </tr>\n",
       "    <tr>\n",
       "      <th>model_ridge_reg3</th>\n",
       "      <td>0.196</td>\n",
       "      <td>32.776</td>\n",
       "      <td>39.976</td>\n",
       "      <td>95115.93</td>\n",
       "    </tr>\n",
       "    <tr>\n",
       "      <th>model_lasso_reg1</th>\n",
       "      <td>NaN</td>\n",
       "      <td>NaN</td>\n",
       "      <td>NaN</td>\n",
       "      <td>NaN</td>\n",
       "    </tr>\n",
       "    <tr>\n",
       "      <th>model_lasso_reg2</th>\n",
       "      <td>NaN</td>\n",
       "      <td>NaN</td>\n",
       "      <td>NaN</td>\n",
       "      <td>NaN</td>\n",
       "    </tr>\n",
       "    <tr>\n",
       "      <th>model_lasso_reg3</th>\n",
       "      <td>NaN</td>\n",
       "      <td>NaN</td>\n",
       "      <td>NaN</td>\n",
       "      <td>NaN</td>\n",
       "    </tr>\n",
       "  </tbody>\n",
       "</table>\n",
       "</div>"
      ],
      "text/plain": [
       "                     r2     mae    rmse pred_product_mean\n",
       "model_lr_reg1     0.277  31.109  37.717          92423.84\n",
       "model_lr_reg2       1.0   0.718   0.891          68983.12\n",
       "model_lr_reg3     0.196  32.777  39.976          95116.22\n",
       "model_ridge_reg1  0.277  31.111  37.717          92423.99\n",
       "model_ridge_reg2    1.0   0.718   0.891          68983.12\n",
       "model_ridge_reg3  0.196  32.776  39.976          95115.93\n",
       "model_lasso_reg1    NaN     NaN     NaN               NaN\n",
       "model_lasso_reg2    NaN     NaN     NaN               NaN\n",
       "model_lasso_reg3    NaN     NaN     NaN               NaN"
      ]
     },
     "execution_count": 22,
     "metadata": {},
     "output_type": "execute_result"
    }
   ],
   "source": [
    "model_ridge_reg1 = Ridge(random_state=12345,\n",
    "                         alpha = 100,\n",
    "                         fit_intercept = True,\n",
    "                         normalize = False,\n",
    "                         solver = 'sag')\n",
    "model_ridge_reg2 = Ridge(random_state=12345,\n",
    "                         alpha = 0.01,\n",
    "                         fit_intercept = True,\n",
    "                         normalize = False,\n",
    "                         solver = 'svd')\n",
    "model_ridge_reg3 = Ridge(random_state=12345,\n",
    "                         alpha = 0.0001,\n",
    "                         fit_intercept = True,\n",
    "                         normalize = True,\n",
    "                         solver = 'sag')\n",
    "\n",
    "model_train(x_train_1, y_train_1, x_val_1, y_val_1, model_ridge_reg1, 'model_ridge_reg1')\n",
    "model_train(x_train_2, y_train_2, x_val_2, y_val_2, model_ridge_reg2, 'model_ridge_reg2')\n",
    "model_train(x_train_3, y_train_3, x_val_3, y_val_3, model_ridge_reg3, 'model_ridge_reg3')\n",
    "model_table"
   ]
  },
  {
   "cell_type": "markdown",
   "metadata": {},
   "source": [
    "#### Lasso"
   ]
  },
  {
   "cell_type": "code",
   "execution_count": 23,
   "metadata": {},
   "outputs": [],
   "source": [
    "def model_lasso(x_train, y_train):\n",
    "    \n",
    "    model = Lasso(random_state=12345)\n",
    "    params = {'alpha': [1e-9, 1e-8, 1e-7, 1e-6, 1e-5, 1e-4, 1e-3, 1e-2, 1e-1, 1, 10, 100]}\n",
    "\n",
    "    grid = GridSearchCV(estimator=model,\n",
    "                       param_grid=params,\n",
    "                       scoring='neg_root_mean_squared_error',\n",
    "                       cv=5,\n",
    "                       return_train_score=True,\n",
    "                       verbose=1)\n",
    "\n",
    "    grid.fit(x_train, y_train)\n",
    "\n",
    "    return grid.best_params_"
   ]
  },
  {
   "cell_type": "markdown",
   "metadata": {},
   "source": [
    "#Нахождение гиперпараметров для первого региона\n",
    "model_lasso(x_train_1, y_train_1)"
   ]
  },
  {
   "cell_type": "markdown",
   "metadata": {},
   "source": [
    "Вывод: alpha =1e-07"
   ]
  },
  {
   "cell_type": "markdown",
   "metadata": {},
   "source": [
    "#Нахождение гиперпараметров для второго региона\n",
    "model_lasso(x_train_2, y_train_2)"
   ]
  },
  {
   "cell_type": "markdown",
   "metadata": {},
   "source": [
    "Вывод: alpha = 1e-08"
   ]
  },
  {
   "cell_type": "markdown",
   "metadata": {},
   "source": [
    "#Нахождение гиперпараметров для третьего региона\n",
    "model_lasso(x_train_3, y_train_3)"
   ]
  },
  {
   "cell_type": "markdown",
   "metadata": {},
   "source": [
    "Вывод: alpha = 0.1"
   ]
  },
  {
   "cell_type": "code",
   "execution_count": 24,
   "metadata": {},
   "outputs": [],
   "source": [
    "model_lasso_reg1 = Ridge(random_state=12345,\n",
    "                         alpha = 1e-07)\n",
    "model_lasso_reg2 = Ridge(random_state=12345,\n",
    "                         alpha = 1e-08)\n",
    "model_lasso_reg3 = Ridge(random_state=12345,\n",
    "                         alpha = 0.1)\n",
    "\n",
    "model_train(x_train_1, y_train_1, x_val_1, y_val_1, model_lasso_reg1, 'model_lasso_reg1')\n",
    "model_train(x_train_2, y_train_2, x_val_2, y_val_2, model_lasso_reg2, 'model_lasso_reg2')\n",
    "model_train(x_train_3, y_train_3, x_val_3, y_val_3, model_lasso_reg3, 'model_lasso_reg3')"
   ]
  },
  {
   "cell_type": "code",
   "execution_count": 25,
   "metadata": {},
   "outputs": [
    {
     "data": {
      "text/html": [
       "<div>\n",
       "<style scoped>\n",
       "    .dataframe tbody tr th:only-of-type {\n",
       "        vertical-align: middle;\n",
       "    }\n",
       "\n",
       "    .dataframe tbody tr th {\n",
       "        vertical-align: top;\n",
       "    }\n",
       "\n",
       "    .dataframe thead th {\n",
       "        text-align: right;\n",
       "    }\n",
       "</style>\n",
       "<table border=\"1\" class=\"dataframe\">\n",
       "  <thead>\n",
       "    <tr style=\"text-align: right;\">\n",
       "      <th></th>\n",
       "      <th>r2</th>\n",
       "      <th>mae</th>\n",
       "      <th>rmse</th>\n",
       "      <th>pred_product_mean</th>\n",
       "    </tr>\n",
       "  </thead>\n",
       "  <tbody>\n",
       "    <tr>\n",
       "      <th>model_lr_reg1</th>\n",
       "      <td>0.277</td>\n",
       "      <td>31.109</td>\n",
       "      <td>37.717</td>\n",
       "      <td>92423.84</td>\n",
       "    </tr>\n",
       "    <tr>\n",
       "      <th>model_lr_reg2</th>\n",
       "      <td>1.0</td>\n",
       "      <td>0.718</td>\n",
       "      <td>0.891</td>\n",
       "      <td>68983.12</td>\n",
       "    </tr>\n",
       "    <tr>\n",
       "      <th>model_lr_reg3</th>\n",
       "      <td>0.196</td>\n",
       "      <td>32.777</td>\n",
       "      <td>39.976</td>\n",
       "      <td>95116.22</td>\n",
       "    </tr>\n",
       "    <tr>\n",
       "      <th>model_ridge_reg1</th>\n",
       "      <td>0.277</td>\n",
       "      <td>31.111</td>\n",
       "      <td>37.717</td>\n",
       "      <td>92423.99</td>\n",
       "    </tr>\n",
       "    <tr>\n",
       "      <th>model_ridge_reg2</th>\n",
       "      <td>1.0</td>\n",
       "      <td>0.718</td>\n",
       "      <td>0.891</td>\n",
       "      <td>68983.12</td>\n",
       "    </tr>\n",
       "    <tr>\n",
       "      <th>model_ridge_reg3</th>\n",
       "      <td>0.196</td>\n",
       "      <td>32.776</td>\n",
       "      <td>39.976</td>\n",
       "      <td>95115.93</td>\n",
       "    </tr>\n",
       "    <tr>\n",
       "      <th>model_lasso_reg1</th>\n",
       "      <td>0.277</td>\n",
       "      <td>31.109</td>\n",
       "      <td>37.717</td>\n",
       "      <td>92423.84</td>\n",
       "    </tr>\n",
       "    <tr>\n",
       "      <th>model_lasso_reg2</th>\n",
       "      <td>1.0</td>\n",
       "      <td>0.718</td>\n",
       "      <td>0.891</td>\n",
       "      <td>68983.12</td>\n",
       "    </tr>\n",
       "    <tr>\n",
       "      <th>model_lasso_reg3</th>\n",
       "      <td>0.196</td>\n",
       "      <td>32.777</td>\n",
       "      <td>39.976</td>\n",
       "      <td>95116.22</td>\n",
       "    </tr>\n",
       "  </tbody>\n",
       "</table>\n",
       "</div>"
      ],
      "text/plain": [
       "                     r2     mae    rmse pred_product_mean\n",
       "model_lr_reg1     0.277  31.109  37.717          92423.84\n",
       "model_lr_reg2       1.0   0.718   0.891          68983.12\n",
       "model_lr_reg3     0.196  32.777  39.976          95116.22\n",
       "model_ridge_reg1  0.277  31.111  37.717          92423.99\n",
       "model_ridge_reg2    1.0   0.718   0.891          68983.12\n",
       "model_ridge_reg3  0.196  32.776  39.976          95115.93\n",
       "model_lasso_reg1  0.277  31.109  37.717          92423.84\n",
       "model_lasso_reg2    1.0   0.718   0.891          68983.12\n",
       "model_lasso_reg3  0.196  32.777  39.976          95116.22"
      ]
     },
     "execution_count": 25,
     "metadata": {},
     "output_type": "execute_result"
    }
   ],
   "source": [
    "model_table "
   ]
  },
  {
   "cell_type": "markdown",
   "metadata": {},
   "source": [
    "**Добавлю в столбец средний запас сырья из исходных данных** "
   ]
  },
  {
   "cell_type": "code",
   "execution_count": 26,
   "metadata": {},
   "outputs": [],
   "source": [
    "a = round(y1.mean()*1000,2)[0]\n",
    "b = round(y2.mean()*1000,2)[0]\n",
    "c = round(y3.mean()*1000,2)[0]\n",
    "\n",
    "model_table.insert(3, \"product_mean\", [a,b,c,a,b,c,a,b,c])"
   ]
  },
  {
   "cell_type": "code",
   "execution_count": 27,
   "metadata": {},
   "outputs": [
    {
     "data": {
      "text/html": [
       "<div>\n",
       "<style scoped>\n",
       "    .dataframe tbody tr th:only-of-type {\n",
       "        vertical-align: middle;\n",
       "    }\n",
       "\n",
       "    .dataframe tbody tr th {\n",
       "        vertical-align: top;\n",
       "    }\n",
       "\n",
       "    .dataframe thead th {\n",
       "        text-align: right;\n",
       "    }\n",
       "</style>\n",
       "<table border=\"1\" class=\"dataframe\">\n",
       "  <thead>\n",
       "    <tr style=\"text-align: right;\">\n",
       "      <th></th>\n",
       "      <th>r2</th>\n",
       "      <th>mae</th>\n",
       "      <th>rmse</th>\n",
       "      <th>product_mean</th>\n",
       "      <th>pred_product_mean</th>\n",
       "    </tr>\n",
       "  </thead>\n",
       "  <tbody>\n",
       "    <tr>\n",
       "      <th>model_lr_reg1</th>\n",
       "      <td>0.277</td>\n",
       "      <td>31.109</td>\n",
       "      <td>37.717</td>\n",
       "      <td>92499.17</td>\n",
       "      <td>92423.84</td>\n",
       "    </tr>\n",
       "    <tr>\n",
       "      <th>model_lr_reg2</th>\n",
       "      <td>1.0</td>\n",
       "      <td>0.718</td>\n",
       "      <td>0.891</td>\n",
       "      <td>68824.15</td>\n",
       "      <td>68983.12</td>\n",
       "    </tr>\n",
       "    <tr>\n",
       "      <th>model_lr_reg3</th>\n",
       "      <td>0.196</td>\n",
       "      <td>32.777</td>\n",
       "      <td>39.976</td>\n",
       "      <td>94998.77</td>\n",
       "      <td>95116.22</td>\n",
       "    </tr>\n",
       "    <tr>\n",
       "      <th>model_ridge_reg1</th>\n",
       "      <td>0.277</td>\n",
       "      <td>31.111</td>\n",
       "      <td>37.717</td>\n",
       "      <td>92499.17</td>\n",
       "      <td>92423.99</td>\n",
       "    </tr>\n",
       "    <tr>\n",
       "      <th>model_ridge_reg2</th>\n",
       "      <td>1.0</td>\n",
       "      <td>0.718</td>\n",
       "      <td>0.891</td>\n",
       "      <td>68824.15</td>\n",
       "      <td>68983.12</td>\n",
       "    </tr>\n",
       "    <tr>\n",
       "      <th>model_ridge_reg3</th>\n",
       "      <td>0.196</td>\n",
       "      <td>32.776</td>\n",
       "      <td>39.976</td>\n",
       "      <td>94998.77</td>\n",
       "      <td>95115.93</td>\n",
       "    </tr>\n",
       "    <tr>\n",
       "      <th>model_lasso_reg1</th>\n",
       "      <td>0.277</td>\n",
       "      <td>31.109</td>\n",
       "      <td>37.717</td>\n",
       "      <td>92499.17</td>\n",
       "      <td>92423.84</td>\n",
       "    </tr>\n",
       "    <tr>\n",
       "      <th>model_lasso_reg2</th>\n",
       "      <td>1.0</td>\n",
       "      <td>0.718</td>\n",
       "      <td>0.891</td>\n",
       "      <td>68824.15</td>\n",
       "      <td>68983.12</td>\n",
       "    </tr>\n",
       "    <tr>\n",
       "      <th>model_lasso_reg3</th>\n",
       "      <td>0.196</td>\n",
       "      <td>32.777</td>\n",
       "      <td>39.976</td>\n",
       "      <td>94998.77</td>\n",
       "      <td>95116.22</td>\n",
       "    </tr>\n",
       "  </tbody>\n",
       "</table>\n",
       "</div>"
      ],
      "text/plain": [
       "                     r2     mae    rmse  product_mean pred_product_mean\n",
       "model_lr_reg1     0.277  31.109  37.717      92499.17          92423.84\n",
       "model_lr_reg2       1.0   0.718   0.891      68824.15          68983.12\n",
       "model_lr_reg3     0.196  32.777  39.976      94998.77          95116.22\n",
       "model_ridge_reg1  0.277  31.111  37.717      92499.17          92423.99\n",
       "model_ridge_reg2    1.0   0.718   0.891      68824.15          68983.12\n",
       "model_ridge_reg3  0.196  32.776  39.976      94998.77          95115.93\n",
       "model_lasso_reg1  0.277  31.109  37.717      92499.17          92423.84\n",
       "model_lasso_reg2    1.0   0.718   0.891      68824.15          68983.12\n",
       "model_lasso_reg3  0.196  32.777  39.976      94998.77          95116.22"
      ]
     },
     "execution_count": 27,
     "metadata": {},
     "output_type": "execute_result"
    }
   ],
   "source": [
    "model_table"
   ]
  },
  {
   "cell_type": "markdown",
   "metadata": {},
   "source": [
    "### Вывод по обучению и проверке моделей"
   ]
  },
  {
   "cell_type": "code",
   "execution_count": 28,
   "metadata": {},
   "outputs": [
    {
     "name": "stdout",
     "output_type": "stream",
     "text": [
      "Модели первого региона:\n"
     ]
    },
    {
     "data": {
      "text/html": [
       "<div>\n",
       "<style scoped>\n",
       "    .dataframe tbody tr th:only-of-type {\n",
       "        vertical-align: middle;\n",
       "    }\n",
       "\n",
       "    .dataframe tbody tr th {\n",
       "        vertical-align: top;\n",
       "    }\n",
       "\n",
       "    .dataframe thead th {\n",
       "        text-align: right;\n",
       "    }\n",
       "</style>\n",
       "<table border=\"1\" class=\"dataframe\">\n",
       "  <thead>\n",
       "    <tr style=\"text-align: right;\">\n",
       "      <th></th>\n",
       "      <th>r2</th>\n",
       "      <th>mae</th>\n",
       "      <th>rmse</th>\n",
       "      <th>product_mean</th>\n",
       "      <th>pred_product_mean</th>\n",
       "    </tr>\n",
       "  </thead>\n",
       "  <tbody>\n",
       "    <tr>\n",
       "      <th>model_lr_reg1</th>\n",
       "      <td>0.277</td>\n",
       "      <td>31.109</td>\n",
       "      <td>37.717</td>\n",
       "      <td>92499.17</td>\n",
       "      <td>92423.84</td>\n",
       "    </tr>\n",
       "    <tr>\n",
       "      <th>model_ridge_reg1</th>\n",
       "      <td>0.277</td>\n",
       "      <td>31.111</td>\n",
       "      <td>37.717</td>\n",
       "      <td>92499.17</td>\n",
       "      <td>92423.99</td>\n",
       "    </tr>\n",
       "    <tr>\n",
       "      <th>model_lasso_reg1</th>\n",
       "      <td>0.277</td>\n",
       "      <td>31.109</td>\n",
       "      <td>37.717</td>\n",
       "      <td>92499.17</td>\n",
       "      <td>92423.84</td>\n",
       "    </tr>\n",
       "  </tbody>\n",
       "</table>\n",
       "</div>"
      ],
      "text/plain": [
       "                     r2     mae    rmse  product_mean pred_product_mean\n",
       "model_lr_reg1     0.277  31.109  37.717      92499.17          92423.84\n",
       "model_ridge_reg1  0.277  31.111  37.717      92499.17          92423.99\n",
       "model_lasso_reg1  0.277  31.109  37.717      92499.17          92423.84"
      ]
     },
     "metadata": {},
     "output_type": "display_data"
    },
    {
     "name": "stdout",
     "output_type": "stream",
     "text": [
      "\n",
      " Модели второго региона:\n"
     ]
    },
    {
     "data": {
      "text/html": [
       "<div>\n",
       "<style scoped>\n",
       "    .dataframe tbody tr th:only-of-type {\n",
       "        vertical-align: middle;\n",
       "    }\n",
       "\n",
       "    .dataframe tbody tr th {\n",
       "        vertical-align: top;\n",
       "    }\n",
       "\n",
       "    .dataframe thead th {\n",
       "        text-align: right;\n",
       "    }\n",
       "</style>\n",
       "<table border=\"1\" class=\"dataframe\">\n",
       "  <thead>\n",
       "    <tr style=\"text-align: right;\">\n",
       "      <th></th>\n",
       "      <th>r2</th>\n",
       "      <th>mae</th>\n",
       "      <th>rmse</th>\n",
       "      <th>product_mean</th>\n",
       "      <th>pred_product_mean</th>\n",
       "    </tr>\n",
       "  </thead>\n",
       "  <tbody>\n",
       "    <tr>\n",
       "      <th>model_lr_reg2</th>\n",
       "      <td>1.0</td>\n",
       "      <td>0.718</td>\n",
       "      <td>0.891</td>\n",
       "      <td>68824.15</td>\n",
       "      <td>68983.12</td>\n",
       "    </tr>\n",
       "    <tr>\n",
       "      <th>model_ridge_reg2</th>\n",
       "      <td>1.0</td>\n",
       "      <td>0.718</td>\n",
       "      <td>0.891</td>\n",
       "      <td>68824.15</td>\n",
       "      <td>68983.12</td>\n",
       "    </tr>\n",
       "    <tr>\n",
       "      <th>model_lasso_reg2</th>\n",
       "      <td>1.0</td>\n",
       "      <td>0.718</td>\n",
       "      <td>0.891</td>\n",
       "      <td>68824.15</td>\n",
       "      <td>68983.12</td>\n",
       "    </tr>\n",
       "  </tbody>\n",
       "</table>\n",
       "</div>"
      ],
      "text/plain": [
       "                   r2    mae   rmse  product_mean pred_product_mean\n",
       "model_lr_reg2     1.0  0.718  0.891      68824.15          68983.12\n",
       "model_ridge_reg2  1.0  0.718  0.891      68824.15          68983.12\n",
       "model_lasso_reg2  1.0  0.718  0.891      68824.15          68983.12"
      ]
     },
     "metadata": {},
     "output_type": "display_data"
    },
    {
     "name": "stdout",
     "output_type": "stream",
     "text": [
      "\n",
      " Модели третьего региона:\n"
     ]
    },
    {
     "data": {
      "text/html": [
       "<div>\n",
       "<style scoped>\n",
       "    .dataframe tbody tr th:only-of-type {\n",
       "        vertical-align: middle;\n",
       "    }\n",
       "\n",
       "    .dataframe tbody tr th {\n",
       "        vertical-align: top;\n",
       "    }\n",
       "\n",
       "    .dataframe thead th {\n",
       "        text-align: right;\n",
       "    }\n",
       "</style>\n",
       "<table border=\"1\" class=\"dataframe\">\n",
       "  <thead>\n",
       "    <tr style=\"text-align: right;\">\n",
       "      <th></th>\n",
       "      <th>r2</th>\n",
       "      <th>mae</th>\n",
       "      <th>rmse</th>\n",
       "      <th>product_mean</th>\n",
       "      <th>pred_product_mean</th>\n",
       "    </tr>\n",
       "  </thead>\n",
       "  <tbody>\n",
       "    <tr>\n",
       "      <th>model_lr_reg3</th>\n",
       "      <td>0.196</td>\n",
       "      <td>32.777</td>\n",
       "      <td>39.976</td>\n",
       "      <td>94998.77</td>\n",
       "      <td>95116.22</td>\n",
       "    </tr>\n",
       "    <tr>\n",
       "      <th>model_ridge_reg3</th>\n",
       "      <td>0.196</td>\n",
       "      <td>32.776</td>\n",
       "      <td>39.976</td>\n",
       "      <td>94998.77</td>\n",
       "      <td>95115.93</td>\n",
       "    </tr>\n",
       "    <tr>\n",
       "      <th>model_lasso_reg3</th>\n",
       "      <td>0.196</td>\n",
       "      <td>32.777</td>\n",
       "      <td>39.976</td>\n",
       "      <td>94998.77</td>\n",
       "      <td>95116.22</td>\n",
       "    </tr>\n",
       "  </tbody>\n",
       "</table>\n",
       "</div>"
      ],
      "text/plain": [
       "                     r2     mae    rmse  product_mean pred_product_mean\n",
       "model_lr_reg3     0.196  32.777  39.976      94998.77          95116.22\n",
       "model_ridge_reg3  0.196  32.776  39.976      94998.77          95115.93\n",
       "model_lasso_reg3  0.196  32.777  39.976      94998.77          95116.22"
      ]
     },
     "metadata": {},
     "output_type": "display_data"
    }
   ],
   "source": [
    "print('Модели первого региона:')\n",
    "display(model_table.iloc[[0,3,6]])\n",
    "\n",
    "print('\\n','Модели второго региона:')\n",
    "display(model_table.iloc[[1,4,7]])\n",
    "\n",
    "print('\\n','Модели третьего региона:')\n",
    "display(model_table.iloc[[2,5,8]])"
   ]
  },
  {
   "cell_type": "markdown",
   "metadata": {},
   "source": [
    "1. Для каждого региона были разработаны три модели для предсказания объема запаса сырья в скважинах. Использовались LinearRegression, Ridge и Lasso - линейные регрессии библиотеки sklearn.\n",
    "\n",
    "2. Модели LinearRegression и Lasso показали идентичные значения по метрикам. Для первого региона модели LR и Lasso по метрике mae имеют идентичные показатели - лучше, чем модель Ridge. Для третьего региона модели Ridge показали лучшее значение в метрике mae с разницей в тысячной доле. Для второго региона показатели метрик индентичны. Для анализа воторого и третьего региона возьмем показатели метрик и предсказания моделей Ridge. Для анализа первого - показатели метрик и предсказания модели Lasso.\n",
    "\n",
    "3. Во втором регионе модели показали значение r2=1, значение других метрик значительно выше, чем у других регионов.\n",
    "\n",
    "   - Средний запас предсказанного сырья выше у третьего региона и равен 95115.93 с rmse = 39.976\n",
    "   - Cредний запас предсказанного сырья первого региона равен 92423.84, rmse = 31.109\n",
    "   - Ниже результат предсказанного сырья второго региона и равен 68983.12, rmse = 0.891"
   ]
  },
  {
   "cell_type": "code",
   "execution_count": 29,
   "metadata": {},
   "outputs": [
    {
     "data": {
      "text/html": [
       "<div>\n",
       "<style scoped>\n",
       "    .dataframe tbody tr th:only-of-type {\n",
       "        vertical-align: middle;\n",
       "    }\n",
       "\n",
       "    .dataframe tbody tr th {\n",
       "        vertical-align: top;\n",
       "    }\n",
       "\n",
       "    .dataframe thead th {\n",
       "        text-align: right;\n",
       "    }\n",
       "</style>\n",
       "<table border=\"1\" class=\"dataframe\">\n",
       "  <thead>\n",
       "    <tr style=\"text-align: right;\">\n",
       "      <th></th>\n",
       "      <th>rmse</th>\n",
       "      <th>pred_product_mean</th>\n",
       "    </tr>\n",
       "  </thead>\n",
       "  <tbody>\n",
       "    <tr>\n",
       "      <th>model_lr_reg1</th>\n",
       "      <td>37.717</td>\n",
       "      <td>92423.84</td>\n",
       "    </tr>\n",
       "    <tr>\n",
       "      <th>model_ridge_reg2</th>\n",
       "      <td>0.891</td>\n",
       "      <td>68983.12</td>\n",
       "    </tr>\n",
       "    <tr>\n",
       "      <th>model_ridge_reg3</th>\n",
       "      <td>39.976</td>\n",
       "      <td>95115.93</td>\n",
       "    </tr>\n",
       "  </tbody>\n",
       "</table>\n",
       "</div>"
      ],
      "text/plain": [
       "                    rmse pred_product_mean\n",
       "model_lr_reg1     37.717          92423.84\n",
       "model_ridge_reg2   0.891          68983.12\n",
       "model_ridge_reg3  39.976          95115.93"
      ]
     },
     "execution_count": 29,
     "metadata": {},
     "output_type": "execute_result"
    }
   ],
   "source": [
    "result = model_table.iloc[[0,4,5]][['rmse', 'pred_product_mean']]\n",
    "result"
   ]
  },
  {
   "cell_type": "code",
   "execution_count": 30,
   "metadata": {},
   "outputs": [],
   "source": [
    "#Сохраняю предсказания лучших моделей по каждому региону\n",
    "pred_reg1 = model_lasso_reg1.predict(x_val_1)\n",
    "pred_reg2 = model_ridge_reg2.predict(x_val_2)\n",
    "pred_reg3 = model_ridge_reg3.predict(x_val_3)"
   ]
  },
  {
   "cell_type": "markdown",
   "metadata": {},
   "source": [
    "## Подготовка к расчёту прибыли <a class=\"anchor\" id=\"chapter3\"></a>"
   ]
  },
  {
   "cell_type": "markdown",
   "metadata": {},
   "source": [
    " - При разведке региона исследуют 500 точек, из которых с помощью машинного обучения выбирают 200 лучших для разработки.\n",
    " - Бюджет на разработку скважин в регионе — 10 млрд рублей.\n",
    " - При нынешних ценах один баррель сырья приносит 450 рублей дохода. Доход с каждой единицы продукта составляет 450 тыс. рублей, поскольку объём указан в тысячах баррелей.\n",
    " - После оценки рисков нужно оставить лишь те регионы, в которых вероятность убытков меньше 2.5%. Среди них выбирают регион с наибольшей средней прибылью."
   ]
  },
  {
   "cell_type": "markdown",
   "metadata": {},
   "source": [
    "**Необходимо подготовиться к расчёту прибыли:**\n",
    "   - Все ключевые значения для расчётов сохранить в отдельных переменных.\n",
    "   - Рассчитать достаточный объём сырья для безубыточной разработки новой скважины. Сравнить полученный объём сырья со средним запасом в каждом регионе. \n",
    "   - Написать выводы по этапу подготовки расчёта прибыли."
   ]
  },
  {
   "cell_type": "markdown",
   "metadata": {},
   "source": [
    "### Создание переменных"
   ]
  },
  {
   "cell_type": "code",
   "execution_count": 31,
   "metadata": {},
   "outputs": [],
   "source": [
    "#Средний запас сырья в каждом регионе\n",
    "product_mean_0 = a/1000\n",
    "product_mean_1 = b/1000\n",
    "product_mean_2 = c/1000"
   ]
  },
  {
   "cell_type": "code",
   "execution_count": 32,
   "metadata": {},
   "outputs": [
    {
     "data": {
      "text/plain": [
       "50000.0"
      ]
     },
     "execution_count": 32,
     "metadata": {},
     "output_type": "execute_result"
    }
   ],
   "source": [
    "#Бюджет на разработку одной скважины, тыс.руб \n",
    "budget_per_well = BUDGET/200\n",
    "budget_per_well"
   ]
  },
  {
   "cell_type": "markdown",
   "metadata": {},
   "source": [
    "### Достаточный объём. Сравнение со средним запасом в каждом регионе"
   ]
  },
  {
   "cell_type": "code",
   "execution_count": 33,
   "metadata": {},
   "outputs": [
    {
     "data": {
      "text/plain": [
       "111.11"
      ]
     },
     "execution_count": 33,
     "metadata": {},
     "output_type": "execute_result"
    }
   ],
   "source": [
    "#Достаточный объём сырья для безубыточной разработки новой скважины, тыс. баррелей  \n",
    "v_suff = round(budget_per_well/COST_ONE_BAREL, 2)\n",
    "v_suff"
   ]
  },
  {
   "cell_type": "code",
   "execution_count": 34,
   "metadata": {},
   "outputs": [],
   "source": [
    "def profit(data, product_mean):\n",
    "    print('Добавляем столбцы дохода с каждой скажины income и процент окупаемости:')\n",
    "    data['income'] = round(data['product']*COST_ONE_BAREL, 2)\n",
    "    data['per']=round((data['income']-budget_per_well)/budget_per_well*100, 2)\n",
    "    display(data.head())\n",
    "    print('Разница между достаточным объемом сырья для разработки скважины и средним значением по 1 региону:',round(v_suff-product_mean, 2),\n",
    "      'тыс. баррелей')\n",
    "    print('в процентах это:', round(data.per.mean(), 2), '%')"
   ]
  },
  {
   "cell_type": "markdown",
   "metadata": {},
   "source": [
    "**Первый регион**"
   ]
  },
  {
   "cell_type": "code",
   "execution_count": 35,
   "metadata": {},
   "outputs": [
    {
     "name": "stdout",
     "output_type": "stream",
     "text": [
      "Добавляем столбцы дохода с каждой скажины income и процент окупаемости:\n"
     ]
    },
    {
     "data": {
      "text/html": [
       "<div>\n",
       "<style scoped>\n",
       "    .dataframe tbody tr th:only-of-type {\n",
       "        vertical-align: middle;\n",
       "    }\n",
       "\n",
       "    .dataframe tbody tr th {\n",
       "        vertical-align: top;\n",
       "    }\n",
       "\n",
       "    .dataframe thead th {\n",
       "        text-align: right;\n",
       "    }\n",
       "</style>\n",
       "<table border=\"1\" class=\"dataframe\">\n",
       "  <thead>\n",
       "    <tr style=\"text-align: right;\">\n",
       "      <th></th>\n",
       "      <th>id</th>\n",
       "      <th>f0</th>\n",
       "      <th>f1</th>\n",
       "      <th>f2</th>\n",
       "      <th>product</th>\n",
       "      <th>income</th>\n",
       "      <th>per</th>\n",
       "    </tr>\n",
       "  </thead>\n",
       "  <tbody>\n",
       "    <tr>\n",
       "      <th>0</th>\n",
       "      <td>txEyH</td>\n",
       "      <td>0.705745</td>\n",
       "      <td>-0.497823</td>\n",
       "      <td>1.221170</td>\n",
       "      <td>105.280062</td>\n",
       "      <td>47376.03</td>\n",
       "      <td>-5.25</td>\n",
       "    </tr>\n",
       "    <tr>\n",
       "      <th>1</th>\n",
       "      <td>2acmU</td>\n",
       "      <td>1.334711</td>\n",
       "      <td>-0.340164</td>\n",
       "      <td>4.365080</td>\n",
       "      <td>73.037750</td>\n",
       "      <td>32866.99</td>\n",
       "      <td>-34.27</td>\n",
       "    </tr>\n",
       "    <tr>\n",
       "      <th>2</th>\n",
       "      <td>409Wp</td>\n",
       "      <td>1.022732</td>\n",
       "      <td>0.151990</td>\n",
       "      <td>1.419926</td>\n",
       "      <td>85.265647</td>\n",
       "      <td>38369.54</td>\n",
       "      <td>-23.26</td>\n",
       "    </tr>\n",
       "    <tr>\n",
       "      <th>3</th>\n",
       "      <td>iJLyR</td>\n",
       "      <td>-0.032172</td>\n",
       "      <td>0.139033</td>\n",
       "      <td>2.978566</td>\n",
       "      <td>168.620776</td>\n",
       "      <td>75879.35</td>\n",
       "      <td>51.76</td>\n",
       "    </tr>\n",
       "    <tr>\n",
       "      <th>4</th>\n",
       "      <td>Xdl7t</td>\n",
       "      <td>1.988431</td>\n",
       "      <td>0.155413</td>\n",
       "      <td>4.751769</td>\n",
       "      <td>154.036647</td>\n",
       "      <td>69316.49</td>\n",
       "      <td>38.63</td>\n",
       "    </tr>\n",
       "  </tbody>\n",
       "</table>\n",
       "</div>"
      ],
      "text/plain": [
       "      id        f0        f1        f2     product    income    per\n",
       "0  txEyH  0.705745 -0.497823  1.221170  105.280062  47376.03  -5.25\n",
       "1  2acmU  1.334711 -0.340164  4.365080   73.037750  32866.99 -34.27\n",
       "2  409Wp  1.022732  0.151990  1.419926   85.265647  38369.54 -23.26\n",
       "3  iJLyR -0.032172  0.139033  2.978566  168.620776  75879.35  51.76\n",
       "4  Xdl7t  1.988431  0.155413  4.751769  154.036647  69316.49  38.63"
      ]
     },
     "metadata": {},
     "output_type": "display_data"
    },
    {
     "name": "stdout",
     "output_type": "stream",
     "text": [
      "Разница между достаточным объемом сырья для разработки скважины и средним значением по 1 региону: 18.61 тыс. баррелей\n",
      "в процентах это: -16.75 %\n"
     ]
    }
   ],
   "source": [
    "profit(geo_data_0, product_mean_0)"
   ]
  },
  {
   "cell_type": "markdown",
   "metadata": {},
   "source": [
    "**Второй регион**"
   ]
  },
  {
   "cell_type": "code",
   "execution_count": 36,
   "metadata": {},
   "outputs": [
    {
     "name": "stdout",
     "output_type": "stream",
     "text": [
      "Добавляем столбцы дохода с каждой скажины income и процент окупаемости:\n"
     ]
    },
    {
     "data": {
      "text/html": [
       "<div>\n",
       "<style scoped>\n",
       "    .dataframe tbody tr th:only-of-type {\n",
       "        vertical-align: middle;\n",
       "    }\n",
       "\n",
       "    .dataframe tbody tr th {\n",
       "        vertical-align: top;\n",
       "    }\n",
       "\n",
       "    .dataframe thead th {\n",
       "        text-align: right;\n",
       "    }\n",
       "</style>\n",
       "<table border=\"1\" class=\"dataframe\">\n",
       "  <thead>\n",
       "    <tr style=\"text-align: right;\">\n",
       "      <th></th>\n",
       "      <th>id</th>\n",
       "      <th>f0</th>\n",
       "      <th>f1</th>\n",
       "      <th>f2</th>\n",
       "      <th>product</th>\n",
       "      <th>income</th>\n",
       "      <th>per</th>\n",
       "    </tr>\n",
       "  </thead>\n",
       "  <tbody>\n",
       "    <tr>\n",
       "      <th>0</th>\n",
       "      <td>kBEdx</td>\n",
       "      <td>-15.001348</td>\n",
       "      <td>-8.276000</td>\n",
       "      <td>-0.005876</td>\n",
       "      <td>3.179103</td>\n",
       "      <td>1430.60</td>\n",
       "      <td>-97.14</td>\n",
       "    </tr>\n",
       "    <tr>\n",
       "      <th>1</th>\n",
       "      <td>62mP7</td>\n",
       "      <td>14.272088</td>\n",
       "      <td>-3.475083</td>\n",
       "      <td>0.999183</td>\n",
       "      <td>26.953261</td>\n",
       "      <td>12128.97</td>\n",
       "      <td>-75.74</td>\n",
       "    </tr>\n",
       "    <tr>\n",
       "      <th>2</th>\n",
       "      <td>vyE1P</td>\n",
       "      <td>6.263187</td>\n",
       "      <td>-5.948386</td>\n",
       "      <td>5.001160</td>\n",
       "      <td>134.766305</td>\n",
       "      <td>60644.84</td>\n",
       "      <td>21.29</td>\n",
       "    </tr>\n",
       "    <tr>\n",
       "      <th>3</th>\n",
       "      <td>KcrkZ</td>\n",
       "      <td>-13.081196</td>\n",
       "      <td>-11.506057</td>\n",
       "      <td>4.999415</td>\n",
       "      <td>137.945408</td>\n",
       "      <td>62075.43</td>\n",
       "      <td>24.15</td>\n",
       "    </tr>\n",
       "    <tr>\n",
       "      <th>4</th>\n",
       "      <td>AHL4O</td>\n",
       "      <td>12.702195</td>\n",
       "      <td>-8.147433</td>\n",
       "      <td>5.004363</td>\n",
       "      <td>134.766305</td>\n",
       "      <td>60644.84</td>\n",
       "      <td>21.29</td>\n",
       "    </tr>\n",
       "  </tbody>\n",
       "</table>\n",
       "</div>"
      ],
      "text/plain": [
       "      id         f0         f1        f2     product    income    per\n",
       "0  kBEdx -15.001348  -8.276000 -0.005876    3.179103   1430.60 -97.14\n",
       "1  62mP7  14.272088  -3.475083  0.999183   26.953261  12128.97 -75.74\n",
       "2  vyE1P   6.263187  -5.948386  5.001160  134.766305  60644.84  21.29\n",
       "3  KcrkZ -13.081196 -11.506057  4.999415  137.945408  62075.43  24.15\n",
       "4  AHL4O  12.702195  -8.147433  5.004363  134.766305  60644.84  21.29"
      ]
     },
     "metadata": {},
     "output_type": "display_data"
    },
    {
     "name": "stdout",
     "output_type": "stream",
     "text": [
      "Разница между достаточным объемом сырья для разработки скважины и средним значением по 1 региону: 42.29 тыс. баррелей\n",
      "в процентах это: -38.06 %\n"
     ]
    }
   ],
   "source": [
    "profit(geo_data_1, product_mean_1)"
   ]
  },
  {
   "cell_type": "markdown",
   "metadata": {},
   "source": [
    "**Третий регион**"
   ]
  },
  {
   "cell_type": "code",
   "execution_count": 37,
   "metadata": {},
   "outputs": [
    {
     "name": "stdout",
     "output_type": "stream",
     "text": [
      "Добавляем столбцы дохода с каждой скажины income и процент окупаемости:\n"
     ]
    },
    {
     "data": {
      "text/html": [
       "<div>\n",
       "<style scoped>\n",
       "    .dataframe tbody tr th:only-of-type {\n",
       "        vertical-align: middle;\n",
       "    }\n",
       "\n",
       "    .dataframe tbody tr th {\n",
       "        vertical-align: top;\n",
       "    }\n",
       "\n",
       "    .dataframe thead th {\n",
       "        text-align: right;\n",
       "    }\n",
       "</style>\n",
       "<table border=\"1\" class=\"dataframe\">\n",
       "  <thead>\n",
       "    <tr style=\"text-align: right;\">\n",
       "      <th></th>\n",
       "      <th>id</th>\n",
       "      <th>f0</th>\n",
       "      <th>f1</th>\n",
       "      <th>f2</th>\n",
       "      <th>product</th>\n",
       "      <th>income</th>\n",
       "      <th>per</th>\n",
       "    </tr>\n",
       "  </thead>\n",
       "  <tbody>\n",
       "    <tr>\n",
       "      <th>0</th>\n",
       "      <td>fwXo0</td>\n",
       "      <td>-1.146987</td>\n",
       "      <td>0.963328</td>\n",
       "      <td>-0.828965</td>\n",
       "      <td>27.758673</td>\n",
       "      <td>12491.40</td>\n",
       "      <td>-75.02</td>\n",
       "    </tr>\n",
       "    <tr>\n",
       "      <th>1</th>\n",
       "      <td>WJtFt</td>\n",
       "      <td>0.262778</td>\n",
       "      <td>0.269839</td>\n",
       "      <td>-2.530187</td>\n",
       "      <td>56.069697</td>\n",
       "      <td>25231.36</td>\n",
       "      <td>-49.54</td>\n",
       "    </tr>\n",
       "    <tr>\n",
       "      <th>2</th>\n",
       "      <td>ovLUW</td>\n",
       "      <td>0.194587</td>\n",
       "      <td>0.289035</td>\n",
       "      <td>-5.586433</td>\n",
       "      <td>62.871910</td>\n",
       "      <td>28292.36</td>\n",
       "      <td>-43.42</td>\n",
       "    </tr>\n",
       "    <tr>\n",
       "      <th>3</th>\n",
       "      <td>q6cA6</td>\n",
       "      <td>2.236060</td>\n",
       "      <td>-0.553760</td>\n",
       "      <td>0.930038</td>\n",
       "      <td>114.572842</td>\n",
       "      <td>51557.78</td>\n",
       "      <td>3.12</td>\n",
       "    </tr>\n",
       "    <tr>\n",
       "      <th>4</th>\n",
       "      <td>WPMUX</td>\n",
       "      <td>-0.515993</td>\n",
       "      <td>1.716266</td>\n",
       "      <td>5.899011</td>\n",
       "      <td>149.600746</td>\n",
       "      <td>67320.34</td>\n",
       "      <td>34.64</td>\n",
       "    </tr>\n",
       "  </tbody>\n",
       "</table>\n",
       "</div>"
      ],
      "text/plain": [
       "      id        f0        f1        f2     product    income    per\n",
       "0  fwXo0 -1.146987  0.963328 -0.828965   27.758673  12491.40 -75.02\n",
       "1  WJtFt  0.262778  0.269839 -2.530187   56.069697  25231.36 -49.54\n",
       "2  ovLUW  0.194587  0.289035 -5.586433   62.871910  28292.36 -43.42\n",
       "3  q6cA6  2.236060 -0.553760  0.930038  114.572842  51557.78   3.12\n",
       "4  WPMUX -0.515993  1.716266  5.899011  149.600746  67320.34  34.64"
      ]
     },
     "metadata": {},
     "output_type": "display_data"
    },
    {
     "name": "stdout",
     "output_type": "stream",
     "text": [
      "Разница между достаточным объемом сырья для разработки скважины и средним значением по 1 региону: 16.11 тыс. баррелей\n",
      "в процентах это: -14.5 %\n"
     ]
    }
   ],
   "source": [
    "profit(geo_data_2, product_mean_2)"
   ]
  },
  {
   "cell_type": "markdown",
   "metadata": {},
   "source": [
    "### Вывод"
   ]
  },
  {
   "cell_type": "markdown",
   "metadata": {},
   "source": [
    "1. Все ключевые значения для расчётов сохранены в отдельные переменные.\n",
    "2. Рассчитан достаточный объём сырья для безубыточной разработки новой скважины: 111.11 тыс. баррелей.\n",
    "3. Проведено сравнение полученного объёма сырья со средним запасом в каждом регионе.\n",
    "   Разница между достаточным объемом сырья для разработки скважины и средним значением:\n",
    "   - по 1 региону: 18.61 тыс. баррелей, (-16.75 %)\n",
    "   - по 2 региону: 42.29 тыс. баррелей, (-38.06 %)\n",
    "   - по 3 региону: 16.11 тыс. баррелей, (-14.5 %)\n",
    "4. Среднее количество запасов сырья в каждом регионе недостаточно для окупаемости разработки. Третий регион имеет максимально возможную окупаемость: 16.11 тыс. баррелей, (-14.5 %). \n",
    "5. Так как для разработки будут выбраны всего 200 случайных точек, предпологается, что в них могут быть скважины как с максимальным, так и с минимальным запасом сырья, следовательно, окупаемость будет сильно разниться со средним значением объема сырья. Для более точного определения финансового результата разработок скважин в регионах будет разработана функция техники Bootstrap. Таким образом, можно оценить прибыль и риски работы в каждом регионе.  \n"
   ]
  },
  {
   "cell_type": "markdown",
   "metadata": {},
   "source": [
    "## Функция для расчёта прибыли"
   ]
  },
  {
   "cell_type": "markdown",
   "metadata": {},
   "source": [
    "**Необходимо написать функцию для расчёта прибыли по выбранным скважинам и предсказаниям модели:**\n",
    "   - Выбрать скважины с максимальными значениями предсказаний. \n",
    "   - Просуммировать целевое значение объёма сырья, соответствующее этим предсказаниям.\n",
    "   - Рассчитать прибыль для полученного объёма сырья."
   ]
  },
  {
   "cell_type": "markdown",
   "metadata": {},
   "source": [
    "По условию, после разведки региона выбираются 200 лучших для разработки скважин :"
   ]
  },
  {
   "cell_type": "code",
   "execution_count": 38,
   "metadata": {},
   "outputs": [
    {
     "data": {
      "text/html": [
       "<div>\n",
       "<style scoped>\n",
       "    .dataframe tbody tr th:only-of-type {\n",
       "        vertical-align: middle;\n",
       "    }\n",
       "\n",
       "    .dataframe tbody tr th {\n",
       "        vertical-align: top;\n",
       "    }\n",
       "\n",
       "    .dataframe thead th {\n",
       "        text-align: right;\n",
       "    }\n",
       "</style>\n",
       "<table border=\"1\" class=\"dataframe\">\n",
       "  <thead>\n",
       "    <tr style=\"text-align: right;\">\n",
       "      <th></th>\n",
       "      <th>average_income_million_rubles</th>\n",
       "      <th>total_stock_of_product_thousand_barrels</th>\n",
       "      <th>loss_probability_%</th>\n",
       "    </tr>\n",
       "  </thead>\n",
       "  <tbody>\n",
       "    <tr>\n",
       "      <th>region_1</th>\n",
       "      <td>NaN</td>\n",
       "      <td>NaN</td>\n",
       "      <td>NaN</td>\n",
       "    </tr>\n",
       "    <tr>\n",
       "      <th>region_2</th>\n",
       "      <td>NaN</td>\n",
       "      <td>NaN</td>\n",
       "      <td>NaN</td>\n",
       "    </tr>\n",
       "    <tr>\n",
       "      <th>region_3</th>\n",
       "      <td>NaN</td>\n",
       "      <td>NaN</td>\n",
       "      <td>NaN</td>\n",
       "    </tr>\n",
       "  </tbody>\n",
       "</table>\n",
       "</div>"
      ],
      "text/plain": [
       "         average_income_million_rubles  \\\n",
       "region_1                           NaN   \n",
       "region_2                           NaN   \n",
       "region_3                           NaN   \n",
       "\n",
       "         total_stock_of_product_thousand_barrels loss_probability_%  \n",
       "region_1                                     NaN                NaN  \n",
       "region_2                                     NaN                NaN  \n",
       "region_3                                     NaN                NaN  "
      ]
     },
     "execution_count": 38,
     "metadata": {},
     "output_type": "execute_result"
    }
   ],
   "source": [
    "table = pd.DataFrame(index=['region_1', 'region_2', 'region_3'],columns=['average_income_million_rubles', 'total_stock_of_product_thousand_barrels', 'loss_probability_%'])\n",
    "table"
   ]
  },
  {
   "cell_type": "code",
   "execution_count": 39,
   "metadata": {},
   "outputs": [],
   "source": [
    "def income(pred, target):\n",
    "    target['pred'] = pred\n",
    "    product = target['pred'].sort_values(ascending=False)[:200].sum()\n",
    "    revenue = product * COST_ONE_BAREL\n",
    "    return revenue - BUDGET\n",
    "\n",
    "def recap(pred, target, region):\n",
    "    target['pred'] = pred\n",
    "    product = target['pred'].sort_values(ascending=False)[:200].sum()\n",
    "    income_pred= income(pred, target)\n",
    "    table.loc[region,'total_stock_of_product_thousand_barrels'] = round(income_pred/1000,2)\n",
    "    print('Суммарный запас сырья в 200 лучших скважинах:', round(product,2), 'тыс.баррелей')\n",
    "    print('Прибыль для полученного объёма сырья составит:',  round(income_pred/1000,2), 'млн.рублей', '\\n')   "
   ]
  },
  {
   "cell_type": "code",
   "execution_count": 40,
   "metadata": {},
   "outputs": [
    {
     "name": "stdout",
     "output_type": "stream",
     "text": [
      "Расчет прибыли в первом регионе:\n",
      "Суммарный запас сырья в 200 лучших скважинах: 30804.35 тыс.баррелей\n",
      "Прибыль для полученного объёма сырья составит: 3861.96 млн.рублей \n",
      "\n",
      "Расчет прибыли во втором регионе:\n",
      "Суммарный запас сырья в 200 лучших скважинах: 27744.66 тыс.баррелей\n",
      "Прибыль для полученного объёма сырья составит: 2485.1 млн.рублей \n",
      "\n",
      "Расчет прибыли в третьем регионе:\n",
      "Суммарный запас сырья в 200 лучших скважинах: 30001.74 тыс.баррелей\n",
      "Прибыль для полученного объёма сырья составит: 3500.78 млн.рублей \n",
      "\n"
     ]
    }
   ],
   "source": [
    "print('Расчет прибыли в первом регионе:')\n",
    "recap(pred_reg1,y_val_1, 'region_1')\n",
    "print('Расчет прибыли во втором регионе:')\n",
    "recap(pred_reg2,y_val_2, 'region_2')\n",
    "print('Расчет прибыли в третьем регионе:')\n",
    "recap(pred_reg3,y_val_3, 'region_3')"
   ]
  },
  {
   "cell_type": "markdown",
   "metadata": {},
   "source": [
    "**Вывод**"
   ]
  },
  {
   "cell_type": "markdown",
   "metadata": {},
   "source": [
    "Все три региона потенциально прибыльны.\n",
    "Максимальной прогнозируемой прибылью обладает первый регион: 3861.96 млн.рублей при объеме сырья в 30804.35 тыс.баррелей."
   ]
  },
  {
   "cell_type": "markdown",
   "metadata": {},
   "source": [
    "## Расчёт прибыли и рисков"
   ]
  },
  {
   "cell_type": "markdown",
   "metadata": {},
   "source": [
    "**Посчитать риски и прибыль для каждого региона:**\n",
    "   - Применить технику Bootstrap с 1000 выборок, чтобы найти распределение прибыли.\n",
    "   - Найти среднюю прибыль, 95%-й доверительный интервал и риск убытков. Убыток — это отрицательная прибыль.\n",
    "   - Написать выводы: предложить регион для разработки скважин и обосновать выбор."
   ]
  },
  {
   "cell_type": "code",
   "execution_count": 41,
   "metadata": {},
   "outputs": [],
   "source": [
    "def income_(predict,target):\n",
    "    predict = pd.Series(predict).sort_values(ascending=False)\n",
    "    product = target[predict.index][:200].sum()\n",
    "    revenue = product * COST_ONE_BAREL\n",
    "    return revenue - BUDGET"
   ]
  },
  {
   "cell_type": "code",
   "execution_count": 42,
   "metadata": {},
   "outputs": [],
   "source": [
    "def bootstap(pred, target, region):\n",
    "    \n",
    "    values = []\n",
    "    count=0\n",
    "    state = np.random.RandomState(12345)\n",
    "    predict = target['pred']\n",
    "    target = target['product']\n",
    "    \n",
    "    for i in tqdm(range(1000)):\n",
    "        target_subsample = target.sample(n=500, replace=True, random_state=state)\n",
    "        predict_subsample = predict[target_subsample.index]\n",
    "        values.append(income_(predict_subsample,target_subsample))\n",
    "\n",
    "            \n",
    "    values = pd.Series(values)\n",
    "    per = len(values[values<0])/len(values)\n",
    "    #Прибыль\n",
    "    mean = values.mean()\n",
    "    \n",
    "    #Окупаемость инвестиций\n",
    "    roi =abs(round((mean-BUDGET)/BUDGET*100, 2))\n",
    "    \n",
    "    confidence_interval = st.t.interval(0.95, len(values)-1, values.mean(), values.sem())\n",
    "    \n",
    "    plt.title('Распределение прибыли')\n",
    "    values.plot(kind=\"hist\", grid=True, figsize=(10,5))\n",
    "    plt.xlabel('Прибыль, тыс.руб')\n",
    "    plt.ylabel('Количество')\n",
    "    plt.show()\n",
    "    \n",
    "    before_95 = values.quantile(0.025)\n",
    "    after_95 = values.quantile(0.975)\n",
    "    \n",
    "    table.loc[region,'average_income_million_rubles'] = round(mean/1000, 2)\n",
    "    #table.loc[region,'total_stock_of_product'] = income(pred,  target)\n",
    "    table.loc[region,'loss_probability_%'] =  round(per, 2)\n",
    "    \n",
    "    print('Cредняя прибыль:', round(mean/1000, 2), 'млн.руб')\n",
    "    print('С вероятностью 95% прибыль в данном регионе будет составлять: от', round(before_95/1000, 2), 'до', round(after_95/1000, 2), 'млн.руб')\n",
    "    print('95%-ый доверительный интервал: от', round(confidence_interval[0]/1000, 2), 'млн.руб до', round(confidence_interval[1]/1000, 2))\n",
    "    print ('Процент окупаемости инвестиций',  roi,'%')\n",
    "    print ('Вероятность убытка',  round(per, 2),'%', '\\n')"
   ]
  },
  {
   "cell_type": "markdown",
   "metadata": {},
   "source": [
    "### Распределение прибыли каждого региона "
   ]
  },
  {
   "cell_type": "code",
   "execution_count": 43,
   "metadata": {},
   "outputs": [
    {
     "name": "stdout",
     "output_type": "stream",
     "text": [
      "Расчет прибыли в первом регионе:\n"
     ]
    },
    {
     "data": {
      "application/vnd.jupyter.widget-view+json": {
       "model_id": "69f49dffbb1c4dffaaf6df166d7bcc1e",
       "version_major": 2,
       "version_minor": 0
      },
      "text/plain": [
       "  0%|          | 0/1000 [00:00<?, ?it/s]"
      ]
     },
     "metadata": {},
     "output_type": "display_data"
    },
    {
     "data": {
      "image/png": "[encoded data removed]",
      "text/plain": [
       "<Figure size 720x360 with 1 Axes>"
      ]
     },
     "metadata": {
      "needs_background": "light"
     },
     "output_type": "display_data"
    },
    {
     "name": "stdout",
     "output_type": "stream",
     "text": [
      "Cредняя прибыль: 459.09 млн.руб\n",
      "С вероятностью 95% прибыль в данном регионе будет составлять: от -90.23 до 987.95 млн.руб\n",
      "95%-ый доверительный интервал: от 442.0 млн.руб до 476.17\n",
      "Процент окупаемости инвестиций 95.41 %\n",
      "Вероятность убытка 0.05 % \n",
      "\n",
      "Расчет прибыли во втором регионе:\n"
     ]
    },
    {
     "data": {
      "application/vnd.jupyter.widget-view+json": {
       "model_id": "e1dc71e62af3462ea5aa8fff6fb43641",
       "version_major": 2,
       "version_minor": 0
      },
      "text/plain": [
       "  0%|          | 0/1000 [00:00<?, ?it/s]"
      ]
     },
     "metadata": {},
     "output_type": "display_data"
    },
    {
     "data": {
      "image/png": "[encoded data removed]",
      "text/plain": [
       "<Figure size 720x360 with 1 Axes>"
      ]
     },
     "metadata": {
      "needs_background": "light"
     },
     "output_type": "display_data"
    },
    {
     "name": "stdout",
     "output_type": "stream",
     "text": [
      "Cредняя прибыль: 535.25 млн.руб\n",
      "С вероятностью 95% прибыль в данном регионе будет составлять: от 86.68 до 958.08 млн.руб\n",
      "95%-ый доверительный интервал: от 521.43 млн.руб до 549.07\n",
      "Процент окупаемости инвестиций 94.65 %\n",
      "Вероятность убытка 0.01 % \n",
      "\n",
      "Расчет прибыли в третьем регионе:\n"
     ]
    },
    {
     "data": {
      "application/vnd.jupyter.widget-view+json": {
       "model_id": "8d00da7020a4435c980b6cece0227fb2",
       "version_major": 2,
       "version_minor": 0
      },
      "text/plain": [
       "  0%|          | 0/1000 [00:00<?, ?it/s]"
      ]
     },
     "metadata": {},
     "output_type": "display_data"
    },
    {
     "data": {
      "image/png": "[encoded data removed]",
      "text/plain": [
       "<Figure size 720x360 with 1 Axes>"
      ]
     },
     "metadata": {
      "needs_background": "light"
     },
     "output_type": "display_data"
    },
    {
     "name": "stdout",
     "output_type": "stream",
     "text": [
      "Cредняя прибыль: 351.07 млн.руб\n",
      "С вероятностью 95% прибыль в данном регионе будет составлять: от -181.98 до 879.07 млн.руб\n",
      "95%-ый доверительный интервал: от 333.83 млн.руб до 368.31\n",
      "Процент окупаемости инвестиций 96.49 %\n",
      "Вероятность убытка 0.11 % \n",
      "\n"
     ]
    }
   ],
   "source": [
    "print('Расчет прибыли в первом регионе:')\n",
    "bootstap(pred_reg1, y_val_1, 'region_1')\n",
    "print('Расчет прибыли во втором регионе:')\n",
    "bootstap(pred_reg2, y_val_2, 'region_2')\n",
    "print('Расчет прибыли в третьем регионе:')\n",
    "bootstap(pred_reg3, y_val_3, 'region_3')"
   ]
  },
  {
   "cell_type": "code",
   "execution_count": 44,
   "metadata": {},
   "outputs": [
    {
     "data": {
      "text/html": [
       "<div>\n",
       "<style scoped>\n",
       "    .dataframe tbody tr th:only-of-type {\n",
       "        vertical-align: middle;\n",
       "    }\n",
       "\n",
       "    .dataframe tbody tr th {\n",
       "        vertical-align: top;\n",
       "    }\n",
       "\n",
       "    .dataframe thead th {\n",
       "        text-align: right;\n",
       "    }\n",
       "</style>\n",
       "<table border=\"1\" class=\"dataframe\">\n",
       "  <thead>\n",
       "    <tr style=\"text-align: right;\">\n",
       "      <th></th>\n",
       "      <th>average_income_million_rubles</th>\n",
       "      <th>total_stock_of_product_thousand_barrels</th>\n",
       "      <th>loss_probability_%</th>\n",
       "    </tr>\n",
       "  </thead>\n",
       "  <tbody>\n",
       "    <tr>\n",
       "      <th>region_1</th>\n",
       "      <td>459.09</td>\n",
       "      <td>3861.96</td>\n",
       "      <td>0.05</td>\n",
       "    </tr>\n",
       "    <tr>\n",
       "      <th>region_2</th>\n",
       "      <td>535.25</td>\n",
       "      <td>2485.1</td>\n",
       "      <td>0.01</td>\n",
       "    </tr>\n",
       "    <tr>\n",
       "      <th>region_3</th>\n",
       "      <td>351.07</td>\n",
       "      <td>3500.78</td>\n",
       "      <td>0.11</td>\n",
       "    </tr>\n",
       "  </tbody>\n",
       "</table>\n",
       "</div>"
      ],
      "text/plain": [
       "         average_income_million_rubles  \\\n",
       "region_1                        459.09   \n",
       "region_2                        535.25   \n",
       "region_3                        351.07   \n",
       "\n",
       "         total_stock_of_product_thousand_barrels loss_probability_%  \n",
       "region_1                                 3861.96               0.05  \n",
       "region_2                                  2485.1               0.01  \n",
       "region_3                                 3500.78               0.11  "
      ]
     },
     "execution_count": 44,
     "metadata": {},
     "output_type": "execute_result"
    }
   ],
   "source": [
    "table"
   ]
  },
  {
   "cell_type": "markdown",
   "metadata": {},
   "source": [
    "### Вывод"
   ]
  },
  {
   "cell_type": "markdown",
   "metadata": {},
   "source": [
    "- Лучший регион по разработке скважины - согласно распределению среднего значения прибыли - является второй регион. \n",
    "Средняя прибыль 535.25 млн.рублей, с учетом, что общий объем сырья составил 2485,1 тыс. баррелей - меньший показатель среди остальных регионов. Процент убытка 0,01%\n",
    "\n",
    "- Первый регион имеет среднюю прибыль в 459.09 млн.рублей, средний запас сырья 3861.96 тыс. баррелей, процент убытка 0.05%.\n",
    "- Третий регион имеет среднюю прибыль в 351,07 млн.рублей, средний запас сырья 3500,78 тыс. баррелей, процент убытка 0,11%."
   ]
  },
  {
   "cell_type": "markdown",
   "metadata": {},
   "source": [
    "## Общий вывод"
   ]
  },
  {
   "cell_type": "markdown",
   "metadata": {},
   "source": [
    "1. **Был проведен анализ и обработка данных:**\n",
    "   - Изначально в каждом датафрейме по 10 000 данных, пропуски отсутствуют.\n",
    "   - Типы данных столбцов соответсвуют вложенной информации. \n",
    "   - Дубликатов в исходных таблиц нет.\n",
    "   - Удалены строки с аномально повторяющимися id скважин.\n",
    "   - Составлен график распределения объемов запаса сырья. На графике видно, что первый и третий регион следуют нормальному распределению, в то время как второй регион распределен нетипично.\n",
    "   \n",
    "   \n",
    "2. **Обучены и проверены модели для каждого региона:**\n",
    "                                \n",
    "       2.1. Данные разбиты на обучающую и валидационную выборки в соотношении 75:25.\n",
    "       2.2. Обучены модели и сделаны предсказания на валидационной выборке:\n",
    "       \n",
    "       - Для каждого региона были разработаны три модели для предсказания объема запаса сырья в скважинах. Использовались LinearRegression, Ridge и Lasso - линейные регрессии библиотеки sklearn.\n",
    "\n",
    "       - Модели LinearRegression и Lasso показали идентичные значения по метрикам. Для первого региона модели LR и Lasso по метрике mae имеют идентичные показатели - лучше, чем модель Ridge. Для третьего региона модели Ridge показали лучшее значение в метрике mae с разницей в тысячной доле. Для второго региона показатели метрик индентичны. Для анализа воторого и третьего региона возьмем показатели метрик и предсказания моделей Ridge. Для анализа первого - показатели метрик и предсказания модели Lasso.\n",
    "\n",
    "       - Во втором регионе модели показали значение r2=1, значение других метрик значительно выше, чем у других регионов.\n",
    "       - Средний запас предсказанного сырья выше у третьего региона и равен 95115.93 с rmse = 39.976\n",
    "       - Cредний запас предсказанного сырья первого региона равен 92423.84, rmse = 31.109\n",
    "       - Ниже результат предсказанного сырья второго региона и равен 68983.12, rmse = 0.891\n",
    "   \n",
    "       2.3. Сохранены предсказания и правильные ответы на валидационной выборке.\n",
    " \n",
    "3. **Проведена подготовка к расчёту прибыли:** \n",
    "\n",
    "       3.1. Все ключевые значения для расчётов сохранены в отдельные переменные.\n",
    "       3.2. Рассчитан достаточный объём сырья для безубыточной разработки новой скважины: 111.11 тыс. баррелей.\n",
    "       3.3. Проведено сравнение полученного объёма сырья со средним запасом в каждом регионе.\n",
    "          Разница между достаточным объемом сырья для разработки скважины и средним значением:\n",
    "          - по 1 региону: 18.61 тыс. баррелей, (-16.75 %)\n",
    "          - по 2 региону: 42.29 тыс. баррелей, (-38.06 %)\n",
    "          - по 3 региону: 16.11 тыс. баррелей, (-14.5 %)\n",
    "       3.4. Среднее количество запасов сырья в каждом регионе недостаточно для окупаемости разработки. Третий регион имеет максимально возможную окупаемость.\n",
    "       3.5. Так как для разработки будут выбраны всего 200 случайных точек, предпологается, что в них могут быть скважины как с максимальным, так и с минимальным запасом сырья, следовательно, окупаемость будет сильно разниться со средним значением объема сырья. Для более точного определения финансового результата разработок скважин в регионах будет разработана функция техники Bootstrap. Таким образом, можно оценить прибыль и риски работы в каждом регионе.\n",
    "       \n",
    "4. **Создана функция для расчета прибыли** \n",
    "\n",
    "       - 4.1. Выбраны скважины с максимальными значениями предсказаний. \n",
    "       - 4.2. Просуммировано целевое значение объёма сырья, соответствующее этим предсказаниям.\n",
    "       - 4.3. Рассчитана прибыль для полученного объёма сырья: все три региона потенциально прибыльны. Максимальной прогнозируемой прибылью обладает первый регион: 3861.96 млн.рублей при объеме сырья в 30804.35 тыс.баррелей.\n",
    "\n",
    "5. **Проведен расчет прибыли и рисков:** \n",
    "\n",
    "      - Лучший регион по разработке скважины - согласно распределению среднего значения прибыли - является второй регион. Средняя прибыль 535.25 млн.рублей, с учетом, что общий объем сырья составил 2485,1 тыс. баррелей - меньший показатель среди остальных регионов. Процент убытка 0,01%\n",
    " \n",
    "      - Первый регион имеет среднюю прибыль в 459.09 млн.рублей, средний запас сырья 3861.96 тыс. баррелей, процент убытка 0.05%.\n",
    "\n",
    "      - Третий регион имеет среднюю прибыль в 351,07 млн.рублей, средний запас сырья 3500,78 тыс. баррелей, процент убытка 0,11%."
   ]
  }
 ],
 "metadata": {
  "ExecuteTimeLog": [
   {
    "duration": 37752,
    "start_time": "2023-09-13T14:56:55.936Z"
   },
   {
    "duration": 76,
    "start_time": "2023-09-13T14:57:37.862Z"
   },
   {
    "duration": 111878,
    "start_time": "2023-09-13T14:57:54.285Z"
   },
   {
    "duration": 3048,
    "start_time": "2023-09-13T14:59:49.989Z"
   },
   {
    "duration": 120,
    "start_time": "2023-09-13T15:00:06.189Z"
   },
   {
    "duration": 127,
    "start_time": "2023-09-13T15:00:16.717Z"
   },
   {
    "duration": 128,
    "start_time": "2023-09-13T15:01:45.744Z"
   },
   {
    "duration": 2654,
    "start_time": "2023-09-13T15:13:31.904Z"
   },
   {
    "duration": 80,
    "start_time": "2023-09-13T15:14:19.181Z"
   },
   {
    "duration": 85,
    "start_time": "2023-09-13T15:14:32.627Z"
   },
   {
    "duration": 2692,
    "start_time": "2023-09-13T15:15:54.574Z"
   },
   {
    "duration": 83,
    "start_time": "2023-09-13T15:35:12.302Z"
   },
   {
    "duration": 440639,
    "start_time": "2023-09-13T15:35:23.989Z"
   },
   {
    "duration": 3,
    "start_time": "2023-09-13T15:42:44.630Z"
   },
   {
    "duration": 101,
    "start_time": "2023-09-13T15:42:44.634Z"
   },
   {
    "duration": 99,
    "start_time": "2023-09-13T15:43:11.626Z"
   },
   {
    "duration": 1316,
    "start_time": "2023-09-13T18:53:27.426Z"
   },
   {
    "duration": 79,
    "start_time": "2023-09-13T18:56:34.497Z"
   },
   {
    "duration": 984,
    "start_time": "2023-09-13T18:56:56.140Z"
   },
   {
    "duration": 14,
    "start_time": "2023-09-13T18:57:31.673Z"
   },
   {
    "duration": 13,
    "start_time": "2023-09-13T18:57:43.453Z"
   },
   {
    "duration": 11,
    "start_time": "2023-09-13T18:57:56.935Z"
   },
   {
    "duration": 3,
    "start_time": "2023-09-13T19:09:08.046Z"
   },
   {
    "duration": 61,
    "start_time": "2023-09-13T19:09:20.257Z"
   },
   {
    "duration": 5,
    "start_time": "2023-09-13T19:09:35.878Z"
   },
   {
    "duration": 40,
    "start_time": "2023-09-13T19:09:40.713Z"
   },
   {
    "duration": 3,
    "start_time": "2023-09-13T19:11:07.905Z"
   },
   {
    "duration": 45,
    "start_time": "2023-09-13T19:11:10.534Z"
   },
   {
    "duration": 3,
    "start_time": "2023-09-13T19:11:29.684Z"
   },
   {
    "duration": 48,
    "start_time": "2023-09-13T19:11:32.491Z"
   },
   {
    "duration": 3,
    "start_time": "2023-09-13T19:11:48.885Z"
   },
   {
    "duration": 45,
    "start_time": "2023-09-13T19:11:51.089Z"
   },
   {
    "duration": 4,
    "start_time": "2023-09-13T19:12:12.320Z"
   },
   {
    "duration": 65,
    "start_time": "2023-09-13T19:12:14.013Z"
   },
   {
    "duration": 4,
    "start_time": "2023-09-13T19:12:19.672Z"
   },
   {
    "duration": 47,
    "start_time": "2023-09-13T19:12:21.145Z"
   },
   {
    "duration": 4,
    "start_time": "2023-09-13T19:12:35.280Z"
   },
   {
    "duration": 43,
    "start_time": "2023-09-13T19:12:38.375Z"
   },
   {
    "duration": 4,
    "start_time": "2023-09-13T19:14:36.651Z"
   },
   {
    "duration": 55,
    "start_time": "2023-09-13T19:14:40.401Z"
   },
   {
    "duration": 4,
    "start_time": "2023-09-13T19:15:18.682Z"
   },
   {
    "duration": 21,
    "start_time": "2023-09-13T19:15:23.654Z"
   },
   {
    "duration": 4,
    "start_time": "2023-09-13T19:15:33.220Z"
   },
   {
    "duration": 33,
    "start_time": "2023-09-13T19:15:34.984Z"
   },
   {
    "duration": 3,
    "start_time": "2023-09-13T19:17:08.497Z"
   },
   {
    "duration": 21,
    "start_time": "2023-09-13T19:17:10.014Z"
   },
   {
    "duration": 4,
    "start_time": "2023-09-13T19:17:20.107Z"
   },
   {
    "duration": 37,
    "start_time": "2023-09-13T19:17:23.602Z"
   },
   {
    "duration": 4,
    "start_time": "2023-09-13T19:18:20.728Z"
   },
   {
    "duration": 3,
    "start_time": "2023-09-13T19:18:38.100Z"
   },
   {
    "duration": 33,
    "start_time": "2023-09-13T19:18:39.752Z"
   },
   {
    "duration": 4,
    "start_time": "2023-09-13T19:18:55.103Z"
   },
   {
    "duration": 28,
    "start_time": "2023-09-13T19:18:58.612Z"
   },
   {
    "duration": 3,
    "start_time": "2023-09-13T19:24:02.837Z"
   },
   {
    "duration": 61,
    "start_time": "2023-09-13T19:24:04.497Z"
   },
   {
    "duration": 4,
    "start_time": "2023-09-13T19:24:52.472Z"
   },
   {
    "duration": 94,
    "start_time": "2023-09-13T19:24:56.542Z"
   },
   {
    "duration": 5,
    "start_time": "2023-09-13T19:25:13.914Z"
   },
   {
    "duration": 93,
    "start_time": "2023-09-13T19:25:17.245Z"
   },
   {
    "duration": 5,
    "start_time": "2023-09-13T19:25:43.120Z"
   },
   {
    "duration": 4,
    "start_time": "2023-09-13T19:25:51.257Z"
   },
   {
    "duration": 190,
    "start_time": "2023-09-13T19:26:01.792Z"
   },
   {
    "duration": 5,
    "start_time": "2023-09-13T19:26:50.086Z"
   },
   {
    "duration": 76,
    "start_time": "2023-09-13T19:26:52.741Z"
   },
   {
    "duration": 4,
    "start_time": "2023-09-13T19:27:31.765Z"
   },
   {
    "duration": 104,
    "start_time": "2023-09-13T19:28:14.192Z"
   },
   {
    "duration": 418,
    "start_time": "2023-09-13T19:28:35.950Z"
   },
   {
    "duration": 3,
    "start_time": "2023-09-13T19:30:39.039Z"
   },
   {
    "duration": 255,
    "start_time": "2023-09-13T19:30:40.698Z"
   },
   {
    "duration": 3,
    "start_time": "2023-09-13T19:30:56.401Z"
   },
   {
    "duration": 283,
    "start_time": "2023-09-13T19:30:58.273Z"
   },
   {
    "duration": 3,
    "start_time": "2023-09-13T19:31:06.935Z"
   },
   {
    "duration": 243,
    "start_time": "2023-09-13T19:31:10.032Z"
   },
   {
    "duration": 52,
    "start_time": "2023-09-13T20:21:55.172Z"
   },
   {
    "duration": 91,
    "start_time": "2023-09-13T20:22:46.447Z"
   },
   {
    "duration": 95,
    "start_time": "2023-09-13T20:23:08.197Z"
   },
   {
    "duration": 3,
    "start_time": "2023-09-13T20:23:48.483Z"
   },
   {
    "duration": 224,
    "start_time": "2023-09-13T20:23:50.804Z"
   },
   {
    "duration": 132,
    "start_time": "2023-09-13T20:24:18.855Z"
   },
   {
    "duration": 116,
    "start_time": "2023-09-13T20:24:36.199Z"
   },
   {
    "duration": 102,
    "start_time": "2023-09-13T20:24:38.636Z"
   },
   {
    "duration": 93,
    "start_time": "2023-09-13T20:24:40.615Z"
   },
   {
    "duration": 3,
    "start_time": "2023-09-13T20:27:29.719Z"
   },
   {
    "duration": 2,
    "start_time": "2023-09-13T20:28:56.962Z"
   },
   {
    "duration": 89,
    "start_time": "2023-09-13T20:28:58.941Z"
   },
   {
    "duration": 100,
    "start_time": "2023-09-13T20:29:18.424Z"
   },
   {
    "duration": 321,
    "start_time": "2023-09-13T20:29:40.138Z"
   },
   {
    "duration": 3,
    "start_time": "2023-09-13T20:30:19.330Z"
   },
   {
    "duration": 249,
    "start_time": "2023-09-13T20:30:21.346Z"
   },
   {
    "duration": 3,
    "start_time": "2023-09-13T20:38:27.424Z"
   },
   {
    "duration": 89,
    "start_time": "2023-09-13T20:38:47.738Z"
   },
   {
    "duration": 3,
    "start_time": "2023-09-13T20:38:59.450Z"
   },
   {
    "duration": 103,
    "start_time": "2023-09-13T20:39:01.125Z"
   },
   {
    "duration": 3,
    "start_time": "2023-09-13T20:39:12.174Z"
   },
   {
    "duration": 107,
    "start_time": "2023-09-13T20:39:13.555Z"
   },
   {
    "duration": 4,
    "start_time": "2023-09-13T20:39:38.126Z"
   },
   {
    "duration": 98,
    "start_time": "2023-09-13T20:39:40.642Z"
   },
   {
    "duration": 83,
    "start_time": "2023-09-13T20:54:36.723Z"
   },
   {
    "duration": 4,
    "start_time": "2023-09-13T20:54:59.088Z"
   },
   {
    "duration": 508,
    "start_time": "2023-09-13T20:55:02.346Z"
   },
   {
    "duration": 4,
    "start_time": "2023-09-13T20:55:35.068Z"
   },
   {
    "duration": 173,
    "start_time": "2023-09-13T20:55:36.841Z"
   },
   {
    "duration": 4,
    "start_time": "2023-09-13T20:57:04.509Z"
   },
   {
    "duration": 280,
    "start_time": "2023-09-13T20:57:06.076Z"
   },
   {
    "duration": 1133,
    "start_time": "2023-09-13T20:57:11.937Z"
   },
   {
    "duration": 370,
    "start_time": "2023-09-13T20:57:13.072Z"
   },
   {
    "duration": 4,
    "start_time": "2023-09-13T20:57:13.444Z"
   },
   {
    "duration": 245,
    "start_time": "2023-09-13T20:57:13.450Z"
   },
   {
    "duration": 3,
    "start_time": "2023-09-13T20:57:13.697Z"
   },
   {
    "duration": 296,
    "start_time": "2023-09-13T20:57:13.701Z"
   },
   {
    "duration": 4,
    "start_time": "2023-09-13T20:57:13.998Z"
   },
   {
    "duration": 350,
    "start_time": "2023-09-13T20:57:14.003Z"
   },
   {
    "duration": 3,
    "start_time": "2023-09-13T21:00:53.825Z"
   },
   {
    "duration": 216,
    "start_time": "2023-09-13T21:00:56.025Z"
   },
   {
    "duration": 4,
    "start_time": "2023-09-13T21:01:11.957Z"
   },
   {
    "duration": 3,
    "start_time": "2023-09-13T21:03:30.188Z"
   },
   {
    "duration": 363,
    "start_time": "2023-09-13T21:03:32.020Z"
   },
   {
    "duration": 81,
    "start_time": "2023-09-13T21:04:06.255Z"
   },
   {
    "duration": 3,
    "start_time": "2023-09-13T21:04:15.270Z"
   },
   {
    "duration": 293,
    "start_time": "2023-09-13T21:04:17.119Z"
   },
   {
    "duration": 95,
    "start_time": "2023-09-13T21:07:10.009Z"
   },
   {
    "duration": 85,
    "start_time": "2023-09-13T21:07:39.469Z"
   },
   {
    "duration": 87,
    "start_time": "2023-09-13T21:07:53.227Z"
   },
   {
    "duration": 109,
    "start_time": "2023-09-13T21:08:26.553Z"
   },
   {
    "duration": 93,
    "start_time": "2023-09-13T21:08:40.322Z"
   },
   {
    "duration": 4,
    "start_time": "2023-09-13T21:09:05.777Z"
   },
   {
    "duration": 523,
    "start_time": "2023-09-13T21:09:12.831Z"
   },
   {
    "duration": 6,
    "start_time": "2023-09-13T21:09:47.357Z"
   },
   {
    "duration": 453,
    "start_time": "2023-09-13T21:09:50.110Z"
   },
   {
    "duration": 1413,
    "start_time": "2023-09-13T21:10:17.595Z"
   },
   {
    "duration": 5,
    "start_time": "2023-09-13T21:13:11.177Z"
   },
   {
    "duration": 1226,
    "start_time": "2023-09-13T21:13:13.867Z"
   },
   {
    "duration": 4,
    "start_time": "2023-09-13T21:13:33.125Z"
   },
   {
    "duration": 1135,
    "start_time": "2023-09-13T21:13:34.947Z"
   },
   {
    "duration": 3,
    "start_time": "2023-09-13T21:14:36.573Z"
   },
   {
    "duration": 280,
    "start_time": "2023-09-13T21:14:38.761Z"
   },
   {
    "duration": 4,
    "start_time": "2023-09-13T21:15:01.916Z"
   },
   {
    "duration": 1256,
    "start_time": "2023-09-13T21:15:03.508Z"
   },
   {
    "duration": 4,
    "start_time": "2023-09-13T21:48:14.523Z"
   },
   {
    "duration": 294,
    "start_time": "2023-09-13T21:48:40.932Z"
   },
   {
    "duration": 352,
    "start_time": "2023-09-13T21:50:09.636Z"
   },
   {
    "duration": 1020,
    "start_time": "2023-09-13T21:50:22.737Z"
   },
   {
    "duration": 522,
    "start_time": "2023-09-13T21:50:55.463Z"
   },
   {
    "duration": 1061,
    "start_time": "2023-09-13T21:51:22.991Z"
   },
   {
    "duration": 368,
    "start_time": "2023-09-13T21:51:24.053Z"
   },
   {
    "duration": 3,
    "start_time": "2023-09-13T21:51:24.423Z"
   },
   {
    "duration": 265,
    "start_time": "2023-09-13T21:51:24.428Z"
   },
   {
    "duration": 4,
    "start_time": "2023-09-13T21:51:24.695Z"
   },
   {
    "duration": 294,
    "start_time": "2023-09-13T21:51:24.700Z"
   },
   {
    "duration": 4,
    "start_time": "2023-09-13T21:51:24.996Z"
   },
   {
    "duration": 1179,
    "start_time": "2023-09-13T21:51:25.002Z"
   },
   {
    "duration": 1162,
    "start_time": "2023-09-13T21:51:26.183Z"
   },
   {
    "duration": 6122,
    "start_time": "2023-09-13T21:51:27.349Z"
   },
   {
    "duration": 1079,
    "start_time": "2023-09-13T21:53:47.492Z"
   },
   {
    "duration": 5988,
    "start_time": "2023-09-13T21:53:52.944Z"
   },
   {
    "duration": 1092,
    "start_time": "2023-09-13T21:55:01.402Z"
   },
   {
    "duration": 389,
    "start_time": "2023-09-13T21:55:02.496Z"
   },
   {
    "duration": 4,
    "start_time": "2023-09-13T21:55:02.887Z"
   },
   {
    "duration": 316,
    "start_time": "2023-09-13T21:55:02.892Z"
   },
   {
    "duration": 3,
    "start_time": "2023-09-13T21:55:03.210Z"
   },
   {
    "duration": 354,
    "start_time": "2023-09-13T21:55:03.215Z"
   },
   {
    "duration": 4,
    "start_time": "2023-09-13T21:55:03.571Z"
   },
   {
    "duration": 1165,
    "start_time": "2023-09-13T21:55:03.576Z"
   },
   {
    "duration": 92,
    "start_time": "2023-09-13T21:55:04.743Z"
   },
   {
    "duration": 0,
    "start_time": "2023-09-13T21:55:04.836Z"
   },
   {
    "duration": 3,
    "start_time": "2023-09-13T21:55:23.503Z"
   },
   {
    "duration": 1091,
    "start_time": "2023-09-13T21:55:32.358Z"
   },
   {
    "duration": 385,
    "start_time": "2023-09-13T21:55:33.452Z"
   },
   {
    "duration": 3,
    "start_time": "2023-09-13T21:55:33.839Z"
   },
   {
    "duration": 260,
    "start_time": "2023-09-13T21:55:33.850Z"
   },
   {
    "duration": 4,
    "start_time": "2023-09-13T21:55:34.112Z"
   },
   {
    "duration": 329,
    "start_time": "2023-09-13T21:55:34.117Z"
   },
   {
    "duration": 5,
    "start_time": "2023-09-13T21:55:34.450Z"
   },
   {
    "duration": 1179,
    "start_time": "2023-09-13T21:55:34.456Z"
   },
   {
    "duration": 3,
    "start_time": "2023-09-13T21:55:35.636Z"
   },
   {
    "duration": 101,
    "start_time": "2023-09-13T21:55:35.650Z"
   },
   {
    "duration": 0,
    "start_time": "2023-09-13T21:55:35.753Z"
   },
   {
    "duration": 4,
    "start_time": "2023-09-13T21:56:01.605Z"
   },
   {
    "duration": 12,
    "start_time": "2023-09-13T21:56:03.114Z"
   },
   {
    "duration": 1129,
    "start_time": "2023-09-13T21:56:17.423Z"
   },
   {
    "duration": 387,
    "start_time": "2023-09-13T21:56:18.554Z"
   },
   {
    "duration": 4,
    "start_time": "2023-09-13T21:56:18.942Z"
   },
   {
    "duration": 272,
    "start_time": "2023-09-13T21:56:18.950Z"
   },
   {
    "duration": 2,
    "start_time": "2023-09-13T21:56:19.224Z"
   },
   {
    "duration": 291,
    "start_time": "2023-09-13T21:56:19.228Z"
   },
   {
    "duration": 5,
    "start_time": "2023-09-13T21:56:19.520Z"
   },
   {
    "duration": 1138,
    "start_time": "2023-09-13T21:56:19.527Z"
   },
   {
    "duration": 11,
    "start_time": "2023-09-13T21:56:20.667Z"
   },
   {
    "duration": 1180,
    "start_time": "2023-09-13T21:56:20.680Z"
   },
   {
    "duration": 4338,
    "start_time": "2023-09-13T21:56:21.862Z"
   },
   {
    "duration": 1086,
    "start_time": "2023-09-13T21:56:51.993Z"
   },
   {
    "duration": 372,
    "start_time": "2023-09-13T21:56:53.081Z"
   },
   {
    "duration": 4,
    "start_time": "2023-09-13T21:56:53.455Z"
   },
   {
    "duration": 274,
    "start_time": "2023-09-13T21:56:53.460Z"
   },
   {
    "duration": 3,
    "start_time": "2023-09-13T21:56:53.750Z"
   },
   {
    "duration": 288,
    "start_time": "2023-09-13T21:56:53.755Z"
   },
   {
    "duration": 4,
    "start_time": "2023-09-13T21:56:54.049Z"
   },
   {
    "duration": 1148,
    "start_time": "2023-09-13T21:56:54.054Z"
   },
   {
    "duration": 12,
    "start_time": "2023-09-13T21:56:55.203Z"
   },
   {
    "duration": 1204,
    "start_time": "2023-09-13T21:56:55.217Z"
   },
   {
    "duration": 4188,
    "start_time": "2023-09-13T21:56:56.422Z"
   },
   {
    "duration": 1132,
    "start_time": "2023-09-13T21:57:45.910Z"
   },
   {
    "duration": 404,
    "start_time": "2023-09-13T21:57:47.044Z"
   },
   {
    "duration": 6,
    "start_time": "2023-09-13T21:57:47.451Z"
   },
   {
    "duration": 305,
    "start_time": "2023-09-13T21:57:47.459Z"
   },
   {
    "duration": 4,
    "start_time": "2023-09-13T21:57:47.767Z"
   },
   {
    "duration": 378,
    "start_time": "2023-09-13T21:57:47.773Z"
   },
   {
    "duration": 6,
    "start_time": "2023-09-13T21:57:48.153Z"
   },
   {
    "duration": 1400,
    "start_time": "2023-09-13T21:57:48.161Z"
   },
   {
    "duration": 1200,
    "start_time": "2023-09-13T21:57:49.563Z"
   },
   {
    "duration": 4382,
    "start_time": "2023-09-13T21:57:50.764Z"
   },
   {
    "duration": 1168,
    "start_time": "2023-09-13T21:59:36.836Z"
   },
   {
    "duration": 417,
    "start_time": "2023-09-13T21:59:38.005Z"
   },
   {
    "duration": 4,
    "start_time": "2023-09-13T21:59:38.423Z"
   },
   {
    "duration": 287,
    "start_time": "2023-09-13T21:59:38.428Z"
   },
   {
    "duration": 3,
    "start_time": "2023-09-13T21:59:38.717Z"
   },
   {
    "duration": 384,
    "start_time": "2023-09-13T21:59:38.722Z"
   },
   {
    "duration": 5,
    "start_time": "2023-09-13T21:59:39.108Z"
   },
   {
    "duration": 1314,
    "start_time": "2023-09-13T21:59:39.114Z"
   },
   {
    "duration": 1245,
    "start_time": "2023-09-13T21:59:40.430Z"
   },
   {
    "duration": 5017,
    "start_time": "2023-09-13T21:59:41.677Z"
   },
   {
    "duration": 1303,
    "start_time": "2023-09-13T22:03:56.631Z"
   },
   {
    "duration": 480,
    "start_time": "2023-09-13T22:03:57.936Z"
   },
   {
    "duration": 4,
    "start_time": "2023-09-13T22:03:58.417Z"
   },
   {
    "duration": 371,
    "start_time": "2023-09-13T22:03:58.422Z"
   },
   {
    "duration": 4,
    "start_time": "2023-09-13T22:03:58.795Z"
   },
   {
    "duration": 490,
    "start_time": "2023-09-13T22:03:58.800Z"
   },
   {
    "duration": 5,
    "start_time": "2023-09-13T22:03:59.293Z"
   },
   {
    "duration": 1887,
    "start_time": "2023-09-13T22:03:59.300Z"
   },
   {
    "duration": 1899,
    "start_time": "2023-09-13T22:04:01.189Z"
   },
   {
    "duration": 5500,
    "start_time": "2023-09-13T22:04:03.090Z"
   },
   {
    "duration": 1232,
    "start_time": "2023-09-13T22:06:12.965Z"
   },
   {
    "duration": 489,
    "start_time": "2023-09-13T22:06:14.200Z"
   },
   {
    "duration": 4,
    "start_time": "2023-09-13T22:06:14.691Z"
   },
   {
    "duration": 343,
    "start_time": "2023-09-13T22:06:14.697Z"
   },
   {
    "duration": 14,
    "start_time": "2023-09-13T22:06:15.049Z"
   },
   {
    "duration": 426,
    "start_time": "2023-09-13T22:06:15.066Z"
   },
   {
    "duration": 4,
    "start_time": "2023-09-13T22:06:15.495Z"
   },
   {
    "duration": 1630,
    "start_time": "2023-09-13T22:06:15.501Z"
   },
   {
    "duration": 1886,
    "start_time": "2023-09-13T22:06:17.133Z"
   },
   {
    "duration": 685,
    "start_time": "2023-09-13T22:06:19.021Z"
   },
   {
    "duration": 1249,
    "start_time": "2023-09-13T22:06:40.549Z"
   },
   {
    "duration": 436,
    "start_time": "2023-09-13T22:06:41.799Z"
   },
   {
    "duration": 4,
    "start_time": "2023-09-13T22:06:42.236Z"
   },
   {
    "duration": 285,
    "start_time": "2023-09-13T22:06:42.242Z"
   },
   {
    "duration": 3,
    "start_time": "2023-09-13T22:06:42.529Z"
   },
   {
    "duration": 374,
    "start_time": "2023-09-13T22:06:42.533Z"
   },
   {
    "duration": 6,
    "start_time": "2023-09-13T22:06:42.909Z"
   },
   {
    "duration": 1462,
    "start_time": "2023-09-13T22:06:42.916Z"
   },
   {
    "duration": 1466,
    "start_time": "2023-09-13T22:06:44.379Z"
   },
   {
    "duration": 790,
    "start_time": "2023-09-13T22:06:45.849Z"
   },
   {
    "duration": 16,
    "start_time": "2023-09-13T22:07:05.675Z"
   },
   {
    "duration": 1242,
    "start_time": "2023-09-13T22:07:30.075Z"
   },
   {
    "duration": 448,
    "start_time": "2023-09-13T22:07:31.319Z"
   },
   {
    "duration": 5,
    "start_time": "2023-09-13T22:07:31.775Z"
   },
   {
    "duration": 309,
    "start_time": "2023-09-13T22:07:31.781Z"
   },
   {
    "duration": 3,
    "start_time": "2023-09-13T22:07:32.093Z"
   },
   {
    "duration": 418,
    "start_time": "2023-09-13T22:07:32.097Z"
   },
   {
    "duration": 4,
    "start_time": "2023-09-13T22:07:32.517Z"
   },
   {
    "duration": 1518,
    "start_time": "2023-09-13T22:07:32.523Z"
   },
   {
    "duration": 1357,
    "start_time": "2023-09-13T22:07:34.043Z"
   },
   {
    "duration": 4938,
    "start_time": "2023-09-13T22:07:35.402Z"
   },
   {
    "duration": 1317,
    "start_time": "2023-09-13T22:24:10.265Z"
   },
   {
    "duration": 1144,
    "start_time": "2023-09-13T22:31:56.966Z"
   },
   {
    "duration": 405,
    "start_time": "2023-09-13T22:31:58.112Z"
   },
   {
    "duration": 88,
    "start_time": "2023-09-13T22:31:58.519Z"
   },
   {
    "duration": 0,
    "start_time": "2023-09-13T22:31:58.608Z"
   },
   {
    "duration": 0,
    "start_time": "2023-09-13T22:31:58.609Z"
   },
   {
    "duration": 0,
    "start_time": "2023-09-13T22:31:58.611Z"
   },
   {
    "duration": 0,
    "start_time": "2023-09-13T22:31:58.612Z"
   },
   {
    "duration": 0,
    "start_time": "2023-09-13T22:31:58.612Z"
   },
   {
    "duration": 0,
    "start_time": "2023-09-13T22:31:58.614Z"
   },
   {
    "duration": 0,
    "start_time": "2023-09-13T22:31:58.615Z"
   },
   {
    "duration": 91,
    "start_time": "2023-09-13T22:32:13.587Z"
   },
   {
    "duration": 3,
    "start_time": "2023-09-13T22:32:37.875Z"
   },
   {
    "duration": 4,
    "start_time": "2023-09-13T22:32:50.692Z"
   },
   {
    "duration": 1264,
    "start_time": "2023-09-13T22:32:55.294Z"
   },
   {
    "duration": 418,
    "start_time": "2023-09-13T22:32:56.562Z"
   },
   {
    "duration": 4,
    "start_time": "2023-09-13T22:32:56.982Z"
   },
   {
    "duration": 286,
    "start_time": "2023-09-13T22:32:56.988Z"
   },
   {
    "duration": 3,
    "start_time": "2023-09-13T22:32:57.276Z"
   },
   {
    "duration": 390,
    "start_time": "2023-09-13T22:32:57.280Z"
   },
   {
    "duration": 6,
    "start_time": "2023-09-13T22:32:57.672Z"
   },
   {
    "duration": 1546,
    "start_time": "2023-09-13T22:32:57.680Z"
   },
   {
    "duration": 1396,
    "start_time": "2023-09-13T22:32:59.228Z"
   },
   {
    "duration": 5109,
    "start_time": "2023-09-13T22:33:00.626Z"
   },
   {
    "duration": 3,
    "start_time": "2023-09-13T22:33:44.724Z"
   },
   {
    "duration": 1151,
    "start_time": "2023-09-13T22:33:54.285Z"
   },
   {
    "duration": 426,
    "start_time": "2023-09-13T22:33:55.438Z"
   },
   {
    "duration": 4,
    "start_time": "2023-09-13T22:33:55.866Z"
   },
   {
    "duration": 340,
    "start_time": "2023-09-13T22:33:55.872Z"
   },
   {
    "duration": 4,
    "start_time": "2023-09-13T22:33:56.214Z"
   },
   {
    "duration": 438,
    "start_time": "2023-09-13T22:33:56.220Z"
   },
   {
    "duration": 8,
    "start_time": "2023-09-13T22:33:56.659Z"
   },
   {
    "duration": 1341,
    "start_time": "2023-09-13T22:33:56.669Z"
   },
   {
    "duration": 1330,
    "start_time": "2023-09-13T22:33:58.012Z"
   },
   {
    "duration": 4771,
    "start_time": "2023-09-13T22:33:59.344Z"
   },
   {
    "duration": 3,
    "start_time": "2023-09-13T22:34:59.797Z"
   },
   {
    "duration": 254,
    "start_time": "2023-09-13T22:35:02.066Z"
   },
   {
    "duration": 1288,
    "start_time": "2023-09-13T22:35:09.053Z"
   },
   {
    "duration": 439,
    "start_time": "2023-09-13T22:35:10.343Z"
   },
   {
    "duration": 3,
    "start_time": "2023-09-13T22:35:10.786Z"
   },
   {
    "duration": 310,
    "start_time": "2023-09-13T22:35:10.791Z"
   },
   {
    "duration": 4,
    "start_time": "2023-09-13T22:35:11.102Z"
   },
   {
    "duration": 384,
    "start_time": "2023-09-13T22:35:11.108Z"
   },
   {
    "duration": 4,
    "start_time": "2023-09-13T22:35:11.494Z"
   },
   {
    "duration": 1437,
    "start_time": "2023-09-13T22:35:11.499Z"
   },
   {
    "duration": 1301,
    "start_time": "2023-09-13T22:35:12.939Z"
   },
   {
    "duration": 4728,
    "start_time": "2023-09-13T22:35:14.242Z"
   },
   {
    "duration": 4,
    "start_time": "2023-09-13T22:35:48.193Z"
   },
   {
    "duration": 232,
    "start_time": "2023-09-13T22:35:50.565Z"
   },
   {
    "duration": 3,
    "start_time": "2023-09-13T22:36:19.237Z"
   },
   {
    "duration": 255,
    "start_time": "2023-09-13T22:36:20.741Z"
   },
   {
    "duration": 1110,
    "start_time": "2023-09-13T22:36:30.185Z"
   },
   {
    "duration": 407,
    "start_time": "2023-09-13T22:36:31.297Z"
   },
   {
    "duration": 3,
    "start_time": "2023-09-13T22:36:31.706Z"
   },
   {
    "duration": 280,
    "start_time": "2023-09-13T22:36:31.711Z"
   },
   {
    "duration": 3,
    "start_time": "2023-09-13T22:36:31.993Z"
   },
   {
    "duration": 387,
    "start_time": "2023-09-13T22:36:31.998Z"
   },
   {
    "duration": 5,
    "start_time": "2023-09-13T22:36:32.386Z"
   },
   {
    "duration": 1339,
    "start_time": "2023-09-13T22:36:32.393Z"
   },
   {
    "duration": 1349,
    "start_time": "2023-09-13T22:36:33.734Z"
   },
   {
    "duration": 4740,
    "start_time": "2023-09-13T22:36:35.085Z"
   },
   {
    "duration": 1212,
    "start_time": "2023-09-13T22:44:04.947Z"
   },
   {
    "duration": 65,
    "start_time": "2023-09-13T22:44:18.065Z"
   },
   {
    "duration": 5,
    "start_time": "2023-09-13T22:53:05.731Z"
   },
   {
    "duration": 16,
    "start_time": "2023-09-13T22:53:38.384Z"
   },
   {
    "duration": 22,
    "start_time": "2023-09-13T22:53:56.342Z"
   },
   {
    "duration": 1121,
    "start_time": "2023-09-13T22:56:04.665Z"
   },
   {
    "duration": 450,
    "start_time": "2023-09-13T22:56:05.788Z"
   },
   {
    "duration": 4,
    "start_time": "2023-09-13T22:56:06.239Z"
   },
   {
    "duration": 305,
    "start_time": "2023-09-13T22:56:06.249Z"
   },
   {
    "duration": 5,
    "start_time": "2023-09-13T22:56:06.556Z"
   },
   {
    "duration": 1409,
    "start_time": "2023-09-13T22:56:06.565Z"
   },
   {
    "duration": 1380,
    "start_time": "2023-09-13T22:56:07.976Z"
   },
   {
    "duration": 4723,
    "start_time": "2023-09-13T22:56:09.361Z"
   },
   {
    "duration": 127,
    "start_time": "2023-09-13T22:56:14.086Z"
   },
   {
    "duration": 5,
    "start_time": "2023-09-13T22:56:14.215Z"
   },
   {
    "duration": 45,
    "start_time": "2023-09-13T22:56:14.222Z"
   },
   {
    "duration": 5,
    "start_time": "2023-09-13T22:56:14.269Z"
   },
   {
    "duration": 31,
    "start_time": "2023-09-13T22:56:14.276Z"
   },
   {
    "duration": 393,
    "start_time": "2023-09-13T22:56:14.309Z"
   },
   {
    "duration": 133,
    "start_time": "2023-09-13T22:56:14.704Z"
   },
   {
    "duration": 1381,
    "start_time": "2023-09-13T23:14:29.631Z"
   },
   {
    "duration": 404,
    "start_time": "2023-09-13T23:14:31.014Z"
   },
   {
    "duration": 4,
    "start_time": "2023-09-13T23:14:31.420Z"
   },
   {
    "duration": 294,
    "start_time": "2023-09-13T23:14:31.426Z"
   },
   {
    "duration": 4,
    "start_time": "2023-09-13T23:14:31.721Z"
   },
   {
    "duration": 1381,
    "start_time": "2023-09-13T23:14:31.727Z"
   },
   {
    "duration": 1122,
    "start_time": "2023-09-13T23:14:33.110Z"
   },
   {
    "duration": 4476,
    "start_time": "2023-09-13T23:14:34.233Z"
   },
   {
    "duration": 76,
    "start_time": "2023-09-13T23:14:38.710Z"
   },
   {
    "duration": 3,
    "start_time": "2023-09-13T23:14:38.789Z"
   },
   {
    "duration": 34,
    "start_time": "2023-09-13T23:14:38.794Z"
   },
   {
    "duration": 18,
    "start_time": "2023-09-13T23:14:38.829Z"
   },
   {
    "duration": 46,
    "start_time": "2023-09-13T23:14:38.848Z"
   },
   {
    "duration": 375,
    "start_time": "2023-09-13T23:14:38.895Z"
   },
   {
    "duration": 139,
    "start_time": "2023-09-13T23:14:39.272Z"
   },
   {
    "duration": 50,
    "start_time": "2023-09-13T23:15:47.215Z"
   },
   {
    "duration": 9,
    "start_time": "2023-09-13T23:16:16.630Z"
   },
   {
    "duration": 8,
    "start_time": "2023-09-13T23:16:44.862Z"
   },
   {
    "duration": 1285,
    "start_time": "2023-09-13T23:16:56.918Z"
   },
   {
    "duration": 417,
    "start_time": "2023-09-13T23:16:58.205Z"
   },
   {
    "duration": 3,
    "start_time": "2023-09-13T23:16:58.623Z"
   },
   {
    "duration": 262,
    "start_time": "2023-09-13T23:16:58.628Z"
   },
   {
    "duration": 4,
    "start_time": "2023-09-13T23:16:58.893Z"
   },
   {
    "duration": 1282,
    "start_time": "2023-09-13T23:16:58.898Z"
   },
   {
    "duration": 1294,
    "start_time": "2023-09-13T23:17:00.182Z"
   },
   {
    "duration": 4606,
    "start_time": "2023-09-13T23:17:01.478Z"
   },
   {
    "duration": 93,
    "start_time": "2023-09-13T23:17:06.085Z"
   },
   {
    "duration": 3,
    "start_time": "2023-09-13T23:17:06.180Z"
   },
   {
    "duration": 30,
    "start_time": "2023-09-13T23:17:06.184Z"
   },
   {
    "duration": 128,
    "start_time": "2023-09-13T23:17:06.215Z"
   },
   {
    "duration": 0,
    "start_time": "2023-09-13T23:17:06.345Z"
   },
   {
    "duration": 0,
    "start_time": "2023-09-13T23:17:06.347Z"
   },
   {
    "duration": 1350,
    "start_time": "2023-09-13T23:17:20.153Z"
   },
   {
    "duration": 399,
    "start_time": "2023-09-13T23:17:21.505Z"
   },
   {
    "duration": 3,
    "start_time": "2023-09-13T23:17:21.905Z"
   },
   {
    "duration": 273,
    "start_time": "2023-09-13T23:17:21.910Z"
   },
   {
    "duration": 5,
    "start_time": "2023-09-13T23:17:22.184Z"
   },
   {
    "duration": 1320,
    "start_time": "2023-09-13T23:17:22.190Z"
   },
   {
    "duration": 1115,
    "start_time": "2023-09-13T23:17:23.511Z"
   },
   {
    "duration": 4680,
    "start_time": "2023-09-13T23:17:24.628Z"
   },
   {
    "duration": 74,
    "start_time": "2023-09-13T23:17:29.309Z"
   },
   {
    "duration": 4,
    "start_time": "2023-09-13T23:17:29.386Z"
   },
   {
    "duration": 21,
    "start_time": "2023-09-13T23:17:29.391Z"
   },
   {
    "duration": 378,
    "start_time": "2023-09-13T23:17:29.413Z"
   },
   {
    "duration": 135,
    "start_time": "2023-09-13T23:17:29.792Z"
   },
   {
    "duration": 41,
    "start_time": "2023-09-13T23:17:45.480Z"
   },
   {
    "duration": 1304,
    "start_time": "2023-09-13T23:25:37.609Z"
   },
   {
    "duration": 410,
    "start_time": "2023-09-13T23:25:38.915Z"
   },
   {
    "duration": 4,
    "start_time": "2023-09-13T23:25:39.326Z"
   },
   {
    "duration": 362,
    "start_time": "2023-09-13T23:25:39.332Z"
   },
   {
    "duration": 4,
    "start_time": "2023-09-13T23:25:39.696Z"
   },
   {
    "duration": 1248,
    "start_time": "2023-09-13T23:25:39.702Z"
   },
   {
    "duration": 5,
    "start_time": "2023-09-13T23:25:40.952Z"
   },
   {
    "duration": 115,
    "start_time": "2023-09-13T23:25:40.958Z"
   },
   {
    "duration": 0,
    "start_time": "2023-09-13T23:25:41.075Z"
   },
   {
    "duration": 0,
    "start_time": "2023-09-13T23:25:41.076Z"
   },
   {
    "duration": 108,
    "start_time": "2023-09-13T23:37:26.568Z"
   },
   {
    "duration": 3,
    "start_time": "2023-09-13T23:37:33.588Z"
   },
   {
    "duration": 4,
    "start_time": "2023-09-13T23:38:33.982Z"
   },
   {
    "duration": 11,
    "start_time": "2023-09-13T23:38:35.273Z"
   },
   {
    "duration": 5,
    "start_time": "2023-09-13T23:38:39.180Z"
   },
   {
    "duration": 11,
    "start_time": "2023-09-13T23:38:48.915Z"
   },
   {
    "duration": 105,
    "start_time": "2023-09-13T23:39:11.374Z"
   },
   {
    "duration": 4,
    "start_time": "2023-09-13T23:39:16.429Z"
   },
   {
    "duration": 12,
    "start_time": "2023-09-13T23:39:18.579Z"
   },
   {
    "duration": 8,
    "start_time": "2023-09-13T23:41:12.366Z"
   },
   {
    "duration": 14,
    "start_time": "2023-09-13T23:41:14.911Z"
   },
   {
    "duration": 3,
    "start_time": "2023-09-13T23:49:23.312Z"
   },
   {
    "duration": 14,
    "start_time": "2023-09-13T23:49:30.693Z"
   },
   {
    "duration": 10,
    "start_time": "2023-09-13T23:49:42.519Z"
   },
   {
    "duration": 8,
    "start_time": "2023-09-13T23:49:51.738Z"
   },
   {
    "duration": 3,
    "start_time": "2023-09-13T23:49:57.344Z"
   },
   {
    "duration": 8,
    "start_time": "2023-09-13T23:49:58.673Z"
   },
   {
    "duration": 3,
    "start_time": "2023-09-13T23:53:42.711Z"
   },
   {
    "duration": 3,
    "start_time": "2023-09-13T23:53:53.779Z"
   },
   {
    "duration": 6,
    "start_time": "2023-09-13T23:53:55.474Z"
   },
   {
    "duration": 4,
    "start_time": "2023-09-13T23:54:24.851Z"
   },
   {
    "duration": 8,
    "start_time": "2023-09-13T23:54:29.802Z"
   },
   {
    "duration": 3,
    "start_time": "2023-09-13T23:54:32.002Z"
   },
   {
    "duration": 9,
    "start_time": "2023-09-13T23:54:33.363Z"
   },
   {
    "duration": 3,
    "start_time": "2023-09-13T23:54:39.845Z"
   },
   {
    "duration": 10,
    "start_time": "2023-09-13T23:54:41.644Z"
   },
   {
    "duration": 1397,
    "start_time": "2023-09-13T23:54:57.166Z"
   },
   {
    "duration": 398,
    "start_time": "2023-09-13T23:54:58.565Z"
   },
   {
    "duration": 3,
    "start_time": "2023-09-13T23:54:58.965Z"
   },
   {
    "duration": 332,
    "start_time": "2023-09-13T23:54:58.970Z"
   },
   {
    "duration": 4,
    "start_time": "2023-09-13T23:54:59.303Z"
   },
   {
    "duration": 1295,
    "start_time": "2023-09-13T23:54:59.308Z"
   },
   {
    "duration": 4,
    "start_time": "2023-09-13T23:55:00.605Z"
   },
   {
    "duration": 98,
    "start_time": "2023-09-13T23:55:00.611Z"
   },
   {
    "duration": 153,
    "start_time": "2023-09-13T23:55:00.711Z"
   },
   {
    "duration": 0,
    "start_time": "2023-09-13T23:55:00.865Z"
   },
   {
    "duration": 0,
    "start_time": "2023-09-13T23:55:00.866Z"
   },
   {
    "duration": 87,
    "start_time": "2023-09-13T23:59:03.212Z"
   },
   {
    "duration": 4,
    "start_time": "2023-09-13T23:59:17.960Z"
   },
   {
    "duration": 8,
    "start_time": "2023-09-13T23:59:47.829Z"
   },
   {
    "duration": 3,
    "start_time": "2023-09-14T00:14:15.285Z"
   },
   {
    "duration": 316,
    "start_time": "2023-09-14T00:14:25.539Z"
   },
   {
    "duration": 3,
    "start_time": "2023-09-14T00:14:32.563Z"
   },
   {
    "duration": 8,
    "start_time": "2023-09-14T00:14:34.308Z"
   },
   {
    "duration": 3,
    "start_time": "2023-09-14T00:14:55.475Z"
   },
   {
    "duration": 10,
    "start_time": "2023-09-14T00:14:57.338Z"
   },
   {
    "duration": 3,
    "start_time": "2023-09-14T00:16:53.763Z"
   },
   {
    "duration": 10,
    "start_time": "2023-09-14T00:16:55.547Z"
   },
   {
    "duration": 3,
    "start_time": "2023-09-14T00:17:08.863Z"
   },
   {
    "duration": 14,
    "start_time": "2023-09-14T00:17:10.324Z"
   },
   {
    "duration": 3,
    "start_time": "2023-09-14T00:17:19.575Z"
   },
   {
    "duration": 12,
    "start_time": "2023-09-14T00:17:21.309Z"
   },
   {
    "duration": 12,
    "start_time": "2023-09-14T00:17:49.761Z"
   },
   {
    "duration": 3,
    "start_time": "2023-09-14T00:17:55.596Z"
   },
   {
    "duration": 13,
    "start_time": "2023-09-14T00:17:57.244Z"
   },
   {
    "duration": 14,
    "start_time": "2023-09-14T00:18:05.886Z"
   },
   {
    "duration": 8,
    "start_time": "2023-09-14T00:22:59.221Z"
   },
   {
    "duration": 2,
    "start_time": "2023-09-14T00:23:03.284Z"
   },
   {
    "duration": 14,
    "start_time": "2023-09-14T00:23:04.609Z"
   },
   {
    "duration": 361,
    "start_time": "2023-09-14T00:24:14.021Z"
   },
   {
    "duration": 123,
    "start_time": "2023-09-14T00:28:35.891Z"
   },
   {
    "duration": 3,
    "start_time": "2023-09-14T00:28:43.425Z"
   },
   {
    "duration": 13,
    "start_time": "2023-09-14T00:29:01.732Z"
   },
   {
    "duration": 4,
    "start_time": "2023-09-14T00:29:23.809Z"
   },
   {
    "duration": 865,
    "start_time": "2023-09-14T00:29:25.298Z"
   },
   {
    "duration": 1588,
    "start_time": "2023-09-14T00:30:26.070Z"
   },
   {
    "duration": 381,
    "start_time": "2023-09-14T00:30:27.660Z"
   },
   {
    "duration": 10,
    "start_time": "2023-09-14T00:30:28.043Z"
   },
   {
    "duration": 328,
    "start_time": "2023-09-14T00:30:28.055Z"
   },
   {
    "duration": 4,
    "start_time": "2023-09-14T00:30:28.385Z"
   },
   {
    "duration": 1247,
    "start_time": "2023-09-14T00:30:28.390Z"
   },
   {
    "duration": 3,
    "start_time": "2023-09-14T00:30:29.639Z"
   },
   {
    "duration": 29,
    "start_time": "2023-09-14T00:30:29.643Z"
   },
   {
    "duration": 9,
    "start_time": "2023-09-14T00:30:29.673Z"
   },
   {
    "duration": 856,
    "start_time": "2023-09-14T00:30:29.684Z"
   },
   {
    "duration": 107,
    "start_time": "2023-09-14T00:30:30.541Z"
   },
   {
    "duration": 410,
    "start_time": "2023-09-14T00:36:16.802Z"
   },
   {
    "duration": 413,
    "start_time": "2023-09-14T00:36:26.130Z"
   },
   {
    "duration": 4,
    "start_time": "2023-09-14T00:37:01.673Z"
   },
   {
    "duration": 925,
    "start_time": "2023-09-14T00:37:03.610Z"
   },
   {
    "duration": 4,
    "start_time": "2023-09-14T00:37:18.690Z"
   },
   {
    "duration": 981,
    "start_time": "2023-09-14T00:37:20.149Z"
   },
   {
    "duration": 373,
    "start_time": "2023-09-14T00:37:27.349Z"
   },
   {
    "duration": 1981,
    "start_time": "2023-09-16T17:51:43.754Z"
   },
   {
    "duration": 1116,
    "start_time": "2023-09-16T17:51:45.737Z"
   },
   {
    "duration": 4,
    "start_time": "2023-09-16T17:51:46.856Z"
   },
   {
    "duration": 442,
    "start_time": "2023-09-16T17:51:46.862Z"
   },
   {
    "duration": 10,
    "start_time": "2023-09-16T17:51:47.305Z"
   },
   {
    "duration": 1773,
    "start_time": "2023-09-16T17:51:47.321Z"
   },
   {
    "duration": 3,
    "start_time": "2023-09-16T17:51:49.096Z"
   },
   {
    "duration": 25,
    "start_time": "2023-09-16T17:51:49.113Z"
   },
   {
    "duration": 5,
    "start_time": "2023-09-16T17:51:49.145Z"
   },
   {
    "duration": 1235,
    "start_time": "2023-09-16T17:51:49.153Z"
   },
   {
    "duration": 26,
    "start_time": "2023-09-16T17:51:50.390Z"
   },
   {
    "duration": 1604,
    "start_time": "2023-09-16T17:57:03.024Z"
   },
   {
    "duration": 514,
    "start_time": "2023-09-16T17:57:04.631Z"
   },
   {
    "duration": 4,
    "start_time": "2023-09-16T17:57:05.147Z"
   },
   {
    "duration": 488,
    "start_time": "2023-09-16T17:57:05.153Z"
   },
   {
    "duration": 5,
    "start_time": "2023-09-16T17:57:05.644Z"
   },
   {
    "duration": 1909,
    "start_time": "2023-09-16T17:57:05.651Z"
   },
   {
    "duration": 3,
    "start_time": "2023-09-16T17:57:07.561Z"
   },
   {
    "duration": 15,
    "start_time": "2023-09-16T17:57:07.566Z"
   },
   {
    "duration": 17,
    "start_time": "2023-09-16T17:57:07.583Z"
   },
   {
    "duration": 1100,
    "start_time": "2023-09-16T17:57:07.602Z"
   },
   {
    "duration": 47,
    "start_time": "2023-09-16T17:57:08.703Z"
   },
   {
    "duration": 11,
    "start_time": "2023-09-16T18:11:05.478Z"
   },
   {
    "duration": 12,
    "start_time": "2023-09-16T18:16:03.838Z"
   },
   {
    "duration": 1638,
    "start_time": "2023-09-16T18:19:06.537Z"
   },
   {
    "duration": 508,
    "start_time": "2023-09-16T18:19:08.177Z"
   },
   {
    "duration": 5,
    "start_time": "2023-09-16T18:19:08.687Z"
   },
   {
    "duration": 475,
    "start_time": "2023-09-16T18:19:08.694Z"
   },
   {
    "duration": 5,
    "start_time": "2023-09-16T18:19:09.172Z"
   },
   {
    "duration": 1931,
    "start_time": "2023-09-16T18:19:09.178Z"
   },
   {
    "duration": 17,
    "start_time": "2023-09-16T18:19:11.111Z"
   },
   {
    "duration": 25,
    "start_time": "2023-09-16T18:19:11.132Z"
   },
   {
    "duration": 36,
    "start_time": "2023-09-16T18:19:11.159Z"
   },
   {
    "duration": 1071,
    "start_time": "2023-09-16T18:19:11.197Z"
   },
   {
    "duration": 52,
    "start_time": "2023-09-16T18:19:12.269Z"
   },
   {
    "duration": 17,
    "start_time": "2023-09-16T18:19:12.330Z"
   },
   {
    "duration": 4,
    "start_time": "2023-09-16T18:19:12.348Z"
   },
   {
    "duration": 31,
    "start_time": "2023-09-16T18:19:12.356Z"
   },
   {
    "duration": 4,
    "start_time": "2023-09-16T18:20:11.993Z"
   },
   {
    "duration": 137,
    "start_time": "2023-09-16T18:20:20.867Z"
   },
   {
    "duration": 1692,
    "start_time": "2023-09-16T18:20:47.312Z"
   },
   {
    "duration": 509,
    "start_time": "2023-09-16T18:20:49.006Z"
   },
   {
    "duration": 9,
    "start_time": "2023-09-16T18:20:49.518Z"
   },
   {
    "duration": 500,
    "start_time": "2023-09-16T18:20:49.530Z"
   },
   {
    "duration": 7,
    "start_time": "2023-09-16T18:20:50.036Z"
   },
   {
    "duration": 1921,
    "start_time": "2023-09-16T18:20:50.047Z"
   },
   {
    "duration": 3,
    "start_time": "2023-09-16T18:20:51.970Z"
   },
   {
    "duration": 22,
    "start_time": "2023-09-16T18:20:51.974Z"
   },
   {
    "duration": 13,
    "start_time": "2023-09-16T18:20:51.998Z"
   },
   {
    "duration": 1133,
    "start_time": "2023-09-16T18:20:52.015Z"
   },
   {
    "duration": 33,
    "start_time": "2023-09-16T18:20:53.150Z"
   },
   {
    "duration": 48,
    "start_time": "2023-09-16T18:20:53.185Z"
   },
   {
    "duration": 7,
    "start_time": "2023-09-16T18:20:53.235Z"
   },
   {
    "duration": 34,
    "start_time": "2023-09-16T18:20:53.244Z"
   },
   {
    "duration": 128,
    "start_time": "2023-09-16T18:20:53.280Z"
   },
   {
    "duration": 5,
    "start_time": "2023-09-16T18:23:11.543Z"
   },
   {
    "duration": 1663,
    "start_time": "2023-09-16T18:25:54.180Z"
   },
   {
    "duration": 503,
    "start_time": "2023-09-16T18:25:55.845Z"
   },
   {
    "duration": 4,
    "start_time": "2023-09-16T18:25:56.350Z"
   },
   {
    "duration": 481,
    "start_time": "2023-09-16T18:25:56.357Z"
   },
   {
    "duration": 4,
    "start_time": "2023-09-16T18:25:56.844Z"
   },
   {
    "duration": 1830,
    "start_time": "2023-09-16T18:25:56.850Z"
   },
   {
    "duration": 5,
    "start_time": "2023-09-16T18:25:58.682Z"
   },
   {
    "duration": 27,
    "start_time": "2023-09-16T18:25:58.689Z"
   },
   {
    "duration": 15,
    "start_time": "2023-09-16T18:25:58.718Z"
   },
   {
    "duration": 1113,
    "start_time": "2023-09-16T18:25:58.743Z"
   },
   {
    "duration": 29,
    "start_time": "2023-09-16T18:25:59.858Z"
   },
   {
    "duration": 27,
    "start_time": "2023-09-16T18:25:59.889Z"
   },
   {
    "duration": 10,
    "start_time": "2023-09-16T18:25:59.930Z"
   },
   {
    "duration": 42,
    "start_time": "2023-09-16T18:25:59.947Z"
   },
   {
    "duration": 33,
    "start_time": "2023-09-16T18:25:59.991Z"
   },
   {
    "duration": 143,
    "start_time": "2023-09-16T19:13:30.242Z"
   },
   {
    "duration": 1683,
    "start_time": "2023-09-16T19:13:36.566Z"
   },
   {
    "duration": 536,
    "start_time": "2023-09-16T19:13:38.256Z"
   },
   {
    "duration": 4,
    "start_time": "2023-09-16T19:13:38.794Z"
   },
   {
    "duration": 481,
    "start_time": "2023-09-16T19:13:38.800Z"
   },
   {
    "duration": 4,
    "start_time": "2023-09-16T19:13:39.283Z"
   },
   {
    "duration": 2073,
    "start_time": "2023-09-16T19:13:39.289Z"
   },
   {
    "duration": 4,
    "start_time": "2023-09-16T19:13:41.363Z"
   },
   {
    "duration": 29,
    "start_time": "2023-09-16T19:13:41.369Z"
   },
   {
    "duration": 13,
    "start_time": "2023-09-16T19:13:41.400Z"
   },
   {
    "duration": 1136,
    "start_time": "2023-09-16T19:13:41.421Z"
   },
   {
    "duration": 37,
    "start_time": "2023-09-16T19:13:42.558Z"
   },
   {
    "duration": 13,
    "start_time": "2023-09-16T19:13:42.597Z"
   },
   {
    "duration": 18,
    "start_time": "2023-09-16T19:13:42.612Z"
   },
   {
    "duration": 42,
    "start_time": "2023-09-16T19:13:42.632Z"
   },
   {
    "duration": 57,
    "start_time": "2023-09-16T19:13:42.677Z"
   },
   {
    "duration": 4,
    "start_time": "2023-09-16T19:13:42.736Z"
   },
   {
    "duration": 9,
    "start_time": "2023-09-16T19:13:42.744Z"
   },
   {
    "duration": 5,
    "start_time": "2023-09-16T19:13:48.398Z"
   },
   {
    "duration": 10,
    "start_time": "2023-09-16T19:51:26.996Z"
   },
   {
    "duration": 5,
    "start_time": "2023-09-16T19:55:38.984Z"
   },
   {
    "duration": 1528,
    "start_time": "2023-09-16T20:09:04.752Z"
   },
   {
    "duration": 451,
    "start_time": "2023-09-16T20:09:06.282Z"
   },
   {
    "duration": 4,
    "start_time": "2023-09-16T20:09:06.735Z"
   },
   {
    "duration": 416,
    "start_time": "2023-09-16T20:09:06.742Z"
   },
   {
    "duration": 4,
    "start_time": "2023-09-16T20:09:07.160Z"
   },
   {
    "duration": 1619,
    "start_time": "2023-09-16T20:09:07.166Z"
   },
   {
    "duration": 3,
    "start_time": "2023-09-16T20:09:08.787Z"
   },
   {
    "duration": 26,
    "start_time": "2023-09-16T20:09:08.792Z"
   },
   {
    "duration": 5,
    "start_time": "2023-09-16T20:09:08.820Z"
   },
   {
    "duration": 1034,
    "start_time": "2023-09-16T20:09:08.828Z"
   },
   {
    "duration": 31,
    "start_time": "2023-09-16T20:09:09.864Z"
   },
   {
    "duration": 21,
    "start_time": "2023-09-16T20:09:09.897Z"
   },
   {
    "duration": 4,
    "start_time": "2023-09-16T20:09:09.920Z"
   },
   {
    "duration": 31,
    "start_time": "2023-09-16T20:09:09.925Z"
   },
   {
    "duration": 52,
    "start_time": "2023-09-16T20:09:09.958Z"
   },
   {
    "duration": 11,
    "start_time": "2023-09-16T20:09:10.012Z"
   },
   {
    "duration": 15,
    "start_time": "2023-09-16T20:09:10.025Z"
   },
   {
    "duration": 21,
    "start_time": "2023-09-16T20:09:10.042Z"
   },
   {
    "duration": 112703,
    "start_time": "2023-09-16T20:09:10.064Z"
   },
   {
    "duration": 125,
    "start_time": "2023-09-16T20:11:02.769Z"
   },
   {
    "duration": 45,
    "start_time": "2023-09-16T20:12:58.941Z"
   },
   {
    "duration": 53,
    "start_time": "2023-09-16T20:13:02.942Z"
   },
   {
    "duration": 41,
    "start_time": "2023-09-16T20:13:20.773Z"
   },
   {
    "duration": 7,
    "start_time": "2023-09-16T20:13:36.021Z"
   },
   {
    "duration": 111612,
    "start_time": "2023-09-16T20:13:41.134Z"
   },
   {
    "duration": 1511,
    "start_time": "2023-09-16T20:22:10.637Z"
   },
   {
    "duration": 512,
    "start_time": "2023-09-16T20:22:12.150Z"
   },
   {
    "duration": 6,
    "start_time": "2023-09-16T20:22:12.665Z"
   },
   {
    "duration": 498,
    "start_time": "2023-09-16T20:22:12.674Z"
   },
   {
    "duration": 5,
    "start_time": "2023-09-16T20:22:13.174Z"
   },
   {
    "duration": 1738,
    "start_time": "2023-09-16T20:22:13.181Z"
   },
   {
    "duration": 3,
    "start_time": "2023-09-16T20:22:14.922Z"
   },
   {
    "duration": 37,
    "start_time": "2023-09-16T20:22:14.928Z"
   },
   {
    "duration": 24,
    "start_time": "2023-09-16T20:22:14.967Z"
   },
   {
    "duration": 1169,
    "start_time": "2023-09-16T20:22:14.994Z"
   },
   {
    "duration": 31,
    "start_time": "2023-09-16T20:22:16.166Z"
   },
   {
    "duration": 13,
    "start_time": "2023-09-16T20:22:16.210Z"
   },
   {
    "duration": 8,
    "start_time": "2023-09-16T20:22:16.226Z"
   },
   {
    "duration": 39,
    "start_time": "2023-09-16T20:22:16.236Z"
   },
   {
    "duration": 56,
    "start_time": "2023-09-16T20:22:16.278Z"
   },
   {
    "duration": 12,
    "start_time": "2023-09-16T20:22:16.335Z"
   },
   {
    "duration": 20,
    "start_time": "2023-09-16T20:22:16.348Z"
   },
   {
    "duration": 20,
    "start_time": "2023-09-16T20:22:16.370Z"
   },
   {
    "duration": 1632,
    "start_time": "2023-09-16T20:23:02.109Z"
   },
   {
    "duration": 444,
    "start_time": "2023-09-16T20:23:03.743Z"
   },
   {
    "duration": 4,
    "start_time": "2023-09-16T20:23:04.189Z"
   },
   {
    "duration": 418,
    "start_time": "2023-09-16T20:23:04.195Z"
   },
   {
    "duration": 4,
    "start_time": "2023-09-16T20:23:04.615Z"
   },
   {
    "duration": 1664,
    "start_time": "2023-09-16T20:23:04.621Z"
   },
   {
    "duration": 3,
    "start_time": "2023-09-16T20:23:06.287Z"
   },
   {
    "duration": 26,
    "start_time": "2023-09-16T20:23:06.292Z"
   },
   {
    "duration": 7,
    "start_time": "2023-09-16T20:23:06.319Z"
   },
   {
    "duration": 1049,
    "start_time": "2023-09-16T20:23:06.328Z"
   },
   {
    "duration": 41,
    "start_time": "2023-09-16T20:23:07.379Z"
   },
   {
    "duration": 8,
    "start_time": "2023-09-16T20:23:07.422Z"
   },
   {
    "duration": 4,
    "start_time": "2023-09-16T20:23:07.432Z"
   },
   {
    "duration": 32,
    "start_time": "2023-09-16T20:23:07.438Z"
   },
   {
    "duration": 55,
    "start_time": "2023-09-16T20:23:07.472Z"
   },
   {
    "duration": 10,
    "start_time": "2023-09-16T20:23:07.529Z"
   },
   {
    "duration": 5,
    "start_time": "2023-09-16T20:23:07.540Z"
   },
   {
    "duration": 7,
    "start_time": "2023-09-16T20:23:07.547Z"
   },
   {
    "duration": 113190,
    "start_time": "2023-09-16T20:23:07.555Z"
   },
   {
    "duration": 121,
    "start_time": "2023-09-16T20:25:00.747Z"
   },
   {
    "duration": 82,
    "start_time": "2023-09-16T20:35:25.806Z"
   },
   {
    "duration": 82,
    "start_time": "2023-09-16T20:36:04.838Z"
   },
   {
    "duration": 1457,
    "start_time": "2023-09-16T20:37:38.949Z"
   },
   {
    "duration": 439,
    "start_time": "2023-09-16T20:37:40.409Z"
   },
   {
    "duration": 5,
    "start_time": "2023-09-16T20:37:40.850Z"
   },
   {
    "duration": 429,
    "start_time": "2023-09-16T20:37:40.858Z"
   },
   {
    "duration": 5,
    "start_time": "2023-09-16T20:37:41.289Z"
   },
   {
    "duration": 1628,
    "start_time": "2023-09-16T20:37:41.296Z"
   },
   {
    "duration": 3,
    "start_time": "2023-09-16T20:37:42.926Z"
   },
   {
    "duration": 23,
    "start_time": "2023-09-16T20:37:42.930Z"
   },
   {
    "duration": 6,
    "start_time": "2023-09-16T20:37:42.955Z"
   },
   {
    "duration": 1007,
    "start_time": "2023-09-16T20:37:42.963Z"
   },
   {
    "duration": 40,
    "start_time": "2023-09-16T20:37:43.972Z"
   },
   {
    "duration": 10,
    "start_time": "2023-09-16T20:37:44.013Z"
   },
   {
    "duration": 12,
    "start_time": "2023-09-16T20:37:44.024Z"
   },
   {
    "duration": 32,
    "start_time": "2023-09-16T20:37:44.038Z"
   },
   {
    "duration": 44,
    "start_time": "2023-09-16T20:37:44.071Z"
   },
   {
    "duration": 10,
    "start_time": "2023-09-16T20:37:44.117Z"
   },
   {
    "duration": 13,
    "start_time": "2023-09-16T20:37:44.129Z"
   },
   {
    "duration": 15,
    "start_time": "2023-09-16T20:37:44.144Z"
   },
   {
    "duration": 112201,
    "start_time": "2023-09-16T20:37:44.161Z"
   },
   {
    "duration": 3,
    "start_time": "2023-09-16T20:39:36.364Z"
   },
   {
    "duration": 251,
    "start_time": "2023-09-16T20:39:36.368Z"
   },
   {
    "duration": 9,
    "start_time": "2023-09-16T20:41:27.031Z"
   },
   {
    "duration": 1549,
    "start_time": "2023-09-16T20:49:31.884Z"
   },
   {
    "duration": 457,
    "start_time": "2023-09-16T20:49:33.435Z"
   },
   {
    "duration": 4,
    "start_time": "2023-09-16T20:49:33.894Z"
   },
   {
    "duration": 443,
    "start_time": "2023-09-16T20:49:33.900Z"
   },
   {
    "duration": 5,
    "start_time": "2023-09-16T20:49:34.344Z"
   },
   {
    "duration": 1688,
    "start_time": "2023-09-16T20:49:34.351Z"
   },
   {
    "duration": 3,
    "start_time": "2023-09-16T20:49:36.040Z"
   },
   {
    "duration": 17,
    "start_time": "2023-09-16T20:49:36.044Z"
   },
   {
    "duration": 6,
    "start_time": "2023-09-16T20:49:36.063Z"
   },
   {
    "duration": 1052,
    "start_time": "2023-09-16T20:49:36.071Z"
   },
   {
    "duration": 31,
    "start_time": "2023-09-16T20:49:37.125Z"
   },
   {
    "duration": 8,
    "start_time": "2023-09-16T20:49:37.158Z"
   },
   {
    "duration": 7,
    "start_time": "2023-09-16T20:49:37.168Z"
   },
   {
    "duration": 50,
    "start_time": "2023-09-16T20:49:37.176Z"
   },
   {
    "duration": 27,
    "start_time": "2023-09-16T20:49:37.228Z"
   },
   {
    "duration": 8,
    "start_time": "2023-09-16T20:49:37.257Z"
   },
   {
    "duration": 10,
    "start_time": "2023-09-16T20:49:37.267Z"
   },
   {
    "duration": 15,
    "start_time": "2023-09-16T20:49:37.279Z"
   },
   {
    "duration": 16,
    "start_time": "2023-09-16T20:49:37.296Z"
   },
   {
    "duration": 0,
    "start_time": "2023-09-16T20:49:37.314Z"
   },
   {
    "duration": 0,
    "start_time": "2023-09-16T20:49:37.315Z"
   },
   {
    "duration": 0,
    "start_time": "2023-09-16T20:49:37.316Z"
   },
   {
    "duration": 0,
    "start_time": "2023-09-16T20:49:37.322Z"
   },
   {
    "duration": 0,
    "start_time": "2023-09-16T20:49:37.324Z"
   },
   {
    "duration": 1591,
    "start_time": "2023-09-16T20:50:16.491Z"
   },
   {
    "duration": 455,
    "start_time": "2023-09-16T20:50:18.084Z"
   },
   {
    "duration": 4,
    "start_time": "2023-09-16T20:50:18.541Z"
   },
   {
    "duration": 432,
    "start_time": "2023-09-16T20:50:18.547Z"
   },
   {
    "duration": 5,
    "start_time": "2023-09-16T20:50:18.980Z"
   },
   {
    "duration": 1653,
    "start_time": "2023-09-16T20:50:18.987Z"
   },
   {
    "duration": 3,
    "start_time": "2023-09-16T20:50:20.642Z"
   },
   {
    "duration": 26,
    "start_time": "2023-09-16T20:50:20.647Z"
   },
   {
    "duration": 66,
    "start_time": "2023-09-16T20:50:20.674Z"
   },
   {
    "duration": 1098,
    "start_time": "2023-09-16T20:50:20.743Z"
   },
   {
    "duration": 34,
    "start_time": "2023-09-16T20:50:21.843Z"
   },
   {
    "duration": 8,
    "start_time": "2023-09-16T20:50:21.879Z"
   },
   {
    "duration": 34,
    "start_time": "2023-09-16T20:50:21.889Z"
   },
   {
    "duration": 46,
    "start_time": "2023-09-16T20:50:21.925Z"
   },
   {
    "duration": 29,
    "start_time": "2023-09-16T20:50:21.973Z"
   },
   {
    "duration": 12,
    "start_time": "2023-09-16T20:50:22.004Z"
   },
   {
    "duration": 5,
    "start_time": "2023-09-16T20:50:22.018Z"
   },
   {
    "duration": 4,
    "start_time": "2023-09-16T20:50:22.027Z"
   },
   {
    "duration": 110264,
    "start_time": "2023-09-16T20:50:22.033Z"
   },
   {
    "duration": 132,
    "start_time": "2023-09-16T20:52:12.299Z"
   },
   {
    "duration": 0,
    "start_time": "2023-09-16T20:52:12.433Z"
   },
   {
    "duration": 0,
    "start_time": "2023-09-16T20:52:12.436Z"
   },
   {
    "duration": 0,
    "start_time": "2023-09-16T20:52:12.438Z"
   },
   {
    "duration": 0,
    "start_time": "2023-09-16T20:52:12.440Z"
   },
   {
    "duration": 1464,
    "start_time": "2023-09-16T20:54:29.420Z"
   },
   {
    "duration": 474,
    "start_time": "2023-09-16T20:54:30.886Z"
   },
   {
    "duration": 4,
    "start_time": "2023-09-16T20:54:31.362Z"
   },
   {
    "duration": 521,
    "start_time": "2023-09-16T20:54:31.368Z"
   },
   {
    "duration": 4,
    "start_time": "2023-09-16T20:54:31.892Z"
   },
   {
    "duration": 1690,
    "start_time": "2023-09-16T20:54:31.897Z"
   },
   {
    "duration": 3,
    "start_time": "2023-09-16T20:54:33.588Z"
   },
   {
    "duration": 37,
    "start_time": "2023-09-16T20:54:33.593Z"
   },
   {
    "duration": 5,
    "start_time": "2023-09-16T20:54:33.632Z"
   },
   {
    "duration": 1011,
    "start_time": "2023-09-16T20:54:33.638Z"
   },
   {
    "duration": 29,
    "start_time": "2023-09-16T20:54:34.651Z"
   },
   {
    "duration": 8,
    "start_time": "2023-09-16T20:54:34.682Z"
   },
   {
    "duration": 12,
    "start_time": "2023-09-16T20:54:34.710Z"
   },
   {
    "duration": 28,
    "start_time": "2023-09-16T20:54:34.725Z"
   },
   {
    "duration": 28,
    "start_time": "2023-09-16T20:54:34.755Z"
   },
   {
    "duration": 37,
    "start_time": "2023-09-16T20:54:34.784Z"
   },
   {
    "duration": 5,
    "start_time": "2023-09-16T20:54:34.825Z"
   },
   {
    "duration": 16,
    "start_time": "2023-09-16T20:54:34.832Z"
   },
   {
    "duration": 1535,
    "start_time": "2023-09-16T20:54:45.270Z"
   },
   {
    "duration": 461,
    "start_time": "2023-09-16T20:54:46.807Z"
   },
   {
    "duration": 4,
    "start_time": "2023-09-16T20:54:47.270Z"
   },
   {
    "duration": 420,
    "start_time": "2023-09-16T20:54:47.277Z"
   },
   {
    "duration": 25,
    "start_time": "2023-09-16T20:54:47.698Z"
   },
   {
    "duration": 1611,
    "start_time": "2023-09-16T20:54:47.725Z"
   },
   {
    "duration": 3,
    "start_time": "2023-09-16T20:54:49.338Z"
   },
   {
    "duration": 14,
    "start_time": "2023-09-16T20:54:49.342Z"
   },
   {
    "duration": 7,
    "start_time": "2023-09-16T20:54:49.358Z"
   },
   {
    "duration": 1063,
    "start_time": "2023-09-16T20:54:49.368Z"
   },
   {
    "duration": 28,
    "start_time": "2023-09-16T20:54:50.433Z"
   },
   {
    "duration": 26,
    "start_time": "2023-09-16T20:54:50.463Z"
   },
   {
    "duration": 30,
    "start_time": "2023-09-16T20:54:50.490Z"
   },
   {
    "duration": 42,
    "start_time": "2023-09-16T20:54:50.527Z"
   },
   {
    "duration": 30,
    "start_time": "2023-09-16T20:54:50.571Z"
   },
   {
    "duration": 21,
    "start_time": "2023-09-16T20:54:50.603Z"
   },
   {
    "duration": 9,
    "start_time": "2023-09-16T20:54:50.625Z"
   },
   {
    "duration": 11,
    "start_time": "2023-09-16T20:54:50.636Z"
   },
   {
    "duration": 265,
    "start_time": "2023-09-16T20:54:50.649Z"
   },
   {
    "duration": 211,
    "start_time": "2023-09-16T20:54:50.917Z"
   },
   {
    "duration": 0,
    "start_time": "2023-09-16T20:54:51.130Z"
   },
   {
    "duration": 0,
    "start_time": "2023-09-16T20:54:51.132Z"
   },
   {
    "duration": 0,
    "start_time": "2023-09-16T20:54:51.133Z"
   },
   {
    "duration": 19,
    "start_time": "2023-09-16T20:55:34.605Z"
   },
   {
    "duration": 1637,
    "start_time": "2023-09-16T20:55:38.789Z"
   },
   {
    "duration": 467,
    "start_time": "2023-09-16T20:55:40.428Z"
   },
   {
    "duration": 4,
    "start_time": "2023-09-16T20:55:40.897Z"
   },
   {
    "duration": 450,
    "start_time": "2023-09-16T20:55:40.909Z"
   },
   {
    "duration": 4,
    "start_time": "2023-09-16T20:55:41.362Z"
   },
   {
    "duration": 1806,
    "start_time": "2023-09-16T20:55:41.368Z"
   },
   {
    "duration": 2,
    "start_time": "2023-09-16T20:55:43.176Z"
   },
   {
    "duration": 38,
    "start_time": "2023-09-16T20:55:43.181Z"
   },
   {
    "duration": 4,
    "start_time": "2023-09-16T20:55:43.221Z"
   },
   {
    "duration": 1023,
    "start_time": "2023-09-16T20:55:43.226Z"
   },
   {
    "duration": 33,
    "start_time": "2023-09-16T20:55:44.251Z"
   },
   {
    "duration": 35,
    "start_time": "2023-09-16T20:55:44.286Z"
   },
   {
    "duration": 4,
    "start_time": "2023-09-16T20:55:44.324Z"
   },
   {
    "duration": 32,
    "start_time": "2023-09-16T20:55:44.331Z"
   },
   {
    "duration": 55,
    "start_time": "2023-09-16T20:55:44.365Z"
   },
   {
    "duration": 11,
    "start_time": "2023-09-16T20:55:44.422Z"
   },
   {
    "duration": 5,
    "start_time": "2023-09-16T20:55:44.435Z"
   },
   {
    "duration": 6,
    "start_time": "2023-09-16T20:55:44.442Z"
   },
   {
    "duration": 270,
    "start_time": "2023-09-16T20:55:44.450Z"
   },
   {
    "duration": 206,
    "start_time": "2023-09-16T20:55:44.724Z"
   },
   {
    "duration": 0,
    "start_time": "2023-09-16T20:55:44.932Z"
   },
   {
    "duration": 0,
    "start_time": "2023-09-16T20:55:44.934Z"
   },
   {
    "duration": 0,
    "start_time": "2023-09-16T20:55:44.935Z"
   },
   {
    "duration": 225,
    "start_time": "2023-09-16T20:56:05.188Z"
   },
   {
    "duration": 9,
    "start_time": "2023-09-16T20:56:13.284Z"
   },
   {
    "duration": 12,
    "start_time": "2023-09-16T20:56:33.308Z"
   },
   {
    "duration": 1528,
    "start_time": "2023-09-16T20:56:57.670Z"
   },
   {
    "duration": 466,
    "start_time": "2023-09-16T20:56:59.200Z"
   },
   {
    "duration": 4,
    "start_time": "2023-09-16T20:56:59.668Z"
   },
   {
    "duration": 465,
    "start_time": "2023-09-16T20:56:59.674Z"
   },
   {
    "duration": 5,
    "start_time": "2023-09-16T20:57:00.142Z"
   },
   {
    "duration": 1747,
    "start_time": "2023-09-16T20:57:00.148Z"
   },
   {
    "duration": 3,
    "start_time": "2023-09-16T20:57:01.896Z"
   },
   {
    "duration": 50,
    "start_time": "2023-09-16T20:57:01.900Z"
   },
   {
    "duration": 42,
    "start_time": "2023-09-16T20:57:01.952Z"
   },
   {
    "duration": 1056,
    "start_time": "2023-09-16T20:57:01.997Z"
   },
   {
    "duration": 31,
    "start_time": "2023-09-16T20:57:03.054Z"
   },
   {
    "duration": 30,
    "start_time": "2023-09-16T20:57:03.087Z"
   },
   {
    "duration": 6,
    "start_time": "2023-09-16T20:57:03.121Z"
   },
   {
    "duration": 37,
    "start_time": "2023-09-16T20:57:03.129Z"
   },
   {
    "duration": 29,
    "start_time": "2023-09-16T20:57:03.168Z"
   },
   {
    "duration": 11,
    "start_time": "2023-09-16T20:57:03.211Z"
   },
   {
    "duration": 59,
    "start_time": "2023-09-16T20:57:03.225Z"
   },
   {
    "duration": 7,
    "start_time": "2023-09-16T20:57:03.285Z"
   },
   {
    "duration": 223,
    "start_time": "2023-09-16T20:57:03.294Z"
   },
   {
    "duration": 11545,
    "start_time": "2023-09-16T20:57:03.518Z"
   },
   {
    "duration": 0,
    "start_time": "2023-09-16T20:57:15.066Z"
   },
   {
    "duration": 0,
    "start_time": "2023-09-16T20:57:15.067Z"
   },
   {
    "duration": 0,
    "start_time": "2023-09-16T20:57:15.068Z"
   },
   {
    "duration": 1511,
    "start_time": "2023-09-16T20:57:43.824Z"
   },
   {
    "duration": 447,
    "start_time": "2023-09-16T20:57:45.338Z"
   },
   {
    "duration": 4,
    "start_time": "2023-09-16T20:57:45.787Z"
   },
   {
    "duration": 420,
    "start_time": "2023-09-16T20:57:45.793Z"
   },
   {
    "duration": 5,
    "start_time": "2023-09-16T20:57:46.215Z"
   },
   {
    "duration": 1525,
    "start_time": "2023-09-16T20:57:46.222Z"
   },
   {
    "duration": 3,
    "start_time": "2023-09-16T20:57:47.748Z"
   },
   {
    "duration": 29,
    "start_time": "2023-09-16T20:57:47.753Z"
   },
   {
    "duration": 7,
    "start_time": "2023-09-16T20:57:47.784Z"
   },
   {
    "duration": 944,
    "start_time": "2023-09-16T20:57:47.793Z"
   },
   {
    "duration": 30,
    "start_time": "2023-09-16T20:57:48.738Z"
   },
   {
    "duration": 9,
    "start_time": "2023-09-16T20:57:48.770Z"
   },
   {
    "duration": 31,
    "start_time": "2023-09-16T20:57:48.780Z"
   },
   {
    "duration": 29,
    "start_time": "2023-09-16T20:57:48.812Z"
   },
   {
    "duration": 30,
    "start_time": "2023-09-16T20:57:48.842Z"
   },
   {
    "duration": 9,
    "start_time": "2023-09-16T20:57:48.873Z"
   },
   {
    "duration": 4,
    "start_time": "2023-09-16T20:57:48.909Z"
   },
   {
    "duration": 13,
    "start_time": "2023-09-16T20:57:48.915Z"
   },
   {
    "duration": 181,
    "start_time": "2023-09-16T20:57:48.930Z"
   },
   {
    "duration": 114897,
    "start_time": "2023-09-16T20:57:49.114Z"
   },
   {
    "duration": 202,
    "start_time": "2023-09-16T20:59:44.013Z"
   },
   {
    "duration": 117119,
    "start_time": "2023-09-16T20:59:44.218Z"
   },
   {
    "duration": 195,
    "start_time": "2023-09-16T21:01:41.339Z"
   },
   {
    "duration": 8,
    "start_time": "2023-09-16T21:20:56.977Z"
   },
   {
    "duration": 1559,
    "start_time": "2023-09-16T21:23:53.803Z"
   },
   {
    "duration": 434,
    "start_time": "2023-09-16T21:23:55.364Z"
   },
   {
    "duration": 4,
    "start_time": "2023-09-16T21:23:55.800Z"
   },
   {
    "duration": 404,
    "start_time": "2023-09-16T21:23:55.808Z"
   },
   {
    "duration": 4,
    "start_time": "2023-09-16T21:23:56.213Z"
   },
   {
    "duration": 1528,
    "start_time": "2023-09-16T21:23:56.219Z"
   },
   {
    "duration": 2,
    "start_time": "2023-09-16T21:23:57.749Z"
   },
   {
    "duration": 15,
    "start_time": "2023-09-16T21:23:57.753Z"
   },
   {
    "duration": 6,
    "start_time": "2023-09-16T21:23:57.770Z"
   },
   {
    "duration": 951,
    "start_time": "2023-09-16T21:23:57.778Z"
   },
   {
    "duration": 29,
    "start_time": "2023-09-16T21:23:58.731Z"
   },
   {
    "duration": 9,
    "start_time": "2023-09-16T21:23:58.762Z"
   },
   {
    "duration": 7,
    "start_time": "2023-09-16T21:23:58.773Z"
   },
   {
    "duration": 52,
    "start_time": "2023-09-16T21:23:58.782Z"
   },
   {
    "duration": 27,
    "start_time": "2023-09-16T21:23:58.836Z"
   },
   {
    "duration": 10,
    "start_time": "2023-09-16T21:23:58.865Z"
   },
   {
    "duration": 33,
    "start_time": "2023-09-16T21:23:58.877Z"
   },
   {
    "duration": 4,
    "start_time": "2023-09-16T21:23:58.912Z"
   },
   {
    "duration": 292,
    "start_time": "2023-09-16T21:23:58.918Z"
   },
   {
    "duration": 199,
    "start_time": "2023-09-16T21:23:59.212Z"
   },
   {
    "duration": 205,
    "start_time": "2023-09-16T21:23:59.413Z"
   },
   {
    "duration": 9,
    "start_time": "2023-09-16T21:25:13.755Z"
   },
   {
    "duration": 116,
    "start_time": "2023-09-16T21:25:26.980Z"
   },
   {
    "duration": 9,
    "start_time": "2023-09-16T21:26:01.114Z"
   },
   {
    "duration": 4,
    "start_time": "2023-09-16T21:26:11.977Z"
   },
   {
    "duration": 620,
    "start_time": "2023-09-16T21:26:18.300Z"
   },
   {
    "duration": 9,
    "start_time": "2023-09-16T21:26:53.385Z"
   },
   {
    "duration": 4,
    "start_time": "2023-09-16T21:26:59.538Z"
   },
   {
    "duration": 9,
    "start_time": "2023-09-16T21:34:45.830Z"
   },
   {
    "duration": 10,
    "start_time": "2023-09-16T21:35:10.918Z"
   },
   {
    "duration": 110,
    "start_time": "2023-09-16T21:35:36.325Z"
   },
   {
    "duration": 4,
    "start_time": "2023-09-16T21:35:46.631Z"
   },
   {
    "duration": 347,
    "start_time": "2023-09-16T21:35:51.374Z"
   },
   {
    "duration": 4,
    "start_time": "2023-09-16T21:38:49.192Z"
   },
   {
    "duration": 290,
    "start_time": "2023-09-16T21:38:54.927Z"
   },
   {
    "duration": 10,
    "start_time": "2023-09-16T21:39:08.663Z"
   },
   {
    "duration": 5,
    "start_time": "2023-09-16T21:39:10.301Z"
   },
   {
    "duration": 5,
    "start_time": "2023-09-16T21:39:18.782Z"
   },
   {
    "duration": 11,
    "start_time": "2023-09-16T21:39:24.848Z"
   },
   {
    "duration": 4,
    "start_time": "2023-09-16T21:39:26.277Z"
   },
   {
    "duration": 124,
    "start_time": "2023-09-16T21:39:29.487Z"
   },
   {
    "duration": 4,
    "start_time": "2023-09-16T21:41:42.154Z"
   },
   {
    "duration": 10,
    "start_time": "2023-09-16T21:43:19.283Z"
   },
   {
    "duration": 9,
    "start_time": "2023-09-16T21:43:29.898Z"
   },
   {
    "duration": 5,
    "start_time": "2023-09-16T21:43:44.152Z"
   },
   {
    "duration": 4,
    "start_time": "2023-09-16T21:43:46.399Z"
   },
   {
    "duration": 620,
    "start_time": "2023-09-16T21:43:48.873Z"
   },
   {
    "duration": 1498,
    "start_time": "2023-09-16T21:44:15.158Z"
   },
   {
    "duration": 436,
    "start_time": "2023-09-16T21:44:16.658Z"
   },
   {
    "duration": 4,
    "start_time": "2023-09-16T21:44:17.096Z"
   },
   {
    "duration": 387,
    "start_time": "2023-09-16T21:44:17.108Z"
   },
   {
    "duration": 12,
    "start_time": "2023-09-16T21:44:17.497Z"
   },
   {
    "duration": 1467,
    "start_time": "2023-09-16T21:44:17.511Z"
   },
   {
    "duration": 2,
    "start_time": "2023-09-16T21:44:18.980Z"
   },
   {
    "duration": 25,
    "start_time": "2023-09-16T21:44:18.984Z"
   },
   {
    "duration": 9,
    "start_time": "2023-09-16T21:44:19.011Z"
   },
   {
    "duration": 915,
    "start_time": "2023-09-16T21:44:19.023Z"
   },
   {
    "duration": 28,
    "start_time": "2023-09-16T21:44:19.940Z"
   },
   {
    "duration": 9,
    "start_time": "2023-09-16T21:44:19.970Z"
   },
   {
    "duration": 7,
    "start_time": "2023-09-16T21:44:19.980Z"
   },
   {
    "duration": 53,
    "start_time": "2023-09-16T21:44:19.989Z"
   },
   {
    "duration": 50,
    "start_time": "2023-09-16T21:44:20.043Z"
   },
   {
    "duration": 31,
    "start_time": "2023-09-16T21:44:20.095Z"
   },
   {
    "duration": 39,
    "start_time": "2023-09-16T21:44:20.127Z"
   },
   {
    "duration": 45,
    "start_time": "2023-09-16T21:44:20.167Z"
   },
   {
    "duration": 721,
    "start_time": "2023-09-16T21:44:20.213Z"
   },
   {
    "duration": 0,
    "start_time": "2023-09-16T21:44:20.936Z"
   },
   {
    "duration": 0,
    "start_time": "2023-09-16T21:44:20.937Z"
   },
   {
    "duration": 11,
    "start_time": "2023-09-16T21:45:24.141Z"
   },
   {
    "duration": 1434,
    "start_time": "2023-09-16T21:46:45.461Z"
   },
   {
    "duration": 439,
    "start_time": "2023-09-16T21:46:46.898Z"
   },
   {
    "duration": 4,
    "start_time": "2023-09-16T21:46:47.338Z"
   },
   {
    "duration": 415,
    "start_time": "2023-09-16T21:46:47.344Z"
   },
   {
    "duration": 5,
    "start_time": "2023-09-16T21:46:47.761Z"
   },
   {
    "duration": 1587,
    "start_time": "2023-09-16T21:46:47.768Z"
   },
   {
    "duration": 3,
    "start_time": "2023-09-16T21:46:49.357Z"
   },
   {
    "duration": 19,
    "start_time": "2023-09-16T21:46:49.361Z"
   },
   {
    "duration": 6,
    "start_time": "2023-09-16T21:46:49.382Z"
   },
   {
    "duration": 969,
    "start_time": "2023-09-16T21:46:49.391Z"
   },
   {
    "duration": 31,
    "start_time": "2023-09-16T21:46:50.361Z"
   },
   {
    "duration": 21,
    "start_time": "2023-09-16T21:46:50.393Z"
   },
   {
    "duration": 6,
    "start_time": "2023-09-16T21:46:50.416Z"
   },
   {
    "duration": 55,
    "start_time": "2023-09-16T21:46:50.424Z"
   },
   {
    "duration": 33,
    "start_time": "2023-09-16T21:46:50.481Z"
   },
   {
    "duration": 13,
    "start_time": "2023-09-16T21:46:50.517Z"
   },
   {
    "duration": 83,
    "start_time": "2023-09-16T21:46:50.533Z"
   },
   {
    "duration": 0,
    "start_time": "2023-09-16T21:46:50.618Z"
   },
   {
    "duration": 0,
    "start_time": "2023-09-16T21:46:50.619Z"
   },
   {
    "duration": 0,
    "start_time": "2023-09-16T21:46:50.620Z"
   },
   {
    "duration": 1463,
    "start_time": "2023-09-16T21:48:11.206Z"
   },
   {
    "duration": 440,
    "start_time": "2023-09-16T21:48:12.671Z"
   },
   {
    "duration": 3,
    "start_time": "2023-09-16T21:48:13.113Z"
   },
   {
    "duration": 401,
    "start_time": "2023-09-16T21:48:13.118Z"
   },
   {
    "duration": 5,
    "start_time": "2023-09-16T21:48:13.520Z"
   },
   {
    "duration": 1522,
    "start_time": "2023-09-16T21:48:13.526Z"
   },
   {
    "duration": 4,
    "start_time": "2023-09-16T21:48:15.049Z"
   },
   {
    "duration": 35,
    "start_time": "2023-09-16T21:48:15.054Z"
   },
   {
    "duration": 21,
    "start_time": "2023-09-16T21:48:15.091Z"
   },
   {
    "duration": 1021,
    "start_time": "2023-09-16T21:48:15.115Z"
   },
   {
    "duration": 33,
    "start_time": "2023-09-16T21:48:16.138Z"
   },
   {
    "duration": 9,
    "start_time": "2023-09-16T21:48:16.173Z"
   },
   {
    "duration": 4,
    "start_time": "2023-09-16T21:48:16.209Z"
   },
   {
    "duration": 37,
    "start_time": "2023-09-16T21:48:16.214Z"
   },
   {
    "duration": 31,
    "start_time": "2023-09-16T21:48:16.253Z"
   },
   {
    "duration": 9,
    "start_time": "2023-09-16T21:48:16.286Z"
   },
   {
    "duration": 13,
    "start_time": "2023-09-16T21:48:16.296Z"
   },
   {
    "duration": 26,
    "start_time": "2023-09-16T21:48:16.311Z"
   },
   {
    "duration": 693,
    "start_time": "2023-09-16T21:48:16.339Z"
   },
   {
    "duration": 0,
    "start_time": "2023-09-16T21:48:17.034Z"
   },
   {
    "duration": 1553,
    "start_time": "2023-09-16T21:48:45.106Z"
   },
   {
    "duration": 445,
    "start_time": "2023-09-16T21:48:46.661Z"
   },
   {
    "duration": 4,
    "start_time": "2023-09-16T21:48:47.108Z"
   },
   {
    "duration": 421,
    "start_time": "2023-09-16T21:48:47.114Z"
   },
   {
    "duration": 5,
    "start_time": "2023-09-16T21:48:47.537Z"
   },
   {
    "duration": 1561,
    "start_time": "2023-09-16T21:48:47.543Z"
   },
   {
    "duration": 4,
    "start_time": "2023-09-16T21:48:49.106Z"
   },
   {
    "duration": 20,
    "start_time": "2023-09-16T21:48:49.112Z"
   },
   {
    "duration": 22,
    "start_time": "2023-09-16T21:48:49.134Z"
   },
   {
    "duration": 981,
    "start_time": "2023-09-16T21:48:49.158Z"
   },
   {
    "duration": 32,
    "start_time": "2023-09-16T21:48:50.141Z"
   },
   {
    "duration": 24,
    "start_time": "2023-09-16T21:48:50.175Z"
   },
   {
    "duration": 5,
    "start_time": "2023-09-16T21:48:50.209Z"
   },
   {
    "duration": 32,
    "start_time": "2023-09-16T21:48:50.216Z"
   },
   {
    "duration": 29,
    "start_time": "2023-09-16T21:48:50.251Z"
   },
   {
    "duration": 29,
    "start_time": "2023-09-16T21:48:50.282Z"
   },
   {
    "duration": 7,
    "start_time": "2023-09-16T21:48:50.314Z"
   },
   {
    "duration": 7,
    "start_time": "2023-09-16T21:48:50.324Z"
   },
   {
    "duration": 578,
    "start_time": "2023-09-16T21:48:50.333Z"
   },
   {
    "duration": 0,
    "start_time": "2023-09-16T21:48:50.912Z"
   },
   {
    "duration": 699,
    "start_time": "2023-09-16T21:49:29.812Z"
   },
   {
    "duration": 13,
    "start_time": "2023-09-16T21:49:32.507Z"
   },
   {
    "duration": 3,
    "start_time": "2023-09-16T22:12:07.223Z"
   },
   {
    "duration": 374,
    "start_time": "2023-09-16T22:12:09.341Z"
   },
   {
    "duration": 1512,
    "start_time": "2023-09-16T22:12:18.335Z"
   },
   {
    "duration": 435,
    "start_time": "2023-09-16T22:12:19.849Z"
   },
   {
    "duration": 4,
    "start_time": "2023-09-16T22:12:20.285Z"
   },
   {
    "duration": 410,
    "start_time": "2023-09-16T22:12:20.292Z"
   },
   {
    "duration": 5,
    "start_time": "2023-09-16T22:12:20.709Z"
   },
   {
    "duration": 1503,
    "start_time": "2023-09-16T22:12:20.716Z"
   },
   {
    "duration": 3,
    "start_time": "2023-09-16T22:12:22.221Z"
   },
   {
    "duration": 32,
    "start_time": "2023-09-16T22:12:22.225Z"
   },
   {
    "duration": 27,
    "start_time": "2023-09-16T22:12:22.259Z"
   },
   {
    "duration": 1023,
    "start_time": "2023-09-16T22:12:22.289Z"
   },
   {
    "duration": 28,
    "start_time": "2023-09-16T22:12:23.313Z"
   },
   {
    "duration": 8,
    "start_time": "2023-09-16T22:12:23.343Z"
   },
   {
    "duration": 14,
    "start_time": "2023-09-16T22:12:23.353Z"
   },
   {
    "duration": 49,
    "start_time": "2023-09-16T22:12:23.369Z"
   },
   {
    "duration": 27,
    "start_time": "2023-09-16T22:12:23.420Z"
   },
   {
    "duration": 22,
    "start_time": "2023-09-16T22:12:23.449Z"
   },
   {
    "duration": 19,
    "start_time": "2023-09-16T22:12:23.473Z"
   },
   {
    "duration": 6,
    "start_time": "2023-09-16T22:12:23.494Z"
   },
   {
    "duration": 409,
    "start_time": "2023-09-16T22:12:23.501Z"
   },
   {
    "duration": 5,
    "start_time": "2023-09-16T22:12:23.912Z"
   },
   {
    "duration": 795,
    "start_time": "2023-09-16T22:12:23.919Z"
   },
   {
    "duration": 94,
    "start_time": "2023-09-16T22:12:24.717Z"
   },
   {
    "duration": 1503,
    "start_time": "2023-09-16T22:23:36.015Z"
   },
   {
    "duration": 434,
    "start_time": "2023-09-16T22:23:37.520Z"
   },
   {
    "duration": 4,
    "start_time": "2023-09-16T22:23:37.955Z"
   },
   {
    "duration": 400,
    "start_time": "2023-09-16T22:23:37.961Z"
   },
   {
    "duration": 6,
    "start_time": "2023-09-16T22:23:38.363Z"
   },
   {
    "duration": 1538,
    "start_time": "2023-09-16T22:23:38.371Z"
   },
   {
    "duration": 3,
    "start_time": "2023-09-16T22:23:39.911Z"
   },
   {
    "duration": 20,
    "start_time": "2023-09-16T22:23:39.916Z"
   },
   {
    "duration": 16,
    "start_time": "2023-09-16T22:23:39.937Z"
   },
   {
    "duration": 966,
    "start_time": "2023-09-16T22:23:39.957Z"
   },
   {
    "duration": 30,
    "start_time": "2023-09-16T22:23:40.925Z"
   },
   {
    "duration": 9,
    "start_time": "2023-09-16T22:23:40.956Z"
   },
   {
    "duration": 5,
    "start_time": "2023-09-16T22:23:40.967Z"
   },
   {
    "duration": 59,
    "start_time": "2023-09-16T22:23:40.973Z"
   },
   {
    "duration": 26,
    "start_time": "2023-09-16T22:23:41.033Z"
   },
   {
    "duration": 10,
    "start_time": "2023-09-16T22:23:41.061Z"
   },
   {
    "duration": 4,
    "start_time": "2023-09-16T22:23:41.073Z"
   },
   {
    "duration": 31,
    "start_time": "2023-09-16T22:23:41.078Z"
   },
   {
    "duration": 499,
    "start_time": "2023-09-16T22:23:41.111Z"
   },
   {
    "duration": 6,
    "start_time": "2023-09-16T22:23:41.611Z"
   },
   {
    "duration": 1584,
    "start_time": "2023-09-16T22:30:05.803Z"
   },
   {
    "duration": 450,
    "start_time": "2023-09-16T22:30:07.389Z"
   },
   {
    "duration": 4,
    "start_time": "2023-09-16T22:30:07.841Z"
   },
   {
    "duration": 420,
    "start_time": "2023-09-16T22:30:07.847Z"
   },
   {
    "duration": 5,
    "start_time": "2023-09-16T22:30:08.269Z"
   },
   {
    "duration": 1512,
    "start_time": "2023-09-16T22:30:08.275Z"
   },
   {
    "duration": 3,
    "start_time": "2023-09-16T22:30:09.789Z"
   },
   {
    "duration": 22,
    "start_time": "2023-09-16T22:30:09.794Z"
   },
   {
    "duration": 5,
    "start_time": "2023-09-16T22:30:09.818Z"
   },
   {
    "duration": 984,
    "start_time": "2023-09-16T22:30:09.825Z"
   },
   {
    "duration": 29,
    "start_time": "2023-09-16T22:30:10.811Z"
   },
   {
    "duration": 8,
    "start_time": "2023-09-16T22:30:10.842Z"
   },
   {
    "duration": 4,
    "start_time": "2023-09-16T22:30:10.852Z"
   },
   {
    "duration": 52,
    "start_time": "2023-09-16T22:30:10.857Z"
   },
   {
    "duration": 27,
    "start_time": "2023-09-16T22:30:10.911Z"
   },
   {
    "duration": 10,
    "start_time": "2023-09-16T22:30:10.940Z"
   },
   {
    "duration": 5,
    "start_time": "2023-09-16T22:30:10.951Z"
   },
   {
    "duration": 6,
    "start_time": "2023-09-16T22:30:10.957Z"
   },
   {
    "duration": 445,
    "start_time": "2023-09-16T22:30:10.965Z"
   },
   {
    "duration": 7,
    "start_time": "2023-09-16T22:30:11.413Z"
   },
   {
    "duration": 787,
    "start_time": "2023-09-16T22:30:11.423Z"
   },
   {
    "duration": 96,
    "start_time": "2023-09-16T22:30:12.212Z"
   },
   {
    "duration": 129,
    "start_time": "2023-09-16T22:30:12.311Z"
   },
   {
    "duration": 0,
    "start_time": "2023-09-16T22:30:12.442Z"
   },
   {
    "duration": 0,
    "start_time": "2023-09-16T22:30:12.443Z"
   },
   {
    "duration": 0,
    "start_time": "2023-09-16T22:30:12.444Z"
   },
   {
    "duration": 0,
    "start_time": "2023-09-16T22:30:12.445Z"
   },
   {
    "duration": 1495,
    "start_time": "2023-09-16T22:30:52.253Z"
   },
   {
    "duration": 433,
    "start_time": "2023-09-16T22:30:53.750Z"
   },
   {
    "duration": 4,
    "start_time": "2023-09-16T22:30:54.185Z"
   },
   {
    "duration": 401,
    "start_time": "2023-09-16T22:30:54.191Z"
   },
   {
    "duration": 4,
    "start_time": "2023-09-16T22:30:54.594Z"
   },
   {
    "duration": 1529,
    "start_time": "2023-09-16T22:30:54.609Z"
   },
   {
    "duration": 3,
    "start_time": "2023-09-16T22:30:56.139Z"
   },
   {
    "duration": 16,
    "start_time": "2023-09-16T22:30:56.144Z"
   },
   {
    "duration": 6,
    "start_time": "2023-09-16T22:30:56.162Z"
   },
   {
    "duration": 1027,
    "start_time": "2023-09-16T22:30:56.171Z"
   },
   {
    "duration": 34,
    "start_time": "2023-09-16T22:30:57.200Z"
   },
   {
    "duration": 9,
    "start_time": "2023-09-16T22:30:57.237Z"
   },
   {
    "duration": 4,
    "start_time": "2023-09-16T22:30:57.248Z"
   },
   {
    "duration": 55,
    "start_time": "2023-09-16T22:30:57.254Z"
   },
   {
    "duration": 36,
    "start_time": "2023-09-16T22:30:57.311Z"
   },
   {
    "duration": 13,
    "start_time": "2023-09-16T22:30:57.349Z"
   },
   {
    "duration": 6,
    "start_time": "2023-09-16T22:30:57.363Z"
   },
   {
    "duration": 6,
    "start_time": "2023-09-16T22:30:57.371Z"
   },
   {
    "duration": 432,
    "start_time": "2023-09-16T22:30:57.378Z"
   },
   {
    "duration": 8,
    "start_time": "2023-09-16T22:30:57.812Z"
   },
   {
    "duration": 616,
    "start_time": "2023-09-16T22:30:57.909Z"
   },
   {
    "duration": 99,
    "start_time": "2023-09-16T22:30:58.611Z"
   },
   {
    "duration": 121,
    "start_time": "2023-09-16T22:30:58.711Z"
   },
   {
    "duration": 0,
    "start_time": "2023-09-16T22:30:58.834Z"
   },
   {
    "duration": 0,
    "start_time": "2023-09-16T22:30:58.835Z"
   },
   {
    "duration": 0,
    "start_time": "2023-09-16T22:30:58.836Z"
   },
   {
    "duration": 0,
    "start_time": "2023-09-16T22:30:58.838Z"
   },
   {
    "duration": 1450,
    "start_time": "2023-09-16T22:32:35.824Z"
   },
   {
    "duration": 443,
    "start_time": "2023-09-16T22:32:37.276Z"
   },
   {
    "duration": 4,
    "start_time": "2023-09-16T22:32:37.721Z"
   },
   {
    "duration": 415,
    "start_time": "2023-09-16T22:32:37.727Z"
   },
   {
    "duration": 5,
    "start_time": "2023-09-16T22:32:38.144Z"
   },
   {
    "duration": 1525,
    "start_time": "2023-09-16T22:32:38.150Z"
   },
   {
    "duration": 3,
    "start_time": "2023-09-16T22:32:39.677Z"
   },
   {
    "duration": 27,
    "start_time": "2023-09-16T22:32:39.682Z"
   },
   {
    "duration": 4,
    "start_time": "2023-09-16T22:32:39.712Z"
   },
   {
    "duration": 934,
    "start_time": "2023-09-16T22:32:39.718Z"
   },
   {
    "duration": 30,
    "start_time": "2023-09-16T22:32:40.655Z"
   },
   {
    "duration": 29,
    "start_time": "2023-09-16T22:32:40.687Z"
   },
   {
    "duration": 4,
    "start_time": "2023-09-16T22:32:40.718Z"
   },
   {
    "duration": 32,
    "start_time": "2023-09-16T22:32:40.724Z"
   },
   {
    "duration": 29,
    "start_time": "2023-09-16T22:32:40.758Z"
   },
   {
    "duration": 25,
    "start_time": "2023-09-16T22:32:40.789Z"
   },
   {
    "duration": 5,
    "start_time": "2023-09-16T22:32:40.815Z"
   },
   {
    "duration": 9,
    "start_time": "2023-09-16T22:32:40.821Z"
   },
   {
    "duration": 478,
    "start_time": "2023-09-16T22:32:40.831Z"
   },
   {
    "duration": 5,
    "start_time": "2023-09-16T22:32:41.312Z"
   },
   {
    "duration": 611,
    "start_time": "2023-09-16T22:32:41.319Z"
   },
   {
    "duration": 7,
    "start_time": "2023-09-16T22:32:42.011Z"
   },
   {
    "duration": 38000,
    "start_time": "2023-09-16T22:32:42.111Z"
   },
   {
    "duration": 36103,
    "start_time": "2023-09-16T22:33:20.113Z"
   },
   {
    "duration": 37095,
    "start_time": "2023-09-16T22:33:56.219Z"
   },
   {
    "duration": 300,
    "start_time": "2023-09-16T22:34:33.318Z"
   },
   {
    "duration": 189,
    "start_time": "2023-09-16T22:34:33.620Z"
   },
   {
    "duration": 1658,
    "start_time": "2023-09-16T22:34:45.346Z"
   },
   {
    "duration": 433,
    "start_time": "2023-09-16T22:34:47.006Z"
   },
   {
    "duration": 4,
    "start_time": "2023-09-16T22:34:47.441Z"
   },
   {
    "duration": 436,
    "start_time": "2023-09-16T22:34:47.448Z"
   },
   {
    "duration": 4,
    "start_time": "2023-09-16T22:34:47.886Z"
   },
   {
    "duration": 1450,
    "start_time": "2023-09-16T22:34:47.892Z"
   },
   {
    "duration": 3,
    "start_time": "2023-09-16T22:34:49.344Z"
   },
   {
    "duration": 15,
    "start_time": "2023-09-16T22:34:49.348Z"
   },
   {
    "duration": 5,
    "start_time": "2023-09-16T22:34:49.365Z"
   },
   {
    "duration": 949,
    "start_time": "2023-09-16T22:34:49.373Z"
   },
   {
    "duration": 28,
    "start_time": "2023-09-16T22:34:50.324Z"
   },
   {
    "duration": 9,
    "start_time": "2023-09-16T22:34:50.354Z"
   },
   {
    "duration": 17,
    "start_time": "2023-09-16T22:34:50.364Z"
   },
   {
    "duration": 47,
    "start_time": "2023-09-16T22:34:50.383Z"
   },
   {
    "duration": 27,
    "start_time": "2023-09-16T22:34:50.431Z"
   },
   {
    "duration": 10,
    "start_time": "2023-09-16T22:34:50.460Z"
   },
   {
    "duration": 5,
    "start_time": "2023-09-16T22:34:50.472Z"
   },
   {
    "duration": 20,
    "start_time": "2023-09-16T22:34:50.478Z"
   },
   {
    "duration": 413,
    "start_time": "2023-09-16T22:34:50.499Z"
   },
   {
    "duration": 96,
    "start_time": "2023-09-16T22:34:50.914Z"
   },
   {
    "duration": 602,
    "start_time": "2023-09-16T22:34:51.012Z"
   },
   {
    "duration": 94,
    "start_time": "2023-09-16T22:34:51.617Z"
   },
   {
    "duration": 298,
    "start_time": "2023-09-16T22:34:51.712Z"
   },
   {
    "duration": 99,
    "start_time": "2023-09-16T22:34:52.012Z"
   },
   {
    "duration": 104,
    "start_time": "2023-09-16T22:40:56.776Z"
   },
   {
    "duration": 3,
    "start_time": "2023-09-16T22:41:26.162Z"
   },
   {
    "duration": 47,
    "start_time": "2023-09-17T15:12:24.307Z"
   },
   {
    "duration": 1584,
    "start_time": "2023-09-17T15:12:44.322Z"
   },
   {
    "duration": 908,
    "start_time": "2023-09-17T15:12:45.908Z"
   },
   {
    "duration": 4,
    "start_time": "2023-09-17T15:12:46.818Z"
   },
   {
    "duration": 491,
    "start_time": "2023-09-17T15:12:46.824Z"
   },
   {
    "duration": 5,
    "start_time": "2023-09-17T15:12:47.325Z"
   },
   {
    "duration": 1463,
    "start_time": "2023-09-17T15:12:47.331Z"
   },
   {
    "duration": 3,
    "start_time": "2023-09-17T15:12:48.795Z"
   },
   {
    "duration": 24,
    "start_time": "2023-09-17T15:12:48.800Z"
   },
   {
    "duration": 5,
    "start_time": "2023-09-17T15:12:48.825Z"
   },
   {
    "duration": 1000,
    "start_time": "2023-09-17T15:12:48.831Z"
   },
   {
    "duration": 29,
    "start_time": "2023-09-17T15:12:49.833Z"
   },
   {
    "duration": 8,
    "start_time": "2023-09-17T15:12:49.864Z"
   },
   {
    "duration": 13,
    "start_time": "2023-09-17T15:12:49.874Z"
   },
   {
    "duration": 50,
    "start_time": "2023-09-17T15:12:49.890Z"
   },
   {
    "duration": 26,
    "start_time": "2023-09-17T15:12:49.942Z"
   },
   {
    "duration": 9,
    "start_time": "2023-09-17T15:12:49.970Z"
   },
   {
    "duration": 214,
    "start_time": "2023-09-17T15:12:49.981Z"
   },
   {
    "duration": 0,
    "start_time": "2023-09-17T15:12:50.197Z"
   },
   {
    "duration": 0,
    "start_time": "2023-09-17T15:12:50.198Z"
   },
   {
    "duration": 0,
    "start_time": "2023-09-17T15:12:50.199Z"
   },
   {
    "duration": 0,
    "start_time": "2023-09-17T15:12:50.200Z"
   },
   {
    "duration": 0,
    "start_time": "2023-09-17T15:12:50.201Z"
   },
   {
    "duration": 0,
    "start_time": "2023-09-17T15:12:50.202Z"
   },
   {
    "duration": 0,
    "start_time": "2023-09-17T15:12:50.203Z"
   },
   {
    "duration": 0,
    "start_time": "2023-09-17T15:12:50.205Z"
   },
   {
    "duration": 0,
    "start_time": "2023-09-17T15:12:50.225Z"
   },
   {
    "duration": 1413,
    "start_time": "2023-09-17T15:13:21.987Z"
   },
   {
    "duration": 399,
    "start_time": "2023-09-17T15:13:23.402Z"
   },
   {
    "duration": 3,
    "start_time": "2023-09-17T15:13:23.803Z"
   },
   {
    "duration": 362,
    "start_time": "2023-09-17T15:13:23.808Z"
   },
   {
    "duration": 4,
    "start_time": "2023-09-17T15:13:24.172Z"
   },
   {
    "duration": 1280,
    "start_time": "2023-09-17T15:13:24.177Z"
   },
   {
    "duration": 3,
    "start_time": "2023-09-17T15:13:25.459Z"
   },
   {
    "duration": 14,
    "start_time": "2023-09-17T15:13:25.463Z"
   },
   {
    "duration": 6,
    "start_time": "2023-09-17T15:13:25.479Z"
   },
   {
    "duration": 939,
    "start_time": "2023-09-17T15:13:25.487Z"
   },
   {
    "duration": 25,
    "start_time": "2023-09-17T15:13:26.428Z"
   },
   {
    "duration": 40,
    "start_time": "2023-09-17T15:13:26.455Z"
   },
   {
    "duration": 29,
    "start_time": "2023-09-17T15:13:26.497Z"
   },
   {
    "duration": 61,
    "start_time": "2023-09-17T15:13:26.527Z"
   },
   {
    "duration": 25,
    "start_time": "2023-09-17T15:13:26.590Z"
   },
   {
    "duration": 16,
    "start_time": "2023-09-17T15:13:26.617Z"
   },
   {
    "duration": 115,
    "start_time": "2023-09-17T15:13:26.635Z"
   },
   {
    "duration": 0,
    "start_time": "2023-09-17T15:13:26.752Z"
   },
   {
    "duration": 0,
    "start_time": "2023-09-17T15:13:26.753Z"
   },
   {
    "duration": 0,
    "start_time": "2023-09-17T15:13:26.754Z"
   },
   {
    "duration": 0,
    "start_time": "2023-09-17T15:13:26.755Z"
   },
   {
    "duration": 0,
    "start_time": "2023-09-17T15:13:26.756Z"
   },
   {
    "duration": 0,
    "start_time": "2023-09-17T15:13:26.757Z"
   },
   {
    "duration": 0,
    "start_time": "2023-09-17T15:13:26.758Z"
   },
   {
    "duration": 0,
    "start_time": "2023-09-17T15:13:26.759Z"
   },
   {
    "duration": 0,
    "start_time": "2023-09-17T15:13:26.760Z"
   },
   {
    "duration": 0,
    "start_time": "2023-09-17T15:13:26.761Z"
   },
   {
    "duration": 0,
    "start_time": "2023-09-17T15:13:26.762Z"
   },
   {
    "duration": 0,
    "start_time": "2023-09-17T15:13:26.763Z"
   },
   {
    "duration": 18,
    "start_time": "2023-09-17T15:16:11.456Z"
   },
   {
    "duration": 10,
    "start_time": "2023-09-17T15:16:15.729Z"
   },
   {
    "duration": 17,
    "start_time": "2023-09-17T15:16:17.971Z"
   },
   {
    "duration": 18,
    "start_time": "2023-09-17T15:21:47.925Z"
   },
   {
    "duration": 17,
    "start_time": "2023-09-17T15:22:02.163Z"
   },
   {
    "duration": 1428,
    "start_time": "2023-09-17T15:22:29.021Z"
   },
   {
    "duration": 425,
    "start_time": "2023-09-17T15:22:30.451Z"
   },
   {
    "duration": 4,
    "start_time": "2023-09-17T15:22:30.878Z"
   },
   {
    "duration": 398,
    "start_time": "2023-09-17T15:22:30.885Z"
   },
   {
    "duration": 4,
    "start_time": "2023-09-17T15:22:31.285Z"
   },
   {
    "duration": 1444,
    "start_time": "2023-09-17T15:22:31.291Z"
   },
   {
    "duration": 3,
    "start_time": "2023-09-17T15:22:32.737Z"
   },
   {
    "duration": 16,
    "start_time": "2023-09-17T15:22:32.742Z"
   },
   {
    "duration": 5,
    "start_time": "2023-09-17T15:22:32.760Z"
   },
   {
    "duration": 947,
    "start_time": "2023-09-17T15:22:32.768Z"
   },
   {
    "duration": 32,
    "start_time": "2023-09-17T15:22:33.717Z"
   },
   {
    "duration": 8,
    "start_time": "2023-09-17T15:22:33.751Z"
   },
   {
    "duration": 4,
    "start_time": "2023-09-17T15:22:33.761Z"
   },
   {
    "duration": 29,
    "start_time": "2023-09-17T15:22:33.766Z"
   },
   {
    "duration": 51,
    "start_time": "2023-09-17T15:22:33.797Z"
   },
   {
    "duration": 11,
    "start_time": "2023-09-17T15:22:33.850Z"
   },
   {
    "duration": 132,
    "start_time": "2023-09-17T15:22:33.863Z"
   },
   {
    "duration": 0,
    "start_time": "2023-09-17T15:22:33.997Z"
   },
   {
    "duration": 0,
    "start_time": "2023-09-17T15:22:33.999Z"
   },
   {
    "duration": 0,
    "start_time": "2023-09-17T15:22:34.000Z"
   },
   {
    "duration": 0,
    "start_time": "2023-09-17T15:22:34.000Z"
   },
   {
    "duration": 0,
    "start_time": "2023-09-17T15:22:34.002Z"
   },
   {
    "duration": 0,
    "start_time": "2023-09-17T15:22:34.003Z"
   },
   {
    "duration": 0,
    "start_time": "2023-09-17T15:22:34.004Z"
   },
   {
    "duration": 0,
    "start_time": "2023-09-17T15:22:34.005Z"
   },
   {
    "duration": 0,
    "start_time": "2023-09-17T15:22:34.006Z"
   },
   {
    "duration": 0,
    "start_time": "2023-09-17T15:22:34.007Z"
   },
   {
    "duration": 0,
    "start_time": "2023-09-17T15:22:34.024Z"
   },
   {
    "duration": 0,
    "start_time": "2023-09-17T15:22:34.025Z"
   },
   {
    "duration": 9,
    "start_time": "2023-09-17T15:32:28.127Z"
   },
   {
    "duration": 4,
    "start_time": "2023-09-17T15:32:35.335Z"
   },
   {
    "duration": 18,
    "start_time": "2023-09-17T15:33:53.793Z"
   },
   {
    "duration": 4,
    "start_time": "2023-09-17T15:36:46.374Z"
   },
   {
    "duration": 18,
    "start_time": "2023-09-17T15:36:53.440Z"
   },
   {
    "duration": 20,
    "start_time": "2023-09-17T15:37:10.966Z"
   },
   {
    "duration": 129,
    "start_time": "2023-09-17T15:41:01.722Z"
   },
   {
    "duration": 16,
    "start_time": "2023-09-17T15:41:05.838Z"
   },
   {
    "duration": 20,
    "start_time": "2023-09-17T15:41:33.436Z"
   },
   {
    "duration": 1417,
    "start_time": "2023-09-17T15:41:41.632Z"
   },
   {
    "duration": 463,
    "start_time": "2023-09-17T15:41:43.051Z"
   },
   {
    "duration": 5,
    "start_time": "2023-09-17T15:41:43.516Z"
   },
   {
    "duration": 389,
    "start_time": "2023-09-17T15:41:43.523Z"
   },
   {
    "duration": 13,
    "start_time": "2023-09-17T15:41:43.914Z"
   },
   {
    "duration": 1435,
    "start_time": "2023-09-17T15:41:43.929Z"
   },
   {
    "duration": 3,
    "start_time": "2023-09-17T15:41:45.365Z"
   },
   {
    "duration": 23,
    "start_time": "2023-09-17T15:41:45.369Z"
   },
   {
    "duration": 11,
    "start_time": "2023-09-17T15:41:45.394Z"
   },
   {
    "duration": 1054,
    "start_time": "2023-09-17T15:41:45.408Z"
   },
   {
    "duration": 28,
    "start_time": "2023-09-17T15:41:46.464Z"
   },
   {
    "duration": 7,
    "start_time": "2023-09-17T15:41:46.494Z"
   },
   {
    "duration": 23,
    "start_time": "2023-09-17T15:41:46.503Z"
   },
   {
    "duration": 61,
    "start_time": "2023-09-17T15:41:46.528Z"
   },
   {
    "duration": 25,
    "start_time": "2023-09-17T15:41:46.591Z"
   },
   {
    "duration": 11,
    "start_time": "2023-09-17T15:41:46.617Z"
   },
   {
    "duration": 7,
    "start_time": "2023-09-17T15:41:46.630Z"
   },
   {
    "duration": 17,
    "start_time": "2023-09-17T15:41:46.639Z"
   },
   {
    "duration": 4,
    "start_time": "2023-09-17T15:41:46.657Z"
   },
   {
    "duration": 11,
    "start_time": "2023-09-17T15:41:46.663Z"
   },
   {
    "duration": 356,
    "start_time": "2023-09-17T15:41:46.675Z"
   },
   {
    "duration": 8,
    "start_time": "2023-09-17T15:41:47.033Z"
   },
   {
    "duration": 612,
    "start_time": "2023-09-17T15:41:47.124Z"
   },
   {
    "duration": 76,
    "start_time": "2023-09-17T15:41:47.749Z"
   },
   {
    "duration": 12317,
    "start_time": "2023-09-17T15:41:47.827Z"
   },
   {
    "duration": 12300,
    "start_time": "2023-09-17T15:42:00.229Z"
   },
   {
    "duration": 11199,
    "start_time": "2023-09-17T15:42:12.532Z"
   },
   {
    "duration": 389,
    "start_time": "2023-09-17T15:42:23.735Z"
   },
   {
    "duration": 103,
    "start_time": "2023-09-17T15:42:24.126Z"
   },
   {
    "duration": 62,
    "start_time": "2023-09-17T15:42:24.231Z"
   },
   {
    "duration": 117,
    "start_time": "2023-09-17T15:45:16.270Z"
   },
   {
    "duration": 17,
    "start_time": "2023-09-17T15:45:28.301Z"
   },
   {
    "duration": 11,
    "start_time": "2023-09-17T15:47:13.687Z"
   },
   {
    "duration": 12,
    "start_time": "2023-09-17T15:47:26.014Z"
   },
   {
    "duration": 12,
    "start_time": "2023-09-17T15:49:49.593Z"
   },
   {
    "duration": 3,
    "start_time": "2023-09-17T15:50:03.718Z"
   },
   {
    "duration": 21,
    "start_time": "2023-09-17T15:58:57.301Z"
   },
   {
    "duration": 12,
    "start_time": "2023-09-17T16:01:09.279Z"
   },
   {
    "duration": 13,
    "start_time": "2023-09-17T16:01:24.957Z"
   },
   {
    "duration": 10,
    "start_time": "2023-09-17T16:03:26.542Z"
   },
   {
    "duration": 15,
    "start_time": "2023-09-17T16:03:44.576Z"
   },
   {
    "duration": 14,
    "start_time": "2023-09-17T16:04:16.175Z"
   },
   {
    "duration": 14,
    "start_time": "2023-09-17T16:04:29.391Z"
   },
   {
    "duration": 14,
    "start_time": "2023-09-17T16:05:42.294Z"
   },
   {
    "duration": 11,
    "start_time": "2023-09-17T16:07:57.506Z"
   },
   {
    "duration": 1406,
    "start_time": "2023-09-17T16:08:12.106Z"
   },
   {
    "duration": 398,
    "start_time": "2023-09-17T16:08:13.514Z"
   },
   {
    "duration": 3,
    "start_time": "2023-09-17T16:08:13.914Z"
   },
   {
    "duration": 348,
    "start_time": "2023-09-17T16:08:13.920Z"
   },
   {
    "duration": 4,
    "start_time": "2023-09-17T16:08:14.270Z"
   },
   {
    "duration": 1288,
    "start_time": "2023-09-17T16:08:14.275Z"
   },
   {
    "duration": 2,
    "start_time": "2023-09-17T16:08:15.565Z"
   },
   {
    "duration": 18,
    "start_time": "2023-09-17T16:08:15.569Z"
   },
   {
    "duration": 19,
    "start_time": "2023-09-17T16:08:15.589Z"
   },
   {
    "duration": 1001,
    "start_time": "2023-09-17T16:08:15.611Z"
   },
   {
    "duration": 29,
    "start_time": "2023-09-17T16:08:16.624Z"
   },
   {
    "duration": 8,
    "start_time": "2023-09-17T16:08:16.655Z"
   },
   {
    "duration": 16,
    "start_time": "2023-09-17T16:08:16.664Z"
   },
   {
    "duration": 49,
    "start_time": "2023-09-17T16:08:16.681Z"
   },
   {
    "duration": 26,
    "start_time": "2023-09-17T16:08:16.732Z"
   },
   {
    "duration": 10,
    "start_time": "2023-09-17T16:08:16.760Z"
   },
   {
    "duration": 133,
    "start_time": "2023-09-17T16:08:16.772Z"
   },
   {
    "duration": 0,
    "start_time": "2023-09-17T16:08:16.907Z"
   },
   {
    "duration": 1,
    "start_time": "2023-09-17T16:08:16.908Z"
   },
   {
    "duration": 0,
    "start_time": "2023-09-17T16:08:16.910Z"
   },
   {
    "duration": 0,
    "start_time": "2023-09-17T16:08:16.912Z"
   },
   {
    "duration": 0,
    "start_time": "2023-09-17T16:08:16.924Z"
   },
   {
    "duration": 0,
    "start_time": "2023-09-17T16:08:16.926Z"
   },
   {
    "duration": 0,
    "start_time": "2023-09-17T16:08:16.927Z"
   },
   {
    "duration": 0,
    "start_time": "2023-09-17T16:08:16.929Z"
   },
   {
    "duration": 0,
    "start_time": "2023-09-17T16:08:16.931Z"
   },
   {
    "duration": 0,
    "start_time": "2023-09-17T16:08:16.932Z"
   },
   {
    "duration": 0,
    "start_time": "2023-09-17T16:08:16.934Z"
   },
   {
    "duration": 1491,
    "start_time": "2023-09-17T16:08:56.373Z"
   },
   {
    "duration": 400,
    "start_time": "2023-09-17T16:08:57.866Z"
   },
   {
    "duration": 4,
    "start_time": "2023-09-17T16:08:58.267Z"
   },
   {
    "duration": 390,
    "start_time": "2023-09-17T16:08:58.273Z"
   },
   {
    "duration": 5,
    "start_time": "2023-09-17T16:08:58.665Z"
   },
   {
    "duration": 1422,
    "start_time": "2023-09-17T16:08:58.671Z"
   },
   {
    "duration": 3,
    "start_time": "2023-09-17T16:09:00.095Z"
   },
   {
    "duration": 70,
    "start_time": "2023-09-17T16:09:00.100Z"
   },
   {
    "duration": 32,
    "start_time": "2023-09-17T16:09:00.172Z"
   },
   {
    "duration": 925,
    "start_time": "2023-09-17T16:09:00.207Z"
   },
   {
    "duration": 28,
    "start_time": "2023-09-17T16:09:01.134Z"
   },
   {
    "duration": 143,
    "start_time": "2023-09-17T16:09:01.164Z"
   },
   {
    "duration": 86,
    "start_time": "2023-09-17T16:09:01.309Z"
   },
   {
    "duration": 68,
    "start_time": "2023-09-17T16:09:01.396Z"
   },
   {
    "duration": 29,
    "start_time": "2023-09-17T16:09:01.466Z"
   },
   {
    "duration": 14,
    "start_time": "2023-09-17T16:09:01.497Z"
   },
   {
    "duration": 32,
    "start_time": "2023-09-17T16:09:01.512Z"
   },
   {
    "duration": 62,
    "start_time": "2023-09-17T16:09:01.546Z"
   },
   {
    "duration": 614,
    "start_time": "2023-09-17T16:09:01.610Z"
   },
   {
    "duration": 6,
    "start_time": "2023-09-17T16:09:02.226Z"
   },
   {
    "duration": 718,
    "start_time": "2023-09-17T16:09:02.234Z"
   },
   {
    "duration": 6,
    "start_time": "2023-09-17T16:09:03.025Z"
   },
   {
    "duration": 10000,
    "start_time": "2023-09-17T16:09:03.032Z"
   },
   {
    "duration": 11904,
    "start_time": "2023-09-17T16:09:13.125Z"
   },
   {
    "duration": 10001,
    "start_time": "2023-09-17T16:09:25.032Z"
   },
   {
    "duration": 589,
    "start_time": "2023-09-17T16:09:35.035Z"
   },
   {
    "duration": 12,
    "start_time": "2023-09-17T16:09:35.627Z"
   },
   {
    "duration": 7,
    "start_time": "2023-09-17T16:10:19.051Z"
   },
   {
    "duration": 100,
    "start_time": "2023-09-17T16:11:10.937Z"
   },
   {
    "duration": 10,
    "start_time": "2023-09-17T16:11:19.121Z"
   },
   {
    "duration": 4,
    "start_time": "2023-09-17T16:11:23.473Z"
   },
   {
    "duration": 4,
    "start_time": "2023-09-17T16:11:25.349Z"
   },
   {
    "duration": 16,
    "start_time": "2023-09-17T16:11:33.290Z"
   },
   {
    "duration": 6,
    "start_time": "2023-09-17T16:11:48.224Z"
   },
   {
    "duration": 2149,
    "start_time": "2023-09-17T16:12:09.503Z"
   },
   {
    "duration": 2334,
    "start_time": "2023-09-17T16:12:16.193Z"
   },
   {
    "duration": 8,
    "start_time": "2023-09-17T16:12:24.362Z"
   },
   {
    "duration": 12,
    "start_time": "2023-09-17T16:12:59.026Z"
   },
   {
    "duration": 7,
    "start_time": "2023-09-17T16:13:07.802Z"
   },
   {
    "duration": 6,
    "start_time": "2023-09-17T16:14:22.411Z"
   },
   {
    "duration": 13,
    "start_time": "2023-09-17T16:14:27.007Z"
   },
   {
    "duration": 11,
    "start_time": "2023-09-17T16:14:36.553Z"
   },
   {
    "duration": 6,
    "start_time": "2023-09-17T16:15:08.678Z"
   },
   {
    "duration": 4,
    "start_time": "2023-09-17T16:15:19.173Z"
   },
   {
    "duration": 11,
    "start_time": "2023-09-17T16:15:21.156Z"
   },
   {
    "duration": 15,
    "start_time": "2023-09-17T16:15:25.429Z"
   },
   {
    "duration": 1426,
    "start_time": "2023-09-17T16:15:35.020Z"
   },
   {
    "duration": 405,
    "start_time": "2023-09-17T16:15:36.448Z"
   },
   {
    "duration": 3,
    "start_time": "2023-09-17T16:15:36.855Z"
   },
   {
    "duration": 365,
    "start_time": "2023-09-17T16:15:36.860Z"
   },
   {
    "duration": 5,
    "start_time": "2023-09-17T16:15:37.227Z"
   },
   {
    "duration": 1330,
    "start_time": "2023-09-17T16:15:37.233Z"
   },
   {
    "duration": 2,
    "start_time": "2023-09-17T16:15:38.565Z"
   },
   {
    "duration": 77,
    "start_time": "2023-09-17T16:15:38.569Z"
   },
   {
    "duration": 31,
    "start_time": "2023-09-17T16:15:38.648Z"
   },
   {
    "duration": 943,
    "start_time": "2023-09-17T16:15:38.681Z"
   },
   {
    "duration": 27,
    "start_time": "2023-09-17T16:15:39.626Z"
   },
   {
    "duration": 23,
    "start_time": "2023-09-17T16:15:39.655Z"
   },
   {
    "duration": 36,
    "start_time": "2023-09-17T16:15:39.680Z"
   },
   {
    "duration": 64,
    "start_time": "2023-09-17T16:15:39.718Z"
   },
   {
    "duration": 38,
    "start_time": "2023-09-17T16:15:39.784Z"
   },
   {
    "duration": 56,
    "start_time": "2023-09-17T16:15:39.824Z"
   },
   {
    "duration": 32,
    "start_time": "2023-09-17T16:15:39.883Z"
   },
   {
    "duration": 7,
    "start_time": "2023-09-17T16:15:39.917Z"
   },
   {
    "duration": 398,
    "start_time": "2023-09-17T16:15:39.926Z"
   },
   {
    "duration": 6,
    "start_time": "2023-09-17T16:15:40.327Z"
   },
   {
    "duration": 706,
    "start_time": "2023-09-17T16:15:40.336Z"
   },
   {
    "duration": 5,
    "start_time": "2023-09-17T16:15:41.126Z"
   },
   {
    "duration": 11194,
    "start_time": "2023-09-17T16:15:41.134Z"
   },
   {
    "duration": 11007,
    "start_time": "2023-09-17T16:15:52.330Z"
   },
   {
    "duration": 10193,
    "start_time": "2023-09-17T16:16:03.339Z"
   },
   {
    "duration": 490,
    "start_time": "2023-09-17T16:16:13.534Z"
   },
   {
    "duration": 98,
    "start_time": "2023-09-17T16:16:14.027Z"
   },
   {
    "duration": 12,
    "start_time": "2023-09-17T16:16:14.128Z"
   },
   {
    "duration": 5,
    "start_time": "2023-09-17T16:16:14.142Z"
   },
   {
    "duration": 17,
    "start_time": "2023-09-17T16:16:14.149Z"
   },
   {
    "duration": 5,
    "start_time": "2023-09-17T16:16:50.109Z"
   },
   {
    "duration": 1413,
    "start_time": "2023-09-17T16:18:24.102Z"
   },
   {
    "duration": 439,
    "start_time": "2023-09-17T16:18:25.517Z"
   },
   {
    "duration": 4,
    "start_time": "2023-09-17T16:18:25.961Z"
   },
   {
    "duration": 371,
    "start_time": "2023-09-17T16:18:25.968Z"
   },
   {
    "duration": 4,
    "start_time": "2023-09-17T16:18:26.341Z"
   },
   {
    "duration": 1291,
    "start_time": "2023-09-17T16:18:26.347Z"
   },
   {
    "duration": 3,
    "start_time": "2023-09-17T16:18:27.639Z"
   },
   {
    "duration": 19,
    "start_time": "2023-09-17T16:18:27.643Z"
   },
   {
    "duration": 11,
    "start_time": "2023-09-17T16:18:27.663Z"
   },
   {
    "duration": 941,
    "start_time": "2023-09-17T16:18:27.675Z"
   },
   {
    "duration": 26,
    "start_time": "2023-09-17T16:18:28.624Z"
   },
   {
    "duration": 7,
    "start_time": "2023-09-17T16:18:28.652Z"
   },
   {
    "duration": 14,
    "start_time": "2023-09-17T16:18:28.661Z"
   },
   {
    "duration": 33,
    "start_time": "2023-09-17T16:18:28.677Z"
   },
   {
    "duration": 36,
    "start_time": "2023-09-17T16:18:28.712Z"
   },
   {
    "duration": 9,
    "start_time": "2023-09-17T16:18:28.750Z"
   },
   {
    "duration": 8,
    "start_time": "2023-09-17T16:18:28.761Z"
   },
   {
    "duration": 13,
    "start_time": "2023-09-17T16:18:28.771Z"
   },
   {
    "duration": 342,
    "start_time": "2023-09-17T16:18:28.785Z"
   },
   {
    "duration": 94,
    "start_time": "2023-09-17T16:18:29.130Z"
   },
   {
    "duration": 526,
    "start_time": "2023-09-17T16:18:29.226Z"
   },
   {
    "duration": 5,
    "start_time": "2023-09-17T16:18:29.826Z"
   },
   {
    "duration": 301,
    "start_time": "2023-09-17T16:18:29.923Z"
   },
   {
    "duration": 244,
    "start_time": "2023-09-17T16:18:30.227Z"
   },
   {
    "duration": 8,
    "start_time": "2023-09-17T16:18:30.472Z"
   },
   {
    "duration": 44,
    "start_time": "2023-09-17T16:18:30.482Z"
   },
   {
    "duration": 169,
    "start_time": "2023-09-17T16:18:30.528Z"
   },
   {
    "duration": 1358,
    "start_time": "2023-09-17T16:19:10.837Z"
   },
   {
    "duration": 416,
    "start_time": "2023-09-17T16:19:12.197Z"
   },
   {
    "duration": 11,
    "start_time": "2023-09-17T16:19:12.615Z"
   },
   {
    "duration": 426,
    "start_time": "2023-09-17T16:19:12.628Z"
   },
   {
    "duration": 5,
    "start_time": "2023-09-17T16:19:13.055Z"
   },
   {
    "duration": 1247,
    "start_time": "2023-09-17T16:19:13.061Z"
   },
   {
    "duration": 2,
    "start_time": "2023-09-17T16:19:14.310Z"
   },
   {
    "duration": 28,
    "start_time": "2023-09-17T16:19:14.313Z"
   },
   {
    "duration": 7,
    "start_time": "2023-09-17T16:19:14.343Z"
   },
   {
    "duration": 884,
    "start_time": "2023-09-17T16:19:14.353Z"
   },
   {
    "duration": 27,
    "start_time": "2023-09-17T16:19:15.239Z"
   },
   {
    "duration": 8,
    "start_time": "2023-09-17T16:19:15.268Z"
   },
   {
    "duration": 34,
    "start_time": "2023-09-17T16:19:15.278Z"
   },
   {
    "duration": 79,
    "start_time": "2023-09-17T16:19:15.314Z"
   },
   {
    "duration": 58,
    "start_time": "2023-09-17T16:19:15.395Z"
   },
   {
    "duration": 71,
    "start_time": "2023-09-17T16:19:15.454Z"
   },
   {
    "duration": 50,
    "start_time": "2023-09-17T16:19:15.527Z"
   },
   {
    "duration": 57,
    "start_time": "2023-09-17T16:19:15.579Z"
   },
   {
    "duration": 298,
    "start_time": "2023-09-17T16:19:15.638Z"
   },
   {
    "duration": 0,
    "start_time": "2023-09-17T16:19:15.938Z"
   },
   {
    "duration": 0,
    "start_time": "2023-09-17T16:19:15.939Z"
   },
   {
    "duration": 0,
    "start_time": "2023-09-17T16:19:15.941Z"
   },
   {
    "duration": 0,
    "start_time": "2023-09-17T16:19:15.942Z"
   },
   {
    "duration": 0,
    "start_time": "2023-09-17T16:19:15.944Z"
   },
   {
    "duration": 0,
    "start_time": "2023-09-17T16:19:15.945Z"
   },
   {
    "duration": 0,
    "start_time": "2023-09-17T16:19:15.947Z"
   },
   {
    "duration": 0,
    "start_time": "2023-09-17T16:19:15.948Z"
   },
   {
    "duration": 4,
    "start_time": "2023-09-17T16:19:37.550Z"
   },
   {
    "duration": 322,
    "start_time": "2023-09-17T16:19:41.902Z"
   },
   {
    "duration": 1364,
    "start_time": "2023-09-17T16:19:48.850Z"
   },
   {
    "duration": 404,
    "start_time": "2023-09-17T16:19:50.216Z"
   },
   {
    "duration": 3,
    "start_time": "2023-09-17T16:19:50.622Z"
   },
   {
    "duration": 356,
    "start_time": "2023-09-17T16:19:50.627Z"
   },
   {
    "duration": 5,
    "start_time": "2023-09-17T16:19:50.985Z"
   },
   {
    "duration": 1237,
    "start_time": "2023-09-17T16:19:50.992Z"
   },
   {
    "duration": 3,
    "start_time": "2023-09-17T16:19:52.230Z"
   },
   {
    "duration": 68,
    "start_time": "2023-09-17T16:19:52.234Z"
   },
   {
    "duration": 21,
    "start_time": "2023-09-17T16:19:52.303Z"
   },
   {
    "duration": 901,
    "start_time": "2023-09-17T16:19:52.327Z"
   },
   {
    "duration": 27,
    "start_time": "2023-09-17T16:19:53.229Z"
   },
   {
    "duration": 95,
    "start_time": "2023-09-17T16:19:53.257Z"
   },
   {
    "duration": 64,
    "start_time": "2023-09-17T16:19:53.353Z"
   },
   {
    "duration": 30,
    "start_time": "2023-09-17T16:19:53.419Z"
   },
   {
    "duration": 48,
    "start_time": "2023-09-17T16:19:53.451Z"
   },
   {
    "duration": 101,
    "start_time": "2023-09-17T16:19:53.501Z"
   },
   {
    "duration": 66,
    "start_time": "2023-09-17T16:19:53.604Z"
   },
   {
    "duration": 113,
    "start_time": "2023-09-17T16:19:53.671Z"
   },
   {
    "duration": 343,
    "start_time": "2023-09-17T16:19:53.785Z"
   },
   {
    "duration": 95,
    "start_time": "2023-09-17T16:19:54.130Z"
   },
   {
    "duration": 607,
    "start_time": "2023-09-17T16:19:54.226Z"
   },
   {
    "duration": 6,
    "start_time": "2023-09-17T16:19:54.926Z"
   },
   {
    "duration": 298,
    "start_time": "2023-09-17T16:19:54.935Z"
   },
   {
    "duration": 190,
    "start_time": "2023-09-17T16:19:55.235Z"
   },
   {
    "duration": 7,
    "start_time": "2023-09-17T16:19:55.427Z"
   },
   {
    "duration": 13,
    "start_time": "2023-09-17T16:19:55.435Z"
   },
   {
    "duration": 21,
    "start_time": "2023-09-17T16:19:55.449Z"
   },
   {
    "duration": 107,
    "start_time": "2023-09-17T16:20:13.707Z"
   },
   {
    "duration": 1516,
    "start_time": "2023-09-17T16:20:29.513Z"
   },
   {
    "duration": 416,
    "start_time": "2023-09-17T16:20:31.031Z"
   },
   {
    "duration": 4,
    "start_time": "2023-09-17T16:20:31.448Z"
   },
   {
    "duration": 393,
    "start_time": "2023-09-17T16:20:31.454Z"
   },
   {
    "duration": 5,
    "start_time": "2023-09-17T16:20:31.848Z"
   },
   {
    "duration": 1367,
    "start_time": "2023-09-17T16:20:31.854Z"
   },
   {
    "duration": 3,
    "start_time": "2023-09-17T16:20:33.224Z"
   },
   {
    "duration": 17,
    "start_time": "2023-09-17T16:20:33.229Z"
   },
   {
    "duration": 9,
    "start_time": "2023-09-17T16:20:33.247Z"
   },
   {
    "duration": 950,
    "start_time": "2023-09-17T16:20:33.258Z"
   },
   {
    "duration": 36,
    "start_time": "2023-09-17T16:20:34.209Z"
   },
   {
    "duration": 8,
    "start_time": "2023-09-17T16:20:34.247Z"
   },
   {
    "duration": 5,
    "start_time": "2023-09-17T16:20:34.257Z"
   },
   {
    "duration": 37,
    "start_time": "2023-09-17T16:20:34.264Z"
   },
   {
    "duration": 45,
    "start_time": "2023-09-17T16:20:34.303Z"
   },
   {
    "duration": 10,
    "start_time": "2023-09-17T16:20:34.350Z"
   },
   {
    "duration": 31,
    "start_time": "2023-09-17T16:20:34.361Z"
   },
   {
    "duration": 67,
    "start_time": "2023-09-17T16:20:34.394Z"
   },
   {
    "duration": 461,
    "start_time": "2023-09-17T16:20:34.463Z"
   },
   {
    "duration": 6,
    "start_time": "2023-09-17T16:20:34.927Z"
   },
   {
    "duration": 606,
    "start_time": "2023-09-17T16:20:34.935Z"
   },
   {
    "duration": 6,
    "start_time": "2023-09-17T16:20:35.625Z"
   },
   {
    "duration": 395,
    "start_time": "2023-09-17T16:20:35.633Z"
   },
   {
    "duration": 97,
    "start_time": "2023-09-17T16:20:36.030Z"
   },
   {
    "duration": 14,
    "start_time": "2023-09-17T16:20:36.128Z"
   },
   {
    "duration": 14,
    "start_time": "2023-09-17T16:20:36.143Z"
   },
   {
    "duration": 26,
    "start_time": "2023-09-17T16:20:36.158Z"
   },
   {
    "duration": 1551,
    "start_time": "2023-09-17T17:02:19.447Z"
   },
   {
    "duration": 408,
    "start_time": "2023-09-17T17:02:21.000Z"
   },
   {
    "duration": 5,
    "start_time": "2023-09-17T17:02:21.410Z"
   },
   {
    "duration": 468,
    "start_time": "2023-09-17T17:02:21.417Z"
   },
   {
    "duration": 5,
    "start_time": "2023-09-17T17:02:21.887Z"
   },
   {
    "duration": 1395,
    "start_time": "2023-09-17T17:02:21.893Z"
   },
   {
    "duration": 3,
    "start_time": "2023-09-17T17:02:23.289Z"
   },
   {
    "duration": 108,
    "start_time": "2023-09-17T17:02:23.294Z"
   },
   {
    "duration": 171,
    "start_time": "2023-09-17T17:02:23.404Z"
   },
   {
    "duration": 1154,
    "start_time": "2023-09-17T17:02:23.578Z"
   },
   {
    "duration": 26,
    "start_time": "2023-09-17T17:02:24.734Z"
   },
   {
    "duration": 13,
    "start_time": "2023-09-17T17:02:24.762Z"
   },
   {
    "duration": 30,
    "start_time": "2023-09-17T17:02:24.776Z"
   },
   {
    "duration": 53,
    "start_time": "2023-09-17T17:02:24.808Z"
   },
   {
    "duration": 75,
    "start_time": "2023-09-17T17:02:24.863Z"
   },
   {
    "duration": 144,
    "start_time": "2023-09-17T17:02:24.940Z"
   },
   {
    "duration": 24,
    "start_time": "2023-09-17T17:02:25.085Z"
   },
   {
    "duration": 76,
    "start_time": "2023-09-17T17:02:25.110Z"
   },
   {
    "duration": 437,
    "start_time": "2023-09-17T17:02:25.188Z"
   },
   {
    "duration": 4,
    "start_time": "2023-09-17T17:02:25.626Z"
   },
   {
    "duration": 696,
    "start_time": "2023-09-17T17:02:25.631Z"
   },
   {
    "duration": 95,
    "start_time": "2023-09-17T17:02:26.329Z"
   },
   {
    "duration": 399,
    "start_time": "2023-09-17T17:02:26.426Z"
   },
   {
    "duration": 98,
    "start_time": "2023-09-17T17:02:26.827Z"
   },
   {
    "duration": 16,
    "start_time": "2023-09-17T17:02:26.927Z"
   },
   {
    "duration": 17,
    "start_time": "2023-09-17T17:02:26.945Z"
   },
   {
    "duration": 22,
    "start_time": "2023-09-17T17:02:26.963Z"
   },
   {
    "duration": 1525,
    "start_time": "2023-09-17T17:07:59.010Z"
   },
   {
    "duration": 414,
    "start_time": "2023-09-17T17:08:00.537Z"
   },
   {
    "duration": 3,
    "start_time": "2023-09-17T17:08:00.954Z"
   },
   {
    "duration": 823,
    "start_time": "2023-09-17T17:08:00.959Z"
   },
   {
    "duration": 3,
    "start_time": "2023-09-17T17:08:01.784Z"
   },
   {
    "duration": 1386,
    "start_time": "2023-09-17T17:08:01.789Z"
   },
   {
    "duration": 2,
    "start_time": "2023-09-17T17:08:03.177Z"
   },
   {
    "duration": 50,
    "start_time": "2023-09-17T17:08:03.180Z"
   },
   {
    "duration": 35,
    "start_time": "2023-09-17T17:08:03.232Z"
   },
   {
    "duration": 947,
    "start_time": "2023-09-17T17:08:03.269Z"
   },
   {
    "duration": 26,
    "start_time": "2023-09-17T17:08:04.223Z"
   },
   {
    "duration": 178,
    "start_time": "2023-09-17T17:08:04.251Z"
   },
   {
    "duration": 620,
    "start_time": "2023-09-17T17:08:04.431Z"
   },
   {
    "duration": 295,
    "start_time": "2023-09-17T17:08:05.052Z"
   },
   {
    "duration": 170,
    "start_time": "2023-09-17T17:08:05.348Z"
   },
   {
    "duration": 45,
    "start_time": "2023-09-17T17:08:05.520Z"
   },
   {
    "duration": 97,
    "start_time": "2023-09-17T17:08:05.568Z"
   },
   {
    "duration": 64,
    "start_time": "2023-09-17T17:08:05.667Z"
   },
   {
    "duration": 691,
    "start_time": "2023-09-17T17:08:05.734Z"
   },
   {
    "duration": 5,
    "start_time": "2023-09-17T17:08:06.426Z"
   },
   {
    "duration": 899,
    "start_time": "2023-09-17T17:08:06.432Z"
   },
   {
    "duration": 93,
    "start_time": "2023-09-17T17:08:07.334Z"
   },
   {
    "duration": 395,
    "start_time": "2023-09-17T17:08:07.429Z"
   },
   {
    "duration": 13,
    "start_time": "2023-09-17T17:08:07.827Z"
   },
   {
    "duration": 406,
    "start_time": "2023-09-17T17:08:07.842Z"
   },
   {
    "duration": 134,
    "start_time": "2023-09-17T17:08:08.250Z"
   },
   {
    "duration": 5,
    "start_time": "2023-09-17T17:14:37.538Z"
   },
   {
    "duration": 108,
    "start_time": "2023-09-17T17:15:05.660Z"
   },
   {
    "duration": 12,
    "start_time": "2023-09-17T17:15:13.639Z"
   },
   {
    "duration": 14,
    "start_time": "2023-09-17T17:15:34.209Z"
   },
   {
    "duration": 9,
    "start_time": "2023-09-17T17:15:37.586Z"
   },
   {
    "duration": 10,
    "start_time": "2023-09-17T17:16:49.868Z"
   },
   {
    "duration": 110,
    "start_time": "2023-09-17T17:17:08.787Z"
   },
   {
    "duration": 21,
    "start_time": "2023-09-17T17:17:30.906Z"
   },
   {
    "duration": 17,
    "start_time": "2023-09-17T17:17:44.605Z"
   },
   {
    "duration": 21,
    "start_time": "2023-09-17T17:18:36.355Z"
   },
   {
    "duration": 4,
    "start_time": "2023-09-17T17:47:10.562Z"
   },
   {
    "duration": 1789,
    "start_time": "2023-09-17T17:47:15.832Z"
   },
   {
    "duration": 1987,
    "start_time": "2023-09-17T17:48:28.291Z"
   },
   {
    "duration": 17,
    "start_time": "2023-09-17T17:49:36.085Z"
   },
   {
    "duration": 26,
    "start_time": "2023-09-17T17:49:45.109Z"
   },
   {
    "duration": 2047,
    "start_time": "2023-09-17T17:49:48.675Z"
   },
   {
    "duration": 16,
    "start_time": "2023-09-17T17:50:00.589Z"
   },
   {
    "duration": 9,
    "start_time": "2023-09-17T17:50:18.562Z"
   },
   {
    "duration": 18,
    "start_time": "2023-09-17T17:50:32.220Z"
   },
   {
    "duration": 1503,
    "start_time": "2023-09-17T17:50:57.836Z"
   },
   {
    "duration": 447,
    "start_time": "2023-09-17T17:50:59.344Z"
   },
   {
    "duration": 4,
    "start_time": "2023-09-17T17:50:59.793Z"
   },
   {
    "duration": 445,
    "start_time": "2023-09-17T17:50:59.799Z"
   },
   {
    "duration": 4,
    "start_time": "2023-09-17T17:51:00.246Z"
   },
   {
    "duration": 1844,
    "start_time": "2023-09-17T17:51:00.252Z"
   },
   {
    "duration": 3,
    "start_time": "2023-09-17T17:51:02.097Z"
   },
   {
    "duration": 44,
    "start_time": "2023-09-17T17:51:02.102Z"
   },
   {
    "duration": 26,
    "start_time": "2023-09-17T17:51:02.148Z"
   },
   {
    "duration": 1113,
    "start_time": "2023-09-17T17:51:02.177Z"
   },
   {
    "duration": 35,
    "start_time": "2023-09-17T17:51:03.292Z"
   },
   {
    "duration": 20,
    "start_time": "2023-09-17T17:51:03.329Z"
   },
   {
    "duration": 9,
    "start_time": "2023-09-17T17:51:03.351Z"
   },
   {
    "duration": 30,
    "start_time": "2023-09-17T17:51:03.362Z"
   },
   {
    "duration": 34,
    "start_time": "2023-09-17T17:51:03.393Z"
   },
   {
    "duration": 15,
    "start_time": "2023-09-17T17:51:03.432Z"
   },
   {
    "duration": 5,
    "start_time": "2023-09-17T17:51:03.449Z"
   },
   {
    "duration": 7,
    "start_time": "2023-09-17T17:51:03.455Z"
   },
   {
    "duration": 471,
    "start_time": "2023-09-17T17:51:03.464Z"
   },
   {
    "duration": 89,
    "start_time": "2023-09-17T17:51:03.937Z"
   },
   {
    "duration": 605,
    "start_time": "2023-09-17T17:51:04.033Z"
   },
   {
    "duration": 10,
    "start_time": "2023-09-17T17:51:04.640Z"
   },
   {
    "duration": 475,
    "start_time": "2023-09-17T17:51:04.652Z"
   },
   {
    "duration": 15,
    "start_time": "2023-09-17T17:51:05.130Z"
   },
   {
    "duration": 122,
    "start_time": "2023-09-17T17:51:05.151Z"
   },
   {
    "duration": 255,
    "start_time": "2023-09-17T17:51:05.275Z"
   },
   {
    "duration": 179,
    "start_time": "2023-09-17T17:51:05.537Z"
   },
   {
    "duration": 236,
    "start_time": "2023-09-17T17:51:05.720Z"
   },
   {
    "duration": 1556,
    "start_time": "2023-09-17T17:56:59.778Z"
   },
   {
    "duration": 454,
    "start_time": "2023-09-17T17:57:01.337Z"
   },
   {
    "duration": 5,
    "start_time": "2023-09-17T17:57:01.793Z"
   },
   {
    "duration": 417,
    "start_time": "2023-09-17T17:57:01.799Z"
   },
   {
    "duration": 9,
    "start_time": "2023-09-17T17:57:02.225Z"
   },
   {
    "duration": 1748,
    "start_time": "2023-09-17T17:57:02.241Z"
   },
   {
    "duration": 2,
    "start_time": "2023-09-17T17:57:03.991Z"
   },
   {
    "duration": 16,
    "start_time": "2023-09-17T17:57:03.995Z"
   },
   {
    "duration": 22,
    "start_time": "2023-09-17T17:57:04.013Z"
   },
   {
    "duration": 1003,
    "start_time": "2023-09-17T17:57:04.037Z"
   },
   {
    "duration": 31,
    "start_time": "2023-09-17T17:57:05.043Z"
   },
   {
    "duration": 4,
    "start_time": "2023-09-17T17:57:05.076Z"
   },
   {
    "duration": 55,
    "start_time": "2023-09-17T17:57:05.082Z"
   },
   {
    "duration": 16,
    "start_time": "2023-09-17T17:57:05.140Z"
   },
   {
    "duration": 5,
    "start_time": "2023-09-17T17:57:05.159Z"
   },
   {
    "duration": 8,
    "start_time": "2023-09-17T17:57:05.166Z"
   },
   {
    "duration": 456,
    "start_time": "2023-09-17T17:57:05.176Z"
   },
   {
    "duration": 13,
    "start_time": "2023-09-17T17:57:05.634Z"
   },
   {
    "duration": 778,
    "start_time": "2023-09-17T17:57:05.649Z"
   },
   {
    "duration": 5,
    "start_time": "2023-09-17T17:57:06.429Z"
   },
   {
    "duration": 18012,
    "start_time": "2023-09-17T17:57:06.440Z"
   },
   {
    "duration": 15598,
    "start_time": "2023-09-17T17:57:24.454Z"
   },
   {
    "duration": 16625,
    "start_time": "2023-09-17T17:57:40.129Z"
   },
   {
    "duration": 517,
    "start_time": "2023-09-17T17:57:56.830Z"
   },
   {
    "duration": 79,
    "start_time": "2023-09-17T17:57:57.351Z"
   },
   {
    "duration": 11,
    "start_time": "2023-09-17T17:57:57.436Z"
   },
   {
    "duration": 10,
    "start_time": "2023-09-17T17:57:57.448Z"
   },
   {
    "duration": 31,
    "start_time": "2023-09-17T17:57:57.460Z"
   },
   {
    "duration": 43,
    "start_time": "2023-09-17T17:57:57.492Z"
   },
   {
    "duration": 1455,
    "start_time": "2023-09-17T17:58:26.092Z"
   },
   {
    "duration": 429,
    "start_time": "2023-09-17T17:58:27.549Z"
   },
   {
    "duration": 4,
    "start_time": "2023-09-17T17:58:27.980Z"
   },
   {
    "duration": 420,
    "start_time": "2023-09-17T17:58:27.986Z"
   },
   {
    "duration": 6,
    "start_time": "2023-09-17T17:58:28.408Z"
   },
   {
    "duration": 1538,
    "start_time": "2023-09-17T17:58:28.423Z"
   },
   {
    "duration": 3,
    "start_time": "2023-09-17T17:58:29.962Z"
   },
   {
    "duration": 23,
    "start_time": "2023-09-17T17:58:29.966Z"
   },
   {
    "duration": 12,
    "start_time": "2023-09-17T17:58:29.990Z"
   },
   {
    "duration": 1080,
    "start_time": "2023-09-17T17:58:30.005Z"
   },
   {
    "duration": 49,
    "start_time": "2023-09-17T17:58:31.087Z"
   },
   {
    "duration": 344,
    "start_time": "2023-09-17T17:58:31.138Z"
   },
   {
    "duration": 201,
    "start_time": "2023-09-17T17:58:31.484Z"
   },
   {
    "duration": 122,
    "start_time": "2023-09-17T17:58:31.686Z"
   },
   {
    "duration": 97,
    "start_time": "2023-09-17T17:58:31.810Z"
   },
   {
    "duration": 89,
    "start_time": "2023-09-17T17:58:31.909Z"
   },
   {
    "duration": 351,
    "start_time": "2023-09-17T17:58:32.000Z"
   },
   {
    "duration": 7,
    "start_time": "2023-09-17T17:58:32.353Z"
   },
   {
    "duration": 129526,
    "start_time": "2023-09-17T17:58:32.424Z"
   },
   {
    "duration": 129332,
    "start_time": "2023-09-17T18:02:48.030Z"
   },
   {
    "duration": 560,
    "start_time": "2023-09-17T18:04:57.364Z"
   },
   {
    "duration": 4,
    "start_time": "2023-09-17T18:04:57.926Z"
   },
   {
    "duration": 24246,
    "start_time": "2023-09-17T18:04:57.932Z"
   },
   {
    "duration": 21492,
    "start_time": "2023-09-17T18:05:22.181Z"
   },
   {
    "duration": 18390,
    "start_time": "2023-09-17T18:05:43.680Z"
   },
   {
    "duration": 470,
    "start_time": "2023-09-17T18:06:02.072Z"
   },
   {
    "duration": 72,
    "start_time": "2023-09-17T18:06:02.554Z"
   },
   {
    "duration": 113,
    "start_time": "2023-09-17T18:06:02.628Z"
   },
   {
    "duration": 69,
    "start_time": "2023-09-17T18:06:02.745Z"
   },
   {
    "duration": 194,
    "start_time": "2023-09-17T18:06:02.816Z"
   },
   {
    "duration": 71,
    "start_time": "2023-09-17T18:06:03.012Z"
   },
   {
    "duration": 126013,
    "start_time": "2023-09-17T18:10:40.816Z"
   },
   {
    "duration": 1519,
    "start_time": "2023-09-17T18:13:34.214Z"
   },
   {
    "duration": 562,
    "start_time": "2023-09-17T18:13:35.735Z"
   },
   {
    "duration": 3,
    "start_time": "2023-09-17T18:13:36.299Z"
   },
   {
    "duration": 440,
    "start_time": "2023-09-17T18:13:36.304Z"
   },
   {
    "duration": 6,
    "start_time": "2023-09-17T18:13:36.746Z"
   },
   {
    "duration": 1670,
    "start_time": "2023-09-17T18:13:36.755Z"
   },
   {
    "duration": 4,
    "start_time": "2023-09-17T18:13:38.427Z"
   },
   {
    "duration": 27,
    "start_time": "2023-09-17T18:13:38.439Z"
   },
   {
    "duration": 6,
    "start_time": "2023-09-17T18:13:38.468Z"
   },
   {
    "duration": 1100,
    "start_time": "2023-09-17T18:13:38.477Z"
   },
   {
    "duration": 28,
    "start_time": "2023-09-17T18:13:39.579Z"
   },
   {
    "duration": 20,
    "start_time": "2023-09-17T18:13:39.631Z"
   },
   {
    "duration": 28,
    "start_time": "2023-09-17T18:13:39.653Z"
   },
   {
    "duration": 11,
    "start_time": "2023-09-17T18:13:39.683Z"
   },
   {
    "duration": 14,
    "start_time": "2023-09-17T18:13:39.696Z"
   },
   {
    "duration": 28,
    "start_time": "2023-09-17T18:13:39.712Z"
   },
   {
    "duration": 322,
    "start_time": "2023-09-17T18:13:39.742Z"
   },
   {
    "duration": 15,
    "start_time": "2023-09-17T18:13:40.126Z"
   },
   {
    "duration": 983,
    "start_time": "2023-09-17T18:13:40.144Z"
   },
   {
    "duration": 8,
    "start_time": "2023-09-17T18:13:41.129Z"
   },
   {
    "duration": 21612,
    "start_time": "2023-09-17T18:13:41.140Z"
   },
   {
    "duration": 15679,
    "start_time": "2023-09-17T18:14:02.760Z"
   },
   {
    "duration": 15793,
    "start_time": "2023-09-17T18:14:18.448Z"
   },
   {
    "duration": 385,
    "start_time": "2023-09-17T18:14:34.243Z"
   },
   {
    "duration": 87,
    "start_time": "2023-09-17T18:14:34.645Z"
   },
   {
    "duration": 14,
    "start_time": "2023-09-17T18:14:34.737Z"
   },
   {
    "duration": 21,
    "start_time": "2023-09-17T18:14:34.753Z"
   },
   {
    "duration": 24,
    "start_time": "2023-09-17T18:14:34.777Z"
   },
   {
    "duration": 40,
    "start_time": "2023-09-17T18:14:34.803Z"
   },
   {
    "duration": 1576,
    "start_time": "2023-09-22T11:22:38.922Z"
   },
   {
    "duration": 840,
    "start_time": "2023-09-22T11:22:40.500Z"
   },
   {
    "duration": 4,
    "start_time": "2023-09-22T11:22:41.341Z"
   },
   {
    "duration": 354,
    "start_time": "2023-09-22T11:22:41.346Z"
   },
   {
    "duration": 4,
    "start_time": "2023-09-22T11:22:41.703Z"
   },
   {
    "duration": 1288,
    "start_time": "2023-09-22T11:22:41.709Z"
   },
   {
    "duration": 3,
    "start_time": "2023-09-22T11:22:42.999Z"
   },
   {
    "duration": 34,
    "start_time": "2023-09-22T11:22:43.003Z"
   },
   {
    "duration": 31,
    "start_time": "2023-09-22T11:22:43.039Z"
   },
   {
    "duration": 988,
    "start_time": "2023-09-22T11:22:43.071Z"
   },
   {
    "duration": 26,
    "start_time": "2023-09-22T11:22:44.061Z"
   },
   {
    "duration": 17,
    "start_time": "2023-09-22T11:22:44.088Z"
   },
   {
    "duration": 57,
    "start_time": "2023-09-22T11:22:44.107Z"
   },
   {
    "duration": 14,
    "start_time": "2023-09-22T11:22:44.166Z"
   },
   {
    "duration": 23,
    "start_time": "2023-09-22T11:22:44.182Z"
   },
   {
    "duration": 41,
    "start_time": "2023-09-22T11:22:44.207Z"
   },
   {
    "duration": 219,
    "start_time": "2023-09-22T11:22:44.250Z"
   },
   {
    "duration": 79,
    "start_time": "2023-09-22T11:22:44.471Z"
   },
   {
    "duration": 702,
    "start_time": "2023-09-22T11:22:44.555Z"
   },
   {
    "duration": 95,
    "start_time": "2023-09-22T11:22:45.268Z"
   },
   {
    "duration": 294,
    "start_time": "2023-09-22T11:22:45.365Z"
   },
   {
    "duration": 21,
    "start_time": "2023-09-22T11:22:45.661Z"
   },
   {
    "duration": 12,
    "start_time": "2023-09-22T11:22:45.751Z"
   },
   {
    "duration": 24,
    "start_time": "2023-09-22T11:22:45.768Z"
   },
   {
    "duration": 39,
    "start_time": "2023-09-22T11:22:45.793Z"
   },
   {
    "duration": 24,
    "start_time": "2023-09-22T11:22:45.834Z"
   },
   {
    "duration": 17,
    "start_time": "2023-09-22T11:22:45.860Z"
   },
   {
    "duration": 105,
    "start_time": "2023-09-22T11:22:45.878Z"
   },
   {
    "duration": 3,
    "start_time": "2023-09-22T11:22:58.278Z"
   },
   {
    "duration": 5,
    "start_time": "2023-09-22T11:31:20.797Z"
   },
   {
    "duration": 4,
    "start_time": "2023-09-22T11:31:24.095Z"
   },
   {
    "duration": 2,
    "start_time": "2023-09-22T11:33:38.344Z"
   },
   {
    "duration": 3,
    "start_time": "2023-09-22T11:34:05.278Z"
   },
   {
    "duration": 4,
    "start_time": "2023-09-22T11:34:06.768Z"
   },
   {
    "duration": 5,
    "start_time": "2023-09-22T11:35:41.626Z"
   },
   {
    "duration": 1531,
    "start_time": "2023-09-22T11:38:44.876Z"
   },
   {
    "duration": 445,
    "start_time": "2023-09-22T11:38:46.409Z"
   },
   {
    "duration": 5,
    "start_time": "2023-09-22T11:38:46.856Z"
   },
   {
    "duration": 378,
    "start_time": "2023-09-22T11:38:46.864Z"
   },
   {
    "duration": 8,
    "start_time": "2023-09-22T11:38:47.244Z"
   },
   {
    "duration": 1503,
    "start_time": "2023-09-22T11:38:47.253Z"
   },
   {
    "duration": 6,
    "start_time": "2023-09-22T11:38:48.758Z"
   },
   {
    "duration": 24,
    "start_time": "2023-09-22T11:38:48.766Z"
   },
   {
    "duration": 11,
    "start_time": "2023-09-22T11:38:48.791Z"
   },
   {
    "duration": 961,
    "start_time": "2023-09-22T11:38:48.803Z"
   },
   {
    "duration": 31,
    "start_time": "2023-09-22T11:38:49.766Z"
   },
   {
    "duration": 3,
    "start_time": "2023-09-22T11:38:49.799Z"
   },
   {
    "duration": 38,
    "start_time": "2023-09-22T11:38:49.804Z"
   },
   {
    "duration": 12,
    "start_time": "2023-09-22T11:38:49.850Z"
   },
   {
    "duration": 15,
    "start_time": "2023-09-22T11:38:49.864Z"
   },
   {
    "duration": 5,
    "start_time": "2023-09-22T11:38:49.884Z"
   },
   {
    "duration": 392,
    "start_time": "2023-09-22T11:38:49.890Z"
   },
   {
    "duration": 4,
    "start_time": "2023-09-22T11:38:50.284Z"
   },
   {
    "duration": 567,
    "start_time": "2023-09-22T11:38:50.289Z"
   },
   {
    "duration": 4,
    "start_time": "2023-09-22T11:38:50.858Z"
   },
   {
    "duration": 312,
    "start_time": "2023-09-22T11:38:50.864Z"
   },
   {
    "duration": 14,
    "start_time": "2023-09-22T11:38:51.249Z"
   },
   {
    "duration": 15,
    "start_time": "2023-09-22T11:38:51.274Z"
   },
   {
    "duration": 8,
    "start_time": "2023-09-22T11:38:51.292Z"
   },
   {
    "duration": 186,
    "start_time": "2023-09-22T11:38:51.302Z"
   },
   {
    "duration": 7,
    "start_time": "2023-09-22T11:38:51.490Z"
   },
   {
    "duration": 7,
    "start_time": "2023-09-22T11:38:51.499Z"
   },
   {
    "duration": 10,
    "start_time": "2023-09-22T11:38:51.508Z"
   },
   {
    "duration": 11,
    "start_time": "2023-09-22T11:38:51.519Z"
   },
   {
    "duration": 4,
    "start_time": "2023-09-22T11:51:57.017Z"
   },
   {
    "duration": 14,
    "start_time": "2023-09-22T11:52:18.164Z"
   },
   {
    "duration": 6,
    "start_time": "2023-09-22T11:56:10.614Z"
   },
   {
    "duration": 18,
    "start_time": "2023-09-22T11:56:17.224Z"
   },
   {
    "duration": 15,
    "start_time": "2023-09-22T11:56:46.228Z"
   },
   {
    "duration": 12,
    "start_time": "2023-09-22T11:56:59.994Z"
   },
   {
    "duration": 13,
    "start_time": "2023-09-22T11:57:04.931Z"
   },
   {
    "duration": 3,
    "start_time": "2023-09-22T12:01:28.017Z"
   },
   {
    "duration": 4,
    "start_time": "2023-09-22T12:01:44.921Z"
   },
   {
    "duration": 4,
    "start_time": "2023-09-22T12:03:22.580Z"
   },
   {
    "duration": 4,
    "start_time": "2023-09-22T12:04:31.845Z"
   },
   {
    "duration": 15,
    "start_time": "2023-09-22T12:04:41.048Z"
   },
   {
    "duration": 4,
    "start_time": "2023-09-22T12:04:44.328Z"
   },
   {
    "duration": 4,
    "start_time": "2023-09-22T12:04:56.715Z"
   },
   {
    "duration": 6,
    "start_time": "2023-09-22T12:05:46.112Z"
   },
   {
    "duration": 3,
    "start_time": "2023-09-22T12:08:13.626Z"
   },
   {
    "duration": 5,
    "start_time": "2023-09-22T12:09:35.528Z"
   },
   {
    "duration": 9,
    "start_time": "2023-09-22T12:09:48.177Z"
   },
   {
    "duration": 3,
    "start_time": "2023-09-22T12:11:33.418Z"
   },
   {
    "duration": 5,
    "start_time": "2023-09-22T12:13:01.538Z"
   },
   {
    "duration": 117,
    "start_time": "2023-09-22T12:14:17.119Z"
   },
   {
    "duration": 11,
    "start_time": "2023-09-22T12:14:32.876Z"
   },
   {
    "duration": 27,
    "start_time": "2023-09-22T12:15:29.158Z"
   },
   {
    "duration": 5,
    "start_time": "2023-09-22T12:21:17.535Z"
   },
   {
    "duration": 16,
    "start_time": "2023-09-22T12:21:36.568Z"
   },
   {
    "duration": 5,
    "start_time": "2023-09-22T12:24:02.778Z"
   },
   {
    "duration": 21,
    "start_time": "2023-09-22T12:24:04.540Z"
   },
   {
    "duration": 4,
    "start_time": "2023-09-22T12:24:42.369Z"
   },
   {
    "duration": 17,
    "start_time": "2023-09-22T12:24:45.387Z"
   },
   {
    "duration": 14,
    "start_time": "2023-09-22T12:25:19.019Z"
   },
   {
    "duration": 19,
    "start_time": "2023-09-22T12:25:28.430Z"
   },
   {
    "duration": 5,
    "start_time": "2023-09-22T12:27:15.577Z"
   },
   {
    "duration": 1312,
    "start_time": "2023-09-22T12:53:42.174Z"
   },
   {
    "duration": 391,
    "start_time": "2023-09-22T12:53:43.488Z"
   },
   {
    "duration": 3,
    "start_time": "2023-09-22T12:53:43.881Z"
   },
   {
    "duration": 371,
    "start_time": "2023-09-22T12:53:43.885Z"
   },
   {
    "duration": 4,
    "start_time": "2023-09-22T12:53:44.257Z"
   },
   {
    "duration": 1163,
    "start_time": "2023-09-22T12:53:44.263Z"
   },
   {
    "duration": 3,
    "start_time": "2023-09-22T12:53:45.427Z"
   },
   {
    "duration": 71,
    "start_time": "2023-09-22T12:53:45.431Z"
   },
   {
    "duration": 53,
    "start_time": "2023-09-22T12:53:45.504Z"
   },
   {
    "duration": 906,
    "start_time": "2023-09-22T12:53:45.559Z"
   },
   {
    "duration": 27,
    "start_time": "2023-09-22T12:53:46.467Z"
   },
   {
    "duration": 4,
    "start_time": "2023-09-22T12:53:46.496Z"
   },
   {
    "duration": 41,
    "start_time": "2023-09-22T12:53:46.501Z"
   },
   {
    "duration": 12,
    "start_time": "2023-09-22T12:53:46.544Z"
   },
   {
    "duration": 15,
    "start_time": "2023-09-22T12:53:46.558Z"
   },
   {
    "duration": 18,
    "start_time": "2023-09-22T12:53:46.574Z"
   },
   {
    "duration": 367,
    "start_time": "2023-09-22T12:53:46.594Z"
   },
   {
    "duration": 91,
    "start_time": "2023-09-22T12:53:46.962Z"
   },
   {
    "duration": 602,
    "start_time": "2023-09-22T12:53:47.054Z"
   },
   {
    "duration": 93,
    "start_time": "2023-09-22T12:53:47.658Z"
   },
   {
    "duration": 403,
    "start_time": "2023-09-22T12:53:47.752Z"
   },
   {
    "duration": 98,
    "start_time": "2023-09-22T12:53:48.157Z"
   },
   {
    "duration": 22,
    "start_time": "2023-09-22T12:53:48.257Z"
   },
   {
    "duration": 32,
    "start_time": "2023-09-22T12:53:48.281Z"
   },
   {
    "duration": 21,
    "start_time": "2023-09-22T12:53:48.315Z"
   },
   {
    "duration": 7,
    "start_time": "2023-09-22T12:53:48.337Z"
   },
   {
    "duration": 6,
    "start_time": "2023-09-22T12:53:48.345Z"
   },
   {
    "duration": 4,
    "start_time": "2023-09-22T12:53:48.354Z"
   },
   {
    "duration": 38,
    "start_time": "2023-09-22T12:53:48.360Z"
   },
   {
    "duration": 17,
    "start_time": "2023-09-22T12:53:48.399Z"
   },
   {
    "duration": 15,
    "start_time": "2023-09-22T12:53:48.417Z"
   },
   {
    "duration": 29,
    "start_time": "2023-09-22T12:53:48.433Z"
   },
   {
    "duration": 24,
    "start_time": "2023-09-22T12:53:48.464Z"
   },
   {
    "duration": 39,
    "start_time": "2023-09-22T12:53:48.490Z"
   },
   {
    "duration": 111,
    "start_time": "2023-09-22T12:53:48.531Z"
   },
   {
    "duration": 1410,
    "start_time": "2023-09-22T12:55:18.219Z"
   },
   {
    "duration": 394,
    "start_time": "2023-09-22T12:55:19.631Z"
   },
   {
    "duration": 4,
    "start_time": "2023-09-22T12:55:20.027Z"
   },
   {
    "duration": 350,
    "start_time": "2023-09-22T12:55:20.032Z"
   },
   {
    "duration": 4,
    "start_time": "2023-09-22T12:55:20.383Z"
   },
   {
    "duration": 1260,
    "start_time": "2023-09-22T12:55:20.389Z"
   },
   {
    "duration": 4,
    "start_time": "2023-09-22T12:55:21.652Z"
   },
   {
    "duration": 19,
    "start_time": "2023-09-22T12:55:21.659Z"
   },
   {
    "duration": 6,
    "start_time": "2023-09-22T12:55:21.680Z"
   },
   {
    "duration": 972,
    "start_time": "2023-09-22T12:55:21.688Z"
   },
   {
    "duration": 28,
    "start_time": "2023-09-22T12:55:22.664Z"
   },
   {
    "duration": 3,
    "start_time": "2023-09-22T12:55:22.694Z"
   },
   {
    "duration": 26,
    "start_time": "2023-09-22T12:55:22.698Z"
   },
   {
    "duration": 9,
    "start_time": "2023-09-22T12:55:22.725Z"
   },
   {
    "duration": 17,
    "start_time": "2023-09-22T12:55:22.752Z"
   },
   {
    "duration": 18,
    "start_time": "2023-09-22T12:55:22.770Z"
   },
   {
    "duration": 361,
    "start_time": "2023-09-22T12:55:22.790Z"
   },
   {
    "duration": 4,
    "start_time": "2023-09-22T12:55:23.156Z"
   },
   {
    "duration": 597,
    "start_time": "2023-09-22T12:55:23.162Z"
   },
   {
    "duration": 5,
    "start_time": "2023-09-22T12:55:23.761Z"
   },
   {
    "duration": 294,
    "start_time": "2023-09-22T12:55:23.768Z"
   },
   {
    "duration": 90,
    "start_time": "2023-09-22T12:55:24.064Z"
   },
   {
    "duration": 10,
    "start_time": "2023-09-22T12:55:24.160Z"
   },
   {
    "duration": 21,
    "start_time": "2023-09-22T12:55:24.171Z"
   },
   {
    "duration": 29,
    "start_time": "2023-09-22T12:55:24.193Z"
   },
   {
    "duration": 7,
    "start_time": "2023-09-22T12:55:24.224Z"
   },
   {
    "duration": 6,
    "start_time": "2023-09-22T12:55:24.232Z"
   },
   {
    "duration": 12,
    "start_time": "2023-09-22T12:55:24.250Z"
   },
   {
    "duration": 12,
    "start_time": "2023-09-22T12:55:24.263Z"
   },
   {
    "duration": 21,
    "start_time": "2023-09-22T12:55:24.276Z"
   },
   {
    "duration": 14,
    "start_time": "2023-09-22T12:55:24.298Z"
   },
   {
    "duration": 20,
    "start_time": "2023-09-22T12:55:24.313Z"
   },
   {
    "duration": 23,
    "start_time": "2023-09-22T12:55:24.335Z"
   },
   {
    "duration": 18,
    "start_time": "2023-09-22T12:55:24.359Z"
   },
   {
    "duration": 102,
    "start_time": "2023-09-22T12:55:24.379Z"
   },
   {
    "duration": 3,
    "start_time": "2023-09-22T13:06:24.125Z"
   },
   {
    "duration": 24,
    "start_time": "2023-09-22T13:06:25.925Z"
   },
   {
    "duration": 17,
    "start_time": "2023-09-22T13:06:35.810Z"
   },
   {
    "duration": 16,
    "start_time": "2023-09-22T13:06:37.930Z"
   },
   {
    "duration": 1308,
    "start_time": "2023-09-22T13:20:50.606Z"
   },
   {
    "duration": 389,
    "start_time": "2023-09-22T13:20:51.916Z"
   },
   {
    "duration": 4,
    "start_time": "2023-09-22T13:20:52.307Z"
   },
   {
    "duration": 383,
    "start_time": "2023-09-22T13:20:52.313Z"
   },
   {
    "duration": 4,
    "start_time": "2023-09-22T13:20:52.698Z"
   },
   {
    "duration": 1246,
    "start_time": "2023-09-22T13:20:52.703Z"
   },
   {
    "duration": 2,
    "start_time": "2023-09-22T13:20:53.951Z"
   },
   {
    "duration": 26,
    "start_time": "2023-09-22T13:20:53.955Z"
   },
   {
    "duration": 5,
    "start_time": "2023-09-22T13:20:53.982Z"
   },
   {
    "duration": 971,
    "start_time": "2023-09-22T13:20:53.989Z"
   },
   {
    "duration": 28,
    "start_time": "2023-09-22T13:20:54.962Z"
   },
   {
    "duration": 7,
    "start_time": "2023-09-22T13:20:54.992Z"
   },
   {
    "duration": 50,
    "start_time": "2023-09-22T13:20:55.001Z"
   },
   {
    "duration": 11,
    "start_time": "2023-09-22T13:20:55.053Z"
   },
   {
    "duration": 23,
    "start_time": "2023-09-22T13:20:55.065Z"
   },
   {
    "duration": 23,
    "start_time": "2023-09-22T13:20:55.089Z"
   },
   {
    "duration": 99,
    "start_time": "2023-09-22T13:20:55.113Z"
   },
   {
    "duration": 0,
    "start_time": "2023-09-22T13:20:55.214Z"
   },
   {
    "duration": 0,
    "start_time": "2023-09-22T13:20:55.216Z"
   },
   {
    "duration": 0,
    "start_time": "2023-09-22T13:20:55.217Z"
   },
   {
    "duration": 0,
    "start_time": "2023-09-22T13:20:55.218Z"
   },
   {
    "duration": 0,
    "start_time": "2023-09-22T13:20:55.220Z"
   },
   {
    "duration": 0,
    "start_time": "2023-09-22T13:20:55.221Z"
   },
   {
    "duration": 0,
    "start_time": "2023-09-22T13:20:55.222Z"
   },
   {
    "duration": 1,
    "start_time": "2023-09-22T13:20:55.223Z"
   },
   {
    "duration": 0,
    "start_time": "2023-09-22T13:20:55.225Z"
   },
   {
    "duration": 0,
    "start_time": "2023-09-22T13:20:55.226Z"
   },
   {
    "duration": 0,
    "start_time": "2023-09-22T13:20:55.227Z"
   },
   {
    "duration": 0,
    "start_time": "2023-09-22T13:20:55.250Z"
   },
   {
    "duration": 0,
    "start_time": "2023-09-22T13:20:55.251Z"
   },
   {
    "duration": 0,
    "start_time": "2023-09-22T13:20:55.252Z"
   },
   {
    "duration": 1,
    "start_time": "2023-09-22T13:20:55.253Z"
   },
   {
    "duration": 0,
    "start_time": "2023-09-22T13:20:55.255Z"
   },
   {
    "duration": 0,
    "start_time": "2023-09-22T13:20:55.256Z"
   },
   {
    "duration": 0,
    "start_time": "2023-09-22T13:20:55.257Z"
   },
   {
    "duration": 1311,
    "start_time": "2023-09-22T13:22:02.276Z"
   },
   {
    "duration": 380,
    "start_time": "2023-09-22T13:22:03.589Z"
   },
   {
    "duration": 3,
    "start_time": "2023-09-22T13:22:03.971Z"
   },
   {
    "duration": 344,
    "start_time": "2023-09-22T13:22:03.976Z"
   },
   {
    "duration": 4,
    "start_time": "2023-09-22T13:22:04.322Z"
   },
   {
    "duration": 1167,
    "start_time": "2023-09-22T13:22:04.327Z"
   },
   {
    "duration": 3,
    "start_time": "2023-09-22T13:22:05.495Z"
   },
   {
    "duration": 47,
    "start_time": "2023-09-22T13:22:05.499Z"
   },
   {
    "duration": 32,
    "start_time": "2023-09-22T13:22:05.547Z"
   },
   {
    "duration": 970,
    "start_time": "2023-09-22T13:22:05.580Z"
   },
   {
    "duration": 27,
    "start_time": "2023-09-22T13:22:06.551Z"
   },
   {
    "duration": 4,
    "start_time": "2023-09-22T13:22:06.579Z"
   },
   {
    "duration": 33,
    "start_time": "2023-09-22T13:22:06.584Z"
   },
   {
    "duration": 9,
    "start_time": "2023-09-22T13:22:06.620Z"
   },
   {
    "duration": 4,
    "start_time": "2023-09-22T13:22:06.649Z"
   },
   {
    "duration": 31,
    "start_time": "2023-09-22T13:22:06.654Z"
   },
   {
    "duration": 108,
    "start_time": "2023-09-22T13:22:06.687Z"
   },
   {
    "duration": 0,
    "start_time": "2023-09-22T13:22:06.796Z"
   },
   {
    "duration": 0,
    "start_time": "2023-09-22T13:22:06.797Z"
   },
   {
    "duration": 0,
    "start_time": "2023-09-22T13:22:06.799Z"
   },
   {
    "duration": 0,
    "start_time": "2023-09-22T13:22:06.800Z"
   },
   {
    "duration": 0,
    "start_time": "2023-09-22T13:22:06.801Z"
   },
   {
    "duration": 0,
    "start_time": "2023-09-22T13:22:06.802Z"
   },
   {
    "duration": 0,
    "start_time": "2023-09-22T13:22:06.803Z"
   },
   {
    "duration": 0,
    "start_time": "2023-09-22T13:22:06.804Z"
   },
   {
    "duration": 0,
    "start_time": "2023-09-22T13:22:06.805Z"
   },
   {
    "duration": 0,
    "start_time": "2023-09-22T13:22:06.806Z"
   },
   {
    "duration": 0,
    "start_time": "2023-09-22T13:22:06.807Z"
   },
   {
    "duration": 0,
    "start_time": "2023-09-22T13:22:06.808Z"
   },
   {
    "duration": 0,
    "start_time": "2023-09-22T13:22:06.809Z"
   },
   {
    "duration": 0,
    "start_time": "2023-09-22T13:22:06.810Z"
   },
   {
    "duration": 0,
    "start_time": "2023-09-22T13:22:06.811Z"
   },
   {
    "duration": 0,
    "start_time": "2023-09-22T13:22:06.812Z"
   },
   {
    "duration": 0,
    "start_time": "2023-09-22T13:22:06.813Z"
   },
   {
    "duration": 0,
    "start_time": "2023-09-22T13:22:06.814Z"
   },
   {
    "duration": 1290,
    "start_time": "2023-09-22T13:23:36.301Z"
   },
   {
    "duration": 381,
    "start_time": "2023-09-22T13:23:37.593Z"
   },
   {
    "duration": 3,
    "start_time": "2023-09-22T13:23:37.976Z"
   },
   {
    "duration": 337,
    "start_time": "2023-09-22T13:23:37.981Z"
   },
   {
    "duration": 4,
    "start_time": "2023-09-22T13:23:38.320Z"
   },
   {
    "duration": 1204,
    "start_time": "2023-09-22T13:23:38.326Z"
   },
   {
    "duration": 2,
    "start_time": "2023-09-22T13:23:39.532Z"
   },
   {
    "duration": 38,
    "start_time": "2023-09-22T13:23:39.536Z"
   },
   {
    "duration": 6,
    "start_time": "2023-09-22T13:23:39.575Z"
   },
   {
    "duration": 957,
    "start_time": "2023-09-22T13:23:39.584Z"
   },
   {
    "duration": 27,
    "start_time": "2023-09-22T13:23:40.549Z"
   },
   {
    "duration": 3,
    "start_time": "2023-09-22T13:23:40.578Z"
   },
   {
    "duration": 27,
    "start_time": "2023-09-22T13:23:40.583Z"
   },
   {
    "duration": 11,
    "start_time": "2023-09-22T13:23:40.612Z"
   },
   {
    "duration": 27,
    "start_time": "2023-09-22T13:23:40.625Z"
   },
   {
    "duration": 6,
    "start_time": "2023-09-22T13:23:40.654Z"
   },
   {
    "duration": 489,
    "start_time": "2023-09-22T13:23:40.662Z"
   },
   {
    "duration": 4,
    "start_time": "2023-09-22T13:23:41.153Z"
   },
   {
    "duration": 114,
    "start_time": "2023-09-22T13:23:41.159Z"
   },
   {
    "duration": 0,
    "start_time": "2023-09-22T13:23:41.275Z"
   },
   {
    "duration": 0,
    "start_time": "2023-09-22T13:23:41.276Z"
   },
   {
    "duration": 0,
    "start_time": "2023-09-22T13:23:41.278Z"
   },
   {
    "duration": 0,
    "start_time": "2023-09-22T13:23:41.279Z"
   },
   {
    "duration": 0,
    "start_time": "2023-09-22T13:23:41.280Z"
   },
   {
    "duration": 0,
    "start_time": "2023-09-22T13:23:41.282Z"
   },
   {
    "duration": 0,
    "start_time": "2023-09-22T13:23:41.283Z"
   },
   {
    "duration": 0,
    "start_time": "2023-09-22T13:23:41.284Z"
   },
   {
    "duration": 0,
    "start_time": "2023-09-22T13:23:41.285Z"
   },
   {
    "duration": 0,
    "start_time": "2023-09-22T13:23:41.287Z"
   },
   {
    "duration": 0,
    "start_time": "2023-09-22T13:23:41.288Z"
   },
   {
    "duration": 0,
    "start_time": "2023-09-22T13:23:41.289Z"
   },
   {
    "duration": 0,
    "start_time": "2023-09-22T13:23:41.291Z"
   },
   {
    "duration": 0,
    "start_time": "2023-09-22T13:23:41.293Z"
   },
   {
    "duration": 0,
    "start_time": "2023-09-22T13:23:41.294Z"
   },
   {
    "duration": 0,
    "start_time": "2023-09-22T13:23:41.295Z"
   },
   {
    "duration": 4,
    "start_time": "2023-09-22T13:25:12.321Z"
   },
   {
    "duration": 8,
    "start_time": "2023-09-22T13:25:43.021Z"
   },
   {
    "duration": 11,
    "start_time": "2023-09-22T13:26:05.563Z"
   },
   {
    "duration": 10,
    "start_time": "2023-09-22T13:26:17.361Z"
   },
   {
    "duration": 10,
    "start_time": "2023-09-22T13:26:23.003Z"
   },
   {
    "duration": 6,
    "start_time": "2023-09-22T13:27:06.758Z"
   },
   {
    "duration": 3,
    "start_time": "2023-09-22T13:27:08.822Z"
   },
   {
    "duration": 213,
    "start_time": "2023-09-22T13:27:10.339Z"
   },
   {
    "duration": 4,
    "start_time": "2023-09-22T13:27:34.339Z"
   },
   {
    "duration": 3,
    "start_time": "2023-09-22T13:27:36.552Z"
   },
   {
    "duration": 94,
    "start_time": "2023-09-22T13:27:38.061Z"
   },
   {
    "duration": 5,
    "start_time": "2023-09-22T13:28:01.114Z"
   },
   {
    "duration": 2,
    "start_time": "2023-09-22T13:28:03.063Z"
   },
   {
    "duration": 395,
    "start_time": "2023-09-22T13:28:04.458Z"
   },
   {
    "duration": 5,
    "start_time": "2023-09-22T13:28:17.334Z"
   },
   {
    "duration": 1347,
    "start_time": "2023-09-22T13:28:49.164Z"
   },
   {
    "duration": 379,
    "start_time": "2023-09-22T13:28:50.512Z"
   },
   {
    "duration": 3,
    "start_time": "2023-09-22T13:28:50.893Z"
   },
   {
    "duration": 343,
    "start_time": "2023-09-22T13:28:50.897Z"
   },
   {
    "duration": 6,
    "start_time": "2023-09-22T13:28:51.250Z"
   },
   {
    "duration": 1201,
    "start_time": "2023-09-22T13:28:51.257Z"
   },
   {
    "duration": 3,
    "start_time": "2023-09-22T13:28:52.460Z"
   },
   {
    "duration": 18,
    "start_time": "2023-09-22T13:28:52.464Z"
   },
   {
    "duration": 13,
    "start_time": "2023-09-22T13:28:52.484Z"
   },
   {
    "duration": 933,
    "start_time": "2023-09-22T13:28:52.498Z"
   },
   {
    "duration": 37,
    "start_time": "2023-09-22T13:28:53.433Z"
   },
   {
    "duration": 6,
    "start_time": "2023-09-22T13:28:53.472Z"
   },
   {
    "duration": 27,
    "start_time": "2023-09-22T13:28:53.479Z"
   },
   {
    "duration": 10,
    "start_time": "2023-09-22T13:28:53.509Z"
   },
   {
    "duration": 10,
    "start_time": "2023-09-22T13:28:53.520Z"
   },
   {
    "duration": 2,
    "start_time": "2023-09-22T13:28:53.550Z"
   },
   {
    "duration": 106,
    "start_time": "2023-09-22T13:28:53.554Z"
   },
   {
    "duration": 0,
    "start_time": "2023-09-22T13:28:53.661Z"
   },
   {
    "duration": 0,
    "start_time": "2023-09-22T13:28:53.662Z"
   },
   {
    "duration": 0,
    "start_time": "2023-09-22T13:28:53.663Z"
   },
   {
    "duration": 0,
    "start_time": "2023-09-22T13:28:53.664Z"
   },
   {
    "duration": 0,
    "start_time": "2023-09-22T13:28:53.665Z"
   },
   {
    "duration": 0,
    "start_time": "2023-09-22T13:28:53.666Z"
   },
   {
    "duration": 0,
    "start_time": "2023-09-22T13:28:53.667Z"
   },
   {
    "duration": 0,
    "start_time": "2023-09-22T13:28:53.668Z"
   },
   {
    "duration": 0,
    "start_time": "2023-09-22T13:28:53.669Z"
   },
   {
    "duration": 0,
    "start_time": "2023-09-22T13:28:53.671Z"
   },
   {
    "duration": 0,
    "start_time": "2023-09-22T13:28:53.671Z"
   },
   {
    "duration": 0,
    "start_time": "2023-09-22T13:28:53.672Z"
   },
   {
    "duration": 0,
    "start_time": "2023-09-22T13:28:53.673Z"
   },
   {
    "duration": 0,
    "start_time": "2023-09-22T13:28:53.674Z"
   },
   {
    "duration": 0,
    "start_time": "2023-09-22T13:28:53.676Z"
   },
   {
    "duration": 0,
    "start_time": "2023-09-22T13:28:53.676Z"
   },
   {
    "duration": 0,
    "start_time": "2023-09-22T13:28:53.677Z"
   },
   {
    "duration": 0,
    "start_time": "2023-09-22T13:28:53.678Z"
   },
   {
    "duration": 0,
    "start_time": "2023-09-22T13:28:53.679Z"
   },
   {
    "duration": 4,
    "start_time": "2023-09-22T13:29:34.390Z"
   },
   {
    "duration": 2,
    "start_time": "2023-09-22T13:29:37.031Z"
   },
   {
    "duration": 10,
    "start_time": "2023-09-22T13:29:38.459Z"
   },
   {
    "duration": 10,
    "start_time": "2023-09-22T13:29:39.215Z"
   },
   {
    "duration": 11,
    "start_time": "2023-09-22T13:29:43.630Z"
   },
   {
    "duration": 10,
    "start_time": "2023-09-22T13:29:44.330Z"
   },
   {
    "duration": 1419,
    "start_time": "2023-09-22T13:29:54.181Z"
   },
   {
    "duration": 405,
    "start_time": "2023-09-22T13:29:55.602Z"
   },
   {
    "duration": 4,
    "start_time": "2023-09-22T13:29:56.010Z"
   },
   {
    "duration": 375,
    "start_time": "2023-09-22T13:29:56.016Z"
   },
   {
    "duration": 5,
    "start_time": "2023-09-22T13:29:56.393Z"
   },
   {
    "duration": 1293,
    "start_time": "2023-09-22T13:29:56.399Z"
   },
   {
    "duration": 3,
    "start_time": "2023-09-22T13:29:57.693Z"
   },
   {
    "duration": 56,
    "start_time": "2023-09-22T13:29:57.698Z"
   },
   {
    "duration": 8,
    "start_time": "2023-09-22T13:29:57.756Z"
   },
   {
    "duration": 889,
    "start_time": "2023-09-22T13:29:57.765Z"
   },
   {
    "duration": 27,
    "start_time": "2023-09-22T13:29:58.655Z"
   },
   {
    "duration": 4,
    "start_time": "2023-09-22T13:29:58.683Z"
   },
   {
    "duration": 65,
    "start_time": "2023-09-22T13:29:58.688Z"
   },
   {
    "duration": 10,
    "start_time": "2023-09-22T13:29:58.756Z"
   },
   {
    "duration": 35,
    "start_time": "2023-09-22T13:29:58.769Z"
   },
   {
    "duration": 24,
    "start_time": "2023-09-22T13:29:58.805Z"
   },
   {
    "duration": 140,
    "start_time": "2023-09-22T13:29:58.830Z"
   },
   {
    "duration": 0,
    "start_time": "2023-09-22T13:29:58.972Z"
   },
   {
    "duration": 0,
    "start_time": "2023-09-22T13:29:58.973Z"
   },
   {
    "duration": 0,
    "start_time": "2023-09-22T13:29:58.975Z"
   },
   {
    "duration": 0,
    "start_time": "2023-09-22T13:29:58.976Z"
   },
   {
    "duration": 0,
    "start_time": "2023-09-22T13:29:58.978Z"
   },
   {
    "duration": 0,
    "start_time": "2023-09-22T13:29:58.979Z"
   },
   {
    "duration": 0,
    "start_time": "2023-09-22T13:29:58.980Z"
   },
   {
    "duration": 0,
    "start_time": "2023-09-22T13:29:58.982Z"
   },
   {
    "duration": 0,
    "start_time": "2023-09-22T13:29:58.983Z"
   },
   {
    "duration": 0,
    "start_time": "2023-09-22T13:29:58.984Z"
   },
   {
    "duration": 0,
    "start_time": "2023-09-22T13:29:58.985Z"
   },
   {
    "duration": 0,
    "start_time": "2023-09-22T13:29:58.987Z"
   },
   {
    "duration": 0,
    "start_time": "2023-09-22T13:29:58.988Z"
   },
   {
    "duration": 0,
    "start_time": "2023-09-22T13:29:58.990Z"
   },
   {
    "duration": 0,
    "start_time": "2023-09-22T13:29:58.991Z"
   },
   {
    "duration": 0,
    "start_time": "2023-09-22T13:29:58.992Z"
   },
   {
    "duration": 0,
    "start_time": "2023-09-22T13:29:58.993Z"
   },
   {
    "duration": 0,
    "start_time": "2023-09-22T13:29:58.995Z"
   },
   {
    "duration": 0,
    "start_time": "2023-09-22T13:29:58.996Z"
   },
   {
    "duration": 4,
    "start_time": "2023-09-22T13:31:51.745Z"
   },
   {
    "duration": 3,
    "start_time": "2023-09-22T13:31:54.494Z"
   },
   {
    "duration": 13,
    "start_time": "2023-09-22T13:31:55.775Z"
   },
   {
    "duration": 1476,
    "start_time": "2023-09-22T13:32:03.546Z"
   },
   {
    "duration": 378,
    "start_time": "2023-09-22T13:32:05.024Z"
   },
   {
    "duration": 3,
    "start_time": "2023-09-22T13:32:05.404Z"
   },
   {
    "duration": 346,
    "start_time": "2023-09-22T13:32:05.409Z"
   },
   {
    "duration": 4,
    "start_time": "2023-09-22T13:32:05.757Z"
   },
   {
    "duration": 1323,
    "start_time": "2023-09-22T13:32:05.763Z"
   },
   {
    "duration": 4,
    "start_time": "2023-09-22T13:32:07.088Z"
   },
   {
    "duration": 27,
    "start_time": "2023-09-22T13:32:07.094Z"
   },
   {
    "duration": 11,
    "start_time": "2023-09-22T13:32:07.123Z"
   },
   {
    "duration": 900,
    "start_time": "2023-09-22T13:32:07.138Z"
   },
   {
    "duration": 32,
    "start_time": "2023-09-22T13:32:08.040Z"
   },
   {
    "duration": 15,
    "start_time": "2023-09-22T13:32:08.074Z"
   },
   {
    "duration": 54,
    "start_time": "2023-09-22T13:32:08.090Z"
   },
   {
    "duration": 12,
    "start_time": "2023-09-22T13:32:08.145Z"
   },
   {
    "duration": 57,
    "start_time": "2023-09-22T13:32:08.159Z"
   },
   {
    "duration": 45,
    "start_time": "2023-09-22T13:32:08.218Z"
   },
   {
    "duration": 129,
    "start_time": "2023-09-22T13:32:08.268Z"
   },
   {
    "duration": 0,
    "start_time": "2023-09-22T13:32:08.399Z"
   },
   {
    "duration": 0,
    "start_time": "2023-09-22T13:32:08.400Z"
   },
   {
    "duration": 0,
    "start_time": "2023-09-22T13:32:08.400Z"
   },
   {
    "duration": 0,
    "start_time": "2023-09-22T13:32:08.402Z"
   },
   {
    "duration": 0,
    "start_time": "2023-09-22T13:32:08.403Z"
   },
   {
    "duration": 0,
    "start_time": "2023-09-22T13:32:08.404Z"
   },
   {
    "duration": 0,
    "start_time": "2023-09-22T13:32:08.405Z"
   },
   {
    "duration": 0,
    "start_time": "2023-09-22T13:32:08.406Z"
   },
   {
    "duration": 0,
    "start_time": "2023-09-22T13:32:08.407Z"
   },
   {
    "duration": 0,
    "start_time": "2023-09-22T13:32:08.408Z"
   },
   {
    "duration": 0,
    "start_time": "2023-09-22T13:32:08.409Z"
   },
   {
    "duration": 0,
    "start_time": "2023-09-22T13:32:08.410Z"
   },
   {
    "duration": 0,
    "start_time": "2023-09-22T13:32:08.411Z"
   },
   {
    "duration": 0,
    "start_time": "2023-09-22T13:32:08.412Z"
   },
   {
    "duration": 0,
    "start_time": "2023-09-22T13:32:08.413Z"
   },
   {
    "duration": 0,
    "start_time": "2023-09-22T13:32:08.414Z"
   },
   {
    "duration": 0,
    "start_time": "2023-09-22T13:32:08.415Z"
   },
   {
    "duration": 0,
    "start_time": "2023-09-22T13:32:08.416Z"
   },
   {
    "duration": 0,
    "start_time": "2023-09-22T13:32:08.417Z"
   },
   {
    "duration": 5,
    "start_time": "2023-09-22T13:34:00.519Z"
   },
   {
    "duration": 3,
    "start_time": "2023-09-22T13:34:02.439Z"
   },
   {
    "duration": 149,
    "start_time": "2023-09-22T13:34:04.012Z"
   },
   {
    "duration": 6,
    "start_time": "2023-09-22T13:34:56.169Z"
   },
   {
    "duration": 6,
    "start_time": "2023-09-22T13:35:20.587Z"
   },
   {
    "duration": 97,
    "start_time": "2023-09-22T13:35:23.061Z"
   },
   {
    "duration": 4,
    "start_time": "2023-09-22T13:35:27.637Z"
   },
   {
    "duration": 5,
    "start_time": "2023-09-22T13:35:50.159Z"
   },
   {
    "duration": 2,
    "start_time": "2023-09-22T13:35:57.537Z"
   },
   {
    "duration": 3,
    "start_time": "2023-09-22T13:35:59.363Z"
   },
   {
    "duration": 77,
    "start_time": "2023-09-22T13:36:02.581Z"
   },
   {
    "duration": 1272,
    "start_time": "2023-09-22T13:36:09.107Z"
   },
   {
    "duration": 373,
    "start_time": "2023-09-22T13:36:10.381Z"
   },
   {
    "duration": 3,
    "start_time": "2023-09-22T13:36:10.756Z"
   },
   {
    "duration": 321,
    "start_time": "2023-09-22T13:36:10.761Z"
   },
   {
    "duration": 4,
    "start_time": "2023-09-22T13:36:11.084Z"
   },
   {
    "duration": 1161,
    "start_time": "2023-09-22T13:36:11.089Z"
   },
   {
    "duration": 2,
    "start_time": "2023-09-22T13:36:12.252Z"
   },
   {
    "duration": 13,
    "start_time": "2023-09-22T13:36:12.256Z"
   },
   {
    "duration": 6,
    "start_time": "2023-09-22T13:36:12.271Z"
   },
   {
    "duration": 870,
    "start_time": "2023-09-22T13:36:12.279Z"
   },
   {
    "duration": 26,
    "start_time": "2023-09-22T13:36:13.151Z"
   },
   {
    "duration": 3,
    "start_time": "2023-09-22T13:36:13.179Z"
   },
   {
    "duration": 36,
    "start_time": "2023-09-22T13:36:13.184Z"
   },
   {
    "duration": 10,
    "start_time": "2023-09-22T13:36:13.221Z"
   },
   {
    "duration": 20,
    "start_time": "2023-09-22T13:36:13.232Z"
   },
   {
    "duration": 10,
    "start_time": "2023-09-22T13:36:13.254Z"
   },
   {
    "duration": 17,
    "start_time": "2023-09-22T13:36:13.265Z"
   },
   {
    "duration": 335,
    "start_time": "2023-09-22T13:36:13.283Z"
   },
   {
    "duration": 0,
    "start_time": "2023-09-22T13:36:13.620Z"
   },
   {
    "duration": 0,
    "start_time": "2023-09-22T13:36:13.622Z"
   },
   {
    "duration": 0,
    "start_time": "2023-09-22T13:36:13.623Z"
   },
   {
    "duration": 0,
    "start_time": "2023-09-22T13:36:13.624Z"
   },
   {
    "duration": 0,
    "start_time": "2023-09-22T13:36:13.625Z"
   },
   {
    "duration": 0,
    "start_time": "2023-09-22T13:36:13.626Z"
   },
   {
    "duration": 0,
    "start_time": "2023-09-22T13:36:13.627Z"
   },
   {
    "duration": 0,
    "start_time": "2023-09-22T13:36:13.628Z"
   },
   {
    "duration": 1,
    "start_time": "2023-09-22T13:36:13.629Z"
   },
   {
    "duration": 0,
    "start_time": "2023-09-22T13:36:13.630Z"
   },
   {
    "duration": 0,
    "start_time": "2023-09-22T13:36:13.632Z"
   },
   {
    "duration": 0,
    "start_time": "2023-09-22T13:36:13.650Z"
   },
   {
    "duration": 0,
    "start_time": "2023-09-22T13:36:13.651Z"
   },
   {
    "duration": 0,
    "start_time": "2023-09-22T13:36:13.652Z"
   },
   {
    "duration": 0,
    "start_time": "2023-09-22T13:36:13.653Z"
   },
   {
    "duration": 0,
    "start_time": "2023-09-22T13:36:13.654Z"
   },
   {
    "duration": 0,
    "start_time": "2023-09-22T13:36:13.655Z"
   },
   {
    "duration": 0,
    "start_time": "2023-09-22T13:36:13.655Z"
   },
   {
    "duration": 0,
    "start_time": "2023-09-22T13:36:13.656Z"
   },
   {
    "duration": 8,
    "start_time": "2023-09-22T13:36:49.700Z"
   },
   {
    "duration": 1361,
    "start_time": "2023-09-22T13:38:03.635Z"
   },
   {
    "duration": 370,
    "start_time": "2023-09-22T13:38:04.998Z"
   },
   {
    "duration": 3,
    "start_time": "2023-09-22T13:38:05.370Z"
   },
   {
    "duration": 402,
    "start_time": "2023-09-22T13:38:05.375Z"
   },
   {
    "duration": 4,
    "start_time": "2023-09-22T13:38:05.778Z"
   },
   {
    "duration": 1221,
    "start_time": "2023-09-22T13:38:05.784Z"
   },
   {
    "duration": 3,
    "start_time": "2023-09-22T13:38:07.007Z"
   },
   {
    "duration": 17,
    "start_time": "2023-09-22T13:38:07.011Z"
   },
   {
    "duration": 29,
    "start_time": "2023-09-22T13:38:07.029Z"
   },
   {
    "duration": 861,
    "start_time": "2023-09-22T13:38:07.060Z"
   },
   {
    "duration": 36,
    "start_time": "2023-09-22T13:38:07.922Z"
   },
   {
    "duration": 4,
    "start_time": "2023-09-22T13:38:07.960Z"
   },
   {
    "duration": 25,
    "start_time": "2023-09-22T13:38:07.965Z"
   },
   {
    "duration": 9,
    "start_time": "2023-09-22T13:38:07.992Z"
   },
   {
    "duration": 8,
    "start_time": "2023-09-22T13:38:08.003Z"
   },
   {
    "duration": 32,
    "start_time": "2023-09-22T13:38:08.013Z"
   },
   {
    "duration": 129,
    "start_time": "2023-09-22T13:38:08.046Z"
   },
   {
    "duration": 0,
    "start_time": "2023-09-22T13:38:08.176Z"
   },
   {
    "duration": 0,
    "start_time": "2023-09-22T13:38:08.178Z"
   },
   {
    "duration": 0,
    "start_time": "2023-09-22T13:38:08.179Z"
   },
   {
    "duration": 0,
    "start_time": "2023-09-22T13:38:08.181Z"
   },
   {
    "duration": 0,
    "start_time": "2023-09-22T13:38:08.182Z"
   },
   {
    "duration": 0,
    "start_time": "2023-09-22T13:38:08.183Z"
   },
   {
    "duration": 1,
    "start_time": "2023-09-22T13:38:08.184Z"
   },
   {
    "duration": 0,
    "start_time": "2023-09-22T13:38:08.186Z"
   },
   {
    "duration": 0,
    "start_time": "2023-09-22T13:38:08.187Z"
   },
   {
    "duration": 0,
    "start_time": "2023-09-22T13:38:08.188Z"
   },
   {
    "duration": 0,
    "start_time": "2023-09-22T13:38:08.189Z"
   },
   {
    "duration": 0,
    "start_time": "2023-09-22T13:38:08.190Z"
   },
   {
    "duration": 0,
    "start_time": "2023-09-22T13:38:08.191Z"
   },
   {
    "duration": 0,
    "start_time": "2023-09-22T13:38:08.192Z"
   },
   {
    "duration": 0,
    "start_time": "2023-09-22T13:38:08.193Z"
   },
   {
    "duration": 0,
    "start_time": "2023-09-22T13:38:08.194Z"
   },
   {
    "duration": 0,
    "start_time": "2023-09-22T13:38:08.195Z"
   },
   {
    "duration": 0,
    "start_time": "2023-09-22T13:38:08.196Z"
   },
   {
    "duration": 0,
    "start_time": "2023-09-22T13:38:08.198Z"
   },
   {
    "duration": 1384,
    "start_time": "2023-09-22T13:39:00.940Z"
   },
   {
    "duration": 377,
    "start_time": "2023-09-22T13:39:02.325Z"
   },
   {
    "duration": 3,
    "start_time": "2023-09-22T13:39:02.704Z"
   },
   {
    "duration": 360,
    "start_time": "2023-09-22T13:39:02.709Z"
   },
   {
    "duration": 5,
    "start_time": "2023-09-22T13:39:03.071Z"
   },
   {
    "duration": 1153,
    "start_time": "2023-09-22T13:39:03.077Z"
   },
   {
    "duration": 3,
    "start_time": "2023-09-22T13:39:04.231Z"
   },
   {
    "duration": 23,
    "start_time": "2023-09-22T13:39:04.235Z"
   },
   {
    "duration": 10,
    "start_time": "2023-09-22T13:39:04.260Z"
   },
   {
    "duration": 880,
    "start_time": "2023-09-22T13:39:04.272Z"
   },
   {
    "duration": 26,
    "start_time": "2023-09-22T13:39:05.154Z"
   },
   {
    "duration": 36,
    "start_time": "2023-09-22T13:39:05.181Z"
   },
   {
    "duration": 58,
    "start_time": "2023-09-22T13:39:05.219Z"
   },
   {
    "duration": 11,
    "start_time": "2023-09-22T13:39:05.278Z"
   },
   {
    "duration": 27,
    "start_time": "2023-09-22T13:39:05.290Z"
   },
   {
    "duration": 38,
    "start_time": "2023-09-22T13:39:05.318Z"
   },
   {
    "duration": 274,
    "start_time": "2023-09-22T13:39:05.357Z"
   },
   {
    "duration": 0,
    "start_time": "2023-09-22T13:39:05.633Z"
   },
   {
    "duration": 0,
    "start_time": "2023-09-22T13:39:05.634Z"
   },
   {
    "duration": 0,
    "start_time": "2023-09-22T13:39:05.635Z"
   },
   {
    "duration": 0,
    "start_time": "2023-09-22T13:39:05.649Z"
   },
   {
    "duration": 0,
    "start_time": "2023-09-22T13:39:05.650Z"
   },
   {
    "duration": 0,
    "start_time": "2023-09-22T13:39:05.652Z"
   },
   {
    "duration": 0,
    "start_time": "2023-09-22T13:39:05.653Z"
   },
   {
    "duration": 0,
    "start_time": "2023-09-22T13:39:05.654Z"
   },
   {
    "duration": 0,
    "start_time": "2023-09-22T13:39:05.655Z"
   },
   {
    "duration": 0,
    "start_time": "2023-09-22T13:39:05.656Z"
   },
   {
    "duration": 0,
    "start_time": "2023-09-22T13:39:05.657Z"
   },
   {
    "duration": 0,
    "start_time": "2023-09-22T13:39:05.658Z"
   },
   {
    "duration": 0,
    "start_time": "2023-09-22T13:39:05.659Z"
   },
   {
    "duration": 0,
    "start_time": "2023-09-22T13:39:05.660Z"
   },
   {
    "duration": 0,
    "start_time": "2023-09-22T13:39:05.661Z"
   },
   {
    "duration": 0,
    "start_time": "2023-09-22T13:39:05.662Z"
   },
   {
    "duration": 0,
    "start_time": "2023-09-22T13:39:05.663Z"
   },
   {
    "duration": 0,
    "start_time": "2023-09-22T13:39:05.664Z"
   },
   {
    "duration": 0,
    "start_time": "2023-09-22T13:39:05.665Z"
   },
   {
    "duration": 48,
    "start_time": "2023-09-22T13:39:42.408Z"
   },
   {
    "duration": 419,
    "start_time": "2023-09-22T13:39:56.034Z"
   },
   {
    "duration": 1319,
    "start_time": "2023-09-22T13:42:14.262Z"
   },
   {
    "duration": 403,
    "start_time": "2023-09-22T13:42:15.582Z"
   },
   {
    "duration": 4,
    "start_time": "2023-09-22T13:42:15.986Z"
   },
   {
    "duration": 357,
    "start_time": "2023-09-22T13:42:15.992Z"
   },
   {
    "duration": 7,
    "start_time": "2023-09-22T13:42:16.352Z"
   },
   {
    "duration": 1273,
    "start_time": "2023-09-22T13:42:16.361Z"
   },
   {
    "duration": 3,
    "start_time": "2023-09-22T13:42:17.636Z"
   },
   {
    "duration": 21,
    "start_time": "2023-09-22T13:42:17.640Z"
   },
   {
    "duration": 14,
    "start_time": "2023-09-22T13:42:17.663Z"
   },
   {
    "duration": 975,
    "start_time": "2023-09-22T13:42:17.678Z"
   },
   {
    "duration": 26,
    "start_time": "2023-09-22T13:42:18.654Z"
   },
   {
    "duration": 8,
    "start_time": "2023-09-22T13:42:18.682Z"
   },
   {
    "duration": 44,
    "start_time": "2023-09-22T13:42:18.692Z"
   },
   {
    "duration": 10,
    "start_time": "2023-09-22T13:42:18.738Z"
   },
   {
    "duration": 25,
    "start_time": "2023-09-22T13:42:18.750Z"
   },
   {
    "duration": 29,
    "start_time": "2023-09-22T13:42:18.776Z"
   },
   {
    "duration": 346,
    "start_time": "2023-09-22T13:42:18.806Z"
   },
   {
    "duration": 6,
    "start_time": "2023-09-22T13:42:19.155Z"
   },
   {
    "duration": 607,
    "start_time": "2023-09-22T13:42:19.250Z"
   },
   {
    "duration": 91,
    "start_time": "2023-09-22T13:42:19.859Z"
   },
   {
    "duration": 298,
    "start_time": "2023-09-22T13:42:19.952Z"
   },
   {
    "duration": 97,
    "start_time": "2023-09-22T13:42:20.252Z"
   },
   {
    "duration": 9,
    "start_time": "2023-09-22T13:42:20.351Z"
   },
   {
    "duration": 67,
    "start_time": "2023-09-22T13:42:20.361Z"
   },
   {
    "duration": 32,
    "start_time": "2023-09-22T13:42:20.430Z"
   },
   {
    "duration": 193,
    "start_time": "2023-09-22T13:42:20.464Z"
   },
   {
    "duration": 7,
    "start_time": "2023-09-22T13:42:20.659Z"
   },
   {
    "duration": 29,
    "start_time": "2023-09-22T13:42:20.667Z"
   },
   {
    "duration": 47,
    "start_time": "2023-09-22T13:42:20.698Z"
   },
   {
    "duration": 37,
    "start_time": "2023-09-22T13:42:20.746Z"
   },
   {
    "duration": 55,
    "start_time": "2023-09-22T13:42:20.784Z"
   },
   {
    "duration": 28,
    "start_time": "2023-09-22T13:42:20.841Z"
   },
   {
    "duration": 65,
    "start_time": "2023-09-22T13:42:20.871Z"
   },
   {
    "duration": 38,
    "start_time": "2023-09-22T13:42:20.938Z"
   },
   {
    "duration": 24,
    "start_time": "2023-09-22T13:42:20.977Z"
   },
   {
    "duration": 123,
    "start_time": "2023-09-22T13:42:21.003Z"
   },
   {
    "duration": 11,
    "start_time": "2023-09-22T13:43:35.885Z"
   },
   {
    "duration": 18,
    "start_time": "2023-09-22T13:43:49.205Z"
   },
   {
    "duration": 11,
    "start_time": "2023-09-22T13:44:25.295Z"
   },
   {
    "duration": 3,
    "start_time": "2023-09-22T14:10:39.705Z"
   },
   {
    "duration": 130,
    "start_time": "2023-09-22T14:11:21.634Z"
   },
   {
    "duration": 18,
    "start_time": "2023-09-22T14:11:56.088Z"
   },
   {
    "duration": 8,
    "start_time": "2023-09-22T14:12:13.447Z"
   },
   {
    "duration": 3,
    "start_time": "2023-09-22T14:12:55.471Z"
   },
   {
    "duration": 1969,
    "start_time": "2023-09-22T14:12:56.793Z"
   },
   {
    "duration": 4,
    "start_time": "2023-09-22T14:13:25.215Z"
   },
   {
    "duration": 3,
    "start_time": "2023-09-22T14:14:20.546Z"
   },
   {
    "duration": 2052,
    "start_time": "2023-09-22T14:14:22.790Z"
   },
   {
    "duration": 4,
    "start_time": "2023-09-22T14:19:13.181Z"
   },
   {
    "duration": 8,
    "start_time": "2023-09-22T14:19:39.867Z"
   },
   {
    "duration": 4,
    "start_time": "2023-09-22T14:20:07.972Z"
   },
   {
    "duration": 8,
    "start_time": "2023-09-22T14:20:09.486Z"
   },
   {
    "duration": 4,
    "start_time": "2023-09-22T14:20:29.910Z"
   },
   {
    "duration": 7,
    "start_time": "2023-09-22T14:20:31.511Z"
   },
   {
    "duration": 16,
    "start_time": "2023-09-22T14:22:22.623Z"
   },
   {
    "duration": 6,
    "start_time": "2023-09-22T14:22:26.400Z"
   },
   {
    "duration": 17,
    "start_time": "2023-09-22T14:22:27.673Z"
   },
   {
    "duration": 4,
    "start_time": "2023-09-22T14:22:53.537Z"
   },
   {
    "duration": 18,
    "start_time": "2023-09-22T14:22:54.954Z"
   },
   {
    "duration": 90,
    "start_time": "2023-09-22T14:58:11.470Z"
   },
   {
    "duration": 6,
    "start_time": "2023-09-22T14:58:40.671Z"
   },
   {
    "duration": 13,
    "start_time": "2023-09-22T14:59:20.589Z"
   },
   {
    "duration": 10,
    "start_time": "2023-09-22T14:59:45.702Z"
   },
   {
    "duration": 13,
    "start_time": "2023-09-22T14:59:47.324Z"
   },
   {
    "duration": 13,
    "start_time": "2023-09-22T15:00:00.806Z"
   },
   {
    "duration": 7,
    "start_time": "2023-09-22T15:00:22.196Z"
   },
   {
    "duration": 13,
    "start_time": "2023-09-22T15:00:23.584Z"
   },
   {
    "duration": 1407,
    "start_time": "2023-09-22T15:00:44.711Z"
   },
   {
    "duration": 416,
    "start_time": "2023-09-22T15:00:46.120Z"
   },
   {
    "duration": 4,
    "start_time": "2023-09-22T15:00:46.539Z"
   },
   {
    "duration": 372,
    "start_time": "2023-09-22T15:00:46.550Z"
   },
   {
    "duration": 3,
    "start_time": "2023-09-22T15:00:46.924Z"
   },
   {
    "duration": 1181,
    "start_time": "2023-09-22T15:00:46.929Z"
   },
   {
    "duration": 3,
    "start_time": "2023-09-22T15:00:48.112Z"
   },
   {
    "duration": 44,
    "start_time": "2023-09-22T15:00:48.116Z"
   },
   {
    "duration": 34,
    "start_time": "2023-09-22T15:00:48.162Z"
   },
   {
    "duration": 961,
    "start_time": "2023-09-22T15:00:48.198Z"
   },
   {
    "duration": 26,
    "start_time": "2023-09-22T15:00:49.160Z"
   },
   {
    "duration": 13,
    "start_time": "2023-09-22T15:00:49.188Z"
   },
   {
    "duration": 35,
    "start_time": "2023-09-22T15:00:49.203Z"
   },
   {
    "duration": 13,
    "start_time": "2023-09-22T15:00:49.239Z"
   },
   {
    "duration": 9,
    "start_time": "2023-09-22T15:00:49.253Z"
   },
   {
    "duration": 17,
    "start_time": "2023-09-22T15:00:49.263Z"
   },
   {
    "duration": 377,
    "start_time": "2023-09-22T15:00:49.281Z"
   },
   {
    "duration": 4,
    "start_time": "2023-09-22T15:00:49.750Z"
   },
   {
    "duration": 696,
    "start_time": "2023-09-22T15:00:49.756Z"
   },
   {
    "duration": 6,
    "start_time": "2023-09-22T15:00:50.454Z"
   },
   {
    "duration": 300,
    "start_time": "2023-09-22T15:00:50.550Z"
   },
   {
    "duration": 98,
    "start_time": "2023-09-22T15:00:50.853Z"
   },
   {
    "duration": 20,
    "start_time": "2023-09-22T15:00:50.953Z"
   },
   {
    "duration": 39,
    "start_time": "2023-09-22T15:00:50.975Z"
   },
   {
    "duration": 60,
    "start_time": "2023-09-22T15:00:51.015Z"
   },
   {
    "duration": 8,
    "start_time": "2023-09-22T15:00:51.077Z"
   },
   {
    "duration": 63,
    "start_time": "2023-09-22T15:00:51.087Z"
   },
   {
    "duration": 97,
    "start_time": "2023-09-22T15:00:51.155Z"
   },
   {
    "duration": 110,
    "start_time": "2023-09-22T15:00:51.254Z"
   },
   {
    "duration": 15,
    "start_time": "2023-09-22T15:00:51.366Z"
   },
   {
    "duration": 28,
    "start_time": "2023-09-22T15:00:51.383Z"
   },
   {
    "duration": 28,
    "start_time": "2023-09-22T15:00:51.413Z"
   },
   {
    "duration": 29,
    "start_time": "2023-09-22T15:00:51.443Z"
   },
   {
    "duration": 21,
    "start_time": "2023-09-22T15:00:51.473Z"
   },
   {
    "duration": 17,
    "start_time": "2023-09-22T15:00:51.496Z"
   },
   {
    "duration": 4,
    "start_time": "2023-09-22T15:00:51.515Z"
   },
   {
    "duration": 44,
    "start_time": "2023-09-22T15:00:51.521Z"
   },
   {
    "duration": 18,
    "start_time": "2023-09-22T15:00:51.566Z"
   },
   {
    "duration": 136,
    "start_time": "2023-09-22T15:00:51.585Z"
   },
   {
    "duration": 6,
    "start_time": "2023-09-22T15:01:12.170Z"
   },
   {
    "duration": 15,
    "start_time": "2023-09-22T15:01:13.168Z"
   },
   {
    "duration": 6,
    "start_time": "2023-09-22T15:01:26.738Z"
   },
   {
    "duration": 1067,
    "start_time": "2023-09-22T15:01:29.284Z"
   },
   {
    "duration": 7,
    "start_time": "2023-09-22T15:03:13.172Z"
   },
   {
    "duration": 1190,
    "start_time": "2023-09-22T15:03:15.860Z"
   },
   {
    "duration": 8,
    "start_time": "2023-09-22T15:03:53.990Z"
   },
   {
    "duration": 1159,
    "start_time": "2023-09-22T15:03:55.310Z"
   },
   {
    "duration": 3051,
    "start_time": "2023-09-22T15:07:40.479Z"
   },
   {
    "duration": 1914,
    "start_time": "2023-09-22T17:08:53.945Z"
   },
   {
    "duration": 2221,
    "start_time": "2023-09-22T17:08:55.862Z"
   },
   {
    "duration": 5,
    "start_time": "2023-09-22T17:08:58.086Z"
   },
   {
    "duration": 457,
    "start_time": "2023-09-22T17:08:58.093Z"
   },
   {
    "duration": 5,
    "start_time": "2023-09-22T17:08:58.556Z"
   },
   {
    "duration": 1909,
    "start_time": "2023-09-22T17:08:58.562Z"
   },
   {
    "duration": 3,
    "start_time": "2023-09-22T17:09:00.473Z"
   },
   {
    "duration": 88,
    "start_time": "2023-09-22T17:09:00.478Z"
   },
   {
    "duration": 65,
    "start_time": "2023-09-22T17:09:00.568Z"
   },
   {
    "duration": 1148,
    "start_time": "2023-09-22T17:09:00.635Z"
   },
   {
    "duration": 32,
    "start_time": "2023-09-22T17:09:01.784Z"
   },
   {
    "duration": 56,
    "start_time": "2023-09-22T17:09:01.818Z"
   },
   {
    "duration": 66,
    "start_time": "2023-09-22T17:09:01.876Z"
   },
   {
    "duration": 13,
    "start_time": "2023-09-22T17:09:01.946Z"
   },
   {
    "duration": 45,
    "start_time": "2023-09-22T17:09:01.961Z"
   },
   {
    "duration": 86,
    "start_time": "2023-09-22T17:09:02.008Z"
   },
   {
    "duration": 571,
    "start_time": "2023-09-22T17:09:02.096Z"
   },
   {
    "duration": 7,
    "start_time": "2023-09-22T17:09:02.670Z"
   },
   {
    "duration": 713,
    "start_time": "2023-09-22T17:09:02.758Z"
   },
   {
    "duration": 5,
    "start_time": "2023-09-22T17:09:03.557Z"
   },
   {
    "duration": 391,
    "start_time": "2023-09-22T17:09:03.564Z"
   },
   {
    "duration": 99,
    "start_time": "2023-09-22T17:09:03.965Z"
   },
   {
    "duration": 24,
    "start_time": "2023-09-22T17:09:04.066Z"
   },
   {
    "duration": 19,
    "start_time": "2023-09-22T17:09:04.092Z"
   },
   {
    "duration": 44,
    "start_time": "2023-09-22T17:09:04.113Z"
   },
   {
    "duration": 27,
    "start_time": "2023-09-22T17:09:04.160Z"
   },
   {
    "duration": 63,
    "start_time": "2023-09-22T17:09:04.195Z"
   },
   {
    "duration": 5,
    "start_time": "2023-09-22T17:09:04.259Z"
   },
   {
    "duration": 103,
    "start_time": "2023-09-22T17:09:04.266Z"
   },
   {
    "duration": 12,
    "start_time": "2023-09-22T17:09:04.372Z"
   },
   {
    "duration": 14,
    "start_time": "2023-09-22T17:09:04.388Z"
   },
   {
    "duration": 14,
    "start_time": "2023-09-22T17:09:04.403Z"
   },
   {
    "duration": 54,
    "start_time": "2023-09-22T17:09:04.419Z"
   },
   {
    "duration": 22,
    "start_time": "2023-09-22T17:09:04.475Z"
   },
   {
    "duration": 18,
    "start_time": "2023-09-22T17:09:04.499Z"
   },
   {
    "duration": 42,
    "start_time": "2023-09-22T17:09:04.518Z"
   },
   {
    "duration": 32,
    "start_time": "2023-09-22T17:09:04.562Z"
   },
   {
    "duration": 9,
    "start_time": "2023-09-22T17:09:04.595Z"
   },
   {
    "duration": 3779,
    "start_time": "2023-09-22T17:09:04.605Z"
   },
   {
    "duration": 1701,
    "start_time": "2023-09-22T17:09:38.800Z"
   },
   {
    "duration": 454,
    "start_time": "2023-09-22T17:09:40.503Z"
   },
   {
    "duration": 5,
    "start_time": "2023-09-22T17:09:40.960Z"
   },
   {
    "duration": 462,
    "start_time": "2023-09-22T17:09:40.970Z"
   },
   {
    "duration": 5,
    "start_time": "2023-09-22T17:09:41.434Z"
   },
   {
    "duration": 1671,
    "start_time": "2023-09-22T17:09:41.441Z"
   },
   {
    "duration": 3,
    "start_time": "2023-09-22T17:09:43.114Z"
   },
   {
    "duration": 26,
    "start_time": "2023-09-22T17:09:43.119Z"
   },
   {
    "duration": 14,
    "start_time": "2023-09-22T17:09:43.147Z"
   },
   {
    "duration": 1126,
    "start_time": "2023-09-22T17:09:43.166Z"
   },
   {
    "duration": 38,
    "start_time": "2023-09-22T17:09:44.294Z"
   },
   {
    "duration": 4,
    "start_time": "2023-09-22T17:09:44.333Z"
   },
   {
    "duration": 42,
    "start_time": "2023-09-22T17:09:44.339Z"
   },
   {
    "duration": 15,
    "start_time": "2023-09-22T17:09:44.384Z"
   },
   {
    "duration": 7,
    "start_time": "2023-09-22T17:09:44.401Z"
   },
   {
    "duration": 13,
    "start_time": "2023-09-22T17:09:44.410Z"
   },
   {
    "duration": 341,
    "start_time": "2023-09-22T17:09:44.425Z"
   },
   {
    "duration": 89,
    "start_time": "2023-09-22T17:09:44.768Z"
   },
   {
    "duration": 807,
    "start_time": "2023-09-22T17:09:44.859Z"
   },
   {
    "duration": 90,
    "start_time": "2023-09-22T17:09:45.669Z"
   },
   {
    "duration": 395,
    "start_time": "2023-09-22T17:09:45.762Z"
   },
   {
    "duration": 17,
    "start_time": "2023-09-22T17:09:46.160Z"
   },
   {
    "duration": 11,
    "start_time": "2023-09-22T17:09:46.258Z"
   },
   {
    "duration": 13,
    "start_time": "2023-09-22T17:09:46.271Z"
   },
   {
    "duration": 33,
    "start_time": "2023-09-22T17:09:46.286Z"
   },
   {
    "duration": 49,
    "start_time": "2023-09-22T17:09:46.320Z"
   },
   {
    "duration": 95,
    "start_time": "2023-09-22T17:09:46.371Z"
   },
   {
    "duration": 93,
    "start_time": "2023-09-22T17:09:46.564Z"
   },
   {
    "duration": 6,
    "start_time": "2023-09-22T17:09:46.660Z"
   },
   {
    "duration": 17,
    "start_time": "2023-09-22T17:09:46.669Z"
   },
   {
    "duration": 11,
    "start_time": "2023-09-22T17:09:46.689Z"
   },
   {
    "duration": 5,
    "start_time": "2023-09-22T17:09:46.702Z"
   },
   {
    "duration": 32,
    "start_time": "2023-09-22T17:09:46.709Z"
   },
   {
    "duration": 20,
    "start_time": "2023-09-22T17:09:46.757Z"
   },
   {
    "duration": 20,
    "start_time": "2023-09-22T17:09:46.779Z"
   },
   {
    "duration": 7,
    "start_time": "2023-09-22T17:09:46.801Z"
   },
   {
    "duration": 59,
    "start_time": "2023-09-22T17:09:46.809Z"
   },
   {
    "duration": 9,
    "start_time": "2023-09-22T17:09:46.870Z"
   },
   {
    "duration": 3822,
    "start_time": "2023-09-22T17:09:46.881Z"
   },
   {
    "duration": 134,
    "start_time": "2023-09-22T17:10:12.796Z"
   },
   {
    "duration": 5,
    "start_time": "2023-09-22T17:10:24.438Z"
   },
   {
    "duration": 26,
    "start_time": "2023-09-22T17:10:26.319Z"
   },
   {
    "duration": 7,
    "start_time": "2023-09-22T17:46:25.537Z"
   },
   {
    "duration": 10,
    "start_time": "2023-09-22T17:46:34.138Z"
   },
   {
    "duration": 14,
    "start_time": "2023-09-22T17:48:22.348Z"
   },
   {
    "duration": 1648,
    "start_time": "2023-09-22T17:56:08.063Z"
   },
   {
    "duration": 430,
    "start_time": "2023-09-22T17:56:09.713Z"
   },
   {
    "duration": 4,
    "start_time": "2023-09-22T17:56:10.145Z"
   },
   {
    "duration": 554,
    "start_time": "2023-09-22T17:56:10.155Z"
   },
   {
    "duration": 5,
    "start_time": "2023-09-22T17:56:10.711Z"
   },
   {
    "duration": 1477,
    "start_time": "2023-09-22T17:56:10.717Z"
   },
   {
    "duration": 3,
    "start_time": "2023-09-22T17:56:12.196Z"
   },
   {
    "duration": 36,
    "start_time": "2023-09-22T17:56:12.200Z"
   },
   {
    "duration": 27,
    "start_time": "2023-09-22T17:56:12.238Z"
   },
   {
    "duration": 1005,
    "start_time": "2023-09-22T17:56:12.268Z"
   },
   {
    "duration": 30,
    "start_time": "2023-09-22T17:56:13.274Z"
   },
   {
    "duration": 4,
    "start_time": "2023-09-22T17:56:13.307Z"
   },
   {
    "duration": 53,
    "start_time": "2023-09-22T17:56:13.313Z"
   },
   {
    "duration": 11,
    "start_time": "2023-09-22T17:56:13.369Z"
   },
   {
    "duration": 6,
    "start_time": "2023-09-22T17:56:13.383Z"
   },
   {
    "duration": 12,
    "start_time": "2023-09-22T17:56:13.390Z"
   },
   {
    "duration": 463,
    "start_time": "2023-09-22T17:56:13.403Z"
   },
   {
    "duration": 91,
    "start_time": "2023-09-22T17:56:13.869Z"
   },
   {
    "duration": 600,
    "start_time": "2023-09-22T17:56:13.962Z"
   },
   {
    "duration": 93,
    "start_time": "2023-09-22T17:56:14.565Z"
   },
   {
    "duration": 309,
    "start_time": "2023-09-22T17:56:14.660Z"
   },
   {
    "duration": 100,
    "start_time": "2023-09-22T17:56:15.058Z"
   },
   {
    "duration": 29,
    "start_time": "2023-09-22T17:56:15.160Z"
   },
   {
    "duration": 33,
    "start_time": "2023-09-22T17:56:15.191Z"
   },
   {
    "duration": 39,
    "start_time": "2023-09-22T17:56:15.225Z"
   },
   {
    "duration": 10,
    "start_time": "2023-09-22T17:56:15.266Z"
   },
   {
    "duration": 82,
    "start_time": "2023-09-22T17:56:15.278Z"
   },
   {
    "duration": 4,
    "start_time": "2023-09-22T17:56:15.456Z"
   },
   {
    "duration": 94,
    "start_time": "2023-09-22T17:56:15.463Z"
   },
   {
    "duration": 9,
    "start_time": "2023-09-22T17:56:15.559Z"
   },
   {
    "duration": 6,
    "start_time": "2023-09-22T17:56:15.569Z"
   },
   {
    "duration": 11,
    "start_time": "2023-09-22T17:56:15.577Z"
   },
   {
    "duration": 26,
    "start_time": "2023-09-22T17:56:15.590Z"
   },
   {
    "duration": 38,
    "start_time": "2023-09-22T17:56:15.618Z"
   },
   {
    "duration": 17,
    "start_time": "2023-09-22T17:56:15.659Z"
   },
   {
    "duration": 5,
    "start_time": "2023-09-22T17:56:15.678Z"
   },
   {
    "duration": 37,
    "start_time": "2023-09-22T17:56:15.684Z"
   },
   {
    "duration": 36,
    "start_time": "2023-09-22T17:56:15.722Z"
   },
   {
    "duration": 11,
    "start_time": "2023-09-22T17:56:15.760Z"
   },
   {
    "duration": 133,
    "start_time": "2023-09-22T17:56:15.773Z"
   },
   {
    "duration": 3542,
    "start_time": "2023-09-22T17:56:43.499Z"
   },
   {
    "duration": 1526,
    "start_time": "2023-09-22T17:59:36.106Z"
   },
   {
    "duration": 440,
    "start_time": "2023-09-22T17:59:37.634Z"
   },
   {
    "duration": 5,
    "start_time": "2023-09-22T17:59:38.076Z"
   },
   {
    "duration": 404,
    "start_time": "2023-09-22T17:59:38.083Z"
   },
   {
    "duration": 5,
    "start_time": "2023-09-22T17:59:38.489Z"
   },
   {
    "duration": 1608,
    "start_time": "2023-09-22T17:59:38.495Z"
   },
   {
    "duration": 4,
    "start_time": "2023-09-22T17:59:40.105Z"
   },
   {
    "duration": 24,
    "start_time": "2023-09-22T17:59:40.111Z"
   },
   {
    "duration": 16,
    "start_time": "2023-09-22T17:59:40.137Z"
   },
   {
    "duration": 1005,
    "start_time": "2023-09-22T17:59:40.157Z"
   },
   {
    "duration": 31,
    "start_time": "2023-09-22T17:59:41.163Z"
   },
   {
    "duration": 19,
    "start_time": "2023-09-22T17:59:41.196Z"
   },
   {
    "duration": 53,
    "start_time": "2023-09-22T17:59:41.218Z"
   },
   {
    "duration": 19,
    "start_time": "2023-09-22T17:59:41.272Z"
   },
   {
    "duration": 6,
    "start_time": "2023-09-22T17:59:41.293Z"
   },
   {
    "duration": 10,
    "start_time": "2023-09-22T17:59:41.302Z"
   },
   {
    "duration": 350,
    "start_time": "2023-09-22T17:59:41.314Z"
   },
   {
    "duration": 90,
    "start_time": "2023-09-22T17:59:41.667Z"
   },
   {
    "duration": 706,
    "start_time": "2023-09-22T17:59:41.759Z"
   },
   {
    "duration": 91,
    "start_time": "2023-09-22T17:59:42.467Z"
   },
   {
    "duration": 315,
    "start_time": "2023-09-22T17:59:42.560Z"
   },
   {
    "duration": 100,
    "start_time": "2023-09-22T17:59:42.958Z"
   },
   {
    "duration": 10,
    "start_time": "2023-09-22T17:59:43.059Z"
   },
   {
    "duration": 47,
    "start_time": "2023-09-22T17:59:43.070Z"
   },
   {
    "duration": 58,
    "start_time": "2023-09-22T17:59:43.119Z"
   },
   {
    "duration": 9,
    "start_time": "2023-09-22T17:59:43.180Z"
   },
   {
    "duration": 70,
    "start_time": "2023-09-22T17:59:43.191Z"
   },
   {
    "duration": 4,
    "start_time": "2023-09-22T17:59:43.356Z"
   },
   {
    "duration": 95,
    "start_time": "2023-09-22T17:59:43.363Z"
   },
   {
    "duration": 21,
    "start_time": "2023-09-22T17:59:43.460Z"
   },
   {
    "duration": 7,
    "start_time": "2023-09-22T17:59:43.483Z"
   },
   {
    "duration": 8,
    "start_time": "2023-09-22T17:59:43.492Z"
   },
   {
    "duration": 43,
    "start_time": "2023-09-22T17:59:43.502Z"
   },
   {
    "duration": 18,
    "start_time": "2023-09-22T17:59:43.547Z"
   },
   {
    "duration": 19,
    "start_time": "2023-09-22T17:59:43.567Z"
   },
   {
    "duration": 14,
    "start_time": "2023-09-22T17:59:43.588Z"
   },
   {
    "duration": 52,
    "start_time": "2023-09-22T17:59:43.604Z"
   },
   {
    "duration": 14,
    "start_time": "2023-09-22T17:59:43.659Z"
   },
   {
    "duration": 10,
    "start_time": "2023-09-22T17:59:43.675Z"
   },
   {
    "duration": 4011,
    "start_time": "2023-09-22T17:59:43.686Z"
   },
   {
    "duration": 8,
    "start_time": "2023-09-22T18:03:07.105Z"
   },
   {
    "duration": 3800,
    "start_time": "2023-09-22T18:03:09.679Z"
   },
   {
    "duration": 9,
    "start_time": "2023-09-22T18:03:27.456Z"
   },
   {
    "duration": 3995,
    "start_time": "2023-09-22T18:03:30.868Z"
   },
   {
    "duration": 11,
    "start_time": "2023-09-22T18:03:47.655Z"
   },
   {
    "duration": 9,
    "start_time": "2023-09-22T18:04:01.976Z"
   },
   {
    "duration": 10,
    "start_time": "2023-09-22T18:04:06.529Z"
   },
   {
    "duration": 12,
    "start_time": "2023-09-22T18:04:48.955Z"
   },
   {
    "duration": 4011,
    "start_time": "2023-09-22T18:04:56.150Z"
   },
   {
    "duration": 9,
    "start_time": "2023-09-22T18:05:03.039Z"
   },
   {
    "duration": 1641,
    "start_time": "2023-09-22T18:05:20.959Z"
   },
   {
    "duration": 467,
    "start_time": "2023-09-22T18:05:22.602Z"
   },
   {
    "duration": 4,
    "start_time": "2023-09-22T18:05:23.071Z"
   },
   {
    "duration": 429,
    "start_time": "2023-09-22T18:05:23.077Z"
   },
   {
    "duration": 4,
    "start_time": "2023-09-22T18:05:23.508Z"
   },
   {
    "duration": 1616,
    "start_time": "2023-09-22T18:05:23.514Z"
   },
   {
    "duration": 3,
    "start_time": "2023-09-22T18:05:25.132Z"
   },
   {
    "duration": 27,
    "start_time": "2023-09-22T18:05:25.137Z"
   },
   {
    "duration": 9,
    "start_time": "2023-09-22T18:05:25.166Z"
   },
   {
    "duration": 1012,
    "start_time": "2023-09-22T18:05:25.178Z"
   },
   {
    "duration": 32,
    "start_time": "2023-09-22T18:05:26.192Z"
   },
   {
    "duration": 5,
    "start_time": "2023-09-22T18:05:26.226Z"
   },
   {
    "duration": 54,
    "start_time": "2023-09-22T18:05:26.233Z"
   },
   {
    "duration": 12,
    "start_time": "2023-09-22T18:05:26.289Z"
   },
   {
    "duration": 17,
    "start_time": "2023-09-22T18:05:26.303Z"
   },
   {
    "duration": 23,
    "start_time": "2023-09-22T18:05:26.322Z"
   },
   {
    "duration": 513,
    "start_time": "2023-09-22T18:05:26.347Z"
   },
   {
    "duration": 6,
    "start_time": "2023-09-22T18:05:26.862Z"
   },
   {
    "duration": 886,
    "start_time": "2023-09-22T18:05:26.869Z"
   },
   {
    "duration": 4,
    "start_time": "2023-09-22T18:05:27.758Z"
   },
   {
    "duration": 299,
    "start_time": "2023-09-22T18:05:27.763Z"
   },
   {
    "duration": 98,
    "start_time": "2023-09-22T18:05:28.065Z"
   },
   {
    "duration": 12,
    "start_time": "2023-09-22T18:05:28.165Z"
   },
   {
    "duration": 15,
    "start_time": "2023-09-22T18:05:28.179Z"
   },
   {
    "duration": 62,
    "start_time": "2023-09-22T18:05:28.196Z"
   },
   {
    "duration": 10,
    "start_time": "2023-09-22T18:05:28.259Z"
   },
   {
    "duration": 187,
    "start_time": "2023-09-22T18:05:28.270Z"
   },
   {
    "duration": 90,
    "start_time": "2023-09-22T18:05:28.467Z"
   },
   {
    "duration": 32,
    "start_time": "2023-09-22T18:05:28.559Z"
   },
   {
    "duration": 28,
    "start_time": "2023-09-22T18:05:28.593Z"
   },
   {
    "duration": 15,
    "start_time": "2023-09-22T18:05:28.623Z"
   },
   {
    "duration": 19,
    "start_time": "2023-09-22T18:05:28.640Z"
   },
   {
    "duration": 58,
    "start_time": "2023-09-22T18:05:28.661Z"
   },
   {
    "duration": 22,
    "start_time": "2023-09-22T18:05:28.721Z"
   },
   {
    "duration": 17,
    "start_time": "2023-09-22T18:05:28.745Z"
   },
   {
    "duration": 5,
    "start_time": "2023-09-22T18:05:28.764Z"
   },
   {
    "duration": 45,
    "start_time": "2023-09-22T18:05:28.771Z"
   },
   {
    "duration": 17,
    "start_time": "2023-09-22T18:05:28.818Z"
   },
   {
    "duration": 29,
    "start_time": "2023-09-22T18:05:28.837Z"
   },
   {
    "duration": 4041,
    "start_time": "2023-09-22T18:05:28.868Z"
   },
   {
    "duration": 8,
    "start_time": "2023-09-22T18:05:32.911Z"
   },
   {
    "duration": 1597,
    "start_time": "2023-09-22T18:16:32.123Z"
   },
   {
    "duration": 453,
    "start_time": "2023-09-22T18:16:33.722Z"
   },
   {
    "duration": 4,
    "start_time": "2023-09-22T18:16:34.177Z"
   },
   {
    "duration": 429,
    "start_time": "2023-09-22T18:16:34.183Z"
   },
   {
    "duration": 5,
    "start_time": "2023-09-22T18:16:34.613Z"
   },
   {
    "duration": 1545,
    "start_time": "2023-09-22T18:16:34.619Z"
   },
   {
    "duration": 3,
    "start_time": "2023-09-22T18:16:36.165Z"
   },
   {
    "duration": 15,
    "start_time": "2023-09-22T18:16:36.169Z"
   },
   {
    "duration": 7,
    "start_time": "2023-09-22T18:16:36.186Z"
   },
   {
    "duration": 1023,
    "start_time": "2023-09-22T18:16:36.195Z"
   },
   {
    "duration": 45,
    "start_time": "2023-09-22T18:16:37.219Z"
   },
   {
    "duration": 3,
    "start_time": "2023-09-22T18:16:37.266Z"
   },
   {
    "duration": 38,
    "start_time": "2023-09-22T18:16:37.271Z"
   },
   {
    "duration": 11,
    "start_time": "2023-09-22T18:16:37.311Z"
   },
   {
    "duration": 24,
    "start_time": "2023-09-22T18:16:37.324Z"
   },
   {
    "duration": 7,
    "start_time": "2023-09-22T18:16:37.350Z"
   },
   {
    "duration": 405,
    "start_time": "2023-09-22T18:16:37.359Z"
   },
   {
    "duration": 4,
    "start_time": "2023-09-22T18:16:37.856Z"
   },
   {
    "duration": 794,
    "start_time": "2023-09-22T18:16:37.863Z"
   },
   {
    "duration": 4,
    "start_time": "2023-09-22T18:16:38.659Z"
   },
   {
    "duration": 203,
    "start_time": "2023-09-22T18:16:38.665Z"
   },
   {
    "duration": 102,
    "start_time": "2023-09-22T18:16:38.956Z"
   },
   {
    "duration": 16,
    "start_time": "2023-09-22T18:16:39.060Z"
   },
   {
    "duration": 16,
    "start_time": "2023-09-22T18:16:39.078Z"
   },
   {
    "duration": 67,
    "start_time": "2023-09-22T18:16:39.096Z"
   },
   {
    "duration": 11,
    "start_time": "2023-09-22T18:16:39.166Z"
   },
   {
    "duration": 46,
    "start_time": "2023-09-22T18:16:39.179Z"
   },
   {
    "duration": 36,
    "start_time": "2023-09-22T18:16:39.229Z"
   },
   {
    "duration": 6,
    "start_time": "2023-09-22T18:16:39.268Z"
   },
   {
    "duration": 88,
    "start_time": "2023-09-22T18:16:39.276Z"
   },
   {
    "duration": 15,
    "start_time": "2023-09-22T18:16:39.365Z"
   },
   {
    "duration": 18,
    "start_time": "2023-09-22T18:16:39.382Z"
   },
   {
    "duration": 34,
    "start_time": "2023-09-22T18:16:39.403Z"
   },
   {
    "duration": 23,
    "start_time": "2023-09-22T18:16:39.439Z"
   },
   {
    "duration": 19,
    "start_time": "2023-09-22T18:16:39.465Z"
   },
   {
    "duration": 5,
    "start_time": "2023-09-22T18:16:39.485Z"
   },
   {
    "duration": 31,
    "start_time": "2023-09-22T18:16:39.492Z"
   },
   {
    "duration": 39,
    "start_time": "2023-09-22T18:16:39.524Z"
   },
   {
    "duration": 9,
    "start_time": "2023-09-22T18:16:39.565Z"
   },
   {
    "duration": 3937,
    "start_time": "2023-09-22T18:16:39.575Z"
   },
   {
    "duration": 9,
    "start_time": "2023-09-22T18:16:43.514Z"
   },
   {
    "duration": 1533,
    "start_time": "2023-09-22T18:17:42.892Z"
   },
   {
    "duration": 450,
    "start_time": "2023-09-22T18:17:44.427Z"
   },
   {
    "duration": 4,
    "start_time": "2023-09-22T18:17:44.879Z"
   },
   {
    "duration": 445,
    "start_time": "2023-09-22T18:17:44.885Z"
   },
   {
    "duration": 4,
    "start_time": "2023-09-22T18:17:45.332Z"
   },
   {
    "duration": 1633,
    "start_time": "2023-09-22T18:17:45.338Z"
   },
   {
    "duration": 3,
    "start_time": "2023-09-22T18:17:46.973Z"
   },
   {
    "duration": 27,
    "start_time": "2023-09-22T18:17:46.978Z"
   },
   {
    "duration": 14,
    "start_time": "2023-09-22T18:17:47.007Z"
   },
   {
    "duration": 957,
    "start_time": "2023-09-22T18:17:47.025Z"
   },
   {
    "duration": 34,
    "start_time": "2023-09-22T18:17:47.985Z"
   },
   {
    "duration": 16,
    "start_time": "2023-09-22T18:17:48.021Z"
   },
   {
    "duration": 54,
    "start_time": "2023-09-22T18:17:48.040Z"
   },
   {
    "duration": 19,
    "start_time": "2023-09-22T18:17:48.097Z"
   },
   {
    "duration": 9,
    "start_time": "2023-09-22T18:17:48.118Z"
   },
   {
    "duration": 18,
    "start_time": "2023-09-22T18:17:48.129Z"
   },
   {
    "duration": 416,
    "start_time": "2023-09-22T18:17:48.149Z"
   },
   {
    "duration": 92,
    "start_time": "2023-09-22T18:17:48.567Z"
   },
   {
    "duration": 696,
    "start_time": "2023-09-22T18:17:48.661Z"
   },
   {
    "duration": 5,
    "start_time": "2023-09-22T18:17:49.360Z"
   },
   {
    "duration": 298,
    "start_time": "2023-09-22T18:17:49.368Z"
   },
   {
    "duration": 90,
    "start_time": "2023-09-22T18:17:49.668Z"
   },
   {
    "duration": 19,
    "start_time": "2023-09-22T18:17:49.760Z"
   },
   {
    "duration": 15,
    "start_time": "2023-09-22T18:17:49.781Z"
   },
   {
    "duration": 60,
    "start_time": "2023-09-22T18:17:49.798Z"
   },
   {
    "duration": 8,
    "start_time": "2023-09-22T18:17:49.860Z"
   },
   {
    "duration": 16,
    "start_time": "2023-09-22T18:17:49.870Z"
   },
   {
    "duration": 80,
    "start_time": "2023-09-22T18:17:49.890Z"
   },
   {
    "duration": 5,
    "start_time": "2023-09-22T18:17:50.066Z"
   },
   {
    "duration": 13,
    "start_time": "2023-09-22T18:17:50.075Z"
   },
   {
    "duration": 11,
    "start_time": "2023-09-22T18:17:50.091Z"
   },
   {
    "duration": 31,
    "start_time": "2023-09-22T18:17:50.104Z"
   },
   {
    "duration": 29,
    "start_time": "2023-09-22T18:17:50.138Z"
   },
   {
    "duration": 18,
    "start_time": "2023-09-22T18:17:50.168Z"
   },
   {
    "duration": 19,
    "start_time": "2023-09-22T18:17:50.188Z"
   },
   {
    "duration": 7,
    "start_time": "2023-09-22T18:17:50.208Z"
   },
   {
    "duration": 66,
    "start_time": "2023-09-22T18:17:50.217Z"
   },
   {
    "duration": 9,
    "start_time": "2023-09-22T18:17:50.285Z"
   },
   {
    "duration": 10,
    "start_time": "2023-09-22T18:17:50.296Z"
   },
   {
    "duration": 4568,
    "start_time": "2023-09-22T18:17:50.308Z"
   },
   {
    "duration": 12,
    "start_time": "2023-09-22T18:17:54.885Z"
   },
   {
    "duration": 1523,
    "start_time": "2023-09-22T18:19:26.368Z"
   },
   {
    "duration": 457,
    "start_time": "2023-09-22T18:19:27.893Z"
   },
   {
    "duration": 4,
    "start_time": "2023-09-22T18:19:28.352Z"
   },
   {
    "duration": 433,
    "start_time": "2023-09-22T18:19:28.358Z"
   },
   {
    "duration": 7,
    "start_time": "2023-09-22T18:19:28.795Z"
   },
   {
    "duration": 1853,
    "start_time": "2023-09-22T18:19:28.804Z"
   },
   {
    "duration": 3,
    "start_time": "2023-09-22T18:19:30.659Z"
   },
   {
    "duration": 107,
    "start_time": "2023-09-22T18:19:30.664Z"
   },
   {
    "duration": 54,
    "start_time": "2023-09-22T18:19:30.773Z"
   },
   {
    "duration": 1073,
    "start_time": "2023-09-22T18:19:30.830Z"
   },
   {
    "duration": 32,
    "start_time": "2023-09-22T18:19:31.905Z"
   },
   {
    "duration": 19,
    "start_time": "2023-09-22T18:19:31.939Z"
   },
   {
    "duration": 47,
    "start_time": "2023-09-22T18:19:31.960Z"
   },
   {
    "duration": 12,
    "start_time": "2023-09-22T18:19:32.009Z"
   },
   {
    "duration": 23,
    "start_time": "2023-09-22T18:19:32.022Z"
   },
   {
    "duration": 32,
    "start_time": "2023-09-22T18:19:32.047Z"
   },
   {
    "duration": 483,
    "start_time": "2023-09-22T18:19:32.081Z"
   },
   {
    "duration": 5,
    "start_time": "2023-09-22T18:19:32.567Z"
   },
   {
    "duration": 688,
    "start_time": "2023-09-22T18:19:32.574Z"
   },
   {
    "duration": 5,
    "start_time": "2023-09-22T18:19:33.356Z"
   },
   {
    "duration": 508,
    "start_time": "2023-09-22T18:19:33.363Z"
   },
   {
    "duration": 99,
    "start_time": "2023-09-22T18:19:33.959Z"
   },
   {
    "duration": 9,
    "start_time": "2023-09-22T18:19:34.060Z"
   },
   {
    "duration": 14,
    "start_time": "2023-09-22T18:19:34.071Z"
   },
   {
    "duration": 28,
    "start_time": "2023-09-22T18:19:34.086Z"
   },
   {
    "duration": 7,
    "start_time": "2023-09-22T18:19:34.116Z"
   },
   {
    "duration": 101,
    "start_time": "2023-09-22T18:19:34.157Z"
   },
   {
    "duration": 4,
    "start_time": "2023-09-22T18:19:34.263Z"
   },
   {
    "duration": 91,
    "start_time": "2023-09-22T18:19:34.269Z"
   },
   {
    "duration": 13,
    "start_time": "2023-09-22T18:19:34.363Z"
   },
   {
    "duration": 9,
    "start_time": "2023-09-22T18:19:34.377Z"
   },
   {
    "duration": 6,
    "start_time": "2023-09-22T18:19:34.388Z"
   },
   {
    "duration": 32,
    "start_time": "2023-09-22T18:19:34.396Z"
   },
   {
    "duration": 30,
    "start_time": "2023-09-22T18:19:34.430Z"
   },
   {
    "duration": 19,
    "start_time": "2023-09-22T18:19:34.462Z"
   },
   {
    "duration": 6,
    "start_time": "2023-09-22T18:19:34.483Z"
   },
   {
    "duration": 33,
    "start_time": "2023-09-22T18:19:34.491Z"
   },
   {
    "duration": 12,
    "start_time": "2023-09-22T18:19:34.558Z"
   },
   {
    "duration": 11,
    "start_time": "2023-09-22T18:19:34.572Z"
   },
   {
    "duration": 3979,
    "start_time": "2023-09-22T18:19:34.585Z"
   },
   {
    "duration": 9,
    "start_time": "2023-09-22T18:19:38.565Z"
   },
   {
    "duration": 11,
    "start_time": "2023-09-22T18:21:24.317Z"
   },
   {
    "duration": 9,
    "start_time": "2023-09-22T18:21:31.477Z"
   },
   {
    "duration": 10,
    "start_time": "2023-09-22T18:23:00.270Z"
   },
   {
    "duration": 12,
    "start_time": "2023-09-22T18:23:22.248Z"
   },
   {
    "duration": 1559,
    "start_time": "2023-09-22T18:24:04.382Z"
   },
   {
    "duration": 446,
    "start_time": "2023-09-22T18:24:05.943Z"
   },
   {
    "duration": 4,
    "start_time": "2023-09-22T18:24:06.391Z"
   },
   {
    "duration": 407,
    "start_time": "2023-09-22T18:24:06.397Z"
   },
   {
    "duration": 4,
    "start_time": "2023-09-22T18:24:06.807Z"
   },
   {
    "duration": 1568,
    "start_time": "2023-09-22T18:24:06.813Z"
   },
   {
    "duration": 3,
    "start_time": "2023-09-22T18:24:08.383Z"
   },
   {
    "duration": 15,
    "start_time": "2023-09-22T18:24:08.389Z"
   },
   {
    "duration": 10,
    "start_time": "2023-09-22T18:24:08.406Z"
   },
   {
    "duration": 1038,
    "start_time": "2023-09-22T18:24:08.420Z"
   },
   {
    "duration": 36,
    "start_time": "2023-09-22T18:24:09.461Z"
   },
   {
    "duration": 4,
    "start_time": "2023-09-22T18:24:09.499Z"
   },
   {
    "duration": 53,
    "start_time": "2023-09-22T18:24:09.504Z"
   },
   {
    "duration": 12,
    "start_time": "2023-09-22T18:24:09.560Z"
   },
   {
    "duration": 17,
    "start_time": "2023-09-22T18:24:09.575Z"
   },
   {
    "duration": 21,
    "start_time": "2023-09-22T18:24:09.594Z"
   },
   {
    "duration": 442,
    "start_time": "2023-09-22T18:24:09.616Z"
   },
   {
    "duration": 7,
    "start_time": "2023-09-22T18:24:10.061Z"
   },
   {
    "duration": 605,
    "start_time": "2023-09-22T18:24:10.157Z"
   },
   {
    "duration": 91,
    "start_time": "2023-09-22T18:24:10.769Z"
   },
   {
    "duration": 410,
    "start_time": "2023-09-22T18:24:10.862Z"
   },
   {
    "duration": 101,
    "start_time": "2023-09-22T18:24:11.358Z"
   },
   {
    "duration": 15,
    "start_time": "2023-09-22T18:24:11.461Z"
   },
   {
    "duration": 10,
    "start_time": "2023-09-22T18:24:11.479Z"
   },
   {
    "duration": 31,
    "start_time": "2023-09-22T18:24:11.491Z"
   },
   {
    "duration": 39,
    "start_time": "2023-09-22T18:24:11.524Z"
   },
   {
    "duration": 18,
    "start_time": "2023-09-22T18:24:11.565Z"
   },
   {
    "duration": 5,
    "start_time": "2023-09-22T18:24:11.661Z"
   },
   {
    "duration": 93,
    "start_time": "2023-09-22T18:24:11.668Z"
   },
   {
    "duration": 8,
    "start_time": "2023-09-22T18:24:11.763Z"
   },
   {
    "duration": 12,
    "start_time": "2023-09-22T18:24:11.773Z"
   },
   {
    "duration": 10,
    "start_time": "2023-09-22T18:24:11.787Z"
   },
   {
    "duration": 26,
    "start_time": "2023-09-22T18:24:11.799Z"
   },
   {
    "duration": 31,
    "start_time": "2023-09-22T18:24:11.827Z"
   },
   {
    "duration": 18,
    "start_time": "2023-09-22T18:24:11.860Z"
   },
   {
    "duration": 5,
    "start_time": "2023-09-22T18:24:11.880Z"
   },
   {
    "duration": 27,
    "start_time": "2023-09-22T18:24:11.887Z"
   },
   {
    "duration": 9,
    "start_time": "2023-09-22T18:24:11.916Z"
   },
   {
    "duration": 7,
    "start_time": "2023-09-22T18:24:11.958Z"
   },
   {
    "duration": 3994,
    "start_time": "2023-09-22T18:24:11.967Z"
   },
   {
    "duration": 8,
    "start_time": "2023-09-22T18:24:15.963Z"
   },
   {
    "duration": 127,
    "start_time": "2023-09-22T19:05:29.394Z"
   },
   {
    "duration": 4,
    "start_time": "2023-09-22T19:05:40.332Z"
   },
   {
    "duration": 8,
    "start_time": "2023-09-22T19:08:48.142Z"
   },
   {
    "duration": 1357,
    "start_time": "2023-09-22T19:08:50.179Z"
   },
   {
    "duration": 4,
    "start_time": "2023-09-22T19:09:17.577Z"
   },
   {
    "duration": 8,
    "start_time": "2023-09-22T19:09:22.038Z"
   },
   {
    "duration": 1351,
    "start_time": "2023-09-22T19:09:24.352Z"
   },
   {
    "duration": 1699,
    "start_time": "2023-09-22T19:15:05.037Z"
   },
   {
    "duration": 503,
    "start_time": "2023-09-22T19:15:06.738Z"
   },
   {
    "duration": 4,
    "start_time": "2023-09-22T19:15:07.243Z"
   },
   {
    "duration": 463,
    "start_time": "2023-09-22T19:15:07.249Z"
   },
   {
    "duration": 5,
    "start_time": "2023-09-22T19:15:07.714Z"
   },
   {
    "duration": 1842,
    "start_time": "2023-09-22T19:15:07.720Z"
   },
   {
    "duration": 10,
    "start_time": "2023-09-22T19:15:09.564Z"
   },
   {
    "duration": 28,
    "start_time": "2023-09-22T19:15:09.576Z"
   },
   {
    "duration": 18,
    "start_time": "2023-09-22T19:15:09.606Z"
   },
   {
    "duration": 1074,
    "start_time": "2023-09-22T19:15:09.626Z"
   },
   {
    "duration": 30,
    "start_time": "2023-09-22T19:15:10.702Z"
   },
   {
    "duration": 3,
    "start_time": "2023-09-22T19:15:10.734Z"
   },
   {
    "duration": 58,
    "start_time": "2023-09-22T19:15:10.739Z"
   },
   {
    "duration": 12,
    "start_time": "2023-09-22T19:15:10.799Z"
   },
   {
    "duration": 17,
    "start_time": "2023-09-22T19:15:10.813Z"
   },
   {
    "duration": 11,
    "start_time": "2023-09-22T19:15:10.832Z"
   },
   {
    "duration": 436,
    "start_time": "2023-09-22T19:15:10.845Z"
   },
   {
    "duration": 6,
    "start_time": "2023-09-22T19:15:11.358Z"
   },
   {
    "duration": 806,
    "start_time": "2023-09-22T19:15:11.366Z"
   },
   {
    "duration": 8,
    "start_time": "2023-09-22T19:15:12.177Z"
   },
   {
    "duration": 211,
    "start_time": "2023-09-22T19:15:12.259Z"
   },
   {
    "duration": 85,
    "start_time": "2023-09-22T19:15:12.472Z"
   },
   {
    "duration": 102,
    "start_time": "2023-09-22T19:15:12.560Z"
   },
   {
    "duration": 14,
    "start_time": "2023-09-22T19:15:12.671Z"
   },
   {
    "duration": 31,
    "start_time": "2023-09-22T19:15:12.687Z"
   },
   {
    "duration": 8,
    "start_time": "2023-09-22T19:15:12.720Z"
   },
   {
    "duration": 39,
    "start_time": "2023-09-22T19:15:12.729Z"
   },
   {
    "duration": 7,
    "start_time": "2023-09-22T19:15:12.774Z"
   },
   {
    "duration": 94,
    "start_time": "2023-09-22T19:15:12.785Z"
   },
   {
    "duration": 12,
    "start_time": "2023-09-22T19:15:12.883Z"
   },
   {
    "duration": 13,
    "start_time": "2023-09-22T19:15:12.959Z"
   },
   {
    "duration": 17,
    "start_time": "2023-09-22T19:15:12.974Z"
   },
   {
    "duration": 24,
    "start_time": "2023-09-22T19:15:12.993Z"
   },
   {
    "duration": 16,
    "start_time": "2023-09-22T19:15:13.019Z"
   },
   {
    "duration": 32,
    "start_time": "2023-09-22T19:15:13.037Z"
   },
   {
    "duration": 9,
    "start_time": "2023-09-22T19:15:13.072Z"
   },
   {
    "duration": 29,
    "start_time": "2023-09-22T19:15:13.086Z"
   },
   {
    "duration": 9,
    "start_time": "2023-09-22T19:15:13.117Z"
   },
   {
    "duration": 22,
    "start_time": "2023-09-22T19:15:13.127Z"
   },
   {
    "duration": 177,
    "start_time": "2023-09-22T19:15:13.155Z"
   },
   {
    "duration": 0,
    "start_time": "2023-09-22T19:15:13.334Z"
   },
   {
    "duration": 9,
    "start_time": "2023-09-22T19:15:46.753Z"
   },
   {
    "duration": 60,
    "start_time": "2023-09-22T19:15:48.779Z"
   },
   {
    "duration": 11,
    "start_time": "2023-09-22T19:16:46.327Z"
   },
   {
    "duration": 1559,
    "start_time": "2023-09-22T19:16:59.716Z"
   },
   {
    "duration": 469,
    "start_time": "2023-09-22T19:17:01.277Z"
   },
   {
    "duration": 5,
    "start_time": "2023-09-22T19:17:01.748Z"
   },
   {
    "duration": 443,
    "start_time": "2023-09-22T19:17:01.757Z"
   },
   {
    "duration": 6,
    "start_time": "2023-09-22T19:17:02.202Z"
   },
   {
    "duration": 1820,
    "start_time": "2023-09-22T19:17:02.210Z"
   },
   {
    "duration": 5,
    "start_time": "2023-09-22T19:17:04.032Z"
   },
   {
    "duration": 36,
    "start_time": "2023-09-22T19:17:04.039Z"
   },
   {
    "duration": 13,
    "start_time": "2023-09-22T19:17:04.077Z"
   },
   {
    "duration": 1090,
    "start_time": "2023-09-22T19:17:04.093Z"
   },
   {
    "duration": 30,
    "start_time": "2023-09-22T19:17:05.184Z"
   },
   {
    "duration": 16,
    "start_time": "2023-09-22T19:17:05.216Z"
   },
   {
    "duration": 44,
    "start_time": "2023-09-22T19:17:05.234Z"
   },
   {
    "duration": 12,
    "start_time": "2023-09-22T19:17:05.280Z"
   },
   {
    "duration": 25,
    "start_time": "2023-09-22T19:17:05.294Z"
   },
   {
    "duration": 27,
    "start_time": "2023-09-22T19:17:05.321Z"
   },
   {
    "duration": 316,
    "start_time": "2023-09-22T19:17:05.350Z"
   },
   {
    "duration": 6,
    "start_time": "2023-09-22T19:17:05.668Z"
   },
   {
    "duration": 693,
    "start_time": "2023-09-22T19:17:05.675Z"
   },
   {
    "duration": 10,
    "start_time": "2023-09-22T19:17:06.372Z"
   },
   {
    "duration": 280,
    "start_time": "2023-09-22T19:17:06.385Z"
   },
   {
    "duration": 12,
    "start_time": "2023-09-22T19:17:06.667Z"
   },
   {
    "duration": 299,
    "start_time": "2023-09-22T19:17:06.683Z"
   },
   {
    "duration": 420,
    "start_time": "2023-09-22T19:17:06.984Z"
   },
   {
    "duration": 47,
    "start_time": "2023-09-22T19:17:07.407Z"
   },
   {
    "duration": 52,
    "start_time": "2023-09-22T19:17:07.458Z"
   },
   {
    "duration": 44,
    "start_time": "2023-09-22T19:17:07.512Z"
   },
   {
    "duration": 12,
    "start_time": "2023-09-22T19:17:07.563Z"
   },
   {
    "duration": 84,
    "start_time": "2023-09-22T19:17:07.577Z"
   },
   {
    "duration": 14,
    "start_time": "2023-09-22T19:17:07.663Z"
   },
   {
    "duration": 9,
    "start_time": "2023-09-22T19:17:07.679Z"
   },
   {
    "duration": 25,
    "start_time": "2023-09-22T19:17:07.690Z"
   },
   {
    "duration": 58,
    "start_time": "2023-09-22T19:17:07.716Z"
   },
   {
    "duration": 18,
    "start_time": "2023-09-22T19:17:07.779Z"
   },
   {
    "duration": 21,
    "start_time": "2023-09-22T19:17:07.799Z"
   },
   {
    "duration": 5,
    "start_time": "2023-09-22T19:17:07.822Z"
   },
   {
    "duration": 71,
    "start_time": "2023-09-22T19:17:07.829Z"
   },
   {
    "duration": 11,
    "start_time": "2023-09-22T19:17:07.902Z"
   },
   {
    "duration": 16,
    "start_time": "2023-09-22T19:17:07.915Z"
   },
   {
    "duration": 28,
    "start_time": "2023-09-22T19:17:07.934Z"
   },
   {
    "duration": 6180,
    "start_time": "2023-09-22T19:17:07.966Z"
   },
   {
    "duration": 27,
    "start_time": "2023-09-22T19:17:14.148Z"
   },
   {
    "duration": 1600,
    "start_time": "2023-09-22T19:18:06.604Z"
   },
   {
    "duration": 480,
    "start_time": "2023-09-22T19:18:08.206Z"
   },
   {
    "duration": 5,
    "start_time": "2023-09-22T19:18:08.688Z"
   },
   {
    "duration": 529,
    "start_time": "2023-09-22T19:18:08.696Z"
   },
   {
    "duration": 5,
    "start_time": "2023-09-22T19:18:09.227Z"
   },
   {
    "duration": 1691,
    "start_time": "2023-09-22T19:18:09.234Z"
   },
   {
    "duration": 3,
    "start_time": "2023-09-22T19:18:10.927Z"
   },
   {
    "duration": 27,
    "start_time": "2023-09-22T19:18:10.931Z"
   },
   {
    "duration": 16,
    "start_time": "2023-09-22T19:18:10.965Z"
   },
   {
    "duration": 1032,
    "start_time": "2023-09-22T19:18:10.984Z"
   },
   {
    "duration": 43,
    "start_time": "2023-09-22T19:18:12.018Z"
   },
   {
    "duration": 9,
    "start_time": "2023-09-22T19:18:12.067Z"
   },
   {
    "duration": 31,
    "start_time": "2023-09-22T19:18:12.078Z"
   },
   {
    "duration": 13,
    "start_time": "2023-09-22T19:18:12.110Z"
   },
   {
    "duration": 5,
    "start_time": "2023-09-22T19:18:12.124Z"
   },
   {
    "duration": 35,
    "start_time": "2023-09-22T19:18:12.131Z"
   },
   {
    "duration": 400,
    "start_time": "2023-09-22T19:18:12.172Z"
   },
   {
    "duration": 6,
    "start_time": "2023-09-22T19:18:12.575Z"
   },
   {
    "duration": 801,
    "start_time": "2023-09-22T19:18:12.582Z"
   },
   {
    "duration": 7,
    "start_time": "2023-09-22T19:18:13.458Z"
   },
   {
    "duration": 314,
    "start_time": "2023-09-22T19:18:13.470Z"
   },
   {
    "duration": 88,
    "start_time": "2023-09-22T19:18:13.787Z"
   },
   {
    "duration": 18,
    "start_time": "2023-09-22T19:18:13.877Z"
   },
   {
    "duration": 36,
    "start_time": "2023-09-22T19:18:13.896Z"
   },
   {
    "duration": 51,
    "start_time": "2023-09-22T19:18:13.934Z"
   },
   {
    "duration": 10,
    "start_time": "2023-09-22T19:18:13.987Z"
   },
   {
    "duration": 67,
    "start_time": "2023-09-22T19:18:13.998Z"
   },
   {
    "duration": 10,
    "start_time": "2023-09-22T19:18:14.071Z"
   },
   {
    "duration": 101,
    "start_time": "2023-09-22T19:18:14.082Z"
   },
   {
    "duration": 76,
    "start_time": "2023-09-22T19:18:14.184Z"
   },
   {
    "duration": 7,
    "start_time": "2023-09-22T19:18:14.270Z"
   },
   {
    "duration": 20,
    "start_time": "2023-09-22T19:18:14.278Z"
   },
   {
    "duration": 50,
    "start_time": "2023-09-22T19:18:14.300Z"
   },
   {
    "duration": 35,
    "start_time": "2023-09-22T19:18:14.352Z"
   },
   {
    "duration": 19,
    "start_time": "2023-09-22T19:18:14.389Z"
   },
   {
    "duration": 7,
    "start_time": "2023-09-22T19:18:14.409Z"
   },
   {
    "duration": 155,
    "start_time": "2023-09-22T19:18:14.418Z"
   },
   {
    "duration": 0,
    "start_time": "2023-09-22T19:18:14.575Z"
   },
   {
    "duration": 1,
    "start_time": "2023-09-22T19:18:14.576Z"
   },
   {
    "duration": 0,
    "start_time": "2023-09-22T19:18:14.578Z"
   },
   {
    "duration": 0,
    "start_time": "2023-09-22T19:18:14.579Z"
   },
   {
    "duration": 0,
    "start_time": "2023-09-22T19:18:14.580Z"
   },
   {
    "duration": 5,
    "start_time": "2023-09-22T19:18:28.345Z"
   },
   {
    "duration": 1769,
    "start_time": "2023-09-22T19:18:29.880Z"
   },
   {
    "duration": 5,
    "start_time": "2023-09-22T19:18:38.310Z"
   },
   {
    "duration": 25,
    "start_time": "2023-09-22T19:18:45.510Z"
   },
   {
    "duration": 1564,
    "start_time": "2023-09-22T19:19:35.791Z"
   },
   {
    "duration": 473,
    "start_time": "2023-09-22T19:19:37.358Z"
   },
   {
    "duration": 4,
    "start_time": "2023-09-22T19:19:37.832Z"
   },
   {
    "duration": 473,
    "start_time": "2023-09-22T19:19:37.839Z"
   },
   {
    "duration": 5,
    "start_time": "2023-09-22T19:19:38.313Z"
   },
   {
    "duration": 1872,
    "start_time": "2023-09-22T19:19:38.319Z"
   },
   {
    "duration": 3,
    "start_time": "2023-09-22T19:19:40.195Z"
   },
   {
    "duration": 23,
    "start_time": "2023-09-22T19:19:40.200Z"
   },
   {
    "duration": 15,
    "start_time": "2023-09-22T19:19:40.225Z"
   },
   {
    "duration": 1036,
    "start_time": "2023-09-22T19:19:40.243Z"
   },
   {
    "duration": 31,
    "start_time": "2023-09-22T19:19:41.280Z"
   },
   {
    "duration": 4,
    "start_time": "2023-09-22T19:19:41.313Z"
   },
   {
    "duration": 48,
    "start_time": "2023-09-22T19:19:41.318Z"
   },
   {
    "duration": 13,
    "start_time": "2023-09-22T19:19:41.372Z"
   },
   {
    "duration": 7,
    "start_time": "2023-09-22T19:19:41.387Z"
   },
   {
    "duration": 7,
    "start_time": "2023-09-22T19:19:41.396Z"
   },
   {
    "duration": 370,
    "start_time": "2023-09-22T19:19:41.405Z"
   },
   {
    "duration": 80,
    "start_time": "2023-09-22T19:19:41.783Z"
   },
   {
    "duration": 711,
    "start_time": "2023-09-22T19:19:41.865Z"
   },
   {
    "duration": 89,
    "start_time": "2023-09-22T19:19:42.578Z"
   },
   {
    "duration": 408,
    "start_time": "2023-09-22T19:19:42.669Z"
   },
   {
    "duration": 84,
    "start_time": "2023-09-22T19:19:43.084Z"
   },
   {
    "duration": 12,
    "start_time": "2023-09-22T19:19:43.171Z"
   },
   {
    "duration": 12,
    "start_time": "2023-09-22T19:19:43.185Z"
   },
   {
    "duration": 30,
    "start_time": "2023-09-22T19:19:43.199Z"
   },
   {
    "duration": 39,
    "start_time": "2023-09-22T19:19:43.231Z"
   },
   {
    "duration": 15,
    "start_time": "2023-09-22T19:19:43.272Z"
   },
   {
    "duration": 4,
    "start_time": "2023-09-22T19:19:43.357Z"
   },
   {
    "duration": 4,
    "start_time": "2023-09-22T19:19:43.364Z"
   },
   {
    "duration": 92,
    "start_time": "2023-09-22T19:19:43.375Z"
   },
   {
    "duration": 6,
    "start_time": "2023-09-22T19:19:43.473Z"
   },
   {
    "duration": 7,
    "start_time": "2023-09-22T19:19:43.480Z"
   },
   {
    "duration": 22,
    "start_time": "2023-09-22T19:19:43.489Z"
   },
   {
    "duration": 15,
    "start_time": "2023-09-22T19:19:43.513Z"
   },
   {
    "duration": 43,
    "start_time": "2023-09-22T19:19:43.530Z"
   },
   {
    "duration": 131,
    "start_time": "2023-09-22T19:19:43.575Z"
   },
   {
    "duration": 0,
    "start_time": "2023-09-22T19:19:43.708Z"
   },
   {
    "duration": 0,
    "start_time": "2023-09-22T19:19:43.709Z"
   },
   {
    "duration": 0,
    "start_time": "2023-09-22T19:19:43.710Z"
   },
   {
    "duration": 0,
    "start_time": "2023-09-22T19:19:43.712Z"
   },
   {
    "duration": 0,
    "start_time": "2023-09-22T19:19:43.713Z"
   },
   {
    "duration": 0,
    "start_time": "2023-09-22T19:19:43.714Z"
   },
   {
    "duration": 0,
    "start_time": "2023-09-22T19:19:43.715Z"
   },
   {
    "duration": 1630,
    "start_time": "2023-09-22T19:19:50.551Z"
   },
   {
    "duration": 473,
    "start_time": "2023-09-22T19:19:52.184Z"
   },
   {
    "duration": 5,
    "start_time": "2023-09-22T19:19:52.659Z"
   },
   {
    "duration": 446,
    "start_time": "2023-09-22T19:19:52.669Z"
   },
   {
    "duration": 5,
    "start_time": "2023-09-22T19:19:53.117Z"
   },
   {
    "duration": 1796,
    "start_time": "2023-09-22T19:19:53.123Z"
   },
   {
    "duration": 3,
    "start_time": "2023-09-22T19:19:54.921Z"
   },
   {
    "duration": 25,
    "start_time": "2023-09-22T19:19:54.926Z"
   },
   {
    "duration": 19,
    "start_time": "2023-09-22T19:19:54.958Z"
   },
   {
    "duration": 1061,
    "start_time": "2023-09-22T19:19:54.980Z"
   },
   {
    "duration": 39,
    "start_time": "2023-09-22T19:19:56.043Z"
   },
   {
    "duration": 5,
    "start_time": "2023-09-22T19:19:56.084Z"
   },
   {
    "duration": 28,
    "start_time": "2023-09-22T19:19:56.091Z"
   },
   {
    "duration": 11,
    "start_time": "2023-09-22T19:19:56.121Z"
   },
   {
    "duration": 36,
    "start_time": "2023-09-22T19:19:56.134Z"
   },
   {
    "duration": 18,
    "start_time": "2023-09-22T19:19:56.173Z"
   },
   {
    "duration": 288,
    "start_time": "2023-09-22T19:19:56.192Z"
   },
   {
    "duration": 75,
    "start_time": "2023-09-22T19:19:56.484Z"
   },
   {
    "duration": 702,
    "start_time": "2023-09-22T19:19:56.562Z"
   },
   {
    "duration": 6,
    "start_time": "2023-09-22T19:19:57.267Z"
   },
   {
    "duration": 408,
    "start_time": "2023-09-22T19:19:57.275Z"
   },
   {
    "duration": 77,
    "start_time": "2023-09-22T19:19:57.690Z"
   },
   {
    "duration": 15,
    "start_time": "2023-09-22T19:19:57.777Z"
   },
   {
    "duration": 20,
    "start_time": "2023-09-22T19:19:57.794Z"
   },
   {
    "duration": 38,
    "start_time": "2023-09-22T19:19:57.815Z"
   },
   {
    "duration": 20,
    "start_time": "2023-09-22T19:19:57.857Z"
   },
   {
    "duration": 14,
    "start_time": "2023-09-22T19:19:57.879Z"
   },
   {
    "duration": 66,
    "start_time": "2023-09-22T19:19:57.897Z"
   },
   {
    "duration": 93,
    "start_time": "2023-09-22T19:19:57.965Z"
   },
   {
    "duration": 14,
    "start_time": "2023-09-22T19:19:58.062Z"
   },
   {
    "duration": 14,
    "start_time": "2023-09-22T19:19:58.079Z"
   },
   {
    "duration": 7,
    "start_time": "2023-09-22T19:19:58.095Z"
   },
   {
    "duration": 24,
    "start_time": "2023-09-22T19:19:58.103Z"
   },
   {
    "duration": 35,
    "start_time": "2023-09-22T19:19:58.129Z"
   },
   {
    "duration": 23,
    "start_time": "2023-09-22T19:19:58.166Z"
   },
   {
    "duration": 22,
    "start_time": "2023-09-22T19:19:58.190Z"
   },
   {
    "duration": 6,
    "start_time": "2023-09-22T19:19:58.214Z"
   },
   {
    "duration": 50,
    "start_time": "2023-09-22T19:19:58.221Z"
   },
   {
    "duration": 12,
    "start_time": "2023-09-22T19:19:58.273Z"
   },
   {
    "duration": 20,
    "start_time": "2023-09-22T19:19:58.287Z"
   },
   {
    "duration": 10,
    "start_time": "2023-09-22T19:19:58.309Z"
   },
   {
    "duration": 6516,
    "start_time": "2023-09-22T19:19:58.321Z"
   },
   {
    "duration": 20,
    "start_time": "2023-09-22T19:20:04.839Z"
   },
   {
    "duration": 154,
    "start_time": "2023-09-22T19:20:43.496Z"
   },
   {
    "duration": 5,
    "start_time": "2023-09-22T19:20:54.626Z"
   },
   {
    "duration": 15,
    "start_time": "2023-09-22T19:21:24.251Z"
   },
   {
    "duration": 27,
    "start_time": "2023-09-22T19:21:35.547Z"
   },
   {
    "duration": 1656,
    "start_time": "2023-09-22T19:21:47.380Z"
   },
   {
    "duration": 495,
    "start_time": "2023-09-22T19:21:49.039Z"
   },
   {
    "duration": 3,
    "start_time": "2023-09-22T19:21:49.536Z"
   },
   {
    "duration": 434,
    "start_time": "2023-09-22T19:21:49.541Z"
   },
   {
    "duration": 5,
    "start_time": "2023-09-22T19:21:49.977Z"
   },
   {
    "duration": 1713,
    "start_time": "2023-09-22T19:21:49.983Z"
   },
   {
    "duration": 2,
    "start_time": "2023-09-22T19:21:51.698Z"
   },
   {
    "duration": 27,
    "start_time": "2023-09-22T19:21:51.702Z"
   },
   {
    "duration": 10,
    "start_time": "2023-09-22T19:21:51.731Z"
   },
   {
    "duration": 1025,
    "start_time": "2023-09-22T19:21:51.744Z"
   },
   {
    "duration": 32,
    "start_time": "2023-09-22T19:21:52.773Z"
   },
   {
    "duration": 4,
    "start_time": "2023-09-22T19:21:52.806Z"
   },
   {
    "duration": 58,
    "start_time": "2023-09-22T19:21:52.812Z"
   },
   {
    "duration": 14,
    "start_time": "2023-09-22T19:21:52.873Z"
   },
   {
    "duration": 6,
    "start_time": "2023-09-22T19:21:52.889Z"
   },
   {
    "duration": 16,
    "start_time": "2023-09-22T19:21:52.898Z"
   },
   {
    "duration": 348,
    "start_time": "2023-09-22T19:21:52.915Z"
   },
   {
    "duration": 9,
    "start_time": "2023-09-22T19:21:53.265Z"
   },
   {
    "duration": 888,
    "start_time": "2023-09-22T19:21:53.281Z"
   },
   {
    "duration": 4,
    "start_time": "2023-09-22T19:21:54.171Z"
   },
   {
    "duration": 482,
    "start_time": "2023-09-22T19:21:54.177Z"
   },
   {
    "duration": 17,
    "start_time": "2023-09-22T19:21:54.662Z"
   },
   {
    "duration": 95,
    "start_time": "2023-09-22T19:21:54.683Z"
   },
   {
    "duration": 33,
    "start_time": "2023-09-22T19:21:54.780Z"
   },
   {
    "duration": 64,
    "start_time": "2023-09-22T19:21:54.815Z"
   },
   {
    "duration": 26,
    "start_time": "2023-09-22T19:21:54.881Z"
   },
   {
    "duration": 51,
    "start_time": "2023-09-22T19:21:54.909Z"
   },
   {
    "duration": 90,
    "start_time": "2023-09-22T19:21:54.969Z"
   },
   {
    "duration": 8,
    "start_time": "2023-09-22T19:21:55.062Z"
   },
   {
    "duration": 24,
    "start_time": "2023-09-22T19:21:55.072Z"
   },
   {
    "duration": 30,
    "start_time": "2023-09-22T19:21:55.098Z"
   },
   {
    "duration": 10,
    "start_time": "2023-09-22T19:21:55.130Z"
   },
   {
    "duration": 29,
    "start_time": "2023-09-22T19:21:55.142Z"
   },
   {
    "duration": 17,
    "start_time": "2023-09-22T19:21:55.176Z"
   },
   {
    "duration": 18,
    "start_time": "2023-09-22T19:21:55.195Z"
   },
   {
    "duration": 168,
    "start_time": "2023-09-22T19:21:55.214Z"
   },
   {
    "duration": 0,
    "start_time": "2023-09-22T19:21:55.384Z"
   },
   {
    "duration": 0,
    "start_time": "2023-09-22T19:21:55.386Z"
   },
   {
    "duration": 0,
    "start_time": "2023-09-22T19:21:55.387Z"
   },
   {
    "duration": 0,
    "start_time": "2023-09-22T19:21:55.388Z"
   },
   {
    "duration": 0,
    "start_time": "2023-09-22T19:21:55.390Z"
   },
   {
    "duration": 0,
    "start_time": "2023-09-22T19:21:55.391Z"
   },
   {
    "duration": 0,
    "start_time": "2023-09-22T19:21:55.393Z"
   },
   {
    "duration": 0,
    "start_time": "2023-09-22T19:21:55.394Z"
   },
   {
    "duration": 5,
    "start_time": "2023-09-22T19:22:08.084Z"
   },
   {
    "duration": 11,
    "start_time": "2023-09-22T19:24:02.578Z"
   },
   {
    "duration": 11,
    "start_time": "2023-09-22T19:24:31.692Z"
   },
   {
    "duration": 11,
    "start_time": "2023-09-22T19:24:40.924Z"
   },
   {
    "duration": 21,
    "start_time": "2023-09-22T19:25:25.755Z"
   },
   {
    "duration": 10,
    "start_time": "2023-09-22T19:25:31.892Z"
   },
   {
    "duration": 10,
    "start_time": "2023-09-22T19:26:46.406Z"
   },
   {
    "duration": 19,
    "start_time": "2023-09-22T19:27:17.159Z"
   },
   {
    "duration": 6,
    "start_time": "2023-09-22T19:28:14.199Z"
   },
   {
    "duration": 12,
    "start_time": "2023-09-22T19:28:23.403Z"
   },
   {
    "duration": 141,
    "start_time": "2023-09-22T19:28:41.359Z"
   },
   {
    "duration": 105,
    "start_time": "2023-09-22T19:28:58.981Z"
   },
   {
    "duration": 114,
    "start_time": "2023-09-22T19:29:09.917Z"
   },
   {
    "duration": 113,
    "start_time": "2023-09-22T19:29:25.502Z"
   },
   {
    "duration": 1711,
    "start_time": "2023-09-22T19:29:47.380Z"
   },
   {
    "duration": 521,
    "start_time": "2023-09-22T19:29:49.093Z"
   },
   {
    "duration": 4,
    "start_time": "2023-09-22T19:29:49.616Z"
   },
   {
    "duration": 457,
    "start_time": "2023-09-22T19:29:49.621Z"
   },
   {
    "duration": 5,
    "start_time": "2023-09-22T19:29:50.084Z"
   },
   {
    "duration": 1832,
    "start_time": "2023-09-22T19:29:50.091Z"
   },
   {
    "duration": 3,
    "start_time": "2023-09-22T19:29:51.926Z"
   },
   {
    "duration": 39,
    "start_time": "2023-09-22T19:29:51.931Z"
   },
   {
    "duration": 26,
    "start_time": "2023-09-22T19:29:51.972Z"
   },
   {
    "duration": 991,
    "start_time": "2023-09-22T19:29:52.000Z"
   },
   {
    "duration": 33,
    "start_time": "2023-09-22T19:29:52.994Z"
   },
   {
    "duration": 4,
    "start_time": "2023-09-22T19:29:53.029Z"
   },
   {
    "duration": 38,
    "start_time": "2023-09-22T19:29:53.061Z"
   },
   {
    "duration": 11,
    "start_time": "2023-09-22T19:29:53.102Z"
   },
   {
    "duration": 24,
    "start_time": "2023-09-22T19:29:53.115Z"
   },
   {
    "duration": 43,
    "start_time": "2023-09-22T19:29:53.141Z"
   },
   {
    "duration": 296,
    "start_time": "2023-09-22T19:29:53.186Z"
   },
   {
    "duration": 10,
    "start_time": "2023-09-22T19:29:53.483Z"
   },
   {
    "duration": 708,
    "start_time": "2023-09-22T19:29:53.561Z"
   },
   {
    "duration": 6,
    "start_time": "2023-09-22T19:29:54.275Z"
   },
   {
    "duration": 375,
    "start_time": "2023-09-22T19:29:54.284Z"
   },
   {
    "duration": 19,
    "start_time": "2023-09-22T19:29:54.661Z"
   },
   {
    "duration": 86,
    "start_time": "2023-09-22T19:29:54.683Z"
   },
   {
    "duration": 21,
    "start_time": "2023-09-22T19:29:54.772Z"
   },
   {
    "duration": 45,
    "start_time": "2023-09-22T19:29:54.795Z"
   },
   {
    "duration": 11,
    "start_time": "2023-09-22T19:29:54.842Z"
   },
   {
    "duration": 37,
    "start_time": "2023-09-22T19:29:54.855Z"
   },
   {
    "duration": 75,
    "start_time": "2023-09-22T19:29:54.894Z"
   },
   {
    "duration": 7,
    "start_time": "2023-09-22T19:29:54.977Z"
   },
   {
    "duration": 86,
    "start_time": "2023-09-22T19:29:54.986Z"
   },
   {
    "duration": 15,
    "start_time": "2023-09-22T19:29:55.074Z"
   },
   {
    "duration": 17,
    "start_time": "2023-09-22T19:29:55.090Z"
   },
   {
    "duration": 70,
    "start_time": "2023-09-22T19:29:55.109Z"
   },
   {
    "duration": 22,
    "start_time": "2023-09-22T19:29:55.181Z"
   },
   {
    "duration": 17,
    "start_time": "2023-09-22T19:29:55.205Z"
   },
   {
    "duration": 20,
    "start_time": "2023-09-22T19:29:55.224Z"
   },
   {
    "duration": 40,
    "start_time": "2023-09-22T19:29:55.246Z"
   },
   {
    "duration": 10,
    "start_time": "2023-09-22T19:29:55.288Z"
   },
   {
    "duration": 12,
    "start_time": "2023-09-22T19:29:55.300Z"
   },
   {
    "duration": 8,
    "start_time": "2023-09-22T19:29:55.313Z"
   },
   {
    "duration": 45,
    "start_time": "2023-09-22T19:29:55.324Z"
   },
   {
    "duration": 15,
    "start_time": "2023-09-22T19:29:55.371Z"
   },
   {
    "duration": 107,
    "start_time": "2023-09-22T19:29:55.388Z"
   },
   {
    "duration": 0,
    "start_time": "2023-09-22T19:29:55.496Z"
   },
   {
    "duration": 0,
    "start_time": "2023-09-22T19:29:55.498Z"
   },
   {
    "duration": 0,
    "start_time": "2023-09-22T19:29:55.498Z"
   },
   {
    "duration": 152,
    "start_time": "2023-09-22T19:32:08.730Z"
   },
   {
    "duration": 128,
    "start_time": "2023-09-22T19:32:15.053Z"
   },
   {
    "duration": 102,
    "start_time": "2023-09-22T19:32:20.548Z"
   },
   {
    "duration": 110,
    "start_time": "2023-09-22T19:32:24.673Z"
   },
   {
    "duration": 90,
    "start_time": "2023-09-22T19:32:29.881Z"
   },
   {
    "duration": 9,
    "start_time": "2023-09-22T19:32:35.682Z"
   },
   {
    "duration": 2148,
    "start_time": "2023-09-22T19:32:41.774Z"
   },
   {
    "duration": 114,
    "start_time": "2023-09-22T19:33:06.621Z"
   },
   {
    "duration": 2090,
    "start_time": "2023-09-22T19:33:08.633Z"
   },
   {
    "duration": 1672,
    "start_time": "2023-09-22T19:33:49.911Z"
   },
   {
    "duration": 493,
    "start_time": "2023-09-22T19:33:51.590Z"
   },
   {
    "duration": 4,
    "start_time": "2023-09-22T19:33:52.086Z"
   },
   {
    "duration": 457,
    "start_time": "2023-09-22T19:33:52.092Z"
   },
   {
    "duration": 15,
    "start_time": "2023-09-22T19:33:52.556Z"
   },
   {
    "duration": 1853,
    "start_time": "2023-09-22T19:33:52.574Z"
   },
   {
    "duration": 2,
    "start_time": "2023-09-22T19:33:54.429Z"
   },
   {
    "duration": 47,
    "start_time": "2023-09-22T19:33:54.433Z"
   },
   {
    "duration": 30,
    "start_time": "2023-09-22T19:33:54.483Z"
   },
   {
    "duration": 1058,
    "start_time": "2023-09-22T19:33:54.516Z"
   },
   {
    "duration": 34,
    "start_time": "2023-09-22T19:33:55.576Z"
   },
   {
    "duration": 16,
    "start_time": "2023-09-22T19:33:55.612Z"
   },
   {
    "duration": 57,
    "start_time": "2023-09-22T19:33:55.630Z"
   },
   {
    "duration": 15,
    "start_time": "2023-09-22T19:33:55.689Z"
   },
   {
    "duration": 13,
    "start_time": "2023-09-22T19:33:55.705Z"
   },
   {
    "duration": 18,
    "start_time": "2023-09-22T19:33:55.719Z"
   },
   {
    "duration": 532,
    "start_time": "2023-09-22T19:33:55.738Z"
   },
   {
    "duration": 6,
    "start_time": "2023-09-22T19:33:56.273Z"
   },
   {
    "duration": 784,
    "start_time": "2023-09-22T19:33:56.281Z"
   },
   {
    "duration": 15,
    "start_time": "2023-09-22T19:33:57.069Z"
   },
   {
    "duration": 205,
    "start_time": "2023-09-22T19:33:57.158Z"
   },
   {
    "duration": 18,
    "start_time": "2023-09-22T19:33:57.365Z"
   },
   {
    "duration": 83,
    "start_time": "2023-09-22T19:33:57.387Z"
   },
   {
    "duration": 33,
    "start_time": "2023-09-22T19:33:57.475Z"
   },
   {
    "duration": 24,
    "start_time": "2023-09-22T19:33:57.510Z"
   },
   {
    "duration": 9,
    "start_time": "2023-09-22T19:33:57.536Z"
   },
   {
    "duration": 46,
    "start_time": "2023-09-22T19:33:57.547Z"
   },
   {
    "duration": 87,
    "start_time": "2023-09-22T19:33:57.672Z"
   },
   {
    "duration": 9,
    "start_time": "2023-09-22T19:33:57.762Z"
   },
   {
    "duration": 13,
    "start_time": "2023-09-22T19:33:57.773Z"
   },
   {
    "duration": 11,
    "start_time": "2023-09-22T19:33:57.788Z"
   },
   {
    "duration": 8,
    "start_time": "2023-09-22T19:33:57.800Z"
   },
   {
    "duration": 37,
    "start_time": "2023-09-22T19:33:57.811Z"
   },
   {
    "duration": 27,
    "start_time": "2023-09-22T19:33:57.850Z"
   },
   {
    "duration": 19,
    "start_time": "2023-09-22T19:33:57.882Z"
   },
   {
    "duration": 6,
    "start_time": "2023-09-22T19:33:57.902Z"
   },
   {
    "duration": 61,
    "start_time": "2023-09-22T19:33:57.910Z"
   },
   {
    "duration": 17,
    "start_time": "2023-09-22T19:33:57.973Z"
   },
   {
    "duration": 25,
    "start_time": "2023-09-22T19:33:57.993Z"
   },
   {
    "duration": 2253,
    "start_time": "2023-09-22T19:33:58.020Z"
   },
   {
    "duration": 0,
    "start_time": "2023-09-22T19:34:00.280Z"
   },
   {
    "duration": 10,
    "start_time": "2023-09-22T19:34:44.084Z"
   },
   {
    "duration": 5,
    "start_time": "2023-09-22T19:34:57.781Z"
   },
   {
    "duration": 12,
    "start_time": "2023-09-22T19:35:29.849Z"
   },
   {
    "duration": 9,
    "start_time": "2023-09-22T19:35:38.237Z"
   },
   {
    "duration": 10,
    "start_time": "2023-09-22T19:35:43.935Z"
   },
   {
    "duration": 4,
    "start_time": "2023-09-22T19:35:49.587Z"
   },
   {
    "duration": 7,
    "start_time": "2023-09-22T19:35:59.248Z"
   },
   {
    "duration": 1645,
    "start_time": "2023-09-22T19:36:17.678Z"
   },
   {
    "duration": 491,
    "start_time": "2023-09-22T19:36:19.325Z"
   },
   {
    "duration": 4,
    "start_time": "2023-09-22T19:36:19.818Z"
   },
   {
    "duration": 437,
    "start_time": "2023-09-22T19:36:19.824Z"
   },
   {
    "duration": 8,
    "start_time": "2023-09-22T19:36:20.264Z"
   },
   {
    "duration": 1730,
    "start_time": "2023-09-22T19:36:20.278Z"
   },
   {
    "duration": 3,
    "start_time": "2023-09-22T19:36:22.009Z"
   },
   {
    "duration": 17,
    "start_time": "2023-09-22T19:36:22.014Z"
   },
   {
    "duration": 12,
    "start_time": "2023-09-22T19:36:22.033Z"
   },
   {
    "duration": 957,
    "start_time": "2023-09-22T19:36:22.047Z"
   },
   {
    "duration": 31,
    "start_time": "2023-09-22T19:36:23.006Z"
   },
   {
    "duration": 19,
    "start_time": "2023-09-22T19:36:23.039Z"
   },
   {
    "duration": 35,
    "start_time": "2023-09-22T19:36:23.062Z"
   },
   {
    "duration": 11,
    "start_time": "2023-09-22T19:36:23.100Z"
   },
   {
    "duration": 6,
    "start_time": "2023-09-22T19:36:23.112Z"
   },
   {
    "duration": 29,
    "start_time": "2023-09-22T19:36:23.120Z"
   },
   {
    "duration": 314,
    "start_time": "2023-09-22T19:36:23.150Z"
   },
   {
    "duration": 10,
    "start_time": "2023-09-22T19:36:23.466Z"
   },
   {
    "duration": 786,
    "start_time": "2023-09-22T19:36:23.478Z"
   },
   {
    "duration": 8,
    "start_time": "2023-09-22T19:36:24.266Z"
   },
   {
    "duration": 314,
    "start_time": "2023-09-22T19:36:24.276Z"
   },
   {
    "duration": 97,
    "start_time": "2023-09-22T19:36:24.668Z"
   },
   {
    "duration": 16,
    "start_time": "2023-09-22T19:36:24.768Z"
   },
   {
    "duration": 9,
    "start_time": "2023-09-22T19:36:24.785Z"
   },
   {
    "duration": 30,
    "start_time": "2023-09-22T19:36:24.796Z"
   },
   {
    "duration": 42,
    "start_time": "2023-09-22T19:36:24.827Z"
   },
   {
    "duration": 22,
    "start_time": "2023-09-22T19:36:24.872Z"
   },
   {
    "duration": 15,
    "start_time": "2023-09-22T19:36:24.966Z"
   },
   {
    "duration": 97,
    "start_time": "2023-09-22T19:36:24.984Z"
   },
   {
    "duration": 22,
    "start_time": "2023-09-22T19:36:25.083Z"
   },
   {
    "duration": 22,
    "start_time": "2023-09-22T19:36:25.107Z"
   },
   {
    "duration": 17,
    "start_time": "2023-09-22T19:36:25.130Z"
   },
   {
    "duration": 244,
    "start_time": "2023-09-22T19:36:25.149Z"
   },
   {
    "duration": 122,
    "start_time": "2023-09-22T19:36:25.395Z"
   },
   {
    "duration": 79,
    "start_time": "2023-09-22T19:36:25.519Z"
   },
   {
    "duration": 20,
    "start_time": "2023-09-22T19:36:25.600Z"
   },
   {
    "duration": 37,
    "start_time": "2023-09-22T19:36:25.622Z"
   },
   {
    "duration": 14,
    "start_time": "2023-09-22T19:36:25.661Z"
   },
   {
    "duration": 20,
    "start_time": "2023-09-22T19:36:25.677Z"
   },
   {
    "duration": 2145,
    "start_time": "2023-09-22T19:36:25.699Z"
   },
   {
    "duration": 0,
    "start_time": "2023-09-22T19:36:27.846Z"
   },
   {
    "duration": 1617,
    "start_time": "2023-09-22T19:37:25.603Z"
   },
   {
    "duration": 475,
    "start_time": "2023-09-22T19:37:27.222Z"
   },
   {
    "duration": 6,
    "start_time": "2023-09-22T19:37:27.698Z"
   },
   {
    "duration": 463,
    "start_time": "2023-09-22T19:37:27.707Z"
   },
   {
    "duration": 10,
    "start_time": "2023-09-22T19:37:28.176Z"
   },
   {
    "duration": 1722,
    "start_time": "2023-09-22T19:37:28.188Z"
   },
   {
    "duration": 2,
    "start_time": "2023-09-22T19:37:29.912Z"
   },
   {
    "duration": 15,
    "start_time": "2023-09-22T19:37:29.916Z"
   },
   {
    "duration": 5,
    "start_time": "2023-09-22T19:37:29.932Z"
   },
   {
    "duration": 1041,
    "start_time": "2023-09-22T19:37:29.966Z"
   },
   {
    "duration": 32,
    "start_time": "2023-09-22T19:37:31.009Z"
   },
   {
    "duration": 116,
    "start_time": "2023-09-22T19:37:31.063Z"
   },
   {
    "duration": 80,
    "start_time": "2023-09-22T19:37:31.184Z"
   },
   {
    "duration": 33,
    "start_time": "2023-09-22T19:37:31.266Z"
   },
   {
    "duration": 39,
    "start_time": "2023-09-22T19:37:31.301Z"
   },
   {
    "duration": 77,
    "start_time": "2023-09-22T19:37:31.342Z"
   },
   {
    "duration": 460,
    "start_time": "2023-09-22T19:37:31.421Z"
   },
   {
    "duration": 7,
    "start_time": "2023-09-22T19:37:31.884Z"
   },
   {
    "duration": 710,
    "start_time": "2023-09-22T19:37:31.960Z"
   },
   {
    "duration": 5,
    "start_time": "2023-09-22T19:37:32.672Z"
   },
   {
    "duration": 406,
    "start_time": "2023-09-22T19:37:32.679Z"
   },
   {
    "duration": 85,
    "start_time": "2023-09-22T19:37:33.095Z"
   },
   {
    "duration": 10,
    "start_time": "2023-09-22T19:37:33.185Z"
   },
   {
    "duration": 70,
    "start_time": "2023-09-22T19:37:33.197Z"
   },
   {
    "duration": 33,
    "start_time": "2023-09-22T19:37:33.269Z"
   },
   {
    "duration": 13,
    "start_time": "2023-09-22T19:37:33.303Z"
   },
   {
    "duration": 145,
    "start_time": "2023-09-22T19:37:33.318Z"
   },
   {
    "duration": 7,
    "start_time": "2023-09-22T19:37:33.480Z"
   },
   {
    "duration": 4,
    "start_time": "2023-09-22T19:37:33.563Z"
   },
   {
    "duration": 15,
    "start_time": "2023-09-22T19:37:33.570Z"
   },
   {
    "duration": 16,
    "start_time": "2023-09-22T19:37:33.587Z"
   },
   {
    "duration": 8,
    "start_time": "2023-09-22T19:37:33.605Z"
   },
   {
    "duration": 27,
    "start_time": "2023-09-22T19:37:33.615Z"
   },
   {
    "duration": 26,
    "start_time": "2023-09-22T19:37:33.644Z"
   },
   {
    "duration": 20,
    "start_time": "2023-09-22T19:37:33.672Z"
   },
   {
    "duration": 5,
    "start_time": "2023-09-22T19:37:33.694Z"
   },
   {
    "duration": 33,
    "start_time": "2023-09-22T19:37:33.701Z"
   },
   {
    "duration": 38,
    "start_time": "2023-09-22T19:37:33.736Z"
   },
   {
    "duration": 11,
    "start_time": "2023-09-22T19:37:33.776Z"
   },
   {
    "duration": 6218,
    "start_time": "2023-09-22T19:37:33.789Z"
   },
   {
    "duration": 9,
    "start_time": "2023-09-22T19:37:40.009Z"
   },
   {
    "duration": 121,
    "start_time": "2023-09-22T19:39:45.729Z"
   },
   {
    "duration": 5,
    "start_time": "2023-09-22T19:39:54.112Z"
   },
   {
    "duration": 11,
    "start_time": "2023-09-22T19:41:41.393Z"
   },
   {
    "duration": 1661,
    "start_time": "2023-09-22T19:41:49.489Z"
   },
   {
    "duration": 511,
    "start_time": "2023-09-22T19:41:51.152Z"
   },
   {
    "duration": 13,
    "start_time": "2023-09-22T19:41:51.670Z"
   },
   {
    "duration": 451,
    "start_time": "2023-09-22T19:41:51.689Z"
   },
   {
    "duration": 5,
    "start_time": "2023-09-22T19:41:52.142Z"
   },
   {
    "duration": 1947,
    "start_time": "2023-09-22T19:41:52.161Z"
   },
   {
    "duration": 3,
    "start_time": "2023-09-22T19:41:54.109Z"
   },
   {
    "duration": 18,
    "start_time": "2023-09-22T19:41:54.114Z"
   },
   {
    "duration": 7,
    "start_time": "2023-09-22T19:41:54.134Z"
   },
   {
    "duration": 1058,
    "start_time": "2023-09-22T19:41:54.142Z"
   },
   {
    "duration": 31,
    "start_time": "2023-09-22T19:41:55.202Z"
   },
   {
    "duration": 4,
    "start_time": "2023-09-22T19:41:55.235Z"
   },
   {
    "duration": 53,
    "start_time": "2023-09-22T19:41:55.240Z"
   },
   {
    "duration": 12,
    "start_time": "2023-09-22T19:41:55.296Z"
   },
   {
    "duration": 7,
    "start_time": "2023-09-22T19:41:55.310Z"
   },
   {
    "duration": 10,
    "start_time": "2023-09-22T19:41:55.320Z"
   },
   {
    "duration": 450,
    "start_time": "2023-09-22T19:41:55.333Z"
   },
   {
    "duration": 8,
    "start_time": "2023-09-22T19:41:55.787Z"
   },
   {
    "duration": 879,
    "start_time": "2023-09-22T19:41:55.798Z"
   },
   {
    "duration": 80,
    "start_time": "2023-09-22T19:41:56.687Z"
   },
   {
    "duration": 304,
    "start_time": "2023-09-22T19:41:56.778Z"
   },
   {
    "duration": 103,
    "start_time": "2023-09-22T19:41:57.084Z"
   },
   {
    "duration": 74,
    "start_time": "2023-09-22T19:41:57.192Z"
   },
   {
    "duration": 17,
    "start_time": "2023-09-22T19:41:57.273Z"
   },
   {
    "duration": 31,
    "start_time": "2023-09-22T19:41:57.292Z"
   },
   {
    "duration": 14,
    "start_time": "2023-09-22T19:41:57.325Z"
   },
   {
    "duration": 32,
    "start_time": "2023-09-22T19:41:57.341Z"
   },
   {
    "duration": 4,
    "start_time": "2023-09-22T19:41:57.375Z"
   },
   {
    "duration": 76,
    "start_time": "2023-09-22T19:41:57.381Z"
   },
   {
    "duration": 8,
    "start_time": "2023-09-22T19:41:57.460Z"
   },
   {
    "duration": 9,
    "start_time": "2023-09-22T19:41:57.471Z"
   },
   {
    "duration": 85,
    "start_time": "2023-09-22T19:41:57.482Z"
   },
   {
    "duration": 33,
    "start_time": "2023-09-22T19:41:57.570Z"
   },
   {
    "duration": 18,
    "start_time": "2023-09-22T19:41:57.605Z"
   },
   {
    "duration": 47,
    "start_time": "2023-09-22T19:41:57.625Z"
   },
   {
    "duration": 8,
    "start_time": "2023-09-22T19:41:57.674Z"
   },
   {
    "duration": 46,
    "start_time": "2023-09-22T19:41:57.684Z"
   },
   {
    "duration": 10,
    "start_time": "2023-09-22T19:41:57.731Z"
   },
   {
    "duration": 5,
    "start_time": "2023-09-22T19:41:57.742Z"
   },
   {
    "duration": 24,
    "start_time": "2023-09-22T19:41:57.749Z"
   },
   {
    "duration": 14,
    "start_time": "2023-09-22T19:41:57.778Z"
   },
   {
    "duration": 6397,
    "start_time": "2023-09-22T19:41:57.793Z"
   },
   {
    "duration": 10,
    "start_time": "2023-09-22T19:42:04.192Z"
   },
   {
    "duration": 1613,
    "start_time": "2023-09-22T19:42:07.585Z"
   },
   {
    "duration": 463,
    "start_time": "2023-09-22T19:42:09.200Z"
   },
   {
    "duration": 10,
    "start_time": "2023-09-22T19:42:09.673Z"
   },
   {
    "duration": 418,
    "start_time": "2023-09-22T19:42:09.686Z"
   },
   {
    "duration": 4,
    "start_time": "2023-09-22T19:42:10.106Z"
   },
   {
    "duration": 1779,
    "start_time": "2023-09-22T19:42:10.112Z"
   },
   {
    "duration": 3,
    "start_time": "2023-09-22T19:42:11.893Z"
   },
   {
    "duration": 42,
    "start_time": "2023-09-22T19:42:11.898Z"
   },
   {
    "duration": 49,
    "start_time": "2023-09-22T19:42:11.942Z"
   },
   {
    "duration": 1009,
    "start_time": "2023-09-22T19:42:11.994Z"
   },
   {
    "duration": 29,
    "start_time": "2023-09-22T19:42:13.005Z"
   },
   {
    "duration": 3,
    "start_time": "2023-09-22T19:42:13.036Z"
   },
   {
    "duration": 59,
    "start_time": "2023-09-22T19:42:13.041Z"
   },
   {
    "duration": 15,
    "start_time": "2023-09-22T19:42:13.102Z"
   },
   {
    "duration": 15,
    "start_time": "2023-09-22T19:42:13.118Z"
   },
   {
    "duration": 24,
    "start_time": "2023-09-22T19:42:13.135Z"
   },
   {
    "duration": 317,
    "start_time": "2023-09-22T19:42:13.161Z"
   },
   {
    "duration": 82,
    "start_time": "2023-09-22T19:42:13.480Z"
   },
   {
    "duration": 700,
    "start_time": "2023-09-22T19:42:13.565Z"
   },
   {
    "duration": 12,
    "start_time": "2023-09-22T19:42:14.269Z"
   },
   {
    "duration": 491,
    "start_time": "2023-09-22T19:42:14.284Z"
   },
   {
    "duration": 78,
    "start_time": "2023-09-22T19:42:14.785Z"
   },
   {
    "duration": 10,
    "start_time": "2023-09-22T19:42:14.865Z"
   },
   {
    "duration": 23,
    "start_time": "2023-09-22T19:42:14.878Z"
   },
   {
    "duration": 39,
    "start_time": "2023-09-22T19:42:14.903Z"
   },
   {
    "duration": 19,
    "start_time": "2023-09-22T19:42:14.943Z"
   },
   {
    "duration": 27,
    "start_time": "2023-09-22T19:42:14.963Z"
   },
   {
    "duration": 13,
    "start_time": "2023-09-22T19:42:15.064Z"
   },
   {
    "duration": 17,
    "start_time": "2023-09-22T19:42:15.160Z"
   },
   {
    "duration": 5,
    "start_time": "2023-09-22T19:42:15.179Z"
   },
   {
    "duration": 13,
    "start_time": "2023-09-22T19:42:15.185Z"
   },
   {
    "duration": 17,
    "start_time": "2023-09-22T19:42:15.200Z"
   },
   {
    "duration": 35,
    "start_time": "2023-09-22T19:42:15.218Z"
   },
   {
    "duration": 29,
    "start_time": "2023-09-22T19:42:15.255Z"
   },
   {
    "duration": 17,
    "start_time": "2023-09-22T19:42:15.287Z"
   },
   {
    "duration": 34,
    "start_time": "2023-09-22T19:42:15.305Z"
   },
   {
    "duration": 15,
    "start_time": "2023-09-22T19:42:15.340Z"
   },
   {
    "duration": 40,
    "start_time": "2023-09-22T19:42:15.363Z"
   },
   {
    "duration": 11,
    "start_time": "2023-09-22T19:42:15.405Z"
   },
   {
    "duration": 10,
    "start_time": "2023-09-22T19:42:15.417Z"
   },
   {
    "duration": 13,
    "start_time": "2023-09-22T19:42:15.429Z"
   },
   {
    "duration": 49,
    "start_time": "2023-09-22T19:42:15.444Z"
   },
   {
    "duration": 6198,
    "start_time": "2023-09-22T19:42:15.495Z"
   },
   {
    "duration": 8,
    "start_time": "2023-09-22T19:42:21.695Z"
   },
   {
    "duration": 1587,
    "start_time": "2023-09-22T19:53:04.182Z"
   },
   {
    "duration": 501,
    "start_time": "2023-09-22T19:53:05.776Z"
   },
   {
    "duration": 5,
    "start_time": "2023-09-22T19:53:06.280Z"
   },
   {
    "duration": 443,
    "start_time": "2023-09-22T19:53:06.287Z"
   },
   {
    "duration": 4,
    "start_time": "2023-09-22T19:53:06.732Z"
   },
   {
    "duration": 1772,
    "start_time": "2023-09-22T19:53:06.738Z"
   },
   {
    "duration": 2,
    "start_time": "2023-09-22T19:53:08.512Z"
   },
   {
    "duration": 15,
    "start_time": "2023-09-22T19:53:08.516Z"
   },
   {
    "duration": 9,
    "start_time": "2023-09-22T19:53:08.533Z"
   },
   {
    "duration": 1039,
    "start_time": "2023-09-22T19:53:08.544Z"
   },
   {
    "duration": 30,
    "start_time": "2023-09-22T19:53:09.585Z"
   },
   {
    "duration": 3,
    "start_time": "2023-09-22T19:53:09.617Z"
   },
   {
    "duration": 41,
    "start_time": "2023-09-22T19:53:09.622Z"
   },
   {
    "duration": 14,
    "start_time": "2023-09-22T19:53:09.671Z"
   },
   {
    "duration": 5,
    "start_time": "2023-09-22T19:53:09.687Z"
   },
   {
    "duration": 17,
    "start_time": "2023-09-22T19:53:09.693Z"
   },
   {
    "duration": 378,
    "start_time": "2023-09-22T19:53:09.712Z"
   },
   {
    "duration": 70,
    "start_time": "2023-09-22T19:53:10.092Z"
   },
   {
    "duration": 793,
    "start_time": "2023-09-22T19:53:10.168Z"
   },
   {
    "duration": 13,
    "start_time": "2023-09-22T19:53:10.964Z"
   },
   {
    "duration": 283,
    "start_time": "2023-09-22T19:53:10.980Z"
   },
   {
    "duration": 99,
    "start_time": "2023-09-22T19:53:11.265Z"
   },
   {
    "duration": 13,
    "start_time": "2023-09-22T19:53:11.369Z"
   },
   {
    "duration": 11,
    "start_time": "2023-09-22T19:53:11.384Z"
   },
   {
    "duration": 26,
    "start_time": "2023-09-22T19:53:11.396Z"
   },
   {
    "duration": 8,
    "start_time": "2023-09-22T19:53:11.423Z"
   },
   {
    "duration": 48,
    "start_time": "2023-09-22T19:53:11.432Z"
   },
   {
    "duration": 78,
    "start_time": "2023-09-22T19:53:11.482Z"
   },
   {
    "duration": 7,
    "start_time": "2023-09-22T19:53:11.562Z"
   },
   {
    "duration": 13,
    "start_time": "2023-09-22T19:53:11.571Z"
   },
   {
    "duration": 81,
    "start_time": "2023-09-22T19:53:11.587Z"
   },
   {
    "duration": 17,
    "start_time": "2023-09-22T19:53:11.671Z"
   },
   {
    "duration": 26,
    "start_time": "2023-09-22T19:53:11.690Z"
   },
   {
    "duration": 16,
    "start_time": "2023-09-22T19:53:11.718Z"
   },
   {
    "duration": 45,
    "start_time": "2023-09-22T19:53:11.736Z"
   },
   {
    "duration": 9,
    "start_time": "2023-09-22T19:53:11.784Z"
   },
   {
    "duration": 4,
    "start_time": "2023-09-22T19:53:11.795Z"
   },
   {
    "duration": 142,
    "start_time": "2023-09-22T19:53:11.801Z"
   },
   {
    "duration": 0,
    "start_time": "2023-09-22T19:53:11.945Z"
   },
   {
    "duration": 0,
    "start_time": "2023-09-22T19:53:11.946Z"
   },
   {
    "duration": 0,
    "start_time": "2023-09-22T19:53:11.947Z"
   },
   {
    "duration": 0,
    "start_time": "2023-09-22T19:53:11.948Z"
   },
   {
    "duration": 0,
    "start_time": "2023-09-22T19:53:11.956Z"
   },
   {
    "duration": 0,
    "start_time": "2023-09-22T19:53:11.959Z"
   },
   {
    "duration": 1576,
    "start_time": "2023-09-22T19:54:43.712Z"
   },
   {
    "duration": 464,
    "start_time": "2023-09-22T19:54:45.290Z"
   },
   {
    "duration": 15,
    "start_time": "2023-09-22T19:54:45.756Z"
   },
   {
    "duration": 410,
    "start_time": "2023-09-22T19:54:45.775Z"
   },
   {
    "duration": 6,
    "start_time": "2023-09-22T19:54:46.187Z"
   },
   {
    "duration": 1758,
    "start_time": "2023-09-22T19:54:46.194Z"
   },
   {
    "duration": 10,
    "start_time": "2023-09-22T19:54:47.956Z"
   },
   {
    "duration": 17,
    "start_time": "2023-09-22T19:54:47.969Z"
   },
   {
    "duration": 13,
    "start_time": "2023-09-22T19:54:47.989Z"
   },
   {
    "duration": 1102,
    "start_time": "2023-09-22T19:54:48.006Z"
   },
   {
    "duration": 57,
    "start_time": "2023-09-22T19:54:49.110Z"
   },
   {
    "duration": 6,
    "start_time": "2023-09-22T19:54:49.173Z"
   },
   {
    "duration": 53,
    "start_time": "2023-09-22T19:54:49.183Z"
   },
   {
    "duration": 11,
    "start_time": "2023-09-22T19:54:49.238Z"
   },
   {
    "duration": 36,
    "start_time": "2023-09-22T19:54:49.250Z"
   },
   {
    "duration": 9,
    "start_time": "2023-09-22T19:54:49.288Z"
   },
   {
    "duration": 279,
    "start_time": "2023-09-22T19:54:49.299Z"
   },
   {
    "duration": 82,
    "start_time": "2023-09-22T19:54:49.581Z"
   },
   {
    "duration": 596,
    "start_time": "2023-09-22T19:54:49.665Z"
   },
   {
    "duration": 8,
    "start_time": "2023-09-22T19:54:50.266Z"
   },
   {
    "duration": 210,
    "start_time": "2023-09-22T19:54:50.277Z"
   },
   {
    "duration": 13,
    "start_time": "2023-09-22T19:54:50.561Z"
   },
   {
    "duration": 82,
    "start_time": "2023-09-22T19:54:50.579Z"
   },
   {
    "duration": 13,
    "start_time": "2023-09-22T19:54:50.664Z"
   },
   {
    "duration": 30,
    "start_time": "2023-09-22T19:54:50.679Z"
   },
   {
    "duration": 8,
    "start_time": "2023-09-22T19:54:50.710Z"
   },
   {
    "duration": 63,
    "start_time": "2023-09-22T19:54:50.719Z"
   },
   {
    "duration": 71,
    "start_time": "2023-09-22T19:54:50.791Z"
   },
   {
    "duration": 97,
    "start_time": "2023-09-22T19:54:50.868Z"
   },
   {
    "duration": 17,
    "start_time": "2023-09-22T19:54:50.968Z"
   },
   {
    "duration": 27,
    "start_time": "2023-09-22T19:54:50.987Z"
   },
   {
    "duration": 30,
    "start_time": "2023-09-22T19:54:51.015Z"
   },
   {
    "duration": 54,
    "start_time": "2023-09-22T19:54:51.047Z"
   },
   {
    "duration": 18,
    "start_time": "2023-09-22T19:54:51.103Z"
   },
   {
    "duration": 30,
    "start_time": "2023-09-22T19:54:51.123Z"
   },
   {
    "duration": 30,
    "start_time": "2023-09-22T19:54:51.155Z"
   },
   {
    "duration": 13,
    "start_time": "2023-09-22T19:54:51.187Z"
   },
   {
    "duration": 137,
    "start_time": "2023-09-22T19:54:51.202Z"
   },
   {
    "duration": 0,
    "start_time": "2023-09-22T19:54:51.341Z"
   },
   {
    "duration": 0,
    "start_time": "2023-09-22T19:54:51.342Z"
   },
   {
    "duration": 0,
    "start_time": "2023-09-22T19:54:51.343Z"
   },
   {
    "duration": 0,
    "start_time": "2023-09-22T19:54:51.356Z"
   },
   {
    "duration": 0,
    "start_time": "2023-09-22T19:54:51.357Z"
   },
   {
    "duration": 0,
    "start_time": "2023-09-22T19:54:51.357Z"
   },
   {
    "duration": 1553,
    "start_time": "2023-09-22T19:55:16.712Z"
   },
   {
    "duration": 475,
    "start_time": "2023-09-22T19:55:18.273Z"
   },
   {
    "duration": 16,
    "start_time": "2023-09-22T19:55:18.750Z"
   },
   {
    "duration": 476,
    "start_time": "2023-09-22T19:55:18.771Z"
   },
   {
    "duration": 10,
    "start_time": "2023-09-22T19:55:19.249Z"
   },
   {
    "duration": 1731,
    "start_time": "2023-09-22T19:55:19.260Z"
   },
   {
    "duration": 2,
    "start_time": "2023-09-22T19:55:20.993Z"
   },
   {
    "duration": 23,
    "start_time": "2023-09-22T19:55:20.997Z"
   },
   {
    "duration": 24,
    "start_time": "2023-09-22T19:55:21.022Z"
   },
   {
    "duration": 1021,
    "start_time": "2023-09-22T19:55:21.048Z"
   },
   {
    "duration": 41,
    "start_time": "2023-09-22T19:55:22.071Z"
   },
   {
    "duration": 4,
    "start_time": "2023-09-22T19:55:22.114Z"
   },
   {
    "duration": 50,
    "start_time": "2023-09-22T19:55:22.120Z"
   },
   {
    "duration": 18,
    "start_time": "2023-09-22T19:55:22.172Z"
   },
   {
    "duration": 5,
    "start_time": "2023-09-22T19:55:22.192Z"
   },
   {
    "duration": 6,
    "start_time": "2023-09-22T19:55:22.199Z"
   },
   {
    "duration": 355,
    "start_time": "2023-09-22T19:55:22.207Z"
   },
   {
    "duration": 17,
    "start_time": "2023-09-22T19:55:22.565Z"
   },
   {
    "duration": 887,
    "start_time": "2023-09-22T19:55:22.586Z"
   },
   {
    "duration": 14,
    "start_time": "2023-09-22T19:55:23.475Z"
   },
   {
    "duration": 313,
    "start_time": "2023-09-22T19:55:23.559Z"
   },
   {
    "duration": 96,
    "start_time": "2023-09-22T19:55:23.874Z"
   },
   {
    "duration": 11,
    "start_time": "2023-09-22T19:55:23.972Z"
   },
   {
    "duration": 11,
    "start_time": "2023-09-22T19:55:23.985Z"
   },
   {
    "duration": 45,
    "start_time": "2023-09-22T19:55:23.998Z"
   },
   {
    "duration": 19,
    "start_time": "2023-09-22T19:55:24.061Z"
   },
   {
    "duration": 12,
    "start_time": "2023-09-22T19:55:24.082Z"
   },
   {
    "duration": 3,
    "start_time": "2023-09-22T19:55:24.156Z"
   },
   {
    "duration": 4,
    "start_time": "2023-09-22T19:55:24.161Z"
   },
   {
    "duration": 12,
    "start_time": "2023-09-22T19:55:24.166Z"
   },
   {
    "duration": 6,
    "start_time": "2023-09-22T19:55:24.180Z"
   },
   {
    "duration": 79,
    "start_time": "2023-09-22T19:55:24.190Z"
   },
   {
    "duration": 25,
    "start_time": "2023-09-22T19:55:24.271Z"
   },
   {
    "duration": 16,
    "start_time": "2023-09-22T19:55:24.298Z"
   },
   {
    "duration": 43,
    "start_time": "2023-09-22T19:55:24.316Z"
   },
   {
    "duration": 15,
    "start_time": "2023-09-22T19:55:24.361Z"
   },
   {
    "duration": 10,
    "start_time": "2023-09-22T19:55:24.378Z"
   },
   {
    "duration": 159,
    "start_time": "2023-09-22T19:55:24.390Z"
   },
   {
    "duration": 0,
    "start_time": "2023-09-22T19:55:24.550Z"
   },
   {
    "duration": 0,
    "start_time": "2023-09-22T19:55:24.552Z"
   },
   {
    "duration": 0,
    "start_time": "2023-09-22T19:55:24.556Z"
   },
   {
    "duration": 0,
    "start_time": "2023-09-22T19:55:24.557Z"
   },
   {
    "duration": 0,
    "start_time": "2023-09-22T19:55:24.557Z"
   },
   {
    "duration": 0,
    "start_time": "2023-09-22T19:55:24.558Z"
   },
   {
    "duration": 10,
    "start_time": "2023-09-22T19:55:55.829Z"
   },
   {
    "duration": 5,
    "start_time": "2023-09-22T19:56:02.620Z"
   },
   {
    "duration": 9,
    "start_time": "2023-09-22T19:56:11.118Z"
   },
   {
    "duration": 4,
    "start_time": "2023-09-22T19:56:17.082Z"
   },
   {
    "duration": 4,
    "start_time": "2023-09-22T19:56:20.733Z"
   },
   {
    "duration": 4,
    "start_time": "2023-09-22T19:56:56.525Z"
   },
   {
    "duration": 1667,
    "start_time": "2023-09-22T19:57:43.251Z"
   },
   {
    "duration": 519,
    "start_time": "2023-09-22T19:57:44.920Z"
   },
   {
    "duration": 5,
    "start_time": "2023-09-22T19:57:45.441Z"
   },
   {
    "duration": 447,
    "start_time": "2023-09-22T19:57:45.458Z"
   },
   {
    "duration": 5,
    "start_time": "2023-09-22T19:57:45.907Z"
   },
   {
    "duration": 1961,
    "start_time": "2023-09-22T19:57:45.913Z"
   },
   {
    "duration": 3,
    "start_time": "2023-09-22T19:57:47.876Z"
   },
   {
    "duration": 24,
    "start_time": "2023-09-22T19:57:47.881Z"
   },
   {
    "duration": 11,
    "start_time": "2023-09-22T19:57:47.907Z"
   },
   {
    "duration": 1088,
    "start_time": "2023-09-22T19:57:47.920Z"
   },
   {
    "duration": 56,
    "start_time": "2023-09-22T19:57:49.010Z"
   },
   {
    "duration": 12,
    "start_time": "2023-09-22T19:57:49.073Z"
   },
   {
    "duration": 47,
    "start_time": "2023-09-22T19:57:49.088Z"
   },
   {
    "duration": 16,
    "start_time": "2023-09-22T19:57:49.137Z"
   },
   {
    "duration": 16,
    "start_time": "2023-09-22T19:57:49.156Z"
   },
   {
    "duration": 20,
    "start_time": "2023-09-22T19:57:49.175Z"
   },
   {
    "duration": 394,
    "start_time": "2023-09-22T19:57:49.200Z"
   },
   {
    "duration": 70,
    "start_time": "2023-09-22T19:57:49.597Z"
   },
   {
    "duration": 700,
    "start_time": "2023-09-22T19:57:49.669Z"
   },
   {
    "duration": 7,
    "start_time": "2023-09-22T19:57:50.376Z"
   },
   {
    "duration": 194,
    "start_time": "2023-09-22T19:57:50.389Z"
   },
   {
    "duration": 26,
    "start_time": "2023-09-22T19:57:50.665Z"
   },
   {
    "duration": 71,
    "start_time": "2023-09-22T19:57:50.695Z"
   },
   {
    "duration": 19,
    "start_time": "2023-09-22T19:57:50.768Z"
   },
   {
    "duration": 41,
    "start_time": "2023-09-22T19:57:50.789Z"
   },
   {
    "duration": 16,
    "start_time": "2023-09-22T19:57:50.832Z"
   },
   {
    "duration": 54,
    "start_time": "2023-09-22T19:57:50.850Z"
   },
   {
    "duration": 80,
    "start_time": "2023-09-22T19:57:50.980Z"
   },
   {
    "duration": 30,
    "start_time": "2023-09-22T19:57:51.062Z"
   },
   {
    "duration": 11,
    "start_time": "2023-09-22T19:57:51.094Z"
   },
   {
    "duration": 30,
    "start_time": "2023-09-22T19:57:51.106Z"
   },
   {
    "duration": 23,
    "start_time": "2023-09-22T19:57:51.138Z"
   },
   {
    "duration": 73,
    "start_time": "2023-09-22T19:57:51.163Z"
   },
   {
    "duration": 19,
    "start_time": "2023-09-22T19:57:51.238Z"
   },
   {
    "duration": 33,
    "start_time": "2023-09-22T19:57:51.265Z"
   },
   {
    "duration": 11,
    "start_time": "2023-09-22T19:57:51.300Z"
   },
   {
    "duration": 38,
    "start_time": "2023-09-22T19:57:51.312Z"
   },
   {
    "duration": 37,
    "start_time": "2023-09-22T19:57:51.352Z"
   },
   {
    "duration": 148,
    "start_time": "2023-09-22T19:57:51.391Z"
   },
   {
    "duration": 0,
    "start_time": "2023-09-22T19:57:51.540Z"
   },
   {
    "duration": 0,
    "start_time": "2023-09-22T19:57:51.541Z"
   },
   {
    "duration": 0,
    "start_time": "2023-09-22T19:57:51.542Z"
   },
   {
    "duration": 0,
    "start_time": "2023-09-22T19:57:51.543Z"
   },
   {
    "duration": 0,
    "start_time": "2023-09-22T19:57:51.544Z"
   },
   {
    "duration": 0,
    "start_time": "2023-09-22T19:57:51.545Z"
   },
   {
    "duration": 5,
    "start_time": "2023-09-22T19:59:03.814Z"
   },
   {
    "duration": 17,
    "start_time": "2023-09-22T19:59:05.229Z"
   },
   {
    "duration": 5,
    "start_time": "2023-09-22T19:59:22.413Z"
   },
   {
    "duration": 20,
    "start_time": "2023-09-22T19:59:24.206Z"
   },
   {
    "duration": 1564,
    "start_time": "2023-09-22T20:02:08.481Z"
   },
   {
    "duration": 484,
    "start_time": "2023-09-22T20:02:10.047Z"
   },
   {
    "duration": 4,
    "start_time": "2023-09-22T20:02:10.533Z"
   },
   {
    "duration": 423,
    "start_time": "2023-09-22T20:02:10.538Z"
   },
   {
    "duration": 7,
    "start_time": "2023-09-22T20:02:10.973Z"
   },
   {
    "duration": 1701,
    "start_time": "2023-09-22T20:02:10.982Z"
   },
   {
    "duration": 4,
    "start_time": "2023-09-22T20:02:12.685Z"
   },
   {
    "duration": 17,
    "start_time": "2023-09-22T20:02:12.690Z"
   },
   {
    "duration": 5,
    "start_time": "2023-09-22T20:02:12.709Z"
   },
   {
    "duration": 994,
    "start_time": "2023-09-22T20:02:12.715Z"
   },
   {
    "duration": 31,
    "start_time": "2023-09-22T20:02:13.711Z"
   },
   {
    "duration": 15,
    "start_time": "2023-09-22T20:02:13.764Z"
   },
   {
    "duration": 28,
    "start_time": "2023-09-22T20:02:13.783Z"
   },
   {
    "duration": 11,
    "start_time": "2023-09-22T20:02:13.814Z"
   },
   {
    "duration": 4,
    "start_time": "2023-09-22T20:02:13.827Z"
   },
   {
    "duration": 7,
    "start_time": "2023-09-22T20:02:13.833Z"
   },
   {
    "duration": 423,
    "start_time": "2023-09-22T20:02:13.841Z"
   },
   {
    "duration": 7,
    "start_time": "2023-09-22T20:02:14.266Z"
   },
   {
    "duration": 687,
    "start_time": "2023-09-22T20:02:14.275Z"
   },
   {
    "duration": 5,
    "start_time": "2023-09-22T20:02:14.971Z"
   },
   {
    "duration": 377,
    "start_time": "2023-09-22T20:02:14.980Z"
   },
   {
    "duration": 100,
    "start_time": "2023-09-22T20:02:15.363Z"
   },
   {
    "duration": 10,
    "start_time": "2023-09-22T20:02:15.478Z"
   },
   {
    "duration": 13,
    "start_time": "2023-09-22T20:02:15.490Z"
   },
   {
    "duration": 26,
    "start_time": "2023-09-22T20:02:15.504Z"
   },
   {
    "duration": 8,
    "start_time": "2023-09-22T20:02:15.532Z"
   },
   {
    "duration": 28,
    "start_time": "2023-09-22T20:02:15.556Z"
   },
   {
    "duration": 4,
    "start_time": "2023-09-22T20:02:15.586Z"
   },
   {
    "duration": 4,
    "start_time": "2023-09-22T20:02:15.656Z"
   },
   {
    "duration": 8,
    "start_time": "2023-09-22T20:02:15.667Z"
   },
   {
    "duration": 82,
    "start_time": "2023-09-22T20:02:15.677Z"
   },
   {
    "duration": 14,
    "start_time": "2023-09-22T20:02:15.761Z"
   },
   {
    "duration": 23,
    "start_time": "2023-09-22T20:02:15.777Z"
   },
   {
    "duration": 15,
    "start_time": "2023-09-22T20:02:15.802Z"
   },
   {
    "duration": 43,
    "start_time": "2023-09-22T20:02:15.819Z"
   },
   {
    "duration": 20,
    "start_time": "2023-09-22T20:02:15.866Z"
   },
   {
    "duration": 5,
    "start_time": "2023-09-22T20:02:15.887Z"
   },
   {
    "duration": 10,
    "start_time": "2023-09-22T20:02:15.893Z"
   },
   {
    "duration": 139,
    "start_time": "2023-09-22T20:02:15.904Z"
   },
   {
    "duration": 0,
    "start_time": "2023-09-22T20:02:16.045Z"
   },
   {
    "duration": 0,
    "start_time": "2023-09-22T20:02:16.046Z"
   },
   {
    "duration": 0,
    "start_time": "2023-09-22T20:02:16.046Z"
   },
   {
    "duration": 0,
    "start_time": "2023-09-22T20:02:16.047Z"
   },
   {
    "duration": 0,
    "start_time": "2023-09-22T20:02:16.048Z"
   },
   {
    "duration": 0,
    "start_time": "2023-09-22T20:02:16.049Z"
   },
   {
    "duration": 12,
    "start_time": "2023-09-22T20:03:00.123Z"
   },
   {
    "duration": 1618,
    "start_time": "2023-09-22T20:03:12.573Z"
   },
   {
    "duration": 469,
    "start_time": "2023-09-22T20:03:14.193Z"
   },
   {
    "duration": 5,
    "start_time": "2023-09-22T20:03:14.669Z"
   },
   {
    "duration": 425,
    "start_time": "2023-09-22T20:03:14.680Z"
   },
   {
    "duration": 5,
    "start_time": "2023-09-22T20:03:15.107Z"
   },
   {
    "duration": 1768,
    "start_time": "2023-09-22T20:03:15.113Z"
   },
   {
    "duration": 4,
    "start_time": "2023-09-22T20:03:16.885Z"
   },
   {
    "duration": 22,
    "start_time": "2023-09-22T20:03:16.890Z"
   },
   {
    "duration": 9,
    "start_time": "2023-09-22T20:03:16.914Z"
   },
   {
    "duration": 1053,
    "start_time": "2023-09-22T20:03:16.925Z"
   },
   {
    "duration": 38,
    "start_time": "2023-09-22T20:03:17.985Z"
   },
   {
    "duration": 4,
    "start_time": "2023-09-22T20:03:18.025Z"
   },
   {
    "duration": 77,
    "start_time": "2023-09-22T20:03:18.031Z"
   },
   {
    "duration": 13,
    "start_time": "2023-09-22T20:03:18.111Z"
   },
   {
    "duration": 12,
    "start_time": "2023-09-22T20:03:18.126Z"
   },
   {
    "duration": 32,
    "start_time": "2023-09-22T20:03:18.140Z"
   },
   {
    "duration": 391,
    "start_time": "2023-09-22T20:03:18.177Z"
   },
   {
    "duration": 14,
    "start_time": "2023-09-22T20:03:18.572Z"
   },
   {
    "duration": 868,
    "start_time": "2023-09-22T20:03:18.590Z"
   },
   {
    "duration": 7,
    "start_time": "2023-09-22T20:03:19.459Z"
   },
   {
    "duration": 309,
    "start_time": "2023-09-22T20:03:19.468Z"
   },
   {
    "duration": 20,
    "start_time": "2023-09-22T20:03:19.868Z"
   },
   {
    "duration": 17,
    "start_time": "2023-09-22T20:03:19.889Z"
   },
   {
    "duration": 25,
    "start_time": "2023-09-22T20:03:19.908Z"
   },
   {
    "duration": 62,
    "start_time": "2023-09-22T20:03:19.934Z"
   },
   {
    "duration": 9,
    "start_time": "2023-09-22T20:03:19.998Z"
   },
   {
    "duration": 78,
    "start_time": "2023-09-22T20:03:20.009Z"
   },
   {
    "duration": 22,
    "start_time": "2023-09-22T20:03:20.160Z"
   },
   {
    "duration": 5,
    "start_time": "2023-09-22T20:03:20.184Z"
   },
   {
    "duration": 10,
    "start_time": "2023-09-22T20:03:20.259Z"
   },
   {
    "duration": 26,
    "start_time": "2023-09-22T20:03:20.275Z"
   },
   {
    "duration": 40,
    "start_time": "2023-09-22T20:03:20.303Z"
   },
   {
    "duration": 63,
    "start_time": "2023-09-22T20:03:20.345Z"
   },
   {
    "duration": 36,
    "start_time": "2023-09-22T20:03:20.410Z"
   },
   {
    "duration": 56,
    "start_time": "2023-09-22T20:03:20.448Z"
   },
   {
    "duration": 75,
    "start_time": "2023-09-22T20:03:20.506Z"
   },
   {
    "duration": 26,
    "start_time": "2023-09-22T20:03:20.585Z"
   },
   {
    "duration": 156,
    "start_time": "2023-09-22T20:03:20.613Z"
   },
   {
    "duration": 0,
    "start_time": "2023-09-22T20:03:20.771Z"
   },
   {
    "duration": 0,
    "start_time": "2023-09-22T20:03:20.772Z"
   },
   {
    "duration": 0,
    "start_time": "2023-09-22T20:03:20.773Z"
   },
   {
    "duration": 0,
    "start_time": "2023-09-22T20:03:20.774Z"
   },
   {
    "duration": 0,
    "start_time": "2023-09-22T20:03:20.775Z"
   },
   {
    "duration": 0,
    "start_time": "2023-09-22T20:03:20.776Z"
   },
   {
    "duration": 0,
    "start_time": "2023-09-22T20:03:20.777Z"
   },
   {
    "duration": 0,
    "start_time": "2023-09-22T20:03:20.778Z"
   },
   {
    "duration": 9,
    "start_time": "2023-09-22T20:03:55.674Z"
   },
   {
    "duration": 4,
    "start_time": "2023-09-22T20:03:58.943Z"
   },
   {
    "duration": 15,
    "start_time": "2023-09-22T20:04:00.328Z"
   },
   {
    "duration": 5,
    "start_time": "2023-09-22T20:04:01.408Z"
   },
   {
    "duration": 5,
    "start_time": "2023-09-22T20:04:12.983Z"
   },
   {
    "duration": 1752,
    "start_time": "2023-09-22T20:04:21.173Z"
   },
   {
    "duration": 6,
    "start_time": "2023-09-22T20:04:26.530Z"
   },
   {
    "duration": 4,
    "start_time": "2023-09-22T20:07:06.484Z"
   },
   {
    "duration": 29,
    "start_time": "2023-09-22T20:07:08.034Z"
   },
   {
    "duration": 5,
    "start_time": "2023-09-22T20:07:58.612Z"
   },
   {
    "duration": 32,
    "start_time": "2023-09-22T20:08:00.362Z"
   },
   {
    "duration": 9,
    "start_time": "2023-09-22T20:09:46.714Z"
   },
   {
    "duration": 1904,
    "start_time": "2023-09-22T20:09:48.586Z"
   },
   {
    "duration": 10,
    "start_time": "2023-09-22T20:10:00.834Z"
   },
   {
    "duration": 105,
    "start_time": "2023-09-22T20:10:03.201Z"
   },
   {
    "duration": 1859,
    "start_time": "2023-09-22T20:10:05.611Z"
   },
   {
    "duration": 1626,
    "start_time": "2023-09-22T20:10:26.308Z"
   },
   {
    "duration": 496,
    "start_time": "2023-09-22T20:10:27.936Z"
   },
   {
    "duration": 4,
    "start_time": "2023-09-22T20:10:28.434Z"
   },
   {
    "duration": 521,
    "start_time": "2023-09-22T20:10:28.439Z"
   },
   {
    "duration": 5,
    "start_time": "2023-09-22T20:10:28.963Z"
   },
   {
    "duration": 1836,
    "start_time": "2023-09-22T20:10:28.975Z"
   },
   {
    "duration": 3,
    "start_time": "2023-09-22T20:10:30.813Z"
   },
   {
    "duration": 63,
    "start_time": "2023-09-22T20:10:30.818Z"
   },
   {
    "duration": 43,
    "start_time": "2023-09-22T20:10:30.885Z"
   },
   {
    "duration": 1005,
    "start_time": "2023-09-22T20:10:30.931Z"
   },
   {
    "duration": 49,
    "start_time": "2023-09-22T20:10:31.937Z"
   },
   {
    "duration": 5,
    "start_time": "2023-09-22T20:10:31.987Z"
   },
   {
    "duration": 49,
    "start_time": "2023-09-22T20:10:31.993Z"
   },
   {
    "duration": 20,
    "start_time": "2023-09-22T20:10:32.045Z"
   },
   {
    "duration": 18,
    "start_time": "2023-09-22T20:10:32.075Z"
   },
   {
    "duration": 14,
    "start_time": "2023-09-22T20:10:32.095Z"
   },
   {
    "duration": 274,
    "start_time": "2023-09-22T20:10:32.111Z"
   },
   {
    "duration": 6,
    "start_time": "2023-09-22T20:10:32.457Z"
   },
   {
    "duration": 897,
    "start_time": "2023-09-22T20:10:32.465Z"
   },
   {
    "duration": 6,
    "start_time": "2023-09-22T20:10:33.364Z"
   },
   {
    "duration": 309,
    "start_time": "2023-09-22T20:10:33.372Z"
   },
   {
    "duration": 83,
    "start_time": "2023-09-22T20:10:33.689Z"
   },
   {
    "duration": 18,
    "start_time": "2023-09-22T20:10:33.778Z"
   },
   {
    "duration": 61,
    "start_time": "2023-09-22T20:10:33.798Z"
   },
   {
    "duration": 41,
    "start_time": "2023-09-22T20:10:33.861Z"
   },
   {
    "duration": 8,
    "start_time": "2023-09-22T20:10:33.904Z"
   },
   {
    "duration": 57,
    "start_time": "2023-09-22T20:10:33.914Z"
   },
   {
    "duration": 3,
    "start_time": "2023-09-22T20:10:33.974Z"
   },
   {
    "duration": 85,
    "start_time": "2023-09-22T20:10:33.979Z"
   },
   {
    "duration": 9,
    "start_time": "2023-09-22T20:10:34.071Z"
   },
   {
    "duration": 12,
    "start_time": "2023-09-22T20:10:34.161Z"
   },
   {
    "duration": 8,
    "start_time": "2023-09-22T20:10:34.175Z"
   },
   {
    "duration": 20,
    "start_time": "2023-09-22T20:10:34.187Z"
   },
   {
    "duration": 17,
    "start_time": "2023-09-22T20:10:34.209Z"
   },
   {
    "duration": 50,
    "start_time": "2023-09-22T20:10:34.228Z"
   },
   {
    "duration": 6,
    "start_time": "2023-09-22T20:10:34.283Z"
   },
   {
    "duration": 136,
    "start_time": "2023-09-22T20:10:34.291Z"
   },
   {
    "duration": 0,
    "start_time": "2023-09-22T20:10:34.429Z"
   },
   {
    "duration": 0,
    "start_time": "2023-09-22T20:10:34.430Z"
   },
   {
    "duration": 0,
    "start_time": "2023-09-22T20:10:34.431Z"
   },
   {
    "duration": 0,
    "start_time": "2023-09-22T20:10:34.432Z"
   },
   {
    "duration": 1614,
    "start_time": "2023-09-22T20:10:52.731Z"
   },
   {
    "duration": 490,
    "start_time": "2023-09-22T20:10:54.346Z"
   },
   {
    "duration": 4,
    "start_time": "2023-09-22T20:10:54.838Z"
   },
   {
    "duration": 465,
    "start_time": "2023-09-22T20:10:54.844Z"
   },
   {
    "duration": 4,
    "start_time": "2023-09-22T20:10:55.311Z"
   },
   {
    "duration": 1762,
    "start_time": "2023-09-22T20:10:55.317Z"
   },
   {
    "duration": 4,
    "start_time": "2023-09-22T20:10:57.085Z"
   },
   {
    "duration": 19,
    "start_time": "2023-09-22T20:10:57.090Z"
   },
   {
    "duration": 9,
    "start_time": "2023-09-22T20:10:57.111Z"
   },
   {
    "duration": 987,
    "start_time": "2023-09-22T20:10:57.123Z"
   },
   {
    "duration": 30,
    "start_time": "2023-09-22T20:10:58.112Z"
   },
   {
    "duration": 18,
    "start_time": "2023-09-22T20:10:58.157Z"
   },
   {
    "duration": 49,
    "start_time": "2023-09-22T20:10:58.177Z"
   },
   {
    "duration": 11,
    "start_time": "2023-09-22T20:10:58.228Z"
   },
   {
    "duration": 38,
    "start_time": "2023-09-22T20:10:58.241Z"
   },
   {
    "duration": 16,
    "start_time": "2023-09-22T20:10:58.282Z"
   },
   {
    "duration": 191,
    "start_time": "2023-09-22T20:10:58.300Z"
   },
   {
    "duration": 15,
    "start_time": "2023-09-22T20:10:58.567Z"
   },
   {
    "duration": 679,
    "start_time": "2023-09-22T20:10:58.584Z"
   },
   {
    "duration": 5,
    "start_time": "2023-09-22T20:10:59.265Z"
   },
   {
    "duration": 290,
    "start_time": "2023-09-22T20:10:59.273Z"
   },
   {
    "duration": 19,
    "start_time": "2023-09-22T20:10:59.568Z"
   },
   {
    "duration": 17,
    "start_time": "2023-09-22T20:10:59.664Z"
   },
   {
    "duration": 16,
    "start_time": "2023-09-22T20:10:59.685Z"
   },
   {
    "duration": 39,
    "start_time": "2023-09-22T20:10:59.703Z"
   },
   {
    "duration": 19,
    "start_time": "2023-09-22T20:10:59.744Z"
   },
   {
    "duration": 17,
    "start_time": "2023-09-22T20:10:59.764Z"
   },
   {
    "duration": 82,
    "start_time": "2023-09-22T20:10:59.789Z"
   },
   {
    "duration": 111,
    "start_time": "2023-09-22T20:10:59.873Z"
   },
   {
    "duration": 58,
    "start_time": "2023-09-22T20:10:59.986Z"
   },
   {
    "duration": 53,
    "start_time": "2023-09-22T20:11:00.046Z"
   },
   {
    "duration": 38,
    "start_time": "2023-09-22T20:11:00.101Z"
   },
   {
    "duration": 58,
    "start_time": "2023-09-22T20:11:00.141Z"
   },
   {
    "duration": 53,
    "start_time": "2023-09-22T20:11:00.200Z"
   },
   {
    "duration": 48,
    "start_time": "2023-09-22T20:11:00.255Z"
   },
   {
    "duration": 36,
    "start_time": "2023-09-22T20:11:00.305Z"
   },
   {
    "duration": 60,
    "start_time": "2023-09-22T20:11:00.343Z"
   },
   {
    "duration": 15,
    "start_time": "2023-09-22T20:11:00.405Z"
   },
   {
    "duration": 45,
    "start_time": "2023-09-22T20:11:00.422Z"
   },
   {
    "duration": 6100,
    "start_time": "2023-09-22T20:11:00.469Z"
   },
   {
    "duration": 9,
    "start_time": "2023-09-22T20:11:06.577Z"
   },
   {
    "duration": 1598,
    "start_time": "2023-09-22T20:13:54.800Z"
   },
   {
    "duration": 495,
    "start_time": "2023-09-22T20:13:56.400Z"
   },
   {
    "duration": 4,
    "start_time": "2023-09-22T20:13:56.897Z"
   },
   {
    "duration": 482,
    "start_time": "2023-09-22T20:13:56.903Z"
   },
   {
    "duration": 4,
    "start_time": "2023-09-22T20:13:57.387Z"
   },
   {
    "duration": 1781,
    "start_time": "2023-09-22T20:13:57.392Z"
   },
   {
    "duration": 5,
    "start_time": "2023-09-22T20:13:59.183Z"
   },
   {
    "duration": 19,
    "start_time": "2023-09-22T20:13:59.189Z"
   },
   {
    "duration": 7,
    "start_time": "2023-09-22T20:13:59.210Z"
   },
   {
    "duration": 997,
    "start_time": "2023-09-22T20:13:59.220Z"
   },
   {
    "duration": 44,
    "start_time": "2023-09-22T20:14:00.219Z"
   },
   {
    "duration": 77,
    "start_time": "2023-09-22T20:14:00.265Z"
   },
   {
    "duration": 66,
    "start_time": "2023-09-22T20:14:00.344Z"
   },
   {
    "duration": 23,
    "start_time": "2023-09-22T20:14:00.412Z"
   },
   {
    "duration": 47,
    "start_time": "2023-09-22T20:14:00.437Z"
   },
   {
    "duration": 56,
    "start_time": "2023-09-22T20:14:00.486Z"
   },
   {
    "duration": 419,
    "start_time": "2023-09-22T20:14:00.544Z"
   },
   {
    "duration": 15,
    "start_time": "2023-09-22T20:14:00.965Z"
   },
   {
    "duration": 716,
    "start_time": "2023-09-22T20:14:00.982Z"
   },
   {
    "duration": 5,
    "start_time": "2023-09-22T20:14:01.765Z"
   },
   {
    "duration": 295,
    "start_time": "2023-09-22T20:14:01.772Z"
   },
   {
    "duration": 86,
    "start_time": "2023-09-22T20:14:02.069Z"
   },
   {
    "duration": 17,
    "start_time": "2023-09-22T20:14:02.158Z"
   },
   {
    "duration": 15,
    "start_time": "2023-09-22T20:14:02.177Z"
   },
   {
    "duration": 23,
    "start_time": "2023-09-22T20:14:02.194Z"
   },
   {
    "duration": 11,
    "start_time": "2023-09-22T20:14:02.219Z"
   },
   {
    "duration": 22,
    "start_time": "2023-09-22T20:14:02.259Z"
   },
   {
    "duration": 76,
    "start_time": "2023-09-22T20:14:02.286Z"
   },
   {
    "duration": 8,
    "start_time": "2023-09-22T20:14:02.365Z"
   },
   {
    "duration": 89,
    "start_time": "2023-09-22T20:14:02.377Z"
   },
   {
    "duration": 15,
    "start_time": "2023-09-22T20:14:02.469Z"
   },
   {
    "duration": 4,
    "start_time": "2023-09-22T20:14:02.486Z"
   },
   {
    "duration": 21,
    "start_time": "2023-09-22T20:14:02.492Z"
   },
   {
    "duration": 16,
    "start_time": "2023-09-22T20:14:02.515Z"
   },
   {
    "duration": 41,
    "start_time": "2023-09-22T20:14:02.533Z"
   },
   {
    "duration": 6,
    "start_time": "2023-09-22T20:14:02.575Z"
   },
   {
    "duration": 28,
    "start_time": "2023-09-22T20:14:02.583Z"
   },
   {
    "duration": 8,
    "start_time": "2023-09-22T20:14:02.613Z"
   },
   {
    "duration": 21,
    "start_time": "2023-09-22T20:14:02.623Z"
   },
   {
    "duration": 6017,
    "start_time": "2023-09-22T20:14:02.645Z"
   },
   {
    "duration": 15,
    "start_time": "2023-09-22T20:14:08.664Z"
   },
   {
    "duration": 1599,
    "start_time": "2023-09-22T20:15:40.496Z"
   },
   {
    "duration": 488,
    "start_time": "2023-09-22T20:15:42.097Z"
   },
   {
    "duration": 5,
    "start_time": "2023-09-22T20:15:42.587Z"
   },
   {
    "duration": 578,
    "start_time": "2023-09-22T20:15:42.595Z"
   },
   {
    "duration": 6,
    "start_time": "2023-09-22T20:15:43.180Z"
   },
   {
    "duration": 1665,
    "start_time": "2023-09-22T20:15:43.188Z"
   },
   {
    "duration": 9,
    "start_time": "2023-09-22T20:15:44.865Z"
   },
   {
    "duration": 17,
    "start_time": "2023-09-22T20:15:44.879Z"
   },
   {
    "duration": 8,
    "start_time": "2023-09-22T20:15:44.898Z"
   },
   {
    "duration": 1011,
    "start_time": "2023-09-22T20:15:44.909Z"
   },
   {
    "duration": 43,
    "start_time": "2023-09-22T20:15:45.922Z"
   },
   {
    "duration": 7,
    "start_time": "2023-09-22T20:15:45.966Z"
   },
   {
    "duration": 57,
    "start_time": "2023-09-22T20:15:45.983Z"
   },
   {
    "duration": 13,
    "start_time": "2023-09-22T20:15:46.042Z"
   },
   {
    "duration": 15,
    "start_time": "2023-09-22T20:15:46.069Z"
   },
   {
    "duration": 26,
    "start_time": "2023-09-22T20:15:46.085Z"
   },
   {
    "duration": 353,
    "start_time": "2023-09-22T20:15:46.113Z"
   },
   {
    "duration": 10,
    "start_time": "2023-09-22T20:15:46.467Z"
   },
   {
    "duration": 687,
    "start_time": "2023-09-22T20:15:46.478Z"
   },
   {
    "duration": 13,
    "start_time": "2023-09-22T20:15:47.167Z"
   },
   {
    "duration": 485,
    "start_time": "2023-09-22T20:15:47.182Z"
   },
   {
    "duration": 97,
    "start_time": "2023-09-22T20:15:47.670Z"
   },
   {
    "duration": 12,
    "start_time": "2023-09-22T20:15:47.771Z"
   },
   {
    "duration": 13,
    "start_time": "2023-09-22T20:15:47.786Z"
   },
   {
    "duration": 26,
    "start_time": "2023-09-22T20:15:47.801Z"
   },
   {
    "duration": 8,
    "start_time": "2023-09-22T20:15:47.829Z"
   },
   {
    "duration": 18,
    "start_time": "2023-09-22T20:15:47.859Z"
   },
   {
    "duration": 73,
    "start_time": "2023-09-22T20:15:47.885Z"
   },
   {
    "duration": 19,
    "start_time": "2023-09-22T20:15:47.961Z"
   },
   {
    "duration": 82,
    "start_time": "2023-09-22T20:15:47.983Z"
   },
   {
    "duration": 14,
    "start_time": "2023-09-22T20:15:48.069Z"
   },
   {
    "duration": 8,
    "start_time": "2023-09-22T20:15:48.086Z"
   },
   {
    "duration": 23,
    "start_time": "2023-09-22T20:15:48.096Z"
   },
   {
    "duration": 15,
    "start_time": "2023-09-22T20:15:48.121Z"
   },
   {
    "duration": 45,
    "start_time": "2023-09-22T20:15:48.138Z"
   },
   {
    "duration": 5,
    "start_time": "2023-09-22T20:15:48.185Z"
   },
   {
    "duration": 29,
    "start_time": "2023-09-22T20:15:48.192Z"
   },
   {
    "duration": 10,
    "start_time": "2023-09-22T20:15:48.223Z"
   },
   {
    "duration": 32,
    "start_time": "2023-09-22T20:15:48.234Z"
   },
   {
    "duration": 2158,
    "start_time": "2023-09-22T20:15:48.270Z"
   },
   {
    "duration": 0,
    "start_time": "2023-09-22T20:15:50.429Z"
   },
   {
    "duration": 97,
    "start_time": "2023-09-22T20:16:11.300Z"
   },
   {
    "duration": 6042,
    "start_time": "2023-09-22T20:16:13.181Z"
   },
   {
    "duration": 9,
    "start_time": "2023-09-22T20:16:52.723Z"
   },
   {
    "duration": 6101,
    "start_time": "2023-09-22T20:16:54.205Z"
   },
   {
    "duration": 1540,
    "start_time": "2023-09-22T20:23:43.897Z"
   },
   {
    "duration": 483,
    "start_time": "2023-09-22T20:23:45.439Z"
   },
   {
    "duration": 4,
    "start_time": "2023-09-22T20:23:45.923Z"
   },
   {
    "duration": 422,
    "start_time": "2023-09-22T20:23:45.929Z"
   },
   {
    "duration": 7,
    "start_time": "2023-09-22T20:23:46.372Z"
   },
   {
    "duration": 1713,
    "start_time": "2023-09-22T20:23:46.383Z"
   },
   {
    "duration": 3,
    "start_time": "2023-09-22T20:23:48.098Z"
   },
   {
    "duration": 73,
    "start_time": "2023-09-22T20:23:48.102Z"
   },
   {
    "duration": 61,
    "start_time": "2023-09-22T20:23:48.177Z"
   },
   {
    "duration": 1050,
    "start_time": "2023-09-22T20:23:48.241Z"
   },
   {
    "duration": 31,
    "start_time": "2023-09-22T20:23:49.293Z"
   },
   {
    "duration": 19,
    "start_time": "2023-09-22T20:23:49.326Z"
   },
   {
    "duration": 52,
    "start_time": "2023-09-22T20:23:49.347Z"
   },
   {
    "duration": 10,
    "start_time": "2023-09-22T20:23:49.400Z"
   },
   {
    "duration": 30,
    "start_time": "2023-09-22T20:23:49.412Z"
   },
   {
    "duration": 39,
    "start_time": "2023-09-22T20:23:49.444Z"
   },
   {
    "duration": 374,
    "start_time": "2023-09-22T20:23:49.485Z"
   },
   {
    "duration": 22,
    "start_time": "2023-09-22T20:23:49.861Z"
   },
   {
    "duration": 684,
    "start_time": "2023-09-22T20:23:49.886Z"
   },
   {
    "duration": 6,
    "start_time": "2023-09-22T20:23:50.575Z"
   },
   {
    "duration": 295,
    "start_time": "2023-09-22T20:23:50.583Z"
   },
   {
    "duration": 91,
    "start_time": "2023-09-22T20:23:50.884Z"
   },
   {
    "duration": 79,
    "start_time": "2023-09-22T20:23:50.979Z"
   },
   {
    "duration": 17,
    "start_time": "2023-09-22T20:23:51.064Z"
   },
   {
    "duration": 51,
    "start_time": "2023-09-22T20:23:51.082Z"
   },
   {
    "duration": 16,
    "start_time": "2023-09-22T20:23:51.134Z"
   },
   {
    "duration": 36,
    "start_time": "2023-09-22T20:23:51.151Z"
   },
   {
    "duration": 79,
    "start_time": "2023-09-22T20:23:51.192Z"
   },
   {
    "duration": 98,
    "start_time": "2023-09-22T20:23:51.273Z"
   },
   {
    "duration": 24,
    "start_time": "2023-09-22T20:23:51.373Z"
   },
   {
    "duration": 32,
    "start_time": "2023-09-22T20:23:51.399Z"
   },
   {
    "duration": 41,
    "start_time": "2023-09-22T20:23:51.432Z"
   },
   {
    "duration": 43,
    "start_time": "2023-09-22T20:23:51.475Z"
   },
   {
    "duration": 23,
    "start_time": "2023-09-22T20:23:51.520Z"
   },
   {
    "duration": 37,
    "start_time": "2023-09-22T20:23:51.545Z"
   },
   {
    "duration": 7,
    "start_time": "2023-09-22T20:23:51.584Z"
   },
   {
    "duration": 47,
    "start_time": "2023-09-22T20:23:51.593Z"
   },
   {
    "duration": 8,
    "start_time": "2023-09-22T20:23:51.642Z"
   },
   {
    "duration": 27,
    "start_time": "2023-09-22T20:23:51.652Z"
   },
   {
    "duration": 153,
    "start_time": "2023-09-22T20:23:51.684Z"
   },
   {
    "duration": 0,
    "start_time": "2023-09-22T20:23:51.838Z"
   },
   {
    "duration": 9,
    "start_time": "2023-09-22T20:24:11.205Z"
   },
   {
    "duration": 5,
    "start_time": "2023-09-22T20:24:24.581Z"
   },
   {
    "duration": 1589,
    "start_time": "2023-09-22T20:25:23.575Z"
   },
   {
    "duration": 497,
    "start_time": "2023-09-22T20:25:25.168Z"
   },
   {
    "duration": 12,
    "start_time": "2023-09-22T20:25:25.671Z"
   },
   {
    "duration": 461,
    "start_time": "2023-09-22T20:25:25.686Z"
   },
   {
    "duration": 5,
    "start_time": "2023-09-22T20:25:26.148Z"
   },
   {
    "duration": 1832,
    "start_time": "2023-09-22T20:25:26.158Z"
   },
   {
    "duration": 3,
    "start_time": "2023-09-22T20:25:27.992Z"
   },
   {
    "duration": 28,
    "start_time": "2023-09-22T20:25:27.996Z"
   },
   {
    "duration": 22,
    "start_time": "2023-09-22T20:25:28.026Z"
   },
   {
    "duration": 1049,
    "start_time": "2023-09-22T20:25:28.052Z"
   },
   {
    "duration": 33,
    "start_time": "2023-09-22T20:25:29.103Z"
   },
   {
    "duration": 31,
    "start_time": "2023-09-22T20:25:29.139Z"
   },
   {
    "duration": 40,
    "start_time": "2023-09-22T20:25:29.172Z"
   },
   {
    "duration": 11,
    "start_time": "2023-09-22T20:25:29.214Z"
   },
   {
    "duration": 5,
    "start_time": "2023-09-22T20:25:29.227Z"
   },
   {
    "duration": 13,
    "start_time": "2023-09-22T20:25:29.234Z"
   },
   {
    "duration": 328,
    "start_time": "2023-09-22T20:25:29.249Z"
   },
   {
    "duration": 10,
    "start_time": "2023-09-22T20:25:29.581Z"
   },
   {
    "duration": 809,
    "start_time": "2023-09-22T20:25:29.659Z"
   },
   {
    "duration": 10,
    "start_time": "2023-09-22T20:25:30.470Z"
   },
   {
    "duration": 300,
    "start_time": "2023-09-22T20:25:30.559Z"
   },
   {
    "duration": 89,
    "start_time": "2023-09-22T20:25:30.873Z"
   },
   {
    "duration": 28,
    "start_time": "2023-09-22T20:25:30.964Z"
   },
   {
    "duration": 61,
    "start_time": "2023-09-22T20:25:30.994Z"
   },
   {
    "duration": 66,
    "start_time": "2023-09-22T20:25:31.057Z"
   },
   {
    "duration": 61,
    "start_time": "2023-09-22T20:25:31.124Z"
   },
   {
    "duration": 79,
    "start_time": "2023-09-22T20:25:31.187Z"
   },
   {
    "duration": 95,
    "start_time": "2023-09-22T20:25:31.271Z"
   },
   {
    "duration": 42,
    "start_time": "2023-09-22T20:25:31.371Z"
   },
   {
    "duration": 44,
    "start_time": "2023-09-22T20:25:31.415Z"
   },
   {
    "duration": 66,
    "start_time": "2023-09-22T20:25:31.461Z"
   },
   {
    "duration": 51,
    "start_time": "2023-09-22T20:25:31.529Z"
   },
   {
    "duration": 50,
    "start_time": "2023-09-22T20:25:31.582Z"
   },
   {
    "duration": 56,
    "start_time": "2023-09-22T20:25:31.634Z"
   },
   {
    "duration": 24,
    "start_time": "2023-09-22T20:25:31.692Z"
   },
   {
    "duration": 21,
    "start_time": "2023-09-22T20:25:31.717Z"
   },
   {
    "duration": 71,
    "start_time": "2023-09-22T20:25:31.740Z"
   },
   {
    "duration": 10,
    "start_time": "2023-09-22T20:25:31.813Z"
   },
   {
    "duration": 17,
    "start_time": "2023-09-22T20:25:31.825Z"
   },
   {
    "duration": 39,
    "start_time": "2023-09-22T20:25:31.844Z"
   },
   {
    "duration": 6193,
    "start_time": "2023-09-22T20:25:31.885Z"
   },
   {
    "duration": 13,
    "start_time": "2023-09-22T20:25:38.083Z"
   },
   {
    "duration": 108,
    "start_time": "2023-09-22T20:26:02.035Z"
   },
   {
    "duration": 6,
    "start_time": "2023-09-22T20:26:37.696Z"
   },
   {
    "duration": 14,
    "start_time": "2023-09-22T20:27:07.058Z"
   },
   {
    "duration": 8,
    "start_time": "2023-09-22T20:28:22.975Z"
   },
   {
    "duration": 7,
    "start_time": "2023-09-22T20:28:41.744Z"
   },
   {
    "duration": 9,
    "start_time": "2023-09-22T20:28:48.104Z"
   },
   {
    "duration": 1558,
    "start_time": "2023-09-22T20:29:58.270Z"
   },
   {
    "duration": 473,
    "start_time": "2023-09-22T20:29:59.830Z"
   },
   {
    "duration": 4,
    "start_time": "2023-09-22T20:30:00.305Z"
   },
   {
    "duration": 602,
    "start_time": "2023-09-22T20:30:00.311Z"
   },
   {
    "duration": 5,
    "start_time": "2023-09-22T20:30:00.916Z"
   },
   {
    "duration": 1818,
    "start_time": "2023-09-22T20:30:00.922Z"
   },
   {
    "duration": 3,
    "start_time": "2023-09-22T20:30:02.742Z"
   },
   {
    "duration": 54,
    "start_time": "2023-09-22T20:30:02.746Z"
   },
   {
    "duration": 15,
    "start_time": "2023-09-22T20:30:02.802Z"
   },
   {
    "duration": 1039,
    "start_time": "2023-09-22T20:30:02.820Z"
   },
   {
    "duration": 33,
    "start_time": "2023-09-22T20:30:03.861Z"
   },
   {
    "duration": 4,
    "start_time": "2023-09-22T20:30:03.895Z"
   },
   {
    "duration": 31,
    "start_time": "2023-09-22T20:30:03.900Z"
   },
   {
    "duration": 28,
    "start_time": "2023-09-22T20:30:03.934Z"
   },
   {
    "duration": 6,
    "start_time": "2023-09-22T20:30:03.971Z"
   },
   {
    "duration": 11,
    "start_time": "2023-09-22T20:30:03.979Z"
   },
   {
    "duration": 471,
    "start_time": "2023-09-22T20:30:03.992Z"
   },
   {
    "duration": 5,
    "start_time": "2023-09-22T20:30:04.465Z"
   },
   {
    "duration": 793,
    "start_time": "2023-09-22T20:30:04.471Z"
   },
   {
    "duration": 6,
    "start_time": "2023-09-22T20:30:05.266Z"
   },
   {
    "duration": 300,
    "start_time": "2023-09-22T20:30:05.277Z"
   },
   {
    "duration": 18,
    "start_time": "2023-09-22T20:30:05.656Z"
   },
   {
    "duration": 92,
    "start_time": "2023-09-22T20:30:05.680Z"
   },
   {
    "duration": 14,
    "start_time": "2023-09-22T20:30:05.774Z"
   },
   {
    "duration": 28,
    "start_time": "2023-09-22T20:30:05.790Z"
   },
   {
    "duration": 8,
    "start_time": "2023-09-22T20:30:05.820Z"
   },
   {
    "duration": 45,
    "start_time": "2023-09-22T20:30:05.830Z"
   },
   {
    "duration": 81,
    "start_time": "2023-09-22T20:30:05.878Z"
   },
   {
    "duration": 9,
    "start_time": "2023-09-22T20:30:05.962Z"
   },
   {
    "duration": 86,
    "start_time": "2023-09-22T20:30:05.973Z"
   },
   {
    "duration": 14,
    "start_time": "2023-09-22T20:30:06.061Z"
   },
   {
    "duration": 27,
    "start_time": "2023-09-22T20:30:06.077Z"
   },
   {
    "duration": 34,
    "start_time": "2023-09-22T20:30:06.105Z"
   },
   {
    "duration": 28,
    "start_time": "2023-09-22T20:30:06.141Z"
   },
   {
    "duration": 20,
    "start_time": "2023-09-22T20:30:06.170Z"
   },
   {
    "duration": 4,
    "start_time": "2023-09-22T20:30:06.192Z"
   },
   {
    "duration": 29,
    "start_time": "2023-09-22T20:30:06.198Z"
   },
   {
    "duration": 34,
    "start_time": "2023-09-22T20:30:06.228Z"
   },
   {
    "duration": 15,
    "start_time": "2023-09-22T20:30:06.264Z"
   },
   {
    "duration": 8,
    "start_time": "2023-09-22T20:30:06.281Z"
   },
   {
    "duration": 6123,
    "start_time": "2023-09-22T20:30:06.292Z"
   },
   {
    "duration": 9,
    "start_time": "2023-09-22T20:30:12.416Z"
   },
   {
    "duration": 9,
    "start_time": "2023-09-22T20:32:35.688Z"
   },
   {
    "duration": 6206,
    "start_time": "2023-09-22T20:32:40.277Z"
   },
   {
    "duration": 9,
    "start_time": "2023-09-22T20:32:49.384Z"
   },
   {
    "duration": 1601,
    "start_time": "2023-09-22T20:36:43.738Z"
   },
   {
    "duration": 482,
    "start_time": "2023-09-22T20:36:45.341Z"
   },
   {
    "duration": 5,
    "start_time": "2023-09-22T20:36:45.825Z"
   },
   {
    "duration": 430,
    "start_time": "2023-09-22T20:36:45.832Z"
   },
   {
    "duration": 6,
    "start_time": "2023-09-22T20:36:46.271Z"
   },
   {
    "duration": 1829,
    "start_time": "2023-09-22T20:36:46.279Z"
   },
   {
    "duration": 3,
    "start_time": "2023-09-22T20:36:48.110Z"
   },
   {
    "duration": 56,
    "start_time": "2023-09-22T20:36:48.115Z"
   },
   {
    "duration": 27,
    "start_time": "2023-09-22T20:36:48.174Z"
   },
   {
    "duration": 1083,
    "start_time": "2023-09-22T20:36:48.205Z"
   },
   {
    "duration": 38,
    "start_time": "2023-09-22T20:36:49.290Z"
   },
   {
    "duration": 4,
    "start_time": "2023-09-22T20:36:49.330Z"
   },
   {
    "duration": 49,
    "start_time": "2023-09-22T20:36:49.335Z"
   },
   {
    "duration": 14,
    "start_time": "2023-09-22T20:36:49.387Z"
   },
   {
    "duration": 10,
    "start_time": "2023-09-22T20:36:49.402Z"
   },
   {
    "duration": 12,
    "start_time": "2023-09-22T20:36:49.413Z"
   },
   {
    "duration": 338,
    "start_time": "2023-09-22T20:36:49.426Z"
   },
   {
    "duration": 7,
    "start_time": "2023-09-22T20:36:49.771Z"
   },
   {
    "duration": 889,
    "start_time": "2023-09-22T20:36:49.782Z"
   },
   {
    "duration": 83,
    "start_time": "2023-09-22T20:36:50.677Z"
   },
   {
    "duration": 300,
    "start_time": "2023-09-22T20:36:50.762Z"
   },
   {
    "duration": 95,
    "start_time": "2023-09-22T20:36:51.064Z"
   },
   {
    "duration": 9,
    "start_time": "2023-09-22T20:36:51.170Z"
   },
   {
    "duration": 12,
    "start_time": "2023-09-22T20:36:51.181Z"
   },
   {
    "duration": 34,
    "start_time": "2023-09-22T20:36:51.195Z"
   },
   {
    "duration": 11,
    "start_time": "2023-09-22T20:36:51.231Z"
   },
   {
    "duration": 26,
    "start_time": "2023-09-22T20:36:51.255Z"
   },
   {
    "duration": 13,
    "start_time": "2023-09-22T20:36:51.357Z"
   },
   {
    "duration": 94,
    "start_time": "2023-09-22T20:36:51.373Z"
   },
   {
    "duration": 12,
    "start_time": "2023-09-22T20:36:51.468Z"
   },
   {
    "duration": 21,
    "start_time": "2023-09-22T20:36:51.482Z"
   },
   {
    "duration": 5,
    "start_time": "2023-09-22T20:36:51.505Z"
   },
   {
    "duration": 24,
    "start_time": "2023-09-22T20:36:51.512Z"
   },
   {
    "duration": 19,
    "start_time": "2023-09-22T20:36:51.538Z"
   },
   {
    "duration": 17,
    "start_time": "2023-09-22T20:36:51.566Z"
   },
   {
    "duration": 7,
    "start_time": "2023-09-22T20:36:51.585Z"
   },
   {
    "duration": 29,
    "start_time": "2023-09-22T20:36:51.593Z"
   },
   {
    "duration": 9,
    "start_time": "2023-09-22T20:36:51.623Z"
   },
   {
    "duration": 36,
    "start_time": "2023-09-22T20:36:51.634Z"
   },
   {
    "duration": 49,
    "start_time": "2023-09-22T20:36:51.673Z"
   },
   {
    "duration": 6080,
    "start_time": "2023-09-22T20:36:51.724Z"
   },
   {
    "duration": 10,
    "start_time": "2023-09-22T20:36:57.806Z"
   },
   {
    "duration": 1596,
    "start_time": "2023-09-22T20:51:54.145Z"
   },
   {
    "duration": 472,
    "start_time": "2023-09-22T20:51:55.743Z"
   },
   {
    "duration": 4,
    "start_time": "2023-09-22T20:51:56.217Z"
   },
   {
    "duration": 451,
    "start_time": "2023-09-22T20:51:56.222Z"
   },
   {
    "duration": 6,
    "start_time": "2023-09-22T20:51:56.679Z"
   },
   {
    "duration": 1765,
    "start_time": "2023-09-22T20:51:56.687Z"
   },
   {
    "duration": 2,
    "start_time": "2023-09-22T20:51:58.457Z"
   },
   {
    "duration": 18,
    "start_time": "2023-09-22T20:51:58.473Z"
   },
   {
    "duration": 3,
    "start_time": "2023-09-22T20:51:58.493Z"
   },
   {
    "duration": 1080,
    "start_time": "2023-09-22T20:51:58.499Z"
   },
   {
    "duration": 32,
    "start_time": "2023-09-22T20:51:59.581Z"
   },
   {
    "duration": 4,
    "start_time": "2023-09-22T20:51:59.615Z"
   },
   {
    "duration": 52,
    "start_time": "2023-09-22T20:51:59.621Z"
   },
   {
    "duration": 44,
    "start_time": "2023-09-22T20:51:59.677Z"
   },
   {
    "duration": 22,
    "start_time": "2023-09-22T20:51:59.723Z"
   },
   {
    "duration": 46,
    "start_time": "2023-09-22T20:51:59.747Z"
   },
   {
    "duration": 288,
    "start_time": "2023-09-22T20:51:59.795Z"
   },
   {
    "duration": 10,
    "start_time": "2023-09-22T20:52:00.161Z"
   },
   {
    "duration": 888,
    "start_time": "2023-09-22T20:52:00.173Z"
   },
   {
    "duration": 7,
    "start_time": "2023-09-22T20:52:01.063Z"
   },
   {
    "duration": 314,
    "start_time": "2023-09-22T20:52:01.073Z"
   },
   {
    "duration": 102,
    "start_time": "2023-09-22T20:52:01.457Z"
   },
   {
    "duration": 21,
    "start_time": "2023-09-22T20:52:01.561Z"
   },
   {
    "duration": 29,
    "start_time": "2023-09-22T20:52:01.585Z"
   },
   {
    "duration": 47,
    "start_time": "2023-09-22T20:52:01.616Z"
   },
   {
    "duration": 14,
    "start_time": "2023-09-22T20:52:01.671Z"
   },
   {
    "duration": 76,
    "start_time": "2023-09-22T20:52:01.687Z"
   },
   {
    "duration": 92,
    "start_time": "2023-09-22T20:52:01.767Z"
   },
   {
    "duration": 20,
    "start_time": "2023-09-22T20:52:01.862Z"
   },
   {
    "duration": 17,
    "start_time": "2023-09-22T20:52:01.884Z"
   },
   {
    "duration": 10,
    "start_time": "2023-09-22T20:52:01.903Z"
   },
   {
    "duration": 5,
    "start_time": "2023-09-22T20:52:01.915Z"
   },
   {
    "duration": 32,
    "start_time": "2023-09-22T20:52:01.921Z"
   },
   {
    "duration": 28,
    "start_time": "2023-09-22T20:52:01.955Z"
   },
   {
    "duration": 22,
    "start_time": "2023-09-22T20:52:01.986Z"
   },
   {
    "duration": 7,
    "start_time": "2023-09-22T20:52:02.010Z"
   },
   {
    "duration": 43,
    "start_time": "2023-09-22T20:52:02.018Z"
   },
   {
    "duration": 17,
    "start_time": "2023-09-22T20:52:02.066Z"
   },
   {
    "duration": 28,
    "start_time": "2023-09-22T20:52:02.085Z"
   },
   {
    "duration": 14,
    "start_time": "2023-09-22T20:52:02.114Z"
   },
   {
    "duration": 6070,
    "start_time": "2023-09-22T20:52:02.130Z"
   },
   {
    "duration": 9,
    "start_time": "2023-09-22T20:52:08.202Z"
   },
   {
    "duration": 1822,
    "start_time": "2023-09-25T14:03:01.168Z"
   },
   {
    "duration": 875,
    "start_time": "2023-09-25T14:03:02.994Z"
   },
   {
    "duration": 4,
    "start_time": "2023-09-25T14:03:03.871Z"
   },
   {
    "duration": 438,
    "start_time": "2023-09-25T14:03:03.878Z"
   },
   {
    "duration": 4,
    "start_time": "2023-09-25T14:03:04.318Z"
   },
   {
    "duration": 1615,
    "start_time": "2023-09-25T14:03:04.324Z"
   },
   {
    "duration": 4,
    "start_time": "2023-09-25T14:03:05.941Z"
   },
   {
    "duration": 33,
    "start_time": "2023-09-25T14:03:05.946Z"
   },
   {
    "duration": 23,
    "start_time": "2023-09-25T14:03:05.982Z"
   },
   {
    "duration": 1221,
    "start_time": "2023-09-25T14:03:06.008Z"
   },
   {
    "duration": 31,
    "start_time": "2023-09-25T14:03:07.231Z"
   },
   {
    "duration": 17,
    "start_time": "2023-09-25T14:03:07.264Z"
   },
   {
    "duration": 54,
    "start_time": "2023-09-25T14:03:07.287Z"
   },
   {
    "duration": 10,
    "start_time": "2023-09-25T14:03:07.342Z"
   },
   {
    "duration": 16,
    "start_time": "2023-09-25T14:03:07.354Z"
   },
   {
    "duration": 21,
    "start_time": "2023-09-25T14:03:07.371Z"
   },
   {
    "duration": 509,
    "start_time": "2023-09-25T14:03:07.394Z"
   },
   {
    "duration": 9,
    "start_time": "2023-09-25T14:03:07.983Z"
   },
   {
    "duration": 601,
    "start_time": "2023-09-25T14:03:07.995Z"
   },
   {
    "duration": 91,
    "start_time": "2023-09-25T14:03:08.598Z"
   },
   {
    "duration": 290,
    "start_time": "2023-09-25T14:03:08.692Z"
   },
   {
    "duration": 17,
    "start_time": "2023-09-25T14:03:08.985Z"
   },
   {
    "duration": 29,
    "start_time": "2023-09-25T14:03:09.081Z"
   },
   {
    "duration": 17,
    "start_time": "2023-09-25T14:03:09.112Z"
   },
   {
    "duration": 37,
    "start_time": "2023-09-25T14:03:09.131Z"
   },
   {
    "duration": 19,
    "start_time": "2023-09-25T14:03:09.169Z"
   },
   {
    "duration": 100,
    "start_time": "2023-09-25T14:03:09.191Z"
   },
   {
    "duration": 8,
    "start_time": "2023-09-25T14:03:09.385Z"
   },
   {
    "duration": 84,
    "start_time": "2023-09-25T14:03:09.399Z"
   },
   {
    "duration": 6,
    "start_time": "2023-09-25T14:03:09.486Z"
   },
   {
    "duration": 6,
    "start_time": "2023-09-25T14:03:09.494Z"
   },
   {
    "duration": 11,
    "start_time": "2023-09-25T14:03:09.502Z"
   },
   {
    "duration": 36,
    "start_time": "2023-09-25T14:03:09.515Z"
   },
   {
    "duration": 29,
    "start_time": "2023-09-25T14:03:09.552Z"
   },
   {
    "duration": 21,
    "start_time": "2023-09-25T14:03:09.584Z"
   },
   {
    "duration": 4,
    "start_time": "2023-09-25T14:03:09.607Z"
   },
   {
    "duration": 27,
    "start_time": "2023-09-25T14:03:09.613Z"
   },
   {
    "duration": 44,
    "start_time": "2023-09-25T14:03:09.642Z"
   },
   {
    "duration": 13,
    "start_time": "2023-09-25T14:03:09.689Z"
   },
   {
    "duration": 13,
    "start_time": "2023-09-25T14:03:09.704Z"
   },
   {
    "duration": 6188,
    "start_time": "2023-09-25T14:03:09.719Z"
   },
   {
    "duration": 8,
    "start_time": "2023-09-25T14:03:15.909Z"
   },
   {
    "duration": 11,
    "start_time": "2023-09-25T14:07:47.309Z"
   },
   {
    "duration": 1448,
    "start_time": "2023-09-25T14:09:00.724Z"
   },
   {
    "duration": 406,
    "start_time": "2023-09-25T14:09:02.173Z"
   },
   {
    "duration": 4,
    "start_time": "2023-09-25T14:09:02.580Z"
   },
   {
    "duration": 380,
    "start_time": "2023-09-25T14:09:02.586Z"
   },
   {
    "duration": 13,
    "start_time": "2023-09-25T14:09:02.968Z"
   },
   {
    "duration": 1499,
    "start_time": "2023-09-25T14:09:02.982Z"
   },
   {
    "duration": 2,
    "start_time": "2023-09-25T14:09:04.483Z"
   },
   {
    "duration": 25,
    "start_time": "2023-09-25T14:09:04.487Z"
   },
   {
    "duration": 28,
    "start_time": "2023-09-25T14:09:04.514Z"
   },
   {
    "duration": 938,
    "start_time": "2023-09-25T14:09:04.552Z"
   },
   {
    "duration": 30,
    "start_time": "2023-09-25T14:09:05.492Z"
   },
   {
    "duration": 22,
    "start_time": "2023-09-25T14:09:05.524Z"
   },
   {
    "duration": 41,
    "start_time": "2023-09-25T14:09:05.548Z"
   },
   {
    "duration": 14,
    "start_time": "2023-09-25T14:09:05.591Z"
   },
   {
    "duration": 26,
    "start_time": "2023-09-25T14:09:05.607Z"
   },
   {
    "duration": 35,
    "start_time": "2023-09-25T14:09:05.634Z"
   },
   {
    "duration": 412,
    "start_time": "2023-09-25T14:09:05.671Z"
   },
   {
    "duration": 96,
    "start_time": "2023-09-25T14:09:06.085Z"
   },
   {
    "duration": 699,
    "start_time": "2023-09-25T14:09:06.183Z"
   },
   {
    "duration": 6,
    "start_time": "2023-09-25T14:09:06.885Z"
   },
   {
    "duration": 402,
    "start_time": "2023-09-25T14:09:06.893Z"
   },
   {
    "duration": 101,
    "start_time": "2023-09-25T14:09:07.383Z"
   },
   {
    "duration": 15,
    "start_time": "2023-09-25T14:09:07.486Z"
   },
   {
    "duration": 14,
    "start_time": "2023-09-25T14:09:07.503Z"
   },
   {
    "duration": 29,
    "start_time": "2023-09-25T14:09:07.519Z"
   },
   {
    "duration": 8,
    "start_time": "2023-09-25T14:09:07.550Z"
   },
   {
    "duration": 15,
    "start_time": "2023-09-25T14:09:07.580Z"
   },
   {
    "duration": 97,
    "start_time": "2023-09-25T14:09:07.685Z"
   },
   {
    "duration": 11,
    "start_time": "2023-09-25T14:09:07.784Z"
   },
   {
    "duration": 10,
    "start_time": "2023-09-25T14:09:07.796Z"
   },
   {
    "duration": 8,
    "start_time": "2023-09-25T14:09:07.808Z"
   },
   {
    "duration": 12,
    "start_time": "2023-09-25T14:09:07.818Z"
   },
   {
    "duration": 25,
    "start_time": "2023-09-25T14:09:07.831Z"
   },
   {
    "duration": 26,
    "start_time": "2023-09-25T14:09:07.858Z"
   },
   {
    "duration": 17,
    "start_time": "2023-09-25T14:09:07.886Z"
   },
   {
    "duration": 5,
    "start_time": "2023-09-25T14:09:07.905Z"
   },
   {
    "duration": 32,
    "start_time": "2023-09-25T14:09:07.912Z"
   },
   {
    "duration": 40,
    "start_time": "2023-09-25T14:09:07.946Z"
   },
   {
    "duration": 20,
    "start_time": "2023-09-25T14:09:07.988Z"
   },
   {
    "duration": 8,
    "start_time": "2023-09-25T14:09:08.010Z"
   },
   {
    "duration": 1955,
    "start_time": "2023-09-25T14:09:08.020Z"
   },
   {
    "duration": 0,
    "start_time": "2023-09-25T14:09:09.977Z"
   },
   {
    "duration": 1489,
    "start_time": "2023-09-25T14:09:53.167Z"
   },
   {
    "duration": 434,
    "start_time": "2023-09-25T14:09:54.659Z"
   },
   {
    "duration": 4,
    "start_time": "2023-09-25T14:09:55.098Z"
   },
   {
    "duration": 450,
    "start_time": "2023-09-25T14:09:55.104Z"
   },
   {
    "duration": 5,
    "start_time": "2023-09-25T14:09:55.556Z"
   },
   {
    "duration": 1754,
    "start_time": "2023-09-25T14:09:55.563Z"
   },
   {
    "duration": 3,
    "start_time": "2023-09-25T14:09:57.318Z"
   },
   {
    "duration": 31,
    "start_time": "2023-09-25T14:09:57.323Z"
   },
   {
    "duration": 20,
    "start_time": "2023-09-25T14:09:57.357Z"
   },
   {
    "duration": 991,
    "start_time": "2023-09-25T14:09:57.379Z"
   },
   {
    "duration": 36,
    "start_time": "2023-09-25T14:09:58.372Z"
   },
   {
    "duration": 4,
    "start_time": "2023-09-25T14:09:58.411Z"
   },
   {
    "duration": 40,
    "start_time": "2023-09-25T14:09:58.417Z"
   },
   {
    "duration": 30,
    "start_time": "2023-09-25T14:09:58.459Z"
   },
   {
    "duration": 50,
    "start_time": "2023-09-25T14:09:58.491Z"
   },
   {
    "duration": 56,
    "start_time": "2023-09-25T14:09:58.543Z"
   },
   {
    "duration": 283,
    "start_time": "2023-09-25T14:09:58.602Z"
   },
   {
    "duration": 7,
    "start_time": "2023-09-25T14:09:58.888Z"
   },
   {
    "duration": 1208,
    "start_time": "2023-09-25T14:09:58.981Z"
   },
   {
    "duration": 92,
    "start_time": "2023-09-25T14:10:00.191Z"
   },
   {
    "duration": 496,
    "start_time": "2023-09-25T14:10:00.285Z"
   },
   {
    "duration": 9,
    "start_time": "2023-09-25T14:10:00.784Z"
   },
   {
    "duration": 148,
    "start_time": "2023-09-25T14:10:00.795Z"
   },
   {
    "duration": 87,
    "start_time": "2023-09-25T14:10:00.945Z"
   },
   {
    "duration": 66,
    "start_time": "2023-09-25T14:10:01.035Z"
   },
   {
    "duration": 42,
    "start_time": "2023-09-25T14:10:01.103Z"
   },
   {
    "duration": 134,
    "start_time": "2023-09-25T14:10:01.148Z"
   },
   {
    "duration": 96,
    "start_time": "2023-09-25T14:10:01.285Z"
   },
   {
    "duration": 29,
    "start_time": "2023-09-25T14:10:01.383Z"
   },
   {
    "duration": 67,
    "start_time": "2023-09-25T14:10:01.414Z"
   },
   {
    "duration": 117,
    "start_time": "2023-09-25T14:10:01.482Z"
   },
   {
    "duration": 119,
    "start_time": "2023-09-25T14:10:01.600Z"
   },
   {
    "duration": 185,
    "start_time": "2023-09-25T14:10:01.721Z"
   },
   {
    "duration": 150,
    "start_time": "2023-09-25T14:10:01.908Z"
   },
   {
    "duration": 77,
    "start_time": "2023-09-25T14:10:02.060Z"
   },
   {
    "duration": 158,
    "start_time": "2023-09-25T14:10:02.139Z"
   },
   {
    "duration": 67,
    "start_time": "2023-09-25T14:10:02.299Z"
   },
   {
    "duration": 127,
    "start_time": "2023-09-25T14:10:02.368Z"
   },
   {
    "duration": 168,
    "start_time": "2023-09-25T14:10:02.497Z"
   },
   {
    "duration": 145,
    "start_time": "2023-09-25T14:10:02.667Z"
   },
   {
    "duration": 2246,
    "start_time": "2023-09-25T14:10:02.814Z"
   },
   {
    "duration": 0,
    "start_time": "2023-09-25T14:10:05.063Z"
   },
   {
    "duration": 8,
    "start_time": "2023-09-25T14:13:03.810Z"
   },
   {
    "duration": 5,
    "start_time": "2023-09-25T14:13:57.273Z"
   },
   {
    "duration": 1386,
    "start_time": "2023-09-25T14:14:48.920Z"
   },
   {
    "duration": 426,
    "start_time": "2023-09-25T14:14:50.308Z"
   },
   {
    "duration": 4,
    "start_time": "2023-09-25T14:14:50.736Z"
   },
   {
    "duration": 441,
    "start_time": "2023-09-25T14:14:50.741Z"
   },
   {
    "duration": 6,
    "start_time": "2023-09-25T14:14:51.185Z"
   },
   {
    "duration": 1569,
    "start_time": "2023-09-25T14:14:51.193Z"
   },
   {
    "duration": 3,
    "start_time": "2023-09-25T14:14:52.764Z"
   },
   {
    "duration": 23,
    "start_time": "2023-09-25T14:14:52.780Z"
   },
   {
    "duration": 22,
    "start_time": "2023-09-25T14:14:52.805Z"
   },
   {
    "duration": 964,
    "start_time": "2023-09-25T14:14:52.829Z"
   },
   {
    "duration": 28,
    "start_time": "2023-09-25T14:14:53.795Z"
   },
   {
    "duration": 40,
    "start_time": "2023-09-25T14:14:53.824Z"
   },
   {
    "duration": 87,
    "start_time": "2023-09-25T14:14:53.866Z"
   },
   {
    "duration": 11,
    "start_time": "2023-09-25T14:14:53.956Z"
   },
   {
    "duration": 49,
    "start_time": "2023-09-25T14:14:53.968Z"
   },
   {
    "duration": 30,
    "start_time": "2023-09-25T14:14:54.019Z"
   },
   {
    "duration": 436,
    "start_time": "2023-09-25T14:14:54.050Z"
   },
   {
    "duration": 95,
    "start_time": "2023-09-25T14:14:54.489Z"
   },
   {
    "duration": 700,
    "start_time": "2023-09-25T14:14:54.586Z"
   },
   {
    "duration": 93,
    "start_time": "2023-09-25T14:14:55.289Z"
   },
   {
    "duration": 311,
    "start_time": "2023-09-25T14:14:55.383Z"
   },
   {
    "duration": 99,
    "start_time": "2023-09-25T14:14:55.783Z"
   },
   {
    "duration": 29,
    "start_time": "2023-09-25T14:14:55.884Z"
   },
   {
    "duration": 50,
    "start_time": "2023-09-25T14:14:55.915Z"
   },
   {
    "duration": 57,
    "start_time": "2023-09-25T14:14:55.966Z"
   },
   {
    "duration": 9,
    "start_time": "2023-09-25T14:14:56.024Z"
   },
   {
    "duration": 48,
    "start_time": "2023-09-25T14:14:56.034Z"
   },
   {
    "duration": 97,
    "start_time": "2023-09-25T14:14:56.085Z"
   },
   {
    "duration": 97,
    "start_time": "2023-09-25T14:14:56.185Z"
   },
   {
    "duration": 27,
    "start_time": "2023-09-25T14:14:56.285Z"
   },
   {
    "duration": 23,
    "start_time": "2023-09-25T14:14:56.314Z"
   },
   {
    "duration": 14,
    "start_time": "2023-09-25T14:14:56.339Z"
   },
   {
    "duration": 54,
    "start_time": "2023-09-25T14:14:56.355Z"
   },
   {
    "duration": 28,
    "start_time": "2023-09-25T14:14:56.410Z"
   },
   {
    "duration": 40,
    "start_time": "2023-09-25T14:14:56.439Z"
   },
   {
    "duration": 26,
    "start_time": "2023-09-25T14:14:56.481Z"
   },
   {
    "duration": 48,
    "start_time": "2023-09-25T14:14:56.509Z"
   },
   {
    "duration": 10,
    "start_time": "2023-09-25T14:14:56.560Z"
   },
   {
    "duration": 16,
    "start_time": "2023-09-25T14:14:56.572Z"
   },
   {
    "duration": 2063,
    "start_time": "2023-09-25T14:14:56.590Z"
   },
   {
    "duration": 0,
    "start_time": "2023-09-25T14:14:58.655Z"
   },
   {
    "duration": 1477,
    "start_time": "2023-09-25T14:15:38.830Z"
   },
   {
    "duration": 423,
    "start_time": "2023-09-25T14:15:40.309Z"
   },
   {
    "duration": 4,
    "start_time": "2023-09-25T14:15:40.737Z"
   },
   {
    "duration": 394,
    "start_time": "2023-09-25T14:15:40.743Z"
   },
   {
    "duration": 4,
    "start_time": "2023-09-25T14:15:41.139Z"
   },
   {
    "duration": 1498,
    "start_time": "2023-09-25T14:15:41.144Z"
   },
   {
    "duration": 3,
    "start_time": "2023-09-25T14:15:42.644Z"
   },
   {
    "duration": 18,
    "start_time": "2023-09-25T14:15:42.648Z"
   },
   {
    "duration": 5,
    "start_time": "2023-09-25T14:15:42.681Z"
   },
   {
    "duration": 1005,
    "start_time": "2023-09-25T14:15:42.688Z"
   },
   {
    "duration": 28,
    "start_time": "2023-09-25T14:15:43.695Z"
   },
   {
    "duration": 4,
    "start_time": "2023-09-25T14:15:43.725Z"
   },
   {
    "duration": 36,
    "start_time": "2023-09-25T14:15:43.732Z"
   },
   {
    "duration": 21,
    "start_time": "2023-09-25T14:15:43.769Z"
   },
   {
    "duration": 7,
    "start_time": "2023-09-25T14:15:43.792Z"
   },
   {
    "duration": 7,
    "start_time": "2023-09-25T14:15:43.800Z"
   },
   {
    "duration": 381,
    "start_time": "2023-09-25T14:15:43.809Z"
   },
   {
    "duration": 5,
    "start_time": "2023-09-25T14:15:44.282Z"
   },
   {
    "duration": 701,
    "start_time": "2023-09-25T14:15:44.288Z"
   },
   {
    "duration": 90,
    "start_time": "2023-09-25T14:15:44.992Z"
   },
   {
    "duration": 210,
    "start_time": "2023-09-25T14:15:45.084Z"
   },
   {
    "duration": 93,
    "start_time": "2023-09-25T14:15:45.296Z"
   },
   {
    "duration": 102,
    "start_time": "2023-09-25T14:15:45.392Z"
   },
   {
    "duration": 17,
    "start_time": "2023-09-25T14:15:45.495Z"
   },
   {
    "duration": 36,
    "start_time": "2023-09-25T14:15:45.514Z"
   },
   {
    "duration": 9,
    "start_time": "2023-09-25T14:15:45.552Z"
   },
   {
    "duration": 18,
    "start_time": "2023-09-25T14:15:45.580Z"
   },
   {
    "duration": 81,
    "start_time": "2023-09-25T14:15:45.601Z"
   },
   {
    "duration": 7,
    "start_time": "2023-09-25T14:15:45.684Z"
   },
   {
    "duration": 91,
    "start_time": "2023-09-25T14:15:45.693Z"
   },
   {
    "duration": 27,
    "start_time": "2023-09-25T14:15:45.786Z"
   },
   {
    "duration": 35,
    "start_time": "2023-09-25T14:15:45.815Z"
   },
   {
    "duration": 52,
    "start_time": "2023-09-25T14:15:45.851Z"
   },
   {
    "duration": 30,
    "start_time": "2023-09-25T14:15:45.905Z"
   },
   {
    "duration": 22,
    "start_time": "2023-09-25T14:15:45.937Z"
   },
   {
    "duration": 19,
    "start_time": "2023-09-25T14:15:45.962Z"
   },
   {
    "duration": 143,
    "start_time": "2023-09-25T14:15:45.983Z"
   },
   {
    "duration": 0,
    "start_time": "2023-09-25T14:15:46.128Z"
   },
   {
    "duration": 0,
    "start_time": "2023-09-25T14:15:46.129Z"
   },
   {
    "duration": 0,
    "start_time": "2023-09-25T14:15:46.130Z"
   },
   {
    "duration": 0,
    "start_time": "2023-09-25T14:15:46.131Z"
   },
   {
    "duration": 1579,
    "start_time": "2023-09-25T14:16:55.066Z"
   },
   {
    "duration": 485,
    "start_time": "2023-09-25T14:16:56.648Z"
   },
   {
    "duration": 4,
    "start_time": "2023-09-25T14:16:57.135Z"
   },
   {
    "duration": 485,
    "start_time": "2023-09-25T14:16:57.141Z"
   },
   {
    "duration": 4,
    "start_time": "2023-09-25T14:16:57.629Z"
   },
   {
    "duration": 1532,
    "start_time": "2023-09-25T14:16:57.635Z"
   },
   {
    "duration": 3,
    "start_time": "2023-09-25T14:16:59.169Z"
   },
   {
    "duration": 21,
    "start_time": "2023-09-25T14:16:59.181Z"
   },
   {
    "duration": 15,
    "start_time": "2023-09-25T14:16:59.203Z"
   },
   {
    "duration": 993,
    "start_time": "2023-09-25T14:16:59.220Z"
   },
   {
    "duration": 29,
    "start_time": "2023-09-25T14:17:00.215Z"
   },
   {
    "duration": 113,
    "start_time": "2023-09-25T14:17:00.246Z"
   },
   {
    "duration": 66,
    "start_time": "2023-09-25T14:17:00.361Z"
   },
   {
    "duration": 34,
    "start_time": "2023-09-25T14:17:00.430Z"
   },
   {
    "duration": 42,
    "start_time": "2023-09-25T14:17:00.465Z"
   },
   {
    "duration": 62,
    "start_time": "2023-09-25T14:17:00.509Z"
   },
   {
    "duration": 415,
    "start_time": "2023-09-25T14:17:00.572Z"
   },
   {
    "duration": 5,
    "start_time": "2023-09-25T14:17:00.990Z"
   },
   {
    "duration": 694,
    "start_time": "2023-09-25T14:17:00.996Z"
   },
   {
    "duration": 6,
    "start_time": "2023-09-25T14:17:01.692Z"
   },
   {
    "duration": 387,
    "start_time": "2023-09-25T14:17:01.703Z"
   },
   {
    "duration": 102,
    "start_time": "2023-09-25T14:17:02.092Z"
   },
   {
    "duration": 349,
    "start_time": "2023-09-25T14:17:02.198Z"
   },
   {
    "duration": 66,
    "start_time": "2023-09-25T14:17:02.549Z"
   },
   {
    "duration": 41,
    "start_time": "2023-09-25T14:17:02.617Z"
   },
   {
    "duration": 31,
    "start_time": "2023-09-25T14:17:02.660Z"
   },
   {
    "duration": 45,
    "start_time": "2023-09-25T14:17:02.693Z"
   },
   {
    "duration": 51,
    "start_time": "2023-09-25T14:17:02.741Z"
   },
   {
    "duration": 113,
    "start_time": "2023-09-25T14:17:02.793Z"
   },
   {
    "duration": 32,
    "start_time": "2023-09-25T14:17:02.908Z"
   },
   {
    "duration": 10,
    "start_time": "2023-09-25T14:17:02.942Z"
   },
   {
    "duration": 15,
    "start_time": "2023-09-25T14:17:02.954Z"
   },
   {
    "duration": 44,
    "start_time": "2023-09-25T14:17:02.971Z"
   },
   {
    "duration": 46,
    "start_time": "2023-09-25T14:17:03.017Z"
   },
   {
    "duration": 18,
    "start_time": "2023-09-25T14:17:03.064Z"
   },
   {
    "duration": 8,
    "start_time": "2023-09-25T14:17:03.083Z"
   },
   {
    "duration": 25,
    "start_time": "2023-09-25T14:17:03.095Z"
   },
   {
    "duration": 10,
    "start_time": "2023-09-25T14:17:03.122Z"
   },
   {
    "duration": 10,
    "start_time": "2023-09-25T14:17:03.133Z"
   },
   {
    "duration": 2188,
    "start_time": "2023-09-25T14:17:03.144Z"
   },
   {
    "duration": 0,
    "start_time": "2023-09-25T14:17:05.334Z"
   },
   {
    "duration": 1510,
    "start_time": "2023-09-25T14:19:35.632Z"
   },
   {
    "duration": 442,
    "start_time": "2023-09-25T14:19:37.144Z"
   },
   {
    "duration": 5,
    "start_time": "2023-09-25T14:19:37.588Z"
   },
   {
    "duration": 377,
    "start_time": "2023-09-25T14:19:37.595Z"
   },
   {
    "duration": 5,
    "start_time": "2023-09-25T14:19:37.980Z"
   },
   {
    "duration": 1463,
    "start_time": "2023-09-25T14:19:37.986Z"
   },
   {
    "duration": 3,
    "start_time": "2023-09-25T14:19:39.451Z"
   },
   {
    "duration": 26,
    "start_time": "2023-09-25T14:19:39.455Z"
   },
   {
    "duration": 19,
    "start_time": "2023-09-25T14:19:39.483Z"
   },
   {
    "duration": 997,
    "start_time": "2023-09-25T14:19:39.505Z"
   },
   {
    "duration": 31,
    "start_time": "2023-09-25T14:19:40.505Z"
   },
   {
    "duration": 5,
    "start_time": "2023-09-25T14:19:40.539Z"
   },
   {
    "duration": 64,
    "start_time": "2023-09-25T14:19:40.546Z"
   },
   {
    "duration": 11,
    "start_time": "2023-09-25T14:19:40.613Z"
   },
   {
    "duration": 21,
    "start_time": "2023-09-25T14:19:40.625Z"
   },
   {
    "duration": 20,
    "start_time": "2023-09-25T14:19:40.648Z"
   },
   {
    "duration": 318,
    "start_time": "2023-09-25T14:19:40.670Z"
   },
   {
    "duration": 91,
    "start_time": "2023-09-25T14:19:40.990Z"
   },
   {
    "duration": 605,
    "start_time": "2023-09-25T14:19:41.083Z"
   },
   {
    "duration": 90,
    "start_time": "2023-09-25T14:19:41.691Z"
   },
   {
    "duration": 301,
    "start_time": "2023-09-25T14:19:41.783Z"
   },
   {
    "duration": 90,
    "start_time": "2023-09-25T14:19:42.091Z"
   },
   {
    "duration": 11,
    "start_time": "2023-09-25T14:19:42.184Z"
   },
   {
    "duration": 26,
    "start_time": "2023-09-25T14:19:42.198Z"
   },
   {
    "duration": 43,
    "start_time": "2023-09-25T14:19:42.226Z"
   },
   {
    "duration": 10,
    "start_time": "2023-09-25T14:19:42.282Z"
   },
   {
    "duration": 12,
    "start_time": "2023-09-25T14:19:42.294Z"
   },
   {
    "duration": 5,
    "start_time": "2023-09-25T14:19:42.381Z"
   },
   {
    "duration": 5,
    "start_time": "2023-09-25T14:19:42.388Z"
   },
   {
    "duration": 8,
    "start_time": "2023-09-25T14:19:42.480Z"
   },
   {
    "duration": 17,
    "start_time": "2023-09-25T14:19:42.490Z"
   },
   {
    "duration": 7,
    "start_time": "2023-09-25T14:19:42.509Z"
   },
   {
    "duration": 32,
    "start_time": "2023-09-25T14:19:42.518Z"
   },
   {
    "duration": 29,
    "start_time": "2023-09-25T14:19:42.552Z"
   },
   {
    "duration": 25,
    "start_time": "2023-09-25T14:19:42.583Z"
   },
   {
    "duration": 7,
    "start_time": "2023-09-25T14:19:42.610Z"
   },
   {
    "duration": 66,
    "start_time": "2023-09-25T14:19:42.619Z"
   },
   {
    "duration": 14,
    "start_time": "2023-09-25T14:19:42.688Z"
   },
   {
    "duration": 25,
    "start_time": "2023-09-25T14:19:42.705Z"
   },
   {
    "duration": 14,
    "start_time": "2023-09-25T14:19:42.733Z"
   },
   {
    "duration": 224,
    "start_time": "2023-09-25T14:19:42.750Z"
   },
   {
    "duration": 0,
    "start_time": "2023-09-25T14:19:42.975Z"
   },
   {
    "duration": 1625,
    "start_time": "2023-09-25T14:20:07.340Z"
   },
   {
    "duration": 480,
    "start_time": "2023-09-25T14:20:08.967Z"
   },
   {
    "duration": 5,
    "start_time": "2023-09-25T14:20:09.448Z"
   },
   {
    "duration": 434,
    "start_time": "2023-09-25T14:20:09.455Z"
   },
   {
    "duration": 5,
    "start_time": "2023-09-25T14:20:09.896Z"
   },
   {
    "duration": 1676,
    "start_time": "2023-09-25T14:20:09.902Z"
   },
   {
    "duration": 5,
    "start_time": "2023-09-25T14:20:11.579Z"
   },
   {
    "duration": 25,
    "start_time": "2023-09-25T14:20:11.591Z"
   },
   {
    "duration": 50,
    "start_time": "2023-09-25T14:20:11.618Z"
   },
   {
    "duration": 1032,
    "start_time": "2023-09-25T14:20:11.671Z"
   },
   {
    "duration": 29,
    "start_time": "2023-09-25T14:20:12.705Z"
   },
   {
    "duration": 28,
    "start_time": "2023-09-25T14:20:12.736Z"
   },
   {
    "duration": 47,
    "start_time": "2023-09-25T14:20:12.765Z"
   },
   {
    "duration": 22,
    "start_time": "2023-09-25T14:20:12.814Z"
   },
   {
    "duration": 21,
    "start_time": "2023-09-25T14:20:12.837Z"
   },
   {
    "duration": 39,
    "start_time": "2023-09-25T14:20:12.860Z"
   },
   {
    "duration": 384,
    "start_time": "2023-09-25T14:20:12.902Z"
   },
   {
    "duration": 89,
    "start_time": "2023-09-25T14:20:13.295Z"
   },
   {
    "duration": 698,
    "start_time": "2023-09-25T14:20:13.391Z"
   },
   {
    "duration": 8,
    "start_time": "2023-09-25T14:20:14.093Z"
   },
   {
    "duration": 399,
    "start_time": "2023-09-25T14:20:14.105Z"
   },
   {
    "duration": 18,
    "start_time": "2023-09-25T14:20:14.583Z"
   },
   {
    "duration": 35,
    "start_time": "2023-09-25T14:20:14.604Z"
   },
   {
    "duration": 21,
    "start_time": "2023-09-25T14:20:14.642Z"
   },
   {
    "duration": 45,
    "start_time": "2023-09-25T14:20:14.666Z"
   },
   {
    "duration": 15,
    "start_time": "2023-09-25T14:20:14.713Z"
   },
   {
    "duration": 73,
    "start_time": "2023-09-25T14:20:14.730Z"
   },
   {
    "duration": 83,
    "start_time": "2023-09-25T14:20:14.809Z"
   },
   {
    "duration": 9,
    "start_time": "2023-09-25T14:20:14.896Z"
   },
   {
    "duration": 20,
    "start_time": "2023-09-25T14:20:14.982Z"
   },
   {
    "duration": 60,
    "start_time": "2023-09-25T14:20:15.010Z"
   },
   {
    "duration": 22,
    "start_time": "2023-09-25T14:20:15.073Z"
   },
   {
    "duration": 55,
    "start_time": "2023-09-25T14:20:15.097Z"
   },
   {
    "duration": 24,
    "start_time": "2023-09-25T14:20:15.154Z"
   },
   {
    "duration": 24,
    "start_time": "2023-09-25T14:20:15.179Z"
   },
   {
    "duration": 6,
    "start_time": "2023-09-25T14:20:15.207Z"
   },
   {
    "duration": 41,
    "start_time": "2023-09-25T14:20:15.215Z"
   },
   {
    "duration": 29,
    "start_time": "2023-09-25T14:20:15.259Z"
   },
   {
    "duration": 20,
    "start_time": "2023-09-25T14:20:15.290Z"
   },
   {
    "duration": 12,
    "start_time": "2023-09-25T14:20:15.312Z"
   },
   {
    "duration": 188,
    "start_time": "2023-09-25T14:20:15.326Z"
   },
   {
    "duration": 0,
    "start_time": "2023-09-25T14:20:15.516Z"
   },
   {
    "duration": 1575,
    "start_time": "2023-09-25T14:20:40.846Z"
   },
   {
    "duration": 421,
    "start_time": "2023-09-25T14:20:42.423Z"
   },
   {
    "duration": 4,
    "start_time": "2023-09-25T14:20:42.846Z"
   },
   {
    "duration": 385,
    "start_time": "2023-09-25T14:20:42.852Z"
   },
   {
    "duration": 4,
    "start_time": "2023-09-25T14:20:43.239Z"
   },
   {
    "duration": 1511,
    "start_time": "2023-09-25T14:20:43.245Z"
   },
   {
    "duration": 3,
    "start_time": "2023-09-25T14:20:44.758Z"
   },
   {
    "duration": 26,
    "start_time": "2023-09-25T14:20:44.762Z"
   },
   {
    "duration": 15,
    "start_time": "2023-09-25T14:20:44.790Z"
   },
   {
    "duration": 1003,
    "start_time": "2023-09-25T14:20:44.807Z"
   },
   {
    "duration": 30,
    "start_time": "2023-09-25T14:20:45.812Z"
   },
   {
    "duration": 4,
    "start_time": "2023-09-25T14:20:45.843Z"
   },
   {
    "duration": 50,
    "start_time": "2023-09-25T14:20:45.849Z"
   },
   {
    "duration": 11,
    "start_time": "2023-09-25T14:20:45.900Z"
   },
   {
    "duration": 15,
    "start_time": "2023-09-25T14:20:45.913Z"
   },
   {
    "duration": 21,
    "start_time": "2023-09-25T14:20:45.930Z"
   },
   {
    "duration": 430,
    "start_time": "2023-09-25T14:20:45.953Z"
   },
   {
    "duration": 7,
    "start_time": "2023-09-25T14:20:46.385Z"
   },
   {
    "duration": 888,
    "start_time": "2023-09-25T14:20:46.394Z"
   },
   {
    "duration": 4,
    "start_time": "2023-09-25T14:20:47.283Z"
   },
   {
    "duration": 492,
    "start_time": "2023-09-25T14:20:47.289Z"
   },
   {
    "duration": 9,
    "start_time": "2023-09-25T14:20:47.783Z"
   },
   {
    "duration": 19,
    "start_time": "2023-09-25T14:20:47.793Z"
   },
   {
    "duration": 22,
    "start_time": "2023-09-25T14:20:47.815Z"
   },
   {
    "duration": 42,
    "start_time": "2023-09-25T14:20:47.839Z"
   },
   {
    "duration": 11,
    "start_time": "2023-09-25T14:20:47.883Z"
   },
   {
    "duration": 18,
    "start_time": "2023-09-25T14:20:47.897Z"
   },
   {
    "duration": 4,
    "start_time": "2023-09-25T14:20:47.991Z"
   },
   {
    "duration": 8,
    "start_time": "2023-09-25T14:20:48.082Z"
   },
   {
    "duration": 9,
    "start_time": "2023-09-25T14:20:48.092Z"
   },
   {
    "duration": 4,
    "start_time": "2023-09-25T14:20:48.103Z"
   },
   {
    "duration": 4,
    "start_time": "2023-09-25T14:20:48.109Z"
   },
   {
    "duration": 26,
    "start_time": "2023-09-25T14:20:48.115Z"
   },
   {
    "duration": 47,
    "start_time": "2023-09-25T14:20:48.142Z"
   },
   {
    "duration": 16,
    "start_time": "2023-09-25T14:20:48.191Z"
   },
   {
    "duration": 4,
    "start_time": "2023-09-25T14:20:48.209Z"
   },
   {
    "duration": 43,
    "start_time": "2023-09-25T14:20:48.215Z"
   },
   {
    "duration": 12,
    "start_time": "2023-09-25T14:20:48.281Z"
   },
   {
    "duration": 4,
    "start_time": "2023-09-25T14:20:48.294Z"
   },
   {
    "duration": 9,
    "start_time": "2023-09-25T14:20:48.300Z"
   },
   {
    "duration": 201,
    "start_time": "2023-09-25T14:20:48.311Z"
   },
   {
    "duration": 0,
    "start_time": "2023-09-25T14:20:48.514Z"
   },
   {
    "duration": 1541,
    "start_time": "2023-09-25T14:21:26.937Z"
   },
   {
    "duration": 452,
    "start_time": "2023-09-25T14:21:28.480Z"
   },
   {
    "duration": 4,
    "start_time": "2023-09-25T14:21:28.933Z"
   },
   {
    "duration": 454,
    "start_time": "2023-09-25T14:21:28.939Z"
   },
   {
    "duration": 6,
    "start_time": "2023-09-25T14:21:29.397Z"
   },
   {
    "duration": 1709,
    "start_time": "2023-09-25T14:21:29.405Z"
   },
   {
    "duration": 3,
    "start_time": "2023-09-25T14:21:31.117Z"
   },
   {
    "duration": 449,
    "start_time": "2023-09-25T14:21:31.122Z"
   },
   {
    "duration": 58,
    "start_time": "2023-09-25T14:21:31.573Z"
   },
   {
    "duration": 1066,
    "start_time": "2023-09-25T14:21:31.634Z"
   },
   {
    "duration": 30,
    "start_time": "2023-09-25T14:21:32.702Z"
   },
   {
    "duration": 27,
    "start_time": "2023-09-25T14:21:32.734Z"
   },
   {
    "duration": 42,
    "start_time": "2023-09-25T14:21:32.763Z"
   },
   {
    "duration": 33,
    "start_time": "2023-09-25T14:21:32.807Z"
   },
   {
    "duration": 16,
    "start_time": "2023-09-25T14:21:32.842Z"
   },
   {
    "duration": 21,
    "start_time": "2023-09-25T14:21:32.860Z"
   },
   {
    "duration": 401,
    "start_time": "2023-09-25T14:21:32.883Z"
   },
   {
    "duration": 95,
    "start_time": "2023-09-25T14:21:33.286Z"
   },
   {
    "duration": 700,
    "start_time": "2023-09-25T14:21:33.383Z"
   },
   {
    "duration": 97,
    "start_time": "2023-09-25T14:21:34.085Z"
   },
   {
    "duration": 397,
    "start_time": "2023-09-25T14:21:34.184Z"
   },
   {
    "duration": 16,
    "start_time": "2023-09-25T14:21:34.583Z"
   },
   {
    "duration": 13,
    "start_time": "2023-09-25T14:21:34.681Z"
   },
   {
    "duration": 13,
    "start_time": "2023-09-25T14:21:34.695Z"
   },
   {
    "duration": 33,
    "start_time": "2023-09-25T14:21:34.709Z"
   },
   {
    "duration": 8,
    "start_time": "2023-09-25T14:21:34.744Z"
   },
   {
    "duration": 128,
    "start_time": "2023-09-25T14:21:34.753Z"
   },
   {
    "duration": 94,
    "start_time": "2023-09-25T14:21:34.887Z"
   },
   {
    "duration": 13,
    "start_time": "2023-09-25T14:21:34.983Z"
   },
   {
    "duration": 9,
    "start_time": "2023-09-25T14:21:34.998Z"
   },
   {
    "duration": 16,
    "start_time": "2023-09-25T14:21:35.009Z"
   },
   {
    "duration": 7,
    "start_time": "2023-09-25T14:21:35.027Z"
   },
   {
    "duration": 21,
    "start_time": "2023-09-25T14:21:35.036Z"
   },
   {
    "duration": 26,
    "start_time": "2023-09-25T14:21:35.059Z"
   },
   {
    "duration": 17,
    "start_time": "2023-09-25T14:21:35.086Z"
   },
   {
    "duration": 4,
    "start_time": "2023-09-25T14:21:35.105Z"
   },
   {
    "duration": 31,
    "start_time": "2023-09-25T14:21:35.111Z"
   },
   {
    "duration": 39,
    "start_time": "2023-09-25T14:21:35.144Z"
   },
   {
    "duration": 26,
    "start_time": "2023-09-25T14:21:35.185Z"
   },
   {
    "duration": 37,
    "start_time": "2023-09-25T14:21:35.213Z"
   },
   {
    "duration": 1922,
    "start_time": "2023-09-25T14:21:35.251Z"
   },
   {
    "duration": 0,
    "start_time": "2023-09-25T14:21:37.181Z"
   },
   {
    "duration": 1479,
    "start_time": "2023-09-25T14:22:39.362Z"
   },
   {
    "duration": 433,
    "start_time": "2023-09-25T14:22:40.843Z"
   },
   {
    "duration": 4,
    "start_time": "2023-09-25T14:22:41.278Z"
   },
   {
    "duration": 383,
    "start_time": "2023-09-25T14:22:41.284Z"
   },
   {
    "duration": 11,
    "start_time": "2023-09-25T14:22:41.669Z"
   },
   {
    "duration": 1357,
    "start_time": "2023-09-25T14:22:41.682Z"
   },
   {
    "duration": 3,
    "start_time": "2023-09-25T14:22:43.041Z"
   },
   {
    "duration": 28,
    "start_time": "2023-09-25T14:22:43.046Z"
   },
   {
    "duration": 8,
    "start_time": "2023-09-25T14:22:43.076Z"
   },
   {
    "duration": 967,
    "start_time": "2023-09-25T14:22:43.087Z"
   },
   {
    "duration": 40,
    "start_time": "2023-09-25T14:22:44.056Z"
   },
   {
    "duration": 4,
    "start_time": "2023-09-25T14:22:44.098Z"
   },
   {
    "duration": 41,
    "start_time": "2023-09-25T14:22:44.103Z"
   },
   {
    "duration": 11,
    "start_time": "2023-09-25T14:22:44.145Z"
   },
   {
    "duration": 16,
    "start_time": "2023-09-25T14:22:44.158Z"
   },
   {
    "duration": 25,
    "start_time": "2023-09-25T14:22:44.176Z"
   },
   {
    "duration": 387,
    "start_time": "2023-09-25T14:22:44.203Z"
   },
   {
    "duration": 4,
    "start_time": "2023-09-25T14:22:44.682Z"
   },
   {
    "duration": 697,
    "start_time": "2023-09-25T14:22:44.688Z"
   },
   {
    "duration": 4,
    "start_time": "2023-09-25T14:22:45.480Z"
   },
   {
    "duration": 402,
    "start_time": "2023-09-25T14:22:45.486Z"
   },
   {
    "duration": 12,
    "start_time": "2023-09-25T14:22:45.980Z"
   },
   {
    "duration": 32,
    "start_time": "2023-09-25T14:22:45.994Z"
   },
   {
    "duration": 27,
    "start_time": "2023-09-25T14:22:46.027Z"
   },
   {
    "duration": 26,
    "start_time": "2023-09-25T14:22:46.057Z"
   },
   {
    "duration": 7,
    "start_time": "2023-09-25T14:22:46.085Z"
   },
   {
    "duration": 20,
    "start_time": "2023-09-25T14:22:46.094Z"
   },
   {
    "duration": 101,
    "start_time": "2023-09-25T14:22:46.180Z"
   },
   {
    "duration": 14,
    "start_time": "2023-09-25T14:22:46.283Z"
   },
   {
    "duration": 17,
    "start_time": "2023-09-25T14:22:46.298Z"
   },
   {
    "duration": 18,
    "start_time": "2023-09-25T14:22:46.317Z"
   },
   {
    "duration": 14,
    "start_time": "2023-09-25T14:22:46.337Z"
   },
   {
    "duration": 26,
    "start_time": "2023-09-25T14:22:46.354Z"
   },
   {
    "duration": 16,
    "start_time": "2023-09-25T14:22:46.381Z"
   },
   {
    "duration": 15,
    "start_time": "2023-09-25T14:22:46.398Z"
   },
   {
    "duration": 4,
    "start_time": "2023-09-25T14:22:46.415Z"
   },
   {
    "duration": 50,
    "start_time": "2023-09-25T14:22:46.421Z"
   },
   {
    "duration": 13,
    "start_time": "2023-09-25T14:22:46.480Z"
   },
   {
    "duration": 7,
    "start_time": "2023-09-25T14:22:46.495Z"
   },
   {
    "duration": 23,
    "start_time": "2023-09-25T14:22:46.503Z"
   },
   {
    "duration": 2004,
    "start_time": "2023-09-25T14:22:46.528Z"
   },
   {
    "duration": 0,
    "start_time": "2023-09-25T14:22:48.534Z"
   },
   {
    "duration": 1562,
    "start_time": "2023-09-25T14:23:52.956Z"
   },
   {
    "duration": 430,
    "start_time": "2023-09-25T14:23:54.520Z"
   },
   {
    "duration": 4,
    "start_time": "2023-09-25T14:23:54.952Z"
   },
   {
    "duration": 472,
    "start_time": "2023-09-25T14:23:54.959Z"
   },
   {
    "duration": 4,
    "start_time": "2023-09-25T14:23:55.433Z"
   },
   {
    "duration": 1695,
    "start_time": "2023-09-25T14:23:55.439Z"
   },
   {
    "duration": 3,
    "start_time": "2023-09-25T14:23:57.136Z"
   },
   {
    "duration": 25,
    "start_time": "2023-09-25T14:23:57.141Z"
   },
   {
    "duration": 56,
    "start_time": "2023-09-25T14:23:57.168Z"
   },
   {
    "duration": 1003,
    "start_time": "2023-09-25T14:23:57.228Z"
   },
   {
    "duration": 29,
    "start_time": "2023-09-25T14:23:58.234Z"
   },
   {
    "duration": 16,
    "start_time": "2023-09-25T14:23:58.265Z"
   },
   {
    "duration": 37,
    "start_time": "2023-09-25T14:23:58.283Z"
   },
   {
    "duration": 11,
    "start_time": "2023-09-25T14:23:58.322Z"
   },
   {
    "duration": 6,
    "start_time": "2023-09-25T14:23:58.335Z"
   },
   {
    "duration": 13,
    "start_time": "2023-09-25T14:23:58.344Z"
   },
   {
    "duration": 626,
    "start_time": "2023-09-25T14:23:58.360Z"
   },
   {
    "duration": 5,
    "start_time": "2023-09-25T14:23:58.987Z"
   },
   {
    "duration": 695,
    "start_time": "2023-09-25T14:23:58.993Z"
   },
   {
    "duration": 92,
    "start_time": "2023-09-25T14:23:59.690Z"
   },
   {
    "duration": 311,
    "start_time": "2023-09-25T14:23:59.784Z"
   },
   {
    "duration": 189,
    "start_time": "2023-09-25T14:24:00.097Z"
   },
   {
    "duration": 64,
    "start_time": "2023-09-25T14:24:00.288Z"
   },
   {
    "duration": 57,
    "start_time": "2023-09-25T14:24:00.354Z"
   },
   {
    "duration": 59,
    "start_time": "2023-09-25T14:24:00.413Z"
   },
   {
    "duration": 11,
    "start_time": "2023-09-25T14:24:00.474Z"
   },
   {
    "duration": 98,
    "start_time": "2023-09-25T14:24:00.487Z"
   },
   {
    "duration": 191,
    "start_time": "2023-09-25T14:24:00.592Z"
   },
   {
    "duration": 82,
    "start_time": "2023-09-25T14:24:00.785Z"
   },
   {
    "duration": 182,
    "start_time": "2023-09-25T14:24:00.870Z"
   },
   {
    "duration": 35,
    "start_time": "2023-09-25T14:24:01.054Z"
   },
   {
    "duration": 53,
    "start_time": "2023-09-25T14:24:01.091Z"
   },
   {
    "duration": 100,
    "start_time": "2023-09-25T14:24:01.145Z"
   },
   {
    "duration": 46,
    "start_time": "2023-09-25T14:24:01.247Z"
   },
   {
    "duration": 84,
    "start_time": "2023-09-25T14:24:01.295Z"
   },
   {
    "duration": 297,
    "start_time": "2023-09-25T14:24:01.381Z"
   },
   {
    "duration": 241,
    "start_time": "2023-09-25T14:24:01.680Z"
   },
   {
    "duration": 115,
    "start_time": "2023-09-25T14:24:01.923Z"
   },
   {
    "duration": 82,
    "start_time": "2023-09-25T14:24:02.040Z"
   },
   {
    "duration": 102,
    "start_time": "2023-09-25T14:24:02.123Z"
   },
   {
    "duration": 138,
    "start_time": "2023-09-25T14:24:02.227Z"
   },
   {
    "duration": 1997,
    "start_time": "2023-09-25T14:24:02.366Z"
   },
   {
    "duration": 0,
    "start_time": "2023-09-25T14:24:04.365Z"
   },
   {
    "duration": 1531,
    "start_time": "2023-09-25T14:25:34.595Z"
   },
   {
    "duration": 481,
    "start_time": "2023-09-25T14:25:36.128Z"
   },
   {
    "duration": 5,
    "start_time": "2023-09-25T14:25:36.612Z"
   },
   {
    "duration": 447,
    "start_time": "2023-09-25T14:25:36.618Z"
   },
   {
    "duration": 5,
    "start_time": "2023-09-25T14:25:37.067Z"
   },
   {
    "duration": 1596,
    "start_time": "2023-09-25T14:25:37.081Z"
   },
   {
    "duration": 7,
    "start_time": "2023-09-25T14:25:38.686Z"
   },
   {
    "duration": 13,
    "start_time": "2023-09-25T14:25:38.698Z"
   },
   {
    "duration": 16,
    "start_time": "2023-09-25T14:25:38.713Z"
   },
   {
    "duration": 1087,
    "start_time": "2023-09-25T14:25:38.731Z"
   },
   {
    "duration": 29,
    "start_time": "2023-09-25T14:25:39.820Z"
   },
   {
    "duration": 4,
    "start_time": "2023-09-25T14:25:39.850Z"
   },
   {
    "duration": 48,
    "start_time": "2023-09-25T14:25:39.855Z"
   },
   {
    "duration": 11,
    "start_time": "2023-09-25T14:25:39.906Z"
   },
   {
    "duration": 9,
    "start_time": "2023-09-25T14:25:39.918Z"
   },
   {
    "duration": 15,
    "start_time": "2023-09-25T14:25:39.928Z"
   },
   {
    "duration": 345,
    "start_time": "2023-09-25T14:25:39.945Z"
   },
   {
    "duration": 103,
    "start_time": "2023-09-25T14:25:40.293Z"
   },
   {
    "duration": 594,
    "start_time": "2023-09-25T14:25:40.398Z"
   },
   {
    "duration": 8,
    "start_time": "2023-09-25T14:25:40.994Z"
   },
   {
    "duration": 311,
    "start_time": "2023-09-25T14:25:41.083Z"
   },
   {
    "duration": 14,
    "start_time": "2023-09-25T14:25:41.491Z"
   },
   {
    "duration": 76,
    "start_time": "2023-09-25T14:25:41.508Z"
   },
   {
    "duration": 18,
    "start_time": "2023-09-25T14:25:41.587Z"
   },
   {
    "duration": 73,
    "start_time": "2023-09-25T14:25:41.606Z"
   },
   {
    "duration": 10,
    "start_time": "2023-09-25T14:25:41.681Z"
   },
   {
    "duration": 41,
    "start_time": "2023-09-25T14:25:41.692Z"
   },
   {
    "duration": 6,
    "start_time": "2023-09-25T14:25:41.782Z"
   },
   {
    "duration": 112,
    "start_time": "2023-09-25T14:25:41.793Z"
   },
   {
    "duration": 14,
    "start_time": "2023-09-25T14:25:41.907Z"
   },
   {
    "duration": 85,
    "start_time": "2023-09-25T14:25:41.922Z"
   },
   {
    "duration": 45,
    "start_time": "2023-09-25T14:25:42.008Z"
   },
   {
    "duration": 50,
    "start_time": "2023-09-25T14:25:42.054Z"
   },
   {
    "duration": 16,
    "start_time": "2023-09-25T14:25:42.106Z"
   },
   {
    "duration": 16,
    "start_time": "2023-09-25T14:25:42.123Z"
   },
   {
    "duration": 8,
    "start_time": "2023-09-25T14:25:42.140Z"
   },
   {
    "duration": 6,
    "start_time": "2023-09-25T14:25:42.150Z"
   },
   {
    "duration": 27,
    "start_time": "2023-09-25T14:25:42.193Z"
   },
   {
    "duration": 9,
    "start_time": "2023-09-25T14:25:42.222Z"
   },
   {
    "duration": 15,
    "start_time": "2023-09-25T14:25:42.232Z"
   },
   {
    "duration": 15,
    "start_time": "2023-09-25T14:25:42.251Z"
   },
   {
    "duration": 2026,
    "start_time": "2023-09-25T14:25:42.268Z"
   },
   {
    "duration": 0,
    "start_time": "2023-09-25T14:25:44.295Z"
   },
   {
    "duration": 1563,
    "start_time": "2023-09-25T14:27:46.459Z"
   },
   {
    "duration": 415,
    "start_time": "2023-09-25T14:27:48.024Z"
   },
   {
    "duration": 3,
    "start_time": "2023-09-25T14:27:48.442Z"
   },
   {
    "duration": 401,
    "start_time": "2023-09-25T14:27:48.446Z"
   },
   {
    "duration": 4,
    "start_time": "2023-09-25T14:27:48.849Z"
   },
   {
    "duration": 1430,
    "start_time": "2023-09-25T14:27:48.855Z"
   },
   {
    "duration": 3,
    "start_time": "2023-09-25T14:27:50.287Z"
   },
   {
    "duration": 42,
    "start_time": "2023-09-25T14:27:50.291Z"
   },
   {
    "duration": 23,
    "start_time": "2023-09-25T14:27:50.334Z"
   },
   {
    "duration": 1027,
    "start_time": "2023-09-25T14:27:50.359Z"
   },
   {
    "duration": 28,
    "start_time": "2023-09-25T14:27:51.388Z"
   },
   {
    "duration": 4,
    "start_time": "2023-09-25T14:27:51.418Z"
   },
   {
    "duration": 46,
    "start_time": "2023-09-25T14:27:51.423Z"
   },
   {
    "duration": 18,
    "start_time": "2023-09-25T14:27:51.472Z"
   },
   {
    "duration": 31,
    "start_time": "2023-09-25T14:27:51.492Z"
   },
   {
    "duration": 21,
    "start_time": "2023-09-25T14:27:51.525Z"
   },
   {
    "duration": 439,
    "start_time": "2023-09-25T14:27:51.547Z"
   },
   {
    "duration": 95,
    "start_time": "2023-09-25T14:27:51.989Z"
   },
   {
    "duration": 702,
    "start_time": "2023-09-25T14:27:52.085Z"
   },
   {
    "duration": 93,
    "start_time": "2023-09-25T14:27:52.789Z"
   },
   {
    "duration": 397,
    "start_time": "2023-09-25T14:27:52.884Z"
   },
   {
    "duration": 98,
    "start_time": "2023-09-25T14:27:53.284Z"
   },
   {
    "duration": 24,
    "start_time": "2023-09-25T14:27:53.384Z"
   },
   {
    "duration": 27,
    "start_time": "2023-09-25T14:27:53.410Z"
   },
   {
    "duration": 40,
    "start_time": "2023-09-25T14:27:53.439Z"
   },
   {
    "duration": 8,
    "start_time": "2023-09-25T14:27:53.481Z"
   },
   {
    "duration": 28,
    "start_time": "2023-09-25T14:27:53.491Z"
   },
   {
    "duration": 99,
    "start_time": "2023-09-25T14:27:53.583Z"
   },
   {
    "duration": 21,
    "start_time": "2023-09-25T14:27:53.684Z"
   },
   {
    "duration": 19,
    "start_time": "2023-09-25T14:27:53.706Z"
   },
   {
    "duration": 21,
    "start_time": "2023-09-25T14:27:53.727Z"
   },
   {
    "duration": 6,
    "start_time": "2023-09-25T14:27:53.750Z"
   },
   {
    "duration": 47,
    "start_time": "2023-09-25T14:27:53.758Z"
   },
   {
    "duration": 18,
    "start_time": "2023-09-25T14:27:53.808Z"
   },
   {
    "duration": 17,
    "start_time": "2023-09-25T14:27:53.828Z"
   },
   {
    "duration": 37,
    "start_time": "2023-09-25T14:27:53.847Z"
   },
   {
    "duration": 21,
    "start_time": "2023-09-25T14:27:53.886Z"
   },
   {
    "duration": 47,
    "start_time": "2023-09-25T14:27:53.909Z"
   },
   {
    "duration": 111,
    "start_time": "2023-09-25T14:27:53.958Z"
   },
   {
    "duration": 0,
    "start_time": "2023-09-25T14:27:54.072Z"
   },
   {
    "duration": 0,
    "start_time": "2023-09-25T14:27:54.073Z"
   },
   {
    "duration": 0,
    "start_time": "2023-09-25T14:27:54.075Z"
   },
   {
    "duration": 0,
    "start_time": "2023-09-25T14:27:54.076Z"
   },
   {
    "duration": 1439,
    "start_time": "2023-09-25T14:28:58.469Z"
   },
   {
    "duration": 438,
    "start_time": "2023-09-25T14:28:59.910Z"
   },
   {
    "duration": 3,
    "start_time": "2023-09-25T14:29:00.350Z"
   },
   {
    "duration": 453,
    "start_time": "2023-09-25T14:29:00.355Z"
   },
   {
    "duration": 4,
    "start_time": "2023-09-25T14:29:00.810Z"
   },
   {
    "duration": 1549,
    "start_time": "2023-09-25T14:29:00.816Z"
   },
   {
    "duration": 2,
    "start_time": "2023-09-25T14:29:02.367Z"
   },
   {
    "duration": 117,
    "start_time": "2023-09-25T14:29:02.371Z"
   },
   {
    "duration": 42,
    "start_time": "2023-09-25T14:29:02.490Z"
   },
   {
    "duration": 1089,
    "start_time": "2023-09-25T14:29:02.535Z"
   },
   {
    "duration": 29,
    "start_time": "2023-09-25T14:29:03.626Z"
   },
   {
    "duration": 4,
    "start_time": "2023-09-25T14:29:03.657Z"
   },
   {
    "duration": 29,
    "start_time": "2023-09-25T14:29:03.681Z"
   },
   {
    "duration": 10,
    "start_time": "2023-09-25T14:29:03.712Z"
   },
   {
    "duration": 17,
    "start_time": "2023-09-25T14:29:03.724Z"
   },
   {
    "duration": 16,
    "start_time": "2023-09-25T14:29:03.743Z"
   },
   {
    "duration": 523,
    "start_time": "2023-09-25T14:29:03.761Z"
   },
   {
    "duration": 5,
    "start_time": "2023-09-25T14:29:04.286Z"
   },
   {
    "duration": 695,
    "start_time": "2023-09-25T14:29:04.293Z"
   },
   {
    "duration": 91,
    "start_time": "2023-09-25T14:29:04.992Z"
   },
   {
    "duration": 309,
    "start_time": "2023-09-25T14:29:05.084Z"
   },
   {
    "duration": 102,
    "start_time": "2023-09-25T14:29:05.482Z"
   },
   {
    "duration": 9,
    "start_time": "2023-09-25T14:29:05.586Z"
   },
   {
    "duration": 33,
    "start_time": "2023-09-25T14:29:05.597Z"
   },
   {
    "duration": 37,
    "start_time": "2023-09-25T14:29:05.633Z"
   },
   {
    "duration": 17,
    "start_time": "2023-09-25T14:29:05.672Z"
   },
   {
    "duration": 37,
    "start_time": "2023-09-25T14:29:05.691Z"
   },
   {
    "duration": 149,
    "start_time": "2023-09-25T14:29:05.733Z"
   },
   {
    "duration": 28,
    "start_time": "2023-09-25T14:29:05.884Z"
   },
   {
    "duration": 43,
    "start_time": "2023-09-25T14:29:05.914Z"
   },
   {
    "duration": 31,
    "start_time": "2023-09-25T14:29:05.959Z"
   },
   {
    "duration": 25,
    "start_time": "2023-09-25T14:29:05.992Z"
   },
   {
    "duration": 47,
    "start_time": "2023-09-25T14:29:06.019Z"
   },
   {
    "duration": 59,
    "start_time": "2023-09-25T14:29:06.068Z"
   },
   {
    "duration": 36,
    "start_time": "2023-09-25T14:29:06.129Z"
   },
   {
    "duration": 23,
    "start_time": "2023-09-25T14:29:06.167Z"
   },
   {
    "duration": 24,
    "start_time": "2023-09-25T14:29:06.192Z"
   },
   {
    "duration": 49,
    "start_time": "2023-09-25T14:29:06.218Z"
   },
   {
    "duration": 123,
    "start_time": "2023-09-25T14:29:06.270Z"
   },
   {
    "duration": 0,
    "start_time": "2023-09-25T14:29:06.395Z"
   },
   {
    "duration": 0,
    "start_time": "2023-09-25T14:29:06.397Z"
   },
   {
    "duration": 0,
    "start_time": "2023-09-25T14:29:06.399Z"
   },
   {
    "duration": 0,
    "start_time": "2023-09-25T14:29:06.400Z"
   },
   {
    "duration": 1575,
    "start_time": "2023-09-25T14:29:28.712Z"
   },
   {
    "duration": 442,
    "start_time": "2023-09-25T14:29:30.289Z"
   },
   {
    "duration": 4,
    "start_time": "2023-09-25T14:29:30.733Z"
   },
   {
    "duration": 597,
    "start_time": "2023-09-25T14:29:30.739Z"
   },
   {
    "duration": 5,
    "start_time": "2023-09-25T14:29:31.338Z"
   },
   {
    "duration": 1524,
    "start_time": "2023-09-25T14:29:31.345Z"
   },
   {
    "duration": 10,
    "start_time": "2023-09-25T14:29:32.871Z"
   },
   {
    "duration": 35,
    "start_time": "2023-09-25T14:29:32.883Z"
   },
   {
    "duration": 39,
    "start_time": "2023-09-25T14:29:32.920Z"
   },
   {
    "duration": 1021,
    "start_time": "2023-09-25T14:29:32.961Z"
   },
   {
    "duration": 28,
    "start_time": "2023-09-25T14:29:33.984Z"
   },
   {
    "duration": 3,
    "start_time": "2023-09-25T14:29:34.014Z"
   },
   {
    "duration": 41,
    "start_time": "2023-09-25T14:29:34.018Z"
   },
   {
    "duration": 20,
    "start_time": "2023-09-25T14:29:34.062Z"
   },
   {
    "duration": 22,
    "start_time": "2023-09-25T14:29:34.084Z"
   },
   {
    "duration": 14,
    "start_time": "2023-09-25T14:29:34.107Z"
   },
   {
    "duration": 458,
    "start_time": "2023-09-25T14:29:34.123Z"
   },
   {
    "duration": 5,
    "start_time": "2023-09-25T14:29:34.583Z"
   },
   {
    "duration": 700,
    "start_time": "2023-09-25T14:29:34.589Z"
   },
   {
    "duration": 4,
    "start_time": "2023-09-25T14:29:35.381Z"
   },
   {
    "duration": 396,
    "start_time": "2023-09-25T14:29:35.386Z"
   },
   {
    "duration": 97,
    "start_time": "2023-09-25T14:29:35.784Z"
   },
   {
    "duration": 9,
    "start_time": "2023-09-25T14:29:35.882Z"
   },
   {
    "duration": 19,
    "start_time": "2023-09-25T14:29:35.893Z"
   },
   {
    "duration": 34,
    "start_time": "2023-09-25T14:29:35.914Z"
   },
   {
    "duration": 8,
    "start_time": "2023-09-25T14:29:35.949Z"
   },
   {
    "duration": 65,
    "start_time": "2023-09-25T14:29:35.959Z"
   },
   {
    "duration": 62,
    "start_time": "2023-09-25T14:29:36.026Z"
   },
   {
    "duration": 114,
    "start_time": "2023-09-25T14:29:36.091Z"
   },
   {
    "duration": 28,
    "start_time": "2023-09-25T14:29:36.207Z"
   },
   {
    "duration": 30,
    "start_time": "2023-09-25T14:29:36.238Z"
   },
   {
    "duration": 119,
    "start_time": "2023-09-25T14:29:36.270Z"
   },
   {
    "duration": 89,
    "start_time": "2023-09-25T14:29:36.390Z"
   },
   {
    "duration": 31,
    "start_time": "2023-09-25T14:29:36.481Z"
   },
   {
    "duration": 17,
    "start_time": "2023-09-25T14:29:36.513Z"
   },
   {
    "duration": 8,
    "start_time": "2023-09-25T14:29:36.532Z"
   },
   {
    "duration": 11,
    "start_time": "2023-09-25T14:29:36.541Z"
   },
   {
    "duration": 53,
    "start_time": "2023-09-25T14:29:36.554Z"
   },
   {
    "duration": 158,
    "start_time": "2023-09-25T14:29:36.610Z"
   },
   {
    "duration": 0,
    "start_time": "2023-09-25T14:29:36.770Z"
   },
   {
    "duration": 0,
    "start_time": "2023-09-25T14:29:36.772Z"
   },
   {
    "duration": 0,
    "start_time": "2023-09-25T14:29:36.785Z"
   },
   {
    "duration": 0,
    "start_time": "2023-09-25T14:29:36.786Z"
   },
   {
    "duration": 1670,
    "start_time": "2023-09-25T14:30:26.788Z"
   },
   {
    "duration": 430,
    "start_time": "2023-09-25T14:30:28.460Z"
   },
   {
    "duration": 4,
    "start_time": "2023-09-25T14:30:28.891Z"
   },
   {
    "duration": 431,
    "start_time": "2023-09-25T14:30:28.897Z"
   },
   {
    "duration": 5,
    "start_time": "2023-09-25T14:30:29.330Z"
   },
   {
    "duration": 1587,
    "start_time": "2023-09-25T14:30:29.337Z"
   },
   {
    "duration": 3,
    "start_time": "2023-09-25T14:30:30.926Z"
   },
   {
    "duration": 88,
    "start_time": "2023-09-25T14:30:30.931Z"
   },
   {
    "duration": 96,
    "start_time": "2023-09-25T14:30:31.021Z"
   },
   {
    "duration": 985,
    "start_time": "2023-09-25T14:30:31.120Z"
   },
   {
    "duration": 29,
    "start_time": "2023-09-25T14:30:32.107Z"
   },
   {
    "duration": 58,
    "start_time": "2023-09-25T14:30:32.138Z"
   },
   {
    "duration": 55,
    "start_time": "2023-09-25T14:30:32.198Z"
   },
   {
    "duration": 18,
    "start_time": "2023-09-25T14:30:32.255Z"
   },
   {
    "duration": 26,
    "start_time": "2023-09-25T14:30:32.275Z"
   },
   {
    "duration": 87,
    "start_time": "2023-09-25T14:30:32.304Z"
   },
   {
    "duration": 491,
    "start_time": "2023-09-25T14:30:32.393Z"
   },
   {
    "duration": 95,
    "start_time": "2023-09-25T14:30:32.886Z"
   },
   {
    "duration": 707,
    "start_time": "2023-09-25T14:30:32.984Z"
   },
   {
    "duration": 5,
    "start_time": "2023-09-25T14:30:33.782Z"
   },
   {
    "duration": 399,
    "start_time": "2023-09-25T14:30:33.789Z"
   },
   {
    "duration": 92,
    "start_time": "2023-09-25T14:30:34.190Z"
   },
   {
    "duration": 79,
    "start_time": "2023-09-25T14:30:34.284Z"
   },
   {
    "duration": 361,
    "start_time": "2023-09-25T14:30:34.365Z"
   },
   {
    "duration": 46,
    "start_time": "2023-09-25T14:30:34.728Z"
   },
   {
    "duration": 9,
    "start_time": "2023-09-25T14:30:34.776Z"
   },
   {
    "duration": 102,
    "start_time": "2023-09-25T14:30:34.787Z"
   },
   {
    "duration": 90,
    "start_time": "2023-09-25T14:30:34.894Z"
   },
   {
    "duration": 103,
    "start_time": "2023-09-25T14:30:34.986Z"
   },
   {
    "duration": 32,
    "start_time": "2023-09-25T14:30:35.091Z"
   },
   {
    "duration": 12,
    "start_time": "2023-09-25T14:30:35.125Z"
   },
   {
    "duration": 14,
    "start_time": "2023-09-25T14:30:35.139Z"
   },
   {
    "duration": 60,
    "start_time": "2023-09-25T14:30:35.155Z"
   },
   {
    "duration": 19,
    "start_time": "2023-09-25T14:30:35.217Z"
   },
   {
    "duration": 30,
    "start_time": "2023-09-25T14:30:35.238Z"
   },
   {
    "duration": 8,
    "start_time": "2023-09-25T14:30:35.270Z"
   },
   {
    "duration": 37,
    "start_time": "2023-09-25T14:30:35.280Z"
   },
   {
    "duration": 58,
    "start_time": "2023-09-25T14:30:35.320Z"
   },
   {
    "duration": 14,
    "start_time": "2023-09-25T14:30:35.380Z"
   },
   {
    "duration": 148,
    "start_time": "2023-09-25T14:30:35.396Z"
   },
   {
    "duration": 0,
    "start_time": "2023-09-25T14:30:35.545Z"
   },
   {
    "duration": 0,
    "start_time": "2023-09-25T14:30:35.546Z"
   },
   {
    "duration": 0,
    "start_time": "2023-09-25T14:30:35.547Z"
   },
   {
    "duration": 0,
    "start_time": "2023-09-25T14:30:35.549Z"
   },
   {
    "duration": 27,
    "start_time": "2023-09-25T14:30:52.570Z"
   },
   {
    "duration": 19,
    "start_time": "2023-09-25T14:33:24.708Z"
   },
   {
    "duration": 13,
    "start_time": "2023-09-25T14:34:25.716Z"
   },
   {
    "duration": 20,
    "start_time": "2023-09-25T14:34:42.274Z"
   },
   {
    "duration": 1601,
    "start_time": "2023-09-25T14:37:08.229Z"
   },
   {
    "duration": 439,
    "start_time": "2023-09-25T14:37:09.832Z"
   },
   {
    "duration": 4,
    "start_time": "2023-09-25T14:37:10.273Z"
   },
   {
    "duration": 416,
    "start_time": "2023-09-25T14:37:10.281Z"
   },
   {
    "duration": 4,
    "start_time": "2023-09-25T14:37:10.699Z"
   },
   {
    "duration": 1654,
    "start_time": "2023-09-25T14:37:10.705Z"
   },
   {
    "duration": 3,
    "start_time": "2023-09-25T14:37:12.360Z"
   },
   {
    "duration": 32,
    "start_time": "2023-09-25T14:37:12.364Z"
   },
   {
    "duration": 14,
    "start_time": "2023-09-25T14:37:12.398Z"
   },
   {
    "duration": 1027,
    "start_time": "2023-09-25T14:37:12.414Z"
   },
   {
    "duration": 41,
    "start_time": "2023-09-25T14:37:13.443Z"
   },
   {
    "duration": 7,
    "start_time": "2023-09-25T14:37:13.486Z"
   },
   {
    "duration": 35,
    "start_time": "2023-09-25T14:37:13.495Z"
   },
   {
    "duration": 143,
    "start_time": "2023-09-25T14:37:13.534Z"
   },
   {
    "duration": 138,
    "start_time": "2023-09-25T14:37:13.678Z"
   },
   {
    "duration": 65,
    "start_time": "2023-09-25T14:37:13.817Z"
   },
   {
    "duration": 398,
    "start_time": "2023-09-25T14:37:13.884Z"
   },
   {
    "duration": 11,
    "start_time": "2023-09-25T14:37:14.285Z"
   },
   {
    "duration": 691,
    "start_time": "2023-09-25T14:37:14.298Z"
   },
   {
    "duration": 6,
    "start_time": "2023-09-25T14:37:14.991Z"
   },
   {
    "duration": 383,
    "start_time": "2023-09-25T14:37:14.999Z"
   },
   {
    "duration": 17,
    "start_time": "2023-09-25T14:37:15.385Z"
   },
   {
    "duration": 15,
    "start_time": "2023-09-25T14:37:15.483Z"
   },
   {
    "duration": 17,
    "start_time": "2023-09-25T14:37:15.499Z"
   },
   {
    "duration": 33,
    "start_time": "2023-09-25T14:37:15.518Z"
   },
   {
    "duration": 8,
    "start_time": "2023-09-25T14:37:15.553Z"
   },
   {
    "duration": 19,
    "start_time": "2023-09-25T14:37:15.583Z"
   },
   {
    "duration": 5,
    "start_time": "2023-09-25T14:37:15.682Z"
   },
   {
    "duration": 6,
    "start_time": "2023-09-25T14:37:15.689Z"
   },
   {
    "duration": 89,
    "start_time": "2023-09-25T14:37:15.698Z"
   },
   {
    "duration": 6,
    "start_time": "2023-09-25T14:37:15.789Z"
   },
   {
    "duration": 10,
    "start_time": "2023-09-25T14:37:15.798Z"
   },
   {
    "duration": 41,
    "start_time": "2023-09-25T14:37:15.810Z"
   },
   {
    "duration": 17,
    "start_time": "2023-09-25T14:37:15.853Z"
   },
   {
    "duration": 18,
    "start_time": "2023-09-25T14:37:15.881Z"
   },
   {
    "duration": 19,
    "start_time": "2023-09-25T14:37:15.902Z"
   },
   {
    "duration": 34,
    "start_time": "2023-09-25T14:37:15.924Z"
   },
   {
    "duration": 14,
    "start_time": "2023-09-25T14:37:15.961Z"
   },
   {
    "duration": 143,
    "start_time": "2023-09-25T14:37:15.976Z"
   },
   {
    "duration": 0,
    "start_time": "2023-09-25T14:37:16.122Z"
   },
   {
    "duration": 0,
    "start_time": "2023-09-25T14:37:16.123Z"
   },
   {
    "duration": 1,
    "start_time": "2023-09-25T14:37:16.124Z"
   },
   {
    "duration": 0,
    "start_time": "2023-09-25T14:37:16.126Z"
   },
   {
    "duration": 0,
    "start_time": "2023-09-25T14:37:16.127Z"
   },
   {
    "duration": 10,
    "start_time": "2023-09-25T14:38:01.441Z"
   },
   {
    "duration": 1642,
    "start_time": "2023-09-25T14:38:08.294Z"
   },
   {
    "duration": 465,
    "start_time": "2023-09-25T14:38:09.938Z"
   },
   {
    "duration": 4,
    "start_time": "2023-09-25T14:38:10.405Z"
   },
   {
    "duration": 432,
    "start_time": "2023-09-25T14:38:10.411Z"
   },
   {
    "duration": 4,
    "start_time": "2023-09-25T14:38:10.845Z"
   },
   {
    "duration": 1617,
    "start_time": "2023-09-25T14:38:10.851Z"
   },
   {
    "duration": 3,
    "start_time": "2023-09-25T14:38:12.470Z"
   },
   {
    "duration": 23,
    "start_time": "2023-09-25T14:38:12.474Z"
   },
   {
    "duration": 7,
    "start_time": "2023-09-25T14:38:12.498Z"
   },
   {
    "duration": 1036,
    "start_time": "2023-09-25T14:38:12.506Z"
   },
   {
    "duration": 27,
    "start_time": "2023-09-25T14:38:13.544Z"
   },
   {
    "duration": 12,
    "start_time": "2023-09-25T14:38:13.581Z"
   },
   {
    "duration": 28,
    "start_time": "2023-09-25T14:38:13.595Z"
   },
   {
    "duration": 10,
    "start_time": "2023-09-25T14:38:13.626Z"
   },
   {
    "duration": 8,
    "start_time": "2023-09-25T14:38:13.638Z"
   },
   {
    "duration": 11,
    "start_time": "2023-09-25T14:38:13.647Z"
   },
   {
    "duration": 439,
    "start_time": "2023-09-25T14:38:13.660Z"
   },
   {
    "duration": 89,
    "start_time": "2023-09-25T14:38:14.102Z"
   },
   {
    "duration": 896,
    "start_time": "2023-09-25T14:38:14.194Z"
   },
   {
    "duration": 8,
    "start_time": "2023-09-25T14:38:15.093Z"
   },
   {
    "duration": 298,
    "start_time": "2023-09-25T14:38:15.105Z"
   },
   {
    "duration": 87,
    "start_time": "2023-09-25T14:38:15.407Z"
   },
   {
    "duration": 16,
    "start_time": "2023-09-25T14:38:15.497Z"
   },
   {
    "duration": 67,
    "start_time": "2023-09-25T14:38:15.514Z"
   },
   {
    "duration": 33,
    "start_time": "2023-09-25T14:38:15.584Z"
   },
   {
    "duration": 9,
    "start_time": "2023-09-25T14:38:15.619Z"
   },
   {
    "duration": 64,
    "start_time": "2023-09-25T14:38:15.630Z"
   },
   {
    "duration": 85,
    "start_time": "2023-09-25T14:38:15.698Z"
   },
   {
    "duration": 6,
    "start_time": "2023-09-25T14:38:15.786Z"
   },
   {
    "duration": 101,
    "start_time": "2023-09-25T14:38:15.795Z"
   },
   {
    "duration": 7,
    "start_time": "2023-09-25T14:38:15.897Z"
   },
   {
    "duration": 13,
    "start_time": "2023-09-25T14:38:15.905Z"
   },
   {
    "duration": 29,
    "start_time": "2023-09-25T14:38:15.919Z"
   },
   {
    "duration": 51,
    "start_time": "2023-09-25T14:38:15.951Z"
   },
   {
    "duration": 29,
    "start_time": "2023-09-25T14:38:16.004Z"
   },
   {
    "duration": 16,
    "start_time": "2023-09-25T14:38:16.036Z"
   },
   {
    "duration": 16,
    "start_time": "2023-09-25T14:38:16.082Z"
   },
   {
    "duration": 7,
    "start_time": "2023-09-25T14:38:16.100Z"
   },
   {
    "duration": 43,
    "start_time": "2023-09-25T14:38:16.108Z"
   },
   {
    "duration": 11,
    "start_time": "2023-09-25T14:38:16.180Z"
   },
   {
    "duration": 8,
    "start_time": "2023-09-25T14:38:16.195Z"
   },
   {
    "duration": 8,
    "start_time": "2023-09-25T14:38:16.205Z"
   },
   {
    "duration": 6006,
    "start_time": "2023-09-25T14:38:16.215Z"
   },
   {
    "duration": 8,
    "start_time": "2023-09-25T14:38:22.223Z"
   },
   {
    "duration": 1432,
    "start_time": "2023-09-25T14:43:24.133Z"
   },
   {
    "duration": 423,
    "start_time": "2023-09-25T14:43:25.567Z"
   },
   {
    "duration": 4,
    "start_time": "2023-09-25T14:43:25.991Z"
   },
   {
    "duration": 407,
    "start_time": "2023-09-25T14:43:25.997Z"
   },
   {
    "duration": 4,
    "start_time": "2023-09-25T14:43:26.406Z"
   },
   {
    "duration": 1521,
    "start_time": "2023-09-25T14:43:26.412Z"
   },
   {
    "duration": 3,
    "start_time": "2023-09-25T14:43:27.935Z"
   },
   {
    "duration": 19,
    "start_time": "2023-09-25T14:43:27.940Z"
   },
   {
    "duration": 21,
    "start_time": "2023-09-25T14:43:27.961Z"
   },
   {
    "duration": 901,
    "start_time": "2023-09-25T14:43:27.994Z"
   },
   {
    "duration": 28,
    "start_time": "2023-09-25T14:43:28.896Z"
   },
   {
    "duration": 23,
    "start_time": "2023-09-25T14:43:28.926Z"
   },
   {
    "duration": 48,
    "start_time": "2023-09-25T14:43:28.951Z"
   },
   {
    "duration": 11,
    "start_time": "2023-09-25T14:43:29.001Z"
   },
   {
    "duration": 5,
    "start_time": "2023-09-25T14:43:29.013Z"
   },
   {
    "duration": 25,
    "start_time": "2023-09-25T14:43:29.020Z"
   },
   {
    "duration": 437,
    "start_time": "2023-09-25T14:43:29.047Z"
   },
   {
    "duration": 4,
    "start_time": "2023-09-25T14:43:29.486Z"
   },
   {
    "duration": 697,
    "start_time": "2023-09-25T14:43:29.492Z"
   },
   {
    "duration": 91,
    "start_time": "2023-09-25T14:43:30.191Z"
   },
   {
    "duration": 397,
    "start_time": "2023-09-25T14:43:30.284Z"
   },
   {
    "duration": 98,
    "start_time": "2023-09-25T14:43:30.684Z"
   },
   {
    "duration": 76,
    "start_time": "2023-09-25T14:43:30.784Z"
   },
   {
    "duration": 95,
    "start_time": "2023-09-25T14:43:30.862Z"
   },
   {
    "duration": 129,
    "start_time": "2023-09-25T14:43:30.958Z"
   },
   {
    "duration": 233,
    "start_time": "2023-09-25T14:43:31.089Z"
   },
   {
    "duration": 194,
    "start_time": "2023-09-25T14:43:31.324Z"
   },
   {
    "duration": 259,
    "start_time": "2023-09-25T14:43:31.523Z"
   },
   {
    "duration": 103,
    "start_time": "2023-09-25T14:43:31.783Z"
   },
   {
    "duration": 185,
    "start_time": "2023-09-25T14:43:31.887Z"
   },
   {
    "duration": 189,
    "start_time": "2023-09-25T14:43:32.074Z"
   },
   {
    "duration": 59,
    "start_time": "2023-09-25T14:43:32.265Z"
   },
   {
    "duration": 101,
    "start_time": "2023-09-25T14:43:32.326Z"
   },
   {
    "duration": 230,
    "start_time": "2023-09-25T14:43:32.429Z"
   },
   {
    "duration": 50,
    "start_time": "2023-09-25T14:43:32.661Z"
   },
   {
    "duration": 9,
    "start_time": "2023-09-25T14:43:32.713Z"
   },
   {
    "duration": 22,
    "start_time": "2023-09-25T14:43:32.724Z"
   },
   {
    "duration": 46,
    "start_time": "2023-09-25T14:43:32.748Z"
   },
   {
    "duration": 4,
    "start_time": "2023-09-25T14:43:32.796Z"
   },
   {
    "duration": 16,
    "start_time": "2023-09-25T14:43:32.801Z"
   },
   {
    "duration": 5290,
    "start_time": "2023-09-25T14:43:32.818Z"
   },
   {
    "duration": 7,
    "start_time": "2023-09-25T14:43:38.110Z"
   },
   {
    "duration": 1456,
    "start_time": "2023-09-25T14:44:42.646Z"
   },
   {
    "duration": 424,
    "start_time": "2023-09-25T14:44:44.105Z"
   },
   {
    "duration": 4,
    "start_time": "2023-09-25T14:44:44.531Z"
   },
   {
    "duration": 395,
    "start_time": "2023-09-25T14:44:44.537Z"
   },
   {
    "duration": 5,
    "start_time": "2023-09-25T14:44:44.934Z"
   },
   {
    "duration": 1515,
    "start_time": "2023-09-25T14:44:44.941Z"
   },
   {
    "duration": 3,
    "start_time": "2023-09-25T14:44:46.459Z"
   },
   {
    "duration": 69,
    "start_time": "2023-09-25T14:44:46.464Z"
   },
   {
    "duration": 48,
    "start_time": "2023-09-25T14:44:46.535Z"
   },
   {
    "duration": 1122,
    "start_time": "2023-09-25T14:44:46.585Z"
   },
   {
    "duration": 30,
    "start_time": "2023-09-25T14:44:47.709Z"
   },
   {
    "duration": 15,
    "start_time": "2023-09-25T14:44:47.741Z"
   },
   {
    "duration": 53,
    "start_time": "2023-09-25T14:44:47.758Z"
   },
   {
    "duration": 26,
    "start_time": "2023-09-25T14:44:47.816Z"
   },
   {
    "duration": 34,
    "start_time": "2023-09-25T14:44:47.844Z"
   },
   {
    "duration": 56,
    "start_time": "2023-09-25T14:44:47.880Z"
   },
   {
    "duration": 452,
    "start_time": "2023-09-25T14:44:47.938Z"
   },
   {
    "duration": 5,
    "start_time": "2023-09-25T14:44:48.481Z"
   },
   {
    "duration": 795,
    "start_time": "2023-09-25T14:44:48.487Z"
   },
   {
    "duration": 4,
    "start_time": "2023-09-25T14:44:49.284Z"
   },
   {
    "duration": 393,
    "start_time": "2023-09-25T14:44:49.290Z"
   },
   {
    "duration": 101,
    "start_time": "2023-09-25T14:44:49.686Z"
   },
   {
    "duration": 53,
    "start_time": "2023-09-25T14:44:49.789Z"
   },
   {
    "duration": 49,
    "start_time": "2023-09-25T14:44:49.844Z"
   },
   {
    "duration": 50,
    "start_time": "2023-09-25T14:44:49.894Z"
   },
   {
    "duration": 29,
    "start_time": "2023-09-25T14:44:49.946Z"
   },
   {
    "duration": 31,
    "start_time": "2023-09-25T14:44:49.977Z"
   },
   {
    "duration": 171,
    "start_time": "2023-09-25T14:44:50.011Z"
   },
   {
    "duration": 42,
    "start_time": "2023-09-25T14:44:50.184Z"
   },
   {
    "duration": 45,
    "start_time": "2023-09-25T14:44:50.227Z"
   },
   {
    "duration": 46,
    "start_time": "2023-09-25T14:44:50.273Z"
   },
   {
    "duration": 32,
    "start_time": "2023-09-25T14:44:50.320Z"
   },
   {
    "duration": 66,
    "start_time": "2023-09-25T14:44:50.354Z"
   },
   {
    "duration": 67,
    "start_time": "2023-09-25T14:44:50.421Z"
   },
   {
    "duration": 58,
    "start_time": "2023-09-25T14:44:50.489Z"
   },
   {
    "duration": 16,
    "start_time": "2023-09-25T14:44:50.549Z"
   },
   {
    "duration": 16,
    "start_time": "2023-09-25T14:44:50.567Z"
   },
   {
    "duration": 42,
    "start_time": "2023-09-25T14:44:50.585Z"
   },
   {
    "duration": 3,
    "start_time": "2023-09-25T14:44:50.629Z"
   },
   {
    "duration": 281,
    "start_time": "2023-09-25T14:44:50.634Z"
   },
   {
    "duration": 0,
    "start_time": "2023-09-25T14:44:50.917Z"
   },
   {
    "duration": 0,
    "start_time": "2023-09-25T14:44:50.918Z"
   },
   {
    "duration": 1492,
    "start_time": "2023-09-25T14:45:13.062Z"
   },
   {
    "duration": 414,
    "start_time": "2023-09-25T14:45:14.555Z"
   },
   {
    "duration": 4,
    "start_time": "2023-09-25T14:45:14.970Z"
   },
   {
    "duration": 392,
    "start_time": "2023-09-25T14:45:14.980Z"
   },
   {
    "duration": 9,
    "start_time": "2023-09-25T14:45:15.375Z"
   },
   {
    "duration": 1479,
    "start_time": "2023-09-25T14:45:15.385Z"
   },
   {
    "duration": 4,
    "start_time": "2023-09-25T14:45:16.865Z"
   },
   {
    "duration": 22,
    "start_time": "2023-09-25T14:45:16.870Z"
   },
   {
    "duration": 11,
    "start_time": "2023-09-25T14:45:16.895Z"
   },
   {
    "duration": 1008,
    "start_time": "2023-09-25T14:45:16.909Z"
   },
   {
    "duration": 28,
    "start_time": "2023-09-25T14:45:17.918Z"
   },
   {
    "duration": 9,
    "start_time": "2023-09-25T14:45:17.948Z"
   },
   {
    "duration": 44,
    "start_time": "2023-09-25T14:45:17.958Z"
   },
   {
    "duration": 12,
    "start_time": "2023-09-25T14:45:18.005Z"
   },
   {
    "duration": 8,
    "start_time": "2023-09-25T14:45:18.018Z"
   },
   {
    "duration": 17,
    "start_time": "2023-09-25T14:45:18.027Z"
   },
   {
    "duration": 439,
    "start_time": "2023-09-25T14:45:18.046Z"
   },
   {
    "duration": 96,
    "start_time": "2023-09-25T14:45:18.487Z"
   },
   {
    "duration": 700,
    "start_time": "2023-09-25T14:45:18.585Z"
   },
   {
    "duration": 94,
    "start_time": "2023-09-25T14:45:19.288Z"
   },
   {
    "duration": 398,
    "start_time": "2023-09-25T14:45:19.384Z"
   },
   {
    "duration": 98,
    "start_time": "2023-09-25T14:45:19.786Z"
   },
   {
    "duration": 24,
    "start_time": "2023-09-25T14:45:19.886Z"
   },
   {
    "duration": 33,
    "start_time": "2023-09-25T14:45:19.912Z"
   },
   {
    "duration": 46,
    "start_time": "2023-09-25T14:45:19.946Z"
   },
   {
    "duration": 8,
    "start_time": "2023-09-25T14:45:19.994Z"
   },
   {
    "duration": 78,
    "start_time": "2023-09-25T14:45:20.004Z"
   },
   {
    "duration": 111,
    "start_time": "2023-09-25T14:45:20.085Z"
   },
   {
    "duration": 101,
    "start_time": "2023-09-25T14:45:20.198Z"
   },
   {
    "duration": 22,
    "start_time": "2023-09-25T14:45:20.301Z"
   },
   {
    "duration": 4,
    "start_time": "2023-09-25T14:45:20.325Z"
   },
   {
    "duration": 32,
    "start_time": "2023-09-25T14:45:20.331Z"
   },
   {
    "duration": 50,
    "start_time": "2023-09-25T14:45:20.365Z"
   },
   {
    "duration": 29,
    "start_time": "2023-09-25T14:45:20.417Z"
   },
   {
    "duration": 18,
    "start_time": "2023-09-25T14:45:20.448Z"
   },
   {
    "duration": 11,
    "start_time": "2023-09-25T14:45:20.468Z"
   },
   {
    "duration": 26,
    "start_time": "2023-09-25T14:45:20.481Z"
   },
   {
    "duration": 34,
    "start_time": "2023-09-25T14:45:20.509Z"
   },
   {
    "duration": 4,
    "start_time": "2023-09-25T14:45:20.545Z"
   },
   {
    "duration": 10,
    "start_time": "2023-09-25T14:45:20.551Z"
   },
   {
    "duration": 1853,
    "start_time": "2023-09-25T14:45:20.564Z"
   },
   {
    "duration": 0,
    "start_time": "2023-09-25T14:45:22.419Z"
   },
   {
    "duration": 1502,
    "start_time": "2023-09-25T14:46:39.494Z"
   },
   {
    "duration": 450,
    "start_time": "2023-09-25T14:46:40.999Z"
   },
   {
    "duration": 5,
    "start_time": "2023-09-25T14:46:41.450Z"
   },
   {
    "duration": 414,
    "start_time": "2023-09-25T14:46:41.458Z"
   },
   {
    "duration": 10,
    "start_time": "2023-09-25T14:46:41.880Z"
   },
   {
    "duration": 1470,
    "start_time": "2023-09-25T14:46:41.897Z"
   },
   {
    "duration": 3,
    "start_time": "2023-09-25T14:46:43.369Z"
   },
   {
    "duration": 13,
    "start_time": "2023-09-25T14:46:43.381Z"
   },
   {
    "duration": 10,
    "start_time": "2023-09-25T14:46:43.395Z"
   },
   {
    "duration": 1056,
    "start_time": "2023-09-25T14:46:43.408Z"
   },
   {
    "duration": 48,
    "start_time": "2023-09-25T14:46:44.466Z"
   },
   {
    "duration": 4,
    "start_time": "2023-09-25T14:46:44.516Z"
   },
   {
    "duration": 33,
    "start_time": "2023-09-25T14:46:44.522Z"
   },
   {
    "duration": 29,
    "start_time": "2023-09-25T14:46:44.557Z"
   },
   {
    "duration": 14,
    "start_time": "2023-09-25T14:46:44.587Z"
   },
   {
    "duration": 36,
    "start_time": "2023-09-25T14:46:44.603Z"
   },
   {
    "duration": 540,
    "start_time": "2023-09-25T14:46:44.641Z"
   },
   {
    "duration": 6,
    "start_time": "2023-09-25T14:46:45.183Z"
   },
   {
    "duration": 790,
    "start_time": "2023-09-25T14:46:45.192Z"
   },
   {
    "duration": 4,
    "start_time": "2023-09-25T14:46:45.985Z"
   },
   {
    "duration": 397,
    "start_time": "2023-09-25T14:46:45.991Z"
   },
   {
    "duration": 99,
    "start_time": "2023-09-25T14:46:46.391Z"
   },
   {
    "duration": 11,
    "start_time": "2023-09-25T14:46:46.492Z"
   },
   {
    "duration": 33,
    "start_time": "2023-09-25T14:46:46.505Z"
   },
   {
    "duration": 38,
    "start_time": "2023-09-25T14:46:46.539Z"
   },
   {
    "duration": 16,
    "start_time": "2023-09-25T14:46:46.578Z"
   },
   {
    "duration": 34,
    "start_time": "2023-09-25T14:46:46.596Z"
   },
   {
    "duration": 9,
    "start_time": "2023-09-25T14:46:46.681Z"
   },
   {
    "duration": 96,
    "start_time": "2023-09-25T14:46:46.701Z"
   },
   {
    "duration": 29,
    "start_time": "2023-09-25T14:46:46.799Z"
   },
   {
    "duration": 25,
    "start_time": "2023-09-25T14:46:46.830Z"
   },
   {
    "duration": 22,
    "start_time": "2023-09-25T14:46:46.857Z"
   },
   {
    "duration": 42,
    "start_time": "2023-09-25T14:46:46.881Z"
   },
   {
    "duration": 23,
    "start_time": "2023-09-25T14:46:46.925Z"
   },
   {
    "duration": 32,
    "start_time": "2023-09-25T14:46:46.950Z"
   },
   {
    "duration": 13,
    "start_time": "2023-09-25T14:46:46.985Z"
   },
   {
    "duration": 24,
    "start_time": "2023-09-25T14:46:47.000Z"
   },
   {
    "duration": 34,
    "start_time": "2023-09-25T14:46:47.027Z"
   },
   {
    "duration": 3,
    "start_time": "2023-09-25T14:46:47.063Z"
   },
   {
    "duration": 33,
    "start_time": "2023-09-25T14:46:47.068Z"
   },
   {
    "duration": 5545,
    "start_time": "2023-09-25T14:46:47.103Z"
   },
   {
    "duration": 7,
    "start_time": "2023-09-25T14:46:52.650Z"
   },
   {
    "duration": 1485,
    "start_time": "2023-09-25T14:50:53.621Z"
   },
   {
    "duration": 424,
    "start_time": "2023-09-25T14:50:55.108Z"
   },
   {
    "duration": 4,
    "start_time": "2023-09-25T14:50:55.534Z"
   },
   {
    "duration": 391,
    "start_time": "2023-09-25T14:50:55.540Z"
   },
   {
    "duration": 4,
    "start_time": "2023-09-25T14:50:55.933Z"
   },
   {
    "duration": 1634,
    "start_time": "2023-09-25T14:50:55.939Z"
   },
   {
    "duration": 8,
    "start_time": "2023-09-25T14:50:57.574Z"
   },
   {
    "duration": 16,
    "start_time": "2023-09-25T14:50:57.583Z"
   },
   {
    "duration": 5,
    "start_time": "2023-09-25T14:50:57.601Z"
   },
   {
    "duration": 981,
    "start_time": "2023-09-25T14:50:57.609Z"
   },
   {
    "duration": 29,
    "start_time": "2023-09-25T14:50:58.592Z"
   },
   {
    "duration": 3,
    "start_time": "2023-09-25T14:50:58.623Z"
   },
   {
    "duration": 35,
    "start_time": "2023-09-25T14:50:58.628Z"
   },
   {
    "duration": 25,
    "start_time": "2023-09-25T14:50:58.664Z"
   },
   {
    "duration": 21,
    "start_time": "2023-09-25T14:50:58.691Z"
   },
   {
    "duration": 9,
    "start_time": "2023-09-25T14:50:58.714Z"
   },
   {
    "duration": 458,
    "start_time": "2023-09-25T14:50:58.724Z"
   },
   {
    "duration": 4,
    "start_time": "2023-09-25T14:50:59.184Z"
   },
   {
    "duration": 690,
    "start_time": "2023-09-25T14:50:59.192Z"
   },
   {
    "duration": 5,
    "start_time": "2023-09-25T14:50:59.884Z"
   },
   {
    "duration": 389,
    "start_time": "2023-09-25T14:50:59.891Z"
   },
   {
    "duration": 103,
    "start_time": "2023-09-25T14:51:00.283Z"
   },
   {
    "duration": 40,
    "start_time": "2023-09-25T14:51:00.388Z"
   },
   {
    "duration": 62,
    "start_time": "2023-09-25T14:51:00.429Z"
   },
   {
    "duration": 53,
    "start_time": "2023-09-25T14:51:00.492Z"
   },
   {
    "duration": 13,
    "start_time": "2023-09-25T14:51:00.547Z"
   },
   {
    "duration": 49,
    "start_time": "2023-09-25T14:51:00.562Z"
   },
   {
    "duration": 184,
    "start_time": "2023-09-25T14:51:00.615Z"
   },
   {
    "duration": 54,
    "start_time": "2023-09-25T14:51:00.801Z"
   },
   {
    "duration": 41,
    "start_time": "2023-09-25T14:51:00.858Z"
   },
   {
    "duration": 28,
    "start_time": "2023-09-25T14:51:00.901Z"
   },
   {
    "duration": 38,
    "start_time": "2023-09-25T14:51:00.931Z"
   },
   {
    "duration": 57,
    "start_time": "2023-09-25T14:51:00.970Z"
   },
   {
    "duration": 92,
    "start_time": "2023-09-25T14:51:01.029Z"
   },
   {
    "duration": 21,
    "start_time": "2023-09-25T14:51:01.123Z"
   },
   {
    "duration": 21,
    "start_time": "2023-09-25T14:51:01.146Z"
   },
   {
    "duration": 41,
    "start_time": "2023-09-25T14:51:01.170Z"
   },
   {
    "duration": 56,
    "start_time": "2023-09-25T14:51:01.213Z"
   },
   {
    "duration": 76,
    "start_time": "2023-09-25T14:51:01.271Z"
   },
   {
    "duration": 69,
    "start_time": "2023-09-25T14:51:01.348Z"
   },
   {
    "duration": 5357,
    "start_time": "2023-09-25T14:51:01.419Z"
   },
   {
    "duration": 10,
    "start_time": "2023-09-25T14:51:06.784Z"
   },
   {
    "duration": 1468,
    "start_time": "2023-09-25T14:51:33.162Z"
   },
   {
    "duration": 425,
    "start_time": "2023-09-25T14:51:34.632Z"
   },
   {
    "duration": 7,
    "start_time": "2023-09-25T14:51:35.058Z"
   },
   {
    "duration": 376,
    "start_time": "2023-09-25T14:51:35.068Z"
   },
   {
    "duration": 4,
    "start_time": "2023-09-25T14:51:35.446Z"
   },
   {
    "duration": 1435,
    "start_time": "2023-09-25T14:51:35.452Z"
   },
   {
    "duration": 3,
    "start_time": "2023-09-25T14:51:36.890Z"
   },
   {
    "duration": 32,
    "start_time": "2023-09-25T14:51:36.895Z"
   },
   {
    "duration": 19,
    "start_time": "2023-09-25T14:51:36.929Z"
   },
   {
    "duration": 1020,
    "start_time": "2023-09-25T14:51:36.952Z"
   },
   {
    "duration": 35,
    "start_time": "2023-09-25T14:51:37.974Z"
   },
   {
    "duration": 5,
    "start_time": "2023-09-25T14:51:38.011Z"
   },
   {
    "duration": 31,
    "start_time": "2023-09-25T14:51:38.018Z"
   },
   {
    "duration": 37,
    "start_time": "2023-09-25T14:51:38.051Z"
   },
   {
    "duration": 6,
    "start_time": "2023-09-25T14:51:38.090Z"
   },
   {
    "duration": 15,
    "start_time": "2023-09-25T14:51:38.097Z"
   },
   {
    "duration": 468,
    "start_time": "2023-09-25T14:51:38.114Z"
   },
   {
    "duration": 4,
    "start_time": "2023-09-25T14:51:38.584Z"
   },
   {
    "duration": 790,
    "start_time": "2023-09-25T14:51:38.590Z"
   },
   {
    "duration": 4,
    "start_time": "2023-09-25T14:51:39.382Z"
   },
   {
    "duration": 306,
    "start_time": "2023-09-25T14:51:39.388Z"
   },
   {
    "duration": 95,
    "start_time": "2023-09-25T14:51:39.787Z"
   },
   {
    "duration": 18,
    "start_time": "2023-09-25T14:51:39.884Z"
   },
   {
    "duration": 27,
    "start_time": "2023-09-25T14:51:39.904Z"
   },
   {
    "duration": 29,
    "start_time": "2023-09-25T14:51:39.933Z"
   },
   {
    "duration": 7,
    "start_time": "2023-09-25T14:51:39.963Z"
   },
   {
    "duration": 13,
    "start_time": "2023-09-25T14:51:39.981Z"
   },
   {
    "duration": 184,
    "start_time": "2023-09-25T14:51:39.998Z"
   },
   {
    "duration": 11,
    "start_time": "2023-09-25T14:51:40.184Z"
   },
   {
    "duration": 19,
    "start_time": "2023-09-25T14:51:40.196Z"
   },
   {
    "duration": 7,
    "start_time": "2023-09-25T14:51:40.217Z"
   },
   {
    "duration": 12,
    "start_time": "2023-09-25T14:51:40.225Z"
   },
   {
    "duration": 55,
    "start_time": "2023-09-25T14:51:40.238Z"
   },
   {
    "duration": 15,
    "start_time": "2023-09-25T14:51:40.295Z"
   },
   {
    "duration": 15,
    "start_time": "2023-09-25T14:51:40.312Z"
   },
   {
    "duration": 9,
    "start_time": "2023-09-25T14:51:40.329Z"
   },
   {
    "duration": 9,
    "start_time": "2023-09-25T14:51:40.339Z"
   },
   {
    "duration": 57,
    "start_time": "2023-09-25T14:51:40.349Z"
   },
   {
    "duration": 3,
    "start_time": "2023-09-25T14:51:40.407Z"
   },
   {
    "duration": 26,
    "start_time": "2023-09-25T14:51:40.412Z"
   },
   {
    "duration": 5283,
    "start_time": "2023-09-25T14:51:40.440Z"
   },
   {
    "duration": 9,
    "start_time": "2023-09-25T14:51:45.725Z"
   },
   {
    "duration": 1544,
    "start_time": "2023-09-25T14:52:27.441Z"
   },
   {
    "duration": 428,
    "start_time": "2023-09-25T14:52:28.987Z"
   },
   {
    "duration": 5,
    "start_time": "2023-09-25T14:52:29.417Z"
   },
   {
    "duration": 394,
    "start_time": "2023-09-25T14:52:29.425Z"
   },
   {
    "duration": 4,
    "start_time": "2023-09-25T14:52:29.822Z"
   },
   {
    "duration": 1503,
    "start_time": "2023-09-25T14:52:29.828Z"
   },
   {
    "duration": 3,
    "start_time": "2023-09-25T14:52:31.333Z"
   },
   {
    "duration": 61,
    "start_time": "2023-09-25T14:52:31.337Z"
   },
   {
    "duration": 35,
    "start_time": "2023-09-25T14:52:31.400Z"
   },
   {
    "duration": 1071,
    "start_time": "2023-09-25T14:52:31.437Z"
   },
   {
    "duration": 33,
    "start_time": "2023-09-25T14:52:32.509Z"
   },
   {
    "duration": 50,
    "start_time": "2023-09-25T14:52:32.545Z"
   },
   {
    "duration": 60,
    "start_time": "2023-09-25T14:52:32.597Z"
   },
   {
    "duration": 24,
    "start_time": "2023-09-25T14:52:32.659Z"
   },
   {
    "duration": 57,
    "start_time": "2023-09-25T14:52:32.685Z"
   },
   {
    "duration": 55,
    "start_time": "2023-09-25T14:52:32.744Z"
   },
   {
    "duration": 481,
    "start_time": "2023-09-25T14:52:32.801Z"
   },
   {
    "duration": 5,
    "start_time": "2023-09-25T14:52:33.283Z"
   },
   {
    "duration": 793,
    "start_time": "2023-09-25T14:52:33.289Z"
   },
   {
    "duration": 4,
    "start_time": "2023-09-25T14:52:34.084Z"
   },
   {
    "duration": 398,
    "start_time": "2023-09-25T14:52:34.090Z"
   },
   {
    "duration": 100,
    "start_time": "2023-09-25T14:52:34.490Z"
   },
   {
    "duration": 13,
    "start_time": "2023-09-25T14:52:34.592Z"
   },
   {
    "duration": 11,
    "start_time": "2023-09-25T14:52:34.607Z"
   },
   {
    "duration": 29,
    "start_time": "2023-09-25T14:52:34.620Z"
   },
   {
    "duration": 9,
    "start_time": "2023-09-25T14:52:34.680Z"
   },
   {
    "duration": 30,
    "start_time": "2023-09-25T14:52:34.690Z"
   },
   {
    "duration": 4,
    "start_time": "2023-09-25T14:52:34.783Z"
   },
   {
    "duration": 152,
    "start_time": "2023-09-25T14:52:34.789Z"
   },
   {
    "duration": 55,
    "start_time": "2023-09-25T14:52:34.942Z"
   },
   {
    "duration": 12,
    "start_time": "2023-09-25T14:52:34.998Z"
   },
   {
    "duration": 11,
    "start_time": "2023-09-25T14:52:35.012Z"
   },
   {
    "duration": 252,
    "start_time": "2023-09-25T14:52:35.025Z"
   },
   {
    "duration": 193,
    "start_time": "2023-09-25T14:52:35.278Z"
   },
   {
    "duration": 18,
    "start_time": "2023-09-25T14:52:35.473Z"
   },
   {
    "duration": 12,
    "start_time": "2023-09-25T14:52:35.494Z"
   },
   {
    "duration": 32,
    "start_time": "2023-09-25T14:52:35.508Z"
   },
   {
    "duration": 33,
    "start_time": "2023-09-25T14:52:35.542Z"
   },
   {
    "duration": 26,
    "start_time": "2023-09-25T14:52:35.578Z"
   },
   {
    "duration": 61,
    "start_time": "2023-09-25T14:52:35.606Z"
   },
   {
    "duration": 5461,
    "start_time": "2023-09-25T14:52:35.668Z"
   },
   {
    "duration": 8,
    "start_time": "2023-09-25T14:52:41.130Z"
   },
   {
    "duration": 1493,
    "start_time": "2023-09-25T14:53:18.237Z"
   },
   {
    "duration": 421,
    "start_time": "2023-09-25T14:53:19.731Z"
   },
   {
    "duration": 5,
    "start_time": "2023-09-25T14:53:20.154Z"
   },
   {
    "duration": 377,
    "start_time": "2023-09-25T14:53:20.162Z"
   },
   {
    "duration": 5,
    "start_time": "2023-09-25T14:53:20.541Z"
   },
   {
    "duration": 1469,
    "start_time": "2023-09-25T14:53:20.548Z"
   },
   {
    "duration": 3,
    "start_time": "2023-09-25T14:53:22.019Z"
   },
   {
    "duration": 17,
    "start_time": "2023-09-25T14:53:22.024Z"
   },
   {
    "duration": 6,
    "start_time": "2023-09-25T14:53:22.042Z"
   },
   {
    "duration": 950,
    "start_time": "2023-09-25T14:53:22.051Z"
   },
   {
    "duration": 28,
    "start_time": "2023-09-25T14:53:23.003Z"
   },
   {
    "duration": 4,
    "start_time": "2023-09-25T14:53:23.033Z"
   },
   {
    "duration": 52,
    "start_time": "2023-09-25T14:53:23.039Z"
   },
   {
    "duration": 11,
    "start_time": "2023-09-25T14:53:23.093Z"
   },
   {
    "duration": 6,
    "start_time": "2023-09-25T14:53:23.106Z"
   },
   {
    "duration": 20,
    "start_time": "2023-09-25T14:53:23.113Z"
   },
   {
    "duration": 451,
    "start_time": "2023-09-25T14:53:23.135Z"
   },
   {
    "duration": 92,
    "start_time": "2023-09-25T14:53:23.589Z"
   },
   {
    "duration": 706,
    "start_time": "2023-09-25T14:53:23.683Z"
   },
   {
    "duration": 4,
    "start_time": "2023-09-25T14:53:24.482Z"
   },
   {
    "duration": 399,
    "start_time": "2023-09-25T14:53:24.487Z"
   },
   {
    "duration": 98,
    "start_time": "2023-09-25T14:53:24.889Z"
   },
   {
    "duration": 15,
    "start_time": "2023-09-25T14:53:24.989Z"
   },
   {
    "duration": 30,
    "start_time": "2023-09-25T14:53:25.006Z"
   },
   {
    "duration": 37,
    "start_time": "2023-09-25T14:53:25.038Z"
   },
   {
    "duration": 8,
    "start_time": "2023-09-25T14:53:25.081Z"
   },
   {
    "duration": 21,
    "start_time": "2023-09-25T14:53:25.091Z"
   },
   {
    "duration": 5,
    "start_time": "2023-09-25T14:53:25.188Z"
   },
   {
    "duration": 3,
    "start_time": "2023-09-25T14:53:25.282Z"
   },
   {
    "duration": 20,
    "start_time": "2023-09-25T14:53:25.287Z"
   },
   {
    "duration": 5,
    "start_time": "2023-09-25T14:53:25.309Z"
   },
   {
    "duration": 6,
    "start_time": "2023-09-25T14:53:25.315Z"
   },
   {
    "duration": 22,
    "start_time": "2023-09-25T14:53:25.323Z"
   },
   {
    "duration": 34,
    "start_time": "2023-09-25T14:53:25.347Z"
   },
   {
    "duration": 17,
    "start_time": "2023-09-25T14:53:25.384Z"
   },
   {
    "duration": 9,
    "start_time": "2023-09-25T14:53:25.402Z"
   },
   {
    "duration": 7,
    "start_time": "2023-09-25T14:53:25.413Z"
   },
   {
    "duration": 60,
    "start_time": "2023-09-25T14:53:25.422Z"
   },
   {
    "duration": 5,
    "start_time": "2023-09-25T14:53:25.484Z"
   },
   {
    "duration": 11,
    "start_time": "2023-09-25T14:53:25.490Z"
   },
   {
    "duration": 5363,
    "start_time": "2023-09-25T14:53:25.502Z"
   },
   {
    "duration": 18,
    "start_time": "2023-09-25T14:53:30.867Z"
   },
   {
    "duration": 1687,
    "start_time": "2023-09-25T15:08:07.586Z"
   },
   {
    "duration": 434,
    "start_time": "2023-09-25T15:08:09.275Z"
   },
   {
    "duration": 4,
    "start_time": "2023-09-25T15:08:09.711Z"
   },
   {
    "duration": 395,
    "start_time": "2023-09-25T15:08:09.718Z"
   },
   {
    "duration": 5,
    "start_time": "2023-09-25T15:08:10.114Z"
   },
   {
    "duration": 1495,
    "start_time": "2023-09-25T15:08:10.120Z"
   },
   {
    "duration": 3,
    "start_time": "2023-09-25T15:08:11.617Z"
   },
   {
    "duration": 16,
    "start_time": "2023-09-25T15:08:11.622Z"
   },
   {
    "duration": 11,
    "start_time": "2023-09-25T15:08:11.640Z"
   },
   {
    "duration": 943,
    "start_time": "2023-09-25T15:08:11.654Z"
   },
   {
    "duration": 40,
    "start_time": "2023-09-25T15:08:12.600Z"
   },
   {
    "duration": 4,
    "start_time": "2023-09-25T15:08:12.641Z"
   },
   {
    "duration": 50,
    "start_time": "2023-09-25T15:08:12.647Z"
   },
   {
    "duration": 18,
    "start_time": "2023-09-25T15:08:12.699Z"
   },
   {
    "duration": 19,
    "start_time": "2023-09-25T15:08:12.718Z"
   },
   {
    "duration": 27,
    "start_time": "2023-09-25T15:08:12.739Z"
   },
   {
    "duration": 618,
    "start_time": "2023-09-25T15:08:12.767Z"
   },
   {
    "duration": 4,
    "start_time": "2023-09-25T15:08:13.387Z"
   },
   {
    "duration": 896,
    "start_time": "2023-09-25T15:08:13.392Z"
   },
   {
    "duration": 6,
    "start_time": "2023-09-25T15:08:14.290Z"
   },
   {
    "duration": 389,
    "start_time": "2023-09-25T15:08:14.297Z"
   },
   {
    "duration": 96,
    "start_time": "2023-09-25T15:08:14.689Z"
   },
   {
    "duration": 9,
    "start_time": "2023-09-25T15:08:14.787Z"
   },
   {
    "duration": 19,
    "start_time": "2023-09-25T15:08:14.798Z"
   },
   {
    "duration": 64,
    "start_time": "2023-09-25T15:08:14.818Z"
   },
   {
    "duration": 12,
    "start_time": "2023-09-25T15:08:14.884Z"
   },
   {
    "duration": 83,
    "start_time": "2023-09-25T15:08:14.898Z"
   },
   {
    "duration": 4,
    "start_time": "2023-09-25T15:08:14.990Z"
   },
   {
    "duration": 14,
    "start_time": "2023-09-25T15:08:15.082Z"
   },
   {
    "duration": 30,
    "start_time": "2023-09-25T15:08:15.098Z"
   },
   {
    "duration": 27,
    "start_time": "2023-09-25T15:08:15.130Z"
   },
   {
    "duration": 13,
    "start_time": "2023-09-25T15:08:15.159Z"
   },
   {
    "duration": 36,
    "start_time": "2023-09-25T15:08:15.174Z"
   },
   {
    "duration": 17,
    "start_time": "2023-09-25T15:08:15.212Z"
   },
   {
    "duration": 54,
    "start_time": "2023-09-25T15:08:15.231Z"
   },
   {
    "duration": 14,
    "start_time": "2023-09-25T15:08:15.287Z"
   },
   {
    "duration": 36,
    "start_time": "2023-09-25T15:08:15.304Z"
   },
   {
    "duration": 43,
    "start_time": "2023-09-25T15:08:15.342Z"
   },
   {
    "duration": 8,
    "start_time": "2023-09-25T15:08:15.387Z"
   },
   {
    "duration": 156,
    "start_time": "2023-09-25T15:08:15.397Z"
   },
   {
    "duration": 0,
    "start_time": "2023-09-25T15:08:15.556Z"
   },
   {
    "duration": 0,
    "start_time": "2023-09-25T15:08:15.557Z"
   },
   {
    "duration": 1492,
    "start_time": "2023-09-25T15:08:41.009Z"
   },
   {
    "duration": 423,
    "start_time": "2023-09-25T15:08:42.503Z"
   },
   {
    "duration": 4,
    "start_time": "2023-09-25T15:08:42.930Z"
   },
   {
    "duration": 395,
    "start_time": "2023-09-25T15:08:42.935Z"
   },
   {
    "duration": 4,
    "start_time": "2023-09-25T15:08:43.332Z"
   },
   {
    "duration": 1468,
    "start_time": "2023-09-25T15:08:43.338Z"
   },
   {
    "duration": 3,
    "start_time": "2023-09-25T15:08:44.808Z"
   },
   {
    "duration": 16,
    "start_time": "2023-09-25T15:08:44.812Z"
   },
   {
    "duration": 6,
    "start_time": "2023-09-25T15:08:44.831Z"
   },
   {
    "duration": 954,
    "start_time": "2023-09-25T15:08:44.839Z"
   },
   {
    "duration": 32,
    "start_time": "2023-09-25T15:08:45.795Z"
   },
   {
    "duration": 4,
    "start_time": "2023-09-25T15:08:45.829Z"
   },
   {
    "duration": 55,
    "start_time": "2023-09-25T15:08:45.835Z"
   },
   {
    "duration": 12,
    "start_time": "2023-09-25T15:08:45.892Z"
   },
   {
    "duration": 8,
    "start_time": "2023-09-25T15:08:45.906Z"
   },
   {
    "duration": 18,
    "start_time": "2023-09-25T15:08:45.916Z"
   },
   {
    "duration": 450,
    "start_time": "2023-09-25T15:08:45.935Z"
   },
   {
    "duration": 5,
    "start_time": "2023-09-25T15:08:46.387Z"
   },
   {
    "duration": 689,
    "start_time": "2023-09-25T15:08:46.394Z"
   },
   {
    "duration": 4,
    "start_time": "2023-09-25T15:08:47.085Z"
   },
   {
    "duration": 391,
    "start_time": "2023-09-25T15:08:47.090Z"
   },
   {
    "duration": 9,
    "start_time": "2023-09-25T15:08:47.483Z"
   },
   {
    "duration": 19,
    "start_time": "2023-09-25T15:08:47.494Z"
   },
   {
    "duration": 24,
    "start_time": "2023-09-25T15:08:47.582Z"
   },
   {
    "duration": 41,
    "start_time": "2023-09-25T15:08:47.607Z"
   },
   {
    "duration": 21,
    "start_time": "2023-09-25T15:08:47.650Z"
   },
   {
    "duration": 30,
    "start_time": "2023-09-25T15:08:47.674Z"
   },
   {
    "duration": 81,
    "start_time": "2023-09-25T15:08:47.707Z"
   },
   {
    "duration": 94,
    "start_time": "2023-09-25T15:08:47.790Z"
   },
   {
    "duration": 11,
    "start_time": "2023-09-25T15:08:47.886Z"
   },
   {
    "duration": 12,
    "start_time": "2023-09-25T15:08:47.898Z"
   },
   {
    "duration": 7,
    "start_time": "2023-09-25T15:08:47.912Z"
   },
   {
    "duration": 28,
    "start_time": "2023-09-25T15:08:47.920Z"
   },
   {
    "duration": 31,
    "start_time": "2023-09-25T15:08:47.949Z"
   },
   {
    "duration": 15,
    "start_time": "2023-09-25T15:08:47.982Z"
   },
   {
    "duration": 13,
    "start_time": "2023-09-25T15:08:47.999Z"
   },
   {
    "duration": 40,
    "start_time": "2023-09-25T15:08:48.013Z"
   },
   {
    "duration": 35,
    "start_time": "2023-09-25T15:08:48.055Z"
   },
   {
    "duration": 9,
    "start_time": "2023-09-25T15:08:48.092Z"
   },
   {
    "duration": 81,
    "start_time": "2023-09-25T15:08:48.102Z"
   },
   {
    "duration": 0,
    "start_time": "2023-09-25T15:08:48.184Z"
   },
   {
    "duration": 0,
    "start_time": "2023-09-25T15:08:48.186Z"
   },
   {
    "duration": 1471,
    "start_time": "2023-09-25T15:09:08.726Z"
   },
   {
    "duration": 425,
    "start_time": "2023-09-25T15:09:10.199Z"
   },
   {
    "duration": 4,
    "start_time": "2023-09-25T15:09:10.626Z"
   },
   {
    "duration": 398,
    "start_time": "2023-09-25T15:09:10.632Z"
   },
   {
    "duration": 5,
    "start_time": "2023-09-25T15:09:11.033Z"
   },
   {
    "duration": 1510,
    "start_time": "2023-09-25T15:09:11.040Z"
   },
   {
    "duration": 3,
    "start_time": "2023-09-25T15:09:12.552Z"
   },
   {
    "duration": 50,
    "start_time": "2023-09-25T15:09:12.557Z"
   },
   {
    "duration": 45,
    "start_time": "2023-09-25T15:09:12.608Z"
   },
   {
    "duration": 953,
    "start_time": "2023-09-25T15:09:12.655Z"
   },
   {
    "duration": 29,
    "start_time": "2023-09-25T15:09:13.610Z"
   },
   {
    "duration": 13,
    "start_time": "2023-09-25T15:09:13.641Z"
   },
   {
    "duration": 54,
    "start_time": "2023-09-25T15:09:13.656Z"
   },
   {
    "duration": 22,
    "start_time": "2023-09-25T15:09:13.712Z"
   },
   {
    "duration": 29,
    "start_time": "2023-09-25T15:09:13.736Z"
   },
   {
    "duration": 40,
    "start_time": "2023-09-25T15:09:13.767Z"
   },
   {
    "duration": 378,
    "start_time": "2023-09-25T15:09:13.809Z"
   },
   {
    "duration": 93,
    "start_time": "2023-09-25T15:09:14.189Z"
   },
   {
    "duration": 697,
    "start_time": "2023-09-25T15:09:14.284Z"
   },
   {
    "duration": 4,
    "start_time": "2023-09-25T15:09:14.983Z"
   },
   {
    "duration": 303,
    "start_time": "2023-09-25T15:09:14.989Z"
   },
   {
    "duration": 99,
    "start_time": "2023-09-25T15:09:15.383Z"
   },
   {
    "duration": 24,
    "start_time": "2023-09-25T15:09:15.484Z"
   },
   {
    "duration": 40,
    "start_time": "2023-09-25T15:09:15.509Z"
   },
   {
    "duration": 28,
    "start_time": "2023-09-25T15:09:15.551Z"
   },
   {
    "duration": 9,
    "start_time": "2023-09-25T15:09:15.581Z"
   },
   {
    "duration": 22,
    "start_time": "2023-09-25T15:09:15.591Z"
   },
   {
    "duration": 5,
    "start_time": "2023-09-25T15:09:15.685Z"
   },
   {
    "duration": 3,
    "start_time": "2023-09-25T15:09:15.782Z"
   },
   {
    "duration": 9,
    "start_time": "2023-09-25T15:09:15.786Z"
   },
   {
    "duration": 7,
    "start_time": "2023-09-25T15:09:15.797Z"
   },
   {
    "duration": 7,
    "start_time": "2023-09-25T15:09:15.806Z"
   },
   {
    "duration": 34,
    "start_time": "2023-09-25T15:09:15.814Z"
   },
   {
    "duration": 32,
    "start_time": "2023-09-25T15:09:15.850Z"
   },
   {
    "duration": 17,
    "start_time": "2023-09-25T15:09:15.884Z"
   },
   {
    "duration": 10,
    "start_time": "2023-09-25T15:09:15.902Z"
   },
   {
    "duration": 17,
    "start_time": "2023-09-25T15:09:15.914Z"
   },
   {
    "duration": 52,
    "start_time": "2023-09-25T15:09:15.933Z"
   },
   {
    "duration": 3,
    "start_time": "2023-09-25T15:09:15.987Z"
   },
   {
    "duration": 29,
    "start_time": "2023-09-25T15:09:15.992Z"
   },
   {
    "duration": 1780,
    "start_time": "2023-09-25T15:09:16.023Z"
   },
   {
    "duration": 0,
    "start_time": "2023-09-25T15:09:17.805Z"
   },
   {
    "duration": 1467,
    "start_time": "2023-09-25T15:14:57.441Z"
   },
   {
    "duration": 448,
    "start_time": "2023-09-25T15:14:58.910Z"
   },
   {
    "duration": 4,
    "start_time": "2023-09-25T15:14:59.359Z"
   },
   {
    "duration": 382,
    "start_time": "2023-09-25T15:14:59.365Z"
   },
   {
    "duration": 5,
    "start_time": "2023-09-25T15:14:59.749Z"
   },
   {
    "duration": 1576,
    "start_time": "2023-09-25T15:14:59.755Z"
   },
   {
    "duration": 2,
    "start_time": "2023-09-25T15:15:01.333Z"
   },
   {
    "duration": 112,
    "start_time": "2023-09-25T15:15:01.336Z"
   },
   {
    "duration": 62,
    "start_time": "2023-09-25T15:15:01.450Z"
   },
   {
    "duration": 1006,
    "start_time": "2023-09-25T15:15:01.514Z"
   },
   {
    "duration": 42,
    "start_time": "2023-09-25T15:15:02.521Z"
   },
   {
    "duration": 289,
    "start_time": "2023-09-25T15:15:02.566Z"
   },
   {
    "duration": 212,
    "start_time": "2023-09-25T15:15:02.857Z"
   },
   {
    "duration": 69,
    "start_time": "2023-09-25T15:15:03.072Z"
   },
   {
    "duration": 23,
    "start_time": "2023-09-25T15:15:03.143Z"
   },
   {
    "duration": 47,
    "start_time": "2023-09-25T15:15:03.169Z"
   },
   {
    "duration": 468,
    "start_time": "2023-09-25T15:15:03.218Z"
   },
   {
    "duration": 95,
    "start_time": "2023-09-25T15:15:03.688Z"
   },
   {
    "duration": 698,
    "start_time": "2023-09-25T15:15:03.784Z"
   },
   {
    "duration": 6,
    "start_time": "2023-09-25T15:15:04.484Z"
   },
   {
    "duration": 310,
    "start_time": "2023-09-25T15:15:04.581Z"
   },
   {
    "duration": 14,
    "start_time": "2023-09-25T15:15:04.981Z"
   },
   {
    "duration": 16,
    "start_time": "2023-09-25T15:15:05.082Z"
   },
   {
    "duration": 38,
    "start_time": "2023-09-25T15:15:05.101Z"
   },
   {
    "duration": 67,
    "start_time": "2023-09-25T15:15:05.141Z"
   },
   {
    "duration": 17,
    "start_time": "2023-09-25T15:15:05.210Z"
   },
   {
    "duration": 59,
    "start_time": "2023-09-25T15:15:05.229Z"
   },
   {
    "duration": 93,
    "start_time": "2023-09-25T15:15:05.290Z"
   },
   {
    "duration": 97,
    "start_time": "2023-09-25T15:15:05.385Z"
   },
   {
    "duration": 40,
    "start_time": "2023-09-25T15:15:05.484Z"
   },
   {
    "duration": 30,
    "start_time": "2023-09-25T15:15:05.526Z"
   },
   {
    "duration": 89,
    "start_time": "2023-09-25T15:15:05.557Z"
   },
   {
    "duration": 69,
    "start_time": "2023-09-25T15:15:05.648Z"
   },
   {
    "duration": 24,
    "start_time": "2023-09-25T15:15:05.719Z"
   },
   {
    "duration": 23,
    "start_time": "2023-09-25T15:15:05.745Z"
   },
   {
    "duration": 14,
    "start_time": "2023-09-25T15:15:05.770Z"
   },
   {
    "duration": 30,
    "start_time": "2023-09-25T15:15:05.786Z"
   },
   {
    "duration": 36,
    "start_time": "2023-09-25T15:15:05.818Z"
   },
   {
    "duration": 4,
    "start_time": "2023-09-25T15:15:05.855Z"
   },
   {
    "duration": 31,
    "start_time": "2023-09-25T15:15:05.860Z"
   },
   {
    "duration": 5448,
    "start_time": "2023-09-25T15:15:05.895Z"
   },
   {
    "duration": 8,
    "start_time": "2023-09-25T15:15:11.345Z"
   },
   {
    "duration": 1466,
    "start_time": "2023-09-25T15:16:09.012Z"
   },
   {
    "duration": 420,
    "start_time": "2023-09-25T15:16:10.480Z"
   },
   {
    "duration": 4,
    "start_time": "2023-09-25T15:16:10.902Z"
   },
   {
    "duration": 438,
    "start_time": "2023-09-25T15:16:10.907Z"
   },
   {
    "duration": 4,
    "start_time": "2023-09-25T15:16:11.347Z"
   },
   {
    "duration": 1412,
    "start_time": "2023-09-25T15:16:11.353Z"
   },
   {
    "duration": 3,
    "start_time": "2023-09-25T15:16:12.767Z"
   },
   {
    "duration": 14,
    "start_time": "2023-09-25T15:16:12.780Z"
   },
   {
    "duration": 28,
    "start_time": "2023-09-25T15:16:12.795Z"
   },
   {
    "duration": 967,
    "start_time": "2023-09-25T15:16:12.825Z"
   },
   {
    "duration": 29,
    "start_time": "2023-09-25T15:16:13.794Z"
   },
   {
    "duration": 4,
    "start_time": "2023-09-25T15:16:13.825Z"
   },
   {
    "duration": 50,
    "start_time": "2023-09-25T15:16:13.831Z"
   },
   {
    "duration": 11,
    "start_time": "2023-09-25T15:16:13.884Z"
   },
   {
    "duration": 15,
    "start_time": "2023-09-25T15:16:13.896Z"
   },
   {
    "duration": 23,
    "start_time": "2023-09-25T15:16:13.913Z"
   },
   {
    "duration": 444,
    "start_time": "2023-09-25T15:16:13.938Z"
   },
   {
    "duration": 96,
    "start_time": "2023-09-25T15:16:14.385Z"
   },
   {
    "duration": 699,
    "start_time": "2023-09-25T15:16:14.483Z"
   },
   {
    "duration": 4,
    "start_time": "2023-09-25T15:16:15.184Z"
   },
   {
    "duration": 394,
    "start_time": "2023-09-25T15:16:15.190Z"
   },
   {
    "duration": 100,
    "start_time": "2023-09-25T15:16:15.587Z"
   },
   {
    "duration": 8,
    "start_time": "2023-09-25T15:16:15.689Z"
   },
   {
    "duration": 10,
    "start_time": "2023-09-25T15:16:15.699Z"
   },
   {
    "duration": 31,
    "start_time": "2023-09-25T15:16:15.711Z"
   },
   {
    "duration": 8,
    "start_time": "2023-09-25T15:16:15.743Z"
   },
   {
    "duration": 19,
    "start_time": "2023-09-25T15:16:15.781Z"
   },
   {
    "duration": 84,
    "start_time": "2023-09-25T15:16:15.802Z"
   },
   {
    "duration": 101,
    "start_time": "2023-09-25T15:16:15.889Z"
   },
   {
    "duration": 26,
    "start_time": "2023-09-25T15:16:15.992Z"
   },
   {
    "duration": 9,
    "start_time": "2023-09-25T15:16:16.020Z"
   },
   {
    "duration": 15,
    "start_time": "2023-09-25T15:16:16.031Z"
   },
   {
    "duration": 25,
    "start_time": "2023-09-25T15:16:16.047Z"
   },
   {
    "duration": 17,
    "start_time": "2023-09-25T15:16:16.073Z"
   },
   {
    "duration": 17,
    "start_time": "2023-09-25T15:16:16.092Z"
   },
   {
    "duration": 9,
    "start_time": "2023-09-25T15:16:16.110Z"
   },
   {
    "duration": 11,
    "start_time": "2023-09-25T15:16:16.121Z"
   },
   {
    "duration": 53,
    "start_time": "2023-09-25T15:16:16.134Z"
   },
   {
    "duration": 3,
    "start_time": "2023-09-25T15:16:16.189Z"
   },
   {
    "duration": 27,
    "start_time": "2023-09-25T15:16:16.194Z"
   },
   {
    "duration": 5382,
    "start_time": "2023-09-25T15:16:16.225Z"
   },
   {
    "duration": 8,
    "start_time": "2023-09-25T15:16:21.609Z"
   },
   {
    "duration": 1687,
    "start_time": "2023-09-25T15:20:11.545Z"
   },
   {
    "duration": 445,
    "start_time": "2023-09-25T15:20:13.234Z"
   },
   {
    "duration": 4,
    "start_time": "2023-09-25T15:20:13.681Z"
   },
   {
    "duration": 442,
    "start_time": "2023-09-25T15:20:13.688Z"
   },
   {
    "duration": 4,
    "start_time": "2023-09-25T15:20:14.132Z"
   },
   {
    "duration": 1528,
    "start_time": "2023-09-25T15:20:14.138Z"
   },
   {
    "duration": 3,
    "start_time": "2023-09-25T15:20:15.668Z"
   },
   {
    "duration": 40,
    "start_time": "2023-09-25T15:20:15.674Z"
   },
   {
    "duration": 17,
    "start_time": "2023-09-25T15:20:15.716Z"
   },
   {
    "duration": 1133,
    "start_time": "2023-09-25T15:20:15.736Z"
   },
   {
    "duration": 45,
    "start_time": "2023-09-25T15:20:16.871Z"
   },
   {
    "duration": 4,
    "start_time": "2023-09-25T15:20:16.918Z"
   },
   {
    "duration": 77,
    "start_time": "2023-09-25T15:20:16.924Z"
   },
   {
    "duration": 15,
    "start_time": "2023-09-25T15:20:17.003Z"
   },
   {
    "duration": 6,
    "start_time": "2023-09-25T15:20:17.020Z"
   },
   {
    "duration": 28,
    "start_time": "2023-09-25T15:20:17.028Z"
   },
   {
    "duration": 529,
    "start_time": "2023-09-25T15:20:17.058Z"
   },
   {
    "duration": 6,
    "start_time": "2023-09-25T15:20:17.590Z"
   },
   {
    "duration": 785,
    "start_time": "2023-09-25T15:20:17.598Z"
   },
   {
    "duration": 6,
    "start_time": "2023-09-25T15:20:18.385Z"
   },
   {
    "duration": 410,
    "start_time": "2023-09-25T15:20:18.482Z"
   },
   {
    "duration": 98,
    "start_time": "2023-09-25T15:20:18.894Z"
   },
   {
    "duration": 90,
    "start_time": "2023-09-25T15:20:18.994Z"
   },
   {
    "duration": 14,
    "start_time": "2023-09-25T15:20:19.086Z"
   },
   {
    "duration": 52,
    "start_time": "2023-09-25T15:20:19.102Z"
   },
   {
    "duration": 9,
    "start_time": "2023-09-25T15:20:19.156Z"
   },
   {
    "duration": 24,
    "start_time": "2023-09-25T15:20:19.182Z"
   },
   {
    "duration": 8,
    "start_time": "2023-09-25T15:20:19.292Z"
   },
   {
    "duration": 83,
    "start_time": "2023-09-25T15:20:19.302Z"
   },
   {
    "duration": 10,
    "start_time": "2023-09-25T15:20:19.386Z"
   },
   {
    "duration": 11,
    "start_time": "2023-09-25T15:20:19.398Z"
   },
   {
    "duration": 6,
    "start_time": "2023-09-25T15:20:19.410Z"
   },
   {
    "duration": 29,
    "start_time": "2023-09-25T15:20:19.418Z"
   },
   {
    "duration": 42,
    "start_time": "2023-09-25T15:20:19.449Z"
   },
   {
    "duration": 17,
    "start_time": "2023-09-25T15:20:19.493Z"
   },
   {
    "duration": 128,
    "start_time": "2023-09-25T15:20:19.511Z"
   },
   {
    "duration": 43,
    "start_time": "2023-09-25T15:20:19.640Z"
   },
   {
    "duration": 83,
    "start_time": "2023-09-25T15:20:19.685Z"
   },
   {
    "duration": 128,
    "start_time": "2023-09-25T15:20:19.770Z"
   },
   {
    "duration": 29,
    "start_time": "2023-09-25T15:20:19.900Z"
   },
   {
    "duration": 5268,
    "start_time": "2023-09-25T15:20:19.930Z"
   },
   {
    "duration": 10,
    "start_time": "2023-09-25T15:20:25.200Z"
   },
   {
    "duration": 1588,
    "start_time": "2023-09-25T15:22:15.152Z"
   },
   {
    "duration": 448,
    "start_time": "2023-09-25T15:22:16.742Z"
   },
   {
    "duration": 5,
    "start_time": "2023-09-25T15:22:17.192Z"
   },
   {
    "duration": 416,
    "start_time": "2023-09-25T15:22:17.199Z"
   },
   {
    "duration": 5,
    "start_time": "2023-09-25T15:22:17.617Z"
   },
   {
    "duration": 1476,
    "start_time": "2023-09-25T15:22:17.623Z"
   },
   {
    "duration": 3,
    "start_time": "2023-09-25T15:22:19.100Z"
   },
   {
    "duration": 30,
    "start_time": "2023-09-25T15:22:19.105Z"
   },
   {
    "duration": 12,
    "start_time": "2023-09-25T15:22:19.137Z"
   },
   {
    "duration": 941,
    "start_time": "2023-09-25T15:22:19.150Z"
   },
   {
    "duration": 29,
    "start_time": "2023-09-25T15:22:20.093Z"
   },
   {
    "duration": 3,
    "start_time": "2023-09-25T15:22:20.124Z"
   },
   {
    "duration": 67,
    "start_time": "2023-09-25T15:22:20.129Z"
   },
   {
    "duration": 11,
    "start_time": "2023-09-25T15:22:20.199Z"
   },
   {
    "duration": 7,
    "start_time": "2023-09-25T15:22:20.212Z"
   },
   {
    "duration": 47,
    "start_time": "2023-09-25T15:22:20.221Z"
   },
   {
    "duration": 415,
    "start_time": "2023-09-25T15:22:20.269Z"
   },
   {
    "duration": 96,
    "start_time": "2023-09-25T15:22:20.686Z"
   },
   {
    "duration": 705,
    "start_time": "2023-09-25T15:22:20.783Z"
   },
   {
    "duration": 92,
    "start_time": "2023-09-25T15:22:21.490Z"
   },
   {
    "duration": 397,
    "start_time": "2023-09-25T15:22:21.584Z"
   },
   {
    "duration": 98,
    "start_time": "2023-09-25T15:22:21.984Z"
   },
   {
    "duration": 43,
    "start_time": "2023-09-25T15:22:22.084Z"
   },
   {
    "duration": 66,
    "start_time": "2023-09-25T15:22:22.129Z"
   },
   {
    "duration": 77,
    "start_time": "2023-09-25T15:22:22.197Z"
   },
   {
    "duration": 21,
    "start_time": "2023-09-25T15:22:22.276Z"
   },
   {
    "duration": 36,
    "start_time": "2023-09-25T15:22:22.299Z"
   },
   {
    "duration": 53,
    "start_time": "2023-09-25T15:22:22.338Z"
   },
   {
    "duration": 24,
    "start_time": "2023-09-25T15:22:22.482Z"
   },
   {
    "duration": 20,
    "start_time": "2023-09-25T15:22:22.507Z"
   },
   {
    "duration": 24,
    "start_time": "2023-09-25T15:22:22.529Z"
   },
   {
    "duration": 25,
    "start_time": "2023-09-25T15:22:22.555Z"
   },
   {
    "duration": 50,
    "start_time": "2023-09-25T15:22:22.582Z"
   },
   {
    "duration": 24,
    "start_time": "2023-09-25T15:22:22.634Z"
   },
   {
    "duration": 18,
    "start_time": "2023-09-25T15:22:22.661Z"
   },
   {
    "duration": 10,
    "start_time": "2023-09-25T15:22:22.680Z"
   },
   {
    "duration": 13,
    "start_time": "2023-09-25T15:22:22.692Z"
   },
   {
    "duration": 47,
    "start_time": "2023-09-25T15:22:22.707Z"
   },
   {
    "duration": 3,
    "start_time": "2023-09-25T15:22:22.756Z"
   },
   {
    "duration": 25,
    "start_time": "2023-09-25T15:22:22.761Z"
   },
   {
    "duration": 5429,
    "start_time": "2023-09-25T15:22:22.789Z"
   },
   {
    "duration": 8,
    "start_time": "2023-09-25T15:22:28.220Z"
   },
   {
    "duration": 1520,
    "start_time": "2023-09-25T15:24:47.816Z"
   },
   {
    "duration": 437,
    "start_time": "2023-09-25T15:24:49.338Z"
   },
   {
    "duration": 5,
    "start_time": "2023-09-25T15:24:49.779Z"
   },
   {
    "duration": 411,
    "start_time": "2023-09-25T15:24:49.787Z"
   },
   {
    "duration": 5,
    "start_time": "2023-09-25T15:24:50.199Z"
   },
   {
    "duration": 1805,
    "start_time": "2023-09-25T15:24:50.205Z"
   },
   {
    "duration": 3,
    "start_time": "2023-09-25T15:24:52.012Z"
   },
   {
    "duration": 64,
    "start_time": "2023-09-25T15:24:52.017Z"
   },
   {
    "duration": 36,
    "start_time": "2023-09-25T15:24:52.083Z"
   },
   {
    "duration": 1023,
    "start_time": "2023-09-25T15:24:52.120Z"
   },
   {
    "duration": 40,
    "start_time": "2023-09-25T15:24:53.145Z"
   },
   {
    "duration": 42,
    "start_time": "2023-09-25T15:24:53.187Z"
   },
   {
    "duration": 66,
    "start_time": "2023-09-25T15:24:53.233Z"
   },
   {
    "duration": 47,
    "start_time": "2023-09-25T15:24:53.302Z"
   },
   {
    "duration": 14,
    "start_time": "2023-09-25T15:24:53.351Z"
   },
   {
    "duration": 51,
    "start_time": "2023-09-25T15:24:53.367Z"
   },
   {
    "duration": 462,
    "start_time": "2023-09-25T15:24:53.419Z"
   },
   {
    "duration": 5,
    "start_time": "2023-09-25T15:24:53.883Z"
   },
   {
    "duration": 797,
    "start_time": "2023-09-25T15:24:53.889Z"
   },
   {
    "duration": 5,
    "start_time": "2023-09-25T15:24:54.689Z"
   },
   {
    "duration": 292,
    "start_time": "2023-09-25T15:24:54.695Z"
   },
   {
    "duration": 100,
    "start_time": "2023-09-25T15:24:54.989Z"
   },
   {
    "duration": 44,
    "start_time": "2023-09-25T15:24:55.091Z"
   },
   {
    "duration": 31,
    "start_time": "2023-09-25T15:24:55.137Z"
   },
   {
    "duration": 33,
    "start_time": "2023-09-25T15:24:55.171Z"
   },
   {
    "duration": 9,
    "start_time": "2023-09-25T15:24:55.206Z"
   },
   {
    "duration": 68,
    "start_time": "2023-09-25T15:24:55.217Z"
   },
   {
    "duration": 4,
    "start_time": "2023-09-25T15:24:55.288Z"
   },
   {
    "duration": 9,
    "start_time": "2023-09-25T15:24:55.382Z"
   },
   {
    "duration": 8,
    "start_time": "2023-09-25T15:24:55.480Z"
   },
   {
    "duration": 17,
    "start_time": "2023-09-25T15:24:55.490Z"
   },
   {
    "duration": 17,
    "start_time": "2023-09-25T15:24:55.508Z"
   },
   {
    "duration": 21,
    "start_time": "2023-09-25T15:24:55.527Z"
   },
   {
    "duration": 18,
    "start_time": "2023-09-25T15:24:55.550Z"
   },
   {
    "duration": 20,
    "start_time": "2023-09-25T15:24:55.581Z"
   },
   {
    "duration": 10,
    "start_time": "2023-09-25T15:24:55.603Z"
   },
   {
    "duration": 6,
    "start_time": "2023-09-25T15:24:55.615Z"
   },
   {
    "duration": 61,
    "start_time": "2023-09-25T15:24:55.623Z"
   },
   {
    "duration": 3,
    "start_time": "2023-09-25T15:24:55.686Z"
   },
   {
    "duration": 22,
    "start_time": "2023-09-25T15:24:55.692Z"
   },
   {
    "duration": 5630,
    "start_time": "2023-09-25T15:24:55.716Z"
   },
   {
    "duration": 7,
    "start_time": "2023-09-25T15:25:01.348Z"
   },
   {
    "duration": 120,
    "start_time": "2023-09-25T15:25:19.351Z"
   },
   {
    "duration": 10,
    "start_time": "2023-09-25T15:25:38.819Z"
   },
   {
    "duration": 5693,
    "start_time": "2023-09-25T15:25:41.292Z"
   },
   {
    "duration": 9,
    "start_time": "2023-09-25T15:26:02.056Z"
   },
   {
    "duration": 8,
    "start_time": "2023-09-25T15:26:33.790Z"
   },
   {
    "duration": 5729,
    "start_time": "2023-09-25T15:26:35.927Z"
   },
   {
    "duration": 8,
    "start_time": "2023-09-25T15:26:44.006Z"
   },
   {
    "duration": 7,
    "start_time": "2023-09-25T15:26:56.814Z"
   },
   {
    "duration": 5329,
    "start_time": "2023-09-25T15:26:58.729Z"
   },
   {
    "duration": 8,
    "start_time": "2023-09-25T15:27:09.450Z"
   },
   {
    "duration": 8,
    "start_time": "2023-09-25T15:32:17.259Z"
   },
   {
    "duration": 5158,
    "start_time": "2023-09-25T15:32:19.395Z"
   },
   {
    "duration": 7,
    "start_time": "2023-09-25T15:33:49.307Z"
   },
   {
    "duration": 1445,
    "start_time": "2023-09-25T15:34:04.869Z"
   },
   {
    "duration": 449,
    "start_time": "2023-09-25T15:34:06.316Z"
   },
   {
    "duration": 4,
    "start_time": "2023-09-25T15:34:06.767Z"
   },
   {
    "duration": 392,
    "start_time": "2023-09-25T15:34:06.774Z"
   },
   {
    "duration": 14,
    "start_time": "2023-09-25T15:34:07.168Z"
   },
   {
    "duration": 1423,
    "start_time": "2023-09-25T15:34:07.183Z"
   },
   {
    "duration": 3,
    "start_time": "2023-09-25T15:34:08.608Z"
   },
   {
    "duration": 41,
    "start_time": "2023-09-25T15:34:08.613Z"
   },
   {
    "duration": 29,
    "start_time": "2023-09-25T15:34:08.656Z"
   },
   {
    "duration": 1002,
    "start_time": "2023-09-25T15:34:08.689Z"
   },
   {
    "duration": 28,
    "start_time": "2023-09-25T15:34:09.693Z"
   },
   {
    "duration": 202,
    "start_time": "2023-09-25T15:34:09.723Z"
   },
   {
    "duration": 74,
    "start_time": "2023-09-25T15:34:09.927Z"
   },
   {
    "duration": 79,
    "start_time": "2023-09-25T15:34:10.002Z"
   },
   {
    "duration": 37,
    "start_time": "2023-09-25T15:34:10.084Z"
   },
   {
    "duration": 28,
    "start_time": "2023-09-25T15:34:10.123Z"
   },
   {
    "duration": 529,
    "start_time": "2023-09-25T15:34:10.153Z"
   },
   {
    "duration": 5,
    "start_time": "2023-09-25T15:34:10.684Z"
   },
   {
    "duration": 792,
    "start_time": "2023-09-25T15:34:10.690Z"
   },
   {
    "duration": 4,
    "start_time": "2023-09-25T15:34:11.484Z"
   },
   {
    "duration": 393,
    "start_time": "2023-09-25T15:34:11.490Z"
   },
   {
    "duration": 100,
    "start_time": "2023-09-25T15:34:11.886Z"
   },
   {
    "duration": 8,
    "start_time": "2023-09-25T15:34:11.988Z"
   },
   {
    "duration": 14,
    "start_time": "2023-09-25T15:34:11.998Z"
   },
   {
    "duration": 23,
    "start_time": "2023-09-25T15:34:12.014Z"
   },
   {
    "duration": 11,
    "start_time": "2023-09-25T15:34:12.039Z"
   },
   {
    "duration": 99,
    "start_time": "2023-09-25T15:34:12.082Z"
   },
   {
    "duration": 94,
    "start_time": "2023-09-25T15:34:12.187Z"
   },
   {
    "duration": 3,
    "start_time": "2023-09-25T15:34:12.282Z"
   },
   {
    "duration": 7,
    "start_time": "2023-09-25T15:34:12.287Z"
   },
   {
    "duration": 6,
    "start_time": "2023-09-25T15:34:12.295Z"
   },
   {
    "duration": 16,
    "start_time": "2023-09-25T15:34:12.302Z"
   },
   {
    "duration": 25,
    "start_time": "2023-09-25T15:34:12.319Z"
   },
   {
    "duration": 16,
    "start_time": "2023-09-25T15:34:12.345Z"
   },
   {
    "duration": 17,
    "start_time": "2023-09-25T15:34:12.380Z"
   },
   {
    "duration": 12,
    "start_time": "2023-09-25T15:34:12.399Z"
   },
   {
    "duration": 11,
    "start_time": "2023-09-25T15:34:12.412Z"
   },
   {
    "duration": 38,
    "start_time": "2023-09-25T15:34:12.425Z"
   },
   {
    "duration": 16,
    "start_time": "2023-09-25T15:34:12.465Z"
   },
   {
    "duration": 11,
    "start_time": "2023-09-25T15:34:12.482Z"
   },
   {
    "duration": 5348,
    "start_time": "2023-09-25T15:34:12.495Z"
   },
   {
    "duration": 9,
    "start_time": "2023-09-25T15:34:17.845Z"
   },
   {
    "duration": 8,
    "start_time": "2023-09-25T15:34:42.750Z"
   },
   {
    "duration": 5317,
    "start_time": "2023-09-25T15:34:44.763Z"
   },
   {
    "duration": 1535,
    "start_time": "2023-09-25T15:39:00.156Z"
   },
   {
    "duration": 415,
    "start_time": "2023-09-25T15:39:01.693Z"
   },
   {
    "duration": 4,
    "start_time": "2023-09-25T15:39:02.110Z"
   },
   {
    "duration": 445,
    "start_time": "2023-09-25T15:39:02.116Z"
   },
   {
    "duration": 4,
    "start_time": "2023-09-25T15:39:02.563Z"
   },
   {
    "duration": 1539,
    "start_time": "2023-09-25T15:39:02.580Z"
   },
   {
    "duration": 3,
    "start_time": "2023-09-25T15:39:04.121Z"
   },
   {
    "duration": 24,
    "start_time": "2023-09-25T15:39:04.125Z"
   },
   {
    "duration": 17,
    "start_time": "2023-09-25T15:39:04.151Z"
   },
   {
    "duration": 929,
    "start_time": "2023-09-25T15:39:04.180Z"
   },
   {
    "duration": 30,
    "start_time": "2023-09-25T15:39:05.111Z"
   },
   {
    "duration": 5,
    "start_time": "2023-09-25T15:39:05.142Z"
   },
   {
    "duration": 76,
    "start_time": "2023-09-25T15:39:05.148Z"
   },
   {
    "duration": 42,
    "start_time": "2023-09-25T15:39:05.225Z"
   },
   {
    "duration": 20,
    "start_time": "2023-09-25T15:39:05.268Z"
   },
   {
    "duration": 14,
    "start_time": "2023-09-25T15:39:05.289Z"
   },
   {
    "duration": 377,
    "start_time": "2023-09-25T15:39:05.305Z"
   },
   {
    "duration": 7,
    "start_time": "2023-09-25T15:39:05.685Z"
   },
   {
    "duration": 701,
    "start_time": "2023-09-25T15:39:05.782Z"
   },
   {
    "duration": 96,
    "start_time": "2023-09-25T15:39:06.486Z"
   },
   {
    "duration": 304,
    "start_time": "2023-09-25T15:39:06.584Z"
   },
   {
    "duration": 96,
    "start_time": "2023-09-25T15:39:06.890Z"
   },
   {
    "duration": 99,
    "start_time": "2023-09-25T15:39:06.988Z"
   },
   {
    "duration": 38,
    "start_time": "2023-09-25T15:39:07.089Z"
   },
   {
    "duration": 39,
    "start_time": "2023-09-25T15:39:07.129Z"
   },
   {
    "duration": 16,
    "start_time": "2023-09-25T15:39:07.170Z"
   },
   {
    "duration": 52,
    "start_time": "2023-09-25T15:39:07.188Z"
   },
   {
    "duration": 33,
    "start_time": "2023-09-25T15:39:07.250Z"
   },
   {
    "duration": 98,
    "start_time": "2023-09-25T15:39:07.291Z"
   },
   {
    "duration": 22,
    "start_time": "2023-09-25T15:39:07.391Z"
   },
   {
    "duration": 19,
    "start_time": "2023-09-25T15:39:07.415Z"
   },
   {
    "duration": 48,
    "start_time": "2023-09-25T15:39:07.436Z"
   },
   {
    "duration": 30,
    "start_time": "2023-09-25T15:39:07.486Z"
   },
   {
    "duration": 19,
    "start_time": "2023-09-25T15:39:07.518Z"
   },
   {
    "duration": 42,
    "start_time": "2023-09-25T15:39:07.540Z"
   },
   {
    "duration": 9,
    "start_time": "2023-09-25T15:39:07.584Z"
   },
   {
    "duration": 14,
    "start_time": "2023-09-25T15:39:07.595Z"
   },
   {
    "duration": 40,
    "start_time": "2023-09-25T15:39:07.610Z"
   },
   {
    "duration": 3,
    "start_time": "2023-09-25T15:39:07.652Z"
   },
   {
    "duration": 111,
    "start_time": "2023-09-25T15:39:07.656Z"
   },
   {
    "duration": 0,
    "start_time": "2023-09-25T15:39:07.769Z"
   },
   {
    "duration": 0,
    "start_time": "2023-09-25T15:39:07.770Z"
   },
   {
    "duration": 8,
    "start_time": "2023-09-25T15:39:16.213Z"
   },
   {
    "duration": 5261,
    "start_time": "2023-09-25T15:39:19.376Z"
   },
   {
    "duration": 8,
    "start_time": "2023-09-25T15:39:30.816Z"
   },
   {
    "duration": 1516,
    "start_time": "2023-09-25T15:42:22.725Z"
   },
   {
    "duration": 418,
    "start_time": "2023-09-25T15:42:24.243Z"
   },
   {
    "duration": 4,
    "start_time": "2023-09-25T15:42:24.663Z"
   },
   {
    "duration": 388,
    "start_time": "2023-09-25T15:42:24.669Z"
   },
   {
    "duration": 7,
    "start_time": "2023-09-25T15:42:25.059Z"
   },
   {
    "duration": 1469,
    "start_time": "2023-09-25T15:42:25.068Z"
   },
   {
    "duration": 3,
    "start_time": "2023-09-25T15:42:26.538Z"
   },
   {
    "duration": 15,
    "start_time": "2023-09-25T15:42:26.542Z"
   },
   {
    "duration": 7,
    "start_time": "2023-09-25T15:42:26.559Z"
   },
   {
    "duration": 1032,
    "start_time": "2023-09-25T15:42:26.568Z"
   },
   {
    "duration": 28,
    "start_time": "2023-09-25T15:42:27.602Z"
   },
   {
    "duration": 4,
    "start_time": "2023-09-25T15:42:27.632Z"
   },
   {
    "duration": 91,
    "start_time": "2023-09-25T15:42:27.637Z"
   },
   {
    "duration": 11,
    "start_time": "2023-09-25T15:42:27.730Z"
   },
   {
    "duration": 51,
    "start_time": "2023-09-25T15:42:27.743Z"
   },
   {
    "duration": 26,
    "start_time": "2023-09-25T15:42:27.797Z"
   },
   {
    "duration": 468,
    "start_time": "2023-09-25T15:42:27.825Z"
   },
   {
    "duration": 85,
    "start_time": "2023-09-25T15:42:28.296Z"
   },
   {
    "duration": 604,
    "start_time": "2023-09-25T15:42:28.384Z"
   },
   {
    "duration": 90,
    "start_time": "2023-09-25T15:42:28.991Z"
   },
   {
    "duration": 404,
    "start_time": "2023-09-25T15:42:29.083Z"
   },
   {
    "duration": 97,
    "start_time": "2023-09-25T15:42:29.490Z"
   },
   {
    "duration": 13,
    "start_time": "2023-09-25T15:42:29.589Z"
   },
   {
    "duration": 28,
    "start_time": "2023-09-25T15:42:29.603Z"
   },
   {
    "duration": 34,
    "start_time": "2023-09-25T15:42:29.633Z"
   },
   {
    "duration": 18,
    "start_time": "2023-09-25T15:42:29.669Z"
   },
   {
    "duration": 26,
    "start_time": "2023-09-25T15:42:29.689Z"
   },
   {
    "duration": 4,
    "start_time": "2023-09-25T15:42:29.782Z"
   },
   {
    "duration": 93,
    "start_time": "2023-09-25T15:42:29.789Z"
   },
   {
    "duration": 11,
    "start_time": "2023-09-25T15:42:29.884Z"
   },
   {
    "duration": 25,
    "start_time": "2023-09-25T15:42:29.896Z"
   },
   {
    "duration": 6,
    "start_time": "2023-09-25T15:42:29.923Z"
   },
   {
    "duration": 28,
    "start_time": "2023-09-25T15:42:29.930Z"
   },
   {
    "duration": 16,
    "start_time": "2023-09-25T15:42:29.959Z"
   },
   {
    "duration": 19,
    "start_time": "2023-09-25T15:42:29.981Z"
   },
   {
    "duration": 14,
    "start_time": "2023-09-25T15:42:30.002Z"
   },
   {
    "duration": 62,
    "start_time": "2023-09-25T15:42:30.017Z"
   },
   {
    "duration": 94,
    "start_time": "2023-09-25T15:42:30.081Z"
   },
   {
    "duration": 66,
    "start_time": "2023-09-25T15:42:30.177Z"
   },
   {
    "duration": 58,
    "start_time": "2023-09-25T15:42:30.245Z"
   },
   {
    "duration": 5430,
    "start_time": "2023-09-25T15:42:30.305Z"
   },
   {
    "duration": 8,
    "start_time": "2023-09-25T15:42:35.737Z"
   },
   {
    "duration": 2,
    "start_time": "2023-09-25T15:55:41.889Z"
   },
   {
    "duration": 1487,
    "start_time": "2023-09-25T16:13:18.855Z"
   },
   {
    "duration": 425,
    "start_time": "2023-09-25T16:13:20.344Z"
   },
   {
    "duration": 5,
    "start_time": "2023-09-25T16:13:20.771Z"
   },
   {
    "duration": 375,
    "start_time": "2023-09-25T16:13:20.778Z"
   },
   {
    "duration": 6,
    "start_time": "2023-09-25T16:13:21.156Z"
   },
   {
    "duration": 1531,
    "start_time": "2023-09-25T16:13:21.164Z"
   },
   {
    "duration": 3,
    "start_time": "2023-09-25T16:13:22.697Z"
   },
   {
    "duration": 19,
    "start_time": "2023-09-25T16:13:22.702Z"
   },
   {
    "duration": 8,
    "start_time": "2023-09-25T16:13:22.723Z"
   },
   {
    "duration": 1030,
    "start_time": "2023-09-25T16:13:22.734Z"
   },
   {
    "duration": 37,
    "start_time": "2023-09-25T16:13:23.766Z"
   },
   {
    "duration": 4,
    "start_time": "2023-09-25T16:13:23.805Z"
   },
   {
    "duration": 28,
    "start_time": "2023-09-25T16:13:23.811Z"
   },
   {
    "duration": 40,
    "start_time": "2023-09-25T16:13:23.841Z"
   },
   {
    "duration": 5,
    "start_time": "2023-09-25T16:13:23.883Z"
   },
   {
    "duration": 6,
    "start_time": "2023-09-25T16:13:23.890Z"
   },
   {
    "duration": 385,
    "start_time": "2023-09-25T16:13:23.898Z"
   },
   {
    "duration": 97,
    "start_time": "2023-09-25T16:13:24.285Z"
   },
   {
    "duration": 704,
    "start_time": "2023-09-25T16:13:24.384Z"
   },
   {
    "duration": 95,
    "start_time": "2023-09-25T16:13:25.090Z"
   },
   {
    "duration": 305,
    "start_time": "2023-09-25T16:13:25.187Z"
   },
   {
    "duration": 99,
    "start_time": "2023-09-25T16:13:25.583Z"
   },
   {
    "duration": 14,
    "start_time": "2023-09-25T16:13:25.684Z"
   },
   {
    "duration": 30,
    "start_time": "2023-09-25T16:13:25.700Z"
   },
   {
    "duration": 42,
    "start_time": "2023-09-25T16:13:25.732Z"
   },
   {
    "duration": 31,
    "start_time": "2023-09-25T16:13:25.776Z"
   },
   {
    "duration": 26,
    "start_time": "2023-09-25T16:13:25.809Z"
   },
   {
    "duration": 163,
    "start_time": "2023-09-25T16:13:25.839Z"
   },
   {
    "duration": 49,
    "start_time": "2023-09-25T16:13:26.004Z"
   },
   {
    "duration": 52,
    "start_time": "2023-09-25T16:13:26.055Z"
   },
   {
    "duration": 22,
    "start_time": "2023-09-25T16:13:26.109Z"
   },
   {
    "duration": 34,
    "start_time": "2023-09-25T16:13:26.132Z"
   },
   {
    "duration": 53,
    "start_time": "2023-09-25T16:13:26.168Z"
   },
   {
    "duration": 16,
    "start_time": "2023-09-25T16:13:26.223Z"
   },
   {
    "duration": 46,
    "start_time": "2023-09-25T16:13:26.240Z"
   },
   {
    "duration": 21,
    "start_time": "2023-09-25T16:13:26.288Z"
   },
   {
    "duration": 16,
    "start_time": "2023-09-25T16:13:26.311Z"
   },
   {
    "duration": 55,
    "start_time": "2023-09-25T16:13:26.329Z"
   },
   {
    "duration": 4,
    "start_time": "2023-09-25T16:13:26.386Z"
   },
   {
    "duration": 9,
    "start_time": "2023-09-25T16:13:26.391Z"
   },
   {
    "duration": 5427,
    "start_time": "2023-09-25T16:13:26.402Z"
   },
   {
    "duration": 8,
    "start_time": "2023-09-25T16:13:31.831Z"
   },
   {
    "duration": 7054,
    "start_time": "2023-09-25T17:12:16.650Z"
   },
   {
    "duration": 1133,
    "start_time": "2023-09-25T17:12:23.706Z"
   },
   {
    "duration": 7,
    "start_time": "2023-09-25T17:12:24.841Z"
   },
   {
    "duration": 529,
    "start_time": "2023-09-25T17:12:24.851Z"
   },
   {
    "duration": 5,
    "start_time": "2023-09-25T17:12:25.383Z"
   },
   {
    "duration": 1649,
    "start_time": "2023-09-25T17:12:25.390Z"
   },
   {
    "duration": 9,
    "start_time": "2023-09-25T17:12:27.044Z"
   },
   {
    "duration": 102,
    "start_time": "2023-09-25T17:12:27.054Z"
   },
   {
    "duration": 158,
    "start_time": "2023-09-25T17:12:27.158Z"
   },
   {
    "duration": 1155,
    "start_time": "2023-09-25T17:12:27.318Z"
   },
   {
    "duration": 27,
    "start_time": "2023-09-25T17:12:28.475Z"
   },
   {
    "duration": 104,
    "start_time": "2023-09-25T17:12:28.504Z"
   },
   {
    "duration": 136,
    "start_time": "2023-09-25T17:12:28.610Z"
   },
   {
    "duration": 14,
    "start_time": "2023-09-25T17:12:28.750Z"
   },
   {
    "duration": 69,
    "start_time": "2023-09-25T17:12:28.765Z"
   },
   {
    "duration": 37,
    "start_time": "2023-09-25T17:12:28.836Z"
   },
   {
    "duration": 372,
    "start_time": "2023-09-25T17:12:28.875Z"
   },
   {
    "duration": 77,
    "start_time": "2023-09-25T17:12:29.252Z"
   },
   {
    "duration": 1007,
    "start_time": "2023-09-25T17:12:29.337Z"
   },
   {
    "duration": 7,
    "start_time": "2023-09-25T17:12:30.349Z"
   },
   {
    "duration": 371,
    "start_time": "2023-09-25T17:12:30.358Z"
   },
   {
    "duration": 19,
    "start_time": "2023-09-25T17:12:30.731Z"
   },
   {
    "duration": 116,
    "start_time": "2023-09-25T17:12:30.752Z"
   },
   {
    "duration": 91,
    "start_time": "2023-09-25T17:12:30.870Z"
   },
   {
    "duration": 101,
    "start_time": "2023-09-25T17:12:30.963Z"
   },
   {
    "duration": 328,
    "start_time": "2023-09-25T17:12:31.066Z"
   },
   {
    "duration": 365,
    "start_time": "2023-09-25T17:12:31.396Z"
   },
   {
    "duration": 389,
    "start_time": "2023-09-25T17:12:31.763Z"
   },
   {
    "duration": 288,
    "start_time": "2023-09-25T17:12:32.154Z"
   },
   {
    "duration": 128,
    "start_time": "2023-09-25T17:12:32.444Z"
   },
   {
    "duration": 238,
    "start_time": "2023-09-25T17:12:32.574Z"
   },
   {
    "duration": 185,
    "start_time": "2023-09-25T17:12:32.813Z"
   },
   {
    "duration": 157,
    "start_time": "2023-09-25T17:12:33.000Z"
   },
   {
    "duration": 49,
    "start_time": "2023-09-25T17:12:33.158Z"
   },
   {
    "duration": 53,
    "start_time": "2023-09-25T17:12:33.209Z"
   },
   {
    "duration": 52,
    "start_time": "2023-09-25T17:12:33.263Z"
   },
   {
    "duration": 88,
    "start_time": "2023-09-25T17:12:33.317Z"
   },
   {
    "duration": 273,
    "start_time": "2023-09-25T17:12:33.406Z"
   },
   {
    "duration": 289,
    "start_time": "2023-09-25T17:12:33.681Z"
   },
   {
    "duration": 65,
    "start_time": "2023-09-25T17:12:33.972Z"
   },
   {
    "duration": 5,
    "start_time": "2023-09-25T17:13:20.450Z"
   },
   {
    "duration": 11,
    "start_time": "2023-09-25T17:13:24.249Z"
   },
   {
    "duration": 1901,
    "start_time": "2023-09-26T11:34:25.724Z"
   },
   {
    "duration": 2285,
    "start_time": "2023-09-26T11:34:27.628Z"
   },
   {
    "duration": 4,
    "start_time": "2023-09-26T11:34:29.915Z"
   },
   {
    "duration": 444,
    "start_time": "2023-09-26T11:34:29.921Z"
   },
   {
    "duration": 5,
    "start_time": "2023-09-26T11:34:30.367Z"
   },
   {
    "duration": 1628,
    "start_time": "2023-09-26T11:34:30.374Z"
   },
   {
    "duration": 272,
    "start_time": "2023-09-26T11:34:32.003Z"
   },
   {
    "duration": 0,
    "start_time": "2023-09-26T11:34:32.278Z"
   },
   {
    "duration": 0,
    "start_time": "2023-09-26T11:34:32.281Z"
   },
   {
    "duration": 0,
    "start_time": "2023-09-26T11:34:32.283Z"
   },
   {
    "duration": 0,
    "start_time": "2023-09-26T11:34:32.284Z"
   },
   {
    "duration": 0,
    "start_time": "2023-09-26T11:34:32.285Z"
   },
   {
    "duration": 0,
    "start_time": "2023-09-26T11:34:32.287Z"
   },
   {
    "duration": 0,
    "start_time": "2023-09-26T11:34:32.288Z"
   },
   {
    "duration": 0,
    "start_time": "2023-09-26T11:34:32.289Z"
   },
   {
    "duration": 0,
    "start_time": "2023-09-26T11:34:32.290Z"
   },
   {
    "duration": 0,
    "start_time": "2023-09-26T11:34:32.291Z"
   },
   {
    "duration": 0,
    "start_time": "2023-09-26T11:34:32.292Z"
   },
   {
    "duration": 0,
    "start_time": "2023-09-26T11:34:32.294Z"
   },
   {
    "duration": 0,
    "start_time": "2023-09-26T11:34:32.295Z"
   },
   {
    "duration": 0,
    "start_time": "2023-09-26T11:34:32.297Z"
   },
   {
    "duration": 0,
    "start_time": "2023-09-26T11:34:32.298Z"
   },
   {
    "duration": 0,
    "start_time": "2023-09-26T11:34:32.300Z"
   },
   {
    "duration": 0,
    "start_time": "2023-09-26T11:34:32.300Z"
   },
   {
    "duration": 0,
    "start_time": "2023-09-26T11:34:32.302Z"
   },
   {
    "duration": 0,
    "start_time": "2023-09-26T11:34:32.303Z"
   },
   {
    "duration": 0,
    "start_time": "2023-09-26T11:34:32.305Z"
   },
   {
    "duration": 0,
    "start_time": "2023-09-26T11:34:32.306Z"
   },
   {
    "duration": 0,
    "start_time": "2023-09-26T11:34:32.356Z"
   },
   {
    "duration": 0,
    "start_time": "2023-09-26T11:34:32.358Z"
   },
   {
    "duration": 0,
    "start_time": "2023-09-26T11:34:32.359Z"
   },
   {
    "duration": 0,
    "start_time": "2023-09-26T11:34:32.360Z"
   },
   {
    "duration": 0,
    "start_time": "2023-09-26T11:34:32.362Z"
   },
   {
    "duration": 0,
    "start_time": "2023-09-26T11:34:32.363Z"
   },
   {
    "duration": 0,
    "start_time": "2023-09-26T11:34:32.365Z"
   },
   {
    "duration": 0,
    "start_time": "2023-09-26T11:34:32.366Z"
   },
   {
    "duration": 0,
    "start_time": "2023-09-26T11:34:32.368Z"
   },
   {
    "duration": 0,
    "start_time": "2023-09-26T11:34:32.369Z"
   },
   {
    "duration": 0,
    "start_time": "2023-09-26T11:34:32.371Z"
   },
   {
    "duration": 0,
    "start_time": "2023-09-26T11:34:32.372Z"
   },
   {
    "duration": 0,
    "start_time": "2023-09-26T11:34:32.374Z"
   },
   {
    "duration": 0,
    "start_time": "2023-09-26T11:34:32.376Z"
   },
   {
    "duration": 0,
    "start_time": "2023-09-26T11:34:32.378Z"
   },
   {
    "duration": 9065,
    "start_time": "2023-09-26T11:34:55.181Z"
   },
   {
    "duration": 12957,
    "start_time": "2023-09-26T11:35:06.854Z"
   },
   {
    "duration": 402,
    "start_time": "2023-09-26T11:37:07.849Z"
   },
   {
    "duration": 294,
    "start_time": "2023-09-26T11:37:46.289Z"
   },
   {
    "duration": 318,
    "start_time": "2023-09-26T11:38:11.899Z"
   },
   {
    "duration": 286,
    "start_time": "2023-09-26T11:38:40.476Z"
   },
   {
    "duration": 1611,
    "start_time": "2023-09-26T11:40:01.768Z"
   },
   {
    "duration": 460,
    "start_time": "2023-09-26T11:40:03.381Z"
   },
   {
    "duration": 4,
    "start_time": "2023-09-26T11:40:03.843Z"
   },
   {
    "duration": 430,
    "start_time": "2023-09-26T11:40:03.857Z"
   },
   {
    "duration": 5,
    "start_time": "2023-09-26T11:40:04.289Z"
   },
   {
    "duration": 1697,
    "start_time": "2023-09-26T11:40:04.296Z"
   },
   {
    "duration": 371,
    "start_time": "2023-09-26T11:40:05.996Z"
   },
   {
    "duration": 3,
    "start_time": "2023-09-26T11:40:06.370Z"
   },
   {
    "duration": 26,
    "start_time": "2023-09-26T11:40:06.375Z"
   },
   {
    "duration": 5,
    "start_time": "2023-09-26T11:40:06.404Z"
   },
   {
    "duration": 980,
    "start_time": "2023-09-26T11:40:06.411Z"
   },
   {
    "duration": 33,
    "start_time": "2023-09-26T11:40:07.393Z"
   },
   {
    "duration": 4,
    "start_time": "2023-09-26T11:40:07.428Z"
   },
   {
    "duration": 51,
    "start_time": "2023-09-26T11:40:07.433Z"
   },
   {
    "duration": 11,
    "start_time": "2023-09-26T11:40:07.486Z"
   },
   {
    "duration": 16,
    "start_time": "2023-09-26T11:40:07.499Z"
   },
   {
    "duration": 9,
    "start_time": "2023-09-26T11:40:07.517Z"
   },
   {
    "duration": 433,
    "start_time": "2023-09-26T11:40:07.528Z"
   },
   {
    "duration": 94,
    "start_time": "2023-09-26T11:40:07.964Z"
   },
   {
    "duration": 798,
    "start_time": "2023-09-26T11:40:08.060Z"
   },
   {
    "duration": 6,
    "start_time": "2023-09-26T11:40:08.860Z"
   },
   {
    "duration": 389,
    "start_time": "2023-09-26T11:40:08.868Z"
   },
   {
    "duration": 101,
    "start_time": "2023-09-26T11:40:09.260Z"
   },
   {
    "duration": 18,
    "start_time": "2023-09-26T11:40:09.363Z"
   },
   {
    "duration": 13,
    "start_time": "2023-09-26T11:40:09.383Z"
   },
   {
    "duration": 25,
    "start_time": "2023-09-26T11:40:09.398Z"
   },
   {
    "duration": 38,
    "start_time": "2023-09-26T11:40:09.425Z"
   },
   {
    "duration": 91,
    "start_time": "2023-09-26T11:40:09.466Z"
   },
   {
    "duration": 99,
    "start_time": "2023-09-26T11:40:09.559Z"
   },
   {
    "duration": 18,
    "start_time": "2023-09-26T11:40:09.660Z"
   },
   {
    "duration": 26,
    "start_time": "2023-09-26T11:40:09.680Z"
   },
   {
    "duration": 18,
    "start_time": "2023-09-26T11:40:09.709Z"
   },
   {
    "duration": 27,
    "start_time": "2023-09-26T11:40:09.729Z"
   },
   {
    "duration": 34,
    "start_time": "2023-09-26T11:40:09.758Z"
   },
   {
    "duration": 20,
    "start_time": "2023-09-26T11:40:09.794Z"
   },
   {
    "duration": 27,
    "start_time": "2023-09-26T11:40:09.816Z"
   },
   {
    "duration": 21,
    "start_time": "2023-09-26T11:40:09.845Z"
   },
   {
    "duration": 22,
    "start_time": "2023-09-26T11:40:09.868Z"
   },
   {
    "duration": 34,
    "start_time": "2023-09-26T11:40:09.892Z"
   },
   {
    "duration": 4,
    "start_time": "2023-09-26T11:40:09.928Z"
   },
   {
    "duration": 23,
    "start_time": "2023-09-26T11:40:09.934Z"
   },
   {
    "duration": 5405,
    "start_time": "2023-09-26T11:40:09.958Z"
   },
   {
    "duration": 9,
    "start_time": "2023-09-26T11:40:15.365Z"
   },
   {
    "duration": 5,
    "start_time": "2023-09-26T11:40:40.837Z"
   },
   {
    "duration": 975,
    "start_time": "2023-09-26T11:40:43.956Z"
   },
   {
    "duration": 4,
    "start_time": "2023-09-26T11:41:21.279Z"
   },
   {
    "duration": 483,
    "start_time": "2023-09-26T11:41:51.205Z"
   },
   {
    "duration": 5,
    "start_time": "2023-09-26T11:44:08.960Z"
   },
   {
    "duration": 986,
    "start_time": "2023-09-26T11:44:10.796Z"
   },
   {
    "duration": 15,
    "start_time": "2023-09-26T12:22:32.154Z"
   },
   {
    "duration": 21,
    "start_time": "2023-09-26T12:22:38.705Z"
   },
   {
    "duration": 8,
    "start_time": "2023-09-26T12:23:16.770Z"
   },
   {
    "duration": 18,
    "start_time": "2023-09-26T12:23:19.279Z"
   },
   {
    "duration": 12,
    "start_time": "2023-09-26T12:28:11.371Z"
   },
   {
    "duration": 1649,
    "start_time": "2023-09-26T12:29:08.927Z"
   },
   {
    "duration": 467,
    "start_time": "2023-09-26T12:29:10.579Z"
   },
   {
    "duration": 8,
    "start_time": "2023-09-26T12:29:11.049Z"
   },
   {
    "duration": 486,
    "start_time": "2023-09-26T12:29:11.060Z"
   },
   {
    "duration": 4,
    "start_time": "2023-09-26T12:29:11.556Z"
   },
   {
    "duration": 1783,
    "start_time": "2023-09-26T12:29:11.562Z"
   },
   {
    "duration": 347,
    "start_time": "2023-09-26T12:29:13.348Z"
   },
   {
    "duration": 3,
    "start_time": "2023-09-26T12:29:13.698Z"
   },
   {
    "duration": 17,
    "start_time": "2023-09-26T12:29:13.703Z"
   },
   {
    "duration": 10,
    "start_time": "2023-09-26T12:29:13.723Z"
   },
   {
    "duration": 964,
    "start_time": "2023-09-26T12:29:13.735Z"
   },
   {
    "duration": 34,
    "start_time": "2023-09-26T12:29:14.700Z"
   },
   {
    "duration": 4,
    "start_time": "2023-09-26T12:29:14.736Z"
   },
   {
    "duration": 33,
    "start_time": "2023-09-26T12:29:14.757Z"
   },
   {
    "duration": 11,
    "start_time": "2023-09-26T12:29:14.792Z"
   },
   {
    "duration": 14,
    "start_time": "2023-09-26T12:29:14.805Z"
   },
   {
    "duration": 44,
    "start_time": "2023-09-26T12:29:14.821Z"
   },
   {
    "duration": 397,
    "start_time": "2023-09-26T12:29:14.866Z"
   },
   {
    "duration": 221,
    "start_time": "2023-09-26T12:29:15.265Z"
   },
   {
    "duration": 0,
    "start_time": "2023-09-26T12:29:15.489Z"
   },
   {
    "duration": 0,
    "start_time": "2023-09-26T12:29:15.492Z"
   },
   {
    "duration": 1,
    "start_time": "2023-09-26T12:29:15.493Z"
   },
   {
    "duration": 0,
    "start_time": "2023-09-26T12:29:15.495Z"
   },
   {
    "duration": 0,
    "start_time": "2023-09-26T12:29:15.496Z"
   },
   {
    "duration": 0,
    "start_time": "2023-09-26T12:29:15.497Z"
   },
   {
    "duration": 0,
    "start_time": "2023-09-26T12:29:15.499Z"
   },
   {
    "duration": 0,
    "start_time": "2023-09-26T12:29:15.500Z"
   },
   {
    "duration": 0,
    "start_time": "2023-09-26T12:29:15.501Z"
   },
   {
    "duration": 0,
    "start_time": "2023-09-26T12:29:15.502Z"
   },
   {
    "duration": 0,
    "start_time": "2023-09-26T12:29:15.503Z"
   },
   {
    "duration": 0,
    "start_time": "2023-09-26T12:29:15.504Z"
   },
   {
    "duration": 0,
    "start_time": "2023-09-26T12:29:15.505Z"
   },
   {
    "duration": 0,
    "start_time": "2023-09-26T12:29:15.507Z"
   },
   {
    "duration": 0,
    "start_time": "2023-09-26T12:29:15.508Z"
   },
   {
    "duration": 0,
    "start_time": "2023-09-26T12:29:15.509Z"
   },
   {
    "duration": 0,
    "start_time": "2023-09-26T12:29:15.510Z"
   },
   {
    "duration": 0,
    "start_time": "2023-09-26T12:29:15.511Z"
   },
   {
    "duration": 0,
    "start_time": "2023-09-26T12:29:15.512Z"
   },
   {
    "duration": 0,
    "start_time": "2023-09-26T12:29:15.513Z"
   },
   {
    "duration": 0,
    "start_time": "2023-09-26T12:29:15.514Z"
   },
   {
    "duration": 0,
    "start_time": "2023-09-26T12:29:15.515Z"
   },
   {
    "duration": 0,
    "start_time": "2023-09-26T12:29:15.557Z"
   },
   {
    "duration": 0,
    "start_time": "2023-09-26T12:29:15.558Z"
   },
   {
    "duration": 0,
    "start_time": "2023-09-26T12:29:15.559Z"
   },
   {
    "duration": 15,
    "start_time": "2023-09-26T12:42:00.735Z"
   },
   {
    "duration": 13,
    "start_time": "2023-09-26T12:42:10.517Z"
   },
   {
    "duration": 4,
    "start_time": "2023-09-26T12:45:58.253Z"
   },
   {
    "duration": 5,
    "start_time": "2023-09-26T12:46:17.028Z"
   },
   {
    "duration": 20,
    "start_time": "2023-09-26T12:46:28.173Z"
   },
   {
    "duration": 4,
    "start_time": "2023-09-26T12:47:17.268Z"
   },
   {
    "duration": 4,
    "start_time": "2023-09-26T12:47:19.797Z"
   },
   {
    "duration": 21,
    "start_time": "2023-09-26T12:47:22.472Z"
   },
   {
    "duration": 5,
    "start_time": "2023-09-26T12:47:44.177Z"
   },
   {
    "duration": 30,
    "start_time": "2023-09-26T12:47:45.948Z"
   },
   {
    "duration": 32,
    "start_time": "2023-09-26T12:48:23.370Z"
   },
   {
    "duration": 5,
    "start_time": "2023-09-26T12:48:26.210Z"
   },
   {
    "duration": 5,
    "start_time": "2023-09-26T12:51:00.223Z"
   },
   {
    "duration": 1574,
    "start_time": "2023-09-26T12:55:10.073Z"
   },
   {
    "duration": 470,
    "start_time": "2023-09-26T12:55:11.649Z"
   },
   {
    "duration": 3,
    "start_time": "2023-09-26T12:55:12.121Z"
   },
   {
    "duration": 425,
    "start_time": "2023-09-26T12:55:12.126Z"
   },
   {
    "duration": 6,
    "start_time": "2023-09-26T12:55:12.557Z"
   },
   {
    "duration": 1645,
    "start_time": "2023-09-26T12:55:12.565Z"
   },
   {
    "duration": 326,
    "start_time": "2023-09-26T12:55:14.211Z"
   },
   {
    "duration": 2,
    "start_time": "2023-09-26T12:55:14.539Z"
   },
   {
    "duration": 17,
    "start_time": "2023-09-26T12:55:14.543Z"
   },
   {
    "duration": 55,
    "start_time": "2023-09-26T12:55:14.563Z"
   },
   {
    "duration": 956,
    "start_time": "2023-09-26T12:55:14.620Z"
   },
   {
    "duration": 33,
    "start_time": "2023-09-26T12:55:15.578Z"
   },
   {
    "duration": 4,
    "start_time": "2023-09-26T12:55:15.613Z"
   },
   {
    "duration": 53,
    "start_time": "2023-09-26T12:55:15.619Z"
   },
   {
    "duration": 12,
    "start_time": "2023-09-26T12:55:15.674Z"
   },
   {
    "duration": 14,
    "start_time": "2023-09-26T12:55:15.688Z"
   },
   {
    "duration": 12,
    "start_time": "2023-09-26T12:55:15.704Z"
   },
   {
    "duration": 444,
    "start_time": "2023-09-26T12:55:15.718Z"
   },
   {
    "duration": 92,
    "start_time": "2023-09-26T12:55:16.165Z"
   },
   {
    "duration": 147,
    "start_time": "2023-09-26T12:55:16.259Z"
   },
   {
    "duration": 0,
    "start_time": "2023-09-26T12:55:16.409Z"
   },
   {
    "duration": 0,
    "start_time": "2023-09-26T12:55:16.410Z"
   },
   {
    "duration": 0,
    "start_time": "2023-09-26T12:55:16.411Z"
   },
   {
    "duration": 0,
    "start_time": "2023-09-26T12:55:16.412Z"
   },
   {
    "duration": 0,
    "start_time": "2023-09-26T12:55:16.413Z"
   },
   {
    "duration": 0,
    "start_time": "2023-09-26T12:55:16.415Z"
   },
   {
    "duration": 0,
    "start_time": "2023-09-26T12:55:16.416Z"
   },
   {
    "duration": 0,
    "start_time": "2023-09-26T12:55:16.417Z"
   },
   {
    "duration": 0,
    "start_time": "2023-09-26T12:55:16.418Z"
   },
   {
    "duration": 0,
    "start_time": "2023-09-26T12:55:16.419Z"
   },
   {
    "duration": 0,
    "start_time": "2023-09-26T12:55:16.421Z"
   },
   {
    "duration": 0,
    "start_time": "2023-09-26T12:55:16.422Z"
   },
   {
    "duration": 0,
    "start_time": "2023-09-26T12:55:16.423Z"
   },
   {
    "duration": 0,
    "start_time": "2023-09-26T12:55:16.424Z"
   },
   {
    "duration": 0,
    "start_time": "2023-09-26T12:55:16.425Z"
   },
   {
    "duration": 0,
    "start_time": "2023-09-26T12:55:16.426Z"
   },
   {
    "duration": 0,
    "start_time": "2023-09-26T12:55:16.428Z"
   },
   {
    "duration": 0,
    "start_time": "2023-09-26T12:55:16.457Z"
   },
   {
    "duration": 0,
    "start_time": "2023-09-26T12:55:16.458Z"
   },
   {
    "duration": 0,
    "start_time": "2023-09-26T12:55:16.460Z"
   },
   {
    "duration": 0,
    "start_time": "2023-09-26T12:55:16.462Z"
   },
   {
    "duration": 0,
    "start_time": "2023-09-26T12:55:16.463Z"
   },
   {
    "duration": 0,
    "start_time": "2023-09-26T12:55:16.465Z"
   },
   {
    "duration": 0,
    "start_time": "2023-09-26T12:55:16.466Z"
   },
   {
    "duration": 4,
    "start_time": "2023-09-26T12:59:07.286Z"
   },
   {
    "duration": 1678,
    "start_time": "2023-09-26T13:00:06.723Z"
   },
   {
    "duration": 512,
    "start_time": "2023-09-26T13:00:08.403Z"
   },
   {
    "duration": 5,
    "start_time": "2023-09-26T13:00:08.919Z"
   },
   {
    "duration": 552,
    "start_time": "2023-09-26T13:00:08.928Z"
   },
   {
    "duration": 5,
    "start_time": "2023-09-26T13:00:09.482Z"
   },
   {
    "duration": 1651,
    "start_time": "2023-09-26T13:00:09.488Z"
   },
   {
    "duration": 337,
    "start_time": "2023-09-26T13:00:11.141Z"
   },
   {
    "duration": 3,
    "start_time": "2023-09-26T13:00:11.481Z"
   },
   {
    "duration": 27,
    "start_time": "2023-09-26T13:00:11.486Z"
   },
   {
    "duration": 12,
    "start_time": "2023-09-26T13:00:11.517Z"
   },
   {
    "duration": 1001,
    "start_time": "2023-09-26T13:00:11.531Z"
   },
   {
    "duration": 43,
    "start_time": "2023-09-26T13:00:12.535Z"
   },
   {
    "duration": 4,
    "start_time": "2023-09-26T13:00:12.580Z"
   },
   {
    "duration": 36,
    "start_time": "2023-09-26T13:00:12.586Z"
   },
   {
    "duration": 12,
    "start_time": "2023-09-26T13:00:12.624Z"
   },
   {
    "duration": 8,
    "start_time": "2023-09-26T13:00:12.657Z"
   },
   {
    "duration": 19,
    "start_time": "2023-09-26T13:00:12.666Z"
   },
   {
    "duration": 376,
    "start_time": "2023-09-26T13:00:12.686Z"
   },
   {
    "duration": 5,
    "start_time": "2023-09-26T13:00:13.064Z"
   },
   {
    "duration": 155219,
    "start_time": "2023-09-26T13:00:13.071Z"
   },
   {
    "duration": 145070,
    "start_time": "2023-09-26T13:02:48.292Z"
   },
   {
    "duration": 150465,
    "start_time": "2023-09-26T13:05:13.364Z"
   },
   {
    "duration": 735,
    "start_time": "2023-09-26T13:07:43.830Z"
   },
   {
    "duration": 5,
    "start_time": "2023-09-26T13:07:44.657Z"
   },
   {
    "duration": 13899,
    "start_time": "2023-09-26T13:07:44.664Z"
   },
   {
    "duration": 13807,
    "start_time": "2023-09-26T13:07:58.657Z"
   },
   {
    "duration": 14310,
    "start_time": "2023-09-26T13:08:12.558Z"
   },
   {
    "duration": 410,
    "start_time": "2023-09-26T13:08:26.960Z"
   },
   {
    "duration": 98,
    "start_time": "2023-09-26T13:08:27.462Z"
   },
   {
    "duration": 27,
    "start_time": "2023-09-26T13:08:27.562Z"
   },
   {
    "duration": 16,
    "start_time": "2023-09-26T13:08:27.591Z"
   },
   {
    "duration": 51,
    "start_time": "2023-09-26T13:08:27.609Z"
   },
   {
    "duration": 9,
    "start_time": "2023-09-26T13:08:27.662Z"
   },
   {
    "duration": 89,
    "start_time": "2023-09-26T13:08:27.672Z"
   },
   {
    "duration": 102,
    "start_time": "2023-09-26T13:08:27.763Z"
   },
   {
    "duration": 122,
    "start_time": "2023-09-26T13:08:27.868Z"
   },
   {
    "duration": 30,
    "start_time": "2023-09-26T13:08:27.992Z"
   },
   {
    "duration": 33,
    "start_time": "2023-09-26T13:08:28.024Z"
   },
   {
    "duration": 52,
    "start_time": "2023-09-26T13:08:28.059Z"
   },
   {
    "duration": 43,
    "start_time": "2023-09-26T13:08:28.113Z"
   },
   {
    "duration": 30,
    "start_time": "2023-09-26T13:08:28.158Z"
   },
   {
    "duration": 20,
    "start_time": "2023-09-26T13:08:28.190Z"
   },
   {
    "duration": 19,
    "start_time": "2023-09-26T13:08:28.211Z"
   },
   {
    "duration": 25,
    "start_time": "2023-09-26T13:08:28.232Z"
   },
   {
    "duration": 147,
    "start_time": "2023-09-26T13:08:28.259Z"
   },
   {
    "duration": 3,
    "start_time": "2023-09-26T13:08:28.408Z"
   },
   {
    "duration": 13,
    "start_time": "2023-09-26T13:08:28.413Z"
   },
   {
    "duration": 5642,
    "start_time": "2023-09-26T13:08:28.428Z"
   },
   {
    "duration": 9,
    "start_time": "2023-09-26T13:08:34.072Z"
   },
   {
    "duration": 1610,
    "start_time": "2023-09-26T13:20:09.982Z"
   },
   {
    "duration": 475,
    "start_time": "2023-09-26T13:20:11.594Z"
   },
   {
    "duration": 5,
    "start_time": "2023-09-26T13:20:12.071Z"
   },
   {
    "duration": 459,
    "start_time": "2023-09-26T13:20:12.078Z"
   },
   {
    "duration": 5,
    "start_time": "2023-09-26T13:20:12.540Z"
   },
   {
    "duration": 1830,
    "start_time": "2023-09-26T13:20:12.558Z"
   },
   {
    "duration": 355,
    "start_time": "2023-09-26T13:20:14.390Z"
   },
   {
    "duration": 10,
    "start_time": "2023-09-26T13:20:14.747Z"
   },
   {
    "duration": 57,
    "start_time": "2023-09-26T13:20:14.759Z"
   },
   {
    "duration": 35,
    "start_time": "2023-09-26T13:20:14.819Z"
   },
   {
    "duration": 1078,
    "start_time": "2023-09-26T13:20:14.856Z"
   },
   {
    "duration": 43,
    "start_time": "2023-09-26T13:20:15.936Z"
   },
   {
    "duration": 4,
    "start_time": "2023-09-26T13:20:15.981Z"
   },
   {
    "duration": 35,
    "start_time": "2023-09-26T13:20:15.987Z"
   },
   {
    "duration": 12,
    "start_time": "2023-09-26T13:20:16.024Z"
   },
   {
    "duration": 17,
    "start_time": "2023-09-26T13:20:16.058Z"
   },
   {
    "duration": 22,
    "start_time": "2023-09-26T13:20:16.076Z"
   },
   {
    "duration": 462,
    "start_time": "2023-09-26T13:20:16.099Z"
   },
   {
    "duration": 5,
    "start_time": "2023-09-26T13:20:16.563Z"
   },
   {
    "duration": 787,
    "start_time": "2023-09-26T13:20:16.570Z"
   },
   {
    "duration": 4,
    "start_time": "2023-09-26T13:20:17.359Z"
   },
   {
    "duration": 20291,
    "start_time": "2023-09-26T13:20:17.365Z"
   },
   {
    "duration": 20205,
    "start_time": "2023-09-26T13:20:37.661Z"
   },
   {
    "duration": 19892,
    "start_time": "2023-09-26T13:20:57.869Z"
   },
   {
    "duration": 497,
    "start_time": "2023-09-26T13:21:17.764Z"
   },
   {
    "duration": 98,
    "start_time": "2023-09-26T13:21:18.263Z"
   },
   {
    "duration": 23,
    "start_time": "2023-09-26T13:21:18.363Z"
   },
   {
    "duration": 32,
    "start_time": "2023-09-26T13:21:18.390Z"
   },
   {
    "duration": 35,
    "start_time": "2023-09-26T13:21:18.423Z"
   },
   {
    "duration": 29,
    "start_time": "2023-09-26T13:21:18.461Z"
   },
   {
    "duration": 71,
    "start_time": "2023-09-26T13:21:18.492Z"
   },
   {
    "duration": 5,
    "start_time": "2023-09-26T13:21:18.566Z"
   },
   {
    "duration": 99,
    "start_time": "2023-09-26T13:21:18.659Z"
   },
   {
    "duration": 40,
    "start_time": "2023-09-26T13:21:18.761Z"
   },
   {
    "duration": 5,
    "start_time": "2023-09-26T13:21:18.805Z"
   },
   {
    "duration": 17,
    "start_time": "2023-09-26T13:21:18.813Z"
   },
   {
    "duration": 28,
    "start_time": "2023-09-26T13:21:18.832Z"
   },
   {
    "duration": 28,
    "start_time": "2023-09-26T13:21:18.862Z"
   },
   {
    "duration": 26,
    "start_time": "2023-09-26T13:21:18.893Z"
   },
   {
    "duration": 13,
    "start_time": "2023-09-26T13:21:18.957Z"
   },
   {
    "duration": 31,
    "start_time": "2023-09-26T13:21:18.973Z"
   },
   {
    "duration": 81,
    "start_time": "2023-09-26T13:21:19.007Z"
   },
   {
    "duration": 5,
    "start_time": "2023-09-26T13:21:19.090Z"
   },
   {
    "duration": 23,
    "start_time": "2023-09-26T13:21:19.098Z"
   },
   {
    "duration": 5732,
    "start_time": "2023-09-26T13:21:19.123Z"
   },
   {
    "duration": 12,
    "start_time": "2023-09-26T13:21:24.857Z"
   },
   {
    "duration": 1725,
    "start_time": "2023-09-26T13:22:20.458Z"
   },
   {
    "duration": 470,
    "start_time": "2023-09-26T13:22:22.186Z"
   },
   {
    "duration": 5,
    "start_time": "2023-09-26T13:22:22.658Z"
   },
   {
    "duration": 523,
    "start_time": "2023-09-26T13:22:22.665Z"
   },
   {
    "duration": 5,
    "start_time": "2023-09-26T13:22:23.190Z"
   },
   {
    "duration": 1827,
    "start_time": "2023-09-26T13:22:23.197Z"
   },
   {
    "duration": 373,
    "start_time": "2023-09-26T13:22:25.026Z"
   },
   {
    "duration": 3,
    "start_time": "2023-09-26T13:22:25.401Z"
   },
   {
    "duration": 25,
    "start_time": "2023-09-26T13:22:25.406Z"
   },
   {
    "duration": 28,
    "start_time": "2023-09-26T13:22:25.433Z"
   },
   {
    "duration": 1020,
    "start_time": "2023-09-26T13:22:25.463Z"
   },
   {
    "duration": 35,
    "start_time": "2023-09-26T13:22:26.485Z"
   },
   {
    "duration": 6,
    "start_time": "2023-09-26T13:22:26.522Z"
   },
   {
    "duration": 34,
    "start_time": "2023-09-26T13:22:26.557Z"
   },
   {
    "duration": 13,
    "start_time": "2023-09-26T13:22:26.593Z"
   },
   {
    "duration": 66,
    "start_time": "2023-09-26T13:22:26.609Z"
   },
   {
    "duration": 35,
    "start_time": "2023-09-26T13:22:26.677Z"
   },
   {
    "duration": 444,
    "start_time": "2023-09-26T13:22:26.714Z"
   },
   {
    "duration": 6,
    "start_time": "2023-09-26T13:22:27.161Z"
   },
   {
    "duration": 1489,
    "start_time": "2023-09-26T13:22:27.169Z"
   },
   {
    "duration": 5,
    "start_time": "2023-09-26T13:22:28.661Z"
   },
   {
    "duration": 395,
    "start_time": "2023-09-26T13:22:28.669Z"
   },
   {
    "duration": 93,
    "start_time": "2023-09-26T13:22:29.068Z"
   },
   {
    "duration": 21,
    "start_time": "2023-09-26T13:22:29.163Z"
   },
   {
    "duration": 29,
    "start_time": "2023-09-26T13:22:29.186Z"
   },
   {
    "duration": 45,
    "start_time": "2023-09-26T13:22:29.218Z"
   },
   {
    "duration": 9,
    "start_time": "2023-09-26T13:22:29.265Z"
   },
   {
    "duration": 81,
    "start_time": "2023-09-26T13:22:29.276Z"
   },
   {
    "duration": 5,
    "start_time": "2023-09-26T13:22:29.360Z"
   },
   {
    "duration": 94,
    "start_time": "2023-09-26T13:22:29.367Z"
   },
   {
    "duration": 21,
    "start_time": "2023-09-26T13:22:29.463Z"
   },
   {
    "duration": 11,
    "start_time": "2023-09-26T13:22:29.486Z"
   },
   {
    "duration": 17,
    "start_time": "2023-09-26T13:22:29.498Z"
   },
   {
    "duration": 35,
    "start_time": "2023-09-26T13:22:29.517Z"
   },
   {
    "duration": 24,
    "start_time": "2023-09-26T13:22:29.555Z"
   },
   {
    "duration": 18,
    "start_time": "2023-09-26T13:22:29.581Z"
   },
   {
    "duration": 26,
    "start_time": "2023-09-26T13:22:29.601Z"
   },
   {
    "duration": 14,
    "start_time": "2023-09-26T13:22:29.629Z"
   },
   {
    "duration": 46,
    "start_time": "2023-09-26T13:22:29.645Z"
   },
   {
    "duration": 3,
    "start_time": "2023-09-26T13:22:29.693Z"
   },
   {
    "duration": 11,
    "start_time": "2023-09-26T13:22:29.701Z"
   },
   {
    "duration": 5879,
    "start_time": "2023-09-26T13:22:29.714Z"
   },
   {
    "duration": 9,
    "start_time": "2023-09-26T13:22:35.595Z"
   },
   {
    "duration": 9,
    "start_time": "2023-09-26T13:30:27.281Z"
   },
   {
    "duration": 1642,
    "start_time": "2023-09-26T13:30:35.346Z"
   },
   {
    "duration": 479,
    "start_time": "2023-09-26T13:30:36.990Z"
   },
   {
    "duration": 4,
    "start_time": "2023-09-26T13:30:37.471Z"
   },
   {
    "duration": 470,
    "start_time": "2023-09-26T13:30:37.477Z"
   },
   {
    "duration": 5,
    "start_time": "2023-09-26T13:30:37.958Z"
   },
   {
    "duration": 1746,
    "start_time": "2023-09-26T13:30:37.964Z"
   },
   {
    "duration": 333,
    "start_time": "2023-09-26T13:30:39.713Z"
   },
   {
    "duration": 8,
    "start_time": "2023-09-26T13:30:40.049Z"
   },
   {
    "duration": 27,
    "start_time": "2023-09-26T13:30:40.059Z"
   },
   {
    "duration": 21,
    "start_time": "2023-09-26T13:30:40.088Z"
   },
   {
    "duration": 1054,
    "start_time": "2023-09-26T13:30:40.111Z"
   },
   {
    "duration": 34,
    "start_time": "2023-09-26T13:30:41.167Z"
   },
   {
    "duration": 4,
    "start_time": "2023-09-26T13:30:41.203Z"
   },
   {
    "duration": 58,
    "start_time": "2023-09-26T13:30:41.210Z"
   },
   {
    "duration": 11,
    "start_time": "2023-09-26T13:30:41.270Z"
   },
   {
    "duration": 19,
    "start_time": "2023-09-26T13:30:41.283Z"
   },
   {
    "duration": 14,
    "start_time": "2023-09-26T13:30:41.304Z"
   },
   {
    "duration": 538,
    "start_time": "2023-09-26T13:30:41.320Z"
   },
   {
    "duration": 5,
    "start_time": "2023-09-26T13:30:41.859Z"
   },
   {
    "duration": 794,
    "start_time": "2023-09-26T13:30:41.866Z"
   },
   {
    "duration": 4,
    "start_time": "2023-09-26T13:30:42.662Z"
   },
   {
    "duration": 394,
    "start_time": "2023-09-26T13:30:42.668Z"
   },
   {
    "duration": 99,
    "start_time": "2023-09-26T13:30:43.065Z"
   },
   {
    "duration": 38,
    "start_time": "2023-09-26T13:30:43.165Z"
   },
   {
    "duration": 34,
    "start_time": "2023-09-26T13:30:43.205Z"
   },
   {
    "duration": 34,
    "start_time": "2023-09-26T13:30:43.241Z"
   },
   {
    "duration": 27,
    "start_time": "2023-09-26T13:30:43.277Z"
   },
   {
    "duration": 122,
    "start_time": "2023-09-26T13:30:43.306Z"
   },
   {
    "duration": 0,
    "start_time": "2023-09-26T13:30:43.430Z"
   },
   {
    "duration": 0,
    "start_time": "2023-09-26T13:30:43.431Z"
   },
   {
    "duration": 0,
    "start_time": "2023-09-26T13:30:43.433Z"
   },
   {
    "duration": 0,
    "start_time": "2023-09-26T13:30:43.434Z"
   },
   {
    "duration": 0,
    "start_time": "2023-09-26T13:30:43.435Z"
   },
   {
    "duration": 1,
    "start_time": "2023-09-26T13:30:43.436Z"
   },
   {
    "duration": 0,
    "start_time": "2023-09-26T13:30:43.438Z"
   },
   {
    "duration": 0,
    "start_time": "2023-09-26T13:30:43.439Z"
   },
   {
    "duration": 0,
    "start_time": "2023-09-26T13:30:43.457Z"
   },
   {
    "duration": 0,
    "start_time": "2023-09-26T13:30:43.458Z"
   },
   {
    "duration": 0,
    "start_time": "2023-09-26T13:30:43.460Z"
   },
   {
    "duration": 0,
    "start_time": "2023-09-26T13:30:43.461Z"
   },
   {
    "duration": 0,
    "start_time": "2023-09-26T13:30:43.462Z"
   },
   {
    "duration": 0,
    "start_time": "2023-09-26T13:30:43.463Z"
   },
   {
    "duration": 0,
    "start_time": "2023-09-26T13:30:43.465Z"
   },
   {
    "duration": 10,
    "start_time": "2023-09-26T13:32:47.779Z"
   },
   {
    "duration": 1605,
    "start_time": "2023-09-26T13:32:58.985Z"
   },
   {
    "duration": 478,
    "start_time": "2023-09-26T13:33:00.592Z"
   },
   {
    "duration": 4,
    "start_time": "2023-09-26T13:33:01.072Z"
   },
   {
    "duration": 499,
    "start_time": "2023-09-26T13:33:01.078Z"
   },
   {
    "duration": 5,
    "start_time": "2023-09-26T13:33:01.580Z"
   },
   {
    "duration": 1872,
    "start_time": "2023-09-26T13:33:01.587Z"
   },
   {
    "duration": 357,
    "start_time": "2023-09-26T13:33:03.462Z"
   },
   {
    "duration": 3,
    "start_time": "2023-09-26T13:33:03.821Z"
   },
   {
    "duration": 20,
    "start_time": "2023-09-26T13:33:03.825Z"
   },
   {
    "duration": 11,
    "start_time": "2023-09-26T13:33:03.847Z"
   },
   {
    "duration": 1017,
    "start_time": "2023-09-26T13:33:03.860Z"
   },
   {
    "duration": 35,
    "start_time": "2023-09-26T13:33:04.879Z"
   },
   {
    "duration": 4,
    "start_time": "2023-09-26T13:33:04.917Z"
   },
   {
    "duration": 54,
    "start_time": "2023-09-26T13:33:04.925Z"
   },
   {
    "duration": 12,
    "start_time": "2023-09-26T13:33:04.981Z"
   },
   {
    "duration": 15,
    "start_time": "2023-09-26T13:33:04.994Z"
   },
   {
    "duration": 22,
    "start_time": "2023-09-26T13:33:05.011Z"
   },
   {
    "duration": 527,
    "start_time": "2023-09-26T13:33:05.035Z"
   },
   {
    "duration": 93,
    "start_time": "2023-09-26T13:33:05.564Z"
   },
   {
    "duration": 702,
    "start_time": "2023-09-26T13:33:05.660Z"
   },
   {
    "duration": 91,
    "start_time": "2023-09-26T13:33:06.364Z"
   },
   {
    "duration": 403,
    "start_time": "2023-09-26T13:33:06.458Z"
   },
   {
    "duration": 103,
    "start_time": "2023-09-26T13:33:06.864Z"
   },
   {
    "duration": 52,
    "start_time": "2023-09-26T13:33:06.969Z"
   },
   {
    "duration": 31,
    "start_time": "2023-09-26T13:33:07.023Z"
   },
   {
    "duration": 59,
    "start_time": "2023-09-26T13:33:07.056Z"
   },
   {
    "duration": 20,
    "start_time": "2023-09-26T13:33:07.117Z"
   },
   {
    "duration": 218,
    "start_time": "2023-09-26T13:33:07.139Z"
   },
   {
    "duration": 5,
    "start_time": "2023-09-26T13:33:07.359Z"
   },
   {
    "duration": 12,
    "start_time": "2023-09-26T13:33:07.456Z"
   },
   {
    "duration": 16,
    "start_time": "2023-09-26T13:33:07.470Z"
   },
   {
    "duration": 15,
    "start_time": "2023-09-26T13:33:07.488Z"
   },
   {
    "duration": 17,
    "start_time": "2023-09-26T13:33:07.505Z"
   },
   {
    "duration": 43,
    "start_time": "2023-09-26T13:33:07.525Z"
   },
   {
    "duration": 19,
    "start_time": "2023-09-26T13:33:07.570Z"
   },
   {
    "duration": 28,
    "start_time": "2023-09-26T13:33:07.591Z"
   },
   {
    "duration": 41,
    "start_time": "2023-09-26T13:33:07.621Z"
   },
   {
    "duration": 19,
    "start_time": "2023-09-26T13:33:07.664Z"
   },
   {
    "duration": 52,
    "start_time": "2023-09-26T13:33:07.685Z"
   },
   {
    "duration": 12,
    "start_time": "2023-09-26T13:33:07.739Z"
   },
   {
    "duration": 20,
    "start_time": "2023-09-26T13:33:07.756Z"
   },
   {
    "duration": 5761,
    "start_time": "2023-09-26T13:33:07.778Z"
   },
   {
    "duration": 17,
    "start_time": "2023-09-26T13:33:13.541Z"
   },
   {
    "duration": 1579,
    "start_time": "2023-09-26T13:36:33.401Z"
   },
   {
    "duration": 2,
    "start_time": "2023-09-26T13:36:34.983Z"
   },
   {
    "duration": 23,
    "start_time": "2023-09-26T13:36:34.987Z"
   },
   {
    "duration": 473,
    "start_time": "2023-09-26T13:36:35.012Z"
   },
   {
    "duration": 4,
    "start_time": "2023-09-26T13:36:35.487Z"
   },
   {
    "duration": 446,
    "start_time": "2023-09-26T13:36:35.493Z"
   },
   {
    "duration": 5,
    "start_time": "2023-09-26T13:36:35.941Z"
   },
   {
    "duration": 1767,
    "start_time": "2023-09-26T13:36:35.958Z"
   },
   {
    "duration": 366,
    "start_time": "2023-09-26T13:36:37.727Z"
   },
   {
    "duration": 4,
    "start_time": "2023-09-26T13:36:38.095Z"
   },
   {
    "duration": 35,
    "start_time": "2023-09-26T13:36:38.101Z"
   },
   {
    "duration": 23,
    "start_time": "2023-09-26T13:36:38.138Z"
   },
   {
    "duration": 1136,
    "start_time": "2023-09-26T13:36:38.163Z"
   },
   {
    "duration": 35,
    "start_time": "2023-09-26T13:36:39.302Z"
   },
   {
    "duration": 18,
    "start_time": "2023-09-26T13:36:39.339Z"
   },
   {
    "duration": 76,
    "start_time": "2023-09-26T13:36:39.359Z"
   },
   {
    "duration": 31,
    "start_time": "2023-09-26T13:36:39.437Z"
   },
   {
    "duration": 46,
    "start_time": "2023-09-26T13:36:39.471Z"
   },
   {
    "duration": 36,
    "start_time": "2023-09-26T13:36:39.519Z"
   },
   {
    "duration": 314,
    "start_time": "2023-09-26T13:36:39.557Z"
   },
   {
    "duration": 5,
    "start_time": "2023-09-26T13:36:39.955Z"
   },
   {
    "duration": 795,
    "start_time": "2023-09-26T13:36:39.963Z"
   },
   {
    "duration": 4,
    "start_time": "2023-09-26T13:36:40.761Z"
   },
   {
    "duration": 200,
    "start_time": "2023-09-26T13:36:40.767Z"
   },
   {
    "duration": 98,
    "start_time": "2023-09-26T13:36:40.969Z"
   },
   {
    "duration": 96,
    "start_time": "2023-09-26T13:36:41.069Z"
   },
   {
    "duration": 35,
    "start_time": "2023-09-26T13:36:41.167Z"
   },
   {
    "duration": 50,
    "start_time": "2023-09-26T13:36:41.204Z"
   },
   {
    "duration": 18,
    "start_time": "2023-09-26T13:36:41.256Z"
   },
   {
    "duration": 179,
    "start_time": "2023-09-26T13:36:41.276Z"
   },
   {
    "duration": 97,
    "start_time": "2023-09-26T13:36:41.460Z"
   },
   {
    "duration": 110,
    "start_time": "2023-09-26T13:36:41.559Z"
   },
   {
    "duration": 0,
    "start_time": "2023-09-26T13:36:41.671Z"
   },
   {
    "duration": 0,
    "start_time": "2023-09-26T13:36:41.673Z"
   },
   {
    "duration": 0,
    "start_time": "2023-09-26T13:36:41.675Z"
   },
   {
    "duration": 0,
    "start_time": "2023-09-26T13:36:41.676Z"
   },
   {
    "duration": 0,
    "start_time": "2023-09-26T13:36:41.677Z"
   },
   {
    "duration": 0,
    "start_time": "2023-09-26T13:36:41.679Z"
   },
   {
    "duration": 0,
    "start_time": "2023-09-26T13:36:41.680Z"
   },
   {
    "duration": 0,
    "start_time": "2023-09-26T13:36:41.681Z"
   },
   {
    "duration": 0,
    "start_time": "2023-09-26T13:36:41.681Z"
   },
   {
    "duration": 1,
    "start_time": "2023-09-26T13:36:41.682Z"
   },
   {
    "duration": 0,
    "start_time": "2023-09-26T13:36:41.684Z"
   },
   {
    "duration": 0,
    "start_time": "2023-09-26T13:36:41.685Z"
   },
   {
    "duration": 0,
    "start_time": "2023-09-26T13:36:41.686Z"
   },
   {
    "duration": 1559,
    "start_time": "2023-09-26T13:36:51.798Z"
   },
   {
    "duration": 4,
    "start_time": "2023-09-26T13:36:53.360Z"
   },
   {
    "duration": 20,
    "start_time": "2023-09-26T13:36:53.365Z"
   },
   {
    "duration": 523,
    "start_time": "2023-09-26T13:36:53.388Z"
   },
   {
    "duration": 4,
    "start_time": "2023-09-26T13:36:53.913Z"
   },
   {
    "duration": 705,
    "start_time": "2023-09-26T13:36:53.919Z"
   },
   {
    "duration": 5,
    "start_time": "2023-09-26T13:36:54.627Z"
   },
   {
    "duration": 1769,
    "start_time": "2023-09-26T13:36:54.634Z"
   },
   {
    "duration": 329,
    "start_time": "2023-09-26T13:36:56.405Z"
   },
   {
    "duration": 3,
    "start_time": "2023-09-26T13:36:56.736Z"
   },
   {
    "duration": 41,
    "start_time": "2023-09-26T13:36:56.741Z"
   },
   {
    "duration": 17,
    "start_time": "2023-09-26T13:36:56.784Z"
   },
   {
    "duration": 1076,
    "start_time": "2023-09-26T13:36:56.804Z"
   },
   {
    "duration": 33,
    "start_time": "2023-09-26T13:36:57.884Z"
   },
   {
    "duration": 4,
    "start_time": "2023-09-26T13:36:57.919Z"
   },
   {
    "duration": 55,
    "start_time": "2023-09-26T13:36:57.925Z"
   },
   {
    "duration": 13,
    "start_time": "2023-09-26T13:36:57.982Z"
   },
   {
    "duration": 38,
    "start_time": "2023-09-26T13:36:57.996Z"
   },
   {
    "duration": 12,
    "start_time": "2023-09-26T13:36:58.036Z"
   },
   {
    "duration": 524,
    "start_time": "2023-09-26T13:36:58.050Z"
   },
   {
    "duration": 5,
    "start_time": "2023-09-26T13:36:58.658Z"
   },
   {
    "duration": 795,
    "start_time": "2023-09-26T13:36:58.665Z"
   },
   {
    "duration": 5,
    "start_time": "2023-09-26T13:36:59.462Z"
   },
   {
    "duration": 300,
    "start_time": "2023-09-26T13:36:59.468Z"
   },
   {
    "duration": 102,
    "start_time": "2023-09-26T13:36:59.858Z"
   },
   {
    "duration": 14,
    "start_time": "2023-09-26T13:36:59.962Z"
   },
   {
    "duration": 17,
    "start_time": "2023-09-26T13:36:59.979Z"
   },
   {
    "duration": 81,
    "start_time": "2023-09-26T13:36:59.998Z"
   },
   {
    "duration": 49,
    "start_time": "2023-09-26T13:37:00.081Z"
   },
   {
    "duration": 76,
    "start_time": "2023-09-26T13:37:00.132Z"
   },
   {
    "duration": 147,
    "start_time": "2023-09-26T13:37:00.211Z"
   },
   {
    "duration": 66,
    "start_time": "2023-09-26T13:37:00.360Z"
   },
   {
    "duration": 52,
    "start_time": "2023-09-26T13:37:00.429Z"
   },
   {
    "duration": 52,
    "start_time": "2023-09-26T13:37:00.483Z"
   },
   {
    "duration": 65,
    "start_time": "2023-09-26T13:37:00.538Z"
   },
   {
    "duration": 53,
    "start_time": "2023-09-26T13:37:00.606Z"
   },
   {
    "duration": 44,
    "start_time": "2023-09-26T13:37:00.661Z"
   },
   {
    "duration": 71,
    "start_time": "2023-09-26T13:37:00.707Z"
   },
   {
    "duration": 173,
    "start_time": "2023-09-26T13:37:00.780Z"
   },
   {
    "duration": 118,
    "start_time": "2023-09-26T13:37:00.955Z"
   },
   {
    "duration": 29,
    "start_time": "2023-09-26T13:37:01.078Z"
   },
   {
    "duration": 51,
    "start_time": "2023-09-26T13:37:01.109Z"
   },
   {
    "duration": 5859,
    "start_time": "2023-09-26T13:37:01.162Z"
   },
   {
    "duration": 10,
    "start_time": "2023-09-26T13:37:07.024Z"
   },
   {
    "duration": 1593,
    "start_time": "2023-09-26T14:02:11.658Z"
   },
   {
    "duration": 2,
    "start_time": "2023-09-26T14:02:13.254Z"
   },
   {
    "duration": 36,
    "start_time": "2023-09-26T14:02:13.258Z"
   },
   {
    "duration": 511,
    "start_time": "2023-09-26T14:02:13.296Z"
   },
   {
    "duration": 4,
    "start_time": "2023-09-26T14:02:13.809Z"
   },
   {
    "duration": 432,
    "start_time": "2023-09-26T14:02:13.814Z"
   },
   {
    "duration": 4,
    "start_time": "2023-09-26T14:02:14.256Z"
   },
   {
    "duration": 1585,
    "start_time": "2023-09-26T14:02:14.262Z"
   },
   {
    "duration": 346,
    "start_time": "2023-09-26T14:02:15.856Z"
   },
   {
    "duration": 4,
    "start_time": "2023-09-26T14:02:16.205Z"
   },
   {
    "duration": 20,
    "start_time": "2023-09-26T14:02:16.210Z"
   },
   {
    "duration": 30,
    "start_time": "2023-09-26T14:02:16.232Z"
   },
   {
    "duration": 1021,
    "start_time": "2023-09-26T14:02:16.264Z"
   },
   {
    "duration": 32,
    "start_time": "2023-09-26T14:02:17.287Z"
   },
   {
    "duration": 4,
    "start_time": "2023-09-26T14:02:17.321Z"
   },
   {
    "duration": 50,
    "start_time": "2023-09-26T14:02:17.326Z"
   },
   {
    "duration": 11,
    "start_time": "2023-09-26T14:02:17.378Z"
   },
   {
    "duration": 11,
    "start_time": "2023-09-26T14:02:17.391Z"
   },
   {
    "duration": 12,
    "start_time": "2023-09-26T14:02:17.404Z"
   },
   {
    "duration": 545,
    "start_time": "2023-09-26T14:02:17.417Z"
   },
   {
    "duration": 5,
    "start_time": "2023-09-26T14:02:17.964Z"
   },
   {
    "duration": 890,
    "start_time": "2023-09-26T14:02:17.970Z"
   },
   {
    "duration": 5,
    "start_time": "2023-09-26T14:02:18.862Z"
   },
   {
    "duration": 390,
    "start_time": "2023-09-26T14:02:18.870Z"
   },
   {
    "duration": 100,
    "start_time": "2023-09-26T14:02:19.264Z"
   },
   {
    "duration": 17,
    "start_time": "2023-09-26T14:02:19.365Z"
   },
   {
    "duration": 13,
    "start_time": "2023-09-26T14:02:19.384Z"
   },
   {
    "duration": 33,
    "start_time": "2023-09-26T14:02:19.400Z"
   },
   {
    "duration": 34,
    "start_time": "2023-09-26T14:02:19.435Z"
   },
   {
    "duration": 86,
    "start_time": "2023-09-26T14:02:19.471Z"
   },
   {
    "duration": 108,
    "start_time": "2023-09-26T14:02:19.560Z"
   },
   {
    "duration": 36,
    "start_time": "2023-09-26T14:02:19.670Z"
   },
   {
    "duration": 15,
    "start_time": "2023-09-26T14:02:19.707Z"
   },
   {
    "duration": 23,
    "start_time": "2023-09-26T14:02:19.724Z"
   },
   {
    "duration": 24,
    "start_time": "2023-09-26T14:02:19.749Z"
   },
   {
    "duration": 17,
    "start_time": "2023-09-26T14:02:19.776Z"
   },
   {
    "duration": 19,
    "start_time": "2023-09-26T14:02:19.795Z"
   },
   {
    "duration": 42,
    "start_time": "2023-09-26T14:02:19.816Z"
   },
   {
    "duration": 16,
    "start_time": "2023-09-26T14:02:19.859Z"
   },
   {
    "duration": 35,
    "start_time": "2023-09-26T14:02:19.876Z"
   },
   {
    "duration": 3,
    "start_time": "2023-09-26T14:02:19.913Z"
   },
   {
    "duration": 36,
    "start_time": "2023-09-26T14:02:19.918Z"
   },
   {
    "duration": 5389,
    "start_time": "2023-09-26T14:02:19.956Z"
   },
   {
    "duration": 16,
    "start_time": "2023-09-26T14:02:25.347Z"
   },
   {
    "duration": 1608,
    "start_time": "2023-09-26T14:13:38.990Z"
   },
   {
    "duration": 3,
    "start_time": "2023-09-26T14:13:40.601Z"
   },
   {
    "duration": 13,
    "start_time": "2023-09-26T14:13:40.606Z"
   },
   {
    "duration": 496,
    "start_time": "2023-09-26T14:13:40.621Z"
   },
   {
    "duration": 4,
    "start_time": "2023-09-26T14:13:41.120Z"
   },
   {
    "duration": 501,
    "start_time": "2023-09-26T14:13:41.126Z"
   },
   {
    "duration": 6,
    "start_time": "2023-09-26T14:13:41.629Z"
   },
   {
    "duration": 1783,
    "start_time": "2023-09-26T14:13:41.637Z"
   },
   {
    "duration": 348,
    "start_time": "2023-09-26T14:13:43.422Z"
   },
   {
    "duration": 3,
    "start_time": "2023-09-26T14:13:43.773Z"
   },
   {
    "duration": 41,
    "start_time": "2023-09-26T14:13:43.778Z"
   },
   {
    "duration": 39,
    "start_time": "2023-09-26T14:13:43.821Z"
   },
   {
    "duration": 1067,
    "start_time": "2023-09-26T14:13:43.863Z"
   },
   {
    "duration": 42,
    "start_time": "2023-09-26T14:13:44.934Z"
   },
   {
    "duration": 5,
    "start_time": "2023-09-26T14:13:44.978Z"
   },
   {
    "duration": 106,
    "start_time": "2023-09-26T14:13:44.985Z"
   },
   {
    "duration": 39,
    "start_time": "2023-09-26T14:13:45.094Z"
   },
   {
    "duration": 22,
    "start_time": "2023-09-26T14:13:45.137Z"
   },
   {
    "duration": 62,
    "start_time": "2023-09-26T14:13:45.162Z"
   },
   {
    "duration": 344,
    "start_time": "2023-09-26T14:13:45.226Z"
   },
   {
    "duration": 87,
    "start_time": "2023-09-26T14:13:45.571Z"
   },
   {
    "duration": 904,
    "start_time": "2023-09-26T14:13:45.660Z"
   },
   {
    "duration": 6,
    "start_time": "2023-09-26T14:13:46.567Z"
   },
   {
    "duration": 388,
    "start_time": "2023-09-26T14:13:46.576Z"
   },
   {
    "duration": 97,
    "start_time": "2023-09-26T14:13:46.966Z"
   },
   {
    "duration": 22,
    "start_time": "2023-09-26T14:13:47.065Z"
   },
   {
    "duration": 30,
    "start_time": "2023-09-26T14:13:47.090Z"
   },
   {
    "duration": 42,
    "start_time": "2023-09-26T14:13:47.123Z"
   },
   {
    "duration": 9,
    "start_time": "2023-09-26T14:13:47.167Z"
   },
   {
    "duration": 83,
    "start_time": "2023-09-26T14:13:47.178Z"
   },
   {
    "duration": 6,
    "start_time": "2023-09-26T14:13:47.263Z"
   },
   {
    "duration": 9,
    "start_time": "2023-09-26T14:13:47.359Z"
   },
   {
    "duration": 31,
    "start_time": "2023-09-26T14:13:47.456Z"
   },
   {
    "duration": 39,
    "start_time": "2023-09-26T14:13:47.489Z"
   },
   {
    "duration": 47,
    "start_time": "2023-09-26T14:13:47.530Z"
   },
   {
    "duration": 44,
    "start_time": "2023-09-26T14:13:47.579Z"
   },
   {
    "duration": 29,
    "start_time": "2023-09-26T14:13:47.626Z"
   },
   {
    "duration": 13,
    "start_time": "2023-09-26T14:13:47.657Z"
   },
   {
    "duration": 36,
    "start_time": "2023-09-26T14:13:47.673Z"
   },
   {
    "duration": 76,
    "start_time": "2023-09-26T14:13:47.712Z"
   },
   {
    "duration": 5,
    "start_time": "2023-09-26T14:13:47.792Z"
   },
   {
    "duration": 41,
    "start_time": "2023-09-26T14:13:47.799Z"
   },
   {
    "duration": 6132,
    "start_time": "2023-09-26T14:13:47.842Z"
   },
   {
    "duration": 9,
    "start_time": "2023-09-26T14:13:53.977Z"
   },
   {
    "duration": 1776,
    "start_time": "2023-09-27T11:06:55.096Z"
   },
   {
    "duration": 4,
    "start_time": "2023-09-27T11:06:56.875Z"
   },
   {
    "duration": 14,
    "start_time": "2023-09-27T11:06:56.881Z"
   },
   {
    "duration": 948,
    "start_time": "2023-09-27T11:06:56.898Z"
   },
   {
    "duration": 5,
    "start_time": "2023-09-27T11:06:57.849Z"
   },
   {
    "duration": 435,
    "start_time": "2023-09-27T11:06:57.856Z"
   },
   {
    "duration": 4,
    "start_time": "2023-09-27T11:06:58.293Z"
   },
   {
    "duration": 1559,
    "start_time": "2023-09-27T11:06:58.299Z"
   },
   {
    "duration": 409,
    "start_time": "2023-09-27T11:06:59.861Z"
   },
   {
    "duration": 4,
    "start_time": "2023-09-27T11:07:00.280Z"
   },
   {
    "duration": 146,
    "start_time": "2023-09-27T11:07:00.286Z"
   },
   {
    "duration": 48,
    "start_time": "2023-09-27T11:07:00.434Z"
   },
   {
    "duration": 1204,
    "start_time": "2023-09-27T11:07:00.485Z"
   },
   {
    "duration": 30,
    "start_time": "2023-09-27T11:07:01.691Z"
   },
   {
    "duration": 167,
    "start_time": "2023-09-27T11:07:01.723Z"
   },
   {
    "duration": 250,
    "start_time": "2023-09-27T11:07:01.892Z"
   },
   {
    "duration": 25,
    "start_time": "2023-09-27T11:07:02.144Z"
   },
   {
    "duration": 48,
    "start_time": "2023-09-27T11:07:02.171Z"
   },
   {
    "duration": 30,
    "start_time": "2023-09-27T11:07:02.221Z"
   },
   {
    "duration": 729,
    "start_time": "2023-09-27T11:07:02.253Z"
   },
   {
    "duration": 5,
    "start_time": "2023-09-27T11:07:02.984Z"
   },
   {
    "duration": 141214,
    "start_time": "2023-09-27T11:07:02.991Z"
   },
   {
    "duration": 135176,
    "start_time": "2023-09-27T11:09:24.207Z"
   },
   {
    "duration": 141130,
    "start_time": "2023-09-27T11:11:39.385Z"
   },
   {
    "duration": 679,
    "start_time": "2023-09-27T11:14:00.517Z"
   },
   {
    "duration": 6,
    "start_time": "2023-09-27T11:14:01.198Z"
   },
   {
    "duration": 18380,
    "start_time": "2023-09-27T11:14:01.206Z"
   },
   {
    "duration": 20695,
    "start_time": "2023-09-27T11:14:19.592Z"
   },
   {
    "duration": 17691,
    "start_time": "2023-09-27T11:14:40.290Z"
   },
   {
    "duration": 497,
    "start_time": "2023-09-27T11:14:57.984Z"
   },
   {
    "duration": 98,
    "start_time": "2023-09-27T11:14:58.484Z"
   },
   {
    "duration": 65,
    "start_time": "2023-09-27T11:14:58.585Z"
   },
   {
    "duration": 40,
    "start_time": "2023-09-27T11:14:58.652Z"
   },
   {
    "duration": 160,
    "start_time": "2023-09-27T11:14:58.694Z"
   },
   {
    "duration": 102,
    "start_time": "2023-09-27T11:14:58.857Z"
   },
   {
    "duration": 53,
    "start_time": "2023-09-27T11:14:58.961Z"
   },
   {
    "duration": 66,
    "start_time": "2023-09-27T11:14:59.020Z"
   },
   {
    "duration": 108,
    "start_time": "2023-09-27T11:14:59.091Z"
   },
   {
    "duration": 20,
    "start_time": "2023-09-27T11:14:59.201Z"
   },
   {
    "duration": 25,
    "start_time": "2023-09-27T11:14:59.223Z"
   },
   {
    "duration": 49,
    "start_time": "2023-09-27T11:14:59.250Z"
   },
   {
    "duration": 19,
    "start_time": "2023-09-27T11:14:59.300Z"
   },
   {
    "duration": 17,
    "start_time": "2023-09-27T11:14:59.320Z"
   },
   {
    "duration": 8,
    "start_time": "2023-09-27T11:14:59.339Z"
   },
   {
    "duration": 48,
    "start_time": "2023-09-27T11:14:59.349Z"
   },
   {
    "duration": 47,
    "start_time": "2023-09-27T11:14:59.399Z"
   },
   {
    "duration": 10,
    "start_time": "2023-09-27T11:14:59.447Z"
   },
   {
    "duration": 55,
    "start_time": "2023-09-27T11:14:59.458Z"
   },
   {
    "duration": 5419,
    "start_time": "2023-09-27T11:14:59.515Z"
   },
   {
    "duration": 7,
    "start_time": "2023-09-27T11:15:04.936Z"
   },
   {
    "duration": 1493,
    "start_time": "2023-09-27T11:17:34.121Z"
   },
   {
    "duration": 2,
    "start_time": "2023-09-27T11:17:35.616Z"
   },
   {
    "duration": 10,
    "start_time": "2023-09-27T11:17:35.619Z"
   },
   {
    "duration": 413,
    "start_time": "2023-09-27T11:17:35.631Z"
   },
   {
    "duration": 4,
    "start_time": "2023-09-27T11:17:36.045Z"
   },
   {
    "duration": 407,
    "start_time": "2023-09-27T11:17:36.051Z"
   },
   {
    "duration": 4,
    "start_time": "2023-09-27T11:17:36.460Z"
   },
   {
    "duration": 1637,
    "start_time": "2023-09-27T11:17:36.466Z"
   },
   {
    "duration": 314,
    "start_time": "2023-09-27T11:17:38.105Z"
   },
   {
    "duration": 3,
    "start_time": "2023-09-27T11:17:38.422Z"
   },
   {
    "duration": 12,
    "start_time": "2023-09-27T11:17:38.426Z"
   },
   {
    "duration": 9,
    "start_time": "2023-09-27T11:17:38.439Z"
   },
   {
    "duration": 955,
    "start_time": "2023-09-27T11:17:38.449Z"
   },
   {
    "duration": 29,
    "start_time": "2023-09-27T11:17:39.406Z"
   },
   {
    "duration": 12,
    "start_time": "2023-09-27T11:17:39.437Z"
   },
   {
    "duration": 52,
    "start_time": "2023-09-27T11:17:39.451Z"
   },
   {
    "duration": 11,
    "start_time": "2023-09-27T11:17:39.504Z"
   },
   {
    "duration": 21,
    "start_time": "2023-09-27T11:17:39.517Z"
   },
   {
    "duration": 33,
    "start_time": "2023-09-27T11:17:39.539Z"
   },
   {
    "duration": 613,
    "start_time": "2023-09-27T11:17:39.574Z"
   },
   {
    "duration": 4,
    "start_time": "2023-09-27T11:17:40.189Z"
   },
   {
    "duration": 694,
    "start_time": "2023-09-27T11:17:40.195Z"
   },
   {
    "duration": 90,
    "start_time": "2023-09-27T11:17:40.891Z"
   },
   {
    "duration": 1606,
    "start_time": "2023-09-27T11:17:56.148Z"
   },
   {
    "duration": 3,
    "start_time": "2023-09-27T11:17:57.756Z"
   },
   {
    "duration": 19,
    "start_time": "2023-09-27T11:17:57.760Z"
   },
   {
    "duration": 430,
    "start_time": "2023-09-27T11:17:57.780Z"
   },
   {
    "duration": 4,
    "start_time": "2023-09-27T11:17:58.212Z"
   },
   {
    "duration": 381,
    "start_time": "2023-09-27T11:17:58.218Z"
   },
   {
    "duration": 5,
    "start_time": "2023-09-27T11:17:58.600Z"
   },
   {
    "duration": 1430,
    "start_time": "2023-09-27T11:17:58.607Z"
   },
   {
    "duration": 335,
    "start_time": "2023-09-27T11:18:00.039Z"
   },
   {
    "duration": 5,
    "start_time": "2023-09-27T11:18:00.376Z"
   },
   {
    "duration": 80,
    "start_time": "2023-09-27T11:18:00.383Z"
   },
   {
    "duration": 34,
    "start_time": "2023-09-27T11:18:00.465Z"
   },
   {
    "duration": 1014,
    "start_time": "2023-09-27T11:18:00.501Z"
   },
   {
    "duration": 43,
    "start_time": "2023-09-27T11:18:01.519Z"
   },
   {
    "duration": 297,
    "start_time": "2023-09-27T11:18:01.564Z"
   },
   {
    "duration": 364,
    "start_time": "2023-09-27T11:18:01.862Z"
   },
   {
    "duration": 222,
    "start_time": "2023-09-27T11:18:02.228Z"
   },
   {
    "duration": 132,
    "start_time": "2023-09-27T11:18:02.451Z"
   },
   {
    "duration": 307,
    "start_time": "2023-09-27T11:18:02.584Z"
   },
   {
    "duration": 594,
    "start_time": "2023-09-27T11:18:02.892Z"
   },
   {
    "duration": 93,
    "start_time": "2023-09-27T11:18:03.489Z"
   },
   {
    "duration": 606,
    "start_time": "2023-09-27T11:18:03.584Z"
   },
   {
    "duration": 91,
    "start_time": "2023-09-27T11:18:04.192Z"
   },
   {
    "duration": 310,
    "start_time": "2023-09-27T11:18:04.285Z"
   },
   {
    "duration": 100,
    "start_time": "2023-09-27T11:18:04.682Z"
   },
   {
    "duration": 9,
    "start_time": "2023-09-27T11:18:04.785Z"
   },
   {
    "duration": 15,
    "start_time": "2023-09-27T11:18:04.796Z"
   },
   {
    "duration": 27,
    "start_time": "2023-09-27T11:18:04.813Z"
   },
   {
    "duration": 40,
    "start_time": "2023-09-27T11:18:04.841Z"
   },
   {
    "duration": 13,
    "start_time": "2023-09-27T11:18:04.882Z"
   },
   {
    "duration": 86,
    "start_time": "2023-09-27T11:18:04.897Z"
   },
   {
    "duration": 97,
    "start_time": "2023-09-27T11:18:04.986Z"
   },
   {
    "duration": 29,
    "start_time": "2023-09-27T11:18:05.085Z"
   },
   {
    "duration": 26,
    "start_time": "2023-09-27T11:18:05.116Z"
   },
   {
    "duration": 32,
    "start_time": "2023-09-27T11:18:05.143Z"
   },
   {
    "duration": 25,
    "start_time": "2023-09-27T11:18:05.177Z"
   },
   {
    "duration": 20,
    "start_time": "2023-09-27T11:18:05.204Z"
   },
   {
    "duration": 23,
    "start_time": "2023-09-27T11:18:05.226Z"
   },
   {
    "duration": 14,
    "start_time": "2023-09-27T11:18:05.251Z"
   },
   {
    "duration": 52,
    "start_time": "2023-09-27T11:18:05.266Z"
   },
   {
    "duration": 7,
    "start_time": "2023-09-27T11:18:05.321Z"
   },
   {
    "duration": 11,
    "start_time": "2023-09-27T11:18:05.330Z"
   },
   {
    "duration": 5624,
    "start_time": "2023-09-27T11:18:05.343Z"
   },
   {
    "duration": 17,
    "start_time": "2023-09-27T11:18:10.968Z"
   }
  ],
  "kernelspec": {
   "display_name": "Python 3 (ipykernel)",
   "language": "python",
   "name": "python3"
  },
  "language_info": {
   "codemirror_mode": {
    "name": "ipython",
    "version": 3
   },
   "file_extension": ".py",
   "mimetype": "text/x-python",
   "name": "python",
   "nbconvert_exporter": "python",
   "pygments_lexer": "ipython3",
   "version": "3.9.19"
  },
  "toc": {
   "base_numbering": 1,
   "nav_menu": {
    "height": "259px",
    "width": "362px"
   },
   "number_sections": true,
   "sideBar": true,
   "skip_h1_title": true,
   "title_cell": "Table of Contents",
   "title_sidebar": "Contents",
   "toc_cell": false,
   "toc_position": {},
   "toc_section_display": true,
   "toc_window_display": true
  }
 },
 "nbformat": 4,
 "nbformat_minor": 4
}
