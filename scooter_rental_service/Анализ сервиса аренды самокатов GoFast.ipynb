{
 "cells": [
  {
   "cell_type": "markdown",
   "id": "23903a9b",
   "metadata": {},
   "source": [
    "# Анализ сервиса аренды самокатов GoFast"
   ]
  },
  {
   "cell_type": "markdown",
   "id": "fe2604e6",
   "metadata": {},
   "source": [
    "## Описание проекта"
   ]
  },
  {
   "cell_type": "markdown",
   "id": "e07c8dc8",
   "metadata": {},
   "source": [
    "Анализ сервиса аренды самокатов GoFast. В проекте данные о некоторых пользователях из нескольких городов, а также об их поездках. Необходимо проанализировать данные и проверить гипотезы.\n",
    "\n",
    "Чтобы совершать поездки по городу, пользователи сервиса GoFast пользуются мобильным приложением. Сервисом можно пользоваться:\n",
    "- **без подписки**\n",
    "    - абонентская плата отсутствует;\n",
    "    - стоимость одной минуты поездки — 8 рублей;\n",
    "    - стоимость старта (начала поездки) — 50 рублей;\n",
    "- **с подпиской Ultra**\n",
    "    - абонентская плата — 199 рублей в месяц;\n",
    "    - стоимость одной минуты поездки — 6 рублей;\n",
    "    - стоимость старта — бесплатно."
   ]
  },
  {
   "cell_type": "markdown",
   "id": "2dc688da",
   "metadata": {},
   "source": [
    "### Описание данных"
   ]
  },
  {
   "cell_type": "markdown",
   "id": "c1a31ba3",
   "metadata": {},
   "source": [
    "В основных данных есть информация о пользователях, их поездках и подписках.\n",
    "- **Пользователи** — users_go.csv:\n",
    "    - **user_id** — уникальный идентификатор пользователя;\n",
    "    - **name** — имя пользователя;\n",
    "    - **age** — возраст;\n",
    "    - **city** — город;\n",
    "    - **subscription_type** — тип подписки (free, ultra)."
   ]
  },
  {
   "cell_type": "markdown",
   "id": "01bd4bc0",
   "metadata": {},
   "source": [
    "- **Поездки** — rides_go.csv:\n",
    "    - **user_id** — уникальный идентификатор пользователя;\n",
    "    - **distance** — расстояние, которое пользователь проехал в текущей сессии (в метрах);\n",
    "    - **duration** — продолжительность сессии (в минутах) — время с того момента, как пользователь нажал кнопку «Начать   поездку» до момента, как он нажал кнопку «Завершить поездку»;\n",
    "    - **date** — дата совершения поездки."
   ]
  },
  {
   "cell_type": "markdown",
   "id": "fb8f8360",
   "metadata": {},
   "source": [
    "- **Подписки** — subscriptions_go.csv:\n",
    "    - **subscription_type** — тип подписки;\n",
    "    - **minute_price** — стоимость одной минуты поездки по данной подписке;\n",
    "    - **start_ride_price** — стоимость начала поездки;\n",
    "    - **subscription_fee** — стоимость ежемесячного платежа."
   ]
  },
  {
   "cell_type": "markdown",
   "id": "1b1f4095",
   "metadata": {},
   "source": [
    "### План работы"
   ]
  },
  {
   "cell_type": "markdown",
   "id": "32e6eca8",
   "metadata": {},
   "source": [
    "1. **Загрузка данных**\n",
    "2. **Предобработка данных** \n",
    "3. **Исследовательский анализ данных**\n",
    "Описать и визуализировать общую информацию о пользователях и поездках, такую как:\n",
    "     - частота встречаемости городов;\n",
    "     - соотношение пользователей с подпиской и без подписки;\n",
    "     - возраст пользователей;\n",
    "     - расстояние, которое пользователь преодолел за одну поездку;\n",
    "     - продолжительность поездок.\n",
    "     \n",
    "4. **Объединение данных**\n",
    "     - Объединить данные о пользователях, поездках и подписках в один датафрейм;\n",
    "     - Создать ещё два датафрейма из датафрейма предыдущего пункта:\n",
    "            - c данными о пользователях без подписки;\n",
    "            - с данными о пользователях с подпиской;\n",
    "     - Визуализировать информацию о расстоянии и времени поездок для пользователей обеих категорий.\n",
    "     \n",
    "     \n",
    "5. **Подсчёт выручки**\n",
    "     \n",
    "     \n",
    "6. **Проверка гипотез**\n",
    "     -  Тратят ли пользователи с подпиской больше времени на поездки?\n",
    "     - Расстояние одной поездки в 3130 метров — оптимальное с точки зрения износа самоката. \n",
    "     Можно ли сказать, что расстояние, которое проезжают пользователи с подпиской за одну поездку, не превышает 3130 метров?\n",
    "     - Проверить гипотезу о том, будет ли помесячная выручка от пользователей с подпиской по месяцам выше, чем выручка от       пользователей без подписки\n",
    "     - Ответить на вопрос технической команды сервиса \n"
   ]
  },
  {
   "cell_type": "code",
   "execution_count": 1,
   "id": "956872d1",
   "metadata": {},
   "outputs": [],
   "source": [
    "import pandas as pd\n",
    "import datetime as dt\n",
    "\n",
    "%matplotlib inline\n",
    "import seaborn as sns\n",
    "import matplotlib.pyplot as plt\n",
    "\n",
    "import numpy as np\n",
    "\n",
    "import scipy.stats as st"
   ]
  },
  {
   "cell_type": "markdown",
   "id": "c42cbe00",
   "metadata": {},
   "source": [
    "### Загрузка данных"
   ]
  },
  {
   "cell_type": "markdown",
   "id": "49e4991f",
   "metadata": {},
   "source": [
    "#### Пользователи — users_go.csv"
   ]
  },
  {
   "cell_type": "code",
   "execution_count": 2,
   "id": "eff9f206",
   "metadata": {},
   "outputs": [
    {
     "data": {
      "text/html": [
       "<div>\n",
       "<style scoped>\n",
       "    .dataframe tbody tr th:only-of-type {\n",
       "        vertical-align: middle;\n",
       "    }\n",
       "\n",
       "    .dataframe tbody tr th {\n",
       "        vertical-align: top;\n",
       "    }\n",
       "\n",
       "    .dataframe thead th {\n",
       "        text-align: right;\n",
       "    }\n",
       "</style>\n",
       "<table border=\"1\" class=\"dataframe\">\n",
       "  <thead>\n",
       "    <tr style=\"text-align: right;\">\n",
       "      <th></th>\n",
       "      <th>user_id</th>\n",
       "      <th>name</th>\n",
       "      <th>age</th>\n",
       "      <th>city</th>\n",
       "      <th>subscription_type</th>\n",
       "    </tr>\n",
       "  </thead>\n",
       "  <tbody>\n",
       "    <tr>\n",
       "      <th>0</th>\n",
       "      <td>1</td>\n",
       "      <td>Кира</td>\n",
       "      <td>22</td>\n",
       "      <td>Тюмень</td>\n",
       "      <td>ultra</td>\n",
       "    </tr>\n",
       "    <tr>\n",
       "      <th>1</th>\n",
       "      <td>2</td>\n",
       "      <td>Станислав</td>\n",
       "      <td>31</td>\n",
       "      <td>Омск</td>\n",
       "      <td>ultra</td>\n",
       "    </tr>\n",
       "    <tr>\n",
       "      <th>2</th>\n",
       "      <td>3</td>\n",
       "      <td>Алексей</td>\n",
       "      <td>20</td>\n",
       "      <td>Москва</td>\n",
       "      <td>ultra</td>\n",
       "    </tr>\n",
       "    <tr>\n",
       "      <th>3</th>\n",
       "      <td>4</td>\n",
       "      <td>Константин</td>\n",
       "      <td>26</td>\n",
       "      <td>Ростов-на-Дону</td>\n",
       "      <td>ultra</td>\n",
       "    </tr>\n",
       "    <tr>\n",
       "      <th>4</th>\n",
       "      <td>5</td>\n",
       "      <td>Адель</td>\n",
       "      <td>28</td>\n",
       "      <td>Омск</td>\n",
       "      <td>ultra</td>\n",
       "    </tr>\n",
       "  </tbody>\n",
       "</table>\n",
       "</div>"
      ],
      "text/plain": [
       "   user_id        name  age            city subscription_type\n",
       "0        1        Кира   22          Тюмень             ultra\n",
       "1        2   Станислав   31            Омск             ultra\n",
       "2        3     Алексей   20          Москва             ultra\n",
       "3        4  Константин   26  Ростов-на-Дону             ultra\n",
       "4        5       Адель   28            Омск             ultra"
      ]
     },
     "execution_count": 2,
     "metadata": {},
     "output_type": "execute_result"
    }
   ],
   "source": [
    "users = pd.read_csv('/datasets/users_go.csv')\n",
    "users.head()"
   ]
  },
  {
   "cell_type": "code",
   "execution_count": 3,
   "id": "f5cd65d5",
   "metadata": {},
   "outputs": [
    {
     "name": "stdout",
     "output_type": "stream",
     "text": [
      "<class 'pandas.core.frame.DataFrame'>\n",
      "RangeIndex: 1565 entries, 0 to 1564\n",
      "Data columns (total 5 columns):\n",
      " #   Column             Non-Null Count  Dtype \n",
      "---  ------             --------------  ----- \n",
      " 0   user_id            1565 non-null   int64 \n",
      " 1   name               1565 non-null   object\n",
      " 2   age                1565 non-null   int64 \n",
      " 3   city               1565 non-null   object\n",
      " 4   subscription_type  1565 non-null   object\n",
      "dtypes: int64(2), object(3)\n",
      "memory usage: 61.3+ KB\n"
     ]
    }
   ],
   "source": [
    "users.info()"
   ]
  },
  {
   "cell_type": "markdown",
   "id": "7d5e25f0",
   "metadata": {},
   "source": [
    "#### Поездки — rides_go.csv"
   ]
  },
  {
   "cell_type": "code",
   "execution_count": 4,
   "id": "9492f0f9",
   "metadata": {},
   "outputs": [
    {
     "data": {
      "text/html": [
       "<div>\n",
       "<style scoped>\n",
       "    .dataframe tbody tr th:only-of-type {\n",
       "        vertical-align: middle;\n",
       "    }\n",
       "\n",
       "    .dataframe tbody tr th {\n",
       "        vertical-align: top;\n",
       "    }\n",
       "\n",
       "    .dataframe thead th {\n",
       "        text-align: right;\n",
       "    }\n",
       "</style>\n",
       "<table border=\"1\" class=\"dataframe\">\n",
       "  <thead>\n",
       "    <tr style=\"text-align: right;\">\n",
       "      <th></th>\n",
       "      <th>user_id</th>\n",
       "      <th>distance</th>\n",
       "      <th>duration</th>\n",
       "      <th>date</th>\n",
       "    </tr>\n",
       "  </thead>\n",
       "  <tbody>\n",
       "    <tr>\n",
       "      <th>0</th>\n",
       "      <td>1</td>\n",
       "      <td>4409.919140</td>\n",
       "      <td>25.599769</td>\n",
       "      <td>2021-01-01</td>\n",
       "    </tr>\n",
       "    <tr>\n",
       "      <th>1</th>\n",
       "      <td>1</td>\n",
       "      <td>2617.592153</td>\n",
       "      <td>15.816871</td>\n",
       "      <td>2021-01-18</td>\n",
       "    </tr>\n",
       "    <tr>\n",
       "      <th>2</th>\n",
       "      <td>1</td>\n",
       "      <td>754.159807</td>\n",
       "      <td>6.232113</td>\n",
       "      <td>2021-04-20</td>\n",
       "    </tr>\n",
       "    <tr>\n",
       "      <th>3</th>\n",
       "      <td>1</td>\n",
       "      <td>2694.783254</td>\n",
       "      <td>18.511000</td>\n",
       "      <td>2021-08-11</td>\n",
       "    </tr>\n",
       "    <tr>\n",
       "      <th>4</th>\n",
       "      <td>1</td>\n",
       "      <td>4028.687306</td>\n",
       "      <td>26.265803</td>\n",
       "      <td>2021-08-28</td>\n",
       "    </tr>\n",
       "  </tbody>\n",
       "</table>\n",
       "</div>"
      ],
      "text/plain": [
       "   user_id     distance   duration        date\n",
       "0        1  4409.919140  25.599769  2021-01-01\n",
       "1        1  2617.592153  15.816871  2021-01-18\n",
       "2        1   754.159807   6.232113  2021-04-20\n",
       "3        1  2694.783254  18.511000  2021-08-11\n",
       "4        1  4028.687306  26.265803  2021-08-28"
      ]
     },
     "execution_count": 4,
     "metadata": {},
     "output_type": "execute_result"
    }
   ],
   "source": [
    "rides = pd.read_csv('/datasets/rides_go.csv')\n",
    "rides.head()"
   ]
  },
  {
   "cell_type": "code",
   "execution_count": 5,
   "id": "48fe755b",
   "metadata": {},
   "outputs": [
    {
     "name": "stdout",
     "output_type": "stream",
     "text": [
      "<class 'pandas.core.frame.DataFrame'>\n",
      "RangeIndex: 18068 entries, 0 to 18067\n",
      "Data columns (total 4 columns):\n",
      " #   Column    Non-Null Count  Dtype  \n",
      "---  ------    --------------  -----  \n",
      " 0   user_id   18068 non-null  int64  \n",
      " 1   distance  18068 non-null  float64\n",
      " 2   duration  18068 non-null  float64\n",
      " 3   date      18068 non-null  object \n",
      "dtypes: float64(2), int64(1), object(1)\n",
      "memory usage: 564.8+ KB\n"
     ]
    }
   ],
   "source": [
    "rides.info()"
   ]
  },
  {
   "cell_type": "markdown",
   "id": "ada48dcc",
   "metadata": {},
   "source": [
    "#### Подписки — subscriptions_go.csv"
   ]
  },
  {
   "cell_type": "code",
   "execution_count": 6,
   "id": "56e56f93",
   "metadata": {},
   "outputs": [
    {
     "data": {
      "text/html": [
       "<div>\n",
       "<style scoped>\n",
       "    .dataframe tbody tr th:only-of-type {\n",
       "        vertical-align: middle;\n",
       "    }\n",
       "\n",
       "    .dataframe tbody tr th {\n",
       "        vertical-align: top;\n",
       "    }\n",
       "\n",
       "    .dataframe thead th {\n",
       "        text-align: right;\n",
       "    }\n",
       "</style>\n",
       "<table border=\"1\" class=\"dataframe\">\n",
       "  <thead>\n",
       "    <tr style=\"text-align: right;\">\n",
       "      <th></th>\n",
       "      <th>subscription_type</th>\n",
       "      <th>minute_price</th>\n",
       "      <th>start_ride_price</th>\n",
       "      <th>subscription_fee</th>\n",
       "    </tr>\n",
       "  </thead>\n",
       "  <tbody>\n",
       "    <tr>\n",
       "      <th>0</th>\n",
       "      <td>free</td>\n",
       "      <td>8</td>\n",
       "      <td>50</td>\n",
       "      <td>0</td>\n",
       "    </tr>\n",
       "    <tr>\n",
       "      <th>1</th>\n",
       "      <td>ultra</td>\n",
       "      <td>6</td>\n",
       "      <td>0</td>\n",
       "      <td>199</td>\n",
       "    </tr>\n",
       "  </tbody>\n",
       "</table>\n",
       "</div>"
      ],
      "text/plain": [
       "  subscription_type  minute_price  start_ride_price  subscription_fee\n",
       "0              free             8                50                 0\n",
       "1             ultra             6                 0               199"
      ]
     },
     "execution_count": 6,
     "metadata": {},
     "output_type": "execute_result"
    }
   ],
   "source": [
    "subscriptions = pd.read_csv('/datasets/subscriptions_go.csv')\n",
    "subscriptions.head()"
   ]
  },
  {
   "cell_type": "code",
   "execution_count": 7,
   "id": "f6e71805",
   "metadata": {},
   "outputs": [
    {
     "name": "stdout",
     "output_type": "stream",
     "text": [
      "<class 'pandas.core.frame.DataFrame'>\n",
      "RangeIndex: 2 entries, 0 to 1\n",
      "Data columns (total 4 columns):\n",
      " #   Column             Non-Null Count  Dtype \n",
      "---  ------             --------------  ----- \n",
      " 0   subscription_type  2 non-null      object\n",
      " 1   minute_price       2 non-null      int64 \n",
      " 2   start_ride_price   2 non-null      int64 \n",
      " 3   subscription_fee   2 non-null      int64 \n",
      "dtypes: int64(3), object(1)\n",
      "memory usage: 192.0+ bytes\n"
     ]
    }
   ],
   "source": [
    "subscriptions.info()"
   ]
  },
  {
   "cell_type": "markdown",
   "id": "8603599e",
   "metadata": {},
   "source": [
    "#### Вывод по загрузке данных"
   ]
  },
  {
   "cell_type": "markdown",
   "id": "258a80da",
   "metadata": {},
   "source": [
    "- В датафрейме rides_go.csv столбец date не в формате типа даты pandas, необходимо привести в нудный формат.\n",
    "- Столбец user_id датафрейма rides_go.csv имеет множество повторов, следовательно, в таблице инофрмация о нескольких поездках пользователей \n",
    "- Во всех трех датафреймах отсутствуют пропуски в данных "
   ]
  },
  {
   "cell_type": "markdown",
   "id": "e95ebca7",
   "metadata": {},
   "source": [
    "## Предобработка данных"
   ]
  },
  {
   "cell_type": "markdown",
   "id": "2032cba0",
   "metadata": {},
   "source": [
    "###  Датафрейм  rides "
   ]
  },
  {
   "cell_type": "markdown",
   "id": "e9c37190",
   "metadata": {},
   "source": [
    "#### **Столбец date преобразую в формат datetime**"
   ]
  },
  {
   "cell_type": "code",
   "execution_count": 8,
   "id": "c311399f",
   "metadata": {},
   "outputs": [],
   "source": [
    "rides['date'] = pd.to_datetime(rides['date'], format='%Y-%m-%d')\n",
    "#rides.info() #check"
   ]
  },
  {
   "cell_type": "markdown",
   "id": "5c91772c",
   "metadata": {},
   "source": [
    "#### **Добавление нового столбца с номером месяца**"
   ]
  },
  {
   "cell_type": "code",
   "execution_count": 9,
   "id": "84c0ee2d",
   "metadata": {},
   "outputs": [
    {
     "data": {
      "text/html": [
       "<div>\n",
       "<style scoped>\n",
       "    .dataframe tbody tr th:only-of-type {\n",
       "        vertical-align: middle;\n",
       "    }\n",
       "\n",
       "    .dataframe tbody tr th {\n",
       "        vertical-align: top;\n",
       "    }\n",
       "\n",
       "    .dataframe thead th {\n",
       "        text-align: right;\n",
       "    }\n",
       "</style>\n",
       "<table border=\"1\" class=\"dataframe\">\n",
       "  <thead>\n",
       "    <tr style=\"text-align: right;\">\n",
       "      <th></th>\n",
       "      <th>month</th>\n",
       "      <th>date</th>\n",
       "    </tr>\n",
       "  </thead>\n",
       "  <tbody>\n",
       "    <tr>\n",
       "      <th>0</th>\n",
       "      <td>1</td>\n",
       "      <td>2021-01-01</td>\n",
       "    </tr>\n",
       "    <tr>\n",
       "      <th>1</th>\n",
       "      <td>1</td>\n",
       "      <td>2021-01-18</td>\n",
       "    </tr>\n",
       "    <tr>\n",
       "      <th>2</th>\n",
       "      <td>4</td>\n",
       "      <td>2021-04-20</td>\n",
       "    </tr>\n",
       "  </tbody>\n",
       "</table>\n",
       "</div>"
      ],
      "text/plain": [
       "   month       date\n",
       "0      1 2021-01-01\n",
       "1      1 2021-01-18\n",
       "2      4 2021-04-20"
      ]
     },
     "execution_count": 9,
     "metadata": {},
     "output_type": "execute_result"
    }
   ],
   "source": [
    "rides['month'] = rides['date'].dt.month\n",
    "rides[['month', 'date']].head(3) #check"
   ]
  },
  {
   "cell_type": "markdown",
   "id": "78651198",
   "metadata": {},
   "source": [
    "#### **Анализ временного промежутка данных**"
   ]
  },
  {
   "cell_type": "code",
   "execution_count": 10,
   "id": "6af43935",
   "metadata": {},
   "outputs": [
    {
     "name": "stdout",
     "output_type": "stream",
     "text": [
      "Данные в датафрейме за период c 2021-01-01 00:00:00 по 2021-12-30 00:00:00\n"
     ]
    }
   ],
   "source": [
    "print('Данные в датафрейме за период c', rides['date'].min(), 'по', rides['date'].max() )"
   ]
  },
  {
   "cell_type": "markdown",
   "id": "8c129373",
   "metadata": {},
   "source": [
    "#### **Проверка наличия пропущенных значений и дубликатов**"
   ]
  },
  {
   "cell_type": "code",
   "execution_count": 11,
   "id": "dfdfaf9d",
   "metadata": {},
   "outputs": [
    {
     "data": {
      "text/plain": [
       "user_id     0\n",
       "distance    0\n",
       "duration    0\n",
       "date        0\n",
       "month       0\n",
       "dtype: int64"
      ]
     },
     "execution_count": 11,
     "metadata": {},
     "output_type": "execute_result"
    }
   ],
   "source": [
    "rides.isna().sum().sort_values(ascending=False)"
   ]
  },
  {
   "cell_type": "code",
   "execution_count": 12,
   "id": "fc97dd46",
   "metadata": {},
   "outputs": [
    {
     "data": {
      "text/html": [
       "<div>\n",
       "<style scoped>\n",
       "    .dataframe tbody tr th:only-of-type {\n",
       "        vertical-align: middle;\n",
       "    }\n",
       "\n",
       "    .dataframe tbody tr th {\n",
       "        vertical-align: top;\n",
       "    }\n",
       "\n",
       "    .dataframe thead th {\n",
       "        text-align: right;\n",
       "    }\n",
       "</style>\n",
       "<table border=\"1\" class=\"dataframe\">\n",
       "  <thead>\n",
       "    <tr style=\"text-align: right;\">\n",
       "      <th></th>\n",
       "      <th>user_id</th>\n",
       "      <th>distance</th>\n",
       "      <th>duration</th>\n",
       "      <th>date</th>\n",
       "      <th>month</th>\n",
       "    </tr>\n",
       "  </thead>\n",
       "  <tbody>\n",
       "  </tbody>\n",
       "</table>\n",
       "</div>"
      ],
      "text/plain": [
       "Empty DataFrame\n",
       "Columns: [user_id, distance, duration, date, month]\n",
       "Index: []"
      ]
     },
     "execution_count": 12,
     "metadata": {},
     "output_type": "execute_result"
    }
   ],
   "source": [
    "rides.loc[rides.duplicated(subset=['user_id','distance'], keep=False).any(level=0)].sort_values(by='user_id')"
   ]
  },
  {
   "cell_type": "markdown",
   "id": "7af6f7c3",
   "metadata": {},
   "source": [
    "#### Вывод"
   ]
  },
  {
   "cell_type": "markdown",
   "id": "a9f15b3a",
   "metadata": {},
   "source": [
    "В датафрейме rides отсутствуют пропущенные значения и дубликаты. Столбец date преобразован в формат datetime. Добавлен новый столбец с номером месяца. Данные в датафрейме rides за 2021 год с 1 января по 30 декабря. "
   ]
  },
  {
   "cell_type": "markdown",
   "id": "e438e893",
   "metadata": {},
   "source": [
    "###  Датафрейм  users"
   ]
  },
  {
   "cell_type": "markdown",
   "id": "537fc98f",
   "metadata": {},
   "source": [
    "#### **Проверка наличия пропущенных значений**"
   ]
  },
  {
   "cell_type": "code",
   "execution_count": 13,
   "id": "95e523ae",
   "metadata": {},
   "outputs": [
    {
     "data": {
      "text/plain": [
       "user_id              0\n",
       "name                 0\n",
       "age                  0\n",
       "city                 0\n",
       "subscription_type    0\n",
       "dtype: int64"
      ]
     },
     "execution_count": 13,
     "metadata": {},
     "output_type": "execute_result"
    }
   ],
   "source": [
    "users.isna().sum().sort_values(ascending=False)"
   ]
  },
  {
   "cell_type": "markdown",
   "id": "1797e967",
   "metadata": {},
   "source": [
    "#### **Проверка наличия неявных дубликатов, аномалий в определенных столбцах**"
   ]
  },
  {
   "cell_type": "code",
   "execution_count": 14,
   "id": "b6beb82e",
   "metadata": {},
   "outputs": [
    {
     "data": {
      "text/plain": [
       "array(['Тюмень', 'Омск', 'Москва', 'Ростов-на-Дону', 'Краснодар',\n",
       "       'Пятигорск', 'Екатеринбург', 'Сочи'], dtype=object)"
      ]
     },
     "execution_count": 14,
     "metadata": {},
     "output_type": "execute_result"
    }
   ],
   "source": [
    "users['city'].unique()"
   ]
  },
  {
   "cell_type": "code",
   "execution_count": 15,
   "id": "6d48d37a",
   "metadata": {},
   "outputs": [
    {
     "data": {
      "text/plain": [
       "array(['ultra', 'free'], dtype=object)"
      ]
     },
     "execution_count": 15,
     "metadata": {},
     "output_type": "execute_result"
    }
   ],
   "source": [
    "users['subscription_type'].unique()"
   ]
  },
  {
   "cell_type": "code",
   "execution_count": 16,
   "id": "7464d06f",
   "metadata": {},
   "outputs": [],
   "source": [
    "#sorted(users['age'].unique())"
   ]
  },
  {
   "cell_type": "markdown",
   "id": "648beca6",
   "metadata": {},
   "source": [
    "#### **Проверка наличия явных дубликатов и последующее удаление дублирующихся строк**"
   ]
  },
  {
   "cell_type": "code",
   "execution_count": 17,
   "id": "4257b3c1",
   "metadata": {},
   "outputs": [
    {
     "data": {
      "text/html": [
       "<div>\n",
       "<style scoped>\n",
       "    .dataframe tbody tr th:only-of-type {\n",
       "        vertical-align: middle;\n",
       "    }\n",
       "\n",
       "    .dataframe tbody tr th {\n",
       "        vertical-align: top;\n",
       "    }\n",
       "\n",
       "    .dataframe thead th {\n",
       "        text-align: right;\n",
       "    }\n",
       "</style>\n",
       "<table border=\"1\" class=\"dataframe\">\n",
       "  <thead>\n",
       "    <tr style=\"text-align: right;\">\n",
       "      <th></th>\n",
       "      <th>user_id</th>\n",
       "      <th>name</th>\n",
       "      <th>age</th>\n",
       "      <th>city</th>\n",
       "      <th>subscription_type</th>\n",
       "    </tr>\n",
       "  </thead>\n",
       "  <tbody>\n",
       "    <tr>\n",
       "      <th>15</th>\n",
       "      <td>16</td>\n",
       "      <td>Амалия</td>\n",
       "      <td>27</td>\n",
       "      <td>Краснодар</td>\n",
       "      <td>ultra</td>\n",
       "    </tr>\n",
       "    <tr>\n",
       "      <th>1535</th>\n",
       "      <td>16</td>\n",
       "      <td>Амалия</td>\n",
       "      <td>27</td>\n",
       "      <td>Краснодар</td>\n",
       "      <td>ultra</td>\n",
       "    </tr>\n",
       "    <tr>\n",
       "      <th>42</th>\n",
       "      <td>43</td>\n",
       "      <td>Стефания</td>\n",
       "      <td>22</td>\n",
       "      <td>Омск</td>\n",
       "      <td>ultra</td>\n",
       "    </tr>\n",
       "    <tr>\n",
       "      <th>1539</th>\n",
       "      <td>43</td>\n",
       "      <td>Стефания</td>\n",
       "      <td>22</td>\n",
       "      <td>Омск</td>\n",
       "      <td>ultra</td>\n",
       "    </tr>\n",
       "  </tbody>\n",
       "</table>\n",
       "</div>"
      ],
      "text/plain": [
       "      user_id      name  age       city subscription_type\n",
       "15         16    Амалия   27  Краснодар             ultra\n",
       "1535       16    Амалия   27  Краснодар             ultra\n",
       "42         43  Стефания   22       Омск             ultra\n",
       "1539       43  Стефания   22       Омск             ultra"
      ]
     },
     "execution_count": 17,
     "metadata": {},
     "output_type": "execute_result"
    }
   ],
   "source": [
    "users.loc[users.duplicated(subset=['user_id'], keep=False).any(level=0)].sort_values(by='user_id').head(4)"
   ]
  },
  {
   "cell_type": "code",
   "execution_count": 18,
   "id": "066279cb",
   "metadata": {},
   "outputs": [],
   "source": [
    "users = users.drop_duplicates()"
   ]
  },
  {
   "cell_type": "code",
   "execution_count": 19,
   "id": "84829e8a",
   "metadata": {},
   "outputs": [
    {
     "data": {
      "text/plain": [
       "0"
      ]
     },
     "execution_count": 19,
     "metadata": {},
     "output_type": "execute_result"
    }
   ],
   "source": [
    "# Код ревьюера\n",
    "users.duplicated().sum()"
   ]
  },
  {
   "cell_type": "markdown",
   "id": "5b612646",
   "metadata": {},
   "source": [
    "#### Вывод "
   ]
  },
  {
   "cell_type": "markdown",
   "id": "de64765b",
   "metadata": {},
   "source": [
    "В датафрейме users отсутствуют пропущенные значения. Отсутствуют также неявные дубликаты/опечатки в названиях городов и в столбце 'subscription_type'. В стобце с возрастом аномалий не обнаружено. \n",
    "\n",
    "В датафрейме users были найдены и удалены дублирующие строки."
   ]
  },
  {
   "cell_type": "markdown",
   "id": "690dc977",
   "metadata": {},
   "source": [
    "###  Вывод по предобработке данных "
   ]
  },
  {
   "cell_type": "markdown",
   "id": "caaf2188",
   "metadata": {},
   "source": [
    "**В датафрейме rides**:\n",
    "\n",
    "                        - отсутствуют пропущенные значения и дубликаты;  \n",
    "                        - столбец date преобразован в формат datetime;                  \n",
    "                        - добавлен новый столбец с номером месяца.\n",
    "                        - данные за 2021 год с 1 января по 30 декабря. \n",
    "        \n",
    "**В датафрейме users**:\n",
    "\n",
    "                        - отсутствуют пропущенные значения; \n",
    "                        - отсутствуют неявные дубликаты/опечатки в названиях городов и в столбце 'subscription_type';\n",
    "                        - в стобце с возрастом аномалий не обнаружено;\n",
    "                        - были найдены и удалены дублирующие строки.       "
   ]
  },
  {
   "cell_type": "markdown",
   "id": "212593c7",
   "metadata": {},
   "source": [
    "## Исследовательский анализ данных"
   ]
  },
  {
   "cell_type": "markdown",
   "id": "7c65f1f1",
   "metadata": {},
   "source": [
    "### Частота встречаемости городов"
   ]
  },
  {
   "cell_type": "code",
   "execution_count": 20,
   "id": "e3a4274c",
   "metadata": {},
   "outputs": [
    {
     "data": {
      "text/plain": [
       "Пятигорск         219\n",
       "Екатеринбург      204\n",
       "Ростов-на-Дону    198\n",
       "Краснодар         193\n",
       "Сочи              189\n",
       "Омск              183\n",
       "Тюмень            180\n",
       "Москва            168\n",
       "Name: city, dtype: int64"
      ]
     },
     "execution_count": 20,
     "metadata": {},
     "output_type": "execute_result"
    }
   ],
   "source": [
    "city = users['city'].value_counts()\n",
    "city"
   ]
  },
  {
   "cell_type": "code",
   "execution_count": 21,
   "id": "85035cfa",
   "metadata": {},
   "outputs": [
    {
     "data": {
      "image/png": "[encoded data removed]",
      "text/plain": [
       "<Figure size 720x504 with 1 Axes>"
      ]
     },
     "metadata": {},
     "output_type": "display_data"
    }
   ],
   "source": [
    "fig, ax = plt.subplots(figsize =(10, 7))\n",
    "\n",
    "plt.pie(city, labels=city.index, autopct='%.1f%%');\n",
    "ax.set(title =\"Частота встречаемости городов\");"
   ]
  },
  {
   "cell_type": "code",
   "execution_count": 22,
   "id": "a767238d",
   "metadata": {},
   "outputs": [
    {
     "data": {
      "image/png": "[encoded data removed]",
      "text/plain": [
       "<Figure size 936x360 with 1 Axes>"
      ]
     },
     "metadata": {
      "needs_background": "light"
     },
     "output_type": "display_data"
    }
   ],
   "source": [
    "users['city'].value_counts() .plot(title='Частота встречаемости городов', kind='bar',figsize=(13,5))\n",
    "plt.xlabel('Города')\n",
    "plt.ylabel('Частота')\n",
    "plt.grid()\n",
    "plt.xticks(rotation=45)\n",
    "plt.show()"
   ]
  },
  {
   "cell_type": "markdown",
   "id": "c5d334c1",
   "metadata": {},
   "source": [
    "#### Вывод"
   ]
  },
  {
   "cell_type": "markdown",
   "id": "4f116a0b",
   "metadata": {},
   "source": [
    "Всего городов 8: Пятигорск, Екатеринбург, Ростов-на-Дону, Краснодар, Сочи, Омск, Тюмень, Москва. \n",
    "\n",
    "Города в выборке, в среднем, имеют одинаковую частоту встречаемости: частота варьируется от 11 до 14.3%.\n",
    "\n",
    "3 самых встречаемых городa это: Пятигорск (14,3%), Екатеринбург (13,3%), Ростов-на-Дону (12,9%), самый менее встречаемый - Москва (11%). "
   ]
  },
  {
   "cell_type": "markdown",
   "id": "7d3fd10c",
   "metadata": {},
   "source": [
    "### Cоотношение пользователей с подпиской и без подписки"
   ]
  },
  {
   "cell_type": "code",
   "execution_count": 23,
   "id": "d43916c1",
   "metadata": {},
   "outputs": [
    {
     "data": {
      "text/plain": [
       "free     835\n",
       "ultra    699\n",
       "Name: subscription_type, dtype: int64"
      ]
     },
     "execution_count": 23,
     "metadata": {},
     "output_type": "execute_result"
    }
   ],
   "source": [
    "subscription_type = users['subscription_type'].value_counts()\n",
    "subscription_type"
   ]
  },
  {
   "cell_type": "code",
   "execution_count": 24,
   "id": "fd7e45e3",
   "metadata": {},
   "outputs": [
    {
     "data": {
      "image/png": "[encoded data removed]",
      "text/plain": [
       "<Figure size 720x504 with 1 Axes>"
      ]
     },
     "metadata": {},
     "output_type": "display_data"
    }
   ],
   "source": [
    "fig, ax = plt.subplots(figsize =(10, 7))\n",
    "\n",
    "plt.pie(subscription_type, labels=subscription_type.index, autopct='%.1f%%');\n",
    "ax.set(title =\"Cоотношение пользователей с подпиской и без подписки\");"
   ]
  },
  {
   "cell_type": "markdown",
   "id": "9940b9cf",
   "metadata": {},
   "source": [
    "#### Вывод\n",
    "\n",
    "Количество пользователей с подпиской и без примерно равное количество, но без подписки чуть больше: без подписки 54,4%, с подпиской 45,6%"
   ]
  },
  {
   "cell_type": "markdown",
   "id": "238db81a",
   "metadata": {},
   "source": [
    "### Возраст пользователей"
   ]
  },
  {
   "cell_type": "code",
   "execution_count": 25,
   "id": "7d2e8685",
   "metadata": {},
   "outputs": [
    {
     "data": {
      "image/png": "[encoded data removed]",
      "text/plain": [
       "<Figure size 432x432 with 1 Axes>"
      ]
     },
     "metadata": {
      "needs_background": "light"
     },
     "output_type": "display_data"
    }
   ],
   "source": [
    "sns.displot(data=users, x='age', height=6, kde=True);\n",
    "plt.title('Возраст пользователей');"
   ]
  },
  {
   "cell_type": "code",
   "execution_count": 26,
   "id": "58628a68",
   "metadata": {},
   "outputs": [
    {
     "name": "stdout",
     "output_type": "stream",
     "text": [
      "Самый встречаемый возраст пользователей: 25.0\n",
      "Средний возраст пользователей: 24.903520208604956\n",
      "Самый молодой пользователь: 12 лет\n",
      "Самый старший пользователь: 43 года\n"
     ]
    }
   ],
   "source": [
    "print('Самый встречаемый возраст пользователей:',users['age'].median())\n",
    "print('Средний возраст пользователей:',users['age'].mean())\n",
    "print('Самый молодой пользователь:',users['age'].min(), 'лет')\n",
    "print('Самый старший пользователь:',users['age'].max(), 'года')"
   ]
  },
  {
   "cell_type": "code",
   "execution_count": 27,
   "id": "e5dc529f",
   "metadata": {},
   "outputs": [],
   "source": [
    "#users['age'].describe()"
   ]
  },
  {
   "cell_type": "code",
   "execution_count": 28,
   "id": "9833ab27",
   "metadata": {},
   "outputs": [],
   "source": [
    "#функция распределения возраста пользователей по категориям\n",
    "\n",
    "def categorize_age(age): \n",
    "    try:\n",
    "        if age < 18:\n",
    "            return 'до 18 лет'\n",
    "        elif 18 <= age <= 25:\n",
    "            return '18-25 лет'\n",
    "        elif 25 < age <= 30:\n",
    "            return '25-30 лет'\n",
    "        elif 30 < age <= 35:\n",
    "            return '30-35 лет'\n",
    "        elif age > 35:\n",
    "            return '35+'\n",
    "    except:\n",
    "        pass"
   ]
  },
  {
   "cell_type": "code",
   "execution_count": 29,
   "id": "02bd64ab",
   "metadata": {},
   "outputs": [
    {
     "data": {
      "text/plain": [
       "18-25 лет    782\n",
       "25-30 лет    498\n",
       "30-35 лет    162\n",
       "до 18 лет     79\n",
       "35+           13\n",
       "Name: age, dtype: int64"
      ]
     },
     "execution_count": 29,
     "metadata": {},
     "output_type": "execute_result"
    }
   ],
   "source": [
    "age_category = users['age'].apply(categorize_age)\n",
    "age_category = age_category.value_counts()\n",
    "age_category"
   ]
  },
  {
   "cell_type": "code",
   "execution_count": 30,
   "id": "5569f46c",
   "metadata": {},
   "outputs": [
    {
     "data": {
      "image/png": "[encoded data removed]",
      "text/plain": [
       "<Figure size 720x504 with 1 Axes>"
      ]
     },
     "metadata": {},
     "output_type": "display_data"
    }
   ],
   "source": [
    "fig, ax = plt.subplots(figsize =(10, 7))\n",
    "plt.pie(age_category, labels=age_category.index, autopct='%.1f%%');\n",
    "plt.title('Возраст пользователей');"
   ]
  },
  {
   "cell_type": "code",
   "execution_count": 31,
   "id": "460c306d",
   "metadata": {},
   "outputs": [
    {
     "data": {
      "image/png": "[encoded data removed]",
      "text/plain": [
       "<Figure size 576x360 with 1 Axes>"
      ]
     },
     "metadata": {
      "needs_background": "light"
     },
     "output_type": "display_data"
    }
   ],
   "source": [
    "age_category.plot(title='Возраст пользователей', kind='bar',figsize=(8,5))\n",
    "plt.xlabel('Возраст')\n",
    "plt.ylabel('Количество пользователей в выборке')\n",
    "plt.grid()\n",
    "plt.xticks(rotation=0)\n",
    "plt.show()"
   ]
  },
  {
   "cell_type": "markdown",
   "id": "aeb8c76e",
   "metadata": {},
   "source": [
    "#### Вывод"
   ]
  },
  {
   "cell_type": "markdown",
   "id": "e5d39e5a",
   "metadata": {},
   "source": [
    "Возраст пользователей варьируется от 12 до 43 лет. Средний и  самый часто встречаемый возраст пользователей - 25 лет.\n",
    "Половина пользователей имеют возраст 18-25 лет (51%), вторая большая категория - это 25-30 лет - 32,5% пользователей.\n",
    "В категории 30-35 лет - 10,6% пользоваталей, до 18 лет - 5.1%, от 35 - 0,8%. "
   ]
  },
  {
   "cell_type": "markdown",
   "id": "e6b53d2c",
   "metadata": {},
   "source": [
    "### Расстояние, которое пользователь преодолел за одну поездку"
   ]
  },
  {
   "cell_type": "code",
   "execution_count": 32,
   "id": "aef11fe1",
   "metadata": {},
   "outputs": [
    {
     "data": {
      "image/png": "[encoded data removed]",
      "text/plain": [
       "<Figure size 504x504 with 1 Axes>"
      ]
     },
     "metadata": {
      "needs_background": "light"
     },
     "output_type": "display_data"
    }
   ],
   "source": [
    "sns.displot(data=rides, x='distance',bins=50, height=7, kde=True);\n",
    "plt.title(' Расстояние, которое пользователь преодолел за одну поездку, м');"
   ]
  },
  {
   "cell_type": "code",
   "execution_count": 33,
   "id": "232ac33b",
   "metadata": {},
   "outputs": [
    {
     "data": {
      "text/plain": [
       "3070.6599756818814"
      ]
     },
     "execution_count": 33,
     "metadata": {},
     "output_type": "execute_result"
    }
   ],
   "source": [
    "rides['distance'].mean()"
   ]
  },
  {
   "cell_type": "code",
   "execution_count": 34,
   "id": "5c335da9",
   "metadata": {},
   "outputs": [
    {
     "data": {
      "image/png": "[encoded data removed]",
      "text/plain": [
       "<Figure size 288x288 with 1 Axes>"
      ]
     },
     "metadata": {
      "needs_background": "light"
     },
     "output_type": "display_data"
    }
   ],
   "source": [
    "sns.displot(data=rides.query('distance<1500'), x='distance',bins=25, height=4, kde=True);\n",
    "plt.title(' Расстояние до 1500м, которое пользователь преодолел за одну поездку, м');"
   ]
  },
  {
   "cell_type": "code",
   "execution_count": 35,
   "id": "4090d27b",
   "metadata": {},
   "outputs": [
    {
     "data": {
      "text/plain": [
       "687.5367134052547"
      ]
     },
     "execution_count": 35,
     "metadata": {},
     "output_type": "execute_result"
    }
   ],
   "source": [
    "rides.query('distance<1500')['distance'].median()"
   ]
  },
  {
   "cell_type": "code",
   "execution_count": 36,
   "id": "9d5bd86d",
   "metadata": {},
   "outputs": [
    {
     "data": {
      "image/png": "[encoded data removed]",
      "text/plain": [
       "<Figure size 360x360 with 1 Axes>"
      ]
     },
     "metadata": {
      "needs_background": "light"
     },
     "output_type": "display_data"
    }
   ],
   "source": [
    "sns.displot(data=rides.query('distance>1500'), x='distance',bins=25, height=5, kde=True);\n",
    "plt.title(' Расстояние больше 1500м, которое пользователь преодолел за одну поездку, м');"
   ]
  },
  {
   "cell_type": "code",
   "execution_count": 37,
   "id": "ecb859e6",
   "metadata": {},
   "outputs": [
    {
     "data": {
      "text/plain": [
       "3239.972305386772"
      ]
     },
     "execution_count": 37,
     "metadata": {},
     "output_type": "execute_result"
    }
   ],
   "source": [
    "rides.query('distance>1500')['distance'].median()"
   ]
  },
  {
   "cell_type": "code",
   "execution_count": 38,
   "id": "9575fdbe",
   "metadata": {},
   "outputs": [
    {
     "data": {
      "text/plain": [
       "90.0597741864069"
      ]
     },
     "execution_count": 38,
     "metadata": {},
     "output_type": "execute_result"
    }
   ],
   "source": [
    "#Расчет процента пользователей предпочитающих длительные дистанции \n",
    "rides.query('distance>1500')['distance'].count()/rides['distance'].count()*100"
   ]
  },
  {
   "cell_type": "markdown",
   "id": "8ddfeffb",
   "metadata": {},
   "source": [
    "#### Вывод"
   ]
  },
  {
   "cell_type": "markdown",
   "id": "bb63d591",
   "metadata": {},
   "source": [
    "В среднем, пользователи проезжают дистанцию в 3,07км\n",
    "\n",
    "Пользователи, предпочитают:  \n",
    " - короткие дистанции до 1,5км - в среднем ≈700 метров, \n",
    " - длительные дистации от 1,5км до 7км, в основном, ≈3,2км.  \n",
    " \n",
    "Длительные дистанции предпочитают 90% пользователей."
   ]
  },
  {
   "cell_type": "markdown",
   "id": "8bd9f622",
   "metadata": {},
   "source": [
    "### Продолжительность поездок"
   ]
  },
  {
   "cell_type": "code",
   "execution_count": 39,
   "id": "2d8d99e6",
   "metadata": {},
   "outputs": [
    {
     "data": {
      "image/png": "[encoded data removed]",
      "text/plain": [
       "<Figure size 360x360 with 1 Axes>"
      ]
     },
     "metadata": {
      "needs_background": "light"
     },
     "output_type": "display_data"
    }
   ],
   "source": [
    "sns.displot(data=rides, x='duration',bins=150, height=5, kde=True);\n",
    "plt.title('Продолжительность поездок, мин');"
   ]
  },
  {
   "cell_type": "code",
   "execution_count": 40,
   "id": "bef1deed",
   "metadata": {},
   "outputs": [
    {
     "data": {
      "image/png": "[encoded data removed]",
      "text/plain": [
       "<Figure size 360x360 with 1 Axes>"
      ]
     },
     "metadata": {
      "needs_background": "light"
     },
     "output_type": "display_data"
    }
   ],
   "source": [
    "sns.displot(data=rides.query('duration<5'), x='duration',bins=50, height=5, kde=True);\n",
    "plt.title('Количество поездок длительностью меньше 5 минут');"
   ]
  },
  {
   "cell_type": "code",
   "execution_count": 41,
   "id": "3e4fb421",
   "metadata": {},
   "outputs": [
    {
     "data": {
      "text/plain": [
       "0.5    95\n",
       "Name: duration, dtype: int64"
      ]
     },
     "execution_count": 41,
     "metadata": {},
     "output_type": "execute_result"
    }
   ],
   "source": [
    "rides.query('duration<1')['duration'].value_counts()"
   ]
  },
  {
   "cell_type": "code",
   "execution_count": 42,
   "id": "670d9e4a",
   "metadata": {},
   "outputs": [
    {
     "data": {
      "text/plain": [
       "0.5257914545052026"
      ]
     },
     "execution_count": 42,
     "metadata": {},
     "output_type": "execute_result"
    }
   ],
   "source": [
    "#Процент ошибочно завершенных поездок\n",
    "rides.query('duration<1')['duration'].count()/rides['duration'].count()*100"
   ]
  },
  {
   "cell_type": "code",
   "execution_count": 43,
   "id": "b7b5e82b",
   "metadata": {},
   "outputs": [
    {
     "data": {
      "text/plain": [
       "17.678394530393803"
      ]
     },
     "execution_count": 43,
     "metadata": {},
     "output_type": "execute_result"
    }
   ],
   "source": [
    "rides['duration'].median()"
   ]
  },
  {
   "cell_type": "markdown",
   "id": "0bf6d864",
   "metadata": {},
   "source": [
    "#### Вывод"
   ]
  },
  {
   "cell_type": "markdown",
   "id": "164c23e1",
   "metadata": {},
   "source": [
    "Средняя продолжительность поездок 17,7 минут. \n",
    "\n",
    "Процент ошибочно завершенных поездок (поездок длительность до 0,5мин): 0,5%"
   ]
  },
  {
   "cell_type": "markdown",
   "id": "4c36be5c",
   "metadata": {},
   "source": [
    "### Вывод по исследовательскому анализу данных"
   ]
  },
  {
   "cell_type": "markdown",
   "id": "191687b9",
   "metadata": {},
   "source": [
    "**1)** Представлена информация о пользователей сервиса из восьми городов: Пятигорск, Екатеринбург, Ростов-на-Дону, Краснодар, Сочи, Омск, Тюмень, Москва.\n",
    "\n",
    "Города в выборке, в среднем, имеют одинаковую частоту встречаемости: частота варьируется от 11 до 14.3%. \n",
    "     \n",
    "3 самых встречаемых городa это: Пятигорск (14,3%), Екатеринбург (13,3%), Ростов-на-Дону (12,9%), самый реже встречаемый - Москва (11%).\n",
    "\n",
    "**2)** Пользователей без подписки 54,4%, с подпиской 45,6%\n",
    "\n",
    "**3)** Возраст пользователей варьруется от 12 до 43 лет. Средний возраст - 25 лет. \n",
    "\n",
    "   Возраст пользователей можно разделить на 5 категорий: \n",
    "\n",
    "       - 18-25 лет - 51% всех пользоваталей сервиса;\n",
    "       - 25-30 лет - 32,5%;\n",
    "       - 30-35 лет - 10,6%;\n",
    "       - до 18 лет - 5.1%; \n",
    "       - от 35 - 0,8%.\n",
    "\n",
    "**4)** Пользователи, предпочитают:\n",
    "\n",
    " - короткие дистанции до 1,5км - в среднем 700 метров,\n",
    " - длительные дистации от 1,5км до 7км - в среднем 3,2км\n",
    " \n",
    "Длительные дистанции предпочитают 90% пользователей.\n",
    "\n",
    "**5)** Средняя продолжительность поездок 17,7 минут.\n",
    "\n",
    "Процент ошибочно завершенных поездок (поездок длительность до 0,5мин): 0,5%\n"
   ]
  },
  {
   "cell_type": "markdown",
   "id": "4ef51331",
   "metadata": {},
   "source": [
    "## Объединение данных"
   ]
  },
  {
   "cell_type": "markdown",
   "id": "0cba3f03",
   "metadata": {},
   "source": [
    "### Объединение данных о пользователях, поездках и подписках в один датафрейм"
   ]
  },
  {
   "cell_type": "code",
   "execution_count": 44,
   "id": "6bf288b5",
   "metadata": {},
   "outputs": [
    {
     "data": {
      "text/html": [
       "<div>\n",
       "<style scoped>\n",
       "    .dataframe tbody tr th:only-of-type {\n",
       "        vertical-align: middle;\n",
       "    }\n",
       "\n",
       "    .dataframe tbody tr th {\n",
       "        vertical-align: top;\n",
       "    }\n",
       "\n",
       "    .dataframe thead th {\n",
       "        text-align: right;\n",
       "    }\n",
       "</style>\n",
       "<table border=\"1\" class=\"dataframe\">\n",
       "  <thead>\n",
       "    <tr style=\"text-align: right;\">\n",
       "      <th></th>\n",
       "      <th>user_id</th>\n",
       "      <th>distance</th>\n",
       "      <th>duration</th>\n",
       "      <th>date</th>\n",
       "      <th>month</th>\n",
       "      <th>name</th>\n",
       "      <th>age</th>\n",
       "      <th>city</th>\n",
       "      <th>subscription_type</th>\n",
       "    </tr>\n",
       "  </thead>\n",
       "  <tbody>\n",
       "    <tr>\n",
       "      <th>0</th>\n",
       "      <td>1</td>\n",
       "      <td>4409.919140</td>\n",
       "      <td>25.599769</td>\n",
       "      <td>2021-01-01</td>\n",
       "      <td>1</td>\n",
       "      <td>Кира</td>\n",
       "      <td>22</td>\n",
       "      <td>Тюмень</td>\n",
       "      <td>ultra</td>\n",
       "    </tr>\n",
       "    <tr>\n",
       "      <th>1</th>\n",
       "      <td>1</td>\n",
       "      <td>2617.592153</td>\n",
       "      <td>15.816871</td>\n",
       "      <td>2021-01-18</td>\n",
       "      <td>1</td>\n",
       "      <td>Кира</td>\n",
       "      <td>22</td>\n",
       "      <td>Тюмень</td>\n",
       "      <td>ultra</td>\n",
       "    </tr>\n",
       "    <tr>\n",
       "      <th>2</th>\n",
       "      <td>1</td>\n",
       "      <td>754.159807</td>\n",
       "      <td>6.232113</td>\n",
       "      <td>2021-04-20</td>\n",
       "      <td>4</td>\n",
       "      <td>Кира</td>\n",
       "      <td>22</td>\n",
       "      <td>Тюмень</td>\n",
       "      <td>ultra</td>\n",
       "    </tr>\n",
       "  </tbody>\n",
       "</table>\n",
       "</div>"
      ],
      "text/plain": [
       "   user_id     distance   duration       date  month  name  age    city  \\\n",
       "0        1  4409.919140  25.599769 2021-01-01      1  Кира   22  Тюмень   \n",
       "1        1  2617.592153  15.816871 2021-01-18      1  Кира   22  Тюмень   \n",
       "2        1   754.159807   6.232113 2021-04-20      4  Кира   22  Тюмень   \n",
       "\n",
       "  subscription_type  \n",
       "0             ultra  \n",
       "1             ultra  \n",
       "2             ultra  "
      ]
     },
     "execution_count": 44,
     "metadata": {},
     "output_type": "execute_result"
    }
   ],
   "source": [
    "data = rides.merge(users, on='user_id', how='left')\n",
    "data.head(3)"
   ]
  },
  {
   "cell_type": "markdown",
   "id": "3d7eafcb",
   "metadata": {},
   "source": [
    "### Создание датафрейма с данными о пользователях с подпиской"
   ]
  },
  {
   "cell_type": "code",
   "execution_count": 45,
   "id": "06add046",
   "metadata": {},
   "outputs": [
    {
     "data": {
      "text/html": [
       "<div>\n",
       "<style scoped>\n",
       "    .dataframe tbody tr th:only-of-type {\n",
       "        vertical-align: middle;\n",
       "    }\n",
       "\n",
       "    .dataframe tbody tr th {\n",
       "        vertical-align: top;\n",
       "    }\n",
       "\n",
       "    .dataframe thead th {\n",
       "        text-align: right;\n",
       "    }\n",
       "</style>\n",
       "<table border=\"1\" class=\"dataframe\">\n",
       "  <thead>\n",
       "    <tr style=\"text-align: right;\">\n",
       "      <th></th>\n",
       "      <th>user_id</th>\n",
       "      <th>distance</th>\n",
       "      <th>duration</th>\n",
       "      <th>date</th>\n",
       "      <th>month</th>\n",
       "      <th>name</th>\n",
       "      <th>age</th>\n",
       "      <th>city</th>\n",
       "      <th>subscription_type</th>\n",
       "    </tr>\n",
       "  </thead>\n",
       "  <tbody>\n",
       "    <tr>\n",
       "      <th>6497</th>\n",
       "      <td>699</td>\n",
       "      <td>3076.159348</td>\n",
       "      <td>14.389525</td>\n",
       "      <td>2021-09-26</td>\n",
       "      <td>9</td>\n",
       "      <td>Оксана</td>\n",
       "      <td>22</td>\n",
       "      <td>Москва</td>\n",
       "      <td>ultra</td>\n",
       "    </tr>\n",
       "    <tr>\n",
       "      <th>6498</th>\n",
       "      <td>699</td>\n",
       "      <td>4707.845501</td>\n",
       "      <td>15.839579</td>\n",
       "      <td>2021-10-17</td>\n",
       "      <td>10</td>\n",
       "      <td>Оксана</td>\n",
       "      <td>22</td>\n",
       "      <td>Москва</td>\n",
       "      <td>ultra</td>\n",
       "    </tr>\n",
       "    <tr>\n",
       "      <th>6499</th>\n",
       "      <td>699</td>\n",
       "      <td>3202.890770</td>\n",
       "      <td>25.217345</td>\n",
       "      <td>2021-12-03</td>\n",
       "      <td>12</td>\n",
       "      <td>Оксана</td>\n",
       "      <td>22</td>\n",
       "      <td>Москва</td>\n",
       "      <td>ultra</td>\n",
       "    </tr>\n",
       "  </tbody>\n",
       "</table>\n",
       "</div>"
      ],
      "text/plain": [
       "      user_id     distance   duration       date  month    name  age    city  \\\n",
       "6497      699  3076.159348  14.389525 2021-09-26      9  Оксана   22  Москва   \n",
       "6498      699  4707.845501  15.839579 2021-10-17     10  Оксана   22  Москва   \n",
       "6499      699  3202.890770  25.217345 2021-12-03     12  Оксана   22  Москва   \n",
       "\n",
       "     subscription_type  \n",
       "6497             ultra  \n",
       "6498             ultra  \n",
       "6499             ultra  "
      ]
     },
     "execution_count": 45,
     "metadata": {},
     "output_type": "execute_result"
    }
   ],
   "source": [
    "data_ultra = data.query('subscription_type == \"ultra\"')\n",
    "data_ultra.tail(3)"
   ]
  },
  {
   "cell_type": "markdown",
   "id": "ebd605bd",
   "metadata": {},
   "source": [
    "### Создание датафрейма c данными о пользователях без подписки"
   ]
  },
  {
   "cell_type": "code",
   "execution_count": 46,
   "id": "0c33f5c8",
   "metadata": {},
   "outputs": [
    {
     "data": {
      "text/html": [
       "<div>\n",
       "<style scoped>\n",
       "    .dataframe tbody tr th:only-of-type {\n",
       "        vertical-align: middle;\n",
       "    }\n",
       "\n",
       "    .dataframe tbody tr th {\n",
       "        vertical-align: top;\n",
       "    }\n",
       "\n",
       "    .dataframe thead th {\n",
       "        text-align: right;\n",
       "    }\n",
       "</style>\n",
       "<table border=\"1\" class=\"dataframe\">\n",
       "  <thead>\n",
       "    <tr style=\"text-align: right;\">\n",
       "      <th></th>\n",
       "      <th>user_id</th>\n",
       "      <th>distance</th>\n",
       "      <th>duration</th>\n",
       "      <th>date</th>\n",
       "      <th>month</th>\n",
       "      <th>name</th>\n",
       "      <th>age</th>\n",
       "      <th>city</th>\n",
       "      <th>subscription_type</th>\n",
       "    </tr>\n",
       "  </thead>\n",
       "  <tbody>\n",
       "    <tr>\n",
       "      <th>18065</th>\n",
       "      <td>1534</td>\n",
       "      <td>3826.185507</td>\n",
       "      <td>18.435051</td>\n",
       "      <td>2021-11-18</td>\n",
       "      <td>11</td>\n",
       "      <td>Альберт</td>\n",
       "      <td>25</td>\n",
       "      <td>Краснодар</td>\n",
       "      <td>free</td>\n",
       "    </tr>\n",
       "    <tr>\n",
       "      <th>18066</th>\n",
       "      <td>1534</td>\n",
       "      <td>2902.308661</td>\n",
       "      <td>16.674362</td>\n",
       "      <td>2021-11-27</td>\n",
       "      <td>11</td>\n",
       "      <td>Альберт</td>\n",
       "      <td>25</td>\n",
       "      <td>Краснодар</td>\n",
       "      <td>free</td>\n",
       "    </tr>\n",
       "    <tr>\n",
       "      <th>18067</th>\n",
       "      <td>1534</td>\n",
       "      <td>2371.711192</td>\n",
       "      <td>15.893917</td>\n",
       "      <td>2021-12-29</td>\n",
       "      <td>12</td>\n",
       "      <td>Альберт</td>\n",
       "      <td>25</td>\n",
       "      <td>Краснодар</td>\n",
       "      <td>free</td>\n",
       "    </tr>\n",
       "  </tbody>\n",
       "</table>\n",
       "</div>"
      ],
      "text/plain": [
       "       user_id     distance   duration       date  month     name  age  \\\n",
       "18065     1534  3826.185507  18.435051 2021-11-18     11  Альберт   25   \n",
       "18066     1534  2902.308661  16.674362 2021-11-27     11  Альберт   25   \n",
       "18067     1534  2371.711192  15.893917 2021-12-29     12  Альберт   25   \n",
       "\n",
       "            city subscription_type  \n",
       "18065  Краснодар              free  \n",
       "18066  Краснодар              free  \n",
       "18067  Краснодар              free  "
      ]
     },
     "execution_count": 46,
     "metadata": {},
     "output_type": "execute_result"
    }
   ],
   "source": [
    "data_free = data.query('subscription_type == \"free\"')\n",
    "data_free.tail(3)"
   ]
  },
  {
   "cell_type": "code",
   "execution_count": 47,
   "id": "83a90cad",
   "metadata": {},
   "outputs": [
    {
     "data": {
      "text/plain": [
       "18068"
      ]
     },
     "metadata": {},
     "output_type": "display_data"
    },
    {
     "data": {
      "text/plain": [
       "11568"
      ]
     },
     "metadata": {},
     "output_type": "display_data"
    },
    {
     "data": {
      "text/plain": [
       "6500"
      ]
     },
     "execution_count": 47,
     "metadata": {},
     "output_type": "execute_result"
    }
   ],
   "source": [
    "# Код ревьюера\n",
    "display(data.shape[0])\n",
    "display(data_free.shape[0])\n",
    "data_ultra.shape[0]"
   ]
  },
  {
   "cell_type": "markdown",
   "id": "1b50b2da",
   "metadata": {},
   "source": [
    "### Визуализация информации о расстоянии и времени поездок для пользователей обеих категорий"
   ]
  },
  {
   "cell_type": "markdown",
   "id": "fa4a8173",
   "metadata": {},
   "source": [
    "#### Анализ пройденного расстояния пользователей с подпиской"
   ]
  },
  {
   "cell_type": "code",
   "execution_count": 48,
   "id": "e18a7044",
   "metadata": {},
   "outputs": [
    {
     "data": {
      "image/png": "[encoded data removed]",
      "text/plain": [
       "<Figure size 504x504 with 1 Axes>"
      ]
     },
     "metadata": {
      "needs_background": "light"
     },
     "output_type": "display_data"
    }
   ],
   "source": [
    "sns.displot(data=data_ultra, x='distance',bins=50, height=7, kde=True);\n",
    "plt.title('Расстояние, которое пользователь с подпиской преодолел за одну поездку, м');"
   ]
  },
  {
   "cell_type": "code",
   "execution_count": 49,
   "id": "33a1d416",
   "metadata": {},
   "outputs": [
    {
     "data": {
      "text/plain": [
       "3115.4453880370247"
      ]
     },
     "execution_count": 49,
     "metadata": {},
     "output_type": "execute_result"
    }
   ],
   "source": [
    "data_ultra.distance.mean()"
   ]
  },
  {
   "cell_type": "code",
   "execution_count": 50,
   "id": "fabf9f84",
   "metadata": {},
   "outputs": [
    {
     "name": "stdout",
     "output_type": "stream",
     "text": [
      "Средняя длина малой дистанции (до 2 км) для пользоваателей с подпиской: 0.99 м\n"
     ]
    },
    {
     "data": {
      "image/png": "[encoded data removed]",
      "text/plain": [
       "<Figure size 288x288 with 1 Axes>"
      ]
     },
     "metadata": {
      "needs_background": "light"
     },
     "output_type": "display_data"
    }
   ],
   "source": [
    "sns.displot(data=data_ultra.query('distance<2000'), x='distance',bins=30, height=4, kde=True);\n",
    "plt.title('Расстояние до 2км, которое пользователь с подпиской преодолел за одну поездку, м');\n",
    "print('Средняя длина малой дистанции (до 2 км) для пользоваателей с подпиской:', round(data_ultra.query('distance<2000')['distance'].median()/1000,2), 'м')"
   ]
  },
  {
   "cell_type": "code",
   "execution_count": 51,
   "id": "398afffb",
   "metadata": {},
   "outputs": [
    {
     "name": "stdout",
     "output_type": "stream",
     "text": [
      "Средняя длина большей дистанции (от 2 км) для пользоваателей с подпиской: 3.2 км\n"
     ]
    },
    {
     "data": {
      "image/png": "[encoded data removed]",
      "text/plain": [
       "<Figure size 432x432 with 1 Axes>"
      ]
     },
     "metadata": {
      "needs_background": "light"
     },
     "output_type": "display_data"
    }
   ],
   "source": [
    "sns.displot(data=data_ultra.query('distance>2000'), x='distance',bins=80, height=6, kde=True);\n",
    "plt.title('Расстояние от 2км, которое пользователь с подпиской преодолел за одну поездку, м');\n",
    "print('Средняя длина большей дистанции (от 2 км) для пользоваателей с подпиской:', round(data_ultra.query('distance>2000')['distance'].median()/1000,2), 'км')"
   ]
  },
  {
   "cell_type": "markdown",
   "id": "5efdf38e",
   "metadata": {},
   "source": [
    "**Пользователи с подпиской** зачастую преодолевают расстояние в 3,2км, в меньшей степени предпочитают короткие дистанции в 0,99км и длинные - в 4км. "
   ]
  },
  {
   "cell_type": "markdown",
   "id": "d9f8011f",
   "metadata": {},
   "source": [
    "#### Анализ пройденного расстояния пользователей без подписки"
   ]
  },
  {
   "cell_type": "code",
   "execution_count": 52,
   "id": "d3174c55",
   "metadata": {},
   "outputs": [
    {
     "data": {
      "image/png": "[encoded data removed]",
      "text/plain": [
       "<Figure size 504x504 with 1 Axes>"
      ]
     },
     "metadata": {
      "needs_background": "light"
     },
     "output_type": "display_data"
    }
   ],
   "source": [
    "sns.displot(data=data_free, x='distance',bins=50, height=7, kde=True);\n",
    "plt.title('Расстояние, которое пользователь без подписки преодолел за одну поездку, м');"
   ]
  },
  {
   "cell_type": "code",
   "execution_count": 53,
   "id": "7e5e45b5",
   "metadata": {},
   "outputs": [
    {
     "data": {
      "text/plain": [
       "3045.495281671816"
      ]
     },
     "execution_count": 53,
     "metadata": {},
     "output_type": "execute_result"
    }
   ],
   "source": [
    "data_free.distance.mean()"
   ]
  },
  {
   "cell_type": "code",
   "execution_count": 54,
   "id": "beebed16",
   "metadata": {},
   "outputs": [
    {
     "name": "stdout",
     "output_type": "stream",
     "text": [
      "Средняя длина большей дистанции (от 1,5 км) для пользоваателей с подпиской: 3.3 км\n"
     ]
    },
    {
     "data": {
      "image/png": "[encoded data removed]",
      "text/plain": [
       "<Figure size 432x432 with 1 Axes>"
      ]
     },
     "metadata": {
      "needs_background": "light"
     },
     "output_type": "display_data"
    }
   ],
   "source": [
    "sns.displot(data=data_free.query('distance>1500'), x='distance',bins=80, height=6, kde=True);\n",
    "plt.title('Расстояние от 1,5км, которое пользователь с подпиской преодолел за одну поездку, м');\n",
    "print('Средняя длина большей дистанции (от 1,5 км) для пользоваателей с подпиской:', round(data_free.query('distance>1500')['distance'].median()/1000,1), 'км')"
   ]
  },
  {
   "cell_type": "code",
   "execution_count": 55,
   "id": "7965a5b3",
   "metadata": {},
   "outputs": [
    {
     "name": "stdout",
     "output_type": "stream",
     "text": [
      "Средняя длина малой дистанции (до 1,5 км) для пользоваателей без подписки: 0.6 км\n"
     ]
    },
    {
     "data": {
      "image/png": "[encoded data removed]",
      "text/plain": [
       "<Figure size 288x288 with 1 Axes>"
      ]
     },
     "metadata": {
      "needs_background": "light"
     },
     "output_type": "display_data"
    }
   ],
   "source": [
    "sns.displot(data=data_free.query('distance<1500'), x='distance',bins=30, height=4, kde=True);\n",
    "plt.title('Расстояние до 1,5км, которое пользователь без подписки преодолел за одну поездку, м');\n",
    "print('Средняя длина малой дистанции (до 1,5 км) для пользоваателей без подписки:', round(data_free.query('distance<1500')['distance'].median()/1000,1), 'км')"
   ]
  },
  {
   "cell_type": "markdown",
   "id": "b0237c82",
   "metadata": {},
   "source": [
    "**Пользователи без подписки** в среднем преодолевают 3,3км, также предпочитают небльшие дистанциии около 0,6км"
   ]
  },
  {
   "cell_type": "markdown",
   "id": "b8def97c",
   "metadata": {},
   "source": [
    "#### Анализ продолжительности поездок пользователей с подпиской"
   ]
  },
  {
   "cell_type": "code",
   "execution_count": 56,
   "id": "53abff84",
   "metadata": {},
   "outputs": [
    {
     "data": {
      "image/png": "[encoded data removed]",
      "text/plain": [
       "<Figure size 360x360 with 1 Axes>"
      ]
     },
     "metadata": {
      "needs_background": "light"
     },
     "output_type": "display_data"
    }
   ],
   "source": [
    "sns.displot(data=data_ultra, x='duration',bins=50, height=5, kde=True);\n",
    "plt.title('Продолжительность поездок пользователей с подпиской, мин');"
   ]
  },
  {
   "cell_type": "code",
   "execution_count": 57,
   "id": "5c7615ac",
   "metadata": {},
   "outputs": [
    {
     "name": "stdout",
     "output_type": "stream",
     "text": [
      "Средняя продолжительность поездок пользователей с подпиской: 18.2 мин\n"
     ]
    }
   ],
   "source": [
    "print(\"Средняя продолжительность поездок пользователей с подпиской:\", round(data_ultra['duration'].median(), 1), \"мин\")"
   ]
  },
  {
   "cell_type": "markdown",
   "id": "b710e480",
   "metadata": {},
   "source": [
    "#### Анализ продолжительности поездок пользователей без подписки"
   ]
  },
  {
   "cell_type": "code",
   "execution_count": 58,
   "id": "4727daca",
   "metadata": {},
   "outputs": [
    {
     "data": {
      "image/png": "[encoded data removed]",
      "text/plain": [
       "<Figure size 360x360 with 1 Axes>"
      ]
     },
     "metadata": {
      "needs_background": "light"
     },
     "output_type": "display_data"
    }
   ],
   "source": [
    "sns.displot(data=data_free, x='duration',bins=50, height=5, kde=True);\n",
    "plt.title('Продолжительность поездок пользовтелей без подписки, мин');"
   ]
  },
  {
   "cell_type": "code",
   "execution_count": 59,
   "id": "4ba9f03e",
   "metadata": {},
   "outputs": [
    {
     "name": "stdout",
     "output_type": "stream",
     "text": [
      "Средняя продолжительность поездок пользователей без подписки: 17.326890226082043 мин\n"
     ]
    }
   ],
   "source": [
    "print(\"Средняя продолжительность поездок пользователей без подписки:\", data_free['duration'].median(), \"мин\")"
   ]
  },
  {
   "cell_type": "markdown",
   "id": "87d7ed64",
   "metadata": {},
   "source": [
    "Ошибочно завершают поездки сразу после старта только пользователи без подписки"
   ]
  },
  {
   "cell_type": "code",
   "execution_count": 60,
   "id": "00f089a8",
   "metadata": {},
   "outputs": [
    {
     "name": "stdout",
     "output_type": "stream",
     "text": [
      "Средняя продолжительность поездок пользователей с подпиской на 0.05 % больше, чем для пользователей без подписки\n"
     ]
    }
   ],
   "source": [
    "print('Средняя продолжительность поездок пользователей с подпиской на', round(1-17.3/18.2, 2), '% больше, чем для пользователей без подписки')"
   ]
  },
  {
   "cell_type": "markdown",
   "id": "b245f46b",
   "metadata": {},
   "source": [
    "### Вывод"
   ]
  },
  {
   "cell_type": "code",
   "execution_count": 61,
   "id": "675899b3",
   "metadata": {},
   "outputs": [
    {
     "data": {
      "image/png": "[encoded data removed]",
      "text/plain": [
       "<Figure size 1080x360 with 1 Axes>"
      ]
     },
     "metadata": {
      "needs_background": "light"
     },
     "output_type": "display_data"
    }
   ],
   "source": [
    "plt.figure(figsize = (15, 5))\n",
    "data_free['duration'].hist(bins = 50, label = 'Free')\n",
    "data_ultra['duration'].hist(bins = 50, label = 'Ultra')\n",
    "plt.title('Сравнение длительностей поездок')\n",
    "plt.xlabel('Длительность, мин')\n",
    "plt.legend()\n",
    "plt.show()"
   ]
  },
  {
   "cell_type": "code",
   "execution_count": 62,
   "id": "a36d5e06",
   "metadata": {},
   "outputs": [
    {
     "data": {
      "image/png": "[encoded data removed]",
      "text/plain": [
       "<Figure size 1080x360 with 1 Axes>"
      ]
     },
     "metadata": {
      "needs_background": "light"
     },
     "output_type": "display_data"
    }
   ],
   "source": [
    "plt.figure(figsize = (15, 5))\n",
    "data_free['distance'].hist(bins = 50, label = 'Free')\n",
    "data_ultra['distance'].hist(bins = 50, label = 'Ultra')\n",
    "plt.title('Сравнение пройденного расстояния ')\n",
    "plt.xlabel('Расстояние, м')\n",
    "plt.legend()\n",
    "plt.show()"
   ]
  },
  {
   "cell_type": "markdown",
   "id": "c417a0c0",
   "metadata": {},
   "source": [
    "**1)** Данные о пользователях, поездках и подписках объеденены в один датафрейм\n",
    "\n",
    "**2)** Созданы отдельные датафреймы с данными о пользователях с подпиской и без подписки\n",
    "\n",
    "**3)** Визуализирована информации о расстоянии и времени поездок для пользователей обеих категорий:\n",
    "   \n",
    "   **Пользователи с подпиской** В среднем преодолевают дистанцию в 3,12 км. Предпочитают длительные поездки в 3,3км, в меньшей степени - короткие дистанции в 0,99км и длинные - в 4км. Средняя продолжительность поездок: 18.2 мин;\n",
    "       \n",
    "   **Пользователи без подписки** В среднем преодолевают дистанцию в 3,05 км. Предпочитают длительные поездки 3,3км, также предпочитают небольшие дистанциии около 0,6км. Средняя продолжительность поездок: 17.3 мин."
   ]
  },
  {
   "cell_type": "markdown",
   "id": "781a10dd",
   "metadata": {},
   "source": [
    "Средняя продолжительность поездок пользователей с подпиской на 0.05 % больше, чем для пользователей без подписки"
   ]
  },
  {
   "cell_type": "markdown",
   "id": "402d620f",
   "metadata": {},
   "source": [
    "## Подсчёт выручки"
   ]
  },
  {
   "cell_type": "markdown",
   "id": "11caae70",
   "metadata": {},
   "source": [
    "### Создание датафрейма с агрегированными данными о поездках \n",
    "\n",
    "Новый датафрейм **data_gain** на основе датафрейма с объединёнными данными: суммарное расстояние, количество поездок и суммарное время для каждого пользователя за каждый месяц"
   ]
  },
  {
   "cell_type": "code",
   "execution_count": 64,
   "id": "32df6043",
   "metadata": {},
   "outputs": [
    {
     "data": {
      "text/html": [
       "<div>\n",
       "<style scoped>\n",
       "    .dataframe tbody tr th:only-of-type {\n",
       "        vertical-align: middle;\n",
       "    }\n",
       "\n",
       "    .dataframe tbody tr th {\n",
       "        vertical-align: top;\n",
       "    }\n",
       "\n",
       "    .dataframe thead th {\n",
       "        text-align: right;\n",
       "    }\n",
       "</style>\n",
       "<table border=\"1\" class=\"dataframe\">\n",
       "  <thead>\n",
       "    <tr style=\"text-align: right;\">\n",
       "      <th></th>\n",
       "      <th>user_id</th>\n",
       "      <th>distance</th>\n",
       "      <th>duration</th>\n",
       "      <th>date</th>\n",
       "      <th>month</th>\n",
       "      <th>name</th>\n",
       "      <th>age</th>\n",
       "      <th>city</th>\n",
       "      <th>subscription_type</th>\n",
       "    </tr>\n",
       "  </thead>\n",
       "  <tbody>\n",
       "    <tr>\n",
       "      <th>0</th>\n",
       "      <td>1</td>\n",
       "      <td>4409.919140</td>\n",
       "      <td>25.599769</td>\n",
       "      <td>2021-01-01</td>\n",
       "      <td>1</td>\n",
       "      <td>Кира</td>\n",
       "      <td>22</td>\n",
       "      <td>Тюмень</td>\n",
       "      <td>ultra</td>\n",
       "    </tr>\n",
       "    <tr>\n",
       "      <th>1</th>\n",
       "      <td>1</td>\n",
       "      <td>2617.592153</td>\n",
       "      <td>15.816871</td>\n",
       "      <td>2021-01-18</td>\n",
       "      <td>1</td>\n",
       "      <td>Кира</td>\n",
       "      <td>22</td>\n",
       "      <td>Тюмень</td>\n",
       "      <td>ultra</td>\n",
       "    </tr>\n",
       "    <tr>\n",
       "      <th>2</th>\n",
       "      <td>1</td>\n",
       "      <td>754.159807</td>\n",
       "      <td>6.232113</td>\n",
       "      <td>2021-04-20</td>\n",
       "      <td>4</td>\n",
       "      <td>Кира</td>\n",
       "      <td>22</td>\n",
       "      <td>Тюмень</td>\n",
       "      <td>ultra</td>\n",
       "    </tr>\n",
       "  </tbody>\n",
       "</table>\n",
       "</div>"
      ],
      "text/plain": [
       "   user_id     distance   duration       date  month  name  age    city  \\\n",
       "0        1  4409.919140  25.599769 2021-01-01      1  Кира   22  Тюмень   \n",
       "1        1  2617.592153  15.816871 2021-01-18      1  Кира   22  Тюмень   \n",
       "2        1   754.159807   6.232113 2021-04-20      4  Кира   22  Тюмень   \n",
       "\n",
       "  subscription_type  \n",
       "0             ultra  \n",
       "1             ultra  \n",
       "2             ultra  "
      ]
     },
     "execution_count": 64,
     "metadata": {},
     "output_type": "execute_result"
    }
   ],
   "source": [
    "data.head(3) #вывод первых трек строк датафрейма с объединёнными данными"
   ]
  },
  {
   "cell_type": "code",
   "execution_count": 65,
   "id": "2c8c368d",
   "metadata": {},
   "outputs": [],
   "source": [
    "# каждое значение из столбца duration округляется с помощью «потолка»:\n",
    "\n",
    "data['duration'] = np.ceil(data['duration'])"
   ]
  },
  {
   "cell_type": "code",
   "execution_count": 66,
   "id": "596f8268",
   "metadata": {},
   "outputs": [],
   "source": [
    "#data.head(3) #проверка округления "
   ]
  },
  {
   "cell_type": "code",
   "execution_count": 67,
   "id": "53049e0a",
   "metadata": {},
   "outputs": [
    {
     "data": {
      "text/html": [
       "<div>\n",
       "<style scoped>\n",
       "    .dataframe tbody tr th:only-of-type {\n",
       "        vertical-align: middle;\n",
       "    }\n",
       "\n",
       "    .dataframe tbody tr th {\n",
       "        vertical-align: top;\n",
       "    }\n",
       "\n",
       "    .dataframe thead th {\n",
       "        text-align: right;\n",
       "    }\n",
       "</style>\n",
       "<table border=\"1\" class=\"dataframe\">\n",
       "  <thead>\n",
       "    <tr style=\"text-align: right;\">\n",
       "      <th></th>\n",
       "      <th>user_id</th>\n",
       "      <th>month</th>\n",
       "      <th>subscription_type</th>\n",
       "      <th>date</th>\n",
       "      <th>distance</th>\n",
       "      <th>duration</th>\n",
       "    </tr>\n",
       "  </thead>\n",
       "  <tbody>\n",
       "    <tr>\n",
       "      <th>0</th>\n",
       "      <td>1</td>\n",
       "      <td>1</td>\n",
       "      <td>ultra</td>\n",
       "      <td>2</td>\n",
       "      <td>7027.511294</td>\n",
       "      <td>42.0</td>\n",
       "    </tr>\n",
       "    <tr>\n",
       "      <th>1</th>\n",
       "      <td>1</td>\n",
       "      <td>4</td>\n",
       "      <td>ultra</td>\n",
       "      <td>1</td>\n",
       "      <td>754.159807</td>\n",
       "      <td>7.0</td>\n",
       "    </tr>\n",
       "    <tr>\n",
       "      <th>2</th>\n",
       "      <td>1</td>\n",
       "      <td>8</td>\n",
       "      <td>ultra</td>\n",
       "      <td>2</td>\n",
       "      <td>6723.470560</td>\n",
       "      <td>46.0</td>\n",
       "    </tr>\n",
       "  </tbody>\n",
       "</table>\n",
       "</div>"
      ],
      "text/plain": [
       "   user_id  month subscription_type  date     distance  duration\n",
       "0        1      1             ultra     2  7027.511294      42.0\n",
       "1        1      4             ultra     1   754.159807       7.0\n",
       "2        1      8             ultra     2  6723.470560      46.0"
      ]
     },
     "execution_count": 67,
     "metadata": {},
     "output_type": "execute_result"
    }
   ],
   "source": [
    "# создание датафрейма с агрегированными данными о поездках\n",
    "\n",
    "data_gain = data.groupby(['user_id','month','subscription_type']) \\\n",
    "            .agg({'date': 'count',\n",
    "                  'distance': 'sum',\n",
    "                  'duration': 'sum',\n",
    "                 }).reset_index()\n",
    "\n",
    "#вывод первых трек строк датафрейма с агрегированными данными о поездках\n",
    "data_gain.head(3) "
   ]
  },
  {
   "cell_type": "markdown",
   "id": "2f5cb6d0",
   "metadata": {},
   "source": [
    "Столбец **date** теперь содержат данные о количестве поездок, совершенных пользователем за месяц"
   ]
  },
  {
   "cell_type": "markdown",
   "id": "96d21551",
   "metadata": {},
   "source": [
    "### Добавление столбцов с помесячной выручкой, которую принёс каждый пользователь в датафрейм **data_gain** с агрегированными данными о поездках\n",
    "\n",
    "Учтена информация об условиях оплаты для подписчиков и тех у кого нет подписки (датафрейм subscriptions, см. 1.3.3). Продолжительность каждой поездки в каждой строке исходного датафрейма для подсчёта стоимости округляется до следующего целого числа "
   ]
  },
  {
   "cell_type": "code",
   "execution_count": 68,
   "id": "8cd4794a",
   "metadata": {},
   "outputs": [
    {
     "data": {
      "text/html": [
       "<div>\n",
       "<style scoped>\n",
       "    .dataframe tbody tr th:only-of-type {\n",
       "        vertical-align: middle;\n",
       "    }\n",
       "\n",
       "    .dataframe tbody tr th {\n",
       "        vertical-align: top;\n",
       "    }\n",
       "\n",
       "    .dataframe thead th {\n",
       "        text-align: right;\n",
       "    }\n",
       "</style>\n",
       "<table border=\"1\" class=\"dataframe\">\n",
       "  <thead>\n",
       "    <tr style=\"text-align: right;\">\n",
       "      <th></th>\n",
       "      <th>subscription_type</th>\n",
       "      <th>minute_price</th>\n",
       "      <th>start_ride_price</th>\n",
       "      <th>subscription_fee</th>\n",
       "    </tr>\n",
       "  </thead>\n",
       "  <tbody>\n",
       "    <tr>\n",
       "      <th>0</th>\n",
       "      <td>free</td>\n",
       "      <td>8</td>\n",
       "      <td>50</td>\n",
       "      <td>0</td>\n",
       "    </tr>\n",
       "    <tr>\n",
       "      <th>1</th>\n",
       "      <td>ultra</td>\n",
       "      <td>6</td>\n",
       "      <td>0</td>\n",
       "      <td>199</td>\n",
       "    </tr>\n",
       "  </tbody>\n",
       "</table>\n",
       "</div>"
      ],
      "text/plain": [
       "  subscription_type  minute_price  start_ride_price  subscription_fee\n",
       "0              free             8                50                 0\n",
       "1             ultra             6                 0               199"
      ]
     },
     "execution_count": 68,
     "metadata": {},
     "output_type": "execute_result"
    }
   ],
   "source": [
    "# датафрейм с информацией об условиях оплаты для подписчиков:\n",
    "\n",
    "subscriptions.head() "
   ]
  },
  {
   "cell_type": "code",
   "execution_count": 69,
   "id": "326058a4",
   "metadata": {},
   "outputs": [],
   "source": [
    "data_gain['gain'] = data_gain['duration']*8+data_gain['date']*50\n",
    "data_gain.loc[data_gain['subscription_type'] == 'ultra','gain'] = data_gain['duration']*6+199"
   ]
  },
  {
   "cell_type": "code",
   "execution_count": 70,
   "id": "7d80399b",
   "metadata": {},
   "outputs": [
    {
     "data": {
      "text/html": [
       "<div>\n",
       "<style scoped>\n",
       "    .dataframe tbody tr th:only-of-type {\n",
       "        vertical-align: middle;\n",
       "    }\n",
       "\n",
       "    .dataframe tbody tr th {\n",
       "        vertical-align: top;\n",
       "    }\n",
       "\n",
       "    .dataframe thead th {\n",
       "        text-align: right;\n",
       "    }\n",
       "</style>\n",
       "<table border=\"1\" class=\"dataframe\">\n",
       "  <thead>\n",
       "    <tr style=\"text-align: right;\">\n",
       "      <th></th>\n",
       "      <th>user_id</th>\n",
       "      <th>month</th>\n",
       "      <th>subscription_type</th>\n",
       "      <th>date</th>\n",
       "      <th>distance</th>\n",
       "      <th>duration</th>\n",
       "      <th>gain</th>\n",
       "    </tr>\n",
       "  </thead>\n",
       "  <tbody>\n",
       "    <tr>\n",
       "      <th>0</th>\n",
       "      <td>1</td>\n",
       "      <td>1</td>\n",
       "      <td>ultra</td>\n",
       "      <td>2</td>\n",
       "      <td>7027.511294</td>\n",
       "      <td>42.0</td>\n",
       "      <td>451.0</td>\n",
       "    </tr>\n",
       "    <tr>\n",
       "      <th>1</th>\n",
       "      <td>1</td>\n",
       "      <td>4</td>\n",
       "      <td>ultra</td>\n",
       "      <td>1</td>\n",
       "      <td>754.159807</td>\n",
       "      <td>7.0</td>\n",
       "      <td>241.0</td>\n",
       "    </tr>\n",
       "    <tr>\n",
       "      <th>2</th>\n",
       "      <td>1</td>\n",
       "      <td>8</td>\n",
       "      <td>ultra</td>\n",
       "      <td>2</td>\n",
       "      <td>6723.470560</td>\n",
       "      <td>46.0</td>\n",
       "      <td>475.0</td>\n",
       "    </tr>\n",
       "    <tr>\n",
       "      <th>3</th>\n",
       "      <td>1</td>\n",
       "      <td>10</td>\n",
       "      <td>ultra</td>\n",
       "      <td>2</td>\n",
       "      <td>5809.911100</td>\n",
       "      <td>32.0</td>\n",
       "      <td>391.0</td>\n",
       "    </tr>\n",
       "    <tr>\n",
       "      <th>4</th>\n",
       "      <td>1</td>\n",
       "      <td>11</td>\n",
       "      <td>ultra</td>\n",
       "      <td>3</td>\n",
       "      <td>7003.499363</td>\n",
       "      <td>56.0</td>\n",
       "      <td>535.0</td>\n",
       "    </tr>\n",
       "    <tr>\n",
       "      <th>5</th>\n",
       "      <td>1</td>\n",
       "      <td>12</td>\n",
       "      <td>ultra</td>\n",
       "      <td>2</td>\n",
       "      <td>6751.629942</td>\n",
       "      <td>28.0</td>\n",
       "      <td>367.0</td>\n",
       "    </tr>\n",
       "    <tr>\n",
       "      <th>6</th>\n",
       "      <td>2</td>\n",
       "      <td>3</td>\n",
       "      <td>ultra</td>\n",
       "      <td>3</td>\n",
       "      <td>10187.723006</td>\n",
       "      <td>63.0</td>\n",
       "      <td>577.0</td>\n",
       "    </tr>\n",
       "  </tbody>\n",
       "</table>\n",
       "</div>"
      ],
      "text/plain": [
       "   user_id  month subscription_type  date      distance  duration   gain\n",
       "0        1      1             ultra     2   7027.511294      42.0  451.0\n",
       "1        1      4             ultra     1    754.159807       7.0  241.0\n",
       "2        1      8             ultra     2   6723.470560      46.0  475.0\n",
       "3        1     10             ultra     2   5809.911100      32.0  391.0\n",
       "4        1     11             ultra     3   7003.499363      56.0  535.0\n",
       "5        1     12             ultra     2   6751.629942      28.0  367.0\n",
       "6        2      3             ultra     3  10187.723006      63.0  577.0"
      ]
     },
     "execution_count": 70,
     "metadata": {},
     "output_type": "execute_result"
    }
   ],
   "source": [
    "data_gain.head(7) #вывод первых семи строк датафрейма с агрегированными данными о поездках"
   ]
  },
  {
   "cell_type": "code",
   "execution_count": 71,
   "id": "956723fb",
   "metadata": {},
   "outputs": [
    {
     "data": {
      "text/html": [
       "<div>\n",
       "<style scoped>\n",
       "    .dataframe tbody tr th:only-of-type {\n",
       "        vertical-align: middle;\n",
       "    }\n",
       "\n",
       "    .dataframe tbody tr th {\n",
       "        vertical-align: top;\n",
       "    }\n",
       "\n",
       "    .dataframe thead th {\n",
       "        text-align: right;\n",
       "    }\n",
       "</style>\n",
       "<table border=\"1\" class=\"dataframe\">\n",
       "  <thead>\n",
       "    <tr style=\"text-align: right;\">\n",
       "      <th></th>\n",
       "      <th>user_id</th>\n",
       "      <th>month</th>\n",
       "      <th>subscription_type</th>\n",
       "      <th>date</th>\n",
       "      <th>distance</th>\n",
       "      <th>duration</th>\n",
       "      <th>gain</th>\n",
       "    </tr>\n",
       "  </thead>\n",
       "  <tbody>\n",
       "    <tr>\n",
       "      <th>11324</th>\n",
       "      <td>1534</td>\n",
       "      <td>2</td>\n",
       "      <td>free</td>\n",
       "      <td>1</td>\n",
       "      <td>2103.914120</td>\n",
       "      <td>14.0</td>\n",
       "      <td>162.0</td>\n",
       "    </tr>\n",
       "    <tr>\n",
       "      <th>11325</th>\n",
       "      <td>1534</td>\n",
       "      <td>4</td>\n",
       "      <td>free</td>\n",
       "      <td>1</td>\n",
       "      <td>3434.290912</td>\n",
       "      <td>15.0</td>\n",
       "      <td>170.0</td>\n",
       "    </tr>\n",
       "    <tr>\n",
       "      <th>11326</th>\n",
       "      <td>1534</td>\n",
       "      <td>6</td>\n",
       "      <td>free</td>\n",
       "      <td>2</td>\n",
       "      <td>3409.468534</td>\n",
       "      <td>26.0</td>\n",
       "      <td>308.0</td>\n",
       "    </tr>\n",
       "    <tr>\n",
       "      <th>11327</th>\n",
       "      <td>1534</td>\n",
       "      <td>8</td>\n",
       "      <td>free</td>\n",
       "      <td>2</td>\n",
       "      <td>7622.453034</td>\n",
       "      <td>48.0</td>\n",
       "      <td>484.0</td>\n",
       "    </tr>\n",
       "    <tr>\n",
       "      <th>11328</th>\n",
       "      <td>1534</td>\n",
       "      <td>9</td>\n",
       "      <td>free</td>\n",
       "      <td>1</td>\n",
       "      <td>4928.173852</td>\n",
       "      <td>23.0</td>\n",
       "      <td>234.0</td>\n",
       "    </tr>\n",
       "    <tr>\n",
       "      <th>11329</th>\n",
       "      <td>1534</td>\n",
       "      <td>11</td>\n",
       "      <td>free</td>\n",
       "      <td>4</td>\n",
       "      <td>13350.015305</td>\n",
       "      <td>78.0</td>\n",
       "      <td>824.0</td>\n",
       "    </tr>\n",
       "    <tr>\n",
       "      <th>11330</th>\n",
       "      <td>1534</td>\n",
       "      <td>12</td>\n",
       "      <td>free</td>\n",
       "      <td>1</td>\n",
       "      <td>2371.711192</td>\n",
       "      <td>16.0</td>\n",
       "      <td>178.0</td>\n",
       "    </tr>\n",
       "  </tbody>\n",
       "</table>\n",
       "</div>"
      ],
      "text/plain": [
       "       user_id  month subscription_type  date      distance  duration   gain\n",
       "11324     1534      2              free     1   2103.914120      14.0  162.0\n",
       "11325     1534      4              free     1   3434.290912      15.0  170.0\n",
       "11326     1534      6              free     2   3409.468534      26.0  308.0\n",
       "11327     1534      8              free     2   7622.453034      48.0  484.0\n",
       "11328     1534      9              free     1   4928.173852      23.0  234.0\n",
       "11329     1534     11              free     4  13350.015305      78.0  824.0\n",
       "11330     1534     12              free     1   2371.711192      16.0  178.0"
      ]
     },
     "execution_count": 71,
     "metadata": {},
     "output_type": "execute_result"
    }
   ],
   "source": [
    "data_gain.tail(7) #вывод последних семи строк датафрейма с агрегированными данными о поездках"
   ]
  },
  {
   "cell_type": "markdown",
   "id": "86202154",
   "metadata": {},
   "source": [
    "Новый столбец **gain** - столбец с помесячной выручкой, которую принёс пользователь"
   ]
  },
  {
   "cell_type": "markdown",
   "id": "65e71ad2",
   "metadata": {},
   "source": [
    "Создан датафрейм **data_gain** с агрегированными данными о поездках на основе датафрейма с объединёнными данными.\n",
    "В этот же датафрейм добавлен столбец **gain** с помесячной выручкой, которую принёс каждый пользователь. Продолжительность каждой поездки в каждой строке исходного датафрейма для подсчёта стоимости округляется до следующего целого числа."
   ]
  },
  {
   "cell_type": "code",
   "execution_count": 72,
   "id": "f8b9957a",
   "metadata": {},
   "outputs": [
    {
     "data": {
      "text/plain": [
       "subscription_type\n",
       "free     328.641365\n",
       "ultra    362.792191\n",
       "Name: gain, dtype: float64"
      ]
     },
     "execution_count": 72,
     "metadata": {},
     "output_type": "execute_result"
    }
   ],
   "source": [
    "# Код ревьюера\n",
    "data_gain.groupby('subscription_type')['gain'].mean()"
   ]
  },
  {
   "cell_type": "markdown",
   "id": "41545ac0",
   "metadata": {},
   "source": [
    "## Проверка гипотез"
   ]
  },
  {
   "cell_type": "markdown",
   "id": "2937da85",
   "metadata": {},
   "source": [
    "### Важно понять, тратят ли пользователи с подпиской больше времени на поездки? "
   ]
  },
  {
   "cell_type": "markdown",
   "id": "ae8db966",
   "metadata": {},
   "source": [
    "- **Нулевая гипотеза**: Среднее время поездки пользователей с подпиской и без равны\n",
    "\n",
    "  **Альтернативная гипотеза**: Пользователи с подпиской тратят больше времени на поездки.\n",
    "  \n",
    "   \n",
    "- **Выборки**:\n",
    "  - Время, которое тратит на поездки пользователи с подпиской **ultra_duration_total**\n",
    "  - Время, которое тратят на поездки пользователи без подписки **free_duration_total**"
   ]
  },
  {
   "cell_type": "code",
   "execution_count": 73,
   "id": "ae14693a",
   "metadata": {},
   "outputs": [
    {
     "name": "stdout",
     "output_type": "stream",
     "text": [
      "p-value: 1.2804098316645618e-34\n",
      "Отвергаем нулевую гипотезу\n"
     ]
    }
   ],
   "source": [
    "# уровень значимости\n",
    "alpha = 0.05\n",
    "\n",
    "# продолжительность поездки пользователей с подпиской\n",
    "ultra_duration_total = data_ultra['duration']\n",
    "\n",
    "# продолжительность поездки пользователей без подпиской\n",
    "free_duration_total = data_free['duration']\n",
    "\n",
    "# проводим ttest для двух выборок, в качестве альтернативной используем одностороннюю гипотезу \"меньше\"\n",
    "results = st.ttest_ind(ultra_duration_total, free_duration_total, alternative='greater')\n",
    "\n",
    "print(f'p-value: {results.pvalue}')\n",
    "\n",
    "# проверяем p-value\n",
    "if results.pvalue < alpha:\n",
    "    print('Отвергаем нулевую гипотезу')\n",
    "else:\n",
    "    print('Нет оснований отвергнуть нулевую гипотезу')"
   ]
  },
  {
   "cell_type": "markdown",
   "id": "2bd49695",
   "metadata": {},
   "source": [
    "Также согласно выводу п.4.5:\n",
    "\n",
    "Средняя продолжительность поездок:\n",
    "\n",
    "пользователей с подпиской: 18.2 мин;\n",
    "пользователей без подписки: 17.3 мин\n",
    "\n",
    "Продолжительность поездок пользователей с подпиской на 0.05 % больше, чем для пользователей без подписки"
   ]
  },
  {
   "cell_type": "markdown",
   "id": "e0212782",
   "metadata": {},
   "source": [
    "#### Вывод "
   ]
  },
  {
   "cell_type": "markdown",
   "id": "241b0a76",
   "metadata": {},
   "source": [
    "При проверки гипотезы полученное значение p-value меньше заданного уровня значимости, поэтому нулевая гипотеза о том, что среднее время поездки пользователей с подпиской и без равны - отвергнута. Есть основания говорить, что пользователи с подпиской тратят больше времени на поездки.\n",
    "Можно предположить, что пользователи с подпиской могут быть «выгоднее» для компании."
   ]
  },
  {
   "cell_type": "markdown",
   "id": "cfa1f677",
   "metadata": {},
   "source": [
    "### Проверьте гипотезу о том, будет ли помесячная выручка от пользователей с подпиской по месяцам выше, чем выручка от пользователей без подписки. Сделайте вывод"
   ]
  },
  {
   "cell_type": "markdown",
   "id": "03e3a113",
   "metadata": {},
   "source": [
    "- **Нулевая гипотеза**: Средняя помесячная выручка от пользователей с подпиской и без равны\n",
    "\n",
    "  **Альтернативная гипотеза**: Средняя помесячная выручка от пользователей с подпиской больше, чем выручка от пользователей без подписки.\n",
    "  \n",
    "   \n",
    "- **Выборки**:\n",
    "  - Помесячная выручка от пользователей с подпиской **ultra_gain_total**\n",
    "  - Помесячная выручка от пользователей без подписки **free_gain_total**"
   ]
  },
  {
   "cell_type": "code",
   "execution_count": 74,
   "id": "ce5fcc8c",
   "metadata": {},
   "outputs": [
    {
     "name": "stdout",
     "output_type": "stream",
     "text": [
      "p-value: 1.8850394384715216e-31\n",
      "Отвергаем нулевую гипотезу\n"
     ]
    }
   ],
   "source": [
    "# уровень значимости\n",
    "alpha = 0.05\n",
    "\n",
    "# помесячная выручка от пользователей с подпиской\n",
    "ultra_gain_total = data_gain.query('subscription_type == \"ultra\"')['gain']\n",
    "\n",
    "# помесячная выручка от пользователей без подписки\n",
    "free_gain_total = data_gain.query('subscription_type == \"free\"')['gain']\n",
    "\n",
    "# проводим ttest для двух выборок, в качестве альтернативной используем одностороннюю гипотезу \"меньше\"\n",
    "results = st.ttest_ind(ultra_gain_total, free_gain_total, alternative='greater')\n",
    "\n",
    "print(f'p-value: {results.pvalue}')\n",
    "\n",
    "# проверяем p-value\n",
    "if results.pvalue < alpha:\n",
    "    print('Отвергаем нулевую гипотезу')\n",
    "else:\n",
    "    print('Нет оснований отвергнуть нулевую гипотезу')"
   ]
  },
  {
   "cell_type": "code",
   "execution_count": 75,
   "id": "72ebf4e4",
   "metadata": {},
   "outputs": [
    {
     "name": "stdout",
     "output_type": "stream",
     "text": [
      "Среднее количество поездок в месяц для пользователей без подписки: 1.7\n",
      "Среднее количество поездок в месяц для пользователей c подпиской: 1.43\n"
     ]
    }
   ],
   "source": [
    "print('Среднее количество поездок в месяц для пользователей без подписки:', round(data_gain.query('subscription_type == \"free\"')['date'].mean(),2))\n",
    "print('Среднее количество поездок в месяц для пользователей c подпиской:', round(data_gain.query('subscription_type == \"ultra\"')['date'].mean(),2))"
   ]
  },
  {
   "cell_type": "code",
   "execution_count": 76,
   "id": "d254c10f",
   "metadata": {},
   "outputs": [
    {
     "data": {
      "text/plain": [
       "subscription_type\n",
       "free     328.641365\n",
       "ultra    362.792191\n",
       "Name: gain, dtype: float64"
      ]
     },
     "execution_count": 76,
     "metadata": {},
     "output_type": "execute_result"
    }
   ],
   "source": [
    "#Средняя выручка в месяц за одного пользователя c подпиской  и без\n",
    "\n",
    "data_gain.groupby('subscription_type')['gain'].mean()"
   ]
  },
  {
   "cell_type": "code",
   "execution_count": 77,
   "id": "23886f3a",
   "metadata": {},
   "outputs": [
    {
     "name": "stdout",
     "output_type": "stream",
     "text": [
      "Средняя выручка в месяц за одного пользователя с подпиской на 0.09 % больше, чем для пользователей без подписки\n"
     ]
    }
   ],
   "source": [
    "print('Средняя выручка в месяц за одного пользователя с подпиской на', round(1-328.6/362.8, 2), '% больше, чем для пользователей без подписки')"
   ]
  },
  {
   "cell_type": "markdown",
   "id": "899c65da",
   "metadata": {},
   "source": [
    "Даже с учетом, что в среднем пользователи без подписки чаще совершают поездки в течение месяца (1,7 поездки и 1,4 соответственно), **средняя месячная выручка для пользователя с подпиской на 0,09% выше выручки пользователя без подписки**"
   ]
  },
  {
   "cell_type": "markdown",
   "id": "2bd2f2bf",
   "metadata": {},
   "source": [
    "#### Вывод "
   ]
  },
  {
   "cell_type": "markdown",
   "id": "b88ad336",
   "metadata": {},
   "source": [
    "При проверки гипотезы полученное значение p-value меньше заданного уровня значимости, поэтому нулевая гипотеза о том, что средняя выручка пользователей с подпиской и без равны - отвергнута. Есть основания говорить, что помесячная выручка от пользователей с подпиской по месяцам выше, чем выручка от пользователей без подписки.\n",
    "Можно предположить, что пользователи с подпиской могут быть «выгоднее» для компании.\n",
    "\n",
    "Также если анализировать выборку, можно сказать, что даже с учетом, что в среднем пользователи без подписки чаще совершают поездки в течение месяца (1,7 поездки и 1,4 соответственно), средняя месячная выручка для пользователя с подпиской на 0,09% выше выручки пользователя без подписки"
   ]
  },
  {
   "cell_type": "markdown",
   "id": "00de82af",
   "metadata": {},
   "source": [
    "### Расстояние одной поездки в 3130 метров — оптимальное с точки зрения износа самоката. Можно ли сказать, что расстояние, которое проезжают пользователи с подпиской за одну поездку, не превышает 3130 метров? Проверьте гипотезу и сделайте выводы"
   ]
  },
  {
   "cell_type": "markdown",
   "id": "024e7b9c",
   "metadata": {},
   "source": [
    "Нулевая гипотеза: среднее количество просмотренных блоков после изменения дизайна осталось прежним.\n",
    "Альтернативная гипотеза: среднее количество просмотренных блоков после изменения дизайна уменьшилось.\n",
    "\n",
    "\n",
    "- **Нулевая гипотеза**: Среднее расстояние, которое проезжает пользователь с подпиской оптимально с точки зрения исноса самоката и равно 3130 м\n",
    "\n",
    "  **Альтернативная гипотеза**: Среднее расстояние, которое проезжает пользователь с подпиской больше 3130 м\n",
    "  \n",
    "   \n",
    "- **Выборка**: расстояние, которое проезжают пользователи с подпиской **ultra_distance_total**"
   ]
  },
  {
   "cell_type": "code",
   "execution_count": 78,
   "id": "f870ecf1",
   "metadata": {},
   "outputs": [
    {
     "name": "stdout",
     "output_type": "stream",
     "text": [
      "p-значение: 0.9195368847849785\n",
      "Не отвергаем нулевую гипотезу\n"
     ]
    }
   ],
   "source": [
    "ultra_distance_total = data_ultra['distance']\n",
    "\n",
    "optimal_value = 3130\n",
    "\n",
    "alpha = 0.05 # уровень статистической значимости\n",
    "\n",
    "results = st.ttest_1samp(\n",
    "    ultra_distance_total, \n",
    "    optimal_value,\n",
    "      alternative='greater')\n",
    "\n",
    "print('p-значение:', results.pvalue)\n",
    "\n",
    "if (results.pvalue < alpha):\n",
    "    print('Отвергаем нулевую гипотезу')\n",
    "else:\n",
    "    print('Не отвергаем нулевую гипотезу') "
   ]
  },
  {
   "cell_type": "markdown",
   "id": "5e3131e1",
   "metadata": {},
   "source": [
    "Согласно выводу п.4.5:\n",
    "\n",
    "**Пользователи с подпиской** В среднем преодолевают дистанцию в 3,12 км. Часто предпочитают длительные поездки в 3,3км, в меньшей степени - короткие дистанции в 0,99км и длинные - в 4км;\n",
    "       \n",
    "**Пользователи без подписки** В среднем преодолевают дистанцию в 3,05 км. Часто предпочитают длительные поездки 3,3км, также предпочитают небольшие дистанциии около 0,6км.\n",
    "\n",
    "Пользователи с подпиской, в среднем, преодолевают расстояние равное оптимальному (3.12км) с точки зрения износа. "
   ]
  },
  {
   "cell_type": "markdown",
   "id": "f66c87c1",
   "metadata": {},
   "source": [
    "#### Вывод"
   ]
  },
  {
   "cell_type": "markdown",
   "id": "a0b10801",
   "metadata": {},
   "source": [
    "При проверки гипотезы полученное значение p-value в пределах заданного уровня значимости. Есть основания говорить, что среднее расстояние, преодолеваемое пользователями с подпиской, равно оптимальному с точки зрения износа. \n",
    "\n",
    "Анализ выборки также указывает на то, что среднее расстояние пользователей с подпиской равно оптимальному. "
   ]
  },
  {
   "cell_type": "markdown",
   "id": "41e1bcac",
   "metadata": {},
   "source": [
    "### Представьте такую ситуацию: техническая команда сервиса обновила сервера, с которыми взаимодействует мобильное приложение. Она надеется, что из-за этого количество обращений в техподдержку значимо снизилось. Некоторый файл содержит для каждого пользователя данные о количестве обращений до обновления и после него. Какой тест вам понадобился бы для проверки этой гипотезы?"
   ]
  },
  {
   "cell_type": "markdown",
   "id": "02198411",
   "metadata": {},
   "source": [
    "Гипотезы в таком случае будут сформулированы так:\n",
    " - Количество обращений в тех.поддержку не изменилось после обновления серверов (μ1 = μ2)\n",
    " - Количество обращений в тех.поддержку изменилось после обновления серверов  (μ1 != μ2)\n",
    " \n",
    " ,\n",
    "где μ1 и μ2  — средние значения до и после изменения.\n",
    "\n",
    "Выборки будут парными. Данные о пользователях измеряются дважды — до и после обновление серверов.\n",
    "Чтобы проверить гипотезу о равенстве средних двух генеральных совокупностей для зависимых выборок в Python, используется метод scipy.stats.ttest_rel().\n",
    "Небходимо передать два параметра: наборы данных до и после. Оба набора должны быть одинаковыми по размеру: каждое измерение должно быть проведено до и после изменения. Гипотеза двусторонняя "
   ]
  },
  {
   "cell_type": "markdown",
   "id": "3f58ab6e",
   "metadata": {},
   "source": [
    "### Вывод по проверке гипотез"
   ]
  },
  {
   "cell_type": "markdown",
   "id": "b7e28749",
   "metadata": {},
   "source": [
    "1) Есть основания говорить, что пользователи с подпиской тратят больше времени на поездки.\n",
    "   \n",
    "   \n",
    "2) Есть основания говорить, что помесячная выручка от пользователей с подпиской по месяцам выше, чем выручка от пользователей без подписки.\n",
    "\n",
    "При анализе выборки сделаны следующие выводы: \n",
    "  - продолжительность поездок пользователей с подпиской на 0.05 % больше, чем для пользователей без подписки;\n",
    "  - средняя месячная выручка для пользователя без подписки на 0,24% выше выручки пользователя с подпиской\n",
    "\n",
    "\n",
    "Можно предположить, что пользователи с подпиской могут быть «выгоднее» для компании. \n",
    "\n",
    "3) Есть основания говорить, что среднее расстояние, преодолеваемое пользователями с подпиской, равно оптимальному с точки зрения износа."
   ]
  },
  {
   "cell_type": "markdown",
   "id": "02dcf805",
   "metadata": {},
   "source": [
    "## Общий вывод "
   ]
  },
  {
   "cell_type": "markdown",
   "id": "19ff88ff",
   "metadata": {},
   "source": [
    "**1.** Для анализа сервиса аренды самокатов GoFast были загружены данные о пользователях, их поездках и подписках: users_go.csv, rides_go.csv, subscriptions_go.csv\n",
    "\n",
    "\n",
    "**2.** Предобработка данных включала в себя следующее:  \n",
    "\n",
    "**В датафрейме rides**: столбец date преобразован в формат datetime, добавлен новый столбец с номером месяца.\n",
    "        \n",
    "**В датафрейме users**: были найдены и удалены дублирующие строки.    \n",
    "                        \n",
    "**3.** Выводы по исследовательскому анализу данных:\n",
    "\n",
    "3.1) Представлена информация о пользователей сервиса из восьми городов: Пятигорск, Екатеринбург, Ростов-на-Дону, Краснодар, Сочи, Омск, Тюмень, Москва.\n",
    "\n",
    "Города в выборке, в среднем, имеют одинаковую частоту встречаемости: частота варьируется от 11 до 14.3%.\n",
    "\n",
    "3 самых встречаемых городa это: Пятигорск (14,3%), Екатеринбург (13,3%), Ростов-на-Дону (12,9%), самый реже встречаемый город - Москва (11%).\n",
    "\n",
    "3.2) Пользователей без подписки 54,4%, с подпиской 45,6%\n",
    "\n",
    "3.3) Возраст пользователей варьруется от 12 до 43 лет. Средний возраст - 25 лет.\n",
    "\n",
    "Возраст пользователей можно разделить на 5 категорий:\n",
    "\n",
    "   - 18-25 лет - 51,0% всех пользоваталей сервиса;\n",
    "   - 25-30 лет - 32,5%;\n",
    "   - 30-35 лет - 10,6%;\n",
    "   - до 18 лет - 5,1%; \n",
    "   - от 35 - 0,8%.\n",
    "3.4) В среднем, пользователи проезжают дистанцию в 3,07км\n",
    "\n",
    "Пользователи, предпочитают:  \n",
    " - короткие дистанции до 1,5км - в среднем ≈700 метров, \n",
    " - длительные дистации от 1,5км до 7км, в основном, ≈3,2км.  \n",
    " \n",
    "Длительные дистанции предпочитают 90% пользователей.\n",
    "\n",
    "3.5) Средняя продолжительность поездок 17,7 минут.\n",
    "\n",
    "Процент ошибочно завершенных поездок у пользователей без подписки (поездок длительность до 0,5мин): 0,5%\n",
    "\n",
    "**4.** Данные о пользователях, поездках и подписках были объеденены в один датафрейм. Созданы отдельные датафреймы с данными о пользователях с подпиской и без подписки. Визуализирована информации о расстоянии и времени поездок для пользователей обеих категорий.\n",
    "\n",
    "Средняя продолжительность поездок пользователей с подпиской на 0.05 % больше, чем для пользователей без подписки. В целом можно отметить, что профили пользователей обоих подписок похожи.\n",
    "\n",
    "**5.** Создан датафрейм **data_gain** с агрегированными данными о поездках на основе датафрейма с объединёнными данными. В этот же датафрейм добавлен столбец **gain** с помесячной выручкой, которую принёс каждый пользователь. Продолжительность каждой поездки в каждой строке исходного датафрейма для подсчёта стоимости округляется до следующего целого числа.\n",
    "\n",
    "**6.** Проверка гипотез:\n",
    "\n",
    "6.1) Есть основания говорить, что пользователи с подпиской тратят больше времени на поездки.\n",
    "   \n",
    "   \n",
    "6.2) Есть основания говорить, что помесячная выручка от пользователей с подпиской по месяцам выше, чем выручка от пользователей без подписки.\n",
    "\n",
    "При анализе выборки сделаны следующие выводы: \n",
    "  - продолжительность поездок пользователей с подпиской на 0.05 % больше, чем для пользователей без подписки;\n",
    "  - средняя месячная выручка для пользователя без подписки на 0,09% выше выручки пользователя с подпиской\n",
    "\n",
    "\n",
    "Можно предположить, что пользователи с подпиской могут быть «выгоднее» для компании. **Но как показывает анализ выборки - разница составляет всего десятую долю процента.** \n",
    "\n",
    "6.3) Есть основания говорить, что среднее расстояние, преодолеваемое пользователями с подпиской, равно оптимальному с точки зрения износа."
   ]
  }
 ],
 "metadata": {
  "ExecuteTimeLog": [
   {
    "duration": 514,
    "start_time": "2023-05-03T12:16:19.422Z"
   },
   {
    "duration": 8,
    "start_time": "2023-05-03T12:16:42.664Z"
   },
   {
    "duration": 402,
    "start_time": "2023-05-03T18:07:58.768Z"
   },
   {
    "duration": 3,
    "start_time": "2023-05-03T18:12:04.324Z"
   },
   {
    "duration": 455,
    "start_time": "2023-05-03T18:14:29.033Z"
   },
   {
    "duration": 4,
    "start_time": "2023-05-03T18:20:59.619Z"
   },
   {
    "duration": 2,
    "start_time": "2023-05-03T18:29:25.575Z"
   },
   {
    "duration": 412,
    "start_time": "2023-05-03T18:30:26.891Z"
   },
   {
    "duration": 45,
    "start_time": "2023-05-04T05:09:26.034Z"
   },
   {
    "duration": 412,
    "start_time": "2023-05-04T05:09:30.435Z"
   },
   {
    "duration": 94,
    "start_time": "2023-05-04T05:09:32.425Z"
   },
   {
    "duration": 42,
    "start_time": "2023-05-04T05:09:45.679Z"
   },
   {
    "duration": 85,
    "start_time": "2023-05-04T05:10:22.869Z"
   },
   {
    "duration": 74,
    "start_time": "2023-05-04T05:11:47.976Z"
   },
   {
    "duration": 32,
    "start_time": "2023-05-04T05:12:03.322Z"
   },
   {
    "duration": 15,
    "start_time": "2023-05-04T05:19:19.015Z"
   },
   {
    "duration": 63,
    "start_time": "2023-05-04T05:19:34.874Z"
   },
   {
    "duration": 12,
    "start_time": "2023-05-04T05:23:24.779Z"
   },
   {
    "duration": 392,
    "start_time": "2023-05-04T05:23:38.276Z"
   },
   {
    "duration": 52,
    "start_time": "2023-05-04T05:23:38.670Z"
   },
   {
    "duration": 30,
    "start_time": "2023-05-04T05:23:38.724Z"
   },
   {
    "duration": 17,
    "start_time": "2023-05-04T05:23:38.755Z"
   },
   {
    "duration": 6,
    "start_time": "2023-05-04T05:23:38.773Z"
   },
   {
    "duration": 30,
    "start_time": "2023-05-04T05:24:09.235Z"
   },
   {
    "duration": 28,
    "start_time": "2023-05-04T05:24:19.063Z"
   },
   {
    "duration": 10,
    "start_time": "2023-05-04T05:24:20.947Z"
   },
   {
    "duration": 9,
    "start_time": "2023-05-04T05:25:05.331Z"
   },
   {
    "duration": 12,
    "start_time": "2023-05-04T05:25:29.052Z"
   },
   {
    "duration": 405,
    "start_time": "2023-05-04T05:27:09.380Z"
   },
   {
    "duration": 62,
    "start_time": "2023-05-04T05:27:09.787Z"
   },
   {
    "duration": 11,
    "start_time": "2023-05-04T05:27:09.850Z"
   },
   {
    "duration": 32,
    "start_time": "2023-05-04T05:27:09.863Z"
   },
   {
    "duration": 20,
    "start_time": "2023-05-04T05:27:09.896Z"
   },
   {
    "duration": 19,
    "start_time": "2023-05-04T05:27:09.918Z"
   },
   {
    "duration": 9,
    "start_time": "2023-05-04T05:27:09.939Z"
   },
   {
    "duration": 18,
    "start_time": "2023-05-04T05:27:09.949Z"
   },
   {
    "duration": 8,
    "start_time": "2023-05-04T05:30:40.238Z"
   },
   {
    "duration": 6,
    "start_time": "2023-05-04T05:31:00.989Z"
   },
   {
    "duration": 9,
    "start_time": "2023-05-04T05:34:24.349Z"
   },
   {
    "duration": 5,
    "start_time": "2023-05-04T05:34:41.411Z"
   },
   {
    "duration": 4,
    "start_time": "2023-05-04T05:35:48.918Z"
   },
   {
    "duration": 4,
    "start_time": "2023-05-04T05:36:08.211Z"
   },
   {
    "duration": 7,
    "start_time": "2023-05-04T05:36:58.363Z"
   },
   {
    "duration": 14,
    "start_time": "2023-05-04T05:38:50.267Z"
   },
   {
    "duration": 7,
    "start_time": "2023-05-04T05:39:33.662Z"
   },
   {
    "duration": 7,
    "start_time": "2023-05-04T05:39:53.909Z"
   },
   {
    "duration": 7,
    "start_time": "2023-05-04T05:40:01.564Z"
   },
   {
    "duration": 25,
    "start_time": "2023-05-04T05:40:22.280Z"
   },
   {
    "duration": 14,
    "start_time": "2023-05-04T05:40:44.644Z"
   },
   {
    "duration": 19,
    "start_time": "2023-05-04T05:40:56.889Z"
   },
   {
    "duration": 13,
    "start_time": "2023-05-04T05:41:15.430Z"
   },
   {
    "duration": 17,
    "start_time": "2023-05-04T05:41:22.783Z"
   },
   {
    "duration": 5,
    "start_time": "2023-05-04T05:42:46.241Z"
   },
   {
    "duration": 16,
    "start_time": "2023-05-04T05:43:17.215Z"
   },
   {
    "duration": 393,
    "start_time": "2023-05-04T05:45:50.430Z"
   },
   {
    "duration": 34,
    "start_time": "2023-05-04T05:45:50.825Z"
   },
   {
    "duration": 10,
    "start_time": "2023-05-04T05:45:50.861Z"
   },
   {
    "duration": 33,
    "start_time": "2023-05-04T05:45:50.874Z"
   },
   {
    "duration": 11,
    "start_time": "2023-05-04T05:45:50.908Z"
   },
   {
    "duration": 17,
    "start_time": "2023-05-04T05:45:50.921Z"
   },
   {
    "duration": 9,
    "start_time": "2023-05-04T05:45:50.939Z"
   },
   {
    "duration": 8,
    "start_time": "2023-05-04T05:45:50.949Z"
   },
   {
    "duration": 10,
    "start_time": "2023-05-04T05:45:50.959Z"
   },
   {
    "duration": 4,
    "start_time": "2023-05-04T05:45:50.972Z"
   },
   {
    "duration": 24,
    "start_time": "2023-05-04T05:45:50.977Z"
   },
   {
    "duration": 15,
    "start_time": "2023-05-04T05:45:51.002Z"
   },
   {
    "duration": 7,
    "start_time": "2023-05-04T05:45:51.018Z"
   },
   {
    "duration": 412,
    "start_time": "2023-05-04T05:54:29.180Z"
   },
   {
    "duration": 36,
    "start_time": "2023-05-04T05:54:29.593Z"
   },
   {
    "duration": 12,
    "start_time": "2023-05-04T05:54:29.630Z"
   },
   {
    "duration": 29,
    "start_time": "2023-05-04T05:54:29.644Z"
   },
   {
    "duration": 12,
    "start_time": "2023-05-04T05:54:29.675Z"
   },
   {
    "duration": 18,
    "start_time": "2023-05-04T05:54:29.695Z"
   },
   {
    "duration": 10,
    "start_time": "2023-05-04T05:54:29.715Z"
   },
   {
    "duration": 72,
    "start_time": "2023-05-04T05:54:29.727Z"
   },
   {
    "duration": 0,
    "start_time": "2023-05-04T05:54:29.801Z"
   },
   {
    "duration": 0,
    "start_time": "2023-05-04T05:54:29.802Z"
   },
   {
    "duration": 0,
    "start_time": "2023-05-04T05:54:29.803Z"
   },
   {
    "duration": 0,
    "start_time": "2023-05-04T05:54:29.804Z"
   },
   {
    "duration": 0,
    "start_time": "2023-05-04T05:54:29.806Z"
   },
   {
    "duration": 0,
    "start_time": "2023-05-04T05:54:29.807Z"
   },
   {
    "duration": 358,
    "start_time": "2023-05-04T05:54:40.252Z"
   },
   {
    "duration": 35,
    "start_time": "2023-05-04T05:54:40.612Z"
   },
   {
    "duration": 12,
    "start_time": "2023-05-04T05:54:40.648Z"
   },
   {
    "duration": 33,
    "start_time": "2023-05-04T05:54:40.662Z"
   },
   {
    "duration": 10,
    "start_time": "2023-05-04T05:54:40.696Z"
   },
   {
    "duration": 19,
    "start_time": "2023-05-04T05:54:40.708Z"
   },
   {
    "duration": 9,
    "start_time": "2023-05-04T05:54:40.729Z"
   },
   {
    "duration": 7,
    "start_time": "2023-05-04T05:54:40.739Z"
   },
   {
    "duration": 6,
    "start_time": "2023-05-04T05:54:40.747Z"
   },
   {
    "duration": 6,
    "start_time": "2023-05-04T05:54:40.755Z"
   },
   {
    "duration": 34,
    "start_time": "2023-05-04T05:54:40.763Z"
   },
   {
    "duration": 4,
    "start_time": "2023-05-04T05:54:40.799Z"
   },
   {
    "duration": 20,
    "start_time": "2023-05-04T05:54:40.805Z"
   },
   {
    "duration": 13,
    "start_time": "2023-05-04T06:00:27.212Z"
   },
   {
    "duration": 11,
    "start_time": "2023-05-04T06:00:39.432Z"
   },
   {
    "duration": 13,
    "start_time": "2023-05-04T06:03:21.746Z"
   },
   {
    "duration": 15,
    "start_time": "2023-05-04T06:04:05.438Z"
   },
   {
    "duration": 6,
    "start_time": "2023-05-04T06:04:15.304Z"
   },
   {
    "duration": 18,
    "start_time": "2023-05-04T06:04:22.180Z"
   },
   {
    "duration": 429,
    "start_time": "2023-05-04T06:04:31.872Z"
   },
   {
    "duration": 38,
    "start_time": "2023-05-04T06:04:32.304Z"
   },
   {
    "duration": 13,
    "start_time": "2023-05-04T06:04:32.343Z"
   },
   {
    "duration": 32,
    "start_time": "2023-05-04T06:04:32.359Z"
   },
   {
    "duration": 10,
    "start_time": "2023-05-04T06:04:32.392Z"
   },
   {
    "duration": 17,
    "start_time": "2023-05-04T06:04:32.404Z"
   },
   {
    "duration": 10,
    "start_time": "2023-05-04T06:04:32.424Z"
   },
   {
    "duration": 14,
    "start_time": "2023-05-04T06:04:32.436Z"
   },
   {
    "duration": 7,
    "start_time": "2023-05-04T06:04:32.452Z"
   },
   {
    "duration": 33,
    "start_time": "2023-05-04T06:04:32.461Z"
   },
   {
    "duration": 8,
    "start_time": "2023-05-04T06:04:32.496Z"
   },
   {
    "duration": 7,
    "start_time": "2023-05-04T06:04:32.506Z"
   },
   {
    "duration": 7,
    "start_time": "2023-05-04T06:04:32.515Z"
   },
   {
    "duration": 5,
    "start_time": "2023-05-04T06:04:32.524Z"
   },
   {
    "duration": 19,
    "start_time": "2023-05-04T06:04:32.531Z"
   },
   {
    "duration": 51,
    "start_time": "2023-05-04T06:04:32.553Z"
   },
   {
    "duration": 441,
    "start_time": "2023-05-10T07:36:45.782Z"
   },
   {
    "duration": 101,
    "start_time": "2023-05-10T07:36:46.225Z"
   },
   {
    "duration": 13,
    "start_time": "2023-05-10T07:36:46.328Z"
   },
   {
    "duration": 99,
    "start_time": "2023-05-10T07:36:46.342Z"
   },
   {
    "duration": 11,
    "start_time": "2023-05-10T07:36:46.443Z"
   },
   {
    "duration": 66,
    "start_time": "2023-05-10T07:36:46.456Z"
   },
   {
    "duration": 11,
    "start_time": "2023-05-10T07:36:46.524Z"
   },
   {
    "duration": 15,
    "start_time": "2023-05-10T07:36:46.536Z"
   },
   {
    "duration": 2,
    "start_time": "2023-05-10T07:36:46.553Z"
   },
   {
    "duration": 32,
    "start_time": "2023-05-10T07:36:46.556Z"
   },
   {
    "duration": 6,
    "start_time": "2023-05-10T07:36:46.589Z"
   },
   {
    "duration": 18,
    "start_time": "2023-05-10T07:36:46.597Z"
   },
   {
    "duration": 22,
    "start_time": "2023-05-10T07:36:46.617Z"
   },
   {
    "duration": 7,
    "start_time": "2023-05-10T07:36:46.643Z"
   },
   {
    "duration": 12,
    "start_time": "2023-05-10T07:36:46.652Z"
   },
   {
    "duration": 15,
    "start_time": "2023-05-10T07:36:46.666Z"
   },
   {
    "duration": 6,
    "start_time": "2023-05-10T07:36:46.683Z"
   },
   {
    "duration": 68,
    "start_time": "2023-05-10T07:38:29.143Z"
   },
   {
    "duration": 1004,
    "start_time": "2023-05-10T07:40:18.174Z"
   },
   {
    "duration": 49,
    "start_time": "2023-05-10T07:40:22.572Z"
   },
   {
    "duration": 7,
    "start_time": "2023-05-10T07:40:27.172Z"
   },
   {
    "duration": 127,
    "start_time": "2023-05-10T07:40:30.868Z"
   },
   {
    "duration": 135,
    "start_time": "2023-05-10T07:40:34.918Z"
   },
   {
    "duration": 103,
    "start_time": "2023-05-10T07:42:47.881Z"
   },
   {
    "duration": 142,
    "start_time": "2023-05-10T07:43:09.217Z"
   },
   {
    "duration": 99,
    "start_time": "2023-05-10T07:43:16.966Z"
   },
   {
    "duration": 97,
    "start_time": "2023-05-10T07:43:28.630Z"
   },
   {
    "duration": 143,
    "start_time": "2023-05-10T07:43:33.699Z"
   },
   {
    "duration": 138,
    "start_time": "2023-05-10T07:43:50.427Z"
   },
   {
    "duration": 219,
    "start_time": "2023-05-10T07:43:56.373Z"
   },
   {
    "duration": 252,
    "start_time": "2023-05-10T07:45:45.331Z"
   },
   {
    "duration": 16,
    "start_time": "2023-05-10T07:46:11.244Z"
   },
   {
    "duration": 18,
    "start_time": "2023-05-10T07:46:21.389Z"
   },
   {
    "duration": 15,
    "start_time": "2023-05-10T07:46:27.258Z"
   },
   {
    "duration": 262,
    "start_time": "2023-05-10T07:46:54.402Z"
   },
   {
    "duration": 161,
    "start_time": "2023-05-10T07:47:18.140Z"
   },
   {
    "duration": 197,
    "start_time": "2023-05-10T07:47:30.880Z"
   },
   {
    "duration": 163,
    "start_time": "2023-05-10T07:48:24.213Z"
   },
   {
    "duration": 161,
    "start_time": "2023-05-10T07:48:39.879Z"
   },
   {
    "duration": 9,
    "start_time": "2023-05-10T07:49:04.421Z"
   },
   {
    "duration": 121,
    "start_time": "2023-05-10T07:49:27.112Z"
   },
   {
    "duration": 117,
    "start_time": "2023-05-10T07:49:44.941Z"
   },
   {
    "duration": 128,
    "start_time": "2023-05-10T07:50:05.904Z"
   },
   {
    "duration": 223,
    "start_time": "2023-05-10T07:50:16.225Z"
   },
   {
    "duration": 115,
    "start_time": "2023-05-10T07:50:26.371Z"
   },
   {
    "duration": 118,
    "start_time": "2023-05-10T07:50:34.163Z"
   },
   {
    "duration": 121,
    "start_time": "2023-05-10T07:52:47.582Z"
   },
   {
    "duration": 131,
    "start_time": "2023-05-10T07:53:30.337Z"
   },
   {
    "duration": 177,
    "start_time": "2023-05-10T07:53:55.329Z"
   },
   {
    "duration": 182,
    "start_time": "2023-05-10T07:54:01.663Z"
   },
   {
    "duration": 137,
    "start_time": "2023-05-10T07:54:14.277Z"
   },
   {
    "duration": 130,
    "start_time": "2023-05-10T07:54:22.402Z"
   },
   {
    "duration": 134,
    "start_time": "2023-05-10T07:54:41.837Z"
   },
   {
    "duration": 144,
    "start_time": "2023-05-10T07:55:30.033Z"
   },
   {
    "duration": 196,
    "start_time": "2023-05-10T07:55:38.799Z"
   },
   {
    "duration": 241,
    "start_time": "2023-05-10T07:56:26.670Z"
   },
   {
    "duration": 4,
    "start_time": "2023-05-10T07:56:50.210Z"
   },
   {
    "duration": 168,
    "start_time": "2023-05-10T07:56:52.196Z"
   },
   {
    "duration": 147,
    "start_time": "2023-05-10T07:57:38.508Z"
   },
   {
    "duration": 155,
    "start_time": "2023-05-10T07:57:47.914Z"
   },
   {
    "duration": 148,
    "start_time": "2023-05-10T07:57:52.984Z"
   },
   {
    "duration": 131,
    "start_time": "2023-05-10T07:58:01.750Z"
   },
   {
    "duration": 130,
    "start_time": "2023-05-10T07:58:08.356Z"
   },
   {
    "duration": 143,
    "start_time": "2023-05-10T07:58:27.837Z"
   },
   {
    "duration": 138,
    "start_time": "2023-05-10T07:58:34.775Z"
   },
   {
    "duration": 6,
    "start_time": "2023-05-10T08:03:14.108Z"
   },
   {
    "duration": 6,
    "start_time": "2023-05-10T08:03:46.730Z"
   },
   {
    "duration": 87,
    "start_time": "2023-05-10T08:03:48.401Z"
   },
   {
    "duration": 82,
    "start_time": "2023-05-10T08:04:08.705Z"
   },
   {
    "duration": 6,
    "start_time": "2023-05-10T08:11:45.970Z"
   },
   {
    "duration": 6,
    "start_time": "2023-05-10T08:12:18.139Z"
   },
   {
    "duration": 406,
    "start_time": "2023-05-10T08:13:49.131Z"
   },
   {
    "duration": 38,
    "start_time": "2023-05-10T08:13:49.539Z"
   },
   {
    "duration": 13,
    "start_time": "2023-05-10T08:13:49.579Z"
   },
   {
    "duration": 46,
    "start_time": "2023-05-10T08:13:49.595Z"
   },
   {
    "duration": 13,
    "start_time": "2023-05-10T08:13:49.643Z"
   },
   {
    "duration": 19,
    "start_time": "2023-05-10T08:13:49.658Z"
   },
   {
    "duration": 10,
    "start_time": "2023-05-10T08:13:49.679Z"
   },
   {
    "duration": 8,
    "start_time": "2023-05-10T08:13:49.691Z"
   },
   {
    "duration": 13,
    "start_time": "2023-05-10T08:13:49.711Z"
   },
   {
    "duration": 23,
    "start_time": "2023-05-10T08:13:49.727Z"
   },
   {
    "duration": 6,
    "start_time": "2023-05-10T08:13:49.752Z"
   },
   {
    "duration": 6,
    "start_time": "2023-05-10T08:13:49.760Z"
   },
   {
    "duration": 6,
    "start_time": "2023-05-10T08:13:49.768Z"
   },
   {
    "duration": 5,
    "start_time": "2023-05-10T08:13:49.775Z"
   },
   {
    "duration": 33,
    "start_time": "2023-05-10T08:13:49.782Z"
   },
   {
    "duration": 16,
    "start_time": "2023-05-10T08:13:49.817Z"
   },
   {
    "duration": 813,
    "start_time": "2023-05-10T08:13:49.835Z"
   },
   {
    "duration": 8,
    "start_time": "2023-05-10T08:13:50.650Z"
   },
   {
    "duration": 185,
    "start_time": "2023-05-10T08:13:50.660Z"
   },
   {
    "duration": 201,
    "start_time": "2023-05-10T08:13:50.847Z"
   },
   {
    "duration": 7,
    "start_time": "2023-05-10T08:13:51.050Z"
   },
   {
    "duration": 114,
    "start_time": "2023-05-10T08:13:51.059Z"
   },
   {
    "duration": 7,
    "start_time": "2023-05-10T08:13:51.175Z"
   },
   {
    "duration": 6,
    "start_time": "2023-05-10T08:14:00.645Z"
   },
   {
    "duration": 8,
    "start_time": "2023-05-10T08:14:11.872Z"
   },
   {
    "duration": 449,
    "start_time": "2023-05-10T08:46:44.165Z"
   },
   {
    "duration": 440,
    "start_time": "2023-05-10T08:48:12.440Z"
   },
   {
    "duration": 472,
    "start_time": "2023-05-10T08:48:28.629Z"
   },
   {
    "duration": 76,
    "start_time": "2023-05-10T08:53:25.384Z"
   },
   {
    "duration": 4,
    "start_time": "2023-05-10T08:53:33.882Z"
   },
   {
    "duration": 6,
    "start_time": "2023-05-10T08:53:39.901Z"
   },
   {
    "duration": 121,
    "start_time": "2023-05-10T08:53:42.037Z"
   },
   {
    "duration": 14,
    "start_time": "2023-05-10T08:54:34.251Z"
   },
   {
    "duration": 7,
    "start_time": "2023-05-10T08:54:54.444Z"
   },
   {
    "duration": 196,
    "start_time": "2023-05-10T08:55:13.689Z"
   },
   {
    "duration": 215,
    "start_time": "2023-05-10T08:55:33.047Z"
   },
   {
    "duration": 183,
    "start_time": "2023-05-10T08:56:48.897Z"
   },
   {
    "duration": 176,
    "start_time": "2023-05-10T08:57:24.286Z"
   },
   {
    "duration": 197,
    "start_time": "2023-05-10T08:57:30.645Z"
   },
   {
    "duration": 8,
    "start_time": "2023-05-10T08:58:11.357Z"
   },
   {
    "duration": 127,
    "start_time": "2023-05-10T08:58:18.544Z"
   },
   {
    "duration": 9,
    "start_time": "2023-05-10T08:58:24.143Z"
   },
   {
    "duration": 114,
    "start_time": "2023-05-10T08:58:26.363Z"
   },
   {
    "duration": 177,
    "start_time": "2023-05-10T08:58:38.976Z"
   },
   {
    "duration": 145,
    "start_time": "2023-05-10T08:58:52.992Z"
   },
   {
    "duration": 140,
    "start_time": "2023-05-10T08:58:57.174Z"
   },
   {
    "duration": 158,
    "start_time": "2023-05-10T08:59:02.806Z"
   },
   {
    "duration": 157,
    "start_time": "2023-05-10T08:59:10.348Z"
   },
   {
    "duration": 149,
    "start_time": "2023-05-10T08:59:25.068Z"
   },
   {
    "duration": 279,
    "start_time": "2023-05-10T08:59:30.872Z"
   },
   {
    "duration": 130,
    "start_time": "2023-05-10T09:00:00.365Z"
   },
   {
    "duration": 652,
    "start_time": "2023-05-10T09:04:03.093Z"
   },
   {
    "duration": 401,
    "start_time": "2023-05-10T09:04:23.525Z"
   },
   {
    "duration": 679,
    "start_time": "2023-05-10T09:04:51.094Z"
   },
   {
    "duration": 516,
    "start_time": "2023-05-10T09:05:17.488Z"
   },
   {
    "duration": 384,
    "start_time": "2023-05-10T09:05:25.525Z"
   },
   {
    "duration": 704,
    "start_time": "2023-05-10T09:06:25.269Z"
   },
   {
    "duration": 775,
    "start_time": "2023-05-10T09:06:31.423Z"
   },
   {
    "duration": 632,
    "start_time": "2023-05-10T09:06:39.940Z"
   },
   {
    "duration": 698,
    "start_time": "2023-05-10T09:07:05.916Z"
   },
   {
    "duration": 613,
    "start_time": "2023-05-10T09:07:16.960Z"
   },
   {
    "duration": 550,
    "start_time": "2023-05-10T09:07:25.502Z"
   },
   {
    "duration": 561,
    "start_time": "2023-05-10T09:07:34.264Z"
   },
   {
    "duration": 562,
    "start_time": "2023-05-10T09:07:49.899Z"
   },
   {
    "duration": 413,
    "start_time": "2023-05-10T09:07:57.463Z"
   },
   {
    "duration": 401,
    "start_time": "2023-05-10T09:08:02.320Z"
   },
   {
    "duration": 443,
    "start_time": "2023-05-10T09:08:08.503Z"
   },
   {
    "duration": 399,
    "start_time": "2023-05-10T09:08:18.714Z"
   },
   {
    "duration": 411,
    "start_time": "2023-05-10T09:08:23.993Z"
   },
   {
    "duration": 597,
    "start_time": "2023-05-10T09:09:26.019Z"
   },
   {
    "duration": 570,
    "start_time": "2023-05-10T09:09:40.244Z"
   },
   {
    "duration": 591,
    "start_time": "2023-05-10T09:10:05.916Z"
   },
   {
    "duration": 414,
    "start_time": "2023-05-10T09:17:15.713Z"
   },
   {
    "duration": 548,
    "start_time": "2023-05-10T09:17:25.186Z"
   },
   {
    "duration": 380,
    "start_time": "2023-05-10T09:17:39.931Z"
   },
   {
    "duration": 443,
    "start_time": "2023-05-10T09:17:56.266Z"
   },
   {
    "duration": 16,
    "start_time": "2023-05-10T09:18:26.975Z"
   },
   {
    "duration": 10,
    "start_time": "2023-05-10T09:18:53.439Z"
   },
   {
    "duration": 6,
    "start_time": "2023-05-10T09:19:35.049Z"
   },
   {
    "duration": 5,
    "start_time": "2023-05-10T09:19:54.153Z"
   },
   {
    "duration": 6,
    "start_time": "2023-05-10T09:20:00.488Z"
   },
   {
    "duration": 456,
    "start_time": "2023-05-10T09:21:33.524Z"
   },
   {
    "duration": 380,
    "start_time": "2023-05-10T09:21:42.734Z"
   },
   {
    "duration": 411,
    "start_time": "2023-05-10T09:21:53.708Z"
   },
   {
    "duration": 12,
    "start_time": "2023-05-10T09:22:14.980Z"
   },
   {
    "duration": 8,
    "start_time": "2023-05-10T09:22:29.647Z"
   },
   {
    "duration": 435,
    "start_time": "2023-05-10T09:22:44.894Z"
   },
   {
    "duration": 408,
    "start_time": "2023-05-10T09:22:49.887Z"
   },
   {
    "duration": 514,
    "start_time": "2023-05-10T09:23:23.569Z"
   },
   {
    "duration": 8,
    "start_time": "2023-05-10T09:23:45.530Z"
   },
   {
    "duration": 10,
    "start_time": "2023-05-10T09:59:43.134Z"
   },
   {
    "duration": 25,
    "start_time": "2023-05-10T09:59:49.746Z"
   },
   {
    "duration": 19,
    "start_time": "2023-05-10T10:00:16.094Z"
   },
   {
    "duration": 21,
    "start_time": "2023-05-10T10:01:10.829Z"
   },
   {
    "duration": 390,
    "start_time": "2023-05-10T10:02:01.375Z"
   },
   {
    "duration": 39,
    "start_time": "2023-05-10T10:02:01.767Z"
   },
   {
    "duration": 20,
    "start_time": "2023-05-10T10:02:01.811Z"
   },
   {
    "duration": 47,
    "start_time": "2023-05-10T10:02:01.832Z"
   },
   {
    "duration": 11,
    "start_time": "2023-05-10T10:02:01.881Z"
   },
   {
    "duration": 31,
    "start_time": "2023-05-10T10:02:01.894Z"
   },
   {
    "duration": 28,
    "start_time": "2023-05-10T10:02:01.927Z"
   },
   {
    "duration": 38,
    "start_time": "2023-05-10T10:02:01.957Z"
   },
   {
    "duration": 27,
    "start_time": "2023-05-10T10:02:02.001Z"
   },
   {
    "duration": 75,
    "start_time": "2023-05-10T10:02:02.029Z"
   },
   {
    "duration": 26,
    "start_time": "2023-05-10T10:02:02.106Z"
   },
   {
    "duration": 47,
    "start_time": "2023-05-10T10:02:02.134Z"
   },
   {
    "duration": 43,
    "start_time": "2023-05-10T10:02:02.182Z"
   },
   {
    "duration": 48,
    "start_time": "2023-05-10T10:02:02.227Z"
   },
   {
    "duration": 59,
    "start_time": "2023-05-10T10:02:02.277Z"
   },
   {
    "duration": 60,
    "start_time": "2023-05-10T10:02:02.337Z"
   },
   {
    "duration": 858,
    "start_time": "2023-05-10T10:02:02.399Z"
   },
   {
    "duration": 6,
    "start_time": "2023-05-10T10:02:03.260Z"
   },
   {
    "duration": 217,
    "start_time": "2023-05-10T10:02:03.268Z"
   },
   {
    "duration": 203,
    "start_time": "2023-05-10T10:02:03.486Z"
   },
   {
    "duration": 6,
    "start_time": "2023-05-10T10:02:03.691Z"
   },
   {
    "duration": 130,
    "start_time": "2023-05-10T10:02:03.698Z"
   },
   {
    "duration": 401,
    "start_time": "2023-05-10T10:02:03.830Z"
   },
   {
    "duration": 4,
    "start_time": "2023-05-10T10:02:04.232Z"
   },
   {
    "duration": 10,
    "start_time": "2023-05-10T10:02:04.238Z"
   },
   {
    "duration": 152,
    "start_time": "2023-05-10T10:02:04.250Z"
   },
   {
    "duration": 174,
    "start_time": "2023-05-10T10:02:04.413Z"
   },
   {
    "duration": 752,
    "start_time": "2023-05-10T10:02:04.589Z"
   },
   {
    "duration": 483,
    "start_time": "2023-05-10T10:02:05.343Z"
   },
   {
    "duration": 9,
    "start_time": "2023-05-10T10:02:05.827Z"
   },
   {
    "duration": 545,
    "start_time": "2023-05-10T10:02:05.837Z"
   },
   {
    "duration": 8,
    "start_time": "2023-05-10T10:02:06.384Z"
   },
   {
    "duration": 627,
    "start_time": "2023-05-10T10:02:06.393Z"
   },
   {
    "duration": 8,
    "start_time": "2023-05-10T10:02:07.026Z"
   },
   {
    "duration": 7,
    "start_time": "2023-05-10T10:02:07.036Z"
   },
   {
    "duration": 20,
    "start_time": "2023-05-10T10:02:07.045Z"
   },
   {
    "duration": 135,
    "start_time": "2023-05-10T10:05:20.098Z"
   },
   {
    "duration": 32,
    "start_time": "2023-05-10T10:05:45.162Z"
   },
   {
    "duration": 27,
    "start_time": "2023-05-10T10:06:04.094Z"
   },
   {
    "duration": 19,
    "start_time": "2023-05-10T10:07:02.796Z"
   },
   {
    "duration": 16,
    "start_time": "2023-05-10T10:07:50.832Z"
   },
   {
    "duration": 14,
    "start_time": "2023-05-10T10:07:59.668Z"
   },
   {
    "duration": 19,
    "start_time": "2023-05-10T10:08:14.610Z"
   },
   {
    "duration": 16,
    "start_time": "2023-05-10T10:08:27.424Z"
   },
   {
    "duration": 493,
    "start_time": "2023-05-10T10:09:43.185Z"
   },
   {
    "duration": 563,
    "start_time": "2023-05-10T10:09:46.444Z"
   },
   {
    "duration": 439,
    "start_time": "2023-05-10T10:10:43.340Z"
   },
   {
    "duration": 604,
    "start_time": "2023-05-10T10:10:46.194Z"
   },
   {
    "duration": 6,
    "start_time": "2023-05-10T10:11:27.618Z"
   },
   {
    "duration": 5,
    "start_time": "2023-05-10T10:11:40.580Z"
   },
   {
    "duration": 6,
    "start_time": "2023-05-10T10:11:53.814Z"
   },
   {
    "duration": 6,
    "start_time": "2023-05-10T10:12:00.553Z"
   },
   {
    "duration": 12,
    "start_time": "2023-05-10T10:20:36.545Z"
   },
   {
    "duration": 12,
    "start_time": "2023-05-10T10:21:00.576Z"
   },
   {
    "duration": 82,
    "start_time": "2023-05-10T10:21:42.352Z"
   },
   {
    "duration": 11,
    "start_time": "2023-05-10T10:22:06.084Z"
   },
   {
    "duration": 4,
    "start_time": "2023-05-10T10:23:50.137Z"
   },
   {
    "duration": 6,
    "start_time": "2023-05-10T10:25:15.723Z"
   },
   {
    "duration": 5,
    "start_time": "2023-05-10T10:25:22.547Z"
   },
   {
    "duration": 18,
    "start_time": "2023-05-10T10:25:29.612Z"
   },
   {
    "duration": 25,
    "start_time": "2023-05-10T10:25:58.355Z"
   },
   {
    "duration": 24,
    "start_time": "2023-05-10T10:26:31.649Z"
   },
   {
    "duration": 28,
    "start_time": "2023-05-10T10:27:30.177Z"
   },
   {
    "duration": 22,
    "start_time": "2023-05-10T10:27:44.572Z"
   },
   {
    "duration": 17,
    "start_time": "2023-05-10T10:28:51.962Z"
   },
   {
    "duration": 122,
    "start_time": "2023-05-10T10:29:53.899Z"
   },
   {
    "duration": 19,
    "start_time": "2023-05-10T10:30:07.633Z"
   },
   {
    "duration": 17,
    "start_time": "2023-05-10T10:30:19.332Z"
   },
   {
    "duration": 17,
    "start_time": "2023-05-10T10:30:28.359Z"
   },
   {
    "duration": 20,
    "start_time": "2023-05-10T10:30:36.136Z"
   },
   {
    "duration": 13,
    "start_time": "2023-05-10T10:31:16.453Z"
   },
   {
    "duration": 19,
    "start_time": "2023-05-10T10:31:19.476Z"
   },
   {
    "duration": 19,
    "start_time": "2023-05-10T10:31:28.727Z"
   },
   {
    "duration": 17,
    "start_time": "2023-05-10T10:58:20.561Z"
   },
   {
    "duration": 17,
    "start_time": "2023-05-10T10:58:29.539Z"
   },
   {
    "duration": 431,
    "start_time": "2023-05-10T10:58:35.813Z"
   },
   {
    "duration": 37,
    "start_time": "2023-05-10T10:58:36.246Z"
   },
   {
    "duration": 11,
    "start_time": "2023-05-10T10:58:36.285Z"
   },
   {
    "duration": 34,
    "start_time": "2023-05-10T10:58:36.299Z"
   },
   {
    "duration": 14,
    "start_time": "2023-05-10T10:58:36.334Z"
   },
   {
    "duration": 19,
    "start_time": "2023-05-10T10:58:36.350Z"
   },
   {
    "duration": 10,
    "start_time": "2023-05-10T10:58:36.371Z"
   },
   {
    "duration": 10,
    "start_time": "2023-05-10T10:58:36.383Z"
   },
   {
    "duration": 3,
    "start_time": "2023-05-10T10:58:36.411Z"
   },
   {
    "duration": 13,
    "start_time": "2023-05-10T10:58:36.419Z"
   },
   {
    "duration": 7,
    "start_time": "2023-05-10T10:58:36.434Z"
   },
   {
    "duration": 6,
    "start_time": "2023-05-10T10:58:36.442Z"
   },
   {
    "duration": 8,
    "start_time": "2023-05-10T10:58:36.450Z"
   },
   {
    "duration": 21,
    "start_time": "2023-05-10T10:58:36.459Z"
   },
   {
    "duration": 39,
    "start_time": "2023-05-10T10:58:36.482Z"
   },
   {
    "duration": 19,
    "start_time": "2023-05-10T10:58:36.523Z"
   },
   {
    "duration": 816,
    "start_time": "2023-05-10T10:58:36.544Z"
   },
   {
    "duration": 7,
    "start_time": "2023-05-10T10:58:37.362Z"
   },
   {
    "duration": 205,
    "start_time": "2023-05-10T10:58:37.371Z"
   },
   {
    "duration": 193,
    "start_time": "2023-05-10T10:58:37.578Z"
   },
   {
    "duration": 7,
    "start_time": "2023-05-10T10:58:37.773Z"
   },
   {
    "duration": 113,
    "start_time": "2023-05-10T10:58:37.782Z"
   },
   {
    "duration": 404,
    "start_time": "2023-05-10T10:58:37.897Z"
   },
   {
    "duration": 11,
    "start_time": "2023-05-10T10:58:38.302Z"
   },
   {
    "duration": 10,
    "start_time": "2023-05-10T10:58:38.315Z"
   },
   {
    "duration": 141,
    "start_time": "2023-05-10T10:58:38.327Z"
   },
   {
    "duration": 176,
    "start_time": "2023-05-10T10:58:38.470Z"
   },
   {
    "duration": 713,
    "start_time": "2023-05-10T10:58:38.650Z"
   },
   {
    "duration": 482,
    "start_time": "2023-05-10T10:58:39.368Z"
   },
   {
    "duration": 8,
    "start_time": "2023-05-10T10:58:39.852Z"
   },
   {
    "duration": 507,
    "start_time": "2023-05-10T10:58:39.862Z"
   },
   {
    "duration": 10,
    "start_time": "2023-05-10T10:58:40.372Z"
   },
   {
    "duration": 681,
    "start_time": "2023-05-10T10:58:40.384Z"
   },
   {
    "duration": 9,
    "start_time": "2023-05-10T10:58:41.067Z"
   },
   {
    "duration": 8,
    "start_time": "2023-05-10T10:58:41.078Z"
   },
   {
    "duration": 40,
    "start_time": "2023-05-10T10:58:41.087Z"
   },
   {
    "duration": 17,
    "start_time": "2023-05-10T10:58:41.129Z"
   },
   {
    "duration": 15,
    "start_time": "2023-05-10T10:58:41.147Z"
   },
   {
    "duration": 488,
    "start_time": "2023-05-10T10:58:41.164Z"
   },
   {
    "duration": 551,
    "start_time": "2023-05-10T10:58:41.654Z"
   },
   {
    "duration": 447,
    "start_time": "2023-05-10T10:58:42.207Z"
   },
   {
    "duration": 6,
    "start_time": "2023-05-10T10:58:42.655Z"
   },
   {
    "duration": 612,
    "start_time": "2023-05-10T10:58:42.663Z"
   },
   {
    "duration": 6,
    "start_time": "2023-05-10T10:58:43.277Z"
   },
   {
    "duration": 28,
    "start_time": "2023-05-10T10:58:43.284Z"
   },
   {
    "duration": 20,
    "start_time": "2023-05-10T10:58:43.314Z"
   },
   {
    "duration": 134,
    "start_time": "2023-05-10T10:58:43.336Z"
   },
   {
    "duration": 32,
    "start_time": "2023-05-10T10:58:55.993Z"
   },
   {
    "duration": 11,
    "start_time": "2023-05-10T10:59:28.489Z"
   },
   {
    "duration": 18,
    "start_time": "2023-05-10T10:59:36.185Z"
   },
   {
    "duration": 31,
    "start_time": "2023-05-10T10:59:50.305Z"
   },
   {
    "duration": 15,
    "start_time": "2023-05-10T11:00:01.599Z"
   },
   {
    "duration": 15,
    "start_time": "2023-05-10T11:00:58.179Z"
   },
   {
    "duration": 16,
    "start_time": "2023-05-10T11:01:18.501Z"
   },
   {
    "duration": 12,
    "start_time": "2023-05-10T11:07:07.121Z"
   },
   {
    "duration": 32,
    "start_time": "2023-05-10T11:07:17.051Z"
   },
   {
    "duration": 22,
    "start_time": "2023-05-10T11:08:51.719Z"
   },
   {
    "duration": 27,
    "start_time": "2023-05-10T11:09:12.551Z"
   },
   {
    "duration": 117,
    "start_time": "2023-05-10T11:09:56.501Z"
   },
   {
    "duration": 23,
    "start_time": "2023-05-10T11:10:46.202Z"
   },
   {
    "duration": 4,
    "start_time": "2023-05-10T11:17:26.445Z"
   },
   {
    "duration": 74,
    "start_time": "2023-05-10T11:17:51.077Z"
   },
   {
    "duration": 79,
    "start_time": "2023-05-10T11:18:02.734Z"
   },
   {
    "duration": 138,
    "start_time": "2023-05-10T11:18:15.815Z"
   },
   {
    "duration": 9,
    "start_time": "2023-05-10T11:19:40.827Z"
   },
   {
    "duration": 12,
    "start_time": "2023-05-10T11:19:58.198Z"
   },
   {
    "duration": 12,
    "start_time": "2023-05-10T11:20:13.275Z"
   },
   {
    "duration": 13,
    "start_time": "2023-05-10T11:20:16.109Z"
   },
   {
    "duration": 11,
    "start_time": "2023-05-10T11:20:28.034Z"
   },
   {
    "duration": 16,
    "start_time": "2023-05-10T11:21:03.885Z"
   },
   {
    "duration": 11,
    "start_time": "2023-05-10T11:22:27.552Z"
   },
   {
    "duration": 12,
    "start_time": "2023-05-10T11:24:01.549Z"
   },
   {
    "duration": 14,
    "start_time": "2023-05-10T11:32:53.828Z"
   },
   {
    "duration": 11,
    "start_time": "2023-05-10T11:33:12.347Z"
   },
   {
    "duration": 13,
    "start_time": "2023-05-10T11:33:24.655Z"
   },
   {
    "duration": 11,
    "start_time": "2023-05-10T11:33:34.027Z"
   },
   {
    "duration": 11,
    "start_time": "2023-05-10T11:33:47.423Z"
   },
   {
    "duration": 18,
    "start_time": "2023-05-10T11:38:23.585Z"
   },
   {
    "duration": 45,
    "start_time": "2023-05-10T11:43:48.189Z"
   },
   {
    "duration": 23,
    "start_time": "2023-05-10T11:44:00.135Z"
   },
   {
    "duration": 29,
    "start_time": "2023-05-10T11:44:44.301Z"
   },
   {
    "duration": 417,
    "start_time": "2023-05-10T11:45:04.282Z"
   },
   {
    "duration": 45,
    "start_time": "2023-05-10T11:45:04.701Z"
   },
   {
    "duration": 15,
    "start_time": "2023-05-10T11:45:04.747Z"
   },
   {
    "duration": 43,
    "start_time": "2023-05-10T11:45:04.764Z"
   },
   {
    "duration": 20,
    "start_time": "2023-05-10T11:45:04.810Z"
   },
   {
    "duration": 26,
    "start_time": "2023-05-10T11:45:04.833Z"
   },
   {
    "duration": 11,
    "start_time": "2023-05-10T11:45:04.861Z"
   },
   {
    "duration": 11,
    "start_time": "2023-05-10T11:45:04.874Z"
   },
   {
    "duration": 2,
    "start_time": "2023-05-10T11:45:04.887Z"
   },
   {
    "duration": 26,
    "start_time": "2023-05-10T11:45:04.891Z"
   },
   {
    "duration": 9,
    "start_time": "2023-05-10T11:45:04.920Z"
   },
   {
    "duration": 13,
    "start_time": "2023-05-10T11:45:04.931Z"
   },
   {
    "duration": 6,
    "start_time": "2023-05-10T11:45:04.945Z"
   },
   {
    "duration": 5,
    "start_time": "2023-05-10T11:45:04.953Z"
   },
   {
    "duration": 11,
    "start_time": "2023-05-10T11:45:04.959Z"
   },
   {
    "duration": 44,
    "start_time": "2023-05-10T11:45:04.971Z"
   },
   {
    "duration": 835,
    "start_time": "2023-05-10T11:45:05.017Z"
   },
   {
    "duration": 6,
    "start_time": "2023-05-10T11:45:05.854Z"
   },
   {
    "duration": 189,
    "start_time": "2023-05-10T11:45:05.862Z"
   },
   {
    "duration": 200,
    "start_time": "2023-05-10T11:45:06.053Z"
   },
   {
    "duration": 6,
    "start_time": "2023-05-10T11:45:06.255Z"
   },
   {
    "duration": 159,
    "start_time": "2023-05-10T11:45:06.263Z"
   },
   {
    "duration": 383,
    "start_time": "2023-05-10T11:45:06.424Z"
   },
   {
    "duration": 5,
    "start_time": "2023-05-10T11:45:06.811Z"
   },
   {
    "duration": 16,
    "start_time": "2023-05-10T11:45:06.818Z"
   },
   {
    "duration": 137,
    "start_time": "2023-05-10T11:45:06.836Z"
   },
   {
    "duration": 173,
    "start_time": "2023-05-10T11:45:06.976Z"
   },
   {
    "duration": 654,
    "start_time": "2023-05-10T11:45:07.150Z"
   },
   {
    "duration": 529,
    "start_time": "2023-05-10T11:45:07.806Z"
   },
   {
    "duration": 9,
    "start_time": "2023-05-10T11:45:08.337Z"
   },
   {
    "duration": 543,
    "start_time": "2023-05-10T11:45:08.347Z"
   },
   {
    "duration": 25,
    "start_time": "2023-05-10T11:45:08.892Z"
   },
   {
    "duration": 681,
    "start_time": "2023-05-10T11:45:08.919Z"
   },
   {
    "duration": 15,
    "start_time": "2023-05-10T11:45:09.602Z"
   },
   {
    "duration": 14,
    "start_time": "2023-05-10T11:45:09.619Z"
   },
   {
    "duration": 23,
    "start_time": "2023-05-10T11:45:09.635Z"
   },
   {
    "duration": 17,
    "start_time": "2023-05-10T11:45:09.660Z"
   },
   {
    "duration": 40,
    "start_time": "2023-05-10T11:45:09.678Z"
   },
   {
    "duration": 457,
    "start_time": "2023-05-10T11:45:09.726Z"
   },
   {
    "duration": 673,
    "start_time": "2023-05-10T11:45:10.185Z"
   },
   {
    "duration": 486,
    "start_time": "2023-05-10T11:45:10.862Z"
   },
   {
    "duration": 5,
    "start_time": "2023-05-10T11:45:11.350Z"
   },
   {
    "duration": 637,
    "start_time": "2023-05-10T11:45:11.356Z"
   },
   {
    "duration": 18,
    "start_time": "2023-05-10T11:45:11.995Z"
   },
   {
    "duration": 17,
    "start_time": "2023-05-10T11:45:12.019Z"
   },
   {
    "duration": 28,
    "start_time": "2023-05-10T11:45:12.037Z"
   },
   {
    "duration": 23,
    "start_time": "2023-05-10T11:45:12.067Z"
   },
   {
    "duration": 3,
    "start_time": "2023-05-10T11:45:12.092Z"
   },
   {
    "duration": 16,
    "start_time": "2023-05-10T11:45:35.350Z"
   },
   {
    "duration": 21,
    "start_time": "2023-05-10T11:45:47.985Z"
   },
   {
    "duration": 22,
    "start_time": "2023-05-10T11:45:54.239Z"
   },
   {
    "duration": 25,
    "start_time": "2023-05-10T11:46:17.583Z"
   },
   {
    "duration": 77,
    "start_time": "2023-05-10T11:46:39.391Z"
   },
   {
    "duration": 31,
    "start_time": "2023-05-10T11:46:56.598Z"
   },
   {
    "duration": 23,
    "start_time": "2023-05-10T11:48:49.283Z"
   },
   {
    "duration": 26,
    "start_time": "2023-05-10T11:49:02.107Z"
   },
   {
    "duration": 24,
    "start_time": "2023-05-10T11:49:35.277Z"
   },
   {
    "duration": 123,
    "start_time": "2023-05-10T11:49:59.329Z"
   },
   {
    "duration": 18,
    "start_time": "2023-05-10T11:50:26.953Z"
   },
   {
    "duration": 17,
    "start_time": "2023-05-10T11:50:46.542Z"
   },
   {
    "duration": 35,
    "start_time": "2023-05-10T11:51:18.324Z"
   },
   {
    "duration": 23,
    "start_time": "2023-05-10T11:51:28.422Z"
   },
   {
    "duration": 18,
    "start_time": "2023-05-10T11:51:56.726Z"
   },
   {
    "duration": 23,
    "start_time": "2023-05-10T11:53:03.975Z"
   },
   {
    "duration": 26,
    "start_time": "2023-05-10T11:53:46.147Z"
   },
   {
    "duration": 26,
    "start_time": "2023-05-10T11:54:14.684Z"
   },
   {
    "duration": 22,
    "start_time": "2023-05-10T11:54:34.818Z"
   },
   {
    "duration": 22,
    "start_time": "2023-05-10T11:54:51.477Z"
   },
   {
    "duration": 17,
    "start_time": "2023-05-10T11:55:08.147Z"
   },
   {
    "duration": 8,
    "start_time": "2023-05-10T11:55:12.956Z"
   },
   {
    "duration": 74,
    "start_time": "2023-05-10T11:57:21.269Z"
   },
   {
    "duration": 71,
    "start_time": "2023-05-10T11:57:33.249Z"
   },
   {
    "duration": 3,
    "start_time": "2023-05-10T11:57:45.333Z"
   },
   {
    "duration": 6,
    "start_time": "2023-05-10T11:58:23.575Z"
   },
   {
    "duration": 16,
    "start_time": "2023-05-10T11:58:33.470Z"
   },
   {
    "duration": 15,
    "start_time": "2023-05-10T11:59:09.998Z"
   },
   {
    "duration": 390,
    "start_time": "2023-05-10T11:59:18.450Z"
   },
   {
    "duration": 37,
    "start_time": "2023-05-10T11:59:18.843Z"
   },
   {
    "duration": 12,
    "start_time": "2023-05-10T11:59:18.883Z"
   },
   {
    "duration": 38,
    "start_time": "2023-05-10T11:59:18.897Z"
   },
   {
    "duration": 15,
    "start_time": "2023-05-10T11:59:18.937Z"
   },
   {
    "duration": 18,
    "start_time": "2023-05-10T11:59:18.954Z"
   },
   {
    "duration": 11,
    "start_time": "2023-05-10T11:59:18.973Z"
   },
   {
    "duration": 11,
    "start_time": "2023-05-10T11:59:18.985Z"
   },
   {
    "duration": 4,
    "start_time": "2023-05-10T11:59:19.011Z"
   },
   {
    "duration": 14,
    "start_time": "2023-05-10T11:59:19.021Z"
   },
   {
    "duration": 8,
    "start_time": "2023-05-10T11:59:19.037Z"
   },
   {
    "duration": 12,
    "start_time": "2023-05-10T11:59:19.047Z"
   },
   {
    "duration": 16,
    "start_time": "2023-05-10T11:59:19.062Z"
   },
   {
    "duration": 6,
    "start_time": "2023-05-10T11:59:19.112Z"
   },
   {
    "duration": 34,
    "start_time": "2023-05-10T11:59:19.120Z"
   },
   {
    "duration": 23,
    "start_time": "2023-05-10T11:59:19.157Z"
   },
   {
    "duration": 857,
    "start_time": "2023-05-10T11:59:19.182Z"
   },
   {
    "duration": 6,
    "start_time": "2023-05-10T11:59:20.041Z"
   },
   {
    "duration": 174,
    "start_time": "2023-05-10T11:59:20.049Z"
   },
   {
    "duration": 206,
    "start_time": "2023-05-10T11:59:20.224Z"
   },
   {
    "duration": 6,
    "start_time": "2023-05-10T11:59:20.432Z"
   },
   {
    "duration": 106,
    "start_time": "2023-05-10T11:59:20.440Z"
   },
   {
    "duration": 402,
    "start_time": "2023-05-10T11:59:20.548Z"
   },
   {
    "duration": 4,
    "start_time": "2023-05-10T11:59:20.952Z"
   },
   {
    "duration": 11,
    "start_time": "2023-05-10T11:59:20.958Z"
   },
   {
    "duration": 147,
    "start_time": "2023-05-10T11:59:20.971Z"
   },
   {
    "duration": 167,
    "start_time": "2023-05-10T11:59:21.119Z"
   },
   {
    "duration": 633,
    "start_time": "2023-05-10T11:59:21.290Z"
   },
   {
    "duration": 457,
    "start_time": "2023-05-10T11:59:21.925Z"
   },
   {
    "duration": 8,
    "start_time": "2023-05-10T11:59:22.384Z"
   },
   {
    "duration": 595,
    "start_time": "2023-05-10T11:59:22.395Z"
   },
   {
    "duration": 8,
    "start_time": "2023-05-10T11:59:22.992Z"
   },
   {
    "duration": 583,
    "start_time": "2023-05-10T11:59:23.012Z"
   },
   {
    "duration": 15,
    "start_time": "2023-05-10T11:59:23.597Z"
   },
   {
    "duration": 5,
    "start_time": "2023-05-10T11:59:23.614Z"
   },
   {
    "duration": 19,
    "start_time": "2023-05-10T11:59:23.621Z"
   },
   {
    "duration": 18,
    "start_time": "2023-05-10T11:59:23.641Z"
   },
   {
    "duration": 15,
    "start_time": "2023-05-10T11:59:23.660Z"
   },
   {
    "duration": 458,
    "start_time": "2023-05-10T11:59:23.711Z"
   },
   {
    "duration": 640,
    "start_time": "2023-05-10T11:59:24.171Z"
   },
   {
    "duration": 434,
    "start_time": "2023-05-10T11:59:24.813Z"
   },
   {
    "duration": 5,
    "start_time": "2023-05-10T11:59:25.249Z"
   },
   {
    "duration": 512,
    "start_time": "2023-05-10T11:59:25.256Z"
   },
   {
    "duration": 6,
    "start_time": "2023-05-10T11:59:25.771Z"
   },
   {
    "duration": 21,
    "start_time": "2023-05-10T11:59:25.779Z"
   },
   {
    "duration": 22,
    "start_time": "2023-05-10T11:59:25.811Z"
   },
   {
    "duration": 18,
    "start_time": "2023-05-10T11:59:25.835Z"
   },
   {
    "duration": 7,
    "start_time": "2023-05-10T11:59:25.855Z"
   },
   {
    "duration": 3,
    "start_time": "2023-05-10T11:59:25.864Z"
   },
   {
    "duration": 24,
    "start_time": "2023-05-10T11:59:25.868Z"
   },
   {
    "duration": 8,
    "start_time": "2023-05-10T11:59:25.894Z"
   },
   {
    "duration": 4,
    "start_time": "2023-05-10T11:59:25.912Z"
   },
   {
    "duration": 440,
    "start_time": "2023-05-10T12:00:20.837Z"
   },
   {
    "duration": 37,
    "start_time": "2023-05-10T12:00:21.279Z"
   },
   {
    "duration": 12,
    "start_time": "2023-05-10T12:00:21.318Z"
   },
   {
    "duration": 34,
    "start_time": "2023-05-10T12:00:21.333Z"
   },
   {
    "duration": 13,
    "start_time": "2023-05-10T12:00:21.369Z"
   },
   {
    "duration": 28,
    "start_time": "2023-05-10T12:00:21.384Z"
   },
   {
    "duration": 12,
    "start_time": "2023-05-10T12:00:21.414Z"
   },
   {
    "duration": 14,
    "start_time": "2023-05-10T12:00:21.428Z"
   },
   {
    "duration": 11,
    "start_time": "2023-05-10T12:00:21.443Z"
   },
   {
    "duration": 13,
    "start_time": "2023-05-10T12:00:21.459Z"
   },
   {
    "duration": 8,
    "start_time": "2023-05-10T12:00:21.474Z"
   },
   {
    "duration": 32,
    "start_time": "2023-05-10T12:00:21.484Z"
   },
   {
    "duration": 5,
    "start_time": "2023-05-10T12:00:21.518Z"
   },
   {
    "duration": 5,
    "start_time": "2023-05-10T12:00:21.524Z"
   },
   {
    "duration": 14,
    "start_time": "2023-05-10T12:00:21.540Z"
   },
   {
    "duration": 15,
    "start_time": "2023-05-10T12:00:21.556Z"
   },
   {
    "duration": 796,
    "start_time": "2023-05-10T12:00:21.572Z"
   },
   {
    "duration": 6,
    "start_time": "2023-05-10T12:00:22.370Z"
   },
   {
    "duration": 180,
    "start_time": "2023-05-10T12:00:22.377Z"
   },
   {
    "duration": 191,
    "start_time": "2023-05-10T12:00:22.559Z"
   },
   {
    "duration": 7,
    "start_time": "2023-05-10T12:00:22.752Z"
   },
   {
    "duration": 128,
    "start_time": "2023-05-10T12:00:22.760Z"
   },
   {
    "duration": 412,
    "start_time": "2023-05-10T12:00:22.889Z"
   },
   {
    "duration": 10,
    "start_time": "2023-05-10T12:00:23.302Z"
   },
   {
    "duration": 31,
    "start_time": "2023-05-10T12:00:23.314Z"
   },
   {
    "duration": 149,
    "start_time": "2023-05-10T12:00:23.347Z"
   },
   {
    "duration": 173,
    "start_time": "2023-05-10T12:00:23.498Z"
   },
   {
    "duration": 646,
    "start_time": "2023-05-10T12:00:23.674Z"
   },
   {
    "duration": 478,
    "start_time": "2023-05-10T12:00:24.322Z"
   },
   {
    "duration": 15,
    "start_time": "2023-05-10T12:00:24.803Z"
   },
   {
    "duration": 545,
    "start_time": "2023-05-10T12:00:24.820Z"
   },
   {
    "duration": 9,
    "start_time": "2023-05-10T12:00:25.367Z"
   },
   {
    "duration": 524,
    "start_time": "2023-05-10T12:00:25.377Z"
   },
   {
    "duration": 16,
    "start_time": "2023-05-10T12:00:25.903Z"
   },
   {
    "duration": 13,
    "start_time": "2023-05-10T12:00:25.921Z"
   },
   {
    "duration": 29,
    "start_time": "2023-05-10T12:00:25.937Z"
   },
   {
    "duration": 20,
    "start_time": "2023-05-10T12:00:25.968Z"
   },
   {
    "duration": 24,
    "start_time": "2023-05-10T12:00:25.991Z"
   },
   {
    "duration": 540,
    "start_time": "2023-05-10T12:00:26.017Z"
   },
   {
    "duration": 646,
    "start_time": "2023-05-10T12:00:26.559Z"
   },
   {
    "duration": 458,
    "start_time": "2023-05-10T12:00:27.207Z"
   },
   {
    "duration": 6,
    "start_time": "2023-05-10T12:00:27.667Z"
   },
   {
    "duration": 601,
    "start_time": "2023-05-10T12:00:27.674Z"
   },
   {
    "duration": 5,
    "start_time": "2023-05-10T12:00:28.276Z"
   },
   {
    "duration": 19,
    "start_time": "2023-05-10T12:00:28.283Z"
   },
   {
    "duration": 30,
    "start_time": "2023-05-10T12:00:28.303Z"
   },
   {
    "duration": 19,
    "start_time": "2023-05-10T12:00:28.335Z"
   },
   {
    "duration": 3,
    "start_time": "2023-05-10T12:00:28.357Z"
   },
   {
    "duration": 10,
    "start_time": "2023-05-10T12:00:28.363Z"
   },
   {
    "duration": 4,
    "start_time": "2023-05-10T12:00:28.375Z"
   },
   {
    "duration": 136,
    "start_time": "2023-05-10T12:00:28.413Z"
   },
   {
    "duration": 0,
    "start_time": "2023-05-10T12:00:28.552Z"
   },
   {
    "duration": 387,
    "start_time": "2023-05-10T12:02:12.241Z"
   },
   {
    "duration": 41,
    "start_time": "2023-05-10T12:02:12.630Z"
   },
   {
    "duration": 12,
    "start_time": "2023-05-10T12:02:12.672Z"
   },
   {
    "duration": 43,
    "start_time": "2023-05-10T12:02:12.687Z"
   },
   {
    "duration": 12,
    "start_time": "2023-05-10T12:02:12.732Z"
   },
   {
    "duration": 20,
    "start_time": "2023-05-10T12:02:12.745Z"
   },
   {
    "duration": 10,
    "start_time": "2023-05-10T12:02:12.766Z"
   },
   {
    "duration": 15,
    "start_time": "2023-05-10T12:02:12.778Z"
   },
   {
    "duration": 17,
    "start_time": "2023-05-10T12:02:12.795Z"
   },
   {
    "duration": 12,
    "start_time": "2023-05-10T12:02:12.816Z"
   },
   {
    "duration": 7,
    "start_time": "2023-05-10T12:02:12.830Z"
   },
   {
    "duration": 7,
    "start_time": "2023-05-10T12:02:12.839Z"
   },
   {
    "duration": 4,
    "start_time": "2023-05-10T12:02:12.848Z"
   },
   {
    "duration": 7,
    "start_time": "2023-05-10T12:02:12.854Z"
   },
   {
    "duration": 50,
    "start_time": "2023-05-10T12:02:12.863Z"
   },
   {
    "duration": 15,
    "start_time": "2023-05-10T12:02:12.915Z"
   },
   {
    "duration": 848,
    "start_time": "2023-05-10T12:02:12.932Z"
   },
   {
    "duration": 6,
    "start_time": "2023-05-10T12:02:13.782Z"
   },
   {
    "duration": 193,
    "start_time": "2023-05-10T12:02:13.790Z"
   },
   {
    "duration": 193,
    "start_time": "2023-05-10T12:02:13.985Z"
   },
   {
    "duration": 6,
    "start_time": "2023-05-10T12:02:14.180Z"
   },
   {
    "duration": 133,
    "start_time": "2023-05-10T12:02:14.188Z"
   },
   {
    "duration": 375,
    "start_time": "2023-05-10T12:02:14.323Z"
   },
   {
    "duration": 4,
    "start_time": "2023-05-10T12:02:14.712Z"
   },
   {
    "duration": 10,
    "start_time": "2023-05-10T12:02:14.718Z"
   },
   {
    "duration": 138,
    "start_time": "2023-05-10T12:02:14.730Z"
   },
   {
    "duration": 164,
    "start_time": "2023-05-10T12:02:14.870Z"
   },
   {
    "duration": 575,
    "start_time": "2023-05-10T12:02:15.038Z"
   },
   {
    "duration": 479,
    "start_time": "2023-05-10T12:02:15.615Z"
   },
   {
    "duration": 17,
    "start_time": "2023-05-10T12:02:16.096Z"
   },
   {
    "duration": 557,
    "start_time": "2023-05-10T12:02:16.114Z"
   },
   {
    "duration": 9,
    "start_time": "2023-05-10T12:02:16.674Z"
   },
   {
    "duration": 607,
    "start_time": "2023-05-10T12:02:16.685Z"
   },
   {
    "duration": 9,
    "start_time": "2023-05-10T12:02:17.293Z"
   },
   {
    "duration": 12,
    "start_time": "2023-05-10T12:02:17.303Z"
   },
   {
    "duration": 20,
    "start_time": "2023-05-10T12:02:17.317Z"
   },
   {
    "duration": 16,
    "start_time": "2023-05-10T12:02:17.339Z"
   },
   {
    "duration": 14,
    "start_time": "2023-05-10T12:02:17.357Z"
   },
   {
    "duration": 492,
    "start_time": "2023-05-10T12:02:17.373Z"
   },
   {
    "duration": 628,
    "start_time": "2023-05-10T12:02:17.868Z"
   },
   {
    "duration": 441,
    "start_time": "2023-05-10T12:02:18.498Z"
   },
   {
    "duration": 5,
    "start_time": "2023-05-10T12:02:18.941Z"
   },
   {
    "duration": 643,
    "start_time": "2023-05-10T12:02:18.948Z"
   },
   {
    "duration": 10,
    "start_time": "2023-05-10T12:02:19.593Z"
   },
   {
    "duration": 19,
    "start_time": "2023-05-10T12:02:19.607Z"
   },
   {
    "duration": 29,
    "start_time": "2023-05-10T12:02:19.628Z"
   },
   {
    "duration": 24,
    "start_time": "2023-05-10T12:02:19.660Z"
   },
   {
    "duration": 27,
    "start_time": "2023-05-10T12:02:19.686Z"
   },
   {
    "duration": 428,
    "start_time": "2023-05-10T12:02:19.715Z"
   },
   {
    "duration": 0,
    "start_time": "2023-05-10T12:02:20.144Z"
   },
   {
    "duration": 15,
    "start_time": "2023-05-10T12:04:24.720Z"
   },
   {
    "duration": 19,
    "start_time": "2023-05-10T12:04:48.648Z"
   },
   {
    "duration": 20,
    "start_time": "2023-05-10T12:05:46.273Z"
   },
   {
    "duration": 3,
    "start_time": "2023-05-10T12:05:59.360Z"
   },
   {
    "duration": 9,
    "start_time": "2023-05-10T12:06:02.100Z"
   },
   {
    "duration": 7,
    "start_time": "2023-05-10T12:06:04.666Z"
   },
   {
    "duration": 12,
    "start_time": "2023-05-10T12:06:23.646Z"
   },
   {
    "duration": 13,
    "start_time": "2023-05-10T12:06:32.471Z"
   },
   {
    "duration": 447,
    "start_time": "2023-05-10T12:06:44.891Z"
   },
   {
    "duration": 35,
    "start_time": "2023-05-10T12:06:45.341Z"
   },
   {
    "duration": 11,
    "start_time": "2023-05-10T12:06:45.378Z"
   },
   {
    "duration": 33,
    "start_time": "2023-05-10T12:06:45.392Z"
   },
   {
    "duration": 12,
    "start_time": "2023-05-10T12:06:45.427Z"
   },
   {
    "duration": 25,
    "start_time": "2023-05-10T12:06:45.441Z"
   },
   {
    "duration": 11,
    "start_time": "2023-05-10T12:06:45.468Z"
   },
   {
    "duration": 10,
    "start_time": "2023-05-10T12:06:45.480Z"
   },
   {
    "duration": 8,
    "start_time": "2023-05-10T12:06:45.492Z"
   },
   {
    "duration": 11,
    "start_time": "2023-05-10T12:06:45.512Z"
   },
   {
    "duration": 6,
    "start_time": "2023-05-10T12:06:45.524Z"
   },
   {
    "duration": 9,
    "start_time": "2023-05-10T12:06:45.532Z"
   },
   {
    "duration": 11,
    "start_time": "2023-05-10T12:06:45.543Z"
   },
   {
    "duration": 6,
    "start_time": "2023-05-10T12:06:45.556Z"
   },
   {
    "duration": 15,
    "start_time": "2023-05-10T12:06:45.563Z"
   },
   {
    "duration": 42,
    "start_time": "2023-05-10T12:06:45.580Z"
   },
   {
    "duration": 812,
    "start_time": "2023-05-10T12:06:45.624Z"
   },
   {
    "duration": 7,
    "start_time": "2023-05-10T12:06:46.438Z"
   },
   {
    "duration": 180,
    "start_time": "2023-05-10T12:06:46.447Z"
   },
   {
    "duration": 200,
    "start_time": "2023-05-10T12:06:46.629Z"
   },
   {
    "duration": 6,
    "start_time": "2023-05-10T12:06:46.831Z"
   },
   {
    "duration": 114,
    "start_time": "2023-05-10T12:06:46.839Z"
   },
   {
    "duration": 446,
    "start_time": "2023-05-10T12:06:46.955Z"
   },
   {
    "duration": 4,
    "start_time": "2023-05-10T12:06:47.403Z"
   },
   {
    "duration": 10,
    "start_time": "2023-05-10T12:06:47.411Z"
   },
   {
    "duration": 142,
    "start_time": "2023-05-10T12:06:47.423Z"
   },
   {
    "duration": 163,
    "start_time": "2023-05-10T12:06:47.567Z"
   },
   {
    "duration": 594,
    "start_time": "2023-05-10T12:06:47.733Z"
   },
   {
    "duration": 471,
    "start_time": "2023-05-10T12:06:48.328Z"
   },
   {
    "duration": 15,
    "start_time": "2023-05-10T12:06:48.800Z"
   },
   {
    "duration": 577,
    "start_time": "2023-05-10T12:06:48.816Z"
   },
   {
    "duration": 17,
    "start_time": "2023-05-10T12:06:49.395Z"
   },
   {
    "duration": 597,
    "start_time": "2023-05-10T12:06:49.414Z"
   },
   {
    "duration": 10,
    "start_time": "2023-05-10T12:06:50.013Z"
   },
   {
    "duration": 17,
    "start_time": "2023-05-10T12:06:50.025Z"
   },
   {
    "duration": 29,
    "start_time": "2023-05-10T12:06:50.044Z"
   },
   {
    "duration": 19,
    "start_time": "2023-05-10T12:06:50.075Z"
   },
   {
    "duration": 28,
    "start_time": "2023-05-10T12:06:50.096Z"
   },
   {
    "duration": 438,
    "start_time": "2023-05-10T12:06:50.126Z"
   },
   {
    "duration": 635,
    "start_time": "2023-05-10T12:06:50.566Z"
   },
   {
    "duration": 441,
    "start_time": "2023-05-10T12:06:51.202Z"
   },
   {
    "duration": 6,
    "start_time": "2023-05-10T12:06:51.646Z"
   },
   {
    "duration": 614,
    "start_time": "2023-05-10T12:06:51.653Z"
   },
   {
    "duration": 5,
    "start_time": "2023-05-10T12:06:52.269Z"
   },
   {
    "duration": 32,
    "start_time": "2023-05-10T12:06:52.275Z"
   },
   {
    "duration": 24,
    "start_time": "2023-05-10T12:06:52.308Z"
   },
   {
    "duration": 19,
    "start_time": "2023-05-10T12:06:52.334Z"
   },
   {
    "duration": 4,
    "start_time": "2023-05-10T12:06:52.355Z"
   },
   {
    "duration": 15,
    "start_time": "2023-05-10T12:06:52.361Z"
   },
   {
    "duration": 18,
    "start_time": "2023-05-10T12:07:02.136Z"
   },
   {
    "duration": 22,
    "start_time": "2023-05-10T12:07:16.627Z"
   },
   {
    "duration": 10,
    "start_time": "2023-05-10T12:07:27.213Z"
   },
   {
    "duration": 8,
    "start_time": "2023-05-10T12:07:53.352Z"
   },
   {
    "duration": 16,
    "start_time": "2023-05-10T12:07:59.937Z"
   },
   {
    "duration": 10,
    "start_time": "2023-05-10T12:08:22.305Z"
   },
   {
    "duration": 11,
    "start_time": "2023-05-10T12:08:28.695Z"
   },
   {
    "duration": 15,
    "start_time": "2023-05-10T12:08:52.749Z"
   },
   {
    "duration": 19,
    "start_time": "2023-05-10T12:09:03.906Z"
   },
   {
    "duration": 140,
    "start_time": "2023-05-10T12:12:18.460Z"
   },
   {
    "duration": 493,
    "start_time": "2023-05-10T12:12:40.978Z"
   },
   {
    "duration": 35,
    "start_time": "2023-05-10T12:12:41.473Z"
   },
   {
    "duration": 13,
    "start_time": "2023-05-10T12:12:41.510Z"
   },
   {
    "duration": 31,
    "start_time": "2023-05-10T12:12:41.525Z"
   },
   {
    "duration": 13,
    "start_time": "2023-05-10T12:12:41.557Z"
   },
   {
    "duration": 23,
    "start_time": "2023-05-10T12:12:41.572Z"
   },
   {
    "duration": 27,
    "start_time": "2023-05-10T12:12:41.597Z"
   },
   {
    "duration": 10,
    "start_time": "2023-05-10T12:12:41.626Z"
   },
   {
    "duration": 6,
    "start_time": "2023-05-10T12:12:41.638Z"
   },
   {
    "duration": 16,
    "start_time": "2023-05-10T12:12:41.648Z"
   },
   {
    "duration": 7,
    "start_time": "2023-05-10T12:12:41.665Z"
   },
   {
    "duration": 43,
    "start_time": "2023-05-10T12:12:41.674Z"
   },
   {
    "duration": 6,
    "start_time": "2023-05-10T12:12:41.719Z"
   },
   {
    "duration": 8,
    "start_time": "2023-05-10T12:12:41.726Z"
   },
   {
    "duration": 14,
    "start_time": "2023-05-10T12:12:41.735Z"
   },
   {
    "duration": 24,
    "start_time": "2023-05-10T12:12:41.751Z"
   },
   {
    "duration": 805,
    "start_time": "2023-05-10T12:12:41.811Z"
   },
   {
    "duration": 7,
    "start_time": "2023-05-10T12:12:42.618Z"
   },
   {
    "duration": 213,
    "start_time": "2023-05-10T12:12:42.627Z"
   },
   {
    "duration": 191,
    "start_time": "2023-05-10T12:12:42.842Z"
   },
   {
    "duration": 9,
    "start_time": "2023-05-10T12:12:43.035Z"
   },
   {
    "duration": 177,
    "start_time": "2023-05-10T12:12:43.046Z"
   },
   {
    "duration": 485,
    "start_time": "2023-05-10T12:12:43.226Z"
   },
   {
    "duration": 4,
    "start_time": "2023-05-10T12:12:43.713Z"
   },
   {
    "duration": 11,
    "start_time": "2023-05-10T12:12:43.719Z"
   },
   {
    "duration": 170,
    "start_time": "2023-05-10T12:12:43.732Z"
   },
   {
    "duration": 178,
    "start_time": "2023-05-10T12:12:43.905Z"
   },
   {
    "duration": 765,
    "start_time": "2023-05-10T12:12:44.087Z"
   },
   {
    "duration": 569,
    "start_time": "2023-05-10T12:12:44.854Z"
   },
   {
    "duration": 9,
    "start_time": "2023-05-10T12:12:45.426Z"
   },
   {
    "duration": 523,
    "start_time": "2023-05-10T12:12:45.437Z"
   },
   {
    "duration": 9,
    "start_time": "2023-05-10T12:12:45.962Z"
   },
   {
    "duration": 682,
    "start_time": "2023-05-10T12:12:45.973Z"
   },
   {
    "duration": 9,
    "start_time": "2023-05-10T12:12:46.658Z"
   },
   {
    "duration": 10,
    "start_time": "2023-05-10T12:12:46.669Z"
   },
   {
    "duration": 61,
    "start_time": "2023-05-10T12:12:46.681Z"
   },
   {
    "duration": 23,
    "start_time": "2023-05-10T12:12:46.744Z"
   },
   {
    "duration": 43,
    "start_time": "2023-05-10T12:12:46.770Z"
   },
   {
    "duration": 587,
    "start_time": "2023-05-10T12:12:46.815Z"
   },
   {
    "duration": 711,
    "start_time": "2023-05-10T12:12:47.412Z"
   },
   {
    "duration": 440,
    "start_time": "2023-05-10T12:12:48.126Z"
   },
   {
    "duration": 6,
    "start_time": "2023-05-10T12:12:48.568Z"
   },
   {
    "duration": 731,
    "start_time": "2023-05-10T12:12:48.575Z"
   },
   {
    "duration": 6,
    "start_time": "2023-05-10T12:12:49.311Z"
   },
   {
    "duration": 13,
    "start_time": "2023-05-10T12:12:49.319Z"
   },
   {
    "duration": 37,
    "start_time": "2023-05-10T12:12:49.334Z"
   },
   {
    "duration": 29,
    "start_time": "2023-05-10T12:12:49.373Z"
   },
   {
    "duration": 14,
    "start_time": "2023-05-10T12:12:49.404Z"
   },
   {
    "duration": 9,
    "start_time": "2023-05-10T12:12:49.420Z"
   },
   {
    "duration": 34,
    "start_time": "2023-05-10T12:12:49.431Z"
   },
   {
    "duration": 14,
    "start_time": "2023-05-10T12:13:07.686Z"
   },
   {
    "duration": 14,
    "start_time": "2023-05-10T12:13:10.743Z"
   },
   {
    "duration": 425,
    "start_time": "2023-05-10T12:14:55.179Z"
   },
   {
    "duration": 46,
    "start_time": "2023-05-10T12:14:55.606Z"
   },
   {
    "duration": 12,
    "start_time": "2023-05-10T12:14:55.655Z"
   },
   {
    "duration": 39,
    "start_time": "2023-05-10T12:14:55.669Z"
   },
   {
    "duration": 22,
    "start_time": "2023-05-10T12:14:55.710Z"
   },
   {
    "duration": 17,
    "start_time": "2023-05-10T12:14:55.734Z"
   },
   {
    "duration": 10,
    "start_time": "2023-05-10T12:14:55.752Z"
   },
   {
    "duration": 9,
    "start_time": "2023-05-10T12:14:55.764Z"
   },
   {
    "duration": 5,
    "start_time": "2023-05-10T12:14:55.774Z"
   },
   {
    "duration": 16,
    "start_time": "2023-05-10T12:14:55.780Z"
   },
   {
    "duration": 16,
    "start_time": "2023-05-10T12:14:55.811Z"
   },
   {
    "duration": 9,
    "start_time": "2023-05-10T12:14:55.829Z"
   },
   {
    "duration": 6,
    "start_time": "2023-05-10T12:14:55.840Z"
   },
   {
    "duration": 9,
    "start_time": "2023-05-10T12:14:55.849Z"
   },
   {
    "duration": 13,
    "start_time": "2023-05-10T12:14:55.860Z"
   },
   {
    "duration": 57,
    "start_time": "2023-05-10T12:14:55.875Z"
   },
   {
    "duration": 829,
    "start_time": "2023-05-10T12:14:55.933Z"
   },
   {
    "duration": 7,
    "start_time": "2023-05-10T12:14:56.764Z"
   },
   {
    "duration": 189,
    "start_time": "2023-05-10T12:14:56.773Z"
   },
   {
    "duration": 205,
    "start_time": "2023-05-10T12:14:56.964Z"
   },
   {
    "duration": 6,
    "start_time": "2023-05-10T12:14:57.172Z"
   },
   {
    "duration": 127,
    "start_time": "2023-05-10T12:14:57.180Z"
   },
   {
    "duration": 427,
    "start_time": "2023-05-10T12:14:57.312Z"
   },
   {
    "duration": 5,
    "start_time": "2023-05-10T12:14:57.741Z"
   },
   {
    "duration": 13,
    "start_time": "2023-05-10T12:14:57.748Z"
   },
   {
    "duration": 147,
    "start_time": "2023-05-10T12:14:57.763Z"
   },
   {
    "duration": 167,
    "start_time": "2023-05-10T12:14:57.916Z"
   },
   {
    "duration": 674,
    "start_time": "2023-05-10T12:14:58.085Z"
   },
   {
    "duration": 589,
    "start_time": "2023-05-10T12:14:58.761Z"
   },
   {
    "duration": 10,
    "start_time": "2023-05-10T12:14:59.352Z"
   },
   {
    "duration": 606,
    "start_time": "2023-05-10T12:14:59.364Z"
   },
   {
    "duration": 9,
    "start_time": "2023-05-10T12:14:59.972Z"
   },
   {
    "duration": 641,
    "start_time": "2023-05-10T12:14:59.982Z"
   },
   {
    "duration": 10,
    "start_time": "2023-05-10T12:15:00.625Z"
   },
   {
    "duration": 66,
    "start_time": "2023-05-10T12:15:00.637Z"
   },
   {
    "duration": 84,
    "start_time": "2023-05-10T12:15:00.706Z"
   },
   {
    "duration": 54,
    "start_time": "2023-05-10T12:15:00.792Z"
   },
   {
    "duration": 49,
    "start_time": "2023-05-10T12:15:00.848Z"
   },
   {
    "duration": 489,
    "start_time": "2023-05-10T12:15:00.899Z"
   },
   {
    "duration": 642,
    "start_time": "2023-05-10T12:15:01.391Z"
   },
   {
    "duration": 453,
    "start_time": "2023-05-10T12:15:02.038Z"
   },
   {
    "duration": 6,
    "start_time": "2023-05-10T12:15:02.494Z"
   },
   {
    "duration": 610,
    "start_time": "2023-05-10T12:15:02.511Z"
   },
   {
    "duration": 6,
    "start_time": "2023-05-10T12:15:03.124Z"
   },
   {
    "duration": 5,
    "start_time": "2023-05-10T12:15:03.132Z"
   },
   {
    "duration": 14,
    "start_time": "2023-05-10T12:15:03.139Z"
   },
   {
    "duration": 31,
    "start_time": "2023-05-10T12:15:03.154Z"
   },
   {
    "duration": 28,
    "start_time": "2023-05-10T12:15:03.187Z"
   },
   {
    "duration": 7,
    "start_time": "2023-05-10T12:15:03.223Z"
   },
   {
    "duration": 44,
    "start_time": "2023-05-10T12:15:03.232Z"
   },
   {
    "duration": 21,
    "start_time": "2023-05-10T12:15:03.278Z"
   },
   {
    "duration": 478,
    "start_time": "2023-05-10T12:17:24.436Z"
   },
   {
    "duration": 9,
    "start_time": "2023-05-10T12:19:30.288Z"
   },
   {
    "duration": 12,
    "start_time": "2023-05-10T12:19:36.384Z"
   },
   {
    "duration": 10,
    "start_time": "2023-05-10T12:20:19.183Z"
   },
   {
    "duration": 13,
    "start_time": "2023-05-10T12:20:27.288Z"
   },
   {
    "duration": 9,
    "start_time": "2023-05-10T12:21:16.637Z"
   },
   {
    "duration": 15,
    "start_time": "2023-05-10T12:21:24.798Z"
   },
   {
    "duration": 1494,
    "start_time": "2023-05-10T12:24:00.002Z"
   },
   {
    "duration": 7,
    "start_time": "2023-05-10T12:24:05.087Z"
   },
   {
    "duration": 13,
    "start_time": "2023-05-10T12:24:12.877Z"
   },
   {
    "duration": 16,
    "start_time": "2023-05-10T12:24:43.012Z"
   },
   {
    "duration": 18,
    "start_time": "2023-05-10T12:26:01.097Z"
   },
   {
    "duration": 427,
    "start_time": "2023-05-18T15:23:59.687Z"
   },
   {
    "duration": 119,
    "start_time": "2023-05-18T15:24:00.116Z"
   },
   {
    "duration": 11,
    "start_time": "2023-05-18T15:24:00.237Z"
   },
   {
    "duration": 221,
    "start_time": "2023-05-18T15:24:00.250Z"
   },
   {
    "duration": 11,
    "start_time": "2023-05-18T15:24:00.473Z"
   },
   {
    "duration": 98,
    "start_time": "2023-05-18T15:24:00.486Z"
   },
   {
    "duration": 9,
    "start_time": "2023-05-18T15:24:00.586Z"
   },
   {
    "duration": 43,
    "start_time": "2023-05-18T15:24:00.597Z"
   },
   {
    "duration": 40,
    "start_time": "2023-05-18T15:24:00.641Z"
   },
   {
    "duration": 35,
    "start_time": "2023-05-18T15:24:00.685Z"
   },
   {
    "duration": 35,
    "start_time": "2023-05-18T15:24:00.721Z"
   },
   {
    "duration": 51,
    "start_time": "2023-05-18T15:24:00.757Z"
   },
   {
    "duration": 27,
    "start_time": "2023-05-18T15:24:00.810Z"
   },
   {
    "duration": 30,
    "start_time": "2023-05-18T15:24:00.839Z"
   },
   {
    "duration": 38,
    "start_time": "2023-05-18T15:24:00.871Z"
   },
   {
    "duration": 40,
    "start_time": "2023-05-18T15:24:00.910Z"
   },
   {
    "duration": 40,
    "start_time": "2023-05-18T15:24:00.952Z"
   },
   {
    "duration": 912,
    "start_time": "2023-05-18T15:24:00.994Z"
   },
   {
    "duration": 7,
    "start_time": "2023-05-18T15:24:01.908Z"
   },
   {
    "duration": 162,
    "start_time": "2023-05-18T15:24:01.916Z"
   },
   {
    "duration": 171,
    "start_time": "2023-05-18T15:24:02.080Z"
   },
   {
    "duration": 6,
    "start_time": "2023-05-18T15:24:02.253Z"
   },
   {
    "duration": 100,
    "start_time": "2023-05-18T15:24:02.260Z"
   },
   {
    "duration": 413,
    "start_time": "2023-05-18T15:24:02.361Z"
   },
   {
    "duration": 4,
    "start_time": "2023-05-18T15:24:02.776Z"
   },
   {
    "duration": 11,
    "start_time": "2023-05-18T15:24:02.781Z"
   },
   {
    "duration": 120,
    "start_time": "2023-05-18T15:24:02.794Z"
   },
   {
    "duration": 147,
    "start_time": "2023-05-18T15:24:02.918Z"
   },
   {
    "duration": 594,
    "start_time": "2023-05-18T15:24:03.067Z"
   },
   {
    "duration": 527,
    "start_time": "2023-05-18T15:24:03.663Z"
   },
   {
    "duration": 10,
    "start_time": "2023-05-18T15:24:04.192Z"
   },
   {
    "duration": 508,
    "start_time": "2023-05-18T15:24:04.204Z"
   },
   {
    "duration": 7,
    "start_time": "2023-05-18T15:24:04.714Z"
   },
   {
    "duration": 518,
    "start_time": "2023-05-18T15:24:04.723Z"
   },
   {
    "duration": 8,
    "start_time": "2023-05-18T15:24:05.243Z"
   },
   {
    "duration": 9,
    "start_time": "2023-05-18T15:24:05.253Z"
   },
   {
    "duration": 29,
    "start_time": "2023-05-18T15:24:05.264Z"
   },
   {
    "duration": 14,
    "start_time": "2023-05-18T15:24:05.294Z"
   },
   {
    "duration": 38,
    "start_time": "2023-05-18T15:24:05.310Z"
   },
   {
    "duration": 470,
    "start_time": "2023-05-18T15:24:05.349Z"
   },
   {
    "duration": 639,
    "start_time": "2023-05-18T15:24:05.821Z"
   },
   {
    "duration": 418,
    "start_time": "2023-05-18T15:24:06.463Z"
   },
   {
    "duration": 5,
    "start_time": "2023-05-18T15:24:06.884Z"
   },
   {
    "duration": 549,
    "start_time": "2023-05-18T15:24:06.890Z"
   },
   {
    "duration": 6,
    "start_time": "2023-05-18T15:24:07.440Z"
   },
   {
    "duration": 9,
    "start_time": "2023-05-18T15:24:07.448Z"
   },
   {
    "duration": 28,
    "start_time": "2023-05-18T15:24:07.458Z"
   },
   {
    "duration": 41,
    "start_time": "2023-05-18T15:24:07.488Z"
   },
   {
    "duration": 9,
    "start_time": "2023-05-18T15:24:07.531Z"
   },
   {
    "duration": 15,
    "start_time": "2023-05-18T15:24:07.542Z"
   },
   {
    "duration": 39,
    "start_time": "2023-05-18T15:24:07.558Z"
   },
   {
    "duration": 15,
    "start_time": "2023-05-18T15:24:07.599Z"
   },
   {
    "duration": 94,
    "start_time": "2023-05-18T15:24:07.616Z"
   },
   {
    "duration": 149,
    "start_time": "2023-05-18T15:24:50.432Z"
   },
   {
    "duration": 11,
    "start_time": "2023-05-18T15:25:00.415Z"
   },
   {
    "duration": 76,
    "start_time": "2023-05-18T15:26:17.512Z"
   },
   {
    "duration": 82,
    "start_time": "2023-05-18T15:27:21.322Z"
   },
   {
    "duration": 79,
    "start_time": "2023-05-18T15:29:49.528Z"
   },
   {
    "duration": 5,
    "start_time": "2023-05-18T15:30:54.742Z"
   },
   {
    "duration": 6,
    "start_time": "2023-05-18T15:31:25.087Z"
   },
   {
    "duration": 6,
    "start_time": "2023-05-18T15:33:07.856Z"
   },
   {
    "duration": 7,
    "start_time": "2023-05-18T15:33:58.512Z"
   },
   {
    "duration": 6,
    "start_time": "2023-05-18T15:34:29.785Z"
   },
   {
    "duration": 6,
    "start_time": "2023-05-18T15:34:39.409Z"
   },
   {
    "duration": 11,
    "start_time": "2023-05-18T15:34:47.889Z"
   },
   {
    "duration": 6,
    "start_time": "2023-05-18T15:34:52.468Z"
   },
   {
    "duration": 7,
    "start_time": "2023-05-18T15:34:58.355Z"
   },
   {
    "duration": 6,
    "start_time": "2023-05-18T15:35:03.306Z"
   },
   {
    "duration": 5,
    "start_time": "2023-05-18T15:52:38.545Z"
   },
   {
    "duration": 4,
    "start_time": "2023-05-18T15:52:56.195Z"
   },
   {
    "duration": 2,
    "start_time": "2023-05-18T15:53:12.608Z"
   },
   {
    "duration": 414,
    "start_time": "2023-05-18T16:08:03.742Z"
   },
   {
    "duration": 6,
    "start_time": "2023-05-18T16:09:58.552Z"
   },
   {
    "duration": 6,
    "start_time": "2023-05-18T16:11:06.197Z"
   },
   {
    "duration": 5,
    "start_time": "2023-05-18T16:11:22.945Z"
   },
   {
    "duration": 7,
    "start_time": "2023-05-18T16:11:55.090Z"
   },
   {
    "duration": 75,
    "start_time": "2023-05-22T18:34:08.157Z"
   },
   {
    "duration": 431,
    "start_time": "2023-05-22T18:34:20.472Z"
   },
   {
    "duration": 145,
    "start_time": "2023-05-22T18:34:20.905Z"
   },
   {
    "duration": 13,
    "start_time": "2023-05-22T18:34:21.051Z"
   },
   {
    "duration": 140,
    "start_time": "2023-05-22T18:34:21.066Z"
   },
   {
    "duration": 17,
    "start_time": "2023-05-22T18:34:21.207Z"
   },
   {
    "duration": 87,
    "start_time": "2023-05-22T18:34:21.228Z"
   },
   {
    "duration": 14,
    "start_time": "2023-05-22T18:34:21.317Z"
   },
   {
    "duration": 52,
    "start_time": "2023-05-22T18:34:21.333Z"
   },
   {
    "duration": 3,
    "start_time": "2023-05-22T18:34:21.386Z"
   },
   {
    "duration": 10,
    "start_time": "2023-05-22T18:34:21.394Z"
   },
   {
    "duration": 6,
    "start_time": "2023-05-22T18:34:21.405Z"
   },
   {
    "duration": 17,
    "start_time": "2023-05-22T18:34:21.413Z"
   },
   {
    "duration": 49,
    "start_time": "2023-05-22T18:34:21.432Z"
   },
   {
    "duration": 16,
    "start_time": "2023-05-22T18:34:21.483Z"
   },
   {
    "duration": 9,
    "start_time": "2023-05-22T18:34:21.501Z"
   },
   {
    "duration": 7,
    "start_time": "2023-05-22T18:34:21.511Z"
   },
   {
    "duration": 64,
    "start_time": "2023-05-22T18:34:21.519Z"
   },
   {
    "duration": 18,
    "start_time": "2023-05-22T18:34:21.585Z"
   },
   {
    "duration": 1091,
    "start_time": "2023-05-22T18:34:21.605Z"
   },
   {
    "duration": 6,
    "start_time": "2023-05-22T18:34:22.698Z"
   },
   {
    "duration": 265,
    "start_time": "2023-05-22T18:34:22.706Z"
   },
   {
    "duration": 203,
    "start_time": "2023-05-22T18:34:22.976Z"
   },
   {
    "duration": 6,
    "start_time": "2023-05-22T18:34:23.181Z"
   },
   {
    "duration": 164,
    "start_time": "2023-05-22T18:34:23.189Z"
   },
   {
    "duration": 469,
    "start_time": "2023-05-22T18:34:23.356Z"
   },
   {
    "duration": 7,
    "start_time": "2023-05-22T18:34:23.828Z"
   },
   {
    "duration": 50,
    "start_time": "2023-05-22T18:34:23.840Z"
   },
   {
    "duration": 7,
    "start_time": "2023-05-22T18:34:23.895Z"
   },
   {
    "duration": 168,
    "start_time": "2023-05-22T18:34:23.904Z"
   },
   {
    "duration": 169,
    "start_time": "2023-05-22T18:34:24.074Z"
   },
   {
    "duration": 601,
    "start_time": "2023-05-22T18:34:24.246Z"
   },
   {
    "duration": 457,
    "start_time": "2023-05-22T18:34:24.849Z"
   },
   {
    "duration": 13,
    "start_time": "2023-05-22T18:34:25.311Z"
   },
   {
    "duration": 590,
    "start_time": "2023-05-22T18:34:25.325Z"
   },
   {
    "duration": 26,
    "start_time": "2023-05-22T18:34:25.917Z"
   },
   {
    "duration": 25,
    "start_time": "2023-05-22T18:34:25.956Z"
   },
   {
    "duration": 599,
    "start_time": "2023-05-22T18:34:25.983Z"
   },
   {
    "duration": 8,
    "start_time": "2023-05-22T18:34:26.584Z"
   },
   {
    "duration": 9,
    "start_time": "2023-05-22T18:34:26.594Z"
   },
   {
    "duration": 32,
    "start_time": "2023-05-22T18:34:26.605Z"
   },
   {
    "duration": 26,
    "start_time": "2023-05-22T18:34:26.639Z"
   },
   {
    "duration": 29,
    "start_time": "2023-05-22T18:34:26.667Z"
   },
   {
    "duration": 551,
    "start_time": "2023-05-22T18:34:26.698Z"
   },
   {
    "duration": 660,
    "start_time": "2023-05-22T18:34:27.256Z"
   },
   {
    "duration": 442,
    "start_time": "2023-05-22T18:34:27.929Z"
   },
   {
    "duration": 8,
    "start_time": "2023-05-22T18:34:28.373Z"
   },
   {
    "duration": 552,
    "start_time": "2023-05-22T18:34:28.383Z"
   },
   {
    "duration": 12,
    "start_time": "2023-05-22T18:34:28.951Z"
   },
   {
    "duration": 5,
    "start_time": "2023-05-22T18:34:28.969Z"
   },
   {
    "duration": 19,
    "start_time": "2023-05-22T18:34:28.976Z"
   },
   {
    "duration": 42,
    "start_time": "2023-05-22T18:34:28.997Z"
   },
   {
    "duration": 35,
    "start_time": "2023-05-22T18:34:29.041Z"
   },
   {
    "duration": 5,
    "start_time": "2023-05-22T18:34:29.078Z"
   },
   {
    "duration": 25,
    "start_time": "2023-05-22T18:34:29.085Z"
   },
   {
    "duration": 40,
    "start_time": "2023-05-22T18:34:29.113Z"
   },
   {
    "duration": 139,
    "start_time": "2023-05-22T18:34:29.155Z"
   },
   {
    "duration": 33,
    "start_time": "2023-05-22T18:35:37.715Z"
   },
   {
    "duration": 12,
    "start_time": "2023-05-22T18:37:22.665Z"
   },
   {
    "duration": 22,
    "start_time": "2023-05-22T18:37:44.022Z"
   },
   {
    "duration": 21,
    "start_time": "2023-05-22T18:38:22.310Z"
   },
   {
    "duration": 163,
    "start_time": "2023-05-22T18:40:17.588Z"
   },
   {
    "duration": 29,
    "start_time": "2023-05-22T18:41:30.149Z"
   },
   {
    "duration": 8,
    "start_time": "2023-05-22T18:41:42.864Z"
   },
   {
    "duration": 13,
    "start_time": "2023-05-22T18:42:27.010Z"
   },
   {
    "duration": 7,
    "start_time": "2023-05-22T18:45:59.388Z"
   },
   {
    "duration": 9,
    "start_time": "2023-05-22T18:46:03.162Z"
   },
   {
    "duration": 8,
    "start_time": "2023-05-22T18:49:30.573Z"
   },
   {
    "duration": 557,
    "start_time": "2023-05-22T18:50:33.640Z"
   },
   {
    "duration": 379,
    "start_time": "2023-05-22T18:51:28.189Z"
   },
   {
    "duration": 351,
    "start_time": "2023-05-22T18:52:04.536Z"
   },
   {
    "duration": 337,
    "start_time": "2023-05-22T18:52:28.345Z"
   },
   {
    "duration": 496,
    "start_time": "2023-05-22T18:53:02.383Z"
   },
   {
    "duration": 584,
    "start_time": "2023-05-22T18:53:50.481Z"
   },
   {
    "duration": 565,
    "start_time": "2023-05-22T18:53:57.791Z"
   },
   {
    "duration": 796,
    "start_time": "2023-05-22T18:54:05.796Z"
   },
   {
    "duration": 975,
    "start_time": "2023-05-22T18:54:16.469Z"
   },
   {
    "duration": 704,
    "start_time": "2023-05-22T18:54:38.148Z"
   },
   {
    "duration": 490,
    "start_time": "2023-05-22T18:57:32.281Z"
   },
   {
    "duration": 445,
    "start_time": "2023-05-22T18:58:08.650Z"
   },
   {
    "duration": 74,
    "start_time": "2023-05-22T18:58:09.096Z"
   },
   {
    "duration": 12,
    "start_time": "2023-05-22T18:58:09.171Z"
   },
   {
    "duration": 66,
    "start_time": "2023-05-22T18:58:09.185Z"
   },
   {
    "duration": 11,
    "start_time": "2023-05-22T18:58:09.254Z"
   },
   {
    "duration": 19,
    "start_time": "2023-05-22T18:58:09.267Z"
   },
   {
    "duration": 9,
    "start_time": "2023-05-22T18:58:09.288Z"
   },
   {
    "duration": 9,
    "start_time": "2023-05-22T18:58:09.299Z"
   },
   {
    "duration": 3,
    "start_time": "2023-05-22T18:58:09.310Z"
   },
   {
    "duration": 48,
    "start_time": "2023-05-22T18:58:09.315Z"
   },
   {
    "duration": 8,
    "start_time": "2023-05-22T18:58:09.365Z"
   },
   {
    "duration": 15,
    "start_time": "2023-05-22T18:58:09.375Z"
   },
   {
    "duration": 7,
    "start_time": "2023-05-22T18:58:09.392Z"
   },
   {
    "duration": 24,
    "start_time": "2023-05-22T18:58:09.404Z"
   },
   {
    "duration": 33,
    "start_time": "2023-05-22T18:58:09.430Z"
   },
   {
    "duration": 6,
    "start_time": "2023-05-22T18:58:09.465Z"
   },
   {
    "duration": 15,
    "start_time": "2023-05-22T18:58:09.472Z"
   },
   {
    "duration": 63,
    "start_time": "2023-05-22T18:58:09.489Z"
   },
   {
    "duration": 797,
    "start_time": "2023-05-22T18:58:09.558Z"
   },
   {
    "duration": 6,
    "start_time": "2023-05-22T18:58:10.357Z"
   },
   {
    "duration": 186,
    "start_time": "2023-05-22T18:58:10.365Z"
   },
   {
    "duration": 190,
    "start_time": "2023-05-22T18:58:10.553Z"
   },
   {
    "duration": 5,
    "start_time": "2023-05-22T18:58:10.745Z"
   },
   {
    "duration": 131,
    "start_time": "2023-05-22T18:58:10.752Z"
   },
   {
    "duration": 406,
    "start_time": "2023-05-22T18:58:10.885Z"
   },
   {
    "duration": 6,
    "start_time": "2023-05-22T18:58:11.293Z"
   },
   {
    "duration": 6,
    "start_time": "2023-05-22T18:58:11.301Z"
   },
   {
    "duration": 59,
    "start_time": "2023-05-22T18:58:11.308Z"
   },
   {
    "duration": 146,
    "start_time": "2023-05-22T18:58:11.369Z"
   },
   {
    "duration": 180,
    "start_time": "2023-05-22T18:58:11.528Z"
   },
   {
    "duration": 784,
    "start_time": "2023-05-22T18:58:11.711Z"
   },
   {
    "duration": 451,
    "start_time": "2023-05-22T18:58:12.497Z"
   },
   {
    "duration": 9,
    "start_time": "2023-05-22T18:58:12.950Z"
   },
   {
    "duration": 696,
    "start_time": "2023-05-22T18:58:12.961Z"
   },
   {
    "duration": 9,
    "start_time": "2023-05-22T18:58:13.668Z"
   },
   {
    "duration": 13,
    "start_time": "2023-05-22T18:58:13.679Z"
   },
   {
    "duration": 903,
    "start_time": "2023-05-22T18:58:13.694Z"
   },
   {
    "duration": 488,
    "start_time": "2023-05-22T18:58:14.599Z"
   },
   {
    "duration": 9,
    "start_time": "2023-05-22T18:58:15.097Z"
   },
   {
    "duration": 87,
    "start_time": "2023-05-22T18:58:15.108Z"
   },
   {
    "duration": 19,
    "start_time": "2023-05-22T18:58:15.204Z"
   },
   {
    "duration": 47,
    "start_time": "2023-05-22T18:58:15.236Z"
   },
   {
    "duration": 25,
    "start_time": "2023-05-22T18:58:15.285Z"
   },
   {
    "duration": 36,
    "start_time": "2023-05-22T18:58:15.312Z"
   },
   {
    "duration": 630,
    "start_time": "2023-05-22T18:58:15.355Z"
   },
   {
    "duration": 592,
    "start_time": "2023-05-22T18:58:15.988Z"
   },
   {
    "duration": 457,
    "start_time": "2023-05-22T18:58:16.582Z"
   },
   {
    "duration": 6,
    "start_time": "2023-05-22T18:58:17.041Z"
   },
   {
    "duration": 839,
    "start_time": "2023-05-22T18:58:17.049Z"
   },
   {
    "duration": 7,
    "start_time": "2023-05-22T18:58:17.890Z"
   },
   {
    "duration": 5,
    "start_time": "2023-05-22T18:58:17.918Z"
   },
   {
    "duration": 19,
    "start_time": "2023-05-22T18:58:17.924Z"
   },
   {
    "duration": 57,
    "start_time": "2023-05-22T18:58:17.945Z"
   },
   {
    "duration": 10,
    "start_time": "2023-05-22T18:58:18.005Z"
   },
   {
    "duration": 58,
    "start_time": "2023-05-22T18:58:18.017Z"
   },
   {
    "duration": 24,
    "start_time": "2023-05-22T18:58:18.079Z"
   },
   {
    "duration": 30,
    "start_time": "2023-05-22T18:58:18.105Z"
   },
   {
    "duration": 63,
    "start_time": "2023-05-22T18:58:18.137Z"
   },
   {
    "duration": 6,
    "start_time": "2023-05-22T19:00:54.437Z"
   },
   {
    "duration": 3,
    "start_time": "2023-05-22T19:01:49.282Z"
   },
   {
    "duration": 732,
    "start_time": "2023-05-22T19:28:24.280Z"
   },
   {
    "duration": 437,
    "start_time": "2023-05-22T19:30:03.460Z"
   },
   {
    "duration": 425,
    "start_time": "2023-05-22T19:30:33.462Z"
   },
   {
    "duration": 337,
    "start_time": "2023-05-22T19:30:48.150Z"
   },
   {
    "duration": 408,
    "start_time": "2023-05-22T19:31:05.670Z"
   },
   {
    "duration": 315,
    "start_time": "2023-05-22T19:31:23.057Z"
   },
   {
    "duration": 317,
    "start_time": "2023-05-22T19:31:53.954Z"
   },
   {
    "duration": 366,
    "start_time": "2023-05-22T19:32:04.330Z"
   },
   {
    "duration": 393,
    "start_time": "2023-05-22T19:32:18.033Z"
   },
   {
    "duration": 376,
    "start_time": "2023-05-22T19:32:36.155Z"
   },
   {
    "duration": 449,
    "start_time": "2023-05-22T19:32:41.362Z"
   },
   {
    "duration": 379,
    "start_time": "2023-05-22T19:32:50.272Z"
   },
   {
    "duration": 382,
    "start_time": "2023-05-22T19:33:06.041Z"
   },
   {
    "duration": 411,
    "start_time": "2023-05-22T19:33:12.591Z"
   },
   {
    "duration": 407,
    "start_time": "2023-05-22T19:33:59.155Z"
   },
   {
    "duration": 419,
    "start_time": "2023-05-22T19:34:06.650Z"
   },
   {
    "duration": 381,
    "start_time": "2023-05-22T19:34:28.724Z"
   },
   {
    "duration": 328,
    "start_time": "2023-05-22T19:34:38.941Z"
   },
   {
    "duration": 356,
    "start_time": "2023-05-22T19:34:57.363Z"
   },
   {
    "duration": 361,
    "start_time": "2023-05-22T19:36:07.645Z"
   },
   {
    "duration": 413,
    "start_time": "2023-05-22T19:36:43.553Z"
   },
   {
    "duration": 396,
    "start_time": "2023-05-22T19:36:54.337Z"
   },
   {
    "duration": 362,
    "start_time": "2023-05-22T19:37:53.639Z"
   },
   {
    "duration": 462,
    "start_time": "2023-05-22T19:38:20.847Z"
   },
   {
    "duration": 448,
    "start_time": "2023-05-22T19:38:32.361Z"
   },
   {
    "duration": 50,
    "start_time": "2023-05-30T17:11:02.953Z"
   },
   {
    "duration": 419,
    "start_time": "2023-05-30T17:11:09.002Z"
   },
   {
    "duration": 96,
    "start_time": "2023-05-30T17:11:09.423Z"
   },
   {
    "duration": 10,
    "start_time": "2023-05-30T17:11:09.521Z"
   },
   {
    "duration": 77,
    "start_time": "2023-05-30T17:11:09.532Z"
   },
   {
    "duration": 11,
    "start_time": "2023-05-30T17:11:09.610Z"
   },
   {
    "duration": 60,
    "start_time": "2023-05-30T17:11:09.623Z"
   },
   {
    "duration": 20,
    "start_time": "2023-05-30T17:11:09.685Z"
   },
   {
    "duration": 30,
    "start_time": "2023-05-30T17:11:09.707Z"
   },
   {
    "duration": 20,
    "start_time": "2023-05-30T17:11:09.739Z"
   },
   {
    "duration": 15,
    "start_time": "2023-05-30T17:11:09.762Z"
   },
   {
    "duration": 5,
    "start_time": "2023-05-30T17:11:09.779Z"
   },
   {
    "duration": 21,
    "start_time": "2023-05-30T17:11:09.785Z"
   },
   {
    "duration": 6,
    "start_time": "2023-05-30T17:11:09.808Z"
   },
   {
    "duration": 6,
    "start_time": "2023-05-30T17:11:09.815Z"
   },
   {
    "duration": 6,
    "start_time": "2023-05-30T17:11:09.822Z"
   },
   {
    "duration": 10,
    "start_time": "2023-05-30T17:11:09.830Z"
   },
   {
    "duration": 23,
    "start_time": "2023-05-30T17:11:09.841Z"
   },
   {
    "duration": 13,
    "start_time": "2023-05-30T17:11:09.866Z"
   },
   {
    "duration": 923,
    "start_time": "2023-05-30T17:11:09.881Z"
   },
   {
    "duration": 6,
    "start_time": "2023-05-30T17:11:10.806Z"
   },
   {
    "duration": 157,
    "start_time": "2023-05-30T17:11:10.813Z"
   },
   {
    "duration": 181,
    "start_time": "2023-05-30T17:11:10.971Z"
   },
   {
    "duration": 6,
    "start_time": "2023-05-30T17:11:11.154Z"
   },
   {
    "duration": 97,
    "start_time": "2023-05-30T17:11:11.161Z"
   },
   {
    "duration": 460,
    "start_time": "2023-05-30T17:11:11.260Z"
   },
   {
    "duration": 7,
    "start_time": "2023-05-30T17:11:11.722Z"
   },
   {
    "duration": 8,
    "start_time": "2023-05-30T17:11:11.731Z"
   },
   {
    "duration": 12,
    "start_time": "2023-05-30T17:11:11.744Z"
   },
   {
    "duration": 142,
    "start_time": "2023-05-30T17:11:11.758Z"
   },
   {
    "duration": 160,
    "start_time": "2023-05-30T17:11:11.902Z"
   },
   {
    "duration": 633,
    "start_time": "2023-05-30T17:11:12.064Z"
   },
   {
    "duration": 474,
    "start_time": "2023-05-30T17:11:12.699Z"
   },
   {
    "duration": 7,
    "start_time": "2023-05-30T17:11:13.175Z"
   },
   {
    "duration": 567,
    "start_time": "2023-05-30T17:11:13.184Z"
   },
   {
    "duration": 9,
    "start_time": "2023-05-30T17:11:13.753Z"
   },
   {
    "duration": 10,
    "start_time": "2023-05-30T17:11:13.764Z"
   },
   {
    "duration": 742,
    "start_time": "2023-05-30T17:11:13.776Z"
   },
   {
    "duration": 335,
    "start_time": "2023-05-30T17:11:14.520Z"
   },
   {
    "duration": 7,
    "start_time": "2023-05-30T17:11:14.857Z"
   },
   {
    "duration": 10,
    "start_time": "2023-05-30T17:11:14.865Z"
   },
   {
    "duration": 9,
    "start_time": "2023-05-30T17:11:14.876Z"
   },
   {
    "duration": 18,
    "start_time": "2023-05-30T17:11:14.897Z"
   },
   {
    "duration": 15,
    "start_time": "2023-05-30T17:11:14.916Z"
   },
   {
    "duration": 13,
    "start_time": "2023-05-30T17:11:14.932Z"
   },
   {
    "duration": 453,
    "start_time": "2023-05-30T17:11:14.947Z"
   },
   {
    "duration": 350,
    "start_time": "2023-05-30T17:11:15.403Z"
   },
   {
    "duration": 485,
    "start_time": "2023-05-30T17:11:15.755Z"
   },
   {
    "duration": 682,
    "start_time": "2023-05-30T17:11:16.242Z"
   },
   {
    "duration": 338,
    "start_time": "2023-05-30T17:11:16.925Z"
   },
   {
    "duration": 427,
    "start_time": "2023-05-30T17:11:17.265Z"
   },
   {
    "duration": 5,
    "start_time": "2023-05-30T17:11:17.695Z"
   },
   {
    "duration": 522,
    "start_time": "2023-05-30T17:11:17.702Z"
   },
   {
    "duration": 6,
    "start_time": "2023-05-30T17:11:18.226Z"
   },
   {
    "duration": 3,
    "start_time": "2023-05-30T17:11:18.233Z"
   },
   {
    "duration": 12,
    "start_time": "2023-05-30T17:11:18.238Z"
   },
   {
    "duration": 42,
    "start_time": "2023-05-30T17:11:18.252Z"
   },
   {
    "duration": 9,
    "start_time": "2023-05-30T17:11:18.295Z"
   },
   {
    "duration": 8,
    "start_time": "2023-05-30T17:11:18.306Z"
   },
   {
    "duration": 11,
    "start_time": "2023-05-30T17:11:18.316Z"
   },
   {
    "duration": 11,
    "start_time": "2023-05-30T17:11:18.329Z"
   },
   {
    "duration": 15,
    "start_time": "2023-05-30T17:11:18.342Z"
   },
   {
    "duration": 443,
    "start_time": "2023-05-30T17:17:53.255Z"
   },
   {
    "duration": 358,
    "start_time": "2023-05-30T17:18:17.792Z"
   },
   {
    "duration": 367,
    "start_time": "2023-05-30T17:18:48.307Z"
   },
   {
    "duration": 383,
    "start_time": "2023-05-30T17:19:11.075Z"
   },
   {
    "duration": 710,
    "start_time": "2023-05-30T17:22:00.332Z"
   },
   {
    "duration": 527,
    "start_time": "2023-05-30T17:45:30.386Z"
   },
   {
    "duration": 476,
    "start_time": "2023-05-30T17:46:55.992Z"
   },
   {
    "duration": 462,
    "start_time": "2023-05-30T17:47:11.774Z"
   },
   {
    "duration": 457,
    "start_time": "2023-05-30T17:47:21.317Z"
   },
   {
    "duration": 431,
    "start_time": "2023-05-30T17:48:16.241Z"
   },
   {
    "duration": 6,
    "start_time": "2023-05-30T17:49:13.201Z"
   },
   {
    "duration": 6,
    "start_time": "2023-05-30T17:50:07.371Z"
   },
   {
    "duration": 5,
    "start_time": "2023-05-30T17:50:58.472Z"
   },
   {
    "duration": 478,
    "start_time": "2023-05-30T17:52:04.967Z"
   },
   {
    "duration": 98,
    "start_time": "2023-05-30T17:52:05.447Z"
   },
   {
    "duration": 15,
    "start_time": "2023-05-30T17:52:05.547Z"
   },
   {
    "duration": 71,
    "start_time": "2023-05-30T17:52:05.565Z"
   },
   {
    "duration": 11,
    "start_time": "2023-05-30T17:52:05.638Z"
   },
   {
    "duration": 32,
    "start_time": "2023-05-30T17:52:05.651Z"
   },
   {
    "duration": 11,
    "start_time": "2023-05-30T17:52:05.685Z"
   },
   {
    "duration": 14,
    "start_time": "2023-05-30T17:52:05.697Z"
   },
   {
    "duration": 19,
    "start_time": "2023-05-30T17:52:05.713Z"
   },
   {
    "duration": 32,
    "start_time": "2023-05-30T17:52:05.736Z"
   },
   {
    "duration": 18,
    "start_time": "2023-05-30T17:52:05.770Z"
   },
   {
    "duration": 27,
    "start_time": "2023-05-30T17:52:05.790Z"
   },
   {
    "duration": 18,
    "start_time": "2023-05-30T17:52:05.819Z"
   },
   {
    "duration": 11,
    "start_time": "2023-05-30T17:52:05.839Z"
   },
   {
    "duration": 25,
    "start_time": "2023-05-30T17:52:05.852Z"
   },
   {
    "duration": 12,
    "start_time": "2023-05-30T17:52:05.878Z"
   },
   {
    "duration": 30,
    "start_time": "2023-05-30T17:52:05.891Z"
   },
   {
    "duration": 35,
    "start_time": "2023-05-30T17:52:05.922Z"
   },
   {
    "duration": 760,
    "start_time": "2023-05-30T17:52:05.959Z"
   },
   {
    "duration": 9,
    "start_time": "2023-05-30T17:52:06.721Z"
   },
   {
    "duration": 195,
    "start_time": "2023-05-30T17:52:06.732Z"
   },
   {
    "duration": 170,
    "start_time": "2023-05-30T17:52:06.929Z"
   },
   {
    "duration": 6,
    "start_time": "2023-05-30T17:52:07.101Z"
   },
   {
    "duration": 111,
    "start_time": "2023-05-30T17:52:07.109Z"
   },
   {
    "duration": 388,
    "start_time": "2023-05-30T17:52:07.222Z"
   },
   {
    "duration": 6,
    "start_time": "2023-05-30T17:52:07.612Z"
   },
   {
    "duration": 4,
    "start_time": "2023-05-30T17:52:07.620Z"
   },
   {
    "duration": 8,
    "start_time": "2023-05-30T17:52:07.628Z"
   },
   {
    "duration": 142,
    "start_time": "2023-05-30T17:52:07.638Z"
   },
   {
    "duration": 192,
    "start_time": "2023-05-30T17:52:07.782Z"
   },
   {
    "duration": 507,
    "start_time": "2023-05-30T17:52:07.976Z"
   },
   {
    "duration": 483,
    "start_time": "2023-05-30T17:52:08.485Z"
   },
   {
    "duration": 9,
    "start_time": "2023-05-30T17:52:08.970Z"
   },
   {
    "duration": 700,
    "start_time": "2023-05-30T17:52:08.981Z"
   },
   {
    "duration": 15,
    "start_time": "2023-05-30T17:52:09.683Z"
   },
   {
    "duration": 11,
    "start_time": "2023-05-30T17:52:09.701Z"
   },
   {
    "duration": 736,
    "start_time": "2023-05-30T17:52:09.714Z"
   },
   {
    "duration": 410,
    "start_time": "2023-05-30T17:52:10.451Z"
   },
   {
    "duration": 10,
    "start_time": "2023-05-30T17:52:10.863Z"
   },
   {
    "duration": 27,
    "start_time": "2023-05-30T17:52:10.875Z"
   },
   {
    "duration": 21,
    "start_time": "2023-05-30T17:52:10.903Z"
   },
   {
    "duration": 22,
    "start_time": "2023-05-30T17:52:10.926Z"
   },
   {
    "duration": 19,
    "start_time": "2023-05-30T17:52:10.950Z"
   },
   {
    "duration": 38,
    "start_time": "2023-05-30T17:52:10.971Z"
   },
   {
    "duration": 468,
    "start_time": "2023-05-30T17:52:11.012Z"
   },
   {
    "duration": 444,
    "start_time": "2023-05-30T17:52:11.482Z"
   },
   {
    "duration": 456,
    "start_time": "2023-05-30T17:52:11.928Z"
   },
   {
    "duration": 667,
    "start_time": "2023-05-30T17:52:12.385Z"
   },
   {
    "duration": 416,
    "start_time": "2023-05-30T17:52:13.054Z"
   },
   {
    "duration": 714,
    "start_time": "2023-05-30T17:52:13.472Z"
   },
   {
    "duration": 438,
    "start_time": "2023-05-30T17:52:14.187Z"
   },
   {
    "duration": 4,
    "start_time": "2023-05-30T17:52:14.628Z"
   },
   {
    "duration": 619,
    "start_time": "2023-05-30T17:52:14.634Z"
   },
   {
    "duration": 5,
    "start_time": "2023-05-30T17:52:15.255Z"
   },
   {
    "duration": 5,
    "start_time": "2023-05-30T17:52:15.261Z"
   },
   {
    "duration": 15,
    "start_time": "2023-05-30T17:52:15.267Z"
   },
   {
    "duration": 22,
    "start_time": "2023-05-30T17:52:15.296Z"
   },
   {
    "duration": 8,
    "start_time": "2023-05-30T17:52:15.320Z"
   },
   {
    "duration": 8,
    "start_time": "2023-05-30T17:52:15.330Z"
   },
   {
    "duration": 13,
    "start_time": "2023-05-30T17:52:15.339Z"
   },
   {
    "duration": 17,
    "start_time": "2023-05-30T17:52:15.354Z"
   },
   {
    "duration": 35,
    "start_time": "2023-05-30T17:52:15.373Z"
   },
   {
    "duration": 11,
    "start_time": "2023-05-30T19:58:33.278Z"
   },
   {
    "duration": 15,
    "start_time": "2023-05-30T19:58:44.503Z"
   },
   {
    "duration": 10,
    "start_time": "2023-05-30T19:58:53.312Z"
   },
   {
    "duration": 10,
    "start_time": "2023-05-30T19:58:59.684Z"
   },
   {
    "duration": 497,
    "start_time": "2023-05-30T20:02:35.123Z"
   },
   {
    "duration": 41,
    "start_time": "2023-05-30T20:02:35.626Z"
   },
   {
    "duration": 10,
    "start_time": "2023-05-30T20:02:35.669Z"
   },
   {
    "duration": 54,
    "start_time": "2023-05-30T20:02:35.681Z"
   },
   {
    "duration": 11,
    "start_time": "2023-05-30T20:02:35.737Z"
   },
   {
    "duration": 23,
    "start_time": "2023-05-30T20:02:35.750Z"
   },
   {
    "duration": 10,
    "start_time": "2023-05-30T20:02:35.775Z"
   },
   {
    "duration": 20,
    "start_time": "2023-05-30T20:02:35.786Z"
   },
   {
    "duration": 36,
    "start_time": "2023-05-30T20:02:35.811Z"
   },
   {
    "duration": 19,
    "start_time": "2023-05-30T20:02:35.851Z"
   },
   {
    "duration": 8,
    "start_time": "2023-05-30T20:02:35.871Z"
   },
   {
    "duration": 13,
    "start_time": "2023-05-30T20:02:35.881Z"
   },
   {
    "duration": 13,
    "start_time": "2023-05-30T20:02:35.895Z"
   },
   {
    "duration": 28,
    "start_time": "2023-05-30T20:02:35.909Z"
   },
   {
    "duration": 6,
    "start_time": "2023-05-30T20:02:35.938Z"
   },
   {
    "duration": 5,
    "start_time": "2023-05-30T20:02:35.945Z"
   },
   {
    "duration": 13,
    "start_time": "2023-05-30T20:02:35.951Z"
   },
   {
    "duration": 31,
    "start_time": "2023-05-30T20:02:35.965Z"
   },
   {
    "duration": 965,
    "start_time": "2023-05-30T20:02:35.997Z"
   },
   {
    "duration": 6,
    "start_time": "2023-05-30T20:02:36.964Z"
   },
   {
    "duration": 200,
    "start_time": "2023-05-30T20:02:36.972Z"
   },
   {
    "duration": 215,
    "start_time": "2023-05-30T20:02:37.174Z"
   },
   {
    "duration": 9,
    "start_time": "2023-05-30T20:02:37.391Z"
   },
   {
    "duration": 151,
    "start_time": "2023-05-30T20:02:37.401Z"
   },
   {
    "duration": 431,
    "start_time": "2023-05-30T20:02:37.554Z"
   },
   {
    "duration": 12,
    "start_time": "2023-05-30T20:02:37.987Z"
   },
   {
    "duration": 52,
    "start_time": "2023-05-30T20:02:38.004Z"
   },
   {
    "duration": 15,
    "start_time": "2023-05-30T20:02:38.061Z"
   },
   {
    "duration": 177,
    "start_time": "2023-05-30T20:02:38.078Z"
   },
   {
    "duration": 192,
    "start_time": "2023-05-30T20:02:38.257Z"
   },
   {
    "duration": 697,
    "start_time": "2023-05-30T20:02:38.451Z"
   },
   {
    "duration": 492,
    "start_time": "2023-05-30T20:02:39.151Z"
   },
   {
    "duration": 8,
    "start_time": "2023-05-30T20:02:39.645Z"
   },
   {
    "duration": 651,
    "start_time": "2023-05-30T20:02:39.655Z"
   },
   {
    "duration": 23,
    "start_time": "2023-05-30T20:02:40.307Z"
   },
   {
    "duration": 11,
    "start_time": "2023-05-30T20:02:40.332Z"
   },
   {
    "duration": 889,
    "start_time": "2023-05-30T20:02:40.344Z"
   },
   {
    "duration": 400,
    "start_time": "2023-05-30T20:02:41.235Z"
   },
   {
    "duration": 10,
    "start_time": "2023-05-30T20:02:41.637Z"
   },
   {
    "duration": 7,
    "start_time": "2023-05-30T20:02:41.649Z"
   },
   {
    "duration": 10,
    "start_time": "2023-05-30T20:02:41.658Z"
   },
   {
    "duration": 37,
    "start_time": "2023-05-30T20:02:41.669Z"
   },
   {
    "duration": 22,
    "start_time": "2023-05-30T20:02:41.708Z"
   },
   {
    "duration": 14,
    "start_time": "2023-05-30T20:02:41.732Z"
   },
   {
    "duration": 507,
    "start_time": "2023-05-30T20:02:41.749Z"
   },
   {
    "duration": 443,
    "start_time": "2023-05-30T20:02:42.258Z"
   },
   {
    "duration": 548,
    "start_time": "2023-05-30T20:02:42.705Z"
   },
   {
    "duration": 826,
    "start_time": "2023-05-30T20:02:43.255Z"
   },
   {
    "duration": 438,
    "start_time": "2023-05-30T20:02:44.083Z"
   },
   {
    "duration": 615,
    "start_time": "2023-05-30T20:02:44.524Z"
   },
   {
    "duration": 450,
    "start_time": "2023-05-30T20:02:45.141Z"
   },
   {
    "duration": 7,
    "start_time": "2023-05-30T20:02:45.600Z"
   },
   {
    "duration": 585,
    "start_time": "2023-05-30T20:02:45.609Z"
   },
   {
    "duration": 11,
    "start_time": "2023-05-30T20:02:46.196Z"
   },
   {
    "duration": 28,
    "start_time": "2023-05-30T20:02:46.209Z"
   },
   {
    "duration": 13,
    "start_time": "2023-05-30T20:02:46.239Z"
   },
   {
    "duration": 24,
    "start_time": "2023-05-30T20:02:46.254Z"
   },
   {
    "duration": 9,
    "start_time": "2023-05-30T20:02:46.279Z"
   },
   {
    "duration": 36,
    "start_time": "2023-05-30T20:02:46.289Z"
   },
   {
    "duration": 13,
    "start_time": "2023-05-30T20:02:46.327Z"
   },
   {
    "duration": 12,
    "start_time": "2023-05-30T20:02:46.342Z"
   },
   {
    "duration": 19,
    "start_time": "2023-05-30T20:02:46.356Z"
   },
   {
    "duration": 484,
    "start_time": "2023-05-30T20:03:05.319Z"
   },
   {
    "duration": 48,
    "start_time": "2023-05-30T20:03:05.810Z"
   },
   {
    "duration": 13,
    "start_time": "2023-05-30T20:03:05.859Z"
   },
   {
    "duration": 48,
    "start_time": "2023-05-30T20:03:05.873Z"
   },
   {
    "duration": 15,
    "start_time": "2023-05-30T20:03:05.923Z"
   },
   {
    "duration": 28,
    "start_time": "2023-05-30T20:03:05.940Z"
   },
   {
    "duration": 14,
    "start_time": "2023-05-30T20:03:05.969Z"
   },
   {
    "duration": 21,
    "start_time": "2023-05-30T20:03:05.986Z"
   },
   {
    "duration": 3,
    "start_time": "2023-05-30T20:03:06.010Z"
   },
   {
    "duration": 57,
    "start_time": "2023-05-30T20:03:06.015Z"
   },
   {
    "duration": 7,
    "start_time": "2023-05-30T20:03:06.074Z"
   },
   {
    "duration": 16,
    "start_time": "2023-05-30T20:03:06.083Z"
   },
   {
    "duration": 39,
    "start_time": "2023-05-30T20:03:06.100Z"
   },
   {
    "duration": 5,
    "start_time": "2023-05-30T20:03:06.142Z"
   },
   {
    "duration": 6,
    "start_time": "2023-05-30T20:03:06.149Z"
   },
   {
    "duration": 10,
    "start_time": "2023-05-30T20:03:06.157Z"
   },
   {
    "duration": 13,
    "start_time": "2023-05-30T20:03:06.169Z"
   },
   {
    "duration": 25,
    "start_time": "2023-05-30T20:03:06.184Z"
   },
   {
    "duration": 928,
    "start_time": "2023-05-30T20:03:06.248Z"
   },
   {
    "duration": 8,
    "start_time": "2023-05-30T20:03:07.178Z"
   },
   {
    "duration": 231,
    "start_time": "2023-05-30T20:03:07.188Z"
   },
   {
    "duration": 250,
    "start_time": "2023-05-30T20:03:07.422Z"
   },
   {
    "duration": 7,
    "start_time": "2023-05-30T20:03:07.674Z"
   },
   {
    "duration": 116,
    "start_time": "2023-05-30T20:03:07.683Z"
   },
   {
    "duration": 468,
    "start_time": "2023-05-30T20:03:07.802Z"
   },
   {
    "duration": 8,
    "start_time": "2023-05-30T20:03:08.273Z"
   },
   {
    "duration": 65,
    "start_time": "2023-05-30T20:03:08.283Z"
   },
   {
    "duration": 23,
    "start_time": "2023-05-30T20:03:08.350Z"
   },
   {
    "duration": 168,
    "start_time": "2023-05-30T20:03:08.375Z"
   },
   {
    "duration": 209,
    "start_time": "2023-05-30T20:03:08.545Z"
   },
   {
    "duration": 714,
    "start_time": "2023-05-30T20:03:08.755Z"
   },
   {
    "duration": 512,
    "start_time": "2023-05-30T20:03:09.471Z"
   },
   {
    "duration": 17,
    "start_time": "2023-05-30T20:03:09.985Z"
   },
   {
    "duration": 555,
    "start_time": "2023-05-30T20:03:10.006Z"
   },
   {
    "duration": 8,
    "start_time": "2023-05-30T20:03:10.562Z"
   },
   {
    "duration": 12,
    "start_time": "2023-05-30T20:03:10.572Z"
   },
   {
    "duration": 842,
    "start_time": "2023-05-30T20:03:10.586Z"
   },
   {
    "duration": 393,
    "start_time": "2023-05-30T20:03:11.430Z"
   },
   {
    "duration": 10,
    "start_time": "2023-05-30T20:03:11.825Z"
   },
   {
    "duration": 10,
    "start_time": "2023-05-30T20:03:11.837Z"
   },
   {
    "duration": 23,
    "start_time": "2023-05-30T20:03:11.851Z"
   },
   {
    "duration": 24,
    "start_time": "2023-05-30T20:03:11.875Z"
   },
   {
    "duration": 46,
    "start_time": "2023-05-30T20:03:11.903Z"
   },
   {
    "duration": 14,
    "start_time": "2023-05-30T20:03:11.950Z"
   },
   {
    "duration": 487,
    "start_time": "2023-05-30T20:03:11.965Z"
   },
   {
    "duration": 451,
    "start_time": "2023-05-30T20:03:12.454Z"
   },
   {
    "duration": 541,
    "start_time": "2023-05-30T20:03:12.908Z"
   },
   {
    "duration": 819,
    "start_time": "2023-05-30T20:03:13.451Z"
   },
   {
    "duration": 500,
    "start_time": "2023-05-30T20:03:14.272Z"
   },
   {
    "duration": 747,
    "start_time": "2023-05-30T20:03:14.774Z"
   },
   {
    "duration": 525,
    "start_time": "2023-05-30T20:03:15.524Z"
   },
   {
    "duration": 5,
    "start_time": "2023-05-30T20:03:16.052Z"
   },
   {
    "duration": 753,
    "start_time": "2023-05-30T20:03:16.059Z"
   },
   {
    "duration": 8,
    "start_time": "2023-05-30T20:03:16.814Z"
   },
   {
    "duration": 26,
    "start_time": "2023-05-30T20:03:16.824Z"
   },
   {
    "duration": 20,
    "start_time": "2023-05-30T20:03:16.852Z"
   },
   {
    "duration": 68,
    "start_time": "2023-05-30T20:03:16.874Z"
   },
   {
    "duration": 12,
    "start_time": "2023-05-30T20:03:16.944Z"
   },
   {
    "duration": 5,
    "start_time": "2023-05-30T20:03:16.958Z"
   },
   {
    "duration": 16,
    "start_time": "2023-05-30T20:03:16.964Z"
   },
   {
    "duration": 14,
    "start_time": "2023-05-30T20:03:16.982Z"
   },
   {
    "duration": 59,
    "start_time": "2023-05-30T20:03:17.001Z"
   },
   {
    "duration": 530,
    "start_time": "2023-05-30T20:04:59.392Z"
   },
   {
    "duration": 44,
    "start_time": "2023-05-30T20:04:59.924Z"
   },
   {
    "duration": 14,
    "start_time": "2023-05-30T20:04:59.970Z"
   },
   {
    "duration": 45,
    "start_time": "2023-05-30T20:04:59.986Z"
   },
   {
    "duration": 11,
    "start_time": "2023-05-30T20:05:00.032Z"
   },
   {
    "duration": 33,
    "start_time": "2023-05-30T20:05:00.044Z"
   },
   {
    "duration": 10,
    "start_time": "2023-05-30T20:05:00.080Z"
   },
   {
    "duration": 31,
    "start_time": "2023-05-30T20:05:00.092Z"
   },
   {
    "duration": 13,
    "start_time": "2023-05-30T20:05:00.125Z"
   },
   {
    "duration": 19,
    "start_time": "2023-05-30T20:05:00.143Z"
   },
   {
    "duration": 18,
    "start_time": "2023-05-30T20:05:00.164Z"
   },
   {
    "duration": 38,
    "start_time": "2023-05-30T20:05:00.183Z"
   },
   {
    "duration": 9,
    "start_time": "2023-05-30T20:05:00.223Z"
   },
   {
    "duration": 8,
    "start_time": "2023-05-30T20:05:00.233Z"
   },
   {
    "duration": 23,
    "start_time": "2023-05-30T20:05:00.243Z"
   },
   {
    "duration": 6,
    "start_time": "2023-05-30T20:05:00.268Z"
   },
   {
    "duration": 37,
    "start_time": "2023-05-30T20:05:00.276Z"
   },
   {
    "duration": 13,
    "start_time": "2023-05-30T20:05:00.315Z"
   },
   {
    "duration": 1531,
    "start_time": "2023-05-30T20:05:00.330Z"
   },
   {
    "duration": 6,
    "start_time": "2023-05-30T20:05:01.863Z"
   },
   {
    "duration": 213,
    "start_time": "2023-05-30T20:05:01.871Z"
   },
   {
    "duration": 185,
    "start_time": "2023-05-30T20:05:02.086Z"
   },
   {
    "duration": 6,
    "start_time": "2023-05-30T20:05:02.273Z"
   },
   {
    "duration": 125,
    "start_time": "2023-05-30T20:05:02.281Z"
   },
   {
    "duration": 371,
    "start_time": "2023-05-30T20:05:02.407Z"
   },
   {
    "duration": 5,
    "start_time": "2023-05-30T20:05:02.780Z"
   },
   {
    "duration": 40,
    "start_time": "2023-05-30T20:05:02.786Z"
   },
   {
    "duration": 18,
    "start_time": "2023-05-30T20:05:02.829Z"
   },
   {
    "duration": 126,
    "start_time": "2023-05-30T20:05:02.849Z"
   },
   {
    "duration": 154,
    "start_time": "2023-05-30T20:05:02.976Z"
   },
   {
    "duration": 569,
    "start_time": "2023-05-30T20:05:03.133Z"
   },
   {
    "duration": 444,
    "start_time": "2023-05-30T20:05:03.703Z"
   },
   {
    "duration": 8,
    "start_time": "2023-05-30T20:05:04.149Z"
   },
   {
    "duration": 555,
    "start_time": "2023-05-30T20:05:04.159Z"
   },
   {
    "duration": 7,
    "start_time": "2023-05-30T20:05:04.716Z"
   },
   {
    "duration": 8,
    "start_time": "2023-05-30T20:05:04.724Z"
   },
   {
    "duration": 697,
    "start_time": "2023-05-30T20:05:04.733Z"
   },
   {
    "duration": 449,
    "start_time": "2023-05-30T20:05:05.432Z"
   },
   {
    "duration": 17,
    "start_time": "2023-05-30T20:05:05.883Z"
   },
   {
    "duration": 9,
    "start_time": "2023-05-30T20:05:05.905Z"
   },
   {
    "duration": 9,
    "start_time": "2023-05-30T20:05:05.916Z"
   },
   {
    "duration": 19,
    "start_time": "2023-05-30T20:05:05.926Z"
   },
   {
    "duration": 16,
    "start_time": "2023-05-30T20:05:05.947Z"
   },
   {
    "duration": 59,
    "start_time": "2023-05-30T20:05:05.964Z"
   },
   {
    "duration": 412,
    "start_time": "2023-05-30T20:05:06.024Z"
   },
   {
    "duration": 369,
    "start_time": "2023-05-30T20:05:06.437Z"
   },
   {
    "duration": 551,
    "start_time": "2023-05-30T20:05:06.807Z"
   },
   {
    "duration": 722,
    "start_time": "2023-05-30T20:05:07.360Z"
   },
   {
    "duration": 436,
    "start_time": "2023-05-30T20:05:08.083Z"
   },
   {
    "duration": 606,
    "start_time": "2023-05-30T20:05:08.520Z"
   },
   {
    "duration": 401,
    "start_time": "2023-05-30T20:05:09.128Z"
   },
   {
    "duration": 4,
    "start_time": "2023-05-30T20:05:09.531Z"
   },
   {
    "duration": 496,
    "start_time": "2023-05-30T20:05:09.537Z"
   },
   {
    "duration": 4,
    "start_time": "2023-05-30T20:05:10.035Z"
   },
   {
    "duration": 13,
    "start_time": "2023-05-30T20:05:10.041Z"
   },
   {
    "duration": 20,
    "start_time": "2023-05-30T20:05:10.056Z"
   },
   {
    "duration": 30,
    "start_time": "2023-05-30T20:05:10.078Z"
   },
   {
    "duration": 3,
    "start_time": "2023-05-30T20:05:10.110Z"
   },
   {
    "duration": 17,
    "start_time": "2023-05-30T20:05:10.115Z"
   },
   {
    "duration": 10,
    "start_time": "2023-05-30T20:05:10.133Z"
   },
   {
    "duration": 17,
    "start_time": "2023-05-30T20:05:10.144Z"
   },
   {
    "duration": 7,
    "start_time": "2023-05-30T20:17:21.267Z"
   },
   {
    "duration": 38,
    "start_time": "2023-05-30T20:20:09.395Z"
   },
   {
    "duration": 11,
    "start_time": "2023-05-30T20:20:30.557Z"
   },
   {
    "duration": 118,
    "start_time": "2023-05-30T20:20:47.037Z"
   },
   {
    "duration": 8,
    "start_time": "2023-05-30T20:21:09.626Z"
   },
   {
    "duration": 7,
    "start_time": "2023-05-30T20:22:35.661Z"
   },
   {
    "duration": 1500,
    "start_time": "2023-05-30T20:24:58.891Z"
   },
   {
    "duration": 1411,
    "start_time": "2023-05-30T20:25:07.723Z"
   },
   {
    "duration": 1620,
    "start_time": "2023-05-30T20:25:22.216Z"
   },
   {
    "duration": 9,
    "start_time": "2023-05-30T20:25:58.821Z"
   },
   {
    "duration": 5,
    "start_time": "2023-05-30T20:28:06.743Z"
   },
   {
    "duration": 3,
    "start_time": "2023-05-30T20:30:20.265Z"
   },
   {
    "duration": 5,
    "start_time": "2023-05-30T20:30:52.973Z"
   },
   {
    "duration": 12,
    "start_time": "2023-05-30T20:31:07.698Z"
   },
   {
    "duration": 4,
    "start_time": "2023-05-30T20:31:16.546Z"
   },
   {
    "duration": 6,
    "start_time": "2023-05-30T20:31:55.209Z"
   },
   {
    "duration": 4,
    "start_time": "2023-05-30T20:32:01.324Z"
   },
   {
    "duration": 612,
    "start_time": "2023-05-30T20:32:41.454Z"
   },
   {
    "duration": 780,
    "start_time": "2023-05-30T20:32:56.321Z"
   },
   {
    "duration": 683,
    "start_time": "2023-05-30T20:33:06.753Z"
   },
   {
    "duration": 424,
    "start_time": "2023-05-30T20:33:53.066Z"
   },
   {
    "duration": 617,
    "start_time": "2023-05-30T20:34:13.697Z"
   },
   {
    "duration": 529,
    "start_time": "2023-05-30T20:34:48.961Z"
   },
   {
    "duration": 396,
    "start_time": "2023-05-30T20:35:11.185Z"
   },
   {
    "duration": 450,
    "start_time": "2023-05-30T20:35:18.058Z"
   },
   {
    "duration": 3,
    "start_time": "2023-05-30T20:36:01.075Z"
   },
   {
    "duration": 5,
    "start_time": "2023-05-30T20:36:16.763Z"
   },
   {
    "duration": 8,
    "start_time": "2023-05-30T20:37:10.974Z"
   },
   {
    "duration": 10,
    "start_time": "2023-05-30T20:38:59.227Z"
   },
   {
    "duration": 10,
    "start_time": "2023-05-30T20:39:05.353Z"
   },
   {
    "duration": 45,
    "start_time": "2023-05-30T20:39:17.624Z"
   },
   {
    "duration": 23,
    "start_time": "2023-05-30T20:39:56.525Z"
   },
   {
    "duration": 10,
    "start_time": "2023-05-30T20:40:11.161Z"
   },
   {
    "duration": 9,
    "start_time": "2023-05-30T20:40:25.372Z"
   },
   {
    "duration": 7,
    "start_time": "2023-05-30T20:40:41.375Z"
   },
   {
    "duration": 10,
    "start_time": "2023-05-30T20:40:51.627Z"
   },
   {
    "duration": 5,
    "start_time": "2023-05-30T20:42:45.867Z"
   },
   {
    "duration": 7,
    "start_time": "2023-05-30T20:43:04.889Z"
   },
   {
    "duration": 7,
    "start_time": "2023-05-30T20:43:07.357Z"
   },
   {
    "duration": 109,
    "start_time": "2023-05-30T20:44:34.391Z"
   },
   {
    "duration": 11,
    "start_time": "2023-05-30T20:44:41.429Z"
   },
   {
    "duration": 29,
    "start_time": "2023-05-30T20:45:15.420Z"
   },
   {
    "duration": 14,
    "start_time": "2023-05-30T20:47:29.657Z"
   },
   {
    "duration": 19,
    "start_time": "2023-05-30T20:48:25.395Z"
   },
   {
    "duration": 13,
    "start_time": "2023-05-30T20:48:38.120Z"
   },
   {
    "duration": 11,
    "start_time": "2023-05-30T20:49:40.054Z"
   },
   {
    "duration": 412,
    "start_time": "2023-05-30T20:49:49.924Z"
   },
   {
    "duration": 40,
    "start_time": "2023-05-30T20:49:50.338Z"
   },
   {
    "duration": 10,
    "start_time": "2023-05-30T20:49:50.380Z"
   },
   {
    "duration": 67,
    "start_time": "2023-05-30T20:49:50.392Z"
   },
   {
    "duration": 12,
    "start_time": "2023-05-30T20:49:50.461Z"
   },
   {
    "duration": 19,
    "start_time": "2023-05-30T20:49:50.474Z"
   },
   {
    "duration": 18,
    "start_time": "2023-05-30T20:49:50.494Z"
   },
   {
    "duration": 18,
    "start_time": "2023-05-30T20:49:50.516Z"
   },
   {
    "duration": 2,
    "start_time": "2023-05-30T20:49:50.536Z"
   },
   {
    "duration": 10,
    "start_time": "2023-05-30T20:49:50.542Z"
   },
   {
    "duration": 6,
    "start_time": "2023-05-30T20:49:50.553Z"
   },
   {
    "duration": 13,
    "start_time": "2023-05-30T20:49:50.561Z"
   },
   {
    "duration": 6,
    "start_time": "2023-05-30T20:49:50.575Z"
   },
   {
    "duration": 43,
    "start_time": "2023-05-30T20:49:50.583Z"
   },
   {
    "duration": 16,
    "start_time": "2023-05-30T20:49:50.627Z"
   },
   {
    "duration": 25,
    "start_time": "2023-05-30T20:49:50.644Z"
   },
   {
    "duration": 17,
    "start_time": "2023-05-30T20:49:50.670Z"
   },
   {
    "duration": 45,
    "start_time": "2023-05-30T20:49:50.689Z"
   },
   {
    "duration": 797,
    "start_time": "2023-05-30T20:49:50.735Z"
   },
   {
    "duration": 6,
    "start_time": "2023-05-30T20:49:51.534Z"
   },
   {
    "duration": 183,
    "start_time": "2023-05-30T20:49:51.541Z"
   },
   {
    "duration": 170,
    "start_time": "2023-05-30T20:49:51.727Z"
   },
   {
    "duration": 9,
    "start_time": "2023-05-30T20:49:51.901Z"
   },
   {
    "duration": 111,
    "start_time": "2023-05-30T20:49:51.912Z"
   },
   {
    "duration": 361,
    "start_time": "2023-05-30T20:49:52.026Z"
   },
   {
    "duration": 11,
    "start_time": "2023-05-30T20:49:52.389Z"
   },
   {
    "duration": 33,
    "start_time": "2023-05-30T20:49:52.402Z"
   },
   {
    "duration": 15,
    "start_time": "2023-05-30T20:49:52.439Z"
   },
   {
    "duration": 136,
    "start_time": "2023-05-30T20:49:52.455Z"
   },
   {
    "duration": 167,
    "start_time": "2023-05-30T20:49:52.593Z"
   },
   {
    "duration": 523,
    "start_time": "2023-05-30T20:49:52.761Z"
   },
   {
    "duration": 472,
    "start_time": "2023-05-30T20:49:53.286Z"
   },
   {
    "duration": 7,
    "start_time": "2023-05-30T20:49:53.759Z"
   },
   {
    "duration": 570,
    "start_time": "2023-05-30T20:49:53.767Z"
   },
   {
    "duration": 8,
    "start_time": "2023-05-30T20:49:54.339Z"
   },
   {
    "duration": 9,
    "start_time": "2023-05-30T20:49:54.349Z"
   },
   {
    "duration": 776,
    "start_time": "2023-05-30T20:49:54.360Z"
   },
   {
    "duration": 358,
    "start_time": "2023-05-30T20:49:55.137Z"
   },
   {
    "duration": 14,
    "start_time": "2023-05-30T20:49:55.500Z"
   },
   {
    "duration": 25,
    "start_time": "2023-05-30T20:49:55.516Z"
   },
   {
    "duration": 5,
    "start_time": "2023-05-30T20:49:55.543Z"
   },
   {
    "duration": 20,
    "start_time": "2023-05-30T20:49:55.549Z"
   },
   {
    "duration": 15,
    "start_time": "2023-05-30T20:49:55.570Z"
   },
   {
    "duration": 31,
    "start_time": "2023-05-30T20:49:55.586Z"
   },
   {
    "duration": 423,
    "start_time": "2023-05-30T20:49:55.618Z"
   },
   {
    "duration": 374,
    "start_time": "2023-05-30T20:49:56.043Z"
   },
   {
    "duration": 480,
    "start_time": "2023-05-30T20:49:56.425Z"
   },
   {
    "duration": 695,
    "start_time": "2023-05-30T20:49:56.907Z"
   },
   {
    "duration": 651,
    "start_time": "2023-05-30T20:49:57.604Z"
   },
   {
    "duration": 440,
    "start_time": "2023-05-30T20:49:58.257Z"
   },
   {
    "duration": 465,
    "start_time": "2023-05-30T20:49:58.699Z"
   },
   {
    "duration": 5,
    "start_time": "2023-05-30T20:49:59.166Z"
   },
   {
    "duration": 637,
    "start_time": "2023-05-30T20:49:59.173Z"
   },
   {
    "duration": 11,
    "start_time": "2023-05-30T20:49:59.812Z"
   },
   {
    "duration": 6,
    "start_time": "2023-05-30T20:49:59.824Z"
   },
   {
    "duration": 14,
    "start_time": "2023-05-30T20:49:59.831Z"
   },
   {
    "duration": 26,
    "start_time": "2023-05-30T20:49:59.847Z"
   },
   {
    "duration": 7,
    "start_time": "2023-05-30T20:49:59.875Z"
   },
   {
    "duration": 16,
    "start_time": "2023-05-30T20:49:59.884Z"
   },
   {
    "duration": 34,
    "start_time": "2023-05-30T20:49:59.903Z"
   },
   {
    "duration": 10,
    "start_time": "2023-05-30T20:49:59.938Z"
   },
   {
    "duration": 13,
    "start_time": "2023-05-30T20:49:59.950Z"
   },
   {
    "duration": 10,
    "start_time": "2023-05-30T20:49:59.965Z"
   },
   {
    "duration": 11,
    "start_time": "2023-05-30T20:49:59.977Z"
   },
   {
    "duration": 24,
    "start_time": "2023-05-30T20:49:59.990Z"
   },
   {
    "duration": 40,
    "start_time": "2023-05-30T20:50:00.017Z"
   },
   {
    "duration": 27,
    "start_time": "2023-05-30T20:50:00.059Z"
   },
   {
    "duration": 122,
    "start_time": "2023-05-30T20:52:58.755Z"
   },
   {
    "duration": 4,
    "start_time": "2023-05-30T20:53:09.041Z"
   },
   {
    "duration": 476,
    "start_time": "2023-05-30T21:02:24.338Z"
   },
   {
    "duration": 623,
    "start_time": "2023-05-30T21:02:35.230Z"
   },
   {
    "duration": 469,
    "start_time": "2023-05-30T21:02:41.840Z"
   },
   {
    "duration": 14,
    "start_time": "2023-05-30T21:05:37.061Z"
   },
   {
    "duration": 18,
    "start_time": "2023-05-30T21:05:56.594Z"
   },
   {
    "duration": 16,
    "start_time": "2023-05-30T21:06:04.036Z"
   },
   {
    "duration": 394,
    "start_time": "2023-06-10T16:42:34.383Z"
   },
   {
    "duration": 100,
    "start_time": "2023-06-10T16:42:34.779Z"
   },
   {
    "duration": 12,
    "start_time": "2023-06-10T16:42:34.881Z"
   },
   {
    "duration": 99,
    "start_time": "2023-06-10T16:42:34.896Z"
   },
   {
    "duration": 12,
    "start_time": "2023-06-10T16:42:34.996Z"
   },
   {
    "duration": 75,
    "start_time": "2023-06-10T16:42:35.010Z"
   },
   {
    "duration": 13,
    "start_time": "2023-06-10T16:42:35.087Z"
   },
   {
    "duration": 35,
    "start_time": "2023-06-10T16:42:35.102Z"
   },
   {
    "duration": 25,
    "start_time": "2023-06-10T16:42:35.139Z"
   },
   {
    "duration": 28,
    "start_time": "2023-06-10T16:42:35.169Z"
   },
   {
    "duration": 31,
    "start_time": "2023-06-10T16:42:35.199Z"
   },
   {
    "duration": 29,
    "start_time": "2023-06-10T16:42:35.232Z"
   },
   {
    "duration": 20,
    "start_time": "2023-06-10T16:42:35.264Z"
   },
   {
    "duration": 25,
    "start_time": "2023-06-10T16:42:35.286Z"
   },
   {
    "duration": 22,
    "start_time": "2023-06-10T16:42:35.312Z"
   },
   {
    "duration": 34,
    "start_time": "2023-06-10T16:42:35.336Z"
   },
   {
    "duration": 28,
    "start_time": "2023-06-10T16:42:35.372Z"
   },
   {
    "duration": 35,
    "start_time": "2023-06-10T16:42:35.401Z"
   },
   {
    "duration": 957,
    "start_time": "2023-06-10T16:42:35.437Z"
   },
   {
    "duration": 7,
    "start_time": "2023-06-10T16:42:36.396Z"
   },
   {
    "duration": 185,
    "start_time": "2023-06-10T16:42:36.405Z"
   },
   {
    "duration": 200,
    "start_time": "2023-06-10T16:42:36.592Z"
   },
   {
    "duration": 6,
    "start_time": "2023-06-10T16:42:36.794Z"
   },
   {
    "duration": 119,
    "start_time": "2023-06-10T16:42:36.802Z"
   },
   {
    "duration": 474,
    "start_time": "2023-06-10T16:42:36.923Z"
   },
   {
    "duration": 7,
    "start_time": "2023-06-10T16:42:37.400Z"
   },
   {
    "duration": 24,
    "start_time": "2023-06-10T16:42:37.409Z"
   },
   {
    "duration": 21,
    "start_time": "2023-06-10T16:42:37.439Z"
   },
   {
    "duration": 144,
    "start_time": "2023-06-10T16:42:37.462Z"
   },
   {
    "duration": 176,
    "start_time": "2023-06-10T16:42:37.609Z"
   },
   {
    "duration": 673,
    "start_time": "2023-06-10T16:42:37.788Z"
   },
   {
    "duration": 461,
    "start_time": "2023-06-10T16:42:38.463Z"
   },
   {
    "duration": 8,
    "start_time": "2023-06-10T16:42:38.925Z"
   },
   {
    "duration": 569,
    "start_time": "2023-06-10T16:42:38.945Z"
   },
   {
    "duration": 10,
    "start_time": "2023-06-10T16:42:39.517Z"
   },
   {
    "duration": 22,
    "start_time": "2023-06-10T16:42:39.529Z"
   },
   {
    "duration": 748,
    "start_time": "2023-06-10T16:42:39.552Z"
   },
   {
    "duration": 414,
    "start_time": "2023-06-10T16:42:40.302Z"
   },
   {
    "duration": 9,
    "start_time": "2023-06-10T16:42:40.719Z"
   },
   {
    "duration": 29,
    "start_time": "2023-06-10T16:42:40.730Z"
   },
   {
    "duration": 11,
    "start_time": "2023-06-10T16:42:40.761Z"
   },
   {
    "duration": 28,
    "start_time": "2023-06-10T16:42:40.774Z"
   },
   {
    "duration": 21,
    "start_time": "2023-06-10T16:42:40.804Z"
   },
   {
    "duration": 22,
    "start_time": "2023-06-10T16:42:40.827Z"
   },
   {
    "duration": 432,
    "start_time": "2023-06-10T16:42:40.852Z"
   },
   {
    "duration": 424,
    "start_time": "2023-06-10T16:42:41.287Z"
   },
   {
    "duration": 532,
    "start_time": "2023-06-10T16:42:41.714Z"
   },
   {
    "duration": 711,
    "start_time": "2023-06-10T16:42:42.249Z"
   },
   {
    "duration": 729,
    "start_time": "2023-06-10T16:42:42.962Z"
   },
   {
    "duration": 457,
    "start_time": "2023-06-10T16:42:43.693Z"
   },
   {
    "duration": 461,
    "start_time": "2023-06-10T16:42:44.152Z"
   },
   {
    "duration": 4,
    "start_time": "2023-06-10T16:42:44.615Z"
   },
   {
    "duration": 586,
    "start_time": "2023-06-10T16:42:44.621Z"
   },
   {
    "duration": 4,
    "start_time": "2023-06-10T16:42:45.209Z"
   },
   {
    "duration": 19,
    "start_time": "2023-06-10T16:42:45.215Z"
   },
   {
    "duration": 29,
    "start_time": "2023-06-10T16:42:45.236Z"
   },
   {
    "duration": 39,
    "start_time": "2023-06-10T16:42:45.266Z"
   },
   {
    "duration": 7,
    "start_time": "2023-06-10T16:42:45.307Z"
   },
   {
    "duration": 33,
    "start_time": "2023-06-10T16:42:45.316Z"
   },
   {
    "duration": 25,
    "start_time": "2023-06-10T16:42:45.351Z"
   },
   {
    "duration": 15,
    "start_time": "2023-06-10T16:42:45.378Z"
   },
   {
    "duration": 23,
    "start_time": "2023-06-10T16:42:45.395Z"
   },
   {
    "duration": 34,
    "start_time": "2023-06-10T16:42:45.420Z"
   },
   {
    "duration": 69,
    "start_time": "2023-06-10T16:42:45.456Z"
   },
   {
    "duration": 27,
    "start_time": "2023-06-10T16:42:45.528Z"
   },
   {
    "duration": 23,
    "start_time": "2023-06-10T16:42:45.556Z"
   },
   {
    "duration": 19,
    "start_time": "2023-06-10T16:42:45.581Z"
   },
   {
    "duration": 386,
    "start_time": "2023-06-11T05:00:15.234Z"
   },
   {
    "duration": 114,
    "start_time": "2023-06-11T05:00:15.621Z"
   },
   {
    "duration": 10,
    "start_time": "2023-06-11T05:00:15.737Z"
   },
   {
    "duration": 100,
    "start_time": "2023-06-11T05:00:15.749Z"
   },
   {
    "duration": 12,
    "start_time": "2023-06-11T05:00:15.850Z"
   },
   {
    "duration": 78,
    "start_time": "2023-06-11T05:00:15.863Z"
   },
   {
    "duration": 10,
    "start_time": "2023-06-11T05:00:15.943Z"
   },
   {
    "duration": 21,
    "start_time": "2023-06-11T05:00:15.954Z"
   },
   {
    "duration": 39,
    "start_time": "2023-06-11T05:00:15.976Z"
   },
   {
    "duration": 18,
    "start_time": "2023-06-11T05:00:16.018Z"
   },
   {
    "duration": 7,
    "start_time": "2023-06-11T05:00:16.037Z"
   },
   {
    "duration": 18,
    "start_time": "2023-06-11T05:00:16.046Z"
   },
   {
    "duration": 19,
    "start_time": "2023-06-11T05:00:16.066Z"
   },
   {
    "duration": 74,
    "start_time": "2023-06-11T05:00:16.141Z"
   },
   {
    "duration": 15,
    "start_time": "2023-06-11T05:00:16.217Z"
   },
   {
    "duration": 51,
    "start_time": "2023-06-11T05:00:16.233Z"
   },
   {
    "duration": 54,
    "start_time": "2023-06-11T05:00:16.286Z"
   },
   {
    "duration": 1052,
    "start_time": "2023-06-11T05:00:16.342Z"
   },
   {
    "duration": 10,
    "start_time": "2023-06-11T05:00:17.409Z"
   },
   {
    "duration": 172,
    "start_time": "2023-06-11T05:00:17.420Z"
   },
   {
    "duration": 165,
    "start_time": "2023-06-11T05:00:17.593Z"
   },
   {
    "duration": 25,
    "start_time": "2023-06-11T05:00:17.760Z"
   },
   {
    "duration": 125,
    "start_time": "2023-06-11T05:00:17.787Z"
   },
   {
    "duration": 399,
    "start_time": "2023-06-11T05:00:17.913Z"
   },
   {
    "duration": 15,
    "start_time": "2023-06-11T05:00:18.314Z"
   },
   {
    "duration": 31,
    "start_time": "2023-06-11T05:00:18.331Z"
   },
   {
    "duration": 44,
    "start_time": "2023-06-11T05:00:18.366Z"
   },
   {
    "duration": 136,
    "start_time": "2023-06-11T05:00:18.411Z"
   },
   {
    "duration": 164,
    "start_time": "2023-06-11T05:00:18.548Z"
   },
   {
    "duration": 667,
    "start_time": "2023-06-11T05:00:18.714Z"
   },
   {
    "duration": 434,
    "start_time": "2023-06-11T05:00:19.386Z"
   },
   {
    "duration": 8,
    "start_time": "2023-06-11T05:00:19.822Z"
   },
   {
    "duration": 489,
    "start_time": "2023-06-11T05:00:19.831Z"
   },
   {
    "duration": 9,
    "start_time": "2023-06-11T05:00:20.322Z"
   },
   {
    "duration": 107,
    "start_time": "2023-06-11T05:00:20.332Z"
   },
   {
    "duration": 798,
    "start_time": "2023-06-11T05:00:20.441Z"
   },
   {
    "duration": 425,
    "start_time": "2023-06-11T05:00:21.241Z"
   },
   {
    "duration": 18,
    "start_time": "2023-06-11T05:00:21.672Z"
   },
   {
    "duration": 32,
    "start_time": "2023-06-11T05:00:21.692Z"
   },
   {
    "duration": 7,
    "start_time": "2023-06-11T05:00:21.726Z"
   },
   {
    "duration": 96,
    "start_time": "2023-06-11T05:00:21.734Z"
   },
   {
    "duration": 16,
    "start_time": "2023-06-11T05:00:21.832Z"
   },
   {
    "duration": 20,
    "start_time": "2023-06-11T05:00:21.850Z"
   },
   {
    "duration": 472,
    "start_time": "2023-06-11T05:00:21.872Z"
   },
   {
    "duration": 410,
    "start_time": "2023-06-11T05:00:22.346Z"
   },
   {
    "duration": 566,
    "start_time": "2023-06-11T05:00:22.757Z"
   },
   {
    "duration": 795,
    "start_time": "2023-06-11T05:00:23.326Z"
   },
   {
    "duration": 617,
    "start_time": "2023-06-11T05:00:24.124Z"
   },
   {
    "duration": 432,
    "start_time": "2023-06-11T05:00:24.743Z"
   },
   {
    "duration": 439,
    "start_time": "2023-06-11T05:00:25.181Z"
   },
   {
    "duration": 4,
    "start_time": "2023-06-11T05:00:25.622Z"
   },
   {
    "duration": 723,
    "start_time": "2023-06-11T05:00:25.627Z"
   },
   {
    "duration": 4,
    "start_time": "2023-06-11T05:00:26.352Z"
   },
   {
    "duration": 28,
    "start_time": "2023-06-11T05:00:26.358Z"
   },
   {
    "duration": 32,
    "start_time": "2023-06-11T05:00:26.393Z"
   },
   {
    "duration": 32,
    "start_time": "2023-06-11T05:00:26.427Z"
   },
   {
    "duration": 9,
    "start_time": "2023-06-11T05:00:26.461Z"
   },
   {
    "duration": 43,
    "start_time": "2023-06-11T05:00:26.471Z"
   },
   {
    "duration": 16,
    "start_time": "2023-06-11T05:00:26.516Z"
   },
   {
    "duration": 24,
    "start_time": "2023-06-11T05:00:26.534Z"
   },
   {
    "duration": 27,
    "start_time": "2023-06-11T05:00:26.560Z"
   },
   {
    "duration": 7,
    "start_time": "2023-06-11T05:00:26.589Z"
   },
   {
    "duration": 57,
    "start_time": "2023-06-11T05:00:26.597Z"
   },
   {
    "duration": 13,
    "start_time": "2023-06-11T05:00:26.656Z"
   },
   {
    "duration": 39,
    "start_time": "2023-06-11T05:00:26.671Z"
   },
   {
    "duration": 15,
    "start_time": "2023-06-11T05:00:26.712Z"
   },
   {
    "duration": 7,
    "start_time": "2023-06-11T05:05:14.422Z"
   },
   {
    "duration": 10,
    "start_time": "2023-06-11T05:12:02.996Z"
   },
   {
    "duration": 13,
    "start_time": "2023-06-11T05:15:36.664Z"
   },
   {
    "duration": 267,
    "start_time": "2023-06-11T14:24:38.327Z"
   },
   {
    "duration": 2061,
    "start_time": "2023-06-11T14:27:01.505Z"
   },
   {
    "duration": 201,
    "start_time": "2023-06-11T14:27:03.568Z"
   },
   {
    "duration": 31,
    "start_time": "2023-06-11T14:27:03.772Z"
   },
   {
    "duration": 364,
    "start_time": "2023-06-11T14:27:03.810Z"
   },
   {
    "duration": 24,
    "start_time": "2023-06-11T14:27:04.184Z"
   },
   {
    "duration": 112,
    "start_time": "2023-06-11T14:27:04.211Z"
   },
   {
    "duration": 16,
    "start_time": "2023-06-11T14:27:04.325Z"
   },
   {
    "duration": 88,
    "start_time": "2023-06-11T14:27:04.342Z"
   },
   {
    "duration": 25,
    "start_time": "2023-06-11T14:27:04.432Z"
   },
   {
    "duration": 61,
    "start_time": "2023-06-11T14:27:04.463Z"
   },
   {
    "duration": 49,
    "start_time": "2023-06-11T14:27:04.527Z"
   },
   {
    "duration": 30,
    "start_time": "2023-06-11T14:27:04.584Z"
   },
   {
    "duration": 64,
    "start_time": "2023-06-11T14:27:04.617Z"
   },
   {
    "duration": 142,
    "start_time": "2023-06-11T14:27:04.687Z"
   },
   {
    "duration": 23,
    "start_time": "2023-06-11T14:27:04.834Z"
   },
   {
    "duration": 65,
    "start_time": "2023-06-11T14:27:04.870Z"
   },
   {
    "duration": 92,
    "start_time": "2023-06-11T14:27:04.937Z"
   },
   {
    "duration": 8,
    "start_time": "2023-06-11T14:27:05.032Z"
   },
   {
    "duration": 108,
    "start_time": "2023-06-11T14:27:05.043Z"
   },
   {
    "duration": 379,
    "start_time": "2023-06-11T14:27:05.163Z"
   },
   {
    "duration": 238,
    "start_time": "2023-06-11T14:27:05.543Z"
   },
   {
    "duration": 6,
    "start_time": "2023-06-11T14:27:05.782Z"
   },
   {
    "duration": 132,
    "start_time": "2023-06-11T14:27:05.790Z"
   },
   {
    "duration": 571,
    "start_time": "2023-06-11T14:27:05.924Z"
   },
   {
    "duration": 20,
    "start_time": "2023-06-11T14:27:06.500Z"
   },
   {
    "duration": 6,
    "start_time": "2023-06-11T14:27:06.525Z"
   },
   {
    "duration": 32,
    "start_time": "2023-06-11T14:27:06.533Z"
   },
   {
    "duration": 214,
    "start_time": "2023-06-11T14:27:06.573Z"
   },
   {
    "duration": 241,
    "start_time": "2023-06-11T14:27:06.789Z"
   },
   {
    "duration": 858,
    "start_time": "2023-06-11T14:27:07.032Z"
   },
   {
    "duration": 544,
    "start_time": "2023-06-11T14:27:07.895Z"
   },
   {
    "duration": 20,
    "start_time": "2023-06-11T14:27:08.442Z"
   },
   {
    "duration": 851,
    "start_time": "2023-06-11T14:27:08.470Z"
   },
   {
    "duration": 10,
    "start_time": "2023-06-11T14:27:09.323Z"
   },
   {
    "duration": 82,
    "start_time": "2023-06-11T14:27:09.335Z"
   },
   {
    "duration": 954,
    "start_time": "2023-06-11T14:27:09.420Z"
   },
   {
    "duration": 550,
    "start_time": "2023-06-11T14:27:10.376Z"
   },
   {
    "duration": 10,
    "start_time": "2023-06-11T14:27:10.929Z"
   },
   {
    "duration": 88,
    "start_time": "2023-06-11T14:27:10.942Z"
   },
   {
    "duration": 17,
    "start_time": "2023-06-11T14:27:11.032Z"
   },
   {
    "duration": 89,
    "start_time": "2023-06-11T14:27:11.051Z"
   },
   {
    "duration": 26,
    "start_time": "2023-06-11T14:27:11.142Z"
   },
   {
    "duration": 77,
    "start_time": "2023-06-11T14:27:11.171Z"
   },
   {
    "duration": 20,
    "start_time": "2023-06-11T14:27:11.256Z"
   },
   {
    "duration": 608,
    "start_time": "2023-06-11T14:27:11.280Z"
   },
   {
    "duration": 463,
    "start_time": "2023-06-11T14:27:11.893Z"
   },
   {
    "duration": 907,
    "start_time": "2023-06-11T14:27:12.367Z"
   },
   {
    "duration": 934,
    "start_time": "2023-06-11T14:27:13.281Z"
   },
   {
    "duration": 819,
    "start_time": "2023-06-11T14:27:14.217Z"
   },
   {
    "duration": 487,
    "start_time": "2023-06-11T14:27:15.038Z"
   },
   {
    "duration": 517,
    "start_time": "2023-06-11T14:27:15.527Z"
   },
   {
    "duration": 18,
    "start_time": "2023-06-11T14:27:16.046Z"
   },
   {
    "duration": 862,
    "start_time": "2023-06-11T14:27:16.066Z"
   },
   {
    "duration": 6,
    "start_time": "2023-06-11T14:27:16.931Z"
   },
   {
    "duration": 91,
    "start_time": "2023-06-11T14:27:16.939Z"
   },
   {
    "duration": 111,
    "start_time": "2023-06-11T14:27:17.033Z"
   },
   {
    "duration": 62,
    "start_time": "2023-06-11T14:27:17.148Z"
   },
   {
    "duration": 73,
    "start_time": "2023-06-11T14:27:17.212Z"
   },
   {
    "duration": 121,
    "start_time": "2023-06-11T14:27:17.288Z"
   },
   {
    "duration": 48,
    "start_time": "2023-06-11T14:27:17.412Z"
   },
   {
    "duration": 102,
    "start_time": "2023-06-11T14:27:17.462Z"
   },
   {
    "duration": 61,
    "start_time": "2023-06-11T14:27:17.569Z"
   },
   {
    "duration": 42,
    "start_time": "2023-06-11T14:27:17.632Z"
   },
   {
    "duration": 49,
    "start_time": "2023-06-11T14:27:17.676Z"
   },
   {
    "duration": 34,
    "start_time": "2023-06-11T14:27:17.727Z"
   },
   {
    "duration": 62,
    "start_time": "2023-06-11T14:27:17.765Z"
   },
   {
    "duration": 40,
    "start_time": "2023-06-11T14:27:17.830Z"
   },
   {
    "duration": 4,
    "start_time": "2023-06-11T14:28:21.215Z"
   },
   {
    "duration": 109,
    "start_time": "2023-06-11T14:30:20.886Z"
   },
   {
    "duration": 127,
    "start_time": "2023-06-11T14:30:25.783Z"
   },
   {
    "duration": 6,
    "start_time": "2023-06-11T14:30:34.420Z"
   },
   {
    "duration": 1426,
    "start_time": "2023-06-11T14:31:06.687Z"
   },
   {
    "duration": 51,
    "start_time": "2023-06-11T14:31:08.116Z"
   },
   {
    "duration": 31,
    "start_time": "2023-06-11T14:31:08.169Z"
   },
   {
    "duration": 60,
    "start_time": "2023-06-11T14:31:08.202Z"
   },
   {
    "duration": 25,
    "start_time": "2023-06-11T14:31:08.265Z"
   },
   {
    "duration": 71,
    "start_time": "2023-06-11T14:31:08.292Z"
   },
   {
    "duration": 66,
    "start_time": "2023-06-11T14:31:08.367Z"
   },
   {
    "duration": 62,
    "start_time": "2023-06-11T14:31:08.435Z"
   },
   {
    "duration": 22,
    "start_time": "2023-06-11T14:31:08.500Z"
   },
   {
    "duration": 29,
    "start_time": "2023-06-11T14:31:08.524Z"
   },
   {
    "duration": 63,
    "start_time": "2023-06-11T14:31:08.559Z"
   },
   {
    "duration": 30,
    "start_time": "2023-06-11T14:31:08.624Z"
   },
   {
    "duration": 61,
    "start_time": "2023-06-11T14:31:08.656Z"
   },
   {
    "duration": 78,
    "start_time": "2023-06-11T14:31:08.720Z"
   },
   {
    "duration": 21,
    "start_time": "2023-06-11T14:31:08.800Z"
   },
   {
    "duration": 21,
    "start_time": "2023-06-11T14:31:08.822Z"
   },
   {
    "duration": 69,
    "start_time": "2023-06-11T14:31:08.845Z"
   },
   {
    "duration": 48,
    "start_time": "2023-06-11T14:31:08.915Z"
   },
   {
    "duration": 75,
    "start_time": "2023-06-11T14:31:08.966Z"
   },
   {
    "duration": 87,
    "start_time": "2023-06-11T14:31:09.043Z"
   },
   {
    "duration": 266,
    "start_time": "2023-06-11T14:31:09.132Z"
   },
   {
    "duration": 218,
    "start_time": "2023-06-11T14:31:09.400Z"
   },
   {
    "duration": 8,
    "start_time": "2023-06-11T14:31:09.620Z"
   },
   {
    "duration": 179,
    "start_time": "2023-06-11T14:31:09.631Z"
   },
   {
    "duration": 452,
    "start_time": "2023-06-11T14:31:09.813Z"
   },
   {
    "duration": 19,
    "start_time": "2023-06-11T14:31:10.267Z"
   },
   {
    "duration": 20,
    "start_time": "2023-06-11T14:31:10.292Z"
   },
   {
    "duration": 28,
    "start_time": "2023-06-11T14:31:10.313Z"
   },
   {
    "duration": 214,
    "start_time": "2023-06-11T14:31:10.343Z"
   },
   {
    "duration": 173,
    "start_time": "2023-06-11T14:31:10.560Z"
   },
   {
    "duration": 779,
    "start_time": "2023-06-11T14:31:10.735Z"
   },
   {
    "duration": 545,
    "start_time": "2023-06-11T14:31:11.516Z"
   },
   {
    "duration": 16,
    "start_time": "2023-06-11T14:31:12.064Z"
   },
   {
    "duration": 633,
    "start_time": "2023-06-11T14:31:12.082Z"
   },
   {
    "duration": 10,
    "start_time": "2023-06-11T14:31:12.717Z"
   },
   {
    "duration": 27,
    "start_time": "2023-06-11T14:31:12.729Z"
   },
   {
    "duration": 914,
    "start_time": "2023-06-11T14:31:12.758Z"
   },
   {
    "duration": 402,
    "start_time": "2023-06-11T14:31:13.673Z"
   },
   {
    "duration": 12,
    "start_time": "2023-06-11T14:31:14.078Z"
   },
   {
    "duration": 20,
    "start_time": "2023-06-11T14:31:14.092Z"
   },
   {
    "duration": 6,
    "start_time": "2023-06-11T14:31:14.117Z"
   },
   {
    "duration": 39,
    "start_time": "2023-06-11T14:31:14.125Z"
   },
   {
    "duration": 26,
    "start_time": "2023-06-11T14:31:14.168Z"
   },
   {
    "duration": 19,
    "start_time": "2023-06-11T14:31:14.199Z"
   },
   {
    "duration": 8,
    "start_time": "2023-06-11T14:31:14.221Z"
   },
   {
    "duration": 495,
    "start_time": "2023-06-11T14:31:14.231Z"
   },
   {
    "duration": 409,
    "start_time": "2023-06-11T14:31:14.728Z"
   },
   {
    "duration": 546,
    "start_time": "2023-06-11T14:31:15.138Z"
   },
   {
    "duration": 815,
    "start_time": "2023-06-11T14:31:15.686Z"
   },
   {
    "duration": 617,
    "start_time": "2023-06-11T14:31:16.503Z"
   },
   {
    "duration": 479,
    "start_time": "2023-06-11T14:31:17.122Z"
   },
   {
    "duration": 510,
    "start_time": "2023-06-11T14:31:17.603Z"
   },
   {
    "duration": 5,
    "start_time": "2023-06-11T14:31:18.115Z"
   },
   {
    "duration": 630,
    "start_time": "2023-06-11T14:31:18.122Z"
   },
   {
    "duration": 9,
    "start_time": "2023-06-11T14:31:18.759Z"
   },
   {
    "duration": 43,
    "start_time": "2023-06-11T14:31:18.774Z"
   },
   {
    "duration": 81,
    "start_time": "2023-06-11T14:31:18.819Z"
   },
   {
    "duration": 7,
    "start_time": "2023-06-11T14:31:18.902Z"
   },
   {
    "duration": 19,
    "start_time": "2023-06-11T14:31:18.911Z"
   },
   {
    "duration": 53,
    "start_time": "2023-06-11T14:31:18.932Z"
   },
   {
    "duration": 24,
    "start_time": "2023-06-11T14:31:18.987Z"
   },
   {
    "duration": 20,
    "start_time": "2023-06-11T14:31:19.014Z"
   },
   {
    "duration": 43,
    "start_time": "2023-06-11T14:31:19.036Z"
   },
   {
    "duration": 23,
    "start_time": "2023-06-11T14:31:19.081Z"
   },
   {
    "duration": 27,
    "start_time": "2023-06-11T14:31:19.106Z"
   },
   {
    "duration": 64,
    "start_time": "2023-06-11T14:31:19.135Z"
   },
   {
    "duration": 23,
    "start_time": "2023-06-11T14:31:19.201Z"
   },
   {
    "duration": 7,
    "start_time": "2023-06-11T14:31:19.227Z"
   },
   {
    "duration": 10,
    "start_time": "2023-06-11T14:32:29.878Z"
   },
   {
    "duration": 9,
    "start_time": "2023-06-11T14:32:41.370Z"
   },
   {
    "duration": 1387,
    "start_time": "2023-06-11T14:36:02.818Z"
   },
   {
    "duration": 37,
    "start_time": "2023-06-11T14:36:04.208Z"
   },
   {
    "duration": 50,
    "start_time": "2023-06-11T14:36:04.257Z"
   },
   {
    "duration": 60,
    "start_time": "2023-06-11T14:36:04.310Z"
   },
   {
    "duration": 17,
    "start_time": "2023-06-11T14:36:04.373Z"
   },
   {
    "duration": 45,
    "start_time": "2023-06-11T14:36:04.392Z"
   },
   {
    "duration": 119,
    "start_time": "2023-06-11T14:36:04.439Z"
   },
   {
    "duration": 59,
    "start_time": "2023-06-11T14:36:04.570Z"
   },
   {
    "duration": 71,
    "start_time": "2023-06-11T14:36:04.631Z"
   },
   {
    "duration": 6,
    "start_time": "2023-06-11T14:36:04.705Z"
   },
   {
    "duration": 23,
    "start_time": "2023-06-11T14:36:04.713Z"
   },
   {
    "duration": 56,
    "start_time": "2023-06-11T14:36:04.738Z"
   },
   {
    "duration": 35,
    "start_time": "2023-06-11T14:36:04.796Z"
   },
   {
    "duration": 67,
    "start_time": "2023-06-11T14:36:04.833Z"
   },
   {
    "duration": 35,
    "start_time": "2023-06-11T14:36:04.902Z"
   },
   {
    "duration": 40,
    "start_time": "2023-06-11T14:36:04.939Z"
   },
   {
    "duration": 22,
    "start_time": "2023-06-11T14:36:04.986Z"
   },
   {
    "duration": 8,
    "start_time": "2023-06-11T14:36:05.010Z"
   },
   {
    "duration": 14,
    "start_time": "2023-06-11T14:36:05.020Z"
   },
   {
    "duration": 63,
    "start_time": "2023-06-11T14:36:05.035Z"
   },
   {
    "duration": 228,
    "start_time": "2023-06-11T14:36:05.100Z"
   },
   {
    "duration": 201,
    "start_time": "2023-06-11T14:36:05.330Z"
   },
   {
    "duration": 18,
    "start_time": "2023-06-11T14:36:05.533Z"
   },
   {
    "duration": 161,
    "start_time": "2023-06-11T14:36:05.553Z"
   },
   {
    "duration": 458,
    "start_time": "2023-06-11T14:36:05.717Z"
   },
   {
    "duration": 7,
    "start_time": "2023-06-11T14:36:06.177Z"
   },
   {
    "duration": 51,
    "start_time": "2023-06-11T14:36:06.187Z"
   },
   {
    "duration": 89,
    "start_time": "2023-06-11T14:36:06.244Z"
   },
   {
    "duration": 232,
    "start_time": "2023-06-11T14:36:06.335Z"
   },
   {
    "duration": 204,
    "start_time": "2023-06-11T14:36:06.569Z"
   },
   {
    "duration": 684,
    "start_time": "2023-06-11T14:36:06.787Z"
   },
   {
    "duration": 480,
    "start_time": "2023-06-11T14:36:07.475Z"
   },
   {
    "duration": 19,
    "start_time": "2023-06-11T14:36:07.957Z"
   },
   {
    "duration": 745,
    "start_time": "2023-06-11T14:36:07.979Z"
   },
   {
    "duration": 24,
    "start_time": "2023-06-11T14:36:08.726Z"
   },
   {
    "duration": 8,
    "start_time": "2023-06-11T14:36:08.752Z"
   },
   {
    "duration": 840,
    "start_time": "2023-06-11T14:36:08.761Z"
   },
   {
    "duration": 479,
    "start_time": "2023-06-11T14:36:09.603Z"
   },
   {
    "duration": 10,
    "start_time": "2023-06-11T14:36:10.093Z"
   },
   {
    "duration": 23,
    "start_time": "2023-06-11T14:36:10.104Z"
   },
   {
    "duration": 15,
    "start_time": "2023-06-11T14:36:10.129Z"
   },
   {
    "duration": 55,
    "start_time": "2023-06-11T14:36:10.145Z"
   },
   {
    "duration": 16,
    "start_time": "2023-06-11T14:36:10.202Z"
   },
   {
    "duration": 25,
    "start_time": "2023-06-11T14:36:10.220Z"
   },
   {
    "duration": 54,
    "start_time": "2023-06-11T14:36:10.251Z"
   },
   {
    "duration": 516,
    "start_time": "2023-06-11T14:36:10.307Z"
   },
   {
    "duration": 439,
    "start_time": "2023-06-11T14:36:10.824Z"
   },
   {
    "duration": 538,
    "start_time": "2023-06-11T14:36:11.265Z"
   },
   {
    "duration": 724,
    "start_time": "2023-06-11T14:36:11.805Z"
   },
   {
    "duration": 764,
    "start_time": "2023-06-11T14:36:12.531Z"
   },
   {
    "duration": 462,
    "start_time": "2023-06-11T14:36:13.297Z"
   },
   {
    "duration": 534,
    "start_time": "2023-06-11T14:36:13.764Z"
   },
   {
    "duration": 10,
    "start_time": "2023-06-11T14:36:14.300Z"
   },
   {
    "duration": 670,
    "start_time": "2023-06-11T14:36:14.312Z"
   },
   {
    "duration": 8,
    "start_time": "2023-06-11T14:36:14.983Z"
   },
   {
    "duration": 33,
    "start_time": "2023-06-11T14:36:14.997Z"
   },
   {
    "duration": 79,
    "start_time": "2023-06-11T14:36:15.031Z"
   },
   {
    "duration": 8,
    "start_time": "2023-06-11T14:36:15.112Z"
   },
   {
    "duration": 18,
    "start_time": "2023-06-11T14:36:15.121Z"
   },
   {
    "duration": 56,
    "start_time": "2023-06-11T14:36:15.141Z"
   },
   {
    "duration": 18,
    "start_time": "2023-06-11T14:36:15.198Z"
   },
   {
    "duration": 16,
    "start_time": "2023-06-11T14:36:15.218Z"
   },
   {
    "duration": 36,
    "start_time": "2023-06-11T14:36:15.236Z"
   },
   {
    "duration": 36,
    "start_time": "2023-06-11T14:36:15.274Z"
   },
   {
    "duration": 22,
    "start_time": "2023-06-11T14:36:15.311Z"
   },
   {
    "duration": 62,
    "start_time": "2023-06-11T14:36:15.334Z"
   },
   {
    "duration": 33,
    "start_time": "2023-06-11T14:36:15.397Z"
   },
   {
    "duration": 46,
    "start_time": "2023-06-11T14:36:15.432Z"
   },
   {
    "duration": 129,
    "start_time": "2023-06-11T14:38:19.488Z"
   },
   {
    "duration": 128,
    "start_time": "2023-06-11T14:47:32.900Z"
   },
   {
    "duration": 149,
    "start_time": "2023-06-11T14:49:44.647Z"
   },
   {
    "duration": 10,
    "start_time": "2023-06-11T14:55:57.323Z"
   },
   {
    "duration": 7,
    "start_time": "2023-06-11T14:56:14.478Z"
   },
   {
    "duration": 102,
    "start_time": "2023-06-11T14:57:22.178Z"
   },
   {
    "duration": 136,
    "start_time": "2023-06-11T15:42:26.088Z"
   },
   {
    "duration": 27,
    "start_time": "2023-06-11T15:42:51.585Z"
   },
   {
    "duration": 34,
    "start_time": "2023-06-11T15:43:42.920Z"
   },
   {
    "duration": 32,
    "start_time": "2023-06-11T15:48:17.563Z"
   },
   {
    "duration": 19,
    "start_time": "2023-06-11T15:48:38.601Z"
   },
   {
    "duration": 22,
    "start_time": "2023-06-11T15:48:47.434Z"
   },
   {
    "duration": 25,
    "start_time": "2023-06-11T15:49:02.481Z"
   },
   {
    "duration": 563,
    "start_time": "2023-06-11T15:49:29.273Z"
   },
   {
    "duration": 30,
    "start_time": "2023-06-11T15:50:15.833Z"
   },
   {
    "duration": 571,
    "start_time": "2023-06-11T15:50:20.314Z"
   },
   {
    "duration": 22,
    "start_time": "2023-06-11T15:50:27.512Z"
   },
   {
    "duration": 19,
    "start_time": "2023-06-11T15:50:31.672Z"
   },
   {
    "duration": 651,
    "start_time": "2023-06-11T15:50:39.193Z"
   },
   {
    "duration": 26,
    "start_time": "2023-06-11T15:51:02.610Z"
   },
   {
    "duration": 22,
    "start_time": "2023-06-11T15:51:07.267Z"
   },
   {
    "duration": 5,
    "start_time": "2023-06-11T15:52:43.876Z"
   },
   {
    "duration": 10,
    "start_time": "2023-06-11T15:54:47.703Z"
   },
   {
    "duration": 1315,
    "start_time": "2023-06-11T15:57:13.515Z"
   },
   {
    "duration": 52,
    "start_time": "2023-06-11T15:57:14.832Z"
   },
   {
    "duration": 12,
    "start_time": "2023-06-11T15:57:14.886Z"
   },
   {
    "duration": 54,
    "start_time": "2023-06-11T15:57:14.900Z"
   },
   {
    "duration": 19,
    "start_time": "2023-06-11T15:57:14.962Z"
   },
   {
    "duration": 54,
    "start_time": "2023-06-11T15:57:14.983Z"
   },
   {
    "duration": 55,
    "start_time": "2023-06-11T15:57:15.039Z"
   },
   {
    "duration": 42,
    "start_time": "2023-06-11T15:57:15.096Z"
   },
   {
    "duration": 56,
    "start_time": "2023-06-11T15:57:15.140Z"
   },
   {
    "duration": 32,
    "start_time": "2023-06-11T15:57:15.198Z"
   },
   {
    "duration": 19,
    "start_time": "2023-06-11T15:57:15.232Z"
   },
   {
    "duration": 43,
    "start_time": "2023-06-11T15:57:15.252Z"
   },
   {
    "duration": 7,
    "start_time": "2023-06-11T15:57:15.297Z"
   },
   {
    "duration": 14,
    "start_time": "2023-06-11T15:57:15.305Z"
   },
   {
    "duration": 13,
    "start_time": "2023-06-11T15:57:15.321Z"
   },
   {
    "duration": 14,
    "start_time": "2023-06-11T15:57:15.336Z"
   },
   {
    "duration": 45,
    "start_time": "2023-06-11T15:57:15.351Z"
   },
   {
    "duration": 8,
    "start_time": "2023-06-11T15:57:15.398Z"
   },
   {
    "duration": 14,
    "start_time": "2023-06-11T15:57:15.408Z"
   },
   {
    "duration": 17,
    "start_time": "2023-06-11T15:57:15.424Z"
   },
   {
    "duration": 228,
    "start_time": "2023-06-11T15:57:15.442Z"
   },
   {
    "duration": 205,
    "start_time": "2023-06-11T15:57:15.678Z"
   },
   {
    "duration": 6,
    "start_time": "2023-06-11T15:57:15.885Z"
   },
   {
    "duration": 146,
    "start_time": "2023-06-11T15:57:15.893Z"
   },
   {
    "duration": 414,
    "start_time": "2023-06-11T15:57:16.041Z"
   },
   {
    "duration": 17,
    "start_time": "2023-06-11T15:57:16.457Z"
   },
   {
    "duration": 40,
    "start_time": "2023-06-11T15:57:16.476Z"
   },
   {
    "duration": 67,
    "start_time": "2023-06-11T15:57:16.520Z"
   },
   {
    "duration": 61,
    "start_time": "2023-06-11T15:57:16.589Z"
   },
   {
    "duration": 203,
    "start_time": "2023-06-11T15:57:16.652Z"
   },
   {
    "duration": 184,
    "start_time": "2023-06-11T15:57:16.857Z"
   },
   {
    "duration": 658,
    "start_time": "2023-06-11T15:57:17.044Z"
   },
   {
    "duration": 518,
    "start_time": "2023-06-11T15:57:17.705Z"
   },
   {
    "duration": 8,
    "start_time": "2023-06-11T15:57:18.224Z"
   },
   {
    "duration": 617,
    "start_time": "2023-06-11T15:57:18.247Z"
   },
   {
    "duration": 12,
    "start_time": "2023-06-11T15:57:18.869Z"
   },
   {
    "duration": 32,
    "start_time": "2023-06-11T15:57:18.883Z"
   },
   {
    "duration": 809,
    "start_time": "2023-06-11T15:57:18.917Z"
   },
   {
    "duration": 437,
    "start_time": "2023-06-11T15:57:19.728Z"
   },
   {
    "duration": 13,
    "start_time": "2023-06-11T15:57:20.169Z"
   },
   {
    "duration": 51,
    "start_time": "2023-06-11T15:57:20.183Z"
   },
   {
    "duration": 72,
    "start_time": "2023-06-11T15:57:20.235Z"
   },
   {
    "duration": 44,
    "start_time": "2023-06-11T15:57:20.310Z"
   },
   {
    "duration": 48,
    "start_time": "2023-06-11T15:57:20.356Z"
   },
   {
    "duration": 98,
    "start_time": "2023-06-11T15:57:20.406Z"
   },
   {
    "duration": 79,
    "start_time": "2023-06-11T15:57:20.505Z"
   },
   {
    "duration": 548,
    "start_time": "2023-06-11T15:57:20.587Z"
   },
   {
    "duration": 437,
    "start_time": "2023-06-11T15:57:21.137Z"
   },
   {
    "duration": 562,
    "start_time": "2023-06-11T15:57:21.578Z"
   },
   {
    "duration": 773,
    "start_time": "2023-06-11T15:57:22.142Z"
   },
   {
    "duration": 697,
    "start_time": "2023-06-11T15:57:22.917Z"
   },
   {
    "duration": 461,
    "start_time": "2023-06-11T15:57:23.615Z"
   },
   {
    "duration": 480,
    "start_time": "2023-06-11T15:57:24.082Z"
   },
   {
    "duration": 6,
    "start_time": "2023-06-11T15:57:24.567Z"
   },
   {
    "duration": 629,
    "start_time": "2023-06-11T15:57:24.578Z"
   },
   {
    "duration": 8,
    "start_time": "2023-06-11T15:57:25.209Z"
   },
   {
    "duration": 203,
    "start_time": "2023-06-11T15:57:25.219Z"
   },
   {
    "duration": 0,
    "start_time": "2023-06-11T15:57:25.424Z"
   },
   {
    "duration": 0,
    "start_time": "2023-06-11T15:57:25.426Z"
   },
   {
    "duration": 0,
    "start_time": "2023-06-11T15:57:25.427Z"
   },
   {
    "duration": 0,
    "start_time": "2023-06-11T15:57:25.429Z"
   },
   {
    "duration": 0,
    "start_time": "2023-06-11T15:57:25.432Z"
   },
   {
    "duration": 0,
    "start_time": "2023-06-11T15:57:25.433Z"
   },
   {
    "duration": 0,
    "start_time": "2023-06-11T15:57:25.448Z"
   },
   {
    "duration": 0,
    "start_time": "2023-06-11T15:57:25.450Z"
   },
   {
    "duration": 0,
    "start_time": "2023-06-11T15:57:25.452Z"
   },
   {
    "duration": 0,
    "start_time": "2023-06-11T15:57:25.453Z"
   },
   {
    "duration": 0,
    "start_time": "2023-06-11T15:57:25.455Z"
   },
   {
    "duration": 0,
    "start_time": "2023-06-11T15:57:25.456Z"
   },
   {
    "duration": 1,
    "start_time": "2023-06-11T15:57:25.458Z"
   },
   {
    "duration": 19,
    "start_time": "2023-06-11T15:57:41.964Z"
   },
   {
    "duration": 30,
    "start_time": "2023-06-11T15:58:13.096Z"
   },
   {
    "duration": 29,
    "start_time": "2023-06-11T15:58:19.076Z"
   },
   {
    "duration": 188,
    "start_time": "2023-06-11T15:59:53.444Z"
   },
   {
    "duration": 171,
    "start_time": "2023-06-11T16:00:50.887Z"
   },
   {
    "duration": 173,
    "start_time": "2023-06-11T16:00:58.338Z"
   },
   {
    "duration": 274,
    "start_time": "2023-06-11T16:01:16.907Z"
   },
   {
    "duration": 184,
    "start_time": "2023-06-11T16:02:00.918Z"
   },
   {
    "duration": 162,
    "start_time": "2023-06-11T16:02:06.825Z"
   },
   {
    "duration": 148,
    "start_time": "2023-06-11T16:02:13.768Z"
   },
   {
    "duration": 142,
    "start_time": "2023-06-11T16:02:24.056Z"
   },
   {
    "duration": 164,
    "start_time": "2023-06-11T16:02:57.710Z"
   },
   {
    "duration": 18,
    "start_time": "2023-06-11T16:03:10.515Z"
   },
   {
    "duration": 164,
    "start_time": "2023-06-11T16:03:17.614Z"
   },
   {
    "duration": 171,
    "start_time": "2023-06-11T16:03:24.627Z"
   },
   {
    "duration": 158,
    "start_time": "2023-06-11T16:04:13.475Z"
   },
   {
    "duration": 96,
    "start_time": "2023-06-11T16:07:22.195Z"
   },
   {
    "duration": 101,
    "start_time": "2023-06-11T16:07:29.912Z"
   },
   {
    "duration": 30,
    "start_time": "2023-06-11T16:07:40.440Z"
   },
   {
    "duration": 20,
    "start_time": "2023-06-11T16:08:39.507Z"
   },
   {
    "duration": 210,
    "start_time": "2023-06-11T16:09:22.703Z"
   },
   {
    "duration": 168,
    "start_time": "2023-06-11T16:10:03.513Z"
   },
   {
    "duration": 210,
    "start_time": "2023-06-11T16:10:35.675Z"
   },
   {
    "duration": 281,
    "start_time": "2023-06-11T16:10:45.632Z"
   },
   {
    "duration": 188,
    "start_time": "2023-06-11T16:11:01.545Z"
   },
   {
    "duration": 165,
    "start_time": "2023-06-11T16:12:14.114Z"
   },
   {
    "duration": 185,
    "start_time": "2023-06-11T16:13:01.074Z"
   },
   {
    "duration": 153,
    "start_time": "2023-06-11T16:13:16.466Z"
   },
   {
    "duration": 695,
    "start_time": "2023-06-11T16:17:35.812Z"
   },
   {
    "duration": 25,
    "start_time": "2023-06-11T16:18:26.946Z"
   },
   {
    "duration": 310,
    "start_time": "2023-06-11T16:18:42.620Z"
   },
   {
    "duration": 15,
    "start_time": "2023-06-11T16:18:57.087Z"
   },
   {
    "duration": 5,
    "start_time": "2023-06-11T16:19:16.918Z"
   },
   {
    "duration": 642,
    "start_time": "2023-06-11T16:19:54.592Z"
   },
   {
    "duration": 24,
    "start_time": "2023-06-11T16:20:12.450Z"
   },
   {
    "duration": 33,
    "start_time": "2023-06-11T16:20:45.667Z"
   },
   {
    "duration": 657,
    "start_time": "2023-06-11T16:20:51.468Z"
   },
   {
    "duration": 466,
    "start_time": "2023-06-11T16:21:02.573Z"
   },
   {
    "duration": 678,
    "start_time": "2023-06-11T16:25:42.840Z"
   },
   {
    "duration": 263082,
    "start_time": "2023-06-11T16:25:43.520Z"
   },
   {
    "duration": 182,
    "start_time": "2023-06-11T16:30:06.604Z"
   },
   {
    "duration": 15,
    "start_time": "2023-06-11T16:30:44.382Z"
   },
   {
    "duration": 1213,
    "start_time": "2023-06-11T16:31:44.387Z"
   },
   {
    "duration": 1275,
    "start_time": "2023-06-11T16:32:07.530Z"
   },
   {
    "duration": 1232,
    "start_time": "2023-06-11T16:32:23.762Z"
   },
   {
    "duration": 1117,
    "start_time": "2023-06-11T16:33:07.018Z"
   },
   {
    "duration": 1153,
    "start_time": "2023-06-11T16:33:25.323Z"
   },
   {
    "duration": 1638,
    "start_time": "2023-06-11T16:48:21.400Z"
   },
   {
    "duration": 52,
    "start_time": "2023-06-11T16:48:23.042Z"
   },
   {
    "duration": 54,
    "start_time": "2023-06-11T16:48:23.096Z"
   },
   {
    "duration": 77,
    "start_time": "2023-06-11T16:48:23.154Z"
   },
   {
    "duration": 29,
    "start_time": "2023-06-11T16:48:23.233Z"
   },
   {
    "duration": 33,
    "start_time": "2023-06-11T16:48:23.266Z"
   },
   {
    "duration": 21,
    "start_time": "2023-06-11T16:48:23.302Z"
   },
   {
    "duration": 58,
    "start_time": "2023-06-11T16:48:23.325Z"
   },
   {
    "duration": 37,
    "start_time": "2023-06-11T16:48:23.386Z"
   },
   {
    "duration": 30,
    "start_time": "2023-06-11T16:48:23.426Z"
   },
   {
    "duration": 19,
    "start_time": "2023-06-11T16:48:23.461Z"
   },
   {
    "duration": 17,
    "start_time": "2023-06-11T16:48:23.482Z"
   },
   {
    "duration": 13,
    "start_time": "2023-06-11T16:48:23.501Z"
   },
   {
    "duration": 12,
    "start_time": "2023-06-11T16:48:23.516Z"
   },
   {
    "duration": 19,
    "start_time": "2023-06-11T16:48:23.530Z"
   },
   {
    "duration": 23,
    "start_time": "2023-06-11T16:48:23.552Z"
   },
   {
    "duration": 21,
    "start_time": "2023-06-11T16:48:23.579Z"
   },
   {
    "duration": 7,
    "start_time": "2023-06-11T16:48:23.602Z"
   },
   {
    "duration": 10,
    "start_time": "2023-06-11T16:48:23.610Z"
   },
   {
    "duration": 23,
    "start_time": "2023-06-11T16:48:23.622Z"
   },
   {
    "duration": 210,
    "start_time": "2023-06-11T16:48:23.647Z"
   },
   {
    "duration": 194,
    "start_time": "2023-06-11T16:48:23.863Z"
   },
   {
    "duration": 9,
    "start_time": "2023-06-11T16:48:24.059Z"
   },
   {
    "duration": 147,
    "start_time": "2023-06-11T16:48:24.070Z"
   },
   {
    "duration": 464,
    "start_time": "2023-06-11T16:48:24.219Z"
   },
   {
    "duration": 7,
    "start_time": "2023-06-11T16:48:24.685Z"
   },
   {
    "duration": 18,
    "start_time": "2023-06-11T16:48:24.694Z"
   },
   {
    "duration": 16,
    "start_time": "2023-06-11T16:48:24.716Z"
   },
   {
    "duration": 21,
    "start_time": "2023-06-11T16:48:24.734Z"
   },
   {
    "duration": 200,
    "start_time": "2023-06-11T16:48:24.758Z"
   },
   {
    "duration": 165,
    "start_time": "2023-06-11T16:48:24.960Z"
   },
   {
    "duration": 669,
    "start_time": "2023-06-11T16:48:25.127Z"
   },
   {
    "duration": 543,
    "start_time": "2023-06-11T16:48:25.797Z"
   },
   {
    "duration": 14,
    "start_time": "2023-06-11T16:48:26.348Z"
   },
   {
    "duration": 572,
    "start_time": "2023-06-11T16:48:26.365Z"
   },
   {
    "duration": 18,
    "start_time": "2023-06-11T16:48:26.940Z"
   },
   {
    "duration": 27,
    "start_time": "2023-06-11T16:48:26.962Z"
   },
   {
    "duration": 887,
    "start_time": "2023-06-11T16:48:26.992Z"
   },
   {
    "duration": 471,
    "start_time": "2023-06-11T16:48:27.881Z"
   },
   {
    "duration": 12,
    "start_time": "2023-06-11T16:48:28.357Z"
   },
   {
    "duration": 32,
    "start_time": "2023-06-11T16:48:28.372Z"
   },
   {
    "duration": 7,
    "start_time": "2023-06-11T16:48:28.406Z"
   },
   {
    "duration": 24,
    "start_time": "2023-06-11T16:48:28.415Z"
   },
   {
    "duration": 22,
    "start_time": "2023-06-11T16:48:28.440Z"
   },
   {
    "duration": 24,
    "start_time": "2023-06-11T16:48:28.466Z"
   },
   {
    "duration": 9,
    "start_time": "2023-06-11T16:48:28.492Z"
   },
   {
    "duration": 497,
    "start_time": "2023-06-11T16:48:28.503Z"
   },
   {
    "duration": 474,
    "start_time": "2023-06-11T16:48:29.002Z"
   },
   {
    "duration": 531,
    "start_time": "2023-06-11T16:48:29.478Z"
   },
   {
    "duration": 755,
    "start_time": "2023-06-11T16:48:30.011Z"
   },
   {
    "duration": 732,
    "start_time": "2023-06-11T16:48:30.768Z"
   },
   {
    "duration": 495,
    "start_time": "2023-06-11T16:48:31.502Z"
   },
   {
    "duration": 560,
    "start_time": "2023-06-11T16:48:31.999Z"
   },
   {
    "duration": 8,
    "start_time": "2023-06-11T16:48:32.561Z"
   },
   {
    "duration": 714,
    "start_time": "2023-06-11T16:48:32.573Z"
   },
   {
    "duration": 5,
    "start_time": "2023-06-11T16:48:33.289Z"
   },
   {
    "duration": 16,
    "start_time": "2023-06-11T16:48:33.296Z"
   },
   {
    "duration": 52,
    "start_time": "2023-06-11T16:48:33.315Z"
   },
   {
    "duration": 9,
    "start_time": "2023-06-11T16:48:33.369Z"
   },
   {
    "duration": 8,
    "start_time": "2023-06-11T16:48:33.380Z"
   },
   {
    "duration": 15,
    "start_time": "2023-06-11T16:48:33.390Z"
   },
   {
    "duration": 46,
    "start_time": "2023-06-11T16:48:33.407Z"
   },
   {
    "duration": 13,
    "start_time": "2023-06-11T16:48:33.463Z"
   },
   {
    "duration": 17,
    "start_time": "2023-06-11T16:48:33.478Z"
   },
   {
    "duration": 4,
    "start_time": "2023-06-11T16:48:33.496Z"
   },
   {
    "duration": 13,
    "start_time": "2023-06-11T16:48:33.502Z"
   },
   {
    "duration": 14,
    "start_time": "2023-06-11T16:48:33.517Z"
   },
   {
    "duration": 33,
    "start_time": "2023-06-11T16:48:33.533Z"
   },
   {
    "duration": 13,
    "start_time": "2023-06-11T16:48:33.568Z"
   },
   {
    "duration": 7,
    "start_time": "2023-06-11T16:49:36.761Z"
   },
   {
    "duration": 12,
    "start_time": "2023-06-11T16:49:46.985Z"
   },
   {
    "duration": 1405,
    "start_time": "2023-06-11T16:50:00.533Z"
   },
   {
    "duration": 52,
    "start_time": "2023-06-11T16:50:01.946Z"
   },
   {
    "duration": 30,
    "start_time": "2023-06-11T16:50:02.000Z"
   },
   {
    "duration": 86,
    "start_time": "2023-06-11T16:50:02.033Z"
   },
   {
    "duration": 104,
    "start_time": "2023-06-11T16:50:02.122Z"
   },
   {
    "duration": 115,
    "start_time": "2023-06-11T16:50:02.228Z"
   },
   {
    "duration": 58,
    "start_time": "2023-06-11T16:50:02.345Z"
   },
   {
    "duration": 107,
    "start_time": "2023-06-11T16:50:02.405Z"
   },
   {
    "duration": 105,
    "start_time": "2023-06-11T16:50:02.514Z"
   },
   {
    "duration": 169,
    "start_time": "2023-06-11T16:50:02.621Z"
   },
   {
    "duration": 175,
    "start_time": "2023-06-11T16:50:02.792Z"
   },
   {
    "duration": 33,
    "start_time": "2023-06-11T16:50:02.969Z"
   },
   {
    "duration": 31,
    "start_time": "2023-06-11T16:50:03.004Z"
   },
   {
    "duration": 58,
    "start_time": "2023-06-11T16:50:03.037Z"
   },
   {
    "duration": 20,
    "start_time": "2023-06-11T16:50:03.097Z"
   },
   {
    "duration": 28,
    "start_time": "2023-06-11T16:50:03.121Z"
   },
   {
    "duration": 51,
    "start_time": "2023-06-11T16:50:03.152Z"
   },
   {
    "duration": 22,
    "start_time": "2023-06-11T16:50:03.205Z"
   },
   {
    "duration": 41,
    "start_time": "2023-06-11T16:50:03.229Z"
   },
   {
    "duration": 13,
    "start_time": "2023-06-11T16:50:03.272Z"
   },
   {
    "duration": 223,
    "start_time": "2023-06-11T16:50:03.289Z"
   },
   {
    "duration": 182,
    "start_time": "2023-06-11T16:50:03.514Z"
   },
   {
    "duration": 6,
    "start_time": "2023-06-11T16:50:03.699Z"
   },
   {
    "duration": 154,
    "start_time": "2023-06-11T16:50:03.707Z"
   },
   {
    "duration": 400,
    "start_time": "2023-06-11T16:50:03.865Z"
   },
   {
    "duration": 6,
    "start_time": "2023-06-11T16:50:04.267Z"
   },
   {
    "duration": 6,
    "start_time": "2023-06-11T16:50:04.275Z"
   },
   {
    "duration": 5,
    "start_time": "2023-06-11T16:50:04.284Z"
   },
   {
    "duration": 13,
    "start_time": "2023-06-11T16:50:04.290Z"
   },
   {
    "duration": 157,
    "start_time": "2023-06-11T16:50:04.305Z"
   },
   {
    "duration": 180,
    "start_time": "2023-06-11T16:50:04.470Z"
   },
   {
    "duration": 803,
    "start_time": "2023-06-11T16:50:04.659Z"
   },
   {
    "duration": 486,
    "start_time": "2023-06-11T16:50:05.464Z"
   },
   {
    "duration": 9,
    "start_time": "2023-06-11T16:50:05.959Z"
   },
   {
    "duration": 593,
    "start_time": "2023-06-11T16:50:05.970Z"
   },
   {
    "duration": 11,
    "start_time": "2023-06-11T16:50:06.565Z"
   },
   {
    "duration": 22,
    "start_time": "2023-06-11T16:50:06.578Z"
   },
   {
    "duration": 861,
    "start_time": "2023-06-11T16:50:06.602Z"
   },
   {
    "duration": 403,
    "start_time": "2023-06-11T16:50:07.467Z"
   },
   {
    "duration": 9,
    "start_time": "2023-06-11T16:50:07.872Z"
   },
   {
    "duration": 18,
    "start_time": "2023-06-11T16:50:07.883Z"
   },
   {
    "duration": 22,
    "start_time": "2023-06-11T16:50:07.902Z"
   },
   {
    "duration": 37,
    "start_time": "2023-06-11T16:50:07.926Z"
   },
   {
    "duration": 18,
    "start_time": "2023-06-11T16:50:07.967Z"
   },
   {
    "duration": 38,
    "start_time": "2023-06-11T16:50:07.987Z"
   },
   {
    "duration": 23,
    "start_time": "2023-06-11T16:50:08.028Z"
   },
   {
    "duration": 506,
    "start_time": "2023-06-11T16:50:08.059Z"
   },
   {
    "duration": 393,
    "start_time": "2023-06-11T16:50:08.567Z"
   },
   {
    "duration": 535,
    "start_time": "2023-06-11T16:50:08.963Z"
   },
   {
    "duration": 726,
    "start_time": "2023-06-11T16:50:09.500Z"
   },
   {
    "duration": 673,
    "start_time": "2023-06-11T16:50:10.228Z"
   },
   {
    "duration": 468,
    "start_time": "2023-06-11T16:50:10.902Z"
   },
   {
    "duration": 471,
    "start_time": "2023-06-11T16:50:11.372Z"
   },
   {
    "duration": 13,
    "start_time": "2023-06-11T16:50:11.846Z"
   },
   {
    "duration": 671,
    "start_time": "2023-06-11T16:50:11.862Z"
   },
   {
    "duration": 12,
    "start_time": "2023-06-11T16:50:12.536Z"
   },
   {
    "duration": 44,
    "start_time": "2023-06-11T16:50:12.550Z"
   },
   {
    "duration": 36,
    "start_time": "2023-06-11T16:50:12.597Z"
   },
   {
    "duration": 66,
    "start_time": "2023-06-11T16:50:12.636Z"
   },
   {
    "duration": 60,
    "start_time": "2023-06-11T16:50:12.705Z"
   },
   {
    "duration": 35,
    "start_time": "2023-06-11T16:50:12.767Z"
   },
   {
    "duration": 21,
    "start_time": "2023-06-11T16:50:12.804Z"
   },
   {
    "duration": 52,
    "start_time": "2023-06-11T16:50:12.827Z"
   },
   {
    "duration": 17,
    "start_time": "2023-06-11T16:50:12.882Z"
   },
   {
    "duration": 15,
    "start_time": "2023-06-11T16:50:12.901Z"
   },
   {
    "duration": 11,
    "start_time": "2023-06-11T16:50:12.919Z"
   },
   {
    "duration": 6,
    "start_time": "2023-06-11T16:50:12.932Z"
   },
   {
    "duration": 27,
    "start_time": "2023-06-11T16:50:12.940Z"
   },
   {
    "duration": 29,
    "start_time": "2023-06-11T16:50:12.971Z"
   },
   {
    "duration": 19,
    "start_time": "2023-06-11T16:50:13.002Z"
   },
   {
    "duration": 27,
    "start_time": "2023-06-11T16:50:13.023Z"
   },
   {
    "duration": 104,
    "start_time": "2023-06-11T16:51:12.861Z"
   },
   {
    "duration": 3,
    "start_time": "2023-06-11T16:51:46.978Z"
   },
   {
    "duration": 1269,
    "start_time": "2023-06-12T05:22:58.345Z"
   },
   {
    "duration": 96,
    "start_time": "2023-06-12T05:22:59.616Z"
   },
   {
    "duration": 11,
    "start_time": "2023-06-12T05:22:59.714Z"
   },
   {
    "duration": 95,
    "start_time": "2023-06-12T05:22:59.726Z"
   },
   {
    "duration": 11,
    "start_time": "2023-06-12T05:22:59.822Z"
   },
   {
    "duration": 72,
    "start_time": "2023-06-12T05:22:59.834Z"
   },
   {
    "duration": 8,
    "start_time": "2023-06-12T05:22:59.908Z"
   },
   {
    "duration": 10,
    "start_time": "2023-06-12T05:22:59.918Z"
   },
   {
    "duration": 13,
    "start_time": "2023-06-12T05:22:59.929Z"
   },
   {
    "duration": 4,
    "start_time": "2023-06-12T05:22:59.944Z"
   },
   {
    "duration": 8,
    "start_time": "2023-06-12T05:22:59.950Z"
   },
   {
    "duration": 10,
    "start_time": "2023-06-12T05:22:59.959Z"
   },
   {
    "duration": 15,
    "start_time": "2023-06-12T05:22:59.971Z"
   },
   {
    "duration": 10,
    "start_time": "2023-06-12T05:22:59.987Z"
   },
   {
    "duration": 19,
    "start_time": "2023-06-12T05:22:59.999Z"
   },
   {
    "duration": 45,
    "start_time": "2023-06-12T05:23:00.020Z"
   },
   {
    "duration": 47,
    "start_time": "2023-06-12T05:23:00.066Z"
   },
   {
    "duration": 23,
    "start_time": "2023-06-12T05:23:00.115Z"
   },
   {
    "duration": 23,
    "start_time": "2023-06-12T05:23:00.140Z"
   },
   {
    "duration": 24,
    "start_time": "2023-06-12T05:23:00.164Z"
   },
   {
    "duration": 174,
    "start_time": "2023-06-12T05:23:00.190Z"
   },
   {
    "duration": 160,
    "start_time": "2023-06-12T05:23:00.366Z"
   },
   {
    "duration": 6,
    "start_time": "2023-06-12T05:23:00.527Z"
   },
   {
    "duration": 131,
    "start_time": "2023-06-12T05:23:00.534Z"
   },
   {
    "duration": 443,
    "start_time": "2023-06-12T05:23:00.668Z"
   },
   {
    "duration": 6,
    "start_time": "2023-06-12T05:23:01.113Z"
   },
   {
    "duration": 65,
    "start_time": "2023-06-12T05:23:01.121Z"
   },
   {
    "duration": 107,
    "start_time": "2023-06-12T05:23:01.189Z"
   },
   {
    "duration": 198,
    "start_time": "2023-06-12T05:23:01.298Z"
   },
   {
    "duration": 156,
    "start_time": "2023-06-12T05:23:01.498Z"
   },
   {
    "duration": 153,
    "start_time": "2023-06-12T05:23:01.656Z"
   },
   {
    "duration": 618,
    "start_time": "2023-06-12T05:23:01.812Z"
   },
   {
    "duration": 403,
    "start_time": "2023-06-12T05:23:02.432Z"
   },
   {
    "duration": 10,
    "start_time": "2023-06-12T05:23:02.836Z"
   },
   {
    "duration": 538,
    "start_time": "2023-06-12T05:23:02.847Z"
   },
   {
    "duration": 7,
    "start_time": "2023-06-12T05:23:03.388Z"
   },
   {
    "duration": 11,
    "start_time": "2023-06-12T05:23:03.396Z"
   },
   {
    "duration": 659,
    "start_time": "2023-06-12T05:23:03.408Z"
   },
   {
    "duration": 357,
    "start_time": "2023-06-12T05:23:04.071Z"
   },
   {
    "duration": 8,
    "start_time": "2023-06-12T05:23:04.429Z"
   },
   {
    "duration": 27,
    "start_time": "2023-06-12T05:23:04.439Z"
   },
   {
    "duration": 22,
    "start_time": "2023-06-12T05:23:04.468Z"
   },
   {
    "duration": 26,
    "start_time": "2023-06-12T05:23:04.492Z"
   },
   {
    "duration": 14,
    "start_time": "2023-06-12T05:23:04.519Z"
   },
   {
    "duration": 17,
    "start_time": "2023-06-12T05:23:04.534Z"
   },
   {
    "duration": 10,
    "start_time": "2023-06-12T05:23:04.552Z"
   },
   {
    "duration": 398,
    "start_time": "2023-06-12T05:23:04.563Z"
   },
   {
    "duration": 361,
    "start_time": "2023-06-12T05:23:04.962Z"
   },
   {
    "duration": 568,
    "start_time": "2023-06-12T05:23:05.324Z"
   },
   {
    "duration": 516,
    "start_time": "2023-06-12T05:23:05.893Z"
   },
   {
    "duration": 534,
    "start_time": "2023-06-12T05:23:06.410Z"
   },
   {
    "duration": 391,
    "start_time": "2023-06-12T05:23:06.945Z"
   },
   {
    "duration": 428,
    "start_time": "2023-06-12T05:23:07.338Z"
   },
   {
    "duration": 4,
    "start_time": "2023-06-12T05:23:07.780Z"
   },
   {
    "duration": 571,
    "start_time": "2023-06-12T05:23:07.786Z"
   },
   {
    "duration": 4,
    "start_time": "2023-06-12T05:23:08.358Z"
   },
   {
    "duration": 11,
    "start_time": "2023-06-12T05:23:08.379Z"
   },
   {
    "duration": 6,
    "start_time": "2023-06-12T05:23:08.391Z"
   },
   {
    "duration": 5,
    "start_time": "2023-06-12T05:23:08.398Z"
   },
   {
    "duration": 21,
    "start_time": "2023-06-12T05:23:08.405Z"
   },
   {
    "duration": 5,
    "start_time": "2023-06-12T05:23:08.428Z"
   },
   {
    "duration": 19,
    "start_time": "2023-06-12T05:23:08.435Z"
   },
   {
    "duration": 11,
    "start_time": "2023-06-12T05:23:08.456Z"
   },
   {
    "duration": 29,
    "start_time": "2023-06-12T05:23:08.480Z"
   },
   {
    "duration": 9,
    "start_time": "2023-06-12T05:23:08.510Z"
   },
   {
    "duration": 4,
    "start_time": "2023-06-12T05:23:08.520Z"
   },
   {
    "duration": 45,
    "start_time": "2023-06-12T05:23:08.525Z"
   },
   {
    "duration": 31,
    "start_time": "2023-06-12T05:23:08.571Z"
   },
   {
    "duration": 10,
    "start_time": "2023-06-12T05:23:08.603Z"
   },
   {
    "duration": 31,
    "start_time": "2023-06-12T05:23:08.614Z"
   },
   {
    "duration": 7,
    "start_time": "2023-06-12T05:23:24.012Z"
   },
   {
    "duration": 8,
    "start_time": "2023-06-12T05:24:14.006Z"
   },
   {
    "duration": 9,
    "start_time": "2023-06-12T05:24:17.392Z"
   },
   {
    "duration": 14,
    "start_time": "2023-06-12T05:24:18.771Z"
   },
   {
    "duration": 12,
    "start_time": "2023-06-12T05:24:24.381Z"
   },
   {
    "duration": 1029,
    "start_time": "2023-06-12T05:26:35.914Z"
   },
   {
    "duration": 42,
    "start_time": "2023-06-12T05:26:36.944Z"
   },
   {
    "duration": 10,
    "start_time": "2023-06-12T05:26:36.988Z"
   },
   {
    "duration": 34,
    "start_time": "2023-06-12T05:26:37.000Z"
   },
   {
    "duration": 11,
    "start_time": "2023-06-12T05:26:37.035Z"
   },
   {
    "duration": 20,
    "start_time": "2023-06-12T05:26:37.048Z"
   },
   {
    "duration": 17,
    "start_time": "2023-06-12T05:26:37.070Z"
   },
   {
    "duration": 15,
    "start_time": "2023-06-12T05:26:37.089Z"
   },
   {
    "duration": 11,
    "start_time": "2023-06-12T05:26:37.106Z"
   },
   {
    "duration": 4,
    "start_time": "2023-06-12T05:26:37.119Z"
   },
   {
    "duration": 10,
    "start_time": "2023-06-12T05:26:37.124Z"
   },
   {
    "duration": 10,
    "start_time": "2023-06-12T05:26:37.135Z"
   },
   {
    "duration": 5,
    "start_time": "2023-06-12T05:26:37.146Z"
   },
   {
    "duration": 25,
    "start_time": "2023-06-12T05:26:37.153Z"
   },
   {
    "duration": 5,
    "start_time": "2023-06-12T05:26:37.180Z"
   },
   {
    "duration": 11,
    "start_time": "2023-06-12T05:26:37.186Z"
   },
   {
    "duration": 18,
    "start_time": "2023-06-12T05:26:37.198Z"
   },
   {
    "duration": 4,
    "start_time": "2023-06-12T05:26:37.218Z"
   },
   {
    "duration": 9,
    "start_time": "2023-06-12T05:26:37.223Z"
   },
   {
    "duration": 6,
    "start_time": "2023-06-12T05:26:37.233Z"
   },
   {
    "duration": 161,
    "start_time": "2023-06-12T05:26:37.241Z"
   },
   {
    "duration": 153,
    "start_time": "2023-06-12T05:26:37.403Z"
   },
   {
    "duration": 28,
    "start_time": "2023-06-12T05:26:37.557Z"
   },
   {
    "duration": 101,
    "start_time": "2023-06-12T05:26:37.586Z"
   },
   {
    "duration": 331,
    "start_time": "2023-06-12T05:26:37.689Z"
   },
   {
    "duration": 5,
    "start_time": "2023-06-12T05:26:38.021Z"
   },
   {
    "duration": 4,
    "start_time": "2023-06-12T05:26:38.028Z"
   },
   {
    "duration": 4,
    "start_time": "2023-06-12T05:26:38.035Z"
   },
   {
    "duration": 25,
    "start_time": "2023-06-12T05:26:38.040Z"
   },
   {
    "duration": 119,
    "start_time": "2023-06-12T05:26:38.066Z"
   },
   {
    "duration": 128,
    "start_time": "2023-06-12T05:26:38.187Z"
   },
   {
    "duration": 504,
    "start_time": "2023-06-12T05:26:38.316Z"
   },
   {
    "duration": 406,
    "start_time": "2023-06-12T05:26:38.821Z"
   },
   {
    "duration": 7,
    "start_time": "2023-06-12T05:26:39.229Z"
   },
   {
    "duration": 445,
    "start_time": "2023-06-12T05:26:39.238Z"
   },
   {
    "duration": 7,
    "start_time": "2023-06-12T05:26:39.685Z"
   },
   {
    "duration": 18,
    "start_time": "2023-06-12T05:26:39.693Z"
   },
   {
    "duration": 620,
    "start_time": "2023-06-12T05:26:39.713Z"
   },
   {
    "duration": 383,
    "start_time": "2023-06-12T05:26:40.335Z"
   },
   {
    "duration": 7,
    "start_time": "2023-06-12T05:26:40.720Z"
   },
   {
    "duration": 26,
    "start_time": "2023-06-12T05:26:40.729Z"
   },
   {
    "duration": 5,
    "start_time": "2023-06-12T05:26:40.757Z"
   },
   {
    "duration": 25,
    "start_time": "2023-06-12T05:26:40.764Z"
   },
   {
    "duration": 17,
    "start_time": "2023-06-12T05:26:40.790Z"
   },
   {
    "duration": 13,
    "start_time": "2023-06-12T05:26:40.808Z"
   },
   {
    "duration": 5,
    "start_time": "2023-06-12T05:26:40.822Z"
   },
   {
    "duration": 432,
    "start_time": "2023-06-12T05:26:40.829Z"
   },
   {
    "duration": 351,
    "start_time": "2023-06-12T05:26:41.263Z"
   },
   {
    "duration": 468,
    "start_time": "2023-06-12T05:26:41.616Z"
   },
   {
    "duration": 527,
    "start_time": "2023-06-12T05:26:42.086Z"
   },
   {
    "duration": 518,
    "start_time": "2023-06-12T05:26:42.615Z"
   },
   {
    "duration": 389,
    "start_time": "2023-06-12T05:26:43.134Z"
   },
   {
    "duration": 505,
    "start_time": "2023-06-12T05:26:43.525Z"
   },
   {
    "duration": 5,
    "start_time": "2023-06-12T05:26:44.032Z"
   },
   {
    "duration": 527,
    "start_time": "2023-06-12T05:26:44.038Z"
   },
   {
    "duration": 19,
    "start_time": "2023-06-12T05:26:44.566Z"
   },
   {
    "duration": 18,
    "start_time": "2023-06-12T05:26:44.586Z"
   },
   {
    "duration": 22,
    "start_time": "2023-06-12T05:26:44.606Z"
   },
   {
    "duration": 5,
    "start_time": "2023-06-12T05:26:44.629Z"
   },
   {
    "duration": 25,
    "start_time": "2023-06-12T05:26:44.636Z"
   },
   {
    "duration": 7,
    "start_time": "2023-06-12T05:26:44.662Z"
   },
   {
    "duration": 24,
    "start_time": "2023-06-12T05:26:44.671Z"
   },
   {
    "duration": 9,
    "start_time": "2023-06-12T05:26:44.697Z"
   },
   {
    "duration": 11,
    "start_time": "2023-06-12T05:26:44.708Z"
   },
   {
    "duration": 120,
    "start_time": "2023-06-12T05:26:44.720Z"
   },
   {
    "duration": 0,
    "start_time": "2023-06-12T05:26:44.842Z"
   },
   {
    "duration": 0,
    "start_time": "2023-06-12T05:26:44.843Z"
   },
   {
    "duration": 1,
    "start_time": "2023-06-12T05:26:44.844Z"
   },
   {
    "duration": 0,
    "start_time": "2023-06-12T05:26:44.845Z"
   },
   {
    "duration": 0,
    "start_time": "2023-06-12T05:26:44.847Z"
   },
   {
    "duration": 21,
    "start_time": "2023-06-12T05:30:44.946Z"
   },
   {
    "duration": 8,
    "start_time": "2023-06-12T05:31:07.727Z"
   },
   {
    "duration": 10,
    "start_time": "2023-06-12T05:31:13.010Z"
   },
   {
    "duration": 1084,
    "start_time": "2023-06-12T05:31:34.085Z"
   },
   {
    "duration": 42,
    "start_time": "2023-06-12T05:31:35.170Z"
   },
   {
    "duration": 10,
    "start_time": "2023-06-12T05:31:35.213Z"
   },
   {
    "duration": 39,
    "start_time": "2023-06-12T05:31:35.225Z"
   },
   {
    "duration": 13,
    "start_time": "2023-06-12T05:31:35.266Z"
   },
   {
    "duration": 36,
    "start_time": "2023-06-12T05:31:35.281Z"
   },
   {
    "duration": 14,
    "start_time": "2023-06-12T05:31:35.318Z"
   },
   {
    "duration": 21,
    "start_time": "2023-06-12T05:31:35.333Z"
   },
   {
    "duration": 23,
    "start_time": "2023-06-12T05:31:35.356Z"
   },
   {
    "duration": 35,
    "start_time": "2023-06-12T05:31:35.381Z"
   },
   {
    "duration": 32,
    "start_time": "2023-06-12T05:31:35.417Z"
   },
   {
    "duration": 34,
    "start_time": "2023-06-12T05:31:35.451Z"
   },
   {
    "duration": 18,
    "start_time": "2023-06-12T05:31:35.487Z"
   },
   {
    "duration": 15,
    "start_time": "2023-06-12T05:31:35.507Z"
   },
   {
    "duration": 28,
    "start_time": "2023-06-12T05:31:35.523Z"
   },
   {
    "duration": 15,
    "start_time": "2023-06-12T05:31:35.553Z"
   },
   {
    "duration": 25,
    "start_time": "2023-06-12T05:31:35.570Z"
   },
   {
    "duration": 40,
    "start_time": "2023-06-12T05:31:35.597Z"
   },
   {
    "duration": 15,
    "start_time": "2023-06-12T05:31:35.639Z"
   },
   {
    "duration": 22,
    "start_time": "2023-06-12T05:31:35.656Z"
   },
   {
    "duration": 147,
    "start_time": "2023-06-12T05:31:35.684Z"
   },
   {
    "duration": 160,
    "start_time": "2023-06-12T05:31:35.833Z"
   },
   {
    "duration": 6,
    "start_time": "2023-06-12T05:31:35.995Z"
   },
   {
    "duration": 112,
    "start_time": "2023-06-12T05:31:36.002Z"
   },
   {
    "duration": 347,
    "start_time": "2023-06-12T05:31:36.116Z"
   },
   {
    "duration": 21,
    "start_time": "2023-06-12T05:31:36.464Z"
   },
   {
    "duration": 6,
    "start_time": "2023-06-12T05:31:36.487Z"
   },
   {
    "duration": 12,
    "start_time": "2023-06-12T05:31:36.497Z"
   },
   {
    "duration": 19,
    "start_time": "2023-06-12T05:31:36.511Z"
   },
   {
    "duration": 165,
    "start_time": "2023-06-12T05:31:36.531Z"
   },
   {
    "duration": 143,
    "start_time": "2023-06-12T05:31:36.698Z"
   },
   {
    "duration": 491,
    "start_time": "2023-06-12T05:31:36.843Z"
   },
   {
    "duration": 429,
    "start_time": "2023-06-12T05:31:37.336Z"
   },
   {
    "duration": 9,
    "start_time": "2023-06-12T05:31:37.767Z"
   },
   {
    "duration": 482,
    "start_time": "2023-06-12T05:31:37.788Z"
   },
   {
    "duration": 8,
    "start_time": "2023-06-12T05:31:38.284Z"
   },
   {
    "duration": 45,
    "start_time": "2023-06-12T05:31:38.293Z"
   },
   {
    "duration": 610,
    "start_time": "2023-06-12T05:31:38.340Z"
   },
   {
    "duration": 369,
    "start_time": "2023-06-12T05:31:38.951Z"
   },
   {
    "duration": 7,
    "start_time": "2023-06-12T05:31:39.322Z"
   },
   {
    "duration": 34,
    "start_time": "2023-06-12T05:31:39.330Z"
   },
   {
    "duration": 44,
    "start_time": "2023-06-12T05:31:39.365Z"
   },
   {
    "duration": 23,
    "start_time": "2023-06-12T05:31:39.411Z"
   },
   {
    "duration": 14,
    "start_time": "2023-06-12T05:31:39.436Z"
   },
   {
    "duration": 28,
    "start_time": "2023-06-12T05:31:39.452Z"
   },
   {
    "duration": 5,
    "start_time": "2023-06-12T05:31:39.482Z"
   },
   {
    "duration": 376,
    "start_time": "2023-06-12T05:31:39.492Z"
   },
   {
    "duration": 350,
    "start_time": "2023-06-12T05:31:39.869Z"
   },
   {
    "duration": 479,
    "start_time": "2023-06-12T05:31:40.221Z"
   },
   {
    "duration": 608,
    "start_time": "2023-06-12T05:31:40.701Z"
   },
   {
    "duration": 522,
    "start_time": "2023-06-12T05:31:41.310Z"
   },
   {
    "duration": 386,
    "start_time": "2023-06-12T05:31:41.834Z"
   },
   {
    "duration": 418,
    "start_time": "2023-06-12T05:31:42.221Z"
   },
   {
    "duration": 5,
    "start_time": "2023-06-12T05:31:42.641Z"
   },
   {
    "duration": 591,
    "start_time": "2023-06-12T05:31:42.647Z"
   },
   {
    "duration": 5,
    "start_time": "2023-06-12T05:31:43.239Z"
   },
   {
    "duration": 39,
    "start_time": "2023-06-12T05:31:43.245Z"
   },
   {
    "duration": 25,
    "start_time": "2023-06-12T05:31:43.288Z"
   },
   {
    "duration": 33,
    "start_time": "2023-06-12T05:31:43.314Z"
   },
   {
    "duration": 37,
    "start_time": "2023-06-12T05:31:43.349Z"
   },
   {
    "duration": 7,
    "start_time": "2023-06-12T05:31:43.387Z"
   },
   {
    "duration": 8,
    "start_time": "2023-06-12T05:31:43.396Z"
   },
   {
    "duration": 11,
    "start_time": "2023-06-12T05:31:43.405Z"
   },
   {
    "duration": 14,
    "start_time": "2023-06-12T05:31:43.417Z"
   },
   {
    "duration": 9,
    "start_time": "2023-06-12T05:31:43.432Z"
   },
   {
    "duration": 4,
    "start_time": "2023-06-12T05:31:43.442Z"
   },
   {
    "duration": 35,
    "start_time": "2023-06-12T05:31:43.448Z"
   },
   {
    "duration": 12,
    "start_time": "2023-06-12T05:31:43.485Z"
   },
   {
    "duration": 11,
    "start_time": "2023-06-12T05:31:43.498Z"
   },
   {
    "duration": 6,
    "start_time": "2023-06-12T05:31:43.510Z"
   },
   {
    "duration": 80,
    "start_time": "2023-06-12T05:37:18.941Z"
   },
   {
    "duration": 1325,
    "start_time": "2023-06-12T06:53:43.095Z"
   },
   {
    "duration": 40,
    "start_time": "2023-06-12T06:53:44.422Z"
   },
   {
    "duration": 23,
    "start_time": "2023-06-12T06:53:44.463Z"
   },
   {
    "duration": 49,
    "start_time": "2023-06-12T06:53:44.496Z"
   },
   {
    "duration": 13,
    "start_time": "2023-06-12T06:53:44.548Z"
   },
   {
    "duration": 32,
    "start_time": "2023-06-12T06:53:44.563Z"
   },
   {
    "duration": 12,
    "start_time": "2023-06-12T06:53:44.600Z"
   },
   {
    "duration": 10,
    "start_time": "2023-06-12T06:53:44.614Z"
   },
   {
    "duration": 13,
    "start_time": "2023-06-12T06:53:44.626Z"
   },
   {
    "duration": 6,
    "start_time": "2023-06-12T06:53:44.641Z"
   },
   {
    "duration": 10,
    "start_time": "2023-06-12T06:53:44.649Z"
   },
   {
    "duration": 35,
    "start_time": "2023-06-12T06:53:44.661Z"
   },
   {
    "duration": 26,
    "start_time": "2023-06-12T06:53:44.698Z"
   },
   {
    "duration": 9,
    "start_time": "2023-06-12T06:53:44.729Z"
   },
   {
    "duration": 11,
    "start_time": "2023-06-12T06:53:44.740Z"
   },
   {
    "duration": 58,
    "start_time": "2023-06-12T06:53:44.753Z"
   },
   {
    "duration": 14,
    "start_time": "2023-06-12T06:53:44.813Z"
   },
   {
    "duration": 5,
    "start_time": "2023-06-12T06:53:44.828Z"
   },
   {
    "duration": 8,
    "start_time": "2023-06-12T06:53:44.835Z"
   },
   {
    "duration": 6,
    "start_time": "2023-06-12T06:53:44.844Z"
   },
   {
    "duration": 181,
    "start_time": "2023-06-12T06:53:44.852Z"
   },
   {
    "duration": 202,
    "start_time": "2023-06-12T06:53:45.035Z"
   },
   {
    "duration": 6,
    "start_time": "2023-06-12T06:53:45.239Z"
   },
   {
    "duration": 143,
    "start_time": "2023-06-12T06:53:45.247Z"
   },
   {
    "duration": 406,
    "start_time": "2023-06-12T06:53:45.393Z"
   },
   {
    "duration": 6,
    "start_time": "2023-06-12T06:53:45.800Z"
   },
   {
    "duration": 5,
    "start_time": "2023-06-12T06:53:45.808Z"
   },
   {
    "duration": 5,
    "start_time": "2023-06-12T06:53:45.814Z"
   },
   {
    "duration": 22,
    "start_time": "2023-06-12T06:53:45.821Z"
   },
   {
    "duration": 155,
    "start_time": "2023-06-12T06:53:45.845Z"
   },
   {
    "duration": 176,
    "start_time": "2023-06-12T06:53:46.001Z"
   },
   {
    "duration": 618,
    "start_time": "2023-06-12T06:53:46.180Z"
   },
   {
    "duration": 466,
    "start_time": "2023-06-12T06:53:46.801Z"
   },
   {
    "duration": 23,
    "start_time": "2023-06-12T06:53:47.269Z"
   },
   {
    "duration": 526,
    "start_time": "2023-06-12T06:53:47.297Z"
   },
   {
    "duration": 9,
    "start_time": "2023-06-12T06:53:47.825Z"
   },
   {
    "duration": 14,
    "start_time": "2023-06-12T06:53:47.836Z"
   },
   {
    "duration": 781,
    "start_time": "2023-06-12T06:53:47.852Z"
   },
   {
    "duration": 430,
    "start_time": "2023-06-12T06:53:48.635Z"
   },
   {
    "duration": 18,
    "start_time": "2023-06-12T06:53:49.067Z"
   },
   {
    "duration": 13,
    "start_time": "2023-06-12T06:53:49.098Z"
   },
   {
    "duration": 8,
    "start_time": "2023-06-12T06:53:49.113Z"
   },
   {
    "duration": 20,
    "start_time": "2023-06-12T06:53:49.124Z"
   },
   {
    "duration": 15,
    "start_time": "2023-06-12T06:53:49.146Z"
   },
   {
    "duration": 36,
    "start_time": "2023-06-12T06:53:49.163Z"
   },
   {
    "duration": 10,
    "start_time": "2023-06-12T06:53:49.201Z"
   },
   {
    "duration": 494,
    "start_time": "2023-06-12T06:53:49.213Z"
   },
   {
    "duration": 413,
    "start_time": "2023-06-12T06:53:49.709Z"
   },
   {
    "duration": 578,
    "start_time": "2023-06-12T06:53:50.124Z"
   },
   {
    "duration": 615,
    "start_time": "2023-06-12T06:53:50.703Z"
   },
   {
    "duration": 532,
    "start_time": "2023-06-12T06:53:51.319Z"
   },
   {
    "duration": 384,
    "start_time": "2023-06-12T06:53:51.853Z"
   },
   {
    "duration": 440,
    "start_time": "2023-06-12T06:53:52.239Z"
   },
   {
    "duration": 8,
    "start_time": "2023-06-12T06:53:52.680Z"
   },
   {
    "duration": 520,
    "start_time": "2023-06-12T06:53:52.689Z"
   },
   {
    "duration": 4,
    "start_time": "2023-06-12T06:53:53.211Z"
   },
   {
    "duration": 12,
    "start_time": "2023-06-12T06:53:53.217Z"
   },
   {
    "duration": 7,
    "start_time": "2023-06-12T06:53:53.231Z"
   },
   {
    "duration": 9,
    "start_time": "2023-06-12T06:53:53.239Z"
   },
   {
    "duration": 47,
    "start_time": "2023-06-12T06:53:53.249Z"
   },
   {
    "duration": 7,
    "start_time": "2023-06-12T06:53:53.298Z"
   },
   {
    "duration": 7,
    "start_time": "2023-06-12T06:53:53.307Z"
   },
   {
    "duration": 14,
    "start_time": "2023-06-12T06:53:53.316Z"
   },
   {
    "duration": 11,
    "start_time": "2023-06-12T06:53:53.332Z"
   },
   {
    "duration": 9,
    "start_time": "2023-06-12T06:53:53.344Z"
   },
   {
    "duration": 7,
    "start_time": "2023-06-12T06:53:53.354Z"
   },
   {
    "duration": 10,
    "start_time": "2023-06-12T06:53:53.379Z"
   },
   {
    "duration": 36,
    "start_time": "2023-06-12T06:53:53.390Z"
   },
   {
    "duration": 12,
    "start_time": "2023-06-12T06:53:53.427Z"
   },
   {
    "duration": 10,
    "start_time": "2023-06-12T06:53:53.441Z"
   },
   {
    "duration": 176,
    "start_time": "2023-06-12T06:53:53.453Z"
   },
   {
    "duration": 103,
    "start_time": "2023-06-12T07:03:00.908Z"
   },
   {
    "duration": 44,
    "start_time": "2023-06-12T07:03:27.091Z"
   },
   {
    "duration": 89,
    "start_time": "2023-06-12T07:04:05.934Z"
   },
   {
    "duration": 13,
    "start_time": "2023-06-12T07:04:23.361Z"
   },
   {
    "duration": 10,
    "start_time": "2023-06-12T07:12:13.669Z"
   },
   {
    "duration": 131,
    "start_time": "2023-06-12T07:12:30.566Z"
   },
   {
    "duration": 13,
    "start_time": "2023-06-12T07:16:40.993Z"
   },
   {
    "duration": 11,
    "start_time": "2023-06-12T07:16:44.726Z"
   },
   {
    "duration": 10,
    "start_time": "2023-06-12T07:18:15.595Z"
   },
   {
    "duration": 18,
    "start_time": "2023-06-12T07:18:57.278Z"
   },
   {
    "duration": 18,
    "start_time": "2023-06-12T07:19:09.667Z"
   },
   {
    "duration": 9,
    "start_time": "2023-06-12T07:20:44.802Z"
   },
   {
    "duration": 3,
    "start_time": "2023-06-12T07:26:13.155Z"
   },
   {
    "duration": 6,
    "start_time": "2023-06-12T07:55:38.973Z"
   },
   {
    "duration": 5,
    "start_time": "2023-06-12T07:58:55.193Z"
   },
   {
    "duration": 138,
    "start_time": "2023-06-12T08:04:47.273Z"
   },
   {
    "duration": 6,
    "start_time": "2023-06-12T08:05:06.699Z"
   },
   {
    "duration": 6,
    "start_time": "2023-06-12T08:05:11.272Z"
   },
   {
    "duration": 5,
    "start_time": "2023-06-12T08:09:53.320Z"
   },
   {
    "duration": 6,
    "start_time": "2023-06-12T08:09:56.810Z"
   },
   {
    "duration": 4,
    "start_time": "2023-06-12T08:11:24.265Z"
   },
   {
    "duration": 5,
    "start_time": "2023-06-12T08:11:46.163Z"
   },
   {
    "duration": 10,
    "start_time": "2023-06-12T08:12:07.221Z"
   },
   {
    "duration": 5,
    "start_time": "2023-06-12T08:12:18.685Z"
   },
   {
    "duration": 5,
    "start_time": "2023-06-12T08:12:33.013Z"
   },
   {
    "duration": 6,
    "start_time": "2023-06-12T08:15:55.645Z"
   },
   {
    "duration": 5,
    "start_time": "2023-06-12T08:16:44.729Z"
   },
   {
    "duration": 5,
    "start_time": "2023-06-12T08:51:49.256Z"
   },
   {
    "duration": 101,
    "start_time": "2023-06-12T08:59:45.333Z"
   },
   {
    "duration": 308,
    "start_time": "2023-06-12T09:00:05.960Z"
   },
   {
    "duration": 1191,
    "start_time": "2023-06-12T09:00:15.578Z"
   },
   {
    "duration": 48,
    "start_time": "2023-06-12T09:00:16.771Z"
   },
   {
    "duration": 11,
    "start_time": "2023-06-12T09:00:16.820Z"
   },
   {
    "duration": 37,
    "start_time": "2023-06-12T09:00:16.833Z"
   },
   {
    "duration": 14,
    "start_time": "2023-06-12T09:00:16.872Z"
   },
   {
    "duration": 47,
    "start_time": "2023-06-12T09:00:16.888Z"
   },
   {
    "duration": 9,
    "start_time": "2023-06-12T09:00:16.937Z"
   },
   {
    "duration": 9,
    "start_time": "2023-06-12T09:00:16.948Z"
   },
   {
    "duration": 11,
    "start_time": "2023-06-12T09:00:16.959Z"
   },
   {
    "duration": 5,
    "start_time": "2023-06-12T09:00:16.972Z"
   },
   {
    "duration": 31,
    "start_time": "2023-06-12T09:00:16.978Z"
   },
   {
    "duration": 11,
    "start_time": "2023-06-12T09:00:17.012Z"
   },
   {
    "duration": 7,
    "start_time": "2023-06-12T09:00:17.025Z"
   },
   {
    "duration": 12,
    "start_time": "2023-06-12T09:00:17.034Z"
   },
   {
    "duration": 7,
    "start_time": "2023-06-12T09:00:17.047Z"
   },
   {
    "duration": 6,
    "start_time": "2023-06-12T09:00:17.056Z"
   },
   {
    "duration": 18,
    "start_time": "2023-06-12T09:00:17.064Z"
   },
   {
    "duration": 24,
    "start_time": "2023-06-12T09:00:17.083Z"
   },
   {
    "duration": 12,
    "start_time": "2023-06-12T09:00:17.109Z"
   },
   {
    "duration": 7,
    "start_time": "2023-06-12T09:00:17.122Z"
   },
   {
    "duration": 163,
    "start_time": "2023-06-12T09:00:17.131Z"
   },
   {
    "duration": 166,
    "start_time": "2023-06-12T09:00:17.297Z"
   },
   {
    "duration": 11,
    "start_time": "2023-06-12T09:00:17.465Z"
   },
   {
    "duration": 108,
    "start_time": "2023-06-12T09:00:17.478Z"
   },
   {
    "duration": 362,
    "start_time": "2023-06-12T09:00:17.589Z"
   },
   {
    "duration": 6,
    "start_time": "2023-06-12T09:00:17.953Z"
   },
   {
    "duration": 41,
    "start_time": "2023-06-12T09:00:17.960Z"
   },
   {
    "duration": 10,
    "start_time": "2023-06-12T09:00:18.004Z"
   },
   {
    "duration": 29,
    "start_time": "2023-06-12T09:00:18.015Z"
   },
   {
    "duration": 132,
    "start_time": "2023-06-12T09:00:18.046Z"
   },
   {
    "duration": 154,
    "start_time": "2023-06-12T09:00:18.180Z"
   },
   {
    "duration": 665,
    "start_time": "2023-06-12T09:00:18.336Z"
   },
   {
    "duration": 5,
    "start_time": "2023-06-12T09:00:19.003Z"
   },
   {
    "duration": 482,
    "start_time": "2023-06-12T09:00:19.010Z"
   },
   {
    "duration": 8,
    "start_time": "2023-06-12T09:00:19.493Z"
   },
   {
    "duration": 485,
    "start_time": "2023-06-12T09:00:19.503Z"
   },
   {
    "duration": 7,
    "start_time": "2023-06-12T09:00:19.990Z"
   },
   {
    "duration": 32,
    "start_time": "2023-06-12T09:00:19.999Z"
   },
   {
    "duration": 812,
    "start_time": "2023-06-12T09:00:20.032Z"
   },
   {
    "duration": 375,
    "start_time": "2023-06-12T09:00:20.846Z"
   },
   {
    "duration": 8,
    "start_time": "2023-06-12T09:00:21.222Z"
   },
   {
    "duration": 9,
    "start_time": "2023-06-12T09:00:21.232Z"
   },
   {
    "duration": 4,
    "start_time": "2023-06-12T09:00:21.243Z"
   },
   {
    "duration": 40,
    "start_time": "2023-06-12T09:00:21.249Z"
   },
   {
    "duration": 17,
    "start_time": "2023-06-12T09:00:21.291Z"
   },
   {
    "duration": 12,
    "start_time": "2023-06-12T09:00:21.310Z"
   },
   {
    "duration": 14,
    "start_time": "2023-06-12T09:00:21.324Z"
   },
   {
    "duration": 421,
    "start_time": "2023-06-12T09:00:21.340Z"
   },
   {
    "duration": 10,
    "start_time": "2023-06-12T09:00:21.762Z"
   },
   {
    "duration": 344,
    "start_time": "2023-06-12T09:00:21.774Z"
   },
   {
    "duration": 470,
    "start_time": "2023-06-12T09:00:22.119Z"
   },
   {
    "duration": 727,
    "start_time": "2023-06-12T09:00:22.598Z"
   },
   {
    "duration": 5,
    "start_time": "2023-06-12T09:00:23.327Z"
   },
   {
    "duration": 533,
    "start_time": "2023-06-12T09:00:23.334Z"
   },
   {
    "duration": 372,
    "start_time": "2023-06-12T09:00:23.868Z"
   },
   {
    "duration": 424,
    "start_time": "2023-06-12T09:00:24.242Z"
   },
   {
    "duration": 19,
    "start_time": "2023-06-12T09:00:24.667Z"
   },
   {
    "duration": 513,
    "start_time": "2023-06-12T09:00:24.688Z"
   },
   {
    "duration": 5,
    "start_time": "2023-06-12T09:00:25.203Z"
   },
   {
    "duration": 7,
    "start_time": "2023-06-12T09:00:25.210Z"
   },
   {
    "duration": 16,
    "start_time": "2023-06-12T09:00:25.218Z"
   },
   {
    "duration": 15,
    "start_time": "2023-06-12T09:00:25.236Z"
   },
   {
    "duration": 13,
    "start_time": "2023-06-12T09:00:25.253Z"
   },
   {
    "duration": 48,
    "start_time": "2023-06-12T09:00:25.268Z"
   },
   {
    "duration": 14,
    "start_time": "2023-06-12T09:00:25.317Z"
   },
   {
    "duration": 8,
    "start_time": "2023-06-12T09:00:25.333Z"
   },
   {
    "duration": 10,
    "start_time": "2023-06-12T09:00:25.343Z"
   },
   {
    "duration": 20,
    "start_time": "2023-06-12T09:00:25.355Z"
   },
   {
    "duration": 20,
    "start_time": "2023-06-12T09:00:25.377Z"
   },
   {
    "duration": 28,
    "start_time": "2023-06-12T09:00:25.399Z"
   },
   {
    "duration": 24,
    "start_time": "2023-06-12T09:00:25.429Z"
   },
   {
    "duration": 8,
    "start_time": "2023-06-12T09:00:25.455Z"
   },
   {
    "duration": 1347,
    "start_time": "2023-06-12T12:37:55.493Z"
   },
   {
    "duration": 82,
    "start_time": "2023-06-12T12:37:56.843Z"
   },
   {
    "duration": 10,
    "start_time": "2023-06-12T12:37:56.927Z"
   },
   {
    "duration": 76,
    "start_time": "2023-06-12T12:37:56.939Z"
   },
   {
    "duration": 11,
    "start_time": "2023-06-12T12:37:57.017Z"
   },
   {
    "duration": 63,
    "start_time": "2023-06-12T12:37:57.029Z"
   },
   {
    "duration": 10,
    "start_time": "2023-06-12T12:37:57.094Z"
   },
   {
    "duration": 12,
    "start_time": "2023-06-12T12:37:57.106Z"
   },
   {
    "duration": 10,
    "start_time": "2023-06-12T12:37:57.120Z"
   },
   {
    "duration": 4,
    "start_time": "2023-06-12T12:37:57.132Z"
   },
   {
    "duration": 8,
    "start_time": "2023-06-12T12:37:57.138Z"
   },
   {
    "duration": 14,
    "start_time": "2023-06-12T12:37:57.148Z"
   },
   {
    "duration": 6,
    "start_time": "2023-06-12T12:37:57.163Z"
   },
   {
    "duration": 6,
    "start_time": "2023-06-12T12:37:57.170Z"
   },
   {
    "duration": 11,
    "start_time": "2023-06-12T12:37:57.178Z"
   },
   {
    "duration": 9,
    "start_time": "2023-06-12T12:37:57.190Z"
   },
   {
    "duration": 15,
    "start_time": "2023-06-12T12:37:57.200Z"
   },
   {
    "duration": 5,
    "start_time": "2023-06-12T12:37:57.217Z"
   },
   {
    "duration": 20,
    "start_time": "2023-06-12T12:37:57.223Z"
   },
   {
    "duration": 5,
    "start_time": "2023-06-12T12:37:57.245Z"
   },
   {
    "duration": 167,
    "start_time": "2023-06-12T12:37:57.251Z"
   },
   {
    "duration": 168,
    "start_time": "2023-06-12T12:37:57.420Z"
   },
   {
    "duration": 5,
    "start_time": "2023-06-12T12:37:57.590Z"
   },
   {
    "duration": 96,
    "start_time": "2023-06-12T12:37:57.597Z"
   },
   {
    "duration": 467,
    "start_time": "2023-06-12T12:37:57.694Z"
   },
   {
    "duration": 7,
    "start_time": "2023-06-12T12:37:58.163Z"
   },
   {
    "duration": 21,
    "start_time": "2023-06-12T12:37:58.172Z"
   },
   {
    "duration": 4,
    "start_time": "2023-06-12T12:37:58.199Z"
   },
   {
    "duration": 14,
    "start_time": "2023-06-12T12:37:58.205Z"
   },
   {
    "duration": 182,
    "start_time": "2023-06-12T12:37:58.221Z"
   },
   {
    "duration": 192,
    "start_time": "2023-06-12T12:37:58.405Z"
   },
   {
    "duration": 620,
    "start_time": "2023-06-12T12:37:58.598Z"
   },
   {
    "duration": 4,
    "start_time": "2023-06-12T12:37:59.220Z"
   },
   {
    "duration": 353,
    "start_time": "2023-06-12T12:37:59.226Z"
   },
   {
    "duration": 8,
    "start_time": "2023-06-12T12:37:59.580Z"
   },
   {
    "duration": 503,
    "start_time": "2023-06-12T12:37:59.590Z"
   },
   {
    "duration": 7,
    "start_time": "2023-06-12T12:38:00.095Z"
   },
   {
    "duration": 54,
    "start_time": "2023-06-12T12:38:00.104Z"
   },
   {
    "duration": 692,
    "start_time": "2023-06-12T12:38:00.160Z"
   },
   {
    "duration": 367,
    "start_time": "2023-06-12T12:38:00.855Z"
   },
   {
    "duration": 9,
    "start_time": "2023-06-12T12:38:01.223Z"
   },
   {
    "duration": 60,
    "start_time": "2023-06-12T12:38:01.242Z"
   },
   {
    "duration": 35,
    "start_time": "2023-06-12T12:38:01.304Z"
   },
   {
    "duration": 43,
    "start_time": "2023-06-12T12:38:01.341Z"
   },
   {
    "duration": 35,
    "start_time": "2023-06-12T12:38:01.385Z"
   },
   {
    "duration": 30,
    "start_time": "2023-06-12T12:38:01.422Z"
   },
   {
    "duration": 26,
    "start_time": "2023-06-12T12:38:01.454Z"
   },
   {
    "duration": 485,
    "start_time": "2023-06-12T12:38:01.481Z"
   },
   {
    "duration": 5,
    "start_time": "2023-06-12T12:38:01.967Z"
   },
   {
    "duration": 417,
    "start_time": "2023-06-12T12:38:01.974Z"
   },
   {
    "duration": 602,
    "start_time": "2023-06-12T12:38:02.393Z"
   },
   {
    "duration": 626,
    "start_time": "2023-06-12T12:38:02.996Z"
   },
   {
    "duration": 5,
    "start_time": "2023-06-12T12:38:03.624Z"
   },
   {
    "duration": 638,
    "start_time": "2023-06-12T12:38:03.630Z"
   },
   {
    "duration": 358,
    "start_time": "2023-06-12T12:38:04.269Z"
   },
   {
    "duration": 428,
    "start_time": "2023-06-12T12:38:04.629Z"
   },
   {
    "duration": 5,
    "start_time": "2023-06-12T12:38:05.059Z"
   },
   {
    "duration": 518,
    "start_time": "2023-06-12T12:38:05.065Z"
   },
   {
    "duration": 5,
    "start_time": "2023-06-12T12:38:05.584Z"
   },
   {
    "duration": 6,
    "start_time": "2023-06-12T12:38:05.590Z"
   },
   {
    "duration": 21,
    "start_time": "2023-06-12T12:38:05.597Z"
   },
   {
    "duration": 6,
    "start_time": "2023-06-12T12:38:05.620Z"
   },
   {
    "duration": 14,
    "start_time": "2023-06-12T12:38:05.628Z"
   },
   {
    "duration": 26,
    "start_time": "2023-06-12T12:38:05.643Z"
   },
   {
    "duration": 6,
    "start_time": "2023-06-12T12:38:05.671Z"
   },
   {
    "duration": 14,
    "start_time": "2023-06-12T12:38:05.679Z"
   },
   {
    "duration": 10,
    "start_time": "2023-06-12T12:38:05.695Z"
   },
   {
    "duration": 32,
    "start_time": "2023-06-12T12:38:05.707Z"
   },
   {
    "duration": 14,
    "start_time": "2023-06-12T12:38:05.741Z"
   },
   {
    "duration": 7,
    "start_time": "2023-06-12T12:38:05.757Z"
   },
   {
    "duration": 15,
    "start_time": "2023-06-12T12:38:05.766Z"
   },
   {
    "duration": 9,
    "start_time": "2023-06-12T12:38:05.783Z"
   },
   {
    "duration": 110,
    "start_time": "2023-06-12T12:38:05.793Z"
   },
   {
    "duration": 0,
    "start_time": "2023-06-12T12:38:05.905Z"
   },
   {
    "duration": 0,
    "start_time": "2023-06-12T12:38:05.907Z"
   },
   {
    "duration": 161,
    "start_time": "2023-06-12T12:45:52.413Z"
   },
   {
    "duration": 167,
    "start_time": "2023-06-12T12:46:12.255Z"
   },
   {
    "duration": 261,
    "start_time": "2023-06-12T12:46:32.753Z"
   },
   {
    "duration": 253,
    "start_time": "2023-06-12T12:47:02.709Z"
   },
   {
    "duration": 269,
    "start_time": "2023-06-12T12:47:33.694Z"
   },
   {
    "duration": 319,
    "start_time": "2023-06-12T12:47:43.954Z"
   },
   {
    "duration": 331,
    "start_time": "2023-06-12T12:48:31.703Z"
   },
   {
    "duration": 115,
    "start_time": "2023-06-12T12:50:39.893Z"
   },
   {
    "duration": 94,
    "start_time": "2023-06-12T13:34:52.263Z"
   },
   {
    "duration": 43,
    "start_time": "2023-06-12T13:55:56.637Z"
   },
   {
    "duration": 1449,
    "start_time": "2023-06-12T13:56:06.670Z"
   },
   {
    "duration": 95,
    "start_time": "2023-06-12T13:56:08.122Z"
   },
   {
    "duration": 17,
    "start_time": "2023-06-12T13:56:08.219Z"
   },
   {
    "duration": 96,
    "start_time": "2023-06-12T13:56:08.239Z"
   },
   {
    "duration": 16,
    "start_time": "2023-06-12T13:56:08.337Z"
   },
   {
    "duration": 79,
    "start_time": "2023-06-12T13:56:08.356Z"
   },
   {
    "duration": 14,
    "start_time": "2023-06-12T13:56:08.437Z"
   },
   {
    "duration": 23,
    "start_time": "2023-06-12T13:56:08.453Z"
   },
   {
    "duration": 14,
    "start_time": "2023-06-12T13:56:08.479Z"
   },
   {
    "duration": 5,
    "start_time": "2023-06-12T13:56:08.497Z"
   },
   {
    "duration": 18,
    "start_time": "2023-06-12T13:56:08.504Z"
   },
   {
    "duration": 21,
    "start_time": "2023-06-12T13:56:08.524Z"
   },
   {
    "duration": 9,
    "start_time": "2023-06-12T13:56:08.546Z"
   },
   {
    "duration": 6,
    "start_time": "2023-06-12T13:56:08.577Z"
   },
   {
    "duration": 14,
    "start_time": "2023-06-12T13:56:08.585Z"
   },
   {
    "duration": 9,
    "start_time": "2023-06-12T13:56:08.601Z"
   },
   {
    "duration": 21,
    "start_time": "2023-06-12T13:56:08.612Z"
   },
   {
    "duration": 6,
    "start_time": "2023-06-12T13:56:08.635Z"
   },
   {
    "duration": 8,
    "start_time": "2023-06-12T13:56:08.643Z"
   },
   {
    "duration": 27,
    "start_time": "2023-06-12T13:56:08.653Z"
   },
   {
    "duration": 262,
    "start_time": "2023-06-12T13:56:08.682Z"
   },
   {
    "duration": 281,
    "start_time": "2023-06-12T13:56:08.946Z"
   },
   {
    "duration": 8,
    "start_time": "2023-06-12T13:56:09.229Z"
   },
   {
    "duration": 105,
    "start_time": "2023-06-12T13:56:09.239Z"
   },
   {
    "duration": 438,
    "start_time": "2023-06-12T13:56:09.346Z"
   },
   {
    "duration": 7,
    "start_time": "2023-06-12T13:56:09.786Z"
   },
   {
    "duration": 19,
    "start_time": "2023-06-12T13:56:09.794Z"
   },
   {
    "duration": 27,
    "start_time": "2023-06-12T13:56:09.816Z"
   },
   {
    "duration": 37,
    "start_time": "2023-06-12T13:56:09.844Z"
   },
   {
    "duration": 130,
    "start_time": "2023-06-12T13:56:09.883Z"
   },
   {
    "duration": 146,
    "start_time": "2023-06-12T13:56:10.014Z"
   },
   {
    "duration": 596,
    "start_time": "2023-06-12T13:56:10.162Z"
   },
   {
    "duration": 5,
    "start_time": "2023-06-12T13:56:10.759Z"
   },
   {
    "duration": 360,
    "start_time": "2023-06-12T13:56:10.765Z"
   },
   {
    "duration": 6,
    "start_time": "2023-06-12T13:56:11.127Z"
   },
   {
    "duration": 494,
    "start_time": "2023-06-12T13:56:11.135Z"
   },
   {
    "duration": 7,
    "start_time": "2023-06-12T13:56:11.630Z"
   },
   {
    "duration": 10,
    "start_time": "2023-06-12T13:56:11.639Z"
   },
   {
    "duration": 758,
    "start_time": "2023-06-12T13:56:11.651Z"
   },
   {
    "duration": 369,
    "start_time": "2023-06-12T13:56:12.410Z"
   },
   {
    "duration": 7,
    "start_time": "2023-06-12T13:56:12.781Z"
   },
   {
    "duration": 16,
    "start_time": "2023-06-12T13:56:12.790Z"
   },
   {
    "duration": 5,
    "start_time": "2023-06-12T13:56:12.808Z"
   },
   {
    "duration": 17,
    "start_time": "2023-06-12T13:56:12.814Z"
   },
   {
    "duration": 13,
    "start_time": "2023-06-12T13:56:12.833Z"
   },
   {
    "duration": 35,
    "start_time": "2023-06-12T13:56:12.847Z"
   },
   {
    "duration": 7,
    "start_time": "2023-06-12T13:56:12.883Z"
   },
   {
    "duration": 407,
    "start_time": "2023-06-12T13:56:12.892Z"
   },
   {
    "duration": 4,
    "start_time": "2023-06-12T13:56:13.301Z"
   },
   {
    "duration": 335,
    "start_time": "2023-06-12T13:56:13.307Z"
   },
   {
    "duration": 570,
    "start_time": "2023-06-12T13:56:13.643Z"
   },
   {
    "duration": 516,
    "start_time": "2023-06-12T13:56:14.214Z"
   },
   {
    "duration": 4,
    "start_time": "2023-06-12T13:56:14.732Z"
   },
   {
    "duration": 553,
    "start_time": "2023-06-12T13:56:14.737Z"
   },
   {
    "duration": 373,
    "start_time": "2023-06-12T13:56:15.292Z"
   },
   {
    "duration": 420,
    "start_time": "2023-06-12T13:56:15.667Z"
   },
   {
    "duration": 5,
    "start_time": "2023-06-12T13:56:16.089Z"
   },
   {
    "duration": 620,
    "start_time": "2023-06-12T13:56:16.095Z"
   },
   {
    "duration": 5,
    "start_time": "2023-06-12T13:56:16.716Z"
   },
   {
    "duration": 8,
    "start_time": "2023-06-12T13:56:16.722Z"
   },
   {
    "duration": 343,
    "start_time": "2023-06-12T13:56:16.731Z"
   },
   {
    "duration": 416,
    "start_time": "2023-06-12T13:56:17.076Z"
   },
   {
    "duration": 10,
    "start_time": "2023-06-12T13:56:17.494Z"
   },
   {
    "duration": 7,
    "start_time": "2023-06-12T13:56:17.505Z"
   },
   {
    "duration": 17,
    "start_time": "2023-06-12T13:56:17.513Z"
   },
   {
    "duration": 31,
    "start_time": "2023-06-12T13:56:17.532Z"
   },
   {
    "duration": 7,
    "start_time": "2023-06-12T13:56:17.565Z"
   },
   {
    "duration": 30,
    "start_time": "2023-06-12T13:56:17.574Z"
   },
   {
    "duration": 14,
    "start_time": "2023-06-12T13:56:17.605Z"
   },
   {
    "duration": 13,
    "start_time": "2023-06-12T13:56:17.621Z"
   },
   {
    "duration": 19,
    "start_time": "2023-06-12T13:56:17.635Z"
   },
   {
    "duration": 6,
    "start_time": "2023-06-12T13:56:17.656Z"
   },
   {
    "duration": 12,
    "start_time": "2023-06-12T13:56:17.664Z"
   },
   {
    "duration": 24,
    "start_time": "2023-06-12T13:56:17.678Z"
   },
   {
    "duration": 120,
    "start_time": "2023-06-12T13:56:17.704Z"
   },
   {
    "duration": 0,
    "start_time": "2023-06-12T13:56:17.826Z"
   },
   {
    "duration": 0,
    "start_time": "2023-06-12T13:56:17.828Z"
   },
   {
    "duration": 352,
    "start_time": "2023-06-12T13:57:39.372Z"
   },
   {
    "duration": 6,
    "start_time": "2023-06-12T14:01:11.551Z"
   },
   {
    "duration": 219,
    "start_time": "2023-06-12T14:01:53.588Z"
   },
   {
    "duration": 5,
    "start_time": "2023-06-12T14:09:16.417Z"
   },
   {
    "duration": 3,
    "start_time": "2023-06-12T14:09:34.046Z"
   },
   {
    "duration": 1753,
    "start_time": "2023-06-12T14:12:50.516Z"
   },
   {
    "duration": 1727,
    "start_time": "2023-06-12T14:13:43.345Z"
   },
   {
    "duration": 16,
    "start_time": "2023-06-12T14:14:11.109Z"
   },
   {
    "duration": 4,
    "start_time": "2023-06-12T14:14:45.390Z"
   },
   {
    "duration": 7,
    "start_time": "2023-06-12T14:17:01.478Z"
   },
   {
    "duration": 5,
    "start_time": "2023-06-12T14:17:49.053Z"
   },
   {
    "duration": 7,
    "start_time": "2023-06-12T14:18:25.388Z"
   },
   {
    "duration": 8,
    "start_time": "2023-06-12T14:21:38.291Z"
   },
   {
    "duration": 336,
    "start_time": "2023-06-12T14:22:09.041Z"
   },
   {
    "duration": 1208,
    "start_time": "2023-06-12T14:30:28.199Z"
   },
   {
    "duration": 38,
    "start_time": "2023-06-12T14:30:29.409Z"
   },
   {
    "duration": 12,
    "start_time": "2023-06-12T14:30:29.449Z"
   },
   {
    "duration": 46,
    "start_time": "2023-06-12T14:30:29.463Z"
   },
   {
    "duration": 11,
    "start_time": "2023-06-12T14:30:29.510Z"
   },
   {
    "duration": 24,
    "start_time": "2023-06-12T14:30:29.523Z"
   },
   {
    "duration": 11,
    "start_time": "2023-06-12T14:30:29.548Z"
   },
   {
    "duration": 13,
    "start_time": "2023-06-12T14:30:29.560Z"
   },
   {
    "duration": 21,
    "start_time": "2023-06-12T14:30:29.575Z"
   },
   {
    "duration": 24,
    "start_time": "2023-06-12T14:30:29.599Z"
   },
   {
    "duration": 26,
    "start_time": "2023-06-12T14:30:29.625Z"
   },
   {
    "duration": 21,
    "start_time": "2023-06-12T14:30:29.653Z"
   },
   {
    "duration": 6,
    "start_time": "2023-06-12T14:30:29.676Z"
   },
   {
    "duration": 24,
    "start_time": "2023-06-12T14:30:29.683Z"
   },
   {
    "duration": 8,
    "start_time": "2023-06-12T14:30:29.709Z"
   },
   {
    "duration": 8,
    "start_time": "2023-06-12T14:30:29.719Z"
   },
   {
    "duration": 16,
    "start_time": "2023-06-12T14:30:29.729Z"
   },
   {
    "duration": 5,
    "start_time": "2023-06-12T14:30:29.746Z"
   },
   {
    "duration": 7,
    "start_time": "2023-06-12T14:30:29.752Z"
   },
   {
    "duration": 9,
    "start_time": "2023-06-12T14:30:29.760Z"
   },
   {
    "duration": 166,
    "start_time": "2023-06-12T14:30:29.770Z"
   },
   {
    "duration": 191,
    "start_time": "2023-06-12T14:30:29.938Z"
   },
   {
    "duration": 6,
    "start_time": "2023-06-12T14:30:30.131Z"
   },
   {
    "duration": 115,
    "start_time": "2023-06-12T14:30:30.139Z"
   },
   {
    "duration": 392,
    "start_time": "2023-06-12T14:30:30.255Z"
   },
   {
    "duration": 8,
    "start_time": "2023-06-12T14:30:30.649Z"
   },
   {
    "duration": 74,
    "start_time": "2023-06-12T14:30:30.659Z"
   },
   {
    "duration": 49,
    "start_time": "2023-06-12T14:30:30.737Z"
   },
   {
    "duration": 62,
    "start_time": "2023-06-12T14:30:30.788Z"
   },
   {
    "duration": 167,
    "start_time": "2023-06-12T14:30:30.852Z"
   },
   {
    "duration": 165,
    "start_time": "2023-06-12T14:30:31.022Z"
   },
   {
    "duration": 610,
    "start_time": "2023-06-12T14:30:31.189Z"
   },
   {
    "duration": 6,
    "start_time": "2023-06-12T14:30:31.800Z"
   },
   {
    "duration": 437,
    "start_time": "2023-06-12T14:30:31.807Z"
   },
   {
    "duration": 7,
    "start_time": "2023-06-12T14:30:32.246Z"
   },
   {
    "duration": 556,
    "start_time": "2023-06-12T14:30:32.255Z"
   },
   {
    "duration": 8,
    "start_time": "2023-06-12T14:30:32.813Z"
   },
   {
    "duration": 20,
    "start_time": "2023-06-12T14:30:32.822Z"
   },
   {
    "duration": 668,
    "start_time": "2023-06-12T14:30:32.844Z"
   },
   {
    "duration": 369,
    "start_time": "2023-06-12T14:30:33.513Z"
   },
   {
    "duration": 9,
    "start_time": "2023-06-12T14:30:33.883Z"
   },
   {
    "duration": 9,
    "start_time": "2023-06-12T14:30:33.893Z"
   },
   {
    "duration": 19,
    "start_time": "2023-06-12T14:30:33.904Z"
   },
   {
    "duration": 18,
    "start_time": "2023-06-12T14:30:33.925Z"
   },
   {
    "duration": 14,
    "start_time": "2023-06-12T14:30:33.945Z"
   },
   {
    "duration": 15,
    "start_time": "2023-06-12T14:30:33.977Z"
   },
   {
    "duration": 10,
    "start_time": "2023-06-12T14:30:33.993Z"
   },
   {
    "duration": 450,
    "start_time": "2023-06-12T14:30:34.005Z"
   },
   {
    "duration": 6,
    "start_time": "2023-06-12T14:30:34.457Z"
   },
   {
    "duration": 384,
    "start_time": "2023-06-12T14:30:34.464Z"
   },
   {
    "duration": 517,
    "start_time": "2023-06-12T14:30:34.850Z"
   },
   {
    "duration": 701,
    "start_time": "2023-06-12T14:30:35.369Z"
   },
   {
    "duration": 9,
    "start_time": "2023-06-12T14:30:36.071Z"
   },
   {
    "duration": 651,
    "start_time": "2023-06-12T14:30:36.082Z"
   },
   {
    "duration": 416,
    "start_time": "2023-06-12T14:30:36.734Z"
   },
   {
    "duration": 442,
    "start_time": "2023-06-12T14:30:37.152Z"
   },
   {
    "duration": 5,
    "start_time": "2023-06-12T14:30:37.596Z"
   },
   {
    "duration": 537,
    "start_time": "2023-06-12T14:30:37.603Z"
   },
   {
    "duration": 5,
    "start_time": "2023-06-12T14:30:38.142Z"
   },
   {
    "duration": 13,
    "start_time": "2023-06-12T14:30:38.149Z"
   },
   {
    "duration": 337,
    "start_time": "2023-06-12T14:30:38.164Z"
   },
   {
    "duration": 435,
    "start_time": "2023-06-12T14:30:38.504Z"
   },
   {
    "duration": 326,
    "start_time": "2023-06-12T14:30:38.941Z"
   },
   {
    "duration": 11,
    "start_time": "2023-06-12T14:30:39.276Z"
   },
   {
    "duration": 8,
    "start_time": "2023-06-12T14:30:39.289Z"
   },
   {
    "duration": 12,
    "start_time": "2023-06-12T14:30:39.299Z"
   },
   {
    "duration": 50,
    "start_time": "2023-06-12T14:30:39.312Z"
   },
   {
    "duration": 7,
    "start_time": "2023-06-12T14:30:39.364Z"
   },
   {
    "duration": 35,
    "start_time": "2023-06-12T14:30:39.373Z"
   },
   {
    "duration": 47,
    "start_time": "2023-06-12T14:30:39.409Z"
   },
   {
    "duration": 31,
    "start_time": "2023-06-12T14:30:39.458Z"
   },
   {
    "duration": 33,
    "start_time": "2023-06-12T14:30:39.490Z"
   },
   {
    "duration": 54,
    "start_time": "2023-06-12T14:30:39.525Z"
   },
   {
    "duration": 47,
    "start_time": "2023-06-12T14:30:39.581Z"
   },
   {
    "duration": 30,
    "start_time": "2023-06-12T14:30:39.630Z"
   },
   {
    "duration": 62,
    "start_time": "2023-06-12T14:30:39.661Z"
   },
   {
    "duration": 50,
    "start_time": "2023-06-12T14:30:39.725Z"
   },
   {
    "duration": 34,
    "start_time": "2023-06-12T14:30:39.777Z"
   },
   {
    "duration": 82,
    "start_time": "2023-06-12T14:33:26.820Z"
   },
   {
    "duration": 1087,
    "start_time": "2023-06-12T14:41:14.221Z"
   },
   {
    "duration": 38,
    "start_time": "2023-06-12T14:41:15.311Z"
   },
   {
    "duration": 11,
    "start_time": "2023-06-12T14:41:15.351Z"
   },
   {
    "duration": 39,
    "start_time": "2023-06-12T14:41:15.364Z"
   },
   {
    "duration": 11,
    "start_time": "2023-06-12T14:41:15.405Z"
   },
   {
    "duration": 37,
    "start_time": "2023-06-12T14:41:15.418Z"
   },
   {
    "duration": 9,
    "start_time": "2023-06-12T14:41:15.456Z"
   },
   {
    "duration": 11,
    "start_time": "2023-06-12T14:41:15.467Z"
   },
   {
    "duration": 14,
    "start_time": "2023-06-12T14:41:15.480Z"
   },
   {
    "duration": 5,
    "start_time": "2023-06-12T14:41:15.496Z"
   },
   {
    "duration": 12,
    "start_time": "2023-06-12T14:41:15.502Z"
   },
   {
    "duration": 20,
    "start_time": "2023-06-12T14:41:15.515Z"
   },
   {
    "duration": 6,
    "start_time": "2023-06-12T14:41:15.536Z"
   },
   {
    "duration": 9,
    "start_time": "2023-06-12T14:41:15.544Z"
   },
   {
    "duration": 11,
    "start_time": "2023-06-12T14:41:15.554Z"
   },
   {
    "duration": 10,
    "start_time": "2023-06-12T14:41:15.567Z"
   },
   {
    "duration": 14,
    "start_time": "2023-06-12T14:41:15.578Z"
   },
   {
    "duration": 6,
    "start_time": "2023-06-12T14:41:15.593Z"
   },
   {
    "duration": 6,
    "start_time": "2023-06-12T14:41:15.601Z"
   },
   {
    "duration": 7,
    "start_time": "2023-06-12T14:41:15.608Z"
   },
   {
    "duration": 188,
    "start_time": "2023-06-12T14:41:15.616Z"
   },
   {
    "duration": 164,
    "start_time": "2023-06-12T14:41:15.805Z"
   },
   {
    "duration": 5,
    "start_time": "2023-06-12T14:41:15.976Z"
   },
   {
    "duration": 120,
    "start_time": "2023-06-12T14:41:15.982Z"
   },
   {
    "duration": 351,
    "start_time": "2023-06-12T14:41:16.104Z"
   },
   {
    "duration": 16,
    "start_time": "2023-06-12T14:41:16.462Z"
   },
   {
    "duration": 20,
    "start_time": "2023-06-12T14:41:16.480Z"
   },
   {
    "duration": 36,
    "start_time": "2023-06-12T14:41:16.506Z"
   },
   {
    "duration": 75,
    "start_time": "2023-06-12T14:41:16.544Z"
   },
   {
    "duration": 139,
    "start_time": "2023-06-12T14:41:16.621Z"
   },
   {
    "duration": 146,
    "start_time": "2023-06-12T14:41:16.762Z"
   },
   {
    "duration": 551,
    "start_time": "2023-06-12T14:41:16.910Z"
   },
   {
    "duration": 5,
    "start_time": "2023-06-12T14:41:17.462Z"
   },
   {
    "duration": 492,
    "start_time": "2023-06-12T14:41:17.468Z"
   },
   {
    "duration": 14,
    "start_time": "2023-06-12T14:41:17.962Z"
   },
   {
    "duration": 540,
    "start_time": "2023-06-12T14:41:17.978Z"
   },
   {
    "duration": 8,
    "start_time": "2023-06-12T14:41:18.520Z"
   },
   {
    "duration": 19,
    "start_time": "2023-06-12T14:41:18.529Z"
   },
   {
    "duration": 757,
    "start_time": "2023-06-12T14:41:18.549Z"
   },
   {
    "duration": 370,
    "start_time": "2023-06-12T14:41:19.307Z"
   },
   {
    "duration": 8,
    "start_time": "2023-06-12T14:41:19.678Z"
   },
   {
    "duration": 10,
    "start_time": "2023-06-12T14:41:19.687Z"
   },
   {
    "duration": 4,
    "start_time": "2023-06-12T14:41:19.698Z"
   },
   {
    "duration": 21,
    "start_time": "2023-06-12T14:41:19.704Z"
   },
   {
    "duration": 15,
    "start_time": "2023-06-12T14:41:19.727Z"
   },
   {
    "duration": 42,
    "start_time": "2023-06-12T14:41:19.744Z"
   },
   {
    "duration": 16,
    "start_time": "2023-06-12T14:41:19.788Z"
   },
   {
    "duration": 394,
    "start_time": "2023-06-12T14:41:19.806Z"
   },
   {
    "duration": 4,
    "start_time": "2023-06-12T14:41:20.202Z"
   },
   {
    "duration": 376,
    "start_time": "2023-06-12T14:41:20.207Z"
   },
   {
    "duration": 453,
    "start_time": "2023-06-12T14:41:20.585Z"
   },
   {
    "duration": 618,
    "start_time": "2023-06-12T14:41:21.040Z"
   },
   {
    "duration": 5,
    "start_time": "2023-06-12T14:41:21.660Z"
   },
   {
    "duration": 630,
    "start_time": "2023-06-12T14:41:21.666Z"
   },
   {
    "duration": 374,
    "start_time": "2023-06-12T14:41:22.298Z"
   },
   {
    "duration": 419,
    "start_time": "2023-06-12T14:41:22.673Z"
   },
   {
    "duration": 5,
    "start_time": "2023-06-12T14:41:23.093Z"
   },
   {
    "duration": 526,
    "start_time": "2023-06-12T14:41:23.099Z"
   },
   {
    "duration": 5,
    "start_time": "2023-06-12T14:41:23.627Z"
   },
   {
    "duration": 7,
    "start_time": "2023-06-12T14:41:23.634Z"
   },
   {
    "duration": 344,
    "start_time": "2023-06-12T14:41:23.642Z"
   },
   {
    "duration": 412,
    "start_time": "2023-06-12T14:41:23.990Z"
   },
   {
    "duration": 318,
    "start_time": "2023-06-12T14:41:24.404Z"
   },
   {
    "duration": 11,
    "start_time": "2023-06-12T14:41:24.723Z"
   },
   {
    "duration": 5,
    "start_time": "2023-06-12T14:41:24.736Z"
   },
   {
    "duration": 8,
    "start_time": "2023-06-12T14:41:24.743Z"
   },
   {
    "duration": 38,
    "start_time": "2023-06-12T14:41:24.752Z"
   },
   {
    "duration": 6,
    "start_time": "2023-06-12T14:41:24.792Z"
   },
   {
    "duration": 12,
    "start_time": "2023-06-12T14:41:24.800Z"
   },
   {
    "duration": 11,
    "start_time": "2023-06-12T14:41:24.814Z"
   },
   {
    "duration": 9,
    "start_time": "2023-06-12T14:41:24.827Z"
   },
   {
    "duration": 8,
    "start_time": "2023-06-12T14:41:24.838Z"
   },
   {
    "duration": 6,
    "start_time": "2023-06-12T14:41:24.877Z"
   },
   {
    "duration": 13,
    "start_time": "2023-06-12T14:41:24.885Z"
   },
   {
    "duration": 9,
    "start_time": "2023-06-12T14:41:24.899Z"
   },
   {
    "duration": 7,
    "start_time": "2023-06-12T14:41:24.910Z"
   },
   {
    "duration": 4,
    "start_time": "2023-06-12T14:41:24.919Z"
   },
   {
    "duration": 10,
    "start_time": "2023-06-12T14:41:24.925Z"
   },
   {
    "duration": 1265,
    "start_time": "2023-06-13T04:11:23.017Z"
   },
   {
    "duration": 104,
    "start_time": "2023-06-13T04:11:24.284Z"
   },
   {
    "duration": 19,
    "start_time": "2023-06-13T04:11:24.389Z"
   },
   {
    "duration": 106,
    "start_time": "2023-06-13T04:11:24.415Z"
   },
   {
    "duration": 12,
    "start_time": "2023-06-13T04:11:24.523Z"
   },
   {
    "duration": 74,
    "start_time": "2023-06-13T04:11:24.536Z"
   },
   {
    "duration": 10,
    "start_time": "2023-06-13T04:11:24.613Z"
   },
   {
    "duration": 17,
    "start_time": "2023-06-13T04:11:24.625Z"
   },
   {
    "duration": 100,
    "start_time": "2023-06-13T04:11:24.644Z"
   },
   {
    "duration": 27,
    "start_time": "2023-06-13T04:11:24.747Z"
   },
   {
    "duration": 60,
    "start_time": "2023-06-13T04:11:24.776Z"
   },
   {
    "duration": 15,
    "start_time": "2023-06-13T04:11:24.838Z"
   },
   {
    "duration": 31,
    "start_time": "2023-06-13T04:11:24.854Z"
   },
   {
    "duration": 36,
    "start_time": "2023-06-13T04:11:24.886Z"
   },
   {
    "duration": 26,
    "start_time": "2023-06-13T04:11:24.923Z"
   },
   {
    "duration": 7,
    "start_time": "2023-06-13T04:11:24.951Z"
   },
   {
    "duration": 35,
    "start_time": "2023-06-13T04:11:24.959Z"
   },
   {
    "duration": 33,
    "start_time": "2023-06-13T04:11:24.999Z"
   },
   {
    "duration": 26,
    "start_time": "2023-06-13T04:11:25.034Z"
   },
   {
    "duration": 9,
    "start_time": "2023-06-13T04:11:25.061Z"
   },
   {
    "duration": 159,
    "start_time": "2023-06-13T04:11:25.071Z"
   },
   {
    "duration": 182,
    "start_time": "2023-06-13T04:11:25.231Z"
   },
   {
    "duration": 8,
    "start_time": "2023-06-13T04:11:25.416Z"
   },
   {
    "duration": 336,
    "start_time": "2023-06-13T04:11:25.425Z"
   },
   {
    "duration": 462,
    "start_time": "2023-06-13T04:11:25.763Z"
   },
   {
    "duration": 5,
    "start_time": "2023-06-13T04:11:26.227Z"
   },
   {
    "duration": 12,
    "start_time": "2023-06-13T04:11:26.234Z"
   },
   {
    "duration": 4,
    "start_time": "2023-06-13T04:11:26.250Z"
   },
   {
    "duration": 20,
    "start_time": "2023-06-13T04:11:26.256Z"
   },
   {
    "duration": 116,
    "start_time": "2023-06-13T04:11:26.278Z"
   },
   {
    "duration": 165,
    "start_time": "2023-06-13T04:11:26.396Z"
   },
   {
    "duration": 614,
    "start_time": "2023-06-13T04:11:26.563Z"
   },
   {
    "duration": 4,
    "start_time": "2023-06-13T04:11:27.179Z"
   },
   {
    "duration": 380,
    "start_time": "2023-06-13T04:11:27.184Z"
   },
   {
    "duration": 7,
    "start_time": "2023-06-13T04:11:27.565Z"
   },
   {
    "duration": 555,
    "start_time": "2023-06-13T04:11:27.573Z"
   },
   {
    "duration": 7,
    "start_time": "2023-06-13T04:11:28.130Z"
   },
   {
    "duration": 195,
    "start_time": "2023-06-13T04:11:28.138Z"
   },
   {
    "duration": 696,
    "start_time": "2023-06-13T04:11:28.335Z"
   },
   {
    "duration": 366,
    "start_time": "2023-06-13T04:11:29.033Z"
   },
   {
    "duration": 12,
    "start_time": "2023-06-13T04:11:29.404Z"
   },
   {
    "duration": 14,
    "start_time": "2023-06-13T04:11:29.421Z"
   },
   {
    "duration": 10,
    "start_time": "2023-06-13T04:11:29.437Z"
   },
   {
    "duration": 28,
    "start_time": "2023-06-13T04:11:29.448Z"
   },
   {
    "duration": 13,
    "start_time": "2023-06-13T04:11:29.477Z"
   },
   {
    "duration": 14,
    "start_time": "2023-06-13T04:11:29.491Z"
   },
   {
    "duration": 28,
    "start_time": "2023-06-13T04:11:29.507Z"
   },
   {
    "duration": 409,
    "start_time": "2023-06-13T04:11:29.536Z"
   },
   {
    "duration": 4,
    "start_time": "2023-06-13T04:11:29.947Z"
   },
   {
    "duration": 393,
    "start_time": "2023-06-13T04:11:29.953Z"
   },
   {
    "duration": 583,
    "start_time": "2023-06-13T04:11:30.347Z"
   },
   {
    "duration": 633,
    "start_time": "2023-06-13T04:11:30.932Z"
   },
   {
    "duration": 4,
    "start_time": "2023-06-13T04:11:31.567Z"
   },
   {
    "duration": 649,
    "start_time": "2023-06-13T04:11:31.573Z"
   },
   {
    "duration": 402,
    "start_time": "2023-06-13T04:11:32.224Z"
   },
   {
    "duration": 394,
    "start_time": "2023-06-13T04:11:32.628Z"
   },
   {
    "duration": 4,
    "start_time": "2023-06-13T04:11:33.024Z"
   },
   {
    "duration": 603,
    "start_time": "2023-06-13T04:11:33.030Z"
   },
   {
    "duration": 5,
    "start_time": "2023-06-13T04:11:33.634Z"
   },
   {
    "duration": 19,
    "start_time": "2023-06-13T04:11:33.640Z"
   },
   {
    "duration": 322,
    "start_time": "2023-06-13T04:11:33.660Z"
   },
   {
    "duration": 398,
    "start_time": "2023-06-13T04:11:33.984Z"
   },
   {
    "duration": 351,
    "start_time": "2023-06-13T04:11:34.384Z"
   },
   {
    "duration": 14,
    "start_time": "2023-06-13T04:11:34.737Z"
   },
   {
    "duration": 40,
    "start_time": "2023-06-13T04:11:34.752Z"
   },
   {
    "duration": 42,
    "start_time": "2023-06-13T04:11:34.794Z"
   },
   {
    "duration": 56,
    "start_time": "2023-06-13T04:11:34.837Z"
   },
   {
    "duration": 9,
    "start_time": "2023-06-13T04:11:34.902Z"
   },
   {
    "duration": 28,
    "start_time": "2023-06-13T04:11:34.913Z"
   },
   {
    "duration": 15,
    "start_time": "2023-06-13T04:11:34.942Z"
   },
   {
    "duration": 18,
    "start_time": "2023-06-13T04:11:34.959Z"
   },
   {
    "duration": 21,
    "start_time": "2023-06-13T04:11:34.979Z"
   },
   {
    "duration": 24,
    "start_time": "2023-06-13T04:11:35.004Z"
   },
   {
    "duration": 25,
    "start_time": "2023-06-13T04:11:35.030Z"
   },
   {
    "duration": 35,
    "start_time": "2023-06-13T04:11:35.057Z"
   },
   {
    "duration": 40,
    "start_time": "2023-06-13T04:11:35.093Z"
   },
   {
    "duration": 11,
    "start_time": "2023-06-13T04:11:35.134Z"
   },
   {
    "duration": 8,
    "start_time": "2023-06-13T04:11:35.146Z"
   },
   {
    "duration": 108,
    "start_time": "2023-06-13T04:17:43.615Z"
   },
   {
    "duration": 1432,
    "start_time": "2023-06-19T10:20:10.133Z"
   },
   {
    "duration": 98,
    "start_time": "2023-06-19T10:20:11.567Z"
   },
   {
    "duration": 13,
    "start_time": "2023-06-19T10:20:11.667Z"
   },
   {
    "duration": 393,
    "start_time": "2023-06-19T10:20:11.681Z"
   },
   {
    "duration": 13,
    "start_time": "2023-06-19T10:20:12.076Z"
   },
   {
    "duration": 61,
    "start_time": "2023-06-19T10:20:12.090Z"
   },
   {
    "duration": 11,
    "start_time": "2023-06-19T10:20:12.153Z"
   },
   {
    "duration": 8,
    "start_time": "2023-06-19T10:20:12.167Z"
   },
   {
    "duration": 12,
    "start_time": "2023-06-19T10:20:12.177Z"
   },
   {
    "duration": 5,
    "start_time": "2023-06-19T10:20:12.190Z"
   },
   {
    "duration": 6,
    "start_time": "2023-06-19T10:20:12.197Z"
   },
   {
    "duration": 11,
    "start_time": "2023-06-19T10:20:12.205Z"
   },
   {
    "duration": 40,
    "start_time": "2023-06-19T10:20:12.218Z"
   },
   {
    "duration": 5,
    "start_time": "2023-06-19T10:20:12.261Z"
   },
   {
    "duration": 5,
    "start_time": "2023-06-19T10:20:12.268Z"
   },
   {
    "duration": 20,
    "start_time": "2023-06-19T10:20:12.275Z"
   },
   {
    "duration": 33,
    "start_time": "2023-06-19T10:20:12.297Z"
   },
   {
    "duration": 5,
    "start_time": "2023-06-19T10:20:12.332Z"
   },
   {
    "duration": 12,
    "start_time": "2023-06-19T10:20:12.338Z"
   },
   {
    "duration": 5,
    "start_time": "2023-06-19T10:20:12.352Z"
   },
   {
    "duration": 175,
    "start_time": "2023-06-19T10:20:12.359Z"
   },
   {
    "duration": 190,
    "start_time": "2023-06-19T10:20:12.536Z"
   },
   {
    "duration": 7,
    "start_time": "2023-06-19T10:20:12.728Z"
   },
   {
    "duration": 108,
    "start_time": "2023-06-19T10:20:12.736Z"
   },
   {
    "duration": 468,
    "start_time": "2023-06-19T10:20:12.846Z"
   },
   {
    "duration": 8,
    "start_time": "2023-06-19T10:20:13.316Z"
   },
   {
    "duration": 18,
    "start_time": "2023-06-19T10:20:13.326Z"
   },
   {
    "duration": 10,
    "start_time": "2023-06-19T10:20:13.347Z"
   },
   {
    "duration": 129,
    "start_time": "2023-06-19T10:20:13.360Z"
   },
   {
    "duration": 196,
    "start_time": "2023-06-19T10:20:13.491Z"
   },
   {
    "duration": 173,
    "start_time": "2023-06-19T10:20:13.689Z"
   },
   {
    "duration": 692,
    "start_time": "2023-06-19T10:20:13.864Z"
   },
   {
    "duration": 5,
    "start_time": "2023-06-19T10:20:14.558Z"
   },
   {
    "duration": 376,
    "start_time": "2023-06-19T10:20:14.565Z"
   },
   {
    "duration": 14,
    "start_time": "2023-06-19T10:20:14.944Z"
   },
   {
    "duration": 554,
    "start_time": "2023-06-19T10:20:14.960Z"
   },
   {
    "duration": 9,
    "start_time": "2023-06-19T10:20:15.516Z"
   },
   {
    "duration": 10,
    "start_time": "2023-06-19T10:20:15.527Z"
   },
   {
    "duration": 753,
    "start_time": "2023-06-19T10:20:15.539Z"
   },
   {
    "duration": 381,
    "start_time": "2023-06-19T10:20:16.294Z"
   },
   {
    "duration": 8,
    "start_time": "2023-06-19T10:20:16.679Z"
   },
   {
    "duration": 30,
    "start_time": "2023-06-19T10:20:16.688Z"
   },
   {
    "duration": 9,
    "start_time": "2023-06-19T10:20:16.720Z"
   },
   {
    "duration": 24,
    "start_time": "2023-06-19T10:20:16.730Z"
   },
   {
    "duration": 17,
    "start_time": "2023-06-19T10:20:16.756Z"
   },
   {
    "duration": 14,
    "start_time": "2023-06-19T10:20:16.775Z"
   },
   {
    "duration": 6,
    "start_time": "2023-06-19T10:20:16.791Z"
   },
   {
    "duration": 483,
    "start_time": "2023-06-19T10:20:16.799Z"
   },
   {
    "duration": 5,
    "start_time": "2023-06-19T10:20:17.284Z"
   },
   {
    "duration": 386,
    "start_time": "2023-06-19T10:20:17.291Z"
   },
   {
    "duration": 586,
    "start_time": "2023-06-19T10:20:17.679Z"
   },
   {
    "duration": 575,
    "start_time": "2023-06-19T10:20:18.266Z"
   },
   {
    "duration": 4,
    "start_time": "2023-06-19T10:20:18.843Z"
   },
   {
    "duration": 695,
    "start_time": "2023-06-19T10:20:18.849Z"
   },
   {
    "duration": 405,
    "start_time": "2023-06-19T10:20:19.546Z"
   },
   {
    "duration": 417,
    "start_time": "2023-06-19T10:20:19.957Z"
   },
   {
    "duration": 4,
    "start_time": "2023-06-19T10:20:20.376Z"
   },
   {
    "duration": 524,
    "start_time": "2023-06-19T10:20:20.382Z"
   },
   {
    "duration": 4,
    "start_time": "2023-06-19T10:20:20.908Z"
   },
   {
    "duration": 24,
    "start_time": "2023-06-19T10:20:20.913Z"
   },
   {
    "duration": 337,
    "start_time": "2023-06-19T10:20:20.939Z"
   },
   {
    "duration": 471,
    "start_time": "2023-06-19T10:20:21.278Z"
   },
   {
    "duration": 333,
    "start_time": "2023-06-19T10:20:21.751Z"
   },
   {
    "duration": 12,
    "start_time": "2023-06-19T10:20:22.086Z"
   },
   {
    "duration": 19,
    "start_time": "2023-06-19T10:20:22.100Z"
   },
   {
    "duration": 11,
    "start_time": "2023-06-19T10:20:22.121Z"
   },
   {
    "duration": 27,
    "start_time": "2023-06-19T10:20:22.133Z"
   },
   {
    "duration": 7,
    "start_time": "2023-06-19T10:20:22.162Z"
   },
   {
    "duration": 10,
    "start_time": "2023-06-19T10:20:22.171Z"
   },
   {
    "duration": 16,
    "start_time": "2023-06-19T10:20:22.182Z"
   },
   {
    "duration": 17,
    "start_time": "2023-06-19T10:20:22.200Z"
   },
   {
    "duration": 25,
    "start_time": "2023-06-19T10:20:22.219Z"
   },
   {
    "duration": 13,
    "start_time": "2023-06-19T10:20:22.246Z"
   },
   {
    "duration": 32,
    "start_time": "2023-06-19T10:20:22.261Z"
   },
   {
    "duration": 18,
    "start_time": "2023-06-19T10:20:22.294Z"
   },
   {
    "duration": 7,
    "start_time": "2023-06-19T10:20:22.313Z"
   },
   {
    "duration": 8,
    "start_time": "2023-06-19T10:20:22.321Z"
   },
   {
    "duration": 9,
    "start_time": "2023-06-19T10:20:22.331Z"
   }
  ],
  "kernelspec": {
   "display_name": "Python 3 (ipykernel)",
   "language": "python",
   "name": "python3"
  },
  "language_info": {
   "codemirror_mode": {
    "name": "ipython",
    "version": 3
   },
   "file_extension": ".py",
   "mimetype": "text/x-python",
   "name": "python",
   "nbconvert_exporter": "python",
   "pygments_lexer": "ipython3",
   "version": "3.9.19"
  },
  "toc": {
   "base_numbering": 1,
   "nav_menu": {},
   "number_sections": true,
   "sideBar": true,
   "skip_h1_title": true,
   "title_cell": "Table of Contents",
   "title_sidebar": "Contents",
   "toc_cell": false,
   "toc_position": {},
   "toc_section_display": true,
   "toc_window_display": true
  }
 },
 "nbformat": 4,
 "nbformat_minor": 5
}
