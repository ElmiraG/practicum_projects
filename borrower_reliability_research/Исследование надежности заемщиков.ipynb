{
 "cells": [
  {
   "cell_type": "markdown",
   "id": "f6cf6fc1",
   "metadata": {
    "deletable": false,
    "editable": false,
    "id": "c81daeeb"
   },
   "source": [
    "# Исследование надежности заемщиков\n"
   ]
  },
  {
   "cell_type": "markdown",
   "id": "a63562b8",
   "metadata": {
    "deletable": false,
    "editable": false,
    "id": "827c20bf"
   },
   "source": [
    "Заказчик — кредитный отдел банка. Нужно разобраться, влияет ли семейное положение и количество детей клиента на факт погашения кредита в срок. Входные данные от банка — статистика о платёжеспособности клиентов.\n",
    "Результаты исследования будут учтены при построении модели кредитного скоринга — специальной системы, которая оценивает способность потенциального заёмщика вернуть кредит банку.\n"
   ]
  },
  {
   "cell_type": "markdown",
   "id": "9f198a9a",
   "metadata": {
    "deletable": false,
    "editable": false,
    "id": "744d7639"
   },
   "source": [
    "## Откройте таблицу и изучите общую информацию о данных"
   ]
  },
  {
   "cell_type": "markdown",
   "id": "2d9b22e9-abf3-4cc6-afc5-f544f96b87dc",
   "metadata": {},
   "source": [
    "## Импорт библиотек"
   ]
  },
  {
   "cell_type": "markdown",
   "id": "12911d37",
   "metadata": {
    "deletable": false,
    "editable": false,
    "id": "e7a14c31"
   },
   "source": [
    "**Задание 1. Импортируйте библиотеку pandas. Считайте данные из csv-файла в датафрейм и сохраните в переменную `data`. Путь к файлу:**\n",
    "\n",
    "`/datasets/data.csv`"
   ]
  },
  {
   "cell_type": "code",
   "execution_count": 1,
   "id": "5ee24834",
   "metadata": {
    "deletable": false,
    "id": "7bcf75c9"
   },
   "outputs": [],
   "source": [
    "import pandas as pd\n",
    "import seaborn as sns \n",
    "import matplotlib.pyplot as plt\n",
    "try:\n",
    "    data = pd.read_csv('/datasets/data.csv')\n",
    "except:\n",
    "    data = pd.read_csv('https://code.s3.yandex.net/datasets/data.csv')"
   ]
  },
  {
   "cell_type": "markdown",
   "id": "03bba13f",
   "metadata": {
    "deletable": false,
    "editable": false,
    "id": "b8038fe3"
   },
   "source": [
    "**Задание 2. Выведите первые 20 строчек датафрейма `data` на экран.**"
   ]
  },
  {
   "cell_type": "code",
   "execution_count": 2,
   "id": "4aaeb391",
   "metadata": {
    "deletable": false,
    "id": "2a7cab99",
    "outputId": "1a8f3ef2-d323-4ec2-ddf7-89670b5944c4"
   },
   "outputs": [
    {
     "data": {
      "text/html": [
       "<div>\n",
       "<style scoped>\n",
       "    .dataframe tbody tr th:only-of-type {\n",
       "        vertical-align: middle;\n",
       "    }\n",
       "\n",
       "    .dataframe tbody tr th {\n",
       "        vertical-align: top;\n",
       "    }\n",
       "\n",
       "    .dataframe thead th {\n",
       "        text-align: right;\n",
       "    }\n",
       "</style>\n",
       "<table border=\"1\" class=\"dataframe\">\n",
       "  <thead>\n",
       "    <tr style=\"text-align: right;\">\n",
       "      <th></th>\n",
       "      <th>children</th>\n",
       "      <th>days_employed</th>\n",
       "      <th>dob_years</th>\n",
       "      <th>education</th>\n",
       "      <th>education_id</th>\n",
       "      <th>family_status</th>\n",
       "      <th>family_status_id</th>\n",
       "      <th>gender</th>\n",
       "      <th>income_type</th>\n",
       "      <th>debt</th>\n",
       "      <th>total_income</th>\n",
       "      <th>purpose</th>\n",
       "    </tr>\n",
       "  </thead>\n",
       "  <tbody>\n",
       "    <tr>\n",
       "      <th>0</th>\n",
       "      <td>1</td>\n",
       "      <td>-8437.673028</td>\n",
       "      <td>42</td>\n",
       "      <td>высшее</td>\n",
       "      <td>0</td>\n",
       "      <td>женат / замужем</td>\n",
       "      <td>0</td>\n",
       "      <td>F</td>\n",
       "      <td>сотрудник</td>\n",
       "      <td>0</td>\n",
       "      <td>253875.639453</td>\n",
       "      <td>покупка жилья</td>\n",
       "    </tr>\n",
       "    <tr>\n",
       "      <th>1</th>\n",
       "      <td>1</td>\n",
       "      <td>-4024.803754</td>\n",
       "      <td>36</td>\n",
       "      <td>среднее</td>\n",
       "      <td>1</td>\n",
       "      <td>женат / замужем</td>\n",
       "      <td>0</td>\n",
       "      <td>F</td>\n",
       "      <td>сотрудник</td>\n",
       "      <td>0</td>\n",
       "      <td>112080.014102</td>\n",
       "      <td>приобретение автомобиля</td>\n",
       "    </tr>\n",
       "    <tr>\n",
       "      <th>2</th>\n",
       "      <td>0</td>\n",
       "      <td>-5623.422610</td>\n",
       "      <td>33</td>\n",
       "      <td>Среднее</td>\n",
       "      <td>1</td>\n",
       "      <td>женат / замужем</td>\n",
       "      <td>0</td>\n",
       "      <td>M</td>\n",
       "      <td>сотрудник</td>\n",
       "      <td>0</td>\n",
       "      <td>145885.952297</td>\n",
       "      <td>покупка жилья</td>\n",
       "    </tr>\n",
       "    <tr>\n",
       "      <th>3</th>\n",
       "      <td>3</td>\n",
       "      <td>-4124.747207</td>\n",
       "      <td>32</td>\n",
       "      <td>среднее</td>\n",
       "      <td>1</td>\n",
       "      <td>женат / замужем</td>\n",
       "      <td>0</td>\n",
       "      <td>M</td>\n",
       "      <td>сотрудник</td>\n",
       "      <td>0</td>\n",
       "      <td>267628.550329</td>\n",
       "      <td>дополнительное образование</td>\n",
       "    </tr>\n",
       "    <tr>\n",
       "      <th>4</th>\n",
       "      <td>0</td>\n",
       "      <td>340266.072047</td>\n",
       "      <td>53</td>\n",
       "      <td>среднее</td>\n",
       "      <td>1</td>\n",
       "      <td>гражданский брак</td>\n",
       "      <td>1</td>\n",
       "      <td>F</td>\n",
       "      <td>пенсионер</td>\n",
       "      <td>0</td>\n",
       "      <td>158616.077870</td>\n",
       "      <td>сыграть свадьбу</td>\n",
       "    </tr>\n",
       "    <tr>\n",
       "      <th>5</th>\n",
       "      <td>0</td>\n",
       "      <td>-926.185831</td>\n",
       "      <td>27</td>\n",
       "      <td>высшее</td>\n",
       "      <td>0</td>\n",
       "      <td>гражданский брак</td>\n",
       "      <td>1</td>\n",
       "      <td>M</td>\n",
       "      <td>компаньон</td>\n",
       "      <td>0</td>\n",
       "      <td>255763.565419</td>\n",
       "      <td>покупка жилья</td>\n",
       "    </tr>\n",
       "    <tr>\n",
       "      <th>6</th>\n",
       "      <td>0</td>\n",
       "      <td>-2879.202052</td>\n",
       "      <td>43</td>\n",
       "      <td>высшее</td>\n",
       "      <td>0</td>\n",
       "      <td>женат / замужем</td>\n",
       "      <td>0</td>\n",
       "      <td>F</td>\n",
       "      <td>компаньон</td>\n",
       "      <td>0</td>\n",
       "      <td>240525.971920</td>\n",
       "      <td>операции с жильем</td>\n",
       "    </tr>\n",
       "    <tr>\n",
       "      <th>7</th>\n",
       "      <td>0</td>\n",
       "      <td>-152.779569</td>\n",
       "      <td>50</td>\n",
       "      <td>СРЕДНЕЕ</td>\n",
       "      <td>1</td>\n",
       "      <td>женат / замужем</td>\n",
       "      <td>0</td>\n",
       "      <td>M</td>\n",
       "      <td>сотрудник</td>\n",
       "      <td>0</td>\n",
       "      <td>135823.934197</td>\n",
       "      <td>образование</td>\n",
       "    </tr>\n",
       "    <tr>\n",
       "      <th>8</th>\n",
       "      <td>2</td>\n",
       "      <td>-6929.865299</td>\n",
       "      <td>35</td>\n",
       "      <td>ВЫСШЕЕ</td>\n",
       "      <td>0</td>\n",
       "      <td>гражданский брак</td>\n",
       "      <td>1</td>\n",
       "      <td>F</td>\n",
       "      <td>сотрудник</td>\n",
       "      <td>0</td>\n",
       "      <td>95856.832424</td>\n",
       "      <td>на проведение свадьбы</td>\n",
       "    </tr>\n",
       "    <tr>\n",
       "      <th>9</th>\n",
       "      <td>0</td>\n",
       "      <td>-2188.756445</td>\n",
       "      <td>41</td>\n",
       "      <td>среднее</td>\n",
       "      <td>1</td>\n",
       "      <td>женат / замужем</td>\n",
       "      <td>0</td>\n",
       "      <td>M</td>\n",
       "      <td>сотрудник</td>\n",
       "      <td>0</td>\n",
       "      <td>144425.938277</td>\n",
       "      <td>покупка жилья для семьи</td>\n",
       "    </tr>\n",
       "    <tr>\n",
       "      <th>10</th>\n",
       "      <td>2</td>\n",
       "      <td>-4171.483647</td>\n",
       "      <td>36</td>\n",
       "      <td>высшее</td>\n",
       "      <td>0</td>\n",
       "      <td>женат / замужем</td>\n",
       "      <td>0</td>\n",
       "      <td>M</td>\n",
       "      <td>компаньон</td>\n",
       "      <td>0</td>\n",
       "      <td>113943.491460</td>\n",
       "      <td>покупка недвижимости</td>\n",
       "    </tr>\n",
       "    <tr>\n",
       "      <th>11</th>\n",
       "      <td>0</td>\n",
       "      <td>-792.701887</td>\n",
       "      <td>40</td>\n",
       "      <td>среднее</td>\n",
       "      <td>1</td>\n",
       "      <td>женат / замужем</td>\n",
       "      <td>0</td>\n",
       "      <td>F</td>\n",
       "      <td>сотрудник</td>\n",
       "      <td>0</td>\n",
       "      <td>77069.234271</td>\n",
       "      <td>покупка коммерческой недвижимости</td>\n",
       "    </tr>\n",
       "    <tr>\n",
       "      <th>12</th>\n",
       "      <td>0</td>\n",
       "      <td>NaN</td>\n",
       "      <td>65</td>\n",
       "      <td>среднее</td>\n",
       "      <td>1</td>\n",
       "      <td>гражданский брак</td>\n",
       "      <td>1</td>\n",
       "      <td>M</td>\n",
       "      <td>пенсионер</td>\n",
       "      <td>0</td>\n",
       "      <td>NaN</td>\n",
       "      <td>сыграть свадьбу</td>\n",
       "    </tr>\n",
       "    <tr>\n",
       "      <th>13</th>\n",
       "      <td>0</td>\n",
       "      <td>-1846.641941</td>\n",
       "      <td>54</td>\n",
       "      <td>неоконченное высшее</td>\n",
       "      <td>2</td>\n",
       "      <td>женат / замужем</td>\n",
       "      <td>0</td>\n",
       "      <td>F</td>\n",
       "      <td>сотрудник</td>\n",
       "      <td>0</td>\n",
       "      <td>130458.228857</td>\n",
       "      <td>приобретение автомобиля</td>\n",
       "    </tr>\n",
       "    <tr>\n",
       "      <th>14</th>\n",
       "      <td>0</td>\n",
       "      <td>-1844.956182</td>\n",
       "      <td>56</td>\n",
       "      <td>высшее</td>\n",
       "      <td>0</td>\n",
       "      <td>гражданский брак</td>\n",
       "      <td>1</td>\n",
       "      <td>F</td>\n",
       "      <td>компаньон</td>\n",
       "      <td>1</td>\n",
       "      <td>165127.911772</td>\n",
       "      <td>покупка жилой недвижимости</td>\n",
       "    </tr>\n",
       "    <tr>\n",
       "      <th>15</th>\n",
       "      <td>1</td>\n",
       "      <td>-972.364419</td>\n",
       "      <td>26</td>\n",
       "      <td>среднее</td>\n",
       "      <td>1</td>\n",
       "      <td>женат / замужем</td>\n",
       "      <td>0</td>\n",
       "      <td>F</td>\n",
       "      <td>сотрудник</td>\n",
       "      <td>0</td>\n",
       "      <td>116820.904450</td>\n",
       "      <td>строительство собственной недвижимости</td>\n",
       "    </tr>\n",
       "    <tr>\n",
       "      <th>16</th>\n",
       "      <td>0</td>\n",
       "      <td>-1719.934226</td>\n",
       "      <td>35</td>\n",
       "      <td>среднее</td>\n",
       "      <td>1</td>\n",
       "      <td>женат / замужем</td>\n",
       "      <td>0</td>\n",
       "      <td>F</td>\n",
       "      <td>сотрудник</td>\n",
       "      <td>0</td>\n",
       "      <td>289202.704229</td>\n",
       "      <td>недвижимость</td>\n",
       "    </tr>\n",
       "    <tr>\n",
       "      <th>17</th>\n",
       "      <td>0</td>\n",
       "      <td>-2369.999720</td>\n",
       "      <td>33</td>\n",
       "      <td>высшее</td>\n",
       "      <td>0</td>\n",
       "      <td>гражданский брак</td>\n",
       "      <td>1</td>\n",
       "      <td>M</td>\n",
       "      <td>сотрудник</td>\n",
       "      <td>0</td>\n",
       "      <td>90410.586745</td>\n",
       "      <td>строительство недвижимости</td>\n",
       "    </tr>\n",
       "    <tr>\n",
       "      <th>18</th>\n",
       "      <td>0</td>\n",
       "      <td>400281.136913</td>\n",
       "      <td>53</td>\n",
       "      <td>среднее</td>\n",
       "      <td>1</td>\n",
       "      <td>вдовец / вдова</td>\n",
       "      <td>2</td>\n",
       "      <td>F</td>\n",
       "      <td>пенсионер</td>\n",
       "      <td>0</td>\n",
       "      <td>56823.777243</td>\n",
       "      <td>на покупку подержанного автомобиля</td>\n",
       "    </tr>\n",
       "    <tr>\n",
       "      <th>19</th>\n",
       "      <td>0</td>\n",
       "      <td>-10038.818549</td>\n",
       "      <td>48</td>\n",
       "      <td>СРЕДНЕЕ</td>\n",
       "      <td>1</td>\n",
       "      <td>в разводе</td>\n",
       "      <td>3</td>\n",
       "      <td>F</td>\n",
       "      <td>сотрудник</td>\n",
       "      <td>0</td>\n",
       "      <td>242831.107982</td>\n",
       "      <td>на покупку своего автомобиля</td>\n",
       "    </tr>\n",
       "  </tbody>\n",
       "</table>\n",
       "</div>"
      ],
      "text/plain": [
       "    children  days_employed  dob_years            education  education_id  \\\n",
       "0          1   -8437.673028         42               высшее             0   \n",
       "1          1   -4024.803754         36              среднее             1   \n",
       "2          0   -5623.422610         33              Среднее             1   \n",
       "3          3   -4124.747207         32              среднее             1   \n",
       "4          0  340266.072047         53              среднее             1   \n",
       "5          0    -926.185831         27               высшее             0   \n",
       "6          0   -2879.202052         43               высшее             0   \n",
       "7          0    -152.779569         50              СРЕДНЕЕ             1   \n",
       "8          2   -6929.865299         35               ВЫСШЕЕ             0   \n",
       "9          0   -2188.756445         41              среднее             1   \n",
       "10         2   -4171.483647         36               высшее             0   \n",
       "11         0    -792.701887         40              среднее             1   \n",
       "12         0            NaN         65              среднее             1   \n",
       "13         0   -1846.641941         54  неоконченное высшее             2   \n",
       "14         0   -1844.956182         56               высшее             0   \n",
       "15         1    -972.364419         26              среднее             1   \n",
       "16         0   -1719.934226         35              среднее             1   \n",
       "17         0   -2369.999720         33               высшее             0   \n",
       "18         0  400281.136913         53              среднее             1   \n",
       "19         0  -10038.818549         48              СРЕДНЕЕ             1   \n",
       "\n",
       "       family_status  family_status_id gender income_type  debt  \\\n",
       "0    женат / замужем                 0      F   сотрудник     0   \n",
       "1    женат / замужем                 0      F   сотрудник     0   \n",
       "2    женат / замужем                 0      M   сотрудник     0   \n",
       "3    женат / замужем                 0      M   сотрудник     0   \n",
       "4   гражданский брак                 1      F   пенсионер     0   \n",
       "5   гражданский брак                 1      M   компаньон     0   \n",
       "6    женат / замужем                 0      F   компаньон     0   \n",
       "7    женат / замужем                 0      M   сотрудник     0   \n",
       "8   гражданский брак                 1      F   сотрудник     0   \n",
       "9    женат / замужем                 0      M   сотрудник     0   \n",
       "10   женат / замужем                 0      M   компаньон     0   \n",
       "11   женат / замужем                 0      F   сотрудник     0   \n",
       "12  гражданский брак                 1      M   пенсионер     0   \n",
       "13   женат / замужем                 0      F   сотрудник     0   \n",
       "14  гражданский брак                 1      F   компаньон     1   \n",
       "15   женат / замужем                 0      F   сотрудник     0   \n",
       "16   женат / замужем                 0      F   сотрудник     0   \n",
       "17  гражданский брак                 1      M   сотрудник     0   \n",
       "18    вдовец / вдова                 2      F   пенсионер     0   \n",
       "19         в разводе                 3      F   сотрудник     0   \n",
       "\n",
       "     total_income                                 purpose  \n",
       "0   253875.639453                           покупка жилья  \n",
       "1   112080.014102                 приобретение автомобиля  \n",
       "2   145885.952297                           покупка жилья  \n",
       "3   267628.550329              дополнительное образование  \n",
       "4   158616.077870                         сыграть свадьбу  \n",
       "5   255763.565419                           покупка жилья  \n",
       "6   240525.971920                       операции с жильем  \n",
       "7   135823.934197                             образование  \n",
       "8    95856.832424                   на проведение свадьбы  \n",
       "9   144425.938277                 покупка жилья для семьи  \n",
       "10  113943.491460                    покупка недвижимости  \n",
       "11   77069.234271       покупка коммерческой недвижимости  \n",
       "12            NaN                         сыграть свадьбу  \n",
       "13  130458.228857                 приобретение автомобиля  \n",
       "14  165127.911772              покупка жилой недвижимости  \n",
       "15  116820.904450  строительство собственной недвижимости  \n",
       "16  289202.704229                            недвижимость  \n",
       "17   90410.586745              строительство недвижимости  \n",
       "18   56823.777243      на покупку подержанного автомобиля  \n",
       "19  242831.107982            на покупку своего автомобиля  "
      ]
     },
     "execution_count": 2,
     "metadata": {},
     "output_type": "execute_result"
    }
   ],
   "source": [
    "data.head(20)"
   ]
  },
  {
   "cell_type": "markdown",
   "id": "5cd23634",
   "metadata": {
    "deletable": false,
    "editable": false,
    "id": "1c12e233"
   },
   "source": [
    "**Задание 3. Выведите основную информацию о датафрейме с помощью метода `info()`.**"
   ]
  },
  {
   "cell_type": "code",
   "execution_count": 3,
   "id": "605dd671",
   "metadata": {
    "deletable": false,
    "id": "2b757bca",
    "outputId": "15376089-8dad-46c9-b520-c05248d43158"
   },
   "outputs": [
    {
     "name": "stdout",
     "output_type": "stream",
     "text": [
      "<class 'pandas.core.frame.DataFrame'>\n",
      "RangeIndex: 21525 entries, 0 to 21524\n",
      "Data columns (total 12 columns):\n",
      " #   Column            Non-Null Count  Dtype  \n",
      "---  ------            --------------  -----  \n",
      " 0   children          21525 non-null  int64  \n",
      " 1   days_employed     19351 non-null  float64\n",
      " 2   dob_years         21525 non-null  int64  \n",
      " 3   education         21525 non-null  object \n",
      " 4   education_id      21525 non-null  int64  \n",
      " 5   family_status     21525 non-null  object \n",
      " 6   family_status_id  21525 non-null  int64  \n",
      " 7   gender            21525 non-null  object \n",
      " 8   income_type       21525 non-null  object \n",
      " 9   debt              21525 non-null  int64  \n",
      " 10  total_income      19351 non-null  float64\n",
      " 11  purpose           21525 non-null  object \n",
      "dtypes: float64(2), int64(5), object(5)\n",
      "memory usage: 2.0+ MB\n"
     ]
    }
   ],
   "source": [
    "data.info()"
   ]
  },
  {
   "cell_type": "markdown",
   "id": "cdab4913",
   "metadata": {
    "deletable": false,
    "editable": false,
    "id": "333ec665"
   },
   "source": [
    "## Предобработка данных"
   ]
  },
  {
   "cell_type": "markdown",
   "id": "908ee15f",
   "metadata": {
    "deletable": false,
    "editable": false,
    "id": "02d92d53"
   },
   "source": [
    "### Удаление пропусков"
   ]
  },
  {
   "cell_type": "markdown",
   "id": "a77ebb9e",
   "metadata": {
    "deletable": false,
    "editable": false,
    "id": "cd84967c"
   },
   "source": [
    "**Задание 4. Выведите количество пропущенных значений для каждого столбца. Используйте комбинацию двух методов.**"
   ]
  },
  {
   "cell_type": "code",
   "execution_count": 4,
   "id": "1829868c",
   "metadata": {
    "deletable": false,
    "id": "7f9b2309",
    "outputId": "81f4d817-781c-465c-ed15-91ce4446810d"
   },
   "outputs": [
    {
     "data": {
      "text/plain": [
       "children               0\n",
       "days_employed       2174\n",
       "dob_years              0\n",
       "education              0\n",
       "education_id           0\n",
       "family_status          0\n",
       "family_status_id       0\n",
       "gender                 0\n",
       "income_type            0\n",
       "debt                   0\n",
       "total_income        2174\n",
       "purpose                0\n",
       "dtype: int64"
      ]
     },
     "execution_count": 4,
     "metadata": {},
     "output_type": "execute_result"
    }
   ],
   "source": [
    "data.isna().sum()"
   ]
  },
  {
   "cell_type": "markdown",
   "id": "0c724273",
   "metadata": {
    "deletable": false,
    "editable": false,
    "id": "db86e27b"
   },
   "source": [
    "**Задание 5. В двух столбцах есть пропущенные значения. Один из них — `days_employed`. Пропуски в этом столбце вы обработаете на следующем этапе. Другой столбец с пропущенными значениями — `total_income` — хранит данные о доходах. На сумму дохода сильнее всего влияет тип занятости, поэтому заполнить пропуски в этом столбце нужно медианным значением по каждому типу из столбца `income_type`. Например, у человека с типом занятости `сотрудник` пропуск в столбце `total_income` должен быть заполнен медианным доходом среди всех записей с тем же типом.**"
   ]
  },
  {
   "cell_type": "code",
   "execution_count": 5,
   "id": "e797beb3",
   "metadata": {
    "deletable": false,
    "id": "42006a93"
   },
   "outputs": [],
   "source": [
    "for t in data['income_type'].unique():\n",
    "    data.loc[(data['income_type'] == t) & (data['total_income'].isna()), 'total_income'] = \\\n",
    "    data.loc[(data['income_type'] == t), 'total_income'].median()"
   ]
  },
  {
   "cell_type": "markdown",
   "id": "de12365f",
   "metadata": {
    "deletable": false,
    "editable": false,
    "id": "89da5ece"
   },
   "source": [
    "### Обработка аномальных значений"
   ]
  },
  {
   "cell_type": "markdown",
   "id": "681a5731",
   "metadata": {
    "deletable": false,
    "editable": false,
    "id": "57964554"
   },
   "source": [
    "**Задание 6. В данных могут встречаться артефакты (аномалии) — значения, которые не отражают действительность и появились по какой-то ошибке. таким артефактом будет отрицательное количество дней трудового стажа в столбце `days_employed`. Для реальных данных это нормально. Обработайте значения в этом столбце: замените все отрицательные значения положительными с помощью метода `abs()`.**"
   ]
  },
  {
   "cell_type": "code",
   "execution_count": 6,
   "id": "5f4c4205",
   "metadata": {
    "deletable": false,
    "id": "f6f055bf"
   },
   "outputs": [],
   "source": [
    "data['days_employed'] = data['days_employed'].abs()"
   ]
  },
  {
   "cell_type": "markdown",
   "id": "bbc0e839",
   "metadata": {
    "deletable": false,
    "editable": false,
    "id": "6107dd2f"
   },
   "source": [
    "**Задание 7. Для каждого типа занятости выведите медианное значение трудового стажа `days_employed` в днях.**"
   ]
  },
  {
   "cell_type": "code",
   "execution_count": 7,
   "id": "dbc53086",
   "metadata": {
    "deletable": false,
    "id": "85a5faf6",
    "outputId": "801ef80e-522b-4668-f34e-565af7432bcf"
   },
   "outputs": [
    {
     "data": {
      "text/plain": [
       "income_type\n",
       "безработный        366413.652744\n",
       "в декрете            3296.759962\n",
       "госслужащий          2689.368353\n",
       "компаньон            1547.382223\n",
       "пенсионер          365213.306266\n",
       "предприниматель       520.848083\n",
       "сотрудник            1574.202821\n",
       "студент               578.751554\n",
       "Name: days_employed, dtype: float64"
      ]
     },
     "execution_count": 7,
     "metadata": {},
     "output_type": "execute_result"
    }
   ],
   "source": [
    "data.groupby('income_type')['days_employed'].agg('median')"
   ]
  },
  {
   "cell_type": "markdown",
   "id": "aab7ca6f",
   "metadata": {
    "deletable": false,
    "editable": false,
    "id": "38d1a030"
   },
   "source": [
    "У двух типов (безработные и пенсионеры) получатся аномально большие значения. Исправить такие значения сложно, поэтому оставьте их как есть. Тем более этот столбец не понадобится вам для исследования."
   ]
  },
  {
   "cell_type": "markdown",
   "id": "368f533a",
   "metadata": {
    "deletable": false,
    "editable": false,
    "id": "d8a9f147"
   },
   "source": [
    "**Задание 8. Выведите перечень уникальных значений столбца `children`.**"
   ]
  },
  {
   "cell_type": "code",
   "execution_count": 8,
   "id": "7fe5224a",
   "metadata": {
    "deletable": false,
    "id": "ef5056eb",
    "outputId": "6975b15c-7f95-4697-d16d-a0c79b657b03"
   },
   "outputs": [
    {
     "data": {
      "text/plain": [
       "array([ 1,  0,  3,  2, -1,  4, 20,  5])"
      ]
     },
     "execution_count": 8,
     "metadata": {},
     "output_type": "execute_result"
    }
   ],
   "source": [
    "data['children'].unique()"
   ]
  },
  {
   "cell_type": "markdown",
   "id": "8a084066",
   "metadata": {
    "deletable": false,
    "editable": false,
    "id": "40b9ebf2"
   },
   "source": [
    "**Задание 9. В столбце `children` есть два аномальных значения. Удалите строки, в которых встречаются такие аномальные значения из датафрейма `data`.**"
   ]
  },
  {
   "cell_type": "code",
   "execution_count": 9,
   "id": "b594b29f",
   "metadata": {
    "deletable": false,
    "id": "3ff9801d"
   },
   "outputs": [],
   "source": [
    "data = data[(data['children'] != -1) & (data['children'] != 20)]"
   ]
  },
  {
   "cell_type": "markdown",
   "id": "e5c539d8",
   "metadata": {
    "deletable": false,
    "editable": false,
    "id": "bbc4d0ce"
   },
   "source": [
    "**Задание 10. Ещё раз выведите перечень уникальных значений столбца `children`, чтобы убедиться, что артефакты удалены.**"
   ]
  },
  {
   "cell_type": "code",
   "execution_count": 10,
   "id": "085fe1f5",
   "metadata": {
    "deletable": false,
    "id": "ad4fa8b7",
    "outputId": "b2097101-d49d-44d9-901b-32a65c9463d1"
   },
   "outputs": [
    {
     "data": {
      "text/plain": [
       "array([1, 0, 3, 2, 4, 5])"
      ]
     },
     "execution_count": 10,
     "metadata": {},
     "output_type": "execute_result"
    }
   ],
   "source": [
    "data['children'].unique()"
   ]
  },
  {
   "cell_type": "markdown",
   "id": "db276e0a",
   "metadata": {
    "deletable": false,
    "editable": false,
    "id": "75440b63"
   },
   "source": [
    "### Удаление пропусков (продолжение)"
   ]
  },
  {
   "cell_type": "markdown",
   "id": "5605b309",
   "metadata": {
    "deletable": false,
    "editable": false,
    "id": "f4ea573f"
   },
   "source": [
    "**Задание 11. Заполните пропуски в столбце `days_employed` медианными значениями по каждого типа занятости `income_type`.**"
   ]
  },
  {
   "cell_type": "code",
   "execution_count": 11,
   "id": "b7ccf182",
   "metadata": {
    "deletable": false,
    "id": "af6b1a7e"
   },
   "outputs": [],
   "source": [
    "for t in data['income_type'].unique():\n",
    "    data.loc[(data['income_type'] == t) & (data['days_employed'].isna()), 'days_employed'] = \\\n",
    "    data.loc[(data['income_type'] == t), 'days_employed'].median()"
   ]
  },
  {
   "cell_type": "markdown",
   "id": "a20bde59",
   "metadata": {
    "deletable": false,
    "editable": false,
    "id": "2753f40d"
   },
   "source": [
    "**Задание 12. Убедитесь, что все пропуски заполнены. Проверьте себя и ещё раз выведите количество пропущенных значений для каждого столбца с помощью двух методов.**"
   ]
  },
  {
   "cell_type": "code",
   "execution_count": 12,
   "id": "aad02e67",
   "metadata": {
    "deletable": false,
    "id": "55f78bc2",
    "outputId": "8da1e4e1-358e-4e87-98c9-f261bce0a7b2"
   },
   "outputs": [
    {
     "data": {
      "text/plain": [
       "children            0\n",
       "days_employed       0\n",
       "dob_years           0\n",
       "education           0\n",
       "education_id        0\n",
       "family_status       0\n",
       "family_status_id    0\n",
       "gender              0\n",
       "income_type         0\n",
       "debt                0\n",
       "total_income        0\n",
       "purpose             0\n",
       "dtype: int64"
      ]
     },
     "execution_count": 12,
     "metadata": {},
     "output_type": "execute_result"
    }
   ],
   "source": [
    "data.isna().sum()"
   ]
  },
  {
   "cell_type": "markdown",
   "id": "d1ff7a86",
   "metadata": {
    "deletable": false,
    "editable": false,
    "id": "ddc81e43"
   },
   "source": [
    "### Изменение типов данных"
   ]
  },
  {
   "cell_type": "markdown",
   "id": "5b4ff536",
   "metadata": {
    "deletable": false,
    "editable": false,
    "id": "42d19d24"
   },
   "source": [
    "**Задание 13. Замените вещественный тип данных в столбце `total_income` на целочисленный с помощью метода `astype()`.**"
   ]
  },
  {
   "cell_type": "code",
   "execution_count": 13,
   "id": "e4373fd5",
   "metadata": {
    "deletable": false,
    "id": "920b65ad"
   },
   "outputs": [],
   "source": [
    "data['total_income'] = data['total_income'].astype(int)"
   ]
  },
  {
   "cell_type": "markdown",
   "id": "c086e1b0",
   "metadata": {
    "deletable": false,
    "editable": false,
    "id": "80c420ba"
   },
   "source": [
    "### Обработка дубликатов"
   ]
  },
  {
   "cell_type": "markdown",
   "id": "c561c981",
   "metadata": {
    "deletable": false,
    "editable": false
   },
   "source": [
    "**Задание 14. Обработайте неявные дубликаты в столбце `education`. В этом столбце есть одни и те же значения, но записанные по-разному: с использованием заглавных и строчных букв. Приведите их к нижнему регистру. Проверьте остальные столбцы.**"
   ]
  },
  {
   "cell_type": "code",
   "execution_count": 14,
   "id": "005f5d20",
   "metadata": {
    "deletable": false
   },
   "outputs": [],
   "source": [
    "data['education'] = data['education'].str.lower()"
   ]
  },
  {
   "cell_type": "markdown",
   "id": "293dc260",
   "metadata": {
    "deletable": false,
    "editable": false,
    "id": "dc587695"
   },
   "source": [
    "**Задание 15. Выведите на экран количество строк-дубликатов в данных. Если такие строки присутствуют, удалите их.**"
   ]
  },
  {
   "cell_type": "code",
   "execution_count": 15,
   "id": "6f928410",
   "metadata": {
    "deletable": false,
    "id": "3ee445e4",
    "outputId": "9684deba-1934-42d1-99e1-cda61740f822"
   },
   "outputs": [
    {
     "data": {
      "text/plain": [
       "71"
      ]
     },
     "execution_count": 15,
     "metadata": {},
     "output_type": "execute_result"
    }
   ],
   "source": [
    "data.duplicated().sum()"
   ]
  },
  {
   "cell_type": "code",
   "execution_count": 16,
   "id": "42d4eb06",
   "metadata": {
    "deletable": false,
    "id": "8575fe05"
   },
   "outputs": [],
   "source": [
    "data = data.drop_duplicates()"
   ]
  },
  {
   "cell_type": "markdown",
   "id": "81f1dad4",
   "metadata": {
    "deletable": false,
    "editable": false,
    "id": "9904cf55"
   },
   "source": [
    "### Категоризация данных"
   ]
  },
  {
   "cell_type": "markdown",
   "id": "a6825278",
   "metadata": {
    "deletable": false,
    "editable": false,
    "id": "72fcc8a2"
   },
   "source": [
    "**Задание 16. На основании диапазонов, указанных ниже, создайте в датафрейме `data` столбец `total_income_category` с категориями:**\n",
    "\n",
    "- 0–30000 — `'E'`;\n",
    "- 30001–50000 — `'D'`;\n",
    "- 50001–200000 — `'C'`;\n",
    "- 200001–1000000 — `'B'`;\n",
    "- 1000001 и выше — `'A'`.\n",
    "\n",
    "\n",
    "**Например, кредитополучателю с доходом 25000 нужно назначить категорию `'E'`, а клиенту, получающему 235000, — `'B'`. Используйте собственную функцию с именем `categorize_income()` и метод `apply()`.**"
   ]
  },
  {
   "cell_type": "code",
   "execution_count": 17,
   "id": "51995ada",
   "metadata": {
    "deletable": false,
    "id": "e1771346"
   },
   "outputs": [],
   "source": [
    "def categorize_floor(floor):\n",
    "    try:\n",
    "        if 0 <= income <= 30000:\n",
    "            return 'E'\n",
    "        elif 30001 <= floor <= 50000:\n",
    "            return 'D'\n",
    "        elif 50001 <= floor <= 200000:\n",
    "            return 'C'\n",
    "        elif 200001 <= floor <= 1000000:\n",
    "            return 'B'\n",
    "        elif floor >= 1000001:\n",
    "            return 'A'\n",
    "    except:\n",
    "        pass"
   ]
  },
  {
   "cell_type": "code",
   "execution_count": 18,
   "id": "7afd0c3e",
   "metadata": {
    "deletable": false,
    "id": "d5f3586d"
   },
   "outputs": [],
   "source": [
    "data['total_income_category'] = data['total_income'].apply(categorize_floor)"
   ]
  },
  {
   "cell_type": "markdown",
   "id": "5de2dc11",
   "metadata": {
    "deletable": false,
    "editable": false,
    "id": "dde49b5c"
   },
   "source": [
    "**Задание 17. Выведите на экран перечень уникальных целей взятия кредита из столбца `purpose`.**"
   ]
  },
  {
   "cell_type": "code",
   "execution_count": 19,
   "id": "43702f47",
   "metadata": {
    "deletable": false,
    "id": "f67ce9b3",
    "outputId": "673c12d9-7d7e-4ae0-9812-c622c89dd244"
   },
   "outputs": [
    {
     "data": {
      "text/plain": [
       "array(['покупка жилья', 'приобретение автомобиля',\n",
       "       'дополнительное образование', 'сыграть свадьбу',\n",
       "       'операции с жильем', 'образование', 'на проведение свадьбы',\n",
       "       'покупка жилья для семьи', 'покупка недвижимости',\n",
       "       'покупка коммерческой недвижимости', 'покупка жилой недвижимости',\n",
       "       'строительство собственной недвижимости', 'недвижимость',\n",
       "       'строительство недвижимости', 'на покупку подержанного автомобиля',\n",
       "       'на покупку своего автомобиля',\n",
       "       'операции с коммерческой недвижимостью',\n",
       "       'строительство жилой недвижимости', 'жилье',\n",
       "       'операции со своей недвижимостью', 'автомобили',\n",
       "       'заняться образованием', 'сделка с подержанным автомобилем',\n",
       "       'получение образования', 'автомобиль', 'свадьба',\n",
       "       'получение дополнительного образования', 'покупка своего жилья',\n",
       "       'операции с недвижимостью', 'получение высшего образования',\n",
       "       'свой автомобиль', 'сделка с автомобилем',\n",
       "       'профильное образование', 'высшее образование',\n",
       "       'покупка жилья для сдачи', 'на покупку автомобиля', 'ремонт жилью',\n",
       "       'заняться высшим образованием'], dtype=object)"
      ]
     },
     "execution_count": 19,
     "metadata": {},
     "output_type": "execute_result"
    }
   ],
   "source": [
    "data['purpose'].unique()"
   ]
  },
  {
   "cell_type": "markdown",
   "id": "9c357441",
   "metadata": {
    "deletable": false,
    "editable": false,
    "id": "85d0aef0"
   },
   "source": [
    "**Задание 18. Создайте функцию, которая на основании данных из столбца `purpose` сформирует новый столбец `purpose_category`, в который войдут следующие категории:**\n",
    "\n",
    "- `'операции с автомобилем'`,\n",
    "- `'операции с недвижимостью'`,\n",
    "- `'проведение свадьбы'`,\n",
    "- `'получение образования'`.\n",
    "\n",
    "**Например, если в столбце `purpose` находится подстрока `'на покупку автомобиля'`, то в столбце `purpose_category` должна появиться строка `'операции с автомобилем'`.**\n",
    "\n",
    "**Используйте собственную функцию с именем `categorize_purpose()` и метод `apply()`. Изучите данные в столбце `purpose` и определите, какие подстроки помогут вам правильно определить категорию.**"
   ]
  },
  {
   "cell_type": "code",
   "execution_count": 20,
   "id": "f67821db",
   "metadata": {
    "deletable": false,
    "id": "e149fab4"
   },
   "outputs": [],
   "source": [
    "def categorize_purpose(row):\n",
    "    try:\n",
    "        if 'автом' in row:\n",
    "            return 'операции с автомобилем'\n",
    "        elif 'жил' in row or 'недвиж' in row:\n",
    "            return 'операции с недвижимостью'\n",
    "        elif 'свад' in row:\n",
    "            return 'проведение свадьбы'\n",
    "        elif 'образов' in row:\n",
    "            return 'получение образования'\n",
    "    except:\n",
    "        return 'нет категории'"
   ]
  },
  {
   "cell_type": "code",
   "execution_count": 21,
   "id": "91e277a0",
   "metadata": {
    "deletable": false,
    "id": "bf36e69b"
   },
   "outputs": [],
   "source": [
    "data['purpose_category'] = data['purpose'].apply(categorize_purpose)"
   ]
  },
  {
   "cell_type": "markdown",
   "id": "fc8cc2f8",
   "metadata": {
    "deletable": false,
    "editable": false,
    "id": "09b242bf"
   },
   "source": [
    "### Шаг 3. Исследуйте данные и ответьте на вопросы"
   ]
  },
  {
   "cell_type": "code",
   "execution_count": null,
   "id": "c5d7912e",
   "metadata": {
    "deletable": false,
    "id": "2cacfc4a"
   },
   "outputs": [],
   "source": []
  },
  {
   "cell_type": "markdown",
   "id": "541e6cf5",
   "metadata": {
    "deletable": false,
    "editable": false,
    "id": "c5d66278"
   },
   "source": [
    "#### 3.1 Есть ли зависимость между количеством детей и возвратом кредита в срок?"
   ]
  },
  {
   "cell_type": "code",
   "execution_count": 22,
   "id": "70ac3bd8",
   "metadata": {},
   "outputs": [
    {
     "data": {
      "text/html": [
       "<div>\n",
       "<style scoped>\n",
       "    .dataframe tbody tr th:only-of-type {\n",
       "        vertical-align: middle;\n",
       "    }\n",
       "\n",
       "    .dataframe tbody tr th {\n",
       "        vertical-align: top;\n",
       "    }\n",
       "\n",
       "    .dataframe thead th {\n",
       "        text-align: right;\n",
       "    }\n",
       "</style>\n",
       "<table border=\"1\" class=\"dataframe\">\n",
       "  <thead>\n",
       "    <tr style=\"text-align: right;\">\n",
       "      <th></th>\n",
       "      <th>children</th>\n",
       "      <th>count</th>\n",
       "      <th>mean</th>\n",
       "      <th>sum</th>\n",
       "    </tr>\n",
       "  </thead>\n",
       "  <tbody>\n",
       "    <tr>\n",
       "      <th>0</th>\n",
       "      <td>0</td>\n",
       "      <td>14091</td>\n",
       "      <td>7.543822</td>\n",
       "      <td>1063</td>\n",
       "    </tr>\n",
       "    <tr>\n",
       "      <th>1</th>\n",
       "      <td>1</td>\n",
       "      <td>4808</td>\n",
       "      <td>9.234609</td>\n",
       "      <td>444</td>\n",
       "    </tr>\n",
       "    <tr>\n",
       "      <th>2</th>\n",
       "      <td>2</td>\n",
       "      <td>2052</td>\n",
       "      <td>9.454191</td>\n",
       "      <td>194</td>\n",
       "    </tr>\n",
       "    <tr>\n",
       "      <th>3</th>\n",
       "      <td>3</td>\n",
       "      <td>330</td>\n",
       "      <td>8.181818</td>\n",
       "      <td>27</td>\n",
       "    </tr>\n",
       "    <tr>\n",
       "      <th>4</th>\n",
       "      <td>4</td>\n",
       "      <td>41</td>\n",
       "      <td>9.756098</td>\n",
       "      <td>4</td>\n",
       "    </tr>\n",
       "    <tr>\n",
       "      <th>5</th>\n",
       "      <td>5</td>\n",
       "      <td>9</td>\n",
       "      <td>0.000000</td>\n",
       "      <td>0</td>\n",
       "    </tr>\n",
       "  </tbody>\n",
       "</table>\n",
       "</div>"
      ],
      "text/plain": [
       "   children  count      mean   sum\n",
       "0         0  14091  7.543822  1063\n",
       "1         1   4808  9.234609   444\n",
       "2         2   2052  9.454191   194\n",
       "3         3    330  8.181818    27\n",
       "4         4     41  9.756098     4\n",
       "5         5      9  0.000000     0"
      ]
     },
     "execution_count": 22,
     "metadata": {},
     "output_type": "execute_result"
    }
   ],
   "source": [
    "#ch_debt = data.groupby('children').agg({'debt':'mean'}).reset_index() #зависимость среднего значения задолжников от кол-ва детей\n",
    "#ch_debt['debt'] = ch_debt['debt']*100 #переводим значение задолжников в проценты\n",
    "#ch_debt #выводим таблицу\n",
    "\n",
    "ch_debt=data.pivot_table(index='children', values='debt', aggfunc=['count', 'mean', 'sum']).reset_index().droplevel(1, axis=1) #зависимость среднего значение задолжников от кол-ва детей\n",
    "ch_debt['mean'] = ch_debt['mean']*100 #переводим значение задолжников в проценты\n",
    "ch_debt #выводим таблицу"
   ]
  },
  {
   "cell_type": "code",
   "execution_count": 23,
   "id": "6147675c",
   "metadata": {},
   "outputs": [
    {
     "data": {
      "image/png": "[encoded data removed]",
      "text/plain": [
       "<Figure size 432x288 with 1 Axes>"
      ]
     },
     "metadata": {
      "needs_background": "light"
     },
     "output_type": "display_data"
    }
   ],
   "source": [
    "sns.barplot(x='children', y='mean', data=ch_debt).set(title='Зависимость между количеством детей и возвратом кредита в срок'); \n",
    "# построение гистограммы "
   ]
  },
  {
   "cell_type": "markdown",
   "id": "d926f37e",
   "metadata": {},
   "source": [
    "Выборка не сбалансированна: клиентов с 3-5 детьми слишком мало, чтобы делать какие-либо выводы. \n",
    "Процент различия факта возврата кредита клиентами без детей и клинтами с 1-2 детьми: "
   ]
  },
  {
   "cell_type": "code",
   "execution_count": 24,
   "id": "c409fa9e",
   "metadata": {},
   "outputs": [
    {
     "data": {
      "text/plain": [
       "1.8005777111610204"
      ]
     },
     "execution_count": 24,
     "metadata": {},
     "output_type": "execute_result"
    }
   ],
   "source": [
    "a = ch_debt.loc[1:2, 'mean'].mean() #среднее значение задолжников для людей с детьми, берем лишь для 1-2 детей, т.к. кол-во данных больше и вывод будет точнее\n",
    "b = ch_debt.loc[0, 'mean'] #среднее значение задолжников для людей без детей\n",
    "a - b #процент различия задолжников"
   ]
  },
  {
   "cell_type": "markdown",
   "id": "745dae93",
   "metadata": {},
   "source": [
    "Вероятность возвращения клиентом кредита в срок при наличие 1-2 детей уменьшается на 1,8%"
   ]
  },
  {
   "cell_type": "markdown",
   "id": "aab58c29",
   "metadata": {
    "deletable": false,
    "id": "3a6b99ec"
   },
   "source": [
    "**Вывод:** \n",
    "-  Люди без детей берут кредит чаще. Вероятность возвращения клиентом кредита в срок при наличие детей уменьшается в среднем на **1,8%**.\n",
    "\n",
    "-  Люди, которые не имеют детей, лучше всего отдают кредит, доля должников здесь составляет с **7,5%**, хуже обстоит дело с кредиторами, кто имеет одного или двух детей, здесь доля невозврата составляет соответственно **9,2% и 9,4%**. \n",
    "-  Остальные категории уже некорректно сравнивать, так как среди них очень маленькая выборка"
   ]
  },
  {
   "cell_type": "markdown",
   "id": "fe776bd7",
   "metadata": {
    "deletable": false,
    "editable": false,
    "id": "97be82ca"
   },
   "source": [
    "#### 3.2 Есть ли зависимость между семейным положением и возвратом кредита в срок?"
   ]
  },
  {
   "cell_type": "code",
   "execution_count": 25,
   "id": "72fa25ef",
   "metadata": {
    "deletable": false,
    "id": "dc3f7ee8"
   },
   "outputs": [],
   "source": [
    "#data.groupby('family_status')['family_status_id'].unique() #взаимосвязь family_status_id и family_status"
   ]
  },
  {
   "cell_type": "code",
   "execution_count": 26,
   "id": "8f98723e",
   "metadata": {},
   "outputs": [
    {
     "data": {
      "text/html": [
       "<div>\n",
       "<style scoped>\n",
       "    .dataframe tbody tr th:only-of-type {\n",
       "        vertical-align: middle;\n",
       "    }\n",
       "\n",
       "    .dataframe tbody tr th {\n",
       "        vertical-align: top;\n",
       "    }\n",
       "\n",
       "    .dataframe thead th {\n",
       "        text-align: right;\n",
       "    }\n",
       "</style>\n",
       "<table border=\"1\" class=\"dataframe\">\n",
       "  <thead>\n",
       "    <tr style=\"text-align: right;\">\n",
       "      <th></th>\n",
       "      <th>family_status</th>\n",
       "      <th>count</th>\n",
       "      <th>mean</th>\n",
       "      <th>sum</th>\n",
       "    </tr>\n",
       "  </thead>\n",
       "  <tbody>\n",
       "    <tr>\n",
       "      <th>2</th>\n",
       "      <td>вдовец / вдова</td>\n",
       "      <td>951</td>\n",
       "      <td>6.624606</td>\n",
       "      <td>63</td>\n",
       "    </tr>\n",
       "    <tr>\n",
       "      <th>1</th>\n",
       "      <td>в разводе</td>\n",
       "      <td>1189</td>\n",
       "      <td>7.064760</td>\n",
       "      <td>84</td>\n",
       "    </tr>\n",
       "    <tr>\n",
       "      <th>4</th>\n",
       "      <td>женат / замужем</td>\n",
       "      <td>12261</td>\n",
       "      <td>7.560558</td>\n",
       "      <td>927</td>\n",
       "    </tr>\n",
       "    <tr>\n",
       "      <th>3</th>\n",
       "      <td>гражданский брак</td>\n",
       "      <td>4134</td>\n",
       "      <td>9.313014</td>\n",
       "      <td>385</td>\n",
       "    </tr>\n",
       "    <tr>\n",
       "      <th>0</th>\n",
       "      <td>Не женат / не замужем</td>\n",
       "      <td>2796</td>\n",
       "      <td>9.763948</td>\n",
       "      <td>273</td>\n",
       "    </tr>\n",
       "  </tbody>\n",
       "</table>\n",
       "</div>"
      ],
      "text/plain": [
       "           family_status  count      mean  sum\n",
       "2         вдовец / вдова    951  6.624606   63\n",
       "1              в разводе   1189  7.064760   84\n",
       "4        женат / замужем  12261  7.560558  927\n",
       "3       гражданский брак   4134  9.313014  385\n",
       "0  Не женат / не замужем   2796  9.763948  273"
      ]
     },
     "execution_count": 26,
     "metadata": {},
     "output_type": "execute_result"
    }
   ],
   "source": [
    "#создаю таблицу зависимости семейного положения от возврата кредита в срок\n",
    "family_debt=data.pivot_table(index='family_status', values='debt', aggfunc=['count', 'mean', 'sum']).reset_index().droplevel(1, axis=1).sort_values('mean')\n",
    "family_debt['mean'] = family_debt['mean']*100 #перевожу среднее значение debt в проценты для удобства просмотра результатов\n",
    "family_debt #вывожу таблицу\n"
   ]
  },
  {
   "cell_type": "code",
   "execution_count": 27,
   "id": "e86e81b2",
   "metadata": {},
   "outputs": [
    {
     "data": {
      "image/png": "[encoded data removed]",
      "text/plain": [
       "<Figure size 792x288 with 1 Axes>"
      ]
     },
     "metadata": {
      "needs_background": "light"
     },
     "output_type": "display_data"
    }
   ],
   "source": [
    "fig, ax = plt.subplots(figsize=(11, 4)) #расширяю график для удобства просмотра\n",
    "sns.barplot(x=\"family_status\", y='mean',  data=family_debt, ax=ax, errwidth=0).set(title='Зависимость между семейным положением и возвратом кредита в срок');\n",
    "plt.show()"
   ]
  },
  {
   "cell_type": "markdown",
   "id": "da8a5e8e",
   "metadata": {},
   "source": [
    "Зачастую в кредите нуждаются люди в браке, но в срок возвращают чаще вдовцы и те, кто в разведе.\n",
    "Посмотрю, есть ли взаимосвязь между целью взятия кредита и семейным статусом клиента."
   ]
  },
  {
   "cell_type": "markdown",
   "id": "016e4e17",
   "metadata": {},
   "source": [
    "**Частота взятия кредита от семейного статуса и цели**"
   ]
  },
  {
   "cell_type": "code",
   "execution_count": 28,
   "id": "837209ea",
   "metadata": {
    "scrolled": true
   },
   "outputs": [
    {
     "data": {
      "text/html": [
       "<div>\n",
       "<style scoped>\n",
       "    .dataframe tbody tr th:only-of-type {\n",
       "        vertical-align: middle;\n",
       "    }\n",
       "\n",
       "    .dataframe tbody tr th {\n",
       "        vertical-align: top;\n",
       "    }\n",
       "\n",
       "    .dataframe thead tr th {\n",
       "        text-align: left;\n",
       "    }\n",
       "\n",
       "    .dataframe thead tr:last-of-type th {\n",
       "        text-align: right;\n",
       "    }\n",
       "</style>\n",
       "<table border=\"1\" class=\"dataframe\">\n",
       "  <thead>\n",
       "    <tr>\n",
       "      <th></th>\n",
       "      <th colspan=\"5\" halign=\"left\">purpose</th>\n",
       "    </tr>\n",
       "    <tr>\n",
       "      <th>family_status</th>\n",
       "      <th>Не женат / не замужем</th>\n",
       "      <th>в разводе</th>\n",
       "      <th>вдовец / вдова</th>\n",
       "      <th>гражданский брак</th>\n",
       "      <th>женат / замужем</th>\n",
       "    </tr>\n",
       "    <tr>\n",
       "      <th>purpose_category</th>\n",
       "      <th></th>\n",
       "      <th></th>\n",
       "      <th></th>\n",
       "      <th></th>\n",
       "      <th></th>\n",
       "    </tr>\n",
       "  </thead>\n",
       "  <tbody>\n",
       "    <tr>\n",
       "      <th>операции с автомобилем</th>\n",
       "      <td>635.0</td>\n",
       "      <td>279.0</td>\n",
       "      <td>218.0</td>\n",
       "      <td>430.0</td>\n",
       "      <td>2717.0</td>\n",
       "    </tr>\n",
       "    <tr>\n",
       "      <th>операции с недвижимостью</th>\n",
       "      <td>1586.0</td>\n",
       "      <td>672.0</td>\n",
       "      <td>535.0</td>\n",
       "      <td>988.0</td>\n",
       "      <td>6970.0</td>\n",
       "    </tr>\n",
       "    <tr>\n",
       "      <th>получение образования</th>\n",
       "      <td>575.0</td>\n",
       "      <td>238.0</td>\n",
       "      <td>198.0</td>\n",
       "      <td>403.0</td>\n",
       "      <td>2574.0</td>\n",
       "    </tr>\n",
       "    <tr>\n",
       "      <th>проведение свадьбы</th>\n",
       "      <td>NaN</td>\n",
       "      <td>NaN</td>\n",
       "      <td>NaN</td>\n",
       "      <td>2313.0</td>\n",
       "      <td>NaN</td>\n",
       "    </tr>\n",
       "  </tbody>\n",
       "</table>\n",
       "</div>"
      ],
      "text/plain": [
       "                                       purpose                           \\\n",
       "family_status            Не женат / не замужем в разводе вдовец / вдова   \n",
       "purpose_category                                                          \n",
       "операции с автомобилем                   635.0     279.0          218.0   \n",
       "операции с недвижимостью                1586.0     672.0          535.0   \n",
       "получение образования                    575.0     238.0          198.0   \n",
       "проведение свадьбы                         NaN       NaN            NaN   \n",
       "\n",
       "                                                           \n",
       "family_status            гражданский брак женат / замужем  \n",
       "purpose_category                                           \n",
       "операции с автомобилем              430.0          2717.0  \n",
       "операции с недвижимостью            988.0          6970.0  \n",
       "получение образования               403.0          2574.0  \n",
       "проведение свадьбы                 2313.0             NaN  "
      ]
     },
     "execution_count": 28,
     "metadata": {},
     "output_type": "execute_result"
    }
   ],
   "source": [
    "family_purpose_debt = data.groupby(['family_status','purpose_category']).agg({'purpose':'count'}).reset_index()\n",
    "family_purpose_debt\n",
    "pd.pivot_table(\n",
    "   data=family_purpose_debt,\n",
    "   index='purpose_category',\n",
    "   columns='family_status',\n",
    "   )"
   ]
  },
  {
   "cell_type": "markdown",
   "id": "e4804b8d",
   "metadata": {},
   "source": [
    "**Среднее значение возврата кредита в зависимости от семейного статуса и цели**"
   ]
  },
  {
   "cell_type": "code",
   "execution_count": 29,
   "id": "fa817b41",
   "metadata": {
    "deletable": false,
    "id": "1cef7837"
   },
   "outputs": [
    {
     "data": {
      "text/html": [
       "<div>\n",
       "<style scoped>\n",
       "    .dataframe tbody tr th:only-of-type {\n",
       "        vertical-align: middle;\n",
       "    }\n",
       "\n",
       "    .dataframe tbody tr th {\n",
       "        vertical-align: top;\n",
       "    }\n",
       "\n",
       "    .dataframe thead th {\n",
       "        text-align: right;\n",
       "    }\n",
       "</style>\n",
       "<table border=\"1\" class=\"dataframe\">\n",
       "  <thead>\n",
       "    <tr style=\"text-align: right;\">\n",
       "      <th>family_status</th>\n",
       "      <th>Не женат / не замужем</th>\n",
       "      <th>в разводе</th>\n",
       "      <th>вдовец / вдова</th>\n",
       "      <th>гражданский брак</th>\n",
       "      <th>женат / замужем</th>\n",
       "    </tr>\n",
       "    <tr>\n",
       "      <th>purpose_category</th>\n",
       "      <th></th>\n",
       "      <th></th>\n",
       "      <th></th>\n",
       "      <th></th>\n",
       "      <th></th>\n",
       "    </tr>\n",
       "  </thead>\n",
       "  <tbody>\n",
       "    <tr>\n",
       "      <th>операции с автомобилем</th>\n",
       "      <td>0.129134</td>\n",
       "      <td>0.075269</td>\n",
       "      <td>0.091743</td>\n",
       "      <td>0.118605</td>\n",
       "      <td>0.083180</td>\n",
       "    </tr>\n",
       "    <tr>\n",
       "      <th>операции с недвижимостью</th>\n",
       "      <td>0.081337</td>\n",
       "      <td>0.068452</td>\n",
       "      <td>0.052336</td>\n",
       "      <td>0.092105</td>\n",
       "      <td>0.069727</td>\n",
       "    </tr>\n",
       "    <tr>\n",
       "      <th>получение образования</th>\n",
       "      <td>0.107826</td>\n",
       "      <td>0.071429</td>\n",
       "      <td>0.075758</td>\n",
       "      <td>0.148883</td>\n",
       "      <td>0.083528</td>\n",
       "    </tr>\n",
       "    <tr>\n",
       "      <th>проведение свадьбы</th>\n",
       "      <td>NaN</td>\n",
       "      <td>NaN</td>\n",
       "      <td>NaN</td>\n",
       "      <td>0.079118</td>\n",
       "      <td>NaN</td>\n",
       "    </tr>\n",
       "  </tbody>\n",
       "</table>\n",
       "</div>"
      ],
      "text/plain": [
       "family_status             Не женат / не замужем  в разводе  вдовец / вдова  \\\n",
       "purpose_category                                                             \n",
       "операции с автомобилем                 0.129134   0.075269        0.091743   \n",
       "операции с недвижимостью               0.081337   0.068452        0.052336   \n",
       "получение образования                  0.107826   0.071429        0.075758   \n",
       "проведение свадьбы                          NaN        NaN             NaN   \n",
       "\n",
       "family_status             гражданский брак  женат / замужем  \n",
       "purpose_category                                             \n",
       "операции с автомобилем            0.118605         0.083180  \n",
       "операции с недвижимостью          0.092105         0.069727  \n",
       "получение образования             0.148883         0.083528  \n",
       "проведение свадьбы                0.079118              NaN  "
      ]
     },
     "execution_count": 29,
     "metadata": {},
     "output_type": "execute_result"
    }
   ],
   "source": [
    "pd.pivot_table(\n",
    "    data=data,\n",
    "    index='purpose_category',\n",
    "    columns='family_status',\n",
    "    values='debt',\n",
    "    aggfunc='mean')"
   ]
  },
  {
   "cell_type": "code",
   "execution_count": 30,
   "id": "871b4a80",
   "metadata": {},
   "outputs": [
    {
     "data": {
      "text/html": [
       "<div>\n",
       "<style scoped>\n",
       "    .dataframe tbody tr th:only-of-type {\n",
       "        vertical-align: middle;\n",
       "    }\n",
       "\n",
       "    .dataframe tbody tr th {\n",
       "        vertical-align: top;\n",
       "    }\n",
       "\n",
       "    .dataframe thead tr th {\n",
       "        text-align: left;\n",
       "    }\n",
       "\n",
       "    .dataframe thead tr:last-of-type th {\n",
       "        text-align: right;\n",
       "    }\n",
       "</style>\n",
       "<table border=\"1\" class=\"dataframe\">\n",
       "  <thead>\n",
       "    <tr>\n",
       "      <th></th>\n",
       "      <th colspan=\"5\" halign=\"left\">debt</th>\n",
       "    </tr>\n",
       "    <tr>\n",
       "      <th>family_status</th>\n",
       "      <th>Не женат / не замужем</th>\n",
       "      <th>в разводе</th>\n",
       "      <th>вдовец / вдова</th>\n",
       "      <th>гражданский брак</th>\n",
       "      <th>женат / замужем</th>\n",
       "    </tr>\n",
       "    <tr>\n",
       "      <th>children</th>\n",
       "      <th></th>\n",
       "      <th></th>\n",
       "      <th></th>\n",
       "      <th></th>\n",
       "      <th></th>\n",
       "    </tr>\n",
       "  </thead>\n",
       "  <tbody>\n",
       "    <tr>\n",
       "      <th>0</th>\n",
       "      <td>0.092838</td>\n",
       "      <td>0.070153</td>\n",
       "      <td>0.062574</td>\n",
       "      <td>0.083883</td>\n",
       "      <td>0.069095</td>\n",
       "    </tr>\n",
       "    <tr>\n",
       "      <th>1</th>\n",
       "      <td>0.115813</td>\n",
       "      <td>0.067308</td>\n",
       "      <td>0.090909</td>\n",
       "      <td>0.118593</td>\n",
       "      <td>0.082689</td>\n",
       "    </tr>\n",
       "    <tr>\n",
       "      <th>2</th>\n",
       "      <td>0.120000</td>\n",
       "      <td>0.086420</td>\n",
       "      <td>0.150000</td>\n",
       "      <td>0.087464</td>\n",
       "      <td>0.094586</td>\n",
       "    </tr>\n",
       "    <tr>\n",
       "      <th>3</th>\n",
       "      <td>0.125000</td>\n",
       "      <td>0.090909</td>\n",
       "      <td>0.000000</td>\n",
       "      <td>0.142857</td>\n",
       "      <td>0.068273</td>\n",
       "    </tr>\n",
       "    <tr>\n",
       "      <th>4</th>\n",
       "      <td>0.500000</td>\n",
       "      <td>0.000000</td>\n",
       "      <td>0.000000</td>\n",
       "      <td>0.000000</td>\n",
       "      <td>0.103448</td>\n",
       "    </tr>\n",
       "    <tr>\n",
       "      <th>5</th>\n",
       "      <td>NaN</td>\n",
       "      <td>NaN</td>\n",
       "      <td>NaN</td>\n",
       "      <td>0.000000</td>\n",
       "      <td>0.000000</td>\n",
       "    </tr>\n",
       "  </tbody>\n",
       "</table>\n",
       "</div>"
      ],
      "text/plain": [
       "                               debt                                            \\\n",
       "family_status Не женат / не замужем в разводе вдовец / вдова гражданский брак   \n",
       "children                                                                        \n",
       "0                          0.092838  0.070153       0.062574         0.083883   \n",
       "1                          0.115813  0.067308       0.090909         0.118593   \n",
       "2                          0.120000  0.086420       0.150000         0.087464   \n",
       "3                          0.125000  0.090909       0.000000         0.142857   \n",
       "4                          0.500000  0.000000       0.000000         0.000000   \n",
       "5                               NaN       NaN            NaN         0.000000   \n",
       "\n",
       "                               \n",
       "family_status женат / замужем  \n",
       "children                       \n",
       "0                    0.069095  \n",
       "1                    0.082689  \n",
       "2                    0.094586  \n",
       "3                    0.068273  \n",
       "4                    0.103448  \n",
       "5                    0.000000  "
      ]
     },
     "execution_count": 30,
     "metadata": {},
     "output_type": "execute_result"
    }
   ],
   "source": [
    "family_children = data.groupby(['family_status','children']).agg({'debt':'mean'}).reset_index()\n",
    "family_children\n",
    "pd.pivot_table(\n",
    "   data=family_children,\n",
    "   index='children',\n",
    "   columns='family_status',\n",
    "   )"
   ]
  },
  {
   "cell_type": "code",
   "execution_count": 31,
   "id": "63fc6184",
   "metadata": {},
   "outputs": [
    {
     "name": "stdout",
     "output_type": "stream",
     "text": [
      "процент количества вдовцов в выборке 4.4583001265763444\n",
      "процент количествa людей в разводе в выборке 5.574047161408279\n"
     ]
    }
   ],
   "source": [
    "widowers = family_debt.loc[2, 'count'] #количество вдовцов в выборке\n",
    "divorcee = family_debt.loc[1, 'count'] #количество людей в разводе в выборке\n",
    "all_people = family_debt.loc[:, 'count'].sum() #общее кол-во клиентов\n",
    "pr_widowers = widowers/all_people*100 #процент количества вдовцов в выборке\n",
    "pr_divorcee = divorcee/all_people*100 #процент количествa людей в разводе в выборке\n",
    "print('процент количества вдовцов в выборке', pr_widowers)\n",
    "print('процент количествa людей в разводе в выборке', pr_divorcee)"
   ]
  },
  {
   "cell_type": "markdown",
   "id": "99eefe30",
   "metadata": {},
   "source": [
    "**Вывод** \n",
    "-  В среднем вдовцы, люди в разводе и женатые отдают кредит лучше - доля невозврата соответственно **6,6%, 7% и 7.5%** \n",
    "Люди, находящиеся в гражданском браке и неженатые отдают кредит хуже - доля невозврата соответственно **9.3% и 9.8%** \n",
    "\n",
    "-  Если же рассмотреть взаимосвязь семейного статуса и количества имеющихся у клиентов детей, - заметно, что отсутствие детей улучшает показатели возврата кредита. К примеру, доля невозврата женатых людей, как написано выше, - **7,5%** , доля невозврата женатых людей без детей уже **6.9%**.\n",
    "\n",
    "-  Люди, вне зависимости от семейного положения, чаще берут кредит на операции с недвижимостью и операции с автомобилем. \n",
    "За исключением тех, кто находится в гражданском браке: для них основная цель кредита - свадьба, и кредит на свадьбу они возвращают лучше, чем по другим целям. \n",
    "\n",
    "-  **Показатели по вдовцам и людям в разводе могут быть неточными, так как их доля в выборке составляет 4.5% и 5.6% соответственно.**  \n"
   ]
  },
  {
   "cell_type": "markdown",
   "id": "811d499b",
   "metadata": {
    "deletable": false,
    "editable": false,
    "id": "1e8b2fca"
   },
   "source": [
    "#### 3.3 Есть ли зависимость между уровнем дохода и возвратом кредита в срок?"
   ]
  },
  {
   "cell_type": "code",
   "execution_count": 32,
   "id": "24da7976",
   "metadata": {
    "deletable": false,
    "id": "cd7e3720"
   },
   "outputs": [
    {
     "data": {
      "text/html": [
       "<div>\n",
       "<style scoped>\n",
       "    .dataframe tbody tr th:only-of-type {\n",
       "        vertical-align: middle;\n",
       "    }\n",
       "\n",
       "    .dataframe tbody tr th {\n",
       "        vertical-align: top;\n",
       "    }\n",
       "\n",
       "    .dataframe thead th {\n",
       "        text-align: right;\n",
       "    }\n",
       "</style>\n",
       "<table border=\"1\" class=\"dataframe\">\n",
       "  <thead>\n",
       "    <tr style=\"text-align: right;\">\n",
       "      <th></th>\n",
       "      <th>total_income_category</th>\n",
       "      <th>count</th>\n",
       "      <th>mean</th>\n",
       "      <th>sum</th>\n",
       "    </tr>\n",
       "  </thead>\n",
       "  <tbody>\n",
       "    <tr>\n",
       "      <th>3</th>\n",
       "      <td>D</td>\n",
       "      <td>349</td>\n",
       "      <td>6.017192</td>\n",
       "      <td>21</td>\n",
       "    </tr>\n",
       "    <tr>\n",
       "      <th>1</th>\n",
       "      <td>B</td>\n",
       "      <td>5014</td>\n",
       "      <td>7.060231</td>\n",
       "      <td>354</td>\n",
       "    </tr>\n",
       "    <tr>\n",
       "      <th>0</th>\n",
       "      <td>A</td>\n",
       "      <td>25</td>\n",
       "      <td>8.000000</td>\n",
       "      <td>2</td>\n",
       "    </tr>\n",
       "    <tr>\n",
       "      <th>2</th>\n",
       "      <td>C</td>\n",
       "      <td>15921</td>\n",
       "      <td>8.498210</td>\n",
       "      <td>1353</td>\n",
       "    </tr>\n",
       "    <tr>\n",
       "      <th>4</th>\n",
       "      <td>E</td>\n",
       "      <td>22</td>\n",
       "      <td>9.090909</td>\n",
       "      <td>2</td>\n",
       "    </tr>\n",
       "  </tbody>\n",
       "</table>\n",
       "</div>"
      ],
      "text/plain": [
       "  total_income_category  count      mean   sum\n",
       "3                     D    349  6.017192    21\n",
       "1                     B   5014  7.060231   354\n",
       "0                     A     25  8.000000     2\n",
       "2                     C  15921  8.498210  1353\n",
       "4                     E     22  9.090909     2"
      ]
     },
     "execution_count": 32,
     "metadata": {},
     "output_type": "execute_result"
    }
   ],
   "source": [
    "income_debt=data.pivot_table(index='total_income_category', values='debt', aggfunc=['count', 'mean', 'sum']).reset_index().droplevel(1, axis=1).sort_values('mean')\n",
    "income_debt['mean'] = income_debt['mean']*100 #перевожу среднее значение debt в проценты для удобства просмотра результатов\n",
    "income_debt #вывожу таблицу"
   ]
  },
  {
   "cell_type": "markdown",
   "id": "705ec6c8",
   "metadata": {},
   "source": [
    "0–30000 — 'E';\n",
    "30001–50000 — 'D';\n",
    "50001–200000 — 'C';\n",
    "200001–1000000 — 'B';\n",
    "1000001 и выше — 'A'."
   ]
  },
  {
   "cell_type": "code",
   "execution_count": 38,
   "id": "aed289dc",
   "metadata": {},
   "outputs": [
    {
     "data": {
      "image/png": "[encoded data removed]",
      "text/plain": [
       "<Figure size 432x288 with 1 Axes>"
      ]
     },
     "metadata": {
      "needs_background": "light"
     },
     "output_type": "display_data"
    }
   ],
   "source": [
    "sns.barplot(x='total_income_category', y='mean',  data = income_debt).set(title='Зависимость между уровнем дохода и возвратом кредита в срок');\n",
    "plt.show()"
   ]
  },
  {
   "cell_type": "code",
   "execution_count": 37,
   "id": "e2039919",
   "metadata": {},
   "outputs": [
    {
     "name": "stdout",
     "output_type": "stream",
     "text": [
      "процент количества людей категории А в выборке 0.11720031878486709\n",
      "процент количества людей категории D в выборке 1.6361164502367447\n",
      "процент количества людей категории E в выборке 0.10313628053068304\n",
      "процент количества людей категории C в выборке 74.63785101495476\n"
     ]
    }
   ],
   "source": [
    "category_a = income_debt.loc[0, 'count'] #количество людей категории А в выборке\n",
    "category_d = income_debt.loc[3, 'count'] #количество людей категории D в выборке\n",
    "category_e = income_debt.loc[4, 'count'] #количество людей категории E в выборке\n",
    "category_c = income_debt.loc[2, 'count'] #количество людей категории С в выборке\n",
    "pr_category_a = category_a/all_people*100 #процент количества людей категории А в выборке\n",
    "pr_category_d = category_d/all_people*100 #процент количества людей категории D в выборке\n",
    "pr_category_e = category_e/all_people*100 #процент количества людей категории E в выборке\n",
    "pr_category_c = category_c/all_people*100 #процент количества людей категории C в выборке\n",
    "print('процент количества людей категории А в выборке', pr_category_a)\n",
    "print('процент количества людей категории D в выборке', pr_category_d)\n",
    "print('процент количества людей категории E в выборке', pr_category_e)\n",
    "print('процент количества людей категории C в выборке', pr_category_c)"
   ]
  },
  {
   "cell_type": "markdown",
   "id": "59bb20f7",
   "metadata": {
    "deletable": false,
    "id": "e8593def"
   },
   "source": [
    "**Вывод:** \n",
    "-  Клиентов с категориями A,D,E - слишком мало, чтобы делать какие-то выводы, процент количества людей данных категорий в выборке соответсвенно: **0.1%, 1.6%, 0.1%**. \n",
    "\n",
    "-  Если сравнивать только клиентов категории В и С, лучше возвращают кредит люди с доходом категории В (диапозоне 200001–1000000) - доля невозврата **7.1%**. \n",
    "\n",
    "-  Большинство клиентов банка  - люди с доходом категорий 'C'(в диапозоне 50001–200000), это 74% всех клиентов, доля невозврата среди них **8.5%**."
   ]
  },
  {
   "cell_type": "markdown",
   "id": "7c638b92",
   "metadata": {
    "deletable": false,
    "editable": false,
    "id": "99ecbd1f"
   },
   "source": [
    "#### 3.4 Как разные цели кредита влияют на его возврат в срок?"
   ]
  },
  {
   "cell_type": "code",
   "execution_count": 40,
   "id": "a86c2765",
   "metadata": {
    "deletable": false,
    "id": "2b687290"
   },
   "outputs": [
    {
     "data": {
      "text/html": [
       "<div>\n",
       "<style scoped>\n",
       "    .dataframe tbody tr th:only-of-type {\n",
       "        vertical-align: middle;\n",
       "    }\n",
       "\n",
       "    .dataframe tbody tr th {\n",
       "        vertical-align: top;\n",
       "    }\n",
       "\n",
       "    .dataframe thead th {\n",
       "        text-align: right;\n",
       "    }\n",
       "</style>\n",
       "<table border=\"1\" class=\"dataframe\">\n",
       "  <thead>\n",
       "    <tr style=\"text-align: right;\">\n",
       "      <th></th>\n",
       "      <th>purpose_category</th>\n",
       "      <th>count</th>\n",
       "      <th>mean</th>\n",
       "      <th>sum</th>\n",
       "    </tr>\n",
       "  </thead>\n",
       "  <tbody>\n",
       "    <tr>\n",
       "      <th>1</th>\n",
       "      <td>операции с недвижимостью</td>\n",
       "      <td>10751</td>\n",
       "      <td>7.255139</td>\n",
       "      <td>780</td>\n",
       "    </tr>\n",
       "    <tr>\n",
       "      <th>3</th>\n",
       "      <td>проведение свадьбы</td>\n",
       "      <td>2313</td>\n",
       "      <td>7.911803</td>\n",
       "      <td>183</td>\n",
       "    </tr>\n",
       "    <tr>\n",
       "      <th>2</th>\n",
       "      <td>получение образования</td>\n",
       "      <td>3988</td>\n",
       "      <td>9.252758</td>\n",
       "      <td>369</td>\n",
       "    </tr>\n",
       "    <tr>\n",
       "      <th>0</th>\n",
       "      <td>операции с автомобилем</td>\n",
       "      <td>4279</td>\n",
       "      <td>9.347978</td>\n",
       "      <td>400</td>\n",
       "    </tr>\n",
       "  </tbody>\n",
       "</table>\n",
       "</div>"
      ],
      "text/plain": [
       "           purpose_category  count      mean  sum\n",
       "1  операции с недвижимостью  10751  7.255139  780\n",
       "3        проведение свадьбы   2313  7.911803  183\n",
       "2     получение образования   3988  9.252758  369\n",
       "0    операции с автомобилем   4279  9.347978  400"
      ]
     },
     "execution_count": 40,
     "metadata": {},
     "output_type": "execute_result"
    }
   ],
   "source": [
    "purpose_debt=data.pivot_table(index='purpose_category', values='debt', aggfunc=['count', 'mean', 'sum']).reset_index().droplevel(1, axis=1).sort_values('mean')\n",
    "purpose_debt['mean'] = purpose_debt['mean']*100 #перевожу среднее значение debt в проценты для удобства просмотра результатов\n",
    "purpose_debt"
   ]
  },
  {
   "cell_type": "code",
   "execution_count": 45,
   "id": "886770fb",
   "metadata": {
    "deletable": false,
    "id": "b4bb2ce6"
   },
   "outputs": [
    {
     "data": {
      "image/png": "[encoded data removed]",
      "text/plain": [
       "<Figure size 720x432 with 1 Axes>"
      ]
     },
     "metadata": {
      "needs_background": "light"
     },
     "output_type": "display_data"
    }
   ],
   "source": [
    "fig, ax = plt.subplots(figsize=(10, 6)) #расширяю график для удобства просмотра\n",
    "\n",
    "sns.barplot(x='purpose_category', y='mean',  data = purpose_debt).set(title='Зависимость цели кредита на его возврат в срок');\n",
    "plt.show()"
   ]
  },
  {
   "cell_type": "markdown",
   "id": "cb48a429",
   "metadata": {},
   "source": [
    "**Вывод:** Клиенты, цель которых являются операции с недвижимостью - возвращают кредит лучше остальных: доля невозврата **7,3%**.\n",
    "Также хорошие показатели у клиентов, которые берут кредит на свадьбу, доля невозврата **7,9%**.\n",
    "Хуже с такими целями как: получание образования и операции с автомобилем, доля невозврата по **9.3%**.\n",
    "\n",
    "Вероятно, кредит на операции с недвижимостью возвращают лучше, так как требования к заемщикам выше. В свою очередь заемщики, возможно, относятся к данной цели с большей ответсвенностью из-за крупной суммы кредита."
   ]
  },
  {
   "cell_type": "markdown",
   "id": "51fad0ec",
   "metadata": {
    "deletable": false,
    "editable": false,
    "id": "09c3ac4c"
   },
   "source": [
    "#### 3.5 Приведите возможные причины появления пропусков в исходных данных."
   ]
  },
  {
   "cell_type": "markdown",
   "id": "3976b308",
   "metadata": {
    "deletable": false,
    "id": "9da2ceda"
   },
   "source": [
    "*Ответ:* Пропуски в столбце с доходами вероятно из-за того, что при определенных условиях банк выдает кредит без подтверждения дохода. \n",
    "Так как количество пропусков в столбце трудового стажа совпадает с пропусками в столбце доходов, ситауция аналогичная: если нет необходимости подтвержать доход, то и информация по трудовому стажу не имеет значения. \n",
    "\n",
    "\n",
    "Но скорее всего ошибка носит технический характер. Чтобы узнать точную причину - лучше обратиться к ответсвенным за исходные данные. "
   ]
  },
  {
   "cell_type": "markdown",
   "id": "81e75373",
   "metadata": {
    "deletable": false,
    "editable": false,
    "id": "7b0487d6"
   },
   "source": [
    "#### 3.6 Объясните, почему заполнить пропуски медианным значением — лучшее решение для количественных переменных."
   ]
  },
  {
   "cell_type": "markdown",
   "id": "e45e370a",
   "metadata": {
    "deletable": false,
    "id": "7ecf2b8e"
   },
   "source": [
    "*Ответ:* Распределение Парето - является степенным распределением вероятностей, которое используется при описании многих типов наблюдаемых явлений. Принцип Парето или \"правило 80-20\", утверждающий, что 80% результатов обусловлены 20% причин. \n",
    "\n",
    "Соблюдение принципа 80/20 очень часто встречается в самых разных областях. Например, во многие времена во многих сообществах оказывалось, что 20 % людей обладают 80 % капитала, в бизнесе зачастую 20 % покупателей или постоянных клиентов приносят 80 % прибыли. Но в этих утверждениях фундаментальными являются не приведённые числовые значения, а сам факт их существенного различия, конкретные цифры степени неравномерности могут быть любыми.\n",
    "\n",
    "Так как распределение количественных переменных обычно неравномерно, то среднее значение - покажет ложный результат, именно поэтому нужно брать медианное значение. "
   ]
  },
  {
   "cell_type": "markdown",
   "id": "b25d0e3f",
   "metadata": {
    "deletable": false,
    "editable": false,
    "id": "6db5255a"
   },
   "source": [
    "### Шаг 4: общий вывод."
   ]
  },
  {
   "cell_type": "markdown",
   "id": "0e79a1d7",
   "metadata": {
    "deletable": false,
    "id": "bad65432"
   },
   "source": [
    "-  Клиенты без детей в среднем на 1,8% чаще возвращают кредит в срок.\n",
    "-  Клиенты в браке в среднем на 2% чаще возвращают кредит в срок, чем неженатые и находящиеся в гражданском браке.\n",
    "-  Клиенты с доходом категории В (в диапазоне 200001–1000000) в среднем чаще возвращают кредит в срок - доля невозврата среди них 7.1%\n",
    "-  Клиенты, цель которых являются операции с недвижимостью - в среднем возвращают кредит лучше остальных: доля невозврата 7,3%\n",
    "\n",
    "\n",
    "- В данных присутствует большое количество пропусков в столбцах с доходом и трудовым стажем, что влияет на точность конечных результатов анализа. Также в столбце с трудовым стажем присутствуют аномально большие значения у безработных и пенсионеров. Следует обратить внимание на качество сбора этих данных.  \n",
    "- Можно было бы добиться более точных результатов анализа, если бы для различных 'редких' категорий клиентов (клиенты с 3-5 детьми, клиенты с доходами категорий A,D,E; клиенты в разводе/вдовцы) - было бы специально подобранно примерно одинаковое количество данных для выборки в сравнении с более \"популярными\" категориями. "
   ]
  },
  {
   "cell_type": "code",
   "execution_count": null,
   "id": "69afec80-8c24-4b3a-bf22-bbb75510b7d6",
   "metadata": {},
   "outputs": [],
   "source": []
  }
 ],
 "metadata": {
  "ExecuteTimeLog": [
   {
    "duration": 475,
    "start_time": "2023-02-09T07:27:04.760Z"
   },
   {
    "duration": 24,
    "start_time": "2023-02-09T07:27:05.237Z"
   },
   {
    "duration": 14,
    "start_time": "2023-02-09T07:27:05.264Z"
   },
   {
    "duration": 10,
    "start_time": "2023-02-09T07:27:05.293Z"
   },
   {
    "duration": 41,
    "start_time": "2023-02-09T07:27:05.305Z"
   },
   {
    "duration": 4,
    "start_time": "2023-02-09T07:27:05.348Z"
   },
   {
    "duration": 19,
    "start_time": "2023-02-09T07:27:05.354Z"
   },
   {
    "duration": 18,
    "start_time": "2023-02-09T07:27:05.375Z"
   },
   {
    "duration": 8,
    "start_time": "2023-02-09T07:27:05.395Z"
   },
   {
    "duration": 11,
    "start_time": "2023-02-09T07:27:05.406Z"
   },
   {
    "duration": 47,
    "start_time": "2023-02-09T07:27:05.418Z"
   },
   {
    "duration": 34,
    "start_time": "2023-02-09T07:27:05.467Z"
   },
   {
    "duration": 5,
    "start_time": "2023-02-09T07:27:05.503Z"
   },
   {
    "duration": 18,
    "start_time": "2023-02-09T07:27:05.510Z"
   },
   {
    "duration": 27,
    "start_time": "2023-02-09T07:27:05.530Z"
   },
   {
    "duration": 54,
    "start_time": "2023-02-09T07:27:05.559Z"
   },
   {
    "duration": 4,
    "start_time": "2023-02-09T07:27:05.616Z"
   },
   {
    "duration": 30,
    "start_time": "2023-02-09T07:27:05.623Z"
   },
   {
    "duration": 7,
    "start_time": "2023-02-09T07:27:05.656Z"
   },
   {
    "duration": 10,
    "start_time": "2023-02-09T07:27:05.666Z"
   },
   {
    "duration": 33,
    "start_time": "2023-02-09T07:27:05.678Z"
   },
   {
    "duration": 2,
    "start_time": "2023-02-09T07:27:05.714Z"
   },
   {
    "duration": 14,
    "start_time": "2023-02-09T07:27:05.718Z"
   },
   {
    "duration": 5,
    "start_time": "2023-02-09T07:27:05.734Z"
   },
   {
    "duration": 5,
    "start_time": "2023-02-09T07:27:05.741Z"
   },
   {
    "duration": 588,
    "start_time": "2023-02-17T17:59:10.478Z"
   },
   {
    "duration": 22,
    "start_time": "2023-02-17T17:59:11.068Z"
   },
   {
    "duration": 15,
    "start_time": "2023-02-17T17:59:11.091Z"
   },
   {
    "duration": 9,
    "start_time": "2023-02-17T17:59:11.108Z"
   },
   {
    "duration": 43,
    "start_time": "2023-02-17T17:59:11.118Z"
   },
   {
    "duration": 3,
    "start_time": "2023-02-17T17:59:11.163Z"
   },
   {
    "duration": 12,
    "start_time": "2023-02-17T17:59:11.168Z"
   },
   {
    "duration": 21,
    "start_time": "2023-02-17T17:59:11.181Z"
   },
   {
    "duration": 9,
    "start_time": "2023-02-17T17:59:11.203Z"
   },
   {
    "duration": 4,
    "start_time": "2023-02-17T17:59:11.215Z"
   },
   {
    "duration": 36,
    "start_time": "2023-02-17T17:59:11.221Z"
   },
   {
    "duration": 10,
    "start_time": "2023-02-17T17:59:11.259Z"
   },
   {
    "duration": 5,
    "start_time": "2023-02-17T17:59:11.300Z"
   },
   {
    "duration": 13,
    "start_time": "2023-02-17T17:59:11.306Z"
   },
   {
    "duration": 20,
    "start_time": "2023-02-17T17:59:11.321Z"
   },
   {
    "duration": 19,
    "start_time": "2023-02-17T17:59:11.342Z"
   },
   {
    "duration": 4,
    "start_time": "2023-02-17T17:59:11.363Z"
   },
   {
    "duration": 34,
    "start_time": "2023-02-17T17:59:11.368Z"
   },
   {
    "duration": 9,
    "start_time": "2023-02-17T17:59:11.404Z"
   },
   {
    "duration": 4,
    "start_time": "2023-02-17T17:59:11.415Z"
   },
   {
    "duration": 13,
    "start_time": "2023-02-17T17:59:11.420Z"
   },
   {
    "duration": 19,
    "start_time": "2023-02-17T17:59:11.435Z"
   },
   {
    "duration": 3,
    "start_time": "2023-02-17T17:59:11.455Z"
   },
   {
    "duration": 6,
    "start_time": "2023-02-17T17:59:11.459Z"
   },
   {
    "duration": 5,
    "start_time": "2023-02-17T17:59:11.466Z"
   },
   {
    "duration": 11,
    "start_time": "2023-02-17T17:59:38.386Z"
   },
   {
    "duration": 9,
    "start_time": "2023-02-17T18:01:15.985Z"
   },
   {
    "duration": 13,
    "start_time": "2023-02-17T18:01:42.979Z"
   },
   {
    "duration": 83,
    "start_time": "2023-02-17T18:17:22.418Z"
   },
   {
    "duration": 70,
    "start_time": "2023-02-17T18:17:30.242Z"
   },
   {
    "duration": 701,
    "start_time": "2023-02-17T18:17:36.141Z"
   },
   {
    "duration": 87,
    "start_time": "2023-02-17T18:18:00.952Z"
   },
   {
    "duration": 290,
    "start_time": "2023-02-17T18:18:19.647Z"
   },
   {
    "duration": 288,
    "start_time": "2023-02-17T18:18:41.482Z"
   },
   {
    "duration": 30,
    "start_time": "2023-02-17T18:19:07.317Z"
   },
   {
    "duration": 14,
    "start_time": "2023-02-17T18:19:53.208Z"
   },
   {
    "duration": 12,
    "start_time": "2023-02-17T18:20:15.187Z"
   },
   {
    "duration": 16,
    "start_time": "2023-02-17T18:23:35.541Z"
   },
   {
    "duration": 16,
    "start_time": "2023-02-17T18:23:38.496Z"
   },
   {
    "duration": 84,
    "start_time": "2023-02-17T18:24:02.321Z"
   },
   {
    "duration": 17,
    "start_time": "2023-02-17T18:24:17.436Z"
   },
   {
    "duration": 13,
    "start_time": "2023-02-17T18:24:51.308Z"
   },
   {
    "duration": 13,
    "start_time": "2023-02-17T18:25:15.041Z"
   },
   {
    "duration": 13,
    "start_time": "2023-02-17T18:25:21.332Z"
   },
   {
    "duration": 13,
    "start_time": "2023-02-17T18:25:24.679Z"
   },
   {
    "duration": 19,
    "start_time": "2023-02-17T18:25:29.586Z"
   },
   {
    "duration": 14,
    "start_time": "2023-02-17T18:25:35.156Z"
   },
   {
    "duration": 863,
    "start_time": "2023-02-17T18:26:13.985Z"
   },
   {
    "duration": 73,
    "start_time": "2023-02-17T18:27:53.816Z"
   },
   {
    "duration": 1152,
    "start_time": "2023-02-17T18:28:24.981Z"
   },
   {
    "duration": 17,
    "start_time": "2023-02-17T18:28:35.384Z"
   },
   {
    "duration": 18,
    "start_time": "2023-02-17T18:28:41.624Z"
   },
   {
    "duration": 30,
    "start_time": "2023-02-17T18:28:48.455Z"
   },
   {
    "duration": 18,
    "start_time": "2023-02-17T18:29:12.309Z"
   },
   {
    "duration": 13,
    "start_time": "2023-02-17T18:29:18.322Z"
   },
   {
    "duration": 15,
    "start_time": "2023-02-17T18:29:40.189Z"
   },
   {
    "duration": 1089,
    "start_time": "2023-02-17T18:29:55.041Z"
   },
   {
    "duration": 19,
    "start_time": "2023-02-17T18:30:20.491Z"
   },
   {
    "duration": 11,
    "start_time": "2023-02-17T18:30:30.220Z"
   },
   {
    "duration": 10,
    "start_time": "2023-02-17T18:30:34.286Z"
   },
   {
    "duration": 9,
    "start_time": "2023-02-17T18:30:36.884Z"
   },
   {
    "duration": 16,
    "start_time": "2023-02-17T18:30:44.926Z"
   },
   {
    "duration": 20,
    "start_time": "2023-02-17T18:31:02.248Z"
   },
   {
    "duration": 15,
    "start_time": "2023-02-17T18:31:30.654Z"
   },
   {
    "duration": 14,
    "start_time": "2023-02-17T18:31:40.079Z"
   },
   {
    "duration": 15,
    "start_time": "2023-02-17T18:31:46.781Z"
   },
   {
    "duration": 16,
    "start_time": "2023-02-17T18:32:05.377Z"
   },
   {
    "duration": 14,
    "start_time": "2023-02-17T18:32:13.820Z"
   },
   {
    "duration": 15,
    "start_time": "2023-02-17T18:32:31.950Z"
   },
   {
    "duration": 17,
    "start_time": "2023-02-17T18:32:37.381Z"
   },
   {
    "duration": 890,
    "start_time": "2023-02-17T18:33:05.632Z"
   },
   {
    "duration": 867,
    "start_time": "2023-02-17T18:33:16.116Z"
   },
   {
    "duration": 10,
    "start_time": "2023-02-17T18:33:24.394Z"
   },
   {
    "duration": 15,
    "start_time": "2023-02-17T18:33:36.782Z"
   },
   {
    "duration": 16,
    "start_time": "2023-02-17T18:33:54.003Z"
   },
   {
    "duration": 277,
    "start_time": "2023-02-17T18:35:45.614Z"
   },
   {
    "duration": 1113,
    "start_time": "2023-02-17T18:36:02.024Z"
   },
   {
    "duration": 16,
    "start_time": "2023-02-17T18:36:12.930Z"
   },
   {
    "duration": 845,
    "start_time": "2023-02-17T18:36:18.508Z"
   },
   {
    "duration": 11,
    "start_time": "2023-02-17T18:38:41.436Z"
   },
   {
    "duration": 10,
    "start_time": "2023-02-17T18:38:49.938Z"
   },
   {
    "duration": 7,
    "start_time": "2023-02-17T18:39:03.072Z"
   },
   {
    "duration": 13,
    "start_time": "2023-02-17T18:39:10.270Z"
   },
   {
    "duration": 113,
    "start_time": "2023-02-17T18:39:21.910Z"
   },
   {
    "duration": 111,
    "start_time": "2023-02-17T18:39:38.268Z"
   },
   {
    "duration": 109,
    "start_time": "2023-02-17T18:39:53.090Z"
   },
   {
    "duration": 116,
    "start_time": "2023-02-17T18:41:10.962Z"
   },
   {
    "duration": 99,
    "start_time": "2023-02-17T18:42:31.720Z"
   },
   {
    "duration": 108,
    "start_time": "2023-02-17T18:42:40.779Z"
   },
   {
    "duration": 110,
    "start_time": "2023-02-17T18:44:35.897Z"
   },
   {
    "duration": 888,
    "start_time": "2023-02-17T18:48:28.576Z"
   },
   {
    "duration": 333,
    "start_time": "2023-02-17T18:49:03.304Z"
   },
   {
    "duration": 352,
    "start_time": "2023-02-17T18:50:50.985Z"
   },
   {
    "duration": 349,
    "start_time": "2023-02-17T18:51:06.169Z"
   },
   {
    "duration": 386,
    "start_time": "2023-02-17T18:51:10.242Z"
   },
   {
    "duration": 360,
    "start_time": "2023-02-17T18:51:18.441Z"
   },
   {
    "duration": 39,
    "start_time": "2023-02-17T18:52:48.335Z"
   },
   {
    "duration": 352,
    "start_time": "2023-02-17T18:53:47.270Z"
   },
   {
    "duration": 489,
    "start_time": "2023-02-17T18:54:03.856Z"
   },
   {
    "duration": 357,
    "start_time": "2023-02-17T18:54:14.680Z"
   },
   {
    "duration": 338,
    "start_time": "2023-02-17T18:54:31.628Z"
   },
   {
    "duration": 423,
    "start_time": "2023-02-17T18:54:43.226Z"
   },
   {
    "duration": 334,
    "start_time": "2023-02-17T18:54:48.936Z"
   },
   {
    "duration": 397,
    "start_time": "2023-02-17T18:55:11.602Z"
   },
   {
    "duration": 374,
    "start_time": "2023-02-17T18:55:28.572Z"
   },
   {
    "duration": 356,
    "start_time": "2023-02-17T18:56:41.504Z"
   },
   {
    "duration": 343,
    "start_time": "2023-02-17T18:57:47.390Z"
   },
   {
    "duration": 352,
    "start_time": "2023-02-17T18:57:59.974Z"
   },
   {
    "duration": 115,
    "start_time": "2023-02-17T18:59:20.620Z"
   },
   {
    "duration": 476,
    "start_time": "2023-02-17T18:59:39.438Z"
   },
   {
    "duration": 140,
    "start_time": "2023-02-17T19:00:09.626Z"
   },
   {
    "duration": 129,
    "start_time": "2023-02-17T19:00:46.797Z"
   },
   {
    "duration": 120,
    "start_time": "2023-02-17T19:01:20.216Z"
   },
   {
    "duration": 141,
    "start_time": "2023-02-17T19:01:32.028Z"
   },
   {
    "duration": 16,
    "start_time": "2023-02-17T19:02:07.967Z"
   },
   {
    "duration": 121,
    "start_time": "2023-02-17T19:02:15.438Z"
   },
   {
    "duration": 121,
    "start_time": "2023-02-17T19:03:08.007Z"
   },
   {
    "duration": 129,
    "start_time": "2023-02-17T19:04:18.745Z"
   },
   {
    "duration": 126,
    "start_time": "2023-02-17T19:05:08.312Z"
   },
   {
    "duration": 130,
    "start_time": "2023-02-17T19:08:48.965Z"
   },
   {
    "duration": 7,
    "start_time": "2023-02-17T19:08:59.014Z"
   },
   {
    "duration": 123,
    "start_time": "2023-02-17T19:15:19.919Z"
   },
   {
    "duration": 510,
    "start_time": "2023-02-17T19:20:41.342Z"
   },
   {
    "duration": 125,
    "start_time": "2023-02-17T19:21:04.227Z"
   },
   {
    "duration": 130,
    "start_time": "2023-02-17T19:21:11.582Z"
   },
   {
    "duration": 225,
    "start_time": "2023-02-17T19:22:01.424Z"
   },
   {
    "duration": 122,
    "start_time": "2023-02-17T19:23:37.852Z"
   },
   {
    "duration": 125,
    "start_time": "2023-02-17T19:23:51.952Z"
   },
   {
    "duration": 121,
    "start_time": "2023-02-17T19:24:09.740Z"
   },
   {
    "duration": 119,
    "start_time": "2023-02-17T19:27:00.727Z"
   },
   {
    "duration": 111,
    "start_time": "2023-02-17T19:27:13.697Z"
   },
   {
    "duration": 128,
    "start_time": "2023-02-17T19:27:18.416Z"
   },
   {
    "duration": 140,
    "start_time": "2023-02-17T19:28:10.677Z"
   },
   {
    "duration": 223,
    "start_time": "2023-02-17T19:28:19.321Z"
   },
   {
    "duration": 14,
    "start_time": "2023-02-17T19:29:06.184Z"
   },
   {
    "duration": 13,
    "start_time": "2023-02-17T19:29:14.390Z"
   },
   {
    "duration": 14,
    "start_time": "2023-02-17T19:29:27.884Z"
   },
   {
    "duration": 15,
    "start_time": "2023-02-17T19:31:01.022Z"
   },
   {
    "duration": 70,
    "start_time": "2023-02-17T19:31:24.878Z"
   },
   {
    "duration": 138,
    "start_time": "2023-02-17T19:31:30.452Z"
   },
   {
    "duration": 141,
    "start_time": "2023-02-17T19:32:29.648Z"
   },
   {
    "duration": 153,
    "start_time": "2023-02-17T19:32:44.326Z"
   },
   {
    "duration": 136,
    "start_time": "2023-02-17T19:32:55.310Z"
   },
   {
    "duration": 130,
    "start_time": "2023-02-17T19:33:06.775Z"
   },
   {
    "duration": 129,
    "start_time": "2023-02-17T19:33:12.223Z"
   },
   {
    "duration": 7,
    "start_time": "2023-02-17T19:33:18.326Z"
   },
   {
    "duration": 125,
    "start_time": "2023-02-17T19:34:57.281Z"
   },
   {
    "duration": 164,
    "start_time": "2023-02-17T19:37:45.694Z"
   },
   {
    "duration": 127,
    "start_time": "2023-02-17T19:37:57.490Z"
   },
   {
    "duration": 125,
    "start_time": "2023-02-17T19:38:16.594Z"
   },
   {
    "duration": 784,
    "start_time": "2023-02-17T19:38:35.637Z"
   },
   {
    "duration": 1238,
    "start_time": "2023-02-17T19:38:41.295Z"
   },
   {
    "duration": 116,
    "start_time": "2023-02-17T19:38:48.484Z"
   },
   {
    "duration": 168,
    "start_time": "2023-02-17T19:38:57.537Z"
   },
   {
    "duration": 17,
    "start_time": "2023-02-17T19:41:01.976Z"
   },
   {
    "duration": 140,
    "start_time": "2023-02-17T19:41:06.624Z"
   },
   {
    "duration": 8,
    "start_time": "2023-02-17T19:45:07.078Z"
   },
   {
    "duration": 132,
    "start_time": "2023-02-17T19:45:11.216Z"
   },
   {
    "duration": 11,
    "start_time": "2023-02-17T19:45:18.771Z"
   },
   {
    "duration": 7,
    "start_time": "2023-02-17T19:45:24.056Z"
   },
   {
    "duration": 116,
    "start_time": "2023-02-17T19:48:37.523Z"
   },
   {
    "duration": 16,
    "start_time": "2023-02-17T19:57:36.384Z"
   },
   {
    "duration": 12,
    "start_time": "2023-02-17T20:11:21.765Z"
   },
   {
    "duration": 10,
    "start_time": "2023-02-17T20:11:33.807Z"
   },
   {
    "duration": 10,
    "start_time": "2023-02-17T20:11:44.984Z"
   },
   {
    "duration": 154,
    "start_time": "2023-02-17T20:14:04.395Z"
   },
   {
    "duration": 145,
    "start_time": "2023-02-17T20:14:11.689Z"
   },
   {
    "duration": 127,
    "start_time": "2023-02-17T20:14:18.839Z"
   },
   {
    "duration": 138,
    "start_time": "2023-02-17T20:14:29.574Z"
   },
   {
    "duration": 221,
    "start_time": "2023-02-17T20:14:52.019Z"
   },
   {
    "duration": 131,
    "start_time": "2023-02-17T20:15:01.439Z"
   },
   {
    "duration": 200,
    "start_time": "2023-02-17T20:15:06.439Z"
   },
   {
    "duration": 117,
    "start_time": "2023-02-17T20:15:17.983Z"
   },
   {
    "duration": 10,
    "start_time": "2023-02-17T20:16:03.577Z"
   },
   {
    "duration": 10,
    "start_time": "2023-02-17T20:16:13.520Z"
   },
   {
    "duration": 12,
    "start_time": "2023-02-17T20:16:54.017Z"
   },
   {
    "duration": 130,
    "start_time": "2023-02-17T20:17:24.282Z"
   },
   {
    "duration": 208,
    "start_time": "2023-02-17T20:17:33.690Z"
   },
   {
    "duration": 249,
    "start_time": "2023-02-17T20:17:57.678Z"
   },
   {
    "duration": 9,
    "start_time": "2023-02-17T20:18:53.687Z"
   },
   {
    "duration": 9,
    "start_time": "2023-02-17T20:19:02.297Z"
   },
   {
    "duration": 246,
    "start_time": "2023-02-17T20:19:12.106Z"
   },
   {
    "duration": 131,
    "start_time": "2023-02-17T20:20:55.087Z"
   },
   {
    "duration": 127,
    "start_time": "2023-02-17T20:21:00.003Z"
   },
   {
    "duration": 7,
    "start_time": "2023-02-17T20:23:09.540Z"
   },
   {
    "duration": 11,
    "start_time": "2023-02-17T20:23:39.528Z"
   },
   {
    "duration": 1120,
    "start_time": "2023-02-17T20:26:14.584Z"
   },
   {
    "duration": 13,
    "start_time": "2023-02-17T20:26:38.295Z"
   },
   {
    "duration": 14,
    "start_time": "2023-02-17T20:26:42.840Z"
   },
   {
    "duration": 12,
    "start_time": "2023-02-17T20:26:53.587Z"
   },
   {
    "duration": 439,
    "start_time": "2023-02-17T20:27:04.938Z"
   },
   {
    "duration": 21,
    "start_time": "2023-02-17T20:27:05.379Z"
   },
   {
    "duration": 27,
    "start_time": "2023-02-17T20:27:05.401Z"
   },
   {
    "duration": 13,
    "start_time": "2023-02-17T20:27:05.430Z"
   },
   {
    "duration": 31,
    "start_time": "2023-02-17T20:27:05.444Z"
   },
   {
    "duration": 3,
    "start_time": "2023-02-17T20:27:05.477Z"
   },
   {
    "duration": 18,
    "start_time": "2023-02-17T20:27:05.481Z"
   },
   {
    "duration": 6,
    "start_time": "2023-02-17T20:27:05.501Z"
   },
   {
    "duration": 9,
    "start_time": "2023-02-17T20:27:05.509Z"
   },
   {
    "duration": 4,
    "start_time": "2023-02-17T20:27:05.522Z"
   },
   {
    "duration": 32,
    "start_time": "2023-02-17T20:27:05.528Z"
   },
   {
    "duration": 9,
    "start_time": "2023-02-17T20:27:05.561Z"
   },
   {
    "duration": 4,
    "start_time": "2023-02-17T20:27:05.572Z"
   },
   {
    "duration": 11,
    "start_time": "2023-02-17T20:27:05.599Z"
   },
   {
    "duration": 26,
    "start_time": "2023-02-17T20:27:05.611Z"
   },
   {
    "duration": 16,
    "start_time": "2023-02-17T20:27:05.639Z"
   },
   {
    "duration": 3,
    "start_time": "2023-02-17T20:27:05.656Z"
   },
   {
    "duration": 15,
    "start_time": "2023-02-17T20:27:05.661Z"
   },
   {
    "duration": 21,
    "start_time": "2023-02-17T20:27:05.678Z"
   },
   {
    "duration": 4,
    "start_time": "2023-02-17T20:27:05.700Z"
   },
   {
    "duration": 14,
    "start_time": "2023-02-17T20:27:05.705Z"
   },
   {
    "duration": 2,
    "start_time": "2023-02-17T20:27:05.721Z"
   },
   {
    "duration": 12,
    "start_time": "2023-02-17T20:27:05.724Z"
   },
   {
    "duration": 903,
    "start_time": "2023-02-17T20:27:05.738Z"
   },
   {
    "duration": 6,
    "start_time": "2023-02-17T20:27:06.642Z"
   },
   {
    "duration": 13,
    "start_time": "2023-02-17T20:27:06.650Z"
   },
   {
    "duration": 7,
    "start_time": "2023-02-17T20:27:06.664Z"
   },
   {
    "duration": 7,
    "start_time": "2023-02-17T20:27:06.673Z"
   },
   {
    "duration": 14,
    "start_time": "2023-02-17T20:27:06.682Z"
   },
   {
    "duration": 97,
    "start_time": "2023-02-17T20:27:17.318Z"
   },
   {
    "duration": 14,
    "start_time": "2023-02-17T20:28:05.504Z"
   },
   {
    "duration": 13,
    "start_time": "2023-02-17T20:28:14.218Z"
   },
   {
    "duration": 11,
    "start_time": "2023-02-17T20:28:20.392Z"
   },
   {
    "duration": 131,
    "start_time": "2023-02-17T20:28:25.022Z"
   },
   {
    "duration": 6,
    "start_time": "2023-02-17T20:28:27.543Z"
   },
   {
    "duration": 9,
    "start_time": "2023-02-17T20:28:30.491Z"
   },
   {
    "duration": 12,
    "start_time": "2023-02-17T20:28:55.673Z"
   },
   {
    "duration": 13,
    "start_time": "2023-02-17T20:29:39.602Z"
   },
   {
    "duration": 14,
    "start_time": "2023-02-17T20:29:46.030Z"
   },
   {
    "duration": 114,
    "start_time": "2023-02-17T20:29:49.042Z"
   },
   {
    "duration": 6,
    "start_time": "2023-02-17T20:29:51.445Z"
   },
   {
    "duration": 10,
    "start_time": "2023-02-17T20:29:54.258Z"
   },
   {
    "duration": 9,
    "start_time": "2023-02-17T20:30:04.473Z"
   },
   {
    "duration": 12,
    "start_time": "2023-02-17T20:30:14.842Z"
   },
   {
    "duration": 123,
    "start_time": "2023-02-17T20:30:17.884Z"
   },
   {
    "duration": 7,
    "start_time": "2023-02-17T20:30:20.520Z"
   },
   {
    "duration": 9,
    "start_time": "2023-02-17T20:30:23.689Z"
   },
   {
    "duration": 10,
    "start_time": "2023-02-17T20:30:29.498Z"
   },
   {
    "duration": 438,
    "start_time": "2023-02-17T20:30:40.048Z"
   },
   {
    "duration": 22,
    "start_time": "2023-02-17T20:30:40.488Z"
   },
   {
    "duration": 16,
    "start_time": "2023-02-17T20:30:40.512Z"
   },
   {
    "duration": 10,
    "start_time": "2023-02-17T20:30:40.530Z"
   },
   {
    "duration": 58,
    "start_time": "2023-02-17T20:30:40.542Z"
   },
   {
    "duration": 4,
    "start_time": "2023-02-17T20:30:40.602Z"
   },
   {
    "duration": 15,
    "start_time": "2023-02-17T20:30:40.608Z"
   },
   {
    "duration": 5,
    "start_time": "2023-02-17T20:30:40.625Z"
   },
   {
    "duration": 9,
    "start_time": "2023-02-17T20:30:40.632Z"
   },
   {
    "duration": 4,
    "start_time": "2023-02-17T20:30:40.646Z"
   },
   {
    "duration": 60,
    "start_time": "2023-02-17T20:30:40.652Z"
   },
   {
    "duration": 8,
    "start_time": "2023-02-17T20:30:40.714Z"
   },
   {
    "duration": 5,
    "start_time": "2023-02-17T20:30:40.723Z"
   },
   {
    "duration": 13,
    "start_time": "2023-02-17T20:30:40.730Z"
   },
   {
    "duration": 22,
    "start_time": "2023-02-17T20:30:40.745Z"
   },
   {
    "duration": 38,
    "start_time": "2023-02-17T20:30:40.769Z"
   },
   {
    "duration": 4,
    "start_time": "2023-02-17T20:30:40.809Z"
   },
   {
    "duration": 13,
    "start_time": "2023-02-17T20:30:40.815Z"
   },
   {
    "duration": 7,
    "start_time": "2023-02-17T20:30:40.830Z"
   },
   {
    "duration": 5,
    "start_time": "2023-02-17T20:30:40.839Z"
   },
   {
    "duration": 11,
    "start_time": "2023-02-17T20:30:40.845Z"
   },
   {
    "duration": 5,
    "start_time": "2023-02-17T20:30:40.857Z"
   },
   {
    "duration": 37,
    "start_time": "2023-02-17T20:30:40.864Z"
   },
   {
    "duration": 829,
    "start_time": "2023-02-17T20:30:40.902Z"
   },
   {
    "duration": 5,
    "start_time": "2023-02-17T20:30:41.733Z"
   },
   {
    "duration": 13,
    "start_time": "2023-02-17T20:30:41.740Z"
   },
   {
    "duration": 6,
    "start_time": "2023-02-17T20:30:41.755Z"
   },
   {
    "duration": 4,
    "start_time": "2023-02-17T20:30:41.764Z"
   },
   {
    "duration": 6,
    "start_time": "2023-02-17T20:30:41.769Z"
   },
   {
    "duration": 91,
    "start_time": "2023-02-17T20:30:50.090Z"
   },
   {
    "duration": 424,
    "start_time": "2023-02-17T20:31:05.156Z"
   },
   {
    "duration": 25,
    "start_time": "2023-02-17T20:31:05.582Z"
   },
   {
    "duration": 16,
    "start_time": "2023-02-17T20:31:05.609Z"
   },
   {
    "duration": 10,
    "start_time": "2023-02-17T20:31:05.627Z"
   },
   {
    "duration": 34,
    "start_time": "2023-02-17T20:31:05.638Z"
   },
   {
    "duration": 26,
    "start_time": "2023-02-17T20:31:05.674Z"
   },
   {
    "duration": 19,
    "start_time": "2023-02-17T20:31:05.702Z"
   },
   {
    "duration": 5,
    "start_time": "2023-02-17T20:31:05.722Z"
   },
   {
    "duration": 12,
    "start_time": "2023-02-17T20:31:05.729Z"
   },
   {
    "duration": 5,
    "start_time": "2023-02-17T20:31:05.745Z"
   },
   {
    "duration": 34,
    "start_time": "2023-02-17T20:31:05.751Z"
   },
   {
    "duration": 21,
    "start_time": "2023-02-17T20:31:05.787Z"
   },
   {
    "duration": 10,
    "start_time": "2023-02-17T20:31:05.809Z"
   },
   {
    "duration": 14,
    "start_time": "2023-02-17T20:31:05.821Z"
   },
   {
    "duration": 19,
    "start_time": "2023-02-17T20:31:05.837Z"
   },
   {
    "duration": 16,
    "start_time": "2023-02-17T20:31:05.857Z"
   },
   {
    "duration": 24,
    "start_time": "2023-02-17T20:31:05.875Z"
   },
   {
    "duration": 10,
    "start_time": "2023-02-17T20:31:05.900Z"
   },
   {
    "duration": 8,
    "start_time": "2023-02-17T20:31:05.912Z"
   },
   {
    "duration": 4,
    "start_time": "2023-02-17T20:31:05.921Z"
   },
   {
    "duration": 10,
    "start_time": "2023-02-17T20:31:05.927Z"
   },
   {
    "duration": 2,
    "start_time": "2023-02-17T20:31:05.939Z"
   },
   {
    "duration": 28,
    "start_time": "2023-02-17T20:31:05.943Z"
   },
   {
    "duration": 883,
    "start_time": "2023-02-17T20:31:05.973Z"
   },
   {
    "duration": 6,
    "start_time": "2023-02-17T20:31:06.857Z"
   },
   {
    "duration": 4,
    "start_time": "2023-02-17T20:31:06.865Z"
   },
   {
    "duration": 5,
    "start_time": "2023-02-17T20:31:06.870Z"
   },
   {
    "duration": 3,
    "start_time": "2023-02-17T20:31:06.878Z"
   },
   {
    "duration": 17,
    "start_time": "2023-02-17T20:31:06.883Z"
   },
   {
    "duration": 109,
    "start_time": "2023-02-17T20:31:12.988Z"
   },
   {
    "duration": 454,
    "start_time": "2023-02-17T20:31:21.809Z"
   },
   {
    "duration": 21,
    "start_time": "2023-02-17T20:31:22.265Z"
   },
   {
    "duration": 15,
    "start_time": "2023-02-17T20:31:22.287Z"
   },
   {
    "duration": 10,
    "start_time": "2023-02-17T20:31:22.303Z"
   },
   {
    "duration": 32,
    "start_time": "2023-02-17T20:31:22.314Z"
   },
   {
    "duration": 3,
    "start_time": "2023-02-17T20:31:22.348Z"
   },
   {
    "duration": 16,
    "start_time": "2023-02-17T20:31:22.353Z"
   },
   {
    "duration": 9,
    "start_time": "2023-02-17T20:31:22.371Z"
   },
   {
    "duration": 23,
    "start_time": "2023-02-17T20:31:22.382Z"
   },
   {
    "duration": 4,
    "start_time": "2023-02-17T20:31:22.408Z"
   },
   {
    "duration": 33,
    "start_time": "2023-02-17T20:31:22.414Z"
   },
   {
    "duration": 9,
    "start_time": "2023-02-17T20:31:22.449Z"
   },
   {
    "duration": 4,
    "start_time": "2023-02-17T20:31:22.460Z"
   },
   {
    "duration": 38,
    "start_time": "2023-02-17T20:31:22.466Z"
   },
   {
    "duration": 23,
    "start_time": "2023-02-17T20:31:22.505Z"
   },
   {
    "duration": 18,
    "start_time": "2023-02-17T20:31:22.529Z"
   },
   {
    "duration": 4,
    "start_time": "2023-02-17T20:31:22.549Z"
   },
   {
    "duration": 13,
    "start_time": "2023-02-17T20:31:22.555Z"
   },
   {
    "duration": 32,
    "start_time": "2023-02-17T20:31:22.570Z"
   },
   {
    "duration": 3,
    "start_time": "2023-02-17T20:31:22.603Z"
   },
   {
    "duration": 11,
    "start_time": "2023-02-17T20:31:22.608Z"
   },
   {
    "duration": 6,
    "start_time": "2023-02-17T20:31:22.620Z"
   },
   {
    "duration": 14,
    "start_time": "2023-02-17T20:31:22.627Z"
   },
   {
    "duration": 889,
    "start_time": "2023-02-17T20:31:22.643Z"
   },
   {
    "duration": 7,
    "start_time": "2023-02-17T20:31:23.534Z"
   },
   {
    "duration": 9,
    "start_time": "2023-02-17T20:31:23.543Z"
   },
   {
    "duration": 4,
    "start_time": "2023-02-17T20:31:23.554Z"
   },
   {
    "duration": 4,
    "start_time": "2023-02-17T20:31:23.561Z"
   },
   {
    "duration": 4,
    "start_time": "2023-02-17T20:31:23.566Z"
   },
   {
    "duration": 98,
    "start_time": "2023-02-17T20:31:48.618Z"
   },
   {
    "duration": 483,
    "start_time": "2023-02-17T20:31:55.691Z"
   },
   {
    "duration": 21,
    "start_time": "2023-02-17T20:31:56.176Z"
   },
   {
    "duration": 13,
    "start_time": "2023-02-17T20:31:56.199Z"
   },
   {
    "duration": 9,
    "start_time": "2023-02-17T20:31:56.214Z"
   },
   {
    "duration": 42,
    "start_time": "2023-02-17T20:31:56.224Z"
   },
   {
    "duration": 3,
    "start_time": "2023-02-17T20:31:56.268Z"
   },
   {
    "duration": 13,
    "start_time": "2023-02-17T20:31:56.273Z"
   },
   {
    "duration": 5,
    "start_time": "2023-02-17T20:31:56.299Z"
   },
   {
    "duration": 9,
    "start_time": "2023-02-17T20:31:56.305Z"
   },
   {
    "duration": 7,
    "start_time": "2023-02-17T20:31:56.318Z"
   },
   {
    "duration": 35,
    "start_time": "2023-02-17T20:31:56.326Z"
   },
   {
    "duration": 10,
    "start_time": "2023-02-17T20:31:56.363Z"
   },
   {
    "duration": 26,
    "start_time": "2023-02-17T20:31:56.375Z"
   },
   {
    "duration": 13,
    "start_time": "2023-02-17T20:31:56.402Z"
   },
   {
    "duration": 18,
    "start_time": "2023-02-17T20:31:56.417Z"
   },
   {
    "duration": 18,
    "start_time": "2023-02-17T20:31:56.437Z"
   },
   {
    "duration": 4,
    "start_time": "2023-02-17T20:31:56.456Z"
   },
   {
    "duration": 38,
    "start_time": "2023-02-17T20:31:56.461Z"
   },
   {
    "duration": 6,
    "start_time": "2023-02-17T20:31:56.501Z"
   },
   {
    "duration": 4,
    "start_time": "2023-02-17T20:31:56.508Z"
   },
   {
    "duration": 14,
    "start_time": "2023-02-17T20:31:56.513Z"
   },
   {
    "duration": 5,
    "start_time": "2023-02-17T20:31:56.528Z"
   },
   {
    "duration": 13,
    "start_time": "2023-02-17T20:31:56.535Z"
   },
   {
    "duration": 897,
    "start_time": "2023-02-17T20:31:56.550Z"
   },
   {
    "duration": 7,
    "start_time": "2023-02-17T20:31:57.449Z"
   },
   {
    "duration": 7,
    "start_time": "2023-02-17T20:31:57.457Z"
   },
   {
    "duration": 6,
    "start_time": "2023-02-17T20:31:57.466Z"
   },
   {
    "duration": 4,
    "start_time": "2023-02-17T20:31:57.475Z"
   },
   {
    "duration": 19,
    "start_time": "2023-02-17T20:31:57.480Z"
   },
   {
    "duration": 12,
    "start_time": "2023-02-17T20:35:37.555Z"
   },
   {
    "duration": 121,
    "start_time": "2023-02-17T20:35:41.789Z"
   },
   {
    "duration": 7,
    "start_time": "2023-02-17T20:35:46.089Z"
   },
   {
    "duration": 8,
    "start_time": "2023-02-17T20:55:52.351Z"
   },
   {
    "duration": 122,
    "start_time": "2023-02-17T20:55:58.030Z"
   },
   {
    "duration": 6,
    "start_time": "2023-02-17T20:56:11.571Z"
   },
   {
    "duration": 106,
    "start_time": "2023-02-17T20:58:58.111Z"
   },
   {
    "duration": 15,
    "start_time": "2023-02-17T20:59:07.286Z"
   },
   {
    "duration": 6,
    "start_time": "2023-02-17T20:59:12.320Z"
   },
   {
    "duration": 16,
    "start_time": "2023-02-17T20:59:36.536Z"
   },
   {
    "duration": 7,
    "start_time": "2023-02-17T20:59:52.953Z"
   },
   {
    "duration": 6,
    "start_time": "2023-02-17T21:00:08.561Z"
   },
   {
    "duration": 6,
    "start_time": "2023-02-17T21:01:02.392Z"
   },
   {
    "duration": 6,
    "start_time": "2023-02-17T21:01:18.979Z"
   },
   {
    "duration": 6,
    "start_time": "2023-02-17T21:01:49.574Z"
   },
   {
    "duration": 7,
    "start_time": "2023-02-17T21:02:12.616Z"
   },
   {
    "duration": 9,
    "start_time": "2023-02-17T21:02:44.169Z"
   },
   {
    "duration": 11,
    "start_time": "2023-02-17T21:02:55.177Z"
   },
   {
    "duration": 8,
    "start_time": "2023-02-17T21:03:49.184Z"
   },
   {
    "duration": 7,
    "start_time": "2023-02-17T21:04:54.935Z"
   },
   {
    "duration": 8,
    "start_time": "2023-02-17T21:05:03.785Z"
   },
   {
    "duration": 7,
    "start_time": "2023-02-17T21:08:59.761Z"
   },
   {
    "duration": 8,
    "start_time": "2023-02-17T21:10:28.325Z"
   },
   {
    "duration": 7,
    "start_time": "2023-02-17T21:12:30.181Z"
   },
   {
    "duration": 458,
    "start_time": "2023-02-17T21:17:48.330Z"
   },
   {
    "duration": 24,
    "start_time": "2023-02-17T21:17:48.790Z"
   },
   {
    "duration": 17,
    "start_time": "2023-02-17T21:17:48.817Z"
   },
   {
    "duration": 9,
    "start_time": "2023-02-17T21:17:48.837Z"
   },
   {
    "duration": 60,
    "start_time": "2023-02-17T21:17:48.847Z"
   },
   {
    "duration": 3,
    "start_time": "2023-02-17T21:17:48.909Z"
   },
   {
    "duration": 19,
    "start_time": "2023-02-17T21:17:48.913Z"
   },
   {
    "duration": 27,
    "start_time": "2023-02-17T21:17:48.934Z"
   },
   {
    "duration": 8,
    "start_time": "2023-02-17T21:17:48.963Z"
   },
   {
    "duration": 4,
    "start_time": "2023-02-17T21:17:48.974Z"
   },
   {
    "duration": 32,
    "start_time": "2023-02-17T21:17:48.979Z"
   },
   {
    "duration": 9,
    "start_time": "2023-02-17T21:17:49.013Z"
   },
   {
    "duration": 8,
    "start_time": "2023-02-17T21:17:49.024Z"
   },
   {
    "duration": 21,
    "start_time": "2023-02-17T21:17:49.034Z"
   },
   {
    "duration": 30,
    "start_time": "2023-02-17T21:17:49.057Z"
   },
   {
    "duration": 31,
    "start_time": "2023-02-17T21:17:49.089Z"
   },
   {
    "duration": 5,
    "start_time": "2023-02-17T21:17:49.122Z"
   },
   {
    "duration": 18,
    "start_time": "2023-02-17T21:17:49.129Z"
   },
   {
    "duration": 16,
    "start_time": "2023-02-17T21:17:49.148Z"
   },
   {
    "duration": 3,
    "start_time": "2023-02-17T21:17:49.166Z"
   },
   {
    "duration": 31,
    "start_time": "2023-02-17T21:17:49.171Z"
   },
   {
    "duration": 2,
    "start_time": "2023-02-17T21:17:49.204Z"
   },
   {
    "duration": 16,
    "start_time": "2023-02-17T21:17:49.207Z"
   },
   {
    "duration": 870,
    "start_time": "2023-02-17T21:17:49.225Z"
   },
   {
    "duration": 8,
    "start_time": "2023-02-17T21:17:50.099Z"
   },
   {
    "duration": 23,
    "start_time": "2023-02-17T21:17:50.108Z"
   },
   {
    "duration": 9,
    "start_time": "2023-02-17T21:17:50.133Z"
   },
   {
    "duration": 16,
    "start_time": "2023-02-17T21:17:50.145Z"
   },
   {
    "duration": 217,
    "start_time": "2023-02-17T21:18:30.506Z"
   },
   {
    "duration": 119,
    "start_time": "2023-02-17T21:18:37.766Z"
   },
   {
    "duration": 144,
    "start_time": "2023-02-17T21:18:44.231Z"
   },
   {
    "duration": 129,
    "start_time": "2023-02-17T21:19:02.370Z"
   },
   {
    "duration": 121,
    "start_time": "2023-02-17T21:19:06.914Z"
   },
   {
    "duration": 110,
    "start_time": "2023-02-17T21:19:16.136Z"
   },
   {
    "duration": 114,
    "start_time": "2023-02-17T21:19:18.916Z"
   },
   {
    "duration": 5,
    "start_time": "2023-02-17T21:23:27.754Z"
   },
   {
    "duration": 4,
    "start_time": "2023-02-17T21:23:41.322Z"
   },
   {
    "duration": 4,
    "start_time": "2023-02-17T21:24:33.248Z"
   },
   {
    "duration": 417,
    "start_time": "2023-02-17T21:24:51.858Z"
   },
   {
    "duration": 22,
    "start_time": "2023-02-17T21:24:52.277Z"
   },
   {
    "duration": 14,
    "start_time": "2023-02-17T21:24:52.301Z"
   },
   {
    "duration": 10,
    "start_time": "2023-02-17T21:24:52.317Z"
   },
   {
    "duration": 42,
    "start_time": "2023-02-17T21:24:52.328Z"
   },
   {
    "duration": 5,
    "start_time": "2023-02-17T21:24:52.372Z"
   },
   {
    "duration": 29,
    "start_time": "2023-02-17T21:24:52.378Z"
   },
   {
    "duration": 4,
    "start_time": "2023-02-17T21:24:52.409Z"
   },
   {
    "duration": 21,
    "start_time": "2023-02-17T21:24:52.414Z"
   },
   {
    "duration": 4,
    "start_time": "2023-02-17T21:24:52.438Z"
   },
   {
    "duration": 36,
    "start_time": "2023-02-17T21:24:52.443Z"
   },
   {
    "duration": 15,
    "start_time": "2023-02-17T21:24:52.481Z"
   },
   {
    "duration": 7,
    "start_time": "2023-02-17T21:24:52.499Z"
   },
   {
    "duration": 16,
    "start_time": "2023-02-17T21:24:52.508Z"
   },
   {
    "duration": 28,
    "start_time": "2023-02-17T21:24:52.526Z"
   },
   {
    "duration": 17,
    "start_time": "2023-02-17T21:24:52.555Z"
   },
   {
    "duration": 4,
    "start_time": "2023-02-17T21:24:52.573Z"
   },
   {
    "duration": 21,
    "start_time": "2023-02-17T21:24:52.578Z"
   },
   {
    "duration": 8,
    "start_time": "2023-02-17T21:24:52.600Z"
   },
   {
    "duration": 5,
    "start_time": "2023-02-17T21:24:52.610Z"
   },
   {
    "duration": 12,
    "start_time": "2023-02-17T21:24:52.617Z"
   },
   {
    "duration": 3,
    "start_time": "2023-02-17T21:24:52.630Z"
   },
   {
    "duration": 14,
    "start_time": "2023-02-17T21:24:52.634Z"
   },
   {
    "duration": 874,
    "start_time": "2023-02-17T21:24:52.649Z"
   },
   {
    "duration": 7,
    "start_time": "2023-02-17T21:24:53.525Z"
   },
   {
    "duration": 6,
    "start_time": "2023-02-17T21:24:53.534Z"
   },
   {
    "duration": 4,
    "start_time": "2023-02-17T21:24:53.541Z"
   },
   {
    "duration": 12,
    "start_time": "2023-02-17T21:24:53.548Z"
   },
   {
    "duration": 8,
    "start_time": "2023-02-17T21:25:13.987Z"
   },
   {
    "duration": 4,
    "start_time": "2023-02-17T21:25:44.917Z"
   },
   {
    "duration": 5,
    "start_time": "2023-02-17T21:26:19.668Z"
   },
   {
    "duration": 488,
    "start_time": "2023-02-17T21:26:35.921Z"
   },
   {
    "duration": 22,
    "start_time": "2023-02-17T21:26:36.411Z"
   },
   {
    "duration": 14,
    "start_time": "2023-02-17T21:26:36.435Z"
   },
   {
    "duration": 10,
    "start_time": "2023-02-17T21:26:36.450Z"
   },
   {
    "duration": 56,
    "start_time": "2023-02-17T21:26:36.461Z"
   },
   {
    "duration": 5,
    "start_time": "2023-02-17T21:26:36.518Z"
   },
   {
    "duration": 16,
    "start_time": "2023-02-17T21:26:36.524Z"
   },
   {
    "duration": 5,
    "start_time": "2023-02-17T21:26:36.542Z"
   },
   {
    "duration": 13,
    "start_time": "2023-02-17T21:26:36.548Z"
   },
   {
    "duration": 5,
    "start_time": "2023-02-17T21:26:36.566Z"
   },
   {
    "duration": 59,
    "start_time": "2023-02-17T21:26:36.572Z"
   },
   {
    "duration": 9,
    "start_time": "2023-02-17T21:26:36.633Z"
   },
   {
    "duration": 5,
    "start_time": "2023-02-17T21:26:36.643Z"
   },
   {
    "duration": 17,
    "start_time": "2023-02-17T21:26:36.650Z"
   },
   {
    "duration": 43,
    "start_time": "2023-02-17T21:26:36.669Z"
   },
   {
    "duration": 21,
    "start_time": "2023-02-17T21:26:36.713Z"
   },
   {
    "duration": 3,
    "start_time": "2023-02-17T21:26:36.736Z"
   },
   {
    "duration": 17,
    "start_time": "2023-02-17T21:26:36.741Z"
   },
   {
    "duration": 6,
    "start_time": "2023-02-17T21:26:36.759Z"
   },
   {
    "duration": 5,
    "start_time": "2023-02-17T21:26:36.766Z"
   },
   {
    "duration": 34,
    "start_time": "2023-02-17T21:26:36.772Z"
   },
   {
    "duration": 14,
    "start_time": "2023-02-17T21:26:36.808Z"
   },
   {
    "duration": 15,
    "start_time": "2023-02-17T21:26:36.823Z"
   },
   {
    "duration": 871,
    "start_time": "2023-02-17T21:26:36.839Z"
   },
   {
    "duration": 9,
    "start_time": "2023-02-17T21:26:37.712Z"
   },
   {
    "duration": 5,
    "start_time": "2023-02-17T21:26:37.722Z"
   },
   {
    "duration": 4,
    "start_time": "2023-02-17T21:26:37.729Z"
   },
   {
    "duration": 3,
    "start_time": "2023-02-17T21:26:37.737Z"
   },
   {
    "duration": 25,
    "start_time": "2023-02-17T21:26:45.390Z"
   },
   {
    "duration": 19,
    "start_time": "2023-02-17T21:27:04.641Z"
   },
   {
    "duration": 8,
    "start_time": "2023-02-17T21:27:28.042Z"
   },
   {
    "duration": 4,
    "start_time": "2023-02-17T21:27:43.874Z"
   },
   {
    "duration": 7,
    "start_time": "2023-02-17T21:27:51.754Z"
   },
   {
    "duration": 7,
    "start_time": "2023-02-17T21:28:01.306Z"
   },
   {
    "duration": 105,
    "start_time": "2023-02-17T21:29:12.852Z"
   },
   {
    "duration": 4,
    "start_time": "2023-02-17T21:29:28.203Z"
   },
   {
    "duration": 5,
    "start_time": "2023-02-17T21:29:34.681Z"
   },
   {
    "duration": 4,
    "start_time": "2023-02-17T21:29:48.050Z"
   },
   {
    "duration": 4,
    "start_time": "2023-02-17T21:30:40.835Z"
   },
   {
    "duration": 8,
    "start_time": "2023-02-17T21:31:06.202Z"
   },
   {
    "duration": 4,
    "start_time": "2023-02-17T21:31:12.098Z"
   },
   {
    "duration": 4,
    "start_time": "2023-02-17T21:31:20.756Z"
   },
   {
    "duration": 9,
    "start_time": "2023-02-17T21:31:24.236Z"
   },
   {
    "duration": 9,
    "start_time": "2023-02-17T21:36:12.670Z"
   },
   {
    "duration": 7,
    "start_time": "2023-02-17T21:36:16.311Z"
   },
   {
    "duration": 8,
    "start_time": "2023-02-17T21:36:29.077Z"
   },
   {
    "duration": 11,
    "start_time": "2023-02-17T21:36:37.735Z"
   },
   {
    "duration": 75,
    "start_time": "2023-02-17T21:41:15.394Z"
   },
   {
    "duration": 10,
    "start_time": "2023-02-17T21:41:20.706Z"
   },
   {
    "duration": 13,
    "start_time": "2023-02-17T21:41:29.834Z"
   },
   {
    "duration": 11,
    "start_time": "2023-02-17T21:41:42.472Z"
   },
   {
    "duration": 12,
    "start_time": "2023-02-17T21:41:49.914Z"
   },
   {
    "duration": 7,
    "start_time": "2023-02-17T21:43:05.906Z"
   },
   {
    "duration": 12,
    "start_time": "2023-02-17T21:43:13.097Z"
   },
   {
    "duration": 13,
    "start_time": "2023-02-17T21:45:09.744Z"
   },
   {
    "duration": 12,
    "start_time": "2023-02-17T21:45:17.100Z"
   },
   {
    "duration": 14,
    "start_time": "2023-02-17T21:45:44.530Z"
   },
   {
    "duration": 8,
    "start_time": "2023-02-17T21:47:02.044Z"
   },
   {
    "duration": 10,
    "start_time": "2023-02-17T21:47:09.700Z"
   },
   {
    "duration": 11,
    "start_time": "2023-02-17T21:47:14.146Z"
   },
   {
    "duration": 130,
    "start_time": "2023-02-17T21:48:07.178Z"
   },
   {
    "duration": 13,
    "start_time": "2023-02-17T21:48:19.629Z"
   },
   {
    "duration": 18,
    "start_time": "2023-02-17T21:49:29.220Z"
   },
   {
    "duration": 304,
    "start_time": "2023-02-17T21:49:41.172Z"
   },
   {
    "duration": 14,
    "start_time": "2023-02-17T21:55:35.322Z"
   },
   {
    "duration": 16,
    "start_time": "2023-02-17T21:55:42.648Z"
   },
   {
    "duration": 14,
    "start_time": "2023-02-17T21:55:50.602Z"
   },
   {
    "duration": 14,
    "start_time": "2023-02-17T21:56:14.174Z"
   },
   {
    "duration": 23,
    "start_time": "2023-02-17T21:56:27.176Z"
   },
   {
    "duration": 477,
    "start_time": "2023-02-17T21:56:48.677Z"
   },
   {
    "duration": 27,
    "start_time": "2023-02-17T21:56:49.156Z"
   },
   {
    "duration": 19,
    "start_time": "2023-02-17T21:56:49.184Z"
   },
   {
    "duration": 11,
    "start_time": "2023-02-17T21:56:49.205Z"
   },
   {
    "duration": 34,
    "start_time": "2023-02-17T21:56:49.218Z"
   },
   {
    "duration": 4,
    "start_time": "2023-02-17T21:56:49.254Z"
   },
   {
    "duration": 11,
    "start_time": "2023-02-17T21:56:49.259Z"
   },
   {
    "duration": 29,
    "start_time": "2023-02-17T21:56:49.272Z"
   },
   {
    "duration": 11,
    "start_time": "2023-02-17T21:56:49.302Z"
   },
   {
    "duration": 4,
    "start_time": "2023-02-17T21:56:49.316Z"
   },
   {
    "duration": 33,
    "start_time": "2023-02-17T21:56:49.322Z"
   },
   {
    "duration": 9,
    "start_time": "2023-02-17T21:56:49.357Z"
   },
   {
    "duration": 4,
    "start_time": "2023-02-17T21:56:49.367Z"
   },
   {
    "duration": 31,
    "start_time": "2023-02-17T21:56:49.373Z"
   },
   {
    "duration": 27,
    "start_time": "2023-02-17T21:56:49.406Z"
   },
   {
    "duration": 26,
    "start_time": "2023-02-17T21:56:49.434Z"
   },
   {
    "duration": 3,
    "start_time": "2023-02-17T21:56:49.462Z"
   },
   {
    "duration": 12,
    "start_time": "2023-02-17T21:56:49.467Z"
   },
   {
    "duration": 5,
    "start_time": "2023-02-17T21:56:49.480Z"
   },
   {
    "duration": 15,
    "start_time": "2023-02-17T21:56:49.486Z"
   },
   {
    "duration": 10,
    "start_time": "2023-02-17T21:56:49.503Z"
   },
   {
    "duration": 4,
    "start_time": "2023-02-17T21:56:49.515Z"
   },
   {
    "duration": 13,
    "start_time": "2023-02-17T21:56:49.521Z"
   },
   {
    "duration": 877,
    "start_time": "2023-02-17T21:56:49.536Z"
   },
   {
    "duration": 105,
    "start_time": "2023-02-17T21:56:50.415Z"
   },
   {
    "duration": 0,
    "start_time": "2023-02-17T21:56:50.521Z"
   },
   {
    "duration": 0,
    "start_time": "2023-02-17T21:56:50.523Z"
   },
   {
    "duration": 0,
    "start_time": "2023-02-17T21:56:50.523Z"
   },
   {
    "duration": 0,
    "start_time": "2023-02-17T21:56:50.524Z"
   },
   {
    "duration": 19,
    "start_time": "2023-02-17T21:57:54.248Z"
   },
   {
    "duration": 15,
    "start_time": "2023-02-17T21:58:18.569Z"
   },
   {
    "duration": 14,
    "start_time": "2023-02-17T21:58:56.819Z"
   },
   {
    "duration": 8,
    "start_time": "2023-02-17T21:59:10.141Z"
   },
   {
    "duration": 9,
    "start_time": "2023-02-17T21:59:19.735Z"
   },
   {
    "duration": 7,
    "start_time": "2023-02-17T22:00:04.921Z"
   },
   {
    "duration": 7,
    "start_time": "2023-02-17T22:00:20.579Z"
   },
   {
    "duration": 8,
    "start_time": "2023-02-17T22:00:24.665Z"
   },
   {
    "duration": 8,
    "start_time": "2023-02-17T22:00:28.777Z"
   },
   {
    "duration": 8,
    "start_time": "2023-02-17T22:00:32.523Z"
   },
   {
    "duration": 9,
    "start_time": "2023-02-17T22:01:11.115Z"
   },
   {
    "duration": 8,
    "start_time": "2023-02-17T22:01:15.631Z"
   },
   {
    "duration": 8,
    "start_time": "2023-02-17T22:01:20.239Z"
   },
   {
    "duration": 299,
    "start_time": "2023-02-17T22:02:37.780Z"
   },
   {
    "duration": 369,
    "start_time": "2023-02-17T22:02:45.879Z"
   },
   {
    "duration": 9,
    "start_time": "2023-02-17T22:02:48.005Z"
   },
   {
    "duration": 332,
    "start_time": "2023-02-17T22:03:02.969Z"
   },
   {
    "duration": 14,
    "start_time": "2023-02-17T22:03:41.129Z"
   },
   {
    "duration": 344,
    "start_time": "2023-02-17T22:03:44.676Z"
   },
   {
    "duration": 320,
    "start_time": "2023-02-17T22:03:57.546Z"
   },
   {
    "duration": 11,
    "start_time": "2023-02-17T22:04:36.505Z"
   },
   {
    "duration": 329,
    "start_time": "2023-02-17T22:04:41.218Z"
   },
   {
    "duration": 366,
    "start_time": "2023-02-17T22:04:44.311Z"
   },
   {
    "duration": 120,
    "start_time": "2023-02-17T22:05:00.653Z"
   },
   {
    "duration": 9,
    "start_time": "2023-02-17T22:07:24.861Z"
   },
   {
    "duration": 9,
    "start_time": "2023-02-17T22:07:34.937Z"
   },
   {
    "duration": 13,
    "start_time": "2023-02-17T22:07:59.418Z"
   },
   {
    "duration": 12,
    "start_time": "2023-02-17T22:08:40.430Z"
   },
   {
    "duration": 12,
    "start_time": "2023-02-17T22:08:45.785Z"
   },
   {
    "duration": 432,
    "start_time": "2023-02-17T22:09:02.545Z"
   },
   {
    "duration": 22,
    "start_time": "2023-02-17T22:09:02.979Z"
   },
   {
    "duration": 16,
    "start_time": "2023-02-17T22:09:03.002Z"
   },
   {
    "duration": 9,
    "start_time": "2023-02-17T22:09:03.020Z"
   },
   {
    "duration": 33,
    "start_time": "2023-02-17T22:09:03.030Z"
   },
   {
    "duration": 3,
    "start_time": "2023-02-17T22:09:03.065Z"
   },
   {
    "duration": 31,
    "start_time": "2023-02-17T22:09:03.070Z"
   },
   {
    "duration": 4,
    "start_time": "2023-02-17T22:09:03.102Z"
   },
   {
    "duration": 16,
    "start_time": "2023-02-17T22:09:03.108Z"
   },
   {
    "duration": 4,
    "start_time": "2023-02-17T22:09:03.127Z"
   },
   {
    "duration": 33,
    "start_time": "2023-02-17T22:09:03.132Z"
   },
   {
    "duration": 9,
    "start_time": "2023-02-17T22:09:03.166Z"
   },
   {
    "duration": 24,
    "start_time": "2023-02-17T22:09:03.176Z"
   },
   {
    "duration": 15,
    "start_time": "2023-02-17T22:09:03.202Z"
   },
   {
    "duration": 37,
    "start_time": "2023-02-17T22:09:03.218Z"
   },
   {
    "duration": 17,
    "start_time": "2023-02-17T22:09:03.256Z"
   },
   {
    "duration": 3,
    "start_time": "2023-02-17T22:09:03.274Z"
   },
   {
    "duration": 12,
    "start_time": "2023-02-17T22:09:03.279Z"
   },
   {
    "duration": 11,
    "start_time": "2023-02-17T22:09:03.293Z"
   },
   {
    "duration": 4,
    "start_time": "2023-02-17T22:09:03.305Z"
   },
   {
    "duration": 12,
    "start_time": "2023-02-17T22:09:03.310Z"
   },
   {
    "duration": 4,
    "start_time": "2023-02-17T22:09:03.324Z"
   },
   {
    "duration": 12,
    "start_time": "2023-02-17T22:09:03.330Z"
   },
   {
    "duration": 931,
    "start_time": "2023-02-17T22:09:03.344Z"
   },
   {
    "duration": 7,
    "start_time": "2023-02-17T22:09:04.277Z"
   },
   {
    "duration": 19,
    "start_time": "2023-02-17T22:09:04.286Z"
   },
   {
    "duration": 13,
    "start_time": "2023-02-17T22:09:04.306Z"
   },
   {
    "duration": 116,
    "start_time": "2023-02-17T22:09:04.322Z"
   },
   {
    "duration": 0,
    "start_time": "2023-02-17T22:09:04.440Z"
   },
   {
    "duration": 0,
    "start_time": "2023-02-17T22:09:04.441Z"
   },
   {
    "duration": 11,
    "start_time": "2023-02-17T22:10:53.209Z"
   },
   {
    "duration": 95,
    "start_time": "2023-02-17T22:11:17.444Z"
   },
   {
    "duration": 107,
    "start_time": "2023-02-17T22:11:43.774Z"
   },
   {
    "duration": 422,
    "start_time": "2023-02-17T22:11:48.440Z"
   },
   {
    "duration": 23,
    "start_time": "2023-02-17T22:11:48.864Z"
   },
   {
    "duration": 14,
    "start_time": "2023-02-17T22:11:48.889Z"
   },
   {
    "duration": 8,
    "start_time": "2023-02-17T22:11:48.906Z"
   },
   {
    "duration": 37,
    "start_time": "2023-02-17T22:11:48.915Z"
   },
   {
    "duration": 3,
    "start_time": "2023-02-17T22:11:48.954Z"
   },
   {
    "duration": 9,
    "start_time": "2023-02-17T22:11:48.959Z"
   },
   {
    "duration": 6,
    "start_time": "2023-02-17T22:11:48.970Z"
   },
   {
    "duration": 11,
    "start_time": "2023-02-17T22:11:48.998Z"
   },
   {
    "duration": 5,
    "start_time": "2023-02-17T22:11:49.011Z"
   },
   {
    "duration": 36,
    "start_time": "2023-02-17T22:11:49.018Z"
   },
   {
    "duration": 9,
    "start_time": "2023-02-17T22:11:49.056Z"
   },
   {
    "duration": 7,
    "start_time": "2023-02-17T22:11:49.067Z"
   },
   {
    "duration": 29,
    "start_time": "2023-02-17T22:11:49.076Z"
   },
   {
    "duration": 22,
    "start_time": "2023-02-17T22:11:49.107Z"
   },
   {
    "duration": 16,
    "start_time": "2023-02-17T22:11:49.130Z"
   },
   {
    "duration": 3,
    "start_time": "2023-02-17T22:11:49.148Z"
   },
   {
    "duration": 13,
    "start_time": "2023-02-17T22:11:49.152Z"
   },
   {
    "duration": 35,
    "start_time": "2023-02-17T22:11:49.166Z"
   },
   {
    "duration": 3,
    "start_time": "2023-02-17T22:11:49.202Z"
   },
   {
    "duration": 10,
    "start_time": "2023-02-17T22:11:49.207Z"
   },
   {
    "duration": 4,
    "start_time": "2023-02-17T22:11:49.219Z"
   },
   {
    "duration": 14,
    "start_time": "2023-02-17T22:11:49.225Z"
   },
   {
    "duration": 920,
    "start_time": "2023-02-17T22:11:49.241Z"
   },
   {
    "duration": 9,
    "start_time": "2023-02-17T22:11:50.162Z"
   },
   {
    "duration": 27,
    "start_time": "2023-02-17T22:11:50.173Z"
   },
   {
    "duration": 14,
    "start_time": "2023-02-17T22:11:50.202Z"
   },
   {
    "duration": 216,
    "start_time": "2023-02-17T22:11:50.219Z"
   },
   {
    "duration": 0,
    "start_time": "2023-02-17T22:11:50.437Z"
   },
   {
    "duration": 0,
    "start_time": "2023-02-17T22:11:50.438Z"
   },
   {
    "duration": 9,
    "start_time": "2023-02-17T22:12:36.192Z"
   },
   {
    "duration": 332,
    "start_time": "2023-02-17T22:12:40.164Z"
   },
   {
    "duration": 320,
    "start_time": "2023-02-17T22:14:28.367Z"
   },
   {
    "duration": 350,
    "start_time": "2023-02-17T22:14:36.112Z"
   },
   {
    "duration": 67,
    "start_time": "2023-02-17T22:16:10.784Z"
   },
   {
    "duration": 113,
    "start_time": "2023-02-17T22:17:00.086Z"
   },
   {
    "duration": 495,
    "start_time": "2023-02-17T22:17:36.671Z"
   },
   {
    "duration": 25,
    "start_time": "2023-02-17T22:17:37.167Z"
   },
   {
    "duration": 14,
    "start_time": "2023-02-17T22:17:37.194Z"
   },
   {
    "duration": 9,
    "start_time": "2023-02-17T22:17:37.210Z"
   },
   {
    "duration": 35,
    "start_time": "2023-02-17T22:17:37.221Z"
   },
   {
    "duration": 4,
    "start_time": "2023-02-17T22:17:37.258Z"
   },
   {
    "duration": 17,
    "start_time": "2023-02-17T22:17:37.263Z"
   },
   {
    "duration": 4,
    "start_time": "2023-02-17T22:17:37.299Z"
   },
   {
    "duration": 14,
    "start_time": "2023-02-17T22:17:37.305Z"
   },
   {
    "duration": 11,
    "start_time": "2023-02-17T22:17:37.321Z"
   },
   {
    "duration": 38,
    "start_time": "2023-02-17T22:17:37.333Z"
   },
   {
    "duration": 9,
    "start_time": "2023-02-17T22:17:37.372Z"
   },
   {
    "duration": 19,
    "start_time": "2023-02-17T22:17:37.382Z"
   },
   {
    "duration": 15,
    "start_time": "2023-02-17T22:17:37.402Z"
   },
   {
    "duration": 24,
    "start_time": "2023-02-17T22:17:37.418Z"
   },
   {
    "duration": 17,
    "start_time": "2023-02-17T22:17:37.443Z"
   },
   {
    "duration": 4,
    "start_time": "2023-02-17T22:17:37.461Z"
   },
   {
    "duration": 15,
    "start_time": "2023-02-17T22:17:37.466Z"
   },
   {
    "duration": 5,
    "start_time": "2023-02-17T22:17:37.498Z"
   },
   {
    "duration": 3,
    "start_time": "2023-02-17T22:17:37.505Z"
   },
   {
    "duration": 11,
    "start_time": "2023-02-17T22:17:37.509Z"
   },
   {
    "duration": 16,
    "start_time": "2023-02-17T22:17:37.521Z"
   },
   {
    "duration": 14,
    "start_time": "2023-02-17T22:17:37.539Z"
   },
   {
    "duration": 861,
    "start_time": "2023-02-17T22:17:37.554Z"
   },
   {
    "duration": 7,
    "start_time": "2023-02-17T22:17:38.417Z"
   },
   {
    "duration": 10,
    "start_time": "2023-02-17T22:17:38.425Z"
   },
   {
    "duration": 11,
    "start_time": "2023-02-17T22:17:38.436Z"
   },
   {
    "duration": 109,
    "start_time": "2023-02-17T22:17:38.449Z"
   },
   {
    "duration": 0,
    "start_time": "2023-02-17T22:17:38.559Z"
   },
   {
    "duration": 0,
    "start_time": "2023-02-17T22:17:38.560Z"
   },
   {
    "duration": 10,
    "start_time": "2023-02-17T22:18:05.497Z"
   },
   {
    "duration": 435,
    "start_time": "2023-02-17T22:18:16.539Z"
   },
   {
    "duration": 21,
    "start_time": "2023-02-17T22:18:16.976Z"
   },
   {
    "duration": 15,
    "start_time": "2023-02-17T22:18:16.999Z"
   },
   {
    "duration": 10,
    "start_time": "2023-02-17T22:18:17.017Z"
   },
   {
    "duration": 37,
    "start_time": "2023-02-17T22:18:17.028Z"
   },
   {
    "duration": 4,
    "start_time": "2023-02-17T22:18:17.066Z"
   },
   {
    "duration": 32,
    "start_time": "2023-02-17T22:18:17.071Z"
   },
   {
    "duration": 5,
    "start_time": "2023-02-17T22:18:17.105Z"
   },
   {
    "duration": 19,
    "start_time": "2023-02-17T22:18:17.112Z"
   },
   {
    "duration": 23,
    "start_time": "2023-02-17T22:18:17.134Z"
   },
   {
    "duration": 47,
    "start_time": "2023-02-17T22:18:17.159Z"
   },
   {
    "duration": 9,
    "start_time": "2023-02-17T22:18:17.208Z"
   },
   {
    "duration": 9,
    "start_time": "2023-02-17T22:18:17.218Z"
   },
   {
    "duration": 14,
    "start_time": "2023-02-17T22:18:17.229Z"
   },
   {
    "duration": 19,
    "start_time": "2023-02-17T22:18:17.245Z"
   },
   {
    "duration": 17,
    "start_time": "2023-02-17T22:18:17.265Z"
   },
   {
    "duration": 16,
    "start_time": "2023-02-17T22:18:17.283Z"
   },
   {
    "duration": 12,
    "start_time": "2023-02-17T22:18:17.300Z"
   },
   {
    "duration": 6,
    "start_time": "2023-02-17T22:18:17.313Z"
   },
   {
    "duration": 9,
    "start_time": "2023-02-17T22:18:17.320Z"
   },
   {
    "duration": 15,
    "start_time": "2023-02-17T22:18:17.331Z"
   },
   {
    "duration": 10,
    "start_time": "2023-02-17T22:18:17.348Z"
   },
   {
    "duration": 19,
    "start_time": "2023-02-17T22:18:17.359Z"
   },
   {
    "duration": 834,
    "start_time": "2023-02-17T22:18:17.379Z"
   },
   {
    "duration": 7,
    "start_time": "2023-02-17T22:18:18.215Z"
   },
   {
    "duration": 11,
    "start_time": "2023-02-17T22:18:18.224Z"
   },
   {
    "duration": 13,
    "start_time": "2023-02-17T22:18:18.236Z"
   },
   {
    "duration": 115,
    "start_time": "2023-02-17T22:18:18.252Z"
   },
   {
    "duration": 0,
    "start_time": "2023-02-17T22:18:18.369Z"
   },
   {
    "duration": 0,
    "start_time": "2023-02-17T22:18:18.370Z"
   },
   {
    "duration": 8,
    "start_time": "2023-02-17T22:18:47.754Z"
   },
   {
    "duration": 8,
    "start_time": "2023-02-17T22:18:59.673Z"
   },
   {
    "duration": 410,
    "start_time": "2023-02-17T22:19:05.551Z"
   },
   {
    "duration": 21,
    "start_time": "2023-02-17T22:19:05.963Z"
   },
   {
    "duration": 13,
    "start_time": "2023-02-17T22:19:05.985Z"
   },
   {
    "duration": 11,
    "start_time": "2023-02-17T22:19:06.000Z"
   },
   {
    "duration": 47,
    "start_time": "2023-02-17T22:19:06.013Z"
   },
   {
    "duration": 4,
    "start_time": "2023-02-17T22:19:06.062Z"
   },
   {
    "duration": 13,
    "start_time": "2023-02-17T22:19:06.067Z"
   },
   {
    "duration": 20,
    "start_time": "2023-02-17T22:19:06.081Z"
   },
   {
    "duration": 29,
    "start_time": "2023-02-17T22:19:06.102Z"
   },
   {
    "duration": 8,
    "start_time": "2023-02-17T22:19:06.133Z"
   },
   {
    "duration": 33,
    "start_time": "2023-02-17T22:19:06.142Z"
   },
   {
    "duration": 9,
    "start_time": "2023-02-17T22:19:06.176Z"
   },
   {
    "duration": 7,
    "start_time": "2023-02-17T22:19:06.187Z"
   },
   {
    "duration": 12,
    "start_time": "2023-02-17T22:19:06.196Z"
   },
   {
    "duration": 19,
    "start_time": "2023-02-17T22:19:06.209Z"
   },
   {
    "duration": 15,
    "start_time": "2023-02-17T22:19:06.230Z"
   },
   {
    "duration": 3,
    "start_time": "2023-02-17T22:19:06.247Z"
   },
   {
    "duration": 12,
    "start_time": "2023-02-17T22:19:06.252Z"
   },
   {
    "duration": 8,
    "start_time": "2023-02-17T22:19:06.265Z"
   },
   {
    "duration": 27,
    "start_time": "2023-02-17T22:19:06.275Z"
   },
   {
    "duration": 13,
    "start_time": "2023-02-17T22:19:06.304Z"
   },
   {
    "duration": 5,
    "start_time": "2023-02-17T22:19:06.319Z"
   },
   {
    "duration": 13,
    "start_time": "2023-02-17T22:19:06.326Z"
   },
   {
    "duration": 911,
    "start_time": "2023-02-17T22:19:06.341Z"
   },
   {
    "duration": 7,
    "start_time": "2023-02-17T22:19:07.254Z"
   },
   {
    "duration": 13,
    "start_time": "2023-02-17T22:19:07.262Z"
   },
   {
    "duration": 28,
    "start_time": "2023-02-17T22:19:07.277Z"
   },
   {
    "duration": 100,
    "start_time": "2023-02-17T22:19:07.307Z"
   },
   {
    "duration": 0,
    "start_time": "2023-02-17T22:19:07.408Z"
   },
   {
    "duration": 0,
    "start_time": "2023-02-17T22:19:07.409Z"
   },
   {
    "duration": 331,
    "start_time": "2023-02-17T22:19:50.906Z"
   },
   {
    "duration": 419,
    "start_time": "2023-02-17T22:20:49.938Z"
   },
   {
    "duration": 24,
    "start_time": "2023-02-17T22:20:50.370Z"
   },
   {
    "duration": 16,
    "start_time": "2023-02-17T22:20:50.396Z"
   },
   {
    "duration": 15,
    "start_time": "2023-02-17T22:20:50.414Z"
   },
   {
    "duration": 31,
    "start_time": "2023-02-17T22:20:50.430Z"
   },
   {
    "duration": 3,
    "start_time": "2023-02-17T22:20:50.462Z"
   },
   {
    "duration": 20,
    "start_time": "2023-02-17T22:20:50.467Z"
   },
   {
    "duration": 11,
    "start_time": "2023-02-17T22:20:50.499Z"
   },
   {
    "duration": 11,
    "start_time": "2023-02-17T22:20:50.511Z"
   },
   {
    "duration": 4,
    "start_time": "2023-02-17T22:20:50.524Z"
   },
   {
    "duration": 34,
    "start_time": "2023-02-17T22:20:50.530Z"
   },
   {
    "duration": 8,
    "start_time": "2023-02-17T22:20:50.566Z"
   },
   {
    "duration": 10,
    "start_time": "2023-02-17T22:20:50.575Z"
   },
   {
    "duration": 21,
    "start_time": "2023-02-17T22:20:50.586Z"
   },
   {
    "duration": 20,
    "start_time": "2023-02-17T22:20:50.608Z"
   },
   {
    "duration": 16,
    "start_time": "2023-02-17T22:20:50.629Z"
   },
   {
    "duration": 3,
    "start_time": "2023-02-17T22:20:50.647Z"
   },
   {
    "duration": 19,
    "start_time": "2023-02-17T22:20:50.652Z"
   },
   {
    "duration": 12,
    "start_time": "2023-02-17T22:20:50.672Z"
   },
   {
    "duration": 3,
    "start_time": "2023-02-17T22:20:50.699Z"
   },
   {
    "duration": 11,
    "start_time": "2023-02-17T22:20:50.704Z"
   },
   {
    "duration": 3,
    "start_time": "2023-02-17T22:20:50.716Z"
   },
   {
    "duration": 12,
    "start_time": "2023-02-17T22:20:50.721Z"
   },
   {
    "duration": 869,
    "start_time": "2023-02-17T22:20:50.735Z"
   },
   {
    "duration": 7,
    "start_time": "2023-02-17T22:20:51.606Z"
   },
   {
    "duration": 38,
    "start_time": "2023-02-17T22:20:51.614Z"
   },
   {
    "duration": 21,
    "start_time": "2023-02-17T22:20:51.653Z"
   },
   {
    "duration": 434,
    "start_time": "2023-02-17T22:21:22.136Z"
   },
   {
    "duration": 23,
    "start_time": "2023-02-17T22:21:22.572Z"
   },
   {
    "duration": 15,
    "start_time": "2023-02-17T22:21:22.597Z"
   },
   {
    "duration": 10,
    "start_time": "2023-02-17T22:21:22.614Z"
   },
   {
    "duration": 35,
    "start_time": "2023-02-17T22:21:22.625Z"
   },
   {
    "duration": 4,
    "start_time": "2023-02-17T22:21:22.661Z"
   },
   {
    "duration": 34,
    "start_time": "2023-02-17T22:21:22.666Z"
   },
   {
    "duration": 5,
    "start_time": "2023-02-17T22:21:22.701Z"
   },
   {
    "duration": 15,
    "start_time": "2023-02-17T22:21:22.707Z"
   },
   {
    "duration": 4,
    "start_time": "2023-02-17T22:21:22.724Z"
   },
   {
    "duration": 32,
    "start_time": "2023-02-17T22:21:22.730Z"
   },
   {
    "duration": 8,
    "start_time": "2023-02-17T22:21:22.764Z"
   },
   {
    "duration": 32,
    "start_time": "2023-02-17T22:21:22.774Z"
   },
   {
    "duration": 16,
    "start_time": "2023-02-17T22:21:22.808Z"
   },
   {
    "duration": 24,
    "start_time": "2023-02-17T22:21:22.825Z"
   },
   {
    "duration": 17,
    "start_time": "2023-02-17T22:21:22.851Z"
   },
   {
    "duration": 3,
    "start_time": "2023-02-17T22:21:22.870Z"
   },
   {
    "duration": 15,
    "start_time": "2023-02-17T22:21:22.874Z"
   },
   {
    "duration": 5,
    "start_time": "2023-02-17T22:21:22.899Z"
   },
   {
    "duration": 5,
    "start_time": "2023-02-17T22:21:22.906Z"
   },
   {
    "duration": 15,
    "start_time": "2023-02-17T22:21:22.912Z"
   },
   {
    "duration": 9,
    "start_time": "2023-02-17T22:21:22.929Z"
   },
   {
    "duration": 14,
    "start_time": "2023-02-17T22:21:22.939Z"
   },
   {
    "duration": 874,
    "start_time": "2023-02-17T22:21:22.954Z"
   },
   {
    "duration": 7,
    "start_time": "2023-02-17T22:21:23.829Z"
   },
   {
    "duration": 14,
    "start_time": "2023-02-17T22:21:23.838Z"
   },
   {
    "duration": 13,
    "start_time": "2023-02-17T22:21:23.854Z"
   },
   {
    "duration": 381,
    "start_time": "2023-02-17T22:21:23.869Z"
   },
   {
    "duration": 2,
    "start_time": "2023-02-17T22:21:24.252Z"
   },
   {
    "duration": 6,
    "start_time": "2023-02-17T22:21:24.255Z"
   },
   {
    "duration": 13,
    "start_time": "2023-02-17T22:22:13.730Z"
   },
   {
    "duration": 4,
    "start_time": "2023-02-17T22:23:05.436Z"
   },
   {
    "duration": 15,
    "start_time": "2023-02-17T22:23:13.066Z"
   },
   {
    "duration": 133,
    "start_time": "2023-02-17T22:23:29.042Z"
   },
   {
    "duration": 139,
    "start_time": "2023-02-17T22:25:42.972Z"
   },
   {
    "duration": 121,
    "start_time": "2023-02-17T22:26:13.458Z"
   },
   {
    "duration": 9,
    "start_time": "2023-02-17T22:27:13.285Z"
   },
   {
    "duration": 96,
    "start_time": "2023-02-17T22:27:39.966Z"
   },
   {
    "duration": 14,
    "start_time": "2023-02-17T22:27:52.569Z"
   },
   {
    "duration": 10,
    "start_time": "2023-02-17T22:28:14.687Z"
   },
   {
    "duration": 23,
    "start_time": "2023-02-17T22:28:33.332Z"
   },
   {
    "duration": 10,
    "start_time": "2023-02-17T22:28:38.254Z"
   },
   {
    "duration": 15,
    "start_time": "2023-02-17T22:32:41.480Z"
   },
   {
    "duration": 10,
    "start_time": "2023-02-17T22:32:48.093Z"
   },
   {
    "duration": 7,
    "start_time": "2023-02-17T22:33:37.376Z"
   },
   {
    "duration": 1200,
    "start_time": "2023-02-17T22:35:45.270Z"
   },
   {
    "duration": 1173,
    "start_time": "2023-02-17T22:35:53.514Z"
   },
   {
    "duration": 4,
    "start_time": "2023-02-17T22:36:03.090Z"
   },
   {
    "duration": 14,
    "start_time": "2023-02-17T22:36:12.304Z"
   },
   {
    "duration": 14,
    "start_time": "2023-02-17T22:36:16.386Z"
   },
   {
    "duration": 12,
    "start_time": "2023-02-17T22:37:43.808Z"
   },
   {
    "duration": 11,
    "start_time": "2023-02-17T22:37:47.979Z"
   },
   {
    "duration": 9,
    "start_time": "2023-02-17T22:38:10.142Z"
   },
   {
    "duration": 4,
    "start_time": "2023-02-17T22:38:30.442Z"
   },
   {
    "duration": 8,
    "start_time": "2023-02-17T22:38:49.344Z"
   },
   {
    "duration": 8,
    "start_time": "2023-02-17T22:38:55.771Z"
   },
   {
    "duration": 466,
    "start_time": "2023-02-17T22:39:08.890Z"
   },
   {
    "duration": 20,
    "start_time": "2023-02-17T22:39:09.358Z"
   },
   {
    "duration": 14,
    "start_time": "2023-02-17T22:39:09.380Z"
   },
   {
    "duration": 10,
    "start_time": "2023-02-17T22:39:09.396Z"
   },
   {
    "duration": 35,
    "start_time": "2023-02-17T22:39:09.407Z"
   },
   {
    "duration": 3,
    "start_time": "2023-02-17T22:39:09.444Z"
   },
   {
    "duration": 13,
    "start_time": "2023-02-17T22:39:09.448Z"
   },
   {
    "duration": 7,
    "start_time": "2023-02-17T22:39:09.463Z"
   },
   {
    "duration": 11,
    "start_time": "2023-02-17T22:39:09.472Z"
   },
   {
    "duration": 5,
    "start_time": "2023-02-17T22:39:09.498Z"
   },
   {
    "duration": 35,
    "start_time": "2023-02-17T22:39:09.504Z"
   },
   {
    "duration": 9,
    "start_time": "2023-02-17T22:39:09.540Z"
   },
   {
    "duration": 5,
    "start_time": "2023-02-17T22:39:09.551Z"
   },
   {
    "duration": 14,
    "start_time": "2023-02-17T22:39:09.557Z"
   },
   {
    "duration": 38,
    "start_time": "2023-02-17T22:39:09.573Z"
   },
   {
    "duration": 17,
    "start_time": "2023-02-17T22:39:09.613Z"
   },
   {
    "duration": 3,
    "start_time": "2023-02-17T22:39:09.631Z"
   },
   {
    "duration": 20,
    "start_time": "2023-02-17T22:39:09.636Z"
   },
   {
    "duration": 6,
    "start_time": "2023-02-17T22:39:09.657Z"
   },
   {
    "duration": 6,
    "start_time": "2023-02-17T22:39:09.665Z"
   },
   {
    "duration": 29,
    "start_time": "2023-02-17T22:39:09.672Z"
   },
   {
    "duration": 2,
    "start_time": "2023-02-17T22:39:09.703Z"
   },
   {
    "duration": 15,
    "start_time": "2023-02-17T22:39:09.707Z"
   },
   {
    "duration": 847,
    "start_time": "2023-02-17T22:39:09.723Z"
   },
   {
    "duration": 10,
    "start_time": "2023-02-17T22:39:10.571Z"
   },
   {
    "duration": 24,
    "start_time": "2023-02-17T22:39:10.583Z"
   },
   {
    "duration": 16,
    "start_time": "2023-02-17T22:39:10.609Z"
   },
   {
    "duration": 182,
    "start_time": "2023-02-17T22:39:10.630Z"
   },
   {
    "duration": 12,
    "start_time": "2023-02-17T22:39:10.814Z"
   },
   {
    "duration": 8,
    "start_time": "2023-02-17T22:39:10.828Z"
   },
   {
    "duration": 4,
    "start_time": "2023-02-17T22:39:10.838Z"
   },
   {
    "duration": 5,
    "start_time": "2023-02-17T22:39:10.844Z"
   },
   {
    "duration": 97,
    "start_time": "2023-02-17T22:40:12.834Z"
   },
   {
    "duration": 6,
    "start_time": "2023-02-17T22:40:21.850Z"
   },
   {
    "duration": 638,
    "start_time": "2023-02-17T22:40:27.535Z"
   },
   {
    "duration": 5,
    "start_time": "2023-02-17T22:40:52.209Z"
   },
   {
    "duration": 6,
    "start_time": "2023-02-17T22:40:59.138Z"
   },
   {
    "duration": 12,
    "start_time": "2023-02-17T22:41:07.167Z"
   },
   {
    "duration": 13,
    "start_time": "2023-02-17T22:41:48.067Z"
   },
   {
    "duration": 11,
    "start_time": "2023-02-17T22:41:51.850Z"
   },
   {
    "duration": 12,
    "start_time": "2023-02-17T22:42:21.081Z"
   },
   {
    "duration": 11,
    "start_time": "2023-02-17T22:42:35.641Z"
   },
   {
    "duration": 11,
    "start_time": "2023-02-17T22:42:41.225Z"
   },
   {
    "duration": 5,
    "start_time": "2023-02-17T22:42:46.807Z"
   },
   {
    "duration": 13,
    "start_time": "2023-02-17T22:42:58.566Z"
   },
   {
    "duration": 7,
    "start_time": "2023-02-17T22:43:06.354Z"
   },
   {
    "duration": 5,
    "start_time": "2023-02-17T22:44:01.691Z"
   },
   {
    "duration": 10,
    "start_time": "2023-02-17T22:45:06.923Z"
   },
   {
    "duration": 5,
    "start_time": "2023-02-17T22:45:35.179Z"
   },
   {
    "duration": 12,
    "start_time": "2023-02-17T22:46:02.387Z"
   },
   {
    "duration": 10,
    "start_time": "2023-02-17T22:46:17.229Z"
   },
   {
    "duration": 10,
    "start_time": "2023-02-17T22:46:26.365Z"
   },
   {
    "duration": 8,
    "start_time": "2023-02-17T22:46:35.691Z"
   },
   {
    "duration": 5,
    "start_time": "2023-02-17T22:46:44.245Z"
   },
   {
    "duration": 15,
    "start_time": "2023-02-17T22:47:03.534Z"
   },
   {
    "duration": 10,
    "start_time": "2023-02-17T22:48:26.759Z"
   },
   {
    "duration": 5,
    "start_time": "2023-02-17T22:48:32.229Z"
   },
   {
    "duration": 13,
    "start_time": "2023-02-17T22:48:54.829Z"
   },
   {
    "duration": 19,
    "start_time": "2023-02-17T22:50:25.675Z"
   },
   {
    "duration": 9,
    "start_time": "2023-02-17T22:50:47.670Z"
   },
   {
    "duration": 21,
    "start_time": "2023-02-17T22:50:55.665Z"
   },
   {
    "duration": 19,
    "start_time": "2023-02-17T22:51:58.349Z"
   },
   {
    "duration": 8,
    "start_time": "2023-02-17T22:52:28.117Z"
   },
   {
    "duration": 16,
    "start_time": "2023-02-17T22:52:57.463Z"
   },
   {
    "duration": 29,
    "start_time": "2023-02-17T22:54:41.593Z"
   },
   {
    "duration": 25,
    "start_time": "2023-02-17T22:55:44.697Z"
   },
   {
    "duration": 27,
    "start_time": "2023-02-17T22:57:21.441Z"
   },
   {
    "duration": 30,
    "start_time": "2023-02-17T22:58:18.213Z"
   },
   {
    "duration": 21,
    "start_time": "2023-02-17T23:01:52.171Z"
   },
   {
    "duration": 35,
    "start_time": "2023-02-17T23:02:13.883Z"
   },
   {
    "duration": 23,
    "start_time": "2023-02-17T23:07:50.205Z"
   },
   {
    "duration": 28,
    "start_time": "2023-02-17T23:08:07.134Z"
   },
   {
    "duration": 31,
    "start_time": "2023-02-17T23:08:15.015Z"
   },
   {
    "duration": 9,
    "start_time": "2023-02-17T23:09:23.101Z"
   },
   {
    "duration": 20,
    "start_time": "2023-02-17T23:09:31.046Z"
   },
   {
    "duration": 24,
    "start_time": "2023-02-17T23:09:39.278Z"
   },
   {
    "duration": 16,
    "start_time": "2023-02-17T23:10:08.136Z"
   },
   {
    "duration": 13,
    "start_time": "2023-02-17T23:10:19.622Z"
   },
   {
    "duration": 13,
    "start_time": "2023-02-17T23:10:28.852Z"
   },
   {
    "duration": 5,
    "start_time": "2023-02-17T23:11:34.015Z"
   },
   {
    "duration": 1113,
    "start_time": "2023-02-17T23:11:40.749Z"
   },
   {
    "duration": 1223,
    "start_time": "2023-02-17T23:11:44.990Z"
   },
   {
    "duration": 1096,
    "start_time": "2023-02-17T23:12:54.786Z"
   },
   {
    "duration": 469,
    "start_time": "2023-02-17T23:13:01.622Z"
   },
   {
    "duration": 28,
    "start_time": "2023-02-17T23:13:02.093Z"
   },
   {
    "duration": 17,
    "start_time": "2023-02-17T23:13:02.122Z"
   },
   {
    "duration": 12,
    "start_time": "2023-02-17T23:13:02.141Z"
   },
   {
    "duration": 50,
    "start_time": "2023-02-17T23:13:02.154Z"
   },
   {
    "duration": 3,
    "start_time": "2023-02-17T23:13:02.206Z"
   },
   {
    "duration": 13,
    "start_time": "2023-02-17T23:13:02.211Z"
   },
   {
    "duration": 7,
    "start_time": "2023-02-17T23:13:02.226Z"
   },
   {
    "duration": 9,
    "start_time": "2023-02-17T23:13:02.235Z"
   },
   {
    "duration": 5,
    "start_time": "2023-02-17T23:13:02.246Z"
   },
   {
    "duration": 65,
    "start_time": "2023-02-17T23:13:02.253Z"
   },
   {
    "duration": 12,
    "start_time": "2023-02-17T23:13:02.320Z"
   },
   {
    "duration": 6,
    "start_time": "2023-02-17T23:13:02.334Z"
   },
   {
    "duration": 15,
    "start_time": "2023-02-17T23:13:02.341Z"
   },
   {
    "duration": 41,
    "start_time": "2023-02-17T23:13:02.358Z"
   },
   {
    "duration": 24,
    "start_time": "2023-02-17T23:13:02.401Z"
   },
   {
    "duration": 4,
    "start_time": "2023-02-17T23:13:02.427Z"
   },
   {
    "duration": 13,
    "start_time": "2023-02-17T23:13:02.432Z"
   },
   {
    "duration": 5,
    "start_time": "2023-02-17T23:13:02.446Z"
   },
   {
    "duration": 6,
    "start_time": "2023-02-17T23:13:02.452Z"
   },
   {
    "duration": 14,
    "start_time": "2023-02-17T23:13:02.459Z"
   },
   {
    "duration": 6,
    "start_time": "2023-02-17T23:13:02.474Z"
   },
   {
    "duration": 13,
    "start_time": "2023-02-17T23:13:02.498Z"
   },
   {
    "duration": 803,
    "start_time": "2023-02-17T23:13:02.513Z"
   },
   {
    "duration": 10,
    "start_time": "2023-02-17T23:13:03.319Z"
   },
   {
    "duration": 12,
    "start_time": "2023-02-17T23:13:03.331Z"
   },
   {
    "duration": 12,
    "start_time": "2023-02-17T23:13:03.345Z"
   },
   {
    "duration": 142,
    "start_time": "2023-02-17T23:13:03.359Z"
   },
   {
    "duration": 27,
    "start_time": "2023-02-17T23:13:03.504Z"
   },
   {
    "duration": 120,
    "start_time": "2023-02-17T23:13:03.533Z"
   },
   {
    "duration": 0,
    "start_time": "2023-02-17T23:13:03.655Z"
   },
   {
    "duration": 0,
    "start_time": "2023-02-17T23:13:03.656Z"
   },
   {
    "duration": 9,
    "start_time": "2023-02-17T23:13:19.032Z"
   },
   {
    "duration": 81,
    "start_time": "2023-02-17T23:13:34.040Z"
   },
   {
    "duration": 1115,
    "start_time": "2023-02-17T23:13:47.710Z"
   },
   {
    "duration": 1131,
    "start_time": "2023-02-17T23:13:57.785Z"
   },
   {
    "duration": 479,
    "start_time": "2023-02-17T23:14:04.184Z"
   },
   {
    "duration": 20,
    "start_time": "2023-02-17T23:14:04.665Z"
   },
   {
    "duration": 13,
    "start_time": "2023-02-17T23:14:04.687Z"
   },
   {
    "duration": 8,
    "start_time": "2023-02-17T23:14:04.702Z"
   },
   {
    "duration": 31,
    "start_time": "2023-02-17T23:14:04.712Z"
   },
   {
    "duration": 3,
    "start_time": "2023-02-17T23:14:04.745Z"
   },
   {
    "duration": 13,
    "start_time": "2023-02-17T23:14:04.749Z"
   },
   {
    "duration": 4,
    "start_time": "2023-02-17T23:14:04.764Z"
   },
   {
    "duration": 30,
    "start_time": "2023-02-17T23:14:04.769Z"
   },
   {
    "duration": 5,
    "start_time": "2023-02-17T23:14:04.801Z"
   },
   {
    "duration": 36,
    "start_time": "2023-02-17T23:14:04.807Z"
   },
   {
    "duration": 10,
    "start_time": "2023-02-17T23:14:04.844Z"
   },
   {
    "duration": 7,
    "start_time": "2023-02-17T23:14:04.855Z"
   },
   {
    "duration": 13,
    "start_time": "2023-02-17T23:14:04.863Z"
   },
   {
    "duration": 34,
    "start_time": "2023-02-17T23:14:04.878Z"
   },
   {
    "duration": 17,
    "start_time": "2023-02-17T23:14:04.914Z"
   },
   {
    "duration": 4,
    "start_time": "2023-02-17T23:14:04.932Z"
   },
   {
    "duration": 12,
    "start_time": "2023-02-17T23:14:04.938Z"
   },
   {
    "duration": 10,
    "start_time": "2023-02-17T23:14:04.952Z"
   },
   {
    "duration": 3,
    "start_time": "2023-02-17T23:14:04.964Z"
   },
   {
    "duration": 31,
    "start_time": "2023-02-17T23:14:04.968Z"
   },
   {
    "duration": 8,
    "start_time": "2023-02-17T23:14:05.001Z"
   },
   {
    "duration": 26,
    "start_time": "2023-02-17T23:14:05.011Z"
   },
   {
    "duration": 839,
    "start_time": "2023-02-17T23:14:05.039Z"
   },
   {
    "duration": 8,
    "start_time": "2023-02-17T23:14:05.879Z"
   },
   {
    "duration": 12,
    "start_time": "2023-02-17T23:14:05.900Z"
   },
   {
    "duration": 16,
    "start_time": "2023-02-17T23:14:05.913Z"
   },
   {
    "duration": 141,
    "start_time": "2023-02-17T23:14:05.932Z"
   },
   {
    "duration": 34,
    "start_time": "2023-02-17T23:14:06.075Z"
   },
   {
    "duration": 9,
    "start_time": "2023-02-17T23:14:06.110Z"
   },
   {
    "duration": 8,
    "start_time": "2023-02-17T23:14:06.120Z"
   },
   {
    "duration": 5,
    "start_time": "2023-02-17T23:14:06.130Z"
   },
   {
    "duration": 1190,
    "start_time": "2023-02-17T23:14:23.344Z"
   },
   {
    "duration": 467,
    "start_time": "2023-02-17T23:14:28.989Z"
   },
   {
    "duration": 22,
    "start_time": "2023-02-17T23:14:29.458Z"
   },
   {
    "duration": 15,
    "start_time": "2023-02-17T23:14:29.481Z"
   },
   {
    "duration": 9,
    "start_time": "2023-02-17T23:14:29.499Z"
   },
   {
    "duration": 36,
    "start_time": "2023-02-17T23:14:29.509Z"
   },
   {
    "duration": 3,
    "start_time": "2023-02-17T23:14:29.547Z"
   },
   {
    "duration": 13,
    "start_time": "2023-02-17T23:14:29.552Z"
   },
   {
    "duration": 5,
    "start_time": "2023-02-17T23:14:29.566Z"
   },
   {
    "duration": 30,
    "start_time": "2023-02-17T23:14:29.573Z"
   },
   {
    "duration": 7,
    "start_time": "2023-02-17T23:14:29.606Z"
   },
   {
    "duration": 40,
    "start_time": "2023-02-17T23:14:29.615Z"
   },
   {
    "duration": 10,
    "start_time": "2023-02-17T23:14:29.656Z"
   },
   {
    "duration": 10,
    "start_time": "2023-02-17T23:14:29.668Z"
   },
   {
    "duration": 29,
    "start_time": "2023-02-17T23:14:29.680Z"
   },
   {
    "duration": 22,
    "start_time": "2023-02-17T23:14:29.711Z"
   },
   {
    "duration": 19,
    "start_time": "2023-02-17T23:14:29.734Z"
   },
   {
    "duration": 3,
    "start_time": "2023-02-17T23:14:29.755Z"
   },
   {
    "duration": 39,
    "start_time": "2023-02-17T23:14:29.760Z"
   },
   {
    "duration": 6,
    "start_time": "2023-02-17T23:14:29.801Z"
   },
   {
    "duration": 7,
    "start_time": "2023-02-17T23:14:29.809Z"
   },
   {
    "duration": 13,
    "start_time": "2023-02-17T23:14:29.818Z"
   },
   {
    "duration": 3,
    "start_time": "2023-02-17T23:14:29.832Z"
   },
   {
    "duration": 15,
    "start_time": "2023-02-17T23:14:29.836Z"
   },
   {
    "duration": 918,
    "start_time": "2023-02-17T23:14:29.853Z"
   },
   {
    "duration": 7,
    "start_time": "2023-02-17T23:14:30.773Z"
   },
   {
    "duration": 55,
    "start_time": "2023-02-17T23:14:30.781Z"
   },
   {
    "duration": 33,
    "start_time": "2023-02-17T23:14:30.838Z"
   },
   {
    "duration": 137,
    "start_time": "2023-02-17T23:14:30.874Z"
   },
   {
    "duration": 26,
    "start_time": "2023-02-17T23:14:31.013Z"
   },
   {
    "duration": 18,
    "start_time": "2023-02-17T23:14:31.041Z"
   },
   {
    "duration": 32,
    "start_time": "2023-02-17T23:14:31.060Z"
   },
   {
    "duration": 19,
    "start_time": "2023-02-17T23:14:31.094Z"
   },
   {
    "duration": 114,
    "start_time": "2023-02-17T23:16:10.786Z"
   },
   {
    "duration": 22,
    "start_time": "2023-02-17T23:16:22.810Z"
   },
   {
    "duration": 1125,
    "start_time": "2023-02-17T23:16:24.754Z"
   },
   {
    "duration": 438,
    "start_time": "2023-02-17T23:16:30.516Z"
   },
   {
    "duration": 20,
    "start_time": "2023-02-17T23:16:30.958Z"
   },
   {
    "duration": 19,
    "start_time": "2023-02-17T23:16:30.980Z"
   },
   {
    "duration": 21,
    "start_time": "2023-02-17T23:16:31.001Z"
   },
   {
    "duration": 49,
    "start_time": "2023-02-17T23:16:31.023Z"
   },
   {
    "duration": 3,
    "start_time": "2023-02-17T23:16:31.074Z"
   },
   {
    "duration": 45,
    "start_time": "2023-02-17T23:16:31.078Z"
   },
   {
    "duration": 26,
    "start_time": "2023-02-17T23:16:31.124Z"
   },
   {
    "duration": 35,
    "start_time": "2023-02-17T23:16:31.152Z"
   },
   {
    "duration": 37,
    "start_time": "2023-02-17T23:16:31.190Z"
   },
   {
    "duration": 68,
    "start_time": "2023-02-17T23:16:31.229Z"
   },
   {
    "duration": 12,
    "start_time": "2023-02-17T23:16:31.298Z"
   },
   {
    "duration": 32,
    "start_time": "2023-02-17T23:16:31.312Z"
   },
   {
    "duration": 23,
    "start_time": "2023-02-17T23:16:31.346Z"
   },
   {
    "duration": 32,
    "start_time": "2023-02-17T23:16:31.370Z"
   },
   {
    "duration": 21,
    "start_time": "2023-02-17T23:16:31.403Z"
   },
   {
    "duration": 7,
    "start_time": "2023-02-17T23:16:31.426Z"
   },
   {
    "duration": 27,
    "start_time": "2023-02-17T23:16:31.434Z"
   },
   {
    "duration": 6,
    "start_time": "2023-02-17T23:16:31.463Z"
   },
   {
    "duration": 27,
    "start_time": "2023-02-17T23:16:31.471Z"
   },
   {
    "duration": 26,
    "start_time": "2023-02-17T23:16:31.500Z"
   },
   {
    "duration": 2,
    "start_time": "2023-02-17T23:16:31.527Z"
   },
   {
    "duration": 14,
    "start_time": "2023-02-17T23:16:31.530Z"
   },
   {
    "duration": 809,
    "start_time": "2023-02-17T23:16:31.545Z"
   },
   {
    "duration": 7,
    "start_time": "2023-02-17T23:16:32.356Z"
   },
   {
    "duration": 12,
    "start_time": "2023-02-17T23:16:32.365Z"
   },
   {
    "duration": 30,
    "start_time": "2023-02-17T23:16:32.379Z"
   },
   {
    "duration": 133,
    "start_time": "2023-02-17T23:16:32.412Z"
   },
   {
    "duration": 116,
    "start_time": "2023-02-17T23:16:32.547Z"
   },
   {
    "duration": 0,
    "start_time": "2023-02-17T23:16:32.664Z"
   },
   {
    "duration": 0,
    "start_time": "2023-02-17T23:16:32.666Z"
   },
   {
    "duration": 0,
    "start_time": "2023-02-17T23:16:32.667Z"
   },
   {
    "duration": 24,
    "start_time": "2023-02-17T23:16:47.769Z"
   },
   {
    "duration": 8,
    "start_time": "2023-02-17T23:16:56.000Z"
   },
   {
    "duration": 1141,
    "start_time": "2023-02-17T23:19:57.388Z"
   },
   {
    "duration": 1226,
    "start_time": "2023-02-17T23:20:03.620Z"
   },
   {
    "duration": 485,
    "start_time": "2023-02-17T23:20:14.842Z"
   },
   {
    "duration": 22,
    "start_time": "2023-02-17T23:20:15.329Z"
   },
   {
    "duration": 17,
    "start_time": "2023-02-17T23:20:15.353Z"
   },
   {
    "duration": 9,
    "start_time": "2023-02-17T23:20:15.372Z"
   },
   {
    "duration": 49,
    "start_time": "2023-02-17T23:20:15.383Z"
   },
   {
    "duration": 3,
    "start_time": "2023-02-17T23:20:15.434Z"
   },
   {
    "duration": 18,
    "start_time": "2023-02-17T23:20:15.439Z"
   },
   {
    "duration": 4,
    "start_time": "2023-02-17T23:20:15.459Z"
   },
   {
    "duration": 12,
    "start_time": "2023-02-17T23:20:15.465Z"
   },
   {
    "duration": 20,
    "start_time": "2023-02-17T23:20:15.480Z"
   },
   {
    "duration": 42,
    "start_time": "2023-02-17T23:20:15.501Z"
   },
   {
    "duration": 9,
    "start_time": "2023-02-17T23:20:15.544Z"
   },
   {
    "duration": 3,
    "start_time": "2023-02-17T23:20:15.555Z"
   },
   {
    "duration": 16,
    "start_time": "2023-02-17T23:20:15.560Z"
   },
   {
    "duration": 39,
    "start_time": "2023-02-17T23:20:15.577Z"
   },
   {
    "duration": 21,
    "start_time": "2023-02-17T23:20:15.618Z"
   },
   {
    "duration": 3,
    "start_time": "2023-02-17T23:20:15.641Z"
   },
   {
    "duration": 32,
    "start_time": "2023-02-17T23:20:15.646Z"
   },
   {
    "duration": 5,
    "start_time": "2023-02-17T23:20:15.679Z"
   },
   {
    "duration": 5,
    "start_time": "2023-02-17T23:20:15.686Z"
   },
   {
    "duration": 11,
    "start_time": "2023-02-17T23:20:15.692Z"
   },
   {
    "duration": 3,
    "start_time": "2023-02-17T23:20:15.704Z"
   },
   {
    "duration": 23,
    "start_time": "2023-02-17T23:20:15.710Z"
   },
   {
    "duration": 866,
    "start_time": "2023-02-17T23:20:15.735Z"
   },
   {
    "duration": 10,
    "start_time": "2023-02-17T23:20:16.603Z"
   },
   {
    "duration": 28,
    "start_time": "2023-02-17T23:20:16.615Z"
   },
   {
    "duration": 19,
    "start_time": "2023-02-17T23:20:16.646Z"
   },
   {
    "duration": 167,
    "start_time": "2023-02-17T23:20:16.669Z"
   },
   {
    "duration": 22,
    "start_time": "2023-02-17T23:20:16.838Z"
   },
   {
    "duration": 9,
    "start_time": "2023-02-17T23:20:16.861Z"
   },
   {
    "duration": 9,
    "start_time": "2023-02-17T23:20:16.872Z"
   },
   {
    "duration": 16,
    "start_time": "2023-02-17T23:20:16.883Z"
   },
   {
    "duration": 1219,
    "start_time": "2023-02-17T23:21:47.604Z"
   },
   {
    "duration": 508,
    "start_time": "2023-02-17T23:21:56.768Z"
   },
   {
    "duration": 22,
    "start_time": "2023-02-17T23:21:57.278Z"
   },
   {
    "duration": 16,
    "start_time": "2023-02-17T23:21:57.302Z"
   },
   {
    "duration": 9,
    "start_time": "2023-02-17T23:21:57.320Z"
   },
   {
    "duration": 34,
    "start_time": "2023-02-17T23:21:57.331Z"
   },
   {
    "duration": 3,
    "start_time": "2023-02-17T23:21:57.367Z"
   },
   {
    "duration": 33,
    "start_time": "2023-02-17T23:21:57.371Z"
   },
   {
    "duration": 9,
    "start_time": "2023-02-17T23:21:57.406Z"
   },
   {
    "duration": 9,
    "start_time": "2023-02-17T23:21:57.417Z"
   },
   {
    "duration": 4,
    "start_time": "2023-02-17T23:21:57.428Z"
   },
   {
    "duration": 39,
    "start_time": "2023-02-17T23:21:57.434Z"
   },
   {
    "duration": 30,
    "start_time": "2023-02-17T23:21:57.474Z"
   },
   {
    "duration": 4,
    "start_time": "2023-02-17T23:21:57.507Z"
   },
   {
    "duration": 21,
    "start_time": "2023-02-17T23:21:57.513Z"
   },
   {
    "duration": 23,
    "start_time": "2023-02-17T23:21:57.536Z"
   },
   {
    "duration": 39,
    "start_time": "2023-02-17T23:21:57.560Z"
   },
   {
    "duration": 5,
    "start_time": "2023-02-17T23:21:57.601Z"
   },
   {
    "duration": 19,
    "start_time": "2023-02-17T23:21:57.608Z"
   },
   {
    "duration": 6,
    "start_time": "2023-02-17T23:21:57.628Z"
   },
   {
    "duration": 5,
    "start_time": "2023-02-17T23:21:57.636Z"
   },
   {
    "duration": 16,
    "start_time": "2023-02-17T23:21:57.642Z"
   },
   {
    "duration": 6,
    "start_time": "2023-02-17T23:21:57.660Z"
   },
   {
    "duration": 15,
    "start_time": "2023-02-17T23:21:57.668Z"
   },
   {
    "duration": 850,
    "start_time": "2023-02-17T23:21:57.699Z"
   },
   {
    "duration": 6,
    "start_time": "2023-02-17T23:21:58.551Z"
   },
   {
    "duration": 9,
    "start_time": "2023-02-17T23:21:58.559Z"
   },
   {
    "duration": 31,
    "start_time": "2023-02-17T23:21:58.570Z"
   },
   {
    "duration": 135,
    "start_time": "2023-02-17T23:21:58.604Z"
   },
   {
    "duration": 23,
    "start_time": "2023-02-17T23:21:58.741Z"
   },
   {
    "duration": 1239,
    "start_time": "2023-02-17T23:21:58.765Z"
   },
   {
    "duration": 0,
    "start_time": "2023-02-17T23:22:00.006Z"
   },
   {
    "duration": 0,
    "start_time": "2023-02-17T23:22:00.007Z"
   },
   {
    "duration": 1133,
    "start_time": "2023-02-17T23:22:37.404Z"
   },
   {
    "duration": 443,
    "start_time": "2023-02-17T23:22:48.036Z"
   },
   {
    "duration": 24,
    "start_time": "2023-02-17T23:22:48.481Z"
   },
   {
    "duration": 18,
    "start_time": "2023-02-17T23:22:48.507Z"
   },
   {
    "duration": 9,
    "start_time": "2023-02-17T23:22:48.527Z"
   },
   {
    "duration": 34,
    "start_time": "2023-02-17T23:22:48.537Z"
   },
   {
    "duration": 3,
    "start_time": "2023-02-17T23:22:48.573Z"
   },
   {
    "duration": 32,
    "start_time": "2023-02-17T23:22:48.577Z"
   },
   {
    "duration": 11,
    "start_time": "2023-02-17T23:22:48.611Z"
   },
   {
    "duration": 12,
    "start_time": "2023-02-17T23:22:48.624Z"
   },
   {
    "duration": 4,
    "start_time": "2023-02-17T23:22:48.641Z"
   },
   {
    "duration": 31,
    "start_time": "2023-02-17T23:22:48.647Z"
   },
   {
    "duration": 33,
    "start_time": "2023-02-17T23:22:48.680Z"
   },
   {
    "duration": 10,
    "start_time": "2023-02-17T23:22:48.715Z"
   },
   {
    "duration": 12,
    "start_time": "2023-02-17T23:22:48.726Z"
   },
   {
    "duration": 20,
    "start_time": "2023-02-17T23:22:48.739Z"
   },
   {
    "duration": 16,
    "start_time": "2023-02-17T23:22:48.761Z"
   },
   {
    "duration": 27,
    "start_time": "2023-02-17T23:22:48.779Z"
   },
   {
    "duration": 12,
    "start_time": "2023-02-17T23:22:48.808Z"
   },
   {
    "duration": 10,
    "start_time": "2023-02-17T23:22:48.821Z"
   },
   {
    "duration": 3,
    "start_time": "2023-02-17T23:22:48.833Z"
   },
   {
    "duration": 13,
    "start_time": "2023-02-17T23:22:48.838Z"
   },
   {
    "duration": 11,
    "start_time": "2023-02-17T23:22:48.852Z"
   },
   {
    "duration": 20,
    "start_time": "2023-02-17T23:22:48.865Z"
   },
   {
    "duration": 883,
    "start_time": "2023-02-17T23:22:48.887Z"
   },
   {
    "duration": 8,
    "start_time": "2023-02-17T23:22:49.772Z"
   },
   {
    "duration": 31,
    "start_time": "2023-02-17T23:22:49.782Z"
   },
   {
    "duration": 19,
    "start_time": "2023-02-17T23:22:49.815Z"
   },
   {
    "duration": 126,
    "start_time": "2023-02-17T23:22:49.837Z"
   },
   {
    "duration": 43,
    "start_time": "2023-02-17T23:22:49.965Z"
   },
   {
    "duration": 9,
    "start_time": "2023-02-17T23:22:50.010Z"
   },
   {
    "duration": 7,
    "start_time": "2023-02-17T23:22:50.021Z"
   },
   {
    "duration": 8,
    "start_time": "2023-02-17T23:22:50.029Z"
   },
   {
    "duration": 1223,
    "start_time": "2023-02-17T23:23:57.639Z"
   },
   {
    "duration": 419,
    "start_time": "2023-02-17T23:24:03.254Z"
   },
   {
    "duration": 25,
    "start_time": "2023-02-17T23:24:03.676Z"
   },
   {
    "duration": 23,
    "start_time": "2023-02-17T23:24:03.703Z"
   },
   {
    "duration": 27,
    "start_time": "2023-02-17T23:24:03.728Z"
   },
   {
    "duration": 60,
    "start_time": "2023-02-17T23:24:03.756Z"
   },
   {
    "duration": 5,
    "start_time": "2023-02-17T23:24:03.817Z"
   },
   {
    "duration": 17,
    "start_time": "2023-02-17T23:24:03.824Z"
   },
   {
    "duration": 24,
    "start_time": "2023-02-17T23:24:03.843Z"
   },
   {
    "duration": 15,
    "start_time": "2023-02-17T23:24:03.868Z"
   },
   {
    "duration": 6,
    "start_time": "2023-02-17T23:24:03.887Z"
   },
   {
    "duration": 46,
    "start_time": "2023-02-17T23:24:03.895Z"
   },
   {
    "duration": 12,
    "start_time": "2023-02-17T23:24:03.943Z"
   },
   {
    "duration": 10,
    "start_time": "2023-02-17T23:24:03.958Z"
   },
   {
    "duration": 29,
    "start_time": "2023-02-17T23:24:03.970Z"
   },
   {
    "duration": 23,
    "start_time": "2023-02-17T23:24:04.001Z"
   },
   {
    "duration": 18,
    "start_time": "2023-02-17T23:24:04.026Z"
   },
   {
    "duration": 3,
    "start_time": "2023-02-17T23:24:04.045Z"
   },
   {
    "duration": 25,
    "start_time": "2023-02-17T23:24:04.050Z"
   },
   {
    "duration": 11,
    "start_time": "2023-02-17T23:24:04.077Z"
   },
   {
    "duration": 12,
    "start_time": "2023-02-17T23:24:04.090Z"
   },
   {
    "duration": 25,
    "start_time": "2023-02-17T23:24:04.104Z"
   },
   {
    "duration": 8,
    "start_time": "2023-02-17T23:24:04.131Z"
   },
   {
    "duration": 17,
    "start_time": "2023-02-17T23:24:04.140Z"
   },
   {
    "duration": 979,
    "start_time": "2023-02-17T23:24:04.158Z"
   },
   {
    "duration": 7,
    "start_time": "2023-02-17T23:24:05.138Z"
   },
   {
    "duration": 14,
    "start_time": "2023-02-17T23:24:05.147Z"
   },
   {
    "duration": 17,
    "start_time": "2023-02-17T23:24:05.163Z"
   },
   {
    "duration": 149,
    "start_time": "2023-02-17T23:24:05.182Z"
   },
   {
    "duration": 27,
    "start_time": "2023-02-17T23:24:05.332Z"
   },
   {
    "duration": 11,
    "start_time": "2023-02-17T23:24:05.360Z"
   },
   {
    "duration": 7,
    "start_time": "2023-02-17T23:24:05.373Z"
   },
   {
    "duration": 7,
    "start_time": "2023-02-17T23:24:05.400Z"
   },
   {
    "duration": 1208,
    "start_time": "2023-02-17T23:24:55.782Z"
   },
   {
    "duration": 467,
    "start_time": "2023-02-17T23:25:18.002Z"
   },
   {
    "duration": 22,
    "start_time": "2023-02-17T23:25:18.471Z"
   },
   {
    "duration": 15,
    "start_time": "2023-02-17T23:25:18.495Z"
   },
   {
    "duration": 15,
    "start_time": "2023-02-17T23:25:18.513Z"
   },
   {
    "duration": 36,
    "start_time": "2023-02-17T23:25:18.530Z"
   },
   {
    "duration": 3,
    "start_time": "2023-02-17T23:25:18.568Z"
   },
   {
    "duration": 33,
    "start_time": "2023-02-17T23:25:18.573Z"
   },
   {
    "duration": 10,
    "start_time": "2023-02-17T23:25:18.608Z"
   },
   {
    "duration": 12,
    "start_time": "2023-02-17T23:25:18.620Z"
   },
   {
    "duration": 5,
    "start_time": "2023-02-17T23:25:18.635Z"
   },
   {
    "duration": 31,
    "start_time": "2023-02-17T23:25:18.642Z"
   },
   {
    "duration": 34,
    "start_time": "2023-02-17T23:25:18.675Z"
   },
   {
    "duration": 7,
    "start_time": "2023-02-17T23:25:18.711Z"
   },
   {
    "duration": 15,
    "start_time": "2023-02-17T23:25:18.719Z"
   },
   {
    "duration": 18,
    "start_time": "2023-02-17T23:25:18.735Z"
   },
   {
    "duration": 16,
    "start_time": "2023-02-17T23:25:18.754Z"
   },
   {
    "duration": 4,
    "start_time": "2023-02-17T23:25:18.798Z"
   },
   {
    "duration": 13,
    "start_time": "2023-02-17T23:25:18.804Z"
   },
   {
    "duration": 11,
    "start_time": "2023-02-17T23:25:18.818Z"
   },
   {
    "duration": 4,
    "start_time": "2023-02-17T23:25:18.830Z"
   },
   {
    "duration": 10,
    "start_time": "2023-02-17T23:25:18.835Z"
   },
   {
    "duration": 2,
    "start_time": "2023-02-17T23:25:18.847Z"
   },
   {
    "duration": 13,
    "start_time": "2023-02-17T23:25:18.850Z"
   },
   {
    "duration": 900,
    "start_time": "2023-02-17T23:25:18.865Z"
   },
   {
    "duration": 8,
    "start_time": "2023-02-17T23:25:19.766Z"
   },
   {
    "duration": 24,
    "start_time": "2023-02-17T23:25:19.776Z"
   },
   {
    "duration": 17,
    "start_time": "2023-02-17T23:25:19.802Z"
   },
   {
    "duration": 153,
    "start_time": "2023-02-17T23:25:19.822Z"
   },
   {
    "duration": 36,
    "start_time": "2023-02-17T23:25:19.977Z"
   },
   {
    "duration": 15,
    "start_time": "2023-02-17T23:25:20.016Z"
   },
   {
    "duration": 7,
    "start_time": "2023-02-17T23:25:20.033Z"
   },
   {
    "duration": 6,
    "start_time": "2023-02-17T23:25:20.041Z"
   },
   {
    "duration": 1615,
    "start_time": "2023-02-17T23:25:50.431Z"
   },
   {
    "duration": 474,
    "start_time": "2023-02-17T23:25:56.396Z"
   },
   {
    "duration": 22,
    "start_time": "2023-02-17T23:25:56.873Z"
   },
   {
    "duration": 18,
    "start_time": "2023-02-17T23:25:56.897Z"
   },
   {
    "duration": 10,
    "start_time": "2023-02-17T23:25:56.917Z"
   },
   {
    "duration": 43,
    "start_time": "2023-02-17T23:25:56.928Z"
   },
   {
    "duration": 3,
    "start_time": "2023-02-17T23:25:56.972Z"
   },
   {
    "duration": 8,
    "start_time": "2023-02-17T23:25:57.000Z"
   },
   {
    "duration": 11,
    "start_time": "2023-02-17T23:25:57.009Z"
   },
   {
    "duration": 10,
    "start_time": "2023-02-17T23:25:57.022Z"
   },
   {
    "duration": 11,
    "start_time": "2023-02-17T23:25:57.035Z"
   },
   {
    "duration": 34,
    "start_time": "2023-02-17T23:25:57.047Z"
   },
   {
    "duration": 25,
    "start_time": "2023-02-17T23:25:57.083Z"
   },
   {
    "duration": 6,
    "start_time": "2023-02-17T23:25:57.110Z"
   },
   {
    "duration": 35,
    "start_time": "2023-02-17T23:25:57.118Z"
   },
   {
    "duration": 21,
    "start_time": "2023-02-17T23:25:57.154Z"
   },
   {
    "duration": 25,
    "start_time": "2023-02-17T23:25:57.177Z"
   },
   {
    "duration": 3,
    "start_time": "2023-02-17T23:25:57.204Z"
   },
   {
    "duration": 16,
    "start_time": "2023-02-17T23:25:57.209Z"
   },
   {
    "duration": 6,
    "start_time": "2023-02-17T23:25:57.227Z"
   },
   {
    "duration": 4,
    "start_time": "2023-02-17T23:25:57.234Z"
   },
   {
    "duration": 10,
    "start_time": "2023-02-17T23:25:57.240Z"
   },
   {
    "duration": 2,
    "start_time": "2023-02-17T23:25:57.252Z"
   },
   {
    "duration": 13,
    "start_time": "2023-02-17T23:25:57.256Z"
   },
   {
    "duration": 844,
    "start_time": "2023-02-17T23:25:57.299Z"
   },
   {
    "duration": 8,
    "start_time": "2023-02-17T23:25:58.145Z"
   },
   {
    "duration": 23,
    "start_time": "2023-02-17T23:25:58.154Z"
   },
   {
    "duration": 13,
    "start_time": "2023-02-17T23:25:58.178Z"
   },
   {
    "duration": 137,
    "start_time": "2023-02-17T23:25:58.201Z"
   },
   {
    "duration": 24,
    "start_time": "2023-02-17T23:25:58.340Z"
   },
   {
    "duration": 113,
    "start_time": "2023-02-17T23:25:58.366Z"
   },
   {
    "duration": 0,
    "start_time": "2023-02-17T23:25:58.480Z"
   },
   {
    "duration": 0,
    "start_time": "2023-02-17T23:25:58.481Z"
   },
   {
    "duration": 1134,
    "start_time": "2023-02-17T23:26:14.213Z"
   },
   {
    "duration": 470,
    "start_time": "2023-02-17T23:26:19.362Z"
   },
   {
    "duration": 20,
    "start_time": "2023-02-17T23:26:19.834Z"
   },
   {
    "duration": 15,
    "start_time": "2023-02-17T23:26:19.855Z"
   },
   {
    "duration": 9,
    "start_time": "2023-02-17T23:26:19.871Z"
   },
   {
    "duration": 44,
    "start_time": "2023-02-17T23:26:19.882Z"
   },
   {
    "duration": 3,
    "start_time": "2023-02-17T23:26:19.928Z"
   },
   {
    "duration": 13,
    "start_time": "2023-02-17T23:26:19.933Z"
   },
   {
    "duration": 5,
    "start_time": "2023-02-17T23:26:19.947Z"
   },
   {
    "duration": 12,
    "start_time": "2023-02-17T23:26:19.953Z"
   },
   {
    "duration": 4,
    "start_time": "2023-02-17T23:26:19.968Z"
   },
   {
    "duration": 34,
    "start_time": "2023-02-17T23:26:19.999Z"
   },
   {
    "duration": 9,
    "start_time": "2023-02-17T23:26:20.035Z"
   },
   {
    "duration": 7,
    "start_time": "2023-02-17T23:26:20.045Z"
   },
   {
    "duration": 18,
    "start_time": "2023-02-17T23:26:20.054Z"
   },
   {
    "duration": 33,
    "start_time": "2023-02-17T23:26:20.073Z"
   },
   {
    "duration": 18,
    "start_time": "2023-02-17T23:26:20.108Z"
   },
   {
    "duration": 4,
    "start_time": "2023-02-17T23:26:20.128Z"
   },
   {
    "duration": 13,
    "start_time": "2023-02-17T23:26:20.133Z"
   },
   {
    "duration": 6,
    "start_time": "2023-02-17T23:26:20.147Z"
   },
   {
    "duration": 4,
    "start_time": "2023-02-17T23:26:20.154Z"
   },
   {
    "duration": 13,
    "start_time": "2023-02-17T23:26:20.159Z"
   },
   {
    "duration": 26,
    "start_time": "2023-02-17T23:26:20.173Z"
   },
   {
    "duration": 14,
    "start_time": "2023-02-17T23:26:20.202Z"
   },
   {
    "duration": 883,
    "start_time": "2023-02-17T23:26:20.217Z"
   },
   {
    "duration": 8,
    "start_time": "2023-02-17T23:26:21.102Z"
   },
   {
    "duration": 13,
    "start_time": "2023-02-17T23:26:21.112Z"
   },
   {
    "duration": 15,
    "start_time": "2023-02-17T23:26:21.126Z"
   },
   {
    "duration": 175,
    "start_time": "2023-02-17T23:26:21.144Z"
   },
   {
    "duration": 23,
    "start_time": "2023-02-17T23:26:21.321Z"
   },
   {
    "duration": 9,
    "start_time": "2023-02-17T23:26:21.346Z"
   },
   {
    "duration": 4,
    "start_time": "2023-02-17T23:26:21.357Z"
   },
   {
    "duration": 8,
    "start_time": "2023-02-17T23:26:21.362Z"
   },
   {
    "duration": 1191,
    "start_time": "2023-02-17T23:27:08.702Z"
   },
   {
    "duration": 438,
    "start_time": "2023-02-17T23:27:17.330Z"
   },
   {
    "duration": 22,
    "start_time": "2023-02-17T23:27:17.769Z"
   },
   {
    "duration": 14,
    "start_time": "2023-02-17T23:27:17.792Z"
   },
   {
    "duration": 9,
    "start_time": "2023-02-17T23:27:17.808Z"
   },
   {
    "duration": 36,
    "start_time": "2023-02-17T23:27:17.818Z"
   },
   {
    "duration": 3,
    "start_time": "2023-02-17T23:27:17.855Z"
   },
   {
    "duration": 12,
    "start_time": "2023-02-17T23:27:17.860Z"
   },
   {
    "duration": 4,
    "start_time": "2023-02-17T23:27:17.874Z"
   },
   {
    "duration": 21,
    "start_time": "2023-02-17T23:27:17.880Z"
   },
   {
    "duration": 7,
    "start_time": "2023-02-17T23:27:17.904Z"
   },
   {
    "duration": 34,
    "start_time": "2023-02-17T23:27:17.912Z"
   },
   {
    "duration": 8,
    "start_time": "2023-02-17T23:27:17.948Z"
   },
   {
    "duration": 6,
    "start_time": "2023-02-17T23:27:17.957Z"
   },
   {
    "duration": 13,
    "start_time": "2023-02-17T23:27:17.964Z"
   },
   {
    "duration": 36,
    "start_time": "2023-02-17T23:27:17.979Z"
   },
   {
    "duration": 18,
    "start_time": "2023-02-17T23:27:18.017Z"
   },
   {
    "duration": 4,
    "start_time": "2023-02-17T23:27:18.036Z"
   },
   {
    "duration": 16,
    "start_time": "2023-02-17T23:27:18.041Z"
   },
   {
    "duration": 10,
    "start_time": "2023-02-17T23:27:18.058Z"
   },
   {
    "duration": 30,
    "start_time": "2023-02-17T23:27:18.069Z"
   },
   {
    "duration": 12,
    "start_time": "2023-02-17T23:27:18.101Z"
   },
   {
    "duration": 4,
    "start_time": "2023-02-17T23:27:18.115Z"
   },
   {
    "duration": 13,
    "start_time": "2023-02-17T23:27:18.121Z"
   },
   {
    "duration": 895,
    "start_time": "2023-02-17T23:27:18.136Z"
   },
   {
    "duration": 8,
    "start_time": "2023-02-17T23:27:19.033Z"
   },
   {
    "duration": 10,
    "start_time": "2023-02-17T23:27:19.043Z"
   },
   {
    "duration": 15,
    "start_time": "2023-02-17T23:27:19.055Z"
   },
   {
    "duration": 146,
    "start_time": "2023-02-17T23:27:19.073Z"
   },
   {
    "duration": 23,
    "start_time": "2023-02-17T23:27:19.221Z"
   },
   {
    "duration": 7,
    "start_time": "2023-02-17T23:27:19.246Z"
   },
   {
    "duration": 4,
    "start_time": "2023-02-17T23:27:19.254Z"
   },
   {
    "duration": 5,
    "start_time": "2023-02-17T23:27:19.260Z"
   },
   {
    "duration": 1375,
    "start_time": "2023-02-17T23:27:34.477Z"
   },
   {
    "duration": 459,
    "start_time": "2023-02-17T23:27:41.561Z"
   },
   {
    "duration": 30,
    "start_time": "2023-02-17T23:27:42.022Z"
   },
   {
    "duration": 14,
    "start_time": "2023-02-17T23:27:42.054Z"
   },
   {
    "duration": 11,
    "start_time": "2023-02-17T23:27:42.070Z"
   },
   {
    "duration": 81,
    "start_time": "2023-02-17T23:27:42.082Z"
   },
   {
    "duration": 3,
    "start_time": "2023-02-17T23:27:42.165Z"
   },
   {
    "duration": 16,
    "start_time": "2023-02-17T23:27:42.169Z"
   },
   {
    "duration": 14,
    "start_time": "2023-02-17T23:27:42.187Z"
   },
   {
    "duration": 17,
    "start_time": "2023-02-17T23:27:42.203Z"
   },
   {
    "duration": 6,
    "start_time": "2023-02-17T23:27:42.222Z"
   },
   {
    "duration": 50,
    "start_time": "2023-02-17T23:27:42.229Z"
   },
   {
    "duration": 19,
    "start_time": "2023-02-17T23:27:42.281Z"
   },
   {
    "duration": 4,
    "start_time": "2023-02-17T23:27:42.302Z"
   },
   {
    "duration": 29,
    "start_time": "2023-02-17T23:27:42.308Z"
   },
   {
    "duration": 27,
    "start_time": "2023-02-17T23:27:42.339Z"
   },
   {
    "duration": 18,
    "start_time": "2023-02-17T23:27:42.368Z"
   },
   {
    "duration": 12,
    "start_time": "2023-02-17T23:27:42.388Z"
   },
   {
    "duration": 12,
    "start_time": "2023-02-17T23:27:42.402Z"
   },
   {
    "duration": 7,
    "start_time": "2023-02-17T23:27:42.416Z"
   },
   {
    "duration": 15,
    "start_time": "2023-02-17T23:27:42.424Z"
   },
   {
    "duration": 15,
    "start_time": "2023-02-17T23:27:42.440Z"
   },
   {
    "duration": 5,
    "start_time": "2023-02-17T23:27:42.457Z"
   },
   {
    "duration": 17,
    "start_time": "2023-02-17T23:27:42.464Z"
   },
   {
    "duration": 918,
    "start_time": "2023-02-17T23:27:42.500Z"
   },
   {
    "duration": 8,
    "start_time": "2023-02-17T23:27:43.420Z"
   },
   {
    "duration": 12,
    "start_time": "2023-02-17T23:27:43.430Z"
   },
   {
    "duration": 15,
    "start_time": "2023-02-17T23:27:43.444Z"
   },
   {
    "duration": 180,
    "start_time": "2023-02-17T23:27:43.462Z"
   },
   {
    "duration": 25,
    "start_time": "2023-02-17T23:27:43.644Z"
   },
   {
    "duration": 8,
    "start_time": "2023-02-17T23:27:43.671Z"
   },
   {
    "duration": 2,
    "start_time": "2023-02-17T23:27:43.700Z"
   },
   {
    "duration": 10,
    "start_time": "2023-02-17T23:27:43.704Z"
   },
   {
    "duration": 479,
    "start_time": "2023-02-17T23:28:12.825Z"
   },
   {
    "duration": 24,
    "start_time": "2023-02-17T23:28:13.305Z"
   },
   {
    "duration": 15,
    "start_time": "2023-02-17T23:28:13.331Z"
   },
   {
    "duration": 11,
    "start_time": "2023-02-17T23:28:13.348Z"
   },
   {
    "duration": 58,
    "start_time": "2023-02-17T23:28:13.361Z"
   },
   {
    "duration": 5,
    "start_time": "2023-02-17T23:28:13.420Z"
   },
   {
    "duration": 12,
    "start_time": "2023-02-17T23:28:13.428Z"
   },
   {
    "duration": 12,
    "start_time": "2023-02-17T23:28:13.442Z"
   },
   {
    "duration": 10,
    "start_time": "2023-02-17T23:28:13.455Z"
   },
   {
    "duration": 5,
    "start_time": "2023-02-17T23:28:13.467Z"
   },
   {
    "duration": 43,
    "start_time": "2023-02-17T23:28:13.500Z"
   },
   {
    "duration": 9,
    "start_time": "2023-02-17T23:28:13.544Z"
   },
   {
    "duration": 6,
    "start_time": "2023-02-17T23:28:13.555Z"
   },
   {
    "duration": 16,
    "start_time": "2023-02-17T23:28:13.562Z"
   },
   {
    "duration": 37,
    "start_time": "2023-02-17T23:28:13.580Z"
   },
   {
    "duration": 31,
    "start_time": "2023-02-17T23:28:13.619Z"
   },
   {
    "duration": 4,
    "start_time": "2023-02-17T23:28:13.652Z"
   },
   {
    "duration": 13,
    "start_time": "2023-02-17T23:28:13.658Z"
   },
   {
    "duration": 6,
    "start_time": "2023-02-17T23:28:13.673Z"
   },
   {
    "duration": 19,
    "start_time": "2023-02-17T23:28:13.681Z"
   },
   {
    "duration": 31,
    "start_time": "2023-02-17T23:28:13.702Z"
   },
   {
    "duration": 7,
    "start_time": "2023-02-17T23:28:13.735Z"
   },
   {
    "duration": 16,
    "start_time": "2023-02-17T23:28:13.744Z"
   },
   {
    "duration": 881,
    "start_time": "2023-02-17T23:28:13.761Z"
   },
   {
    "duration": 8,
    "start_time": "2023-02-17T23:28:14.643Z"
   },
   {
    "duration": 30,
    "start_time": "2023-02-17T23:28:14.653Z"
   },
   {
    "duration": 34,
    "start_time": "2023-02-17T23:28:14.684Z"
   },
   {
    "duration": 129,
    "start_time": "2023-02-17T23:28:14.721Z"
   },
   {
    "duration": 24,
    "start_time": "2023-02-17T23:28:14.851Z"
   },
   {
    "duration": 73,
    "start_time": "2023-02-17T23:28:14.876Z"
   },
   {
    "duration": 0,
    "start_time": "2023-02-17T23:28:14.951Z"
   },
   {
    "duration": 0,
    "start_time": "2023-02-17T23:28:14.952Z"
   },
   {
    "duration": 8,
    "start_time": "2023-02-17T23:28:18.959Z"
   },
   {
    "duration": 1191,
    "start_time": "2023-02-17T23:29:07.832Z"
   },
   {
    "duration": 450,
    "start_time": "2023-02-17T23:29:13.925Z"
   },
   {
    "duration": 23,
    "start_time": "2023-02-17T23:29:14.376Z"
   },
   {
    "duration": 33,
    "start_time": "2023-02-17T23:29:14.401Z"
   },
   {
    "duration": 8,
    "start_time": "2023-02-17T23:29:14.436Z"
   },
   {
    "duration": 32,
    "start_time": "2023-02-17T23:29:14.446Z"
   },
   {
    "duration": 3,
    "start_time": "2023-02-17T23:29:14.479Z"
   },
   {
    "duration": 21,
    "start_time": "2023-02-17T23:29:14.484Z"
   },
   {
    "duration": 4,
    "start_time": "2023-02-17T23:29:14.507Z"
   },
   {
    "duration": 16,
    "start_time": "2023-02-17T23:29:14.513Z"
   },
   {
    "duration": 15,
    "start_time": "2023-02-17T23:29:14.531Z"
   },
   {
    "duration": 34,
    "start_time": "2023-02-17T23:29:14.548Z"
   },
   {
    "duration": 16,
    "start_time": "2023-02-17T23:29:14.584Z"
   },
   {
    "duration": 5,
    "start_time": "2023-02-17T23:29:14.602Z"
   },
   {
    "duration": 18,
    "start_time": "2023-02-17T23:29:14.610Z"
   },
   {
    "duration": 20,
    "start_time": "2023-02-17T23:29:14.631Z"
   },
   {
    "duration": 16,
    "start_time": "2023-02-17T23:29:14.652Z"
   },
   {
    "duration": 3,
    "start_time": "2023-02-17T23:29:14.670Z"
   },
   {
    "duration": 20,
    "start_time": "2023-02-17T23:29:14.698Z"
   },
   {
    "duration": 9,
    "start_time": "2023-02-17T23:29:14.720Z"
   },
   {
    "duration": 4,
    "start_time": "2023-02-17T23:29:14.731Z"
   },
   {
    "duration": 16,
    "start_time": "2023-02-17T23:29:14.737Z"
   },
   {
    "duration": 6,
    "start_time": "2023-02-17T23:29:14.754Z"
   },
   {
    "duration": 15,
    "start_time": "2023-02-17T23:29:14.761Z"
   },
   {
    "duration": 893,
    "start_time": "2023-02-17T23:29:14.778Z"
   },
   {
    "duration": 7,
    "start_time": "2023-02-17T23:29:15.673Z"
   },
   {
    "duration": 24,
    "start_time": "2023-02-17T23:29:15.682Z"
   },
   {
    "duration": 14,
    "start_time": "2023-02-17T23:29:15.708Z"
   },
   {
    "duration": 138,
    "start_time": "2023-02-17T23:29:15.724Z"
   },
   {
    "duration": 35,
    "start_time": "2023-02-17T23:29:15.864Z"
   },
   {
    "duration": 11,
    "start_time": "2023-02-17T23:29:15.901Z"
   },
   {
    "duration": 12,
    "start_time": "2023-02-17T23:29:15.914Z"
   },
   {
    "duration": 5,
    "start_time": "2023-02-17T23:29:15.928Z"
   },
   {
    "duration": 48,
    "start_time": "2023-02-18T08:37:58.326Z"
   },
   {
    "duration": 6,
    "start_time": "2023-02-18T08:38:14.671Z"
   },
   {
    "duration": 7,
    "start_time": "2023-02-18T08:38:16.555Z"
   },
   {
    "duration": 574,
    "start_time": "2023-02-18T08:38:30.823Z"
   },
   {
    "duration": 25,
    "start_time": "2023-02-18T08:38:31.402Z"
   },
   {
    "duration": 15,
    "start_time": "2023-02-18T08:38:31.429Z"
   },
   {
    "duration": 10,
    "start_time": "2023-02-18T08:38:31.446Z"
   },
   {
    "duration": 62,
    "start_time": "2023-02-18T08:38:31.458Z"
   },
   {
    "duration": 4,
    "start_time": "2023-02-18T08:38:31.521Z"
   },
   {
    "duration": 20,
    "start_time": "2023-02-18T08:38:31.526Z"
   },
   {
    "duration": 20,
    "start_time": "2023-02-18T08:38:31.547Z"
   },
   {
    "duration": 13,
    "start_time": "2023-02-18T08:38:31.568Z"
   },
   {
    "duration": 9,
    "start_time": "2023-02-18T08:38:31.583Z"
   },
   {
    "duration": 56,
    "start_time": "2023-02-18T08:38:31.594Z"
   },
   {
    "duration": 9,
    "start_time": "2023-02-18T08:38:31.652Z"
   },
   {
    "duration": 35,
    "start_time": "2023-02-18T08:38:31.662Z"
   },
   {
    "duration": 27,
    "start_time": "2023-02-18T08:38:31.712Z"
   },
   {
    "duration": 25,
    "start_time": "2023-02-18T08:38:31.740Z"
   },
   {
    "duration": 16,
    "start_time": "2023-02-18T08:38:31.767Z"
   },
   {
    "duration": 3,
    "start_time": "2023-02-18T08:38:31.785Z"
   },
   {
    "duration": 23,
    "start_time": "2023-02-18T08:38:31.789Z"
   },
   {
    "duration": 19,
    "start_time": "2023-02-18T08:38:31.814Z"
   },
   {
    "duration": 9,
    "start_time": "2023-02-18T08:38:31.834Z"
   },
   {
    "duration": 11,
    "start_time": "2023-02-18T08:38:31.845Z"
   },
   {
    "duration": 12,
    "start_time": "2023-02-18T08:38:31.858Z"
   },
   {
    "duration": 16,
    "start_time": "2023-02-18T08:38:31.872Z"
   },
   {
    "duration": 1057,
    "start_time": "2023-02-18T08:38:31.889Z"
   },
   {
    "duration": 8,
    "start_time": "2023-02-18T08:38:32.947Z"
   },
   {
    "duration": 7,
    "start_time": "2023-02-18T08:38:32.957Z"
   },
   {
    "duration": 16,
    "start_time": "2023-02-18T08:38:32.965Z"
   },
   {
    "duration": 155,
    "start_time": "2023-02-18T08:38:32.984Z"
   },
   {
    "duration": 10,
    "start_time": "2023-02-18T08:38:33.141Z"
   },
   {
    "duration": 118,
    "start_time": "2023-02-18T08:38:33.153Z"
   },
   {
    "duration": 0,
    "start_time": "2023-02-18T08:38:33.273Z"
   },
   {
    "duration": 0,
    "start_time": "2023-02-18T08:38:33.275Z"
   },
   {
    "duration": 464,
    "start_time": "2023-02-18T08:39:14.270Z"
   },
   {
    "duration": 21,
    "start_time": "2023-02-18T08:39:14.736Z"
   },
   {
    "duration": 14,
    "start_time": "2023-02-18T08:39:14.758Z"
   },
   {
    "duration": 9,
    "start_time": "2023-02-18T08:39:14.773Z"
   },
   {
    "duration": 33,
    "start_time": "2023-02-18T08:39:14.806Z"
   },
   {
    "duration": 4,
    "start_time": "2023-02-18T08:39:14.841Z"
   },
   {
    "duration": 14,
    "start_time": "2023-02-18T08:39:14.847Z"
   },
   {
    "duration": 5,
    "start_time": "2023-02-18T08:39:14.862Z"
   },
   {
    "duration": 7,
    "start_time": "2023-02-18T08:39:14.869Z"
   },
   {
    "duration": 32,
    "start_time": "2023-02-18T08:39:14.879Z"
   },
   {
    "duration": 36,
    "start_time": "2023-02-18T08:39:14.912Z"
   },
   {
    "duration": 9,
    "start_time": "2023-02-18T08:39:14.950Z"
   },
   {
    "duration": 5,
    "start_time": "2023-02-18T08:39:14.960Z"
   },
   {
    "duration": 13,
    "start_time": "2023-02-18T08:39:14.966Z"
   },
   {
    "duration": 29,
    "start_time": "2023-02-18T08:39:14.981Z"
   },
   {
    "duration": 16,
    "start_time": "2023-02-18T08:39:15.012Z"
   },
   {
    "duration": 3,
    "start_time": "2023-02-18T08:39:15.030Z"
   },
   {
    "duration": 13,
    "start_time": "2023-02-18T08:39:15.035Z"
   },
   {
    "duration": 22,
    "start_time": "2023-02-18T08:39:15.050Z"
   },
   {
    "duration": 12,
    "start_time": "2023-02-18T08:39:15.074Z"
   },
   {
    "duration": 11,
    "start_time": "2023-02-18T08:39:15.089Z"
   },
   {
    "duration": 20,
    "start_time": "2023-02-18T08:39:15.101Z"
   },
   {
    "duration": 14,
    "start_time": "2023-02-18T08:39:15.122Z"
   },
   {
    "duration": 832,
    "start_time": "2023-02-18T08:39:15.137Z"
   },
   {
    "duration": 8,
    "start_time": "2023-02-18T08:39:15.970Z"
   },
   {
    "duration": 9,
    "start_time": "2023-02-18T08:39:15.980Z"
   },
   {
    "duration": 20,
    "start_time": "2023-02-18T08:39:15.999Z"
   },
   {
    "duration": 169,
    "start_time": "2023-02-18T08:39:16.022Z"
   },
   {
    "duration": 54,
    "start_time": "2023-02-18T08:39:16.193Z"
   },
   {
    "duration": 19,
    "start_time": "2023-02-18T08:39:16.249Z"
   },
   {
    "duration": 9,
    "start_time": "2023-02-18T08:39:16.271Z"
   },
   {
    "duration": 7,
    "start_time": "2023-02-18T08:39:16.283Z"
   },
   {
    "duration": 496,
    "start_time": "2023-02-18T08:45:12.616Z"
   },
   {
    "duration": 24,
    "start_time": "2023-02-18T08:45:13.114Z"
   },
   {
    "duration": 17,
    "start_time": "2023-02-18T08:45:13.140Z"
   },
   {
    "duration": 10,
    "start_time": "2023-02-18T08:45:13.159Z"
   },
   {
    "duration": 60,
    "start_time": "2023-02-18T08:45:13.170Z"
   },
   {
    "duration": 4,
    "start_time": "2023-02-18T08:45:13.232Z"
   },
   {
    "duration": 12,
    "start_time": "2023-02-18T08:45:13.238Z"
   },
   {
    "duration": 4,
    "start_time": "2023-02-18T08:45:13.252Z"
   },
   {
    "duration": 14,
    "start_time": "2023-02-18T08:45:13.258Z"
   },
   {
    "duration": 35,
    "start_time": "2023-02-18T08:45:13.275Z"
   },
   {
    "duration": 35,
    "start_time": "2023-02-18T08:45:13.312Z"
   },
   {
    "duration": 10,
    "start_time": "2023-02-18T08:45:13.349Z"
   },
   {
    "duration": 5,
    "start_time": "2023-02-18T08:45:13.360Z"
   },
   {
    "duration": 15,
    "start_time": "2023-02-18T08:45:13.366Z"
   },
   {
    "duration": 54,
    "start_time": "2023-02-18T08:45:13.382Z"
   },
   {
    "duration": 18,
    "start_time": "2023-02-18T08:45:13.437Z"
   },
   {
    "duration": 4,
    "start_time": "2023-02-18T08:45:13.457Z"
   },
   {
    "duration": 15,
    "start_time": "2023-02-18T08:45:13.462Z"
   },
   {
    "duration": 12,
    "start_time": "2023-02-18T08:45:13.479Z"
   },
   {
    "duration": 23,
    "start_time": "2023-02-18T08:45:13.493Z"
   },
   {
    "duration": 21,
    "start_time": "2023-02-18T08:45:13.518Z"
   },
   {
    "duration": 10,
    "start_time": "2023-02-18T08:45:13.541Z"
   },
   {
    "duration": 14,
    "start_time": "2023-02-18T08:45:13.553Z"
   },
   {
    "duration": 1002,
    "start_time": "2023-02-18T08:45:13.569Z"
   },
   {
    "duration": 8,
    "start_time": "2023-02-18T08:45:14.573Z"
   },
   {
    "duration": 8,
    "start_time": "2023-02-18T08:45:14.582Z"
   },
   {
    "duration": 114,
    "start_time": "2023-02-18T08:45:14.599Z"
   },
   {
    "duration": 0,
    "start_time": "2023-02-18T08:45:14.715Z"
   },
   {
    "duration": 0,
    "start_time": "2023-02-18T08:45:14.716Z"
   },
   {
    "duration": 0,
    "start_time": "2023-02-18T08:45:14.718Z"
   },
   {
    "duration": 0,
    "start_time": "2023-02-18T08:45:14.719Z"
   },
   {
    "duration": 0,
    "start_time": "2023-02-18T08:45:14.720Z"
   },
   {
    "duration": 15,
    "start_time": "2023-02-18T08:47:16.646Z"
   },
   {
    "duration": 14,
    "start_time": "2023-02-18T08:48:32.923Z"
   },
   {
    "duration": 529,
    "start_time": "2023-02-18T08:48:46.459Z"
   },
   {
    "duration": 37,
    "start_time": "2023-02-18T08:48:46.990Z"
   },
   {
    "duration": 22,
    "start_time": "2023-02-18T08:48:47.030Z"
   },
   {
    "duration": 12,
    "start_time": "2023-02-18T08:48:47.055Z"
   },
   {
    "duration": 78,
    "start_time": "2023-02-18T08:48:47.068Z"
   },
   {
    "duration": 5,
    "start_time": "2023-02-18T08:48:47.148Z"
   },
   {
    "duration": 12,
    "start_time": "2023-02-18T08:48:47.155Z"
   },
   {
    "duration": 5,
    "start_time": "2023-02-18T08:48:47.170Z"
   },
   {
    "duration": 27,
    "start_time": "2023-02-18T08:48:47.178Z"
   },
   {
    "duration": 48,
    "start_time": "2023-02-18T08:48:47.211Z"
   },
   {
    "duration": 54,
    "start_time": "2023-02-18T08:48:47.262Z"
   },
   {
    "duration": 23,
    "start_time": "2023-02-18T08:48:47.318Z"
   },
   {
    "duration": 7,
    "start_time": "2023-02-18T08:48:47.343Z"
   },
   {
    "duration": 15,
    "start_time": "2023-02-18T08:48:47.352Z"
   },
   {
    "duration": 34,
    "start_time": "2023-02-18T08:48:47.369Z"
   },
   {
    "duration": 29,
    "start_time": "2023-02-18T08:48:47.405Z"
   },
   {
    "duration": 5,
    "start_time": "2023-02-18T08:48:47.436Z"
   },
   {
    "duration": 14,
    "start_time": "2023-02-18T08:48:47.442Z"
   },
   {
    "duration": 10,
    "start_time": "2023-02-18T08:48:47.457Z"
   },
   {
    "duration": 33,
    "start_time": "2023-02-18T08:48:47.471Z"
   },
   {
    "duration": 37,
    "start_time": "2023-02-18T08:48:47.507Z"
   },
   {
    "duration": 5,
    "start_time": "2023-02-18T08:48:47.546Z"
   },
   {
    "duration": 17,
    "start_time": "2023-02-18T08:48:47.553Z"
   },
   {
    "duration": 972,
    "start_time": "2023-02-18T08:48:47.572Z"
   },
   {
    "duration": 7,
    "start_time": "2023-02-18T08:48:48.545Z"
   },
   {
    "duration": 4,
    "start_time": "2023-02-18T08:48:48.554Z"
   },
   {
    "duration": 117,
    "start_time": "2023-02-18T08:48:48.559Z"
   },
   {
    "duration": 0,
    "start_time": "2023-02-18T08:48:48.677Z"
   },
   {
    "duration": 0,
    "start_time": "2023-02-18T08:48:48.679Z"
   },
   {
    "duration": 0,
    "start_time": "2023-02-18T08:48:48.680Z"
   },
   {
    "duration": 0,
    "start_time": "2023-02-18T08:48:48.680Z"
   },
   {
    "duration": 0,
    "start_time": "2023-02-18T08:48:48.682Z"
   },
   {
    "duration": 15,
    "start_time": "2023-02-18T08:49:01.942Z"
   },
   {
    "duration": 18,
    "start_time": "2023-02-18T08:49:10.462Z"
   },
   {
    "duration": 28,
    "start_time": "2023-02-18T08:50:07.139Z"
   },
   {
    "duration": 16,
    "start_time": "2023-02-18T08:50:17.150Z"
   },
   {
    "duration": 161,
    "start_time": "2023-02-18T08:50:22.592Z"
   },
   {
    "duration": 41,
    "start_time": "2023-02-18T08:50:26.352Z"
   },
   {
    "duration": 38,
    "start_time": "2023-02-18T08:56:26.920Z"
   },
   {
    "duration": 37,
    "start_time": "2023-02-18T08:56:42.384Z"
   },
   {
    "duration": 26,
    "start_time": "2023-02-18T08:57:15.819Z"
   },
   {
    "duration": 30,
    "start_time": "2023-02-18T08:57:45.018Z"
   },
   {
    "duration": 1000,
    "start_time": "2023-02-18T09:00:28.857Z"
   },
   {
    "duration": 1042,
    "start_time": "2023-02-18T09:00:37.055Z"
   },
   {
    "duration": 23,
    "start_time": "2023-02-18T09:00:57.135Z"
   },
   {
    "duration": 27,
    "start_time": "2023-02-18T09:01:05.130Z"
   },
   {
    "duration": 945,
    "start_time": "2023-02-18T09:01:22.694Z"
   },
   {
    "duration": 966,
    "start_time": "2023-02-18T09:01:28.917Z"
   },
   {
    "duration": 12,
    "start_time": "2023-02-18T09:02:02.432Z"
   },
   {
    "duration": 41,
    "start_time": "2023-02-18T09:02:30.007Z"
   },
   {
    "duration": 498,
    "start_time": "2023-02-18T09:02:41.419Z"
   },
   {
    "duration": 26,
    "start_time": "2023-02-18T09:02:41.919Z"
   },
   {
    "duration": 20,
    "start_time": "2023-02-18T09:02:41.946Z"
   },
   {
    "duration": 14,
    "start_time": "2023-02-18T09:02:41.967Z"
   },
   {
    "duration": 40,
    "start_time": "2023-02-18T09:02:42.000Z"
   },
   {
    "duration": 4,
    "start_time": "2023-02-18T09:02:42.041Z"
   },
   {
    "duration": 12,
    "start_time": "2023-02-18T09:02:42.046Z"
   },
   {
    "duration": 7,
    "start_time": "2023-02-18T09:02:42.060Z"
   },
   {
    "duration": 42,
    "start_time": "2023-02-18T09:02:42.069Z"
   },
   {
    "duration": 14,
    "start_time": "2023-02-18T09:02:42.113Z"
   },
   {
    "duration": 37,
    "start_time": "2023-02-18T09:02:42.128Z"
   },
   {
    "duration": 13,
    "start_time": "2023-02-18T09:02:42.167Z"
   },
   {
    "duration": 6,
    "start_time": "2023-02-18T09:02:42.181Z"
   },
   {
    "duration": 25,
    "start_time": "2023-02-18T09:02:42.190Z"
   },
   {
    "duration": 27,
    "start_time": "2023-02-18T09:02:42.217Z"
   },
   {
    "duration": 22,
    "start_time": "2023-02-18T09:02:42.248Z"
   },
   {
    "duration": 16,
    "start_time": "2023-02-18T09:02:42.273Z"
   },
   {
    "duration": 50,
    "start_time": "2023-02-18T09:02:42.291Z"
   },
   {
    "duration": 15,
    "start_time": "2023-02-18T09:02:42.343Z"
   },
   {
    "duration": 4,
    "start_time": "2023-02-18T09:02:42.360Z"
   },
   {
    "duration": 13,
    "start_time": "2023-02-18T09:02:42.366Z"
   },
   {
    "duration": 6,
    "start_time": "2023-02-18T09:02:42.381Z"
   },
   {
    "duration": 22,
    "start_time": "2023-02-18T09:02:42.389Z"
   },
   {
    "duration": 921,
    "start_time": "2023-02-18T09:02:42.419Z"
   },
   {
    "duration": 10,
    "start_time": "2023-02-18T09:02:43.342Z"
   },
   {
    "duration": 3,
    "start_time": "2023-02-18T09:02:43.354Z"
   },
   {
    "duration": 29,
    "start_time": "2023-02-18T09:02:43.359Z"
   },
   {
    "duration": 157,
    "start_time": "2023-02-18T09:02:43.403Z"
   },
   {
    "duration": 151,
    "start_time": "2023-02-18T09:02:43.562Z"
   },
   {
    "duration": 0,
    "start_time": "2023-02-18T09:02:43.717Z"
   },
   {
    "duration": 0,
    "start_time": "2023-02-18T09:02:43.719Z"
   },
   {
    "duration": 1,
    "start_time": "2023-02-18T09:02:43.720Z"
   },
   {
    "duration": 23,
    "start_time": "2023-02-18T09:02:52.135Z"
   },
   {
    "duration": 42,
    "start_time": "2023-02-18T09:03:01.743Z"
   },
   {
    "duration": 42,
    "start_time": "2023-02-18T09:03:54.336Z"
   },
   {
    "duration": 1008,
    "start_time": "2023-02-18T09:04:53.467Z"
   },
   {
    "duration": 10,
    "start_time": "2023-02-18T09:05:13.486Z"
   },
   {
    "duration": 918,
    "start_time": "2023-02-18T09:05:27.967Z"
   },
   {
    "duration": 20,
    "start_time": "2023-02-18T09:07:12.271Z"
   },
   {
    "duration": 13,
    "start_time": "2023-02-18T09:07:43.633Z"
   },
   {
    "duration": 137,
    "start_time": "2023-02-18T09:08:00.570Z"
   },
   {
    "duration": 29,
    "start_time": "2023-02-18T09:08:44.791Z"
   },
   {
    "duration": 23,
    "start_time": "2023-02-18T09:09:41.124Z"
   },
   {
    "duration": 23,
    "start_time": "2023-02-18T09:10:13.734Z"
   },
   {
    "duration": 20,
    "start_time": "2023-02-18T09:10:39.880Z"
   },
   {
    "duration": 22,
    "start_time": "2023-02-18T09:11:52.966Z"
   },
   {
    "duration": 139,
    "start_time": "2023-02-18T09:12:35.281Z"
   },
   {
    "duration": 150,
    "start_time": "2023-02-18T09:12:38.218Z"
   },
   {
    "duration": 134,
    "start_time": "2023-02-18T09:12:53.217Z"
   },
   {
    "duration": 139,
    "start_time": "2023-02-18T09:12:59.625Z"
   },
   {
    "duration": 39,
    "start_time": "2023-02-18T09:13:12.578Z"
   },
   {
    "duration": 35,
    "start_time": "2023-02-18T09:14:50.785Z"
   },
   {
    "duration": 33,
    "start_time": "2023-02-18T09:16:40.389Z"
   },
   {
    "duration": 36,
    "start_time": "2023-02-18T09:17:30.887Z"
   },
   {
    "duration": 40,
    "start_time": "2023-02-18T09:17:41.097Z"
   },
   {
    "duration": 35,
    "start_time": "2023-02-18T09:18:05.175Z"
   },
   {
    "duration": 31,
    "start_time": "2023-02-18T09:18:17.895Z"
   },
   {
    "duration": 73,
    "start_time": "2023-02-18T09:18:33.652Z"
   },
   {
    "duration": 499,
    "start_time": "2023-02-18T09:18:45.933Z"
   },
   {
    "duration": 37,
    "start_time": "2023-02-18T09:18:46.435Z"
   },
   {
    "duration": 45,
    "start_time": "2023-02-18T09:18:46.474Z"
   },
   {
    "duration": 14,
    "start_time": "2023-02-18T09:18:46.522Z"
   },
   {
    "duration": 39,
    "start_time": "2023-02-18T09:18:46.538Z"
   },
   {
    "duration": 4,
    "start_time": "2023-02-18T09:18:46.579Z"
   },
   {
    "duration": 18,
    "start_time": "2023-02-18T09:18:46.600Z"
   },
   {
    "duration": 7,
    "start_time": "2023-02-18T09:18:46.621Z"
   },
   {
    "duration": 10,
    "start_time": "2023-02-18T09:18:46.631Z"
   },
   {
    "duration": 6,
    "start_time": "2023-02-18T09:18:46.647Z"
   },
   {
    "duration": 68,
    "start_time": "2023-02-18T09:18:46.655Z"
   },
   {
    "duration": 10,
    "start_time": "2023-02-18T09:18:46.725Z"
   },
   {
    "duration": 5,
    "start_time": "2023-02-18T09:18:46.737Z"
   },
   {
    "duration": 16,
    "start_time": "2023-02-18T09:18:46.744Z"
   },
   {
    "duration": 51,
    "start_time": "2023-02-18T09:18:46.762Z"
   },
   {
    "duration": 20,
    "start_time": "2023-02-18T09:18:46.815Z"
   },
   {
    "duration": 4,
    "start_time": "2023-02-18T09:18:46.837Z"
   },
   {
    "duration": 15,
    "start_time": "2023-02-18T09:18:46.842Z"
   },
   {
    "duration": 7,
    "start_time": "2023-02-18T09:18:46.860Z"
   },
   {
    "duration": 5,
    "start_time": "2023-02-18T09:18:46.869Z"
   },
   {
    "duration": 25,
    "start_time": "2023-02-18T09:18:46.899Z"
   },
   {
    "duration": 6,
    "start_time": "2023-02-18T09:18:46.926Z"
   },
   {
    "duration": 18,
    "start_time": "2023-02-18T09:18:46.934Z"
   },
   {
    "duration": 1017,
    "start_time": "2023-02-18T09:18:46.954Z"
   },
   {
    "duration": 9,
    "start_time": "2023-02-18T09:18:47.973Z"
   },
   {
    "duration": 26,
    "start_time": "2023-02-18T09:18:47.984Z"
   },
   {
    "duration": 21,
    "start_time": "2023-02-18T09:18:48.016Z"
   },
   {
    "duration": 168,
    "start_time": "2023-02-18T09:18:48.042Z"
   },
   {
    "duration": 13,
    "start_time": "2023-02-18T09:18:48.212Z"
   },
   {
    "duration": 89,
    "start_time": "2023-02-18T09:18:48.226Z"
   },
   {
    "duration": 0,
    "start_time": "2023-02-18T09:18:48.317Z"
   },
   {
    "duration": 0,
    "start_time": "2023-02-18T09:18:48.319Z"
   },
   {
    "duration": 87,
    "start_time": "2023-02-18T09:19:06.350Z"
   },
   {
    "duration": 479,
    "start_time": "2023-02-18T09:19:14.642Z"
   },
   {
    "duration": 31,
    "start_time": "2023-02-18T09:19:15.124Z"
   },
   {
    "duration": 17,
    "start_time": "2023-02-18T09:19:15.157Z"
   },
   {
    "duration": 29,
    "start_time": "2023-02-18T09:19:15.177Z"
   },
   {
    "duration": 42,
    "start_time": "2023-02-18T09:19:15.208Z"
   },
   {
    "duration": 4,
    "start_time": "2023-02-18T09:19:15.252Z"
   },
   {
    "duration": 23,
    "start_time": "2023-02-18T09:19:15.258Z"
   },
   {
    "duration": 15,
    "start_time": "2023-02-18T09:19:15.283Z"
   },
   {
    "duration": 37,
    "start_time": "2023-02-18T09:19:15.300Z"
   },
   {
    "duration": 12,
    "start_time": "2023-02-18T09:19:15.340Z"
   },
   {
    "duration": 53,
    "start_time": "2023-02-18T09:19:15.354Z"
   },
   {
    "duration": 10,
    "start_time": "2023-02-18T09:19:15.414Z"
   },
   {
    "duration": 8,
    "start_time": "2023-02-18T09:19:15.426Z"
   },
   {
    "duration": 19,
    "start_time": "2023-02-18T09:19:15.436Z"
   },
   {
    "duration": 20,
    "start_time": "2023-02-18T09:19:15.457Z"
   },
   {
    "duration": 37,
    "start_time": "2023-02-18T09:19:15.479Z"
   },
   {
    "duration": 4,
    "start_time": "2023-02-18T09:19:15.518Z"
   },
   {
    "duration": 16,
    "start_time": "2023-02-18T09:19:15.524Z"
   },
   {
    "duration": 15,
    "start_time": "2023-02-18T09:19:15.542Z"
   },
   {
    "duration": 4,
    "start_time": "2023-02-18T09:19:15.558Z"
   },
   {
    "duration": 14,
    "start_time": "2023-02-18T09:19:15.563Z"
   },
   {
    "duration": 11,
    "start_time": "2023-02-18T09:19:15.579Z"
   },
   {
    "duration": 40,
    "start_time": "2023-02-18T09:19:15.592Z"
   },
   {
    "duration": 956,
    "start_time": "2023-02-18T09:19:15.633Z"
   },
   {
    "duration": 20,
    "start_time": "2023-02-18T09:19:16.591Z"
   },
   {
    "duration": 17,
    "start_time": "2023-02-18T09:19:16.614Z"
   },
   {
    "duration": 24,
    "start_time": "2023-02-18T09:19:16.633Z"
   },
   {
    "duration": 154,
    "start_time": "2023-02-18T09:19:16.661Z"
   },
   {
    "duration": 12,
    "start_time": "2023-02-18T09:19:16.817Z"
   },
   {
    "duration": 113,
    "start_time": "2023-02-18T09:19:16.830Z"
   },
   {
    "duration": 0,
    "start_time": "2023-02-18T09:19:16.945Z"
   },
   {
    "duration": 0,
    "start_time": "2023-02-18T09:19:16.947Z"
   },
   {
    "duration": 108,
    "start_time": "2023-02-18T09:19:55.041Z"
   },
   {
    "duration": 42,
    "start_time": "2023-02-18T09:20:08.268Z"
   },
   {
    "duration": 24,
    "start_time": "2023-02-18T09:20:27.741Z"
   },
   {
    "duration": 73,
    "start_time": "2023-02-18T09:21:41.742Z"
   },
   {
    "duration": 83,
    "start_time": "2023-02-18T09:21:50.351Z"
   },
   {
    "duration": 32,
    "start_time": "2023-02-18T09:21:56.145Z"
   },
   {
    "duration": 14,
    "start_time": "2023-02-18T09:22:50.333Z"
   },
   {
    "duration": 13,
    "start_time": "2023-02-18T09:22:55.670Z"
   },
   {
    "duration": 13,
    "start_time": "2023-02-18T09:22:59.323Z"
   },
   {
    "duration": 19,
    "start_time": "2023-02-18T09:23:34.368Z"
   },
   {
    "duration": 25,
    "start_time": "2023-02-18T09:24:14.711Z"
   },
   {
    "duration": 323,
    "start_time": "2023-02-18T09:24:58.433Z"
   },
   {
    "duration": 302,
    "start_time": "2023-02-18T09:25:36.675Z"
   },
   {
    "duration": 338,
    "start_time": "2023-02-18T09:25:54.440Z"
   },
   {
    "duration": 470,
    "start_time": "2023-02-18T09:26:30.845Z"
   },
   {
    "duration": 436,
    "start_time": "2023-02-18T09:26:43.030Z"
   },
   {
    "duration": 204,
    "start_time": "2023-02-18T09:26:50.573Z"
   },
   {
    "duration": 214,
    "start_time": "2023-02-18T09:27:02.224Z"
   },
   {
    "duration": 234,
    "start_time": "2023-02-18T09:27:12.428Z"
   },
   {
    "duration": 169,
    "start_time": "2023-02-18T09:27:31.680Z"
   },
   {
    "duration": 173,
    "start_time": "2023-02-18T09:27:45.729Z"
   },
   {
    "duration": 142,
    "start_time": "2023-02-18T09:27:53.729Z"
   },
   {
    "duration": 28,
    "start_time": "2023-02-18T09:30:10.534Z"
   },
   {
    "duration": 132,
    "start_time": "2023-02-18T09:47:41.743Z"
   },
   {
    "duration": 41,
    "start_time": "2023-02-18T09:48:14.390Z"
   },
   {
    "duration": 502,
    "start_time": "2023-02-18T09:48:32.234Z"
   },
   {
    "duration": 22,
    "start_time": "2023-02-18T09:48:32.738Z"
   },
   {
    "duration": 15,
    "start_time": "2023-02-18T09:48:32.762Z"
   },
   {
    "duration": 10,
    "start_time": "2023-02-18T09:48:32.778Z"
   },
   {
    "duration": 60,
    "start_time": "2023-02-18T09:48:32.790Z"
   },
   {
    "duration": 4,
    "start_time": "2023-02-18T09:48:32.852Z"
   },
   {
    "duration": 11,
    "start_time": "2023-02-18T09:48:32.858Z"
   },
   {
    "duration": 5,
    "start_time": "2023-02-18T09:48:32.872Z"
   },
   {
    "duration": 12,
    "start_time": "2023-02-18T09:48:32.879Z"
   },
   {
    "duration": 46,
    "start_time": "2023-02-18T09:48:32.893Z"
   },
   {
    "duration": 42,
    "start_time": "2023-02-18T09:48:32.941Z"
   },
   {
    "duration": 37,
    "start_time": "2023-02-18T09:48:32.985Z"
   },
   {
    "duration": 24,
    "start_time": "2023-02-18T09:48:33.026Z"
   },
   {
    "duration": 14,
    "start_time": "2023-02-18T09:48:33.054Z"
   },
   {
    "duration": 54,
    "start_time": "2023-02-18T09:48:33.070Z"
   },
   {
    "duration": 20,
    "start_time": "2023-02-18T09:48:33.126Z"
   },
   {
    "duration": 4,
    "start_time": "2023-02-18T09:48:33.148Z"
   },
   {
    "duration": 18,
    "start_time": "2023-02-18T09:48:33.154Z"
   },
   {
    "duration": 11,
    "start_time": "2023-02-18T09:48:33.174Z"
   },
   {
    "duration": 10,
    "start_time": "2023-02-18T09:48:33.187Z"
   },
   {
    "duration": 39,
    "start_time": "2023-02-18T09:48:33.198Z"
   },
   {
    "duration": 25,
    "start_time": "2023-02-18T09:48:33.241Z"
   },
   {
    "duration": 24,
    "start_time": "2023-02-18T09:48:33.268Z"
   },
   {
    "duration": 1080,
    "start_time": "2023-02-18T09:48:33.294Z"
   },
   {
    "duration": 8,
    "start_time": "2023-02-18T09:48:34.375Z"
   },
   {
    "duration": 5,
    "start_time": "2023-02-18T09:48:34.385Z"
   },
   {
    "duration": 35,
    "start_time": "2023-02-18T09:48:34.391Z"
   },
   {
    "duration": 150,
    "start_time": "2023-02-18T09:48:34.429Z"
   },
   {
    "duration": 36,
    "start_time": "2023-02-18T09:48:34.581Z"
   },
   {
    "duration": 145,
    "start_time": "2023-02-18T09:48:34.620Z"
   },
   {
    "duration": 0,
    "start_time": "2023-02-18T09:48:34.767Z"
   },
   {
    "duration": 0,
    "start_time": "2023-02-18T09:48:34.768Z"
   },
   {
    "duration": 30,
    "start_time": "2023-02-18T09:48:46.847Z"
   },
   {
    "duration": 24,
    "start_time": "2023-02-18T09:48:57.847Z"
   },
   {
    "duration": 37,
    "start_time": "2023-02-18T09:49:55.024Z"
   },
   {
    "duration": 38,
    "start_time": "2023-02-18T09:50:17.271Z"
   },
   {
    "duration": 36,
    "start_time": "2023-02-18T09:50:33.542Z"
   },
   {
    "duration": 32,
    "start_time": "2023-02-18T09:50:56.822Z"
   },
   {
    "duration": 38,
    "start_time": "2023-02-18T09:51:00.381Z"
   },
   {
    "duration": 17,
    "start_time": "2023-02-18T09:51:17.585Z"
   },
   {
    "duration": 15,
    "start_time": "2023-02-18T09:51:21.169Z"
   },
   {
    "duration": 24,
    "start_time": "2023-02-18T09:51:25.040Z"
   },
   {
    "duration": 22,
    "start_time": "2023-02-18T09:51:41.189Z"
   },
   {
    "duration": 17,
    "start_time": "2023-02-18T09:52:55.201Z"
   },
   {
    "duration": 20,
    "start_time": "2023-02-18T09:53:17.461Z"
   },
   {
    "duration": 16,
    "start_time": "2023-02-18T09:53:29.729Z"
   },
   {
    "duration": 162,
    "start_time": "2023-02-18T10:48:00.087Z"
   },
   {
    "duration": 145,
    "start_time": "2023-02-18T10:48:09.897Z"
   },
   {
    "duration": 138,
    "start_time": "2023-02-18T10:48:16.777Z"
   },
   {
    "duration": 132,
    "start_time": "2023-02-18T10:48:25.540Z"
   },
   {
    "duration": 10,
    "start_time": "2023-02-18T11:04:01.148Z"
   },
   {
    "duration": 15,
    "start_time": "2023-02-18T11:04:06.872Z"
   },
   {
    "duration": 13,
    "start_time": "2023-02-18T11:04:27.148Z"
   },
   {
    "duration": 12,
    "start_time": "2023-02-18T11:04:51.080Z"
   },
   {
    "duration": 26,
    "start_time": "2023-02-18T11:05:14.124Z"
   },
   {
    "duration": 28,
    "start_time": "2023-02-18T11:05:57.522Z"
   },
   {
    "duration": 27,
    "start_time": "2023-02-18T11:06:36.285Z"
   },
   {
    "duration": 30,
    "start_time": "2023-02-18T11:06:49.982Z"
   },
   {
    "duration": 34,
    "start_time": "2023-02-18T11:07:00.856Z"
   },
   {
    "duration": 37,
    "start_time": "2023-02-18T11:07:48.232Z"
   },
   {
    "duration": 20,
    "start_time": "2023-02-18T11:09:15.355Z"
   },
   {
    "duration": 23,
    "start_time": "2023-02-18T11:09:45.446Z"
   },
   {
    "duration": 19,
    "start_time": "2023-02-18T11:10:15.301Z"
   },
   {
    "duration": 19,
    "start_time": "2023-02-18T11:11:14.770Z"
   },
   {
    "duration": 19,
    "start_time": "2023-02-18T11:11:19.239Z"
   },
   {
    "duration": 19,
    "start_time": "2023-02-18T11:12:06.267Z"
   },
   {
    "duration": 18,
    "start_time": "2023-02-18T11:12:31.992Z"
   },
   {
    "duration": 34,
    "start_time": "2023-02-18T11:13:00.990Z"
   },
   {
    "duration": 21,
    "start_time": "2023-02-18T11:13:37.224Z"
   },
   {
    "duration": 34,
    "start_time": "2023-02-18T11:13:41.422Z"
   },
   {
    "duration": 15,
    "start_time": "2023-02-18T11:15:04.699Z"
   },
   {
    "duration": 1169,
    "start_time": "2023-02-18T11:15:43.964Z"
   },
   {
    "duration": 33,
    "start_time": "2023-02-18T11:15:51.863Z"
   },
   {
    "duration": 27,
    "start_time": "2023-02-18T11:16:17.823Z"
   },
   {
    "duration": 14,
    "start_time": "2023-02-18T11:16:58.592Z"
   },
   {
    "duration": 14,
    "start_time": "2023-02-18T11:17:11.549Z"
   },
   {
    "duration": 27,
    "start_time": "2023-02-18T11:17:19.461Z"
   },
   {
    "duration": 25,
    "start_time": "2023-02-18T11:17:39.372Z"
   },
   {
    "duration": 28,
    "start_time": "2023-02-18T11:18:27.002Z"
   },
   {
    "duration": 29,
    "start_time": "2023-02-18T11:19:22.673Z"
   },
   {
    "duration": 30,
    "start_time": "2023-02-18T11:19:38.760Z"
   },
   {
    "duration": 25,
    "start_time": "2023-02-18T11:19:51.593Z"
   },
   {
    "duration": 34,
    "start_time": "2023-02-18T11:20:11.784Z"
   },
   {
    "duration": 31,
    "start_time": "2023-02-18T11:24:14.124Z"
   },
   {
    "duration": 70,
    "start_time": "2023-02-18T11:27:38.024Z"
   },
   {
    "duration": 14,
    "start_time": "2023-02-18T11:59:09.200Z"
   },
   {
    "duration": 12,
    "start_time": "2023-02-18T11:59:39.300Z"
   },
   {
    "duration": 14,
    "start_time": "2023-02-18T11:59:52.086Z"
   },
   {
    "duration": 13,
    "start_time": "2023-02-18T12:00:03.126Z"
   },
   {
    "duration": 940,
    "start_time": "2023-02-18T12:01:09.680Z"
   },
   {
    "duration": 898,
    "start_time": "2023-02-18T12:01:18.087Z"
   },
   {
    "duration": 13,
    "start_time": "2023-02-18T12:01:30.983Z"
   },
   {
    "duration": 144,
    "start_time": "2023-02-18T12:03:50.268Z"
   },
   {
    "duration": 19,
    "start_time": "2023-02-18T12:04:04.858Z"
   },
   {
    "duration": 498,
    "start_time": "2023-02-18T12:04:34.197Z"
   },
   {
    "duration": 32,
    "start_time": "2023-02-18T12:04:34.699Z"
   },
   {
    "duration": 22,
    "start_time": "2023-02-18T12:04:34.734Z"
   },
   {
    "duration": 13,
    "start_time": "2023-02-18T12:04:34.758Z"
   },
   {
    "duration": 36,
    "start_time": "2023-02-18T12:04:34.798Z"
   },
   {
    "duration": 3,
    "start_time": "2023-02-18T12:04:34.836Z"
   },
   {
    "duration": 14,
    "start_time": "2023-02-18T12:04:34.841Z"
   },
   {
    "duration": 6,
    "start_time": "2023-02-18T12:04:34.856Z"
   },
   {
    "duration": 35,
    "start_time": "2023-02-18T12:04:34.864Z"
   },
   {
    "duration": 7,
    "start_time": "2023-02-18T12:04:34.901Z"
   },
   {
    "duration": 40,
    "start_time": "2023-02-18T12:04:34.909Z"
   },
   {
    "duration": 9,
    "start_time": "2023-02-18T12:04:34.951Z"
   },
   {
    "duration": 8,
    "start_time": "2023-02-18T12:04:34.962Z"
   },
   {
    "duration": 34,
    "start_time": "2023-02-18T12:04:34.973Z"
   },
   {
    "duration": 19,
    "start_time": "2023-02-18T12:04:35.009Z"
   },
   {
    "duration": 18,
    "start_time": "2023-02-18T12:04:35.030Z"
   },
   {
    "duration": 16,
    "start_time": "2023-02-18T12:04:35.050Z"
   },
   {
    "duration": 31,
    "start_time": "2023-02-18T12:04:35.068Z"
   },
   {
    "duration": 6,
    "start_time": "2023-02-18T12:04:35.101Z"
   },
   {
    "duration": 10,
    "start_time": "2023-02-18T12:04:35.109Z"
   },
   {
    "duration": 14,
    "start_time": "2023-02-18T12:04:35.121Z"
   },
   {
    "duration": 3,
    "start_time": "2023-02-18T12:04:35.137Z"
   },
   {
    "duration": 22,
    "start_time": "2023-02-18T12:04:35.141Z"
   },
   {
    "duration": 942,
    "start_time": "2023-02-18T12:04:35.165Z"
   },
   {
    "duration": 9,
    "start_time": "2023-02-18T12:04:36.108Z"
   },
   {
    "duration": 6,
    "start_time": "2023-02-18T12:04:36.119Z"
   },
   {
    "duration": 19,
    "start_time": "2023-02-18T12:04:36.127Z"
   },
   {
    "duration": 203,
    "start_time": "2023-02-18T12:04:36.148Z"
   },
   {
    "duration": 48,
    "start_time": "2023-02-18T12:04:36.353Z"
   },
   {
    "duration": 50,
    "start_time": "2023-02-18T12:04:36.402Z"
   },
   {
    "duration": 13,
    "start_time": "2023-02-18T12:04:36.454Z"
   },
   {
    "duration": 30,
    "start_time": "2023-02-18T12:04:36.469Z"
   },
   {
    "duration": 2,
    "start_time": "2023-02-18T12:04:36.502Z"
   },
   {
    "duration": 112,
    "start_time": "2023-02-18T12:05:01.219Z"
   },
   {
    "duration": 12,
    "start_time": "2023-02-18T12:05:18.576Z"
   },
   {
    "duration": 116,
    "start_time": "2023-02-18T12:05:23.797Z"
   },
   {
    "duration": 12,
    "start_time": "2023-02-18T12:05:27.646Z"
   },
   {
    "duration": 13,
    "start_time": "2023-02-18T12:05:29.759Z"
   },
   {
    "duration": 543,
    "start_time": "2023-02-18T12:05:44.113Z"
   },
   {
    "duration": 25,
    "start_time": "2023-02-18T12:05:44.658Z"
   },
   {
    "duration": 19,
    "start_time": "2023-02-18T12:05:44.685Z"
   },
   {
    "duration": 11,
    "start_time": "2023-02-18T12:05:44.706Z"
   },
   {
    "duration": 36,
    "start_time": "2023-02-18T12:05:44.719Z"
   },
   {
    "duration": 4,
    "start_time": "2023-02-18T12:05:44.756Z"
   },
   {
    "duration": 39,
    "start_time": "2023-02-18T12:05:44.762Z"
   },
   {
    "duration": 5,
    "start_time": "2023-02-18T12:05:44.803Z"
   },
   {
    "duration": 12,
    "start_time": "2023-02-18T12:05:44.810Z"
   },
   {
    "duration": 6,
    "start_time": "2023-02-18T12:05:44.823Z"
   },
   {
    "duration": 40,
    "start_time": "2023-02-18T12:05:44.830Z"
   },
   {
    "duration": 31,
    "start_time": "2023-02-18T12:05:44.872Z"
   },
   {
    "duration": 4,
    "start_time": "2023-02-18T12:05:44.904Z"
   },
   {
    "duration": 12,
    "start_time": "2023-02-18T12:05:44.911Z"
   },
   {
    "duration": 25,
    "start_time": "2023-02-18T12:05:44.925Z"
   },
   {
    "duration": 20,
    "start_time": "2023-02-18T12:05:44.951Z"
   },
   {
    "duration": 27,
    "start_time": "2023-02-18T12:05:44.973Z"
   },
   {
    "duration": 33,
    "start_time": "2023-02-18T12:05:45.002Z"
   },
   {
    "duration": 16,
    "start_time": "2023-02-18T12:05:45.037Z"
   },
   {
    "duration": 5,
    "start_time": "2023-02-18T12:05:45.055Z"
   },
   {
    "duration": 23,
    "start_time": "2023-02-18T12:05:45.062Z"
   },
   {
    "duration": 15,
    "start_time": "2023-02-18T12:05:45.087Z"
   },
   {
    "duration": 17,
    "start_time": "2023-02-18T12:05:45.104Z"
   },
   {
    "duration": 900,
    "start_time": "2023-02-18T12:05:45.122Z"
   },
   {
    "duration": 10,
    "start_time": "2023-02-18T12:05:46.024Z"
   },
   {
    "duration": 6,
    "start_time": "2023-02-18T12:05:46.036Z"
   },
   {
    "duration": 38,
    "start_time": "2023-02-18T12:05:46.044Z"
   },
   {
    "duration": 156,
    "start_time": "2023-02-18T12:05:46.085Z"
   },
   {
    "duration": 33,
    "start_time": "2023-02-18T12:05:46.243Z"
   },
   {
    "duration": 48,
    "start_time": "2023-02-18T12:05:46.277Z"
   },
   {
    "duration": 14,
    "start_time": "2023-02-18T12:05:46.327Z"
   },
   {
    "duration": 133,
    "start_time": "2023-02-18T12:05:46.343Z"
   },
   {
    "duration": 0,
    "start_time": "2023-02-18T12:05:46.478Z"
   },
   {
    "duration": 12,
    "start_time": "2023-02-18T12:06:08.181Z"
   },
   {
    "duration": 14,
    "start_time": "2023-02-18T12:06:19.637Z"
   },
   {
    "duration": 442,
    "start_time": "2023-02-18T12:06:27.947Z"
   },
   {
    "duration": 22,
    "start_time": "2023-02-18T12:06:28.391Z"
   },
   {
    "duration": 35,
    "start_time": "2023-02-18T12:06:28.414Z"
   },
   {
    "duration": 17,
    "start_time": "2023-02-18T12:06:28.451Z"
   },
   {
    "duration": 41,
    "start_time": "2023-02-18T12:06:28.471Z"
   },
   {
    "duration": 4,
    "start_time": "2023-02-18T12:06:28.514Z"
   },
   {
    "duration": 11,
    "start_time": "2023-02-18T12:06:28.520Z"
   },
   {
    "duration": 4,
    "start_time": "2023-02-18T12:06:28.533Z"
   },
   {
    "duration": 22,
    "start_time": "2023-02-18T12:06:28.539Z"
   },
   {
    "duration": 10,
    "start_time": "2023-02-18T12:06:28.563Z"
   },
   {
    "duration": 41,
    "start_time": "2023-02-18T12:06:28.574Z"
   },
   {
    "duration": 10,
    "start_time": "2023-02-18T12:06:28.617Z"
   },
   {
    "duration": 10,
    "start_time": "2023-02-18T12:06:28.629Z"
   },
   {
    "duration": 19,
    "start_time": "2023-02-18T12:06:28.641Z"
   },
   {
    "duration": 33,
    "start_time": "2023-02-18T12:06:28.662Z"
   },
   {
    "duration": 18,
    "start_time": "2023-02-18T12:06:28.699Z"
   },
   {
    "duration": 4,
    "start_time": "2023-02-18T12:06:28.719Z"
   },
   {
    "duration": 16,
    "start_time": "2023-02-18T12:06:28.724Z"
   },
   {
    "duration": 7,
    "start_time": "2023-02-18T12:06:28.742Z"
   },
   {
    "duration": 6,
    "start_time": "2023-02-18T12:06:28.750Z"
   },
   {
    "duration": 17,
    "start_time": "2023-02-18T12:06:28.758Z"
   },
   {
    "duration": 15,
    "start_time": "2023-02-18T12:06:28.776Z"
   },
   {
    "duration": 21,
    "start_time": "2023-02-18T12:06:28.793Z"
   },
   {
    "duration": 986,
    "start_time": "2023-02-18T12:06:28.817Z"
   },
   {
    "duration": 9,
    "start_time": "2023-02-18T12:06:29.804Z"
   },
   {
    "duration": 13,
    "start_time": "2023-02-18T12:06:29.815Z"
   },
   {
    "duration": 19,
    "start_time": "2023-02-18T12:06:29.830Z"
   },
   {
    "duration": 165,
    "start_time": "2023-02-18T12:06:29.851Z"
   },
   {
    "duration": 29,
    "start_time": "2023-02-18T12:06:30.017Z"
   },
   {
    "duration": 45,
    "start_time": "2023-02-18T12:06:30.048Z"
   },
   {
    "duration": 15,
    "start_time": "2023-02-18T12:06:30.095Z"
   },
   {
    "duration": 148,
    "start_time": "2023-02-18T12:06:30.112Z"
   },
   {
    "duration": 0,
    "start_time": "2023-02-18T12:06:30.262Z"
   },
   {
    "duration": 13,
    "start_time": "2023-02-18T12:06:55.448Z"
   },
   {
    "duration": 461,
    "start_time": "2023-02-18T12:07:08.466Z"
   },
   {
    "duration": 22,
    "start_time": "2023-02-18T12:07:08.929Z"
   },
   {
    "duration": 14,
    "start_time": "2023-02-18T12:07:08.953Z"
   },
   {
    "duration": 9,
    "start_time": "2023-02-18T12:07:08.968Z"
   },
   {
    "duration": 35,
    "start_time": "2023-02-18T12:07:08.998Z"
   },
   {
    "duration": 3,
    "start_time": "2023-02-18T12:07:09.035Z"
   },
   {
    "duration": 21,
    "start_time": "2023-02-18T12:07:09.040Z"
   },
   {
    "duration": 9,
    "start_time": "2023-02-18T12:07:09.062Z"
   },
   {
    "duration": 11,
    "start_time": "2023-02-18T12:07:09.073Z"
   },
   {
    "duration": 13,
    "start_time": "2023-02-18T12:07:09.086Z"
   },
   {
    "duration": 31,
    "start_time": "2023-02-18T12:07:09.101Z"
   },
   {
    "duration": 10,
    "start_time": "2023-02-18T12:07:09.134Z"
   },
   {
    "duration": 5,
    "start_time": "2023-02-18T12:07:09.145Z"
   },
   {
    "duration": 17,
    "start_time": "2023-02-18T12:07:09.152Z"
   },
   {
    "duration": 35,
    "start_time": "2023-02-18T12:07:09.170Z"
   },
   {
    "duration": 18,
    "start_time": "2023-02-18T12:07:09.208Z"
   },
   {
    "duration": 4,
    "start_time": "2023-02-18T12:07:09.228Z"
   },
   {
    "duration": 11,
    "start_time": "2023-02-18T12:07:09.234Z"
   },
   {
    "duration": 9,
    "start_time": "2023-02-18T12:07:09.247Z"
   },
   {
    "duration": 6,
    "start_time": "2023-02-18T12:07:09.258Z"
   },
   {
    "duration": 35,
    "start_time": "2023-02-18T12:07:09.265Z"
   },
   {
    "duration": 9,
    "start_time": "2023-02-18T12:07:09.301Z"
   },
   {
    "duration": 14,
    "start_time": "2023-02-18T12:07:09.312Z"
   },
   {
    "duration": 920,
    "start_time": "2023-02-18T12:07:09.327Z"
   },
   {
    "duration": 9,
    "start_time": "2023-02-18T12:07:10.248Z"
   },
   {
    "duration": 5,
    "start_time": "2023-02-18T12:07:10.258Z"
   },
   {
    "duration": 34,
    "start_time": "2023-02-18T12:07:10.265Z"
   },
   {
    "duration": 171,
    "start_time": "2023-02-18T12:07:10.301Z"
   },
   {
    "duration": 41,
    "start_time": "2023-02-18T12:07:10.474Z"
   },
   {
    "duration": 26,
    "start_time": "2023-02-18T12:07:10.517Z"
   },
   {
    "duration": 27,
    "start_time": "2023-02-18T12:07:10.546Z"
   },
   {
    "duration": 117,
    "start_time": "2023-02-18T12:07:10.575Z"
   },
   {
    "duration": 0,
    "start_time": "2023-02-18T12:07:10.694Z"
   },
   {
    "duration": 14,
    "start_time": "2023-02-18T12:07:58.367Z"
   },
   {
    "duration": 13,
    "start_time": "2023-02-18T12:08:07.988Z"
   },
   {
    "duration": 13,
    "start_time": "2023-02-18T12:08:24.886Z"
   },
   {
    "duration": 13,
    "start_time": "2023-02-18T12:08:35.967Z"
   },
   {
    "duration": 11,
    "start_time": "2023-02-18T12:08:38.405Z"
   },
   {
    "duration": 13,
    "start_time": "2023-02-18T12:08:41.092Z"
   },
   {
    "duration": 14,
    "start_time": "2023-02-18T12:09:12.649Z"
   },
   {
    "duration": 450,
    "start_time": "2023-02-18T12:09:34.147Z"
   },
   {
    "duration": 22,
    "start_time": "2023-02-18T12:09:34.599Z"
   },
   {
    "duration": 16,
    "start_time": "2023-02-18T12:09:34.622Z"
   },
   {
    "duration": 10,
    "start_time": "2023-02-18T12:09:34.639Z"
   },
   {
    "duration": 55,
    "start_time": "2023-02-18T12:09:34.651Z"
   },
   {
    "duration": 3,
    "start_time": "2023-02-18T12:09:34.708Z"
   },
   {
    "duration": 15,
    "start_time": "2023-02-18T12:09:34.713Z"
   },
   {
    "duration": 8,
    "start_time": "2023-02-18T12:09:34.729Z"
   },
   {
    "duration": 10,
    "start_time": "2023-02-18T12:09:34.738Z"
   },
   {
    "duration": 9,
    "start_time": "2023-02-18T12:09:34.750Z"
   },
   {
    "duration": 48,
    "start_time": "2023-02-18T12:09:34.761Z"
   },
   {
    "duration": 9,
    "start_time": "2023-02-18T12:09:34.811Z"
   },
   {
    "duration": 4,
    "start_time": "2023-02-18T12:09:34.821Z"
   },
   {
    "duration": 17,
    "start_time": "2023-02-18T12:09:34.829Z"
   },
   {
    "duration": 22,
    "start_time": "2023-02-18T12:09:34.848Z"
   },
   {
    "duration": 31,
    "start_time": "2023-02-18T12:09:34.872Z"
   },
   {
    "duration": 3,
    "start_time": "2023-02-18T12:09:34.905Z"
   },
   {
    "duration": 15,
    "start_time": "2023-02-18T12:09:34.910Z"
   },
   {
    "duration": 6,
    "start_time": "2023-02-18T12:09:34.927Z"
   },
   {
    "duration": 5,
    "start_time": "2023-02-18T12:09:34.934Z"
   },
   {
    "duration": 17,
    "start_time": "2023-02-18T12:09:34.941Z"
   },
   {
    "duration": 8,
    "start_time": "2023-02-18T12:09:34.959Z"
   },
   {
    "duration": 27,
    "start_time": "2023-02-18T12:09:34.969Z"
   },
   {
    "duration": 888,
    "start_time": "2023-02-18T12:09:34.997Z"
   },
   {
    "duration": 15,
    "start_time": "2023-02-18T12:09:35.886Z"
   },
   {
    "duration": 11,
    "start_time": "2023-02-18T12:09:35.903Z"
   },
   {
    "duration": 19,
    "start_time": "2023-02-18T12:09:35.915Z"
   },
   {
    "duration": 153,
    "start_time": "2023-02-18T12:09:35.936Z"
   },
   {
    "duration": 33,
    "start_time": "2023-02-18T12:09:36.091Z"
   },
   {
    "duration": 31,
    "start_time": "2023-02-18T12:09:36.126Z"
   },
   {
    "duration": 10,
    "start_time": "2023-02-18T12:09:36.158Z"
   },
   {
    "duration": 124,
    "start_time": "2023-02-18T12:09:36.170Z"
   },
   {
    "duration": 0,
    "start_time": "2023-02-18T12:09:36.296Z"
   },
   {
    "duration": 13,
    "start_time": "2023-02-18T12:09:56.837Z"
   },
   {
    "duration": 13,
    "start_time": "2023-02-18T12:09:58.906Z"
   },
   {
    "duration": 107,
    "start_time": "2023-02-18T12:10:01.467Z"
   },
   {
    "duration": 15,
    "start_time": "2023-02-18T12:11:22.646Z"
   },
   {
    "duration": 119,
    "start_time": "2023-02-18T12:11:35.366Z"
   },
   {
    "duration": 19,
    "start_time": "2023-02-18T13:13:11.198Z"
   },
   {
    "duration": 14,
    "start_time": "2023-02-18T13:14:05.631Z"
   },
   {
    "duration": 19,
    "start_time": "2023-02-18T14:00:26.248Z"
   },
   {
    "duration": 24,
    "start_time": "2023-02-18T14:45:43.559Z"
   },
   {
    "duration": 14,
    "start_time": "2023-02-18T14:45:50.940Z"
   },
   {
    "duration": 28,
    "start_time": "2023-02-18T14:46:40.027Z"
   },
   {
    "duration": 27,
    "start_time": "2023-02-18T14:47:34.955Z"
   },
   {
    "duration": 29,
    "start_time": "2023-02-18T14:47:49.525Z"
   },
   {
    "duration": 29,
    "start_time": "2023-02-18T14:48:28.026Z"
   },
   {
    "duration": 39,
    "start_time": "2023-02-18T14:48:54.231Z"
   },
   {
    "duration": 27,
    "start_time": "2023-02-18T14:51:03.527Z"
   },
   {
    "duration": 14,
    "start_time": "2023-02-18T14:51:20.180Z"
   },
   {
    "duration": 57,
    "start_time": "2023-02-18T14:51:37.295Z"
   },
   {
    "duration": 89,
    "start_time": "2023-02-18T14:53:32.342Z"
   },
   {
    "duration": 157,
    "start_time": "2023-02-18T14:55:04.638Z"
   },
   {
    "duration": 94,
    "start_time": "2023-02-18T14:58:43.685Z"
   },
   {
    "duration": 41,
    "start_time": "2023-02-18T14:58:48.795Z"
   },
   {
    "duration": 27,
    "start_time": "2023-02-18T15:00:02.015Z"
   },
   {
    "duration": 10,
    "start_time": "2023-02-18T20:10:34.192Z"
   },
   {
    "duration": 622,
    "start_time": "2023-02-18T20:16:51.653Z"
   },
   {
    "duration": 25,
    "start_time": "2023-02-18T20:16:52.277Z"
   },
   {
    "duration": 21,
    "start_time": "2023-02-18T20:16:52.304Z"
   },
   {
    "duration": 15,
    "start_time": "2023-02-18T20:16:52.326Z"
   },
   {
    "duration": 54,
    "start_time": "2023-02-18T20:16:52.343Z"
   },
   {
    "duration": 4,
    "start_time": "2023-02-18T20:16:52.399Z"
   },
   {
    "duration": 21,
    "start_time": "2023-02-18T20:16:52.404Z"
   },
   {
    "duration": 5,
    "start_time": "2023-02-18T20:16:52.426Z"
   },
   {
    "duration": 37,
    "start_time": "2023-02-18T20:16:52.433Z"
   },
   {
    "duration": 22,
    "start_time": "2023-02-18T20:16:52.472Z"
   },
   {
    "duration": 46,
    "start_time": "2023-02-18T20:16:52.496Z"
   },
   {
    "duration": 18,
    "start_time": "2023-02-18T20:16:52.544Z"
   },
   {
    "duration": 10,
    "start_time": "2023-02-18T20:16:52.565Z"
   },
   {
    "duration": 15,
    "start_time": "2023-02-18T20:16:52.578Z"
   },
   {
    "duration": 28,
    "start_time": "2023-02-18T20:16:52.595Z"
   },
   {
    "duration": 47,
    "start_time": "2023-02-18T20:16:52.625Z"
   },
   {
    "duration": 3,
    "start_time": "2023-02-18T20:16:52.675Z"
   },
   {
    "duration": 14,
    "start_time": "2023-02-18T20:16:52.679Z"
   },
   {
    "duration": 6,
    "start_time": "2023-02-18T20:16:52.695Z"
   },
   {
    "duration": 5,
    "start_time": "2023-02-18T20:16:52.703Z"
   },
   {
    "duration": 14,
    "start_time": "2023-02-18T20:16:52.710Z"
   },
   {
    "duration": 25,
    "start_time": "2023-02-18T20:16:52.726Z"
   },
   {
    "duration": 18,
    "start_time": "2023-02-18T20:16:52.753Z"
   },
   {
    "duration": 1184,
    "start_time": "2023-02-18T20:16:52.773Z"
   },
   {
    "duration": 8,
    "start_time": "2023-02-18T20:16:53.958Z"
   },
   {
    "duration": 2,
    "start_time": "2023-02-18T20:16:53.968Z"
   },
   {
    "duration": 20,
    "start_time": "2023-02-18T20:16:53.972Z"
   },
   {
    "duration": 248,
    "start_time": "2023-02-18T20:16:53.994Z"
   },
   {
    "duration": 84,
    "start_time": "2023-02-18T20:16:54.244Z"
   },
   {
    "duration": 36,
    "start_time": "2023-02-18T20:16:54.334Z"
   },
   {
    "duration": 77,
    "start_time": "2023-02-18T20:16:54.371Z"
   },
   {
    "duration": 20,
    "start_time": "2023-02-18T20:16:54.451Z"
   },
   {
    "duration": 296,
    "start_time": "2023-02-18T20:16:54.473Z"
   },
   {
    "duration": 68,
    "start_time": "2023-02-18T20:16:54.771Z"
   },
   {
    "duration": 1104,
    "start_time": "2023-03-05T14:08:11.625Z"
   },
   {
    "duration": 23,
    "start_time": "2023-03-05T14:08:12.730Z"
   },
   {
    "duration": 31,
    "start_time": "2023-03-05T14:08:12.754Z"
   },
   {
    "duration": 10,
    "start_time": "2023-03-05T14:08:12.788Z"
   },
   {
    "duration": 50,
    "start_time": "2023-03-05T14:08:12.800Z"
   },
   {
    "duration": 3,
    "start_time": "2023-03-05T14:08:12.852Z"
   },
   {
    "duration": 13,
    "start_time": "2023-03-05T14:08:12.857Z"
   },
   {
    "duration": 9,
    "start_time": "2023-03-05T14:08:12.872Z"
   },
   {
    "duration": 20,
    "start_time": "2023-03-05T14:08:12.883Z"
   },
   {
    "duration": 7,
    "start_time": "2023-03-05T14:08:12.906Z"
   },
   {
    "duration": 41,
    "start_time": "2023-03-05T14:08:12.914Z"
   },
   {
    "duration": 9,
    "start_time": "2023-03-05T14:08:12.956Z"
   },
   {
    "duration": 8,
    "start_time": "2023-03-05T14:08:12.967Z"
   },
   {
    "duration": 16,
    "start_time": "2023-03-05T14:08:12.976Z"
   },
   {
    "duration": 21,
    "start_time": "2023-03-05T14:08:12.993Z"
   },
   {
    "duration": 41,
    "start_time": "2023-03-05T14:08:13.015Z"
   },
   {
    "duration": 3,
    "start_time": "2023-03-05T14:08:13.058Z"
   },
   {
    "duration": 13,
    "start_time": "2023-03-05T14:08:13.063Z"
   },
   {
    "duration": 15,
    "start_time": "2023-03-05T14:08:13.078Z"
   },
   {
    "duration": 4,
    "start_time": "2023-03-05T14:08:13.094Z"
   },
   {
    "duration": 12,
    "start_time": "2023-03-05T14:08:13.100Z"
   },
   {
    "duration": 9,
    "start_time": "2023-03-05T14:08:13.114Z"
   },
   {
    "duration": 23,
    "start_time": "2023-03-05T14:08:13.125Z"
   },
   {
    "duration": 1036,
    "start_time": "2023-03-05T14:08:13.149Z"
   },
   {
    "duration": 9,
    "start_time": "2023-03-05T14:08:14.188Z"
   },
   {
    "duration": 8,
    "start_time": "2023-03-05T14:08:14.199Z"
   },
   {
    "duration": 19,
    "start_time": "2023-03-05T14:08:14.208Z"
   },
   {
    "duration": 152,
    "start_time": "2023-03-05T14:08:14.230Z"
   },
   {
    "duration": 30,
    "start_time": "2023-03-05T14:08:14.383Z"
   },
   {
    "duration": 41,
    "start_time": "2023-03-05T14:08:14.414Z"
   },
   {
    "duration": 25,
    "start_time": "2023-03-05T14:08:14.456Z"
   },
   {
    "duration": 13,
    "start_time": "2023-03-05T14:08:14.482Z"
   },
   {
    "duration": 128,
    "start_time": "2023-03-05T14:08:14.497Z"
   },
   {
    "duration": 24,
    "start_time": "2023-03-05T14:08:14.626Z"
   },
   {
    "duration": 101,
    "start_time": "2023-03-05T14:14:52.225Z"
   },
   {
    "duration": 12,
    "start_time": "2023-03-05T14:15:11.235Z"
   },
   {
    "duration": 8,
    "start_time": "2023-03-05T14:15:14.068Z"
   },
   {
    "duration": 9,
    "start_time": "2023-03-05T14:15:38.430Z"
   },
   {
    "duration": 9,
    "start_time": "2023-03-05T14:16:00.763Z"
   },
   {
    "duration": 230,
    "start_time": "2023-03-05T14:16:06.722Z"
   },
   {
    "duration": 202,
    "start_time": "2023-03-05T14:16:49.262Z"
   },
   {
    "duration": 371,
    "start_time": "2023-03-05T14:17:21.789Z"
   },
   {
    "duration": 226,
    "start_time": "2023-03-05T14:17:36.884Z"
   },
   {
    "duration": 224,
    "start_time": "2023-03-05T14:17:51.834Z"
   },
   {
    "duration": 201,
    "start_time": "2023-03-05T14:18:05.474Z"
   },
   {
    "duration": 289,
    "start_time": "2023-03-05T14:18:09.826Z"
   },
   {
    "duration": 12,
    "start_time": "2023-03-05T14:18:21.700Z"
   },
   {
    "duration": 316,
    "start_time": "2023-03-05T14:18:25.355Z"
   },
   {
    "duration": 130,
    "start_time": "2023-03-05T14:18:32.755Z"
   },
   {
    "duration": 120,
    "start_time": "2023-03-05T14:18:55.006Z"
   },
   {
    "duration": 156,
    "start_time": "2023-03-05T14:19:13.318Z"
   },
   {
    "duration": 167,
    "start_time": "2023-03-05T14:19:20.238Z"
   },
   {
    "duration": 72,
    "start_time": "2023-03-05T14:19:44.108Z"
   },
   {
    "duration": 122,
    "start_time": "2023-03-05T14:19:52.412Z"
   },
   {
    "duration": 9,
    "start_time": "2023-03-05T14:20:23.913Z"
   },
   {
    "duration": 10,
    "start_time": "2023-03-05T14:20:59.901Z"
   },
   {
    "duration": 131,
    "start_time": "2023-03-05T14:21:04.944Z"
   },
   {
    "duration": 11,
    "start_time": "2023-03-05T14:21:11.844Z"
   },
   {
    "duration": 133,
    "start_time": "2023-03-05T14:21:15.005Z"
   },
   {
    "duration": 123,
    "start_time": "2023-03-05T14:21:23.126Z"
   },
   {
    "duration": 138,
    "start_time": "2023-03-05T14:21:53.792Z"
   },
   {
    "duration": 125,
    "start_time": "2023-03-05T14:22:03.463Z"
   },
   {
    "duration": 128,
    "start_time": "2023-03-05T14:22:09.832Z"
   },
   {
    "duration": 128,
    "start_time": "2023-03-05T14:22:48.576Z"
   },
   {
    "duration": 130,
    "start_time": "2023-03-05T14:23:12.006Z"
   },
   {
    "duration": 131,
    "start_time": "2023-03-05T14:23:23.931Z"
   },
   {
    "duration": 137,
    "start_time": "2023-03-05T14:23:30.342Z"
   },
   {
    "duration": 2,
    "start_time": "2023-03-05T14:24:01.307Z"
   },
   {
    "duration": 13,
    "start_time": "2023-03-05T14:24:04.324Z"
   },
   {
    "duration": 137,
    "start_time": "2023-03-05T14:24:09.786Z"
   },
   {
    "duration": 76,
    "start_time": "2023-03-05T14:24:35.567Z"
   },
   {
    "duration": 1210,
    "start_time": "2023-03-05T14:24:42.560Z"
   },
   {
    "duration": 20,
    "start_time": "2023-03-05T14:24:43.772Z"
   },
   {
    "duration": 15,
    "start_time": "2023-03-05T14:24:43.793Z"
   },
   {
    "duration": 10,
    "start_time": "2023-03-05T14:24:43.810Z"
   },
   {
    "duration": 56,
    "start_time": "2023-03-05T14:24:43.822Z"
   },
   {
    "duration": 3,
    "start_time": "2023-03-05T14:24:43.880Z"
   },
   {
    "duration": 11,
    "start_time": "2023-03-05T14:24:43.885Z"
   },
   {
    "duration": 5,
    "start_time": "2023-03-05T14:24:43.898Z"
   },
   {
    "duration": 8,
    "start_time": "2023-03-05T14:24:43.905Z"
   },
   {
    "duration": 5,
    "start_time": "2023-03-05T14:24:43.915Z"
   },
   {
    "duration": 59,
    "start_time": "2023-03-05T14:24:43.922Z"
   },
   {
    "duration": 12,
    "start_time": "2023-03-05T14:24:43.983Z"
   },
   {
    "duration": 4,
    "start_time": "2023-03-05T14:24:43.997Z"
   },
   {
    "duration": 14,
    "start_time": "2023-03-05T14:24:44.003Z"
   },
   {
    "duration": 47,
    "start_time": "2023-03-05T14:24:44.018Z"
   },
   {
    "duration": 17,
    "start_time": "2023-03-05T14:24:44.067Z"
   },
   {
    "duration": 4,
    "start_time": "2023-03-05T14:24:44.086Z"
   },
   {
    "duration": 15,
    "start_time": "2023-03-05T14:24:44.092Z"
   },
   {
    "duration": 6,
    "start_time": "2023-03-05T14:24:44.108Z"
   },
   {
    "duration": 7,
    "start_time": "2023-03-05T14:24:44.116Z"
   },
   {
    "duration": 10,
    "start_time": "2023-03-05T14:24:44.149Z"
   },
   {
    "duration": 17,
    "start_time": "2023-03-05T14:24:44.160Z"
   },
   {
    "duration": 153,
    "start_time": "2023-03-05T14:24:44.179Z"
   },
   {
    "duration": 14,
    "start_time": "2023-03-05T14:24:44.334Z"
   },
   {
    "duration": 3,
    "start_time": "2023-03-05T14:24:44.350Z"
   },
   {
    "duration": 16,
    "start_time": "2023-03-05T14:24:44.355Z"
   },
   {
    "duration": 159,
    "start_time": "2023-03-05T14:24:44.373Z"
   },
   {
    "duration": 39,
    "start_time": "2023-03-05T14:24:44.535Z"
   },
   {
    "duration": 28,
    "start_time": "2023-03-05T14:24:44.576Z"
   },
   {
    "duration": 49,
    "start_time": "2023-03-05T14:24:44.606Z"
   },
   {
    "duration": 14,
    "start_time": "2023-03-05T14:24:44.657Z"
   },
   {
    "duration": 118,
    "start_time": "2023-03-05T14:24:44.672Z"
   },
   {
    "duration": 13,
    "start_time": "2023-03-05T14:24:44.792Z"
   },
   {
    "duration": 98,
    "start_time": "2023-03-05T14:33:48.537Z"
   },
   {
    "duration": 19,
    "start_time": "2023-03-05T14:33:58.058Z"
   },
   {
    "duration": 19,
    "start_time": "2023-03-05T14:34:03.014Z"
   },
   {
    "duration": 25,
    "start_time": "2023-03-05T14:34:12.275Z"
   },
   {
    "duration": 25,
    "start_time": "2023-03-05T14:38:39.618Z"
   },
   {
    "duration": 19,
    "start_time": "2023-03-05T14:38:51.166Z"
   },
   {
    "duration": 23,
    "start_time": "2023-03-05T14:39:15.918Z"
   },
   {
    "duration": 13,
    "start_time": "2023-03-05T14:42:22.250Z"
   },
   {
    "duration": 13,
    "start_time": "2023-03-05T14:42:37.943Z"
   },
   {
    "duration": 20,
    "start_time": "2023-03-05T14:42:53.071Z"
   },
   {
    "duration": 13,
    "start_time": "2023-03-05T14:42:56.608Z"
   },
   {
    "duration": 20,
    "start_time": "2023-03-05T14:43:47.634Z"
   },
   {
    "duration": 12,
    "start_time": "2023-03-05T14:43:52.135Z"
   },
   {
    "duration": 74,
    "start_time": "2023-03-05T14:44:03.952Z"
   },
   {
    "duration": 1159,
    "start_time": "2023-03-05T14:44:09.987Z"
   },
   {
    "duration": 20,
    "start_time": "2023-03-05T14:44:11.148Z"
   },
   {
    "duration": 16,
    "start_time": "2023-03-05T14:44:11.170Z"
   },
   {
    "duration": 10,
    "start_time": "2023-03-05T14:44:11.188Z"
   },
   {
    "duration": 59,
    "start_time": "2023-03-05T14:44:11.199Z"
   },
   {
    "duration": 4,
    "start_time": "2023-03-05T14:44:11.260Z"
   },
   {
    "duration": 15,
    "start_time": "2023-03-05T14:44:11.265Z"
   },
   {
    "duration": 12,
    "start_time": "2023-03-05T14:44:11.282Z"
   },
   {
    "duration": 28,
    "start_time": "2023-03-05T14:44:11.296Z"
   },
   {
    "duration": 10,
    "start_time": "2023-03-05T14:44:11.327Z"
   },
   {
    "duration": 36,
    "start_time": "2023-03-05T14:44:11.338Z"
   },
   {
    "duration": 10,
    "start_time": "2023-03-05T14:44:11.376Z"
   },
   {
    "duration": 12,
    "start_time": "2023-03-05T14:44:11.388Z"
   },
   {
    "duration": 31,
    "start_time": "2023-03-05T14:44:11.402Z"
   },
   {
    "duration": 24,
    "start_time": "2023-03-05T14:44:11.435Z"
   },
   {
    "duration": 18,
    "start_time": "2023-03-05T14:44:11.461Z"
   },
   {
    "duration": 4,
    "start_time": "2023-03-05T14:44:11.480Z"
   },
   {
    "duration": 13,
    "start_time": "2023-03-05T14:44:11.485Z"
   },
   {
    "duration": 6,
    "start_time": "2023-03-05T14:44:11.499Z"
   },
   {
    "duration": 5,
    "start_time": "2023-03-05T14:44:11.506Z"
   },
   {
    "duration": 11,
    "start_time": "2023-03-05T14:44:11.513Z"
   },
   {
    "duration": 44,
    "start_time": "2023-03-05T14:44:11.525Z"
   },
   {
    "duration": 120,
    "start_time": "2023-03-05T14:44:11.571Z"
   },
   {
    "duration": 0,
    "start_time": "2023-03-05T14:44:11.693Z"
   },
   {
    "duration": 0,
    "start_time": "2023-03-05T14:44:11.694Z"
   },
   {
    "duration": 0,
    "start_time": "2023-03-05T14:44:11.695Z"
   },
   {
    "duration": 0,
    "start_time": "2023-03-05T14:44:11.696Z"
   },
   {
    "duration": 1,
    "start_time": "2023-03-05T14:44:11.696Z"
   },
   {
    "duration": 0,
    "start_time": "2023-03-05T14:44:11.698Z"
   },
   {
    "duration": 0,
    "start_time": "2023-03-05T14:44:11.699Z"
   },
   {
    "duration": 0,
    "start_time": "2023-03-05T14:44:11.701Z"
   },
   {
    "duration": 0,
    "start_time": "2023-03-05T14:44:11.702Z"
   },
   {
    "duration": 0,
    "start_time": "2023-03-05T14:44:11.703Z"
   },
   {
    "duration": 176,
    "start_time": "2023-03-05T14:44:27.836Z"
   },
   {
    "duration": 96,
    "start_time": "2023-03-05T14:44:49.213Z"
   },
   {
    "duration": 13,
    "start_time": "2023-03-05T14:45:06.423Z"
   },
   {
    "duration": 215,
    "start_time": "2023-03-05T14:45:18.744Z"
   },
   {
    "duration": 22,
    "start_time": "2023-03-05T14:45:27.743Z"
   },
   {
    "duration": 135,
    "start_time": "2023-03-05T14:45:34.744Z"
   },
   {
    "duration": 171,
    "start_time": "2023-03-05T14:45:43.943Z"
   },
   {
    "duration": 127,
    "start_time": "2023-03-05T14:45:48.615Z"
   },
   {
    "duration": 761,
    "start_time": "2023-03-05T14:47:01.888Z"
   },
   {
    "duration": 8,
    "start_time": "2023-03-05T14:47:31.864Z"
   },
   {
    "duration": 6,
    "start_time": "2023-03-05T14:48:21.768Z"
   },
   {
    "duration": 5,
    "start_time": "2023-03-05T14:49:46.281Z"
   },
   {
    "duration": 5,
    "start_time": "2023-03-05T14:49:50.943Z"
   },
   {
    "duration": 6,
    "start_time": "2023-03-05T14:56:16.353Z"
   },
   {
    "duration": 27,
    "start_time": "2023-03-05T14:58:34.547Z"
   },
   {
    "duration": 14,
    "start_time": "2023-03-05T15:13:11.120Z"
   },
   {
    "duration": 143,
    "start_time": "2023-03-05T15:13:22.534Z"
   },
   {
    "duration": 153,
    "start_time": "2023-03-05T15:13:40.436Z"
   },
   {
    "duration": 16,
    "start_time": "2023-03-05T15:15:26.065Z"
   },
   {
    "duration": 15,
    "start_time": "2023-03-05T15:15:29.748Z"
   },
   {
    "duration": 15,
    "start_time": "2023-03-05T15:15:34.972Z"
   },
   {
    "duration": 789,
    "start_time": "2023-03-05T15:16:31.750Z"
   },
   {
    "duration": 31,
    "start_time": "2023-03-05T15:16:54.412Z"
   },
   {
    "duration": 33,
    "start_time": "2023-03-05T15:17:49.381Z"
   },
   {
    "duration": 35,
    "start_time": "2023-03-05T15:18:06.357Z"
   },
   {
    "duration": 162,
    "start_time": "2023-03-05T15:18:15.323Z"
   },
   {
    "duration": 143,
    "start_time": "2023-03-05T15:18:20.490Z"
   },
   {
    "duration": 220,
    "start_time": "2023-03-05T15:18:29.777Z"
   },
   {
    "duration": 34,
    "start_time": "2023-03-05T15:22:04.595Z"
   },
   {
    "duration": 30,
    "start_time": "2023-03-05T15:24:06.185Z"
   },
   {
    "duration": 24,
    "start_time": "2023-03-05T15:24:16.452Z"
   },
   {
    "duration": 26,
    "start_time": "2023-03-05T15:24:20.477Z"
   },
   {
    "duration": 41,
    "start_time": "2023-03-05T15:25:10.141Z"
   },
   {
    "duration": 32,
    "start_time": "2023-03-05T15:25:22.764Z"
   },
   {
    "duration": 163,
    "start_time": "2023-03-05T15:26:54.199Z"
   },
   {
    "duration": 29,
    "start_time": "2023-03-05T15:27:49.839Z"
   },
   {
    "duration": 31,
    "start_time": "2023-03-05T15:39:33.559Z"
   },
   {
    "duration": 6,
    "start_time": "2023-03-05T15:41:40.576Z"
   },
   {
    "duration": 32,
    "start_time": "2023-03-05T15:42:50.264Z"
   },
   {
    "duration": 27,
    "start_time": "2023-03-05T15:47:27.168Z"
   },
   {
    "duration": 5,
    "start_time": "2023-03-05T16:11:32.312Z"
   },
   {
    "duration": 4,
    "start_time": "2023-03-05T16:12:07.603Z"
   },
   {
    "duration": 4,
    "start_time": "2023-03-05T16:12:11.160Z"
   },
   {
    "duration": 5,
    "start_time": "2023-03-05T16:12:17.585Z"
   },
   {
    "duration": 5,
    "start_time": "2023-03-05T16:21:11.106Z"
   },
   {
    "duration": 5,
    "start_time": "2023-03-05T16:23:00.243Z"
   },
   {
    "duration": 5,
    "start_time": "2023-03-05T16:23:15.246Z"
   },
   {
    "duration": 17,
    "start_time": "2023-03-05T16:31:22.570Z"
   },
   {
    "duration": 1092,
    "start_time": "2023-03-05T16:33:09.684Z"
   },
   {
    "duration": 43,
    "start_time": "2023-03-05T16:33:19.950Z"
   },
   {
    "duration": 31,
    "start_time": "2023-03-05T16:33:32.189Z"
   },
   {
    "duration": 122,
    "start_time": "2023-03-05T16:33:50.709Z"
   },
   {
    "duration": 7,
    "start_time": "2023-03-05T16:38:33.964Z"
   },
   {
    "duration": 1315,
    "start_time": "2023-03-05T16:38:48.880Z"
   },
   {
    "duration": 20,
    "start_time": "2023-03-05T16:38:50.197Z"
   },
   {
    "duration": 16,
    "start_time": "2023-03-05T16:38:50.219Z"
   },
   {
    "duration": 18,
    "start_time": "2023-03-05T16:38:50.250Z"
   },
   {
    "duration": 48,
    "start_time": "2023-03-05T16:38:50.269Z"
   },
   {
    "duration": 5,
    "start_time": "2023-03-05T16:38:50.319Z"
   },
   {
    "duration": 27,
    "start_time": "2023-03-05T16:38:50.326Z"
   },
   {
    "duration": 5,
    "start_time": "2023-03-05T16:38:50.356Z"
   },
   {
    "duration": 18,
    "start_time": "2023-03-05T16:38:50.363Z"
   },
   {
    "duration": 6,
    "start_time": "2023-03-05T16:38:50.384Z"
   },
   {
    "duration": 56,
    "start_time": "2023-03-05T16:38:50.392Z"
   },
   {
    "duration": 18,
    "start_time": "2023-03-05T16:38:50.450Z"
   },
   {
    "duration": 4,
    "start_time": "2023-03-05T16:38:50.470Z"
   },
   {
    "duration": 20,
    "start_time": "2023-03-05T16:38:50.476Z"
   },
   {
    "duration": 51,
    "start_time": "2023-03-05T16:38:50.499Z"
   },
   {
    "duration": 26,
    "start_time": "2023-03-05T16:38:50.552Z"
   },
   {
    "duration": 4,
    "start_time": "2023-03-05T16:38:50.579Z"
   },
   {
    "duration": 13,
    "start_time": "2023-03-05T16:38:50.585Z"
   },
   {
    "duration": 6,
    "start_time": "2023-03-05T16:38:50.599Z"
   },
   {
    "duration": 8,
    "start_time": "2023-03-05T16:38:50.606Z"
   },
   {
    "duration": 38,
    "start_time": "2023-03-05T16:38:50.615Z"
   },
   {
    "duration": 31,
    "start_time": "2023-03-05T16:38:50.655Z"
   },
   {
    "duration": 172,
    "start_time": "2023-03-05T16:38:50.688Z"
   },
   {
    "duration": 7,
    "start_time": "2023-03-05T16:38:50.862Z"
   },
   {
    "duration": 9,
    "start_time": "2023-03-05T16:38:50.871Z"
   },
   {
    "duration": 38,
    "start_time": "2023-03-05T16:38:50.882Z"
   },
   {
    "duration": 162,
    "start_time": "2023-03-05T16:38:50.923Z"
   },
   {
    "duration": 30,
    "start_time": "2023-03-05T16:38:51.088Z"
   },
   {
    "duration": 42,
    "start_time": "2023-03-05T16:38:51.120Z"
   },
   {
    "duration": 25,
    "start_time": "2023-03-05T16:38:51.165Z"
   },
   {
    "duration": 7,
    "start_time": "2023-03-05T16:38:51.191Z"
   },
   {
    "duration": 59,
    "start_time": "2023-03-05T16:38:51.200Z"
   },
   {
    "duration": 136,
    "start_time": "2023-03-05T16:38:51.261Z"
   },
   {
    "duration": 5,
    "start_time": "2023-03-05T16:38:51.399Z"
   },
   {
    "duration": 21,
    "start_time": "2023-03-05T16:38:51.406Z"
   },
   {
    "duration": 7,
    "start_time": "2023-03-05T16:39:18.969Z"
   },
   {
    "duration": 6,
    "start_time": "2023-03-05T16:44:55.521Z"
   },
   {
    "duration": 122,
    "start_time": "2023-03-05T16:55:23.154Z"
   },
   {
    "duration": 39,
    "start_time": "2023-03-05T17:31:08.964Z"
   },
   {
    "duration": 34,
    "start_time": "2023-03-05T17:31:47.066Z"
   },
   {
    "duration": 130,
    "start_time": "2023-03-05T17:33:14.266Z"
   },
   {
    "duration": 134,
    "start_time": "2023-03-05T17:33:54.470Z"
   },
   {
    "duration": 144,
    "start_time": "2023-03-05T17:34:08.962Z"
   },
   {
    "duration": 151,
    "start_time": "2023-03-05T17:34:24.115Z"
   },
   {
    "duration": 142,
    "start_time": "2023-03-05T17:34:30.955Z"
   },
   {
    "duration": 83,
    "start_time": "2023-03-06T10:58:24.691Z"
   },
   {
    "duration": 90,
    "start_time": "2023-03-06T10:58:29.209Z"
   }
  ],
  "colab": {
   "name": "dpp_template_part2.ipynb",
   "provenance": []
  },
  "kernelspec": {
   "display_name": "Python 3 (ipykernel)",
   "language": "python",
   "name": "python3"
  },
  "language_info": {
   "codemirror_mode": {
    "name": "ipython",
    "version": 3
   },
   "file_extension": ".py",
   "mimetype": "text/x-python",
   "name": "python",
   "nbconvert_exporter": "python",
   "pygments_lexer": "ipython3",
   "version": "3.9.19"
  },
  "toc": {
   "base_numbering": 1,
   "nav_menu": {},
   "number_sections": true,
   "sideBar": true,
   "skip_h1_title": true,
   "title_cell": "Table of Contents",
   "title_sidebar": "Contents",
   "toc_cell": false,
   "toc_position": {},
   "toc_section_display": true,
   "toc_window_display": false
  }
 },
 "nbformat": 4,
 "nbformat_minor": 5
}
