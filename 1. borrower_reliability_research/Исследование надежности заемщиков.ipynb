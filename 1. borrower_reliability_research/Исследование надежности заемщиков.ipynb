{
 "cells": [
  {
   "cell_type": "markdown",
   "id": "a9ce637a-ced5-4eef-9f7e-3b5e9e1b24e1",
   "metadata": {},
   "source": [
    "# Исследование надежности заемщиков"
   ]
  },
  {
   "cell_type": "markdown",
   "id": "7df15b24-17fd-4754-8279-8fdfc93ba84f",
   "metadata": {},
   "source": [
    "Заказчик — кредитный отдел банка. Нужно разобраться, влияет ли семейное положение и количество детей клиента на факт погашения кредита в срок. Входные данные от банка — статистика о платёжеспособности клиентов.\n",
    "Результаты исследования будут учтены при построении модели кредитного скоринга — специальной системы, которая оценивает способность потенциального заёмщика вернуть кредит банку.\n"
   ]
  },
  {
   "cell_type": "markdown",
   "id": "bedbcf09-0f1a-4fd0-872b-0e75fa29e418",
   "metadata": {},
   "source": [
    "**Описание данных**\n",
    "- **children** — количество детей в семье\n",
    "- **days_employed** — общий трудовой стаж в днях\n",
    "- **dob_years** — возраст клиента в годах\n",
    "- **education** — уровень образования клиента\n",
    "- **education_id** — идентификатор уровня образования\n",
    "- **family_status** — семейное положение\n",
    "- **family_status_id** — идентификатор семейного положения\n",
    "- **gender** — пол клиента\n",
    "- **income_type** — тип занятости\n",
    "- **debt** — имел ли задолженность по возврату кредитов\n",
    "- **total_income** — ежемесячный доход\n",
    "- **purpose** — цель получения кредита"
   ]
  },
  {
   "cell_type": "markdown",
   "id": "d53b176c-bb7d-45e3-ac9e-c7ea16f6e181",
   "metadata": {},
   "source": [
    "**План проекта**\n",
    "1. Загрузка даных\n",
    "2. Предобработка данных\n",
    "3. Исследование данных\n",
    "4. Общий вывод"
   ]
  },
  {
   "cell_type": "markdown",
   "id": "c7c72bdf-a8c1-431a-a3d7-d9ab1a414c2b",
   "metadata": {},
   "source": [
    "## Загрузка даных"
   ]
  },
  {
   "cell_type": "markdown",
   "id": "3aac8bac-e851-465e-857c-90e49e28a72b",
   "metadata": {},
   "source": [
    "### Импорт библиотек"
   ]
  },
  {
   "cell_type": "code",
   "execution_count": 1,
   "id": "961fe94b-e79a-4814-b2ae-dbe21d2c58a5",
   "metadata": {},
   "outputs": [],
   "source": [
    "import pandas as pd\n",
    "import seaborn as sns \n",
    "import matplotlib.pyplot as plt"
   ]
  },
  {
   "cell_type": "code",
   "execution_count": 2,
   "id": "319508e7-ac3a-4d02-8de6-3cd4308e2d12",
   "metadata": {},
   "outputs": [],
   "source": [
    "try:\n",
    "    data = pd.read_csv('/datasets/data.csv')\n",
    "except:\n",
    "    data = pd.read_csv('https://code.s3.yandex.net/datasets/data.csv')"
   ]
  },
  {
   "cell_type": "code",
   "execution_count": 3,
   "id": "535c7780-219f-4a9f-898a-46dfc6af9647",
   "metadata": {},
   "outputs": [
    {
     "data": {
      "text/html": [
       "<div>\n",
       "<style scoped>\n",
       "    .dataframe tbody tr th:only-of-type {\n",
       "        vertical-align: middle;\n",
       "    }\n",
       "\n",
       "    .dataframe tbody tr th {\n",
       "        vertical-align: top;\n",
       "    }\n",
       "\n",
       "    .dataframe thead th {\n",
       "        text-align: right;\n",
       "    }\n",
       "</style>\n",
       "<table border=\"1\" class=\"dataframe\">\n",
       "  <thead>\n",
       "    <tr style=\"text-align: right;\">\n",
       "      <th></th>\n",
       "      <th>children</th>\n",
       "      <th>days_employed</th>\n",
       "      <th>dob_years</th>\n",
       "      <th>education</th>\n",
       "      <th>education_id</th>\n",
       "      <th>family_status</th>\n",
       "      <th>family_status_id</th>\n",
       "      <th>gender</th>\n",
       "      <th>income_type</th>\n",
       "      <th>debt</th>\n",
       "      <th>total_income</th>\n",
       "      <th>purpose</th>\n",
       "    </tr>\n",
       "  </thead>\n",
       "  <tbody>\n",
       "    <tr>\n",
       "      <th>0</th>\n",
       "      <td>1</td>\n",
       "      <td>-8437.673028</td>\n",
       "      <td>42</td>\n",
       "      <td>высшее</td>\n",
       "      <td>0</td>\n",
       "      <td>женат / замужем</td>\n",
       "      <td>0</td>\n",
       "      <td>F</td>\n",
       "      <td>сотрудник</td>\n",
       "      <td>0</td>\n",
       "      <td>253875.639453</td>\n",
       "      <td>покупка жилья</td>\n",
       "    </tr>\n",
       "    <tr>\n",
       "      <th>1</th>\n",
       "      <td>1</td>\n",
       "      <td>-4024.803754</td>\n",
       "      <td>36</td>\n",
       "      <td>среднее</td>\n",
       "      <td>1</td>\n",
       "      <td>женат / замужем</td>\n",
       "      <td>0</td>\n",
       "      <td>F</td>\n",
       "      <td>сотрудник</td>\n",
       "      <td>0</td>\n",
       "      <td>112080.014102</td>\n",
       "      <td>приобретение автомобиля</td>\n",
       "    </tr>\n",
       "    <tr>\n",
       "      <th>2</th>\n",
       "      <td>0</td>\n",
       "      <td>-5623.422610</td>\n",
       "      <td>33</td>\n",
       "      <td>Среднее</td>\n",
       "      <td>1</td>\n",
       "      <td>женат / замужем</td>\n",
       "      <td>0</td>\n",
       "      <td>M</td>\n",
       "      <td>сотрудник</td>\n",
       "      <td>0</td>\n",
       "      <td>145885.952297</td>\n",
       "      <td>покупка жилья</td>\n",
       "    </tr>\n",
       "    <tr>\n",
       "      <th>3</th>\n",
       "      <td>3</td>\n",
       "      <td>-4124.747207</td>\n",
       "      <td>32</td>\n",
       "      <td>среднее</td>\n",
       "      <td>1</td>\n",
       "      <td>женат / замужем</td>\n",
       "      <td>0</td>\n",
       "      <td>M</td>\n",
       "      <td>сотрудник</td>\n",
       "      <td>0</td>\n",
       "      <td>267628.550329</td>\n",
       "      <td>дополнительное образование</td>\n",
       "    </tr>\n",
       "    <tr>\n",
       "      <th>4</th>\n",
       "      <td>0</td>\n",
       "      <td>340266.072047</td>\n",
       "      <td>53</td>\n",
       "      <td>среднее</td>\n",
       "      <td>1</td>\n",
       "      <td>гражданский брак</td>\n",
       "      <td>1</td>\n",
       "      <td>F</td>\n",
       "      <td>пенсионер</td>\n",
       "      <td>0</td>\n",
       "      <td>158616.077870</td>\n",
       "      <td>сыграть свадьбу</td>\n",
       "    </tr>\n",
       "  </tbody>\n",
       "</table>\n",
       "</div>"
      ],
      "text/plain": [
       "   children  days_employed  dob_years education  education_id  \\\n",
       "0         1   -8437.673028         42    высшее             0   \n",
       "1         1   -4024.803754         36   среднее             1   \n",
       "2         0   -5623.422610         33   Среднее             1   \n",
       "3         3   -4124.747207         32   среднее             1   \n",
       "4         0  340266.072047         53   среднее             1   \n",
       "\n",
       "      family_status  family_status_id gender income_type  debt   total_income  \\\n",
       "0   женат / замужем                 0      F   сотрудник     0  253875.639453   \n",
       "1   женат / замужем                 0      F   сотрудник     0  112080.014102   \n",
       "2   женат / замужем                 0      M   сотрудник     0  145885.952297   \n",
       "3   женат / замужем                 0      M   сотрудник     0  267628.550329   \n",
       "4  гражданский брак                 1      F   пенсионер     0  158616.077870   \n",
       "\n",
       "                      purpose  \n",
       "0               покупка жилья  \n",
       "1     приобретение автомобиля  \n",
       "2               покупка жилья  \n",
       "3  дополнительное образование  \n",
       "4             сыграть свадьбу  "
      ]
     },
     "execution_count": 3,
     "metadata": {},
     "output_type": "execute_result"
    }
   ],
   "source": [
    "data.head()"
   ]
  },
  {
   "cell_type": "code",
   "execution_count": 4,
   "id": "28fd0d19-cf71-4efe-a3c1-37e84b5585a8",
   "metadata": {},
   "outputs": [
    {
     "name": "stdout",
     "output_type": "stream",
     "text": [
      "<class 'pandas.core.frame.DataFrame'>\n",
      "RangeIndex: 21525 entries, 0 to 21524\n",
      "Data columns (total 12 columns):\n",
      " #   Column            Non-Null Count  Dtype  \n",
      "---  ------            --------------  -----  \n",
      " 0   children          21525 non-null  int64  \n",
      " 1   days_employed     19351 non-null  float64\n",
      " 2   dob_years         21525 non-null  int64  \n",
      " 3   education         21525 non-null  object \n",
      " 4   education_id      21525 non-null  int64  \n",
      " 5   family_status     21525 non-null  object \n",
      " 6   family_status_id  21525 non-null  int64  \n",
      " 7   gender            21525 non-null  object \n",
      " 8   income_type       21525 non-null  object \n",
      " 9   debt              21525 non-null  int64  \n",
      " 10  total_income      19351 non-null  float64\n",
      " 11  purpose           21525 non-null  object \n",
      "dtypes: float64(2), int64(5), object(5)\n",
      "memory usage: 2.0+ MB\n"
     ]
    }
   ],
   "source": [
    "data.info()"
   ]
  },
  {
   "cell_type": "markdown",
   "id": "12480b62-f4df-48e6-ad53-808fcdeeb9a5",
   "metadata": {},
   "source": [
    "Предварительно можно отметить следующее:\n",
    "- В данных имеются пропуски в столбцах days_employed и total_income.\n",
    "- В столбце days_employed присутствуют аномальные отрицательные значения.\n",
    "- Необходимо изменить тип данных столбца total_income на integer."
   ]
  },
  {
   "cell_type": "markdown",
   "id": "778713e2-57ee-468a-88e4-8d585abe18ce",
   "metadata": {},
   "source": [
    "## Предобработка данных"
   ]
  },
  {
   "cell_type": "markdown",
   "id": "0e24f97d-17e5-4484-ad1f-c27b3b786b9c",
   "metadata": {},
   "source": [
    "### Удаление пропусков"
   ]
  },
  {
   "cell_type": "code",
   "execution_count": 5,
   "id": "cc6fd54c-489c-42cb-becc-84c94a34db68",
   "metadata": {},
   "outputs": [
    {
     "data": {
      "text/plain": [
       "children               0\n",
       "days_employed       2174\n",
       "dob_years              0\n",
       "education              0\n",
       "education_id           0\n",
       "family_status          0\n",
       "family_status_id       0\n",
       "gender                 0\n",
       "income_type            0\n",
       "debt                   0\n",
       "total_income        2174\n",
       "purpose                0\n",
       "dtype: int64"
      ]
     },
     "execution_count": 5,
     "metadata": {},
     "output_type": "execute_result"
    }
   ],
   "source": [
    "# количество пропущенных значений для каждого столбца\n",
    "data.isna().sum()"
   ]
  },
  {
   "cell_type": "markdown",
   "id": "cf0983e2-d1d1-4614-9d0b-fbe23235a8bd",
   "metadata": {},
   "source": [
    "В двух столбцах есть пропущенные значения:\n",
    "\n",
    "* days_employed - общий трудовой стаж в днях. Пропуски в данном столбце будут обработаны на следующем этапе.\n",
    "\n",
    "* total_income —  данные о доходах. На сумму дохода сильнее всего влияет тип занятости. Пропуски в этом столбце будут заполнены медианными значениями по каждому типу из столбца income_type."
   ]
  },
  {
   "cell_type": "code",
   "execution_count": 6,
   "id": "b4853527-f62d-4dcb-bfe0-7bb6bf4508f3",
   "metadata": {},
   "outputs": [],
   "source": [
    "# заполнение пропусков\n",
    "for t in data['income_type'].unique():\n",
    "    data.loc[(data['income_type'] == t) & (data['total_income'].isna()), 'total_income'] = \\\n",
    "    data.loc[(data['income_type'] == t), 'total_income'].median()"
   ]
  },
  {
   "cell_type": "code",
   "execution_count": 7,
   "id": "5829d0b6-6fa2-4120-9265-5abf68aa1a32",
   "metadata": {},
   "outputs": [
    {
     "data": {
      "text/plain": [
       "0"
      ]
     },
     "execution_count": 7,
     "metadata": {},
     "output_type": "execute_result"
    }
   ],
   "source": [
    "# проверка\n",
    "data['income_type'].isna().sum()"
   ]
  },
  {
   "cell_type": "markdown",
   "id": "18fa0725-e00f-4a45-b70b-432fff624715",
   "metadata": {},
   "source": [
    "### Обработка аномальных значений"
   ]
  },
  {
   "cell_type": "markdown",
   "id": "30587d73-d91b-4173-8f86-8330303e0f10",
   "metadata": {},
   "source": [
    "Необходимо обработать аномалии в данных, связанные со столбцом days_employed. В данном столбце могут встречаться отрицательные значения, которые не отражают действительность и возникли из-за ошибок. Для корректной обработки данных следует заменить все отрицательные значения на положительные"
   ]
  },
  {
   "cell_type": "code",
   "execution_count": 8,
   "id": "d0091537-1f65-4651-b029-872a5679504b",
   "metadata": {},
   "outputs": [],
   "source": [
    "# замена отрицательных значений положительными\n",
    "data['days_employed'] = data['days_employed'].abs()"
   ]
  },
  {
   "cell_type": "code",
   "execution_count": 9,
   "id": "92d5f35e-c228-4fd9-bdf7-b3c7c1daba50",
   "metadata": {},
   "outputs": [
    {
     "data": {
      "text/plain": [
       "income_type\n",
       "безработный        366413.65\n",
       "в декрете            3296.76\n",
       "госслужащий          2689.37\n",
       "компаньон            1547.38\n",
       "пенсионер          365213.31\n",
       "предприниматель       520.85\n",
       "сотрудник            1574.20\n",
       "студент               578.75\n",
       "Name: days_employed, dtype: float64"
      ]
     },
     "execution_count": 9,
     "metadata": {},
     "output_type": "execute_result"
    }
   ],
   "source": [
    "# медианное значение трудового стажа days_employed в днях lля каждого типа занятости\n",
    "data.groupby('income_type')['days_employed'].agg('median').round(2)"
   ]
  },
  {
   "cell_type": "code",
   "execution_count": 10,
   "id": "b9acfe9b-bfe5-4f7b-bd66-5c99ca8210d1",
   "metadata": {},
   "outputs": [
    {
     "data": {
      "text/plain": [
       "array([ 1,  0,  3,  2, -1,  4, 20,  5], dtype=int64)"
      ]
     },
     "execution_count": 10,
     "metadata": {},
     "output_type": "execute_result"
    }
   ],
   "source": [
    "# уникальные значений столбца children\n",
    "data['children'].unique()"
   ]
  },
  {
   "cell_type": "markdown",
   "id": "8479e0c3-b1df-408d-a36d-adb2abe9c1d2",
   "metadata": {},
   "source": [
    "В столбце children есть два аномальных значения: -1 и 20"
   ]
  },
  {
   "cell_type": "code",
   "execution_count": 11,
   "id": "e0f7fa68-91bc-4439-9680-787d8d3ef57e",
   "metadata": {},
   "outputs": [],
   "source": [
    "# удаление строк с аномальнаыми значениями\n",
    "data = data[(data['children'] != -1) & (data['children'] != 20)]"
   ]
  },
  {
   "cell_type": "code",
   "execution_count": 12,
   "id": "e76e85bc-7241-44e9-b3cb-3a2b9d5c087b",
   "metadata": {},
   "outputs": [
    {
     "data": {
      "text/plain": [
       "array([1, 0, 3, 2, 4, 5], dtype=int64)"
      ]
     },
     "execution_count": 12,
     "metadata": {},
     "output_type": "execute_result"
    }
   ],
   "source": [
    "# проверка\n",
    "data['children'].unique()"
   ]
  },
  {
   "cell_type": "code",
   "execution_count": 13,
   "id": "275f6c46-5ab8-489e-8c04-d8773cffd5af",
   "metadata": {},
   "outputs": [],
   "source": [
    "# заполнение пропусков в столбце days_employed медианными значениями по каждого типа занятости income_type\n",
    "for t in data['income_type'].unique():\n",
    "    data.loc[(data['income_type'] == t) & (data['days_employed'].isna()), 'days_employed'] = \\\n",
    "    data.loc[(data['income_type'] == t), 'days_employed'].median()"
   ]
  },
  {
   "cell_type": "code",
   "execution_count": 14,
   "id": "7860b000-8d48-4fe1-8f19-42cddb227388",
   "metadata": {},
   "outputs": [
    {
     "data": {
      "text/plain": [
       "children            0\n",
       "days_employed       0\n",
       "dob_years           0\n",
       "education           0\n",
       "education_id        0\n",
       "family_status       0\n",
       "family_status_id    0\n",
       "gender              0\n",
       "income_type         0\n",
       "debt                0\n",
       "total_income        0\n",
       "purpose             0\n",
       "dtype: int64"
      ]
     },
     "execution_count": 14,
     "metadata": {},
     "output_type": "execute_result"
    }
   ],
   "source": [
    "# проверка\n",
    "data.isna().sum()"
   ]
  },
  {
   "cell_type": "markdown",
   "id": "f262f962-51c9-4c7d-ba88-0742357e63f5",
   "metadata": {},
   "source": [
    "### Изменение типов данных"
   ]
  },
  {
   "cell_type": "code",
   "execution_count": 15,
   "id": "c94de0d4-0863-4a26-8e09-259bf4cde153",
   "metadata": {},
   "outputs": [],
   "source": [
    "#  Изменение типа данных в столбце на целочисленный\n",
    "data['total_income'] = data['total_income'].astype('int64')"
   ]
  },
  {
   "cell_type": "code",
   "execution_count": 16,
   "id": "0b90801a-9f54-47af-a1b1-6179cd6b94d0",
   "metadata": {},
   "outputs": [
    {
     "name": "stdout",
     "output_type": "stream",
     "text": [
      "<class 'pandas.core.frame.DataFrame'>\n",
      "Index: 21402 entries, 0 to 21524\n",
      "Data columns (total 12 columns):\n",
      " #   Column            Non-Null Count  Dtype  \n",
      "---  ------            --------------  -----  \n",
      " 0   children          21402 non-null  int64  \n",
      " 1   days_employed     21402 non-null  float64\n",
      " 2   dob_years         21402 non-null  int64  \n",
      " 3   education         21402 non-null  object \n",
      " 4   education_id      21402 non-null  int64  \n",
      " 5   family_status     21402 non-null  object \n",
      " 6   family_status_id  21402 non-null  int64  \n",
      " 7   gender            21402 non-null  object \n",
      " 8   income_type       21402 non-null  object \n",
      " 9   debt              21402 non-null  int64  \n",
      " 10  total_income      21402 non-null  int64  \n",
      " 11  purpose           21402 non-null  object \n",
      "dtypes: float64(1), int64(6), object(5)\n",
      "memory usage: 2.1+ MB\n"
     ]
    }
   ],
   "source": [
    "# проверка\n",
    "data.info()"
   ]
  },
  {
   "cell_type": "markdown",
   "id": "97566039-63b7-4305-bcbf-2db3d8eabc31",
   "metadata": {},
   "source": [
    "### Обработка дубликатов"
   ]
  },
  {
   "cell_type": "code",
   "execution_count": 17,
   "id": "06493c1f-1a5b-4737-acc5-9d6ee5e567d6",
   "metadata": {},
   "outputs": [
    {
     "data": {
      "text/plain": [
       "array(['высшее', 'среднее', 'Среднее', 'СРЕДНЕЕ', 'ВЫСШЕЕ',\n",
       "       'неоконченное высшее', 'начальное', 'Высшее',\n",
       "       'НЕОКОНЧЕННОЕ ВЫСШЕЕ', 'Неоконченное высшее', 'НАЧАЛЬНОЕ',\n",
       "       'Начальное', 'Ученая степень', 'УЧЕНАЯ СТЕПЕНЬ', 'ученая степень'],\n",
       "      dtype=object)"
      ]
     },
     "execution_count": 17,
     "metadata": {},
     "output_type": "execute_result"
    }
   ],
   "source": [
    "# проверка на неявные дубликаты\n",
    "data['education'].unique()"
   ]
  },
  {
   "cell_type": "code",
   "execution_count": 18,
   "id": "f4aec4b6-eb57-4a28-be8b-3cfff4cd5999",
   "metadata": {},
   "outputs": [],
   "source": [
    "# обработка дубликатов\n",
    "data['education'] = data['education'].str.lower()"
   ]
  },
  {
   "cell_type": "code",
   "execution_count": 19,
   "id": "ca195220-4247-4d0a-a569-2a182987b0d2",
   "metadata": {},
   "outputs": [
    {
     "data": {
      "text/plain": [
       "71"
      ]
     },
     "execution_count": 19,
     "metadata": {},
     "output_type": "execute_result"
    }
   ],
   "source": [
    "# количество строк-дубликатов в данных\n",
    "data.duplicated().sum()"
   ]
  },
  {
   "cell_type": "code",
   "execution_count": 20,
   "id": "8c2a3b56-8d7c-4581-8de4-55e020461889",
   "metadata": {},
   "outputs": [],
   "source": [
    "# удаление дубликатов\n",
    "data = data.drop_duplicates()"
   ]
  },
  {
   "cell_type": "markdown",
   "id": "f8f301cb-c32e-4cd6-a3d3-70847b63231e",
   "metadata": {},
   "source": [
    "### Категоризация данных"
   ]
  },
  {
   "cell_type": "code",
   "execution_count": 21,
   "id": "c1b78bf2-9a17-4835-a5c7-09ef280c344b",
   "metadata": {},
   "outputs": [
    {
     "data": {
      "image/png": "[encoded data removed]",
      "text/plain": [
       "<Figure size 1000x500 with 1 Axes>"
      ]
     },
     "metadata": {},
     "output_type": "display_data"
    }
   ],
   "source": [
    "# построение графика\n",
    "data['total_income'].hist(bins=50, figsize=(10, 5))\n",
    "plt.title('Распределение ежемесячного дохода клиентов')\n",
    "plt.xlabel('Общий доход')\n",
    "plt.ylabel('Частота')\n",
    "plt.show()"
   ]
  },
  {
   "cell_type": "markdown",
   "id": "3ba4bde2-525f-4de3-870e-7b005458d937",
   "metadata": {},
   "source": [
    "В распределении ежемесячных доходов клиентов выделяется значительный правый хвост, что подчеркивает характерное свойство денежных средств: у небольшой группы клиентов доходы существенно превышают доходы большинства."
   ]
  },
  {
   "cell_type": "markdown",
   "id": "0b258a20-6492-40e5-8693-f4d19f355842",
   "metadata": {},
   "source": [
    "Создание дополнительного столбца `total_income_category` с категориями:\n",
    "\n",
    "- 0–30000 — `'E'`;\n",
    "- 30001–50000 — `'D'`;\n",
    "- 50001–200000 — `'C'`;\n",
    "- 200001–1000000 — `'B'`;\n",
    "- 1000001 и выше — `'A'`."
   ]
  },
  {
   "cell_type": "code",
   "execution_count": 22,
   "id": "44a383c5-5de0-4a6d-bafe-6ffbab60fa30",
   "metadata": {},
   "outputs": [],
   "source": [
    "def categorize_floor(floor):\n",
    "    # Функция для категоризации уровня дохода по заданным диапазонам\n",
    "    try:\n",
    "        if 0 <= floor <= 30000:\n",
    "            return 'E'\n",
    "        elif 30001 <= floor <= 50000:\n",
    "            return 'D'\n",
    "        elif 50001 <= floor <= 200000:\n",
    "            return 'C'\n",
    "        elif 200001 <= floor <= 1000000:\n",
    "            return 'B'\n",
    "        elif floor >= 1000001:\n",
    "            return 'A'\n",
    "    except:\n",
    "        return None  # Возврат None в случае ошибки\n",
    "\n",
    "# Применение функции categorize_floor для создания новой категории дохода на основе общего дохода\n",
    "data['total_income_category'] = data['total_income'].apply(categorize_floor)"
   ]
  },
  {
   "cell_type": "code",
   "execution_count": 23,
   "id": "bbd50172-2302-4f75-9bee-b41ee1fd7964",
   "metadata": {},
   "outputs": [
    {
     "data": {
      "text/plain": [
       "array(['покупка жилья', 'приобретение автомобиля',\n",
       "       'дополнительное образование', 'сыграть свадьбу',\n",
       "       'операции с жильем', 'образование', 'на проведение свадьбы',\n",
       "       'покупка жилья для семьи', 'покупка недвижимости',\n",
       "       'покупка коммерческой недвижимости', 'покупка жилой недвижимости',\n",
       "       'строительство собственной недвижимости', 'недвижимость',\n",
       "       'строительство недвижимости', 'на покупку подержанного автомобиля',\n",
       "       'на покупку своего автомобиля',\n",
       "       'операции с коммерческой недвижимостью',\n",
       "       'строительство жилой недвижимости', 'жилье',\n",
       "       'операции со своей недвижимостью', 'автомобили',\n",
       "       'заняться образованием', 'сделка с подержанным автомобилем',\n",
       "       'получение образования', 'автомобиль', 'свадьба',\n",
       "       'получение дополнительного образования', 'покупка своего жилья',\n",
       "       'операции с недвижимостью', 'получение высшего образования',\n",
       "       'свой автомобиль', 'сделка с автомобилем',\n",
       "       'профильное образование', 'высшее образование',\n",
       "       'покупка жилья для сдачи', 'на покупку автомобиля', 'ремонт жилью',\n",
       "       'заняться высшим образованием'], dtype=object)"
      ]
     },
     "execution_count": 23,
     "metadata": {},
     "output_type": "execute_result"
    }
   ],
   "source": [
    "#перечень уникальных целей взятия кредита\n",
    "data['purpose'].unique()"
   ]
  },
  {
   "cell_type": "markdown",
   "id": "819d1e06-c3d3-46de-8481-3e2efb971927",
   "metadata": {},
   "source": [
    "Создание функции, которая на основании данных из столбца `purpose` сформирует новый столбец `purpose_category`, в который войдут следующие категории:\n",
    "\n",
    "- `'операции с автомобилем'`,\n",
    "- `'операции с недвижимостью'`,\n",
    "- `'проведение свадьбы'`,\n",
    "- `'получение образования'`."
   ]
  },
  {
   "cell_type": "code",
   "execution_count": 24,
   "id": "71a42cca-1a35-48ce-b9d1-531df41bcccb",
   "metadata": {},
   "outputs": [],
   "source": [
    "def categorize_purpose(row):\n",
    "    # Функция для категоризации целей кредита по ключевым словам\n",
    "    try:\n",
    "        if 'автом' in row:\n",
    "            return 'операции с автомобилем'\n",
    "        elif 'жил' in row or 'недвиж' in row:\n",
    "            return 'операции с недвижимостью'\n",
    "        elif 'свад' in row:\n",
    "            return 'проведение свадьбы'\n",
    "        elif 'образов' in row:\n",
    "            return 'получение образования'\n",
    "    except:\n",
    "        return 'нет категории'"
   ]
  },
  {
   "cell_type": "code",
   "execution_count": 25,
   "id": "07e88ac6-5eec-40e7-ab13-d4dc631fbb41",
   "metadata": {},
   "outputs": [],
   "source": [
    "# Применение функции\n",
    "data['purpose_category'] = data['purpose'].apply(categorize_purpose)"
   ]
  },
  {
   "cell_type": "markdown",
   "id": "6fd08e08-147f-4ac9-8135-0f1d625a85df",
   "metadata": {},
   "source": [
    "### Исследование данных"
   ]
  },
  {
   "cell_type": "markdown",
   "id": "4fcf69a5-0cf4-4e56-9223-0c31c3096673",
   "metadata": {},
   "source": [
    "#### Анализ зависимости между количеством детей и возвратом кредита в срок"
   ]
  },
  {
   "cell_type": "code",
   "execution_count": 26,
   "id": "109a8ec3-f1f8-4f72-baf5-0645a3aaebc4",
   "metadata": {},
   "outputs": [
    {
     "data": {
      "text/html": [
       "<div>\n",
       "<style scoped>\n",
       "    .dataframe tbody tr th:only-of-type {\n",
       "        vertical-align: middle;\n",
       "    }\n",
       "\n",
       "    .dataframe tbody tr th {\n",
       "        vertical-align: top;\n",
       "    }\n",
       "\n",
       "    .dataframe thead th {\n",
       "        text-align: right;\n",
       "    }\n",
       "</style>\n",
       "<table border=\"1\" class=\"dataframe\">\n",
       "  <thead>\n",
       "    <tr style=\"text-align: right;\">\n",
       "      <th></th>\n",
       "      <th>children</th>\n",
       "      <th>count</th>\n",
       "      <th>mean</th>\n",
       "      <th>sum</th>\n",
       "    </tr>\n",
       "  </thead>\n",
       "  <tbody>\n",
       "    <tr>\n",
       "      <th>0</th>\n",
       "      <td>0</td>\n",
       "      <td>14091</td>\n",
       "      <td>7.543822</td>\n",
       "      <td>1063</td>\n",
       "    </tr>\n",
       "    <tr>\n",
       "      <th>1</th>\n",
       "      <td>1</td>\n",
       "      <td>4808</td>\n",
       "      <td>9.234609</td>\n",
       "      <td>444</td>\n",
       "    </tr>\n",
       "    <tr>\n",
       "      <th>2</th>\n",
       "      <td>2</td>\n",
       "      <td>2052</td>\n",
       "      <td>9.454191</td>\n",
       "      <td>194</td>\n",
       "    </tr>\n",
       "    <tr>\n",
       "      <th>3</th>\n",
       "      <td>3</td>\n",
       "      <td>330</td>\n",
       "      <td>8.181818</td>\n",
       "      <td>27</td>\n",
       "    </tr>\n",
       "    <tr>\n",
       "      <th>4</th>\n",
       "      <td>4</td>\n",
       "      <td>41</td>\n",
       "      <td>9.756098</td>\n",
       "      <td>4</td>\n",
       "    </tr>\n",
       "    <tr>\n",
       "      <th>5</th>\n",
       "      <td>5</td>\n",
       "      <td>9</td>\n",
       "      <td>0.000000</td>\n",
       "      <td>0</td>\n",
       "    </tr>\n",
       "  </tbody>\n",
       "</table>\n",
       "</div>"
      ],
      "text/plain": [
       "   children  count      mean   sum\n",
       "0         0  14091  7.543822  1063\n",
       "1         1   4808  9.234609   444\n",
       "2         2   2052  9.454191   194\n",
       "3         3    330  8.181818    27\n",
       "4         4     41  9.756098     4\n",
       "5         5      9  0.000000     0"
      ]
     },
     "execution_count": 26,
     "metadata": {},
     "output_type": "execute_result"
    }
   ],
   "source": [
    "#зависимость среднего значение задолжников от кол-ва детей\n",
    "ch_debt=data.pivot_table(index='children', values='debt', aggfunc=['count', 'mean', 'sum']).reset_index().droplevel(1, axis=1)\n",
    "ch_debt['mean'] = ch_debt['mean']*100 #переводим значение задолжников в проценты\n",
    "ch_debt #выводим таблицу"
   ]
  },
  {
   "cell_type": "code",
   "execution_count": 27,
   "id": "8083ed44-3215-46fa-8534-efbbb87f45ed",
   "metadata": {},
   "outputs": [
    {
     "data": {
      "image/png": "[encoded data removed]",
      "text/plain": [
       "<Figure size 640x480 with 1 Axes>"
      ]
     },
     "metadata": {},
     "output_type": "display_data"
    }
   ],
   "source": [
    "# Создание графика\n",
    "sns.barplot(x='children', y='mean', data=ch_debt).set(title='Зависимость между количеством детей и возвратом кредита в срок')\n",
    "\n",
    "# Установка меток осей\n",
    "plt.xlabel('Количество детей')\n",
    "plt.ylabel('Средний возврат кредита в срок')\n",
    "\n",
    "# Отображение графика\n",
    "plt.show()"
   ]
  },
  {
   "cell_type": "markdown",
   "id": "0b741f38-9313-4730-a0a6-90fb857c4331",
   "metadata": {},
   "source": [
    "Выборка не сбалансированна: клиентов с 3-5 детьми слишком мало, чтобы делать какие-либо выводы. "
   ]
  },
  {
   "cell_type": "code",
   "execution_count": 28,
   "id": "96e4ef46-7110-4284-ace8-dadb6959391f",
   "metadata": {},
   "outputs": [
    {
     "name": "stdout",
     "output_type": "stream",
     "text": [
      "Процент различия факта возврата кредита клиентами без детей и клинтами с 1-2 детьми: 1.8\n"
     ]
    }
   ],
   "source": [
    "a = ch_debt.loc[1:2, 'mean'].mean() #среднее значение задолжников для людей с детьми, берем лишь для 1-2 детей, т.к. кол-во данных больше и вывод будет точнее\n",
    "b = ch_debt.loc[0, 'mean'] #среднее значение задолжников для людей без детей\n",
    "print('Процент различия факта возврата кредита клиентами без детей и клинтами с 1-2 детьми:', (a - b).round(2)) #процент различия задолжников"
   ]
  },
  {
   "cell_type": "markdown",
   "id": "e85d929b-cb5b-4d8d-ad01-ce1701ef51a9",
   "metadata": {},
   "source": [
    "Вероятность возвращения клиентом кредита в срок при наличие 1-2 детей уменьшается на 1,8%"
   ]
  },
  {
   "cell_type": "markdown",
   "id": "8bc5c599-a17e-4d86-962c-9c309e4e6c0e",
   "metadata": {},
   "source": [
    "**Вывод:** \n",
    "-  Люди без детей берут кредит чаще. Вероятность возвращения клиентом кредита в срок при наличие детей уменьшается в среднем на **1,8%**.\n",
    "\n",
    "-  Люди, которые не имеют детей, лучше всего отдают кредит, доля должников здесь составляет с **7,5%**, хуже обстоит дело с кредиторами, кто имеет одного или двух детей, здесь доля невозврата составляет соответственно **9,2% и 9,4%**. \n",
    "-  Остальные категории уже некорректно сравнивать, так как среди них очень маленькая выборка"
   ]
  },
  {
   "cell_type": "markdown",
   "id": "47bd514d-3c06-4a62-8c42-06b5a767bba5",
   "metadata": {},
   "source": [
    "#### Анализ зависимости между семейным положением и возвратом кредита в срок"
   ]
  },
  {
   "cell_type": "code",
   "execution_count": 29,
   "id": "f628613a-ef54-429a-a3d1-2d009dd5a05b",
   "metadata": {},
   "outputs": [
    {
     "data": {
      "text/html": [
       "<div>\n",
       "<style scoped>\n",
       "    .dataframe tbody tr th:only-of-type {\n",
       "        vertical-align: middle;\n",
       "    }\n",
       "\n",
       "    .dataframe tbody tr th {\n",
       "        vertical-align: top;\n",
       "    }\n",
       "\n",
       "    .dataframe thead th {\n",
       "        text-align: right;\n",
       "    }\n",
       "</style>\n",
       "<table border=\"1\" class=\"dataframe\">\n",
       "  <thead>\n",
       "    <tr style=\"text-align: right;\">\n",
       "      <th></th>\n",
       "      <th>family_status</th>\n",
       "      <th>count</th>\n",
       "      <th>mean</th>\n",
       "      <th>sum</th>\n",
       "    </tr>\n",
       "  </thead>\n",
       "  <tbody>\n",
       "    <tr>\n",
       "      <th>2</th>\n",
       "      <td>вдовец / вдова</td>\n",
       "      <td>951</td>\n",
       "      <td>6.624606</td>\n",
       "      <td>63</td>\n",
       "    </tr>\n",
       "    <tr>\n",
       "      <th>1</th>\n",
       "      <td>в разводе</td>\n",
       "      <td>1189</td>\n",
       "      <td>7.064760</td>\n",
       "      <td>84</td>\n",
       "    </tr>\n",
       "    <tr>\n",
       "      <th>4</th>\n",
       "      <td>женат / замужем</td>\n",
       "      <td>12261</td>\n",
       "      <td>7.560558</td>\n",
       "      <td>927</td>\n",
       "    </tr>\n",
       "    <tr>\n",
       "      <th>3</th>\n",
       "      <td>гражданский брак</td>\n",
       "      <td>4134</td>\n",
       "      <td>9.313014</td>\n",
       "      <td>385</td>\n",
       "    </tr>\n",
       "    <tr>\n",
       "      <th>0</th>\n",
       "      <td>Не женат / не замужем</td>\n",
       "      <td>2796</td>\n",
       "      <td>9.763948</td>\n",
       "      <td>273</td>\n",
       "    </tr>\n",
       "  </tbody>\n",
       "</table>\n",
       "</div>"
      ],
      "text/plain": [
       "           family_status  count      mean  sum\n",
       "2         вдовец / вдова    951  6.624606   63\n",
       "1              в разводе   1189  7.064760   84\n",
       "4        женат / замужем  12261  7.560558  927\n",
       "3       гражданский брак   4134  9.313014  385\n",
       "0  Не женат / не замужем   2796  9.763948  273"
      ]
     },
     "execution_count": 29,
     "metadata": {},
     "output_type": "execute_result"
    }
   ],
   "source": [
    "#создаю таблицу зависимости семейного положения от возврата кредита в срок\n",
    "family_debt=data.pivot_table(index='family_status', values='debt', aggfunc=['count', 'mean', 'sum']).reset_index().droplevel(1, axis=1).sort_values('mean')\n",
    "family_debt['mean'] = family_debt['mean']*100 #перевожу среднее значение debt в проценты для удобства просмотра результатов\n",
    "family_debt #вывожу таблицу"
   ]
  },
  {
   "cell_type": "code",
   "execution_count": 30,
   "id": "00b1e37f-798a-49f0-b341-2c7f35728f31",
   "metadata": {},
   "outputs": [
    {
     "data": {
      "image/png": "[encoded data removed]",
      "text/plain": [
       "<Figure size 1100x400 with 1 Axes>"
      ]
     },
     "metadata": {},
     "output_type": "display_data"
    }
   ],
   "source": [
    "# Создание графика\n",
    "fig, ax = plt.subplots(figsize=(11, 4))\n",
    "sns.barplot(x=\"family_status\", y='mean', data=family_debt, ax=ax, err_kws={'linewidth': 0}).set(title='Зависимость между семейным положением и возвратом кредита в срок')\n",
    "\n",
    "# Установка меток осей\n",
    "plt.xlabel('Семейное положение')\n",
    "plt.ylabel('Средний возврат кредита в срок')\n",
    "\n",
    "# Отображение графика\n",
    "plt.show()"
   ]
  },
  {
   "cell_type": "markdown",
   "id": "8b009dae-3955-459e-936d-fbcaa283a70e",
   "metadata": {},
   "source": [
    "Зачастую в кредите нуждаются люди в браке, но в срок возвращают чаще вдовцы и те, кто в разведе.\n",
    "Посмотрю, есть ли взаимосвязь между целью взятия кредита и семейным статусом клиента."
   ]
  },
  {
   "cell_type": "markdown",
   "id": "ee63ee71-e211-4e87-b1f3-ad759b53126a",
   "metadata": {},
   "source": [
    "**Частота взятия кредита от семейного статуса и цели**"
   ]
  },
  {
   "cell_type": "code",
   "execution_count": 31,
   "id": "9de110eb-ad8f-4146-ac5a-6d76de000631",
   "metadata": {},
   "outputs": [
    {
     "data": {
      "text/html": [
       "<div>\n",
       "<style scoped>\n",
       "    .dataframe tbody tr th:only-of-type {\n",
       "        vertical-align: middle;\n",
       "    }\n",
       "\n",
       "    .dataframe tbody tr th {\n",
       "        vertical-align: top;\n",
       "    }\n",
       "\n",
       "    .dataframe thead tr th {\n",
       "        text-align: left;\n",
       "    }\n",
       "\n",
       "    .dataframe thead tr:last-of-type th {\n",
       "        text-align: right;\n",
       "    }\n",
       "</style>\n",
       "<table border=\"1\" class=\"dataframe\">\n",
       "  <thead>\n",
       "    <tr>\n",
       "      <th></th>\n",
       "      <th colspan=\"5\" halign=\"left\">purpose</th>\n",
       "    </tr>\n",
       "    <tr>\n",
       "      <th>family_status</th>\n",
       "      <th>Не женат / не замужем</th>\n",
       "      <th>в разводе</th>\n",
       "      <th>вдовец / вдова</th>\n",
       "      <th>гражданский брак</th>\n",
       "      <th>женат / замужем</th>\n",
       "    </tr>\n",
       "    <tr>\n",
       "      <th>purpose_category</th>\n",
       "      <th></th>\n",
       "      <th></th>\n",
       "      <th></th>\n",
       "      <th></th>\n",
       "      <th></th>\n",
       "    </tr>\n",
       "  </thead>\n",
       "  <tbody>\n",
       "    <tr>\n",
       "      <th>операции с автомобилем</th>\n",
       "      <td>635.0</td>\n",
       "      <td>279.0</td>\n",
       "      <td>218.0</td>\n",
       "      <td>430.0</td>\n",
       "      <td>2717.0</td>\n",
       "    </tr>\n",
       "    <tr>\n",
       "      <th>операции с недвижимостью</th>\n",
       "      <td>1586.0</td>\n",
       "      <td>672.0</td>\n",
       "      <td>535.0</td>\n",
       "      <td>988.0</td>\n",
       "      <td>6970.0</td>\n",
       "    </tr>\n",
       "    <tr>\n",
       "      <th>получение образования</th>\n",
       "      <td>575.0</td>\n",
       "      <td>238.0</td>\n",
       "      <td>198.0</td>\n",
       "      <td>403.0</td>\n",
       "      <td>2574.0</td>\n",
       "    </tr>\n",
       "    <tr>\n",
       "      <th>проведение свадьбы</th>\n",
       "      <td>NaN</td>\n",
       "      <td>NaN</td>\n",
       "      <td>NaN</td>\n",
       "      <td>2313.0</td>\n",
       "      <td>NaN</td>\n",
       "    </tr>\n",
       "  </tbody>\n",
       "</table>\n",
       "</div>"
      ],
      "text/plain": [
       "                                       purpose                           \\\n",
       "family_status            Не женат / не замужем в разводе вдовец / вдова   \n",
       "purpose_category                                                          \n",
       "операции с автомобилем                   635.0     279.0          218.0   \n",
       "операции с недвижимостью                1586.0     672.0          535.0   \n",
       "получение образования                    575.0     238.0          198.0   \n",
       "проведение свадьбы                         NaN       NaN            NaN   \n",
       "\n",
       "                                                           \n",
       "family_status            гражданский брак женат / замужем  \n",
       "purpose_category                                           \n",
       "операции с автомобилем              430.0          2717.0  \n",
       "операции с недвижимостью            988.0          6970.0  \n",
       "получение образования               403.0          2574.0  \n",
       "проведение свадьбы                 2313.0             NaN  "
      ]
     },
     "execution_count": 31,
     "metadata": {},
     "output_type": "execute_result"
    }
   ],
   "source": [
    "family_purpose_debt = data.groupby(['family_status','purpose_category']).agg({'purpose':'count'}).reset_index()\n",
    "family_purpose_debt\n",
    "pd.pivot_table(\n",
    "   data=family_purpose_debt,\n",
    "   index='purpose_category',\n",
    "   columns='family_status',\n",
    "   )"
   ]
  },
  {
   "cell_type": "markdown",
   "id": "dac7c95e-d769-4c76-8c6a-63199b655ebe",
   "metadata": {},
   "source": [
    "Наибольшие суммы кредитов наблюдаются у семейных клиентов (женат/замужем) для операций с недвижимостью и свадьбами. Люди в гражданском браке также имеют значительные суммы по всем категориям, тогда как неженатые и вдовы/вдовцы имеют значительно меньшие суммы, особенно для проведения свадьбы, где данные отсутствуют."
   ]
  },
  {
   "cell_type": "markdown",
   "id": "a2338119-f64c-490f-8cfa-263eb8c13cf2",
   "metadata": {},
   "source": [
    "**Среднее значение возврата кредита в зависимости от семейного статуса и цели**"
   ]
  },
  {
   "cell_type": "code",
   "execution_count": 32,
   "id": "1e00187a-ec68-4ea1-a6fc-81610d4307ce",
   "metadata": {},
   "outputs": [
    {
     "data": {
      "text/html": [
       "<div>\n",
       "<style scoped>\n",
       "    .dataframe tbody tr th:only-of-type {\n",
       "        vertical-align: middle;\n",
       "    }\n",
       "\n",
       "    .dataframe tbody tr th {\n",
       "        vertical-align: top;\n",
       "    }\n",
       "\n",
       "    .dataframe thead th {\n",
       "        text-align: right;\n",
       "    }\n",
       "</style>\n",
       "<table border=\"1\" class=\"dataframe\">\n",
       "  <thead>\n",
       "    <tr style=\"text-align: right;\">\n",
       "      <th>family_status</th>\n",
       "      <th>Не женат / не замужем</th>\n",
       "      <th>в разводе</th>\n",
       "      <th>вдовец / вдова</th>\n",
       "      <th>гражданский брак</th>\n",
       "      <th>женат / замужем</th>\n",
       "    </tr>\n",
       "    <tr>\n",
       "      <th>purpose_category</th>\n",
       "      <th></th>\n",
       "      <th></th>\n",
       "      <th></th>\n",
       "      <th></th>\n",
       "      <th></th>\n",
       "    </tr>\n",
       "  </thead>\n",
       "  <tbody>\n",
       "    <tr>\n",
       "      <th>операции с автомобилем</th>\n",
       "      <td>0.13</td>\n",
       "      <td>0.08</td>\n",
       "      <td>0.09</td>\n",
       "      <td>0.12</td>\n",
       "      <td>0.08</td>\n",
       "    </tr>\n",
       "    <tr>\n",
       "      <th>операции с недвижимостью</th>\n",
       "      <td>0.08</td>\n",
       "      <td>0.07</td>\n",
       "      <td>0.05</td>\n",
       "      <td>0.09</td>\n",
       "      <td>0.07</td>\n",
       "    </tr>\n",
       "    <tr>\n",
       "      <th>получение образования</th>\n",
       "      <td>0.11</td>\n",
       "      <td>0.07</td>\n",
       "      <td>0.08</td>\n",
       "      <td>0.15</td>\n",
       "      <td>0.08</td>\n",
       "    </tr>\n",
       "    <tr>\n",
       "      <th>проведение свадьбы</th>\n",
       "      <td>NaN</td>\n",
       "      <td>NaN</td>\n",
       "      <td>NaN</td>\n",
       "      <td>0.08</td>\n",
       "      <td>NaN</td>\n",
       "    </tr>\n",
       "  </tbody>\n",
       "</table>\n",
       "</div>"
      ],
      "text/plain": [
       "family_status             Не женат / не замужем  в разводе  вдовец / вдова  \\\n",
       "purpose_category                                                             \n",
       "операции с автомобилем                     0.13       0.08            0.09   \n",
       "операции с недвижимостью                   0.08       0.07            0.05   \n",
       "получение образования                      0.11       0.07            0.08   \n",
       "проведение свадьбы                          NaN        NaN             NaN   \n",
       "\n",
       "family_status             гражданский брак  женат / замужем  \n",
       "purpose_category                                             \n",
       "операции с автомобилем                0.12             0.08  \n",
       "операции с недвижимостью              0.09             0.07  \n",
       "получение образования                 0.15             0.08  \n",
       "проведение свадьбы                    0.08              NaN  "
      ]
     },
     "execution_count": 32,
     "metadata": {},
     "output_type": "execute_result"
    }
   ],
   "source": [
    "pd.pivot_table(\n",
    "    data=data,\n",
    "    index='purpose_category',\n",
    "    columns='family_status',\n",
    "    values='debt',\n",
    "    aggfunc='mean').round(2)"
   ]
  },
  {
   "cell_type": "markdown",
   "id": "a8ac9b09-4a75-45ca-addc-859e9ba16639",
   "metadata": {},
   "source": [
    "В таблице представлены доли клиентов, которые вернули кредиты в срок, разбитые по категориям целей и семейному положению. Наивысшие показатели наблюдаются у людей, получающих образование в группе \"гражданский брак\". Люди в статусе \"Не женат / не замужем\" имеют относительно высокие доли по всем категориям, особенно для операций с автомобилем. В то же время, данные по проведению свадьбы отсутствуют для всех категорий, что указывает на низкую или отсутствующую кредитную активность в этой области."
   ]
  },
  {
   "cell_type": "code",
   "execution_count": 33,
   "id": "1639f820-d313-4ceb-8949-42482da12f71",
   "metadata": {},
   "outputs": [
    {
     "data": {
      "text/html": [
       "<div>\n",
       "<style scoped>\n",
       "    .dataframe tbody tr th:only-of-type {\n",
       "        vertical-align: middle;\n",
       "    }\n",
       "\n",
       "    .dataframe tbody tr th {\n",
       "        vertical-align: top;\n",
       "    }\n",
       "\n",
       "    .dataframe thead tr th {\n",
       "        text-align: left;\n",
       "    }\n",
       "\n",
       "    .dataframe thead tr:last-of-type th {\n",
       "        text-align: right;\n",
       "    }\n",
       "</style>\n",
       "<table border=\"1\" class=\"dataframe\">\n",
       "  <thead>\n",
       "    <tr>\n",
       "      <th></th>\n",
       "      <th colspan=\"5\" halign=\"left\">debt</th>\n",
       "    </tr>\n",
       "    <tr>\n",
       "      <th>family_status</th>\n",
       "      <th>Не женат / не замужем</th>\n",
       "      <th>в разводе</th>\n",
       "      <th>вдовец / вдова</th>\n",
       "      <th>гражданский брак</th>\n",
       "      <th>женат / замужем</th>\n",
       "    </tr>\n",
       "    <tr>\n",
       "      <th>children</th>\n",
       "      <th></th>\n",
       "      <th></th>\n",
       "      <th></th>\n",
       "      <th></th>\n",
       "      <th></th>\n",
       "    </tr>\n",
       "  </thead>\n",
       "  <tbody>\n",
       "    <tr>\n",
       "      <th>0</th>\n",
       "      <td>0.09</td>\n",
       "      <td>0.07</td>\n",
       "      <td>0.06</td>\n",
       "      <td>0.08</td>\n",
       "      <td>0.07</td>\n",
       "    </tr>\n",
       "    <tr>\n",
       "      <th>1</th>\n",
       "      <td>0.12</td>\n",
       "      <td>0.07</td>\n",
       "      <td>0.09</td>\n",
       "      <td>0.12</td>\n",
       "      <td>0.08</td>\n",
       "    </tr>\n",
       "    <tr>\n",
       "      <th>2</th>\n",
       "      <td>0.12</td>\n",
       "      <td>0.09</td>\n",
       "      <td>0.15</td>\n",
       "      <td>0.09</td>\n",
       "      <td>0.09</td>\n",
       "    </tr>\n",
       "    <tr>\n",
       "      <th>3</th>\n",
       "      <td>0.12</td>\n",
       "      <td>0.09</td>\n",
       "      <td>0.00</td>\n",
       "      <td>0.14</td>\n",
       "      <td>0.07</td>\n",
       "    </tr>\n",
       "    <tr>\n",
       "      <th>4</th>\n",
       "      <td>0.50</td>\n",
       "      <td>0.00</td>\n",
       "      <td>0.00</td>\n",
       "      <td>0.00</td>\n",
       "      <td>0.10</td>\n",
       "    </tr>\n",
       "    <tr>\n",
       "      <th>5</th>\n",
       "      <td>NaN</td>\n",
       "      <td>NaN</td>\n",
       "      <td>NaN</td>\n",
       "      <td>0.00</td>\n",
       "      <td>0.00</td>\n",
       "    </tr>\n",
       "  </tbody>\n",
       "</table>\n",
       "</div>"
      ],
      "text/plain": [
       "                               debt                                            \\\n",
       "family_status Не женат / не замужем в разводе вдовец / вдова гражданский брак   \n",
       "children                                                                        \n",
       "0                              0.09      0.07           0.06             0.08   \n",
       "1                              0.12      0.07           0.09             0.12   \n",
       "2                              0.12      0.09           0.15             0.09   \n",
       "3                              0.12      0.09           0.00             0.14   \n",
       "4                              0.50      0.00           0.00             0.00   \n",
       "5                               NaN       NaN            NaN             0.00   \n",
       "\n",
       "                               \n",
       "family_status женат / замужем  \n",
       "children                       \n",
       "0                        0.07  \n",
       "1                        0.08  \n",
       "2                        0.09  \n",
       "3                        0.07  \n",
       "4                        0.10  \n",
       "5                        0.00  "
      ]
     },
     "execution_count": 33,
     "metadata": {},
     "output_type": "execute_result"
    }
   ],
   "source": [
    "family_children = data.groupby(['family_status','children']).agg({'debt':'mean'}).reset_index()\n",
    "family_children\n",
    "pd.pivot_table(\n",
    "   data=family_children,\n",
    "   index='children',\n",
    "   columns='family_status',\n",
    "   ).round(2)"
   ]
  },
  {
   "cell_type": "markdown",
   "id": "a4345960-74be-4c25-8c03-d123b67aa9f3",
   "metadata": {},
   "source": [
    "В таблице представлены доли клиентов с задолженностью по кредитам, разбитые по количеству детей и семейному положению. Наибольшие доли задолженности наблюдаются у клиентов с тремя детьми, особенно среди тех, кто неженат / не замужем. Для клиентов с четырьмя детьми уровень задолженности достигает 50% в группе \"Не женат / не замужем\". В то же время, для семей с детьми в статусе \"женат / замужем\" показатели задолженности остаются ниже, особенно для тех, у кого нет детей. Данные для клиентов с пятью детьми отсутствуют или равны нулю, что указывает на низкую активность в этой группе."
   ]
  },
  {
   "cell_type": "code",
   "execution_count": 34,
   "id": "101e2248-5099-42f6-aada-7a1745f9aecd",
   "metadata": {},
   "outputs": [
    {
     "name": "stdout",
     "output_type": "stream",
     "text": [
      "Процент вдовцов в выборке: 4.5\n",
      "Процент людей в разводе в выборке: 5.6\n"
     ]
    }
   ],
   "source": [
    "num_widowers = family_debt.loc[2, 'count']  # количество вдовцов в выборке\n",
    "num_divorcees = family_debt.loc[1, 'count']  # количество людей в разводе в выборке\n",
    "total_clients = family_debt.loc[:, 'count'].sum()  # общее количество клиентов\n",
    "percent_widowers = num_widowers / total_clients * 100  # процент вдовцов в выборке\n",
    "percent_divorcees = num_divorcees / total_clients * 100  # процент людей в разводе в выборке\n",
    "\n",
    "print('Процент вдовцов в выборке:', percent_widowers.round(1))\n",
    "print('Процент людей в разводе в выборке:', percent_divorcees.round(1))"
   ]
  },
  {
   "cell_type": "markdown",
   "id": "2051277e-f6c0-4f42-8fe9-76081c3725e4",
   "metadata": {},
   "source": [
    "**Вывод** \n",
    "-  В среднем вдовцы, люди в разводе и женатые отдают кредит лучше - доля невозврата соответственно **6,6%, 7% и 7.5%** \n",
    "Люди, находящиеся в гражданском браке и неженатые отдают кредит хуже - доля невозврата соответственно **9.3% и 9.8%** \n",
    "\n",
    "-  Если же рассмотреть взаимосвязь семейного статуса и количества имеющихся у клиентов детей, - заметно, что отсутствие детей улучшает показатели возврата кредита. К примеру, доля невозврата женатых людей, как написано выше, - **7,5%** , доля невозврата женатых людей без детей уже **6.9%**.\n",
    "\n",
    "-  Люди, вне зависимости от семейного положения, чаще берут кредит на операции с недвижимостью и операции с автомобилем. \n",
    "За исключением тех, кто находится в гражданском браке: для них основная цель кредита - свадьба, и кредит на свадьбу они возвращают лучше, чем по другим целям. \n",
    "\n",
    "-  **Показатели по вдовцам и людям в разводе могут быть неточными, так как их доля в выборке составляет 4.5% и 5.6% соответственно.**  \n"
   ]
  },
  {
   "cell_type": "markdown",
   "id": "e5a87df3-88a5-4747-9a6b-564710f815e9",
   "metadata": {},
   "source": [
    "#### Анализ зависимости между уровнем дохода и возвратом кредита в срок"
   ]
  },
  {
   "cell_type": "code",
   "execution_count": 35,
   "id": "ebad16c9-6ded-4203-9b87-41eebd3acb39",
   "metadata": {},
   "outputs": [
    {
     "data": {
      "text/html": [
       "<div>\n",
       "<style scoped>\n",
       "    .dataframe tbody tr th:only-of-type {\n",
       "        vertical-align: middle;\n",
       "    }\n",
       "\n",
       "    .dataframe tbody tr th {\n",
       "        vertical-align: top;\n",
       "    }\n",
       "\n",
       "    .dataframe thead th {\n",
       "        text-align: right;\n",
       "    }\n",
       "</style>\n",
       "<table border=\"1\" class=\"dataframe\">\n",
       "  <thead>\n",
       "    <tr style=\"text-align: right;\">\n",
       "      <th></th>\n",
       "      <th>total_income_category</th>\n",
       "      <th>count</th>\n",
       "      <th>mean</th>\n",
       "      <th>sum</th>\n",
       "    </tr>\n",
       "  </thead>\n",
       "  <tbody>\n",
       "    <tr>\n",
       "      <th>3</th>\n",
       "      <td>D</td>\n",
       "      <td>349</td>\n",
       "      <td>6.0</td>\n",
       "      <td>21</td>\n",
       "    </tr>\n",
       "    <tr>\n",
       "      <th>1</th>\n",
       "      <td>B</td>\n",
       "      <td>5014</td>\n",
       "      <td>7.1</td>\n",
       "      <td>354</td>\n",
       "    </tr>\n",
       "    <tr>\n",
       "      <th>0</th>\n",
       "      <td>A</td>\n",
       "      <td>25</td>\n",
       "      <td>8.0</td>\n",
       "      <td>2</td>\n",
       "    </tr>\n",
       "    <tr>\n",
       "      <th>2</th>\n",
       "      <td>C</td>\n",
       "      <td>15921</td>\n",
       "      <td>8.5</td>\n",
       "      <td>1353</td>\n",
       "    </tr>\n",
       "    <tr>\n",
       "      <th>4</th>\n",
       "      <td>E</td>\n",
       "      <td>22</td>\n",
       "      <td>9.1</td>\n",
       "      <td>2</td>\n",
       "    </tr>\n",
       "  </tbody>\n",
       "</table>\n",
       "</div>"
      ],
      "text/plain": [
       "  total_income_category  count  mean   sum\n",
       "3                     D    349   6.0    21\n",
       "1                     B   5014   7.1   354\n",
       "0                     A     25   8.0     2\n",
       "2                     C  15921   8.5  1353\n",
       "4                     E     22   9.1     2"
      ]
     },
     "execution_count": 35,
     "metadata": {},
     "output_type": "execute_result"
    }
   ],
   "source": [
    "# Создание сводной таблицы для анализа задолженности по категориям дохода\n",
    "income_debt = data.pivot_table(index='total_income_category', values='debt', aggfunc=['count', 'mean', 'sum'])\\\n",
    "    .reset_index()\\\n",
    "    .droplevel(1, axis=1)\\\n",
    "    .sort_values('mean')  # Сортировка по среднему значению задолженности\n",
    "\n",
    "# Перевод среднего значения задолженности в проценты для удобства анализа\n",
    "income_debt['mean'] = (income_debt['mean'] * 100 ).round(1)\n",
    "\n",
    "# Вывод таблицы с результатами\n",
    "income_debt"
   ]
  },
  {
   "cell_type": "markdown",
   "id": "3380138c-70d9-4710-b9a2-7f80c3fbd0a4",
   "metadata": {},
   "source": [
    "Описание категорий:\n",
    "* 0–30000 — 'E';\n",
    "* 30001–50000 — 'D';\n",
    "* 50001–200000 — 'C';\n",
    "* 200001–1000000 — 'B';\n",
    "* 1000001 и выше — 'A'."
   ]
  },
  {
   "cell_type": "code",
   "execution_count": 36,
   "id": "e23a797f-7434-42da-8d84-9f9472a54cda",
   "metadata": {},
   "outputs": [
    {
     "data": {
      "image/png": "[encoded data removed]",
      "text/plain": [
       "<Figure size 640x480 with 1 Axes>"
      ]
     },
     "metadata": {},
     "output_type": "display_data"
    }
   ],
   "source": [
    "# Построение столбчатой диаграммы зависимости между уровнем дохода и возвратом кредита в срок\n",
    "sns.barplot(x='total_income_category', y='mean', data=income_debt).set(title='Зависимость между уровнем дохода и возвратом кредита в срок')\n",
    "\n",
    "# Установка меток осей\n",
    "plt.xlabel('Категория дохода')\n",
    "plt.ylabel('Средний возврат кредита в срок (%)')\n",
    "\n",
    "# Отображение графика\n",
    "plt.show()"
   ]
  },
  {
   "cell_type": "code",
   "execution_count": 37,
   "id": "ae3c5308-f328-48e5-b734-64dd427442eb",
   "metadata": {},
   "outputs": [
    {
     "name": "stdout",
     "output_type": "stream",
     "text": [
      "Процент количества людей категории A в выборке: 0.1\n",
      "Процент количества людей категории D в выборке: 1.6\n",
      "Процент количества людей категории E в выборке: 0.1\n",
      "Процент количества людей категории C в выборке: 74.6\n"
     ]
    }
   ],
   "source": [
    "# Получение количества людей в каждой категории дохода из сводной таблицы\n",
    "category_a_count = income_debt.loc[0, 'count']  # количество людей категории A в выборке\n",
    "category_d_count = income_debt.loc[3, 'count']  # количество людей категории D в выборке\n",
    "category_e_count = income_debt.loc[4, 'count']  # количество людей категории E в выборке\n",
    "category_c_count = income_debt.loc[2, 'count']  # количество людей категории C в выборке\n",
    "\n",
    "# Вычисление процентов для каждой категории\n",
    "pr_category_a = round(category_a_count / total_clients * 100, 1)  # процент категории A в выборке\n",
    "pr_category_d = round(category_d_count / total_clients * 100, 1)  # процент категории D в выборке\n",
    "pr_category_e = round(category_e_count / total_clients * 100, 1)  # процент категории E в выборке\n",
    "pr_category_c = round(category_c_count / total_clients * 100, 1)  # процент категории C в выборке\n",
    "\n",
    "# Вывод результатов\n",
    "print('Процент количества людей категории A в выборке:', pr_category_a)\n",
    "print('Процент количества людей категории D в выборке:', pr_category_d)\n",
    "print('Процент количества людей категории E в выборке:', pr_category_e)\n",
    "print('Процент количества людей категории C в выборке:', pr_category_c)"
   ]
  },
  {
   "cell_type": "markdown",
   "id": "ad5c776a-4a07-4543-832e-2524ca154e18",
   "metadata": {},
   "source": [
    "**Вывод:** \n",
    "-  Клиентов с категориями A,D,E - слишком мало, чтобы делать какие-то выводы, процент количества людей данных категорий в выборке соответсвенно: **0.1%, 1.6%, 0.1%**. \n",
    "\n",
    "-  Если сравнивать только клиентов категории В и С, лучше возвращают кредит люди с доходом категории В (диапозоне 200001–1000000) - доля невозврата **7.1%**. \n",
    "\n",
    "-  Большинство клиентов банка  - люди с доходом категорий 'C'(в диапозоне 50001–200000), это 74% всех клиентов, доля невозврата среди них **8.5%**."
   ]
  },
  {
   "cell_type": "markdown",
   "id": "8cc2313d-2084-4ce2-881f-1f8692682619",
   "metadata": {},
   "source": [
    "#### Анализ влияния различных целей кредита на его возврат в срок"
   ]
  },
  {
   "cell_type": "code",
   "execution_count": 38,
   "id": "931fedc9-9b48-4041-ada9-4a5ebd817603",
   "metadata": {},
   "outputs": [
    {
     "data": {
      "text/html": [
       "<div>\n",
       "<style scoped>\n",
       "    .dataframe tbody tr th:only-of-type {\n",
       "        vertical-align: middle;\n",
       "    }\n",
       "\n",
       "    .dataframe tbody tr th {\n",
       "        vertical-align: top;\n",
       "    }\n",
       "\n",
       "    .dataframe thead th {\n",
       "        text-align: right;\n",
       "    }\n",
       "</style>\n",
       "<table border=\"1\" class=\"dataframe\">\n",
       "  <thead>\n",
       "    <tr style=\"text-align: right;\">\n",
       "      <th></th>\n",
       "      <th>purpose_category</th>\n",
       "      <th>count</th>\n",
       "      <th>mean</th>\n",
       "      <th>sum</th>\n",
       "    </tr>\n",
       "  </thead>\n",
       "  <tbody>\n",
       "    <tr>\n",
       "      <th>1</th>\n",
       "      <td>операции с недвижимостью</td>\n",
       "      <td>10751</td>\n",
       "      <td>7.255139</td>\n",
       "      <td>780</td>\n",
       "    </tr>\n",
       "    <tr>\n",
       "      <th>3</th>\n",
       "      <td>проведение свадьбы</td>\n",
       "      <td>2313</td>\n",
       "      <td>7.911803</td>\n",
       "      <td>183</td>\n",
       "    </tr>\n",
       "    <tr>\n",
       "      <th>2</th>\n",
       "      <td>получение образования</td>\n",
       "      <td>3988</td>\n",
       "      <td>9.252758</td>\n",
       "      <td>369</td>\n",
       "    </tr>\n",
       "    <tr>\n",
       "      <th>0</th>\n",
       "      <td>операции с автомобилем</td>\n",
       "      <td>4279</td>\n",
       "      <td>9.347978</td>\n",
       "      <td>400</td>\n",
       "    </tr>\n",
       "  </tbody>\n",
       "</table>\n",
       "</div>"
      ],
      "text/plain": [
       "           purpose_category  count      mean  sum\n",
       "1  операции с недвижимостью  10751  7.255139  780\n",
       "3        проведение свадьбы   2313  7.911803  183\n",
       "2     получение образования   3988  9.252758  369\n",
       "0    операции с автомобилем   4279  9.347978  400"
      ]
     },
     "execution_count": 38,
     "metadata": {},
     "output_type": "execute_result"
    }
   ],
   "source": [
    "# Создание сводной таблицы для анализа задолженности по категориям целей кредита\n",
    "purpose_debt = data.pivot_table(index='purpose_category', values='debt', aggfunc=['count', 'mean', 'sum'])\\\n",
    "    .reset_index()\\\n",
    "    .droplevel(1, axis=1)\\\n",
    "    .sort_values('mean')  # Сортировка по среднему значению задолженности\n",
    "\n",
    "# Перевод среднего значения задолженности в проценты для удобства анализа\n",
    "purpose_debt['mean'] = purpose_debt['mean'] * 100  \n",
    "\n",
    "# Вывод таблицы с результатами\n",
    "purpose_debt"
   ]
  },
  {
   "cell_type": "code",
   "execution_count": 39,
   "id": "15dd703e-d471-4909-8d2e-cbbf270a2bdc",
   "metadata": {},
   "outputs": [
    {
     "data": {
      "image/png": "[encoded data removed]",
      "text/plain": [
       "<Figure size 1000x500 with 1 Axes>"
      ]
     },
     "metadata": {},
     "output_type": "display_data"
    }
   ],
   "source": [
    "# Построение столбчатой диаграммы зависимости целей кредита от его возврата в срок\n",
    "fig, ax = plt.subplots(figsize=(10, 5))  \n",
    "\n",
    "# Создание графика\n",
    "sns.barplot(x='purpose_category', y='mean', data=purpose_debt).set(title='Зависимость цели кредита на его возврат в срок')\n",
    "\n",
    "# Установка меток осей\n",
    "plt.xlabel('Категория цели кредита')\n",
    "plt.ylabel('Средний возврат кредита в срок (%)')\n",
    "\n",
    "# Отображение графика\n",
    "plt.tight_layout()  \n",
    "plt.show()"
   ]
  },
  {
   "cell_type": "markdown",
   "id": "80374b3d-03c1-4129-900c-7b6e42814e77",
   "metadata": {},
   "source": [
    "**Вывод:** Клиенты, цель которых являются операции с недвижимостью - возвращают кредит лучше остальных: доля невозврата **7,3%**.\n",
    "Также хорошие показатели у клиентов, которые берут кредит на свадьбу, доля невозврата **7,9%**.\n",
    "Хуже с такими целями как: получание образования и операции с автомобилем, доля невозврата по **9.3%**.\n",
    "\n",
    "Вероятно, кредит на операции с недвижимостью возвращают лучше, так как требования к заемщикам выше. В свою очередь заемщики, возможно, относятся к данной цели с большей ответсвенностью из-за крупной суммы кредита."
   ]
  },
  {
   "cell_type": "markdown",
   "id": "599d51c1-8768-4fbc-8c85-d7c0acc966b7",
   "metadata": {},
   "source": [
    "#### Возможные причины возникновения пропусков в исходных данных"
   ]
  },
  {
   "cell_type": "markdown",
   "id": "0f1aeb9c-6e01-4da2-8ea7-535bc4d5a6aa",
   "metadata": {},
   "source": [
    "Пропуски в столбце с доходами вероятно из-за того, что при определенных условиях банк выдает кредит без подтверждения дохода. \n",
    "Так как количество пропусков в столбце трудового стажа совпадает с пропусками в столбце доходов, ситауция аналогичная: если нет необходимости подтвержать доход, то и информация по трудовому стажу не имеет значения. \n",
    "\n",
    "\n",
    "Но скорее всего ошибка носит технический характер. Чтобы узнать точную причину - лучше обратиться к ответсвенным за исходные данные. "
   ]
  },
  {
   "cell_type": "markdown",
   "id": "c3387a29-3bc0-4aff-a004-5e4098407be1",
   "metadata": {},
   "source": [
    "#### Объяснение, почему заполнение пропусков медианным значением является лучшим решением для количественных переменных."
   ]
  },
  {
   "cell_type": "markdown",
   "id": "a840fef6-497e-4307-bab5-48d111524d47",
   "metadata": {},
   "source": [
    "Распределение Парето - является степенным распределением вероятностей, которое используется при описании многих типов наблюдаемых явлений. Принцип Парето или \"правило 80-20\", утверждающий, что 80% результатов обусловлены 20% причин. \n",
    "\n",
    "Соблюдение принципа 80/20 очень часто встречается в самых разных областях. Например, во многие времена во многих сообществах оказывалось, что 20 % людей обладают 80 % капитала, в бизнесе зачастую 20 % покупателей или постоянных клиентов приносят 80 % прибыли. Но в этих утверждениях фундаментальными являются не приведённые числовые значения, а сам факт их существенного различия, конкретные цифры степени неравномерности могут быть любыми.\n",
    "\n",
    "Так как распределение количественных переменных обычно неравномерно, то среднее значение - покажет ложный результат, именно поэтому нужно брать медианное значение. "
   ]
  },
  {
   "cell_type": "markdown",
   "id": "f5864634-f725-4428-92a2-d9b977911851",
   "metadata": {},
   "source": [
    "### Общий вывод."
   ]
  },
  {
   "cell_type": "markdown",
   "id": "0ec4aba5-d57d-470b-a002-1cdeb336c488",
   "metadata": {},
   "source": [
    "-  Клиенты без детей в среднем на 1,8% чаще возвращают кредит в срок.\n",
    "-  Клиенты в браке в среднем на 2% чаще возвращают кредит в срок, чем неженатые и находящиеся в гражданском браке.\n",
    "-  Клиенты с доходом категории В (в диапазоне 200001–1000000) в среднем чаще возвращают кредит в срок - доля невозврата среди них 7.1%\n",
    "-  Клиенты, цель которых являются операции с недвижимостью - в среднем возвращают кредит лучше остальных: доля невозврата 7,3%\n",
    "\n",
    "\n",
    "- В данных присутствует большое количество пропусков в столбцах с доходом и трудовым стажем, что влияет на точность конечных результатов анализа. Также в столбце с трудовым стажем присутствуют аномально большие значения у безработных и пенсионеров. Следует обратить внимание на качество сбора этих данных.  \n",
    "- Можно было бы добиться более точных результатов анализа, если бы для различных 'редких' категорий клиентов (клиенты с 3-5 детьми, клиенты с доходами категорий A,D,E; клиенты в разводе/вдовцы) - было бы специально подобранно примерно одинаковое количество данных для выборки в сравнении с более \"популярными\" категориями. "
   ]
  }
 ],
 "metadata": {
  "kernelspec": {
   "display_name": "Python 3 (ipykernel)",
   "language": "python",
   "name": "python3"
  },
  "language_info": {
   "codemirror_mode": {
    "name": "ipython",
    "version": 3
   },
   "file_extension": ".py",
   "mimetype": "text/x-python",
   "name": "python",
   "nbconvert_exporter": "python",
   "pygments_lexer": "ipython3",
   "version": "3.9.19"
  }
 },
 "nbformat": 4,
 "nbformat_minor": 5
}
