{
 "cells": [
  {
   "cell_type": "markdown",
   "metadata": {
    "toc": true
   },
   "source": [
    "<h1>Содержание<span class=\"tocSkip\"></span></h1>\n",
    "<div class=\"toc\"><ul class=\"toc-item\"><li><span><a href=\"#Загрузка-данных\" data-toc-modified-id=\"Загрузка-данных-1\"><span class=\"toc-item-num\">1&nbsp;&nbsp;</span>Загрузка данных</a></span><ul class=\"toc-item\"><li><span><a href=\"#Импорт-библиотек\" data-toc-modified-id=\"Импорт-библиотек-1.1\"><span class=\"toc-item-num\">1.1&nbsp;&nbsp;</span>Импорт библиотек</a></span></li><li><span><a href=\"#Создание-функций\" data-toc-modified-id=\"Создание-функций-1.2\"><span class=\"toc-item-num\">1.2&nbsp;&nbsp;</span>Создание функций</a></span></li><li><span><a href=\"#Загрузка-данных\" data-toc-modified-id=\"Загрузка-данных-1.3\"><span class=\"toc-item-num\">1.3&nbsp;&nbsp;</span>Загрузка данных</a></span></li><li><span><a href=\"#Ресемплирование\" data-toc-modified-id=\"Ресемплирование-1.4\"><span class=\"toc-item-num\">1.4&nbsp;&nbsp;</span>Ресемплирование</a></span></li></ul></li><li><span><a href=\"#Анализ-данных\" data-toc-modified-id=\"Анализ-данных-2\"><span class=\"toc-item-num\">2&nbsp;&nbsp;</span>Анализ данных</a></span><ul class=\"toc-item\"><li><span><a href=\"#Тренд.-Сезонность.-Стационарность.\" data-toc-modified-id=\"Тренд.-Сезонность.-Стационарность.-2.1\"><span class=\"toc-item-num\">2.1&nbsp;&nbsp;</span>Тренд. Сезонность. Стационарность.</a></span></li><li><span><a href=\"#Среднее-количество-заказов-за-август.-Сезонность\" data-toc-modified-id=\"Среднее-количество-заказов-за-август.-Сезонность-2.2\"><span class=\"toc-item-num\">2.2&nbsp;&nbsp;</span>Среднее количество заказов за август. Сезонность</a></span></li><li><span><a href=\"#Среднее-количество-заказов-в-течение-дня\" data-toc-modified-id=\"Среднее-количество-заказов-в-течение-дня-2.3\"><span class=\"toc-item-num\">2.3&nbsp;&nbsp;</span>Среднее количество заказов в течение дня</a></span></li><li><span><a href=\"#Вывод-по-анализу-данных\" data-toc-modified-id=\"Вывод-по-анализу-данных-2.4\"><span class=\"toc-item-num\">2.4&nbsp;&nbsp;</span>Вывод по анализу данных</a></span></li></ul></li><li><span><a href=\"#Выбор-и-обучение-моделей\" data-toc-modified-id=\"Выбор-и-обучение-моделей-3\"><span class=\"toc-item-num\">3&nbsp;&nbsp;</span>Выбор и обучение моделей</a></span><ul class=\"toc-item\"><li><span><a href=\"#Prophet\" data-toc-modified-id=\"Prophet-3.1\"><span class=\"toc-item-num\">3.1&nbsp;&nbsp;</span>Prophet</a></span><ul class=\"toc-item\"><li><span><a href=\"#Подготовка-выборок\" data-toc-modified-id=\"Подготовка-выборок-3.1.1\"><span class=\"toc-item-num\">3.1.1&nbsp;&nbsp;</span>Подготовка выборок</a></span></li><li><span><a href=\"#Обучение\" data-toc-modified-id=\"Обучение-3.1.2\"><span class=\"toc-item-num\">3.1.2&nbsp;&nbsp;</span>Обучение</a></span></li><li><span><a href=\"#Вывод\" data-toc-modified-id=\"Вывод-3.1.3\"><span class=\"toc-item-num\">3.1.3&nbsp;&nbsp;</span>Вывод</a></span></li></ul></li><li><span><a href=\"#ARMA\" data-toc-modified-id=\"ARMA-3.2\"><span class=\"toc-item-num\">3.2&nbsp;&nbsp;</span>ARMA</a></span><ul class=\"toc-item\"><li><span><a href=\"#ARIMA\" data-toc-modified-id=\"ARIMA-3.2.1\"><span class=\"toc-item-num\">3.2.1&nbsp;&nbsp;</span>ARIMA</a></span></li><li><span><a href=\"#SARIMA\" data-toc-modified-id=\"SARIMA-3.2.2\"><span class=\"toc-item-num\">3.2.2&nbsp;&nbsp;</span>SARIMA</a></span></li><li><span><a href=\"#Вывод\" data-toc-modified-id=\"Вывод-3.2.3\"><span class=\"toc-item-num\">3.2.3&nbsp;&nbsp;</span>Вывод</a></span></li></ul></li><li><span><a href=\"#Pегрессионные-модели\" data-toc-modified-id=\"Pегрессионные-модели-3.3\"><span class=\"toc-item-num\">3.3&nbsp;&nbsp;</span>Pегрессионные модели</a></span><ul class=\"toc-item\"><li><span><a href=\"#Подготовка-выборок\" data-toc-modified-id=\"Подготовка-выборок-3.3.1\"><span class=\"toc-item-num\">3.3.1&nbsp;&nbsp;</span>Подготовка выборок</a></span></li><li><span><a href=\"#Обучение-Ridge\" data-toc-modified-id=\"Обучение-Ridge-3.3.2\"><span class=\"toc-item-num\">3.3.2&nbsp;&nbsp;</span>Обучение Ridge</a></span></li><li><span><a href=\"#Обучение-LGBMRegressor\" data-toc-modified-id=\"Обучение-LGBMRegressor-3.3.3\"><span class=\"toc-item-num\">3.3.3&nbsp;&nbsp;</span>Обучение LGBMRegressor</a></span></li><li><span><a href=\"#Обучение-CatBoostRegressor\" data-toc-modified-id=\"Обучение-CatBoostRegressor-3.3.4\"><span class=\"toc-item-num\">3.3.4&nbsp;&nbsp;</span>Обучение CatBoostRegressor</a></span></li></ul></li></ul></li><li><span><a href=\"#Анализ-регрессионных-моделей\" data-toc-modified-id=\"Анализ-регрессионных-моделей-4\"><span class=\"toc-item-num\">4&nbsp;&nbsp;</span>Анализ регрессионных моделей</a></span></li><li><span><a href=\"#Тестирование.-Вывод\" data-toc-modified-id=\"Тестирование.-Вывод-5\"><span class=\"toc-item-num\">5&nbsp;&nbsp;</span>Тестирование. Вывод</a></span><ul class=\"toc-item\"><li><span><a href=\"#Тестирование\" data-toc-modified-id=\"Тестирование-5.1\"><span class=\"toc-item-num\">5.1&nbsp;&nbsp;</span>Тестирование</a></span></li><li><span><a href=\"#Общий-вывод\" data-toc-modified-id=\"Общий-вывод-5.2\"><span class=\"toc-item-num\">5.2&nbsp;&nbsp;</span>Общий вывод</a></span></li></ul></li></ul></div>"
   ]
  },
  {
   "cell_type": "markdown",
   "metadata": {},
   "source": [
    "#  Прогнозирование заказов такси"
   ]
  },
  {
   "cell_type": "markdown",
   "metadata": {},
   "source": [
    "Компания «Чётенькое такси» собрала исторические данные о заказах такси в аэропортах. Чтобы привлекать больше водителей в период пиковой нагрузки, нужно спрогнозировать количество заказов такси на следующий час. Необходимо построить модель для такого предсказания.\n",
    "\n",
    "Значение метрики *RMSE* на тестовой выборке должно быть не больше 48."
   ]
  },
  {
   "cell_type": "markdown",
   "metadata": {},
   "source": [
    "# План по выполнению проекта\n",
    "1. Загрузка данные и выполнение ресемплирования по одному часу.\n",
    "2. Анализ данных\n",
    "3. Выбор и обучение моделей\n",
    "4. Тестирование. Вывод"
   ]
  },
  {
   "cell_type": "markdown",
   "metadata": {},
   "source": [
    "# Описание данных\n",
    "\n",
    "- **`taxi.csv`** - ссылка на данные\n",
    "\n",
    "**Целевой признак**\n",
    "\n",
    "- **num_orders** — количество заказов"
   ]
  },
  {
   "cell_type": "markdown",
   "metadata": {},
   "source": [
    "## Загрузка данных"
   ]
  },
  {
   "cell_type": "markdown",
   "metadata": {},
   "source": [
    "### Импорт библиотек"
   ]
  },
  {
   "cell_type": "code",
   "execution_count": 1,
   "metadata": {},
   "outputs": [],
   "source": [
    "!pip install -q scikit-learn\n",
    "!pip install -q prophet\n",
    "!pip install -q catboost\n",
    "!pip install -q lightgbm\n",
    "!pip install -q imbalanced-learn"
   ]
  },
  {
   "cell_type": "code",
   "execution_count": 2,
   "metadata": {},
   "outputs": [
    {
     "name": "stdout",
     "output_type": "stream",
     "text": [
      "Populating the interactive namespace from numpy and matplotlib\n"
     ]
    }
   ],
   "source": [
    "import warnings\n",
    "warnings.filterwarnings('ignore')\n",
    "\n",
    "#загрузка данных\n",
    "import os\n",
    "\n",
    "#загрузка стандартных библиотек\n",
    "import pandas as pd\n",
    "import numpy as np\n",
    "\n",
    "#графики, исследование данных\n",
    "import seaborn as sns\n",
    "from matplotlib import pyplot as plt\n",
    "\n",
    "from statsmodels.tsa.seasonal import seasonal_decompose\n",
    "\n",
    "import statsmodels.tsa.stattools as ts\n",
    "from statsmodels.graphics import tsaplots\n",
    "from statsmodels.tools.eval_measures import rmse\n",
    "\n",
    "# создание ML Prophet\n",
    "from sklearn.model_selection import TimeSeriesSplit\n",
    "from prophet import Prophet\n",
    "from prophet.plot import add_changepoints_to_plot\n",
    "from prophet.diagnostics import cross_validation\n",
    "from prophet.diagnostics import performance_metrics\n",
    "\n",
    "#итератор\n",
    "import itertools\n",
    "\n",
    "# создание ML ARIMA\n",
    "from statsmodels.tsa.arima.model import ARIMA\n",
    "from statsmodels.tsa.statespace.sarimax import SARIMAX\n",
    "\n",
    "# создание ML Регрессионные модели\n",
    "from sklearn.preprocessing import OneHotEncoder\n",
    "\n",
    "from sklearn.compose import make_column_transformer\n",
    "from imblearn.pipeline import make_pipeline\n",
    "\n",
    "from catboost import CatBoostRegressor\n",
    "from sklearn.linear_model import Ridge\n",
    "from lightgbm import LGBMRegressor\n",
    "\n",
    "from sklearn.model_selection import RandomizedSearchCV\n",
    "from sklearn.metrics import mean_squared_error\n",
    "\n",
    "# создание константной модели\n",
    "from sklearn.dummy import DummyRegressor\n",
    "\n",
    "%pylab inline"
   ]
  },
  {
   "cell_type": "markdown",
   "metadata": {},
   "source": [
    "### Создание функций"
   ]
  },
  {
   "cell_type": "code",
   "execution_count": 3,
   "metadata": {},
   "outputs": [],
   "source": [
    "# Информация о данных:\n",
    "def info(data):\n",
    "    '''\n",
    "    1. Вывод информации о данных\n",
    "    2. Вывод первых пяти строк данных с полным выводом всех столбцов\n",
    "    3. Проверка на наличие дубликатов\n",
    "    '''\n",
    "    data.info()\n",
    "    pd.set_option('display.max_columns', None)\n",
    "    display(data.head())\n",
    "    print('Количество дубликатов в таблице:', data.duplicated().sum())\n",
    "    pass"
   ]
  },
  {
   "cell_type": "code",
   "execution_count": 4,
   "metadata": {},
   "outputs": [],
   "source": [
    "# Расширенный тест Дики-Фуллера\n",
    "\n",
    "def adf(series, alpha = 0.05):\n",
    "    p_value = ts.adfuller(series)[1]\n",
    "    print(f'p-value = {round(p_value, 3)}')\n",
    "    if p_value > alpha:\n",
    "        print('Ряд не стационарный')\n",
    "    else:\n",
    "        print('Ряд стационарный')"
   ]
  },
  {
   "cell_type": "code",
   "execution_count": 5,
   "metadata": {},
   "outputs": [],
   "source": [
    "# Создание признаков\n",
    "def make_features(data, max_lag, rolling_mean_size):\n",
    "    data['dayofweek'] = data.index.dayofweek\n",
    "    data['hour'] = data.index.hour\n",
    "    for lag in range(1, max_lag + 1):\n",
    "        data['lag_{}'.format(lag)] = data['value'].shift(lag).fillna(0)\n",
    "    data['rolling_mean'] = data['value'].shift().rolling(rolling_mean_size).mean().fillna(0)\n",
    "    return data"
   ]
  },
  {
   "cell_type": "code",
   "execution_count": 6,
   "metadata": {},
   "outputs": [],
   "source": [
    "def encode_categorical_columns(X_train):\n",
    "    columns_to_convert = ['dayofweek', 'hour']\n",
    "    X_train[columns_to_convert] = X_train[columns_to_convert].astype('category')\n",
    "    \n",
    "    cat_col = X_train.select_dtypes(include='category').columns.tolist() \n",
    "    column_transformer_ridge = make_column_transformer((OneHotEncoder(drop='first', handle_unknown='ignore'), cat_col))\n",
    "    return column_transformer_ridge"
   ]
  },
  {
   "cell_type": "code",
   "execution_count": 7,
   "metadata": {},
   "outputs": [],
   "source": [
    "def split_data(data):\n",
    "    # Разделение данных на обучающую и тестовую выборки\n",
    "    for train_index, test_index in tscv.split(data):\n",
    "        train_data = data.iloc[train_index]\n",
    "        test_data = data.iloc[test_index]\n",
    "\n",
    "    train_data.reset_index(drop=True, inplace=True)\n",
    "    test_data.reset_index(drop=True, inplace=True)\n",
    "    \n",
    "    X_train = train_data.drop('value', axis=1)\n",
    "    y_train = train_data['value']\n",
    "\n",
    "    X_test = test_data.drop('value', axis=1)\n",
    "    y_test = test_data['value']\n",
    "    \n",
    "    return X_train, y_train, X_test, y_test"
   ]
  },
  {
   "cell_type": "code",
   "execution_count": 8,
   "metadata": {},
   "outputs": [],
   "source": [
    "# Создание таблицы с результатми перебора гиперпараметров\n",
    "def result_data(model_name):\n",
    "    \n",
    "    result = pd.DataFrame({'index': [f'{model_name}_1', f'{model_name}_2', f'{model_name}_3'],\n",
    "                           'lag_max': [3, 6, 12],\n",
    "                           'params': [param1, param2, param3],\n",
    "                           'train_score': [train_score1, train_score2, train_score3]\n",
    "                          })\n",
    "    result.set_index('index', inplace=True)\n",
    "    return result"
   ]
  },
  {
   "cell_type": "code",
   "execution_count": 9,
   "metadata": {},
   "outputs": [],
   "source": [
    "def rmse_score(y_true, y_pred):\n",
    "    return np.sqrt(mean_squared_error(y_true, y_pred))"
   ]
  },
  {
   "cell_type": "markdown",
   "metadata": {},
   "source": [
    "### Загрузка данных"
   ]
  },
  {
   "cell_type": "code",
   "execution_count": 10,
   "metadata": {},
   "outputs": [],
   "source": [
    "link1 = '/datasets/taxi.csv'\n",
    "link2 = \"C:\\\\Users\\\\Daniyal\\\\Desktop\\\\jupiter\\\\taxi.csv\"\n",
    "if os.path.exists(link1):\n",
    "    data = pd.read_csv(link1, parse_dates=[0] , index_col=0) \n",
    "elif os.path.exists(link2):\n",
    "    data = pd.read_csv(link2, parse_dates=[0] , index_col=0)\n",
    "else:\n",
    "    print('Cсылки не действительна')"
   ]
  },
  {
   "cell_type": "code",
   "execution_count": 11,
   "metadata": {},
   "outputs": [
    {
     "name": "stdout",
     "output_type": "stream",
     "text": [
      "<class 'pandas.core.frame.DataFrame'>\n",
      "DatetimeIndex: 26496 entries, 2018-03-01 00:00:00 to 2018-08-31 23:50:00\n",
      "Data columns (total 1 columns):\n",
      " #   Column      Non-Null Count  Dtype\n",
      "---  ------      --------------  -----\n",
      " 0   num_orders  26496 non-null  int64\n",
      "dtypes: int64(1)\n",
      "memory usage: 414.0 KB\n"
     ]
    },
    {
     "data": {
      "text/html": [
       "<div>\n",
       "<style scoped>\n",
       "    .dataframe tbody tr th:only-of-type {\n",
       "        vertical-align: middle;\n",
       "    }\n",
       "\n",
       "    .dataframe tbody tr th {\n",
       "        vertical-align: top;\n",
       "    }\n",
       "\n",
       "    .dataframe thead th {\n",
       "        text-align: right;\n",
       "    }\n",
       "</style>\n",
       "<table border=\"1\" class=\"dataframe\">\n",
       "  <thead>\n",
       "    <tr style=\"text-align: right;\">\n",
       "      <th></th>\n",
       "      <th>num_orders</th>\n",
       "    </tr>\n",
       "    <tr>\n",
       "      <th>datetime</th>\n",
       "      <th></th>\n",
       "    </tr>\n",
       "  </thead>\n",
       "  <tbody>\n",
       "    <tr>\n",
       "      <th>2018-03-01 00:00:00</th>\n",
       "      <td>9</td>\n",
       "    </tr>\n",
       "    <tr>\n",
       "      <th>2018-03-01 00:10:00</th>\n",
       "      <td>14</td>\n",
       "    </tr>\n",
       "    <tr>\n",
       "      <th>2018-03-01 00:20:00</th>\n",
       "      <td>28</td>\n",
       "    </tr>\n",
       "    <tr>\n",
       "      <th>2018-03-01 00:30:00</th>\n",
       "      <td>20</td>\n",
       "    </tr>\n",
       "    <tr>\n",
       "      <th>2018-03-01 00:40:00</th>\n",
       "      <td>32</td>\n",
       "    </tr>\n",
       "  </tbody>\n",
       "</table>\n",
       "</div>"
      ],
      "text/plain": [
       "                     num_orders\n",
       "datetime                       \n",
       "2018-03-01 00:00:00           9\n",
       "2018-03-01 00:10:00          14\n",
       "2018-03-01 00:20:00          28\n",
       "2018-03-01 00:30:00          20\n",
       "2018-03-01 00:40:00          32"
      ]
     },
     "metadata": {},
     "output_type": "display_data"
    },
    {
     "name": "stdout",
     "output_type": "stream",
     "text": [
      "Количество дубликатов в таблице: 26415\n"
     ]
    }
   ],
   "source": [
    "info(data)"
   ]
  },
  {
   "cell_type": "markdown",
   "metadata": {},
   "source": [
    "- Пропусков нет, дубликатов нет \n",
    "\n",
    "Необходимо проверить, в хронологическом ли порядке расположены даты и время"
   ]
  },
  {
   "cell_type": "markdown",
   "metadata": {},
   "source": [
    "### Ресемплирование"
   ]
  },
  {
   "cell_type": "code",
   "execution_count": 12,
   "metadata": {},
   "outputs": [],
   "source": [
    "# переименование столбца\n",
    "data.columns = ['value']\n",
    "\n",
    "# изменение индекса \n",
    "#data = data.set_index('date')"
   ]
  },
  {
   "cell_type": "code",
   "execution_count": 13,
   "metadata": {},
   "outputs": [
    {
     "name": "stdout",
     "output_type": "stream",
     "text": [
      "True\n",
      "<class 'pandas.core.frame.DataFrame'>\n",
      "DatetimeIndex: 26496 entries, 2018-03-01 00:00:00 to 2018-08-31 23:50:00\n",
      "Data columns (total 1 columns):\n",
      " #   Column  Non-Null Count  Dtype\n",
      "---  ------  --------------  -----\n",
      " 0   value   26496 non-null  int64\n",
      "dtypes: int64(1)\n",
      "memory usage: 414.0 KB\n"
     ]
    }
   ],
   "source": [
    "# проверка на хронологический порядок\n",
    "data = data.sort_index()\n",
    "print(data.index.is_monotonic)\n",
    "# проверка\n",
    "data.info()"
   ]
  },
  {
   "cell_type": "markdown",
   "metadata": {},
   "source": [
    "Временной  интервал в данных с 1 марта по 31 августа 2018 года"
   ]
  },
  {
   "cell_type": "code",
   "execution_count": 14,
   "metadata": {},
   "outputs": [
    {
     "data": {
      "image/png": "[encoded data removed]",
      "text/plain": [
       "<Figure size 1080x360 with 1 Axes>"
      ]
     },
     "metadata": {
      "needs_background": "light"
     },
     "output_type": "display_data"
    }
   ],
   "source": [
    "#ресемплирование по одному часу\n",
    "data = data.resample('1H').sum()\n",
    "\n",
    "data.plot(figsize = (15,5))\n",
    "\n",
    "plt.xlabel('Временной интервал') \n",
    "plt.ylabel('Количество') \n",
    "plt.title('Распределение заказов такси по часам с 1 марта по 31 августа 2018 года') \n",
    "plt.show()"
   ]
  },
  {
   "cell_type": "markdown",
   "metadata": {},
   "source": [
    "На графике заказов такси за 6 месяцев наблюдаются значительные колебания, что указывает на высокую волатильность спроса. Однако, несмотря на эти колебания, также видно явную общую тенденцию к увеличению числа заказов. Это может указывать на постепенный рост популярности услуг такси и увеличение спроса со временем. "
   ]
  },
  {
   "cell_type": "markdown",
   "metadata": {},
   "source": [
    "## Анализ данных"
   ]
  },
  {
   "cell_type": "markdown",
   "metadata": {},
   "source": [
    "### Тренд. Сезонность. Стационарность."
   ]
  },
  {
   "cell_type": "code",
   "execution_count": 15,
   "metadata": {},
   "outputs": [
    {
     "data": {
      "image/png": "[encoded data removed]",
      "text/plain": [
       "<Figure size 1080x576 with 1 Axes>"
      ]
     },
     "metadata": {
      "needs_background": "light"
     },
     "output_type": "display_data"
    }
   ],
   "source": [
    "plt.figure(figsize=(15, 8))\n",
    "\n",
    "# Тренд\n",
    "decomposed = seasonal_decompose(data)\n",
    "decomposed.trend.plot()\n",
    "\n",
    "# Скользящее среднее\n",
    "data_rolling= data.copy()\n",
    "data_rolling['rolling_mean'] = data_rolling['value'].rolling(200).mean() \n",
    "data_rolling['rolling_mean'].plot()\n",
    "\n",
    "# Скользящее стандартное отклонение\n",
    "data_rolling['rolling_std'] = data_rolling['value'].rolling(200).std() \n",
    "data_rolling['rolling_std'].plot()\n",
    "\n",
    "plt.xlabel('Временной интервал') \n",
    "plt.ylabel('Количество') \n",
    "plt.title('Тренд заказов такси по месяцам с 1 марта по 31 августа 2018 года') \n",
    "plt.grid(True)\n",
    "plt.legend(['Trend', 'Moving Average', 'Std'])\n",
    "\n",
    "plt.ylim(bottom=0)\n",
    "plt.show()"
   ]
  },
  {
   "cell_type": "markdown",
   "metadata": {},
   "source": [
    "Линия тренда возрастает. И среднее и стандартное отклонение увеличивается, что тоже указывает на отсутствие стационарности в ряде."
   ]
  },
  {
   "cell_type": "code",
   "execution_count": 16,
   "metadata": {},
   "outputs": [
    {
     "data": {
      "image/png": "[encoded data removed]",
      "text/plain": [
       "<Figure size 1080x216 with 1 Axes>"
      ]
     },
     "metadata": {
      "needs_background": "light"
     },
     "output_type": "display_data"
    }
   ],
   "source": [
    "plt.figure(figsize=(15, 3))\n",
    "\n",
    "# Сезонность\n",
    "seasonal_decomposed = seasonal_decompose(data.resample('1D').sum())\n",
    "seasonal_decomposed.seasonal.plot()\n",
    "\n",
    "plt.xlabel('Временной интервал') \n",
    "plt.ylabel('Количество') \n",
    "plt.title('Сезонность заказов такси по месяцам с 1 марта по 31 августа 2018 года') \n",
    "plt.grid(True)\n",
    "plt.show()"
   ]
  },
  {
   "cell_type": "markdown",
   "metadata": {},
   "source": [
    "Сезонные изменения по месяцам не наблюдаются, но циклично повторяющиеся закономерности есть в каждом месяце, вероятно сезонность еженедельная."
   ]
  },
  {
   "cell_type": "code",
   "execution_count": 17,
   "metadata": {},
   "outputs": [
    {
     "data": {
      "image/png": "[encoded data removed]",
      "text/plain": [
       "<Figure size 1080x216 with 1 Axes>"
      ]
     },
     "metadata": {
      "needs_background": "light"
     },
     "output_type": "display_data"
    }
   ],
   "source": [
    "fig, ax = plt.subplots(figsize=(15, 3))  # Создание графика с указанием размеров\n",
    "\n",
    "# Построение автокорреляционной функции для столбца 'value'\n",
    "tsaplots.plot_acf(data['value'], lags=24*7, ax=ax)  \n",
    "ax.set_title('График автокорреляции')  \n",
    "ax.set_xlabel('Lag') \n",
    "ax.set_ylabel('ACF')\n",
    "plt.show()  "
   ]
  },
  {
   "cell_type": "markdown",
   "metadata": {},
   "source": [
    "Также на графике автокорреляции видна сезонность"
   ]
  },
  {
   "cell_type": "code",
   "execution_count": 18,
   "metadata": {},
   "outputs": [
    {
     "name": "stdout",
     "output_type": "stream",
     "text": [
      "p-value = 0.029\n",
      "Ряд стационарный\n"
     ]
    }
   ],
   "source": [
    "#Убедимся, что стационарность действительно отсутствует \n",
    "#Воспользуемся расширенным тестом Дики-Фуллера\n",
    "adf(data['value'])"
   ]
  },
  {
   "cell_type": "markdown",
   "metadata": {},
   "source": [
    "### Среднее количество заказов за август. Сезонность"
   ]
  },
  {
   "cell_type": "code",
   "execution_count": 19,
   "metadata": {},
   "outputs": [
    {
     "data": {
      "image/png": "[encoded data removed]",
      "text/plain": [
       "<Figure size 1080x360 with 1 Axes>"
      ]
     },
     "metadata": {
      "needs_background": "light"
     },
     "output_type": "display_data"
    },
    {
     "data": {
      "image/png": "[encoded data removed]",
      "text/plain": [
       "<Figure size 1080x360 with 1 Axes>"
      ]
     },
     "metadata": {
      "needs_background": "light"
     },
     "output_type": "display_data"
    }
   ],
   "source": [
    "data_august = data['2018-08'].copy()\n",
    "data_august = data_august.resample('1D').sum().copy()\n",
    "\n",
    "decomposed = seasonal_decompose(data_august) \n",
    "\n",
    "data_august.plot(figsize=(15, 5))\n",
    "\n",
    "plt.xlabel('Дата') \n",
    "plt.ylabel('Количество') \n",
    "plt.title('Распределение заказов такси по дням с 1 по 31 августа 2018 года') \n",
    "\n",
    "# дни недели на график\n",
    "days = ['Пн', 'Вт', 'Ср', 'Чт', 'Пт', 'Сб', 'Вс']\n",
    "plt.xticks(data_august.index, [days[i.weekday()] for i in data_august.index])\n",
    "plt.grid(True)\n",
    "\n",
    "plt.figure(figsize=(15, 5))\n",
    "decomposed.seasonal.plot()\n",
    "# дни недели на график\n",
    "days = ['Пн', 'Вт', 'Ср', 'Чт', 'Пт', 'Сб', 'Вс']\n",
    "plt.xticks(data_august.index, [days[i.weekday()] for i in data_august.index])\n",
    "plt.title('Сезонность в течение месяца')\n",
    "plt.grid(True)\n",
    "\n",
    "plt.show()"
   ]
  },
  {
   "cell_type": "markdown",
   "metadata": {},
   "source": [
    "Чаще такси заказывают в понедельник и в пятницу, реже в воскресенье и во вторник."
   ]
  },
  {
   "cell_type": "markdown",
   "metadata": {},
   "source": [
    "### Среднее количество заказов в течение дня"
   ]
  },
  {
   "cell_type": "code",
   "execution_count": 20,
   "metadata": {},
   "outputs": [
    {
     "data": {
      "image/png": "[encoded data removed]",
      "text/plain": [
       "<Figure size 1080x360 with 1 Axes>"
      ]
     },
     "metadata": {
      "needs_background": "light"
     },
     "output_type": "display_data"
    }
   ],
   "source": [
    "# один средний день для отображения\n",
    "average_day = data.copy().groupby(data.index.time).mean()\n",
    "\n",
    "# список времен в формате строки\n",
    "average_day.index = [str(i) for i in average_day.index]\n",
    "\n",
    "plt.figure(figsize=(15, 5))\n",
    "plt.plot(average_day.index, average_day.values)\n",
    "\n",
    "plt.xlabel('Время суток') \n",
    "plt.ylabel('Среднее количество заказов') \n",
    "plt.xticks(rotation=45)\n",
    "plt.title('Среднее количество заказов такси по времени в течение дня за период март-август 2018 года') \n",
    "\n",
    "plt.grid(True)\n",
    "plt.show()"
   ]
  },
  {
   "cell_type": "markdown",
   "metadata": {},
   "source": [
    "Чаще такси вызывают ночью: в 12 и в 2 часа; утром в 9-10 часов; днем в 16:00. Реже всего в 5-7 часов утра, в 12:00 и 18:00."
   ]
  },
  {
   "cell_type": "markdown",
   "metadata": {},
   "source": [
    "### Вывод по анализу данных"
   ]
  },
  {
   "cell_type": "markdown",
   "metadata": {},
   "source": [
    "После проведения анализа временного ряда заказов такси можно сделать следующие выводы:\n",
    "- Спрос на услуги такси характеризуется высокой изменчивостью, однако имеется общий тренд к увеличению числа заказов, что может свидетельствовать о постепенном росте популярности такси и увеличении спроса.\n",
    "- В наблюдаемых данных прослеживаются циклические закономерности: заказы такси чаще совершаются по понедельникам и пятницам, в то время как воскресенье и вторник - дни с меньшим количеством заказов.\n",
    "- В различные часы суток также можно выделить пики активности заказов: наибольшее количество заказов приходится на ночное время (12 и 2 часа), утренние часы (9-10 часов) и вечернее время (16:00). Наименее популярные часы для заказа такси - раннее утро (5-7 часов), полдень (12:00) и вечер (18:00)."
   ]
  },
  {
   "cell_type": "markdown",
   "metadata": {},
   "source": [
    "## Выбор и обучение моделей"
   ]
  },
  {
   "cell_type": "markdown",
   "metadata": {},
   "source": [
    "Для обучения используются модели:\n",
    "- Prophet;\n",
    "- ARIMA и SARIMA;\n",
    "- Три регрессионные модели с различными методами обучения: Ridge(), LGBMRegressor(), CatBoostRegressor();\n",
    "\n",
    "Обучение проводится с подбором гиперпараметров на кросс-валидации по обучающей выборке с помощью TimeSeriesSplit. Оценивается метрика RMSE, по условию задачи значение RMSE на тестовой выборке не должно превышать 48.\n",
    "\n",
    "1. Prophet - это модель прогнозирования временных рядов, разработанная командой Facebook.\n",
    "2. Модель ARIMA (Autoregressive Integrated Moving Average) - это статистическая модель, которая используется для анализа и прогнозирования временных рядов.\n",
    "   Модель SARIMA (Seasonal Autoregressive Integrated Moving Average) - это расширение модели ARIMA, которое учитывает сезонность в данных.\n",
    "4. Регрессионные модели: \n",
    "    - Ridge(): Это линейная модель регрессии, применяющая L2 регуляризацию для добавления штрафа к сумме квадратов коэффициентов.\n",
    "    - LGBMRegressor(): Данная модель использует градиентный бустинг с алгоритмом LightGBM, который отличается быстрой и эффективной работой за счёт оптимизации структуры деревьев.\n",
    "    - CatBoostRegressor(): Эта модель представляет градиентный бустинг от Яндекса.\n",
    "\n",
    "Тестовая выборка создается на основе 10% исходных данных, содержащая более свежие данные, упорядоченные по времени."
   ]
  },
  {
   "cell_type": "markdown",
   "metadata": {},
   "source": [
    "### Prophet"
   ]
  },
  {
   "cell_type": "markdown",
   "metadata": {},
   "source": [
    "#### Подготовка выборок"
   ]
  },
  {
   "cell_type": "markdown",
   "metadata": {},
   "source": [
    "Prophet - это модель прогнозирования временных рядов, разработанная командой Facebook. Она позволяет делать точные прогнозы, учитывая сезонность, праздники и другие факторы, и широко применяется в анализе данных и машинном обучении. Prophet обладает простым интерфейсом и хорошо подходит для прогнозирования тенденций и трендов в данных."
   ]
  },
  {
   "cell_type": "code",
   "execution_count": 21,
   "metadata": {},
   "outputs": [
    {
     "data": {
      "text/html": [
       "<div>\n",
       "<style scoped>\n",
       "    .dataframe tbody tr th:only-of-type {\n",
       "        vertical-align: middle;\n",
       "    }\n",
       "\n",
       "    .dataframe tbody tr th {\n",
       "        vertical-align: top;\n",
       "    }\n",
       "\n",
       "    .dataframe thead th {\n",
       "        text-align: right;\n",
       "    }\n",
       "</style>\n",
       "<table border=\"1\" class=\"dataframe\">\n",
       "  <thead>\n",
       "    <tr style=\"text-align: right;\">\n",
       "      <th></th>\n",
       "      <th>datetime</th>\n",
       "      <th>value</th>\n",
       "    </tr>\n",
       "  </thead>\n",
       "  <tbody>\n",
       "    <tr>\n",
       "      <th>0</th>\n",
       "      <td>2018-03-01 00:00:00</td>\n",
       "      <td>124</td>\n",
       "    </tr>\n",
       "    <tr>\n",
       "      <th>1</th>\n",
       "      <td>2018-03-01 01:00:00</td>\n",
       "      <td>85</td>\n",
       "    </tr>\n",
       "    <tr>\n",
       "      <th>2</th>\n",
       "      <td>2018-03-01 02:00:00</td>\n",
       "      <td>71</td>\n",
       "    </tr>\n",
       "    <tr>\n",
       "      <th>3</th>\n",
       "      <td>2018-03-01 03:00:00</td>\n",
       "      <td>66</td>\n",
       "    </tr>\n",
       "    <tr>\n",
       "      <th>4</th>\n",
       "      <td>2018-03-01 04:00:00</td>\n",
       "      <td>43</td>\n",
       "    </tr>\n",
       "  </tbody>\n",
       "</table>\n",
       "</div>"
      ],
      "text/plain": [
       "             datetime  value\n",
       "0 2018-03-01 00:00:00    124\n",
       "1 2018-03-01 01:00:00     85\n",
       "2 2018-03-01 02:00:00     71\n",
       "3 2018-03-01 03:00:00     66\n",
       "4 2018-03-01 04:00:00     43"
      ]
     },
     "execution_count": 21,
     "metadata": {},
     "output_type": "execute_result"
    }
   ],
   "source": [
    "data_pr = data.reset_index().copy()\n",
    "data_pr.head()"
   ]
  },
  {
   "cell_type": "code",
   "execution_count": 22,
   "metadata": {},
   "outputs": [],
   "source": [
    "#требования библиотеки: определенные названия столбцов\n",
    "data_pr.columns = ['ds', 'y']"
   ]
  },
  {
   "cell_type": "code",
   "execution_count": 23,
   "metadata": {},
   "outputs": [],
   "source": [
    "#разделение на тренировочную и тестовую выборку размером 10% от исходных данных\n",
    "test_size_pr = int(0.1 * data_pr.shape[0])\n",
    "train_data_pr = data_pr[:-test_size_pr]\n",
    "test_data_pr = data_pr[-test_size_pr:]"
   ]
  },
  {
   "cell_type": "markdown",
   "metadata": {},
   "source": [
    "#### Обучение"
   ]
  },
  {
   "cell_type": "code",
   "execution_count": 24,
   "metadata": {},
   "outputs": [
    {
     "name": "stdout",
     "output_type": "stream",
     "text": [
      "DatetimeIndex(['2018-03-05', '2018-03-12', '2018-03-19', '2018-03-26',\n",
      "               '2018-04-02', '2018-04-09', '2018-04-16', '2018-04-23',\n",
      "               '2018-04-30', '2018-05-07', '2018-05-14', '2018-05-21',\n",
      "               '2018-05-28', '2018-06-04', '2018-06-11', '2018-06-18',\n",
      "               '2018-06-25', '2018-07-02', '2018-07-09', '2018-07-16',\n",
      "               '2018-07-23', '2018-07-30', '2018-08-06', '2018-08-13'],\n",
      "              dtype='datetime64[ns]', freq='W-MON')\n"
     ]
    }
   ],
   "source": [
    "'''\n",
    "Параметр cutoffs определяет точки разделения исторических данных для кросс-валидации. \n",
    "Каждая точка разделения представляет собой момент времени, на котором производится оценка\n",
    "производительности модели путем обучения на данных до этой точки и тестирования на данных после нее\n",
    "'''\n",
    "\n",
    "# Выбор каждого понедельника\n",
    "cutoffs = pd.date_range(start=train_data_pr['ds'].min(), end=train_data_pr['ds'].max(), freq='W-MON')\n",
    "print(cutoffs)"
   ]
  },
  {
   "cell_type": "markdown",
   "metadata": {},
   "source": [
    "Гиперпараметры модели для перебора:\n",
    "\n",
    "- changepoint_prior_scale: коэффициент изменения точки (предполагаемое распределение изменений в данных временных рядов).\n",
    "- seasonality_prior_scale: коэффициент сезонности (предполагаемый масштаб сезонности в данных временных рядов)."
   ]
  },
  {
   "cell_type": "code",
   "execution_count": 25,
   "metadata": {},
   "outputs": [
    {
     "name": "stderr",
     "output_type": "stream",
     "text": [
      "04:29:06 - cmdstanpy - INFO - Chain [1] start processing\n",
      "04:29:07 - cmdstanpy - INFO - Chain [1] done processing\n",
      "Seasonality has period of 7 days which is larger than initial window. Consider increasing initial.\n",
      "04:29:07 - cmdstanpy - INFO - Chain [1] start processing\n",
      "04:29:07 - cmdstanpy - INFO - Chain [1] start processing\n",
      "04:29:08 - cmdstanpy - INFO - Chain [1] start processing\n",
      "04:29:08 - cmdstanpy - INFO - Chain [1] start processing\n",
      "04:29:08 - cmdstanpy - INFO - Chain [1] start processing\n",
      "04:29:08 - cmdstanpy - INFO - Chain [1] start processing\n",
      "04:29:08 - cmdstanpy - INFO - Chain [1] start processing\n",
      "04:29:08 - cmdstanpy - INFO - Chain [1] start processing\n",
      "04:29:13 - cmdstanpy - INFO - Chain [1] done processing\n",
      "04:29:13 - cmdstanpy - INFO - Chain [1] start processing\n",
      "04:29:13 - cmdstanpy - INFO - Chain [1] done processing\n",
      "04:29:14 - cmdstanpy - INFO - Chain [1] start processing\n",
      "04:29:14 - cmdstanpy - INFO - Chain [1] done processing\n",
      "04:29:14 - cmdstanpy - INFO - Chain [1] done processing\n",
      "04:29:14 - cmdstanpy - INFO - Chain [1] done processing\n",
      "04:29:14 - cmdstanpy - INFO - Chain [1] start processing\n",
      "04:29:14 - cmdstanpy - INFO - Chain [1] start processing\n",
      "04:29:14 - cmdstanpy - INFO - Chain [1] done processing\n",
      "04:29:14 - cmdstanpy - INFO - Chain [1] start processing\n",
      "04:29:15 - cmdstanpy - INFO - Chain [1] start processing\n",
      "04:29:15 - cmdstanpy - INFO - Chain [1] done processing\n",
      "04:29:15 - cmdstanpy - INFO - Chain [1] start processing\n",
      "04:29:15 - cmdstanpy - INFO - Chain [1] done processing\n",
      "04:29:15 - cmdstanpy - INFO - Chain [1] start processing\n",
      "04:29:18 - cmdstanpy - INFO - Chain [1] done processing\n",
      "04:29:18 - cmdstanpy - INFO - Chain [1] start processing\n",
      "04:29:20 - cmdstanpy - INFO - Chain [1] done processing\n",
      "04:29:20 - cmdstanpy - INFO - Chain [1] start processing\n",
      "04:29:20 - cmdstanpy - INFO - Chain [1] done processing\n",
      "04:29:20 - cmdstanpy - INFO - Chain [1] done processing\n",
      "04:29:21 - cmdstanpy - INFO - Chain [1] done processing\n",
      "04:29:21 - cmdstanpy - INFO - Chain [1] start processing\n",
      "04:29:21 - cmdstanpy - INFO - Chain [1] done processing\n",
      "04:29:21 - cmdstanpy - INFO - Chain [1] start processing\n",
      "04:29:21 - cmdstanpy - INFO - Chain [1] start processing\n",
      "04:29:21 - cmdstanpy - INFO - Chain [1] start processing\n",
      "04:29:22 - cmdstanpy - INFO - Chain [1] done processing\n",
      "04:29:22 - cmdstanpy - INFO - Chain [1] done processing\n",
      "04:29:22 - cmdstanpy - INFO - Chain [1] start processing\n",
      "04:29:22 - cmdstanpy - INFO - Chain [1] start processing\n",
      "04:29:25 - cmdstanpy - INFO - Chain [1] done processing\n",
      "04:29:26 - cmdstanpy - INFO - Chain [1] done processing\n",
      "04:29:27 - cmdstanpy - INFO - Chain [1] done processing\n",
      "04:29:28 - cmdstanpy - INFO - Chain [1] done processing\n",
      "04:29:28 - cmdstanpy - INFO - Chain [1] done processing\n",
      "04:29:29 - cmdstanpy - INFO - Chain [1] done processing\n",
      "04:29:29 - cmdstanpy - INFO - Chain [1] done processing\n",
      "04:29:29 - cmdstanpy - INFO - Chain [1] done processing\n",
      "04:29:30 - cmdstanpy - INFO - Chain [1] start processing\n",
      "04:29:31 - cmdstanpy - INFO - Chain [1] done processing\n",
      "Seasonality has period of 7 days which is larger than initial window. Consider increasing initial.\n",
      "04:29:31 - cmdstanpy - INFO - Chain [1] start processing\n",
      "04:29:31 - cmdstanpy - INFO - Chain [1] start processing\n",
      "04:29:31 - cmdstanpy - INFO - Chain [1] start processing\n",
      "04:29:31 - cmdstanpy - INFO - Chain [1] start processing\n",
      "04:29:32 - cmdstanpy - INFO - Chain [1] start processing\n",
      "04:29:32 - cmdstanpy - INFO - Chain [1] start processing\n",
      "04:29:32 - cmdstanpy - INFO - Chain [1] start processing\n",
      "04:29:32 - cmdstanpy - INFO - Chain [1] start processing\n",
      "04:29:35 - cmdstanpy - INFO - Chain [1] done processing\n",
      "04:29:35 - cmdstanpy - INFO - Chain [1] start processing\n",
      "04:29:37 - cmdstanpy - INFO - Chain [1] done processing\n",
      "04:29:37 - cmdstanpy - INFO - Chain [1] start processing\n",
      "04:29:37 - cmdstanpy - INFO - Chain [1] done processing\n",
      "04:29:38 - cmdstanpy - INFO - Chain [1] done processing\n",
      "04:29:38 - cmdstanpy - INFO - Chain [1] start processing\n",
      "04:29:38 - cmdstanpy - INFO - Chain [1] start processing\n",
      "04:29:38 - cmdstanpy - INFO - Chain [1] done processing\n",
      "04:29:38 - cmdstanpy - INFO - Chain [1] start processing\n",
      "04:29:39 - cmdstanpy - INFO - Chain [1] done processing\n",
      "04:29:39 - cmdstanpy - INFO - Chain [1] done processing\n",
      "04:29:39 - cmdstanpy - INFO - Chain [1] start processing\n",
      "04:29:39 - cmdstanpy - INFO - Chain [1] start processing\n",
      "04:29:40 - cmdstanpy - INFO - Chain [1] done processing\n",
      "04:29:40 - cmdstanpy - INFO - Chain [1] done processing\n",
      "04:29:40 - cmdstanpy - INFO - Chain [1] start processing\n",
      "04:29:40 - cmdstanpy - INFO - Chain [1] start processing\n",
      "04:29:44 - cmdstanpy - INFO - Chain [1] done processing\n",
      "04:29:44 - cmdstanpy - INFO - Chain [1] start processing\n",
      "04:29:44 - cmdstanpy - INFO - Chain [1] done processing\n",
      "04:29:44 - cmdstanpy - INFO - Chain [1] start processing\n",
      "04:29:45 - cmdstanpy - INFO - Chain [1] done processing\n",
      "04:29:45 - cmdstanpy - INFO - Chain [1] done processing\n",
      "04:29:45 - cmdstanpy - INFO - Chain [1] done processing\n",
      "04:29:45 - cmdstanpy - INFO - Chain [1] start processing\n",
      "04:29:45 - cmdstanpy - INFO - Chain [1] done processing\n",
      "04:29:46 - cmdstanpy - INFO - Chain [1] start processing\n",
      "04:29:46 - cmdstanpy - INFO - Chain [1] start processing\n",
      "04:29:46 - cmdstanpy - INFO - Chain [1] start processing\n",
      "04:29:47 - cmdstanpy - INFO - Chain [1] done processing\n",
      "04:29:47 - cmdstanpy - INFO - Chain [1] done processing\n",
      "04:29:47 - cmdstanpy - INFO - Chain [1] start processing\n",
      "04:29:49 - cmdstanpy - INFO - Chain [1] done processing\n",
      "04:29:50 - cmdstanpy - INFO - Chain [1] done processing\n",
      "04:29:51 - cmdstanpy - INFO - Chain [1] done processing\n",
      "04:29:52 - cmdstanpy - INFO - Chain [1] done processing\n",
      "04:29:52 - cmdstanpy - INFO - Chain [1] done processing\n",
      "04:29:52 - cmdstanpy - INFO - Chain [1] done processing\n",
      "04:29:53 - cmdstanpy - INFO - Chain [1] done processing\n",
      "04:29:53 - cmdstanpy - INFO - Chain [1] start processing\n",
      "04:29:55 - cmdstanpy - INFO - Chain [1] done processing\n",
      "Seasonality has period of 7 days which is larger than initial window. Consider increasing initial.\n",
      "04:29:55 - cmdstanpy - INFO - Chain [1] start processing\n",
      "04:29:55 - cmdstanpy - INFO - Chain [1] start processing\n",
      "04:29:55 - cmdstanpy - INFO - Chain [1] start processing\n",
      "04:29:55 - cmdstanpy - INFO - Chain [1] start processing\n",
      "04:29:55 - cmdstanpy - INFO - Chain [1] start processing\n",
      "04:29:55 - cmdstanpy - INFO - Chain [1] start processing\n",
      "04:29:55 - cmdstanpy - INFO - Chain [1] start processing\n",
      "04:29:55 - cmdstanpy - INFO - Chain [1] start processing\n",
      "04:30:00 - cmdstanpy - INFO - Chain [1] done processing\n",
      "04:30:00 - cmdstanpy - INFO - Chain [1] start processing\n",
      "04:30:00 - cmdstanpy - INFO - Chain [1] done processing\n",
      "04:30:00 - cmdstanpy - INFO - Chain [1] start processing\n",
      "04:30:01 - cmdstanpy - INFO - Chain [1] done processing\n",
      "04:30:01 - cmdstanpy - INFO - Chain [1] done processing\n",
      "04:30:01 - cmdstanpy - INFO - Chain [1] start processing\n",
      "04:30:01 - cmdstanpy - INFO - Chain [1] start processing\n",
      "04:30:01 - cmdstanpy - INFO - Chain [1] done processing\n",
      "04:30:01 - cmdstanpy - INFO - Chain [1] start processing\n",
      "04:30:02 - cmdstanpy - INFO - Chain [1] done processing\n",
      "04:30:02 - cmdstanpy - INFO - Chain [1] start processing\n",
      "04:30:02 - cmdstanpy - INFO - Chain [1] done processing\n",
      "04:30:02 - cmdstanpy - INFO - Chain [1] start processing\n",
      "04:30:03 - cmdstanpy - INFO - Chain [1] done processing\n",
      "04:30:03 - cmdstanpy - INFO - Chain [1] start processing\n",
      "04:30:05 - cmdstanpy - INFO - Chain [1] done processing\n",
      "04:30:06 - cmdstanpy - INFO - Chain [1] start processing\n",
      "04:30:07 - cmdstanpy - INFO - Chain [1] done processing\n",
      "04:30:08 - cmdstanpy - INFO - Chain [1] start processing\n",
      "04:30:08 - cmdstanpy - INFO - Chain [1] done processing\n",
      "04:30:08 - cmdstanpy - INFO - Chain [1] done processing\n",
      "04:30:08 - cmdstanpy - INFO - Chain [1] done processing\n",
      "04:30:08 - cmdstanpy - INFO - Chain [1] start processing\n",
      "04:30:09 - cmdstanpy - INFO - Chain [1] start processing\n",
      "04:30:09 - cmdstanpy - INFO - Chain [1] start processing\n",
      "04:30:09 - cmdstanpy - INFO - Chain [1] done processing\n",
      "04:30:09 - cmdstanpy - INFO - Chain [1] done processing\n",
      "04:30:10 - cmdstanpy - INFO - Chain [1] start processing\n",
      "04:30:10 - cmdstanpy - INFO - Chain [1] start processing\n",
      "04:30:10 - cmdstanpy - INFO - Chain [1] done processing\n",
      "04:30:10 - cmdstanpy - INFO - Chain [1] start processing\n",
      "04:30:11 - cmdstanpy - INFO - Chain [1] done processing\n",
      "04:30:13 - cmdstanpy - INFO - Chain [1] done processing\n",
      "04:30:14 - cmdstanpy - INFO - Chain [1] done processing\n",
      "04:30:14 - cmdstanpy - INFO - Chain [1] done processing\n",
      "04:30:15 - cmdstanpy - INFO - Chain [1] done processing\n",
      "04:30:16 - cmdstanpy - INFO - Chain [1] done processing\n",
      "04:30:16 - cmdstanpy - INFO - Chain [1] done processing\n",
      "04:30:16 - cmdstanpy - INFO - Chain [1] done processing\n",
      "04:30:16 - cmdstanpy - INFO - Chain [1] start processing\n",
      "04:30:18 - cmdstanpy - INFO - Chain [1] done processing\n",
      "Seasonality has period of 7 days which is larger than initial window. Consider increasing initial.\n",
      "04:30:18 - cmdstanpy - INFO - Chain [1] start processing\n",
      "04:30:18 - cmdstanpy - INFO - Chain [1] start processing\n",
      "04:30:18 - cmdstanpy - INFO - Chain [1] start processing\n",
      "04:30:18 - cmdstanpy - INFO - Chain [1] start processing\n",
      "04:30:19 - cmdstanpy - INFO - Chain [1] start processing\n",
      "04:30:19 - cmdstanpy - INFO - Chain [1] start processing\n",
      "04:30:19 - cmdstanpy - INFO - Chain [1] start processing\n",
      "04:30:19 - cmdstanpy - INFO - Chain [1] start processing\n",
      "04:30:24 - cmdstanpy - INFO - Chain [1] done processing\n",
      "04:30:24 - cmdstanpy - INFO - Chain [1] start processing\n",
      "04:30:24 - cmdstanpy - INFO - Chain [1] done processing\n",
      "04:30:25 - cmdstanpy - INFO - Chain [1] start processing\n",
      "04:30:25 - cmdstanpy - INFO - Chain [1] done processing\n",
      "04:30:25 - cmdstanpy - INFO - Chain [1] start processing\n",
      "04:30:25 - cmdstanpy - INFO - Chain [1] done processing\n",
      "04:30:25 - cmdstanpy - INFO - Chain [1] done processing\n",
      "04:30:25 - cmdstanpy - INFO - Chain [1] done processing\n",
      "04:30:26 - cmdstanpy - INFO - Chain [1] done processing\n",
      "04:30:26 - cmdstanpy - INFO - Chain [1] start processing\n",
      "04:30:26 - cmdstanpy - INFO - Chain [1] done processing\n",
      "04:30:26 - cmdstanpy - INFO - Chain [1] start processing\n",
      "04:30:26 - cmdstanpy - INFO - Chain [1] start processing\n",
      "04:30:26 - cmdstanpy - INFO - Chain [1] start processing\n",
      "04:30:26 - cmdstanpy - INFO - Chain [1] start processing\n",
      "04:30:30 - cmdstanpy - INFO - Chain [1] done processing\n",
      "04:30:30 - cmdstanpy - INFO - Chain [1] start processing\n",
      "04:30:32 - cmdstanpy - INFO - Chain [1] done processing\n",
      "04:30:32 - cmdstanpy - INFO - Chain [1] done processing\n",
      "04:30:32 - cmdstanpy - INFO - Chain [1] start processing\n",
      "04:30:33 - cmdstanpy - INFO - Chain [1] start processing\n",
      "04:30:33 - cmdstanpy - INFO - Chain [1] done processing\n",
      "04:30:33 - cmdstanpy - INFO - Chain [1] done processing\n",
      "04:30:34 - cmdstanpy - INFO - Chain [1] done processing\n",
      "04:30:34 - cmdstanpy - INFO - Chain [1] done processing\n",
      "04:30:34 - cmdstanpy - INFO - Chain [1] done processing\n",
      "04:30:35 - cmdstanpy - INFO - Chain [1] start processing\n",
      "04:30:35 - cmdstanpy - INFO - Chain [1] start processing\n",
      "04:30:35 - cmdstanpy - INFO - Chain [1] start processing\n",
      "04:30:35 - cmdstanpy - INFO - Chain [1] start processing\n",
      "04:30:35 - cmdstanpy - INFO - Chain [1] start processing\n",
      "04:30:36 - cmdstanpy - INFO - Chain [1] done processing\n",
      "04:30:36 - cmdstanpy - INFO - Chain [1] done processing\n",
      "04:30:38 - cmdstanpy - INFO - Chain [1] done processing\n",
      "04:30:39 - cmdstanpy - INFO - Chain [1] done processing\n",
      "04:30:40 - cmdstanpy - INFO - Chain [1] done processing\n",
      "04:30:40 - cmdstanpy - INFO - Chain [1] done processing\n",
      "04:30:41 - cmdstanpy - INFO - Chain [1] done processing\n",
      "04:30:41 - cmdstanpy - INFO - Chain [1] done processing\n",
      "04:30:41 - cmdstanpy - INFO - Chain [1] start processing\n",
      "04:30:43 - cmdstanpy - INFO - Chain [1] done processing\n",
      "Seasonality has period of 7 days which is larger than initial window. Consider increasing initial.\n",
      "04:30:43 - cmdstanpy - INFO - Chain [1] start processing\n",
      "04:30:43 - cmdstanpy - INFO - Chain [1] start processing\n",
      "04:30:44 - cmdstanpy - INFO - Chain [1] start processing\n",
      "04:30:44 - cmdstanpy - INFO - Chain [1] start processing\n",
      "04:30:44 - cmdstanpy - INFO - Chain [1] start processing\n",
      "04:30:44 - cmdstanpy - INFO - Chain [1] start processing\n",
      "04:30:44 - cmdstanpy - INFO - Chain [1] start processing\n",
      "04:30:44 - cmdstanpy - INFO - Chain [1] start processing\n",
      "04:30:48 - cmdstanpy - INFO - Chain [1] done processing\n",
      "04:30:48 - cmdstanpy - INFO - Chain [1] start processing\n",
      "04:30:49 - cmdstanpy - INFO - Chain [1] done processing\n",
      "04:30:49 - cmdstanpy - INFO - Chain [1] done processing\n",
      "04:30:49 - cmdstanpy - INFO - Chain [1] start processing\n",
      "04:30:49 - cmdstanpy - INFO - Chain [1] start processing\n",
      "04:30:51 - cmdstanpy - INFO - Chain [1] done processing\n",
      "04:30:51 - cmdstanpy - INFO - Chain [1] start processing\n",
      "04:30:51 - cmdstanpy - INFO - Chain [1] done processing\n",
      "04:30:51 - cmdstanpy - INFO - Chain [1] start processing\n",
      "04:30:51 - cmdstanpy - INFO - Chain [1] done processing\n",
      "04:30:51 - cmdstanpy - INFO - Chain [1] start processing\n",
      "04:30:52 - cmdstanpy - INFO - Chain [1] done processing\n",
      "04:30:52 - cmdstanpy - INFO - Chain [1] start processing\n",
      "04:30:52 - cmdstanpy - INFO - Chain [1] done processing\n",
      "04:30:52 - cmdstanpy - INFO - Chain [1] start processing\n",
      "04:30:55 - cmdstanpy - INFO - Chain [1] done processing\n",
      "04:30:55 - cmdstanpy - INFO - Chain [1] done processing\n",
      "04:30:55 - cmdstanpy - INFO - Chain [1] start processing\n",
      "04:30:55 - cmdstanpy - INFO - Chain [1] start processing\n",
      "04:30:56 - cmdstanpy - INFO - Chain [1] done processing\n",
      "04:30:57 - cmdstanpy - INFO - Chain [1] done processing\n",
      "04:30:57 - cmdstanpy - INFO - Chain [1] start processing\n",
      "04:30:57 - cmdstanpy - INFO - Chain [1] start processing\n",
      "04:30:58 - cmdstanpy - INFO - Chain [1] done processing\n",
      "04:30:58 - cmdstanpy - INFO - Chain [1] done processing\n",
      "04:30:59 - cmdstanpy - INFO - Chain [1] start processing\n",
      "04:30:59 - cmdstanpy - INFO - Chain [1] start processing\n",
      "04:30:59 - cmdstanpy - INFO - Chain [1] done processing\n",
      "04:30:59 - cmdstanpy - INFO - Chain [1] done processing\n",
      "04:30:59 - cmdstanpy - INFO - Chain [1] start processing\n",
      "04:31:00 - cmdstanpy - INFO - Chain [1] start processing\n",
      "04:31:00 - cmdstanpy - INFO - Chain [1] done processing\n",
      "04:31:02 - cmdstanpy - INFO - Chain [1] done processing\n",
      "04:31:02 - cmdstanpy - INFO - Chain [1] done processing\n",
      "04:31:03 - cmdstanpy - INFO - Chain [1] done processing\n",
      "04:31:04 - cmdstanpy - INFO - Chain [1] done processing\n",
      "04:31:05 - cmdstanpy - INFO - Chain [1] done processing\n",
      "04:31:05 - cmdstanpy - INFO - Chain [1] done processing\n",
      "04:31:05 - cmdstanpy - INFO - Chain [1] done processing\n",
      "04:31:06 - cmdstanpy - INFO - Chain [1] start processing\n",
      "04:31:07 - cmdstanpy - INFO - Chain [1] done processing\n",
      "Seasonality has period of 7 days which is larger than initial window. Consider increasing initial.\n",
      "04:31:07 - cmdstanpy - INFO - Chain [1] start processing\n",
      "04:31:07 - cmdstanpy - INFO - Chain [1] start processing\n",
      "04:31:07 - cmdstanpy - INFO - Chain [1] start processing\n",
      "04:31:08 - cmdstanpy - INFO - Chain [1] start processing\n",
      "04:31:08 - cmdstanpy - INFO - Chain [1] start processing\n",
      "04:31:08 - cmdstanpy - INFO - Chain [1] start processing\n",
      "04:31:08 - cmdstanpy - INFO - Chain [1] start processing\n",
      "04:31:08 - cmdstanpy - INFO - Chain [1] start processing\n",
      "04:31:12 - cmdstanpy - INFO - Chain [1] done processing\n",
      "04:31:13 - cmdstanpy - INFO - Chain [1] start processing\n",
      "04:31:13 - cmdstanpy - INFO - Chain [1] done processing\n",
      "04:31:13 - cmdstanpy - INFO - Chain [1] start processing\n",
      "04:31:14 - cmdstanpy - INFO - Chain [1] done processing\n",
      "04:31:14 - cmdstanpy - INFO - Chain [1] done processing\n",
      "04:31:14 - cmdstanpy - INFO - Chain [1] start processing\n",
      "04:31:14 - cmdstanpy - INFO - Chain [1] done processing\n",
      "04:31:14 - cmdstanpy - INFO - Chain [1] start processing\n",
      "04:31:14 - cmdstanpy - INFO - Chain [1] done processing\n",
      "04:31:14 - cmdstanpy - INFO - Chain [1] start processing\n",
      "04:31:14 - cmdstanpy - INFO - Chain [1] start processing\n",
      "04:31:15 - cmdstanpy - INFO - Chain [1] done processing\n",
      "04:31:15 - cmdstanpy - INFO - Chain [1] start processing\n",
      "04:31:16 - cmdstanpy - INFO - Chain [1] done processing\n",
      "04:31:16 - cmdstanpy - INFO - Chain [1] start processing\n",
      "04:31:19 - cmdstanpy - INFO - Chain [1] done processing\n",
      "04:31:19 - cmdstanpy - INFO - Chain [1] done processing\n",
      "04:31:20 - cmdstanpy - INFO - Chain [1] start processing\n",
      "04:31:20 - cmdstanpy - INFO - Chain [1] start processing\n",
      "04:31:20 - cmdstanpy - INFO - Chain [1] done processing\n",
      "04:31:20 - cmdstanpy - INFO - Chain [1] start processing\n",
      "04:31:20 - cmdstanpy - INFO - Chain [1] done processing\n",
      "04:31:21 - cmdstanpy - INFO - Chain [1] start processing\n",
      "04:31:22 - cmdstanpy - INFO - Chain [1] done processing\n",
      "04:31:22 - cmdstanpy - INFO - Chain [1] done processing\n",
      "04:31:22 - cmdstanpy - INFO - Chain [1] done processing\n",
      "04:31:22 - cmdstanpy - INFO - Chain [1] start processing\n",
      "04:31:23 - cmdstanpy - INFO - Chain [1] start processing\n",
      "04:31:23 - cmdstanpy - INFO - Chain [1] start processing\n",
      "04:31:23 - cmdstanpy - INFO - Chain [1] done processing\n",
      "04:31:23 - cmdstanpy - INFO - Chain [1] start processing\n",
      "04:31:26 - cmdstanpy - INFO - Chain [1] done processing\n",
      "04:31:27 - cmdstanpy - INFO - Chain [1] done processing\n",
      "04:31:27 - cmdstanpy - INFO - Chain [1] done processing\n",
      "04:31:28 - cmdstanpy - INFO - Chain [1] done processing\n",
      "04:31:30 - cmdstanpy - INFO - Chain [1] done processing\n",
      "04:31:30 - cmdstanpy - INFO - Chain [1] done processing\n",
      "04:31:30 - cmdstanpy - INFO - Chain [1] done processing\n",
      "04:31:30 - cmdstanpy - INFO - Chain [1] done processing\n",
      "04:31:31 - cmdstanpy - INFO - Chain [1] start processing\n",
      "04:31:32 - cmdstanpy - INFO - Chain [1] done processing\n",
      "Seasonality has period of 7 days which is larger than initial window. Consider increasing initial.\n",
      "04:31:33 - cmdstanpy - INFO - Chain [1] start processing\n",
      "04:31:33 - cmdstanpy - INFO - Chain [1] start processing\n",
      "04:31:33 - cmdstanpy - INFO - Chain [1] start processing\n",
      "04:31:33 - cmdstanpy - INFO - Chain [1] start processing\n",
      "04:31:33 - cmdstanpy - INFO - Chain [1] start processing\n",
      "04:31:33 - cmdstanpy - INFO - Chain [1] start processing\n",
      "04:31:33 - cmdstanpy - INFO - Chain [1] start processing\n",
      "04:31:33 - cmdstanpy - INFO - Chain [1] start processing\n",
      "04:31:38 - cmdstanpy - INFO - Chain [1] done processing\n",
      "04:31:38 - cmdstanpy - INFO - Chain [1] start processing\n",
      "04:31:39 - cmdstanpy - INFO - Chain [1] done processing\n",
      "04:31:39 - cmdstanpy - INFO - Chain [1] done processing\n",
      "04:31:39 - cmdstanpy - INFO - Chain [1] start processing\n",
      "04:31:39 - cmdstanpy - INFO - Chain [1] done processing\n",
      "04:31:40 - cmdstanpy - INFO - Chain [1] done processing\n",
      "04:31:40 - cmdstanpy - INFO - Chain [1] done processing\n",
      "04:31:40 - cmdstanpy - INFO - Chain [1] start processing\n",
      "04:31:40 - cmdstanpy - INFO - Chain [1] done processing\n",
      "04:31:40 - cmdstanpy - INFO - Chain [1] start processing\n",
      "04:31:41 - cmdstanpy - INFO - Chain [1] start processing\n",
      "04:31:41 - cmdstanpy - INFO - Chain [1] start processing\n",
      "04:31:41 - cmdstanpy - INFO - Chain [1] done processing\n",
      "04:31:41 - cmdstanpy - INFO - Chain [1] start processing\n",
      "04:31:41 - cmdstanpy - INFO - Chain [1] start processing\n",
      "04:31:45 - cmdstanpy - INFO - Chain [1] done processing\n",
      "04:31:45 - cmdstanpy - INFO - Chain [1] start processing\n",
      "04:31:47 - cmdstanpy - INFO - Chain [1] done processing\n",
      "04:31:47 - cmdstanpy - INFO - Chain [1] start processing\n",
      "04:31:47 - cmdstanpy - INFO - Chain [1] done processing\n",
      "04:31:48 - cmdstanpy - INFO - Chain [1] done processing\n",
      "04:31:48 - cmdstanpy - INFO - Chain [1] start processing\n",
      "04:31:48 - cmdstanpy - INFO - Chain [1] done processing\n",
      "04:31:49 - cmdstanpy - INFO - Chain [1] start processing\n",
      "04:31:49 - cmdstanpy - INFO - Chain [1] done processing\n",
      "04:31:49 - cmdstanpy - INFO - Chain [1] start processing\n",
      "04:31:49 - cmdstanpy - INFO - Chain [1] done processing\n",
      "04:31:50 - cmdstanpy - INFO - Chain [1] done processing\n",
      "04:31:50 - cmdstanpy - INFO - Chain [1] start processing\n",
      "04:31:50 - cmdstanpy - INFO - Chain [1] start processing\n",
      "04:31:50 - cmdstanpy - INFO - Chain [1] start processing\n",
      "04:31:50 - cmdstanpy - INFO - Chain [1] done processing\n",
      "04:31:52 - cmdstanpy - INFO - Chain [1] done processing\n",
      "04:31:53 - cmdstanpy - INFO - Chain [1] done processing\n",
      "04:31:54 - cmdstanpy - INFO - Chain [1] done processing\n",
      "04:31:56 - cmdstanpy - INFO - Chain [1] done processing\n",
      "04:31:57 - cmdstanpy - INFO - Chain [1] done processing\n",
      "04:31:57 - cmdstanpy - INFO - Chain [1] done processing\n",
      "04:31:57 - cmdstanpy - INFO - Chain [1] done processing\n",
      "04:31:58 - cmdstanpy - INFO - Chain [1] start processing\n",
      "04:31:59 - cmdstanpy - INFO - Chain [1] done processing\n",
      "Seasonality has period of 7 days which is larger than initial window. Consider increasing initial.\n",
      "04:31:59 - cmdstanpy - INFO - Chain [1] start processing\n",
      "04:31:59 - cmdstanpy - INFO - Chain [1] start processing\n",
      "04:31:59 - cmdstanpy - INFO - Chain [1] start processing\n",
      "04:32:00 - cmdstanpy - INFO - Chain [1] start processing\n",
      "04:32:00 - cmdstanpy - INFO - Chain [1] start processing\n",
      "04:32:00 - cmdstanpy - INFO - Chain [1] start processing\n",
      "04:32:00 - cmdstanpy - INFO - Chain [1] start processing\n",
      "04:32:00 - cmdstanpy - INFO - Chain [1] start processing\n",
      "04:32:05 - cmdstanpy - INFO - Chain [1] done processing\n",
      "04:32:05 - cmdstanpy - INFO - Chain [1] start processing\n",
      "04:32:05 - cmdstanpy - INFO - Chain [1] done processing\n",
      "04:32:05 - cmdstanpy - INFO - Chain [1] done processing\n",
      "04:32:05 - cmdstanpy - INFO - Chain [1] start processing\n",
      "04:32:06 - cmdstanpy - INFO - Chain [1] start processing\n",
      "04:32:06 - cmdstanpy - INFO - Chain [1] done processing\n",
      "04:32:06 - cmdstanpy - INFO - Chain [1] done processing\n",
      "04:32:06 - cmdstanpy - INFO - Chain [1] start processing\n",
      "04:32:06 - cmdstanpy - INFO - Chain [1] done processing\n",
      "04:32:07 - cmdstanpy - INFO - Chain [1] done processing\n",
      "04:32:07 - cmdstanpy - INFO - Chain [1] start processing\n",
      "04:32:07 - cmdstanpy - INFO - Chain [1] start processing\n",
      "04:32:07 - cmdstanpy - INFO - Chain [1] start processing\n",
      "04:32:07 - cmdstanpy - INFO - Chain [1] done processing\n",
      "04:32:07 - cmdstanpy - INFO - Chain [1] start processing\n",
      "04:32:12 - cmdstanpy - INFO - Chain [1] done processing\n",
      "04:32:12 - cmdstanpy - INFO - Chain [1] start processing\n",
      "04:32:12 - cmdstanpy - INFO - Chain [1] done processing\n",
      "04:32:12 - cmdstanpy - INFO - Chain [1] start processing\n",
      "04:32:12 - cmdstanpy - INFO - Chain [1] done processing\n",
      "04:32:13 - cmdstanpy - INFO - Chain [1] start processing\n",
      "04:32:13 - cmdstanpy - INFO - Chain [1] done processing\n",
      "04:32:13 - cmdstanpy - INFO - Chain [1] start processing\n",
      "04:32:14 - cmdstanpy - INFO - Chain [1] done processing\n",
      "04:32:14 - cmdstanpy - INFO - Chain [1] done processing\n",
      "04:32:14 - cmdstanpy - INFO - Chain [1] done processing\n",
      "04:32:15 - cmdstanpy - INFO - Chain [1] start processing\n",
      "04:32:15 - cmdstanpy - INFO - Chain [1] start processing\n",
      "04:32:15 - cmdstanpy - INFO - Chain [1] start processing\n",
      "04:32:15 - cmdstanpy - INFO - Chain [1] done processing\n",
      "04:32:15 - cmdstanpy - INFO - Chain [1] start processing\n",
      "04:32:17 - cmdstanpy - INFO - Chain [1] done processing\n",
      "04:32:18 - cmdstanpy - INFO - Chain [1] done processing\n",
      "04:32:19 - cmdstanpy - INFO - Chain [1] done processing\n",
      "04:32:19 - cmdstanpy - INFO - Chain [1] done processing\n",
      "04:32:21 - cmdstanpy - INFO - Chain [1] done processing\n",
      "04:32:22 - cmdstanpy - INFO - Chain [1] done processing\n",
      "04:32:22 - cmdstanpy - INFO - Chain [1] done processing\n",
      "04:32:22 - cmdstanpy - INFO - Chain [1] done processing\n",
      "04:32:23 - cmdstanpy - INFO - Chain [1] start processing\n",
      "04:32:24 - cmdstanpy - INFO - Chain [1] done processing\n",
      "Seasonality has period of 7 days which is larger than initial window. Consider increasing initial.\n",
      "04:32:24 - cmdstanpy - INFO - Chain [1] start processing\n",
      "04:32:24 - cmdstanpy - INFO - Chain [1] start processing\n",
      "04:32:24 - cmdstanpy - INFO - Chain [1] start processing\n",
      "04:32:25 - cmdstanpy - INFO - Chain [1] start processing\n",
      "04:32:25 - cmdstanpy - INFO - Chain [1] start processing\n",
      "04:32:25 - cmdstanpy - INFO - Chain [1] start processing\n",
      "04:32:25 - cmdstanpy - INFO - Chain [1] start processing\n",
      "04:32:25 - cmdstanpy - INFO - Chain [1] start processing\n",
      "04:32:29 - cmdstanpy - INFO - Chain [1] done processing\n",
      "04:32:29 - cmdstanpy - INFO - Chain [1] start processing\n",
      "04:32:30 - cmdstanpy - INFO - Chain [1] done processing\n",
      "04:32:30 - cmdstanpy - INFO - Chain [1] start processing\n",
      "04:32:30 - cmdstanpy - INFO - Chain [1] done processing\n",
      "04:32:31 - cmdstanpy - INFO - Chain [1] start processing\n",
      "04:32:31 - cmdstanpy - INFO - Chain [1] done processing\n",
      "04:32:31 - cmdstanpy - INFO - Chain [1] done processing\n",
      "04:32:31 - cmdstanpy - INFO - Chain [1] start processing\n",
      "04:32:31 - cmdstanpy - INFO - Chain [1] start processing\n",
      "04:32:31 - cmdstanpy - INFO - Chain [1] done processing\n",
      "04:32:31 - cmdstanpy - INFO - Chain [1] done processing\n",
      "04:32:32 - cmdstanpy - INFO - Chain [1] start processing\n",
      "04:32:32 - cmdstanpy - INFO - Chain [1] start processing\n",
      "04:32:32 - cmdstanpy - INFO - Chain [1] done processing\n",
      "04:32:32 - cmdstanpy - INFO - Chain [1] start processing\n",
      "04:32:36 - cmdstanpy - INFO - Chain [1] done processing\n",
      "04:32:36 - cmdstanpy - INFO - Chain [1] start processing\n",
      "04:32:36 - cmdstanpy - INFO - Chain [1] done processing\n",
      "04:32:36 - cmdstanpy - INFO - Chain [1] done processing\n",
      "04:32:37 - cmdstanpy - INFO - Chain [1] start processing\n",
      "04:32:37 - cmdstanpy - INFO - Chain [1] start processing\n",
      "04:32:37 - cmdstanpy - INFO - Chain [1] done processing\n",
      "04:32:37 - cmdstanpy - INFO - Chain [1] start processing\n",
      "04:32:37 - cmdstanpy - INFO - Chain [1] done processing\n",
      "04:32:38 - cmdstanpy - INFO - Chain [1] start processing\n",
      "04:32:38 - cmdstanpy - INFO - Chain [1] done processing\n",
      "04:32:38 - cmdstanpy - INFO - Chain [1] start processing\n",
      "04:32:39 - cmdstanpy - INFO - Chain [1] done processing\n",
      "04:32:39 - cmdstanpy - INFO - Chain [1] start processing\n",
      "04:32:40 - cmdstanpy - INFO - Chain [1] done processing\n",
      "04:32:40 - cmdstanpy - INFO - Chain [1] start processing\n",
      "04:32:43 - cmdstanpy - INFO - Chain [1] done processing\n",
      "04:32:44 - cmdstanpy - INFO - Chain [1] done processing\n",
      "04:32:45 - cmdstanpy - INFO - Chain [1] done processing\n",
      "04:32:46 - cmdstanpy - INFO - Chain [1] done processing\n",
      "04:32:47 - cmdstanpy - INFO - Chain [1] done processing\n",
      "04:32:47 - cmdstanpy - INFO - Chain [1] done processing\n",
      "04:32:48 - cmdstanpy - INFO - Chain [1] done processing\n",
      "04:32:48 - cmdstanpy - INFO - Chain [1] done processing\n"
     ]
    },
    {
     "name": "stdout",
     "output_type": "stream",
     "text": [
      "   changepoint_prior_scale  seasonality_prior_scale       rmse\n",
      "0                      0.2                     0.10  44.467939\n",
      "1                      0.2                     0.15  44.525162\n",
      "2                      0.2                     0.20  44.619549\n",
      "3                      0.3                     0.10  44.272591\n",
      "4                      0.3                     0.15  44.260988\n",
      "5                      0.3                     0.20  44.368479\n",
      "6                      0.4                     0.10  44.307801\n",
      "7                      0.4                     0.15  44.292933\n",
      "8                      0.4                     0.20  44.383673\n"
     ]
    }
   ],
   "source": [
    "param_grid = {  \n",
    "    'changepoint_prior_scale': [0.2, 0.3, 0.4],\n",
    "    'seasonality_prior_scale': [0.1, 0.15, 0.2],\n",
    "}\n",
    "\n",
    "# Генерация всех комбинаций параметров\n",
    "all_params = [dict(zip(param_grid.keys(), v)) for v in itertools.product(*param_grid.values())]\n",
    "rmses = []  # Сохранение RMSE для каждого параметра\n",
    "\n",
    "# Использование кросс-валидации\n",
    "for params in all_params:\n",
    "    m = Prophet(**params).fit(train_data_pr)  # Fit model with given params\n",
    "    df_cv = cross_validation(m, cutoffs=cutoffs, horizon='1 hour', parallel=\"processes\")\n",
    "    df_p = performance_metrics(df_cv, rolling_window=7)\n",
    "    rmses.append(df_p['rmse'].values[0])\n",
    "\n",
    "# Нахождение лучших параметров\n",
    "tuning_results = pd.DataFrame(all_params)\n",
    "tuning_results['rmse'] = rmses\n",
    "print(tuning_results)"
   ]
  },
  {
   "cell_type": "code",
   "execution_count": 26,
   "metadata": {},
   "outputs": [
    {
     "name": "stdout",
     "output_type": "stream",
     "text": [
      "{'changepoint_prior_scale': 0.3, 'seasonality_prior_scale': 0.15}\n"
     ]
    }
   ],
   "source": [
    "prophet_best_params = all_params[np.argmin(rmses)]\n",
    "print(prophet_best_params)"
   ]
  },
  {
   "cell_type": "code",
   "execution_count": 27,
   "metadata": {
    "scrolled": true
   },
   "outputs": [
    {
     "name": "stdout",
     "output_type": "stream",
     "text": [
      "Минимальное значение RMSE: 44.2609881086302\n"
     ]
    }
   ],
   "source": [
    "# Находим минимальное значение RMSE\n",
    "prophet_rmse_error_train = min(rmses)\n",
    "\n",
    "# Выводим минимальное значение RMSE\n",
    "print(\"Минимальное значение RMSE:\", prophet_rmse_error_train)"
   ]
  },
  {
   "cell_type": "markdown",
   "metadata": {},
   "source": [
    "#### Вывод"
   ]
  },
  {
   "cell_type": "markdown",
   "metadata": {},
   "source": [
    "Было проведено разделение исходных данных на тренировочную и тестовую выборки размером 10%. Затем был выбран каждый понедельник в качестве точки разделения для кросс-валидации. \n",
    "\n",
    "Для модели Prophet был подобран оптимальный набор параметров, включая changepoint_prior_scale и seasonality_prior_scale, путем генерации комбинаций параметров и использования кросс-валидации. \n",
    "\n",
    "На основе результатов кросс-валидации были определены лучшие параметры модели, которые позволили достичь минимального значения RMSE на тренировочной выборке. "
   ]
  },
  {
   "cell_type": "code",
   "execution_count": 28,
   "metadata": {},
   "outputs": [
    {
     "data": {
      "text/html": [
       "<div>\n",
       "<style scoped>\n",
       "    .dataframe tbody tr th:only-of-type {\n",
       "        vertical-align: middle;\n",
       "    }\n",
       "\n",
       "    .dataframe tbody tr th {\n",
       "        vertical-align: top;\n",
       "    }\n",
       "\n",
       "    .dataframe thead th {\n",
       "        text-align: right;\n",
       "    }\n",
       "</style>\n",
       "<table border=\"1\" class=\"dataframe\">\n",
       "  <thead>\n",
       "    <tr style=\"text-align: right;\">\n",
       "      <th></th>\n",
       "      <th>params</th>\n",
       "      <th>train_score</th>\n",
       "    </tr>\n",
       "    <tr>\n",
       "      <th>index</th>\n",
       "      <th></th>\n",
       "      <th></th>\n",
       "    </tr>\n",
       "  </thead>\n",
       "  <tbody>\n",
       "    <tr>\n",
       "      <th>prophet</th>\n",
       "      <td>{'changepoint_prior_scale': 0.3, 'seasonality_...</td>\n",
       "      <td>44.260988</td>\n",
       "    </tr>\n",
       "  </tbody>\n",
       "</table>\n",
       "</div>"
      ],
      "text/plain": [
       "                                                    params  train_score\n",
       "index                                                                  \n",
       "prophet  {'changepoint_prior_scale': 0.3, 'seasonality_...    44.260988"
      ]
     },
     "execution_count": 28,
     "metadata": {},
     "output_type": "execute_result"
    }
   ],
   "source": [
    "result_prophet_data = pd.DataFrame({'index': ['prophet'],\n",
    "                                  'params': [prophet_best_params],\n",
    "                                  'train_score': [prophet_rmse_error_train]})\n",
    "result_prophet_data.set_index('index', inplace=True)\n",
    "result_prophet_data"
   ]
  },
  {
   "cell_type": "markdown",
   "metadata": {},
   "source": [
    "### ARMA"
   ]
  },
  {
   "cell_type": "markdown",
   "metadata": {},
   "source": [
    "Построение ACF/PACF графиков"
   ]
  },
  {
   "cell_type": "code",
   "execution_count": 29,
   "metadata": {},
   "outputs": [
    {
     "data": {
      "image/png": "[encoded data removed]",
      "text/plain": [
       "<Figure size 1080x1080 with 1 Axes>"
      ]
     },
     "metadata": {
      "needs_background": "light"
     },
     "output_type": "display_data"
    }
   ],
   "source": [
    "fig, ax = plt.subplots(figsize=(15, 15))  # Создание графика с указанием размеров\n",
    "\n",
    "# Построение автокорреляционной функции для столбца 'value'\n",
    "tsaplots.plot_acf(data['value'], lags=50, ax=ax)  \n",
    "ax.set_title('График автокорреляции')  \n",
    "ax.set_xlabel('Lag') \n",
    "ax.set_ylabel('ACF')\n",
    "plt.grid(True)\n",
    "plt.show()"
   ]
  },
  {
   "cell_type": "code",
   "execution_count": 30,
   "metadata": {},
   "outputs": [
    {
     "data": {
      "image/png": "[encoded data removed]",
      "text/plain": [
       "<Figure size 720x1080 with 1 Axes>"
      ]
     },
     "metadata": {
      "needs_background": "light"
     },
     "output_type": "display_data"
    }
   ],
   "source": [
    "fig, ax = plt.subplots(figsize=(10, 15))  # Создание графика с указанием размеров\n",
    "\n",
    "tsaplots.plot_pacf(data['value'], lags=50, ax=ax)\n",
    "ax.set_title('График частичной автокорреляции')  \n",
    "ax.set_xlabel('Lag') \n",
    "ax.set_ylabel('PACF')\n",
    "plt.grid(True)\n",
    "plt.show()"
   ]
  },
  {
   "cell_type": "code",
   "execution_count": 31,
   "metadata": {},
   "outputs": [],
   "source": [
    "test_size_arma = int(0.1 * data.shape[0])\n",
    "train_arma = data[:-test_size_arma]\n",
    "test_arma = data[-test_size_arma:]"
   ]
  },
  {
   "cell_type": "markdown",
   "metadata": {},
   "source": [
    "#### ARIMA"
   ]
  },
  {
   "cell_type": "markdown",
   "metadata": {},
   "source": [
    "**ARIMA (Autoregressive Integrated Moving Average)**: модель, которая включает в себя авторегрессию (AR) и скользящее среднее (MA), а также дифференцирование (I) для прогнозирования и анализа временных рядов."
   ]
  },
  {
   "cell_type": "markdown",
   "metadata": {},
   "source": [
    "Выполняется перебор различных комбинаций параметров p, d и q для модели ARIMA, а затем находится комбинация параметров, которая дает наилучшее значение информационного критерия Акаике (AIC)\n",
    "\n",
    "- p - порядок авторегрессии, отвечает за зависимость текущего значения ряда от предыдущих значений.\n",
    "- d - порядок разности, отвечает за количество раз, которое нужно продифференцировать временной ряд для достижения стационарности.\n",
    "- q - порядок скользящего среднего, отвечает за зависимость текущего значения ряда от предыдущих ошибок прогноза."
   ]
  },
  {
   "cell_type": "markdown",
   "metadata": {},
   "source": [
    "Подбор оптимальных значений параметров p и q вручную для модели ARIMA может быть выполнен путем анализа автокорреляционной функции (ACF) и частичной автокорреляционной функции (PACF) временного ряда. \n",
    "\n",
    "1. Анализ автокорреляционной функции (ACF):\n",
    "   -  Порядок q (параметр скользящего среднего MA) как последний лаг, на котором автокорреляция значимо отлична от нуля.\n",
    "\n",
    "2. Анализ частичной автокорреляционной функции (PACF):\n",
    "   - Порядок p (параметр авторегрессии AR) как последний лаг, на котором частичная автокорреляция значимо отлична от нуля."
   ]
  },
  {
   "cell_type": "code",
   "execution_count": null,
   "metadata": {},
   "outputs": [
    {
     "name": "stderr",
     "output_type": "stream",
     "text": [
      "/opt/conda/lib/python3.9/site-packages/statsmodels/base/model.py:604: ConvergenceWarning: Maximum Likelihood optimization failed to converge. Check mle_retvals\n",
      "  warnings.warn(\"Maximum Likelihood optimization failed to \"\n",
      "/opt/conda/lib/python3.9/site-packages/statsmodels/base/model.py:604: ConvergenceWarning: Maximum Likelihood optimization failed to converge. Check mle_retvals\n",
      "  warnings.warn(\"Maximum Likelihood optimization failed to \"\n",
      "/opt/conda/lib/python3.9/site-packages/statsmodels/base/model.py:604: ConvergenceWarning: Maximum Likelihood optimization failed to converge. Check mle_retvals\n",
      "  warnings.warn(\"Maximum Likelihood optimization failed to \"\n",
      "/opt/conda/lib/python3.9/site-packages/statsmodels/base/model.py:604: ConvergenceWarning: Maximum Likelihood optimization failed to converge. Check mle_retvals\n",
      "  warnings.warn(\"Maximum Likelihood optimization failed to \"\n",
      "/opt/conda/lib/python3.9/site-packages/statsmodels/base/model.py:604: ConvergenceWarning: Maximum Likelihood optimization failed to converge. Check mle_retvals\n",
      "  warnings.warn(\"Maximum Likelihood optimization failed to \"\n",
      "/opt/conda/lib/python3.9/site-packages/statsmodels/base/model.py:604: ConvergenceWarning: Maximum Likelihood optimization failed to converge. Check mle_retvals\n",
      "  warnings.warn(\"Maximum Likelihood optimization failed to \"\n",
      "/opt/conda/lib/python3.9/site-packages/statsmodels/base/model.py:604: ConvergenceWarning: Maximum Likelihood optimization failed to converge. Check mle_retvals\n",
      "  warnings.warn(\"Maximum Likelihood optimization failed to \"\n",
      "/opt/conda/lib/python3.9/site-packages/statsmodels/base/model.py:604: ConvergenceWarning: Maximum Likelihood optimization failed to converge. Check mle_retvals\n",
      "  warnings.warn(\"Maximum Likelihood optimization failed to \"\n",
      "/opt/conda/lib/python3.9/site-packages/statsmodels/base/model.py:604: ConvergenceWarning: Maximum Likelihood optimization failed to converge. Check mle_retvals\n",
      "  warnings.warn(\"Maximum Likelihood optimization failed to \"\n",
      "/opt/conda/lib/python3.9/site-packages/statsmodels/base/model.py:604: ConvergenceWarning: Maximum Likelihood optimization failed to converge. Check mle_retvals\n",
      "  warnings.warn(\"Maximum Likelihood optimization failed to \"\n",
      "/opt/conda/lib/python3.9/site-packages/statsmodels/base/model.py:604: ConvergenceWarning: Maximum Likelihood optimization failed to converge. Check mle_retvals\n",
      "  warnings.warn(\"Maximum Likelihood optimization failed to \"\n",
      "/opt/conda/lib/python3.9/site-packages/statsmodels/base/model.py:604: ConvergenceWarning: Maximum Likelihood optimization failed to converge. Check mle_retvals\n",
      "  warnings.warn(\"Maximum Likelihood optimization failed to \"\n",
      "/opt/conda/lib/python3.9/site-packages/statsmodels/base/model.py:604: ConvergenceWarning: Maximum Likelihood optimization failed to converge. Check mle_retvals\n",
      "  warnings.warn(\"Maximum Likelihood optimization failed to \"\n",
      "/opt/conda/lib/python3.9/site-packages/statsmodels/base/model.py:604: ConvergenceWarning: Maximum Likelihood optimization failed to converge. Check mle_retvals\n",
      "  warnings.warn(\"Maximum Likelihood optimization failed to \"\n",
      "/opt/conda/lib/python3.9/site-packages/statsmodels/base/model.py:604: ConvergenceWarning: Maximum Likelihood optimization failed to converge. Check mle_retvals\n",
      "  warnings.warn(\"Maximum Likelihood optimization failed to \"\n",
      "/opt/conda/lib/python3.9/site-packages/statsmodels/base/model.py:604: ConvergenceWarning: Maximum Likelihood optimization failed to converge. Check mle_retvals\n",
      "  warnings.warn(\"Maximum Likelihood optimization failed to \"\n",
      "/opt/conda/lib/python3.9/site-packages/statsmodels/base/model.py:604: ConvergenceWarning: Maximum Likelihood optimization failed to converge. Check mle_retvals\n",
      "  warnings.warn(\"Maximum Likelihood optimization failed to \"\n",
      "/opt/conda/lib/python3.9/site-packages/statsmodels/base/model.py:604: ConvergenceWarning: Maximum Likelihood optimization failed to converge. Check mle_retvals\n",
      "  warnings.warn(\"Maximum Likelihood optimization failed to \"\n",
      "/opt/conda/lib/python3.9/site-packages/statsmodels/base/model.py:604: ConvergenceWarning: Maximum Likelihood optimization failed to converge. Check mle_retvals\n",
      "  warnings.warn(\"Maximum Likelihood optimization failed to \"\n",
      "/opt/conda/lib/python3.9/site-packages/statsmodels/base/model.py:604: ConvergenceWarning: Maximum Likelihood optimization failed to converge. Check mle_retvals\n",
      "  warnings.warn(\"Maximum Likelihood optimization failed to \"\n",
      "/opt/conda/lib/python3.9/site-packages/statsmodels/base/model.py:604: ConvergenceWarning: Maximum Likelihood optimization failed to converge. Check mle_retvals\n",
      "  warnings.warn(\"Maximum Likelihood optimization failed to \"\n",
      "/opt/conda/lib/python3.9/site-packages/statsmodels/base/model.py:604: ConvergenceWarning: Maximum Likelihood optimization failed to converge. Check mle_retvals\n",
      "  warnings.warn(\"Maximum Likelihood optimization failed to \"\n",
      "/opt/conda/lib/python3.9/site-packages/statsmodels/base/model.py:604: ConvergenceWarning: Maximum Likelihood optimization failed to converge. Check mle_retvals\n",
      "  warnings.warn(\"Maximum Likelihood optimization failed to \"\n",
      "/opt/conda/lib/python3.9/site-packages/statsmodels/base/model.py:604: ConvergenceWarning: Maximum Likelihood optimization failed to converge. Check mle_retvals\n",
      "  warnings.warn(\"Maximum Likelihood optimization failed to \"\n",
      "/opt/conda/lib/python3.9/site-packages/statsmodels/base/model.py:604: ConvergenceWarning: Maximum Likelihood optimization failed to converge. Check mle_retvals\n",
      "  warnings.warn(\"Maximum Likelihood optimization failed to \"\n",
      "/opt/conda/lib/python3.9/site-packages/statsmodels/base/model.py:604: ConvergenceWarning: Maximum Likelihood optimization failed to converge. Check mle_retvals\n",
      "  warnings.warn(\"Maximum Likelihood optimization failed to \"\n",
      "/opt/conda/lib/python3.9/site-packages/statsmodels/base/model.py:604: ConvergenceWarning: Maximum Likelihood optimization failed to converge. Check mle_retvals\n",
      "  warnings.warn(\"Maximum Likelihood optimization failed to \"\n",
      "/opt/conda/lib/python3.9/site-packages/statsmodels/base/model.py:604: ConvergenceWarning: Maximum Likelihood optimization failed to converge. Check mle_retvals\n",
      "  warnings.warn(\"Maximum Likelihood optimization failed to \"\n",
      "/opt/conda/lib/python3.9/site-packages/statsmodels/base/model.py:604: ConvergenceWarning: Maximum Likelihood optimization failed to converge. Check mle_retvals\n",
      "  warnings.warn(\"Maximum Likelihood optimization failed to \"\n",
      "/opt/conda/lib/python3.9/site-packages/statsmodels/base/model.py:604: ConvergenceWarning: Maximum Likelihood optimization failed to converge. Check mle_retvals\n",
      "  warnings.warn(\"Maximum Likelihood optimization failed to \"\n",
      "/opt/conda/lib/python3.9/site-packages/statsmodels/base/model.py:604: ConvergenceWarning: Maximum Likelihood optimization failed to converge. Check mle_retvals\n",
      "  warnings.warn(\"Maximum Likelihood optimization failed to \"\n",
      "/opt/conda/lib/python3.9/site-packages/statsmodels/base/model.py:604: ConvergenceWarning: Maximum Likelihood optimization failed to converge. Check mle_retvals\n",
      "  warnings.warn(\"Maximum Likelihood optimization failed to \"\n",
      "/opt/conda/lib/python3.9/site-packages/statsmodels/base/model.py:604: ConvergenceWarning: Maximum Likelihood optimization failed to converge. Check mle_retvals\n",
      "  warnings.warn(\"Maximum Likelihood optimization failed to \"\n",
      "/opt/conda/lib/python3.9/site-packages/statsmodels/base/model.py:604: ConvergenceWarning: Maximum Likelihood optimization failed to converge. Check mle_retvals\n",
      "  warnings.warn(\"Maximum Likelihood optimization failed to \"\n",
      "/opt/conda/lib/python3.9/site-packages/statsmodels/base/model.py:604: ConvergenceWarning: Maximum Likelihood optimization failed to converge. Check mle_retvals\n",
      "  warnings.warn(\"Maximum Likelihood optimization failed to \"\n",
      "/opt/conda/lib/python3.9/site-packages/statsmodels/base/model.py:604: ConvergenceWarning: Maximum Likelihood optimization failed to converge. Check mle_retvals\n",
      "  warnings.warn(\"Maximum Likelihood optimization failed to \"\n",
      "/opt/conda/lib/python3.9/site-packages/statsmodels/base/model.py:604: ConvergenceWarning: Maximum Likelihood optimization failed to converge. Check mle_retvals\n",
      "  warnings.warn(\"Maximum Likelihood optimization failed to \"\n",
      "/opt/conda/lib/python3.9/site-packages/statsmodels/base/model.py:604: ConvergenceWarning: Maximum Likelihood optimization failed to converge. Check mle_retvals\n",
      "  warnings.warn(\"Maximum Likelihood optimization failed to \"\n",
      "/opt/conda/lib/python3.9/site-packages/statsmodels/base/model.py:604: ConvergenceWarning: Maximum Likelihood optimization failed to converge. Check mle_retvals\n",
      "  warnings.warn(\"Maximum Likelihood optimization failed to \"\n",
      "/opt/conda/lib/python3.9/site-packages/statsmodels/base/model.py:604: ConvergenceWarning: Maximum Likelihood optimization failed to converge. Check mle_retvals\n",
      "  warnings.warn(\"Maximum Likelihood optimization failed to \"\n",
      "/opt/conda/lib/python3.9/site-packages/statsmodels/base/model.py:604: ConvergenceWarning: Maximum Likelihood optimization failed to converge. Check mle_retvals\n",
      "  warnings.warn(\"Maximum Likelihood optimization failed to \"\n",
      "/opt/conda/lib/python3.9/site-packages/statsmodels/base/model.py:604: ConvergenceWarning: Maximum Likelihood optimization failed to converge. Check mle_retvals\n",
      "  warnings.warn(\"Maximum Likelihood optimization failed to \"\n",
      "/opt/conda/lib/python3.9/site-packages/statsmodels/base/model.py:604: ConvergenceWarning: Maximum Likelihood optimization failed to converge. Check mle_retvals\n",
      "  warnings.warn(\"Maximum Likelihood optimization failed to \"\n",
      "/opt/conda/lib/python3.9/site-packages/statsmodels/base/model.py:604: ConvergenceWarning: Maximum Likelihood optimization failed to converge. Check mle_retvals\n",
      "  warnings.warn(\"Maximum Likelihood optimization failed to \"\n",
      "/opt/conda/lib/python3.9/site-packages/statsmodels/base/model.py:604: ConvergenceWarning: Maximum Likelihood optimization failed to converge. Check mle_retvals\n",
      "  warnings.warn(\"Maximum Likelihood optimization failed to \"\n",
      "/opt/conda/lib/python3.9/site-packages/statsmodels/base/model.py:604: ConvergenceWarning: Maximum Likelihood optimization failed to converge. Check mle_retvals\n",
      "  warnings.warn(\"Maximum Likelihood optimization failed to \"\n",
      "/opt/conda/lib/python3.9/site-packages/statsmodels/base/model.py:604: ConvergenceWarning: Maximum Likelihood optimization failed to converge. Check mle_retvals\n",
      "  warnings.warn(\"Maximum Likelihood optimization failed to \"\n",
      "/opt/conda/lib/python3.9/site-packages/statsmodels/base/model.py:604: ConvergenceWarning: Maximum Likelihood optimization failed to converge. Check mle_retvals\n",
      "  warnings.warn(\"Maximum Likelihood optimization failed to \"\n",
      "/opt/conda/lib/python3.9/site-packages/statsmodels/base/model.py:604: ConvergenceWarning: Maximum Likelihood optimization failed to converge. Check mle_retvals\n",
      "  warnings.warn(\"Maximum Likelihood optimization failed to \"\n",
      "/opt/conda/lib/python3.9/site-packages/statsmodels/base/model.py:604: ConvergenceWarning: Maximum Likelihood optimization failed to converge. Check mle_retvals\n",
      "  warnings.warn(\"Maximum Likelihood optimization failed to \"\n",
      "/opt/conda/lib/python3.9/site-packages/statsmodels/base/model.py:604: ConvergenceWarning: Maximum Likelihood optimization failed to converge. Check mle_retvals\n",
      "  warnings.warn(\"Maximum Likelihood optimization failed to \"\n"
     ]
    }
   ],
   "source": [
    "# гиперпараметры\n",
    "p = [1, 2, 22, 23, 24]\n",
    "q = [1, 2, 23, 24, 25]\n",
    "d = [0, 1]\n",
    "\n",
    "# кросс-валидация для поиска лучших гиперпараметров\n",
    "best_rmse_arima = np.inf\n",
    "best_params = None\n",
    "tscv = TimeSeriesSplit(n_splits=10)  \n",
    "for params in itertools.product(p, d, q):\n",
    "    rmse_scores = []\n",
    "    for train_index, val_index in tscv.split(train_arma):\n",
    "        train_fold, val_fold = train_arma.iloc[train_index], train_arma.iloc[val_index]\n",
    "        model_cv = ARIMA(train_fold, order=params)\n",
    "        model_fit_cv = model_cv.fit()\n",
    "        predictions_cv = model_fit_cv.forecast(steps=len(val_fold))\n",
    "        rmse = np.sqrt(mean_squared_error(val_fold, predictions_cv))\n",
    "        rmse_scores.append(rmse)\n",
    "    avg_rmse = np.mean(rmse_scores)\n",
    "    if avg_rmse < best_rmse_arima:\n",
    "        best_rmse_arima = avg_rmse\n",
    "        best_params = params\n",
    "\n",
    "# Output the best hyperparameters and RMSE\n",
    "print(\"Best Hyperparameters (p, d, q):\", best_params)\n",
    "print(\"Best RMSE on Train Data:\", best_rmse_arima)"
   ]
  },
  {
   "cell_type": "markdown",
   "metadata": {},
   "source": [
    "Результат: \n",
    "Best Hyperparameters (p, d, q): (22, 1, 24)\n",
    "Best RMSE on Train Data: 29.668656407485873"
   ]
  },
  {
   "cell_type": "markdown",
   "metadata": {},
   "source": [
    "#### SARIMA"
   ]
  },
  {
   "cell_type": "markdown",
   "metadata": {},
   "source": [
    "**SARIMA (Seasonal Autoregressive Integrated Moving Average)**: расширение модели ARIMA для учета сезонности в данных временных рядов."
   ]
  },
  {
   "cell_type": "markdown",
   "metadata": {},
   "source": [
    "Параметры P, D, Q и S в модели SARIMAX:\n",
    "\n",
    "- P (Seasonal Autoregressive Order): Порядок сезонной авторегрессии, определяет влияние предыдущих сезонных значений на текущее.\n",
    "- D (Seasonal Differencing Order): Порядок сезонных разностей, указывает на количество разностей, применяемых к сезонной составляющей.\n",
    "- Q (Seasonal Moving Average Order): Порядок сезонного скользящего среднего, определяет влияние предыдущих ошибок прогнозирования на текущее значение.\n",
    "- S (Seasonal Periodicity): Период сезонности, обозначает длину сезонного цикла в данных (например, количество наблюдений в сезоне).\n",
    "\n",
    "Эти параметры важны для моделирования сезонных компонент временных рядов в модели SARIMAX. Они позволяют учесть сезонные колебания и поведение данных в определенные периоды, что помогает улучшить качество прогнозов."
   ]
  },
  {
   "cell_type": "code",
   "execution_count": null,
   "metadata": {},
   "outputs": [],
   "source": [
    "# заданные гиперпараметры\n",
    "p = 22\n",
    "d = 1\n",
    "q = 24\n",
    "seasonal_order = (0, 0, 0, 24)  # seasonal_order=(P, D, Q, S)\n",
    "\n",
    "# кросс-валидация для поиска лучшего значения параметра D\n",
    "best_rmse_sarima = np.inf\n",
    "best_D = None\n",
    "tscv = TimeSeriesSplit(n_splits=10)  \n",
    "\n",
    "for D in [0, 1]:\n",
    "    rmse_scores = []\n",
    "    for train_index, val_index in tscv.split(train_arma):\n",
    "        train_fold, val_fold = train_arma.iloc[train_index], train_arma.iloc[val_index]\n",
    "        model_cv = SARIMAX(train_fold, order=(p, d, q), seasonal_order=(0, D, 0, 24))\n",
    "        model_fit_cv = model_cv.fit()\n",
    "        predictions_cv = model_fit_cv.forecast(steps=len(val_fold))\n",
    "        rmse = np.sqrt(mean_squared_error(val_fold, predictions_cv))\n",
    "        rmse_scores.append(rmse)\n",
    "    avg_rmse = np.mean(rmse_scores)\n",
    "    if avg_rmse < best_rmse_sarima:\n",
    "        best_rmse_sarima = avg_rmse\n",
    "        best_D = D\n",
    "\n",
    "# Вывод лучшего значения параметра D и соответствующего RMSE\n",
    "print(\"Best D:\", best_D)\n",
    "print(\"Best RMSE on Train Data:\", best_rmse_sarima)"
   ]
  },
  {
   "cell_type": "markdown",
   "metadata": {},
   "source": [
    "Результат: \n",
    "Best D: 1\n",
    "Best RMSE on Train Data: 27.785634987501115"
   ]
  },
  {
   "cell_type": "markdown",
   "metadata": {},
   "source": [
    "#### Вывод"
   ]
  },
  {
   "cell_type": "code",
   "execution_count": null,
   "metadata": {},
   "outputs": [],
   "source": [
    "result_arima_data = pd.DataFrame({'index': ['arima', 'sarima'],\n",
    "                                  'params': ['order=(22, 1, 24)','order=(22, 1, 24), seasonal_order=(0, 1, 0, 24)'],\n",
    "                                  'train_score': [round(best_rmse_arima,3), round(best_rmse_sarima,3)]})\n",
    "result_arima_data.set_index('index', inplace=True)\n",
    "result_arima_data"
   ]
  },
  {
   "cell_type": "markdown",
   "metadata": {},
   "source": [
    "1. Произведен процесс подбора лучших гиперпараметров для модели ARIMA путем кросс-валидации. Были определены наборы значений для параметров p, d, q, после чего проведена кросс-валидация на тренировочной выборке с помощью TimeSeriesSplit.\n",
    "\n",
    "   Для каждой комбинации параметров были вычислены RMSE на валидационной выборке, и выбраны лучшие параметры, которые обеспечили минимальное среднее значение RMSE. В данном случае лучшими гиперпараметрами оказались (22, 1, 24), а соответствующее значение RMSE на тестовой выборке составило 29.67.\n",
    "\n",
    "3. Была выполнена кросс-валидация для поиска лучшего значения параметра D в модели SARIMA. После проведения вычислений, было определено, что наилучшим значением параметра D является 1. Это означает, что модель SARIMA с параметрами (p=22, d=1, q=24), с порядком сезонной разности D=1 и периодом сезонности S = 24, показала наилучший результат в прогнозировании на имеющихся данных."
   ]
  },
  {
   "cell_type": "markdown",
   "metadata": {},
   "source": [
    "### Pегрессионные модели"
   ]
  },
  {
   "cell_type": "markdown",
   "metadata": {},
   "source": [
    "#### Подготовка выборок"
   ]
  },
  {
   "cell_type": "code",
   "execution_count": null,
   "metadata": {},
   "outputs": [],
   "source": [
    "sample1 = data.copy()\n",
    "sample2 = data.copy()\n",
    "sample3 = data.copy()"
   ]
  },
  {
   "cell_type": "markdown",
   "metadata": {},
   "source": [
    "Будут подготовлены три набора данных. Каждый набор данных будет включать в себя информацию о дне , дне недели, месяце, скользящем среднем с окном 24 и лагированное значение, причем каждая выборка будет иметь различное значение лага в признаке: 6, 12 и 24."
   ]
  },
  {
   "cell_type": "code",
   "execution_count": null,
   "metadata": {},
   "outputs": [],
   "source": [
    "# Создание TimeSeriesSplit с разбиением тестовой выборки размером 10% от исходных данных\n",
    "tscv = TimeSeriesSplit(n_splits=10)"
   ]
  },
  {
   "cell_type": "markdown",
   "metadata": {},
   "source": [
    "**Создание Sample1**"
   ]
  },
  {
   "cell_type": "code",
   "execution_count": null,
   "metadata": {},
   "outputs": [],
   "source": [
    "sample1 = make_features(sample1, 6, 24)"
   ]
  },
  {
   "cell_type": "code",
   "execution_count": null,
   "metadata": {},
   "outputs": [],
   "source": [
    "X_train_1, y_train_1, X_test_1, y_test_1 = split_data(sample1)"
   ]
  },
  {
   "cell_type": "code",
   "execution_count": null,
   "metadata": {},
   "outputs": [],
   "source": [
    "display(X_train_1.head(), y_train_1.head())"
   ]
  },
  {
   "cell_type": "code",
   "execution_count": null,
   "metadata": {
    "scrolled": true
   },
   "outputs": [],
   "source": [
    "print(X_train_1.shape, X_test_1.shape)"
   ]
  },
  {
   "cell_type": "code",
   "execution_count": null,
   "metadata": {},
   "outputs": [],
   "source": [
    "columns_to_convert = ['dayofweek', 'hour']\n",
    "X_train_1[columns_to_convert] = X_train_1[columns_to_convert].astype('category')"
   ]
  },
  {
   "cell_type": "code",
   "execution_count": null,
   "metadata": {},
   "outputs": [],
   "source": [
    "X_train_1.info()"
   ]
  },
  {
   "cell_type": "code",
   "execution_count": null,
   "metadata": {},
   "outputs": [],
   "source": [
    "model = Ridge(random_state=12345)\n",
    "# pipeline для Ridge sample1\n",
    "pipeline_ridge_1 = make_pipeline(\n",
    "    column_transformer_ridge_1,\n",
    "    model)\n",
    "pipeline_ridge_1.named_steps"
   ]
  },
  {
   "cell_type": "markdown",
   "metadata": {},
   "source": [
    "**Создание Sample2**"
   ]
  },
  {
   "cell_type": "code",
   "execution_count": null,
   "metadata": {},
   "outputs": [],
   "source": [
    "sample2 = make_features(sample2, 12, 24)"
   ]
  },
  {
   "cell_type": "code",
   "execution_count": null,
   "metadata": {},
   "outputs": [],
   "source": [
    "X_train_2, y_train_2, X_test_2, y_test_2 = split_data(sample2)"
   ]
  },
  {
   "cell_type": "code",
   "execution_count": null,
   "metadata": {},
   "outputs": [],
   "source": [
    "display(X_train_2.head(), y_train_2.head())"
   ]
  },
  {
   "cell_type": "code",
   "execution_count": null,
   "metadata": {},
   "outputs": [],
   "source": [
    "print(X_train_2.shape, X_test_2.shape)"
   ]
  },
  {
   "cell_type": "code",
   "execution_count": null,
   "metadata": {},
   "outputs": [],
   "source": [
    "X_train_2[columns_to_convert] = X_train_2[columns_to_convert].astype('category')"
   ]
  },
  {
   "cell_type": "code",
   "execution_count": null,
   "metadata": {},
   "outputs": [],
   "source": [
    "X_train_2.info()"
   ]
  },
  {
   "cell_type": "markdown",
   "metadata": {},
   "source": [
    "**Создание Sample3**"
   ]
  },
  {
   "cell_type": "code",
   "execution_count": null,
   "metadata": {},
   "outputs": [],
   "source": [
    "sample3 = make_features(sample2, 24, 24)"
   ]
  },
  {
   "cell_type": "code",
   "execution_count": null,
   "metadata": {},
   "outputs": [],
   "source": [
    "X_train_3, y_train_3, X_test_3, y_test_3 = split_data(sample3)"
   ]
  },
  {
   "cell_type": "code",
   "execution_count": null,
   "metadata": {},
   "outputs": [],
   "source": [
    "display(X_train_3.head(), y_train_3.head())"
   ]
  },
  {
   "cell_type": "code",
   "execution_count": null,
   "metadata": {},
   "outputs": [],
   "source": [
    "print(X_train_3.shape, X_test_3.shape)"
   ]
  },
  {
   "cell_type": "code",
   "execution_count": null,
   "metadata": {},
   "outputs": [],
   "source": [
    "X_train_3[columns_to_convert] = X_train_3[columns_to_convert].astype('category')"
   ]
  },
  {
   "cell_type": "code",
   "execution_count": null,
   "metadata": {},
   "outputs": [],
   "source": [
    "X_train_3.info()"
   ]
  },
  {
   "cell_type": "markdown",
   "metadata": {},
   "source": [
    "#### Обучение Ridge"
   ]
  },
  {
   "cell_type": "markdown",
   "metadata": {},
   "source": [
    "Подбор гиперпараметров производится с помощью GridSearchCV.\n",
    "\n",
    "Параметр cv=tscv в методе GridSearchCV обозначает стратегию разбиения на фолды для кросс-валидации. В данном случае tscv представляет объект TimeSeriesSplit, который используется для разделения временных данных на фолды.\n",
    "\n",
    "TimeSeriesSplit разбивает временные данные последовательно на фолды, где каждый следующий фолд содержит данные с более поздним временем, чем предыдущие. Это важно для временных данных, где порядок наблюдений имеет значение, и обеспечивает корректную оценку модели на данных, схожих с теми, на которых она будет применяться в реальности.\n",
    "\n",
    "Использование TimeSeriesSplit в кросс-валидации помогает избежать утечки информации из будущего в прошлое, что является важным при работе с временными рядами."
   ]
  },
  {
   "cell_type": "code",
   "execution_count": null,
   "metadata": {},
   "outputs": [],
   "source": [
    "column_transformer = ColumnTransformer(\n",
    "    transformers=[\n",
    "        ('encoder', OneHotEncoder(drop='first', handle_unknown='ignore'), ['dayofweek', 'hour'])\n",
    "    ],\n",
    "    remainder='passthrough'\n",
    ")\n",
    "\n",
    "pipeline_ridge = Pipeline([\n",
    "    ('preprocessor', column_transformer),\n",
    "    ('model', Ridge())\n",
    "])"
   ]
  },
  {
   "cell_type": "markdown",
   "metadata": {},
   "source": [
    "**Ridge для Sample1**"
   ]
  },
  {
   "cell_type": "code",
   "execution_count": null,
   "metadata": {
    "scrolled": true
   },
   "outputs": [],
   "source": [
    "params = {\n",
    "    'model__alpha': [0.01, 0.001, 0.02],\n",
    "    'model__solver': ['auto', 'sparse_cg', 'sag', 'lsqr'],  \n",
    "    'model__max_iter': [100, 150, 200],\n",
    "    'model__fit_intercept': [True, False] \n",
    "}\n",
    "\n",
    "grid = GridSearchCV(\n",
    "    pipeline_ridge,\n",
    "    params,\n",
    "    cv=tscv,\n",
    "    error_score='raise',\n",
    "    scoring='neg_mean_absolute_error'\n",
    ")\n",
    "\n",
    "# Fit the model\n",
    "grid.fit(X_train_1, y_train_1)"
   ]
  },
  {
   "cell_type": "code",
   "execution_count": null,
   "metadata": {},
   "outputs": [],
   "source": [
    "print(\"Best Parameters: \", grid.best_params_)\n",
    "print(\"Best RMSE: \", -grid.best_score_)"
   ]
  },
  {
   "cell_type": "code",
   "execution_count": null,
   "metadata": {},
   "outputs": [],
   "source": [
    "param1 =  grid.best_params_\n",
    "train_score1 = round(-grid.best_score_,3)"
   ]
  },
  {
   "cell_type": "markdown",
   "metadata": {},
   "source": [
    "**Ridge для Sample2**"
   ]
  },
  {
   "cell_type": "code",
   "execution_count": null,
   "metadata": {},
   "outputs": [],
   "source": [
    "grid = GridSearchCV(\n",
    "    pipeline_ridge,\n",
    "    params,\n",
    "    cv=tscv,\n",
    "    error_score='raise',\n",
    "    scoring='neg_mean_absolute_error'\n",
    ")\n",
    "\n",
    "grid.fit(X_train_2, y_train_2)\n",
    "print(\"Best Parameters: \", grid.best_params_)\n",
    "print(\"Best RMSE: \", -grid.best_score_)"
   ]
  },
  {
   "cell_type": "code",
   "execution_count": null,
   "metadata": {},
   "outputs": [],
   "source": [
    "param2 =  grid.best_params_\n",
    "train_score2 = round(-grid.best_score_,3)"
   ]
  },
  {
   "cell_type": "markdown",
   "metadata": {},
   "source": [
    "**Ridge для Sample3**"
   ]
  },
  {
   "cell_type": "code",
   "execution_count": null,
   "metadata": {},
   "outputs": [],
   "source": [
    "grid = GridSearchCV(\n",
    "    pipeline_ridge,\n",
    "    params,\n",
    "    cv=tscv,\n",
    "    error_score='raise',\n",
    "    scoring='neg_mean_absolute_error'\n",
    ")\n",
    "\n",
    "grid.fit(X_train_3, y_train_3)\n",
    "print(\"Best Parameters: \", grid.best_params_)\n",
    "print(\"Best RMSE: \", -grid.best_score_)"
   ]
  },
  {
   "cell_type": "code",
   "execution_count": null,
   "metadata": {},
   "outputs": [],
   "source": [
    "param3 =  grid.best_params_\n",
    "train_score3 = round(-grid.best_score_,3)"
   ]
  },
  {
   "cell_type": "code",
   "execution_count": null,
   "metadata": {},
   "outputs": [],
   "source": [
    "pd.set_option('display.max_colwidth', None)\n",
    "result_ridge_data = result_data('ridge')\n",
    "print('Результат перебора гиперпараметров на разных наборах данных:')\n",
    "display(result_ridge_data)"
   ]
  },
  {
   "cell_type": "markdown",
   "metadata": {},
   "source": [
    "#### Обучение LGBMRegressor"
   ]
  },
  {
   "cell_type": "code",
   "execution_count": null,
   "metadata": {},
   "outputs": [],
   "source": [
    "lgbm = LGBMRegressor(random_state=12345)"
   ]
  },
  {
   "cell_type": "markdown",
   "metadata": {},
   "source": [
    "**LGBMRegressor для Sample1**"
   ]
  },
  {
   "cell_type": "code",
   "execution_count": null,
   "metadata": {},
   "outputs": [],
   "source": [
    "params = {'n_estimators': [75, 100, 125],\n",
    "          'learning_rate': [0.01, 0.15, 0.1],\n",
    "          'max_depth': [5, 6, 7]}\n",
    "\n",
    "grid = RandomizedSearchCV(\n",
    "    lgbm,\n",
    "    params,\n",
    "    n_iter=20,\n",
    "    cv=tscv,\n",
    "    verbose=3,\n",
    "    random_state=12345,\n",
    "    scoring='neg_root_mean_squared_error',\n",
    "    n_jobs=-1,\n",
    "    error_score='raise'\n",
    "   )\n",
    "\n",
    "grid.fit(X_train_1, y_train_1)\n",
    "print(\"Best Parameters: \", grid.best_params_)\n",
    "print(\"Best RMSE: \", -grid.best_score_)"
   ]
  },
  {
   "cell_type": "code",
   "execution_count": null,
   "metadata": {},
   "outputs": [],
   "source": [
    "param1 =  grid.best_params_\n",
    "train_score1 = round(-grid.best_score_,3)"
   ]
  },
  {
   "cell_type": "markdown",
   "metadata": {},
   "source": [
    "**LGBMRegressor для Sample2**"
   ]
  },
  {
   "cell_type": "code",
   "execution_count": null,
   "metadata": {},
   "outputs": [],
   "source": [
    "grid = RandomizedSearchCV(\n",
    "    lgbm,\n",
    "    params,\n",
    "    n_iter=20,\n",
    "    cv=tscv,\n",
    "    verbose=3,\n",
    "    random_state=12345,\n",
    "    scoring='neg_root_mean_squared_error',\n",
    "    n_jobs=-1,\n",
    "    error_score='raise'\n",
    "   )\n",
    "\n",
    "grid.fit(X_train_2, y_train_2)\n",
    "print(\"Best Parameters: \", grid.best_params_)\n",
    "print(\"Best RMSE: \", -grid.best_score_)"
   ]
  },
  {
   "cell_type": "code",
   "execution_count": null,
   "metadata": {},
   "outputs": [],
   "source": [
    "param2 =  grid.best_params_\n",
    "train_score2 = round(-grid.best_score_,3)"
   ]
  },
  {
   "cell_type": "markdown",
   "metadata": {},
   "source": [
    "**LGBMRegressor для Sample3**"
   ]
  },
  {
   "cell_type": "code",
   "execution_count": null,
   "metadata": {},
   "outputs": [],
   "source": [
    "grid = RandomizedSearchCV(\n",
    "    lgbm,\n",
    "    params,\n",
    "    n_iter=20,\n",
    "    cv=tscv,\n",
    "    verbose=3,\n",
    "    random_state=12345,\n",
    "    scoring='neg_root_mean_squared_error',\n",
    "    n_jobs=-1,\n",
    "    error_score='raise'\n",
    "   )\n",
    "\n",
    "grid.fit(X_train_3, y_train_3)\n",
    "print(\"Best Parameters: \", grid.best_params_)\n",
    "print(\"Best RMSE: \", -grid.best_score_)"
   ]
  },
  {
   "cell_type": "code",
   "execution_count": null,
   "metadata": {},
   "outputs": [],
   "source": [
    "param3 =  grid.best_params_\n",
    "train_score3 = round(-grid.best_score_,3)"
   ]
  },
  {
   "cell_type": "code",
   "execution_count": null,
   "metadata": {},
   "outputs": [],
   "source": [
    "result_lgbm_data = result_data('lgbm')"
   ]
  },
  {
   "cell_type": "code",
   "execution_count": null,
   "metadata": {},
   "outputs": [],
   "source": [
    "print('Результат перебора гиперпараметров на разных наборах данных:')\n",
    "result_lgbm_data"
   ]
  },
  {
   "cell_type": "markdown",
   "metadata": {},
   "source": [
    "#### Обучение CatBoostRegressor"
   ]
  },
  {
   "cell_type": "code",
   "execution_count": null,
   "metadata": {},
   "outputs": [],
   "source": [
    "cbr = CatBoostRegressor(random_state=12345, cat_features=['dayofweek', 'hour'], verbose=0)"
   ]
  },
  {
   "cell_type": "markdown",
   "metadata": {},
   "source": [
    "**CatBoostRegressor для Sample1**"
   ]
  },
  {
   "cell_type": "code",
   "execution_count": null,
   "metadata": {},
   "outputs": [],
   "source": [
    "params = {'iterations': [50, 100, 150],\n",
    "          'learning_rate': [0.01, 0.1, 0.15],\n",
    "          'depth': [5, 6, 7]}\n",
    "\n",
    "grid = RandomizedSearchCV(\n",
    "    cbr,\n",
    "    params,\n",
    "    n_iter=20,\n",
    "    cv=tscv,\n",
    "    verbose=3,\n",
    "    random_state=12345,\n",
    "    scoring='neg_root_mean_squared_error',\n",
    "    n_jobs=-1,\n",
    "    error_score='raise'\n",
    "   )\n",
    "\n",
    "grid.fit(X_train_1, y_train_1)\n",
    "print(\"Best Parameters: \", grid.best_params_)\n",
    "print(\"Best RMSE: \", -grid.best_score_)"
   ]
  },
  {
   "cell_type": "code",
   "execution_count": null,
   "metadata": {},
   "outputs": [],
   "source": [
    "param1 =  grid.best_params_\n",
    "train_score1 = round(-grid.best_score_,3)"
   ]
  },
  {
   "cell_type": "code",
   "execution_count": null,
   "metadata": {},
   "outputs": [],
   "source": [
    "**CatBoostRegressor для Sample2**"
   ]
  },
  {
   "cell_type": "code",
   "execution_count": null,
   "metadata": {},
   "outputs": [],
   "source": [
    "grid = RandomizedSearchCV(\n",
    "    cbr,\n",
    "    params,\n",
    "    n_iter=20,\n",
    "    cv=tscv,\n",
    "    verbose=3,\n",
    "    random_state=12345,\n",
    "    scoring='neg_root_mean_squared_error',\n",
    "    n_jobs=-1,\n",
    "    error_score='raise'\n",
    "   )\n",
    "\n",
    "grid.fit(X_train_2, y_train_2)\n",
    "print(\"Best Parameters: \", grid.best_params_)\n",
    "print(\"Best RMSE: \", -grid.best_score_)"
   ]
  },
  {
   "cell_type": "code",
   "execution_count": null,
   "metadata": {},
   "outputs": [],
   "source": [
    "param2 =  grid.best_params_\n",
    "train_score2 = round(-grid.best_score_,3)"
   ]
  },
  {
   "cell_type": "markdown",
   "metadata": {},
   "source": [
    "**CatBoostRegressor для Sample3**"
   ]
  },
  {
   "cell_type": "code",
   "execution_count": null,
   "metadata": {},
   "outputs": [],
   "source": [
    "grid = RandomizedSearchCV(\n",
    "    cbr,\n",
    "    params,\n",
    "    n_iter=20,\n",
    "    cv=tscv,\n",
    "    verbose=3,\n",
    "    random_state=12345,\n",
    "    scoring='neg_root_mean_squared_error',\n",
    "    n_jobs=-1,\n",
    "    error_score='raise'\n",
    "   )\n",
    "\n",
    "grid.fit(X_train_3, y_train_3)\n",
    "print(\"Best Parameters: \", grid.best_params_)\n",
    "print(\"Best RMSE: \", -grid.best_score_)"
   ]
  },
  {
   "cell_type": "code",
   "execution_count": null,
   "metadata": {},
   "outputs": [],
   "source": [
    "param3 =  grid.best_params_\n",
    "train_score3 = round(-grid.best_score_,3)"
   ]
  },
  {
   "cell_type": "code",
   "execution_count": null,
   "metadata": {},
   "outputs": [],
   "source": [
    "result_cbr_data = result_data('cbr')\n",
    "print('Результат перебора гиперпараметров на разных наборах данных:')\n",
    "result_cbr_data"
   ]
  },
  {
   "cell_type": "markdown",
   "metadata": {},
   "source": [
    "## Анализ регрессионных моделей"
   ]
  },
  {
   "cell_type": "code",
   "execution_count": null,
   "metadata": {},
   "outputs": [],
   "source": [
    "#Объединение таблиц с результатами расчета моделей\n",
    "final_result = pd.concat([result_prophet_data,\n",
    "                          result_arima_data,\n",
    "                          result_ridge_data,\n",
    "                          result_lgbm_data,\n",
    "                          result_cbr_data], axis=0)\n",
    "final_result.sort_values(by=['train_score'],ascending=[True])"
   ]
  },
  {
   "cell_type": "markdown",
   "metadata": {},
   "source": [
    "Лучшая модель Ridge с параметрами: \n",
    "- 'model__alpha': 0.02,\n",
    "- 'model__fit_intercept': True,\n",
    "- 'model__max_iter': 100,\n",
    "- 'model__solver': 'sparse_cg'\n",
    "- Выборка третья"
   ]
  },
  {
   "cell_type": "markdown",
   "metadata": {},
   "source": [
    "## Тестирование. Вывод"
   ]
  },
  {
   "cell_type": "markdown",
   "metadata": {},
   "source": [
    "### Тестирование"
   ]
  },
  {
   "cell_type": "code",
   "execution_count": null,
   "metadata": {},
   "outputs": [],
   "source": [
    "#обучаю лучшую регрессионную модель \n",
    "best_model = Ridge(\n",
    "    alpha = 0.02,\n",
    "    fit_intercept = True,\n",
    "    max_iter = 100,\n",
    "    solver = 'sparse_cg', \n",
    "    random_state=12345\n",
    ")\n",
    "\n",
    "best_model.fit(X_train_3, y_train_3)"
   ]
  },
  {
   "cell_type": "code",
   "execution_count": null,
   "metadata": {},
   "outputs": [],
   "source": [
    "#Предсказания для лучшей регрессионной модели\n",
    "y_pred = best_model.predict(X_test_3)\n",
    "print('RMSE: {:.3f}\\n'.format(rmse_score(y_test_3, y_pred)))\n",
    "\n",
    "# Создание и \"обучение\" модели lag_1\n",
    "y_pred_dummy = np.roll(y_test_3, 1)\n",
    "y_pred_dummy[0] = y_train_3.iloc[-1] \n",
    "\n",
    "# Сравнение качества лучшей модели с константной моделью\n",
    "rmse_best_model = rmse_score(y_test_3, y_pred)\n",
    "rmse_dummy_model = rmse_score(y_test_3, y_pred_dummy)\n",
    "\n",
    "if rmse_best_model < rmse_dummy_model:\n",
    "    print(\"Лучшая регрессионная модель прошла проверку на адекватность\")\n",
    "else:\n",
    "    print(\"Лучшая регрессионная модель не прошла проверку на адекватность\")"
   ]
  },
  {
   "cell_type": "code",
   "execution_count": null,
   "metadata": {},
   "outputs": [],
   "source": [
    "title= \"Сравнение фактических значений и прогнозов для тестового набора данных с использованием Ridge\"\n",
    "y_test_3.plot(figsize=(12,5), title= title, legend=True);\n",
    "pd.Series(y_pred, index=y_test_3.index).plot(legend=True)\n",
    "pass"
   ]
  },
  {
   "cell_type": "markdown",
   "metadata": {},
   "source": [
    "График показывает, что модель в целом адекватно воспроизводит амплитуду колебаний значений, однако имеются исключения в виде периодов с резкими скачками."
   ]
  },
  {
   "cell_type": "markdown",
   "metadata": {},
   "source": [
    "### Общий вывод"
   ]
  },
  {
   "cell_type": "code",
   "execution_count": null,
   "metadata": {},
   "outputs": [],
   "source": [
    "final_result"
   ]
  },
  {
   "cell_type": "markdown",
   "metadata": {},
   "source": [
    "**Среди регрессионных моделей с различными методами обучения (Ridge, LGBMRegressor, CatBoostRegressor), лучший результат при подборе гиперпараметров на тренировочной выбрке получила модель Ridge с параметрами:**\n",
    "- alpha = 0.02,\n",
    "- fit_intercept = True,\n",
    "- max_iter = 100,\n",
    "- solver = 'sparse_cg', \n",
    "- random_state=12345\n",
    "\n",
    "**Для обучения использовалась выборка, содержащая информацию о часе, дне недели, скользящем среднем с окном 24 и лагированное значение, равное 24.**\n",
    "\n",
    "**Также были исследованы модели Prophet, ARIMA и SARIMA, специализированные на прогнозировании временных рядов. Для модели ARIMA были изучены различные комбинации параметров p, d и q с целью найти лучшую модель с наименьшим значением AIC. При создании модели SARIMA использовались лучшие параметры ARIMA. Была выполнена кросс-валидация для поиска лучшего значения параметра D, было определено, что наилучшим значением параметра D является 1. Период сезонности S = 24**\n",
    "\n",
    "**По итогу проекта, модель показавшая лучший результат - это линейная модель Ridge**"
   ]
  },
  {
   "cell_type": "code",
   "execution_count": null,
   "metadata": {},
   "outputs": [],
   "source": []
  }
 ],
 "metadata": {
  "ExecuteTimeLog": [
   {
    "duration": 7234,
    "start_time": "2024-05-13T12:17:12.554Z"
   },
   {
    "duration": 1870,
    "start_time": "2024-05-13T12:17:19.791Z"
   },
   {
    "duration": 0,
    "start_time": "2024-05-13T12:17:21.672Z"
   },
   {
    "duration": 0,
    "start_time": "2024-05-13T12:17:21.678Z"
   },
   {
    "duration": 0,
    "start_time": "2024-05-13T12:17:21.680Z"
   },
   {
    "duration": 12581,
    "start_time": "2024-05-13T12:18:02.204Z"
   },
   {
    "duration": 25,
    "start_time": "2024-05-13T12:18:16.998Z"
   },
   {
    "duration": 8039,
    "start_time": "2024-05-13T12:18:30.155Z"
   },
   {
    "duration": 1819,
    "start_time": "2024-05-13T12:18:38.197Z"
   },
   {
    "duration": 3,
    "start_time": "2024-05-13T12:18:40.018Z"
   },
   {
    "duration": 172,
    "start_time": "2024-05-13T12:18:40.030Z"
   },
   {
    "duration": 0,
    "start_time": "2024-05-13T12:18:40.204Z"
   },
   {
    "duration": 48,
    "start_time": "2024-05-13T12:19:25.749Z"
   },
   {
    "duration": 52,
    "start_time": "2024-05-13T12:19:34.766Z"
   },
   {
    "duration": 96,
    "start_time": "2024-05-13T12:19:54.078Z"
   },
   {
    "duration": 45,
    "start_time": "2024-05-13T12:20:01.895Z"
   },
   {
    "duration": 18,
    "start_time": "2024-05-13T12:20:03.890Z"
   },
   {
    "duration": 19,
    "start_time": "2024-05-13T12:20:20.863Z"
   },
   {
    "duration": 14,
    "start_time": "2024-05-13T12:20:34.653Z"
   },
   {
    "duration": 46,
    "start_time": "2024-05-13T12:27:47.959Z"
   },
   {
    "duration": 19,
    "start_time": "2024-05-13T12:28:44.115Z"
   },
   {
    "duration": 25,
    "start_time": "2024-05-13T12:29:00.229Z"
   },
   {
    "duration": 8072,
    "start_time": "2024-05-13T12:35:43.615Z"
   },
   {
    "duration": 1503,
    "start_time": "2024-05-13T12:35:51.690Z"
   },
   {
    "duration": 4,
    "start_time": "2024-05-13T12:35:53.196Z"
   },
   {
    "duration": 51,
    "start_time": "2024-05-13T12:35:53.202Z"
   },
   {
    "duration": 22,
    "start_time": "2024-05-13T12:35:53.255Z"
   },
   {
    "duration": 151,
    "start_time": "2024-05-13T12:35:53.279Z"
   },
   {
    "duration": 21,
    "start_time": "2024-05-13T12:39:14.698Z"
   },
   {
    "duration": 4,
    "start_time": "2024-05-13T12:39:39.674Z"
   },
   {
    "duration": 11,
    "start_time": "2024-05-13T12:40:06.201Z"
   },
   {
    "duration": 389,
    "start_time": "2024-05-13T12:40:51.151Z"
   },
   {
    "duration": 4,
    "start_time": "2024-05-13T12:46:24.526Z"
   },
   {
    "duration": 31,
    "start_time": "2024-05-13T12:46:31.119Z"
   },
   {
    "duration": 8212,
    "start_time": "2024-05-13T12:46:40.575Z"
   },
   {
    "duration": 1504,
    "start_time": "2024-05-13T12:46:48.790Z"
   },
   {
    "duration": 4,
    "start_time": "2024-05-13T12:46:50.295Z"
   },
   {
    "duration": 149,
    "start_time": "2024-05-13T12:46:50.301Z"
   },
   {
    "duration": 187,
    "start_time": "2024-05-13T12:46:50.452Z"
   },
   {
    "duration": 0,
    "start_time": "2024-05-13T12:46:50.642Z"
   },
   {
    "duration": 0,
    "start_time": "2024-05-13T12:46:50.643Z"
   },
   {
    "duration": 0,
    "start_time": "2024-05-13T12:46:50.644Z"
   },
   {
    "duration": 1,
    "start_time": "2024-05-13T12:46:50.645Z"
   },
   {
    "duration": 5,
    "start_time": "2024-05-13T13:16:05.048Z"
   },
   {
    "duration": 25,
    "start_time": "2024-05-13T13:16:07.817Z"
   },
   {
    "duration": 12,
    "start_time": "2024-05-13T13:18:10.829Z"
   },
   {
    "duration": 4,
    "start_time": "2024-05-13T13:18:14.567Z"
   },
   {
    "duration": 11,
    "start_time": "2024-05-13T13:18:18.193Z"
   },
   {
    "duration": 417,
    "start_time": "2024-05-13T13:21:14.456Z"
   },
   {
    "duration": 359,
    "start_time": "2024-05-13T13:21:23.873Z"
   },
   {
    "duration": 311,
    "start_time": "2024-05-13T13:27:12.830Z"
   },
   {
    "duration": 53,
    "start_time": "2024-05-14T14:28:04.566Z"
   },
   {
    "duration": 14262,
    "start_time": "2024-05-14T14:28:09.487Z"
   },
   {
    "duration": 1712,
    "start_time": "2024-05-14T14:28:23.751Z"
   },
   {
    "duration": 5,
    "start_time": "2024-05-14T14:28:25.465Z"
   },
   {
    "duration": 201,
    "start_time": "2024-05-14T14:28:25.472Z"
   },
   {
    "duration": 40,
    "start_time": "2024-05-14T14:28:25.676Z"
   },
   {
    "duration": 11,
    "start_time": "2024-05-14T14:28:25.718Z"
   },
   {
    "duration": 41,
    "start_time": "2024-05-14T14:28:25.731Z"
   },
   {
    "duration": 37,
    "start_time": "2024-05-14T14:28:25.774Z"
   },
   {
    "duration": 358,
    "start_time": "2024-05-14T14:28:25.813Z"
   },
   {
    "duration": 195,
    "start_time": "2024-05-14T14:36:40.435Z"
   },
   {
    "duration": 284,
    "start_time": "2024-05-14T14:36:52.151Z"
   },
   {
    "duration": 186,
    "start_time": "2024-05-14T14:36:58.319Z"
   },
   {
    "duration": 183,
    "start_time": "2024-05-14T14:37:06.540Z"
   },
   {
    "duration": 331,
    "start_time": "2024-05-14T14:41:15.028Z"
   },
   {
    "duration": 286,
    "start_time": "2024-05-14T14:41:58.113Z"
   },
   {
    "duration": 186,
    "start_time": "2024-05-14T14:42:56.320Z"
   },
   {
    "duration": 287,
    "start_time": "2024-05-14T14:43:29.810Z"
   },
   {
    "duration": 271,
    "start_time": "2024-05-14T14:44:31.720Z"
   },
   {
    "duration": 297,
    "start_time": "2024-05-14T14:44:48.319Z"
   },
   {
    "duration": 256,
    "start_time": "2024-05-14T14:45:29.774Z"
   },
   {
    "duration": 449,
    "start_time": "2024-05-14T14:49:18.409Z"
   },
   {
    "duration": 333,
    "start_time": "2024-05-14T14:50:18.373Z"
   },
   {
    "duration": 176,
    "start_time": "2024-05-14T14:51:37.811Z"
   },
   {
    "duration": 262,
    "start_time": "2024-05-14T14:59:50.403Z"
   },
   {
    "duration": 21,
    "start_time": "2024-05-14T15:02:06.501Z"
   },
   {
    "duration": 323,
    "start_time": "2024-05-14T15:02:15.179Z"
   },
   {
    "duration": 252,
    "start_time": "2024-05-14T15:02:55.772Z"
   },
   {
    "duration": 254,
    "start_time": "2024-05-14T15:03:31.643Z"
   },
   {
    "duration": 261,
    "start_time": "2024-05-14T15:03:44.290Z"
   },
   {
    "duration": 275,
    "start_time": "2024-05-14T15:06:07.305Z"
   },
   {
    "duration": 295,
    "start_time": "2024-05-14T15:08:19.928Z"
   },
   {
    "duration": 288,
    "start_time": "2024-05-14T15:10:00.672Z"
   },
   {
    "duration": 24,
    "start_time": "2024-05-14T15:39:22.138Z"
   },
   {
    "duration": 399,
    "start_time": "2024-05-14T15:39:29.063Z"
   },
   {
    "duration": 270,
    "start_time": "2024-05-14T15:40:22.967Z"
   },
   {
    "duration": 460,
    "start_time": "2024-05-14T15:48:06.977Z"
   },
   {
    "duration": 397,
    "start_time": "2024-05-14T15:48:38.243Z"
   },
   {
    "duration": 482,
    "start_time": "2024-05-14T15:48:57.147Z"
   },
   {
    "duration": 23,
    "start_time": "2024-05-14T15:49:46.142Z"
   },
   {
    "duration": 561,
    "start_time": "2024-05-14T15:49:57.759Z"
   },
   {
    "duration": 512,
    "start_time": "2024-05-14T15:50:05.381Z"
   },
   {
    "duration": 449,
    "start_time": "2024-05-14T15:50:52.959Z"
   },
   {
    "duration": 657,
    "start_time": "2024-05-14T15:53:44.753Z"
   },
   {
    "duration": 666,
    "start_time": "2024-05-14T15:54:00.277Z"
   },
   {
    "duration": 342,
    "start_time": "2024-05-14T15:54:26.561Z"
   },
   {
    "duration": 561,
    "start_time": "2024-05-14T15:55:17.643Z"
   },
   {
    "duration": 338,
    "start_time": "2024-05-14T15:55:46.200Z"
   },
   {
    "duration": 624,
    "start_time": "2024-05-14T15:56:05.342Z"
   },
   {
    "duration": 397,
    "start_time": "2024-05-14T15:56:31.239Z"
   },
   {
    "duration": 455,
    "start_time": "2024-05-14T15:56:46.653Z"
   },
   {
    "duration": 480,
    "start_time": "2024-05-14T15:56:57.212Z"
   },
   {
    "duration": 470,
    "start_time": "2024-05-14T15:57:26.455Z"
   },
   {
    "duration": 595,
    "start_time": "2024-05-14T15:58:05.595Z"
   },
   {
    "duration": 376,
    "start_time": "2024-05-14T15:58:18.759Z"
   },
   {
    "duration": 381,
    "start_time": "2024-05-14T15:58:38.278Z"
   },
   {
    "duration": 504,
    "start_time": "2024-05-14T16:01:37.891Z"
   },
   {
    "duration": 321,
    "start_time": "2024-05-14T16:02:27.696Z"
   },
   {
    "duration": 465,
    "start_time": "2024-05-14T16:03:37.644Z"
   },
   {
    "duration": 325,
    "start_time": "2024-05-14T16:04:14.311Z"
   },
   {
    "duration": 333,
    "start_time": "2024-05-14T16:04:19.475Z"
   },
   {
    "duration": 262,
    "start_time": "2024-05-14T16:05:25.655Z"
   },
   {
    "duration": 328,
    "start_time": "2024-05-14T16:05:42.198Z"
   },
   {
    "duration": 333,
    "start_time": "2024-05-14T16:05:49.794Z"
   },
   {
    "duration": 496,
    "start_time": "2024-05-14T16:06:00.042Z"
   },
   {
    "duration": 336,
    "start_time": "2024-05-14T16:06:07.703Z"
   },
   {
    "duration": 279,
    "start_time": "2024-05-14T16:08:04.562Z"
   },
   {
    "duration": 238,
    "start_time": "2024-05-14T16:08:17.367Z"
   },
   {
    "duration": 355,
    "start_time": "2024-05-14T16:11:10.761Z"
   },
   {
    "duration": 303,
    "start_time": "2024-05-14T16:11:59.175Z"
   },
   {
    "duration": 21,
    "start_time": "2024-05-14T16:12:35.114Z"
   },
   {
    "duration": 18,
    "start_time": "2024-05-14T16:12:40.531Z"
   },
   {
    "duration": 19,
    "start_time": "2024-05-14T16:14:24.600Z"
   },
   {
    "duration": 312,
    "start_time": "2024-05-14T16:14:45.876Z"
   },
   {
    "duration": 271,
    "start_time": "2024-05-14T16:15:24.797Z"
   },
   {
    "duration": 263,
    "start_time": "2024-05-14T16:15:40.254Z"
   },
   {
    "duration": 18,
    "start_time": "2024-05-14T16:16:53.613Z"
   },
   {
    "duration": 7662,
    "start_time": "2024-05-14T16:17:09.400Z"
   },
   {
    "duration": 1459,
    "start_time": "2024-05-14T16:17:17.064Z"
   },
   {
    "duration": 3,
    "start_time": "2024-05-14T16:17:18.525Z"
   },
   {
    "duration": 63,
    "start_time": "2024-05-14T16:17:18.530Z"
   },
   {
    "duration": 31,
    "start_time": "2024-05-14T16:17:18.595Z"
   },
   {
    "duration": 11,
    "start_time": "2024-05-14T16:17:18.627Z"
   },
   {
    "duration": 19,
    "start_time": "2024-05-14T16:17:18.639Z"
   },
   {
    "duration": 23,
    "start_time": "2024-05-14T16:17:18.660Z"
   },
   {
    "duration": 346,
    "start_time": "2024-05-14T16:17:18.685Z"
   },
   {
    "duration": 437,
    "start_time": "2024-05-14T16:17:19.035Z"
   },
   {
    "duration": 142,
    "start_time": "2024-05-14T16:17:19.474Z"
   },
   {
    "duration": 0,
    "start_time": "2024-05-14T16:17:19.618Z"
   },
   {
    "duration": 0,
    "start_time": "2024-05-14T16:17:19.620Z"
   },
   {
    "duration": 19,
    "start_time": "2024-05-14T16:17:44.090Z"
   },
   {
    "duration": 20,
    "start_time": "2024-05-14T16:18:03.036Z"
   },
   {
    "duration": 240,
    "start_time": "2024-05-14T16:18:23.507Z"
   },
   {
    "duration": 258,
    "start_time": "2024-05-14T16:18:45.441Z"
   },
   {
    "duration": 347,
    "start_time": "2024-05-14T16:21:43.859Z"
   },
   {
    "duration": 524,
    "start_time": "2024-05-14T16:23:27.816Z"
   },
   {
    "duration": 717,
    "start_time": "2024-05-14T16:23:48.000Z"
   },
   {
    "duration": 248,
    "start_time": "2024-05-14T16:25:10.231Z"
   },
   {
    "duration": 280,
    "start_time": "2024-05-14T16:26:18.973Z"
   },
   {
    "duration": 283,
    "start_time": "2024-05-14T16:27:02.176Z"
   },
   {
    "duration": 291,
    "start_time": "2024-05-14T16:28:51.780Z"
   },
   {
    "duration": 351,
    "start_time": "2024-05-14T16:29:01.858Z"
   },
   {
    "duration": 284,
    "start_time": "2024-05-14T16:29:10.700Z"
   },
   {
    "duration": 284,
    "start_time": "2024-05-14T16:30:12.368Z"
   },
   {
    "duration": 737,
    "start_time": "2024-05-14T16:31:14.165Z"
   },
   {
    "duration": 618,
    "start_time": "2024-05-14T16:32:36.272Z"
   },
   {
    "duration": 19,
    "start_time": "2024-05-14T16:33:44.589Z"
   },
   {
    "duration": 15,
    "start_time": "2024-05-14T16:33:58.841Z"
   },
   {
    "duration": 257,
    "start_time": "2024-05-14T16:34:05.197Z"
   },
   {
    "duration": 7648,
    "start_time": "2024-05-14T16:35:48.511Z"
   },
   {
    "duration": 1398,
    "start_time": "2024-05-14T16:35:56.161Z"
   },
   {
    "duration": 4,
    "start_time": "2024-05-14T16:35:57.561Z"
   },
   {
    "duration": 97,
    "start_time": "2024-05-14T16:35:57.567Z"
   },
   {
    "duration": 64,
    "start_time": "2024-05-14T16:35:57.667Z"
   },
   {
    "duration": 11,
    "start_time": "2024-05-14T16:35:57.733Z"
   },
   {
    "duration": 16,
    "start_time": "2024-05-14T16:35:57.745Z"
   },
   {
    "duration": 32,
    "start_time": "2024-05-14T16:35:57.762Z"
   },
   {
    "duration": 299,
    "start_time": "2024-05-14T16:35:57.796Z"
   },
   {
    "duration": 400,
    "start_time": "2024-05-14T16:35:58.097Z"
   },
   {
    "duration": 264,
    "start_time": "2024-05-14T16:35:58.498Z"
   },
   {
    "duration": 643,
    "start_time": "2024-05-14T16:35:58.763Z"
   },
   {
    "duration": 270,
    "start_time": "2024-05-14T16:35:59.407Z"
   },
   {
    "duration": 229,
    "start_time": "2024-05-14T16:37:28.285Z"
   },
   {
    "duration": 14439,
    "start_time": "2024-05-15T13:21:20.585Z"
   },
   {
    "duration": 1532,
    "start_time": "2024-05-15T13:21:35.027Z"
   },
   {
    "duration": 4,
    "start_time": "2024-05-15T13:21:36.560Z"
   },
   {
    "duration": 191,
    "start_time": "2024-05-15T13:21:36.566Z"
   },
   {
    "duration": 28,
    "start_time": "2024-05-15T13:21:36.758Z"
   },
   {
    "duration": 9,
    "start_time": "2024-05-15T13:21:36.788Z"
   },
   {
    "duration": 20,
    "start_time": "2024-05-15T13:21:36.798Z"
   },
   {
    "duration": 31,
    "start_time": "2024-05-15T13:21:36.819Z"
   },
   {
    "duration": 311,
    "start_time": "2024-05-15T13:21:36.851Z"
   },
   {
    "duration": 422,
    "start_time": "2024-05-15T13:21:37.164Z"
   },
   {
    "duration": 281,
    "start_time": "2024-05-15T13:21:37.588Z"
   },
   {
    "duration": 666,
    "start_time": "2024-05-15T13:21:37.871Z"
   },
   {
    "duration": 261,
    "start_time": "2024-05-15T13:21:38.539Z"
   },
   {
    "duration": 9,
    "start_time": "2024-05-15T13:28:47.198Z"
   },
   {
    "duration": 1374,
    "start_time": "2024-05-15T13:29:12.495Z"
   },
   {
    "duration": 14,
    "start_time": "2024-05-15T13:29:46.900Z"
   },
   {
    "duration": 4,
    "start_time": "2024-05-15T13:32:32.681Z"
   },
   {
    "duration": 9,
    "start_time": "2024-05-15T13:34:29.984Z"
   },
   {
    "duration": 4,
    "start_time": "2024-05-15T13:34:59.893Z"
   },
   {
    "duration": 13,
    "start_time": "2024-05-15T13:41:04.781Z"
   },
   {
    "duration": 5,
    "start_time": "2024-05-15T13:41:10.330Z"
   },
   {
    "duration": 177937,
    "start_time": "2024-05-15T13:41:14.355Z"
   },
   {
    "duration": 7373,
    "start_time": "2024-05-15T13:45:03.564Z"
   },
   {
    "duration": 1350,
    "start_time": "2024-05-15T13:45:10.940Z"
   },
   {
    "duration": 3,
    "start_time": "2024-05-15T13:45:12.292Z"
   },
   {
    "duration": 91,
    "start_time": "2024-05-15T13:45:12.296Z"
   },
   {
    "duration": 44,
    "start_time": "2024-05-15T13:45:12.389Z"
   },
   {
    "duration": 18,
    "start_time": "2024-05-15T13:45:12.435Z"
   },
   {
    "duration": 57,
    "start_time": "2024-05-15T13:45:12.454Z"
   },
   {
    "duration": 50,
    "start_time": "2024-05-15T13:45:12.512Z"
   },
   {
    "duration": 342,
    "start_time": "2024-05-15T13:45:12.564Z"
   },
   {
    "duration": 425,
    "start_time": "2024-05-15T13:45:12.908Z"
   },
   {
    "duration": 250,
    "start_time": "2024-05-15T13:45:13.335Z"
   },
   {
    "duration": 683,
    "start_time": "2024-05-15T13:45:13.586Z"
   },
   {
    "duration": 275,
    "start_time": "2024-05-15T13:45:14.271Z"
   },
   {
    "duration": 10,
    "start_time": "2024-05-15T13:45:14.549Z"
   },
   {
    "duration": 31,
    "start_time": "2024-05-15T13:45:14.560Z"
   },
   {
    "duration": 42,
    "start_time": "2024-05-15T13:45:14.592Z"
   },
   {
    "duration": 151499,
    "start_time": "2024-05-15T13:45:14.635Z"
   },
   {
    "duration": 175908,
    "start_time": "2024-05-15T13:47:50.129Z"
   },
   {
    "duration": 5,
    "start_time": "2024-05-15T13:53:28.405Z"
   },
   {
    "duration": 63,
    "start_time": "2024-05-15T13:53:40.777Z"
   },
   {
    "duration": 57,
    "start_time": "2024-05-15T13:55:10.476Z"
   },
   {
    "duration": 69893,
    "start_time": "2024-05-15T13:55:21.981Z"
   },
   {
    "duration": 55,
    "start_time": "2024-05-15T13:56:31.876Z"
   },
   {
    "duration": 71054,
    "start_time": "2024-05-15T13:56:45.531Z"
   },
   {
    "duration": 109844,
    "start_time": "2024-05-15T14:00:49.882Z"
   },
   {
    "duration": 27,
    "start_time": "2024-05-15T14:04:35.123Z"
   },
   {
    "duration": 10,
    "start_time": "2024-05-15T14:09:50.279Z"
   },
   {
    "duration": 5,
    "start_time": "2024-05-15T14:10:02.603Z"
   },
   {
    "duration": 5,
    "start_time": "2024-05-15T14:12:11.337Z"
   },
   {
    "duration": 11,
    "start_time": "2024-05-15T14:12:19.262Z"
   },
   {
    "duration": 26,
    "start_time": "2024-05-15T14:12:40.722Z"
   },
   {
    "duration": 13,
    "start_time": "2024-05-15T14:14:01.557Z"
   },
   {
    "duration": 14,
    "start_time": "2024-05-15T14:14:40.762Z"
   },
   {
    "duration": 13,
    "start_time": "2024-05-15T14:14:51.723Z"
   },
   {
    "duration": 8,
    "start_time": "2024-05-15T14:14:59.661Z"
   },
   {
    "duration": 7175,
    "start_time": "2024-05-15T14:16:33.287Z"
   },
   {
    "duration": 1423,
    "start_time": "2024-05-15T14:16:40.464Z"
   },
   {
    "duration": 3,
    "start_time": "2024-05-15T14:16:41.889Z"
   },
   {
    "duration": 82,
    "start_time": "2024-05-15T14:16:41.894Z"
   },
   {
    "duration": 33,
    "start_time": "2024-05-15T14:16:41.977Z"
   },
   {
    "duration": 33,
    "start_time": "2024-05-15T14:16:42.012Z"
   },
   {
    "duration": 25,
    "start_time": "2024-05-15T14:16:42.047Z"
   },
   {
    "duration": 22,
    "start_time": "2024-05-15T14:16:42.074Z"
   },
   {
    "duration": 321,
    "start_time": "2024-05-15T14:16:42.097Z"
   },
   {
    "duration": 405,
    "start_time": "2024-05-15T14:16:42.421Z"
   },
   {
    "duration": 228,
    "start_time": "2024-05-15T14:16:42.828Z"
   },
   {
    "duration": 691,
    "start_time": "2024-05-15T14:16:43.058Z"
   },
   {
    "duration": 303,
    "start_time": "2024-05-15T14:16:43.751Z"
   },
   {
    "duration": 11,
    "start_time": "2024-05-15T14:16:44.055Z"
   },
   {
    "duration": 37,
    "start_time": "2024-05-15T14:16:44.067Z"
   },
   {
    "duration": 29,
    "start_time": "2024-05-15T14:16:44.106Z"
   },
   {
    "duration": 19,
    "start_time": "2024-05-15T14:16:44.137Z"
   },
   {
    "duration": 16,
    "start_time": "2024-05-15T14:16:44.158Z"
   },
   {
    "duration": 32,
    "start_time": "2024-05-15T14:16:44.175Z"
   },
   {
    "duration": 63,
    "start_time": "2024-05-15T14:16:44.209Z"
   },
   {
    "duration": 286,
    "start_time": "2024-05-15T14:16:44.274Z"
   },
   {
    "duration": 963,
    "start_time": "2024-05-15T14:18:55.983Z"
   },
   {
    "duration": 989,
    "start_time": "2024-05-15T14:20:10.626Z"
   },
   {
    "duration": 13,
    "start_time": "2024-05-15T14:23:50.253Z"
   },
   {
    "duration": 4,
    "start_time": "2024-05-15T14:24:10.503Z"
   },
   {
    "duration": 12,
    "start_time": "2024-05-15T14:24:15.665Z"
   },
   {
    "duration": 1052,
    "start_time": "2024-05-15T14:24:46.596Z"
   },
   {
    "duration": 25,
    "start_time": "2024-05-15T14:26:40.497Z"
   },
   {
    "duration": 7338,
    "start_time": "2024-05-15T14:26:49.223Z"
   },
   {
    "duration": 1442,
    "start_time": "2024-05-15T14:26:56.563Z"
   },
   {
    "duration": 4,
    "start_time": "2024-05-15T14:26:58.006Z"
   },
   {
    "duration": 53,
    "start_time": "2024-05-15T14:26:58.012Z"
   },
   {
    "duration": 29,
    "start_time": "2024-05-15T14:26:58.067Z"
   },
   {
    "duration": 10,
    "start_time": "2024-05-15T14:26:58.097Z"
   },
   {
    "duration": 41,
    "start_time": "2024-05-15T14:26:58.109Z"
   },
   {
    "duration": 14,
    "start_time": "2024-05-15T14:26:58.152Z"
   },
   {
    "duration": 314,
    "start_time": "2024-05-15T14:26:58.168Z"
   },
   {
    "duration": 423,
    "start_time": "2024-05-15T14:26:58.485Z"
   },
   {
    "duration": 257,
    "start_time": "2024-05-15T14:26:58.910Z"
   },
   {
    "duration": 659,
    "start_time": "2024-05-15T14:26:59.169Z"
   },
   {
    "duration": 267,
    "start_time": "2024-05-15T14:26:59.829Z"
   },
   {
    "duration": 10,
    "start_time": "2024-05-15T14:27:00.098Z"
   },
   {
    "duration": 192,
    "start_time": "2024-05-15T14:27:00.109Z"
   },
   {
    "duration": 489,
    "start_time": "2024-05-15T14:27:00.303Z"
   },
   {
    "duration": 253,
    "start_time": "2024-05-15T14:27:00.794Z"
   },
   {
    "duration": 136,
    "start_time": "2024-05-15T14:27:01.049Z"
   },
   {
    "duration": 63,
    "start_time": "2024-05-15T14:27:01.187Z"
   },
   {
    "duration": 47,
    "start_time": "2024-05-15T14:27:01.252Z"
   },
   {
    "duration": 285,
    "start_time": "2024-05-15T14:27:01.300Z"
   },
   {
    "duration": 23,
    "start_time": "2024-05-15T14:27:41.740Z"
   },
   {
    "duration": 24,
    "start_time": "2024-05-15T14:30:06.491Z"
   },
   {
    "duration": 5,
    "start_time": "2024-05-15T14:30:56.563Z"
   },
   {
    "duration": 26,
    "start_time": "2024-05-15T14:31:08.822Z"
   },
   {
    "duration": 30,
    "start_time": "2024-05-15T14:31:23.410Z"
   },
   {
    "duration": 4,
    "start_time": "2024-05-15T14:31:49.695Z"
   },
   {
    "duration": 4,
    "start_time": "2024-05-15T14:32:15.827Z"
   },
   {
    "duration": 5,
    "start_time": "2024-05-15T14:32:20.330Z"
   },
   {
    "duration": 7481,
    "start_time": "2024-05-15T14:32:35.007Z"
   },
   {
    "duration": 1464,
    "start_time": "2024-05-15T14:32:42.490Z"
   },
   {
    "duration": 3,
    "start_time": "2024-05-15T14:32:43.956Z"
   },
   {
    "duration": 52,
    "start_time": "2024-05-15T14:32:43.962Z"
   },
   {
    "duration": 27,
    "start_time": "2024-05-15T14:32:44.016Z"
   },
   {
    "duration": 9,
    "start_time": "2024-05-15T14:32:44.045Z"
   },
   {
    "duration": 13,
    "start_time": "2024-05-15T14:32:44.056Z"
   },
   {
    "duration": 21,
    "start_time": "2024-05-15T14:32:44.071Z"
   },
   {
    "duration": 317,
    "start_time": "2024-05-15T14:32:44.093Z"
   },
   {
    "duration": 398,
    "start_time": "2024-05-15T14:32:44.412Z"
   },
   {
    "duration": 287,
    "start_time": "2024-05-15T14:32:44.811Z"
   },
   {
    "duration": 661,
    "start_time": "2024-05-15T14:32:45.100Z"
   },
   {
    "duration": 264,
    "start_time": "2024-05-15T14:32:45.763Z"
   },
   {
    "duration": 10,
    "start_time": "2024-05-15T14:32:46.029Z"
   },
   {
    "duration": 63,
    "start_time": "2024-05-15T14:32:46.040Z"
   },
   {
    "duration": 83,
    "start_time": "2024-05-15T14:32:46.105Z"
   },
   {
    "duration": 20,
    "start_time": "2024-05-15T14:32:46.189Z"
   },
   {
    "duration": 34,
    "start_time": "2024-05-15T14:32:46.211Z"
   },
   {
    "duration": 32,
    "start_time": "2024-05-15T14:32:46.246Z"
   },
   {
    "duration": 51,
    "start_time": "2024-05-15T14:32:46.279Z"
   },
   {
    "duration": 57,
    "start_time": "2024-05-15T14:32:46.332Z"
   },
   {
    "duration": 184,
    "start_time": "2024-05-15T14:32:46.390Z"
   },
   {
    "duration": 5,
    "start_time": "2024-05-15T14:33:57.307Z"
   },
   {
    "duration": 25,
    "start_time": "2024-05-15T14:34:04.078Z"
   },
   {
    "duration": 25,
    "start_time": "2024-05-15T14:34:31.707Z"
   },
   {
    "duration": 25,
    "start_time": "2024-05-15T14:34:59.738Z"
   },
   {
    "duration": 7702,
    "start_time": "2024-05-15T14:35:39.143Z"
   },
   {
    "duration": 1477,
    "start_time": "2024-05-15T14:35:46.847Z"
   },
   {
    "duration": 4,
    "start_time": "2024-05-15T14:35:48.326Z"
   },
   {
    "duration": 61,
    "start_time": "2024-05-15T14:35:48.331Z"
   },
   {
    "duration": 29,
    "start_time": "2024-05-15T14:35:48.395Z"
   },
   {
    "duration": 10,
    "start_time": "2024-05-15T14:35:48.426Z"
   },
   {
    "duration": 13,
    "start_time": "2024-05-15T14:35:48.437Z"
   },
   {
    "duration": 40,
    "start_time": "2024-05-15T14:35:48.451Z"
   },
   {
    "duration": 330,
    "start_time": "2024-05-15T14:35:48.492Z"
   },
   {
    "duration": 433,
    "start_time": "2024-05-15T14:35:48.824Z"
   },
   {
    "duration": 247,
    "start_time": "2024-05-15T14:35:49.258Z"
   },
   {
    "duration": 684,
    "start_time": "2024-05-15T14:35:49.506Z"
   },
   {
    "duration": 258,
    "start_time": "2024-05-15T14:35:50.191Z"
   },
   {
    "duration": 10,
    "start_time": "2024-05-15T14:35:50.451Z"
   },
   {
    "duration": 15,
    "start_time": "2024-05-15T14:35:50.462Z"
   },
   {
    "duration": 26,
    "start_time": "2024-05-15T14:35:50.478Z"
   },
   {
    "duration": 36,
    "start_time": "2024-05-15T14:35:50.506Z"
   },
   {
    "duration": 14,
    "start_time": "2024-05-15T14:35:50.543Z"
   },
   {
    "duration": 14,
    "start_time": "2024-05-15T14:35:50.558Z"
   },
   {
    "duration": 14,
    "start_time": "2024-05-15T14:35:50.574Z"
   },
   {
    "duration": 36,
    "start_time": "2024-05-15T14:35:50.589Z"
   },
   {
    "duration": 170,
    "start_time": "2024-05-15T14:35:50.627Z"
   },
   {
    "duration": 25,
    "start_time": "2024-05-15T14:40:29.074Z"
   },
   {
    "duration": 25,
    "start_time": "2024-05-15T14:41:04.049Z"
   },
   {
    "duration": 28,
    "start_time": "2024-05-15T14:41:37.175Z"
   },
   {
    "duration": 26,
    "start_time": "2024-05-15T14:42:32.358Z"
   },
   {
    "duration": 7475,
    "start_time": "2024-05-15T14:45:10.353Z"
   },
   {
    "duration": 1391,
    "start_time": "2024-05-15T14:45:17.831Z"
   },
   {
    "duration": 3,
    "start_time": "2024-05-15T14:45:19.224Z"
   },
   {
    "duration": 63,
    "start_time": "2024-05-15T14:45:19.229Z"
   },
   {
    "duration": 29,
    "start_time": "2024-05-15T14:45:19.295Z"
   },
   {
    "duration": 14,
    "start_time": "2024-05-15T14:45:19.326Z"
   },
   {
    "duration": 28,
    "start_time": "2024-05-15T14:45:19.342Z"
   },
   {
    "duration": 49,
    "start_time": "2024-05-15T14:45:19.372Z"
   },
   {
    "duration": 392,
    "start_time": "2024-05-15T14:45:19.422Z"
   },
   {
    "duration": 403,
    "start_time": "2024-05-15T14:45:19.816Z"
   },
   {
    "duration": 249,
    "start_time": "2024-05-15T14:45:20.221Z"
   },
   {
    "duration": 658,
    "start_time": "2024-05-15T14:45:20.472Z"
   },
   {
    "duration": 290,
    "start_time": "2024-05-15T14:45:21.132Z"
   },
   {
    "duration": 10,
    "start_time": "2024-05-15T14:45:21.424Z"
   },
   {
    "duration": 38,
    "start_time": "2024-05-15T14:45:21.436Z"
   },
   {
    "duration": 26,
    "start_time": "2024-05-15T14:45:21.476Z"
   },
   {
    "duration": 19,
    "start_time": "2024-05-15T14:45:21.504Z"
   },
   {
    "duration": 22,
    "start_time": "2024-05-15T14:45:21.525Z"
   },
   {
    "duration": 27,
    "start_time": "2024-05-15T14:45:21.549Z"
   },
   {
    "duration": 28,
    "start_time": "2024-05-15T14:45:21.578Z"
   },
   {
    "duration": 19,
    "start_time": "2024-05-15T14:45:21.608Z"
   },
   {
    "duration": 145,
    "start_time": "2024-05-15T14:45:21.628Z"
   },
   {
    "duration": 68728,
    "start_time": "2024-05-15T14:45:31.826Z"
   },
   {
    "duration": 51118,
    "start_time": "2024-05-15T14:49:40.588Z"
   },
   {
    "duration": 0,
    "start_time": "2024-05-15T14:50:31.707Z"
   },
   {
    "duration": 3,
    "start_time": "2024-05-15T14:50:34.304Z"
   },
   {
    "duration": 3,
    "start_time": "2024-05-15T14:50:48.027Z"
   },
   {
    "duration": 7353,
    "start_time": "2024-05-15T14:51:14.878Z"
   },
   {
    "duration": 1345,
    "start_time": "2024-05-15T14:51:22.233Z"
   },
   {
    "duration": 3,
    "start_time": "2024-05-15T14:51:23.579Z"
   },
   {
    "duration": 86,
    "start_time": "2024-05-15T14:51:23.583Z"
   },
   {
    "duration": 28,
    "start_time": "2024-05-15T14:51:23.671Z"
   },
   {
    "duration": 10,
    "start_time": "2024-05-15T14:51:23.700Z"
   },
   {
    "duration": 50,
    "start_time": "2024-05-15T14:51:23.711Z"
   },
   {
    "duration": 23,
    "start_time": "2024-05-15T14:51:23.763Z"
   },
   {
    "duration": 338,
    "start_time": "2024-05-15T14:51:23.788Z"
   },
   {
    "duration": 388,
    "start_time": "2024-05-15T14:51:24.128Z"
   },
   {
    "duration": 223,
    "start_time": "2024-05-15T14:51:24.518Z"
   },
   {
    "duration": 612,
    "start_time": "2024-05-15T14:51:24.742Z"
   },
   {
    "duration": 265,
    "start_time": "2024-05-15T14:51:25.356Z"
   },
   {
    "duration": 12,
    "start_time": "2024-05-15T14:51:25.624Z"
   },
   {
    "duration": 35,
    "start_time": "2024-05-15T14:51:25.638Z"
   },
   {
    "duration": 4,
    "start_time": "2024-05-15T14:51:25.674Z"
   },
   {
    "duration": 17,
    "start_time": "2024-05-15T14:51:25.680Z"
   },
   {
    "duration": 23,
    "start_time": "2024-05-15T14:51:25.699Z"
   },
   {
    "duration": 21,
    "start_time": "2024-05-15T14:51:25.723Z"
   },
   {
    "duration": 55,
    "start_time": "2024-05-15T14:51:25.746Z"
   },
   {
    "duration": 34,
    "start_time": "2024-05-15T14:51:25.803Z"
   },
   {
    "duration": 68919,
    "start_time": "2024-05-15T14:51:25.838Z"
   },
   {
    "duration": 5,
    "start_time": "2024-05-15T14:59:20.969Z"
   },
   {
    "duration": 5,
    "start_time": "2024-05-15T14:59:27.850Z"
   },
   {
    "duration": 34,
    "start_time": "2024-05-15T15:00:13.350Z"
   },
   {
    "duration": 5,
    "start_time": "2024-05-15T15:01:07.567Z"
   },
   {
    "duration": 137,
    "start_time": "2024-05-15T15:01:13.441Z"
   },
   {
    "duration": 28,
    "start_time": "2024-05-15T15:01:19.017Z"
   },
   {
    "duration": 18,
    "start_time": "2024-05-15T15:03:58.508Z"
   },
   {
    "duration": 19,
    "start_time": "2024-05-15T15:04:18.148Z"
   },
   {
    "duration": 1156,
    "start_time": "2024-05-15T15:04:33.568Z"
   },
   {
    "duration": 16,
    "start_time": "2024-05-15T15:04:41.455Z"
   },
   {
    "duration": 3,
    "start_time": "2024-05-15T15:05:05.281Z"
   },
   {
    "duration": 14,
    "start_time": "2024-05-15T15:05:06.515Z"
   },
   {
    "duration": 2,
    "start_time": "2024-05-15T15:05:19.791Z"
   },
   {
    "duration": 11,
    "start_time": "2024-05-15T15:05:21.226Z"
   },
   {
    "duration": 4,
    "start_time": "2024-05-15T15:05:32.481Z"
   },
   {
    "duration": 4,
    "start_time": "2024-05-15T15:05:43.939Z"
   },
   {
    "duration": 10,
    "start_time": "2024-05-15T15:11:48.980Z"
   },
   {
    "duration": 9,
    "start_time": "2024-05-15T15:12:38.457Z"
   },
   {
    "duration": 5,
    "start_time": "2024-05-15T15:12:44.528Z"
   },
   {
    "duration": 5,
    "start_time": "2024-05-15T15:12:44.955Z"
   },
   {
    "duration": 3,
    "start_time": "2024-05-15T15:12:46.357Z"
   },
   {
    "duration": 33,
    "start_time": "2024-05-15T15:12:50.973Z"
   },
   {
    "duration": 17128,
    "start_time": "2024-05-21T12:58:24.082Z"
   },
   {
    "duration": 1777,
    "start_time": "2024-05-21T12:58:41.213Z"
   },
   {
    "duration": 4,
    "start_time": "2024-05-21T12:58:42.992Z"
   },
   {
    "duration": 65,
    "start_time": "2024-05-21T12:58:42.999Z"
   },
   {
    "duration": 18,
    "start_time": "2024-05-21T12:58:43.066Z"
   },
   {
    "duration": 18,
    "start_time": "2024-05-21T12:58:43.087Z"
   },
   {
    "duration": 199,
    "start_time": "2024-05-21T12:58:43.107Z"
   },
   {
    "duration": 30,
    "start_time": "2024-05-21T12:58:43.308Z"
   },
   {
    "duration": 38,
    "start_time": "2024-05-21T12:58:43.340Z"
   },
   {
    "duration": 308,
    "start_time": "2024-05-21T12:58:43.381Z"
   },
   {
    "duration": 17,
    "start_time": "2024-05-21T12:58:43.691Z"
   },
   {
    "duration": 382,
    "start_time": "2024-05-21T12:58:43.710Z"
   },
   {
    "duration": 8246,
    "start_time": "2024-05-21T12:58:49.057Z"
   },
   {
    "duration": 1542,
    "start_time": "2024-05-21T12:58:57.306Z"
   },
   {
    "duration": 4,
    "start_time": "2024-05-21T12:58:58.851Z"
   },
   {
    "duration": 29,
    "start_time": "2024-05-21T12:58:58.857Z"
   },
   {
    "duration": 39,
    "start_time": "2024-05-21T12:58:58.888Z"
   },
   {
    "duration": 17,
    "start_time": "2024-05-21T12:58:58.929Z"
   },
   {
    "duration": 55,
    "start_time": "2024-05-21T12:58:58.949Z"
   },
   {
    "duration": 31,
    "start_time": "2024-05-21T12:58:59.006Z"
   },
   {
    "duration": 11,
    "start_time": "2024-05-21T12:58:59.039Z"
   },
   {
    "duration": 9,
    "start_time": "2024-05-21T12:58:59.054Z"
   },
   {
    "duration": 37,
    "start_time": "2024-05-21T12:58:59.065Z"
   },
   {
    "duration": 416,
    "start_time": "2024-05-21T12:58:59.104Z"
   },
   {
    "duration": 1653,
    "start_time": "2024-05-21T12:58:59.522Z"
   },
   {
    "duration": 0,
    "start_time": "2024-05-21T12:59:01.178Z"
   },
   {
    "duration": 0,
    "start_time": "2024-05-21T12:59:01.179Z"
   },
   {
    "duration": 0,
    "start_time": "2024-05-21T12:59:01.184Z"
   },
   {
    "duration": 0,
    "start_time": "2024-05-21T12:59:01.185Z"
   },
   {
    "duration": 0,
    "start_time": "2024-05-21T12:59:01.191Z"
   },
   {
    "duration": 0,
    "start_time": "2024-05-21T12:59:01.193Z"
   },
   {
    "duration": 0,
    "start_time": "2024-05-21T12:59:01.196Z"
   },
   {
    "duration": 0,
    "start_time": "2024-05-21T12:59:01.197Z"
   },
   {
    "duration": 0,
    "start_time": "2024-05-21T12:59:01.199Z"
   },
   {
    "duration": 0,
    "start_time": "2024-05-21T12:59:01.201Z"
   },
   {
    "duration": 1,
    "start_time": "2024-05-21T12:59:01.202Z"
   },
   {
    "duration": 0,
    "start_time": "2024-05-21T12:59:01.204Z"
   },
   {
    "duration": 0,
    "start_time": "2024-05-21T12:59:01.205Z"
   },
   {
    "duration": 0,
    "start_time": "2024-05-21T12:59:01.207Z"
   },
   {
    "duration": 0,
    "start_time": "2024-05-21T12:59:01.208Z"
   },
   {
    "duration": 0,
    "start_time": "2024-05-21T12:59:01.210Z"
   },
   {
    "duration": 0,
    "start_time": "2024-05-21T12:59:01.212Z"
   },
   {
    "duration": 7917,
    "start_time": "2024-05-21T14:00:17.072Z"
   },
   {
    "duration": 2301,
    "start_time": "2024-05-21T14:00:24.991Z"
   },
   {
    "duration": 0,
    "start_time": "2024-05-21T14:00:27.295Z"
   },
   {
    "duration": 0,
    "start_time": "2024-05-21T14:00:27.296Z"
   },
   {
    "duration": 0,
    "start_time": "2024-05-21T14:00:27.297Z"
   },
   {
    "duration": 0,
    "start_time": "2024-05-21T14:00:27.298Z"
   },
   {
    "duration": 0,
    "start_time": "2024-05-21T14:00:27.299Z"
   },
   {
    "duration": 0,
    "start_time": "2024-05-21T14:00:27.301Z"
   },
   {
    "duration": 0,
    "start_time": "2024-05-21T14:00:27.302Z"
   },
   {
    "duration": 0,
    "start_time": "2024-05-21T14:00:27.303Z"
   },
   {
    "duration": 0,
    "start_time": "2024-05-21T14:00:27.304Z"
   },
   {
    "duration": 0,
    "start_time": "2024-05-21T14:00:27.305Z"
   },
   {
    "duration": 0,
    "start_time": "2024-05-21T14:00:27.306Z"
   },
   {
    "duration": 1,
    "start_time": "2024-05-21T14:00:27.307Z"
   },
   {
    "duration": 0,
    "start_time": "2024-05-21T14:00:27.308Z"
   },
   {
    "duration": 0,
    "start_time": "2024-05-21T14:00:27.310Z"
   },
   {
    "duration": 0,
    "start_time": "2024-05-21T14:00:27.311Z"
   },
   {
    "duration": 0,
    "start_time": "2024-05-21T14:00:27.312Z"
   },
   {
    "duration": 0,
    "start_time": "2024-05-21T14:00:27.313Z"
   },
   {
    "duration": 0,
    "start_time": "2024-05-21T14:00:27.314Z"
   },
   {
    "duration": 0,
    "start_time": "2024-05-21T14:00:27.315Z"
   },
   {
    "duration": 0,
    "start_time": "2024-05-21T14:00:27.316Z"
   },
   {
    "duration": 0,
    "start_time": "2024-05-21T14:00:27.317Z"
   },
   {
    "duration": 0,
    "start_time": "2024-05-21T14:00:27.318Z"
   },
   {
    "duration": 0,
    "start_time": "2024-05-21T14:00:27.319Z"
   },
   {
    "duration": 0,
    "start_time": "2024-05-21T14:00:27.320Z"
   },
   {
    "duration": 0,
    "start_time": "2024-05-21T14:00:27.322Z"
   },
   {
    "duration": 0,
    "start_time": "2024-05-21T14:00:27.323Z"
   },
   {
    "duration": 0,
    "start_time": "2024-05-21T14:00:27.324Z"
   },
   {
    "duration": 0,
    "start_time": "2024-05-21T14:00:27.325Z"
   },
   {
    "duration": 16,
    "start_time": "2024-05-21T14:02:55.578Z"
   },
   {
    "duration": 17,
    "start_time": "2024-05-21T14:03:11.911Z"
   },
   {
    "duration": 33463,
    "start_time": "2024-05-21T14:04:23.439Z"
   },
   {
    "duration": 12008,
    "start_time": "2024-05-21T14:08:23.455Z"
   },
   {
    "duration": 11535,
    "start_time": "2024-05-21T14:09:24.918Z"
   },
   {
    "duration": 137,
    "start_time": "2024-05-21T14:12:42.129Z"
   },
   {
    "duration": 336,
    "start_time": "2024-05-21T14:13:10.530Z"
   },
   {
    "duration": 9010,
    "start_time": "2024-05-21T14:25:16.728Z"
   },
   {
    "duration": 1740,
    "start_time": "2024-05-21T14:25:25.741Z"
   },
   {
    "duration": 3,
    "start_time": "2024-05-21T14:25:27.483Z"
   },
   {
    "duration": 109,
    "start_time": "2024-05-21T14:25:27.490Z"
   },
   {
    "duration": 28,
    "start_time": "2024-05-21T14:25:27.603Z"
   },
   {
    "duration": 73,
    "start_time": "2024-05-21T14:25:27.632Z"
   },
   {
    "duration": 76,
    "start_time": "2024-05-21T14:25:27.707Z"
   },
   {
    "duration": 33,
    "start_time": "2024-05-21T14:25:27.785Z"
   },
   {
    "duration": 9,
    "start_time": "2024-05-21T14:25:27.820Z"
   },
   {
    "duration": 45,
    "start_time": "2024-05-21T14:25:27.831Z"
   },
   {
    "duration": 26,
    "start_time": "2024-05-21T14:25:27.878Z"
   },
   {
    "duration": 355,
    "start_time": "2024-05-21T14:25:27.905Z"
   },
   {
    "duration": 1461,
    "start_time": "2024-05-21T14:25:28.262Z"
   },
   {
    "duration": 0,
    "start_time": "2024-05-21T14:25:29.726Z"
   },
   {
    "duration": 0,
    "start_time": "2024-05-21T14:25:29.727Z"
   },
   {
    "duration": 0,
    "start_time": "2024-05-21T14:25:29.728Z"
   },
   {
    "duration": 0,
    "start_time": "2024-05-21T14:25:29.730Z"
   },
   {
    "duration": 0,
    "start_time": "2024-05-21T14:25:29.732Z"
   },
   {
    "duration": 0,
    "start_time": "2024-05-21T14:25:29.733Z"
   },
   {
    "duration": 0,
    "start_time": "2024-05-21T14:25:29.735Z"
   },
   {
    "duration": 0,
    "start_time": "2024-05-21T14:25:29.736Z"
   },
   {
    "duration": 0,
    "start_time": "2024-05-21T14:25:29.737Z"
   },
   {
    "duration": 0,
    "start_time": "2024-05-21T14:25:29.738Z"
   },
   {
    "duration": 0,
    "start_time": "2024-05-21T14:25:29.740Z"
   },
   {
    "duration": 0,
    "start_time": "2024-05-21T14:25:29.741Z"
   },
   {
    "duration": 0,
    "start_time": "2024-05-21T14:25:29.742Z"
   },
   {
    "duration": 0,
    "start_time": "2024-05-21T14:25:29.743Z"
   },
   {
    "duration": 0,
    "start_time": "2024-05-21T14:25:29.743Z"
   },
   {
    "duration": 0,
    "start_time": "2024-05-21T14:25:29.745Z"
   },
   {
    "duration": 0,
    "start_time": "2024-05-21T14:25:29.746Z"
   },
   {
    "duration": 1346,
    "start_time": "2024-05-21T14:26:59.609Z"
   },
   {
    "duration": 525,
    "start_time": "2024-05-21T14:27:21.044Z"
   },
   {
    "duration": 407,
    "start_time": "2024-05-21T14:28:33.084Z"
   },
   {
    "duration": 8253,
    "start_time": "2024-05-21T14:32:14.144Z"
   },
   {
    "duration": 2602,
    "start_time": "2024-05-21T14:32:22.399Z"
   },
   {
    "duration": 4,
    "start_time": "2024-05-21T14:32:25.003Z"
   },
   {
    "duration": 80,
    "start_time": "2024-05-21T14:32:25.008Z"
   },
   {
    "duration": 54,
    "start_time": "2024-05-21T14:32:25.091Z"
   },
   {
    "duration": 49,
    "start_time": "2024-05-21T14:32:25.147Z"
   },
   {
    "duration": 92,
    "start_time": "2024-05-21T14:32:25.198Z"
   },
   {
    "duration": 35,
    "start_time": "2024-05-21T14:32:25.292Z"
   },
   {
    "duration": 34,
    "start_time": "2024-05-21T14:32:25.329Z"
   },
   {
    "duration": 205,
    "start_time": "2024-05-21T14:32:25.365Z"
   },
   {
    "duration": 0,
    "start_time": "2024-05-21T14:32:25.573Z"
   },
   {
    "duration": 0,
    "start_time": "2024-05-21T14:32:25.575Z"
   },
   {
    "duration": 0,
    "start_time": "2024-05-21T14:32:25.576Z"
   },
   {
    "duration": 0,
    "start_time": "2024-05-21T14:32:25.577Z"
   },
   {
    "duration": 0,
    "start_time": "2024-05-21T14:32:25.579Z"
   },
   {
    "duration": 0,
    "start_time": "2024-05-21T14:32:25.592Z"
   },
   {
    "duration": 0,
    "start_time": "2024-05-21T14:32:25.593Z"
   },
   {
    "duration": 0,
    "start_time": "2024-05-21T14:32:25.595Z"
   },
   {
    "duration": 0,
    "start_time": "2024-05-21T14:32:25.597Z"
   },
   {
    "duration": 0,
    "start_time": "2024-05-21T14:32:25.598Z"
   },
   {
    "duration": 0,
    "start_time": "2024-05-21T14:32:25.600Z"
   },
   {
    "duration": 0,
    "start_time": "2024-05-21T14:32:25.601Z"
   },
   {
    "duration": 0,
    "start_time": "2024-05-21T14:32:25.602Z"
   },
   {
    "duration": 0,
    "start_time": "2024-05-21T14:32:25.603Z"
   },
   {
    "duration": 0,
    "start_time": "2024-05-21T14:32:25.605Z"
   },
   {
    "duration": 0,
    "start_time": "2024-05-21T14:32:25.606Z"
   },
   {
    "duration": 0,
    "start_time": "2024-05-21T14:32:25.608Z"
   },
   {
    "duration": 0,
    "start_time": "2024-05-21T14:32:25.609Z"
   },
   {
    "duration": 0,
    "start_time": "2024-05-21T14:32:25.610Z"
   },
   {
    "duration": 0,
    "start_time": "2024-05-21T14:32:25.611Z"
   },
   {
    "duration": 5,
    "start_time": "2024-05-21T14:32:41.499Z"
   },
   {
    "duration": 13,
    "start_time": "2024-05-21T14:32:46.173Z"
   },
   {
    "duration": 334,
    "start_time": "2024-05-21T14:33:16.122Z"
   },
   {
    "duration": 390,
    "start_time": "2024-05-21T14:35:25.451Z"
   },
   {
    "duration": 508,
    "start_time": "2024-05-21T14:35:51.772Z"
   },
   {
    "duration": 247,
    "start_time": "2024-05-21T14:36:54.532Z"
   },
   {
    "duration": 649,
    "start_time": "2024-05-21T14:41:15.388Z"
   },
   {
    "duration": 12,
    "start_time": "2024-05-21T14:44:37.242Z"
   },
   {
    "duration": 264,
    "start_time": "2024-05-21T14:44:44.529Z"
   },
   {
    "duration": 254,
    "start_time": "2024-05-21T14:45:05.312Z"
   },
   {
    "duration": 265,
    "start_time": "2024-05-21T14:45:13.567Z"
   },
   {
    "duration": 166,
    "start_time": "2024-05-21T14:45:29.687Z"
   },
   {
    "duration": 288,
    "start_time": "2024-05-21T14:46:30.783Z"
   },
   {
    "duration": 258,
    "start_time": "2024-05-21T14:46:37.717Z"
   },
   {
    "duration": 289,
    "start_time": "2024-05-21T14:47:17.766Z"
   },
   {
    "duration": 282,
    "start_time": "2024-05-21T14:47:44.890Z"
   },
   {
    "duration": 454,
    "start_time": "2024-05-21T14:47:58.182Z"
   },
   {
    "duration": 262,
    "start_time": "2024-05-21T14:48:10.422Z"
   },
   {
    "duration": 44,
    "start_time": "2024-05-21T15:03:03.890Z"
   },
   {
    "duration": 5,
    "start_time": "2024-05-21T15:03:15.513Z"
   },
   {
    "duration": 1990,
    "start_time": "2024-05-21T15:03:43.103Z"
   },
   {
    "duration": 6,
    "start_time": "2024-05-21T15:04:02.074Z"
   },
   {
    "duration": 1734,
    "start_time": "2024-05-21T15:04:05.967Z"
   },
   {
    "duration": 4,
    "start_time": "2024-05-21T15:04:33.301Z"
   },
   {
    "duration": 315,
    "start_time": "2024-05-21T15:07:43.288Z"
   },
   {
    "duration": 3,
    "start_time": "2024-05-21T15:09:24.355Z"
   },
   {
    "duration": 3,
    "start_time": "2024-05-21T15:35:44.129Z"
   },
   {
    "duration": 18,
    "start_time": "2024-05-21T15:37:19.001Z"
   },
   {
    "duration": 14,
    "start_time": "2024-05-21T15:37:26.371Z"
   },
   {
    "duration": 3,
    "start_time": "2024-05-21T15:38:26.266Z"
   },
   {
    "duration": 4,
    "start_time": "2024-05-21T15:40:23.198Z"
   },
   {
    "duration": 1298,
    "start_time": "2024-05-21T15:41:07.094Z"
   },
   {
    "duration": 26,
    "start_time": "2024-05-21T16:09:45.172Z"
   },
   {
    "duration": 1431,
    "start_time": "2024-05-21T16:10:02.460Z"
   },
   {
    "duration": 21,
    "start_time": "2024-05-21T16:10:43.113Z"
   },
   {
    "duration": 12,
    "start_time": "2024-05-21T16:12:18.339Z"
   },
   {
    "duration": 522,
    "start_time": "2024-05-21T16:12:25.225Z"
   },
   {
    "duration": 455,
    "start_time": "2024-05-21T16:13:12.095Z"
   },
   {
    "duration": 12,
    "start_time": "2024-05-21T16:17:44.931Z"
   },
   {
    "duration": 266,
    "start_time": "2024-05-21T16:21:36.263Z"
   },
   {
    "duration": 228,
    "start_time": "2024-05-21T16:21:45.866Z"
   },
   {
    "duration": 9,
    "start_time": "2024-05-21T16:22:40.266Z"
   },
   {
    "duration": 240,
    "start_time": "2024-05-21T16:22:52.518Z"
   },
   {
    "duration": 257,
    "start_time": "2024-05-21T16:23:56.543Z"
   },
   {
    "duration": 301,
    "start_time": "2024-05-21T16:24:03.139Z"
   },
   {
    "duration": 16770,
    "start_time": "2024-05-21T17:44:42.363Z"
   },
   {
    "duration": 2084,
    "start_time": "2024-05-21T17:44:59.136Z"
   },
   {
    "duration": 0,
    "start_time": "2024-05-21T17:45:01.224Z"
   },
   {
    "duration": 0,
    "start_time": "2024-05-21T17:45:01.225Z"
   },
   {
    "duration": 1,
    "start_time": "2024-05-21T17:45:01.226Z"
   },
   {
    "duration": 0,
    "start_time": "2024-05-21T17:45:01.228Z"
   },
   {
    "duration": 0,
    "start_time": "2024-05-21T17:45:01.229Z"
   },
   {
    "duration": 0,
    "start_time": "2024-05-21T17:45:01.230Z"
   },
   {
    "duration": 0,
    "start_time": "2024-05-21T17:45:01.232Z"
   },
   {
    "duration": 0,
    "start_time": "2024-05-21T17:45:01.233Z"
   },
   {
    "duration": 0,
    "start_time": "2024-05-21T17:45:01.234Z"
   },
   {
    "duration": 0,
    "start_time": "2024-05-21T17:45:01.235Z"
   },
   {
    "duration": 0,
    "start_time": "2024-05-21T17:45:01.236Z"
   },
   {
    "duration": 0,
    "start_time": "2024-05-21T17:45:01.260Z"
   },
   {
    "duration": 0,
    "start_time": "2024-05-21T17:45:01.262Z"
   },
   {
    "duration": 0,
    "start_time": "2024-05-21T17:45:01.263Z"
   },
   {
    "duration": 0,
    "start_time": "2024-05-21T17:45:01.266Z"
   },
   {
    "duration": 0,
    "start_time": "2024-05-21T17:45:01.267Z"
   },
   {
    "duration": 0,
    "start_time": "2024-05-21T17:45:01.269Z"
   },
   {
    "duration": 0,
    "start_time": "2024-05-21T17:45:01.270Z"
   },
   {
    "duration": 0,
    "start_time": "2024-05-21T17:45:01.272Z"
   },
   {
    "duration": 0,
    "start_time": "2024-05-21T17:45:01.274Z"
   },
   {
    "duration": 0,
    "start_time": "2024-05-21T17:45:01.275Z"
   },
   {
    "duration": 0,
    "start_time": "2024-05-21T17:45:01.276Z"
   },
   {
    "duration": 0,
    "start_time": "2024-05-21T17:45:01.278Z"
   },
   {
    "duration": 1,
    "start_time": "2024-05-21T17:45:01.279Z"
   },
   {
    "duration": 0,
    "start_time": "2024-05-21T17:45:01.281Z"
   },
   {
    "duration": 0,
    "start_time": "2024-05-21T17:45:01.282Z"
   },
   {
    "duration": 0,
    "start_time": "2024-05-21T17:45:01.284Z"
   },
   {
    "duration": 0,
    "start_time": "2024-05-21T17:45:01.285Z"
   },
   {
    "duration": 0,
    "start_time": "2024-05-21T17:45:01.287Z"
   },
   {
    "duration": 0,
    "start_time": "2024-05-21T17:45:01.288Z"
   },
   {
    "duration": 0,
    "start_time": "2024-05-21T17:45:01.289Z"
   },
   {
    "duration": 0,
    "start_time": "2024-05-21T17:45:01.291Z"
   },
   {
    "duration": 0,
    "start_time": "2024-05-21T17:45:01.293Z"
   },
   {
    "duration": 0,
    "start_time": "2024-05-21T17:45:01.294Z"
   },
   {
    "duration": 0,
    "start_time": "2024-05-21T17:45:01.296Z"
   },
   {
    "duration": 0,
    "start_time": "2024-05-21T17:45:01.297Z"
   },
   {
    "duration": 0,
    "start_time": "2024-05-21T17:45:01.298Z"
   },
   {
    "duration": 0,
    "start_time": "2024-05-21T17:45:01.360Z"
   },
   {
    "duration": 0,
    "start_time": "2024-05-21T17:45:01.361Z"
   },
   {
    "duration": 0,
    "start_time": "2024-05-21T17:45:01.363Z"
   },
   {
    "duration": 8256,
    "start_time": "2024-05-21T17:47:23.904Z"
   },
   {
    "duration": 28,
    "start_time": "2024-05-21T17:47:38.153Z"
   },
   {
    "duration": 11443,
    "start_time": "2024-05-21T17:48:17.069Z"
   },
   {
    "duration": 40,
    "start_time": "2024-05-21T17:48:30.888Z"
   },
   {
    "duration": 4984,
    "start_time": "2024-05-21T17:48:54.985Z"
   },
   {
    "duration": 1797,
    "start_time": "2024-05-21T17:48:59.972Z"
   },
   {
    "duration": 4,
    "start_time": "2024-05-21T17:49:01.771Z"
   },
   {
    "duration": 222,
    "start_time": "2024-05-21T17:49:01.776Z"
   },
   {
    "duration": 60,
    "start_time": "2024-05-21T17:49:02.000Z"
   },
   {
    "duration": 72,
    "start_time": "2024-05-21T17:49:02.062Z"
   },
   {
    "duration": 43,
    "start_time": "2024-05-21T17:49:02.136Z"
   },
   {
    "duration": 184,
    "start_time": "2024-05-21T17:49:02.181Z"
   },
   {
    "duration": 24,
    "start_time": "2024-05-21T17:49:02.367Z"
   },
   {
    "duration": 17,
    "start_time": "2024-05-21T17:49:02.393Z"
   },
   {
    "duration": 145,
    "start_time": "2024-05-21T17:49:02.412Z"
   },
   {
    "duration": 380,
    "start_time": "2024-05-21T17:49:02.559Z"
   },
   {
    "duration": 383,
    "start_time": "2024-05-21T17:49:02.941Z"
   },
   {
    "duration": 263,
    "start_time": "2024-05-21T17:49:03.327Z"
   },
   {
    "duration": 304,
    "start_time": "2024-05-21T17:49:03.591Z"
   },
   {
    "duration": 2069,
    "start_time": "2024-05-21T17:49:03.897Z"
   },
   {
    "duration": 927,
    "start_time": "2024-05-21T17:49:05.968Z"
   },
   {
    "duration": 278,
    "start_time": "2024-05-21T17:49:06.896Z"
   },
   {
    "duration": 163,
    "start_time": "2024-05-21T17:49:07.175Z"
   },
   {
    "duration": 0,
    "start_time": "2024-05-21T17:49:07.339Z"
   },
   {
    "duration": 0,
    "start_time": "2024-05-21T17:49:07.340Z"
   },
   {
    "duration": 1,
    "start_time": "2024-05-21T17:49:07.341Z"
   },
   {
    "duration": 0,
    "start_time": "2024-05-21T17:49:07.343Z"
   },
   {
    "duration": 0,
    "start_time": "2024-05-21T17:49:07.344Z"
   },
   {
    "duration": 0,
    "start_time": "2024-05-21T17:49:07.359Z"
   },
   {
    "duration": 0,
    "start_time": "2024-05-21T17:49:07.361Z"
   },
   {
    "duration": 0,
    "start_time": "2024-05-21T17:49:07.362Z"
   },
   {
    "duration": 0,
    "start_time": "2024-05-21T17:49:07.363Z"
   },
   {
    "duration": 0,
    "start_time": "2024-05-21T17:49:07.364Z"
   },
   {
    "duration": 0,
    "start_time": "2024-05-21T17:49:07.365Z"
   },
   {
    "duration": 0,
    "start_time": "2024-05-21T17:49:07.367Z"
   },
   {
    "duration": 0,
    "start_time": "2024-05-21T17:49:07.368Z"
   },
   {
    "duration": 0,
    "start_time": "2024-05-21T17:49:07.369Z"
   },
   {
    "duration": 0,
    "start_time": "2024-05-21T17:49:07.370Z"
   },
   {
    "duration": 0,
    "start_time": "2024-05-21T17:49:07.371Z"
   },
   {
    "duration": 0,
    "start_time": "2024-05-21T17:49:07.372Z"
   },
   {
    "duration": 0,
    "start_time": "2024-05-21T17:49:07.373Z"
   },
   {
    "duration": 0,
    "start_time": "2024-05-21T17:49:07.374Z"
   },
   {
    "duration": 0,
    "start_time": "2024-05-21T17:49:07.375Z"
   },
   {
    "duration": 0,
    "start_time": "2024-05-21T17:49:07.376Z"
   },
   {
    "duration": 0,
    "start_time": "2024-05-21T17:49:07.378Z"
   },
   {
    "duration": 0,
    "start_time": "2024-05-21T17:49:07.379Z"
   },
   {
    "duration": 9,
    "start_time": "2024-05-21T17:49:15.788Z"
   },
   {
    "duration": 2,
    "start_time": "2024-05-21T17:49:16.747Z"
   },
   {
    "duration": 3,
    "start_time": "2024-05-21T17:49:17.711Z"
   },
   {
    "duration": 1368,
    "start_time": "2024-05-21T17:49:18.467Z"
   },
   {
    "duration": 1269,
    "start_time": "2024-05-21T17:49:21.134Z"
   },
   {
    "duration": 22,
    "start_time": "2024-05-21T17:49:22.944Z"
   },
   {
    "duration": 526,
    "start_time": "2024-05-21T17:49:23.904Z"
   },
   {
    "duration": 10,
    "start_time": "2024-05-21T17:49:29.769Z"
   },
   {
    "duration": 10,
    "start_time": "2024-05-21T17:49:30.557Z"
   },
   {
    "duration": 236,
    "start_time": "2024-05-21T17:49:31.761Z"
   },
   {
    "duration": 233,
    "start_time": "2024-05-21T17:50:37.560Z"
   },
   {
    "duration": 310,
    "start_time": "2024-05-21T17:50:48.348Z"
   },
   {
    "duration": 13,
    "start_time": "2024-05-21T17:57:03.111Z"
   },
   {
    "duration": 17,
    "start_time": "2024-05-21T17:57:18.331Z"
   },
   {
    "duration": 15,
    "start_time": "2024-05-21T17:57:56.065Z"
   },
   {
    "duration": 15,
    "start_time": "2024-05-21T17:58:17.423Z"
   },
   {
    "duration": 6,
    "start_time": "2024-05-21T17:58:56.713Z"
   },
   {
    "duration": 6,
    "start_time": "2024-05-21T18:00:21.016Z"
   },
   {
    "duration": 14,
    "start_time": "2024-05-21T18:00:51.063Z"
   },
   {
    "duration": 6,
    "start_time": "2024-05-21T18:00:59.575Z"
   },
   {
    "duration": 6,
    "start_time": "2024-05-21T18:02:16.557Z"
   },
   {
    "duration": 8,
    "start_time": "2024-05-21T18:04:11.592Z"
   },
   {
    "duration": 649,
    "start_time": "2024-05-21T18:08:33.339Z"
   },
   {
    "duration": 777,
    "start_time": "2024-05-21T18:10:52.003Z"
   },
   {
    "duration": 733,
    "start_time": "2024-05-21T18:11:04.130Z"
   },
   {
    "duration": 129,
    "start_time": "2024-05-21T18:11:32.386Z"
   },
   {
    "duration": 11,
    "start_time": "2024-05-21T18:13:40.877Z"
   },
   {
    "duration": 409,
    "start_time": "2024-05-21T18:13:48.354Z"
   },
   {
    "duration": 11,
    "start_time": "2024-05-21T18:14:42.807Z"
   },
   {
    "duration": 634,
    "start_time": "2024-05-21T18:14:52.880Z"
   },
   {
    "duration": 618,
    "start_time": "2024-05-21T18:15:53.941Z"
   },
   {
    "duration": 589,
    "start_time": "2024-05-21T18:16:05.765Z"
   },
   {
    "duration": 408,
    "start_time": "2024-05-21T18:18:42.327Z"
   },
   {
    "duration": 5,
    "start_time": "2024-05-21T18:19:05.821Z"
   },
   {
    "duration": 5739,
    "start_time": "2024-05-21T18:25:09.408Z"
   },
   {
    "duration": 1545,
    "start_time": "2024-05-21T18:25:15.149Z"
   },
   {
    "duration": 4,
    "start_time": "2024-05-21T18:25:16.696Z"
   },
   {
    "duration": 8,
    "start_time": "2024-05-21T18:25:16.701Z"
   },
   {
    "duration": 10,
    "start_time": "2024-05-21T18:25:16.711Z"
   },
   {
    "duration": 6,
    "start_time": "2024-05-21T18:25:16.723Z"
   },
   {
    "duration": 10,
    "start_time": "2024-05-21T18:25:16.731Z"
   },
   {
    "duration": 51,
    "start_time": "2024-05-21T18:25:16.743Z"
   },
   {
    "duration": 24,
    "start_time": "2024-05-21T18:25:16.796Z"
   },
   {
    "duration": 59,
    "start_time": "2024-05-21T18:25:16.821Z"
   },
   {
    "duration": 18,
    "start_time": "2024-05-21T18:25:16.882Z"
   },
   {
    "duration": 410,
    "start_time": "2024-05-21T18:25:16.901Z"
   },
   {
    "duration": 384,
    "start_time": "2024-05-21T18:25:17.313Z"
   },
   {
    "duration": 234,
    "start_time": "2024-05-21T18:25:17.700Z"
   },
   {
    "duration": 353,
    "start_time": "2024-05-21T18:25:17.935Z"
   },
   {
    "duration": 1971,
    "start_time": "2024-05-21T18:25:18.289Z"
   },
   {
    "duration": 728,
    "start_time": "2024-05-21T18:25:20.262Z"
   },
   {
    "duration": 296,
    "start_time": "2024-05-21T18:25:20.992Z"
   },
   {
    "duration": 145,
    "start_time": "2024-05-21T18:25:21.290Z"
   },
   {
    "duration": 0,
    "start_time": "2024-05-21T18:25:21.436Z"
   },
   {
    "duration": 0,
    "start_time": "2024-05-21T18:25:21.437Z"
   },
   {
    "duration": 0,
    "start_time": "2024-05-21T18:25:21.439Z"
   },
   {
    "duration": 0,
    "start_time": "2024-05-21T18:25:21.440Z"
   },
   {
    "duration": 0,
    "start_time": "2024-05-21T18:25:21.440Z"
   },
   {
    "duration": 0,
    "start_time": "2024-05-21T18:25:21.442Z"
   },
   {
    "duration": 0,
    "start_time": "2024-05-21T18:25:21.442Z"
   },
   {
    "duration": 0,
    "start_time": "2024-05-21T18:25:21.444Z"
   },
   {
    "duration": 0,
    "start_time": "2024-05-21T18:25:21.445Z"
   },
   {
    "duration": 0,
    "start_time": "2024-05-21T18:25:21.459Z"
   },
   {
    "duration": 0,
    "start_time": "2024-05-21T18:25:21.460Z"
   },
   {
    "duration": 0,
    "start_time": "2024-05-21T18:25:21.461Z"
   },
   {
    "duration": 0,
    "start_time": "2024-05-21T18:25:21.463Z"
   },
   {
    "duration": 0,
    "start_time": "2024-05-21T18:25:21.464Z"
   },
   {
    "duration": 0,
    "start_time": "2024-05-21T18:25:21.465Z"
   },
   {
    "duration": 0,
    "start_time": "2024-05-21T18:25:21.466Z"
   },
   {
    "duration": 0,
    "start_time": "2024-05-21T18:25:21.467Z"
   },
   {
    "duration": 0,
    "start_time": "2024-05-21T18:25:21.468Z"
   },
   {
    "duration": 0,
    "start_time": "2024-05-21T18:25:21.469Z"
   },
   {
    "duration": 0,
    "start_time": "2024-05-21T18:25:21.470Z"
   },
   {
    "duration": 0,
    "start_time": "2024-05-21T18:25:21.471Z"
   },
   {
    "duration": 0,
    "start_time": "2024-05-21T18:25:21.472Z"
   },
   {
    "duration": 0,
    "start_time": "2024-05-21T18:25:21.473Z"
   },
   {
    "duration": 0,
    "start_time": "2024-05-21T18:25:21.474Z"
   },
   {
    "duration": 0,
    "start_time": "2024-05-21T18:25:21.475Z"
   },
   {
    "duration": 9,
    "start_time": "2024-05-21T18:25:34.625Z"
   },
   {
    "duration": 3,
    "start_time": "2024-05-21T18:25:35.009Z"
   },
   {
    "duration": 4,
    "start_time": "2024-05-21T18:25:35.433Z"
   },
   {
    "duration": 1405,
    "start_time": "2024-05-21T18:25:35.818Z"
   },
   {
    "duration": 1199,
    "start_time": "2024-05-21T18:25:37.225Z"
   },
   {
    "duration": 23,
    "start_time": "2024-05-21T18:25:38.425Z"
   },
   {
    "duration": 454,
    "start_time": "2024-05-21T18:25:38.460Z"
   },
   {
    "duration": 10,
    "start_time": "2024-05-21T18:25:38.915Z"
   },
   {
    "duration": 10,
    "start_time": "2024-05-21T18:25:38.927Z"
   },
   {
    "duration": 266,
    "start_time": "2024-05-21T18:25:39.253Z"
   },
   {
    "duration": 7,
    "start_time": "2024-05-21T18:25:40.767Z"
   },
   {
    "duration": 424,
    "start_time": "2024-05-21T18:25:41.995Z"
   },
   {
    "duration": 10,
    "start_time": "2024-05-21T18:26:34.501Z"
   },
   {
    "duration": 9,
    "start_time": "2024-05-21T18:26:34.881Z"
   },
   {
    "duration": 4,
    "start_time": "2024-05-21T18:26:35.446Z"
   },
   {
    "duration": 4,
    "start_time": "2024-05-21T18:26:35.832Z"
   },
   {
    "duration": 4,
    "start_time": "2024-05-21T18:26:36.269Z"
   },
   {
    "duration": 34,
    "start_time": "2024-05-21T18:26:36.720Z"
   },
   {
    "duration": 13,
    "start_time": "2024-05-21T18:26:37.164Z"
   },
   {
    "duration": 15,
    "start_time": "2024-05-21T18:27:09.673Z"
   },
   {
    "duration": 5,
    "start_time": "2024-05-21T18:27:18.739Z"
   },
   {
    "duration": 8,
    "start_time": "2024-05-21T18:27:21.820Z"
   },
   {
    "duration": 41,
    "start_time": "2024-05-21T18:29:37.234Z"
   },
   {
    "duration": 8086,
    "start_time": "2024-05-22T16:05:17.171Z"
   },
   {
    "duration": 1720,
    "start_time": "2024-05-22T16:05:25.260Z"
   },
   {
    "duration": 4,
    "start_time": "2024-05-22T16:05:26.981Z"
   },
   {
    "duration": 11,
    "start_time": "2024-05-22T16:05:26.987Z"
   },
   {
    "duration": 8,
    "start_time": "2024-05-22T16:05:26.999Z"
   },
   {
    "duration": 11,
    "start_time": "2024-05-22T16:05:27.008Z"
   },
   {
    "duration": 6,
    "start_time": "2024-05-22T16:05:27.020Z"
   },
   {
    "duration": 99,
    "start_time": "2024-05-22T16:05:27.027Z"
   },
   {
    "duration": 24,
    "start_time": "2024-05-22T16:05:27.127Z"
   },
   {
    "duration": 3,
    "start_time": "2024-05-22T16:05:27.154Z"
   },
   {
    "duration": 11,
    "start_time": "2024-05-22T16:05:27.158Z"
   },
   {
    "duration": 366,
    "start_time": "2024-05-22T16:05:27.170Z"
   },
   {
    "duration": 363,
    "start_time": "2024-05-22T16:05:27.538Z"
   },
   {
    "duration": 246,
    "start_time": "2024-05-22T16:05:27.903Z"
   },
   {
    "duration": 328,
    "start_time": "2024-05-22T16:05:28.150Z"
   },
   {
    "duration": 1983,
    "start_time": "2024-05-22T16:05:28.480Z"
   },
   {
    "duration": 825,
    "start_time": "2024-05-22T16:05:30.465Z"
   },
   {
    "duration": 254,
    "start_time": "2024-05-22T16:05:31.292Z"
   },
   {
    "duration": 13,
    "start_time": "2024-05-22T16:05:31.547Z"
   },
   {
    "duration": 22,
    "start_time": "2024-05-22T16:05:31.562Z"
   },
   {
    "duration": 30,
    "start_time": "2024-05-22T16:05:31.586Z"
   },
   {
    "duration": 1531,
    "start_time": "2024-05-22T16:05:31.618Z"
   },
   {
    "duration": 1144,
    "start_time": "2024-05-22T16:05:33.156Z"
   },
   {
    "duration": 18,
    "start_time": "2024-05-22T16:05:34.302Z"
   },
   {
    "duration": 464,
    "start_time": "2024-05-22T16:05:34.321Z"
   },
   {
    "duration": 9,
    "start_time": "2024-05-22T16:05:34.786Z"
   },
   {
    "duration": 301,
    "start_time": "2024-05-22T16:05:34.796Z"
   },
   {
    "duration": 5,
    "start_time": "2024-05-22T16:05:35.100Z"
   },
   {
    "duration": 413,
    "start_time": "2024-05-22T16:05:35.107Z"
   },
   {
    "duration": 11,
    "start_time": "2024-05-22T16:05:35.522Z"
   },
   {
    "duration": 24,
    "start_time": "2024-05-22T16:05:35.534Z"
   },
   {
    "duration": 15,
    "start_time": "2024-05-22T16:05:35.559Z"
   },
   {
    "duration": 34,
    "start_time": "2024-05-22T16:05:35.575Z"
   },
   {
    "duration": 31,
    "start_time": "2024-05-22T16:05:35.610Z"
   },
   {
    "duration": 25,
    "start_time": "2024-05-22T16:05:35.642Z"
   },
   {
    "duration": 35,
    "start_time": "2024-05-22T16:05:35.668Z"
   },
   {
    "duration": 142,
    "start_time": "2024-05-22T16:05:35.704Z"
   },
   {
    "duration": 0,
    "start_time": "2024-05-22T16:05:35.848Z"
   },
   {
    "duration": 0,
    "start_time": "2024-05-22T16:05:35.849Z"
   },
   {
    "duration": 0,
    "start_time": "2024-05-22T16:05:35.850Z"
   },
   {
    "duration": 0,
    "start_time": "2024-05-22T16:05:35.856Z"
   },
   {
    "duration": 0,
    "start_time": "2024-05-22T16:05:35.858Z"
   },
   {
    "duration": 9215,
    "start_time": "2024-05-22T19:13:31.382Z"
   },
   {
    "duration": 1955,
    "start_time": "2024-05-22T19:13:40.599Z"
   },
   {
    "duration": 4,
    "start_time": "2024-05-22T19:13:42.556Z"
   },
   {
    "duration": 16,
    "start_time": "2024-05-22T19:13:42.562Z"
   },
   {
    "duration": 13,
    "start_time": "2024-05-22T19:13:42.580Z"
   },
   {
    "duration": 5,
    "start_time": "2024-05-22T19:13:42.595Z"
   },
   {
    "duration": 19,
    "start_time": "2024-05-22T19:13:42.602Z"
   },
   {
    "duration": 106,
    "start_time": "2024-05-22T19:13:42.622Z"
   },
   {
    "duration": 31,
    "start_time": "2024-05-22T19:13:42.731Z"
   },
   {
    "duration": 5,
    "start_time": "2024-05-22T19:13:42.766Z"
   },
   {
    "duration": 18,
    "start_time": "2024-05-22T19:13:42.773Z"
   },
   {
    "duration": 466,
    "start_time": "2024-05-22T19:13:42.793Z"
   },
   {
    "duration": 413,
    "start_time": "2024-05-22T19:13:43.261Z"
   },
   {
    "duration": 278,
    "start_time": "2024-05-22T19:13:43.676Z"
   },
   {
    "duration": 302,
    "start_time": "2024-05-22T19:13:43.955Z"
   },
   {
    "duration": 4977,
    "start_time": "2024-05-22T19:13:44.259Z"
   },
   {
    "duration": 762,
    "start_time": "2024-05-22T19:13:49.242Z"
   },
   {
    "duration": 293,
    "start_time": "2024-05-22T19:13:50.006Z"
   },
   {
    "duration": 9,
    "start_time": "2024-05-22T19:13:50.300Z"
   },
   {
    "duration": 16,
    "start_time": "2024-05-22T19:13:50.310Z"
   },
   {
    "duration": 28,
    "start_time": "2024-05-22T19:13:50.328Z"
   },
   {
    "duration": 1664,
    "start_time": "2024-05-22T19:13:50.357Z"
   },
   {
    "duration": 1280,
    "start_time": "2024-05-22T19:13:52.030Z"
   },
   {
    "duration": 27,
    "start_time": "2024-05-22T19:13:53.311Z"
   },
   {
    "duration": 532,
    "start_time": "2024-05-22T19:13:53.340Z"
   },
   {
    "duration": 12,
    "start_time": "2024-05-22T19:13:53.874Z"
   },
   {
    "duration": 341,
    "start_time": "2024-05-22T19:13:53.888Z"
   },
   {
    "duration": 11,
    "start_time": "2024-05-22T19:13:54.237Z"
   },
   {
    "duration": 481,
    "start_time": "2024-05-22T19:13:54.249Z"
   },
   {
    "duration": 19,
    "start_time": "2024-05-22T19:13:54.734Z"
   },
   {
    "duration": 25,
    "start_time": "2024-05-22T19:13:54.755Z"
   },
   {
    "duration": 13,
    "start_time": "2024-05-22T19:13:54.782Z"
   },
   {
    "duration": 26,
    "start_time": "2024-05-22T19:13:54.797Z"
   },
   {
    "duration": 33,
    "start_time": "2024-05-22T19:13:54.824Z"
   },
   {
    "duration": 34,
    "start_time": "2024-05-22T19:13:54.859Z"
   },
   {
    "duration": 46,
    "start_time": "2024-05-22T19:13:54.895Z"
   },
   {
    "duration": 191,
    "start_time": "2024-05-22T19:13:54.944Z"
   },
   {
    "duration": 0,
    "start_time": "2024-05-22T19:13:55.137Z"
   },
   {
    "duration": 0,
    "start_time": "2024-05-22T19:13:55.139Z"
   },
   {
    "duration": 0,
    "start_time": "2024-05-22T19:13:55.142Z"
   },
   {
    "duration": 0,
    "start_time": "2024-05-22T19:13:55.144Z"
   },
   {
    "duration": 0,
    "start_time": "2024-05-22T19:13:55.145Z"
   },
   {
    "duration": 422,
    "start_time": "2024-05-22T19:21:51.594Z"
   },
   {
    "duration": 455,
    "start_time": "2024-05-22T19:21:58.222Z"
   },
   {
    "duration": 287,
    "start_time": "2024-05-22T20:24:01.236Z"
   },
   {
    "duration": 302,
    "start_time": "2024-05-22T20:24:17.243Z"
   },
   {
    "duration": 318,
    "start_time": "2024-05-22T20:24:57.878Z"
   },
   {
    "duration": 277,
    "start_time": "2024-05-22T20:25:11.181Z"
   },
   {
    "duration": 437,
    "start_time": "2024-05-22T20:29:29.506Z"
   },
   {
    "duration": 289,
    "start_time": "2024-05-22T20:30:53.248Z"
   },
   {
    "duration": 9309,
    "start_time": "2024-05-24T13:05:42.713Z"
   },
   {
    "duration": 1955,
    "start_time": "2024-05-24T13:05:52.025Z"
   },
   {
    "duration": 4,
    "start_time": "2024-05-24T13:05:53.982Z"
   },
   {
    "duration": 23,
    "start_time": "2024-05-24T13:05:53.988Z"
   },
   {
    "duration": 8,
    "start_time": "2024-05-24T13:05:54.013Z"
   },
   {
    "duration": 6,
    "start_time": "2024-05-24T13:05:54.023Z"
   },
   {
    "duration": 20,
    "start_time": "2024-05-24T13:05:54.031Z"
   },
   {
    "duration": 223,
    "start_time": "2024-05-24T13:05:54.052Z"
   },
   {
    "duration": 25,
    "start_time": "2024-05-24T13:05:54.277Z"
   },
   {
    "duration": 5,
    "start_time": "2024-05-24T13:05:54.305Z"
   },
   {
    "duration": 17,
    "start_time": "2024-05-24T13:05:54.312Z"
   },
   {
    "duration": 433,
    "start_time": "2024-05-24T13:05:54.330Z"
   },
   {
    "duration": 393,
    "start_time": "2024-05-24T13:05:54.765Z"
   },
   {
    "duration": 261,
    "start_time": "2024-05-24T13:05:55.160Z"
   },
   {
    "duration": 371,
    "start_time": "2024-05-24T13:05:55.423Z"
   },
   {
    "duration": 1969,
    "start_time": "2024-05-24T13:05:55.795Z"
   },
   {
    "duration": 840,
    "start_time": "2024-05-24T13:05:57.766Z"
   },
   {
    "duration": 278,
    "start_time": "2024-05-24T13:05:58.608Z"
   },
   {
    "duration": 9,
    "start_time": "2024-05-24T13:05:58.888Z"
   },
   {
    "duration": 23,
    "start_time": "2024-05-24T13:05:58.898Z"
   },
   {
    "duration": 27,
    "start_time": "2024-05-24T13:05:58.923Z"
   },
   {
    "duration": 1637,
    "start_time": "2024-05-24T13:05:58.951Z"
   },
   {
    "duration": 1283,
    "start_time": "2024-05-24T13:06:00.590Z"
   },
   {
    "duration": 21,
    "start_time": "2024-05-24T13:06:01.875Z"
   },
   {
    "duration": 519,
    "start_time": "2024-05-24T13:06:01.898Z"
   },
   {
    "duration": 11,
    "start_time": "2024-05-24T13:06:02.418Z"
   },
   {
    "duration": 297,
    "start_time": "2024-05-24T13:06:02.430Z"
   },
   {
    "duration": 6,
    "start_time": "2024-05-24T13:06:02.731Z"
   },
   {
    "duration": 501,
    "start_time": "2024-05-24T13:06:02.739Z"
   },
   {
    "duration": 19,
    "start_time": "2024-05-24T13:06:03.241Z"
   },
   {
    "duration": 9,
    "start_time": "2024-05-24T13:06:03.261Z"
   },
   {
    "duration": 5,
    "start_time": "2024-05-24T13:06:03.272Z"
   },
   {
    "duration": 5,
    "start_time": "2024-05-24T13:06:03.278Z"
   },
   {
    "duration": 9,
    "start_time": "2024-05-24T13:06:03.284Z"
   },
   {
    "duration": 7,
    "start_time": "2024-05-24T13:06:03.294Z"
   },
   {
    "duration": 13,
    "start_time": "2024-05-24T13:06:03.302Z"
   },
   {
    "duration": 163,
    "start_time": "2024-05-24T13:06:03.317Z"
   },
   {
    "duration": 0,
    "start_time": "2024-05-24T13:06:03.481Z"
   },
   {
    "duration": 0,
    "start_time": "2024-05-24T13:06:03.482Z"
   },
   {
    "duration": 0,
    "start_time": "2024-05-24T13:06:03.483Z"
   },
   {
    "duration": 0,
    "start_time": "2024-05-24T13:06:03.484Z"
   },
   {
    "duration": 0,
    "start_time": "2024-05-24T13:06:03.485Z"
   },
   {
    "duration": 8179,
    "start_time": "2024-05-25T16:44:10.192Z"
   },
   {
    "duration": 1795,
    "start_time": "2024-05-25T16:44:18.374Z"
   },
   {
    "duration": 4,
    "start_time": "2024-05-25T16:44:20.170Z"
   },
   {
    "duration": 8,
    "start_time": "2024-05-25T16:44:20.176Z"
   },
   {
    "duration": 17,
    "start_time": "2024-05-25T16:44:20.187Z"
   },
   {
    "duration": 5,
    "start_time": "2024-05-25T16:44:20.210Z"
   },
   {
    "duration": 11,
    "start_time": "2024-05-25T16:44:20.217Z"
   },
   {
    "duration": 175,
    "start_time": "2024-05-25T16:44:20.229Z"
   },
   {
    "duration": 22,
    "start_time": "2024-05-25T16:44:20.408Z"
   },
   {
    "duration": 4,
    "start_time": "2024-05-25T16:44:20.431Z"
   },
   {
    "duration": 13,
    "start_time": "2024-05-25T16:44:20.436Z"
   },
   {
    "duration": 397,
    "start_time": "2024-05-25T16:44:20.450Z"
   },
   {
    "duration": 381,
    "start_time": "2024-05-25T16:44:20.849Z"
   },
   {
    "duration": 286,
    "start_time": "2024-05-25T16:44:21.234Z"
   },
   {
    "duration": 319,
    "start_time": "2024-05-25T16:44:21.522Z"
   },
   {
    "duration": 3367,
    "start_time": "2024-05-25T16:44:21.843Z"
   },
   {
    "duration": 771,
    "start_time": "2024-05-25T16:44:25.295Z"
   },
   {
    "duration": 259,
    "start_time": "2024-05-25T16:44:26.068Z"
   },
   {
    "duration": 8,
    "start_time": "2024-05-25T16:44:26.329Z"
   },
   {
    "duration": 13,
    "start_time": "2024-05-25T16:44:26.338Z"
   },
   {
    "duration": 20,
    "start_time": "2024-05-25T16:44:26.352Z"
   },
   {
    "duration": 1501,
    "start_time": "2024-05-25T16:44:26.374Z"
   },
   {
    "duration": 1183,
    "start_time": "2024-05-25T16:44:27.877Z"
   },
   {
    "duration": 39,
    "start_time": "2024-05-25T16:44:29.062Z"
   },
   {
    "duration": 483,
    "start_time": "2024-05-25T16:44:29.107Z"
   },
   {
    "duration": 11,
    "start_time": "2024-05-25T16:44:29.602Z"
   },
   {
    "duration": 279,
    "start_time": "2024-05-25T16:44:29.615Z"
   },
   {
    "duration": 11,
    "start_time": "2024-05-25T16:44:29.896Z"
   },
   {
    "duration": 473,
    "start_time": "2024-05-25T16:44:29.910Z"
   },
   {
    "duration": 23,
    "start_time": "2024-05-25T16:44:30.384Z"
   },
   {
    "duration": 42,
    "start_time": "2024-05-25T16:44:30.408Z"
   },
   {
    "duration": 76,
    "start_time": "2024-05-25T16:44:30.451Z"
   },
   {
    "duration": 83,
    "start_time": "2024-05-25T16:44:30.529Z"
   },
   {
    "duration": 74,
    "start_time": "2024-05-25T16:44:30.614Z"
   },
   {
    "duration": 70,
    "start_time": "2024-05-25T16:44:30.689Z"
   },
   {
    "duration": 151,
    "start_time": "2024-05-25T16:44:30.760Z"
   },
   {
    "duration": 278,
    "start_time": "2024-05-25T16:44:30.912Z"
   },
   {
    "duration": 0,
    "start_time": "2024-05-25T16:44:31.191Z"
   },
   {
    "duration": 0,
    "start_time": "2024-05-25T16:44:31.196Z"
   },
   {
    "duration": 0,
    "start_time": "2024-05-25T16:44:31.197Z"
   },
   {
    "duration": 0,
    "start_time": "2024-05-25T16:44:31.198Z"
   },
   {
    "duration": 0,
    "start_time": "2024-05-25T16:44:31.199Z"
   },
   {
    "duration": 265,
    "start_time": "2024-05-25T16:45:50.307Z"
   },
   {
    "duration": 50955,
    "start_time": "2024-05-25T16:47:10.825Z"
   },
   {
    "duration": 131312,
    "start_time": "2024-05-25T16:48:13.306Z"
   },
   {
    "duration": 34908,
    "start_time": "2024-05-25T16:59:35.703Z"
   },
   {
    "duration": 212,
    "start_time": "2024-05-25T17:00:16.448Z"
   },
   {
    "duration": 418,
    "start_time": "2024-05-25T17:00:24.191Z"
   },
   {
    "duration": 4972,
    "start_time": "2024-05-25T17:02:24.829Z"
   },
   {
    "duration": 1626,
    "start_time": "2024-05-25T17:02:29.808Z"
   },
   {
    "duration": 4,
    "start_time": "2024-05-25T17:02:31.436Z"
   },
   {
    "duration": 73,
    "start_time": "2024-05-25T17:02:31.443Z"
   },
   {
    "duration": 51,
    "start_time": "2024-05-25T17:02:31.519Z"
   },
   {
    "duration": 63,
    "start_time": "2024-05-25T17:02:31.572Z"
   },
   {
    "duration": 171,
    "start_time": "2024-05-25T17:02:31.637Z"
   },
   {
    "duration": 103,
    "start_time": "2024-05-25T17:02:31.809Z"
   },
   {
    "duration": 24,
    "start_time": "2024-05-25T17:02:31.914Z"
   },
   {
    "duration": 4,
    "start_time": "2024-05-25T17:02:31.940Z"
   },
   {
    "duration": 64,
    "start_time": "2024-05-25T17:02:31.946Z"
   },
   {
    "duration": 396,
    "start_time": "2024-05-25T17:02:32.011Z"
   },
   {
    "duration": 382,
    "start_time": "2024-05-25T17:02:32.408Z"
   },
   {
    "duration": 244,
    "start_time": "2024-05-25T17:02:32.797Z"
   },
   {
    "duration": 333,
    "start_time": "2024-05-25T17:02:33.043Z"
   },
   {
    "duration": 3630,
    "start_time": "2024-05-25T17:02:33.378Z"
   },
   {
    "duration": 863,
    "start_time": "2024-05-25T17:02:37.011Z"
   },
   {
    "duration": 264,
    "start_time": "2024-05-25T17:02:37.876Z"
   },
   {
    "duration": 8,
    "start_time": "2024-05-25T17:02:38.141Z"
   },
   {
    "duration": 8,
    "start_time": "2024-05-25T17:02:38.151Z"
   },
   {
    "duration": 16,
    "start_time": "2024-05-25T17:02:38.160Z"
   },
   {
    "duration": 1350,
    "start_time": "2024-05-25T17:02:38.178Z"
   },
   {
    "duration": 1244,
    "start_time": "2024-05-25T17:02:39.530Z"
   },
   {
    "duration": 31,
    "start_time": "2024-05-25T17:02:40.776Z"
   },
   {
    "duration": 463,
    "start_time": "2024-05-25T17:02:40.809Z"
   },
   {
    "duration": 9,
    "start_time": "2024-05-25T17:02:41.273Z"
   },
   {
    "duration": 305,
    "start_time": "2024-05-25T17:02:41.283Z"
   },
   {
    "duration": 19,
    "start_time": "2024-05-25T17:02:41.590Z"
   },
   {
    "duration": 483,
    "start_time": "2024-05-25T17:02:41.610Z"
   },
   {
    "duration": 275,
    "start_time": "2024-05-25T17:02:42.095Z"
   },
   {
    "duration": 2507,
    "start_time": "2024-05-25T17:02:42.371Z"
   },
   {
    "duration": 23,
    "start_time": "2024-05-25T17:02:44.880Z"
   },
   {
    "duration": 45,
    "start_time": "2024-05-25T17:02:44.906Z"
   },
   {
    "duration": 6,
    "start_time": "2024-05-25T17:02:44.953Z"
   },
   {
    "duration": 33,
    "start_time": "2024-05-25T17:02:44.961Z"
   },
   {
    "duration": 22,
    "start_time": "2024-05-25T17:02:44.996Z"
   },
   {
    "duration": 208,
    "start_time": "2024-05-25T17:02:45.020Z"
   },
   {
    "duration": 49,
    "start_time": "2024-05-25T17:02:45.230Z"
   },
   {
    "duration": 177,
    "start_time": "2024-05-25T17:02:45.281Z"
   },
   {
    "duration": 0,
    "start_time": "2024-05-25T17:02:45.461Z"
   },
   {
    "duration": 0,
    "start_time": "2024-05-25T17:02:45.463Z"
   },
   {
    "duration": 0,
    "start_time": "2024-05-25T17:02:45.464Z"
   },
   {
    "duration": 0,
    "start_time": "2024-05-25T17:02:45.465Z"
   },
   {
    "duration": 0,
    "start_time": "2024-05-25T17:02:45.467Z"
   },
   {
    "duration": 413,
    "start_time": "2024-05-25T17:02:59.170Z"
   },
   {
    "duration": 13338,
    "start_time": "2024-05-25T17:03:07.451Z"
   },
   {
    "duration": 1376,
    "start_time": "2024-05-25T17:03:22.240Z"
   },
   {
    "duration": 1680,
    "start_time": "2024-05-25T17:03:27.505Z"
   },
   {
    "duration": 3076,
    "start_time": "2024-05-25T17:03:34.047Z"
   },
   {
    "duration": 3011,
    "start_time": "2024-05-25T17:03:47.210Z"
   },
   {
    "duration": 11,
    "start_time": "2024-05-25T17:12:19.590Z"
   },
   {
    "duration": 4,
    "start_time": "2024-05-25T17:12:20.250Z"
   },
   {
    "duration": 18,
    "start_time": "2024-05-25T17:17:46.790Z"
   },
   {
    "duration": 4,
    "start_time": "2024-05-25T17:18:06.835Z"
   },
   {
    "duration": 12,
    "start_time": "2024-05-25T17:22:26.035Z"
   },
   {
    "duration": 12,
    "start_time": "2024-05-25T17:22:30.113Z"
   },
   {
    "duration": 14,
    "start_time": "2024-05-25T17:22:35.526Z"
   },
   {
    "duration": 336198,
    "start_time": "2024-05-25T17:23:00.843Z"
   },
   {
    "duration": 42696,
    "start_time": "2024-05-25T17:28:38.718Z"
   },
   {
    "duration": 2338,
    "start_time": "2024-05-25T17:29:27.676Z"
   },
   {
    "duration": 9,
    "start_time": "2024-05-25T17:30:14.109Z"
   },
   {
    "duration": 942,
    "start_time": "2024-05-25T17:30:24.478Z"
   },
   {
    "duration": 774,
    "start_time": "2024-05-25T17:30:46.260Z"
   },
   {
    "duration": 10,
    "start_time": "2024-05-25T17:31:08.461Z"
   },
   {
    "duration": 21,
    "start_time": "2024-05-25T17:31:31.446Z"
   },
   {
    "duration": 10,
    "start_time": "2024-05-25T17:31:40.419Z"
   },
   {
    "duration": 240,
    "start_time": "2024-05-25T17:31:57.430Z"
   },
   {
    "duration": 4,
    "start_time": "2024-05-25T17:32:20.350Z"
   },
   {
    "duration": 353,
    "start_time": "2024-05-25T17:33:40.071Z"
   },
   {
    "duration": 146,
    "start_time": "2024-05-25T17:33:48.244Z"
   },
   {
    "duration": 226,
    "start_time": "2024-05-25T17:34:05.908Z"
   },
   {
    "duration": 3,
    "start_time": "2024-05-25T17:34:30.922Z"
   },
   {
    "duration": 797,
    "start_time": "2024-05-25T17:34:40.023Z"
   },
   {
    "duration": 1596,
    "start_time": "2024-05-25T17:34:56.314Z"
   },
   {
    "duration": 191,
    "start_time": "2024-05-25T17:35:02.578Z"
   },
   {
    "duration": 402,
    "start_time": "2024-05-25T17:35:03.471Z"
   },
   {
    "duration": 3510,
    "start_time": "2024-05-25T17:35:42.531Z"
   },
   {
    "duration": 25,
    "start_time": "2024-05-25T17:35:49.180Z"
   },
   {
    "duration": 250,
    "start_time": "2024-05-25T17:35:51.173Z"
   },
   {
    "duration": 3,
    "start_time": "2024-05-25T17:36:03.050Z"
   },
   {
    "duration": 931,
    "start_time": "2024-05-25T17:36:05.271Z"
   },
   {
    "duration": 5610,
    "start_time": "2024-05-25T17:41:04.057Z"
   },
   {
    "duration": 1611,
    "start_time": "2024-05-25T17:41:09.669Z"
   },
   {
    "duration": 4,
    "start_time": "2024-05-25T17:41:11.282Z"
   },
   {
    "duration": 32,
    "start_time": "2024-05-25T17:41:11.287Z"
   },
   {
    "duration": 15,
    "start_time": "2024-05-25T17:41:11.328Z"
   },
   {
    "duration": 13,
    "start_time": "2024-05-25T17:41:11.344Z"
   },
   {
    "duration": 23,
    "start_time": "2024-05-25T17:41:11.359Z"
   },
   {
    "duration": 90,
    "start_time": "2024-05-25T17:41:11.384Z"
   },
   {
    "duration": 37,
    "start_time": "2024-05-25T17:41:11.476Z"
   },
   {
    "duration": 12,
    "start_time": "2024-05-25T17:41:11.519Z"
   },
   {
    "duration": 27,
    "start_time": "2024-05-25T17:41:11.534Z"
   },
   {
    "duration": 396,
    "start_time": "2024-05-25T17:41:11.562Z"
   },
   {
    "duration": 402,
    "start_time": "2024-05-25T17:41:11.960Z"
   },
   {
    "duration": 294,
    "start_time": "2024-05-25T17:41:12.367Z"
   },
   {
    "duration": 335,
    "start_time": "2024-05-25T17:41:12.663Z"
   },
   {
    "duration": 6334,
    "start_time": "2024-05-25T17:41:12.999Z"
   },
   {
    "duration": 1260,
    "start_time": "2024-05-25T17:41:19.335Z"
   },
   {
    "duration": 725,
    "start_time": "2024-05-25T17:41:20.602Z"
   },
   {
    "duration": 9,
    "start_time": "2024-05-25T17:41:21.331Z"
   },
   {
    "duration": 6,
    "start_time": "2024-05-25T17:41:21.341Z"
   },
   {
    "duration": 7,
    "start_time": "2024-05-25T17:41:21.404Z"
   },
   {
    "duration": 1532,
    "start_time": "2024-05-25T17:41:21.417Z"
   },
   {
    "duration": 1245,
    "start_time": "2024-05-25T17:41:22.951Z"
   },
   {
    "duration": 29,
    "start_time": "2024-05-25T17:41:24.198Z"
   },
   {
    "duration": 576,
    "start_time": "2024-05-25T17:41:24.229Z"
   },
   {
    "duration": 15,
    "start_time": "2024-05-25T17:41:24.811Z"
   },
   {
    "duration": 322,
    "start_time": "2024-05-25T17:41:24.828Z"
   },
   {
    "duration": 6,
    "start_time": "2024-05-25T17:41:25.151Z"
   },
   {
    "duration": 469,
    "start_time": "2024-05-25T17:41:25.158Z"
   },
   {
    "duration": 260,
    "start_time": "2024-05-25T17:41:25.630Z"
   },
   {
    "duration": 7859,
    "start_time": "2024-05-25T17:41:25.892Z"
   },
   {
    "duration": 3,
    "start_time": "2024-05-25T17:41:33.753Z"
   },
   {
    "duration": 4353,
    "start_time": "2024-05-25T17:41:33.757Z"
   },
   {
    "duration": 1314,
    "start_time": "2024-05-25T17:41:38.112Z"
   },
   {
    "duration": 84,
    "start_time": "2024-05-25T17:41:39.428Z"
   },
   {
    "duration": 249,
    "start_time": "2024-05-25T17:41:39.518Z"
   },
   {
    "duration": 5,
    "start_time": "2024-05-25T17:41:39.768Z"
   },
   {
    "duration": 7131,
    "start_time": "2024-05-25T17:54:59.918Z"
   },
   {
    "duration": 1555,
    "start_time": "2024-05-25T17:55:07.052Z"
   },
   {
    "duration": 11,
    "start_time": "2024-05-25T17:55:08.614Z"
   },
   {
    "duration": 4,
    "start_time": "2024-05-25T17:55:08.633Z"
   },
   {
    "duration": 6,
    "start_time": "2024-05-25T17:55:08.639Z"
   },
   {
    "duration": 6,
    "start_time": "2024-05-25T17:55:08.647Z"
   },
   {
    "duration": 7,
    "start_time": "2024-05-25T17:55:08.654Z"
   },
   {
    "duration": 71,
    "start_time": "2024-05-25T17:55:08.662Z"
   },
   {
    "duration": 23,
    "start_time": "2024-05-25T17:55:08.734Z"
   },
   {
    "duration": 14,
    "start_time": "2024-05-25T17:55:08.758Z"
   },
   {
    "duration": 54,
    "start_time": "2024-05-25T17:55:08.773Z"
   },
   {
    "duration": 478,
    "start_time": "2024-05-25T17:55:08.828Z"
   },
   {
    "duration": 443,
    "start_time": "2024-05-25T17:55:09.308Z"
   },
   {
    "duration": 257,
    "start_time": "2024-05-25T17:55:09.755Z"
   },
   {
    "duration": 324,
    "start_time": "2024-05-25T17:55:10.014Z"
   },
   {
    "duration": 4182,
    "start_time": "2024-05-25T17:55:10.339Z"
   },
   {
    "duration": 830,
    "start_time": "2024-05-25T17:55:14.526Z"
   },
   {
    "duration": 287,
    "start_time": "2024-05-25T17:55:15.358Z"
   },
   {
    "duration": 8,
    "start_time": "2024-05-25T17:55:15.647Z"
   },
   {
    "duration": 9,
    "start_time": "2024-05-25T17:55:15.657Z"
   },
   {
    "duration": 14,
    "start_time": "2024-05-25T17:55:15.667Z"
   },
   {
    "duration": 1369,
    "start_time": "2024-05-25T17:55:15.683Z"
   },
   {
    "duration": 1223,
    "start_time": "2024-05-25T17:55:17.053Z"
   },
   {
    "duration": 23,
    "start_time": "2024-05-25T17:55:18.277Z"
   },
   {
    "duration": 467,
    "start_time": "2024-05-25T17:55:18.301Z"
   },
   {
    "duration": 9,
    "start_time": "2024-05-25T17:55:18.769Z"
   },
   {
    "duration": 296,
    "start_time": "2024-05-25T17:55:18.780Z"
   },
   {
    "duration": 5,
    "start_time": "2024-05-25T17:55:19.078Z"
   },
   {
    "duration": 445,
    "start_time": "2024-05-25T17:55:19.085Z"
   },
   {
    "duration": 246,
    "start_time": "2024-05-25T17:55:19.537Z"
   },
   {
    "duration": 9038,
    "start_time": "2024-05-25T17:55:19.785Z"
   },
   {
    "duration": 4,
    "start_time": "2024-05-25T17:55:28.824Z"
   },
   {
    "duration": 16266,
    "start_time": "2024-05-25T17:55:28.829Z"
   },
   {
    "duration": 1312,
    "start_time": "2024-05-25T17:55:45.099Z"
   },
   {
    "duration": 19,
    "start_time": "2024-05-25T17:55:46.413Z"
   },
   {
    "duration": 299,
    "start_time": "2024-05-25T17:55:46.436Z"
   },
   {
    "duration": 6,
    "start_time": "2024-05-25T17:55:46.737Z"
   },
   {
    "duration": 64512,
    "start_time": "2024-05-25T17:55:46.745Z"
   },
   {
    "duration": 0,
    "start_time": "2024-05-25T17:56:51.259Z"
   },
   {
    "duration": 0,
    "start_time": "2024-05-25T17:56:51.262Z"
   },
   {
    "duration": 0,
    "start_time": "2024-05-25T17:56:51.263Z"
   },
   {
    "duration": 0,
    "start_time": "2024-05-25T17:56:51.264Z"
   },
   {
    "duration": 0,
    "start_time": "2024-05-25T17:56:51.265Z"
   },
   {
    "duration": 0,
    "start_time": "2024-05-25T17:56:51.266Z"
   },
   {
    "duration": 0,
    "start_time": "2024-05-25T17:56:51.267Z"
   },
   {
    "duration": 0,
    "start_time": "2024-05-25T17:56:51.269Z"
   },
   {
    "duration": 0,
    "start_time": "2024-05-25T17:56:51.270Z"
   },
   {
    "duration": 0,
    "start_time": "2024-05-25T17:56:51.271Z"
   },
   {
    "duration": 0,
    "start_time": "2024-05-25T17:56:51.272Z"
   },
   {
    "duration": 0,
    "start_time": "2024-05-25T17:56:51.273Z"
   },
   {
    "duration": 0,
    "start_time": "2024-05-25T17:56:51.297Z"
   },
   {
    "duration": 0,
    "start_time": "2024-05-25T17:56:51.298Z"
   },
   {
    "duration": 0,
    "start_time": "2024-05-25T17:56:51.299Z"
   },
   {
    "duration": 0,
    "start_time": "2024-05-25T17:56:51.300Z"
   },
   {
    "duration": 0,
    "start_time": "2024-05-25T17:56:51.301Z"
   },
   {
    "duration": 0,
    "start_time": "2024-05-25T17:56:51.302Z"
   },
   {
    "duration": 372,
    "start_time": "2024-05-25T17:58:46.472Z"
   },
   {
    "duration": 4710,
    "start_time": "2024-05-25T18:06:07.837Z"
   },
   {
    "duration": 1539,
    "start_time": "2024-05-25T18:06:12.552Z"
   },
   {
    "duration": 5,
    "start_time": "2024-05-25T18:06:14.093Z"
   },
   {
    "duration": 13,
    "start_time": "2024-05-25T18:06:14.100Z"
   },
   {
    "duration": 9,
    "start_time": "2024-05-25T18:06:14.116Z"
   },
   {
    "duration": 8,
    "start_time": "2024-05-25T18:06:14.127Z"
   },
   {
    "duration": 8,
    "start_time": "2024-05-25T18:06:14.136Z"
   },
   {
    "duration": 74,
    "start_time": "2024-05-25T18:06:14.146Z"
   },
   {
    "duration": 25,
    "start_time": "2024-05-25T18:06:14.222Z"
   },
   {
    "duration": 5,
    "start_time": "2024-05-25T18:06:14.249Z"
   },
   {
    "duration": 15,
    "start_time": "2024-05-25T18:06:14.255Z"
   },
   {
    "duration": 379,
    "start_time": "2024-05-25T18:06:14.271Z"
   },
   {
    "duration": 341,
    "start_time": "2024-05-25T18:06:14.652Z"
   },
   {
    "duration": 262,
    "start_time": "2024-05-25T18:06:14.996Z"
   },
   {
    "duration": 363,
    "start_time": "2024-05-25T18:06:15.260Z"
   },
   {
    "duration": 1978,
    "start_time": "2024-05-25T18:06:15.625Z"
   },
   {
    "duration": 753,
    "start_time": "2024-05-25T18:06:17.605Z"
   },
   {
    "duration": 276,
    "start_time": "2024-05-25T18:06:18.360Z"
   },
   {
    "duration": 8,
    "start_time": "2024-05-25T18:06:18.637Z"
   },
   {
    "duration": 15,
    "start_time": "2024-05-25T18:06:18.646Z"
   },
   {
    "duration": 18,
    "start_time": "2024-05-25T18:06:18.662Z"
   },
   {
    "duration": 1388,
    "start_time": "2024-05-25T18:06:18.681Z"
   },
   {
    "duration": 1129,
    "start_time": "2024-05-25T18:06:20.071Z"
   },
   {
    "duration": 20,
    "start_time": "2024-05-25T18:06:21.202Z"
   },
   {
    "duration": 486,
    "start_time": "2024-05-25T18:06:21.223Z"
   },
   {
    "duration": 9,
    "start_time": "2024-05-25T18:06:21.711Z"
   },
   {
    "duration": 251,
    "start_time": "2024-05-25T18:06:21.722Z"
   },
   {
    "duration": 18,
    "start_time": "2024-05-25T18:06:21.975Z"
   },
   {
    "duration": 444,
    "start_time": "2024-05-25T18:06:21.995Z"
   },
   {
    "duration": 285,
    "start_time": "2024-05-25T18:06:22.441Z"
   },
   {
    "duration": 5192,
    "start_time": "2024-05-25T18:06:22.728Z"
   },
   {
    "duration": 4,
    "start_time": "2024-05-25T18:06:27.922Z"
   },
   {
    "duration": 5753,
    "start_time": "2024-05-25T18:06:58.300Z"
   },
   {
    "duration": 1628,
    "start_time": "2024-05-25T18:07:04.056Z"
   },
   {
    "duration": 5,
    "start_time": "2024-05-25T18:07:05.686Z"
   },
   {
    "duration": 50,
    "start_time": "2024-05-25T18:07:05.693Z"
   },
   {
    "duration": 31,
    "start_time": "2024-05-25T18:07:05.746Z"
   },
   {
    "duration": 21,
    "start_time": "2024-05-25T18:07:05.779Z"
   },
   {
    "duration": 33,
    "start_time": "2024-05-25T18:07:05.802Z"
   },
   {
    "duration": 97,
    "start_time": "2024-05-25T18:07:05.837Z"
   },
   {
    "duration": 59,
    "start_time": "2024-05-25T18:07:05.936Z"
   },
   {
    "duration": 5,
    "start_time": "2024-05-25T18:07:05.997Z"
   },
   {
    "duration": 26,
    "start_time": "2024-05-25T18:07:06.014Z"
   },
   {
    "duration": 425,
    "start_time": "2024-05-25T18:07:06.041Z"
   },
   {
    "duration": 363,
    "start_time": "2024-05-25T18:07:06.468Z"
   },
   {
    "duration": 246,
    "start_time": "2024-05-25T18:07:06.835Z"
   },
   {
    "duration": 357,
    "start_time": "2024-05-25T18:07:07.082Z"
   },
   {
    "duration": 3163,
    "start_time": "2024-05-25T18:07:07.441Z"
   },
   {
    "duration": 788,
    "start_time": "2024-05-25T18:07:10.606Z"
   },
   {
    "duration": 267,
    "start_time": "2024-05-25T18:07:11.396Z"
   },
   {
    "duration": 8,
    "start_time": "2024-05-25T18:07:11.665Z"
   },
   {
    "duration": 27,
    "start_time": "2024-05-25T18:07:11.674Z"
   },
   {
    "duration": 6,
    "start_time": "2024-05-25T18:07:11.703Z"
   },
   {
    "duration": 1427,
    "start_time": "2024-05-25T18:07:11.711Z"
   },
   {
    "duration": 1223,
    "start_time": "2024-05-25T18:07:13.140Z"
   },
   {
    "duration": 30,
    "start_time": "2024-05-25T18:07:14.365Z"
   },
   {
    "duration": 528,
    "start_time": "2024-05-25T18:07:14.396Z"
   },
   {
    "duration": 15,
    "start_time": "2024-05-25T18:07:14.926Z"
   },
   {
    "duration": 351,
    "start_time": "2024-05-25T18:07:14.943Z"
   },
   {
    "duration": 7,
    "start_time": "2024-05-25T18:07:15.295Z"
   },
   {
    "duration": 460,
    "start_time": "2024-05-25T18:07:15.304Z"
   },
   {
    "duration": 340,
    "start_time": "2024-05-25T18:07:15.766Z"
   },
   {
    "duration": 3828,
    "start_time": "2024-05-25T18:07:16.107Z"
   },
   {
    "duration": 3,
    "start_time": "2024-05-25T18:07:19.938Z"
   },
   {
    "duration": 4686,
    "start_time": "2024-05-25T18:09:24.912Z"
   },
   {
    "duration": 1683,
    "start_time": "2024-05-25T18:09:29.601Z"
   },
   {
    "duration": 4,
    "start_time": "2024-05-25T18:09:31.286Z"
   },
   {
    "duration": 52,
    "start_time": "2024-05-25T18:09:31.291Z"
   },
   {
    "duration": 78,
    "start_time": "2024-05-25T18:09:31.346Z"
   },
   {
    "duration": 45,
    "start_time": "2024-05-25T18:09:31.426Z"
   },
   {
    "duration": 75,
    "start_time": "2024-05-25T18:09:31.473Z"
   },
   {
    "duration": 105,
    "start_time": "2024-05-25T18:09:31.550Z"
   },
   {
    "duration": 22,
    "start_time": "2024-05-25T18:09:31.657Z"
   },
   {
    "duration": 10,
    "start_time": "2024-05-25T18:09:31.681Z"
   },
   {
    "duration": 25,
    "start_time": "2024-05-25T18:09:31.693Z"
   },
   {
    "duration": 370,
    "start_time": "2024-05-25T18:09:31.720Z"
   },
   {
    "duration": 363,
    "start_time": "2024-05-25T18:09:32.093Z"
   },
   {
    "duration": 238,
    "start_time": "2024-05-25T18:09:32.459Z"
   },
   {
    "duration": 301,
    "start_time": "2024-05-25T18:09:32.699Z"
   },
   {
    "duration": 1602,
    "start_time": "2024-05-25T18:09:33.001Z"
   },
   {
    "duration": 866,
    "start_time": "2024-05-25T18:09:34.605Z"
   },
   {
    "duration": 273,
    "start_time": "2024-05-25T18:09:35.473Z"
   },
   {
    "duration": 9,
    "start_time": "2024-05-25T18:09:35.747Z"
   },
   {
    "duration": 40,
    "start_time": "2024-05-25T18:09:35.758Z"
   },
   {
    "duration": 26,
    "start_time": "2024-05-25T18:09:35.800Z"
   },
   {
    "duration": 1357,
    "start_time": "2024-05-25T18:09:35.828Z"
   },
   {
    "duration": 1235,
    "start_time": "2024-05-25T18:09:37.187Z"
   },
   {
    "duration": 19,
    "start_time": "2024-05-25T18:09:38.423Z"
   },
   {
    "duration": 481,
    "start_time": "2024-05-25T18:09:38.444Z"
   },
   {
    "duration": 11,
    "start_time": "2024-05-25T18:09:38.927Z"
   },
   {
    "duration": 287,
    "start_time": "2024-05-25T18:09:38.940Z"
   },
   {
    "duration": 6,
    "start_time": "2024-05-25T18:09:39.228Z"
   },
   {
    "duration": 471,
    "start_time": "2024-05-25T18:09:39.236Z"
   },
   {
    "duration": 329,
    "start_time": "2024-05-25T18:09:39.708Z"
   },
   {
    "duration": 2453,
    "start_time": "2024-05-25T18:09:40.038Z"
   },
   {
    "duration": 16,
    "start_time": "2024-05-25T18:09:42.493Z"
   },
   {
    "duration": 4871,
    "start_time": "2024-05-25T19:57:12.267Z"
   },
   {
    "duration": 1508,
    "start_time": "2024-05-25T19:57:17.140Z"
   },
   {
    "duration": 3,
    "start_time": "2024-05-25T19:57:18.650Z"
   },
   {
    "duration": 15,
    "start_time": "2024-05-25T19:57:18.656Z"
   },
   {
    "duration": 6,
    "start_time": "2024-05-25T19:57:18.673Z"
   },
   {
    "duration": 12,
    "start_time": "2024-05-25T19:57:18.681Z"
   },
   {
    "duration": 8,
    "start_time": "2024-05-25T19:57:18.705Z"
   },
   {
    "duration": 65,
    "start_time": "2024-05-25T19:57:18.715Z"
   },
   {
    "duration": 28,
    "start_time": "2024-05-25T19:57:18.782Z"
   },
   {
    "duration": 4,
    "start_time": "2024-05-25T19:57:18.812Z"
   },
   {
    "duration": 10,
    "start_time": "2024-05-25T19:57:18.817Z"
   },
   {
    "duration": 402,
    "start_time": "2024-05-25T19:57:18.828Z"
   },
   {
    "duration": 345,
    "start_time": "2024-05-25T19:57:19.232Z"
   },
   {
    "duration": 230,
    "start_time": "2024-05-25T19:57:19.578Z"
   },
   {
    "duration": 328,
    "start_time": "2024-05-25T19:57:19.810Z"
   },
   {
    "duration": 3059,
    "start_time": "2024-05-25T19:57:20.139Z"
   },
   {
    "duration": 760,
    "start_time": "2024-05-25T19:57:23.201Z"
   },
   {
    "duration": 270,
    "start_time": "2024-05-25T19:57:23.963Z"
   },
   {
    "duration": 7,
    "start_time": "2024-05-25T19:57:24.234Z"
   },
   {
    "duration": 5,
    "start_time": "2024-05-25T19:57:24.243Z"
   },
   {
    "duration": 5,
    "start_time": "2024-05-25T19:57:24.249Z"
   },
   {
    "duration": 1326,
    "start_time": "2024-05-25T19:57:24.256Z"
   },
   {
    "duration": 1154,
    "start_time": "2024-05-25T19:57:25.584Z"
   },
   {
    "duration": 18,
    "start_time": "2024-05-25T19:57:26.739Z"
   },
   {
    "duration": 498,
    "start_time": "2024-05-25T19:57:26.759Z"
   },
   {
    "duration": 9,
    "start_time": "2024-05-25T19:57:27.258Z"
   },
   {
    "duration": 301,
    "start_time": "2024-05-25T19:57:27.268Z"
   },
   {
    "duration": 6,
    "start_time": "2024-05-25T19:57:27.572Z"
   },
   {
    "duration": 404,
    "start_time": "2024-05-25T19:57:27.579Z"
   },
   {
    "duration": 331,
    "start_time": "2024-05-25T19:57:27.985Z"
   },
   {
    "duration": 1523,
    "start_time": "2024-05-25T19:57:28.318Z"
   },
   {
    "duration": 4,
    "start_time": "2024-05-25T19:57:29.842Z"
   },
   {
    "duration": 6644880,
    "start_time": "2024-05-25T19:57:29.847Z"
   },
   {
    "duration": 0,
    "start_time": "2024-05-25T21:48:14.728Z"
   },
   {
    "duration": 0,
    "start_time": "2024-05-25T21:48:14.729Z"
   },
   {
    "duration": 0,
    "start_time": "2024-05-25T21:48:14.730Z"
   },
   {
    "duration": 0,
    "start_time": "2024-05-25T21:48:14.731Z"
   },
   {
    "duration": 0,
    "start_time": "2024-05-25T21:48:14.732Z"
   },
   {
    "duration": 0,
    "start_time": "2024-05-25T21:48:14.733Z"
   },
   {
    "duration": 0,
    "start_time": "2024-05-25T21:48:14.734Z"
   },
   {
    "duration": 0,
    "start_time": "2024-05-25T21:48:14.735Z"
   },
   {
    "duration": 0,
    "start_time": "2024-05-25T21:48:14.736Z"
   },
   {
    "duration": 0,
    "start_time": "2024-05-25T21:48:14.737Z"
   },
   {
    "duration": 0,
    "start_time": "2024-05-25T21:48:14.738Z"
   },
   {
    "duration": 0,
    "start_time": "2024-05-25T21:48:14.739Z"
   },
   {
    "duration": 0,
    "start_time": "2024-05-25T21:48:14.739Z"
   },
   {
    "duration": 0,
    "start_time": "2024-05-25T21:48:14.740Z"
   },
   {
    "duration": 0,
    "start_time": "2024-05-25T21:48:14.741Z"
   },
   {
    "duration": 0,
    "start_time": "2024-05-25T21:48:14.743Z"
   },
   {
    "duration": 0,
    "start_time": "2024-05-25T21:48:14.744Z"
   },
   {
    "duration": 0,
    "start_time": "2024-05-25T21:48:14.745Z"
   },
   {
    "duration": 0,
    "start_time": "2024-05-25T21:48:14.746Z"
   },
   {
    "duration": 0,
    "start_time": "2024-05-25T21:48:14.747Z"
   },
   {
    "duration": 0,
    "start_time": "2024-05-25T21:48:14.748Z"
   },
   {
    "duration": 0,
    "start_time": "2024-05-25T21:48:14.749Z"
   },
   {
    "duration": 0,
    "start_time": "2024-05-25T21:48:14.750Z"
   },
   {
    "duration": 0,
    "start_time": "2024-05-25T21:48:14.795Z"
   },
   {
    "duration": 0,
    "start_time": "2024-05-25T21:48:14.796Z"
   },
   {
    "duration": 4488,
    "start_time": "2024-05-25T21:48:49.819Z"
   },
   {
    "duration": 1627,
    "start_time": "2024-05-25T21:48:54.310Z"
   },
   {
    "duration": 3,
    "start_time": "2024-05-25T21:48:55.939Z"
   },
   {
    "duration": 5,
    "start_time": "2024-05-25T21:48:55.944Z"
   },
   {
    "duration": 5,
    "start_time": "2024-05-25T21:48:55.950Z"
   },
   {
    "duration": 4,
    "start_time": "2024-05-25T21:48:55.957Z"
   },
   {
    "duration": 18,
    "start_time": "2024-05-25T21:48:55.962Z"
   },
   {
    "duration": 53,
    "start_time": "2024-05-25T21:48:55.981Z"
   },
   {
    "duration": 21,
    "start_time": "2024-05-25T21:48:56.036Z"
   },
   {
    "duration": 3,
    "start_time": "2024-05-25T21:48:56.060Z"
   },
   {
    "duration": 21,
    "start_time": "2024-05-25T21:48:56.065Z"
   },
   {
    "duration": 443,
    "start_time": "2024-05-25T21:48:56.087Z"
   },
   {
    "duration": 376,
    "start_time": "2024-05-25T21:48:56.532Z"
   },
   {
    "duration": 220,
    "start_time": "2024-05-25T21:48:56.910Z"
   },
   {
    "duration": 282,
    "start_time": "2024-05-25T21:48:57.132Z"
   },
   {
    "duration": 1680,
    "start_time": "2024-05-25T21:48:57.416Z"
   },
   {
    "duration": 708,
    "start_time": "2024-05-25T21:48:59.098Z"
   },
   {
    "duration": 245,
    "start_time": "2024-05-25T21:48:59.807Z"
   },
   {
    "duration": 8,
    "start_time": "2024-05-25T21:49:00.053Z"
   },
   {
    "duration": 61,
    "start_time": "2024-05-25T21:49:00.062Z"
   },
   {
    "duration": 60,
    "start_time": "2024-05-25T21:49:00.125Z"
   },
   {
    "duration": 1608,
    "start_time": "2024-05-25T21:49:00.187Z"
   },
   {
    "duration": 1149,
    "start_time": "2024-05-25T21:49:01.797Z"
   },
   {
    "duration": 18,
    "start_time": "2024-05-25T21:49:02.947Z"
   },
   {
    "duration": 462,
    "start_time": "2024-05-25T21:49:02.966Z"
   },
   {
    "duration": 9,
    "start_time": "2024-05-25T21:49:03.430Z"
   },
   {
    "duration": 266,
    "start_time": "2024-05-25T21:49:03.440Z"
   },
   {
    "duration": 6,
    "start_time": "2024-05-25T21:49:03.710Z"
   },
   {
    "duration": 453,
    "start_time": "2024-05-25T21:49:03.717Z"
   },
   {
    "duration": 345,
    "start_time": "2024-05-25T21:49:04.172Z"
   },
   {
    "duration": 680,
    "start_time": "2024-05-25T21:49:04.518Z"
   },
   {
    "duration": 3,
    "start_time": "2024-05-25T21:49:05.200Z"
   },
   {
    "duration": 26072924,
    "start_time": "2024-05-25T21:49:05.204Z"
   },
   {
    "duration": 1499,
    "start_time": "2024-05-26T05:03:38.130Z"
   },
   {
    "duration": 69,
    "start_time": "2024-05-26T05:03:39.631Z"
   },
   {
    "duration": 283,
    "start_time": "2024-05-26T05:03:39.702Z"
   },
   {
    "duration": 10,
    "start_time": "2024-05-26T05:03:39.986Z"
   },
   {
    "duration": 1056125,
    "start_time": "2024-05-26T05:03:39.998Z"
   },
   {
    "duration": 5495,
    "start_time": "2024-05-26T07:14:16.324Z"
   },
   {
    "duration": 1525,
    "start_time": "2024-05-26T07:14:21.821Z"
   },
   {
    "duration": 4,
    "start_time": "2024-05-26T07:14:23.348Z"
   },
   {
    "duration": 87,
    "start_time": "2024-05-26T07:14:23.355Z"
   },
   {
    "duration": 11,
    "start_time": "2024-05-26T07:14:23.444Z"
   },
   {
    "duration": 11,
    "start_time": "2024-05-26T07:14:23.457Z"
   },
   {
    "duration": 9,
    "start_time": "2024-05-26T07:14:23.470Z"
   },
   {
    "duration": 53,
    "start_time": "2024-05-26T07:14:23.481Z"
   },
   {
    "duration": 23,
    "start_time": "2024-05-26T07:14:23.536Z"
   },
   {
    "duration": 4,
    "start_time": "2024-05-26T07:14:23.562Z"
   },
   {
    "duration": 12,
    "start_time": "2024-05-26T07:14:23.567Z"
   },
   {
    "duration": 394,
    "start_time": "2024-05-26T07:14:23.580Z"
   },
   {
    "duration": 356,
    "start_time": "2024-05-26T07:14:23.976Z"
   },
   {
    "duration": 247,
    "start_time": "2024-05-26T07:14:24.333Z"
   },
   {
    "duration": 336,
    "start_time": "2024-05-26T07:14:24.582Z"
   },
   {
    "duration": 1975,
    "start_time": "2024-05-26T07:14:24.920Z"
   },
   {
    "duration": 727,
    "start_time": "2024-05-26T07:14:26.898Z"
   },
   {
    "duration": 265,
    "start_time": "2024-05-26T07:14:27.626Z"
   },
   {
    "duration": 8,
    "start_time": "2024-05-26T07:14:27.893Z"
   },
   {
    "duration": 13,
    "start_time": "2024-05-26T07:14:27.903Z"
   },
   {
    "duration": 5,
    "start_time": "2024-05-26T07:14:27.917Z"
   },
   {
    "duration": 1366,
    "start_time": "2024-05-26T07:14:27.923Z"
   },
   {
    "duration": 1132,
    "start_time": "2024-05-26T07:14:29.294Z"
   },
   {
    "duration": 20,
    "start_time": "2024-05-26T07:14:30.430Z"
   },
   {
    "duration": 507,
    "start_time": "2024-05-26T07:14:30.452Z"
   },
   {
    "duration": 12,
    "start_time": "2024-05-26T07:14:30.961Z"
   },
   {
    "duration": 367,
    "start_time": "2024-05-26T07:14:30.974Z"
   },
   {
    "duration": 6,
    "start_time": "2024-05-26T07:14:31.347Z"
   },
   {
    "duration": 520,
    "start_time": "2024-05-26T07:14:31.355Z"
   },
   {
    "duration": 343,
    "start_time": "2024-05-26T07:14:31.877Z"
   },
   {
    "duration": 679,
    "start_time": "2024-05-26T07:14:32.222Z"
   },
   {
    "duration": 4,
    "start_time": "2024-05-26T07:14:32.903Z"
   },
   {
    "duration": 603440,
    "start_time": "2024-05-26T07:14:32.909Z"
   },
   {
    "duration": 28,
    "start_time": "2024-05-26T07:24:36.351Z"
   },
   {
    "duration": 255,
    "start_time": "2024-05-26T07:24:36.394Z"
   },
   {
    "duration": 6,
    "start_time": "2024-05-26T07:24:36.650Z"
   },
   {
    "duration": 1153481,
    "start_time": "2024-05-26T07:24:36.658Z"
   },
   {
    "duration": 8739,
    "start_time": "2024-05-26T09:17:30.958Z"
   },
   {
    "duration": 1972,
    "start_time": "2024-05-26T09:17:39.700Z"
   },
   {
    "duration": 4,
    "start_time": "2024-05-26T09:17:41.674Z"
   },
   {
    "duration": 3,
    "start_time": "2024-05-26T09:17:41.682Z"
   },
   {
    "duration": 6,
    "start_time": "2024-05-26T09:17:41.687Z"
   },
   {
    "duration": 10,
    "start_time": "2024-05-26T09:17:41.694Z"
   },
   {
    "duration": 37,
    "start_time": "2024-05-26T09:17:41.706Z"
   },
   {
    "duration": 106,
    "start_time": "2024-05-26T09:17:41.744Z"
   },
   {
    "duration": 33,
    "start_time": "2024-05-26T09:17:41.852Z"
   },
   {
    "duration": 5,
    "start_time": "2024-05-26T09:17:41.889Z"
   },
   {
    "duration": 40,
    "start_time": "2024-05-26T09:17:41.896Z"
   },
   {
    "duration": 339,
    "start_time": "2024-05-26T09:17:41.937Z"
   },
   {
    "duration": 409,
    "start_time": "2024-05-26T09:17:42.278Z"
   },
   {
    "duration": 264,
    "start_time": "2024-05-26T09:17:42.689Z"
   },
   {
    "duration": 358,
    "start_time": "2024-05-26T09:17:42.954Z"
   },
   {
    "duration": 1768,
    "start_time": "2024-05-26T09:17:43.314Z"
   },
   {
    "duration": 883,
    "start_time": "2024-05-26T09:17:45.092Z"
   },
   {
    "duration": 284,
    "start_time": "2024-05-26T09:17:45.977Z"
   },
   {
    "duration": 19,
    "start_time": "2024-05-26T09:17:46.263Z"
   },
   {
    "duration": 3,
    "start_time": "2024-05-26T09:17:46.284Z"
   },
   {
    "duration": 4,
    "start_time": "2024-05-26T09:17:46.289Z"
   },
   {
    "duration": 1488,
    "start_time": "2024-05-26T09:17:46.295Z"
   },
   {
    "duration": 1332,
    "start_time": "2024-05-26T09:17:47.785Z"
   },
   {
    "duration": 21,
    "start_time": "2024-05-26T09:17:49.119Z"
   },
   {
    "duration": 505,
    "start_time": "2024-05-26T09:17:49.141Z"
   },
   {
    "duration": 11,
    "start_time": "2024-05-26T09:17:49.648Z"
   },
   {
    "duration": 332,
    "start_time": "2024-05-26T09:17:49.660Z"
   },
   {
    "duration": 15,
    "start_time": "2024-05-26T09:17:49.998Z"
   },
   {
    "duration": 482,
    "start_time": "2024-05-26T09:17:50.015Z"
   },
   {
    "duration": 348,
    "start_time": "2024-05-26T09:17:50.499Z"
   },
   {
    "duration": 2787,
    "start_time": "2024-05-26T09:17:50.849Z"
   },
   {
    "duration": 4,
    "start_time": "2024-05-26T09:17:53.638Z"
   },
   {
    "duration": 615690,
    "start_time": "2024-05-26T09:17:53.644Z"
   },
   {
    "duration": 31,
    "start_time": "2024-05-26T09:28:09.336Z"
   },
   {
    "duration": 307,
    "start_time": "2024-05-26T09:28:09.382Z"
   },
   {
    "duration": 7,
    "start_time": "2024-05-26T09:28:09.691Z"
   },
   {
    "duration": 1271635,
    "start_time": "2024-05-26T09:28:09.701Z"
   },
   {
    "duration": 15716,
    "start_time": "2024-06-21T13:35:41.009Z"
   },
   {
    "duration": 2004,
    "start_time": "2024-06-21T13:35:56.728Z"
   },
   {
    "duration": 4,
    "start_time": "2024-06-21T13:35:58.734Z"
   },
   {
    "duration": 22,
    "start_time": "2024-06-21T13:35:58.740Z"
   },
   {
    "duration": 24,
    "start_time": "2024-06-21T13:35:58.763Z"
   },
   {
    "duration": 9,
    "start_time": "2024-06-21T13:35:58.790Z"
   },
   {
    "duration": 15,
    "start_time": "2024-06-21T13:35:58.801Z"
   },
   {
    "duration": 12,
    "start_time": "2024-06-21T13:35:58.818Z"
   },
   {
    "duration": 111,
    "start_time": "2024-06-21T13:35:58.832Z"
   },
   {
    "duration": 22,
    "start_time": "2024-06-21T13:35:58.946Z"
   },
   {
    "duration": 5,
    "start_time": "2024-06-21T13:35:58.969Z"
   },
   {
    "duration": 24,
    "start_time": "2024-06-21T13:35:58.975Z"
   },
   {
    "duration": 452,
    "start_time": "2024-06-21T13:35:59.000Z"
   },
   {
    "duration": 1503,
    "start_time": "2024-06-21T13:35:59.455Z"
   },
   {
    "duration": 1,
    "start_time": "2024-06-21T13:36:00.962Z"
   },
   {
    "duration": 0,
    "start_time": "2024-06-21T13:36:00.963Z"
   },
   {
    "duration": 0,
    "start_time": "2024-06-21T13:36:00.965Z"
   },
   {
    "duration": 0,
    "start_time": "2024-06-21T13:36:00.966Z"
   },
   {
    "duration": 0,
    "start_time": "2024-06-21T13:36:00.967Z"
   },
   {
    "duration": 0,
    "start_time": "2024-06-21T13:36:00.982Z"
   },
   {
    "duration": 0,
    "start_time": "2024-06-21T13:36:00.983Z"
   },
   {
    "duration": 0,
    "start_time": "2024-06-21T13:36:00.984Z"
   },
   {
    "duration": 0,
    "start_time": "2024-06-21T13:36:00.987Z"
   },
   {
    "duration": 0,
    "start_time": "2024-06-21T13:36:00.988Z"
   },
   {
    "duration": 0,
    "start_time": "2024-06-21T13:36:00.990Z"
   },
   {
    "duration": 0,
    "start_time": "2024-06-21T13:36:00.991Z"
   },
   {
    "duration": 0,
    "start_time": "2024-06-21T13:36:00.993Z"
   },
   {
    "duration": 0,
    "start_time": "2024-06-21T13:36:00.998Z"
   },
   {
    "duration": 0,
    "start_time": "2024-06-21T13:36:00.999Z"
   },
   {
    "duration": 0,
    "start_time": "2024-06-21T13:36:01.001Z"
   },
   {
    "duration": 0,
    "start_time": "2024-06-21T13:36:01.002Z"
   },
   {
    "duration": 0,
    "start_time": "2024-06-21T13:36:01.003Z"
   },
   {
    "duration": 0,
    "start_time": "2024-06-21T13:36:01.004Z"
   },
   {
    "duration": 0,
    "start_time": "2024-06-21T13:36:01.005Z"
   },
   {
    "duration": 0,
    "start_time": "2024-06-21T13:36:01.007Z"
   },
   {
    "duration": 0,
    "start_time": "2024-06-21T13:36:01.008Z"
   },
   {
    "duration": 0,
    "start_time": "2024-06-21T13:36:01.010Z"
   },
   {
    "duration": 0,
    "start_time": "2024-06-21T13:36:01.011Z"
   },
   {
    "duration": 0,
    "start_time": "2024-06-21T13:36:01.012Z"
   },
   {
    "duration": 0,
    "start_time": "2024-06-21T13:36:01.013Z"
   },
   {
    "duration": 0,
    "start_time": "2024-06-21T13:36:01.014Z"
   },
   {
    "duration": 0,
    "start_time": "2024-06-21T13:36:01.016Z"
   },
   {
    "duration": 0,
    "start_time": "2024-06-21T13:36:01.017Z"
   },
   {
    "duration": 0,
    "start_time": "2024-06-21T13:36:01.018Z"
   },
   {
    "duration": 0,
    "start_time": "2024-06-21T13:36:01.020Z"
   },
   {
    "duration": 0,
    "start_time": "2024-06-21T13:36:01.021Z"
   },
   {
    "duration": 0,
    "start_time": "2024-06-21T13:36:01.022Z"
   },
   {
    "duration": 0,
    "start_time": "2024-06-21T13:36:01.084Z"
   },
   {
    "duration": 0,
    "start_time": "2024-06-21T13:36:01.086Z"
   },
   {
    "duration": 0,
    "start_time": "2024-06-21T13:36:01.088Z"
   },
   {
    "duration": 0,
    "start_time": "2024-06-21T13:36:01.089Z"
   },
   {
    "duration": 0,
    "start_time": "2024-06-21T13:36:01.090Z"
   },
   {
    "duration": 0,
    "start_time": "2024-06-21T13:36:01.092Z"
   },
   {
    "duration": 0,
    "start_time": "2024-06-21T13:36:01.093Z"
   },
   {
    "duration": 0,
    "start_time": "2024-06-21T13:36:01.095Z"
   },
   {
    "duration": 0,
    "start_time": "2024-06-21T13:36:01.096Z"
   },
   {
    "duration": 0,
    "start_time": "2024-06-21T13:36:01.098Z"
   },
   {
    "duration": 0,
    "start_time": "2024-06-21T13:36:01.099Z"
   },
   {
    "duration": 0,
    "start_time": "2024-06-21T13:36:01.101Z"
   },
   {
    "duration": 0,
    "start_time": "2024-06-21T13:36:01.102Z"
   },
   {
    "duration": 0,
    "start_time": "2024-06-21T13:36:01.103Z"
   },
   {
    "duration": 0,
    "start_time": "2024-06-21T13:36:01.105Z"
   },
   {
    "duration": 0,
    "start_time": "2024-06-21T13:36:01.107Z"
   },
   {
    "duration": 0,
    "start_time": "2024-06-21T13:36:01.108Z"
   },
   {
    "duration": 0,
    "start_time": "2024-06-21T13:36:01.109Z"
   },
   {
    "duration": 0,
    "start_time": "2024-06-21T13:36:01.111Z"
   },
   {
    "duration": 0,
    "start_time": "2024-06-21T13:36:01.113Z"
   },
   {
    "duration": 0,
    "start_time": "2024-06-21T13:36:01.114Z"
   },
   {
    "duration": 0,
    "start_time": "2024-06-21T13:36:01.115Z"
   },
   {
    "duration": 0,
    "start_time": "2024-06-21T13:36:01.116Z"
   },
   {
    "duration": 0,
    "start_time": "2024-06-21T13:36:01.118Z"
   },
   {
    "duration": 0,
    "start_time": "2024-06-21T13:36:01.119Z"
   },
   {
    "duration": 0,
    "start_time": "2024-06-21T13:36:01.121Z"
   },
   {
    "duration": 0,
    "start_time": "2024-06-21T13:36:01.182Z"
   },
   {
    "duration": 0,
    "start_time": "2024-06-21T13:36:01.184Z"
   },
   {
    "duration": 0,
    "start_time": "2024-06-21T13:36:01.185Z"
   },
   {
    "duration": 0,
    "start_time": "2024-06-21T13:36:01.187Z"
   },
   {
    "duration": 0,
    "start_time": "2024-06-21T13:36:01.188Z"
   },
   {
    "duration": 0,
    "start_time": "2024-06-21T13:36:01.189Z"
   },
   {
    "duration": 0,
    "start_time": "2024-06-21T13:36:01.190Z"
   },
   {
    "duration": 0,
    "start_time": "2024-06-21T13:36:01.192Z"
   },
   {
    "duration": 0,
    "start_time": "2024-06-21T13:36:01.193Z"
   },
   {
    "duration": 0,
    "start_time": "2024-06-21T13:36:01.194Z"
   },
   {
    "duration": 0,
    "start_time": "2024-06-21T13:36:01.196Z"
   },
   {
    "duration": 0,
    "start_time": "2024-06-21T13:36:01.197Z"
   },
   {
    "duration": 0,
    "start_time": "2024-06-21T13:36:01.198Z"
   },
   {
    "duration": 0,
    "start_time": "2024-06-21T13:36:01.199Z"
   },
   {
    "duration": 0,
    "start_time": "2024-06-21T13:36:01.200Z"
   },
   {
    "duration": 0,
    "start_time": "2024-06-21T13:36:01.202Z"
   },
   {
    "duration": 3,
    "start_time": "2024-06-21T13:36:34.830Z"
   },
   {
    "duration": 10,
    "start_time": "2024-06-21T13:36:36.174Z"
   },
   {
    "duration": 275,
    "start_time": "2024-06-21T13:36:37.893Z"
   },
   {
    "duration": 378,
    "start_time": "2024-06-21T13:36:42.035Z"
   },
   {
    "duration": 240,
    "start_time": "2024-06-21T13:36:44.107Z"
   },
   {
    "duration": 315,
    "start_time": "2024-06-21T13:36:45.499Z"
   },
   {
    "duration": 1760,
    "start_time": "2024-06-21T13:36:48.925Z"
   },
   {
    "duration": 731,
    "start_time": "2024-06-21T13:36:53.645Z"
   },
   {
    "duration": 277,
    "start_time": "2024-06-21T13:36:55.663Z"
   },
   {
    "duration": 9,
    "start_time": "2024-06-21T13:37:03.565Z"
   },
   {
    "duration": 3,
    "start_time": "2024-06-21T13:37:07.887Z"
   },
   {
    "duration": 3,
    "start_time": "2024-06-21T13:37:08.567Z"
   },
   {
    "duration": 1501,
    "start_time": "2024-06-21T13:37:12.159Z"
   },
   {
    "duration": 1304,
    "start_time": "2024-06-21T13:37:13.663Z"
   },
   {
    "duration": 26,
    "start_time": "2024-06-21T13:42:07.503Z"
   },
   {
    "duration": 1552,
    "start_time": "2024-06-21T13:42:33.884Z"
   },
   {
    "duration": 56,
    "start_time": "2024-06-22T11:54:48.342Z"
   },
   {
    "duration": 13366,
    "start_time": "2024-06-22T11:55:08.227Z"
   },
   {
    "duration": 1617,
    "start_time": "2024-06-22T11:55:21.595Z"
   },
   {
    "duration": 3,
    "start_time": "2024-06-22T11:55:23.214Z"
   },
   {
    "duration": 13,
    "start_time": "2024-06-22T11:55:23.219Z"
   },
   {
    "duration": 3,
    "start_time": "2024-06-22T11:55:23.234Z"
   },
   {
    "duration": 9,
    "start_time": "2024-06-22T11:55:23.239Z"
   },
   {
    "duration": 5,
    "start_time": "2024-06-22T11:55:23.249Z"
   },
   {
    "duration": 6,
    "start_time": "2024-06-22T11:55:23.255Z"
   },
   {
    "duration": 157,
    "start_time": "2024-06-22T11:55:23.262Z"
   },
   {
    "duration": 17,
    "start_time": "2024-06-22T11:55:23.421Z"
   },
   {
    "duration": 3,
    "start_time": "2024-06-22T11:55:23.439Z"
   },
   {
    "duration": 14,
    "start_time": "2024-06-22T11:55:23.444Z"
   },
   {
    "duration": 335,
    "start_time": "2024-06-22T11:55:23.460Z"
   },
   {
    "duration": 312,
    "start_time": "2024-06-22T11:55:23.797Z"
   },
   {
    "duration": 204,
    "start_time": "2024-06-22T11:55:24.111Z"
   },
   {
    "duration": 306,
    "start_time": "2024-06-22T11:55:24.319Z"
   },
   {
    "duration": 1299,
    "start_time": "2024-06-22T11:55:24.627Z"
   },
   {
    "duration": 639,
    "start_time": "2024-06-22T11:55:26.019Z"
   },
   {
    "duration": 219,
    "start_time": "2024-06-22T11:55:26.660Z"
   },
   {
    "duration": 121,
    "start_time": "2024-06-22T11:55:26.881Z"
   },
   {
    "duration": 0,
    "start_time": "2024-06-22T11:55:27.069Z"
   },
   {
    "duration": 0,
    "start_time": "2024-06-22T11:55:27.071Z"
   },
   {
    "duration": 0,
    "start_time": "2024-06-22T11:55:27.072Z"
   },
   {
    "duration": 0,
    "start_time": "2024-06-22T11:55:27.073Z"
   },
   {
    "duration": 0,
    "start_time": "2024-06-22T11:55:27.075Z"
   },
   {
    "duration": 0,
    "start_time": "2024-06-22T11:55:27.076Z"
   },
   {
    "duration": 0,
    "start_time": "2024-06-22T11:55:27.077Z"
   },
   {
    "duration": 0,
    "start_time": "2024-06-22T11:55:27.078Z"
   },
   {
    "duration": 0,
    "start_time": "2024-06-22T11:55:27.079Z"
   },
   {
    "duration": 0,
    "start_time": "2024-06-22T11:55:27.080Z"
   },
   {
    "duration": 0,
    "start_time": "2024-06-22T11:55:27.081Z"
   },
   {
    "duration": 0,
    "start_time": "2024-06-22T11:55:27.082Z"
   },
   {
    "duration": 0,
    "start_time": "2024-06-22T11:55:27.083Z"
   },
   {
    "duration": 0,
    "start_time": "2024-06-22T11:55:27.084Z"
   },
   {
    "duration": 0,
    "start_time": "2024-06-22T11:55:27.084Z"
   },
   {
    "duration": 0,
    "start_time": "2024-06-22T11:55:27.085Z"
   },
   {
    "duration": 0,
    "start_time": "2024-06-22T11:55:27.086Z"
   },
   {
    "duration": 0,
    "start_time": "2024-06-22T11:55:27.087Z"
   },
   {
    "duration": 0,
    "start_time": "2024-06-22T11:55:27.088Z"
   },
   {
    "duration": 0,
    "start_time": "2024-06-22T11:55:27.089Z"
   },
   {
    "duration": 0,
    "start_time": "2024-06-22T11:55:27.120Z"
   },
   {
    "duration": 0,
    "start_time": "2024-06-22T11:55:27.121Z"
   },
   {
    "duration": 0,
    "start_time": "2024-06-22T11:55:27.122Z"
   },
   {
    "duration": 0,
    "start_time": "2024-06-22T11:55:27.123Z"
   },
   {
    "duration": 0,
    "start_time": "2024-06-22T11:55:27.124Z"
   },
   {
    "duration": 0,
    "start_time": "2024-06-22T11:55:27.125Z"
   },
   {
    "duration": 0,
    "start_time": "2024-06-22T11:55:27.125Z"
   },
   {
    "duration": 0,
    "start_time": "2024-06-22T11:55:27.126Z"
   },
   {
    "duration": 0,
    "start_time": "2024-06-22T11:55:27.127Z"
   },
   {
    "duration": 0,
    "start_time": "2024-06-22T11:55:27.128Z"
   },
   {
    "duration": 0,
    "start_time": "2024-06-22T11:55:27.129Z"
   },
   {
    "duration": 0,
    "start_time": "2024-06-22T11:55:27.130Z"
   },
   {
    "duration": 0,
    "start_time": "2024-06-22T11:55:27.130Z"
   },
   {
    "duration": 0,
    "start_time": "2024-06-22T11:55:27.131Z"
   },
   {
    "duration": 0,
    "start_time": "2024-06-22T11:55:27.132Z"
   },
   {
    "duration": 0,
    "start_time": "2024-06-22T11:55:27.133Z"
   },
   {
    "duration": 0,
    "start_time": "2024-06-22T11:55:27.134Z"
   },
   {
    "duration": 0,
    "start_time": "2024-06-22T11:55:27.135Z"
   },
   {
    "duration": 0,
    "start_time": "2024-06-22T11:55:27.135Z"
   },
   {
    "duration": 0,
    "start_time": "2024-06-22T11:55:27.136Z"
   },
   {
    "duration": 0,
    "start_time": "2024-06-22T11:55:27.137Z"
   },
   {
    "duration": 0,
    "start_time": "2024-06-22T11:55:27.138Z"
   },
   {
    "duration": 0,
    "start_time": "2024-06-22T11:55:27.139Z"
   },
   {
    "duration": 0,
    "start_time": "2024-06-22T11:55:27.140Z"
   },
   {
    "duration": 0,
    "start_time": "2024-06-22T11:55:27.141Z"
   },
   {
    "duration": 0,
    "start_time": "2024-06-22T11:55:27.142Z"
   },
   {
    "duration": 0,
    "start_time": "2024-06-22T11:55:27.142Z"
   },
   {
    "duration": 0,
    "start_time": "2024-06-22T11:55:27.143Z"
   },
   {
    "duration": 0,
    "start_time": "2024-06-22T11:55:27.144Z"
   },
   {
    "duration": 0,
    "start_time": "2024-06-22T11:55:27.145Z"
   },
   {
    "duration": 0,
    "start_time": "2024-06-22T11:55:27.148Z"
   },
   {
    "duration": 0,
    "start_time": "2024-06-22T11:55:27.149Z"
   },
   {
    "duration": 0,
    "start_time": "2024-06-22T11:55:27.150Z"
   },
   {
    "duration": 0,
    "start_time": "2024-06-22T11:55:27.150Z"
   },
   {
    "duration": 0,
    "start_time": "2024-06-22T11:55:27.151Z"
   },
   {
    "duration": 0,
    "start_time": "2024-06-22T11:55:27.152Z"
   },
   {
    "duration": 0,
    "start_time": "2024-06-22T11:55:27.153Z"
   },
   {
    "duration": 0,
    "start_time": "2024-06-22T11:55:27.154Z"
   },
   {
    "duration": 0,
    "start_time": "2024-06-22T11:55:27.154Z"
   },
   {
    "duration": 0,
    "start_time": "2024-06-22T11:55:27.155Z"
   },
   {
    "duration": 0,
    "start_time": "2024-06-22T11:55:27.221Z"
   },
   {
    "duration": 0,
    "start_time": "2024-06-22T11:55:27.221Z"
   },
   {
    "duration": 0,
    "start_time": "2024-06-22T11:55:27.223Z"
   },
   {
    "duration": 0,
    "start_time": "2024-06-22T11:55:27.223Z"
   },
   {
    "duration": 0,
    "start_time": "2024-06-22T11:55:27.224Z"
   },
   {
    "duration": 0,
    "start_time": "2024-06-22T11:55:27.225Z"
   },
   {
    "duration": 0,
    "start_time": "2024-06-22T11:55:27.226Z"
   },
   {
    "duration": 0,
    "start_time": "2024-06-22T11:55:27.227Z"
   },
   {
    "duration": 0,
    "start_time": "2024-06-22T11:55:27.228Z"
   },
   {
    "duration": 0,
    "start_time": "2024-06-22T11:55:27.229Z"
   },
   {
    "duration": 0,
    "start_time": "2024-06-22T11:55:27.229Z"
   },
   {
    "duration": 0,
    "start_time": "2024-06-22T11:55:27.230Z"
   },
   {
    "duration": 7,
    "start_time": "2024-06-22T11:55:36.105Z"
   },
   {
    "duration": 2,
    "start_time": "2024-06-22T11:55:37.361Z"
   },
   {
    "duration": 2,
    "start_time": "2024-06-22T11:55:37.929Z"
   },
   {
    "duration": 6,
    "start_time": "2024-06-22T11:55:38.440Z"
   },
   {
    "duration": 8,
    "start_time": "2024-06-22T13:33:47.532Z"
   },
   {
    "duration": 41,
    "start_time": "2024-06-22T13:33:52.043Z"
   },
   {
    "duration": 11,
    "start_time": "2024-06-22T13:33:53.054Z"
   },
   {
    "duration": 9,
    "start_time": "2024-06-22T13:34:43.710Z"
   },
   {
    "duration": 9,
    "start_time": "2024-06-22T13:35:11.914Z"
   },
   {
    "duration": 10,
    "start_time": "2024-06-22T13:36:42.877Z"
   },
   {
    "duration": 9,
    "start_time": "2024-06-22T13:36:59.401Z"
   },
   {
    "duration": 12,
    "start_time": "2024-06-22T13:37:10.285Z"
   },
   {
    "duration": 1155,
    "start_time": "2024-06-22T13:37:22.143Z"
   },
   {
    "duration": 39034,
    "start_time": "2024-06-22T13:37:23.300Z"
   },
   {
    "duration": 40371,
    "start_time": "2024-06-22T13:38:40.901Z"
   },
   {
    "duration": 69,
    "start_time": "2024-06-22T13:41:12.265Z"
   },
   {
    "duration": 39637,
    "start_time": "2024-06-22T13:42:06.373Z"
   },
   {
    "duration": 75,
    "start_time": "2024-06-22T13:43:04.124Z"
   },
   {
    "duration": 6315,
    "start_time": "2024-06-22T13:46:27.282Z"
   },
   {
    "duration": 71,
    "start_time": "2024-06-22T13:46:37.066Z"
   },
   {
    "duration": 5869,
    "start_time": "2024-06-22T13:46:46.094Z"
   },
   {
    "duration": 78,
    "start_time": "2024-06-22T13:46:53.726Z"
   },
   {
    "duration": 41125,
    "start_time": "2024-06-22T13:47:41.023Z"
   },
   {
    "duration": 71,
    "start_time": "2024-06-22T13:48:25.261Z"
   },
   {
    "duration": 39667,
    "start_time": "2024-06-22T13:48:37.698Z"
   },
   {
    "duration": 74,
    "start_time": "2024-06-22T13:49:19.714Z"
   },
   {
    "duration": 6274,
    "start_time": "2024-06-22T13:50:36.623Z"
   },
   {
    "duration": 83,
    "start_time": "2024-06-22T13:50:46.240Z"
   },
   {
    "duration": 40328,
    "start_time": "2024-06-22T13:50:52.614Z"
   },
   {
    "duration": 74,
    "start_time": "2024-06-22T13:51:42.192Z"
   },
   {
    "duration": 39939,
    "start_time": "2024-06-22T13:51:56.035Z"
   },
   {
    "duration": 86,
    "start_time": "2024-06-22T13:52:38.782Z"
   },
   {
    "duration": 39583,
    "start_time": "2024-06-22T13:52:50.841Z"
   },
   {
    "duration": 1229,
    "start_time": "2024-06-22T14:20:58.214Z"
   },
   {
    "duration": 10,
    "start_time": "2024-06-22T14:26:41.320Z"
   },
   {
    "duration": 404,
    "start_time": "2024-06-22T14:29:52.195Z"
   },
   {
    "duration": 4,
    "start_time": "2024-06-22T14:30:21.685Z"
   },
   {
    "duration": 5,
    "start_time": "2024-06-22T14:30:46.204Z"
   },
   {
    "duration": 1085,
    "start_time": "2024-06-22T14:30:56.224Z"
   },
   {
    "duration": 10586,
    "start_time": "2024-06-22T14:32:02.266Z"
   },
   {
    "duration": 1393,
    "start_time": "2024-06-22T14:32:12.854Z"
   },
   {
    "duration": 4,
    "start_time": "2024-06-22T14:32:14.248Z"
   },
   {
    "duration": 3,
    "start_time": "2024-06-22T14:32:14.254Z"
   },
   {
    "duration": 9,
    "start_time": "2024-06-22T14:32:14.258Z"
   },
   {
    "duration": 5,
    "start_time": "2024-06-22T14:32:14.268Z"
   },
   {
    "duration": 4,
    "start_time": "2024-06-22T14:32:14.274Z"
   },
   {
    "duration": 13,
    "start_time": "2024-06-22T14:32:14.279Z"
   },
   {
    "duration": 56,
    "start_time": "2024-06-22T14:32:14.293Z"
   },
   {
    "duration": 19,
    "start_time": "2024-06-22T14:32:14.351Z"
   },
   {
    "duration": 5,
    "start_time": "2024-06-22T14:32:14.371Z"
   },
   {
    "duration": 9,
    "start_time": "2024-06-22T14:32:14.377Z"
   },
   {
    "duration": 326,
    "start_time": "2024-06-22T14:32:14.387Z"
   },
   {
    "duration": 319,
    "start_time": "2024-06-22T14:32:14.715Z"
   },
   {
    "duration": 225,
    "start_time": "2024-06-22T14:32:15.035Z"
   },
   {
    "duration": 270,
    "start_time": "2024-06-22T14:32:15.261Z"
   },
   {
    "duration": 1295,
    "start_time": "2024-06-22T14:32:15.533Z"
   },
   {
    "duration": 618,
    "start_time": "2024-06-22T14:32:16.919Z"
   },
   {
    "duration": 225,
    "start_time": "2024-06-22T14:32:17.538Z"
   },
   {
    "duration": 123,
    "start_time": "2024-06-22T14:32:17.765Z"
   },
   {
    "duration": 0,
    "start_time": "2024-06-22T14:32:17.957Z"
   },
   {
    "duration": 0,
    "start_time": "2024-06-22T14:32:17.959Z"
   },
   {
    "duration": 0,
    "start_time": "2024-06-22T14:32:17.959Z"
   },
   {
    "duration": 0,
    "start_time": "2024-06-22T14:32:17.960Z"
   },
   {
    "duration": 0,
    "start_time": "2024-06-22T14:32:17.961Z"
   },
   {
    "duration": 0,
    "start_time": "2024-06-22T14:32:17.962Z"
   },
   {
    "duration": 0,
    "start_time": "2024-06-22T14:32:17.963Z"
   },
   {
    "duration": 0,
    "start_time": "2024-06-22T14:32:17.964Z"
   },
   {
    "duration": 0,
    "start_time": "2024-06-22T14:32:17.965Z"
   },
   {
    "duration": 0,
    "start_time": "2024-06-22T14:32:17.966Z"
   },
   {
    "duration": 0,
    "start_time": "2024-06-22T14:32:17.967Z"
   },
   {
    "duration": 0,
    "start_time": "2024-06-22T14:32:17.968Z"
   },
   {
    "duration": 0,
    "start_time": "2024-06-22T14:32:17.969Z"
   },
   {
    "duration": 0,
    "start_time": "2024-06-22T14:32:17.970Z"
   },
   {
    "duration": 0,
    "start_time": "2024-06-22T14:32:17.971Z"
   },
   {
    "duration": 0,
    "start_time": "2024-06-22T14:32:17.972Z"
   },
   {
    "duration": 0,
    "start_time": "2024-06-22T14:32:17.973Z"
   },
   {
    "duration": 0,
    "start_time": "2024-06-22T14:32:17.973Z"
   },
   {
    "duration": 0,
    "start_time": "2024-06-22T14:32:17.974Z"
   },
   {
    "duration": 0,
    "start_time": "2024-06-22T14:32:17.975Z"
   },
   {
    "duration": 0,
    "start_time": "2024-06-22T14:32:17.976Z"
   },
   {
    "duration": 0,
    "start_time": "2024-06-22T14:32:17.977Z"
   },
   {
    "duration": 0,
    "start_time": "2024-06-22T14:32:17.978Z"
   },
   {
    "duration": 0,
    "start_time": "2024-06-22T14:32:17.978Z"
   },
   {
    "duration": 0,
    "start_time": "2024-06-22T14:32:17.979Z"
   },
   {
    "duration": 0,
    "start_time": "2024-06-22T14:32:17.980Z"
   },
   {
    "duration": 0,
    "start_time": "2024-06-22T14:32:17.980Z"
   },
   {
    "duration": 0,
    "start_time": "2024-06-22T14:32:17.981Z"
   },
   {
    "duration": 0,
    "start_time": "2024-06-22T14:32:18.020Z"
   },
   {
    "duration": 0,
    "start_time": "2024-06-22T14:32:18.021Z"
   },
   {
    "duration": 0,
    "start_time": "2024-06-22T14:32:18.022Z"
   },
   {
    "duration": 0,
    "start_time": "2024-06-22T14:32:18.023Z"
   },
   {
    "duration": 0,
    "start_time": "2024-06-22T14:32:18.023Z"
   },
   {
    "duration": 0,
    "start_time": "2024-06-22T14:32:18.024Z"
   },
   {
    "duration": 0,
    "start_time": "2024-06-22T14:32:18.025Z"
   },
   {
    "duration": 0,
    "start_time": "2024-06-22T14:32:18.025Z"
   },
   {
    "duration": 0,
    "start_time": "2024-06-22T14:32:18.026Z"
   },
   {
    "duration": 0,
    "start_time": "2024-06-22T14:32:18.027Z"
   },
   {
    "duration": 0,
    "start_time": "2024-06-22T14:32:18.028Z"
   },
   {
    "duration": 0,
    "start_time": "2024-06-22T14:32:18.028Z"
   },
   {
    "duration": 0,
    "start_time": "2024-06-22T14:32:18.029Z"
   },
   {
    "duration": 0,
    "start_time": "2024-06-22T14:32:18.030Z"
   },
   {
    "duration": 0,
    "start_time": "2024-06-22T14:32:18.031Z"
   },
   {
    "duration": 0,
    "start_time": "2024-06-22T14:32:18.032Z"
   },
   {
    "duration": 0,
    "start_time": "2024-06-22T14:32:18.032Z"
   },
   {
    "duration": 0,
    "start_time": "2024-06-22T14:32:18.033Z"
   },
   {
    "duration": 0,
    "start_time": "2024-06-22T14:32:18.034Z"
   },
   {
    "duration": 0,
    "start_time": "2024-06-22T14:32:18.034Z"
   },
   {
    "duration": 0,
    "start_time": "2024-06-22T14:32:18.035Z"
   },
   {
    "duration": 0,
    "start_time": "2024-06-22T14:32:18.036Z"
   },
   {
    "duration": 0,
    "start_time": "2024-06-22T14:32:18.037Z"
   },
   {
    "duration": 0,
    "start_time": "2024-06-22T14:32:18.038Z"
   },
   {
    "duration": 0,
    "start_time": "2024-06-22T14:32:18.039Z"
   },
   {
    "duration": 0,
    "start_time": "2024-06-22T14:32:18.040Z"
   },
   {
    "duration": 0,
    "start_time": "2024-06-22T14:32:18.040Z"
   },
   {
    "duration": 0,
    "start_time": "2024-06-22T14:32:18.041Z"
   },
   {
    "duration": 0,
    "start_time": "2024-06-22T14:32:18.042Z"
   },
   {
    "duration": 0,
    "start_time": "2024-06-22T14:32:18.043Z"
   },
   {
    "duration": 0,
    "start_time": "2024-06-22T14:32:18.044Z"
   },
   {
    "duration": 0,
    "start_time": "2024-06-22T14:32:18.045Z"
   },
   {
    "duration": 0,
    "start_time": "2024-06-22T14:32:18.046Z"
   },
   {
    "duration": 0,
    "start_time": "2024-06-22T14:32:18.046Z"
   },
   {
    "duration": 0,
    "start_time": "2024-06-22T14:32:18.047Z"
   },
   {
    "duration": 0,
    "start_time": "2024-06-22T14:32:18.048Z"
   },
   {
    "duration": 0,
    "start_time": "2024-06-22T14:32:18.049Z"
   },
   {
    "duration": 0,
    "start_time": "2024-06-22T14:32:18.050Z"
   },
   {
    "duration": 0,
    "start_time": "2024-06-22T14:32:18.050Z"
   },
   {
    "duration": 0,
    "start_time": "2024-06-22T14:32:18.051Z"
   },
   {
    "duration": 0,
    "start_time": "2024-06-22T14:32:18.052Z"
   },
   {
    "duration": 0,
    "start_time": "2024-06-22T14:32:18.053Z"
   },
   {
    "duration": 0,
    "start_time": "2024-06-22T14:32:18.054Z"
   },
   {
    "duration": 0,
    "start_time": "2024-06-22T14:32:18.055Z"
   },
   {
    "duration": 0,
    "start_time": "2024-06-22T14:32:18.055Z"
   },
   {
    "duration": 7,
    "start_time": "2024-06-22T14:32:20.326Z"
   },
   {
    "duration": 3,
    "start_time": "2024-06-22T14:32:20.889Z"
   },
   {
    "duration": 2,
    "start_time": "2024-06-22T14:32:21.641Z"
   },
   {
    "duration": 9,
    "start_time": "2024-06-22T14:32:22.944Z"
   },
   {
    "duration": 1172,
    "start_time": "2024-06-22T14:32:27.353Z"
   },
   {
    "duration": 6,
    "start_time": "2024-06-22T14:32:28.527Z"
   },
   {
    "duration": 1043,
    "start_time": "2024-06-22T14:32:33.526Z"
   },
   {
    "duration": 3,
    "start_time": "2024-06-22T14:32:58.523Z"
   },
   {
    "duration": 33023,
    "start_time": "2024-06-22T14:32:59.099Z"
   },
   {
    "duration": 2,
    "start_time": "2024-06-22T14:35:13.402Z"
   },
   {
    "duration": 404723,
    "start_time": "2024-06-22T14:35:13.998Z"
   },
   {
    "duration": 3,
    "start_time": "2024-06-22T14:48:59.805Z"
   },
   {
    "duration": 3,
    "start_time": "2024-06-22T14:49:55.631Z"
   },
   {
    "duration": 4,
    "start_time": "2024-06-22T14:51:00.566Z"
   },
   {
    "duration": 3,
    "start_time": "2024-06-22T14:51:51.064Z"
   },
   {
    "duration": 3,
    "start_time": "2024-06-22T14:52:46.086Z"
   },
   {
    "duration": 1494,
    "start_time": "2024-06-22T14:53:45.976Z"
   },
   {
    "duration": 1065,
    "start_time": "2024-06-22T14:53:51.990Z"
   },
   {
    "duration": 15,
    "start_time": "2024-06-22T14:53:55.813Z"
   },
   {
    "duration": 429,
    "start_time": "2024-06-22T14:53:59.519Z"
   },
   {
    "duration": 8,
    "start_time": "2024-06-22T14:54:04.628Z"
   },
   {
    "duration": 246,
    "start_time": "2024-06-22T14:54:10.272Z"
   },
   {
    "duration": 5,
    "start_time": "2024-06-22T14:54:18.467Z"
   },
   {
    "duration": 502,
    "start_time": "2024-06-22T14:54:26.570Z"
   },
   {
    "duration": 8,
    "start_time": "2024-06-22T14:54:50.300Z"
   },
   {
    "duration": 630040,
    "start_time": "2024-06-22T14:59:53.839Z"
   },
   {
    "duration": 3,
    "start_time": "2024-06-22T15:12:42.491Z"
   },
   {
    "duration": 280097,
    "start_time": "2024-06-22T15:13:30.525Z"
   },
   {
    "duration": 3,
    "start_time": "2024-06-22T15:18:38.569Z"
   },
   {
    "duration": 3,
    "start_time": "2024-06-22T15:18:45.261Z"
   },
   {
    "duration": 1747,
    "start_time": "2024-06-22T15:18:55.581Z"
   },
   {
    "duration": 1027,
    "start_time": "2024-06-22T15:18:57.330Z"
   },
   {
    "duration": 16,
    "start_time": "2024-06-22T15:19:00.482Z"
   },
   {
    "duration": 351,
    "start_time": "2024-06-22T15:19:02.611Z"
   },
   {
    "duration": 8,
    "start_time": "2024-06-22T15:19:05.143Z"
   },
   {
    "duration": 198,
    "start_time": "2024-06-22T15:19:07.481Z"
   },
   {
    "duration": 4,
    "start_time": "2024-06-22T15:20:01.113Z"
   },
   {
    "duration": 394,
    "start_time": "2024-06-22T15:20:03.200Z"
   },
   {
    "duration": 8,
    "start_time": "2024-06-22T15:20:07.382Z"
   },
   {
    "duration": 10458,
    "start_time": "2024-06-22T15:21:18.467Z"
   },
   {
    "duration": 1432,
    "start_time": "2024-06-22T15:21:28.927Z"
   },
   {
    "duration": 3,
    "start_time": "2024-06-22T15:21:30.361Z"
   },
   {
    "duration": 49,
    "start_time": "2024-06-22T15:21:30.366Z"
   },
   {
    "duration": 77,
    "start_time": "2024-06-22T15:21:30.417Z"
   },
   {
    "duration": 49,
    "start_time": "2024-06-22T15:21:30.495Z"
   },
   {
    "duration": 43,
    "start_time": "2024-06-22T15:21:30.545Z"
   },
   {
    "duration": 53,
    "start_time": "2024-06-22T15:21:30.589Z"
   },
   {
    "duration": 72,
    "start_time": "2024-06-22T15:21:30.644Z"
   },
   {
    "duration": 19,
    "start_time": "2024-06-22T15:21:30.717Z"
   },
   {
    "duration": 34,
    "start_time": "2024-06-22T15:21:30.737Z"
   },
   {
    "duration": 55,
    "start_time": "2024-06-22T15:21:30.773Z"
   },
   {
    "duration": 370,
    "start_time": "2024-06-22T15:21:30.829Z"
   },
   {
    "duration": 316,
    "start_time": "2024-06-22T15:21:31.202Z"
   },
   {
    "duration": 214,
    "start_time": "2024-06-22T15:21:31.519Z"
   },
   {
    "duration": 288,
    "start_time": "2024-06-22T15:21:31.734Z"
   },
   {
    "duration": 1407,
    "start_time": "2024-06-22T15:21:32.023Z"
   },
   {
    "duration": 736,
    "start_time": "2024-06-22T15:21:33.431Z"
   },
   {
    "duration": 235,
    "start_time": "2024-06-22T15:21:34.169Z"
   },
   {
    "duration": 117,
    "start_time": "2024-06-22T15:21:34.406Z"
   },
   {
    "duration": 0,
    "start_time": "2024-06-22T15:21:34.589Z"
   },
   {
    "duration": 0,
    "start_time": "2024-06-22T15:21:34.591Z"
   },
   {
    "duration": 0,
    "start_time": "2024-06-22T15:21:34.592Z"
   },
   {
    "duration": 0,
    "start_time": "2024-06-22T15:21:34.592Z"
   },
   {
    "duration": 0,
    "start_time": "2024-06-22T15:21:34.593Z"
   },
   {
    "duration": 0,
    "start_time": "2024-06-22T15:21:34.594Z"
   },
   {
    "duration": 0,
    "start_time": "2024-06-22T15:21:34.595Z"
   },
   {
    "duration": 0,
    "start_time": "2024-06-22T15:21:34.596Z"
   },
   {
    "duration": 0,
    "start_time": "2024-06-22T15:21:34.597Z"
   },
   {
    "duration": 0,
    "start_time": "2024-06-22T15:21:34.597Z"
   },
   {
    "duration": 0,
    "start_time": "2024-06-22T15:21:34.598Z"
   },
   {
    "duration": 0,
    "start_time": "2024-06-22T15:21:34.599Z"
   },
   {
    "duration": 0,
    "start_time": "2024-06-22T15:21:34.599Z"
   },
   {
    "duration": 0,
    "start_time": "2024-06-22T15:21:34.600Z"
   },
   {
    "duration": 0,
    "start_time": "2024-06-22T15:21:34.601Z"
   },
   {
    "duration": 0,
    "start_time": "2024-06-22T15:21:34.620Z"
   },
   {
    "duration": 0,
    "start_time": "2024-06-22T15:21:34.621Z"
   },
   {
    "duration": 0,
    "start_time": "2024-06-22T15:21:34.621Z"
   },
   {
    "duration": 0,
    "start_time": "2024-06-22T15:21:34.622Z"
   },
   {
    "duration": 0,
    "start_time": "2024-06-22T15:21:34.623Z"
   },
   {
    "duration": 0,
    "start_time": "2024-06-22T15:21:34.624Z"
   },
   {
    "duration": 0,
    "start_time": "2024-06-22T15:21:34.625Z"
   },
   {
    "duration": 0,
    "start_time": "2024-06-22T15:21:34.626Z"
   },
   {
    "duration": 0,
    "start_time": "2024-06-22T15:21:34.626Z"
   },
   {
    "duration": 0,
    "start_time": "2024-06-22T15:21:34.627Z"
   },
   {
    "duration": 0,
    "start_time": "2024-06-22T15:21:34.628Z"
   },
   {
    "duration": 0,
    "start_time": "2024-06-22T15:21:34.629Z"
   },
   {
    "duration": 0,
    "start_time": "2024-06-22T15:21:34.629Z"
   },
   {
    "duration": 0,
    "start_time": "2024-06-22T15:21:34.630Z"
   },
   {
    "duration": 0,
    "start_time": "2024-06-22T15:21:34.631Z"
   },
   {
    "duration": 0,
    "start_time": "2024-06-22T15:21:34.632Z"
   },
   {
    "duration": 0,
    "start_time": "2024-06-22T15:21:34.632Z"
   },
   {
    "duration": 0,
    "start_time": "2024-06-22T15:21:34.633Z"
   },
   {
    "duration": 0,
    "start_time": "2024-06-22T15:21:34.635Z"
   },
   {
    "duration": 0,
    "start_time": "2024-06-22T15:21:34.636Z"
   },
   {
    "duration": 0,
    "start_time": "2024-06-22T15:21:34.636Z"
   },
   {
    "duration": 0,
    "start_time": "2024-06-22T15:21:34.637Z"
   },
   {
    "duration": 0,
    "start_time": "2024-06-22T15:21:34.638Z"
   },
   {
    "duration": 0,
    "start_time": "2024-06-22T15:21:34.638Z"
   },
   {
    "duration": 0,
    "start_time": "2024-06-22T15:21:34.640Z"
   },
   {
    "duration": 0,
    "start_time": "2024-06-22T15:21:34.640Z"
   },
   {
    "duration": 0,
    "start_time": "2024-06-22T15:21:34.641Z"
   },
   {
    "duration": 0,
    "start_time": "2024-06-22T15:21:34.642Z"
   },
   {
    "duration": 0,
    "start_time": "2024-06-22T15:21:34.643Z"
   },
   {
    "duration": 0,
    "start_time": "2024-06-22T15:21:34.644Z"
   },
   {
    "duration": 0,
    "start_time": "2024-06-22T15:21:34.644Z"
   },
   {
    "duration": 0,
    "start_time": "2024-06-22T15:21:34.645Z"
   },
   {
    "duration": 0,
    "start_time": "2024-06-22T15:21:34.646Z"
   },
   {
    "duration": 0,
    "start_time": "2024-06-22T15:21:34.647Z"
   },
   {
    "duration": 0,
    "start_time": "2024-06-22T15:21:34.647Z"
   },
   {
    "duration": 0,
    "start_time": "2024-06-22T15:21:34.648Z"
   },
   {
    "duration": 0,
    "start_time": "2024-06-22T15:21:34.649Z"
   },
   {
    "duration": 0,
    "start_time": "2024-06-22T15:21:34.650Z"
   },
   {
    "duration": 0,
    "start_time": "2024-06-22T15:21:34.651Z"
   },
   {
    "duration": 0,
    "start_time": "2024-06-22T15:21:34.652Z"
   },
   {
    "duration": 0,
    "start_time": "2024-06-22T15:21:34.652Z"
   },
   {
    "duration": 0,
    "start_time": "2024-06-22T15:21:34.653Z"
   },
   {
    "duration": 0,
    "start_time": "2024-06-22T15:21:34.654Z"
   },
   {
    "duration": 0,
    "start_time": "2024-06-22T15:21:34.655Z"
   },
   {
    "duration": 0,
    "start_time": "2024-06-22T15:21:34.656Z"
   },
   {
    "duration": 0,
    "start_time": "2024-06-22T15:21:34.721Z"
   },
   {
    "duration": 0,
    "start_time": "2024-06-22T15:21:34.722Z"
   },
   {
    "duration": 0,
    "start_time": "2024-06-22T15:21:34.723Z"
   },
   {
    "duration": 0,
    "start_time": "2024-06-22T15:21:34.723Z"
   },
   {
    "duration": 0,
    "start_time": "2024-06-22T15:21:34.724Z"
   },
   {
    "duration": 0,
    "start_time": "2024-06-22T15:21:34.725Z"
   },
   {
    "duration": 0,
    "start_time": "2024-06-22T15:21:34.726Z"
   },
   {
    "duration": 0,
    "start_time": "2024-06-22T15:21:34.727Z"
   },
   {
    "duration": 0,
    "start_time": "2024-06-22T15:21:34.727Z"
   },
   {
    "duration": 0,
    "start_time": "2024-06-22T15:21:34.728Z"
   },
   {
    "duration": 0,
    "start_time": "2024-06-22T15:21:34.729Z"
   },
   {
    "duration": 0,
    "start_time": "2024-06-22T15:21:34.729Z"
   },
   {
    "duration": 0,
    "start_time": "2024-06-22T15:21:34.730Z"
   },
   {
    "duration": 0,
    "start_time": "2024-06-22T15:21:34.731Z"
   },
   {
    "duration": 6,
    "start_time": "2024-06-22T15:21:42.194Z"
   },
   {
    "duration": 3,
    "start_time": "2024-06-22T15:21:42.724Z"
   },
   {
    "duration": 3,
    "start_time": "2024-06-22T15:21:43.169Z"
   },
   {
    "duration": 5,
    "start_time": "2024-06-22T15:21:44.249Z"
   },
   {
    "duration": 218645,
    "start_time": "2024-06-22T15:21:45.375Z"
   },
   {
    "duration": 3,
    "start_time": "2024-06-22T15:25:24.022Z"
   },
   {
    "duration": 11,
    "start_time": "2024-06-22T15:25:24.027Z"
   },
   {
    "duration": 3,
    "start_time": "2024-06-22T15:25:38.860Z"
   },
   {
    "duration": 3,
    "start_time": "2024-06-22T15:25:41.147Z"
   },
   {
    "duration": 1764,
    "start_time": "2024-06-22T15:25:48.909Z"
   },
   {
    "duration": 1039,
    "start_time": "2024-06-22T15:25:53.330Z"
   },
   {
    "duration": 15,
    "start_time": "2024-06-22T15:25:57.745Z"
   },
   {
    "duration": 447,
    "start_time": "2024-06-22T15:26:06.197Z"
   },
   {
    "duration": 9,
    "start_time": "2024-06-22T15:26:10.662Z"
   },
   {
    "duration": 236,
    "start_time": "2024-06-22T15:26:11.815Z"
   },
   {
    "duration": 3,
    "start_time": "2024-06-22T15:26:16.846Z"
   },
   {
    "duration": 374,
    "start_time": "2024-06-22T15:26:19.008Z"
   },
   {
    "duration": 7,
    "start_time": "2024-06-22T15:26:35.078Z"
   },
   {
    "duration": 297,
    "start_time": "2024-06-22T15:27:01.027Z"
   },
   {
    "duration": 626,
    "start_time": "2024-06-22T15:27:04.131Z"
   },
   {
    "duration": 3,
    "start_time": "2024-06-22T15:27:05.226Z"
   },
   {
    "duration": 23,
    "start_time": "2024-06-22T15:29:54.253Z"
   },
   {
    "duration": 10646,
    "start_time": "2024-06-22T15:36:16.007Z"
   },
   {
    "duration": 1407,
    "start_time": "2024-06-22T15:36:26.655Z"
   },
   {
    "duration": 4,
    "start_time": "2024-06-22T15:36:28.064Z"
   },
   {
    "duration": 18,
    "start_time": "2024-06-22T15:36:28.069Z"
   },
   {
    "duration": 6,
    "start_time": "2024-06-22T15:36:28.088Z"
   },
   {
    "duration": 5,
    "start_time": "2024-06-22T15:36:28.096Z"
   },
   {
    "duration": 7,
    "start_time": "2024-06-22T15:36:28.102Z"
   },
   {
    "duration": 7,
    "start_time": "2024-06-22T15:36:28.110Z"
   },
   {
    "duration": 53,
    "start_time": "2024-06-22T15:36:28.118Z"
   },
   {
    "duration": 17,
    "start_time": "2024-06-22T15:36:28.174Z"
   },
   {
    "duration": 2,
    "start_time": "2024-06-22T15:36:28.193Z"
   },
   {
    "duration": 9,
    "start_time": "2024-06-22T15:36:28.197Z"
   },
   {
    "duration": 323,
    "start_time": "2024-06-22T15:36:28.208Z"
   },
   {
    "duration": 308,
    "start_time": "2024-06-22T15:36:28.533Z"
   },
   {
    "duration": 215,
    "start_time": "2024-06-22T15:36:28.843Z"
   },
   {
    "duration": 245,
    "start_time": "2024-06-22T15:36:29.060Z"
   },
   {
    "duration": 1421,
    "start_time": "2024-06-22T15:36:29.306Z"
   },
   {
    "duration": 729,
    "start_time": "2024-06-22T15:36:30.729Z"
   },
   {
    "duration": 225,
    "start_time": "2024-06-22T15:36:31.460Z"
   },
   {
    "duration": 8,
    "start_time": "2024-06-22T15:36:31.686Z"
   },
   {
    "duration": 11,
    "start_time": "2024-06-22T15:36:31.696Z"
   },
   {
    "duration": 38,
    "start_time": "2024-06-22T15:36:31.709Z"
   },
   {
    "duration": 109,
    "start_time": "2024-06-22T15:36:31.749Z"
   },
   {
    "duration": 218362,
    "start_time": "2024-06-22T15:36:31.859Z"
   },
   {
    "duration": 3,
    "start_time": "2024-06-22T15:40:10.223Z"
   },
   {
    "duration": 25,
    "start_time": "2024-06-22T15:40:10.227Z"
   },
   {
    "duration": 1748,
    "start_time": "2024-06-22T15:40:10.253Z"
   },
   {
    "duration": 1042,
    "start_time": "2024-06-22T15:40:12.006Z"
   },
   {
    "duration": 15,
    "start_time": "2024-06-22T15:40:13.049Z"
   },
   {
    "duration": 448,
    "start_time": "2024-06-22T15:40:13.066Z"
   },
   {
    "duration": 8,
    "start_time": "2024-06-22T15:40:13.515Z"
   },
   {
    "duration": 240,
    "start_time": "2024-06-22T15:40:13.525Z"
   },
   {
    "duration": 4,
    "start_time": "2024-06-22T15:40:13.766Z"
   },
   {
    "duration": 394,
    "start_time": "2024-06-22T15:40:13.771Z"
   },
   {
    "duration": 8,
    "start_time": "2024-06-22T15:40:14.167Z"
   },
   {
    "duration": 343,
    "start_time": "2024-06-22T15:40:14.177Z"
   },
   {
    "duration": 538,
    "start_time": "2024-06-22T15:40:14.521Z"
   },
   {
    "duration": 3,
    "start_time": "2024-06-22T15:40:15.060Z"
   },
   {
    "duration": 10000,
    "start_time": "2024-06-22T15:41:44.829Z"
   },
   {
    "duration": 1405,
    "start_time": "2024-06-22T15:41:54.831Z"
   },
   {
    "duration": 3,
    "start_time": "2024-06-22T15:41:56.237Z"
   },
   {
    "duration": 4,
    "start_time": "2024-06-22T15:41:56.242Z"
   },
   {
    "duration": 8,
    "start_time": "2024-06-22T15:41:56.248Z"
   },
   {
    "duration": 7,
    "start_time": "2024-06-22T15:41:56.257Z"
   },
   {
    "duration": 4,
    "start_time": "2024-06-22T15:41:56.265Z"
   },
   {
    "duration": 4,
    "start_time": "2024-06-22T15:41:56.271Z"
   },
   {
    "duration": 54,
    "start_time": "2024-06-22T15:41:56.276Z"
   },
   {
    "duration": 16,
    "start_time": "2024-06-22T15:41:56.332Z"
   },
   {
    "duration": 3,
    "start_time": "2024-06-22T15:41:56.349Z"
   },
   {
    "duration": 26,
    "start_time": "2024-06-22T15:41:56.353Z"
   },
   {
    "duration": 326,
    "start_time": "2024-06-22T15:41:56.381Z"
   },
   {
    "duration": 314,
    "start_time": "2024-06-22T15:41:56.710Z"
   },
   {
    "duration": 207,
    "start_time": "2024-06-22T15:41:57.025Z"
   },
   {
    "duration": 274,
    "start_time": "2024-06-22T15:41:57.233Z"
   },
   {
    "duration": 1318,
    "start_time": "2024-06-22T15:41:57.509Z"
   },
   {
    "duration": 718,
    "start_time": "2024-06-22T15:41:58.828Z"
   },
   {
    "duration": 225,
    "start_time": "2024-06-22T15:41:59.547Z"
   },
   {
    "duration": 7,
    "start_time": "2024-06-22T15:41:59.773Z"
   },
   {
    "duration": 33,
    "start_time": "2024-06-22T15:41:59.781Z"
   },
   {
    "duration": 24,
    "start_time": "2024-06-22T15:41:59.815Z"
   },
   {
    "duration": 4,
    "start_time": "2024-06-22T15:41:59.841Z"
   },
   {
    "duration": 211313,
    "start_time": "2024-06-22T15:41:59.846Z"
   },
   {
    "duration": 3,
    "start_time": "2024-06-22T15:45:31.161Z"
   },
   {
    "duration": 35,
    "start_time": "2024-06-22T15:45:31.165Z"
   },
   {
    "duration": 1765,
    "start_time": "2024-06-22T15:45:31.202Z"
   },
   {
    "duration": 983,
    "start_time": "2024-06-22T15:45:32.969Z"
   },
   {
    "duration": 14,
    "start_time": "2024-06-22T15:45:33.954Z"
   },
   {
    "duration": 435,
    "start_time": "2024-06-22T15:45:33.970Z"
   },
   {
    "duration": 15,
    "start_time": "2024-06-22T15:45:34.406Z"
   },
   {
    "duration": 236,
    "start_time": "2024-06-22T15:45:34.422Z"
   },
   {
    "duration": 3,
    "start_time": "2024-06-22T15:45:34.660Z"
   },
   {
    "duration": 408,
    "start_time": "2024-06-22T15:45:34.665Z"
   },
   {
    "duration": 8,
    "start_time": "2024-06-22T15:45:35.074Z"
   },
   {
    "duration": 312,
    "start_time": "2024-06-22T15:45:35.083Z"
   },
   {
    "duration": 562,
    "start_time": "2024-06-22T15:45:35.396Z"
   },
   {
    "duration": 3,
    "start_time": "2024-06-22T15:45:35.959Z"
   },
   {
    "duration": 43800434,
    "start_time": "2024-06-22T15:45:35.963Z"
   },
   {
    "duration": 0,
    "start_time": "2024-06-23T03:55:36.401Z"
   },
   {
    "duration": 0,
    "start_time": "2024-06-23T03:55:36.402Z"
   },
   {
    "duration": 0,
    "start_time": "2024-06-23T03:55:36.403Z"
   },
   {
    "duration": 0,
    "start_time": "2024-06-23T03:55:36.404Z"
   },
   {
    "duration": 0,
    "start_time": "2024-06-23T03:55:36.405Z"
   },
   {
    "duration": 0,
    "start_time": "2024-06-23T03:55:36.421Z"
   },
   {
    "duration": 0,
    "start_time": "2024-06-23T03:55:36.422Z"
   },
   {
    "duration": 0,
    "start_time": "2024-06-23T03:55:36.423Z"
   },
   {
    "duration": 0,
    "start_time": "2024-06-23T03:55:36.424Z"
   },
   {
    "duration": 0,
    "start_time": "2024-06-23T03:55:36.425Z"
   },
   {
    "duration": 0,
    "start_time": "2024-06-23T03:55:36.426Z"
   },
   {
    "duration": 0,
    "start_time": "2024-06-23T03:55:36.427Z"
   },
   {
    "duration": 0,
    "start_time": "2024-06-23T03:55:36.428Z"
   },
   {
    "duration": 0,
    "start_time": "2024-06-23T03:55:36.429Z"
   },
   {
    "duration": 0,
    "start_time": "2024-06-23T03:55:36.430Z"
   },
   {
    "duration": 0,
    "start_time": "2024-06-23T03:55:36.431Z"
   },
   {
    "duration": 0,
    "start_time": "2024-06-23T03:55:36.432Z"
   },
   {
    "duration": 0,
    "start_time": "2024-06-23T03:55:36.434Z"
   },
   {
    "duration": 0,
    "start_time": "2024-06-23T03:55:36.435Z"
   },
   {
    "duration": 0,
    "start_time": "2024-06-23T03:55:36.436Z"
   },
   {
    "duration": 0,
    "start_time": "2024-06-23T03:55:36.437Z"
   },
   {
    "duration": 0,
    "start_time": "2024-06-23T03:55:36.438Z"
   },
   {
    "duration": 0,
    "start_time": "2024-06-23T03:55:36.439Z"
   },
   {
    "duration": 0,
    "start_time": "2024-06-23T03:55:36.439Z"
   },
   {
    "duration": 0,
    "start_time": "2024-06-23T03:55:36.441Z"
   },
   {
    "duration": 0,
    "start_time": "2024-06-23T03:55:36.442Z"
   },
   {
    "duration": 0,
    "start_time": "2024-06-23T03:55:36.443Z"
   },
   {
    "duration": 0,
    "start_time": "2024-06-23T03:55:36.445Z"
   },
   {
    "duration": 0,
    "start_time": "2024-06-23T03:55:36.446Z"
   },
   {
    "duration": 0,
    "start_time": "2024-06-23T03:55:36.447Z"
   },
   {
    "duration": 0,
    "start_time": "2024-06-23T03:55:36.449Z"
   },
   {
    "duration": 0,
    "start_time": "2024-06-23T03:55:36.451Z"
   },
   {
    "duration": 0,
    "start_time": "2024-06-23T03:55:36.452Z"
   },
   {
    "duration": 0,
    "start_time": "2024-06-23T03:55:36.454Z"
   },
   {
    "duration": 0,
    "start_time": "2024-06-23T03:55:36.455Z"
   },
   {
    "duration": 0,
    "start_time": "2024-06-23T03:55:36.456Z"
   },
   {
    "duration": 0,
    "start_time": "2024-06-23T03:55:36.457Z"
   },
   {
    "duration": 0,
    "start_time": "2024-06-23T03:55:36.458Z"
   },
   {
    "duration": 0,
    "start_time": "2024-06-23T03:55:36.460Z"
   },
   {
    "duration": 0,
    "start_time": "2024-06-23T03:55:36.520Z"
   },
   {
    "duration": 0,
    "start_time": "2024-06-23T03:55:36.521Z"
   },
   {
    "duration": 0,
    "start_time": "2024-06-23T03:55:36.523Z"
   },
   {
    "duration": 0,
    "start_time": "2024-06-23T03:55:36.524Z"
   },
   {
    "duration": 0,
    "start_time": "2024-06-23T03:55:36.525Z"
   },
   {
    "duration": 0,
    "start_time": "2024-06-23T03:55:36.526Z"
   },
   {
    "duration": 0,
    "start_time": "2024-06-23T03:55:36.527Z"
   },
   {
    "duration": 0,
    "start_time": "2024-06-23T03:55:36.529Z"
   },
   {
    "duration": 0,
    "start_time": "2024-06-23T03:55:36.530Z"
   },
   {
    "duration": 0,
    "start_time": "2024-06-23T03:55:36.531Z"
   },
   {
    "duration": 0,
    "start_time": "2024-06-23T03:55:36.532Z"
   },
   {
    "duration": 0,
    "start_time": "2024-06-23T03:55:36.533Z"
   },
   {
    "duration": 0,
    "start_time": "2024-06-23T03:55:36.534Z"
   },
   {
    "duration": 0,
    "start_time": "2024-06-23T03:55:36.535Z"
   },
   {
    "duration": 0,
    "start_time": "2024-06-23T03:55:36.536Z"
   },
   {
    "duration": 0,
    "start_time": "2024-06-23T03:55:36.537Z"
   },
   {
    "duration": 0,
    "start_time": "2024-06-23T03:55:36.538Z"
   },
   {
    "duration": 4,
    "start_time": "2024-06-23T13:00:01.282Z"
   },
   {
    "duration": 384955,
    "start_time": "2024-06-23T13:00:17.984Z"
   },
   {
    "duration": 138428,
    "start_time": "2024-06-23T13:10:57.696Z"
   },
   {
    "duration": 371242,
    "start_time": "2024-06-23T13:13:17.996Z"
   },
   {
    "duration": 8,
    "start_time": "2024-06-23T13:33:01.792Z"
   },
   {
    "duration": 37,
    "start_time": "2024-06-23T13:33:11.737Z"
   },
   {
    "duration": 230,
    "start_time": "2024-06-23T13:33:23.401Z"
   },
   {
    "duration": 48,
    "start_time": "2024-06-23T14:07:57.020Z"
   },
   {
    "duration": 2795501,
    "start_time": "2024-06-23T14:17:15.561Z"
   },
   {
    "duration": 8,
    "start_time": "2024-06-23T15:33:51.538Z"
   },
   {
    "duration": 8,
    "start_time": "2024-06-23T15:34:07.597Z"
   },
   {
    "duration": 10,
    "start_time": "2024-06-23T17:15:52.106Z"
   },
   {
    "duration": 3,
    "start_time": "2024-06-23T17:18:29.091Z"
   },
   {
    "duration": 2,
    "start_time": "2024-06-23T17:18:30.153Z"
   },
   {
    "duration": 9,
    "start_time": "2024-06-23T17:18:33.306Z"
   },
   {
    "duration": 12,
    "start_time": "2024-06-23T17:21:43.271Z"
   },
   {
    "duration": 9,
    "start_time": "2024-06-23T17:24:07.063Z"
   },
   {
    "duration": 11,
    "start_time": "2024-06-23T17:24:09.574Z"
   },
   {
    "duration": 3,
    "start_time": "2024-06-23T17:24:13.575Z"
   },
   {
    "duration": 3,
    "start_time": "2024-06-23T17:31:25.064Z"
   },
   {
    "duration": 3,
    "start_time": "2024-06-23T17:45:05.208Z"
   },
   {
    "duration": 16,
    "start_time": "2024-06-23T17:45:33.600Z"
   },
   {
    "duration": 9,
    "start_time": "2024-06-23T17:45:41.550Z"
   },
   {
    "duration": 9,
    "start_time": "2024-06-23T17:46:08.819Z"
   },
   {
    "duration": 4,
    "start_time": "2024-06-23T17:46:22.917Z"
   },
   {
    "duration": 11,
    "start_time": "2024-06-23T17:46:59.819Z"
   },
   {
    "duration": 11,
    "start_time": "2024-06-23T17:47:00.273Z"
   },
   {
    "duration": 15,
    "start_time": "2024-06-23T17:47:00.729Z"
   },
   {
    "duration": 2,
    "start_time": "2024-06-23T17:47:02.264Z"
   },
   {
    "duration": 7,
    "start_time": "2024-06-23T17:47:10.775Z"
   },
   {
    "duration": 15,
    "start_time": "2024-06-23T17:47:24.158Z"
   },
   {
    "duration": 10,
    "start_time": "2024-06-23T17:47:24.528Z"
   },
   {
    "duration": 24,
    "start_time": "2024-06-23T17:47:24.938Z"
   },
   {
    "duration": 3,
    "start_time": "2024-06-23T17:47:28.670Z"
   },
   {
    "duration": 7,
    "start_time": "2024-06-23T17:47:36.723Z"
   },
   {
    "duration": 8,
    "start_time": "2024-06-23T17:49:04.201Z"
   },
   {
    "duration": 12,
    "start_time": "2024-06-23T17:49:49.302Z"
   },
   {
    "duration": 16743,
    "start_time": "2024-06-23T17:49:59.177Z"
   },
   {
    "duration": 26,
    "start_time": "2024-06-23T17:50:20.228Z"
   },
   {
    "duration": 13532,
    "start_time": "2024-06-23T17:50:32.253Z"
   },
   {
    "duration": 1362,
    "start_time": "2024-06-23T17:50:45.787Z"
   },
   {
    "duration": 3,
    "start_time": "2024-06-23T17:50:47.150Z"
   },
   {
    "duration": 15,
    "start_time": "2024-06-23T17:50:47.155Z"
   },
   {
    "duration": 5,
    "start_time": "2024-06-23T17:50:47.171Z"
   },
   {
    "duration": 7,
    "start_time": "2024-06-23T17:50:47.177Z"
   },
   {
    "duration": 14,
    "start_time": "2024-06-23T17:50:47.185Z"
   },
   {
    "duration": 3,
    "start_time": "2024-06-23T17:50:47.201Z"
   },
   {
    "duration": 17,
    "start_time": "2024-06-23T17:50:47.206Z"
   },
   {
    "duration": 45,
    "start_time": "2024-06-23T17:50:47.288Z"
   },
   {
    "duration": 16,
    "start_time": "2024-06-23T17:50:47.334Z"
   },
   {
    "duration": 2,
    "start_time": "2024-06-23T17:50:47.351Z"
   },
   {
    "duration": 14,
    "start_time": "2024-06-23T17:50:47.354Z"
   },
   {
    "duration": 278,
    "start_time": "2024-06-23T17:50:47.369Z"
   },
   {
    "duration": 305,
    "start_time": "2024-06-23T17:50:47.649Z"
   },
   {
    "duration": 220,
    "start_time": "2024-06-23T17:50:47.955Z"
   },
   {
    "duration": 316,
    "start_time": "2024-06-23T17:50:48.177Z"
   },
   {
    "duration": 1533,
    "start_time": "2024-06-23T17:50:48.494Z"
   },
   {
    "duration": 713,
    "start_time": "2024-06-23T17:50:50.028Z"
   },
   {
    "duration": 309,
    "start_time": "2024-06-23T17:50:50.742Z"
   },
   {
    "duration": 8,
    "start_time": "2024-06-23T17:50:51.052Z"
   },
   {
    "duration": 11,
    "start_time": "2024-06-23T17:50:51.062Z"
   },
   {
    "duration": 7,
    "start_time": "2024-06-23T17:50:51.074Z"
   },
   {
    "duration": 12,
    "start_time": "2024-06-23T17:50:51.083Z"
   },
   {
    "duration": 218985,
    "start_time": "2024-06-23T17:50:51.097Z"
   },
   {
    "duration": 36,
    "start_time": "2024-06-23T17:54:30.084Z"
   },
   {
    "duration": 2,
    "start_time": "2024-06-23T17:54:30.122Z"
   },
   {
    "duration": 366,
    "start_time": "2024-06-23T17:54:30.129Z"
   },
   {
    "duration": 558,
    "start_time": "2024-06-23T17:54:30.496Z"
   },
   {
    "duration": 3,
    "start_time": "2024-06-23T17:54:31.055Z"
   },
   {
    "duration": 80,
    "start_time": "2024-06-23T17:54:31.059Z"
   },
   {
    "duration": 27,
    "start_time": "2024-06-23T17:54:31.140Z"
   },
   {
    "duration": 203,
    "start_time": "2024-06-23T17:54:31.168Z"
   },
   {
    "duration": 0,
    "start_time": "2024-06-23T17:54:31.373Z"
   },
   {
    "duration": 0,
    "start_time": "2024-06-23T17:54:31.374Z"
   },
   {
    "duration": 0,
    "start_time": "2024-06-23T17:54:31.374Z"
   },
   {
    "duration": 0,
    "start_time": "2024-06-23T17:54:31.375Z"
   },
   {
    "duration": 0,
    "start_time": "2024-06-23T17:54:31.376Z"
   },
   {
    "duration": 0,
    "start_time": "2024-06-23T17:54:31.377Z"
   },
   {
    "duration": 0,
    "start_time": "2024-06-23T17:54:31.378Z"
   },
   {
    "duration": 0,
    "start_time": "2024-06-23T17:54:31.379Z"
   },
   {
    "duration": 0,
    "start_time": "2024-06-23T17:54:31.379Z"
   },
   {
    "duration": 0,
    "start_time": "2024-06-23T17:54:31.380Z"
   },
   {
    "duration": 0,
    "start_time": "2024-06-23T17:54:31.381Z"
   },
   {
    "duration": 0,
    "start_time": "2024-06-23T17:54:31.382Z"
   },
   {
    "duration": 0,
    "start_time": "2024-06-23T17:54:31.382Z"
   },
   {
    "duration": 0,
    "start_time": "2024-06-23T17:54:31.383Z"
   },
   {
    "duration": 0,
    "start_time": "2024-06-23T17:54:31.384Z"
   },
   {
    "duration": 0,
    "start_time": "2024-06-23T17:54:31.385Z"
   },
   {
    "duration": 0,
    "start_time": "2024-06-23T17:54:31.386Z"
   },
   {
    "duration": 0,
    "start_time": "2024-06-23T17:54:31.386Z"
   },
   {
    "duration": 0,
    "start_time": "2024-06-23T17:54:31.387Z"
   },
   {
    "duration": 0,
    "start_time": "2024-06-23T17:54:31.388Z"
   },
   {
    "duration": 0,
    "start_time": "2024-06-23T17:54:31.389Z"
   },
   {
    "duration": 0,
    "start_time": "2024-06-23T17:54:31.389Z"
   },
   {
    "duration": 0,
    "start_time": "2024-06-23T17:54:31.390Z"
   },
   {
    "duration": 0,
    "start_time": "2024-06-23T17:54:31.391Z"
   },
   {
    "duration": 0,
    "start_time": "2024-06-23T17:54:31.392Z"
   },
   {
    "duration": 0,
    "start_time": "2024-06-23T17:54:31.392Z"
   },
   {
    "duration": 0,
    "start_time": "2024-06-23T17:54:31.422Z"
   },
   {
    "duration": 0,
    "start_time": "2024-06-23T17:54:31.423Z"
   },
   {
    "duration": 0,
    "start_time": "2024-06-23T17:54:31.424Z"
   },
   {
    "duration": 0,
    "start_time": "2024-06-23T17:54:31.425Z"
   },
   {
    "duration": 0,
    "start_time": "2024-06-23T17:54:31.426Z"
   },
   {
    "duration": 0,
    "start_time": "2024-06-23T17:54:31.427Z"
   },
   {
    "duration": 0,
    "start_time": "2024-06-23T17:54:31.427Z"
   },
   {
    "duration": 0,
    "start_time": "2024-06-23T17:54:31.428Z"
   },
   {
    "duration": 0,
    "start_time": "2024-06-23T17:54:31.429Z"
   },
   {
    "duration": 0,
    "start_time": "2024-06-23T17:54:31.430Z"
   },
   {
    "duration": 0,
    "start_time": "2024-06-23T17:54:31.431Z"
   },
   {
    "duration": 0,
    "start_time": "2024-06-23T17:54:31.432Z"
   },
   {
    "duration": 0,
    "start_time": "2024-06-23T17:54:31.433Z"
   },
   {
    "duration": 0,
    "start_time": "2024-06-23T17:54:31.433Z"
   },
   {
    "duration": 1,
    "start_time": "2024-06-23T17:54:31.434Z"
   },
   {
    "duration": 0,
    "start_time": "2024-06-23T17:54:31.435Z"
   },
   {
    "duration": 0,
    "start_time": "2024-06-23T17:54:31.436Z"
   },
   {
    "duration": 0,
    "start_time": "2024-06-23T17:54:31.437Z"
   },
   {
    "duration": 0,
    "start_time": "2024-06-23T17:54:31.438Z"
   },
   {
    "duration": 0,
    "start_time": "2024-06-23T17:54:31.438Z"
   },
   {
    "duration": 0,
    "start_time": "2024-06-23T17:54:31.439Z"
   },
   {
    "duration": 0,
    "start_time": "2024-06-23T17:54:31.440Z"
   },
   {
    "duration": 2,
    "start_time": "2024-06-23T18:06:39.214Z"
   },
   {
    "duration": 2,
    "start_time": "2024-06-23T18:06:40.275Z"
   },
   {
    "duration": 9,
    "start_time": "2024-06-23T18:06:41.522Z"
   },
   {
    "duration": 9,
    "start_time": "2024-06-23T18:06:41.875Z"
   },
   {
    "duration": 12,
    "start_time": "2024-06-23T18:06:42.243Z"
   },
   {
    "duration": 3,
    "start_time": "2024-06-23T18:06:46.660Z"
   },
   {
    "duration": 7,
    "start_time": "2024-06-23T18:06:47.159Z"
   },
   {
    "duration": 14,
    "start_time": "2024-06-23T18:06:48.515Z"
   },
   {
    "duration": 10,
    "start_time": "2024-06-23T18:06:48.879Z"
   },
   {
    "duration": 18,
    "start_time": "2024-06-23T18:06:49.254Z"
   },
   {
    "duration": 3,
    "start_time": "2024-06-23T18:06:50.270Z"
   },
   {
    "duration": 7,
    "start_time": "2024-06-23T18:06:54.355Z"
   },
   {
    "duration": 14,
    "start_time": "2024-06-23T18:06:55.530Z"
   },
   {
    "duration": 10,
    "start_time": "2024-06-23T18:06:55.797Z"
   },
   {
    "duration": 23,
    "start_time": "2024-06-23T18:06:55.999Z"
   },
   {
    "duration": 3,
    "start_time": "2024-06-23T18:06:56.223Z"
   },
   {
    "duration": 7,
    "start_time": "2024-06-23T18:06:56.864Z"
   },
   {
    "duration": 8,
    "start_time": "2024-06-23T18:07:02.201Z"
   },
   {
    "duration": 26,
    "start_time": "2024-06-23T18:07:14.618Z"
   },
   {
    "duration": 29,
    "start_time": "2024-06-23T18:10:24.492Z"
   },
   {
    "duration": 34,
    "start_time": "2024-06-23T18:11:24.055Z"
   },
   {
    "duration": 35,
    "start_time": "2024-06-23T18:14:34.604Z"
   },
   {
    "duration": 6,
    "start_time": "2024-06-23T18:19:18.507Z"
   },
   {
    "duration": 3,
    "start_time": "2024-06-23T18:19:27.557Z"
   },
   {
    "duration": 6,
    "start_time": "2024-06-23T18:19:28.054Z"
   },
   {
    "duration": 26,
    "start_time": "2024-06-23T18:20:19.303Z"
   },
   {
    "duration": 48,
    "start_time": "2024-06-23T18:21:42.096Z"
   },
   {
    "duration": 3,
    "start_time": "2024-06-23T18:21:47.800Z"
   },
   {
    "duration": 45,
    "start_time": "2024-06-23T18:21:55.549Z"
   },
   {
    "duration": 9,
    "start_time": "2024-06-23T18:22:04.137Z"
   },
   {
    "duration": 116,
    "start_time": "2024-06-23T18:22:35.175Z"
   },
   {
    "duration": 58,
    "start_time": "2024-06-23T18:23:24.759Z"
   },
   {
    "duration": 24,
    "start_time": "2024-06-23T18:23:29.735Z"
   },
   {
    "duration": 9,
    "start_time": "2024-06-23T18:24:30.371Z"
   },
   {
    "duration": 1722,
    "start_time": "2024-06-23T18:24:39.326Z"
   },
   {
    "duration": 2,
    "start_time": "2024-06-23T18:24:52.245Z"
   },
   {
    "duration": 3,
    "start_time": "2024-06-23T18:25:39.018Z"
   },
   {
    "duration": 6,
    "start_time": "2024-06-23T18:26:34.618Z"
   },
   {
    "duration": 5,
    "start_time": "2024-06-23T18:26:35.345Z"
   },
   {
    "duration": 5,
    "start_time": "2024-06-23T18:27:13.246Z"
   },
   {
    "duration": 5,
    "start_time": "2024-06-23T18:27:28.645Z"
   },
   {
    "duration": 5,
    "start_time": "2024-06-23T18:28:05.835Z"
   },
   {
    "duration": 6,
    "start_time": "2024-06-23T18:28:06.579Z"
   },
   {
    "duration": 1682,
    "start_time": "2024-06-23T18:28:16.644Z"
   },
   {
    "duration": 2,
    "start_time": "2024-06-23T18:28:31.356Z"
   },
   {
    "duration": 1745,
    "start_time": "2024-06-23T18:28:39.783Z"
   },
   {
    "duration": 3,
    "start_time": "2024-06-23T18:28:43.813Z"
   },
   {
    "duration": 9,
    "start_time": "2024-06-23T18:28:49.172Z"
   },
   {
    "duration": 1718,
    "start_time": "2024-06-23T18:29:27.997Z"
   },
   {
    "duration": 3,
    "start_time": "2024-06-23T18:29:32.253Z"
   },
   {
    "duration": 2,
    "start_time": "2024-06-23T18:29:34.375Z"
   },
   {
    "duration": 1683,
    "start_time": "2024-06-23T18:29:38.809Z"
   },
   {
    "duration": 10,
    "start_time": "2024-06-23T18:31:00.138Z"
   },
   {
    "duration": 10,
    "start_time": "2024-06-23T18:31:16.332Z"
   },
   {
    "duration": 12,
    "start_time": "2024-06-23T18:31:31.268Z"
   },
   {
    "duration": 2,
    "start_time": "2024-06-23T18:32:20.220Z"
   },
   {
    "duration": 5,
    "start_time": "2024-06-23T18:32:20.636Z"
   },
   {
    "duration": 5,
    "start_time": "2024-06-23T18:32:21.194Z"
   },
   {
    "duration": 7,
    "start_time": "2024-06-23T18:32:21.896Z"
   },
   {
    "duration": 1721,
    "start_time": "2024-06-23T18:32:22.502Z"
   },
   {
    "duration": 3,
    "start_time": "2024-06-23T18:32:24.224Z"
   },
   {
    "duration": 2,
    "start_time": "2024-06-23T18:32:24.352Z"
   },
   {
    "duration": 1669,
    "start_time": "2024-06-23T18:32:27.133Z"
   },
   {
    "duration": 2,
    "start_time": "2024-06-23T18:32:28.803Z"
   },
   {
    "duration": 1730,
    "start_time": "2024-06-23T18:32:30.963Z"
   },
   {
    "duration": 2,
    "start_time": "2024-06-23T18:32:32.695Z"
   },
   {
    "duration": 60,
    "start_time": "2024-06-23T18:32:32.698Z"
   },
   {
    "duration": 2,
    "start_time": "2024-06-23T18:32:44.131Z"
   },
   {
    "duration": 12417,
    "start_time": "2024-06-23T18:34:07.417Z"
   },
   {
    "duration": 1352,
    "start_time": "2024-06-23T18:34:19.836Z"
   },
   {
    "duration": 3,
    "start_time": "2024-06-23T18:34:21.189Z"
   },
   {
    "duration": 5,
    "start_time": "2024-06-23T18:34:21.194Z"
   },
   {
    "duration": 5,
    "start_time": "2024-06-23T18:34:21.201Z"
   },
   {
    "duration": 3,
    "start_time": "2024-06-23T18:34:21.207Z"
   },
   {
    "duration": 10,
    "start_time": "2024-06-23T18:34:21.211Z"
   },
   {
    "duration": 5,
    "start_time": "2024-06-23T18:34:21.222Z"
   },
   {
    "duration": 4,
    "start_time": "2024-06-23T18:34:21.229Z"
   },
   {
    "duration": 106,
    "start_time": "2024-06-23T18:34:21.235Z"
   },
   {
    "duration": 15,
    "start_time": "2024-06-23T18:34:21.342Z"
   },
   {
    "duration": 2,
    "start_time": "2024-06-23T18:34:21.358Z"
   },
   {
    "duration": 9,
    "start_time": "2024-06-23T18:34:21.361Z"
   },
   {
    "duration": 267,
    "start_time": "2024-06-23T18:34:21.372Z"
   },
   {
    "duration": 319,
    "start_time": "2024-06-23T18:34:21.640Z"
   },
   {
    "duration": 243,
    "start_time": "2024-06-23T18:34:21.961Z"
   },
   {
    "duration": 314,
    "start_time": "2024-06-23T18:34:22.206Z"
   },
   {
    "duration": 1400,
    "start_time": "2024-06-23T18:34:22.521Z"
   },
   {
    "duration": 614,
    "start_time": "2024-06-23T18:34:23.922Z"
   },
   {
    "duration": 302,
    "start_time": "2024-06-23T18:34:24.538Z"
   },
   {
    "duration": 7,
    "start_time": "2024-06-23T18:34:24.841Z"
   },
   {
    "duration": 8,
    "start_time": "2024-06-23T18:34:24.849Z"
   },
   {
    "duration": 5,
    "start_time": "2024-06-23T18:34:24.858Z"
   },
   {
    "duration": 7,
    "start_time": "2024-06-23T18:34:24.864Z"
   },
   {
    "duration": 12540,
    "start_time": "2024-06-23T22:13:10.558Z"
   },
   {
    "duration": 1446,
    "start_time": "2024-06-23T22:13:23.100Z"
   },
   {
    "duration": 4,
    "start_time": "2024-06-23T22:13:24.548Z"
   },
   {
    "duration": 4,
    "start_time": "2024-06-23T22:13:24.553Z"
   },
   {
    "duration": 5,
    "start_time": "2024-06-23T22:13:24.558Z"
   },
   {
    "duration": 4,
    "start_time": "2024-06-23T22:13:24.565Z"
   },
   {
    "duration": 7,
    "start_time": "2024-06-23T22:13:24.570Z"
   },
   {
    "duration": 15,
    "start_time": "2024-06-23T22:13:24.579Z"
   },
   {
    "duration": 8,
    "start_time": "2024-06-23T22:13:24.595Z"
   },
   {
    "duration": 45,
    "start_time": "2024-06-23T22:13:24.673Z"
   },
   {
    "duration": 18,
    "start_time": "2024-06-23T22:13:24.720Z"
   },
   {
    "duration": 3,
    "start_time": "2024-06-23T22:13:24.739Z"
   },
   {
    "duration": 9,
    "start_time": "2024-06-23T22:13:24.743Z"
   },
   {
    "duration": 294,
    "start_time": "2024-06-23T22:13:24.753Z"
   },
   {
    "duration": 319,
    "start_time": "2024-06-23T22:13:25.049Z"
   },
   {
    "duration": 207,
    "start_time": "2024-06-23T22:13:25.370Z"
   },
   {
    "duration": 363,
    "start_time": "2024-06-23T22:13:25.578Z"
   },
   {
    "duration": 2285,
    "start_time": "2024-06-23T22:13:25.942Z"
   },
   {
    "duration": 698,
    "start_time": "2024-06-23T22:13:28.229Z"
   },
   {
    "duration": 287,
    "start_time": "2024-06-23T22:13:28.929Z"
   },
   {
    "duration": 6,
    "start_time": "2024-06-23T22:13:29.218Z"
   },
   {
    "duration": 25,
    "start_time": "2024-06-23T22:13:29.225Z"
   },
   {
    "duration": 23,
    "start_time": "2024-06-23T22:13:29.252Z"
   },
   {
    "duration": 19,
    "start_time": "2024-06-23T22:13:29.277Z"
   },
   {
    "duration": 12838,
    "start_time": "2024-06-23T22:14:39.330Z"
   },
   {
    "duration": 2035,
    "start_time": "2024-06-23T22:14:52.170Z"
   },
   {
    "duration": 4,
    "start_time": "2024-06-23T22:14:54.207Z"
   },
   {
    "duration": 11,
    "start_time": "2024-06-23T22:14:54.212Z"
   },
   {
    "duration": 4,
    "start_time": "2024-06-23T22:14:54.224Z"
   },
   {
    "duration": 5,
    "start_time": "2024-06-23T22:14:54.229Z"
   },
   {
    "duration": 4,
    "start_time": "2024-06-23T22:14:54.235Z"
   },
   {
    "duration": 3,
    "start_time": "2024-06-23T22:14:54.241Z"
   },
   {
    "duration": 5,
    "start_time": "2024-06-23T22:14:54.245Z"
   },
   {
    "duration": 46,
    "start_time": "2024-06-23T22:14:54.342Z"
   },
   {
    "duration": 16,
    "start_time": "2024-06-23T22:14:54.390Z"
   },
   {
    "duration": 20,
    "start_time": "2024-06-23T22:14:54.407Z"
   },
   {
    "duration": 19,
    "start_time": "2024-06-23T22:14:54.428Z"
   },
   {
    "duration": 262,
    "start_time": "2024-06-23T22:14:54.449Z"
   },
   {
    "duration": 311,
    "start_time": "2024-06-23T22:14:54.713Z"
   },
   {
    "duration": 213,
    "start_time": "2024-06-23T22:14:55.026Z"
   },
   {
    "duration": 294,
    "start_time": "2024-06-23T22:14:55.240Z"
   },
   {
    "duration": 1286,
    "start_time": "2024-06-23T22:14:55.536Z"
   },
   {
    "duration": 635,
    "start_time": "2024-06-23T22:14:56.824Z"
   },
   {
    "duration": 293,
    "start_time": "2024-06-23T22:14:57.461Z"
   },
   {
    "duration": 7,
    "start_time": "2024-06-23T22:14:57.755Z"
   },
   {
    "duration": 3,
    "start_time": "2024-06-23T22:14:57.763Z"
   },
   {
    "duration": 3,
    "start_time": "2024-06-23T22:14:57.768Z"
   },
   {
    "duration": 4,
    "start_time": "2024-06-23T22:14:57.772Z"
   },
   {
    "duration": 12660,
    "start_time": "2024-06-23T22:18:11.525Z"
   },
   {
    "duration": 1475,
    "start_time": "2024-06-23T22:18:24.188Z"
   },
   {
    "duration": 3,
    "start_time": "2024-06-23T22:18:25.665Z"
   },
   {
    "duration": 16,
    "start_time": "2024-06-23T22:18:25.670Z"
   },
   {
    "duration": 15,
    "start_time": "2024-06-23T22:18:25.687Z"
   },
   {
    "duration": 11,
    "start_time": "2024-06-23T22:18:25.704Z"
   },
   {
    "duration": 4,
    "start_time": "2024-06-23T22:18:25.716Z"
   },
   {
    "duration": 21,
    "start_time": "2024-06-23T22:18:25.722Z"
   },
   {
    "duration": 12,
    "start_time": "2024-06-23T22:18:25.744Z"
   },
   {
    "duration": 47,
    "start_time": "2024-06-23T22:18:25.821Z"
   },
   {
    "duration": 16,
    "start_time": "2024-06-23T22:18:25.869Z"
   },
   {
    "duration": 6,
    "start_time": "2024-06-23T22:18:25.886Z"
   },
   {
    "duration": 8,
    "start_time": "2024-06-23T22:18:25.894Z"
   },
   {
    "duration": 264,
    "start_time": "2024-06-23T22:18:25.903Z"
   },
   {
    "duration": 319,
    "start_time": "2024-06-23T22:18:26.169Z"
   },
   {
    "duration": 217,
    "start_time": "2024-06-23T22:18:26.489Z"
   },
   {
    "duration": 316,
    "start_time": "2024-06-23T22:18:26.707Z"
   },
   {
    "duration": 1103,
    "start_time": "2024-06-23T22:18:27.024Z"
   },
   {
    "duration": 700,
    "start_time": "2024-06-23T22:18:28.128Z"
   },
   {
    "duration": 279,
    "start_time": "2024-06-23T22:18:28.829Z"
   },
   {
    "duration": 15,
    "start_time": "2024-06-23T22:18:29.109Z"
   },
   {
    "duration": 7,
    "start_time": "2024-06-23T22:18:29.125Z"
   },
   {
    "duration": 5,
    "start_time": "2024-06-23T22:18:29.133Z"
   },
   {
    "duration": 6,
    "start_time": "2024-06-23T22:18:29.139Z"
   },
   {
    "duration": 218329,
    "start_time": "2024-06-23T22:18:29.146Z"
   },
   {
    "duration": 3,
    "start_time": "2024-06-23T22:22:07.477Z"
   },
   {
    "duration": 7,
    "start_time": "2024-06-23T22:22:07.481Z"
   },
   {
    "duration": 9,
    "start_time": "2024-06-23T22:22:07.492Z"
   },
   {
    "duration": 371,
    "start_time": "2024-06-23T22:22:07.519Z"
   },
   {
    "duration": 537,
    "start_time": "2024-06-23T22:22:07.891Z"
   },
   {
    "duration": 4,
    "start_time": "2024-06-23T22:22:08.429Z"
   },
   {
    "duration": 12546,
    "start_time": "2024-06-24T04:28:47.514Z"
   },
   {
    "duration": 1366,
    "start_time": "2024-06-24T04:29:00.062Z"
   },
   {
    "duration": 3,
    "start_time": "2024-06-24T04:29:01.429Z"
   },
   {
    "duration": 238,
    "start_time": "2024-06-24T04:29:01.434Z"
   },
   {
    "duration": 178,
    "start_time": "2024-06-24T04:29:01.673Z"
   },
   {
    "duration": 166,
    "start_time": "2024-06-24T04:29:01.853Z"
   },
   {
    "duration": 201,
    "start_time": "2024-06-24T04:29:02.021Z"
   },
   {
    "duration": 88,
    "start_time": "2024-06-24T04:29:02.223Z"
   },
   {
    "duration": 143,
    "start_time": "2024-06-24T04:29:02.313Z"
   },
   {
    "duration": 48,
    "start_time": "2024-06-24T04:29:02.519Z"
   },
   {
    "duration": 16,
    "start_time": "2024-06-24T04:29:02.568Z"
   },
   {
    "duration": 2,
    "start_time": "2024-06-24T04:29:02.586Z"
   },
   {
    "duration": 10,
    "start_time": "2024-06-24T04:29:02.589Z"
   },
   {
    "duration": 263,
    "start_time": "2024-06-24T04:29:02.600Z"
   },
   {
    "duration": 315,
    "start_time": "2024-06-24T04:29:02.865Z"
   },
   {
    "duration": 198,
    "start_time": "2024-06-24T04:29:03.182Z"
   },
   {
    "duration": 323,
    "start_time": "2024-06-24T04:29:03.381Z"
   },
   {
    "duration": 1321,
    "start_time": "2024-06-24T04:29:03.705Z"
   },
   {
    "duration": 707,
    "start_time": "2024-06-24T04:29:05.028Z"
   },
   {
    "duration": 293,
    "start_time": "2024-06-24T04:29:05.737Z"
   },
   {
    "duration": 7,
    "start_time": "2024-06-24T04:29:06.031Z"
   },
   {
    "duration": 32,
    "start_time": "2024-06-24T04:29:06.039Z"
   },
   {
    "duration": 23,
    "start_time": "2024-06-24T04:29:06.072Z"
   },
   {
    "duration": 13,
    "start_time": "2024-06-24T04:29:06.096Z"
   },
   {
    "duration": 222411,
    "start_time": "2024-06-24T04:29:06.111Z"
   },
   {
    "duration": 3,
    "start_time": "2024-06-24T04:32:48.523Z"
   },
   {
    "duration": 16,
    "start_time": "2024-06-24T04:32:48.528Z"
   },
   {
    "duration": 26,
    "start_time": "2024-06-24T04:32:48.549Z"
   },
   {
    "duration": 377,
    "start_time": "2024-06-24T04:32:48.576Z"
   },
   {
    "duration": 495,
    "start_time": "2024-06-24T04:32:48.955Z"
   },
   {
    "duration": 4,
    "start_time": "2024-06-24T04:32:49.451Z"
   }
  ],
  "kernelspec": {
   "display_name": "Python 3 (ipykernel)",
   "language": "python",
   "name": "python3"
  },
  "language_info": {
   "codemirror_mode": {
    "name": "ipython",
    "version": 3
   },
   "file_extension": ".py",
   "mimetype": "text/x-python",
   "name": "python",
   "nbconvert_exporter": "python",
   "pygments_lexer": "ipython3",
   "version": "3.9.19"
  },
  "toc": {
   "base_numbering": 1,
   "nav_menu": {},
   "number_sections": true,
   "sideBar": true,
   "skip_h1_title": true,
   "title_cell": "Содержание",
   "title_sidebar": "Contents",
   "toc_cell": true,
   "toc_position": {
    "height": "calc(100% - 180px)",
    "left": "10px",
    "top": "150px",
    "width": "300px"
   },
   "toc_section_display": true,
   "toc_window_display": true
  }
 },
 "nbformat": 4,
 "nbformat_minor": 4
}
