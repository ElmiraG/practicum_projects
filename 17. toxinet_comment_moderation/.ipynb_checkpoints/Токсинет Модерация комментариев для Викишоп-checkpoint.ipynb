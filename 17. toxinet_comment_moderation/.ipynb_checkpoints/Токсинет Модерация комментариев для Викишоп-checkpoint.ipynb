{
 "cells": [
  {
   "cell_type": "markdown",
   "metadata": {
    "toc": true
   },
   "source": [
    "<h1>Содержание<span class=\"tocSkip\"></span></h1>\n",
    "<div class=\"toc\"><ul class=\"toc-item\"><li><span><a href=\"#Загрузка-и-подготовка-данных\" data-toc-modified-id=\"Загрузка-и-подготовка-данных-1\"><span class=\"toc-item-num\">1&nbsp;&nbsp;</span>Загрузка и подготовка данных</a></span><ul class=\"toc-item\"><li><span><a href=\"#Импорт-библиотек\" data-toc-modified-id=\"Импорт-библиотек-1.1\"><span class=\"toc-item-num\">1.1&nbsp;&nbsp;</span>Импорт библиотек</a></span></li><li><span><a href=\"#Создание-функций\" data-toc-modified-id=\"Создание-функций-1.2\"><span class=\"toc-item-num\">1.2&nbsp;&nbsp;</span>Создание функций</a></span></li><li><span><a href=\"#Анализ-и-предподготовка-данных\" data-toc-modified-id=\"Анализ-и-предподготовка-данных-1.3\"><span class=\"toc-item-num\">1.3&nbsp;&nbsp;</span>Анализ и предподготовка данных</a></span></li><li><span><a href=\"#Вывод-по-анализу-и-предобработке-данных\" data-toc-modified-id=\"Вывод-по-анализу-и-предобработке-данных-1.4\"><span class=\"toc-item-num\">1.4&nbsp;&nbsp;</span>Вывод по анализу и предобработке данных</a></span></li></ul></li><li><span><a href=\"#Выбор-и-обучение-моделей\" data-toc-modified-id=\"Выбор-и-обучение-моделей-2\"><span class=\"toc-item-num\">2&nbsp;&nbsp;</span>Выбор и обучение моделей</a></span><ul class=\"toc-item\"><li><span><a href=\"#Балансировка-классов-с-помомшью-гиперпараметров\" data-toc-modified-id=\"Балансировка-классов-с-помомшью-гиперпараметров-2.1\"><span class=\"toc-item-num\">2.1&nbsp;&nbsp;</span>Балансировка классов с помомшью гиперпараметров</a></span></li><li><span><a href=\"#Балансировка-классов-с-помомшью-RandomUnderSampler()\" data-toc-modified-id=\"Балансировка-классов-с-помомшью-RandomUnderSampler()-2.2\"><span class=\"toc-item-num\">2.2&nbsp;&nbsp;</span>Балансировка классов с помомшью RandomUnderSampler()</a></span></li><li><span><a href=\"#Анализ-моделей\" data-toc-modified-id=\"Анализ-моделей-2.3\"><span class=\"toc-item-num\">2.3&nbsp;&nbsp;</span>Анализ моделей</a></span></li></ul></li><li><span><a href=\"#Тестирование.-Вывод\" data-toc-modified-id=\"Тестирование.-Вывод-3\"><span class=\"toc-item-num\">3&nbsp;&nbsp;</span>Тестирование. Вывод</a></span><ul class=\"toc-item\"><li><span><a href=\"#Вывод\" data-toc-modified-id=\"Вывод-3.1\"><span class=\"toc-item-num\">3.1&nbsp;&nbsp;</span>Вывод</a></span></li></ul></li><li><span><a href=\"#Чек-лист-проверки\" data-toc-modified-id=\"Чек-лист-проверки-4\"><span class=\"toc-item-num\">4&nbsp;&nbsp;</span>Чек-лист проверки</a></span></li></ul></div>"
   ]
  },
  {
   "cell_type": "markdown",
   "metadata": {},
   "source": [
    "# Токсинет: Модерация комментариев для Викишоп"
   ]
  },
  {
   "cell_type": "markdown",
   "metadata": {},
   "source": [
    "Интернет-магазин «Викишоп» запускает новый сервис. Теперь пользователи могут редактировать и дополнять описания товаров, как в вики-сообществах. То есть клиенты предлагают свои правки и комментируют изменения других. Магазину нужен инструмент, который будет искать токсичные комментарии и отправлять их на модерацию. \n",
    "\n",
    "Необходимо обучить модель классифицировать комментарии на позитивные и негативные, используя набор данных с разметкой о токсичности правок.\n",
    "\n",
    "Значение метрики качества *F1* должна быть не меньше 0.75. \n",
    "\n",
    "**План по выполнению проекта**\n",
    "\n",
    "1. Загрузка и подготовка данных\n",
    "2. Выбор и обучение моделей\n",
    "3. Тестирование. Вывод\n",
    "\n",
    "**Описание данных**\n",
    "\n",
    "- `toxic_comments.csv`- ссылка на данные \n",
    "- Столбец *text* - текст комментария\n",
    "- Столбец *toxic* — целевой признак"
   ]
  },
  {
   "cell_type": "markdown",
   "metadata": {},
   "source": [
    "## Загрузка и подготовка данных"
   ]
  },
  {
   "cell_type": "markdown",
   "metadata": {},
   "source": [
    "### Импорт библиотек"
   ]
  },
  {
   "cell_type": "code",
   "execution_count": 1,
   "metadata": {},
   "outputs": [],
   "source": [
    "!pip install -q wordcloud\n",
    "!pip install -q --upgrade scikit-learn\n",
    "!pip install -q imbalanced-learn   "
   ]
  },
  {
   "cell_type": "code",
   "execution_count": 1,
   "metadata": {},
   "outputs": [],
   "source": [
    "import warnings\n",
    "warnings.filterwarnings('ignore')\n",
    "\n",
    "#загрузка данных\n",
    "import os\n",
    "\n",
    "#загрузка стандартных библиотек\n",
    "import pandas as pd\n",
    "import numpy as np\n",
    "\n",
    "#графики, исследование данных\n",
    "import seaborn as sns\n",
    "from matplotlib import pyplot as plt\n",
    "import matplotlib\n",
    "\n",
    "# Работа с текстом\n",
    "from tqdm.notebook import tqdm\n",
    "tqdm.pandas()\n",
    "\n",
    "import spacy\n",
    "nlp = spacy.load(\"en_core_web_sm\")\n",
    "\n",
    "import re\n",
    "import nltk\n",
    "from nltk.stem import WordNetLemmatizer\n",
    "from nltk.corpus import stopwords\n",
    "nltk.download('stopwords', quiet=True)\n",
    "\n",
    "from collections import Counter\n",
    "from sklearn.feature_extraction.text import TfidfVectorizer\n",
    "from sklearn.model_selection import train_test_split, GridSearchCV\n",
    "from sklearn.utils import shuffle\n",
    "\n",
    "from imblearn.pipeline import make_pipeline\n",
    "\n",
    "#балансировка классов\n",
    "from imblearn.under_sampling import RandomUnderSampler\n",
    "\n",
    "# Импорт модели\n",
    "from sklearn.linear_model import LogisticRegression\n",
    "\n",
    "from sklearn.metrics import f1_score, precision_score, recall_score, roc_auc_score, roc_curve\n",
    "from sklearn.metrics import confusion_matrix, ConfusionMatrixDisplay"
   ]
  },
  {
   "cell_type": "markdown",
   "metadata": {},
   "source": [
    "### Создание функций"
   ]
  },
  {
   "cell_type": "markdown",
   "metadata": {},
   "source": [
    "### Анализ и предподготовка данных"
   ]
  },
  {
   "cell_type": "code",
   "execution_count": 3,
   "metadata": {},
   "outputs": [],
   "source": [
    "link1 = '/datasets/toxic_comments.csv'\n",
    "link2 = \"C:\\\\Users\\\\Daniyal\\\\Desktop\\\\jupiter\\\\toxic_comments.csv\"\n",
    "if os.path.exists(link1):\n",
    "    data = pd.read_csv(link1, parse_dates=[0] , index_col=0) \n",
    "elif os.path.exists(link2):\n",
    "    data = pd.read_csv(link2, parse_dates=[0] , index_col=0)\n",
    "else:\n",
    "    print('Cсылки не действительна')"
   ]
  },
  {
   "cell_type": "code",
   "execution_count": 4,
   "metadata": {},
   "outputs": [
    {
     "data": {
      "text/html": [
       "<div>\n",
       "<style scoped>\n",
       "    .dataframe tbody tr th:only-of-type {\n",
       "        vertical-align: middle;\n",
       "    }\n",
       "\n",
       "    .dataframe tbody tr th {\n",
       "        vertical-align: top;\n",
       "    }\n",
       "\n",
       "    .dataframe thead th {\n",
       "        text-align: right;\n",
       "    }\n",
       "</style>\n",
       "<table border=\"1\" class=\"dataframe\">\n",
       "  <thead>\n",
       "    <tr style=\"text-align: right;\">\n",
       "      <th></th>\n",
       "      <th>text</th>\n",
       "      <th>toxic</th>\n",
       "    </tr>\n",
       "  </thead>\n",
       "  <tbody>\n",
       "    <tr>\n",
       "      <th>0</th>\n",
       "      <td>Explanation\\nWhy the edits made under my usern...</td>\n",
       "      <td>0</td>\n",
       "    </tr>\n",
       "    <tr>\n",
       "      <th>1</th>\n",
       "      <td>D'aww! He matches this background colour I'm s...</td>\n",
       "      <td>0</td>\n",
       "    </tr>\n",
       "    <tr>\n",
       "      <th>2</th>\n",
       "      <td>Hey man, I'm really not trying to edit war. It...</td>\n",
       "      <td>0</td>\n",
       "    </tr>\n",
       "    <tr>\n",
       "      <th>3</th>\n",
       "      <td>\"\\nMore\\nI can't make any real suggestions on ...</td>\n",
       "      <td>0</td>\n",
       "    </tr>\n",
       "    <tr>\n",
       "      <th>4</th>\n",
       "      <td>You, sir, are my hero. Any chance you remember...</td>\n",
       "      <td>0</td>\n",
       "    </tr>\n",
       "  </tbody>\n",
       "</table>\n",
       "</div>"
      ],
      "text/plain": [
       "                                                text  toxic\n",
       "0  Explanation\\nWhy the edits made under my usern...      0\n",
       "1  D'aww! He matches this background colour I'm s...      0\n",
       "2  Hey man, I'm really not trying to edit war. It...      0\n",
       "3  \"\\nMore\\nI can't make any real suggestions on ...      0\n",
       "4  You, sir, are my hero. Any chance you remember...      0"
      ]
     },
     "metadata": {},
     "output_type": "display_data"
    },
    {
     "name": "stdout",
     "output_type": "stream",
     "text": [
      "Количество дубликатов в таблице: 0\n",
      "<class 'pandas.core.frame.DataFrame'>\n",
      "Int64Index: 159292 entries, 0 to 159450\n",
      "Data columns (total 2 columns):\n",
      " #   Column  Non-Null Count   Dtype \n",
      "---  ------  --------------   ----- \n",
      " 0   text    159292 non-null  object\n",
      " 1   toxic   159292 non-null  int64 \n",
      "dtypes: int64(1), object(1)\n",
      "memory usage: 3.6+ MB\n"
     ]
    }
   ],
   "source": [
    "# Информация о данных\n",
    "display(data.head())\n",
    "print('Количество дубликатов в таблице:', data.duplicated().sum())\n",
    "data.info()"
   ]
  },
  {
   "cell_type": "markdown",
   "metadata": {},
   "source": [
    "Отсутствуют дубликаты и пропуски"
   ]
  },
  {
   "cell_type": "code",
   "execution_count": 5,
   "metadata": {},
   "outputs": [
    {
     "data": {
      "image/png": "[encoded data removed]",
      "text/plain": [
       "<Figure size 576x576 with 1 Axes>"
      ]
     },
     "metadata": {},
     "output_type": "display_data"
    }
   ],
   "source": [
    "# Создание круговой диаграммы\n",
    "plt.figure(figsize=(8, 8))\n",
    "plt.pie(data['toxic'].value_counts(), labels=['Нетоксичные', 'Токсичные'], autopct='%1.1f%%', startangle=90, colors=['#77dd77', '#ff6961'])\n",
    "plt.title('Процентное соотношение токсичных и нетоксичных комментариев')\n",
    "plt.show()"
   ]
  },
  {
   "cell_type": "markdown",
   "metadata": {},
   "source": [
    "Классы несбалансированы, нетоксичных комментарий почти в 9 раз больше"
   ]
  },
  {
   "cell_type": "code",
   "execution_count": 6,
   "metadata": {},
   "outputs": [
    {
     "data": {
      "application/vnd.jupyter.widget-view+json": {
       "model_id": "40175169f07e41acb872adf82e661b77",
       "version_major": 2,
       "version_minor": 0
      },
      "text/plain": [
       "  0%|          | 0/159292 [00:00<?, ?it/s]"
      ]
     },
     "metadata": {},
     "output_type": "display_data"
    },
    {
     "data": {
      "text/html": [
       "<div>\n",
       "<style scoped>\n",
       "    .dataframe tbody tr th:only-of-type {\n",
       "        vertical-align: middle;\n",
       "    }\n",
       "\n",
       "    .dataframe tbody tr th {\n",
       "        vertical-align: top;\n",
       "    }\n",
       "\n",
       "    .dataframe thead th {\n",
       "        text-align: right;\n",
       "    }\n",
       "</style>\n",
       "<table border=\"1\" class=\"dataframe\">\n",
       "  <thead>\n",
       "    <tr style=\"text-align: right;\">\n",
       "      <th></th>\n",
       "      <th>text</th>\n",
       "      <th>toxic</th>\n",
       "    </tr>\n",
       "  </thead>\n",
       "  <tbody>\n",
       "    <tr>\n",
       "      <th>0</th>\n",
       "      <td>explanation why the edit make under my usernam...</td>\n",
       "      <td>0</td>\n",
       "    </tr>\n",
       "    <tr>\n",
       "      <th>1</th>\n",
       "      <td>d aww he match this background colour I m seem...</td>\n",
       "      <td>0</td>\n",
       "    </tr>\n",
       "    <tr>\n",
       "      <th>2</th>\n",
       "      <td>hey man I m really not try to edit war it s ju...</td>\n",
       "      <td>0</td>\n",
       "    </tr>\n",
       "    <tr>\n",
       "      <th>3</th>\n",
       "      <td>more I can t make any real suggestion on impro...</td>\n",
       "      <td>0</td>\n",
       "    </tr>\n",
       "    <tr>\n",
       "      <th>4</th>\n",
       "      <td>you sir be my hero any chance you remember wha...</td>\n",
       "      <td>0</td>\n",
       "    </tr>\n",
       "  </tbody>\n",
       "</table>\n",
       "</div>"
      ],
      "text/plain": [
       "                                                text  toxic\n",
       "0  explanation why the edit make under my usernam...      0\n",
       "1  d aww he match this background colour I m seem...      0\n",
       "2  hey man I m really not try to edit war it s ju...      0\n",
       "3  more I can t make any real suggestion on impro...      0\n",
       "4  you sir be my hero any chance you remember wha...      0"
      ]
     },
     "execution_count": 6,
     "metadata": {},
     "output_type": "execute_result"
    }
   ],
   "source": [
    "#Лемматизация\n",
    "\n",
    "def clean_text(text):\n",
    "    text = text.lower()\n",
    "    clean = nlp(\" \".join(re.sub(r'[^a-zA-Z]', ' ', text).split()))\n",
    "    lemmatized_output = ' '.join([w.lemma_ for w in clean])\n",
    "    return lemmatized_output\n",
    "\n",
    "data['text'] = data['text'].progress_apply(clean_text)\n",
    "data.head()"
   ]
  },
  {
   "cell_type": "code",
   "execution_count": 7,
   "metadata": {},
   "outputs": [],
   "source": [
    "#Удалениe стоп-слов\n",
    "def remove_stopwords(text):\n",
    "    stop_words = set(stopwords.words('english'))\n",
    "    word_tokens = nltk.word_tokenize(text)\n",
    "    filtered_text = ' '.join([word for word in word_tokens if word not in stop_words])\n",
    "    return filtered_text\n",
    "\n",
    "data['text'] = data['text'].apply(remove_stopwords)"
   ]
  },
  {
   "cell_type": "code",
   "execution_count": 8,
   "metadata": {},
   "outputs": [
    {
     "data": {
      "text/html": [
       "<div>\n",
       "<style scoped>\n",
       "    .dataframe tbody tr th:only-of-type {\n",
       "        vertical-align: middle;\n",
       "    }\n",
       "\n",
       "    .dataframe tbody tr th {\n",
       "        vertical-align: top;\n",
       "    }\n",
       "\n",
       "    .dataframe thead th {\n",
       "        text-align: right;\n",
       "    }\n",
       "</style>\n",
       "<table border=\"1\" class=\"dataframe\">\n",
       "  <thead>\n",
       "    <tr style=\"text-align: right;\">\n",
       "      <th></th>\n",
       "      <th>text</th>\n",
       "      <th>toxic</th>\n",
       "    </tr>\n",
       "  </thead>\n",
       "  <tbody>\n",
       "    <tr>\n",
       "      <th>0</th>\n",
       "      <td>explanation edit make username hardcore metall...</td>\n",
       "      <td>0</td>\n",
       "    </tr>\n",
       "    <tr>\n",
       "      <th>1</th>\n",
       "      <td>aww match background colour I seemingly stuck ...</td>\n",
       "      <td>0</td>\n",
       "    </tr>\n",
       "    <tr>\n",
       "      <th>2</th>\n",
       "      <td>hey man I really try edit war guy constantly r...</td>\n",
       "      <td>0</td>\n",
       "    </tr>\n",
       "    <tr>\n",
       "      <th>3</th>\n",
       "      <td>I make real suggestion improvement I wonder se...</td>\n",
       "      <td>0</td>\n",
       "    </tr>\n",
       "    <tr>\n",
       "      <th>4</th>\n",
       "      <td>sir hero chance remember page</td>\n",
       "      <td>0</td>\n",
       "    </tr>\n",
       "  </tbody>\n",
       "</table>\n",
       "</div>"
      ],
      "text/plain": [
       "                                                text  toxic\n",
       "0  explanation edit make username hardcore metall...      0\n",
       "1  aww match background colour I seemingly stuck ...      0\n",
       "2  hey man I really try edit war guy constantly r...      0\n",
       "3  I make real suggestion improvement I wonder se...      0\n",
       "4                      sir hero chance remember page      0"
      ]
     },
     "execution_count": 8,
     "metadata": {},
     "output_type": "execute_result"
    }
   ],
   "source": [
    "data.head()"
   ]
  },
  {
   "cell_type": "code",
   "execution_count": 9,
   "metadata": {},
   "outputs": [
    {
     "name": "stdout",
     "output_type": "stream",
     "text": [
      "[('I', 278191), ('article', 74393), ('page', 57108), ('wikipedia', 48570), ('talk', 40394), ('edit', 37495), ('use', 33143), ('one', 30663), ('make', 30385), ('please', 29772), ('would', 29342), ('like', 28616), ('see', 27174), ('say', 25289), ('think', 24825), ('know', 24039), ('thank', 23722), ('source', 23354), ('go', 21756), ('also', 20576), ('get', 20409), ('add', 19741), ('well', 19314), ('time', 18998), ('people', 18898), ('user', 18469), ('good', 17844), ('block', 16206), ('need', 15896), ('may', 15608), ('take', 15227), ('delete', 15220), ('name', 15218), ('want', 15185), ('link', 15064), ('image', 14865), ('find', 14401), ('remove', 14337), ('look', 13970), ('work', 13768), ('even', 13442), ('comment', 12465), ('change', 12268), ('information', 12208), ('help', 12193), ('list', 12173), ('way', 12115), ('could', 11982), ('give', 11916), ('deletion', 11851)]\n"
     ]
    }
   ],
   "source": [
    "def count_most_common_words(data_text):\n",
    "    '''\n",
    "    Функция для подсчета и вывода 50 наиболее часто встречающихся слов в предоставленном тексте.\n",
    "    Аргумент data_text должен быть списком строк.\n",
    "    '''\n",
    "\n",
    "    # Соединение всех элементов списка в одну строку и разделение на слова\n",
    "    words = ' '.join(data_text).split()\n",
    "\n",
    "    # Подсчет количества вхождений каждого слова\n",
    "    word_counts = Counter(words)\n",
    "\n",
    "    # Получение 35 наиболее частых слов\n",
    "    most_common_words = word_counts.most_common(50)\n",
    "\n",
    "    # Вывод наиболее частых слов\n",
    "    print(most_common_words)\n",
    "\n",
    "# Вывод наиболее частых слов\n",
    "count_most_common_words(data['text'])"
   ]
  },
  {
   "cell_type": "markdown",
   "metadata": {},
   "source": [
    "Самые распространенные слова отвечают за общий контекст"
   ]
  },
  {
   "cell_type": "markdown",
   "metadata": {},
   "source": [
    "**Посмотрю, какие слова распространенны для токсичных и нетоксичных комментарий:**"
   ]
  },
  {
   "cell_type": "code",
   "execution_count": 10,
   "metadata": {},
   "outputs": [
    {
     "name": "stdout",
     "output_type": "stream",
     "text": [
      "[('I', 246653), ('article', 72265), ('page', 54250), ('wikipedia', 44642), ('talk', 38488), ('edit', 35156), ('use', 32052), ('one', 28881), ('please', 28732), ('would', 28167), ('make', 28140), ('see', 25810), ('like', 24670), ('say', 23310), ('thank', 23096), ('think', 23077), ('source', 22754), ('know', 21347), ('also', 19750), ('add', 19117), ('well', 17987), ('time', 17599), ('go', 17441), ('get', 17252), ('good', 16835), ('people', 16776), ('user', 16639), ('may', 15259), ('need', 14971), ('link', 14642), ('name', 14530), ('image', 14526), ('block', 14117), ('delete', 14000), ('take', 13966), ('find', 13845), ('want', 13612), ('remove', 13582), ('look', 13089), ('work', 13053), ('even', 12305), ('list', 11923), ('help', 11842), ('comment', 11741), ('deletion', 11690), ('change', 11664), ('information', 11624), ('could', 11533), ('section', 11368), ('question', 11350)]\n"
     ]
    }
   ],
   "source": [
    "#Нетоксичные комментарии\n",
    "count_most_common_words(data.query('toxic == 0')['text'])"
   ]
  },
  {
   "cell_type": "code",
   "execution_count": 11,
   "metadata": {},
   "outputs": [
    {
     "name": "stdout",
     "output_type": "stream",
     "text": [
      "[('I', 31538), ('fuck', 10675), ('suck', 4801), ('go', 4315), ('like', 3946), ('wikipedia', 3928), ('shit', 3723), ('nigger', 3432), ('get', 3157), ('ass', 3030), ('u', 2946), ('page', 2858), ('fucking', 2852), ('hate', 2776), ('faggot', 2706), ('know', 2692), ('edit', 2339), ('bitch', 2334), ('gay', 2294), ('make', 2245), ('die', 2239), ('article', 2128), ('people', 2122), ('block', 2089), ('fat', 1984), ('say', 1979), ('moron', 1960), ('talk', 1906), ('cunt', 1836), ('user', 1830), ('one', 1782), ('think', 1748), ('hi', 1712), ('stop', 1576), ('want', 1573), ('stupid', 1500), ('dick', 1496), ('wiki', 1487), ('time', 1399), ('pig', 1388), ('jew', 1369), ('see', 1364), ('well', 1327), ('cock', 1276), ('take', 1261), ('admin', 1225), ('penis', 1222), ('delete', 1220), ('life', 1214), ('idiot', 1209)]\n"
     ]
    }
   ],
   "source": [
    "#Токсичные комментарии\n",
    "count_most_common_words(data.query('toxic == 1')['text'])"
   ]
  },
  {
   "cell_type": "markdown",
   "metadata": {},
   "source": [
    "**В токсичных комментариях много ругательств**"
   ]
  },
  {
   "cell_type": "code",
   "execution_count": 12,
   "metadata": {},
   "outputs": [
    {
     "data": {
      "text/html": [
       "<div>\n",
       "<style scoped>\n",
       "    .dataframe tbody tr th:only-of-type {\n",
       "        vertical-align: middle;\n",
       "    }\n",
       "\n",
       "    .dataframe tbody tr th {\n",
       "        vertical-align: top;\n",
       "    }\n",
       "\n",
       "    .dataframe thead th {\n",
       "        text-align: right;\n",
       "    }\n",
       "</style>\n",
       "<table border=\"1\" class=\"dataframe\">\n",
       "  <thead>\n",
       "    <tr style=\"text-align: right;\">\n",
       "      <th></th>\n",
       "      <th>text</th>\n",
       "      <th>toxic</th>\n",
       "    </tr>\n",
       "  </thead>\n",
       "  <tbody>\n",
       "    <tr>\n",
       "      <th>0</th>\n",
       "      <td>explanation edit make username hardcore metall...</td>\n",
       "      <td>0</td>\n",
       "    </tr>\n",
       "    <tr>\n",
       "      <th>1</th>\n",
       "      <td>aww match background colour I seemingly stuck ...</td>\n",
       "      <td>0</td>\n",
       "    </tr>\n",
       "    <tr>\n",
       "      <th>2</th>\n",
       "      <td>hey man I really try edit war guy constantly r...</td>\n",
       "      <td>0</td>\n",
       "    </tr>\n",
       "    <tr>\n",
       "      <th>3</th>\n",
       "      <td>I make real suggestion improvement I wonder se...</td>\n",
       "      <td>0</td>\n",
       "    </tr>\n",
       "    <tr>\n",
       "      <th>4</th>\n",
       "      <td>sir hero chance remember page</td>\n",
       "      <td>0</td>\n",
       "    </tr>\n",
       "  </tbody>\n",
       "</table>\n",
       "</div>"
      ],
      "text/plain": [
       "                                                text  toxic\n",
       "0  explanation edit make username hardcore metall...      0\n",
       "1  aww match background colour I seemingly stuck ...      0\n",
       "2  hey man I really try edit war guy constantly r...      0\n",
       "3  I make real suggestion improvement I wonder se...      0\n",
       "4                      sir hero chance remember page      0"
      ]
     },
     "execution_count": 12,
     "metadata": {},
     "output_type": "execute_result"
    }
   ],
   "source": [
    "data.head()"
   ]
  },
  {
   "cell_type": "code",
   "execution_count": 13,
   "metadata": {},
   "outputs": [],
   "source": [
    "X = data.drop(['toxic'], axis=1)\n",
    "y = data['toxic']"
   ]
  },
  {
   "cell_type": "code",
   "execution_count": 14,
   "metadata": {},
   "outputs": [
    {
     "name": "stdout",
     "output_type": "stream",
     "text": [
      "(143362, 1) (15930, 1) (143362,) (15930,)\n"
     ]
    }
   ],
   "source": [
    "X_train, X_test, y_train, y_test = train_test_split(X, y, test_size=0.1,\n",
    "                                                    random_state=12345,\n",
    "                                                    shuffle=True,\n",
    "                                                    stratify=y)\n",
    "print(X_train.shape, X_test.shape, y_train.shape, y_test.shape)"
   ]
  },
  {
   "cell_type": "code",
   "execution_count": 15,
   "metadata": {},
   "outputs": [
    {
     "name": "stdout",
     "output_type": "stream",
     "text": [
      "thing time moan birkin bardot focus song sound similar female orgasm firstly moan male sound like female orgasm secondly come sound similar female orgasm determine female orgasm sound I hear literaly dozen acoustic version female orgasm one specific omnipotent one fix I shall time\n"
     ]
    }
   ],
   "source": [
    "# Преобразование столбца 'text' в массив NumPy\n",
    "X_train = X_train['text'].values\n",
    "X_test = X_test['text'].values\n",
    "\n",
    "print(X_train[0])"
   ]
  },
  {
   "cell_type": "markdown",
   "metadata": {},
   "source": [
    "### Вывод по анализу и предобработке данных"
   ]
  },
  {
   "cell_type": "markdown",
   "metadata": {},
   "source": [
    "Была проведена работа по предобработке и анализу текстовых данных, а также подготовке к моделированию для задачи классификации комментариев на токсичные и нетоксичные:\n",
    "\n",
    "1. Лемматизация и предварительная очистка текста.\n",
    "2. Удаление стоп-слов.\n",
    "3. Анализ баланса классов: \n",
    "    - Классы несбалансированы, нетоксичных комментарий почти в 9 раз больше\n",
    "    \n",
    "3. Анализ частотности слов:\n",
    "   - Функция count_most_common_words применяется для выявления наиболее частых слов: наиболее частые слова в комментариях характерны для общего контекста (например, \"wikipedia\", \"article\").\n",
    "   \n",
    "4. Сравнительный анализ частотных слов для различных классов:\n",
    "   - Отдельный анализ частотных слов для токсичных комментариев выявил наличие ругательств, что подтверждает их роль в классификации комментариев как токсичных.\n",
    "\n",
    "5. Подготовка данных для моделирования:\n",
    "   - Разделение данных на обучающую и тестовая выборки с учетом стратификации."
   ]
  },
  {
   "cell_type": "markdown",
   "metadata": {},
   "source": [
    "## Выбор и обучение моделей"
   ]
  },
  {
   "cell_type": "markdown",
   "metadata": {},
   "source": [
    "В проекте используется модель:\n",
    "\n",
    "1. Logistic Regression (Логистическая регрессия):\n",
    "   - Логистическая регрессия — это статистическая модель, используемая для предсказания вероятности возникновения события путем подгонки данных к логистической кривой. \n",
    "   \n",
    "Балансировка классов осуществляется двумя методами: через встроенные параметры модели и с помощью RandomUnderSampler(). Также предварительно текст комментариев преобразуется в числовое представление с помощью TfidfVectorizer, который преобразует тексты в векторы TF-IDF, учитывающие не только частоту слов в тексте, но и их важность в контексте всего корпуса."
   ]
  },
  {
   "cell_type": "markdown",
   "metadata": {},
   "source": [
    "### Балансировка классов с помомшью гиперпараметров"
   ]
  },
  {
   "cell_type": "code",
   "execution_count": 16,
   "metadata": {},
   "outputs": [],
   "source": [
    "pipeline = make_pipeline(\n",
    "    TfidfVectorizer(),\n",
    "    LogisticRegression(random_state=12345, class_weight='balanced')\n",
    ")"
   ]
  },
  {
   "cell_type": "code",
   "execution_count": 17,
   "metadata": {},
   "outputs": [
    {
     "name": "stdout",
     "output_type": "stream",
     "text": [
      "Fitting 3 folds for each of 6 candidates, totalling 18 fits\n",
      "[CV 1/3] END ...........logisticregression__C=4;, score=0.764 total time=  22.2s\n",
      "[CV 2/3] END ...........logisticregression__C=4;, score=0.758 total time=  19.6s\n",
      "[CV 3/3] END ...........logisticregression__C=4;, score=0.758 total time=  17.1s\n",
      "[CV 1/3] END ...........logisticregression__C=5;, score=0.765 total time=  22.0s\n",
      "[CV 2/3] END ...........logisticregression__C=5;, score=0.759 total time=  27.5s\n",
      "[CV 3/3] END ...........logisticregression__C=5;, score=0.760 total time=  17.9s\n",
      "[CV 1/3] END ...........logisticregression__C=6;, score=0.768 total time=  23.4s\n",
      "[CV 2/3] END ...........logisticregression__C=6;, score=0.758 total time=  25.1s\n",
      "[CV 3/3] END ...........logisticregression__C=6;, score=0.757 total time=  15.3s\n",
      "[CV 1/3] END ..........logisticregression__C=10;, score=0.766 total time=  19.0s\n",
      "[CV 2/3] END ..........logisticregression__C=10;, score=0.762 total time=  28.9s\n",
      "[CV 3/3] END ..........logisticregression__C=10;, score=0.758 total time=  21.8s\n",
      "[CV 1/3] END ..........logisticregression__C=11;, score=0.769 total time=  31.7s\n",
      "[CV 2/3] END ..........logisticregression__C=11;, score=0.760 total time=  28.4s\n",
      "[CV 3/3] END ..........logisticregression__C=11;, score=0.758 total time=  16.8s\n",
      "[CV 1/3] END ..........logisticregression__C=15;, score=0.770 total time=  27.2s\n",
      "[CV 2/3] END ..........logisticregression__C=15;, score=0.761 total time=  26.0s\n",
      "[CV 3/3] END ..........logisticregression__C=15;, score=0.756 total time=  15.0s\n"
     ]
    },
    {
     "data": {
      "text/html": [
       "<style>#sk-container-id-1 {\n",
       "  /* Definition of color scheme common for light and dark mode */\n",
       "  --sklearn-color-text: black;\n",
       "  --sklearn-color-line: gray;\n",
       "  /* Definition of color scheme for unfitted estimators */\n",
       "  --sklearn-color-unfitted-level-0: #fff5e6;\n",
       "  --sklearn-color-unfitted-level-1: #f6e4d2;\n",
       "  --sklearn-color-unfitted-level-2: #ffe0b3;\n",
       "  --sklearn-color-unfitted-level-3: chocolate;\n",
       "  /* Definition of color scheme for fitted estimators */\n",
       "  --sklearn-color-fitted-level-0: #f0f8ff;\n",
       "  --sklearn-color-fitted-level-1: #d4ebff;\n",
       "  --sklearn-color-fitted-level-2: #b3dbfd;\n",
       "  --sklearn-color-fitted-level-3: cornflowerblue;\n",
       "\n",
       "  /* Specific color for light theme */\n",
       "  --sklearn-color-text-on-default-background: var(--sg-text-color, var(--theme-code-foreground, var(--jp-content-font-color1, black)));\n",
       "  --sklearn-color-background: var(--sg-background-color, var(--theme-background, var(--jp-layout-color0, white)));\n",
       "  --sklearn-color-border-box: var(--sg-text-color, var(--theme-code-foreground, var(--jp-content-font-color1, black)));\n",
       "  --sklearn-color-icon: #696969;\n",
       "\n",
       "  @media (prefers-color-scheme: dark) {\n",
       "    /* Redefinition of color scheme for dark theme */\n",
       "    --sklearn-color-text-on-default-background: var(--sg-text-color, var(--theme-code-foreground, var(--jp-content-font-color1, white)));\n",
       "    --sklearn-color-background: var(--sg-background-color, var(--theme-background, var(--jp-layout-color0, #111)));\n",
       "    --sklearn-color-border-box: var(--sg-text-color, var(--theme-code-foreground, var(--jp-content-font-color1, white)));\n",
       "    --sklearn-color-icon: #878787;\n",
       "  }\n",
       "}\n",
       "\n",
       "#sk-container-id-1 {\n",
       "  color: var(--sklearn-color-text);\n",
       "}\n",
       "\n",
       "#sk-container-id-1 pre {\n",
       "  padding: 0;\n",
       "}\n",
       "\n",
       "#sk-container-id-1 input.sk-hidden--visually {\n",
       "  border: 0;\n",
       "  clip: rect(1px 1px 1px 1px);\n",
       "  clip: rect(1px, 1px, 1px, 1px);\n",
       "  height: 1px;\n",
       "  margin: -1px;\n",
       "  overflow: hidden;\n",
       "  padding: 0;\n",
       "  position: absolute;\n",
       "  width: 1px;\n",
       "}\n",
       "\n",
       "#sk-container-id-1 div.sk-dashed-wrapped {\n",
       "  border: 1px dashed var(--sklearn-color-line);\n",
       "  margin: 0 0.4em 0.5em 0.4em;\n",
       "  box-sizing: border-box;\n",
       "  padding-bottom: 0.4em;\n",
       "  background-color: var(--sklearn-color-background);\n",
       "}\n",
       "\n",
       "#sk-container-id-1 div.sk-container {\n",
       "  /* jupyter's `normalize.less` sets `[hidden] { display: none; }`\n",
       "     but bootstrap.min.css set `[hidden] { display: none !important; }`\n",
       "     so we also need the `!important` here to be able to override the\n",
       "     default hidden behavior on the sphinx rendered scikit-learn.org.\n",
       "     See: https://github.com/scikit-learn/scikit-learn/issues/21755 */\n",
       "  display: inline-block !important;\n",
       "  position: relative;\n",
       "}\n",
       "\n",
       "#sk-container-id-1 div.sk-text-repr-fallback {\n",
       "  display: none;\n",
       "}\n",
       "\n",
       "div.sk-parallel-item,\n",
       "div.sk-serial,\n",
       "div.sk-item {\n",
       "  /* draw centered vertical line to link estimators */\n",
       "  background-image: linear-gradient(var(--sklearn-color-text-on-default-background), var(--sklearn-color-text-on-default-background));\n",
       "  background-size: 2px 100%;\n",
       "  background-repeat: no-repeat;\n",
       "  background-position: center center;\n",
       "}\n",
       "\n",
       "/* Parallel-specific style estimator block */\n",
       "\n",
       "#sk-container-id-1 div.sk-parallel-item::after {\n",
       "  content: \"\";\n",
       "  width: 100%;\n",
       "  border-bottom: 2px solid var(--sklearn-color-text-on-default-background);\n",
       "  flex-grow: 1;\n",
       "}\n",
       "\n",
       "#sk-container-id-1 div.sk-parallel {\n",
       "  display: flex;\n",
       "  align-items: stretch;\n",
       "  justify-content: center;\n",
       "  background-color: var(--sklearn-color-background);\n",
       "  position: relative;\n",
       "}\n",
       "\n",
       "#sk-container-id-1 div.sk-parallel-item {\n",
       "  display: flex;\n",
       "  flex-direction: column;\n",
       "}\n",
       "\n",
       "#sk-container-id-1 div.sk-parallel-item:first-child::after {\n",
       "  align-self: flex-end;\n",
       "  width: 50%;\n",
       "}\n",
       "\n",
       "#sk-container-id-1 div.sk-parallel-item:last-child::after {\n",
       "  align-self: flex-start;\n",
       "  width: 50%;\n",
       "}\n",
       "\n",
       "#sk-container-id-1 div.sk-parallel-item:only-child::after {\n",
       "  width: 0;\n",
       "}\n",
       "\n",
       "/* Serial-specific style estimator block */\n",
       "\n",
       "#sk-container-id-1 div.sk-serial {\n",
       "  display: flex;\n",
       "  flex-direction: column;\n",
       "  align-items: center;\n",
       "  background-color: var(--sklearn-color-background);\n",
       "  padding-right: 1em;\n",
       "  padding-left: 1em;\n",
       "}\n",
       "\n",
       "\n",
       "/* Toggleable style: style used for estimator/Pipeline/ColumnTransformer box that is\n",
       "clickable and can be expanded/collapsed.\n",
       "- Pipeline and ColumnTransformer use this feature and define the default style\n",
       "- Estimators will overwrite some part of the style using the `sk-estimator` class\n",
       "*/\n",
       "\n",
       "/* Pipeline and ColumnTransformer style (default) */\n",
       "\n",
       "#sk-container-id-1 div.sk-toggleable {\n",
       "  /* Default theme specific background. It is overwritten whether we have a\n",
       "  specific estimator or a Pipeline/ColumnTransformer */\n",
       "  background-color: var(--sklearn-color-background);\n",
       "}\n",
       "\n",
       "/* Toggleable label */\n",
       "#sk-container-id-1 label.sk-toggleable__label {\n",
       "  cursor: pointer;\n",
       "  display: block;\n",
       "  width: 100%;\n",
       "  margin-bottom: 0;\n",
       "  padding: 0.5em;\n",
       "  box-sizing: border-box;\n",
       "  text-align: center;\n",
       "}\n",
       "\n",
       "#sk-container-id-1 label.sk-toggleable__label-arrow:before {\n",
       "  /* Arrow on the left of the label */\n",
       "  content: \"▸\";\n",
       "  float: left;\n",
       "  margin-right: 0.25em;\n",
       "  color: var(--sklearn-color-icon);\n",
       "}\n",
       "\n",
       "#sk-container-id-1 label.sk-toggleable__label-arrow:hover:before {\n",
       "  color: var(--sklearn-color-text);\n",
       "}\n",
       "\n",
       "/* Toggleable content - dropdown */\n",
       "\n",
       "#sk-container-id-1 div.sk-toggleable__content {\n",
       "  max-height: 0;\n",
       "  max-width: 0;\n",
       "  overflow: hidden;\n",
       "  text-align: left;\n",
       "  /* unfitted */\n",
       "  background-color: var(--sklearn-color-unfitted-level-0);\n",
       "}\n",
       "\n",
       "#sk-container-id-1 div.sk-toggleable__content.fitted {\n",
       "  /* fitted */\n",
       "  background-color: var(--sklearn-color-fitted-level-0);\n",
       "}\n",
       "\n",
       "#sk-container-id-1 div.sk-toggleable__content pre {\n",
       "  margin: 0.2em;\n",
       "  border-radius: 0.25em;\n",
       "  color: var(--sklearn-color-text);\n",
       "  /* unfitted */\n",
       "  background-color: var(--sklearn-color-unfitted-level-0);\n",
       "}\n",
       "\n",
       "#sk-container-id-1 div.sk-toggleable__content.fitted pre {\n",
       "  /* unfitted */\n",
       "  background-color: var(--sklearn-color-fitted-level-0);\n",
       "}\n",
       "\n",
       "#sk-container-id-1 input.sk-toggleable__control:checked~div.sk-toggleable__content {\n",
       "  /* Expand drop-down */\n",
       "  max-height: 200px;\n",
       "  max-width: 100%;\n",
       "  overflow: auto;\n",
       "}\n",
       "\n",
       "#sk-container-id-1 input.sk-toggleable__control:checked~label.sk-toggleable__label-arrow:before {\n",
       "  content: \"▾\";\n",
       "}\n",
       "\n",
       "/* Pipeline/ColumnTransformer-specific style */\n",
       "\n",
       "#sk-container-id-1 div.sk-label input.sk-toggleable__control:checked~label.sk-toggleable__label {\n",
       "  color: var(--sklearn-color-text);\n",
       "  background-color: var(--sklearn-color-unfitted-level-2);\n",
       "}\n",
       "\n",
       "#sk-container-id-1 div.sk-label.fitted input.sk-toggleable__control:checked~label.sk-toggleable__label {\n",
       "  background-color: var(--sklearn-color-fitted-level-2);\n",
       "}\n",
       "\n",
       "/* Estimator-specific style */\n",
       "\n",
       "/* Colorize estimator box */\n",
       "#sk-container-id-1 div.sk-estimator input.sk-toggleable__control:checked~label.sk-toggleable__label {\n",
       "  /* unfitted */\n",
       "  background-color: var(--sklearn-color-unfitted-level-2);\n",
       "}\n",
       "\n",
       "#sk-container-id-1 div.sk-estimator.fitted input.sk-toggleable__control:checked~label.sk-toggleable__label {\n",
       "  /* fitted */\n",
       "  background-color: var(--sklearn-color-fitted-level-2);\n",
       "}\n",
       "\n",
       "#sk-container-id-1 div.sk-label label.sk-toggleable__label,\n",
       "#sk-container-id-1 div.sk-label label {\n",
       "  /* The background is the default theme color */\n",
       "  color: var(--sklearn-color-text-on-default-background);\n",
       "}\n",
       "\n",
       "/* On hover, darken the color of the background */\n",
       "#sk-container-id-1 div.sk-label:hover label.sk-toggleable__label {\n",
       "  color: var(--sklearn-color-text);\n",
       "  background-color: var(--sklearn-color-unfitted-level-2);\n",
       "}\n",
       "\n",
       "/* Label box, darken color on hover, fitted */\n",
       "#sk-container-id-1 div.sk-label.fitted:hover label.sk-toggleable__label.fitted {\n",
       "  color: var(--sklearn-color-text);\n",
       "  background-color: var(--sklearn-color-fitted-level-2);\n",
       "}\n",
       "\n",
       "/* Estimator label */\n",
       "\n",
       "#sk-container-id-1 div.sk-label label {\n",
       "  font-family: monospace;\n",
       "  font-weight: bold;\n",
       "  display: inline-block;\n",
       "  line-height: 1.2em;\n",
       "}\n",
       "\n",
       "#sk-container-id-1 div.sk-label-container {\n",
       "  text-align: center;\n",
       "}\n",
       "\n",
       "/* Estimator-specific */\n",
       "#sk-container-id-1 div.sk-estimator {\n",
       "  font-family: monospace;\n",
       "  border: 1px dotted var(--sklearn-color-border-box);\n",
       "  border-radius: 0.25em;\n",
       "  box-sizing: border-box;\n",
       "  margin-bottom: 0.5em;\n",
       "  /* unfitted */\n",
       "  background-color: var(--sklearn-color-unfitted-level-0);\n",
       "}\n",
       "\n",
       "#sk-container-id-1 div.sk-estimator.fitted {\n",
       "  /* fitted */\n",
       "  background-color: var(--sklearn-color-fitted-level-0);\n",
       "}\n",
       "\n",
       "/* on hover */\n",
       "#sk-container-id-1 div.sk-estimator:hover {\n",
       "  /* unfitted */\n",
       "  background-color: var(--sklearn-color-unfitted-level-2);\n",
       "}\n",
       "\n",
       "#sk-container-id-1 div.sk-estimator.fitted:hover {\n",
       "  /* fitted */\n",
       "  background-color: var(--sklearn-color-fitted-level-2);\n",
       "}\n",
       "\n",
       "/* Specification for estimator info (e.g. \"i\" and \"?\") */\n",
       "\n",
       "/* Common style for \"i\" and \"?\" */\n",
       "\n",
       ".sk-estimator-doc-link,\n",
       "a:link.sk-estimator-doc-link,\n",
       "a:visited.sk-estimator-doc-link {\n",
       "  float: right;\n",
       "  font-size: smaller;\n",
       "  line-height: 1em;\n",
       "  font-family: monospace;\n",
       "  background-color: var(--sklearn-color-background);\n",
       "  border-radius: 1em;\n",
       "  height: 1em;\n",
       "  width: 1em;\n",
       "  text-decoration: none !important;\n",
       "  margin-left: 1ex;\n",
       "  /* unfitted */\n",
       "  border: var(--sklearn-color-unfitted-level-1) 1pt solid;\n",
       "  color: var(--sklearn-color-unfitted-level-1);\n",
       "}\n",
       "\n",
       ".sk-estimator-doc-link.fitted,\n",
       "a:link.sk-estimator-doc-link.fitted,\n",
       "a:visited.sk-estimator-doc-link.fitted {\n",
       "  /* fitted */\n",
       "  border: var(--sklearn-color-fitted-level-1) 1pt solid;\n",
       "  color: var(--sklearn-color-fitted-level-1);\n",
       "}\n",
       "\n",
       "/* On hover */\n",
       "div.sk-estimator:hover .sk-estimator-doc-link:hover,\n",
       ".sk-estimator-doc-link:hover,\n",
       "div.sk-label-container:hover .sk-estimator-doc-link:hover,\n",
       ".sk-estimator-doc-link:hover {\n",
       "  /* unfitted */\n",
       "  background-color: var(--sklearn-color-unfitted-level-3);\n",
       "  color: var(--sklearn-color-background);\n",
       "  text-decoration: none;\n",
       "}\n",
       "\n",
       "div.sk-estimator.fitted:hover .sk-estimator-doc-link.fitted:hover,\n",
       ".sk-estimator-doc-link.fitted:hover,\n",
       "div.sk-label-container:hover .sk-estimator-doc-link.fitted:hover,\n",
       ".sk-estimator-doc-link.fitted:hover {\n",
       "  /* fitted */\n",
       "  background-color: var(--sklearn-color-fitted-level-3);\n",
       "  color: var(--sklearn-color-background);\n",
       "  text-decoration: none;\n",
       "}\n",
       "\n",
       "/* Span, style for the box shown on hovering the info icon */\n",
       ".sk-estimator-doc-link span {\n",
       "  display: none;\n",
       "  z-index: 9999;\n",
       "  position: relative;\n",
       "  font-weight: normal;\n",
       "  right: .2ex;\n",
       "  padding: .5ex;\n",
       "  margin: .5ex;\n",
       "  width: min-content;\n",
       "  min-width: 20ex;\n",
       "  max-width: 50ex;\n",
       "  color: var(--sklearn-color-text);\n",
       "  box-shadow: 2pt 2pt 4pt #999;\n",
       "  /* unfitted */\n",
       "  background: var(--sklearn-color-unfitted-level-0);\n",
       "  border: .5pt solid var(--sklearn-color-unfitted-level-3);\n",
       "}\n",
       "\n",
       ".sk-estimator-doc-link.fitted span {\n",
       "  /* fitted */\n",
       "  background: var(--sklearn-color-fitted-level-0);\n",
       "  border: var(--sklearn-color-fitted-level-3);\n",
       "}\n",
       "\n",
       ".sk-estimator-doc-link:hover span {\n",
       "  display: block;\n",
       "}\n",
       "\n",
       "/* \"?\"-specific style due to the `<a>` HTML tag */\n",
       "\n",
       "#sk-container-id-1 a.estimator_doc_link {\n",
       "  float: right;\n",
       "  font-size: 1rem;\n",
       "  line-height: 1em;\n",
       "  font-family: monospace;\n",
       "  background-color: var(--sklearn-color-background);\n",
       "  border-radius: 1rem;\n",
       "  height: 1rem;\n",
       "  width: 1rem;\n",
       "  text-decoration: none;\n",
       "  /* unfitted */\n",
       "  color: var(--sklearn-color-unfitted-level-1);\n",
       "  border: var(--sklearn-color-unfitted-level-1) 1pt solid;\n",
       "}\n",
       "\n",
       "#sk-container-id-1 a.estimator_doc_link.fitted {\n",
       "  /* fitted */\n",
       "  border: var(--sklearn-color-fitted-level-1) 1pt solid;\n",
       "  color: var(--sklearn-color-fitted-level-1);\n",
       "}\n",
       "\n",
       "/* On hover */\n",
       "#sk-container-id-1 a.estimator_doc_link:hover {\n",
       "  /* unfitted */\n",
       "  background-color: var(--sklearn-color-unfitted-level-3);\n",
       "  color: var(--sklearn-color-background);\n",
       "  text-decoration: none;\n",
       "}\n",
       "\n",
       "#sk-container-id-1 a.estimator_doc_link.fitted:hover {\n",
       "  /* fitted */\n",
       "  background-color: var(--sklearn-color-fitted-level-3);\n",
       "}\n",
       "</style><div id=\"sk-container-id-1\" class=\"sk-top-container\"><div class=\"sk-text-repr-fallback\"><pre>GridSearchCV(cv=3,\n",
       "             estimator=Pipeline(steps=[(&#x27;tfidfvectorizer&#x27;, TfidfVectorizer()),\n",
       "                                       (&#x27;logisticregression&#x27;,\n",
       "                                        LogisticRegression(class_weight=&#x27;balanced&#x27;,\n",
       "                                                           random_state=12345))]),\n",
       "             n_jobs=-1,\n",
       "             param_grid={&#x27;logisticregression__C&#x27;: [4, 5, 6, 10, 11, 15]},\n",
       "             scoring=&#x27;f1&#x27;, verbose=5)</pre><b>In a Jupyter environment, please rerun this cell to show the HTML representation or trust the notebook. <br />On GitHub, the HTML representation is unable to render, please try loading this page with nbviewer.org.</b></div><div class=\"sk-container\" hidden><div class=\"sk-item sk-dashed-wrapped\"><div class=\"sk-label-container\"><div class=\"sk-label fitted sk-toggleable\"><input class=\"sk-toggleable__control sk-hidden--visually\" id=\"sk-estimator-id-1\" type=\"checkbox\" ><label for=\"sk-estimator-id-1\" class=\"sk-toggleable__label fitted sk-toggleable__label-arrow fitted\">&nbsp;&nbsp;GridSearchCV<a class=\"sk-estimator-doc-link fitted\" rel=\"noreferrer\" target=\"_blank\" href=\"https://scikit-learn.org/1.5/modules/generated/sklearn.model_selection.GridSearchCV.html\">?<span>Documentation for GridSearchCV</span></a><span class=\"sk-estimator-doc-link fitted\">i<span>Fitted</span></span></label><div class=\"sk-toggleable__content fitted\"><pre>GridSearchCV(cv=3,\n",
       "             estimator=Pipeline(steps=[(&#x27;tfidfvectorizer&#x27;, TfidfVectorizer()),\n",
       "                                       (&#x27;logisticregression&#x27;,\n",
       "                                        LogisticRegression(class_weight=&#x27;balanced&#x27;,\n",
       "                                                           random_state=12345))]),\n",
       "             n_jobs=-1,\n",
       "             param_grid={&#x27;logisticregression__C&#x27;: [4, 5, 6, 10, 11, 15]},\n",
       "             scoring=&#x27;f1&#x27;, verbose=5)</pre></div> </div></div><div class=\"sk-parallel\"><div class=\"sk-parallel-item\"><div class=\"sk-item\"><div class=\"sk-label-container\"><div class=\"sk-label fitted sk-toggleable\"><input class=\"sk-toggleable__control sk-hidden--visually\" id=\"sk-estimator-id-2\" type=\"checkbox\" ><label for=\"sk-estimator-id-2\" class=\"sk-toggleable__label fitted sk-toggleable__label-arrow fitted\">best_estimator_: Pipeline</label><div class=\"sk-toggleable__content fitted\"><pre>Pipeline(steps=[(&#x27;tfidfvectorizer&#x27;, TfidfVectorizer()),\n",
       "                (&#x27;logisticregression&#x27;,\n",
       "                 LogisticRegression(C=15, class_weight=&#x27;balanced&#x27;,\n",
       "                                    random_state=12345))])</pre></div> </div></div><div class=\"sk-serial\"><div class=\"sk-item\"><div class=\"sk-serial\"><div class=\"sk-item\"><div class=\"sk-estimator fitted sk-toggleable\"><input class=\"sk-toggleable__control sk-hidden--visually\" id=\"sk-estimator-id-3\" type=\"checkbox\" ><label for=\"sk-estimator-id-3\" class=\"sk-toggleable__label fitted sk-toggleable__label-arrow fitted\">&nbsp;TfidfVectorizer<a class=\"sk-estimator-doc-link fitted\" rel=\"noreferrer\" target=\"_blank\" href=\"https://scikit-learn.org/1.5/modules/generated/sklearn.feature_extraction.text.TfidfVectorizer.html\">?<span>Documentation for TfidfVectorizer</span></a></label><div class=\"sk-toggleable__content fitted\"><pre>TfidfVectorizer()</pre></div> </div></div><div class=\"sk-item\"><div class=\"sk-estimator fitted sk-toggleable\"><input class=\"sk-toggleable__control sk-hidden--visually\" id=\"sk-estimator-id-4\" type=\"checkbox\" ><label for=\"sk-estimator-id-4\" class=\"sk-toggleable__label fitted sk-toggleable__label-arrow fitted\">&nbsp;LogisticRegression<a class=\"sk-estimator-doc-link fitted\" rel=\"noreferrer\" target=\"_blank\" href=\"https://scikit-learn.org/1.5/modules/generated/sklearn.linear_model.LogisticRegression.html\">?<span>Documentation for LogisticRegression</span></a></label><div class=\"sk-toggleable__content fitted\"><pre>LogisticRegression(C=15, class_weight=&#x27;balanced&#x27;, random_state=12345)</pre></div> </div></div></div></div></div></div></div></div></div></div></div>"
      ],
      "text/plain": [
       "GridSearchCV(cv=3,\n",
       "             estimator=Pipeline(steps=[('tfidfvectorizer', TfidfVectorizer()),\n",
       "                                       ('logisticregression',\n",
       "                                        LogisticRegression(class_weight='balanced',\n",
       "                                                           random_state=12345))]),\n",
       "             n_jobs=-1,\n",
       "             param_grid={'logisticregression__C': [4, 5, 6, 10, 11, 15]},\n",
       "             scoring='f1', verbose=5)"
      ]
     },
     "execution_count": 17,
     "metadata": {},
     "output_type": "execute_result"
    }
   ],
   "source": [
    "# Определение параметров для модели LogisticRegression\n",
    "params = {\n",
    "    'logisticregression__C': [4, 5, 6, 10, 11, 15]\n",
    "    \n",
    "}\n",
    "\n",
    "# Настройка GridSearchCV\n",
    "grid = GridSearchCV(\n",
    "    pipeline,  \n",
    "    params, \n",
    "    cv=3,\n",
    "    verbose=5,\n",
    "    scoring='f1',\n",
    "    n_jobs=-1\n",
    ")\n",
    "\n",
    "# Обучение модели\n",
    "grid.fit(X_train, y_train)"
   ]
  },
  {
   "cell_type": "code",
   "execution_count": 18,
   "metadata": {},
   "outputs": [
    {
     "name": "stdout",
     "output_type": "stream",
     "text": [
      "Best Parameters:  {'logisticregression__C': 15}\n",
      "Best RMSE:  0.7624741278466719\n"
     ]
    }
   ],
   "source": [
    "print(\"Best Parameters: \", grid.best_params_)\n",
    "print(\"Best RMSE: \", grid.best_score_)\n",
    "param_lr =  grid.best_params_\n",
    "train_score_lr = round(grid.best_score_,3)"
   ]
  },
  {
   "cell_type": "markdown",
   "metadata": {},
   "source": [
    "### Балансировка классов с помомшью RandomUnderSampler()"
   ]
  },
  {
   "cell_type": "code",
   "execution_count": 19,
   "metadata": {},
   "outputs": [
    {
     "data": {
      "text/plain": [
       "{'tfidfvectorizer': TfidfVectorizer(),\n",
       " 'randomundersampler': RandomUnderSampler(random_state=12345),\n",
       " 'logisticregression': LogisticRegression(random_state=12345)}"
      ]
     },
     "execution_count": 19,
     "metadata": {},
     "output_type": "execute_result"
    }
   ],
   "source": [
    "# Создание пайплайна\n",
    "pipeline_rus = make_pipeline(\n",
    "    TfidfVectorizer(),\n",
    "    RandomUnderSampler(random_state=12345),\n",
    "    LogisticRegression(random_state=12345)\n",
    ")\n",
    "\n",
    "pipeline_rus.named_steps"
   ]
  },
  {
   "cell_type": "code",
   "execution_count": 20,
   "metadata": {},
   "outputs": [
    {
     "name": "stdout",
     "output_type": "stream",
     "text": [
      "Fitting 3 folds for each of 9 candidates, totalling 27 fits\n",
      "[CV 1/3] END ...........logisticregression__C=1;, score=0.700 total time=   8.5s\n",
      "[CV 2/3] END ...........logisticregression__C=1;, score=0.689 total time=   6.7s\n",
      "[CV 3/3] END ...........logisticregression__C=1;, score=0.703 total time=   8.2s\n",
      "[CV 1/3] END ...........logisticregression__C=2;, score=0.700 total time=   8.9s\n",
      "[CV 2/3] END ...........logisticregression__C=2;, score=0.695 total time=   7.8s\n",
      "[CV 3/3] END ...........logisticregression__C=2;, score=0.706 total time=   8.7s\n",
      "[CV 1/3] END ...........logisticregression__C=3;, score=0.702 total time=   9.5s\n",
      "[CV 2/3] END ...........logisticregression__C=3;, score=0.695 total time=   7.0s\n",
      "[CV 3/3] END ...........logisticregression__C=3;, score=0.705 total time=   7.9s\n",
      "[CV 1/3] END ...........logisticregression__C=4;, score=0.701 total time=   8.5s\n",
      "[CV 2/3] END ...........logisticregression__C=4;, score=0.696 total time=   9.9s\n",
      "[CV 3/3] END ...........logisticregression__C=4;, score=0.705 total time=   9.9s\n",
      "[CV 1/3] END ...........logisticregression__C=5;, score=0.702 total time=  11.1s\n",
      "[CV 2/3] END ...........logisticregression__C=5;, score=0.692 total time=   8.4s\n",
      "[CV 3/3] END ...........logisticregression__C=5;, score=0.704 total time=   9.6s\n",
      "[CV 1/3] END ...........logisticregression__C=6;, score=0.701 total time=  11.9s\n",
      "[CV 2/3] END ...........logisticregression__C=6;, score=0.694 total time=  10.5s\n",
      "[CV 3/3] END ...........logisticregression__C=6;, score=0.703 total time=  10.0s\n",
      "[CV 1/3] END ..........logisticregression__C=10;, score=0.698 total time=  18.5s\n",
      "[CV 2/3] END ..........logisticregression__C=10;, score=0.690 total time=  15.4s\n",
      "[CV 3/3] END ..........logisticregression__C=10;, score=0.698 total time=  10.6s\n",
      "[CV 1/3] END ..........logisticregression__C=11;, score=0.697 total time=  15.2s\n",
      "[CV 2/3] END ..........logisticregression__C=11;, score=0.687 total time=   7.2s\n",
      "[CV 3/3] END ..........logisticregression__C=11;, score=0.698 total time=  11.3s\n",
      "[CV 1/3] END ..........logisticregression__C=15;, score=0.695 total time=  11.9s\n",
      "[CV 2/3] END ..........logisticregression__C=15;, score=0.685 total time=  11.6s\n",
      "[CV 3/3] END ..........logisticregression__C=15;, score=0.696 total time=  11.3s\n"
     ]
    },
    {
     "data": {
      "text/html": [
       "<style>#sk-container-id-2 {\n",
       "  /* Definition of color scheme common for light and dark mode */\n",
       "  --sklearn-color-text: black;\n",
       "  --sklearn-color-line: gray;\n",
       "  /* Definition of color scheme for unfitted estimators */\n",
       "  --sklearn-color-unfitted-level-0: #fff5e6;\n",
       "  --sklearn-color-unfitted-level-1: #f6e4d2;\n",
       "  --sklearn-color-unfitted-level-2: #ffe0b3;\n",
       "  --sklearn-color-unfitted-level-3: chocolate;\n",
       "  /* Definition of color scheme for fitted estimators */\n",
       "  --sklearn-color-fitted-level-0: #f0f8ff;\n",
       "  --sklearn-color-fitted-level-1: #d4ebff;\n",
       "  --sklearn-color-fitted-level-2: #b3dbfd;\n",
       "  --sklearn-color-fitted-level-3: cornflowerblue;\n",
       "\n",
       "  /* Specific color for light theme */\n",
       "  --sklearn-color-text-on-default-background: var(--sg-text-color, var(--theme-code-foreground, var(--jp-content-font-color1, black)));\n",
       "  --sklearn-color-background: var(--sg-background-color, var(--theme-background, var(--jp-layout-color0, white)));\n",
       "  --sklearn-color-border-box: var(--sg-text-color, var(--theme-code-foreground, var(--jp-content-font-color1, black)));\n",
       "  --sklearn-color-icon: #696969;\n",
       "\n",
       "  @media (prefers-color-scheme: dark) {\n",
       "    /* Redefinition of color scheme for dark theme */\n",
       "    --sklearn-color-text-on-default-background: var(--sg-text-color, var(--theme-code-foreground, var(--jp-content-font-color1, white)));\n",
       "    --sklearn-color-background: var(--sg-background-color, var(--theme-background, var(--jp-layout-color0, #111)));\n",
       "    --sklearn-color-border-box: var(--sg-text-color, var(--theme-code-foreground, var(--jp-content-font-color1, white)));\n",
       "    --sklearn-color-icon: #878787;\n",
       "  }\n",
       "}\n",
       "\n",
       "#sk-container-id-2 {\n",
       "  color: var(--sklearn-color-text);\n",
       "}\n",
       "\n",
       "#sk-container-id-2 pre {\n",
       "  padding: 0;\n",
       "}\n",
       "\n",
       "#sk-container-id-2 input.sk-hidden--visually {\n",
       "  border: 0;\n",
       "  clip: rect(1px 1px 1px 1px);\n",
       "  clip: rect(1px, 1px, 1px, 1px);\n",
       "  height: 1px;\n",
       "  margin: -1px;\n",
       "  overflow: hidden;\n",
       "  padding: 0;\n",
       "  position: absolute;\n",
       "  width: 1px;\n",
       "}\n",
       "\n",
       "#sk-container-id-2 div.sk-dashed-wrapped {\n",
       "  border: 1px dashed var(--sklearn-color-line);\n",
       "  margin: 0 0.4em 0.5em 0.4em;\n",
       "  box-sizing: border-box;\n",
       "  padding-bottom: 0.4em;\n",
       "  background-color: var(--sklearn-color-background);\n",
       "}\n",
       "\n",
       "#sk-container-id-2 div.sk-container {\n",
       "  /* jupyter's `normalize.less` sets `[hidden] { display: none; }`\n",
       "     but bootstrap.min.css set `[hidden] { display: none !important; }`\n",
       "     so we also need the `!important` here to be able to override the\n",
       "     default hidden behavior on the sphinx rendered scikit-learn.org.\n",
       "     See: https://github.com/scikit-learn/scikit-learn/issues/21755 */\n",
       "  display: inline-block !important;\n",
       "  position: relative;\n",
       "}\n",
       "\n",
       "#sk-container-id-2 div.sk-text-repr-fallback {\n",
       "  display: none;\n",
       "}\n",
       "\n",
       "div.sk-parallel-item,\n",
       "div.sk-serial,\n",
       "div.sk-item {\n",
       "  /* draw centered vertical line to link estimators */\n",
       "  background-image: linear-gradient(var(--sklearn-color-text-on-default-background), var(--sklearn-color-text-on-default-background));\n",
       "  background-size: 2px 100%;\n",
       "  background-repeat: no-repeat;\n",
       "  background-position: center center;\n",
       "}\n",
       "\n",
       "/* Parallel-specific style estimator block */\n",
       "\n",
       "#sk-container-id-2 div.sk-parallel-item::after {\n",
       "  content: \"\";\n",
       "  width: 100%;\n",
       "  border-bottom: 2px solid var(--sklearn-color-text-on-default-background);\n",
       "  flex-grow: 1;\n",
       "}\n",
       "\n",
       "#sk-container-id-2 div.sk-parallel {\n",
       "  display: flex;\n",
       "  align-items: stretch;\n",
       "  justify-content: center;\n",
       "  background-color: var(--sklearn-color-background);\n",
       "  position: relative;\n",
       "}\n",
       "\n",
       "#sk-container-id-2 div.sk-parallel-item {\n",
       "  display: flex;\n",
       "  flex-direction: column;\n",
       "}\n",
       "\n",
       "#sk-container-id-2 div.sk-parallel-item:first-child::after {\n",
       "  align-self: flex-end;\n",
       "  width: 50%;\n",
       "}\n",
       "\n",
       "#sk-container-id-2 div.sk-parallel-item:last-child::after {\n",
       "  align-self: flex-start;\n",
       "  width: 50%;\n",
       "}\n",
       "\n",
       "#sk-container-id-2 div.sk-parallel-item:only-child::after {\n",
       "  width: 0;\n",
       "}\n",
       "\n",
       "/* Serial-specific style estimator block */\n",
       "\n",
       "#sk-container-id-2 div.sk-serial {\n",
       "  display: flex;\n",
       "  flex-direction: column;\n",
       "  align-items: center;\n",
       "  background-color: var(--sklearn-color-background);\n",
       "  padding-right: 1em;\n",
       "  padding-left: 1em;\n",
       "}\n",
       "\n",
       "\n",
       "/* Toggleable style: style used for estimator/Pipeline/ColumnTransformer box that is\n",
       "clickable and can be expanded/collapsed.\n",
       "- Pipeline and ColumnTransformer use this feature and define the default style\n",
       "- Estimators will overwrite some part of the style using the `sk-estimator` class\n",
       "*/\n",
       "\n",
       "/* Pipeline and ColumnTransformer style (default) */\n",
       "\n",
       "#sk-container-id-2 div.sk-toggleable {\n",
       "  /* Default theme specific background. It is overwritten whether we have a\n",
       "  specific estimator or a Pipeline/ColumnTransformer */\n",
       "  background-color: var(--sklearn-color-background);\n",
       "}\n",
       "\n",
       "/* Toggleable label */\n",
       "#sk-container-id-2 label.sk-toggleable__label {\n",
       "  cursor: pointer;\n",
       "  display: block;\n",
       "  width: 100%;\n",
       "  margin-bottom: 0;\n",
       "  padding: 0.5em;\n",
       "  box-sizing: border-box;\n",
       "  text-align: center;\n",
       "}\n",
       "\n",
       "#sk-container-id-2 label.sk-toggleable__label-arrow:before {\n",
       "  /* Arrow on the left of the label */\n",
       "  content: \"▸\";\n",
       "  float: left;\n",
       "  margin-right: 0.25em;\n",
       "  color: var(--sklearn-color-icon);\n",
       "}\n",
       "\n",
       "#sk-container-id-2 label.sk-toggleable__label-arrow:hover:before {\n",
       "  color: var(--sklearn-color-text);\n",
       "}\n",
       "\n",
       "/* Toggleable content - dropdown */\n",
       "\n",
       "#sk-container-id-2 div.sk-toggleable__content {\n",
       "  max-height: 0;\n",
       "  max-width: 0;\n",
       "  overflow: hidden;\n",
       "  text-align: left;\n",
       "  /* unfitted */\n",
       "  background-color: var(--sklearn-color-unfitted-level-0);\n",
       "}\n",
       "\n",
       "#sk-container-id-2 div.sk-toggleable__content.fitted {\n",
       "  /* fitted */\n",
       "  background-color: var(--sklearn-color-fitted-level-0);\n",
       "}\n",
       "\n",
       "#sk-container-id-2 div.sk-toggleable__content pre {\n",
       "  margin: 0.2em;\n",
       "  border-radius: 0.25em;\n",
       "  color: var(--sklearn-color-text);\n",
       "  /* unfitted */\n",
       "  background-color: var(--sklearn-color-unfitted-level-0);\n",
       "}\n",
       "\n",
       "#sk-container-id-2 div.sk-toggleable__content.fitted pre {\n",
       "  /* unfitted */\n",
       "  background-color: var(--sklearn-color-fitted-level-0);\n",
       "}\n",
       "\n",
       "#sk-container-id-2 input.sk-toggleable__control:checked~div.sk-toggleable__content {\n",
       "  /* Expand drop-down */\n",
       "  max-height: 200px;\n",
       "  max-width: 100%;\n",
       "  overflow: auto;\n",
       "}\n",
       "\n",
       "#sk-container-id-2 input.sk-toggleable__control:checked~label.sk-toggleable__label-arrow:before {\n",
       "  content: \"▾\";\n",
       "}\n",
       "\n",
       "/* Pipeline/ColumnTransformer-specific style */\n",
       "\n",
       "#sk-container-id-2 div.sk-label input.sk-toggleable__control:checked~label.sk-toggleable__label {\n",
       "  color: var(--sklearn-color-text);\n",
       "  background-color: var(--sklearn-color-unfitted-level-2);\n",
       "}\n",
       "\n",
       "#sk-container-id-2 div.sk-label.fitted input.sk-toggleable__control:checked~label.sk-toggleable__label {\n",
       "  background-color: var(--sklearn-color-fitted-level-2);\n",
       "}\n",
       "\n",
       "/* Estimator-specific style */\n",
       "\n",
       "/* Colorize estimator box */\n",
       "#sk-container-id-2 div.sk-estimator input.sk-toggleable__control:checked~label.sk-toggleable__label {\n",
       "  /* unfitted */\n",
       "  background-color: var(--sklearn-color-unfitted-level-2);\n",
       "}\n",
       "\n",
       "#sk-container-id-2 div.sk-estimator.fitted input.sk-toggleable__control:checked~label.sk-toggleable__label {\n",
       "  /* fitted */\n",
       "  background-color: var(--sklearn-color-fitted-level-2);\n",
       "}\n",
       "\n",
       "#sk-container-id-2 div.sk-label label.sk-toggleable__label,\n",
       "#sk-container-id-2 div.sk-label label {\n",
       "  /* The background is the default theme color */\n",
       "  color: var(--sklearn-color-text-on-default-background);\n",
       "}\n",
       "\n",
       "/* On hover, darken the color of the background */\n",
       "#sk-container-id-2 div.sk-label:hover label.sk-toggleable__label {\n",
       "  color: var(--sklearn-color-text);\n",
       "  background-color: var(--sklearn-color-unfitted-level-2);\n",
       "}\n",
       "\n",
       "/* Label box, darken color on hover, fitted */\n",
       "#sk-container-id-2 div.sk-label.fitted:hover label.sk-toggleable__label.fitted {\n",
       "  color: var(--sklearn-color-text);\n",
       "  background-color: var(--sklearn-color-fitted-level-2);\n",
       "}\n",
       "\n",
       "/* Estimator label */\n",
       "\n",
       "#sk-container-id-2 div.sk-label label {\n",
       "  font-family: monospace;\n",
       "  font-weight: bold;\n",
       "  display: inline-block;\n",
       "  line-height: 1.2em;\n",
       "}\n",
       "\n",
       "#sk-container-id-2 div.sk-label-container {\n",
       "  text-align: center;\n",
       "}\n",
       "\n",
       "/* Estimator-specific */\n",
       "#sk-container-id-2 div.sk-estimator {\n",
       "  font-family: monospace;\n",
       "  border: 1px dotted var(--sklearn-color-border-box);\n",
       "  border-radius: 0.25em;\n",
       "  box-sizing: border-box;\n",
       "  margin-bottom: 0.5em;\n",
       "  /* unfitted */\n",
       "  background-color: var(--sklearn-color-unfitted-level-0);\n",
       "}\n",
       "\n",
       "#sk-container-id-2 div.sk-estimator.fitted {\n",
       "  /* fitted */\n",
       "  background-color: var(--sklearn-color-fitted-level-0);\n",
       "}\n",
       "\n",
       "/* on hover */\n",
       "#sk-container-id-2 div.sk-estimator:hover {\n",
       "  /* unfitted */\n",
       "  background-color: var(--sklearn-color-unfitted-level-2);\n",
       "}\n",
       "\n",
       "#sk-container-id-2 div.sk-estimator.fitted:hover {\n",
       "  /* fitted */\n",
       "  background-color: var(--sklearn-color-fitted-level-2);\n",
       "}\n",
       "\n",
       "/* Specification for estimator info (e.g. \"i\" and \"?\") */\n",
       "\n",
       "/* Common style for \"i\" and \"?\" */\n",
       "\n",
       ".sk-estimator-doc-link,\n",
       "a:link.sk-estimator-doc-link,\n",
       "a:visited.sk-estimator-doc-link {\n",
       "  float: right;\n",
       "  font-size: smaller;\n",
       "  line-height: 1em;\n",
       "  font-family: monospace;\n",
       "  background-color: var(--sklearn-color-background);\n",
       "  border-radius: 1em;\n",
       "  height: 1em;\n",
       "  width: 1em;\n",
       "  text-decoration: none !important;\n",
       "  margin-left: 1ex;\n",
       "  /* unfitted */\n",
       "  border: var(--sklearn-color-unfitted-level-1) 1pt solid;\n",
       "  color: var(--sklearn-color-unfitted-level-1);\n",
       "}\n",
       "\n",
       ".sk-estimator-doc-link.fitted,\n",
       "a:link.sk-estimator-doc-link.fitted,\n",
       "a:visited.sk-estimator-doc-link.fitted {\n",
       "  /* fitted */\n",
       "  border: var(--sklearn-color-fitted-level-1) 1pt solid;\n",
       "  color: var(--sklearn-color-fitted-level-1);\n",
       "}\n",
       "\n",
       "/* On hover */\n",
       "div.sk-estimator:hover .sk-estimator-doc-link:hover,\n",
       ".sk-estimator-doc-link:hover,\n",
       "div.sk-label-container:hover .sk-estimator-doc-link:hover,\n",
       ".sk-estimator-doc-link:hover {\n",
       "  /* unfitted */\n",
       "  background-color: var(--sklearn-color-unfitted-level-3);\n",
       "  color: var(--sklearn-color-background);\n",
       "  text-decoration: none;\n",
       "}\n",
       "\n",
       "div.sk-estimator.fitted:hover .sk-estimator-doc-link.fitted:hover,\n",
       ".sk-estimator-doc-link.fitted:hover,\n",
       "div.sk-label-container:hover .sk-estimator-doc-link.fitted:hover,\n",
       ".sk-estimator-doc-link.fitted:hover {\n",
       "  /* fitted */\n",
       "  background-color: var(--sklearn-color-fitted-level-3);\n",
       "  color: var(--sklearn-color-background);\n",
       "  text-decoration: none;\n",
       "}\n",
       "\n",
       "/* Span, style for the box shown on hovering the info icon */\n",
       ".sk-estimator-doc-link span {\n",
       "  display: none;\n",
       "  z-index: 9999;\n",
       "  position: relative;\n",
       "  font-weight: normal;\n",
       "  right: .2ex;\n",
       "  padding: .5ex;\n",
       "  margin: .5ex;\n",
       "  width: min-content;\n",
       "  min-width: 20ex;\n",
       "  max-width: 50ex;\n",
       "  color: var(--sklearn-color-text);\n",
       "  box-shadow: 2pt 2pt 4pt #999;\n",
       "  /* unfitted */\n",
       "  background: var(--sklearn-color-unfitted-level-0);\n",
       "  border: .5pt solid var(--sklearn-color-unfitted-level-3);\n",
       "}\n",
       "\n",
       ".sk-estimator-doc-link.fitted span {\n",
       "  /* fitted */\n",
       "  background: var(--sklearn-color-fitted-level-0);\n",
       "  border: var(--sklearn-color-fitted-level-3);\n",
       "}\n",
       "\n",
       ".sk-estimator-doc-link:hover span {\n",
       "  display: block;\n",
       "}\n",
       "\n",
       "/* \"?\"-specific style due to the `<a>` HTML tag */\n",
       "\n",
       "#sk-container-id-2 a.estimator_doc_link {\n",
       "  float: right;\n",
       "  font-size: 1rem;\n",
       "  line-height: 1em;\n",
       "  font-family: monospace;\n",
       "  background-color: var(--sklearn-color-background);\n",
       "  border-radius: 1rem;\n",
       "  height: 1rem;\n",
       "  width: 1rem;\n",
       "  text-decoration: none;\n",
       "  /* unfitted */\n",
       "  color: var(--sklearn-color-unfitted-level-1);\n",
       "  border: var(--sklearn-color-unfitted-level-1) 1pt solid;\n",
       "}\n",
       "\n",
       "#sk-container-id-2 a.estimator_doc_link.fitted {\n",
       "  /* fitted */\n",
       "  border: var(--sklearn-color-fitted-level-1) 1pt solid;\n",
       "  color: var(--sklearn-color-fitted-level-1);\n",
       "}\n",
       "\n",
       "/* On hover */\n",
       "#sk-container-id-2 a.estimator_doc_link:hover {\n",
       "  /* unfitted */\n",
       "  background-color: var(--sklearn-color-unfitted-level-3);\n",
       "  color: var(--sklearn-color-background);\n",
       "  text-decoration: none;\n",
       "}\n",
       "\n",
       "#sk-container-id-2 a.estimator_doc_link.fitted:hover {\n",
       "  /* fitted */\n",
       "  background-color: var(--sklearn-color-fitted-level-3);\n",
       "}\n",
       "</style><div id=\"sk-container-id-2\" class=\"sk-top-container\"><div class=\"sk-text-repr-fallback\"><pre>GridSearchCV(cv=3,\n",
       "             estimator=Pipeline(steps=[(&#x27;tfidfvectorizer&#x27;, TfidfVectorizer()),\n",
       "                                       (&#x27;randomundersampler&#x27;,\n",
       "                                        RandomUnderSampler(random_state=12345)),\n",
       "                                       (&#x27;logisticregression&#x27;,\n",
       "                                        LogisticRegression(random_state=12345))]),\n",
       "             n_jobs=-1,\n",
       "             param_grid={&#x27;logisticregression__C&#x27;: [1, 2, 3, 4, 5, 6, 10, 11,\n",
       "                                                   15]},\n",
       "             scoring=&#x27;f1&#x27;, verbose=5)</pre><b>In a Jupyter environment, please rerun this cell to show the HTML representation or trust the notebook. <br />On GitHub, the HTML representation is unable to render, please try loading this page with nbviewer.org.</b></div><div class=\"sk-container\" hidden><div class=\"sk-item sk-dashed-wrapped\"><div class=\"sk-label-container\"><div class=\"sk-label fitted sk-toggleable\"><input class=\"sk-toggleable__control sk-hidden--visually\" id=\"sk-estimator-id-5\" type=\"checkbox\" ><label for=\"sk-estimator-id-5\" class=\"sk-toggleable__label fitted sk-toggleable__label-arrow fitted\">&nbsp;&nbsp;GridSearchCV<a class=\"sk-estimator-doc-link fitted\" rel=\"noreferrer\" target=\"_blank\" href=\"https://scikit-learn.org/1.5/modules/generated/sklearn.model_selection.GridSearchCV.html\">?<span>Documentation for GridSearchCV</span></a><span class=\"sk-estimator-doc-link fitted\">i<span>Fitted</span></span></label><div class=\"sk-toggleable__content fitted\"><pre>GridSearchCV(cv=3,\n",
       "             estimator=Pipeline(steps=[(&#x27;tfidfvectorizer&#x27;, TfidfVectorizer()),\n",
       "                                       (&#x27;randomundersampler&#x27;,\n",
       "                                        RandomUnderSampler(random_state=12345)),\n",
       "                                       (&#x27;logisticregression&#x27;,\n",
       "                                        LogisticRegression(random_state=12345))]),\n",
       "             n_jobs=-1,\n",
       "             param_grid={&#x27;logisticregression__C&#x27;: [1, 2, 3, 4, 5, 6, 10, 11,\n",
       "                                                   15]},\n",
       "             scoring=&#x27;f1&#x27;, verbose=5)</pre></div> </div></div><div class=\"sk-parallel\"><div class=\"sk-parallel-item\"><div class=\"sk-item\"><div class=\"sk-label-container\"><div class=\"sk-label fitted sk-toggleable\"><input class=\"sk-toggleable__control sk-hidden--visually\" id=\"sk-estimator-id-6\" type=\"checkbox\" ><label for=\"sk-estimator-id-6\" class=\"sk-toggleable__label fitted sk-toggleable__label-arrow fitted\">best_estimator_: Pipeline</label><div class=\"sk-toggleable__content fitted\"><pre>Pipeline(steps=[(&#x27;tfidfvectorizer&#x27;, TfidfVectorizer()),\n",
       "                (&#x27;randomundersampler&#x27;, RandomUnderSampler(random_state=12345)),\n",
       "                (&#x27;logisticregression&#x27;,\n",
       "                 LogisticRegression(C=3, random_state=12345))])</pre></div> </div></div><div class=\"sk-serial\"><div class=\"sk-item\"><div class=\"sk-serial\"><div class=\"sk-item\"><div class=\"sk-estimator fitted sk-toggleable\"><input class=\"sk-toggleable__control sk-hidden--visually\" id=\"sk-estimator-id-7\" type=\"checkbox\" ><label for=\"sk-estimator-id-7\" class=\"sk-toggleable__label fitted sk-toggleable__label-arrow fitted\">&nbsp;TfidfVectorizer<a class=\"sk-estimator-doc-link fitted\" rel=\"noreferrer\" target=\"_blank\" href=\"https://scikit-learn.org/1.5/modules/generated/sklearn.feature_extraction.text.TfidfVectorizer.html\">?<span>Documentation for TfidfVectorizer</span></a></label><div class=\"sk-toggleable__content fitted\"><pre>TfidfVectorizer()</pre></div> </div></div><div class=\"sk-item\"><div class=\"sk-estimator fitted sk-toggleable\"><input class=\"sk-toggleable__control sk-hidden--visually\" id=\"sk-estimator-id-8\" type=\"checkbox\" ><label for=\"sk-estimator-id-8\" class=\"sk-toggleable__label fitted sk-toggleable__label-arrow fitted\">RandomUnderSampler</label><div class=\"sk-toggleable__content fitted\"><pre>RandomUnderSampler(random_state=12345)</pre></div> </div></div><div class=\"sk-item\"><div class=\"sk-estimator fitted sk-toggleable\"><input class=\"sk-toggleable__control sk-hidden--visually\" id=\"sk-estimator-id-9\" type=\"checkbox\" ><label for=\"sk-estimator-id-9\" class=\"sk-toggleable__label fitted sk-toggleable__label-arrow fitted\">&nbsp;LogisticRegression<a class=\"sk-estimator-doc-link fitted\" rel=\"noreferrer\" target=\"_blank\" href=\"https://scikit-learn.org/1.5/modules/generated/sklearn.linear_model.LogisticRegression.html\">?<span>Documentation for LogisticRegression</span></a></label><div class=\"sk-toggleable__content fitted\"><pre>LogisticRegression(C=3, random_state=12345)</pre></div> </div></div></div></div></div></div></div></div></div></div></div>"
      ],
      "text/plain": [
       "GridSearchCV(cv=3,\n",
       "             estimator=Pipeline(steps=[('tfidfvectorizer', TfidfVectorizer()),\n",
       "                                       ('randomundersampler',\n",
       "                                        RandomUnderSampler(random_state=12345)),\n",
       "                                       ('logisticregression',\n",
       "                                        LogisticRegression(random_state=12345))]),\n",
       "             n_jobs=-1,\n",
       "             param_grid={'logisticregression__C': [1, 2, 3, 4, 5, 6, 10, 11,\n",
       "                                                   15]},\n",
       "             scoring='f1', verbose=5)"
      ]
     },
     "execution_count": 20,
     "metadata": {},
     "output_type": "execute_result"
    }
   ],
   "source": [
    "# Определение параметров для LogisticRegression в пайплайне\n",
    "params = {\n",
    "    'logisticregression__C': [1, 2, 3, 4, 5, 6, 10, 11, 15]\n",
    "    \n",
    "}\n",
    "\n",
    "# Настройка GridSearchCV\n",
    "grid_rus = GridSearchCV(\n",
    "    pipeline_rus,  \n",
    "    params, \n",
    "    cv=3,\n",
    "    verbose=5,\n",
    "    scoring='f1',\n",
    "    n_jobs=-1\n",
    ")\n",
    "\n",
    "# Обучение модели с использованием GridSearchCV\n",
    "grid_rus.fit(X_train, y_train)"
   ]
  },
  {
   "cell_type": "code",
   "execution_count": 21,
   "metadata": {},
   "outputs": [
    {
     "name": "stdout",
     "output_type": "stream",
     "text": [
      "Best Parameters:  {'logisticregression__C': 3}\n",
      "Best RMSE:  0.700957525337687\n"
     ]
    }
   ],
   "source": [
    "print(\"Best Parameters: \", grid_rus.best_params_)\n",
    "print(\"Best RMSE: \", grid_rus.best_score_)\n",
    "param_lr_rus =  grid_rus.best_params_\n",
    "train_score_lr_rus = round(grid_rus.best_score_,3)"
   ]
  },
  {
   "cell_type": "markdown",
   "metadata": {},
   "source": [
    "### Анализ моделей"
   ]
  },
  {
   "cell_type": "code",
   "execution_count": 22,
   "metadata": {},
   "outputs": [
    {
     "name": "stdout",
     "output_type": "stream",
     "text": [
      "                           param  train_score\n",
      "0  {'logisticregression__C': 15}        0.762\n",
      "1   {'logisticregression__C': 3}        0.701\n"
     ]
    }
   ],
   "source": [
    "result = pd.DataFrame({\n",
    "    'param': [param_lr, param_lr_rus], \n",
    "    'train_score': [train_score_lr, train_score_lr_rus]\n",
    "})\n",
    "\n",
    "pd.set_option('display.max_columns', None)\n",
    "print(result)"
   ]
  },
  {
   "cell_type": "markdown",
   "metadata": {},
   "source": [
    "**Лучашя модель LogisticRegression без применения SMOTETomek, с параметрами:**\n",
    "- C = 15"
   ]
  },
  {
   "cell_type": "markdown",
   "metadata": {},
   "source": [
    "## Тестирование. Вывод"
   ]
  },
  {
   "cell_type": "code",
   "execution_count": 23,
   "metadata": {},
   "outputs": [
    {
     "data": {
      "text/html": [
       "<style>#sk-container-id-3 {\n",
       "  /* Definition of color scheme common for light and dark mode */\n",
       "  --sklearn-color-text: black;\n",
       "  --sklearn-color-line: gray;\n",
       "  /* Definition of color scheme for unfitted estimators */\n",
       "  --sklearn-color-unfitted-level-0: #fff5e6;\n",
       "  --sklearn-color-unfitted-level-1: #f6e4d2;\n",
       "  --sklearn-color-unfitted-level-2: #ffe0b3;\n",
       "  --sklearn-color-unfitted-level-3: chocolate;\n",
       "  /* Definition of color scheme for fitted estimators */\n",
       "  --sklearn-color-fitted-level-0: #f0f8ff;\n",
       "  --sklearn-color-fitted-level-1: #d4ebff;\n",
       "  --sklearn-color-fitted-level-2: #b3dbfd;\n",
       "  --sklearn-color-fitted-level-3: cornflowerblue;\n",
       "\n",
       "  /* Specific color for light theme */\n",
       "  --sklearn-color-text-on-default-background: var(--sg-text-color, var(--theme-code-foreground, var(--jp-content-font-color1, black)));\n",
       "  --sklearn-color-background: var(--sg-background-color, var(--theme-background, var(--jp-layout-color0, white)));\n",
       "  --sklearn-color-border-box: var(--sg-text-color, var(--theme-code-foreground, var(--jp-content-font-color1, black)));\n",
       "  --sklearn-color-icon: #696969;\n",
       "\n",
       "  @media (prefers-color-scheme: dark) {\n",
       "    /* Redefinition of color scheme for dark theme */\n",
       "    --sklearn-color-text-on-default-background: var(--sg-text-color, var(--theme-code-foreground, var(--jp-content-font-color1, white)));\n",
       "    --sklearn-color-background: var(--sg-background-color, var(--theme-background, var(--jp-layout-color0, #111)));\n",
       "    --sklearn-color-border-box: var(--sg-text-color, var(--theme-code-foreground, var(--jp-content-font-color1, white)));\n",
       "    --sklearn-color-icon: #878787;\n",
       "  }\n",
       "}\n",
       "\n",
       "#sk-container-id-3 {\n",
       "  color: var(--sklearn-color-text);\n",
       "}\n",
       "\n",
       "#sk-container-id-3 pre {\n",
       "  padding: 0;\n",
       "}\n",
       "\n",
       "#sk-container-id-3 input.sk-hidden--visually {\n",
       "  border: 0;\n",
       "  clip: rect(1px 1px 1px 1px);\n",
       "  clip: rect(1px, 1px, 1px, 1px);\n",
       "  height: 1px;\n",
       "  margin: -1px;\n",
       "  overflow: hidden;\n",
       "  padding: 0;\n",
       "  position: absolute;\n",
       "  width: 1px;\n",
       "}\n",
       "\n",
       "#sk-container-id-3 div.sk-dashed-wrapped {\n",
       "  border: 1px dashed var(--sklearn-color-line);\n",
       "  margin: 0 0.4em 0.5em 0.4em;\n",
       "  box-sizing: border-box;\n",
       "  padding-bottom: 0.4em;\n",
       "  background-color: var(--sklearn-color-background);\n",
       "}\n",
       "\n",
       "#sk-container-id-3 div.sk-container {\n",
       "  /* jupyter's `normalize.less` sets `[hidden] { display: none; }`\n",
       "     but bootstrap.min.css set `[hidden] { display: none !important; }`\n",
       "     so we also need the `!important` here to be able to override the\n",
       "     default hidden behavior on the sphinx rendered scikit-learn.org.\n",
       "     See: https://github.com/scikit-learn/scikit-learn/issues/21755 */\n",
       "  display: inline-block !important;\n",
       "  position: relative;\n",
       "}\n",
       "\n",
       "#sk-container-id-3 div.sk-text-repr-fallback {\n",
       "  display: none;\n",
       "}\n",
       "\n",
       "div.sk-parallel-item,\n",
       "div.sk-serial,\n",
       "div.sk-item {\n",
       "  /* draw centered vertical line to link estimators */\n",
       "  background-image: linear-gradient(var(--sklearn-color-text-on-default-background), var(--sklearn-color-text-on-default-background));\n",
       "  background-size: 2px 100%;\n",
       "  background-repeat: no-repeat;\n",
       "  background-position: center center;\n",
       "}\n",
       "\n",
       "/* Parallel-specific style estimator block */\n",
       "\n",
       "#sk-container-id-3 div.sk-parallel-item::after {\n",
       "  content: \"\";\n",
       "  width: 100%;\n",
       "  border-bottom: 2px solid var(--sklearn-color-text-on-default-background);\n",
       "  flex-grow: 1;\n",
       "}\n",
       "\n",
       "#sk-container-id-3 div.sk-parallel {\n",
       "  display: flex;\n",
       "  align-items: stretch;\n",
       "  justify-content: center;\n",
       "  background-color: var(--sklearn-color-background);\n",
       "  position: relative;\n",
       "}\n",
       "\n",
       "#sk-container-id-3 div.sk-parallel-item {\n",
       "  display: flex;\n",
       "  flex-direction: column;\n",
       "}\n",
       "\n",
       "#sk-container-id-3 div.sk-parallel-item:first-child::after {\n",
       "  align-self: flex-end;\n",
       "  width: 50%;\n",
       "}\n",
       "\n",
       "#sk-container-id-3 div.sk-parallel-item:last-child::after {\n",
       "  align-self: flex-start;\n",
       "  width: 50%;\n",
       "}\n",
       "\n",
       "#sk-container-id-3 div.sk-parallel-item:only-child::after {\n",
       "  width: 0;\n",
       "}\n",
       "\n",
       "/* Serial-specific style estimator block */\n",
       "\n",
       "#sk-container-id-3 div.sk-serial {\n",
       "  display: flex;\n",
       "  flex-direction: column;\n",
       "  align-items: center;\n",
       "  background-color: var(--sklearn-color-background);\n",
       "  padding-right: 1em;\n",
       "  padding-left: 1em;\n",
       "}\n",
       "\n",
       "\n",
       "/* Toggleable style: style used for estimator/Pipeline/ColumnTransformer box that is\n",
       "clickable and can be expanded/collapsed.\n",
       "- Pipeline and ColumnTransformer use this feature and define the default style\n",
       "- Estimators will overwrite some part of the style using the `sk-estimator` class\n",
       "*/\n",
       "\n",
       "/* Pipeline and ColumnTransformer style (default) */\n",
       "\n",
       "#sk-container-id-3 div.sk-toggleable {\n",
       "  /* Default theme specific background. It is overwritten whether we have a\n",
       "  specific estimator or a Pipeline/ColumnTransformer */\n",
       "  background-color: var(--sklearn-color-background);\n",
       "}\n",
       "\n",
       "/* Toggleable label */\n",
       "#sk-container-id-3 label.sk-toggleable__label {\n",
       "  cursor: pointer;\n",
       "  display: block;\n",
       "  width: 100%;\n",
       "  margin-bottom: 0;\n",
       "  padding: 0.5em;\n",
       "  box-sizing: border-box;\n",
       "  text-align: center;\n",
       "}\n",
       "\n",
       "#sk-container-id-3 label.sk-toggleable__label-arrow:before {\n",
       "  /* Arrow on the left of the label */\n",
       "  content: \"▸\";\n",
       "  float: left;\n",
       "  margin-right: 0.25em;\n",
       "  color: var(--sklearn-color-icon);\n",
       "}\n",
       "\n",
       "#sk-container-id-3 label.sk-toggleable__label-arrow:hover:before {\n",
       "  color: var(--sklearn-color-text);\n",
       "}\n",
       "\n",
       "/* Toggleable content - dropdown */\n",
       "\n",
       "#sk-container-id-3 div.sk-toggleable__content {\n",
       "  max-height: 0;\n",
       "  max-width: 0;\n",
       "  overflow: hidden;\n",
       "  text-align: left;\n",
       "  /* unfitted */\n",
       "  background-color: var(--sklearn-color-unfitted-level-0);\n",
       "}\n",
       "\n",
       "#sk-container-id-3 div.sk-toggleable__content.fitted {\n",
       "  /* fitted */\n",
       "  background-color: var(--sklearn-color-fitted-level-0);\n",
       "}\n",
       "\n",
       "#sk-container-id-3 div.sk-toggleable__content pre {\n",
       "  margin: 0.2em;\n",
       "  border-radius: 0.25em;\n",
       "  color: var(--sklearn-color-text);\n",
       "  /* unfitted */\n",
       "  background-color: var(--sklearn-color-unfitted-level-0);\n",
       "}\n",
       "\n",
       "#sk-container-id-3 div.sk-toggleable__content.fitted pre {\n",
       "  /* unfitted */\n",
       "  background-color: var(--sklearn-color-fitted-level-0);\n",
       "}\n",
       "\n",
       "#sk-container-id-3 input.sk-toggleable__control:checked~div.sk-toggleable__content {\n",
       "  /* Expand drop-down */\n",
       "  max-height: 200px;\n",
       "  max-width: 100%;\n",
       "  overflow: auto;\n",
       "}\n",
       "\n",
       "#sk-container-id-3 input.sk-toggleable__control:checked~label.sk-toggleable__label-arrow:before {\n",
       "  content: \"▾\";\n",
       "}\n",
       "\n",
       "/* Pipeline/ColumnTransformer-specific style */\n",
       "\n",
       "#sk-container-id-3 div.sk-label input.sk-toggleable__control:checked~label.sk-toggleable__label {\n",
       "  color: var(--sklearn-color-text);\n",
       "  background-color: var(--sklearn-color-unfitted-level-2);\n",
       "}\n",
       "\n",
       "#sk-container-id-3 div.sk-label.fitted input.sk-toggleable__control:checked~label.sk-toggleable__label {\n",
       "  background-color: var(--sklearn-color-fitted-level-2);\n",
       "}\n",
       "\n",
       "/* Estimator-specific style */\n",
       "\n",
       "/* Colorize estimator box */\n",
       "#sk-container-id-3 div.sk-estimator input.sk-toggleable__control:checked~label.sk-toggleable__label {\n",
       "  /* unfitted */\n",
       "  background-color: var(--sklearn-color-unfitted-level-2);\n",
       "}\n",
       "\n",
       "#sk-container-id-3 div.sk-estimator.fitted input.sk-toggleable__control:checked~label.sk-toggleable__label {\n",
       "  /* fitted */\n",
       "  background-color: var(--sklearn-color-fitted-level-2);\n",
       "}\n",
       "\n",
       "#sk-container-id-3 div.sk-label label.sk-toggleable__label,\n",
       "#sk-container-id-3 div.sk-label label {\n",
       "  /* The background is the default theme color */\n",
       "  color: var(--sklearn-color-text-on-default-background);\n",
       "}\n",
       "\n",
       "/* On hover, darken the color of the background */\n",
       "#sk-container-id-3 div.sk-label:hover label.sk-toggleable__label {\n",
       "  color: var(--sklearn-color-text);\n",
       "  background-color: var(--sklearn-color-unfitted-level-2);\n",
       "}\n",
       "\n",
       "/* Label box, darken color on hover, fitted */\n",
       "#sk-container-id-3 div.sk-label.fitted:hover label.sk-toggleable__label.fitted {\n",
       "  color: var(--sklearn-color-text);\n",
       "  background-color: var(--sklearn-color-fitted-level-2);\n",
       "}\n",
       "\n",
       "/* Estimator label */\n",
       "\n",
       "#sk-container-id-3 div.sk-label label {\n",
       "  font-family: monospace;\n",
       "  font-weight: bold;\n",
       "  display: inline-block;\n",
       "  line-height: 1.2em;\n",
       "}\n",
       "\n",
       "#sk-container-id-3 div.sk-label-container {\n",
       "  text-align: center;\n",
       "}\n",
       "\n",
       "/* Estimator-specific */\n",
       "#sk-container-id-3 div.sk-estimator {\n",
       "  font-family: monospace;\n",
       "  border: 1px dotted var(--sklearn-color-border-box);\n",
       "  border-radius: 0.25em;\n",
       "  box-sizing: border-box;\n",
       "  margin-bottom: 0.5em;\n",
       "  /* unfitted */\n",
       "  background-color: var(--sklearn-color-unfitted-level-0);\n",
       "}\n",
       "\n",
       "#sk-container-id-3 div.sk-estimator.fitted {\n",
       "  /* fitted */\n",
       "  background-color: var(--sklearn-color-fitted-level-0);\n",
       "}\n",
       "\n",
       "/* on hover */\n",
       "#sk-container-id-3 div.sk-estimator:hover {\n",
       "  /* unfitted */\n",
       "  background-color: var(--sklearn-color-unfitted-level-2);\n",
       "}\n",
       "\n",
       "#sk-container-id-3 div.sk-estimator.fitted:hover {\n",
       "  /* fitted */\n",
       "  background-color: var(--sklearn-color-fitted-level-2);\n",
       "}\n",
       "\n",
       "/* Specification for estimator info (e.g. \"i\" and \"?\") */\n",
       "\n",
       "/* Common style for \"i\" and \"?\" */\n",
       "\n",
       ".sk-estimator-doc-link,\n",
       "a:link.sk-estimator-doc-link,\n",
       "a:visited.sk-estimator-doc-link {\n",
       "  float: right;\n",
       "  font-size: smaller;\n",
       "  line-height: 1em;\n",
       "  font-family: monospace;\n",
       "  background-color: var(--sklearn-color-background);\n",
       "  border-radius: 1em;\n",
       "  height: 1em;\n",
       "  width: 1em;\n",
       "  text-decoration: none !important;\n",
       "  margin-left: 1ex;\n",
       "  /* unfitted */\n",
       "  border: var(--sklearn-color-unfitted-level-1) 1pt solid;\n",
       "  color: var(--sklearn-color-unfitted-level-1);\n",
       "}\n",
       "\n",
       ".sk-estimator-doc-link.fitted,\n",
       "a:link.sk-estimator-doc-link.fitted,\n",
       "a:visited.sk-estimator-doc-link.fitted {\n",
       "  /* fitted */\n",
       "  border: var(--sklearn-color-fitted-level-1) 1pt solid;\n",
       "  color: var(--sklearn-color-fitted-level-1);\n",
       "}\n",
       "\n",
       "/* On hover */\n",
       "div.sk-estimator:hover .sk-estimator-doc-link:hover,\n",
       ".sk-estimator-doc-link:hover,\n",
       "div.sk-label-container:hover .sk-estimator-doc-link:hover,\n",
       ".sk-estimator-doc-link:hover {\n",
       "  /* unfitted */\n",
       "  background-color: var(--sklearn-color-unfitted-level-3);\n",
       "  color: var(--sklearn-color-background);\n",
       "  text-decoration: none;\n",
       "}\n",
       "\n",
       "div.sk-estimator.fitted:hover .sk-estimator-doc-link.fitted:hover,\n",
       ".sk-estimator-doc-link.fitted:hover,\n",
       "div.sk-label-container:hover .sk-estimator-doc-link.fitted:hover,\n",
       ".sk-estimator-doc-link.fitted:hover {\n",
       "  /* fitted */\n",
       "  background-color: var(--sklearn-color-fitted-level-3);\n",
       "  color: var(--sklearn-color-background);\n",
       "  text-decoration: none;\n",
       "}\n",
       "\n",
       "/* Span, style for the box shown on hovering the info icon */\n",
       ".sk-estimator-doc-link span {\n",
       "  display: none;\n",
       "  z-index: 9999;\n",
       "  position: relative;\n",
       "  font-weight: normal;\n",
       "  right: .2ex;\n",
       "  padding: .5ex;\n",
       "  margin: .5ex;\n",
       "  width: min-content;\n",
       "  min-width: 20ex;\n",
       "  max-width: 50ex;\n",
       "  color: var(--sklearn-color-text);\n",
       "  box-shadow: 2pt 2pt 4pt #999;\n",
       "  /* unfitted */\n",
       "  background: var(--sklearn-color-unfitted-level-0);\n",
       "  border: .5pt solid var(--sklearn-color-unfitted-level-3);\n",
       "}\n",
       "\n",
       ".sk-estimator-doc-link.fitted span {\n",
       "  /* fitted */\n",
       "  background: var(--sklearn-color-fitted-level-0);\n",
       "  border: var(--sklearn-color-fitted-level-3);\n",
       "}\n",
       "\n",
       ".sk-estimator-doc-link:hover span {\n",
       "  display: block;\n",
       "}\n",
       "\n",
       "/* \"?\"-specific style due to the `<a>` HTML tag */\n",
       "\n",
       "#sk-container-id-3 a.estimator_doc_link {\n",
       "  float: right;\n",
       "  font-size: 1rem;\n",
       "  line-height: 1em;\n",
       "  font-family: monospace;\n",
       "  background-color: var(--sklearn-color-background);\n",
       "  border-radius: 1rem;\n",
       "  height: 1rem;\n",
       "  width: 1rem;\n",
       "  text-decoration: none;\n",
       "  /* unfitted */\n",
       "  color: var(--sklearn-color-unfitted-level-1);\n",
       "  border: var(--sklearn-color-unfitted-level-1) 1pt solid;\n",
       "}\n",
       "\n",
       "#sk-container-id-3 a.estimator_doc_link.fitted {\n",
       "  /* fitted */\n",
       "  border: var(--sklearn-color-fitted-level-1) 1pt solid;\n",
       "  color: var(--sklearn-color-fitted-level-1);\n",
       "}\n",
       "\n",
       "/* On hover */\n",
       "#sk-container-id-3 a.estimator_doc_link:hover {\n",
       "  /* unfitted */\n",
       "  background-color: var(--sklearn-color-unfitted-level-3);\n",
       "  color: var(--sklearn-color-background);\n",
       "  text-decoration: none;\n",
       "}\n",
       "\n",
       "#sk-container-id-3 a.estimator_doc_link.fitted:hover {\n",
       "  /* fitted */\n",
       "  background-color: var(--sklearn-color-fitted-level-3);\n",
       "}\n",
       "</style><div id=\"sk-container-id-3\" class=\"sk-top-container\"><div class=\"sk-text-repr-fallback\"><pre>Pipeline(steps=[(&#x27;tfidfvectorizer&#x27;, TfidfVectorizer()),\n",
       "                (&#x27;logisticregression&#x27;,\n",
       "                 LogisticRegression(C=15, class_weight=&#x27;balanced&#x27;,\n",
       "                                    random_state=12345))])</pre><b>In a Jupyter environment, please rerun this cell to show the HTML representation or trust the notebook. <br />On GitHub, the HTML representation is unable to render, please try loading this page with nbviewer.org.</b></div><div class=\"sk-container\" hidden><div class=\"sk-item sk-dashed-wrapped\"><div class=\"sk-label-container\"><div class=\"sk-label fitted sk-toggleable\"><input class=\"sk-toggleable__control sk-hidden--visually\" id=\"sk-estimator-id-10\" type=\"checkbox\" ><label for=\"sk-estimator-id-10\" class=\"sk-toggleable__label fitted sk-toggleable__label-arrow fitted\">&nbsp;Pipeline<span class=\"sk-estimator-doc-link fitted\">i<span>Fitted</span></span></label><div class=\"sk-toggleable__content fitted\"><pre>Pipeline(steps=[(&#x27;tfidfvectorizer&#x27;, TfidfVectorizer()),\n",
       "                (&#x27;logisticregression&#x27;,\n",
       "                 LogisticRegression(C=15, class_weight=&#x27;balanced&#x27;,\n",
       "                                    random_state=12345))])</pre></div> </div></div><div class=\"sk-serial\"><div class=\"sk-item\"><div class=\"sk-estimator fitted sk-toggleable\"><input class=\"sk-toggleable__control sk-hidden--visually\" id=\"sk-estimator-id-11\" type=\"checkbox\" ><label for=\"sk-estimator-id-11\" class=\"sk-toggleable__label fitted sk-toggleable__label-arrow fitted\">&nbsp;TfidfVectorizer<a class=\"sk-estimator-doc-link fitted\" rel=\"noreferrer\" target=\"_blank\" href=\"https://scikit-learn.org/1.5/modules/generated/sklearn.feature_extraction.text.TfidfVectorizer.html\">?<span>Documentation for TfidfVectorizer</span></a></label><div class=\"sk-toggleable__content fitted\"><pre>TfidfVectorizer()</pre></div> </div></div><div class=\"sk-item\"><div class=\"sk-estimator fitted sk-toggleable\"><input class=\"sk-toggleable__control sk-hidden--visually\" id=\"sk-estimator-id-12\" type=\"checkbox\" ><label for=\"sk-estimator-id-12\" class=\"sk-toggleable__label fitted sk-toggleable__label-arrow fitted\">&nbsp;LogisticRegression<a class=\"sk-estimator-doc-link fitted\" rel=\"noreferrer\" target=\"_blank\" href=\"https://scikit-learn.org/1.5/modules/generated/sklearn.linear_model.LogisticRegression.html\">?<span>Documentation for LogisticRegression</span></a></label><div class=\"sk-toggleable__content fitted\"><pre>LogisticRegression(C=15, class_weight=&#x27;balanced&#x27;, random_state=12345)</pre></div> </div></div></div></div></div></div>"
      ],
      "text/plain": [
       "Pipeline(steps=[('tfidfvectorizer', TfidfVectorizer()),\n",
       "                ('logisticregression',\n",
       "                 LogisticRegression(C=15, class_weight='balanced',\n",
       "                                    random_state=12345))])"
      ]
     },
     "execution_count": 23,
     "metadata": {},
     "output_type": "execute_result"
    }
   ],
   "source": [
    "#Обучение лучшей модели:\n",
    "best_model = grid.best_estimator_\n",
    "\n",
    "best_model.fit(X_train, y_train)"
   ]
  },
  {
   "cell_type": "code",
   "execution_count": 24,
   "metadata": {},
   "outputs": [
    {
     "name": "stdout",
     "output_type": "stream",
     "text": [
      "F1 Score: 0.7775551102204409\n"
     ]
    },
    {
     "data": {
      "image/png": "[encoded data removed]",
      "text/plain": [
       "<Figure size 432x288 with 2 Axes>"
      ]
     },
     "metadata": {
      "needs_background": "light"
     },
     "output_type": "display_data"
    }
   ],
   "source": [
    "# Предсказание с использованием pipeline\n",
    "y_pred = best_model.predict(X_test)\n",
    "# Расчет F1-меры\n",
    "f1 = f1_score(y_test, y_pred)\n",
    "\n",
    "print(\"F1 Score:\", f1)\n",
    "\n",
    "cm = confusion_matrix(y_test, y_pred, normalize='all')\n",
    "\n",
    "# Отображение матрицы ошибок\n",
    "cmd = ConfusionMatrixDisplay(cm, display_labels=['Нетоксичный', 'токсичный'])\n",
    "cmd.plot()\n",
    "plt.title('Матрица ошибок')\n",
    "plt.show()"
   ]
  },
  {
   "cell_type": "markdown",
   "metadata": {},
   "source": [
    "- Истинно отрицательных ответов 0.87, истинно положительных ответов TР = 0.085.\n",
    "- Ложно положительных предсказаний больше ложно отрицательных: 0.032 и 0.016, соответственно.\n",
    "\n",
    "Модель чаще ошибочно классифицирует нетоксичные комментарии как токсичные, чем наоборот. "
   ]
  },
  {
   "cell_type": "code",
   "execution_count": 25,
   "metadata": {},
   "outputs": [
    {
     "data": {
      "image/png": "[encoded data removed]",
      "text/plain": [
       "<Figure size 360x360 with 1 Axes>"
      ]
     },
     "metadata": {
      "needs_background": "light"
     },
     "output_type": "display_data"
    }
   ],
   "source": [
    "plt.figure(figsize=(5, 5))\n",
    "probabilities = best_model.predict_proba(X_test)\n",
    "probabilities_test = probabilities[:,1]\n",
    "roc_auc = roc_auc_score(y_test, probabilities_test)\n",
    "fpr, tpr, thresholds = roc_curve(y_test, probabilities_test)\n",
    "plt.plot(fpr, tpr, label='AUC= '+ str(roc_auc))\n",
    "plt.plot([0, 1], '--', color='orange')\n",
    "plt.ylabel('True positive rate')\n",
    "plt.xlabel('False positive rate')\n",
    "plt.legend(loc=4)\n",
    "plt.title('Кривая ROC');"
   ]
  },
  {
   "cell_type": "code",
   "execution_count": 26,
   "metadata": {},
   "outputs": [
    {
     "name": "stdout",
     "output_type": "stream",
     "text": [
      "Точность: 0.72\n",
      "Полнота: 0.84\n"
     ]
    },
    {
     "data": {
      "image/png": "[encoded data removed]",
      "text/plain": [
       "<Figure size 432x288 with 1 Axes>"
      ]
     },
     "metadata": {
      "needs_background": "light"
     },
     "output_type": "display_data"
    }
   ],
   "source": [
    "# Расчет точности и полноты\n",
    "y_pred = best_model.predict(X_test)\n",
    "precision = precision_score(y_test, y_pred)\n",
    "recall = recall_score(y_test, y_pred)\n",
    "\n",
    "print(f\"Точность: {precision:.2f}\")\n",
    "print(f\"Полнота: {recall:.2f}\")\n",
    "\n",
    "# Визуализация точности и полноты\n",
    "plt.bar(['Точность', 'Полнота'], [precision, recall], color=['blue', 'green'])\n",
    "plt.title('Точность и Полнота')\n",
    "plt.ylim(0, 1)\n",
    "plt.show()"
   ]
  },
  {
   "cell_type": "markdown",
   "metadata": {},
   "source": [
    "Точность модели составляет 0.72, что означает, что около 72% предсказаний модели о токсичности комментариев оказались верными. Полнота модели равна 0.84, указывая на то, что модель смогла корректно идентифицировать 84% всех реально токсичных комментариев."
   ]
  },
  {
   "cell_type": "markdown",
   "metadata": {},
   "source": [
    "### Вывод"
   ]
  },
  {
   "cell_type": "markdown",
   "metadata": {},
   "source": [
    "**При создание модели были проведены следущие шаги:**\n",
    "\n",
    "1. Анализ и предобработка данных:\n",
    "Процесс включал лемматизацию, удаление стоп-слов и анализ частотности слов. Классы оказались несбалансированными: количество нетоксичных комментариев в 9 раз превышает количество токсичных. Выявлено, что в токсичных комментариев много ругательств. Данные подготовлены к моделированию: разделены на тренировочные и тестовые наборы.\n",
    "\n",
    "2. В проекте используются следующие модели:\n",
    "   - Логистическая регрессия с параметром балансировки классов\n",
    "   - Логистическая регрессия с применением RandomUnderSampler()\n",
    "\n",
    "Подбор гиперпараметров осуществлялся с помощью GridSearchCV\n",
    "\n",
    "**Лучашя модель LogisticRegression без применения RandomUnderSampler, с параметрами:**\n",
    "- C = 10,\n",
    "- class_weight='balanced',\n",
    "- max_iter = 50\n",
    "- solver = liblinear\n",
    "\n",
    "3. Модель логистической регрессии, обученная с учетом баланса классов, показала смешанные результаты в задаче классификации токсичных комментариев. С одной стороны, F1-мера, составляющая на тренировочной выборке 0.78, и AUC-значение 0.97 свидетельствуют о достаточно высокой общей эффективности модели.\n",
    "\n",
    "С другой стороны, модель демонстрирует низкую точность (72%), что означает, что значительная доля нетоксичных комментариев ошибочно классифицируется как токсичные. Это может привести к нежелательным последствиям, таким как неправомерная блокировка комментариев в социальных сетях или на форумах. Полнота модели достаточно высока (84%), что означает хорошую способность модели обнаруживать токсичные комментарии, но в ущерб точности.\n",
    "\n",
    "Для практического применения такой модели важно найти баланс между минимизацией ложно положительных и ложно отрицательных результатов. Возможные шаги для улучшения включают в себя дальнейшую настройку гиперпараметров, использование других алгоритмов машинного обучения, которые могут лучше справляться с задачами с несбалансированными данными, или применение техник обработки текста для улучшения качества входных данных."
   ]
  },
  {
   "cell_type": "code",
   "execution_count": null,
   "metadata": {},
   "outputs": [],
   "source": []
  }
 ],
 "metadata": {
  "ExecuteTimeLog": [
   {
    "duration": 5800,
    "start_time": "2024-06-25T09:12:14.021Z"
   },
   {
    "duration": 6,
    "start_time": "2024-06-25T09:17:26.220Z"
   },
   {
    "duration": 11900,
    "start_time": "2024-06-25T09:19:58.921Z"
   },
   {
    "duration": 614,
    "start_time": "2024-06-25T09:20:42.321Z"
   },
   {
    "duration": 111,
    "start_time": "2024-06-25T09:21:26.121Z"
   },
   {
    "duration": 4713,
    "start_time": "2024-06-25T09:21:28.521Z"
   },
   {
    "duration": 898,
    "start_time": "2024-06-25T09:21:57.821Z"
   },
   {
    "duration": 1602,
    "start_time": "2024-06-25T09:28:38.821Z"
   },
   {
    "duration": 4,
    "start_time": "2024-06-25T09:34:15.421Z"
   },
   {
    "duration": 1999,
    "start_time": "2024-06-27T14:05:02.803Z"
   },
   {
    "duration": 3709,
    "start_time": "2024-06-27T14:05:31.395Z"
   },
   {
    "duration": 1509,
    "start_time": "2024-06-27T14:05:35.106Z"
   },
   {
    "duration": 2369,
    "start_time": "2024-06-27T14:05:36.616Z"
   },
   {
    "duration": 264,
    "start_time": "2024-06-27T14:05:38.987Z"
   },
   {
    "duration": 109,
    "start_time": "2024-06-27T14:05:39.253Z"
   },
   {
    "duration": 129,
    "start_time": "2024-06-27T14:08:02.271Z"
   },
   {
    "duration": 15,
    "start_time": "2024-06-27T14:08:31.340Z"
   },
   {
    "duration": 14,
    "start_time": "2024-06-27T14:08:48.822Z"
   },
   {
    "duration": 12,
    "start_time": "2024-06-27T14:09:09.424Z"
   },
   {
    "duration": 6152,
    "start_time": "2024-06-27T14:09:49.511Z"
   },
   {
    "duration": 88776,
    "start_time": "2024-06-27T14:10:07.613Z"
   },
   {
    "duration": 8182,
    "start_time": "2024-06-27T14:11:57.788Z"
   },
   {
    "duration": 36637,
    "start_time": "2024-06-27T14:12:08.658Z"
   },
   {
    "duration": 2722,
    "start_time": "2024-06-27T14:14:03.463Z"
   },
   {
    "duration": 1521,
    "start_time": "2024-06-27T14:14:06.187Z"
   },
   {
    "duration": 975,
    "start_time": "2024-06-27T14:14:07.710Z"
   },
   {
    "duration": 270,
    "start_time": "2024-06-27T14:14:08.687Z"
   },
   {
    "duration": 111,
    "start_time": "2024-06-27T14:14:08.959Z"
   },
   {
    "duration": 5953,
    "start_time": "2024-06-27T14:14:09.072Z"
   },
   {
    "duration": 82228,
    "start_time": "2024-06-27T14:14:15.026Z"
   },
   {
    "duration": 19130,
    "start_time": "2024-06-27T14:15:40.875Z"
   },
   {
    "duration": 6329,
    "start_time": "2024-06-27T14:17:42.526Z"
   },
   {
    "duration": 78664,
    "start_time": "2024-06-27T14:17:51.596Z"
   },
   {
    "duration": 2715,
    "start_time": "2024-06-27T14:21:59.343Z"
   },
   {
    "duration": 1452,
    "start_time": "2024-06-27T14:22:02.060Z"
   },
   {
    "duration": 1018,
    "start_time": "2024-06-27T14:22:03.514Z"
   },
   {
    "duration": 272,
    "start_time": "2024-06-27T14:22:04.533Z"
   },
   {
    "duration": 108,
    "start_time": "2024-06-27T14:22:04.807Z"
   },
   {
    "duration": 5759,
    "start_time": "2024-06-27T14:22:04.917Z"
   },
   {
    "duration": 78092,
    "start_time": "2024-06-27T14:22:10.677Z"
   },
   {
    "duration": 19215,
    "start_time": "2024-06-27T14:23:28.771Z"
   },
   {
    "duration": 17342,
    "start_time": "2024-06-27T14:23:47.988Z"
   },
   {
    "duration": 130,
    "start_time": "2024-06-27T14:24:05.331Z"
   },
   {
    "duration": 0,
    "start_time": "2024-06-27T14:24:05.462Z"
   },
   {
    "duration": 50813,
    "start_time": "2024-06-27T14:24:12.756Z"
   },
   {
    "duration": 14815,
    "start_time": "2024-06-27T14:25:08.423Z"
   },
   {
    "duration": 12060,
    "start_time": "2024-06-27T14:27:24.724Z"
   },
   {
    "duration": 11950,
    "start_time": "2024-06-27T14:28:30.172Z"
   },
   {
    "duration": 30684,
    "start_time": "2024-06-27T14:28:45.772Z"
   },
   {
    "duration": 9,
    "start_time": "2024-06-27T14:31:31.686Z"
   },
   {
    "duration": 30539,
    "start_time": "2024-06-27T14:32:03.557Z"
   },
   {
    "duration": 30380,
    "start_time": "2024-06-27T14:33:52.241Z"
   },
   {
    "duration": 30088,
    "start_time": "2024-06-27T14:35:41.808Z"
   },
   {
    "duration": 1044,
    "start_time": "2024-06-27T14:41:13.973Z"
   },
   {
    "duration": 1034,
    "start_time": "2024-06-27T14:41:38.402Z"
   },
   {
    "duration": 5,
    "start_time": "2024-06-27T14:42:15.592Z"
   },
   {
    "duration": 30721,
    "start_time": "2024-06-27T14:42:21.563Z"
   },
   {
    "duration": 6405,
    "start_time": "2024-06-27T14:44:30.246Z"
   },
   {
    "duration": 1334,
    "start_time": "2024-06-27T14:44:51.358Z"
   },
   {
    "duration": 1229,
    "start_time": "2024-06-27T14:45:36.940Z"
   },
   {
    "duration": 1093,
    "start_time": "2024-06-27T14:46:11.956Z"
   },
   {
    "duration": 1132,
    "start_time": "2024-06-27T14:46:35.034Z"
   },
   {
    "duration": 1125,
    "start_time": "2024-06-27T14:46:51.263Z"
   },
   {
    "duration": 1239,
    "start_time": "2024-06-27T14:47:02.993Z"
   },
   {
    "duration": 6599,
    "start_time": "2024-06-27T15:02:29.200Z"
   },
   {
    "duration": 8,
    "start_time": "2024-06-27T15:02:51.086Z"
   },
   {
    "duration": 6343,
    "start_time": "2024-06-27T15:04:57.612Z"
   },
   {
    "duration": 6,
    "start_time": "2024-06-27T15:05:04.647Z"
   },
   {
    "duration": 2646,
    "start_time": "2024-06-27T15:11:47.389Z"
   },
   {
    "duration": 1476,
    "start_time": "2024-06-27T15:11:50.037Z"
   },
   {
    "duration": 973,
    "start_time": "2024-06-27T15:11:51.514Z"
   },
   {
    "duration": 270,
    "start_time": "2024-06-27T15:11:52.488Z"
   },
   {
    "duration": 107,
    "start_time": "2024-06-27T15:11:52.760Z"
   },
   {
    "duration": 84442,
    "start_time": "2024-06-27T15:11:52.868Z"
   },
   {
    "duration": 7,
    "start_time": "2024-06-27T15:13:43.694Z"
   },
   {
    "duration": 2659,
    "start_time": "2024-06-27T15:13:59.895Z"
   },
   {
    "duration": 1500,
    "start_time": "2024-06-27T15:14:02.557Z"
   },
   {
    "duration": 986,
    "start_time": "2024-06-27T15:14:04.058Z"
   },
   {
    "duration": 271,
    "start_time": "2024-06-27T15:14:05.046Z"
   },
   {
    "duration": 108,
    "start_time": "2024-06-27T15:14:05.318Z"
   },
   {
    "duration": 84037,
    "start_time": "2024-06-27T15:14:05.427Z"
   },
   {
    "duration": 7,
    "start_time": "2024-06-27T15:15:29.466Z"
   },
   {
    "duration": 3381,
    "start_time": "2024-06-27T17:48:36.586Z"
   },
   {
    "duration": 1699,
    "start_time": "2024-06-27T17:48:39.970Z"
   },
   {
    "duration": 2387,
    "start_time": "2024-06-27T17:48:41.670Z"
   },
   {
    "duration": 238,
    "start_time": "2024-06-27T17:48:44.060Z"
   },
   {
    "duration": 115,
    "start_time": "2024-06-27T17:48:44.300Z"
   },
   {
    "duration": 81863,
    "start_time": "2024-06-27T17:48:44.417Z"
   },
   {
    "duration": 6,
    "start_time": "2024-06-27T17:50:06.282Z"
   },
   {
    "duration": 134,
    "start_time": "2024-06-27T17:51:48.950Z"
   },
   {
    "duration": 64300,
    "start_time": "2024-06-27T17:53:06.296Z"
   },
   {
    "duration": 6,
    "start_time": "2024-06-27T17:54:46.825Z"
   },
   {
    "duration": 5,
    "start_time": "2024-06-27T17:56:04.028Z"
   },
   {
    "duration": 1337,
    "start_time": "2024-06-27T17:57:12.691Z"
   },
   {
    "duration": 1453,
    "start_time": "2024-06-27T17:57:33.854Z"
   },
   {
    "duration": 1409,
    "start_time": "2024-06-27T17:59:15.328Z"
   },
   {
    "duration": 1459,
    "start_time": "2024-06-27T18:06:04.489Z"
   },
   {
    "duration": 7,
    "start_time": "2024-06-27T18:06:14.178Z"
   },
   {
    "duration": 1187,
    "start_time": "2024-06-27T18:10:26.726Z"
   },
   {
    "duration": 3,
    "start_time": "2024-06-27T18:12:49.900Z"
   },
   {
    "duration": 1415,
    "start_time": "2024-06-27T18:13:07.611Z"
   },
   {
    "duration": 3,
    "start_time": "2024-06-27T18:14:09.246Z"
   },
   {
    "duration": 1381,
    "start_time": "2024-06-27T18:14:11.777Z"
   },
   {
    "duration": 1594,
    "start_time": "2024-06-27T18:14:14.029Z"
   },
   {
    "duration": 6,
    "start_time": "2024-06-27T18:14:16.719Z"
   },
   {
    "duration": 1170,
    "start_time": "2024-06-27T18:15:15.056Z"
   },
   {
    "duration": 100,
    "start_time": "2024-06-27T18:15:29.207Z"
   },
   {
    "duration": 114,
    "start_time": "2024-06-27T18:17:00.321Z"
   },
   {
    "duration": 5553,
    "start_time": "2024-06-27T18:23:17.171Z"
   },
   {
    "duration": 216,
    "start_time": "2024-06-27T18:23:29.797Z"
   },
   {
    "duration": 4509,
    "start_time": "2024-06-27T18:23:51.987Z"
   },
   {
    "duration": 1703,
    "start_time": "2024-06-27T18:23:56.499Z"
   },
   {
    "duration": 0,
    "start_time": "2024-06-27T18:23:58.204Z"
   },
   {
    "duration": 0,
    "start_time": "2024-06-27T18:23:58.205Z"
   },
   {
    "duration": 0,
    "start_time": "2024-06-27T18:23:58.206Z"
   },
   {
    "duration": 0,
    "start_time": "2024-06-27T18:23:58.207Z"
   },
   {
    "duration": 0,
    "start_time": "2024-06-27T18:23:58.208Z"
   },
   {
    "duration": 0,
    "start_time": "2024-06-27T18:23:58.209Z"
   },
   {
    "duration": 0,
    "start_time": "2024-06-27T18:23:58.210Z"
   },
   {
    "duration": 0,
    "start_time": "2024-06-27T18:23:58.211Z"
   },
   {
    "duration": 0,
    "start_time": "2024-06-27T18:23:58.212Z"
   },
   {
    "duration": 0,
    "start_time": "2024-06-27T18:23:58.213Z"
   },
   {
    "duration": 0,
    "start_time": "2024-06-27T18:23:58.214Z"
   },
   {
    "duration": 0,
    "start_time": "2024-06-27T18:23:58.215Z"
   },
   {
    "duration": 0,
    "start_time": "2024-06-27T18:23:58.216Z"
   },
   {
    "duration": 12,
    "start_time": "2024-06-27T18:25:11.118Z"
   },
   {
    "duration": 11,
    "start_time": "2024-06-27T18:25:21.720Z"
   },
   {
    "duration": 6766,
    "start_time": "2024-06-27T18:25:39.344Z"
   },
   {
    "duration": 17,
    "start_time": "2024-06-27T18:25:46.113Z"
   },
   {
    "duration": 12,
    "start_time": "2024-06-27T18:25:54.330Z"
   },
   {
    "duration": 12,
    "start_time": "2024-06-27T18:26:02.415Z"
   },
   {
    "duration": 11,
    "start_time": "2024-06-27T18:26:20.196Z"
   },
   {
    "duration": 11,
    "start_time": "2024-06-27T18:26:30.806Z"
   },
   {
    "duration": 6971,
    "start_time": "2024-06-27T18:26:33.449Z"
   },
   {
    "duration": 17,
    "start_time": "2024-06-27T18:26:40.423Z"
   },
   {
    "duration": 12,
    "start_time": "2024-06-27T18:27:14.002Z"
   },
   {
    "duration": 12,
    "start_time": "2024-06-27T18:27:39.789Z"
   },
   {
    "duration": 11,
    "start_time": "2024-06-27T18:27:45.515Z"
   },
   {
    "duration": 8282,
    "start_time": "2024-06-27T18:29:02.797Z"
   },
   {
    "duration": 2093,
    "start_time": "2024-06-27T18:29:11.081Z"
   },
   {
    "duration": 0,
    "start_time": "2024-06-27T18:29:13.176Z"
   },
   {
    "duration": 0,
    "start_time": "2024-06-27T18:29:13.177Z"
   },
   {
    "duration": 0,
    "start_time": "2024-06-27T18:29:13.178Z"
   },
   {
    "duration": 0,
    "start_time": "2024-06-27T18:29:13.179Z"
   },
   {
    "duration": 0,
    "start_time": "2024-06-27T18:29:13.180Z"
   },
   {
    "duration": 0,
    "start_time": "2024-06-27T18:29:13.181Z"
   },
   {
    "duration": 0,
    "start_time": "2024-06-27T18:29:13.182Z"
   },
   {
    "duration": 0,
    "start_time": "2024-06-27T18:29:13.183Z"
   },
   {
    "duration": 0,
    "start_time": "2024-06-27T18:29:13.184Z"
   },
   {
    "duration": 0,
    "start_time": "2024-06-27T18:29:13.185Z"
   },
   {
    "duration": 0,
    "start_time": "2024-06-27T18:29:13.186Z"
   },
   {
    "duration": 0,
    "start_time": "2024-06-27T18:29:13.187Z"
   },
   {
    "duration": 0,
    "start_time": "2024-06-27T18:29:13.188Z"
   },
   {
    "duration": 4748,
    "start_time": "2024-06-27T18:30:07.969Z"
   },
   {
    "duration": 19,
    "start_time": "2024-06-27T18:30:13.311Z"
   },
   {
    "duration": 11,
    "start_time": "2024-06-27T18:30:41.304Z"
   },
   {
    "duration": 14,
    "start_time": "2024-06-27T18:31:05.609Z"
   },
   {
    "duration": 27,
    "start_time": "2024-06-27T19:04:24.369Z"
   },
   {
    "duration": 5095,
    "start_time": "2024-06-27T19:04:50.768Z"
   },
   {
    "duration": 19,
    "start_time": "2024-06-27T19:04:58.162Z"
   },
   {
    "duration": 6,
    "start_time": "2024-06-27T19:05:22.890Z"
   },
   {
    "duration": 4500,
    "start_time": "2024-06-27T19:08:25.300Z"
   },
   {
    "duration": 1723,
    "start_time": "2024-06-27T19:08:29.803Z"
   },
   {
    "duration": 981,
    "start_time": "2024-06-27T19:08:31.528Z"
   },
   {
    "duration": 241,
    "start_time": "2024-06-27T19:08:32.511Z"
   },
   {
    "duration": 190,
    "start_time": "2024-06-27T19:08:32.754Z"
   },
   {
    "duration": 362,
    "start_time": "2024-06-27T19:08:32.945Z"
   },
   {
    "duration": 0,
    "start_time": "2024-06-27T19:08:33.309Z"
   },
   {
    "duration": 0,
    "start_time": "2024-06-27T19:08:33.311Z"
   },
   {
    "duration": 0,
    "start_time": "2024-06-27T19:08:33.312Z"
   },
   {
    "duration": 0,
    "start_time": "2024-06-27T19:08:33.314Z"
   },
   {
    "duration": 0,
    "start_time": "2024-06-27T19:08:33.315Z"
   },
   {
    "duration": 0,
    "start_time": "2024-06-27T19:08:33.316Z"
   },
   {
    "duration": 0,
    "start_time": "2024-06-27T19:08:33.318Z"
   },
   {
    "duration": 0,
    "start_time": "2024-06-27T19:08:33.319Z"
   },
   {
    "duration": 0,
    "start_time": "2024-06-27T19:08:33.320Z"
   },
   {
    "duration": 0,
    "start_time": "2024-06-27T19:08:33.322Z"
   },
   {
    "duration": 0,
    "start_time": "2024-06-27T19:08:33.323Z"
   },
   {
    "duration": 0,
    "start_time": "2024-06-27T19:08:33.324Z"
   },
   {
    "duration": 4526,
    "start_time": "2024-06-27T19:08:56.681Z"
   },
   {
    "duration": 1606,
    "start_time": "2024-06-27T19:09:01.210Z"
   },
   {
    "duration": 999,
    "start_time": "2024-06-27T19:09:02.818Z"
   },
   {
    "duration": 257,
    "start_time": "2024-06-27T19:09:03.819Z"
   },
   {
    "duration": 174,
    "start_time": "2024-06-27T19:09:04.078Z"
   },
   {
    "duration": 81092,
    "start_time": "2024-06-27T19:09:04.254Z"
   },
   {
    "duration": 6,
    "start_time": "2024-06-27T19:10:25.348Z"
   },
   {
    "duration": 63541,
    "start_time": "2024-06-27T19:10:25.364Z"
   },
   {
    "duration": 7,
    "start_time": "2024-06-27T19:11:28.907Z"
   },
   {
    "duration": 18,
    "start_time": "2024-06-27T19:11:28.917Z"
   },
   {
    "duration": 1442,
    "start_time": "2024-06-27T19:11:28.937Z"
   },
   {
    "duration": 1464,
    "start_time": "2024-06-27T19:11:30.381Z"
   },
   {
    "duration": 6,
    "start_time": "2024-06-27T19:11:31.847Z"
   },
   {
    "duration": 1173,
    "start_time": "2024-06-27T19:11:31.864Z"
   },
   {
    "duration": 103,
    "start_time": "2024-06-27T19:11:33.039Z"
   },
   {
    "duration": 4,
    "start_time": "2024-06-27T19:11:33.144Z"
   },
   {
    "duration": 129,
    "start_time": "2024-06-27T19:11:33.150Z"
   },
   {
    "duration": 0,
    "start_time": "2024-06-27T19:11:33.281Z"
   },
   {
    "duration": 3,
    "start_time": "2024-06-27T19:13:16.891Z"
   },
   {
    "duration": 4476,
    "start_time": "2024-06-27T19:30:52.687Z"
   },
   {
    "duration": 1642,
    "start_time": "2024-06-27T19:30:57.166Z"
   },
   {
    "duration": 1040,
    "start_time": "2024-06-27T19:30:58.810Z"
   },
   {
    "duration": 245,
    "start_time": "2024-06-27T19:30:59.852Z"
   },
   {
    "duration": 177,
    "start_time": "2024-06-27T19:31:00.099Z"
   },
   {
    "duration": 81294,
    "start_time": "2024-06-27T19:31:00.277Z"
   },
   {
    "duration": 7,
    "start_time": "2024-06-27T19:32:21.572Z"
   },
   {
    "duration": 63816,
    "start_time": "2024-06-27T19:32:21.580Z"
   },
   {
    "duration": 6,
    "start_time": "2024-06-27T19:33:25.397Z"
   },
   {
    "duration": 18,
    "start_time": "2024-06-27T19:33:25.405Z"
   },
   {
    "duration": 1402,
    "start_time": "2024-06-27T19:33:25.424Z"
   },
   {
    "duration": 1515,
    "start_time": "2024-06-27T19:33:26.828Z"
   },
   {
    "duration": 6,
    "start_time": "2024-06-27T19:33:28.344Z"
   },
   {
    "duration": 1227,
    "start_time": "2024-06-27T19:33:28.353Z"
   },
   {
    "duration": 111,
    "start_time": "2024-06-27T19:33:29.582Z"
   },
   {
    "duration": 4,
    "start_time": "2024-06-27T19:33:29.695Z"
   },
   {
    "duration": 5,
    "start_time": "2024-06-27T19:33:29.700Z"
   },
   {
    "duration": 8,
    "start_time": "2024-06-27T19:33:29.706Z"
   },
   {
    "duration": 142,
    "start_time": "2024-06-27T19:33:29.716Z"
   },
   {
    "duration": 0,
    "start_time": "2024-06-27T19:33:29.865Z"
   },
   {
    "duration": 0,
    "start_time": "2024-06-27T19:33:29.866Z"
   },
   {
    "duration": 0,
    "start_time": "2024-06-27T19:33:29.867Z"
   },
   {
    "duration": 26,
    "start_time": "2024-06-27T19:34:10.428Z"
   },
   {
    "duration": 11,
    "start_time": "2024-06-27T19:34:12.379Z"
   },
   {
    "duration": 4,
    "start_time": "2024-06-27T19:34:14.056Z"
   },
   {
    "duration": 10,
    "start_time": "2024-06-27T19:34:15.028Z"
   },
   {
    "duration": 60,
    "start_time": "2024-06-27T19:35:38.759Z"
   },
   {
    "duration": 10,
    "start_time": "2024-06-27T19:35:39.782Z"
   },
   {
    "duration": 8,
    "start_time": "2024-06-27T19:35:53.710Z"
   },
   {
    "duration": 4,
    "start_time": "2024-06-27T19:36:03.091Z"
   },
   {
    "duration": 5,
    "start_time": "2024-06-27T19:36:19.924Z"
   },
   {
    "duration": 50,
    "start_time": "2024-06-27T19:38:45.515Z"
   },
   {
    "duration": 9,
    "start_time": "2024-06-27T19:38:47.569Z"
   },
   {
    "duration": 3,
    "start_time": "2024-06-27T19:38:48.567Z"
   },
   {
    "duration": 3,
    "start_time": "2024-06-27T19:39:01.491Z"
   },
   {
    "duration": 4485,
    "start_time": "2024-06-27T19:39:10.919Z"
   },
   {
    "duration": 1648,
    "start_time": "2024-06-27T19:39:15.406Z"
   },
   {
    "duration": 967,
    "start_time": "2024-06-27T19:39:17.056Z"
   },
   {
    "duration": 246,
    "start_time": "2024-06-27T19:39:18.025Z"
   },
   {
    "duration": 169,
    "start_time": "2024-06-27T19:39:18.273Z"
   },
   {
    "duration": 81554,
    "start_time": "2024-06-27T19:39:18.444Z"
   },
   {
    "duration": 7,
    "start_time": "2024-06-27T19:40:40.000Z"
   },
   {
    "duration": 4600,
    "start_time": "2024-06-27T19:41:37.692Z"
   },
   {
    "duration": 1676,
    "start_time": "2024-06-27T19:41:42.294Z"
   },
   {
    "duration": 993,
    "start_time": "2024-06-27T19:41:43.972Z"
   },
   {
    "duration": 265,
    "start_time": "2024-06-27T19:41:44.966Z"
   },
   {
    "duration": 184,
    "start_time": "2024-06-27T19:41:45.234Z"
   },
   {
    "duration": 81624,
    "start_time": "2024-06-27T19:41:45.420Z"
   },
   {
    "duration": 7,
    "start_time": "2024-06-27T19:43:07.045Z"
   },
   {
    "duration": 64337,
    "start_time": "2024-06-27T19:43:07.054Z"
   },
   {
    "duration": 7,
    "start_time": "2024-06-27T19:44:11.392Z"
   },
   {
    "duration": 16,
    "start_time": "2024-06-27T19:44:11.400Z"
   },
   {
    "duration": 1522,
    "start_time": "2024-06-27T19:44:11.418Z"
   },
   {
    "duration": 1520,
    "start_time": "2024-06-27T19:44:12.941Z"
   },
   {
    "duration": 7,
    "start_time": "2024-06-27T19:44:14.463Z"
   },
   {
    "duration": 1288,
    "start_time": "2024-06-27T19:44:14.472Z"
   },
   {
    "duration": 104,
    "start_time": "2024-06-27T19:44:15.762Z"
   },
   {
    "duration": 4,
    "start_time": "2024-06-27T19:44:15.867Z"
   },
   {
    "duration": 6,
    "start_time": "2024-06-27T19:44:15.872Z"
   },
   {
    "duration": 7,
    "start_time": "2024-06-27T19:44:15.880Z"
   },
   {
    "duration": 11,
    "start_time": "2024-06-27T19:44:15.889Z"
   },
   {
    "duration": 73,
    "start_time": "2024-06-27T19:44:15.901Z"
   },
   {
    "duration": 2587,
    "start_time": "2024-06-27T19:44:15.976Z"
   },
   {
    "duration": 52,
    "start_time": "2024-06-27T20:03:41.539Z"
   },
   {
    "duration": 4654,
    "start_time": "2024-06-27T20:03:46.590Z"
   },
   {
    "duration": 1687,
    "start_time": "2024-06-27T20:03:51.247Z"
   },
   {
    "duration": 2396,
    "start_time": "2024-06-27T20:03:52.936Z"
   },
   {
    "duration": 287,
    "start_time": "2024-06-27T20:03:55.334Z"
   },
   {
    "duration": 187,
    "start_time": "2024-06-27T20:03:55.623Z"
   },
   {
    "duration": 4544,
    "start_time": "2024-06-27T20:05:05.301Z"
   },
   {
    "duration": 1733,
    "start_time": "2024-06-27T20:05:09.847Z"
   },
   {
    "duration": 1016,
    "start_time": "2024-06-27T20:05:11.582Z"
   },
   {
    "duration": 247,
    "start_time": "2024-06-27T20:05:12.600Z"
   },
   {
    "duration": 165,
    "start_time": "2024-06-27T20:05:12.849Z"
   },
   {
    "duration": 82845,
    "start_time": "2024-06-27T20:05:13.015Z"
   },
   {
    "duration": 6,
    "start_time": "2024-06-27T20:06:35.862Z"
   },
   {
    "duration": 64566,
    "start_time": "2024-06-27T20:06:35.870Z"
   },
   {
    "duration": 7,
    "start_time": "2024-06-27T20:07:40.437Z"
   },
   {
    "duration": 5,
    "start_time": "2024-06-27T20:07:40.445Z"
   },
   {
    "duration": 1452,
    "start_time": "2024-06-27T20:07:40.451Z"
   },
   {
    "duration": 1485,
    "start_time": "2024-06-27T20:07:41.905Z"
   },
   {
    "duration": 6,
    "start_time": "2024-06-27T20:07:43.392Z"
   },
   {
    "duration": 1241,
    "start_time": "2024-06-27T20:07:43.400Z"
   },
   {
    "duration": 107,
    "start_time": "2024-06-27T20:07:44.643Z"
   },
   {
    "duration": 3,
    "start_time": "2024-06-27T20:07:44.752Z"
   },
   {
    "duration": 15,
    "start_time": "2024-06-27T20:07:44.757Z"
   },
   {
    "duration": 34,
    "start_time": "2024-06-27T20:07:44.773Z"
   },
   {
    "duration": 16,
    "start_time": "2024-06-27T20:07:44.809Z"
   },
   {
    "duration": 63,
    "start_time": "2024-06-27T20:07:44.827Z"
   },
   {
    "duration": 128,
    "start_time": "2024-06-27T20:07:44.892Z"
   },
   {
    "duration": 0,
    "start_time": "2024-06-27T20:07:45.022Z"
   },
   {
    "duration": 0,
    "start_time": "2024-06-27T20:07:45.023Z"
   },
   {
    "duration": 0,
    "start_time": "2024-06-27T20:07:45.024Z"
   },
   {
    "duration": 0,
    "start_time": "2024-06-27T20:07:45.026Z"
   },
   {
    "duration": 9111,
    "start_time": "2024-06-27T20:08:56.017Z"
   },
   {
    "duration": 10,
    "start_time": "2024-06-27T20:09:07.868Z"
   },
   {
    "duration": 14,
    "start_time": "2024-06-27T20:09:40.233Z"
   },
   {
    "duration": 9,
    "start_time": "2024-06-27T20:09:44.603Z"
   },
   {
    "duration": 17,
    "start_time": "2024-06-27T20:09:48.531Z"
   },
   {
    "duration": 10,
    "start_time": "2024-06-27T20:09:51.716Z"
   },
   {
    "duration": 10994,
    "start_time": "2024-06-27T20:10:07.222Z"
   },
   {
    "duration": 44,
    "start_time": "2024-06-27T20:10:19.441Z"
   },
   {
    "duration": 9769,
    "start_time": "2024-06-27T20:10:37.506Z"
   },
   {
    "duration": 1833,
    "start_time": "2024-06-27T20:10:47.278Z"
   },
   {
    "duration": 993,
    "start_time": "2024-06-27T20:10:49.112Z"
   },
   {
    "duration": 268,
    "start_time": "2024-06-27T20:10:50.109Z"
   },
   {
    "duration": 127,
    "start_time": "2024-06-27T20:10:50.378Z"
   },
   {
    "duration": 81655,
    "start_time": "2024-06-27T20:10:50.507Z"
   },
   {
    "duration": 6,
    "start_time": "2024-06-27T20:12:12.164Z"
   },
   {
    "duration": 63679,
    "start_time": "2024-06-27T20:12:12.172Z"
   },
   {
    "duration": 7,
    "start_time": "2024-06-27T20:13:15.852Z"
   },
   {
    "duration": 31,
    "start_time": "2024-06-27T20:13:15.866Z"
   },
   {
    "duration": 1402,
    "start_time": "2024-06-27T20:13:15.898Z"
   },
   {
    "duration": 1506,
    "start_time": "2024-06-27T20:13:17.302Z"
   },
   {
    "duration": 7,
    "start_time": "2024-06-27T20:13:18.809Z"
   },
   {
    "duration": 1250,
    "start_time": "2024-06-27T20:13:18.817Z"
   },
   {
    "duration": 109,
    "start_time": "2024-06-27T20:13:20.068Z"
   },
   {
    "duration": 4,
    "start_time": "2024-06-27T20:13:20.179Z"
   },
   {
    "duration": 20,
    "start_time": "2024-06-27T20:13:20.184Z"
   },
   {
    "duration": 18,
    "start_time": "2024-06-27T20:13:20.206Z"
   },
   {
    "duration": 21,
    "start_time": "2024-06-27T20:13:20.225Z"
   },
   {
    "duration": 56,
    "start_time": "2024-06-27T20:13:20.247Z"
   },
   {
    "duration": 8814,
    "start_time": "2024-06-27T20:13:20.305Z"
   },
   {
    "duration": 6,
    "start_time": "2024-06-27T20:13:29.120Z"
   },
   {
    "duration": 57,
    "start_time": "2024-06-27T20:13:29.127Z"
   },
   {
    "duration": 353314,
    "start_time": "2024-06-27T20:13:29.186Z"
   },
   {
    "duration": 0,
    "start_time": "2024-06-27T20:19:22.501Z"
   },
   {
    "duration": 11,
    "start_time": "2024-06-27T20:23:57.601Z"
   },
   {
    "duration": 2,
    "start_time": "2024-06-27T20:24:29.107Z"
   },
   {
    "duration": 37,
    "start_time": "2024-06-27T20:24:29.788Z"
   },
   {
    "duration": 102,
    "start_time": "2024-06-27T20:24:45.820Z"
   },
   {
    "duration": 648994,
    "start_time": "2024-06-27T20:25:49.189Z"
   },
   {
    "duration": 3,
    "start_time": "2024-06-27T20:36:38.185Z"
   },
   {
    "duration": 16847,
    "start_time": "2024-06-29T15:57:09.806Z"
   },
   {
    "duration": 1890,
    "start_time": "2024-06-29T15:57:26.655Z"
   },
   {
    "duration": 3132,
    "start_time": "2024-06-29T15:57:28.546Z"
   },
   {
    "duration": 240,
    "start_time": "2024-06-29T15:57:31.680Z"
   },
   {
    "duration": 99,
    "start_time": "2024-06-29T15:57:31.922Z"
   },
   {
    "duration": 79466,
    "start_time": "2024-06-29T15:57:32.022Z"
   },
   {
    "duration": 5,
    "start_time": "2024-06-29T15:58:51.490Z"
   },
   {
    "duration": 60527,
    "start_time": "2024-06-29T15:58:51.497Z"
   },
   {
    "duration": 7,
    "start_time": "2024-06-29T15:59:52.025Z"
   },
   {
    "duration": 57,
    "start_time": "2024-06-29T15:59:52.036Z"
   },
   {
    "duration": 1366,
    "start_time": "2024-06-29T15:59:52.094Z"
   },
   {
    "duration": 1328,
    "start_time": "2024-06-29T15:59:53.462Z"
   },
   {
    "duration": 6,
    "start_time": "2024-06-29T15:59:54.791Z"
   },
   {
    "duration": 1178,
    "start_time": "2024-06-29T15:59:54.809Z"
   },
   {
    "duration": 99,
    "start_time": "2024-06-29T15:59:55.988Z"
   },
   {
    "duration": 42,
    "start_time": "2024-06-29T15:59:56.088Z"
   },
   {
    "duration": 19,
    "start_time": "2024-06-29T15:59:56.131Z"
   },
   {
    "duration": 26,
    "start_time": "2024-06-29T15:59:56.151Z"
   },
   {
    "duration": 20,
    "start_time": "2024-06-29T15:59:56.178Z"
   },
   {
    "duration": 157,
    "start_time": "2024-06-29T15:59:56.199Z"
   },
   {
    "duration": 7937,
    "start_time": "2024-06-29T15:59:56.358Z"
   },
   {
    "duration": 5,
    "start_time": "2024-06-29T16:00:04.296Z"
   },
   {
    "duration": 48,
    "start_time": "2024-06-29T16:00:04.309Z"
   },
   {
    "duration": 475943,
    "start_time": "2024-06-29T16:00:04.358Z"
   },
   {
    "duration": 7,
    "start_time": "2024-06-29T16:08:00.302Z"
   },
   {
    "duration": 52,
    "start_time": "2024-06-29T19:50:46.001Z"
   },
   {
    "duration": 12028,
    "start_time": "2024-06-29T19:52:42.564Z"
   },
   {
    "duration": 2480,
    "start_time": "2024-06-29T19:52:54.594Z"
   },
   {
    "duration": 3249,
    "start_time": "2024-06-29T19:52:57.076Z"
   },
   {
    "duration": 255,
    "start_time": "2024-06-29T19:53:00.327Z"
   },
   {
    "duration": 109,
    "start_time": "2024-06-29T19:53:00.583Z"
   },
   {
    "duration": 84331,
    "start_time": "2024-06-29T19:53:00.694Z"
   },
   {
    "duration": 9,
    "start_time": "2024-06-29T19:54:25.027Z"
   },
   {
    "duration": 62907,
    "start_time": "2024-06-29T19:54:25.037Z"
   },
   {
    "duration": 6,
    "start_time": "2024-06-29T19:55:27.946Z"
   },
   {
    "duration": 13,
    "start_time": "2024-06-29T19:55:27.954Z"
   },
   {
    "duration": 1408,
    "start_time": "2024-06-29T19:55:27.969Z"
   },
   {
    "duration": 1456,
    "start_time": "2024-06-29T19:55:29.379Z"
   },
   {
    "duration": 7,
    "start_time": "2024-06-29T19:55:30.836Z"
   },
   {
    "duration": 1249,
    "start_time": "2024-06-29T19:55:30.844Z"
   },
   {
    "duration": 103,
    "start_time": "2024-06-29T19:55:32.094Z"
   },
   {
    "duration": 4,
    "start_time": "2024-06-29T19:55:32.198Z"
   },
   {
    "duration": 17,
    "start_time": "2024-06-29T19:55:32.210Z"
   },
   {
    "duration": 16,
    "start_time": "2024-06-29T19:55:32.228Z"
   },
   {
    "duration": 25,
    "start_time": "2024-06-29T19:55:32.246Z"
   },
   {
    "duration": 56,
    "start_time": "2024-06-29T19:55:32.272Z"
   },
   {
    "duration": 8219,
    "start_time": "2024-06-29T19:55:32.329Z"
   },
   {
    "duration": 7,
    "start_time": "2024-06-29T19:55:40.549Z"
   },
   {
    "duration": 5,
    "start_time": "2024-06-29T19:55:40.557Z"
   },
   {
    "duration": 10953,
    "start_time": "2024-06-29T19:58:19.314Z"
   },
   {
    "duration": 1669,
    "start_time": "2024-06-29T19:58:30.269Z"
   },
   {
    "duration": 927,
    "start_time": "2024-06-29T19:58:31.940Z"
   },
   {
    "duration": 262,
    "start_time": "2024-06-29T19:58:32.868Z"
   },
   {
    "duration": 104,
    "start_time": "2024-06-29T19:58:33.132Z"
   },
   {
    "duration": 84661,
    "start_time": "2024-06-29T19:58:33.238Z"
   },
   {
    "duration": 9,
    "start_time": "2024-06-29T19:59:57.901Z"
   },
   {
    "duration": 62930,
    "start_time": "2024-06-29T19:59:57.911Z"
   },
   {
    "duration": 6,
    "start_time": "2024-06-29T20:01:00.843Z"
   },
   {
    "duration": 84,
    "start_time": "2024-06-29T20:01:00.850Z"
   },
   {
    "duration": 1482,
    "start_time": "2024-06-29T20:01:00.936Z"
   },
   {
    "duration": 1395,
    "start_time": "2024-06-29T20:01:02.419Z"
   },
   {
    "duration": 8,
    "start_time": "2024-06-29T20:01:03.816Z"
   },
   {
    "duration": 1200,
    "start_time": "2024-06-29T20:01:03.828Z"
   },
   {
    "duration": 107,
    "start_time": "2024-06-29T20:01:05.030Z"
   },
   {
    "duration": 4,
    "start_time": "2024-06-29T20:01:05.138Z"
   },
   {
    "duration": 69,
    "start_time": "2024-06-29T20:01:05.143Z"
   },
   {
    "duration": 26,
    "start_time": "2024-06-29T20:01:05.213Z"
   },
   {
    "duration": 11,
    "start_time": "2024-06-29T20:01:05.240Z"
   },
   {
    "duration": 52,
    "start_time": "2024-06-29T20:01:05.252Z"
   },
   {
    "duration": 8058,
    "start_time": "2024-06-29T20:01:05.306Z"
   },
   {
    "duration": 5,
    "start_time": "2024-06-29T20:01:13.366Z"
   },
   {
    "duration": 8,
    "start_time": "2024-06-29T20:01:13.372Z"
   },
   {
    "duration": 168758,
    "start_time": "2024-06-29T20:01:13.382Z"
   },
   {
    "duration": 4,
    "start_time": "2024-06-29T20:04:02.142Z"
   },
   {
    "duration": 10972,
    "start_time": "2024-06-30T12:54:50.139Z"
   },
   {
    "duration": 2550,
    "start_time": "2024-06-30T12:55:01.113Z"
   },
   {
    "duration": 4,
    "start_time": "2024-06-30T12:55:03.664Z"
   },
   {
    "duration": 7,
    "start_time": "2024-06-30T12:55:03.670Z"
   },
   {
    "duration": 3,
    "start_time": "2024-06-30T12:55:03.679Z"
   },
   {
    "duration": 21,
    "start_time": "2024-06-30T12:55:03.683Z"
   },
   {
    "duration": 3218,
    "start_time": "2024-06-30T12:55:03.705Z"
   },
   {
    "duration": 252,
    "start_time": "2024-06-30T12:55:06.925Z"
   },
   {
    "duration": 111,
    "start_time": "2024-06-30T12:55:07.179Z"
   },
   {
    "duration": 80351,
    "start_time": "2024-06-30T12:55:07.293Z"
   },
   {
    "duration": 60312,
    "start_time": "2024-06-30T12:56:27.645Z"
   },
   {
    "duration": 6,
    "start_time": "2024-06-30T12:57:27.959Z"
   },
   {
    "duration": 1332,
    "start_time": "2024-06-30T12:57:27.967Z"
   },
   {
    "duration": 1298,
    "start_time": "2024-06-30T12:57:29.300Z"
   },
   {
    "duration": 1127,
    "start_time": "2024-06-30T12:57:30.600Z"
   },
   {
    "duration": 101,
    "start_time": "2024-06-30T12:57:31.728Z"
   },
   {
    "duration": 8,
    "start_time": "2024-06-30T12:57:31.830Z"
   },
   {
    "duration": 22,
    "start_time": "2024-06-30T12:57:31.840Z"
   },
   {
    "duration": 99,
    "start_time": "2024-06-30T12:57:31.864Z"
   },
   {
    "duration": 7884,
    "start_time": "2024-06-30T12:57:31.964Z"
   },
   {
    "duration": 6,
    "start_time": "2024-06-30T12:57:39.849Z"
   },
   {
    "duration": 20,
    "start_time": "2024-06-30T12:57:39.856Z"
   },
   {
    "duration": 788565,
    "start_time": "2024-06-30T12:57:39.878Z"
   },
   {
    "duration": 0,
    "start_time": "2024-06-30T13:10:48.444Z"
   },
   {
    "duration": 0,
    "start_time": "2024-06-30T13:10:48.445Z"
   },
   {
    "duration": 0,
    "start_time": "2024-06-30T13:10:48.446Z"
   },
   {
    "duration": 0,
    "start_time": "2024-06-30T13:10:48.447Z"
   },
   {
    "duration": 3,
    "start_time": "2024-06-30T13:10:58.098Z"
   },
   {
    "duration": 2799,
    "start_time": "2024-06-30T13:11:00.339Z"
   },
   {
    "duration": 7,
    "start_time": "2024-06-30T13:12:20.577Z"
   },
   {
    "duration": 5,
    "start_time": "2024-06-30T13:15:59.994Z"
   },
   {
    "duration": 12327,
    "start_time": "2024-06-30T13:19:58.787Z"
   },
   {
    "duration": 1771,
    "start_time": "2024-06-30T13:20:11.117Z"
   },
   {
    "duration": 4,
    "start_time": "2024-06-30T13:20:12.890Z"
   },
   {
    "duration": 15,
    "start_time": "2024-06-30T13:20:12.896Z"
   },
   {
    "duration": 11,
    "start_time": "2024-06-30T13:20:12.912Z"
   },
   {
    "duration": 8,
    "start_time": "2024-06-30T13:20:12.925Z"
   },
   {
    "duration": 5,
    "start_time": "2024-06-30T13:20:12.934Z"
   },
   {
    "duration": 963,
    "start_time": "2024-06-30T13:20:12.940Z"
   },
   {
    "duration": 259,
    "start_time": "2024-06-30T13:20:13.905Z"
   },
   {
    "duration": 104,
    "start_time": "2024-06-30T13:20:14.167Z"
   },
   {
    "duration": 80096,
    "start_time": "2024-06-30T13:20:14.272Z"
   },
   {
    "duration": 59789,
    "start_time": "2024-06-30T13:21:34.370Z"
   },
   {
    "duration": 6,
    "start_time": "2024-06-30T13:22:34.161Z"
   },
   {
    "duration": 1343,
    "start_time": "2024-06-30T13:22:34.168Z"
   },
   {
    "duration": 1308,
    "start_time": "2024-06-30T13:22:35.513Z"
   },
   {
    "duration": 1123,
    "start_time": "2024-06-30T13:22:36.823Z"
   },
   {
    "duration": 97,
    "start_time": "2024-06-30T13:22:37.948Z"
   },
   {
    "duration": 3,
    "start_time": "2024-06-30T13:22:38.046Z"
   },
   {
    "duration": 2748,
    "start_time": "2024-06-30T13:22:38.051Z"
   },
   {
    "duration": 10,
    "start_time": "2024-06-30T13:22:40.801Z"
   },
   {
    "duration": 10,
    "start_time": "2024-06-30T13:22:40.813Z"
   },
   {
    "duration": 47,
    "start_time": "2024-06-30T13:22:40.824Z"
   },
   {
    "duration": 46,
    "start_time": "2024-06-30T13:22:40.872Z"
   },
   {
    "duration": 7978,
    "start_time": "2024-06-30T13:22:40.920Z"
   },
   {
    "duration": 10,
    "start_time": "2024-06-30T13:22:48.900Z"
   },
   {
    "duration": 11,
    "start_time": "2024-06-30T13:22:48.911Z"
   },
   {
    "duration": 10504631,
    "start_time": "2024-06-30T13:22:48.923Z"
   },
   {
    "duration": 0,
    "start_time": "2024-06-30T16:17:53.556Z"
   },
   {
    "duration": 0,
    "start_time": "2024-06-30T16:17:53.557Z"
   },
   {
    "duration": 0,
    "start_time": "2024-06-30T16:17:53.558Z"
   },
   {
    "duration": 0,
    "start_time": "2024-06-30T16:17:53.559Z"
   },
   {
    "duration": 96,
    "start_time": "2024-06-30T16:18:09.671Z"
   },
   {
    "duration": 11021,
    "start_time": "2024-06-30T16:18:27.608Z"
   },
   {
    "duration": 1701,
    "start_time": "2024-06-30T16:18:38.631Z"
   },
   {
    "duration": 4,
    "start_time": "2024-06-30T16:18:40.333Z"
   },
   {
    "duration": 11,
    "start_time": "2024-06-30T16:18:40.338Z"
   },
   {
    "duration": 35,
    "start_time": "2024-06-30T16:18:40.350Z"
   },
   {
    "duration": 18,
    "start_time": "2024-06-30T16:18:40.386Z"
   },
   {
    "duration": 4,
    "start_time": "2024-06-30T16:18:40.406Z"
   },
   {
    "duration": 948,
    "start_time": "2024-06-30T16:18:40.411Z"
   },
   {
    "duration": 253,
    "start_time": "2024-06-30T16:18:41.361Z"
   },
   {
    "duration": 101,
    "start_time": "2024-06-30T16:18:41.616Z"
   },
   {
    "duration": 81764,
    "start_time": "2024-06-30T16:18:41.718Z"
   },
   {
    "duration": 60567,
    "start_time": "2024-06-30T16:20:03.484Z"
   },
   {
    "duration": 7,
    "start_time": "2024-06-30T16:21:04.052Z"
   },
   {
    "duration": 1361,
    "start_time": "2024-06-30T16:21:04.060Z"
   },
   {
    "duration": 1337,
    "start_time": "2024-06-30T16:21:05.422Z"
   },
   {
    "duration": 1158,
    "start_time": "2024-06-30T16:21:06.761Z"
   },
   {
    "duration": 106,
    "start_time": "2024-06-30T16:21:07.920Z"
   },
   {
    "duration": 3,
    "start_time": "2024-06-30T16:21:08.028Z"
   },
   {
    "duration": 2757,
    "start_time": "2024-06-30T16:21:08.032Z"
   },
   {
    "duration": 5,
    "start_time": "2024-06-30T16:21:10.791Z"
   },
   {
    "duration": 226,
    "start_time": "2024-06-30T16:21:10.797Z"
   },
   {
    "duration": 0,
    "start_time": "2024-06-30T16:21:11.025Z"
   },
   {
    "duration": 0,
    "start_time": "2024-06-30T16:21:11.026Z"
   },
   {
    "duration": 0,
    "start_time": "2024-06-30T16:21:11.027Z"
   },
   {
    "duration": 0,
    "start_time": "2024-06-30T16:21:11.029Z"
   },
   {
    "duration": 0,
    "start_time": "2024-06-30T16:21:11.030Z"
   },
   {
    "duration": 0,
    "start_time": "2024-06-30T16:21:11.031Z"
   },
   {
    "duration": 0,
    "start_time": "2024-06-30T16:21:11.032Z"
   },
   {
    "duration": 0,
    "start_time": "2024-06-30T16:21:11.033Z"
   },
   {
    "duration": 0,
    "start_time": "2024-06-30T16:21:11.034Z"
   },
   {
    "duration": 0,
    "start_time": "2024-06-30T16:21:11.035Z"
   },
   {
    "duration": 84,
    "start_time": "2024-06-30T16:22:48.454Z"
   },
   {
    "duration": 14,
    "start_time": "2024-06-30T16:22:56.794Z"
   },
   {
    "duration": 4,
    "start_time": "2024-06-30T16:23:15.032Z"
   },
   {
    "duration": 5,
    "start_time": "2024-06-30T16:23:39.932Z"
   },
   {
    "duration": 6,
    "start_time": "2024-06-30T16:23:59.490Z"
   },
   {
    "duration": 2526,
    "start_time": "2024-06-30T16:26:11.339Z"
   },
   {
    "duration": 6,
    "start_time": "2024-06-30T16:26:18.708Z"
   },
   {
    "duration": 6,
    "start_time": "2024-06-30T16:26:21.106Z"
   },
   {
    "duration": 24,
    "start_time": "2024-06-30T16:26:47.179Z"
   },
   {
    "duration": 25,
    "start_time": "2024-06-30T16:27:37.074Z"
   },
   {
    "duration": 7,
    "start_time": "2024-06-30T16:27:52.947Z"
   },
   {
    "duration": 8,
    "start_time": "2024-06-30T16:27:54.613Z"
   },
   {
    "duration": 44,
    "start_time": "2024-06-30T16:27:56.851Z"
   },
   {
    "duration": 7902,
    "start_time": "2024-06-30T16:28:04.509Z"
   },
   {
    "duration": 3,
    "start_time": "2024-06-30T16:28:23.107Z"
   },
   {
    "duration": 8,
    "start_time": "2024-06-30T16:28:46.196Z"
   },
   {
    "duration": 11108,
    "start_time": "2024-06-30T16:29:21.803Z"
   },
   {
    "duration": 1745,
    "start_time": "2024-06-30T16:29:32.913Z"
   },
   {
    "duration": 3,
    "start_time": "2024-06-30T16:29:34.660Z"
   },
   {
    "duration": 6,
    "start_time": "2024-06-30T16:29:34.665Z"
   },
   {
    "duration": 5,
    "start_time": "2024-06-30T16:29:34.673Z"
   },
   {
    "duration": 14,
    "start_time": "2024-06-30T16:29:34.679Z"
   },
   {
    "duration": 9,
    "start_time": "2024-06-30T16:29:34.694Z"
   },
   {
    "duration": 974,
    "start_time": "2024-06-30T16:29:34.709Z"
   },
   {
    "duration": 247,
    "start_time": "2024-06-30T16:29:35.684Z"
   },
   {
    "duration": 104,
    "start_time": "2024-06-30T16:29:35.933Z"
   },
   {
    "duration": 82439,
    "start_time": "2024-06-30T16:29:36.038Z"
   },
   {
    "duration": 61631,
    "start_time": "2024-06-30T16:30:58.478Z"
   },
   {
    "duration": 7,
    "start_time": "2024-06-30T16:32:00.110Z"
   },
   {
    "duration": 1452,
    "start_time": "2024-06-30T16:32:00.118Z"
   },
   {
    "duration": 1361,
    "start_time": "2024-06-30T16:32:01.572Z"
   },
   {
    "duration": 1136,
    "start_time": "2024-06-30T16:32:02.934Z"
   },
   {
    "duration": 98,
    "start_time": "2024-06-30T16:32:04.073Z"
   },
   {
    "duration": 3,
    "start_time": "2024-06-30T16:32:04.174Z"
   },
   {
    "duration": 2582,
    "start_time": "2024-06-30T16:32:04.179Z"
   },
   {
    "duration": 5,
    "start_time": "2024-06-30T16:32:06.762Z"
   },
   {
    "duration": 17,
    "start_time": "2024-06-30T16:32:06.768Z"
   },
   {
    "duration": 139,
    "start_time": "2024-06-30T16:32:06.786Z"
   },
   {
    "duration": 0,
    "start_time": "2024-06-30T16:32:06.927Z"
   },
   {
    "duration": 0,
    "start_time": "2024-06-30T16:32:06.928Z"
   },
   {
    "duration": 0,
    "start_time": "2024-06-30T16:32:06.929Z"
   },
   {
    "duration": 0,
    "start_time": "2024-06-30T16:32:06.930Z"
   },
   {
    "duration": 0,
    "start_time": "2024-06-30T16:32:06.931Z"
   },
   {
    "duration": 0,
    "start_time": "2024-06-30T16:32:06.932Z"
   },
   {
    "duration": 0,
    "start_time": "2024-06-30T16:32:06.933Z"
   },
   {
    "duration": 0,
    "start_time": "2024-06-30T16:32:06.935Z"
   },
   {
    "duration": 0,
    "start_time": "2024-06-30T16:32:06.936Z"
   },
   {
    "duration": 0,
    "start_time": "2024-06-30T16:32:06.938Z"
   },
   {
    "duration": 0,
    "start_time": "2024-06-30T16:32:06.939Z"
   },
   {
    "duration": 0,
    "start_time": "2024-06-30T16:32:06.940Z"
   },
   {
    "duration": 0,
    "start_time": "2024-06-30T16:32:06.941Z"
   },
   {
    "duration": 11133,
    "start_time": "2024-06-30T18:37:54.286Z"
   },
   {
    "duration": 1741,
    "start_time": "2024-06-30T18:38:05.421Z"
   },
   {
    "duration": 4,
    "start_time": "2024-06-30T18:38:07.163Z"
   },
   {
    "duration": 9,
    "start_time": "2024-06-30T18:38:07.168Z"
   },
   {
    "duration": 5,
    "start_time": "2024-06-30T18:38:07.178Z"
   },
   {
    "duration": 5,
    "start_time": "2024-06-30T18:38:07.184Z"
   },
   {
    "duration": 3,
    "start_time": "2024-06-30T18:38:07.190Z"
   },
   {
    "duration": 961,
    "start_time": "2024-06-30T18:38:07.208Z"
   },
   {
    "duration": 260,
    "start_time": "2024-06-30T18:38:08.171Z"
   },
   {
    "duration": 101,
    "start_time": "2024-06-30T18:38:08.433Z"
   },
   {
    "duration": 79469,
    "start_time": "2024-06-30T18:38:08.535Z"
   },
   {
    "duration": 60255,
    "start_time": "2024-06-30T18:39:28.006Z"
   },
   {
    "duration": 6,
    "start_time": "2024-06-30T18:40:28.263Z"
   },
   {
    "duration": 1362,
    "start_time": "2024-06-30T18:40:28.270Z"
   },
   {
    "duration": 1336,
    "start_time": "2024-06-30T18:40:29.634Z"
   },
   {
    "duration": 1133,
    "start_time": "2024-06-30T18:40:30.972Z"
   },
   {
    "duration": 101,
    "start_time": "2024-06-30T18:40:32.109Z"
   },
   {
    "duration": 4,
    "start_time": "2024-06-30T18:40:32.211Z"
   },
   {
    "duration": 2496,
    "start_time": "2024-06-30T18:40:32.217Z"
   },
   {
    "duration": 5,
    "start_time": "2024-06-30T18:40:34.714Z"
   },
   {
    "duration": 4,
    "start_time": "2024-06-30T18:40:34.720Z"
   },
   {
    "duration": 146,
    "start_time": "2024-06-30T18:40:34.725Z"
   },
   {
    "duration": 0,
    "start_time": "2024-06-30T18:40:34.873Z"
   },
   {
    "duration": 0,
    "start_time": "2024-06-30T18:40:34.874Z"
   },
   {
    "duration": 0,
    "start_time": "2024-06-30T18:40:34.875Z"
   },
   {
    "duration": 0,
    "start_time": "2024-06-30T18:40:34.876Z"
   },
   {
    "duration": 0,
    "start_time": "2024-06-30T18:40:34.876Z"
   },
   {
    "duration": 0,
    "start_time": "2024-06-30T18:40:34.877Z"
   },
   {
    "duration": 0,
    "start_time": "2024-06-30T18:40:34.878Z"
   },
   {
    "duration": 0,
    "start_time": "2024-06-30T18:40:34.879Z"
   },
   {
    "duration": 0,
    "start_time": "2024-06-30T18:40:34.880Z"
   },
   {
    "duration": 0,
    "start_time": "2024-06-30T18:40:34.881Z"
   },
   {
    "duration": 0,
    "start_time": "2024-06-30T18:40:34.882Z"
   },
   {
    "duration": 0,
    "start_time": "2024-06-30T18:40:34.884Z"
   },
   {
    "duration": 0,
    "start_time": "2024-06-30T18:40:34.884Z"
   },
   {
    "duration": 10876,
    "start_time": "2024-06-30T18:49:31.844Z"
   },
   {
    "duration": 1645,
    "start_time": "2024-06-30T18:49:42.722Z"
   },
   {
    "duration": 3,
    "start_time": "2024-06-30T18:49:44.369Z"
   },
   {
    "duration": 13,
    "start_time": "2024-06-30T18:49:44.374Z"
   },
   {
    "duration": 4,
    "start_time": "2024-06-30T18:49:44.388Z"
   },
   {
    "duration": 47,
    "start_time": "2024-06-30T18:49:44.393Z"
   },
   {
    "duration": 24,
    "start_time": "2024-06-30T18:49:44.441Z"
   },
   {
    "duration": 935,
    "start_time": "2024-06-30T18:49:44.466Z"
   },
   {
    "duration": 260,
    "start_time": "2024-06-30T18:49:45.402Z"
   },
   {
    "duration": 101,
    "start_time": "2024-06-30T18:49:45.665Z"
   },
   {
    "duration": 80191,
    "start_time": "2024-06-30T18:49:45.768Z"
   },
   {
    "duration": 60967,
    "start_time": "2024-06-30T18:51:05.961Z"
   },
   {
    "duration": 6,
    "start_time": "2024-06-30T18:52:06.930Z"
   },
   {
    "duration": 1372,
    "start_time": "2024-06-30T18:52:06.937Z"
   },
   {
    "duration": 1366,
    "start_time": "2024-06-30T18:52:08.310Z"
   },
   {
    "duration": 1124,
    "start_time": "2024-06-30T18:52:09.678Z"
   },
   {
    "duration": 107,
    "start_time": "2024-06-30T18:52:10.804Z"
   },
   {
    "duration": 3,
    "start_time": "2024-06-30T18:52:10.913Z"
   },
   {
    "duration": 2573,
    "start_time": "2024-06-30T18:52:10.918Z"
   },
   {
    "duration": 16,
    "start_time": "2024-06-30T18:52:13.493Z"
   },
   {
    "duration": 11,
    "start_time": "2024-06-30T18:52:13.511Z"
   },
   {
    "duration": 27,
    "start_time": "2024-06-30T18:52:13.523Z"
   },
   {
    "duration": 7,
    "start_time": "2024-06-30T18:52:13.551Z"
   },
   {
    "duration": 13,
    "start_time": "2024-06-30T18:52:13.559Z"
   },
   {
    "duration": 36,
    "start_time": "2024-06-30T18:52:13.573Z"
   },
   {
    "duration": 49,
    "start_time": "2024-06-30T18:52:13.611Z"
   },
   {
    "duration": 2252,
    "start_time": "2024-06-30T18:52:13.661Z"
   },
   {
    "duration": 0,
    "start_time": "2024-06-30T18:52:15.915Z"
   },
   {
    "duration": 0,
    "start_time": "2024-06-30T18:52:15.917Z"
   },
   {
    "duration": 0,
    "start_time": "2024-06-30T18:52:15.918Z"
   },
   {
    "duration": 0,
    "start_time": "2024-06-30T18:52:15.919Z"
   },
   {
    "duration": 1,
    "start_time": "2024-06-30T18:52:15.920Z"
   },
   {
    "duration": 0,
    "start_time": "2024-06-30T18:52:15.922Z"
   },
   {
    "duration": 0,
    "start_time": "2024-06-30T18:52:15.923Z"
   },
   {
    "duration": 0,
    "start_time": "2024-06-30T18:52:15.924Z"
   },
   {
    "duration": 10,
    "start_time": "2024-06-30T19:14:45.900Z"
   },
   {
    "duration": 10794,
    "start_time": "2024-06-30T19:14:53.326Z"
   },
   {
    "duration": 1680,
    "start_time": "2024-06-30T19:15:04.123Z"
   },
   {
    "duration": 4,
    "start_time": "2024-06-30T19:15:05.805Z"
   },
   {
    "duration": 46,
    "start_time": "2024-06-30T19:15:05.811Z"
   },
   {
    "duration": 14,
    "start_time": "2024-06-30T19:15:05.859Z"
   },
   {
    "duration": 11,
    "start_time": "2024-06-30T19:15:05.874Z"
   },
   {
    "duration": 5,
    "start_time": "2024-06-30T19:15:05.886Z"
   },
   {
    "duration": 922,
    "start_time": "2024-06-30T19:15:05.892Z"
   },
   {
    "duration": 251,
    "start_time": "2024-06-30T19:15:06.815Z"
   },
   {
    "duration": 95,
    "start_time": "2024-06-30T19:15:07.069Z"
   },
   {
    "duration": 78281,
    "start_time": "2024-06-30T19:15:07.166Z"
   },
   {
    "duration": 59475,
    "start_time": "2024-06-30T19:16:25.449Z"
   },
   {
    "duration": 7,
    "start_time": "2024-06-30T19:17:24.925Z"
   },
   {
    "duration": 1312,
    "start_time": "2024-06-30T19:17:24.934Z"
   },
   {
    "duration": 1334,
    "start_time": "2024-06-30T19:17:26.248Z"
   },
   {
    "duration": 1103,
    "start_time": "2024-06-30T19:17:27.583Z"
   },
   {
    "duration": 97,
    "start_time": "2024-06-30T19:17:28.687Z"
   },
   {
    "duration": 3,
    "start_time": "2024-06-30T19:17:28.785Z"
   },
   {
    "duration": 2509,
    "start_time": "2024-06-30T19:17:28.789Z"
   },
   {
    "duration": 11,
    "start_time": "2024-06-30T19:17:31.300Z"
   },
   {
    "duration": 45,
    "start_time": "2024-06-30T19:17:31.312Z"
   },
   {
    "duration": 83,
    "start_time": "2024-06-30T19:17:31.359Z"
   },
   {
    "duration": 31,
    "start_time": "2024-06-30T19:17:31.444Z"
   },
   {
    "duration": 66,
    "start_time": "2024-06-30T19:17:31.476Z"
   },
   {
    "duration": 25,
    "start_time": "2024-06-30T19:17:31.543Z"
   },
   {
    "duration": 66,
    "start_time": "2024-06-30T19:17:31.569Z"
   },
   {
    "duration": 16759,
    "start_time": "2024-07-01T08:42:54.357Z"
   },
   {
    "duration": 1880,
    "start_time": "2024-07-01T08:43:11.118Z"
   },
   {
    "duration": 3,
    "start_time": "2024-07-01T08:43:13.000Z"
   },
   {
    "duration": 25,
    "start_time": "2024-07-01T08:43:13.004Z"
   },
   {
    "duration": 8,
    "start_time": "2024-07-01T08:43:13.031Z"
   },
   {
    "duration": 6,
    "start_time": "2024-07-01T08:43:13.040Z"
   },
   {
    "duration": 9,
    "start_time": "2024-07-01T08:43:13.047Z"
   },
   {
    "duration": 2291,
    "start_time": "2024-07-01T08:43:13.057Z"
   },
   {
    "duration": 267,
    "start_time": "2024-07-01T08:43:15.350Z"
   },
   {
    "duration": 115,
    "start_time": "2024-07-01T08:43:15.620Z"
   },
   {
    "duration": 82983,
    "start_time": "2024-07-01T08:43:15.737Z"
   },
   {
    "duration": 62994,
    "start_time": "2024-07-01T08:44:38.721Z"
   },
   {
    "duration": 7,
    "start_time": "2024-07-01T08:45:41.716Z"
   },
   {
    "duration": 1384,
    "start_time": "2024-07-01T08:45:41.724Z"
   },
   {
    "duration": 1438,
    "start_time": "2024-07-01T08:45:43.111Z"
   },
   {
    "duration": 1233,
    "start_time": "2024-07-01T08:45:44.551Z"
   },
   {
    "duration": 104,
    "start_time": "2024-07-01T08:45:45.786Z"
   },
   {
    "duration": 6,
    "start_time": "2024-07-01T08:45:45.892Z"
   },
   {
    "duration": 15,
    "start_time": "2024-07-01T08:45:45.900Z"
   },
   {
    "duration": 52,
    "start_time": "2024-07-01T08:45:45.917Z"
   },
   {
    "duration": 2364,
    "start_time": "2024-07-01T08:45:45.971Z"
   },
   {
    "duration": 0,
    "start_time": "2024-07-01T08:45:48.337Z"
   },
   {
    "duration": 0,
    "start_time": "2024-07-01T08:45:48.339Z"
   },
   {
    "duration": 0,
    "start_time": "2024-07-01T08:45:48.340Z"
   },
   {
    "duration": 0,
    "start_time": "2024-07-01T08:45:48.342Z"
   },
   {
    "duration": 0,
    "start_time": "2024-07-01T08:45:48.343Z"
   },
   {
    "duration": 0,
    "start_time": "2024-07-01T08:45:48.345Z"
   },
   {
    "duration": 9,
    "start_time": "2024-07-01T10:10:39.902Z"
   },
   {
    "duration": 11443,
    "start_time": "2024-07-01T10:11:28.794Z"
   },
   {
    "duration": 1770,
    "start_time": "2024-07-01T10:11:40.240Z"
   },
   {
    "duration": 4,
    "start_time": "2024-07-01T10:11:42.012Z"
   },
   {
    "duration": 5,
    "start_time": "2024-07-01T10:11:42.017Z"
   },
   {
    "duration": 17,
    "start_time": "2024-07-01T10:11:42.023Z"
   },
   {
    "duration": 16,
    "start_time": "2024-07-01T10:11:42.041Z"
   },
   {
    "duration": 3,
    "start_time": "2024-07-01T10:11:42.059Z"
   },
   {
    "duration": 960,
    "start_time": "2024-07-01T10:11:42.064Z"
   },
   {
    "duration": 260,
    "start_time": "2024-07-01T10:11:43.026Z"
   },
   {
    "duration": 106,
    "start_time": "2024-07-01T10:11:43.288Z"
   },
   {
    "duration": 83553,
    "start_time": "2024-07-01T10:11:43.395Z"
   },
   {
    "duration": 62646,
    "start_time": "2024-07-01T10:13:06.950Z"
   },
   {
    "duration": 6,
    "start_time": "2024-07-01T10:14:09.598Z"
   },
   {
    "duration": 1409,
    "start_time": "2024-07-01T10:14:09.612Z"
   },
   {
    "duration": 1385,
    "start_time": "2024-07-01T10:14:11.023Z"
   },
   {
    "duration": 1154,
    "start_time": "2024-07-01T10:14:12.410Z"
   },
   {
    "duration": 106,
    "start_time": "2024-07-01T10:14:13.565Z"
   },
   {
    "duration": 7,
    "start_time": "2024-07-01T10:14:13.672Z"
   },
   {
    "duration": 11,
    "start_time": "2024-07-01T10:14:13.680Z"
   },
   {
    "duration": 58,
    "start_time": "2024-07-01T10:14:13.692Z"
   },
   {
    "duration": 8297,
    "start_time": "2024-07-01T10:14:13.751Z"
   },
   {
    "duration": 6,
    "start_time": "2024-07-01T10:14:22.049Z"
   },
   {
    "duration": 11,
    "start_time": "2024-07-01T10:14:22.056Z"
   },
   {
    "duration": 11495,
    "start_time": "2024-07-01T12:13:36.249Z"
   },
   {
    "duration": 1656,
    "start_time": "2024-07-01T12:13:47.746Z"
   },
   {
    "duration": 8,
    "start_time": "2024-07-01T12:13:49.404Z"
   },
   {
    "duration": 4,
    "start_time": "2024-07-01T12:13:49.414Z"
   },
   {
    "duration": 5,
    "start_time": "2024-07-01T12:13:49.420Z"
   },
   {
    "duration": 14,
    "start_time": "2024-07-01T12:13:49.426Z"
   },
   {
    "duration": 4,
    "start_time": "2024-07-01T12:13:49.441Z"
   },
   {
    "duration": 31,
    "start_time": "2024-07-01T12:13:49.447Z"
   },
   {
    "duration": 5,
    "start_time": "2024-07-01T12:13:49.479Z"
   },
   {
    "duration": 981,
    "start_time": "2024-07-01T12:13:49.486Z"
   },
   {
    "duration": 270,
    "start_time": "2024-07-01T12:13:50.469Z"
   },
   {
    "duration": 108,
    "start_time": "2024-07-01T12:13:50.741Z"
   },
   {
    "duration": 83466,
    "start_time": "2024-07-01T12:13:50.851Z"
   },
   {
    "duration": 63072,
    "start_time": "2024-07-01T12:15:14.319Z"
   },
   {
    "duration": 6,
    "start_time": "2024-07-01T12:16:17.393Z"
   },
   {
    "duration": 1401,
    "start_time": "2024-07-01T12:16:17.401Z"
   },
   {
    "duration": 1412,
    "start_time": "2024-07-01T12:16:18.804Z"
   },
   {
    "duration": 1185,
    "start_time": "2024-07-01T12:16:20.217Z"
   },
   {
    "duration": 106,
    "start_time": "2024-07-01T12:16:21.403Z"
   },
   {
    "duration": 6,
    "start_time": "2024-07-01T12:16:21.512Z"
   },
   {
    "duration": 14,
    "start_time": "2024-07-01T12:16:21.519Z"
   },
   {
    "duration": 47,
    "start_time": "2024-07-01T12:16:21.534Z"
   },
   {
    "duration": 8226,
    "start_time": "2024-07-01T12:16:21.583Z"
   },
   {
    "duration": 5,
    "start_time": "2024-07-01T12:16:29.812Z"
   },
   {
    "duration": 17,
    "start_time": "2024-07-01T12:16:29.819Z"
   },
   {
    "duration": 11349,
    "start_time": "2024-07-01T15:05:46.892Z"
   },
   {
    "duration": 1810,
    "start_time": "2024-07-01T15:05:58.244Z"
   },
   {
    "duration": 3,
    "start_time": "2024-07-01T15:06:00.056Z"
   },
   {
    "duration": 131,
    "start_time": "2024-07-01T15:06:00.061Z"
   },
   {
    "duration": 47,
    "start_time": "2024-07-01T15:06:00.194Z"
   },
   {
    "duration": 110,
    "start_time": "2024-07-01T15:06:00.242Z"
   },
   {
    "duration": 241,
    "start_time": "2024-07-01T15:06:00.354Z"
   },
   {
    "duration": 73,
    "start_time": "2024-07-01T15:06:00.596Z"
   },
   {
    "duration": 159,
    "start_time": "2024-07-01T15:06:00.670Z"
   },
   {
    "duration": 1154,
    "start_time": "2024-07-01T15:06:00.830Z"
   },
   {
    "duration": 262,
    "start_time": "2024-07-01T15:06:01.986Z"
   },
   {
    "duration": 107,
    "start_time": "2024-07-01T15:06:02.250Z"
   },
   {
    "duration": 82507,
    "start_time": "2024-07-01T15:06:02.358Z"
   },
   {
    "duration": 61595,
    "start_time": "2024-07-01T15:07:24.868Z"
   },
   {
    "duration": 6,
    "start_time": "2024-07-01T15:08:26.465Z"
   },
   {
    "duration": 1421,
    "start_time": "2024-07-01T15:08:26.472Z"
   },
   {
    "duration": 1364,
    "start_time": "2024-07-01T15:08:27.895Z"
   },
   {
    "duration": 1184,
    "start_time": "2024-07-01T15:08:29.261Z"
   },
   {
    "duration": 107,
    "start_time": "2024-07-01T15:08:30.447Z"
   },
   {
    "duration": 6,
    "start_time": "2024-07-01T15:08:30.555Z"
   },
   {
    "duration": 65,
    "start_time": "2024-07-01T15:08:30.562Z"
   },
   {
    "duration": 88,
    "start_time": "2024-07-01T15:08:30.628Z"
   },
   {
    "duration": 8287,
    "start_time": "2024-07-01T15:08:30.718Z"
   },
   {
    "duration": 5,
    "start_time": "2024-07-01T15:08:39.012Z"
   },
   {
    "duration": 4,
    "start_time": "2024-07-01T15:08:39.019Z"
   },
   {
    "duration": 163,
    "start_time": "2024-07-01T15:08:39.024Z"
   },
   {
    "duration": 0,
    "start_time": "2024-07-01T15:08:39.189Z"
   },
   {
    "duration": 0,
    "start_time": "2024-07-01T15:08:39.190Z"
   },
   {
    "duration": 0,
    "start_time": "2024-07-01T15:08:39.191Z"
   },
   {
    "duration": 0,
    "start_time": "2024-07-01T15:08:39.192Z"
   },
   {
    "duration": 0,
    "start_time": "2024-07-01T15:08:39.193Z"
   },
   {
    "duration": 0,
    "start_time": "2024-07-01T15:08:39.194Z"
   },
   {
    "duration": 0,
    "start_time": "2024-07-01T15:08:39.211Z"
   },
   {
    "duration": 0,
    "start_time": "2024-07-01T15:08:39.212Z"
   },
   {
    "duration": 1,
    "start_time": "2024-07-01T15:08:39.213Z"
   },
   {
    "duration": 0,
    "start_time": "2024-07-01T15:08:39.215Z"
   },
   {
    "duration": 5,
    "start_time": "2024-07-01T15:19:01.204Z"
   },
   {
    "duration": 11462,
    "start_time": "2024-07-01T15:19:32.993Z"
   },
   {
    "duration": 1680,
    "start_time": "2024-07-01T15:19:44.457Z"
   },
   {
    "duration": 4,
    "start_time": "2024-07-01T15:19:46.138Z"
   },
   {
    "duration": 23,
    "start_time": "2024-07-01T15:19:46.144Z"
   },
   {
    "duration": 14,
    "start_time": "2024-07-01T15:19:46.168Z"
   },
   {
    "duration": 17,
    "start_time": "2024-07-01T15:19:46.183Z"
   },
   {
    "duration": 19,
    "start_time": "2024-07-01T15:19:46.201Z"
   },
   {
    "duration": 6,
    "start_time": "2024-07-01T15:19:46.222Z"
   },
   {
    "duration": 5,
    "start_time": "2024-07-01T15:19:46.230Z"
   },
   {
    "duration": 990,
    "start_time": "2024-07-01T15:19:46.237Z"
   },
   {
    "duration": 265,
    "start_time": "2024-07-01T15:19:47.229Z"
   },
   {
    "duration": 108,
    "start_time": "2024-07-01T15:19:47.495Z"
   },
   {
    "duration": 82740,
    "start_time": "2024-07-01T15:19:47.605Z"
   },
   {
    "duration": 61874,
    "start_time": "2024-07-01T15:21:10.347Z"
   },
   {
    "duration": 6,
    "start_time": "2024-07-01T15:22:12.223Z"
   },
   {
    "duration": 1429,
    "start_time": "2024-07-01T15:22:12.231Z"
   },
   {
    "duration": 1365,
    "start_time": "2024-07-01T15:22:13.662Z"
   },
   {
    "duration": 1163,
    "start_time": "2024-07-01T15:22:15.029Z"
   },
   {
    "duration": 101,
    "start_time": "2024-07-01T15:22:16.193Z"
   },
   {
    "duration": 6,
    "start_time": "2024-07-01T15:22:16.296Z"
   },
   {
    "duration": 17,
    "start_time": "2024-07-01T15:22:16.304Z"
   },
   {
    "duration": 47,
    "start_time": "2024-07-01T15:22:16.322Z"
   },
   {
    "duration": 8139,
    "start_time": "2024-07-01T15:22:16.370Z"
   },
   {
    "duration": 5,
    "start_time": "2024-07-01T15:22:24.510Z"
   },
   {
    "duration": 36,
    "start_time": "2024-07-01T15:22:24.516Z"
   },
   {
    "duration": 11236,
    "start_time": "2024-07-01T15:31:15.064Z"
   },
   {
    "duration": 2742,
    "start_time": "2024-07-01T15:31:26.302Z"
   },
   {
    "duration": 3,
    "start_time": "2024-07-01T15:31:29.046Z"
   },
   {
    "duration": 6,
    "start_time": "2024-07-01T15:31:29.051Z"
   },
   {
    "duration": 10,
    "start_time": "2024-07-01T15:31:29.058Z"
   },
   {
    "duration": 20,
    "start_time": "2024-07-01T15:31:29.069Z"
   },
   {
    "duration": 5,
    "start_time": "2024-07-01T15:31:29.091Z"
   },
   {
    "duration": 17,
    "start_time": "2024-07-01T15:31:29.097Z"
   },
   {
    "duration": 20,
    "start_time": "2024-07-01T15:31:29.115Z"
   },
   {
    "duration": 2326,
    "start_time": "2024-07-01T15:31:29.138Z"
   },
   {
    "duration": 257,
    "start_time": "2024-07-01T15:31:31.466Z"
   },
   {
    "duration": 107,
    "start_time": "2024-07-01T15:31:31.725Z"
   },
   {
    "duration": 82485,
    "start_time": "2024-07-01T15:31:31.834Z"
   },
   {
    "duration": 62152,
    "start_time": "2024-07-01T15:32:54.320Z"
   },
   {
    "duration": 7,
    "start_time": "2024-07-01T15:33:56.474Z"
   },
   {
    "duration": 1394,
    "start_time": "2024-07-01T15:33:56.482Z"
   },
   {
    "duration": 1387,
    "start_time": "2024-07-01T15:33:57.878Z"
   },
   {
    "duration": 1174,
    "start_time": "2024-07-01T15:33:59.267Z"
   },
   {
    "duration": 105,
    "start_time": "2024-07-01T15:34:00.443Z"
   },
   {
    "duration": 6,
    "start_time": "2024-07-01T15:34:00.550Z"
   },
   {
    "duration": 71,
    "start_time": "2024-07-01T15:34:00.558Z"
   },
   {
    "duration": 105,
    "start_time": "2024-07-01T15:34:00.630Z"
   },
   {
    "duration": 8193,
    "start_time": "2024-07-01T15:34:00.737Z"
   },
   {
    "duration": 6,
    "start_time": "2024-07-01T15:34:08.932Z"
   },
   {
    "duration": 5,
    "start_time": "2024-07-01T15:34:08.939Z"
   },
   {
    "duration": 45,
    "start_time": "2024-07-01T15:40:17.417Z"
   },
   {
    "duration": 13694,
    "start_time": "2024-07-01T18:51:03.123Z"
   },
   {
    "duration": 2193,
    "start_time": "2024-07-01T18:51:16.820Z"
   },
   {
    "duration": 3,
    "start_time": "2024-07-01T18:51:19.015Z"
   },
   {
    "duration": 12,
    "start_time": "2024-07-01T18:51:19.020Z"
   },
   {
    "duration": 13,
    "start_time": "2024-07-01T18:51:19.034Z"
   },
   {
    "duration": 9,
    "start_time": "2024-07-01T18:51:19.048Z"
   },
   {
    "duration": 4,
    "start_time": "2024-07-01T18:51:19.058Z"
   },
   {
    "duration": 5,
    "start_time": "2024-07-01T18:51:19.064Z"
   },
   {
    "duration": 15,
    "start_time": "2024-07-01T18:51:19.070Z"
   },
   {
    "duration": 3329,
    "start_time": "2024-07-01T18:51:19.087Z"
   },
   {
    "duration": 257,
    "start_time": "2024-07-01T18:51:22.418Z"
   },
   {
    "duration": 115,
    "start_time": "2024-07-01T18:51:22.676Z"
   },
   {
    "duration": 90732,
    "start_time": "2024-07-01T18:51:22.793Z"
   },
   {
    "duration": 71373,
    "start_time": "2024-07-01T18:52:53.527Z"
   },
   {
    "duration": 8,
    "start_time": "2024-07-01T18:54:04.902Z"
   },
   {
    "duration": 1545,
    "start_time": "2024-07-01T18:54:04.911Z"
   },
   {
    "duration": 1655,
    "start_time": "2024-07-01T18:54:06.457Z"
   },
   {
    "duration": 1282,
    "start_time": "2024-07-01T18:54:08.114Z"
   },
   {
    "duration": 106,
    "start_time": "2024-07-01T18:54:09.398Z"
   },
   {
    "duration": 7,
    "start_time": "2024-07-01T18:54:09.506Z"
   },
   {
    "duration": 9,
    "start_time": "2024-07-01T18:54:09.515Z"
   },
   {
    "duration": 69,
    "start_time": "2024-07-01T18:54:09.525Z"
   },
   {
    "duration": 9582,
    "start_time": "2024-07-01T18:54:09.596Z"
   },
   {
    "duration": 2,
    "start_time": "2024-07-01T18:54:19.181Z"
   },
   {
    "duration": 8661,
    "start_time": "2024-07-01T19:55:38.666Z"
   },
   {
    "duration": 2025,
    "start_time": "2024-07-01T19:55:47.331Z"
   },
   {
    "duration": 3,
    "start_time": "2024-07-01T19:55:49.358Z"
   },
   {
    "duration": 4,
    "start_time": "2024-07-01T19:55:49.364Z"
   },
   {
    "duration": 13,
    "start_time": "2024-07-01T19:55:49.370Z"
   },
   {
    "duration": 7,
    "start_time": "2024-07-01T19:55:49.384Z"
   },
   {
    "duration": 10,
    "start_time": "2024-07-01T19:55:49.393Z"
   },
   {
    "duration": 11,
    "start_time": "2024-07-01T19:55:49.405Z"
   },
   {
    "duration": 7,
    "start_time": "2024-07-01T19:55:49.418Z"
   },
   {
    "duration": 1158,
    "start_time": "2024-07-01T19:55:49.428Z"
   },
   {
    "duration": 287,
    "start_time": "2024-07-01T19:55:50.589Z"
   },
   {
    "duration": 145,
    "start_time": "2024-07-01T19:55:50.878Z"
   },
   {
    "duration": 101266,
    "start_time": "2024-07-01T19:55:51.025Z"
   },
   {
    "duration": 77490,
    "start_time": "2024-07-01T19:57:32.294Z"
   },
   {
    "duration": 8,
    "start_time": "2024-07-01T19:58:49.786Z"
   },
   {
    "duration": 1678,
    "start_time": "2024-07-01T19:58:49.796Z"
   },
   {
    "duration": 1786,
    "start_time": "2024-07-01T19:58:51.476Z"
   },
   {
    "duration": 1562,
    "start_time": "2024-07-01T19:58:53.264Z"
   },
   {
    "duration": 120,
    "start_time": "2024-07-01T19:58:54.828Z"
   },
   {
    "duration": 8,
    "start_time": "2024-07-01T19:58:54.950Z"
   },
   {
    "duration": 18,
    "start_time": "2024-07-01T19:58:54.960Z"
   },
   {
    "duration": 77,
    "start_time": "2024-07-01T19:58:54.980Z"
   },
   {
    "duration": 10604,
    "start_time": "2024-07-01T19:58:55.058Z"
   },
   {
    "duration": 7,
    "start_time": "2024-07-01T19:59:05.664Z"
   },
   {
    "duration": 3593103,
    "start_time": "2024-07-01T19:59:05.673Z"
   },
   {
    "duration": 0,
    "start_time": "2024-07-01T20:58:58.780Z"
   },
   {
    "duration": 0,
    "start_time": "2024-07-01T20:58:58.781Z"
   },
   {
    "duration": 0,
    "start_time": "2024-07-01T20:58:58.782Z"
   },
   {
    "duration": 0,
    "start_time": "2024-07-01T20:58:58.784Z"
   },
   {
    "duration": 0,
    "start_time": "2024-07-01T20:58:58.785Z"
   },
   {
    "duration": 0,
    "start_time": "2024-07-01T20:58:58.786Z"
   },
   {
    "duration": 0,
    "start_time": "2024-07-01T20:58:58.787Z"
   },
   {
    "duration": 0,
    "start_time": "2024-07-01T20:58:58.790Z"
   },
   {
    "duration": 0,
    "start_time": "2024-07-01T20:58:58.793Z"
   },
   {
    "duration": 0,
    "start_time": "2024-07-01T20:58:58.794Z"
   },
   {
    "duration": 0,
    "start_time": "2024-07-01T20:58:58.795Z"
   },
   {
    "duration": 0,
    "start_time": "2024-07-01T20:58:58.796Z"
   },
   {
    "duration": 0,
    "start_time": "2024-07-01T20:58:58.797Z"
   },
   {
    "duration": 0,
    "start_time": "2024-07-01T20:58:58.798Z"
   },
   {
    "duration": 0,
    "start_time": "2024-07-01T20:58:58.799Z"
   },
   {
    "duration": 0,
    "start_time": "2024-07-01T20:58:58.800Z"
   },
   {
    "duration": 0,
    "start_time": "2024-07-01T20:58:58.801Z"
   },
   {
    "duration": 0,
    "start_time": "2024-07-01T20:58:58.802Z"
   },
   {
    "duration": 0,
    "start_time": "2024-07-01T20:58:58.803Z"
   },
   {
    "duration": 0,
    "start_time": "2024-07-01T20:58:58.805Z"
   },
   {
    "duration": 0,
    "start_time": "2024-07-01T20:58:58.805Z"
   },
   {
    "duration": 0,
    "start_time": "2024-07-01T20:58:58.806Z"
   },
   {
    "duration": 2,
    "start_time": "2024-07-01T20:59:03.301Z"
   },
   {
    "duration": 36701,
    "start_time": "2024-07-01T20:59:03.782Z"
   },
   {
    "duration": 0,
    "start_time": "2024-07-01T20:59:40.485Z"
   },
   {
    "duration": 6,
    "start_time": "2024-07-01T20:59:45.119Z"
   },
   {
    "duration": 36,
    "start_time": "2024-07-01T20:59:50.411Z"
   },
   {
    "duration": 9200,
    "start_time": "2024-07-01T22:29:55.472Z"
   },
   {
    "duration": 2670,
    "start_time": "2024-07-01T22:30:04.675Z"
   },
   {
    "duration": 7,
    "start_time": "2024-07-01T22:30:07.348Z"
   },
   {
    "duration": 28,
    "start_time": "2024-07-01T22:30:07.357Z"
   },
   {
    "duration": 25,
    "start_time": "2024-07-01T22:30:07.387Z"
   },
   {
    "duration": 5,
    "start_time": "2024-07-01T22:30:07.414Z"
   },
   {
    "duration": 3,
    "start_time": "2024-07-01T22:30:07.421Z"
   },
   {
    "duration": 1148,
    "start_time": "2024-07-01T22:30:07.426Z"
   },
   {
    "duration": 282,
    "start_time": "2024-07-01T22:30:08.576Z"
   },
   {
    "duration": 147,
    "start_time": "2024-07-01T22:30:08.861Z"
   },
   {
    "duration": 96041,
    "start_time": "2024-07-01T22:30:09.009Z"
   },
   {
    "duration": 74615,
    "start_time": "2024-07-01T22:31:45.052Z"
   },
   {
    "duration": 8,
    "start_time": "2024-07-01T22:32:59.669Z"
   },
   {
    "duration": 1722,
    "start_time": "2024-07-01T22:32:59.679Z"
   },
   {
    "duration": 1762,
    "start_time": "2024-07-01T22:33:01.402Z"
   },
   {
    "duration": 1362,
    "start_time": "2024-07-01T22:33:03.166Z"
   },
   {
    "duration": 117,
    "start_time": "2024-07-01T22:33:04.529Z"
   },
   {
    "duration": 13,
    "start_time": "2024-07-01T22:33:04.647Z"
   },
   {
    "duration": 10,
    "start_time": "2024-07-01T22:33:04.662Z"
   },
   {
    "duration": 61,
    "start_time": "2024-07-01T22:33:04.674Z"
   },
   {
    "duration": 10205,
    "start_time": "2024-07-01T22:33:04.737Z"
   },
   {
    "duration": 3,
    "start_time": "2024-07-01T22:33:14.943Z"
   },
   {
    "duration": 515126,
    "start_time": "2024-07-01T22:33:14.948Z"
   },
   {
    "duration": 5,
    "start_time": "2024-07-01T22:41:50.075Z"
   },
   {
    "duration": 11,
    "start_time": "2024-07-01T22:41:50.082Z"
   },
   {
    "duration": 13008,
    "start_time": "2024-07-02T11:36:16.512Z"
   },
   {
    "duration": 2090,
    "start_time": "2024-07-02T11:36:50.650Z"
   },
   {
    "duration": 4,
    "start_time": "2024-07-02T11:36:56.076Z"
   },
   {
    "duration": 4,
    "start_time": "2024-07-02T11:36:56.667Z"
   },
   {
    "duration": 3,
    "start_time": "2024-07-02T11:36:58.201Z"
   },
   {
    "duration": 4,
    "start_time": "2024-07-02T11:36:59.145Z"
   },
   {
    "duration": 3,
    "start_time": "2024-07-02T11:37:00.162Z"
   },
   {
    "duration": 2486,
    "start_time": "2024-07-02T11:37:05.725Z"
   },
   {
    "duration": 267,
    "start_time": "2024-07-02T11:37:08.213Z"
   },
   {
    "duration": 113,
    "start_time": "2024-07-02T11:37:10.097Z"
   },
   {
    "duration": 86379,
    "start_time": "2024-07-02T11:37:11.499Z"
   },
   {
    "duration": 67638,
    "start_time": "2024-07-02T11:38:37.880Z"
   },
   {
    "duration": 7,
    "start_time": "2024-07-02T11:41:10.484Z"
   },
   {
    "duration": 1521,
    "start_time": "2024-07-02T11:42:51.597Z"
   },
   {
    "duration": 1382,
    "start_time": "2024-07-02T11:46:47.009Z"
   },
   {
    "duration": 121,
    "start_time": "2024-07-02T11:46:48.393Z"
   },
   {
    "duration": 7,
    "start_time": "2024-07-02T11:46:55.756Z"
   },
   {
    "duration": 9,
    "start_time": "2024-07-02T11:46:58.067Z"
   },
   {
    "duration": 58,
    "start_time": "2024-07-02T11:46:58.573Z"
   },
   {
    "duration": 9729,
    "start_time": "2024-07-02T11:47:52.849Z"
   },
   {
    "duration": 3,
    "start_time": "2024-07-02T11:48:51.145Z"
   },
   {
    "duration": 642029,
    "start_time": "2024-07-02T11:48:51.862Z"
   },
   {
    "duration": 4,
    "start_time": "2024-07-02T12:02:53.688Z"
   },
   {
    "duration": 25876,
    "start_time": "2024-07-02T12:03:02.006Z"
   },
   {
    "duration": 189,
    "start_time": "2024-07-02T12:03:27.884Z"
   },
   {
    "duration": 0,
    "start_time": "2024-07-02T12:03:28.075Z"
   },
   {
    "duration": 0,
    "start_time": "2024-07-02T12:03:28.076Z"
   },
   {
    "duration": 154,
    "start_time": "2024-07-02T12:04:14.276Z"
   },
   {
    "duration": 118,
    "start_time": "2024-07-02T12:04:15.421Z"
   },
   {
    "duration": 14256,
    "start_time": "2024-07-03T19:48:29.683Z"
   },
   {
    "duration": 1896,
    "start_time": "2024-07-03T19:48:46.666Z"
   },
   {
    "duration": 3132,
    "start_time": "2024-07-03T19:51:27.570Z"
   },
   {
    "duration": 448,
    "start_time": "2024-07-03T19:52:23.681Z"
   },
   {
    "duration": 9123,
    "start_time": "2024-07-03T19:55:44.788Z"
   },
   {
    "duration": 4744,
    "start_time": "2024-07-03T19:55:53.913Z"
   },
   {
    "duration": 6,
    "start_time": "2024-07-03T19:55:58.658Z"
   },
   {
    "duration": 3241,
    "start_time": "2024-07-03T19:55:58.665Z"
   },
   {
    "duration": 260,
    "start_time": "2024-07-03T19:56:01.908Z"
   },
   {
    "duration": 100,
    "start_time": "2024-07-03T19:56:02.169Z"
   },
   {
    "duration": 2053873,
    "start_time": "2024-07-03T19:56:02.270Z"
   },
   {
    "duration": 8870,
    "start_time": "2024-07-03T20:31:20.152Z"
   },
   {
    "duration": 4810,
    "start_time": "2024-07-03T20:31:29.024Z"
   },
   {
    "duration": 997,
    "start_time": "2024-07-03T20:31:33.836Z"
   },
   {
    "duration": 264,
    "start_time": "2024-07-03T20:31:34.835Z"
   },
   {
    "duration": 108,
    "start_time": "2024-07-03T20:31:35.101Z"
   },
   {
    "duration": 9445,
    "start_time": "2024-07-03T20:31:56.104Z"
   },
   {
    "duration": 4657,
    "start_time": "2024-07-03T20:32:05.552Z"
   },
   {
    "duration": 1006,
    "start_time": "2024-07-03T20:32:10.211Z"
   },
   {
    "duration": 276,
    "start_time": "2024-07-03T20:32:11.219Z"
   },
   {
    "duration": 111,
    "start_time": "2024-07-03T20:32:11.497Z"
   },
   {
    "duration": 2043725,
    "start_time": "2024-07-03T20:32:11.610Z"
   },
   {
    "duration": 61888,
    "start_time": "2024-07-03T21:06:15.336Z"
   },
   {
    "duration": 7,
    "start_time": "2024-07-03T21:07:17.226Z"
   },
   {
    "duration": 1461,
    "start_time": "2024-07-03T21:07:17.235Z"
   },
   {
    "duration": 1344,
    "start_time": "2024-07-03T21:07:18.699Z"
   },
   {
    "duration": 123,
    "start_time": "2024-07-03T21:07:20.044Z"
   },
   {
    "duration": 6,
    "start_time": "2024-07-03T21:07:20.169Z"
   },
   {
    "duration": 12,
    "start_time": "2024-07-03T21:07:20.176Z"
   },
   {
    "duration": 56,
    "start_time": "2024-07-03T21:07:20.189Z"
   },
   {
    "duration": 335,
    "start_time": "2024-07-03T21:07:20.246Z"
   },
   {
    "duration": 0,
    "start_time": "2024-07-03T21:07:20.583Z"
   },
   {
    "duration": 0,
    "start_time": "2024-07-03T21:07:20.585Z"
   },
   {
    "duration": 0,
    "start_time": "2024-07-03T21:07:20.586Z"
   },
   {
    "duration": 0,
    "start_time": "2024-07-03T21:07:20.588Z"
   },
   {
    "duration": 0,
    "start_time": "2024-07-03T21:07:20.589Z"
   },
   {
    "duration": 0,
    "start_time": "2024-07-03T21:07:20.590Z"
   },
   {
    "duration": 0,
    "start_time": "2024-07-03T21:07:20.591Z"
   },
   {
    "duration": 0,
    "start_time": "2024-07-03T21:07:20.593Z"
   },
   {
    "duration": 0,
    "start_time": "2024-07-03T21:07:20.594Z"
   },
   {
    "duration": 0,
    "start_time": "2024-07-03T21:07:20.595Z"
   },
   {
    "duration": 0,
    "start_time": "2024-07-03T21:07:20.597Z"
   },
   {
    "duration": 8604,
    "start_time": "2024-07-03T22:00:14.190Z"
   },
   {
    "duration": 4708,
    "start_time": "2024-07-03T22:00:22.797Z"
   },
   {
    "duration": 1004,
    "start_time": "2024-07-03T22:00:27.507Z"
   },
   {
    "duration": 266,
    "start_time": "2024-07-03T22:00:28.513Z"
   },
   {
    "duration": 105,
    "start_time": "2024-07-03T22:00:28.781Z"
   },
   {
    "duration": 2036410,
    "start_time": "2024-07-03T22:00:28.888Z"
   },
   {
    "duration": 61642,
    "start_time": "2024-07-03T22:34:25.300Z"
   },
   {
    "duration": 7,
    "start_time": "2024-07-03T22:35:26.943Z"
   },
   {
    "duration": 1385,
    "start_time": "2024-07-03T22:35:26.951Z"
   },
   {
    "duration": 1297,
    "start_time": "2024-07-03T22:35:28.338Z"
   },
   {
    "duration": 107,
    "start_time": "2024-07-03T22:35:29.637Z"
   },
   {
    "duration": 8,
    "start_time": "2024-07-03T22:35:29.745Z"
   },
   {
    "duration": 15,
    "start_time": "2024-07-03T22:35:29.755Z"
   },
   {
    "duration": 59,
    "start_time": "2024-07-03T22:35:29.771Z"
   },
   {
    "duration": 4,
    "start_time": "2024-07-03T22:35:29.831Z"
   },
   {
    "duration": 5,
    "start_time": "2024-07-03T22:35:29.837Z"
   },
   {
    "duration": 295385,
    "start_time": "2024-07-03T22:35:29.843Z"
   },
   {
    "duration": 3,
    "start_time": "2024-07-03T22:40:25.230Z"
   },
   {
    "duration": 362,
    "start_time": "2024-07-03T22:40:25.235Z"
   },
   {
    "duration": 0,
    "start_time": "2024-07-03T22:40:25.598Z"
   },
   {
    "duration": 0,
    "start_time": "2024-07-03T22:40:25.599Z"
   },
   {
    "duration": 0,
    "start_time": "2024-07-03T22:40:25.600Z"
   },
   {
    "duration": 0,
    "start_time": "2024-07-03T22:40:25.601Z"
   },
   {
    "duration": 0,
    "start_time": "2024-07-03T22:40:25.602Z"
   },
   {
    "duration": 0,
    "start_time": "2024-07-03T22:40:25.603Z"
   },
   {
    "duration": 0,
    "start_time": "2024-07-03T22:40:25.604Z"
   },
   {
    "duration": 5,
    "start_time": "2024-07-03T22:43:08.255Z"
   },
   {
    "duration": 16,
    "start_time": "2024-07-03T22:43:44.901Z"
   },
   {
    "duration": 213525,
    "start_time": "2024-07-03T22:43:52.507Z"
   },
   {
    "duration": 3,
    "start_time": "2024-07-03T22:47:40.962Z"
   },
   {
    "duration": 6,
    "start_time": "2024-07-03T22:47:58.487Z"
   },
   {
    "duration": 29310,
    "start_time": "2024-07-03T22:48:03.016Z"
   },
   {
    "duration": 765,
    "start_time": "2024-07-03T22:48:32.328Z"
   },
   {
    "duration": 535,
    "start_time": "2024-07-03T22:52:54.598Z"
   },
   {
    "duration": 482,
    "start_time": "2024-07-03T22:52:55.410Z"
   },
   {
    "duration": 8727,
    "start_time": "2024-07-03T22:54:04.149Z"
   },
   {
    "duration": 4567,
    "start_time": "2024-07-03T22:54:12.878Z"
   },
   {
    "duration": 983,
    "start_time": "2024-07-03T22:54:17.448Z"
   },
   {
    "duration": 277,
    "start_time": "2024-07-03T22:54:18.433Z"
   },
   {
    "duration": 110,
    "start_time": "2024-07-03T22:54:18.711Z"
   },
   {
    "duration": 2044224,
    "start_time": "2024-07-03T22:54:18.822Z"
   },
   {
    "duration": 62130,
    "start_time": "2024-07-03T23:28:23.048Z"
   },
   {
    "duration": 6,
    "start_time": "2024-07-03T23:29:25.180Z"
   },
   {
    "duration": 1415,
    "start_time": "2024-07-03T23:29:25.189Z"
   },
   {
    "duration": 1311,
    "start_time": "2024-07-03T23:29:26.605Z"
   },
   {
    "duration": 108,
    "start_time": "2024-07-03T23:29:27.917Z"
   },
   {
    "duration": 6,
    "start_time": "2024-07-03T23:29:28.027Z"
   },
   {
    "duration": 10,
    "start_time": "2024-07-03T23:29:28.035Z"
   },
   {
    "duration": 48,
    "start_time": "2024-07-03T23:29:28.046Z"
   },
   {
    "duration": 3,
    "start_time": "2024-07-03T23:29:28.096Z"
   },
   {
    "duration": 21,
    "start_time": "2024-07-03T23:29:28.100Z"
   },
   {
    "duration": 448598,
    "start_time": "2024-07-03T23:29:28.123Z"
   },
   {
    "duration": 4,
    "start_time": "2024-07-03T23:36:56.723Z"
   },
   {
    "duration": 29,
    "start_time": "2024-07-03T23:36:56.728Z"
   },
   {
    "duration": 284772,
    "start_time": "2024-07-03T23:36:56.758Z"
   },
   {
    "duration": 4,
    "start_time": "2024-07-03T23:41:41.531Z"
   },
   {
    "duration": 9,
    "start_time": "2024-07-03T23:41:41.536Z"
   },
   {
    "duration": 39375,
    "start_time": "2024-07-03T23:41:41.546Z"
   },
   {
    "duration": 569,
    "start_time": "2024-07-03T23:42:20.923Z"
   },
   {
    "duration": 557,
    "start_time": "2024-07-03T23:42:21.493Z"
   },
   {
    "duration": 585,
    "start_time": "2024-07-03T23:42:22.052Z"
   },
   {
    "duration": 13350,
    "start_time": "2024-07-04T10:56:08.773Z"
   },
   {
    "duration": 6902,
    "start_time": "2024-07-04T10:56:22.125Z"
   },
   {
    "duration": 3261,
    "start_time": "2024-07-04T10:56:29.029Z"
   },
   {
    "duration": 246,
    "start_time": "2024-07-04T10:56:32.291Z"
   },
   {
    "duration": 102,
    "start_time": "2024-07-04T10:56:32.539Z"
   },
   {
    "duration": 2008807,
    "start_time": "2024-07-04T10:56:32.642Z"
   },
   {
    "duration": 59905,
    "start_time": "2024-07-04T11:30:01.450Z"
   },
   {
    "duration": 6,
    "start_time": "2024-07-04T11:31:01.357Z"
   },
   {
    "duration": 1350,
    "start_time": "2024-07-04T11:31:01.365Z"
   },
   {
    "duration": 1231,
    "start_time": "2024-07-04T11:31:02.718Z"
   },
   {
    "duration": 116,
    "start_time": "2024-07-04T11:31:03.951Z"
   },
   {
    "duration": 6,
    "start_time": "2024-07-04T11:31:04.069Z"
   },
   {
    "duration": 29,
    "start_time": "2024-07-04T11:31:04.077Z"
   },
   {
    "duration": 48,
    "start_time": "2024-07-04T11:31:04.108Z"
   },
   {
    "duration": 4,
    "start_time": "2024-07-04T11:31:04.158Z"
   },
   {
    "duration": 5,
    "start_time": "2024-07-04T11:31:04.163Z"
   },
   {
    "duration": 445744,
    "start_time": "2024-07-04T11:31:04.170Z"
   },
   {
    "duration": 3,
    "start_time": "2024-07-04T11:38:29.915Z"
   },
   {
    "duration": 19,
    "start_time": "2024-07-04T11:38:29.920Z"
   },
   {
    "duration": 290771,
    "start_time": "2024-07-04T11:38:29.940Z"
   },
   {
    "duration": 4,
    "start_time": "2024-07-04T11:43:20.712Z"
   },
   {
    "duration": 37,
    "start_time": "2024-07-04T11:43:20.717Z"
   },
   {
    "duration": 41655,
    "start_time": "2024-07-04T11:43:20.755Z"
   },
   {
    "duration": 660,
    "start_time": "2024-07-04T11:44:02.413Z"
   },
   {
    "duration": 575,
    "start_time": "2024-07-04T11:44:03.075Z"
   },
   {
    "duration": 492,
    "start_time": "2024-07-04T11:44:03.651Z"
   }
  ],
  "kernelspec": {
   "display_name": "Python 3 (ipykernel)",
   "language": "python",
   "name": "python3"
  },
  "language_info": {
   "codemirror_mode": {
    "name": "ipython",
    "version": 3
   },
   "file_extension": ".py",
   "mimetype": "text/x-python",
   "name": "python",
   "nbconvert_exporter": "python",
   "pygments_lexer": "ipython3",
   "version": "3.9.18"
  },
  "toc": {
   "base_numbering": 1,
   "nav_menu": {},
   "number_sections": true,
   "sideBar": true,
   "skip_h1_title": true,
   "title_cell": "Содержание",
   "title_sidebar": "Contents",
   "toc_cell": true,
   "toc_position": {
    "height": "calc(100% - 180px)",
    "left": "10px",
    "top": "150px",
    "width": "302.391px"
   },
   "toc_section_display": true,
   "toc_window_display": true
  }
 },
 "nbformat": 4,
 "nbformat_minor": 4
}
